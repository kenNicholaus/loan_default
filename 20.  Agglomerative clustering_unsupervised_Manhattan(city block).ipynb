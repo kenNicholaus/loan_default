{
 "cells": [
  {
   "cell_type": "markdown",
   "metadata": {},
   "source": [
    "# Agglomerative clustering_unsupervised Manhattan(city block)"
   ]
  },
  {
   "cell_type": "code",
   "execution_count": 1,
   "metadata": {
    "collapsed": true
   },
   "outputs": [],
   "source": [
    "from sklearn import datasets\n",
    "from sklearn import preprocessing\n",
    "from sklearn.model_selection import train_test_split\n",
    "from sklearn import cluster\n",
    "from sklearn.cluster import KMeans\n",
    "from sklearn.ensemble import IsolationForest\n",
    "from sklearn.neighbors import LocalOutlierFactor\n",
    "from sklearn import svm, neighbors\n",
    "from sklearn.neighbors import NearestNeighbors\n",
    "from sklearn.cluster import AgglomerativeClustering\n",
    "from sklearn.metrics import classification_report\n",
    "from sklearn.metrics import confusion_matrix\n",
    "from sklearn.metrics import recall_score\n",
    "from sklearn.metrics import roc_auc_score\n",
    "from sklearn.model_selection import GridSearchCV\n",
    "from sklearn.metrics import make_scorer\n",
    "from sklearn.metrics import accuracy_score\n",
    "\n",
    "import pandas as pd\n",
    "import numpy as np\n",
    "import itertools\n",
    "import matplotlib.pyplot as plt\n",
    "import datetime\n",
    "\n",
    "%matplotlib inline"
   ]
  },
  {
   "cell_type": "code",
   "execution_count": 2,
   "metadata": {},
   "outputs": [
    {
     "data": {
      "text/plain": [
       "(237024, 58)"
      ]
     },
     "execution_count": 2,
     "metadata": {},
     "output_type": "execute_result"
    }
   ],
   "source": [
    "train_split = 0.80\n",
    "nrows = 250_000\n",
    "path = 'c:/users/ugy1/abs/'\n",
    "df=pd.read_csv(path+'datasets/processed_abs_loan_'+str(nrows)+'.csv', \n",
    "               #usecols=use_list, \n",
    "               #sep='\\t',\n",
    "               #compression=bz2,\n",
    "               nrows=nrows,\n",
    "               low_memory=False, \n",
    "              index_col=0, \n",
    "               parse_dates=True\n",
    "              )\n",
    "df.shape"
   ]
  },
  {
   "cell_type": "code",
   "execution_count": 3,
   "metadata": {
    "collapsed": true
   },
   "outputs": [],
   "source": [
    "column_list=df.columns.tolist()"
   ]
  },
  {
   "cell_type": "code",
   "execution_count": 4,
   "metadata": {},
   "outputs": [
    {
     "data": {
      "text/html": [
       "<div>\n",
       "<style scoped>\n",
       "    .dataframe tbody tr th:only-of-type {\n",
       "        vertical-align: middle;\n",
       "    }\n",
       "\n",
       "    .dataframe tbody tr th {\n",
       "        vertical-align: top;\n",
       "    }\n",
       "\n",
       "    .dataframe thead th {\n",
       "        text-align: right;\n",
       "    }\n",
       "</style>\n",
       "<table border=\"1\" class=\"dataframe\">\n",
       "  <thead>\n",
       "    <tr style=\"text-align: right;\">\n",
       "      <th></th>\n",
       "      <th>originalloanamount</th>\n",
       "      <th>originalloanterm</th>\n",
       "      <th>originalinterestratepercentage</th>\n",
       "      <th>graceperiodnumber</th>\n",
       "      <th>obligorcreditscore</th>\n",
       "      <th>paymenttoincomepercentage</th>\n",
       "      <th>reportingperiodbeginningloanbalanceamount</th>\n",
       "      <th>nextreportingperiodpaymentamountdue</th>\n",
       "      <th>reportingperiodinterestratepercentage</th>\n",
       "      <th>nextinterestratepercentage</th>\n",
       "      <th>...</th>\n",
       "      <th>zerobalanceeffectivedate_calc</th>\n",
       "      <th>zerobalance_[\"99\"]</th>\n",
       "      <th>zerobalance_[\"1\"]</th>\n",
       "      <th>S&amp;P/Experian Auto Default Index</th>\n",
       "      <th>AutoIndex</th>\n",
       "      <th>BankCardIndex</th>\n",
       "      <th>FirstMortgageIndex</th>\n",
       "      <th>SecondMortgageIndex</th>\n",
       "      <th>CompositeIndex</th>\n",
       "      <th>label</th>\n",
       "    </tr>\n",
       "  </thead>\n",
       "  <tbody>\n",
       "    <tr>\n",
       "      <th>0</th>\n",
       "      <td>66711.84</td>\n",
       "      <td>60</td>\n",
       "      <td>3.29</td>\n",
       "      <td>1</td>\n",
       "      <td>808.0</td>\n",
       "      <td>2.90</td>\n",
       "      <td>62677.27</td>\n",
       "      <td>0.0</td>\n",
       "      <td>3.3409</td>\n",
       "      <td>3.3409</td>\n",
       "      <td>...</td>\n",
       "      <td>0.0</td>\n",
       "      <td>1</td>\n",
       "      <td>0</td>\n",
       "      <td>0.0105</td>\n",
       "      <td>1.09</td>\n",
       "      <td>3.64</td>\n",
       "      <td>0.72</td>\n",
       "      <td>0.80</td>\n",
       "      <td>0.96</td>\n",
       "      <td>0</td>\n",
       "    </tr>\n",
       "    <tr>\n",
       "      <th>1</th>\n",
       "      <td>16258.45</td>\n",
       "      <td>60</td>\n",
       "      <td>0.90</td>\n",
       "      <td>0</td>\n",
       "      <td>821.0</td>\n",
       "      <td>4.36</td>\n",
       "      <td>12793.38</td>\n",
       "      <td>0.0</td>\n",
       "      <td>0.9049</td>\n",
       "      <td>0.9049</td>\n",
       "      <td>...</td>\n",
       "      <td>0.0</td>\n",
       "      <td>1</td>\n",
       "      <td>0</td>\n",
       "      <td>0.0105</td>\n",
       "      <td>1.09</td>\n",
       "      <td>3.64</td>\n",
       "      <td>0.72</td>\n",
       "      <td>0.80</td>\n",
       "      <td>0.96</td>\n",
       "      <td>0</td>\n",
       "    </tr>\n",
       "    <tr>\n",
       "      <th>2</th>\n",
       "      <td>31930.41</td>\n",
       "      <td>72</td>\n",
       "      <td>2.90</td>\n",
       "      <td>1</td>\n",
       "      <td>771.0</td>\n",
       "      <td>4.07</td>\n",
       "      <td>26981.85</td>\n",
       "      <td>0.0</td>\n",
       "      <td>2.9430</td>\n",
       "      <td>2.9430</td>\n",
       "      <td>...</td>\n",
       "      <td>0.0</td>\n",
       "      <td>1</td>\n",
       "      <td>0</td>\n",
       "      <td>0.0105</td>\n",
       "      <td>1.09</td>\n",
       "      <td>3.64</td>\n",
       "      <td>0.72</td>\n",
       "      <td>0.80</td>\n",
       "      <td>0.96</td>\n",
       "      <td>0</td>\n",
       "    </tr>\n",
       "    <tr>\n",
       "      <th>3</th>\n",
       "      <td>26065.02</td>\n",
       "      <td>65</td>\n",
       "      <td>0.90</td>\n",
       "      <td>0</td>\n",
       "      <td>890.0</td>\n",
       "      <td>5.00</td>\n",
       "      <td>4907.91</td>\n",
       "      <td>0.0</td>\n",
       "      <td>0.9037</td>\n",
       "      <td>0.9037</td>\n",
       "      <td>...</td>\n",
       "      <td>0.0</td>\n",
       "      <td>1</td>\n",
       "      <td>0</td>\n",
       "      <td>0.0093</td>\n",
       "      <td>0.99</td>\n",
       "      <td>3.86</td>\n",
       "      <td>0.68</td>\n",
       "      <td>0.59</td>\n",
       "      <td>0.92</td>\n",
       "      <td>0</td>\n",
       "    </tr>\n",
       "    <tr>\n",
       "      <th>4</th>\n",
       "      <td>42091.00</td>\n",
       "      <td>72</td>\n",
       "      <td>3.90</td>\n",
       "      <td>0</td>\n",
       "      <td>739.0</td>\n",
       "      <td>2.62</td>\n",
       "      <td>37060.44</td>\n",
       "      <td>0.0</td>\n",
       "      <td>3.9676</td>\n",
       "      <td>3.9676</td>\n",
       "      <td>...</td>\n",
       "      <td>0.0</td>\n",
       "      <td>1</td>\n",
       "      <td>0</td>\n",
       "      <td>0.0105</td>\n",
       "      <td>1.09</td>\n",
       "      <td>3.64</td>\n",
       "      <td>0.72</td>\n",
       "      <td>0.80</td>\n",
       "      <td>0.96</td>\n",
       "      <td>0</td>\n",
       "    </tr>\n",
       "  </tbody>\n",
       "</table>\n",
       "<p>5 rows × 58 columns</p>\n",
       "</div>"
      ],
      "text/plain": [
       "   originalloanamount  originalloanterm  originalinterestratepercentage  \\\n",
       "0            66711.84                60                            3.29   \n",
       "1            16258.45                60                            0.90   \n",
       "2            31930.41                72                            2.90   \n",
       "3            26065.02                65                            0.90   \n",
       "4            42091.00                72                            3.90   \n",
       "\n",
       "   graceperiodnumber  obligorcreditscore  paymenttoincomepercentage  \\\n",
       "0                  1               808.0                       2.90   \n",
       "1                  0               821.0                       4.36   \n",
       "2                  1               771.0                       4.07   \n",
       "3                  0               890.0                       5.00   \n",
       "4                  0               739.0                       2.62   \n",
       "\n",
       "   reportingperiodbeginningloanbalanceamount  \\\n",
       "0                                   62677.27   \n",
       "1                                   12793.38   \n",
       "2                                   26981.85   \n",
       "3                                    4907.91   \n",
       "4                                   37060.44   \n",
       "\n",
       "   nextreportingperiodpaymentamountdue  reportingperiodinterestratepercentage  \\\n",
       "0                                  0.0                                 3.3409   \n",
       "1                                  0.0                                 0.9049   \n",
       "2                                  0.0                                 2.9430   \n",
       "3                                  0.0                                 0.9037   \n",
       "4                                  0.0                                 3.9676   \n",
       "\n",
       "   nextinterestratepercentage  ...    zerobalanceeffectivedate_calc  \\\n",
       "0                      3.3409  ...                              0.0   \n",
       "1                      0.9049  ...                              0.0   \n",
       "2                      2.9430  ...                              0.0   \n",
       "3                      0.9037  ...                              0.0   \n",
       "4                      3.9676  ...                              0.0   \n",
       "\n",
       "   zerobalance_[\"99\"]  zerobalance_[\"1\"]  S&P/Experian Auto Default Index  \\\n",
       "0                   1                  0                           0.0105   \n",
       "1                   1                  0                           0.0105   \n",
       "2                   1                  0                           0.0105   \n",
       "3                   1                  0                           0.0093   \n",
       "4                   1                  0                           0.0105   \n",
       "\n",
       "   AutoIndex  BankCardIndex  FirstMortgageIndex  SecondMortgageIndex  \\\n",
       "0       1.09           3.64                0.72                 0.80   \n",
       "1       1.09           3.64                0.72                 0.80   \n",
       "2       1.09           3.64                0.72                 0.80   \n",
       "3       0.99           3.86                0.68                 0.59   \n",
       "4       1.09           3.64                0.72                 0.80   \n",
       "\n",
       "   CompositeIndex  label  \n",
       "0            0.96      0  \n",
       "1            0.96      0  \n",
       "2            0.96      0  \n",
       "3            0.92      0  \n",
       "4            0.96      0  \n",
       "\n",
       "[5 rows x 58 columns]"
      ]
     },
     "execution_count": 4,
     "metadata": {},
     "output_type": "execute_result"
    }
   ],
   "source": [
    "df.head()"
   ]
  },
  {
   "cell_type": "code",
   "execution_count": 5,
   "metadata": {},
   "outputs": [
    {
     "data": {
      "text/plain": [
       "(237024,)"
      ]
     },
     "execution_count": 5,
     "metadata": {},
     "output_type": "execute_result"
    }
   ],
   "source": [
    "# prepare label for scikit-learn\n",
    "Y=df.label.values\n",
    "Y.shape"
   ]
  },
  {
   "cell_type": "code",
   "execution_count": 6,
   "metadata": {},
   "outputs": [
    {
     "data": {
      "text/plain": [
       "(237024, 58)"
      ]
     },
     "execution_count": 6,
     "metadata": {},
     "output_type": "execute_result"
    }
   ],
   "source": [
    "# prepare input data for scikit-learn\n",
    "input=df.values\n",
    "input.shape"
   ]
  },
  {
   "cell_type": "code",
   "execution_count": 7,
   "metadata": {},
   "outputs": [
    {
     "name": "stdout",
     "output_type": "stream",
     "text": [
      "189619\n"
     ]
    }
   ],
   "source": [
    "# calculate train/test split\n",
    "\n",
    "len_train = int(len(input)*train_split)\n",
    "print(len_train)"
   ]
  },
  {
   "cell_type": "code",
   "execution_count": 8,
   "metadata": {},
   "outputs": [
    {
     "data": {
      "text/plain": [
       "(189619, 58)"
      ]
     },
     "execution_count": 8,
     "metadata": {},
     "output_type": "execute_result"
    }
   ],
   "source": [
    "# apply train/test split to labels\n",
    "y_train = Y[0:len_train]\n",
    "y_test = Y[len_train:]\n",
    "x_train = input[0:len_train]\n",
    "x_test = input[len_train:]\n",
    "x_train.shape"
   ]
  },
  {
   "cell_type": "code",
   "execution_count": 9,
   "metadata": {
    "collapsed": true
   },
   "outputs": [],
   "source": [
    "export_x_test = pd.DataFrame(data=x_test)"
   ]
  },
  {
   "cell_type": "code",
   "execution_count": 10,
   "metadata": {},
   "outputs": [
    {
     "data": {
      "text/html": [
       "<div>\n",
       "<style scoped>\n",
       "    .dataframe tbody tr th:only-of-type {\n",
       "        vertical-align: middle;\n",
       "    }\n",
       "\n",
       "    .dataframe tbody tr th {\n",
       "        vertical-align: top;\n",
       "    }\n",
       "\n",
       "    .dataframe thead th {\n",
       "        text-align: right;\n",
       "    }\n",
       "</style>\n",
       "<table border=\"1\" class=\"dataframe\">\n",
       "  <thead>\n",
       "    <tr style=\"text-align: right;\">\n",
       "      <th></th>\n",
       "      <th>originalloanamount</th>\n",
       "      <th>originalloanterm</th>\n",
       "      <th>originalinterestratepercentage</th>\n",
       "      <th>graceperiodnumber</th>\n",
       "      <th>obligorcreditscore</th>\n",
       "      <th>paymenttoincomepercentage</th>\n",
       "      <th>reportingperiodbeginningloanbalanceamount</th>\n",
       "      <th>nextreportingperiodpaymentamountdue</th>\n",
       "      <th>reportingperiodinterestratepercentage</th>\n",
       "      <th>nextinterestratepercentage</th>\n",
       "      <th>...</th>\n",
       "      <th>zerobalanceeffectivedate_calc</th>\n",
       "      <th>zerobalance_[\"99\"]</th>\n",
       "      <th>zerobalance_[\"1\"]</th>\n",
       "      <th>S&amp;P/Experian Auto Default Index</th>\n",
       "      <th>AutoIndex</th>\n",
       "      <th>BankCardIndex</th>\n",
       "      <th>FirstMortgageIndex</th>\n",
       "      <th>SecondMortgageIndex</th>\n",
       "      <th>CompositeIndex</th>\n",
       "      <th>True Label</th>\n",
       "    </tr>\n",
       "  </thead>\n",
       "  <tbody>\n",
       "    <tr>\n",
       "      <th>0</th>\n",
       "      <td>36863.24</td>\n",
       "      <td>72.0</td>\n",
       "      <td>1.00</td>\n",
       "      <td>1.0</td>\n",
       "      <td>871.0</td>\n",
       "      <td>2.59</td>\n",
       "      <td>20842.67</td>\n",
       "      <td>0.0</td>\n",
       "      <td>1.0042</td>\n",
       "      <td>1.0042</td>\n",
       "      <td>...</td>\n",
       "      <td>0.0</td>\n",
       "      <td>1.0</td>\n",
       "      <td>0.0</td>\n",
       "      <td>0.0110</td>\n",
       "      <td>1.11</td>\n",
       "      <td>3.28</td>\n",
       "      <td>0.66</td>\n",
       "      <td>1.08</td>\n",
       "      <td>0.89</td>\n",
       "      <td>0.0</td>\n",
       "    </tr>\n",
       "    <tr>\n",
       "      <th>1</th>\n",
       "      <td>23811.32</td>\n",
       "      <td>60.0</td>\n",
       "      <td>1.90</td>\n",
       "      <td>0.0</td>\n",
       "      <td>845.0</td>\n",
       "      <td>4.12</td>\n",
       "      <td>7241.37</td>\n",
       "      <td>0.0</td>\n",
       "      <td>1.9163</td>\n",
       "      <td>1.9163</td>\n",
       "      <td>...</td>\n",
       "      <td>0.0</td>\n",
       "      <td>1.0</td>\n",
       "      <td>0.0</td>\n",
       "      <td>0.0099</td>\n",
       "      <td>0.99</td>\n",
       "      <td>3.86</td>\n",
       "      <td>0.68</td>\n",
       "      <td>0.59</td>\n",
       "      <td>0.92</td>\n",
       "      <td>0.0</td>\n",
       "    </tr>\n",
       "    <tr>\n",
       "      <th>2</th>\n",
       "      <td>30669.00</td>\n",
       "      <td>48.0</td>\n",
       "      <td>1.00</td>\n",
       "      <td>1.0</td>\n",
       "      <td>863.0</td>\n",
       "      <td>10.67</td>\n",
       "      <td>21859.06</td>\n",
       "      <td>0.0</td>\n",
       "      <td>1.0055</td>\n",
       "      <td>1.0055</td>\n",
       "      <td>...</td>\n",
       "      <td>0.0</td>\n",
       "      <td>1.0</td>\n",
       "      <td>0.0</td>\n",
       "      <td>0.0105</td>\n",
       "      <td>1.09</td>\n",
       "      <td>3.64</td>\n",
       "      <td>0.72</td>\n",
       "      <td>0.80</td>\n",
       "      <td>0.96</td>\n",
       "      <td>0.0</td>\n",
       "    </tr>\n",
       "    <tr>\n",
       "      <th>3</th>\n",
       "      <td>54083.21</td>\n",
       "      <td>72.0</td>\n",
       "      <td>1.00</td>\n",
       "      <td>0.0</td>\n",
       "      <td>682.0</td>\n",
       "      <td>4.42</td>\n",
       "      <td>50431.21</td>\n",
       "      <td>0.0</td>\n",
       "      <td>1.0045</td>\n",
       "      <td>1.0045</td>\n",
       "      <td>...</td>\n",
       "      <td>0.0</td>\n",
       "      <td>1.0</td>\n",
       "      <td>0.0</td>\n",
       "      <td>0.0105</td>\n",
       "      <td>1.09</td>\n",
       "      <td>3.64</td>\n",
       "      <td>0.72</td>\n",
       "      <td>0.80</td>\n",
       "      <td>0.96</td>\n",
       "      <td>0.0</td>\n",
       "    </tr>\n",
       "    <tr>\n",
       "      <th>4</th>\n",
       "      <td>31557.75</td>\n",
       "      <td>72.0</td>\n",
       "      <td>3.89</td>\n",
       "      <td>1.0</td>\n",
       "      <td>761.0</td>\n",
       "      <td>2.56</td>\n",
       "      <td>22262.79</td>\n",
       "      <td>0.0</td>\n",
       "      <td>3.9584</td>\n",
       "      <td>3.9584</td>\n",
       "      <td>...</td>\n",
       "      <td>0.0</td>\n",
       "      <td>1.0</td>\n",
       "      <td>0.0</td>\n",
       "      <td>0.0110</td>\n",
       "      <td>1.11</td>\n",
       "      <td>3.28</td>\n",
       "      <td>0.66</td>\n",
       "      <td>1.08</td>\n",
       "      <td>0.89</td>\n",
       "      <td>0.0</td>\n",
       "    </tr>\n",
       "  </tbody>\n",
       "</table>\n",
       "<p>5 rows × 58 columns</p>\n",
       "</div>"
      ],
      "text/plain": [
       "   originalloanamount  originalloanterm  originalinterestratepercentage  \\\n",
       "0            36863.24              72.0                            1.00   \n",
       "1            23811.32              60.0                            1.90   \n",
       "2            30669.00              48.0                            1.00   \n",
       "3            54083.21              72.0                            1.00   \n",
       "4            31557.75              72.0                            3.89   \n",
       "\n",
       "   graceperiodnumber  obligorcreditscore  paymenttoincomepercentage  \\\n",
       "0                1.0               871.0                       2.59   \n",
       "1                0.0               845.0                       4.12   \n",
       "2                1.0               863.0                      10.67   \n",
       "3                0.0               682.0                       4.42   \n",
       "4                1.0               761.0                       2.56   \n",
       "\n",
       "   reportingperiodbeginningloanbalanceamount  \\\n",
       "0                                   20842.67   \n",
       "1                                    7241.37   \n",
       "2                                   21859.06   \n",
       "3                                   50431.21   \n",
       "4                                   22262.79   \n",
       "\n",
       "   nextreportingperiodpaymentamountdue  reportingperiodinterestratepercentage  \\\n",
       "0                                  0.0                                 1.0042   \n",
       "1                                  0.0                                 1.9163   \n",
       "2                                  0.0                                 1.0055   \n",
       "3                                  0.0                                 1.0045   \n",
       "4                                  0.0                                 3.9584   \n",
       "\n",
       "   nextinterestratepercentage     ...      zerobalanceeffectivedate_calc  \\\n",
       "0                      1.0042     ...                                0.0   \n",
       "1                      1.9163     ...                                0.0   \n",
       "2                      1.0055     ...                                0.0   \n",
       "3                      1.0045     ...                                0.0   \n",
       "4                      3.9584     ...                                0.0   \n",
       "\n",
       "   zerobalance_[\"99\"]  zerobalance_[\"1\"]  S&P/Experian Auto Default Index  \\\n",
       "0                 1.0                0.0                           0.0110   \n",
       "1                 1.0                0.0                           0.0099   \n",
       "2                 1.0                0.0                           0.0105   \n",
       "3                 1.0                0.0                           0.0105   \n",
       "4                 1.0                0.0                           0.0110   \n",
       "\n",
       "   AutoIndex  BankCardIndex  FirstMortgageIndex  SecondMortgageIndex  \\\n",
       "0       1.11           3.28                0.66                 1.08   \n",
       "1       0.99           3.86                0.68                 0.59   \n",
       "2       1.09           3.64                0.72                 0.80   \n",
       "3       1.09           3.64                0.72                 0.80   \n",
       "4       1.11           3.28                0.66                 1.08   \n",
       "\n",
       "   CompositeIndex  True Label  \n",
       "0            0.89         0.0  \n",
       "1            0.92         0.0  \n",
       "2            0.96         0.0  \n",
       "3            0.96         0.0  \n",
       "4            0.89         0.0  \n",
       "\n",
       "[5 rows x 58 columns]"
      ]
     },
     "execution_count": 10,
     "metadata": {},
     "output_type": "execute_result"
    }
   ],
   "source": [
    "export_x_test.columns=column_list\n",
    "export_x_test.rename(columns={'label':'True Label'}, inplace=True)\n",
    "export_x_test.head()"
   ]
  },
  {
   "cell_type": "code",
   "execution_count": 11,
   "metadata": {
    "collapsed": true
   },
   "outputs": [],
   "source": [
    "#from sklearn.preprocessing import MinMaxScaler\n",
    "# from sklearn.preprocessing import minmax_scale\n",
    "# from sklearn.preprocessing import MaxAbsScaler\n",
    "from sklearn.preprocessing import StandardScaler\n",
    "# from sklearn.preprocessing import RobustScaler\n",
    "# from sklearn.preprocessing import Normalizer\n",
    "# from sklearn.preprocessing import QuantileTransformer\n",
    "# from sklearn.preprocessing import PowerTransformer"
   ]
  },
  {
   "cell_type": "code",
   "execution_count": 12,
   "metadata": {
    "collapsed": true
   },
   "outputs": [],
   "source": [
    "x_scaler=StandardScaler()\n",
    "x_train = x_scaler.fit_transform(x_train)\n",
    "x_test = x_scaler.fit_transform(x_test)"
   ]
  },
  {
   "cell_type": "code",
   "execution_count": 13,
   "metadata": {
    "collapsed": true
   },
   "outputs": [],
   "source": [
    "#affinity=[\"cosine\", \"euclidean\", \"cityblock\"]\n",
    "agg = AgglomerativeClustering(n_clusters=2,\n",
    "                                    linkage=\"average\", affinity=\"cityblock\").fit(x_test)\n"
   ]
  },
  {
   "cell_type": "code",
   "execution_count": 14,
   "metadata": {
    "collapsed": true
   },
   "outputs": [],
   "source": [
    "#x_pred = x_test"
   ]
  },
  {
   "cell_type": "code",
   "execution_count": 15,
   "metadata": {
    "collapsed": true
   },
   "outputs": [],
   "source": [
    "prediction_agg = agg.labels_"
   ]
  },
  {
   "cell_type": "code",
   "execution_count": 16,
   "metadata": {},
   "outputs": [
    {
     "data": {
      "text/plain": [
       "array([0, 1], dtype=int64)"
      ]
     },
     "execution_count": 16,
     "metadata": {},
     "output_type": "execute_result"
    }
   ],
   "source": [
    "np.unique(prediction_agg)"
   ]
  },
  {
   "cell_type": "code",
   "execution_count": 17,
   "metadata": {},
   "outputs": [
    {
     "data": {
      "text/plain": [
       "array([47403,     2], dtype=int64)"
      ]
     },
     "execution_count": 17,
     "metadata": {},
     "output_type": "execute_result"
    }
   ],
   "source": [
    "np.bincount(np.array(prediction_agg).reshape(1,prediction_agg.size)[0])"
   ]
  },
  {
   "cell_type": "code",
   "execution_count": 18,
   "metadata": {
    "collapsed": true
   },
   "outputs": [],
   "source": [
    "export_x_test['Predicted Label']=prediction_agg"
   ]
  },
  {
   "cell_type": "code",
   "execution_count": 19,
   "metadata": {},
   "outputs": [
    {
     "data": {
      "text/html": [
       "<div>\n",
       "<style scoped>\n",
       "    .dataframe tbody tr th:only-of-type {\n",
       "        vertical-align: middle;\n",
       "    }\n",
       "\n",
       "    .dataframe tbody tr th {\n",
       "        vertical-align: top;\n",
       "    }\n",
       "\n",
       "    .dataframe thead th {\n",
       "        text-align: right;\n",
       "    }\n",
       "</style>\n",
       "<table border=\"1\" class=\"dataframe\">\n",
       "  <thead>\n",
       "    <tr style=\"text-align: right;\">\n",
       "      <th></th>\n",
       "      <th>originalloanamount</th>\n",
       "      <th>originalloanterm</th>\n",
       "      <th>originalinterestratepercentage</th>\n",
       "      <th>graceperiodnumber</th>\n",
       "      <th>obligorcreditscore</th>\n",
       "      <th>paymenttoincomepercentage</th>\n",
       "      <th>reportingperiodbeginningloanbalanceamount</th>\n",
       "      <th>nextreportingperiodpaymentamountdue</th>\n",
       "      <th>reportingperiodinterestratepercentage</th>\n",
       "      <th>nextinterestratepercentage</th>\n",
       "      <th>...</th>\n",
       "      <th>zerobalance_[\"99\"]</th>\n",
       "      <th>zerobalance_[\"1\"]</th>\n",
       "      <th>S&amp;P/Experian Auto Default Index</th>\n",
       "      <th>AutoIndex</th>\n",
       "      <th>BankCardIndex</th>\n",
       "      <th>FirstMortgageIndex</th>\n",
       "      <th>SecondMortgageIndex</th>\n",
       "      <th>CompositeIndex</th>\n",
       "      <th>True Label</th>\n",
       "      <th>Predicted Label</th>\n",
       "    </tr>\n",
       "  </thead>\n",
       "  <tbody>\n",
       "    <tr>\n",
       "      <th>0</th>\n",
       "      <td>36863.24</td>\n",
       "      <td>72.0</td>\n",
       "      <td>1.00</td>\n",
       "      <td>1.0</td>\n",
       "      <td>871.0</td>\n",
       "      <td>2.59</td>\n",
       "      <td>20842.67</td>\n",
       "      <td>0.0</td>\n",
       "      <td>1.0042</td>\n",
       "      <td>1.0042</td>\n",
       "      <td>...</td>\n",
       "      <td>1.0</td>\n",
       "      <td>0.0</td>\n",
       "      <td>0.0110</td>\n",
       "      <td>1.11</td>\n",
       "      <td>3.28</td>\n",
       "      <td>0.66</td>\n",
       "      <td>1.08</td>\n",
       "      <td>0.89</td>\n",
       "      <td>0.0</td>\n",
       "      <td>0</td>\n",
       "    </tr>\n",
       "    <tr>\n",
       "      <th>1</th>\n",
       "      <td>23811.32</td>\n",
       "      <td>60.0</td>\n",
       "      <td>1.90</td>\n",
       "      <td>0.0</td>\n",
       "      <td>845.0</td>\n",
       "      <td>4.12</td>\n",
       "      <td>7241.37</td>\n",
       "      <td>0.0</td>\n",
       "      <td>1.9163</td>\n",
       "      <td>1.9163</td>\n",
       "      <td>...</td>\n",
       "      <td>1.0</td>\n",
       "      <td>0.0</td>\n",
       "      <td>0.0099</td>\n",
       "      <td>0.99</td>\n",
       "      <td>3.86</td>\n",
       "      <td>0.68</td>\n",
       "      <td>0.59</td>\n",
       "      <td>0.92</td>\n",
       "      <td>0.0</td>\n",
       "      <td>0</td>\n",
       "    </tr>\n",
       "    <tr>\n",
       "      <th>2</th>\n",
       "      <td>30669.00</td>\n",
       "      <td>48.0</td>\n",
       "      <td>1.00</td>\n",
       "      <td>1.0</td>\n",
       "      <td>863.0</td>\n",
       "      <td>10.67</td>\n",
       "      <td>21859.06</td>\n",
       "      <td>0.0</td>\n",
       "      <td>1.0055</td>\n",
       "      <td>1.0055</td>\n",
       "      <td>...</td>\n",
       "      <td>1.0</td>\n",
       "      <td>0.0</td>\n",
       "      <td>0.0105</td>\n",
       "      <td>1.09</td>\n",
       "      <td>3.64</td>\n",
       "      <td>0.72</td>\n",
       "      <td>0.80</td>\n",
       "      <td>0.96</td>\n",
       "      <td>0.0</td>\n",
       "      <td>0</td>\n",
       "    </tr>\n",
       "    <tr>\n",
       "      <th>3</th>\n",
       "      <td>54083.21</td>\n",
       "      <td>72.0</td>\n",
       "      <td>1.00</td>\n",
       "      <td>0.0</td>\n",
       "      <td>682.0</td>\n",
       "      <td>4.42</td>\n",
       "      <td>50431.21</td>\n",
       "      <td>0.0</td>\n",
       "      <td>1.0045</td>\n",
       "      <td>1.0045</td>\n",
       "      <td>...</td>\n",
       "      <td>1.0</td>\n",
       "      <td>0.0</td>\n",
       "      <td>0.0105</td>\n",
       "      <td>1.09</td>\n",
       "      <td>3.64</td>\n",
       "      <td>0.72</td>\n",
       "      <td>0.80</td>\n",
       "      <td>0.96</td>\n",
       "      <td>0.0</td>\n",
       "      <td>0</td>\n",
       "    </tr>\n",
       "    <tr>\n",
       "      <th>4</th>\n",
       "      <td>31557.75</td>\n",
       "      <td>72.0</td>\n",
       "      <td>3.89</td>\n",
       "      <td>1.0</td>\n",
       "      <td>761.0</td>\n",
       "      <td>2.56</td>\n",
       "      <td>22262.79</td>\n",
       "      <td>0.0</td>\n",
       "      <td>3.9584</td>\n",
       "      <td>3.9584</td>\n",
       "      <td>...</td>\n",
       "      <td>1.0</td>\n",
       "      <td>0.0</td>\n",
       "      <td>0.0110</td>\n",
       "      <td>1.11</td>\n",
       "      <td>3.28</td>\n",
       "      <td>0.66</td>\n",
       "      <td>1.08</td>\n",
       "      <td>0.89</td>\n",
       "      <td>0.0</td>\n",
       "      <td>0</td>\n",
       "    </tr>\n",
       "  </tbody>\n",
       "</table>\n",
       "<p>5 rows × 59 columns</p>\n",
       "</div>"
      ],
      "text/plain": [
       "   originalloanamount  originalloanterm  originalinterestratepercentage  \\\n",
       "0            36863.24              72.0                            1.00   \n",
       "1            23811.32              60.0                            1.90   \n",
       "2            30669.00              48.0                            1.00   \n",
       "3            54083.21              72.0                            1.00   \n",
       "4            31557.75              72.0                            3.89   \n",
       "\n",
       "   graceperiodnumber  obligorcreditscore  paymenttoincomepercentage  \\\n",
       "0                1.0               871.0                       2.59   \n",
       "1                0.0               845.0                       4.12   \n",
       "2                1.0               863.0                      10.67   \n",
       "3                0.0               682.0                       4.42   \n",
       "4                1.0               761.0                       2.56   \n",
       "\n",
       "   reportingperiodbeginningloanbalanceamount  \\\n",
       "0                                   20842.67   \n",
       "1                                    7241.37   \n",
       "2                                   21859.06   \n",
       "3                                   50431.21   \n",
       "4                                   22262.79   \n",
       "\n",
       "   nextreportingperiodpaymentamountdue  reportingperiodinterestratepercentage  \\\n",
       "0                                  0.0                                 1.0042   \n",
       "1                                  0.0                                 1.9163   \n",
       "2                                  0.0                                 1.0055   \n",
       "3                                  0.0                                 1.0045   \n",
       "4                                  0.0                                 3.9584   \n",
       "\n",
       "   nextinterestratepercentage       ...         zerobalance_[\"99\"]  \\\n",
       "0                      1.0042       ...                        1.0   \n",
       "1                      1.9163       ...                        1.0   \n",
       "2                      1.0055       ...                        1.0   \n",
       "3                      1.0045       ...                        1.0   \n",
       "4                      3.9584       ...                        1.0   \n",
       "\n",
       "   zerobalance_[\"1\"]  S&P/Experian Auto Default Index  AutoIndex  \\\n",
       "0                0.0                           0.0110       1.11   \n",
       "1                0.0                           0.0099       0.99   \n",
       "2                0.0                           0.0105       1.09   \n",
       "3                0.0                           0.0105       1.09   \n",
       "4                0.0                           0.0110       1.11   \n",
       "\n",
       "   BankCardIndex  FirstMortgageIndex  SecondMortgageIndex  CompositeIndex  \\\n",
       "0           3.28                0.66                 1.08            0.89   \n",
       "1           3.86                0.68                 0.59            0.92   \n",
       "2           3.64                0.72                 0.80            0.96   \n",
       "3           3.64                0.72                 0.80            0.96   \n",
       "4           3.28                0.66                 1.08            0.89   \n",
       "\n",
       "   True Label  Predicted Label  \n",
       "0         0.0                0  \n",
       "1         0.0                0  \n",
       "2         0.0                0  \n",
       "3         0.0                0  \n",
       "4         0.0                0  \n",
       "\n",
       "[5 rows x 59 columns]"
      ]
     },
     "execution_count": 19,
     "metadata": {},
     "output_type": "execute_result"
    }
   ],
   "source": [
    "export_x_test.head()"
   ]
  },
  {
   "cell_type": "code",
   "execution_count": 20,
   "metadata": {},
   "outputs": [
    {
     "data": {
      "text/plain": [
       "(47405, 59)"
      ]
     },
     "execution_count": 20,
     "metadata": {},
     "output_type": "execute_result"
    }
   ],
   "source": [
    "export_x_test.shape"
   ]
  },
  {
   "cell_type": "code",
   "execution_count": 21,
   "metadata": {
    "collapsed": true
   },
   "outputs": [],
   "source": [
    "export_x_test.to_csv(path+\"prediction/agg/predicated_agg_cityblock_abs_loans_\"+str(nrows)+\".csv\", chunksize=10000)"
   ]
  },
  {
   "cell_type": "code",
   "execution_count": 22,
   "metadata": {
    "collapsed": true
   },
   "outputs": [],
   "source": [
    "def plot_confusion_matrix(cm, title, classes=['Current', 'Non_Current'],\n",
    "                          cmap=plt.cm.Blues, save=False, saveas=\"MyFigure.png\"):\n",
    "    \n",
    "    # print Confusion matrix with blue gradient colours\n",
    "    \n",
    "    cm = cm.astype('float') / cm.sum(axis=1)[:, np.newaxis]\n",
    "    \n",
    "    plt.imshow(cm, interpolation='nearest', cmap=cmap)\n",
    "    plt.title(title)\n",
    "    plt.colorbar()\n",
    "    tick_marks = np.arange(len(classes))\n",
    "    plt.xticks(tick_marks, classes, rotation=90)\n",
    "    plt.yticks(tick_marks, classes)\n",
    "\n",
    "    fmt = '.1%'\n",
    "    thresh = cm.max() / 2.\n",
    "    for i, j in itertools.product(range(cm.shape[0]), range(cm.shape[1])):\n",
    "        plt.text(j, i, format(cm[i, j], fmt),\n",
    "                 horizontalalignment=\"center\",\n",
    "                 color=\"white\" if cm[i, j] > thresh else \"black\")\n",
    "\n",
    "    plt.tight_layout()\n",
    "    plt.ylabel('True label')\n",
    "    plt.xlabel('Predicted label')\n",
    "    \n",
    "    if save:\n",
    "        plt.savefig(saveas, dpi=100)"
   ]
  },
  {
   "cell_type": "code",
   "execution_count": 23,
   "metadata": {
    "collapsed": true
   },
   "outputs": [],
   "source": [
    "def plot_gridsearch_cv(results, estimator, x_min, x_max, y_min, y_max,save=False, saveas=\"MyFigure.png\"):\n",
    "    \n",
    "    # print GridSearch cross-validation for parameters\n",
    "    \n",
    "    plt.figure(figsize=(10,8))\n",
    "    plt.title(\"GridSearchCV for \"+estimator, fontsize=24)\n",
    "\n",
    "    plt.xlabel(estimator)\n",
    "    plt.ylabel(\"Score\")\n",
    "    plt.grid()\n",
    "\n",
    "    ax = plt.axes()\n",
    "    ax.set_xlim(x_min, x_max)\n",
    "    ax.set_ylim(y_min, y_max)\n",
    "\n",
    "    pad = 0.005\n",
    "    X_axis = np.array(results[\"param_\"+estimator].data, dtype=float)\n",
    "\n",
    "    for scorer, color in zip(sorted(scoring), ['b', 'k']):\n",
    "        for sample, style in (('train', '--'), ('test', '-')):\n",
    "            sample_score_mean = results['mean_%s_%s' % (sample, scorer)]\n",
    "            sample_score_std = results['std_%s_%s' % (sample, scorer)]\n",
    "            ax.fill_between(X_axis, sample_score_mean - sample_score_std,\n",
    "                        sample_score_mean + sample_score_std,\n",
    "                        alpha=0.1 if sample == 'test' else 0, color=color)\n",
    "            ax.plot(X_axis, sample_score_mean, style, color=color,\n",
    "                alpha=1 if sample == 'test' else 0.7,\n",
    "                label=\"%s (%s)\" % (scorer, sample))\n",
    "\n",
    "        best_index = np.nonzero(results['rank_test_%s' % scorer] == 1)[0][0]\n",
    "        best_score = results['mean_test_%s' % scorer][best_index]\n",
    "\n",
    "        # Plot a dotted vertical line at the best score for that scorer marked by x\n",
    "        ax.plot([X_axis[best_index], ] * 2, [0, best_score],\n",
    "            linestyle='-.', color=color, marker='x', markeredgewidth=3, ms=8)\n",
    "\n",
    "        # Annotate the best score for that scorer\n",
    "        ax.annotate(\"%0.2f\" % best_score,\n",
    "                (X_axis[best_index], best_score+pad))\n",
    "\n",
    "    plt.legend(loc=\"best\")\n",
    "    plt.grid('off')\n",
    "    plt.tight_layout()\n",
    "    if save:\n",
    "        plt.savefig(saveas, dpi=100)\n",
    "        \n",
    "    plt.show()"
   ]
  },
  {
   "cell_type": "code",
   "execution_count": 24,
   "metadata": {},
   "outputs": [
    {
     "name": "stdout",
     "output_type": "stream",
     "text": [
      "             precision    recall  f1-score   support\n",
      "\n",
      "    Current       0.97      1.00      0.98     45938\n",
      "Non_Current       1.00      0.00      0.00      1467\n",
      "\n",
      "avg / total       0.97      0.97      0.95     47405\n",
      "\n",
      "AUC:  50.1%\n"
     ]
    },
    {
     "data": {
      "image/png": "[encoded data removed]",
      "text/plain": [
       "<matplotlib.figure.Figure at 0x1f30821b978>"
      ]
     },
     "metadata": {},
     "output_type": "display_data"
    }
   ],
   "source": [
    "print(classification_report(y_test, prediction_agg, target_names=['Current', 'Non_Current']))\n",
    "print (\"AUC: \", \"{:.1%}\".format(roc_auc_score(y_test, prediction_agg)))\n",
    "cm = confusion_matrix(y_test, prediction_agg)\n",
    "plot_confusion_matrix(cm, title=\"Agg cityblock Confusion Matrix\",save=True, \n",
    "                      saveas='prediction/agg/cm'+str(' Agg cityblock Accuracy-')+str(nrows)+'.jpg')\n"
   ]
  },
  {
   "cell_type": "code",
   "execution_count": 25,
   "metadata": {},
   "outputs": [
    {
     "name": "stdout",
     "output_type": "stream",
     "text": [
      "ROC_AUC_SCORE ;  0.500681663258\n",
      "Confusion matrix, without normalization\n",
      "[[45938     0]\n",
      " [ 1465     2]]\n"
     ]
    },
    {
     "data": {
      "image/png": "[encoded data removed]",
      "text/plain": [
       "<matplotlib.figure.Figure at 0x1f308214f98>"
      ]
     },
     "metadata": {},
     "output_type": "display_data"
    }
   ],
   "source": [
    "class_names = ['Current', 'Non-Current']\n",
    "\n",
    "def plot_confusion_matrix(cm, classes,\n",
    "                          normalize=False,\n",
    "                          title='Confusion matrix',\n",
    "                          cmap=plt.cm.Blues):\n",
    "    \"\"\"\n",
    "    This function prints and plots the confusion matrix.\n",
    "    Normalization can be applied by setting `normalize=True`.\n",
    "    \"\"\"\n",
    "    if normalize:\n",
    "        cm = cm.astype('float') / cm.sum(axis=1)[:, np.newaxis]\n",
    "        print(\"Normalized confusion matrix\")\n",
    "    else:\n",
    "        print('Confusion matrix, without normalization')\n",
    "\n",
    "    print(cm)\n",
    "\n",
    "    plt.imshow(cm, interpolation='nearest', cmap=cmap)\n",
    "    plt.title(title)\n",
    "    plt.colorbar()\n",
    "    tick_marks = np.arange(len(classes))\n",
    "    plt.xticks(tick_marks, classes, rotation=45)\n",
    "    plt.yticks(tick_marks, classes)\n",
    "\n",
    "    fmt = '.2f' if normalize else 'd'\n",
    "    thresh = cm.max() / 2.\n",
    "    for i, j in itertools.product(range(cm.shape[0]), range(cm.shape[1])):\n",
    "        plt.text(j, i, format(cm[i, j], fmt),\n",
    "                 horizontalalignment=\"center\",\n",
    "                 color=\"white\" if cm[i, j] > thresh else \"black\")\n",
    "\n",
    "    plt.ylabel('True label')\n",
    "    plt.xlabel('Predicted label')\n",
    "    plt.tight_layout()\n",
    "\n",
    "\n",
    "print('ROC_AUC_SCORE ; ', roc_auc_score(y_test, prediction_agg))\n",
    "# Compute confusion matrix\n",
    "cnf_matrix = confusion_matrix(y_test, prediction_agg)\n",
    "np.set_printoptions(precision=2)\n",
    "\n",
    "# Plot non-normalized confusion matrix\n",
    "plt.figure()\n",
    "plot_confusion_matrix(cnf_matrix, classes=class_names, title= 'Confusion matrix, Agg cityblock')\n",
    "plt.savefig('prediction/agg/cm'+str(' Agg cityblock-')+str(nrows)+'.jpg')\n",
    "plt.show()"
   ]
  },
  {
   "cell_type": "code",
   "execution_count": null,
   "metadata": {
    "collapsed": true
   },
   "outputs": [],
   "source": []
  }
 ],
 "metadata": {
  "kernelspec": {
   "display_name": "Python [conda env:Anaconda3]",
   "language": "python",
   "name": "conda-env-Anaconda3-py"
  },
  "language_info": {
   "codemirror_mode": {
    "name": "ipython",
    "version": 3
   },
   "file_extension": ".py",
   "mimetype": "text/x-python",
   "name": "python",
   "nbconvert_exporter": "python",
   "pygments_lexer": "ipython3",
   "version": "3.5.5"
  }
 },
 "nbformat": 4,
 "nbformat_minor": 2
}
