{
 "cells": [
  {
   "cell_type": "markdown",
   "metadata": {},
   "source": [
    "![Vanguard](datasets/vanguard.png) \n",
    "# ASSET BACKED SECURITIES - AUTO FINANCE LOANS"
   ]
  },
  {
   "cell_type": "markdown",
   "metadata": {},
   "source": [
    "### What is an Asset-Backed Security\n",
    "An asset-backed security (ABS) is a financial security collateralized by a pool of assets such as loans, leases, credit card debt, royalties or receivables. For investors, asset-backed securities are an alternative to investing in corporate debt. An ABS is similar to a mortgage-backed security, except that the underlying securities are not mortgage-based.\n",
    "\n",
    "Asset-backed securities allow issuers to generate more cash, which, in turn, is used for more lending while giving investors the opportunity to invest in a wide variety of income-generating assets. Usually, the underlying assets of an ABS are illiquid and can't be sold on their own. But pooling the assets together and creating a financial security, a process called securitization, enables the owner of the assets to make them marketable. The underlying assets of these pools may be home equity loans, automobile loans, credit card receivables, student loans or other expected cash flows. Issuers of ABS can be as creative as they desire. For example, ABS have been created based on cash flows from movie revenues, royalty payments, aircraft leases and solar photovoltaics. Just about any cash-producing situation can be securitized into an ABS.\n",
    "\n",
    "### Example of Asset-Backed Security\n",
    "Assume that Company X is in the business of making automobile loans. If a person wants to borrow money to buy a car, Company X gives that person the cash, and the person is obligated to repay the loan with a certain amount of interest. Perhaps Company X makes so many loans that it runs out of cash to continue making more loans. Company X can then package its current loans and sell them to Investment Firm X, thus receiving cash that it can use to make more loans.\n",
    "\n",
    "Investment Firm X will then sort the purchased loans into different groups called tranches. These tranches are groups of loans with similar characteristics, such as maturity, interest rate and expected delinquency rate. Next, Investment Firm X will issue securities that are similar to typical bonds on each tranche it creates.\n",
    "\n",
    "Individual investors then purchase these securities and receive the cash-flows from the underlying pool of auto loans, minus an administrative fee that Investment Firm X keeps for itself.\n",
    "\n",
    "### Typical Tranches\n",
    "Usually an ABS will have three tranches: class A, B and C. The senior tranche, A, is almost always the largest tranche and is structured to have an investment-grade rating to make it attractive to investors.\n",
    "\n",
    "The B tranche has lower credit quality and thus has a higher yield than the senior tranche. The C tranche has a lower credit rating than the B tranche and might have such poor credit quality that it can't be sold to investors. In this case, the issuer would keep the C tranche and absorb the losses.\n"
   ]
  },
  {
   "cell_type": "markdown",
   "metadata": {},
   "source": [
    "### Vanguard Use Case \n",
    "To predict loan default based on public data from SEC and additional economic data\n",
    "\n",
    "![Auto Loans](datasets/saupload_US-auto-loans-2017-Q1.png)"
   ]
  },
  {
   "cell_type": "markdown",
   "metadata": {},
   "source": [
    "### Import Libraries"
   ]
  },
  {
   "cell_type": "code",
   "execution_count": null,
   "metadata": {
    "collapsed": true
   },
   "outputs": [],
   "source": [
    "import re\n",
    "import time\n",
    "import pandas as pd\n",
    "import numpy as np\n",
    "from matplotlib import pyplot as plt\n",
    "import tensorflow as tf\n",
    "from tensorflow import keras\n",
    "from keras import optimizers\n",
    "from keras.models import Sequential\n",
    "from keras.layers import Input, Dense, Dropout, LSTM, GRU\n",
    "from keras.models import Model, load_model\n",
    "from keras.callbacks import ModelCheckpoint, TensorBoard\n",
    "from keras import regularizers\n",
    "tf.__version__\n",
    "%matplotlib inline\n",
    "\n",
    "import seaborn as sns\n",
    "import itertools\n",
    "import operator\n",
    "import collections\n",
    "from scipy.io import mmread, mmwrite\n",
    "from random import randint\n",
    "from sklearn import linear_model\n",
    "from sklearn.grid_search import GridSearchCV\n",
    "from sklearn import preprocessing as pp\n",
    "from sklearn.svm import SVR\n",
    "from sklearn.ensemble import GradientBoostingRegressor, GradientBoostingClassifier\n",
    "from sklearn.ensemble import RandomForestRegressor, RandomForestClassifier\n",
    "from sklearn.ensemble import ExtraTreesRegressor\n",
    "from sklearn.decomposition import PCA, KernelPCA\n",
    "from sklearn.decomposition import NMF\n",
    "from sklearn.pipeline import Pipeline\n",
    "from sklearn.svm import LinearSVC\n",
    "from sklearn.linear_model import LogisticRegression, Ridge, Lasso, ElasticNet\n",
    "import scipy.stats as stats\n",
    "from sklearn import tree\n",
    "from sklearn.feature_selection import f_regression\n",
    "from sklearn.gaussian_process import GaussianProcess\n",
    "from sklearn.metrics import roc_auc_score\n",
    "from sklearn import metrics\n",
    "\n",
    "from sklearn.model_selection import train_test_split\n",
    "from sklearn.metrics import confusion_matrix, precision_recall_curve\n",
    "from sklearn.metrics import recall_score, classification_report, auc, roc_curve\n",
    "from sklearn.metrics import precision_recall_fscore_support, f1_score\n",
    "from sklearn.preprocessing import StandardScaler"
   ]
  },
  {
   "cell_type": "markdown",
   "metadata": {},
   "source": [
    "### Model Name"
   ]
  },
  {
   "cell_type": "code",
   "execution_count": 2,
   "metadata": {
    "collapsed": true
   },
   "outputs": [],
   "source": [
    "name = \"ABS_Keras-GRU254GRU128D32D2-adam{}\".format(int(time.time()))\n",
    "#name_noTime = \"ABS_Keras-LSTM128LSTM128D32D2-adam\""
   ]
  },
  {
   "cell_type": "markdown",
   "metadata": {},
   "source": [
    "### Default Parameters"
   ]
  },
  {
   "cell_type": "code",
   "execution_count": 3,
   "metadata": {
    "collapsed": true
   },
   "outputs": [],
   "source": [
    "#parameters to choose\n",
    "default_days = 0\n",
    "nrows = 20000000\n",
    "train_split = 0.80\n",
    "model_type = keras\n",
    "path = 'c:/users/ugy1/abs/'\n",
    "rows_for_prediction = 1000\n",
    "cutOffForOriginationDate='2012-01-01'\n",
    "manualOversamplingFactor=0.0\n",
    "epochs=1"
   ]
  },
  {
   "cell_type": "markdown",
   "metadata": {},
   "source": [
    "### Features to Be Used from Data"
   ]
  },
  {
   "cell_type": "code",
   "execution_count": 4,
   "metadata": {
    "collapsed": true
   },
   "outputs": [],
   "source": [
    "# columns to be used\n",
    "use_list=[\n",
    "    'abs_loan.cik',\n",
    " #'abs_loan.accessionnumber',\n",
    " #'abs_loan.assettypenumber',\n",
    " 'abs_loan.assetnumber',\n",
    " 'abs_loan.reportingperiodbeginningdate',\n",
    " 'abs_loan.reportingperiodendingdate',\n",
    " 'abs_loan.originatorname',\n",
    " 'abs_loan.originationdate',\n",
    " 'abs_loan.originalloanamount',\n",
    " 'abs_loan.originalloanterm',\n",
    " 'abs_loan.loanmaturitydate',\n",
    " 'abs_loan.originalinterestratepercentage',\n",
    " #'interestcalculationtypecode',\n",
    " #'originalinterestratetypecode',\n",
    " #'originalinterestonlytermnumber',\n",
    " 'abs_loan.originalfirstpaymentdate',\n",
    " 'abs_loan.underwritingindicator',\n",
    " 'abs_loan.graceperiodnumber',\n",
    " #'paymenttypecode',\n",
    " 'abs_loan.subvented',\n",
    " #'vehiclemanufacturername',\n",
    " #'vehiclemodelname',\n",
    " 'abs_loan.vehiclenewusedcode',\n",
    " #'vehiclemodelyear',\n",
    " 'abs_loan.vehicletypecode',\n",
    " #'vehiclevalueamount',\n",
    " #'vehiclevaluesourcecode',\n",
    " 'abs_loan.obligorcreditscoretype',\n",
    " 'abs_loan.obligorcreditscore',\n",
    " 'abs_loan.obligorincomeverificationlevelcode',\n",
    " 'abs_loan.obligoremploymentverificationcode',\n",
    " 'abs_loan.coobligorindicator',\n",
    " 'abs_loan.paymenttoincomepercentage',\n",
    " #'obligorgeographiclocation',\n",
    " 'abs_loan.assetaddedindicator',\n",
    " #'remainingtermtomaturitynumber',\n",
    " 'abs_loan.reportingperiodmodificationindicator',\n",
    " 'abs_loan.servicingadvancemethodcode',\n",
    " 'abs_loan.reportingperiodbeginningloanbalanceamount',\n",
    " 'abs_loan.nextreportingperiodpaymentamountdue',\n",
    " 'abs_loan.reportingperiodinterestratepercentage',\n",
    " 'abs_loan.nextinterestratepercentage',\n",
    " 'abs_loan.servicingfeepercentage',\n",
    " 'abs_loan.servicingflatfeeamount',\n",
    " 'abs_loan.otherservicerfeeretainedbyservicer',\n",
    " 'abs_loan.otherassesseduncollectedservicerfeeamount',\n",
    " 'abs_loan.scheduledinterestamount',\n",
    " 'abs_loan.scheduledprincipalamount',\n",
    " 'abs_loan.otherprincipaladjustmentamount',\n",
    " 'abs_loan.reportingperiodactualendbalanceamount',\n",
    " 'abs_loan.reportingperiodscheduledpaymentamount',\n",
    " 'abs_loan.totalactualamountpaid',\n",
    " 'abs_loan.actualinterestcollectedamount',\n",
    " 'abs_loan.actualprincipalcollectedamount',\n",
    " 'abs_loan.actualothercollectedamount',\n",
    " 'abs_loan.serviceradvancedamount',\n",
    " 'abs_loan.interestpaidthroughdate',\n",
    " 'abs_loan.zerobalanceeffectivedate',\n",
    " 'abs_loan.zerobalancecode',\n",
    " 'abs_loan.currentdelinquencystatus',\n",
    " #'primaryloanservicername',\n",
    " #'mostrecentservicingtransferreceiveddate',\n",
    " #'assetsubjectdemandindicator',\n",
    " #'assetsubjectdemandstatuscode',\n",
    " #'repurchaseamount',\n",
    " #'demandresolutiondate',\n",
    " #'repurchasername',\n",
    " #'repurchasereplacementreasoncode',\n",
    " #'chargedoffprincipalamount',\n",
    " #'recoveredamount',\n",
    " #'modificationtypecode',\n",
    " #'paymentextendednumber',\n",
    " #'repossessedindicator',\n",
    " #'repossessedproceedsamount'\n",
    "]"
   ]
  },
  {
   "cell_type": "markdown",
   "metadata": {},
   "source": [
    "### GPU Options"
   ]
  },
  {
   "cell_type": "code",
   "execution_count": 6,
   "metadata": {
    "collapsed": true
   },
   "outputs": [],
   "source": [
    "#set gpu options to adjust gpu usage\n",
    "# gpu_options = tf.GPUOptions(per_process_gpu_memory_fraction=0.5)\n",
    "# sess=tf.Session(config=tf.ConfigProto(gpu_options=gpu_options))"
   ]
  },
  {
   "cell_type": "markdown",
   "metadata": {},
   "source": [
    "### Load data"
   ]
  },
  {
   "cell_type": "code",
   "execution_count": 7,
   "metadata": {},
   "outputs": [
    {
     "name": "stdout",
     "output_type": "stream",
     "text": [
      "(20000000, 47)\n"
     ]
    }
   ],
   "source": [
    "#load data from tab delimited file\n",
    "df=pd.read_csv(path+'datasets/abs_loan.csv', \n",
    "               usecols=use_list, \n",
    "               sep='\\t',\n",
    "               #compression=bz2,\n",
    "               nrows=nrows,\n",
    "               low_memory=False, \n",
    "              #index_col='abs_loan.reportingperiodendingdate', \n",
    "               parse_dates=True\n",
    "              )\n",
    "\n",
    "#remove 'abs_loan.' string from columns because 'dot' is a command in pandas\n",
    "df.columns=df.columns.str.replace('abs_loan.','')\n",
    "\n",
    "#display data shape\n",
    "print(df.shape)\n",
    "#view first five rows of all columns\n",
    "#df.head(n=5)"
   ]
  },
  {
   "cell_type": "code",
   "execution_count": null,
   "metadata": {
    "collapsed": true
   },
   "outputs": [],
   "source": [
    "### Analyse and Delete Duplicate Data"
   ]
  },
  {
   "cell_type": "code",
   "execution_count": 8,
   "metadata": {
    "collapsed": true
   },
   "outputs": [],
   "source": [
    "#df.cik.unique()"
   ]
  },
  {
   "cell_type": "code",
   "execution_count": 9,
   "metadata": {
    "collapsed": true
   },
   "outputs": [],
   "source": [
    "#df.assetnumber.unique()"
   ]
  },
  {
   "cell_type": "code",
   "execution_count": 10,
   "metadata": {
    "collapsed": true
   },
   "outputs": [],
   "source": [
    "#df.loc[:,~df.columns.str.contains('^Unnamed')]"
   ]
  },
  {
   "cell_type": "code",
   "execution_count": 11,
   "metadata": {
    "collapsed": true
   },
   "outputs": [],
   "source": [
    "#df.duplicated(subset=['cik','assetnumber']).sum()"
   ]
  },
  {
   "cell_type": "code",
   "execution_count": 12,
   "metadata": {
    "collapsed": true
   },
   "outputs": [],
   "source": [
    "#df.duplicated(subset=['cik','assetnumber','reportingperiodendingdate']).sum()"
   ]
  },
  {
   "cell_type": "code",
   "execution_count": 13,
   "metadata": {},
   "outputs": [
    {
     "data": {
      "text/plain": [
       "941375"
      ]
     },
     "execution_count": 13,
     "metadata": {},
     "output_type": "execute_result"
    }
   ],
   "source": [
    "df.duplicated(subset=['cik','assetnumber','reportingperiodendingdate','originationdate']).sum()"
   ]
  },
  {
   "cell_type": "code",
   "execution_count": 14,
   "metadata": {
    "collapsed": true
   },
   "outputs": [],
   "source": [
    "#df.loc[df.duplicated(subset=['cik','assetnumber','reportingperiodendingdate']),:]"
   ]
  },
  {
   "cell_type": "code",
   "execution_count": 15,
   "metadata": {},
   "outputs": [
    {
     "data": {
      "text/plain": [
       "941375"
      ]
     },
     "execution_count": 15,
     "metadata": {},
     "output_type": "execute_result"
    }
   ],
   "source": [
    "df.duplicated().sum()"
   ]
  },
  {
   "cell_type": "code",
   "execution_count": 16,
   "metadata": {
    "collapsed": true
   },
   "outputs": [],
   "source": [
    "df.drop_duplicates(subset=['cik','assetnumber','reportingperiodendingdate','originationdate'],keep='last', inplace=True)"
   ]
  },
  {
   "cell_type": "code",
   "execution_count": 17,
   "metadata": {},
   "outputs": [
    {
     "data": {
      "text/plain": [
       "(19058625, 47)"
      ]
     },
     "execution_count": 17,
     "metadata": {},
     "output_type": "execute_result"
    }
   ],
   "source": [
    "#df.columns.tolist()\n",
    "df.shape"
   ]
  },
  {
   "cell_type": "markdown",
   "metadata": {},
   "source": [
    "### Dataframe Memory Usage and Datatypes"
   ]
  },
  {
   "cell_type": "code",
   "execution_count": 18,
   "metadata": {
    "collapsed": true,
    "scrolled": false
   },
   "outputs": [],
   "source": [
    "#df.info(memory_usage='deep')"
   ]
  },
  {
   "cell_type": "code",
   "execution_count": 19,
   "metadata": {
    "collapsed": true
   },
   "outputs": [],
   "source": [
    "df.memory_usage(deep=True).sum()"
   ]
  },
  {
   "cell_type": "code",
   "execution_count": 20,
   "metadata": {
    "collapsed": true
   },
   "outputs": [],
   "source": [
    "df.dtypes"
   ]
  },
  {
   "cell_type": "code",
   "execution_count": 21,
   "metadata": {
    "collapsed": true
   },
   "outputs": [],
   "source": [
    "#df.head()\n",
    "#df=df.sort_values(by='originationdate', ascending=True)"
   ]
  },
  {
   "cell_type": "markdown",
   "metadata": {},
   "source": [
    "### Function to Draw Bar chart"
   ]
  },
  {
   "cell_type": "code",
   "execution_count": 22,
   "metadata": {
    "collapsed": true
   },
   "outputs": [],
   "source": [
    "#function to draw a bar chart \n",
    "def draw(data, title, ylabel, sort = False, n=-1):\n",
    "    labels = pd.value_counts(data).head().index.tolist()\n",
    "    count_classes = pd.value_counts(data, sort).head()\n",
    "    count_classes.plot(kind = 'bar', rot=0)\n",
    "    plt.xticks(range(len(labels)), labels)\n",
    "    plt.title(title)\n",
    "    plt.ylabel(ylabel)\n",
    "    plt.show()\n",
    "    print('Top ',n,' counts: ','\\n',pd.value_counts(data, sort).head(n))"
   ]
  },
  {
   "cell_type": "markdown",
   "metadata": {},
   "source": [
    "### Reporting Period\n",
    "we have taken reportingperiodendingdate as a proxy for the reporting period"
   ]
  },
  {
   "cell_type": "code",
   "execution_count": 23,
   "metadata": {},
   "outputs": [
    {
     "data": {
      "image/png": "[encoded data removed]",
      "text/plain": [
       "<matplotlib.figure.Figure at 0x21abeab4710>"
      ]
     },
     "metadata": {},
     "output_type": "display_data"
    },
    {
     "name": "stdout",
     "output_type": "stream",
     "text": [
      "Top  100  counts:  \n",
      " 2018-06-30    2725595\n",
      "2018-05-31    2482372\n",
      "2018-04-30    2365953\n",
      "2018-03-31    2329102\n",
      "2018-02-28    2049567\n",
      "2018-08-31    1857601\n",
      "2018-07-31    1817977\n",
      "2017-12-31    1632052\n",
      "2018-09-30    1053343\n",
      "2017-02-28     222939\n",
      "2017-01-31     180685\n",
      "2016-12-31     163272\n",
      "2017-03-31      75737\n",
      "2017-11-30      55710\n",
      "2018-01-31      46720\n",
      "Name: reportingperiodendingdate, dtype: int64\n"
     ]
    }
   ],
   "source": [
    "draw(df.reportingperiodendingdate, title='reporting period endingdate', ylabel='Number of Loans', sort = True, n=100)"
   ]
  },
  {
   "cell_type": "code",
   "execution_count": 24,
   "metadata": {
    "collapsed": true
   },
   "outputs": [],
   "source": [
    "# restrict data to a reporting period\n",
    "#df=df[df.index=='2017-11-30']"
   ]
  },
  {
   "cell_type": "markdown",
   "metadata": {},
   "source": [
    "### Mean current deliquency days for the reporting period"
   ]
  },
  {
   "cell_type": "code",
   "execution_count": 25,
   "metadata": {},
   "outputs": [
    {
     "data": {
      "text/plain": [
       "reportingperiodendingdate\n",
       "2016-12-31     0.652984\n",
       "2017-01-31     0.927592\n",
       "2017-02-28     0.406032\n",
       "2017-03-31     0.527338\n",
       "2017-11-30     0.242685\n",
       "2017-12-31     4.131805\n",
       "2018-01-31     0.538368\n",
       "2018-02-28     4.193042\n",
       "2018-03-31     3.995102\n",
       "2018-04-30     4.570131\n",
       "2018-05-31     5.065113\n",
       "2018-06-30     5.274703\n",
       "2018-07-31     0.888630\n",
       "2018-08-31     9.800966\n",
       "2018-09-30    19.122567\n",
       "Name: currentdelinquencystatus, dtype: float64"
      ]
     },
     "execution_count": 25,
     "metadata": {},
     "output_type": "execute_result"
    }
   ],
   "source": [
    "df.groupby(df.reportingperiodendingdate).currentdelinquencystatus.mean()"
   ]
  },
  {
   "cell_type": "markdown",
   "metadata": {},
   "source": [
    "### Mean reporting period ending balance"
   ]
  },
  {
   "cell_type": "code",
   "execution_count": 26,
   "metadata": {},
   "outputs": [
    {
     "data": {
      "text/plain": [
       "reportingperiodendingdate\n",
       "2016-12-31    20399.176618\n",
       "2017-01-31    18017.950731\n",
       "2017-02-28    18210.210585\n",
       "2017-03-31    18459.045384\n",
       "2017-11-30    26108.681083\n",
       "2017-12-31    16159.438908\n",
       "2018-01-31    22312.621633\n",
       "2018-02-28    16128.891206\n",
       "2018-03-31    15795.719431\n",
       "2018-04-30    15911.255808\n",
       "2018-05-31    15607.088079\n",
       "2018-06-30    16072.683320\n",
       "2018-07-31    15446.794767\n",
       "2018-08-31    16585.179272\n",
       "2018-09-30    16539.659496\n",
       "Name: reportingperiodactualendbalanceamount, dtype: float64"
      ]
     },
     "execution_count": 26,
     "metadata": {},
     "output_type": "execute_result"
    }
   ],
   "source": [
    "df.groupby(df.reportingperiodendingdate).reportingperiodactualendbalanceamount.mean()"
   ]
  },
  {
   "cell_type": "markdown",
   "metadata": {},
   "source": [
    "### Creating Feature columns for Reporting period"
   ]
  },
  {
   "cell_type": "code",
   "execution_count": 27,
   "metadata": {},
   "outputs": [
    {
     "name": "stdout",
     "output_type": "stream",
     "text": [
      "Added Column for :   reportingperiodending_2018-06-30\n",
      "Added Column for :   reportingperiodending_2018-05-31\n",
      "Added Column for :   reportingperiodending_2018-04-30\n",
      "Added Column for :   reportingperiodending_2018-03-31\n",
      "Added Column for :   reportingperiodending_2018-02-28\n",
      "Added Column for :   reportingperiodending_2018-08-31\n",
      "Added Column for :   reportingperiodending_2018-07-31\n",
      "Added Column for :   reportingperiodending_2017-12-31\n",
      "Added Column for :   reportingperiodending_2018-09-30\n",
      "Added Column for :   reportingperiodending_2017-02-28\n",
      "Added Column for :   reportingperiodending_2017-01-31\n",
      "Added Column for :   reportingperiodending_2016-12-31\n",
      "Added Column for :   reportingperiodending_2017-03-31\n",
      "Added Column for :   reportingperiodending_2017-11-30\n",
      "Added Column for :   reportingperiodending_2018-01-31\n",
      "New Dataframe shape :  (19058625, 62)\n"
     ]
    }
   ],
   "source": [
    "# create feature columns for categories within originator name \n",
    "def map_reportingperiodendingdate(*args):\n",
    "    columns = [col for col in args]\n",
    "    for column in columns:\n",
    "        if column == code:\n",
    "            return 1\n",
    "        else:\n",
    "            return 0\n",
    "codes = pd.value_counts(df.reportingperiodendingdate).index.tolist()\n",
    "\n",
    "for code in codes:\n",
    "        df['reportingperiodending_{}'.format(code)] = list(map(map_reportingperiodendingdate, df.reportingperiodendingdate))\n",
    "        print('Added Column for :   reportingperiodending_'+code)\n",
    "print('New Dataframe shape : ', df.shape)"
   ]
  },
  {
   "cell_type": "markdown",
   "metadata": {},
   "source": [
    "### Calculating Number of Days Loans Outstanding and creating a feature column"
   ]
  },
  {
   "cell_type": "code",
   "execution_count": 28,
   "metadata": {},
   "outputs": [
    {
     "data": {
      "image/png": "[encoded data removed]",
      "text/plain": [
       "<matplotlib.figure.Figure at 0x21a8048f320>"
      ]
     },
     "metadata": {},
     "output_type": "display_data"
    },
    {
     "name": "stdout",
     "output_type": "stream",
     "text": [
      "Top  5  counts:  \n",
      " 365 days    684888\n",
      "577 days    509028\n",
      "304 days    463524\n",
      "426 days    435325\n",
      "334 days    426654\n",
      "Name: outstandingdays, dtype: int64\n"
     ]
    }
   ],
   "source": [
    "#calculate outstanding days\n",
    "df['outstandingdays'] = pd.to_datetime(df['reportingperiodendingdate'])-pd.to_datetime(df['originationdate'])\n",
    "#draw a chart for visual look and analysis\n",
    "draw(df.outstandingdays, title='Outstanding Days', ylabel='Number of Loans', sort = True, n=5)\n",
    "#remove days string for machine learning\n",
    "df['outstandingdays']=df.outstandingdays.map(lambda x: np.nan if pd.isnull(x) else x.days)\n",
    "#display last five rows\n",
    "#df.outstandingdays.tail()"
   ]
  },
  {
   "cell_type": "markdown",
   "metadata": {},
   "source": [
    "### Dropping Loans Below Zero Outstanding Days"
   ]
  },
  {
   "cell_type": "code",
   "execution_count": 29,
   "metadata": {},
   "outputs": [
    {
     "name": "stdout",
     "output_type": "stream",
     "text": [
      "No Loans Below zero outstanding days\n"
     ]
    }
   ],
   "source": [
    "# retaining only loans with non-negative outstanding days\n",
    "u=pd.value_counts(df.outstandingdays<0)\n",
    "if len(u)<2:\n",
    "    print('No Loans Below zero outstanding days')\n",
    "else: \n",
    "    print('Number of Loans with negative outstanding days :', u[1])\n",
    "    print('Dropping ', u[1], 'rows and retaining loans with only non-negative outstanding days')\n",
    "    df=df[df.outstandingdays>0]   "
   ]
  },
  {
   "cell_type": "code",
   "execution_count": 30,
   "metadata": {},
   "outputs": [
    {
     "data": {
      "text/plain": [
       "count    1.905862e+07\n",
       "mean     6.265682e+02\n",
       "std      5.082218e+02\n",
       "min      0.000000e+00\n",
       "25%      2.730000e+02\n",
       "50%      4.870000e+02\n",
       "75%      7.910000e+02\n",
       "max      2.891000e+03\n",
       "Name: outstandingdays, dtype: float64"
      ]
     },
     "execution_count": 30,
     "metadata": {},
     "output_type": "execute_result"
    }
   ],
   "source": [
    "# get statistics for outstanding days\n",
    "df.outstandingdays.describe()"
   ]
  },
  {
   "cell_type": "markdown",
   "metadata": {},
   "source": [
    "### Mean outstanding days for the reporting period"
   ]
  },
  {
   "cell_type": "code",
   "execution_count": 31,
   "metadata": {},
   "outputs": [
    {
     "data": {
      "text/plain": [
       "reportingperiodendingdate\n",
       "2016-12-31    335.460704\n",
       "2017-01-31    448.813178\n",
       "2017-02-28    426.975513\n",
       "2017-03-31     90.684276\n",
       "2017-11-30    397.635810\n",
       "2017-12-31    608.631583\n",
       "2018-01-31    439.978275\n",
       "2018-02-28    636.448613\n",
       "2018-03-31    645.670708\n",
       "2018-04-30    642.369171\n",
       "2018-05-31    657.758767\n",
       "2018-06-30    646.421271\n",
       "2018-07-31    745.665424\n",
       "2018-08-31    573.932290\n",
       "2018-09-30    496.573196\n",
       "Name: outstandingdays, dtype: float64"
      ]
     },
     "execution_count": 31,
     "metadata": {},
     "output_type": "execute_result"
    }
   ],
   "source": [
    "df.groupby(df.reportingperiodendingdate).outstandingdays.mean()"
   ]
  },
  {
   "cell_type": "markdown",
   "metadata": {},
   "source": [
    "### Calculate Number of Days Left until Maturity"
   ]
  },
  {
   "cell_type": "code",
   "execution_count": 32,
   "metadata": {},
   "outputs": [
    {
     "data": {
      "image/png": "[encoded data removed]",
      "text/plain": [
       "<matplotlib.figure.Figure at 0x21a8062fa90>"
      ]
     },
     "metadata": {},
     "output_type": "display_data"
    },
    {
     "name": "stdout",
     "output_type": "stream",
     "text": [
      "Top  5  counts:  \n",
      " 1826 days    442155\n",
      "1461 days    361630\n",
      "1614 days    347944\n",
      "1887 days    319319\n",
      "1249 days    313355\n",
      "Name: daystomaturity, dtype: int64\n"
     ]
    }
   ],
   "source": [
    "#calculate days left until maturity\n",
    "df['daystomaturity'] = pd.to_datetime(df['loanmaturitydate'])-pd.to_datetime(df['reportingperiodendingdate'])\n",
    "draw(df.daystomaturity, title='Days Left Until Maturity', ylabel='Number of Loans', sort=True, n=5)"
   ]
  },
  {
   "cell_type": "markdown",
   "metadata": {},
   "source": [
    "### Create Feature Column for Days to Maturity"
   ]
  },
  {
   "cell_type": "code",
   "execution_count": 33,
   "metadata": {},
   "outputs": [
    {
     "data": {
      "text/plain": [
       "19999995    1917.0\n",
       "19999996    2101.0\n",
       "19999997    1006.0\n",
       "19999998    2101.0\n",
       "19999999    1736.0\n",
       "Name: daystomaturity, dtype: float64"
      ]
     },
     "execution_count": 33,
     "metadata": {},
     "output_type": "execute_result"
    }
   ],
   "source": [
    "# remove 'days' string from the data for machine learning\n",
    "df['daystomaturity']=df.daystomaturity.map(lambda x: np.nan if pd.isnull(x) else x.days)\n",
    "# print last five rows\n",
    "df.daystomaturity.tail()"
   ]
  },
  {
   "cell_type": "code",
   "execution_count": 34,
   "metadata": {},
   "outputs": [
    {
     "name": "stdout",
     "output_type": "stream",
     "text": [
      "Number of Loans with negative outstanding days : 128141\n",
      "Dropping  128141 rows and retaining loans with only non-negative outstanding days\n"
     ]
    }
   ],
   "source": [
    "#retaining only loans with non-negative days to maturity\n",
    "u=pd.value_counts(df.daystomaturity<=0)\n",
    "if len(u)<2:\n",
    "    print('No Loans Below zero outstanding days')\n",
    "else: \n",
    "    print('Number of Loans with negative outstanding days :', u[1])\n",
    "    print('Dropping ', u[1], 'rows and retaining loans with only non-negative outstanding days')\n",
    "    df=df[df.daystomaturity>0]"
   ]
  },
  {
   "cell_type": "code",
   "execution_count": 35,
   "metadata": {},
   "outputs": [
    {
     "data": {
      "text/plain": [
       "(18920357, 64)"
      ]
     },
     "execution_count": 35,
     "metadata": {},
     "output_type": "execute_result"
    }
   ],
   "source": [
    "#number of rows and columns of the dataframe\n",
    "df.shape"
   ]
  },
  {
   "cell_type": "code",
   "execution_count": 36,
   "metadata": {},
   "outputs": [
    {
     "data": {
      "text/plain": [
       "count    1.892036e+07\n",
       "mean     1.411961e+03\n",
       "std      5.595943e+02\n",
       "min      2.800000e+01\n",
       "25%      1.096000e+03\n",
       "50%      1.522000e+03\n",
       "75%      1.857000e+03\n",
       "max      7.944000e+03\n",
       "Name: daystomaturity, dtype: float64"
      ]
     },
     "execution_count": 36,
     "metadata": {},
     "output_type": "execute_result"
    }
   ],
   "source": [
    "# statistics for days to maturity\n",
    "df.daystomaturity.describe()"
   ]
  },
  {
   "cell_type": "markdown",
   "metadata": {},
   "source": [
    "### Mean Number of days to Maturity for the Reporting Period"
   ]
  },
  {
   "cell_type": "code",
   "execution_count": 37,
   "metadata": {},
   "outputs": [
    {
     "data": {
      "text/plain": [
       "reportingperiodendingdate\n",
       "2016-12-31    1647.118881\n",
       "2017-01-31    1559.017882\n",
       "2017-02-28    1529.274824\n",
       "2017-03-31    1900.921452\n",
       "2017-11-30    1482.041537\n",
       "2017-12-31    1418.761027\n",
       "2018-01-31    1674.368001\n",
       "2018-02-28    1387.471826\n",
       "2018-03-31    1381.950439\n",
       "2018-04-30    1388.913122\n",
       "2018-05-31    1377.087996\n",
       "2018-06-30    1395.242479\n",
       "2018-07-31    1243.197945\n",
       "2018-08-31    1507.814053\n",
       "2018-09-30    1674.412331\n",
       "Name: daystomaturity, dtype: float64"
      ]
     },
     "execution_count": 37,
     "metadata": {},
     "output_type": "execute_result"
    }
   ],
   "source": [
    "df.groupby(df.reportingperiodendingdate).daystomaturity.mean()"
   ]
  },
  {
   "cell_type": "code",
   "execution_count": 38,
   "metadata": {
    "collapsed": true
   },
   "outputs": [],
   "source": [
    "df.drop(['loanmaturitydate'], axis=1, inplace=True)"
   ]
  },
  {
   "cell_type": "markdown",
   "metadata": {},
   "source": [
    "### Origination Date - Removing loans before origination cutoff date"
   ]
  },
  {
   "cell_type": "code",
   "execution_count": 39,
   "metadata": {},
   "outputs": [
    {
     "name": "stdout",
     "output_type": "stream",
     "text": [
      "Number of rows before 2012-01-01 : 11110\n",
      "Dropping  11110 rows and retaining loans with origination dates after 2012-01-01\n"
     ]
    },
    {
     "data": {
      "text/plain": [
       "(18909247, 63)"
      ]
     },
     "execution_count": 39,
     "metadata": {},
     "output_type": "execute_result"
    }
   ],
   "source": [
    "# remove loans with orgination dates set for cut off earlier\n",
    "u=pd.value_counts(df.originationdate<=cutOffForOriginationDate)\n",
    "if len(u)<2:\n",
    "    print('No origination date rows fall before ',cutOffForOriginationDate )\n",
    "else: \n",
    "    print('Number of rows before',cutOffForOriginationDate ,':', u[1])\n",
    "    print('Dropping ', u[1], 'rows and retaining loans with origination dates after', cutOffForOriginationDate)\n",
    "    df=df[df.originationdate>cutOffForOriginationDate]\n",
    "#new number of rows and columns of the dataframe\n",
    "df.shape"
   ]
  },
  {
   "cell_type": "code",
   "execution_count": 40,
   "metadata": {},
   "outputs": [
    {
     "data": {
      "image/png": "[encoded data removed]",
      "text/plain": [
       "<matplotlib.figure.Figure at 0x21a8d2bb898>"
      ]
     },
     "metadata": {},
     "output_type": "display_data"
    },
    {
     "name": "stdout",
     "output_type": "stream",
     "text": [
      "Top  10  counts:  \n",
      " 2017-03-31    863029\n",
      "2016-12-31    844636\n",
      "2017-05-31    745833\n",
      "2017-04-30    725811\n",
      "2017-01-31    637323\n",
      "2016-10-31    626780\n",
      "2016-11-30    625085\n",
      "2016-08-31    618780\n",
      "2017-08-31    598204\n",
      "2016-09-30    597786\n",
      "Name: originationdate, dtype: int64\n"
     ]
    }
   ],
   "source": [
    "#set origination date as index\n",
    "#df.set_index(['originationdate'])\n",
    "# draw origination date chart\n",
    "draw(df.originationdate, title='Origination Date', ylabel='Number of Loans', sort=True, n=10)"
   ]
  },
  {
   "cell_type": "code",
   "execution_count": 41,
   "metadata": {},
   "outputs": [
    {
     "data": {
      "text/plain": [
       "count       18909247\n",
       "unique            81\n",
       "top       2017-03-31\n",
       "freq          863029\n",
       "Name: originationdate, dtype: object"
      ]
     },
     "execution_count": 41,
     "metadata": {},
     "output_type": "execute_result"
    }
   ],
   "source": [
    "# statistics for origination date\n",
    "df.originationdate.describe()"
   ]
  },
  {
   "cell_type": "markdown",
   "metadata": {},
   "source": [
    "### Top ten mean current deliquency status by origination date and reporting period"
   ]
  },
  {
   "cell_type": "code",
   "execution_count": 42,
   "metadata": {},
   "outputs": [
    {
     "data": {
      "text/plain": [
       "<matplotlib.axes._subplots.AxesSubplot at 0x21ab1fc8eb8>"
      ]
     },
     "execution_count": 42,
     "metadata": {},
     "output_type": "execute_result"
    },
    {
     "data": {
      "image/png": "[encoded data removed]",
      "text/plain": [
       "<matplotlib.figure.Figure at 0x21a8ce18cf8>"
      ]
     },
     "metadata": {},
     "output_type": "display_data"
    }
   ],
   "source": [
    "df.groupby([df.originationdate, df.reportingperiodendingdate]).currentdelinquencystatus.mean().sort_values().tail(n=10).plot(kind='bar')"
   ]
  },
  {
   "cell_type": "code",
   "execution_count": 43,
   "metadata": {},
   "outputs": [
    {
     "data": {
      "text/plain": [
       "<matplotlib.axes._subplots.AxesSubplot at 0x21a8acd24a8>"
      ]
     },
     "execution_count": 43,
     "metadata": {},
     "output_type": "execute_result"
    },
    {
     "data": {
      "image/png": "[encoded data removed]",
      "text/plain": [
       "<matplotlib.figure.Figure at 0x21ab1faf898>"
      ]
     },
     "metadata": {},
     "output_type": "display_data"
    }
   ],
   "source": [
    "df.groupby(df.originationdate).currentdelinquencystatus.mean().sort_values().tail(n=10).plot(kind='bar')"
   ]
  },
  {
   "cell_type": "markdown",
   "metadata": {},
   "source": [
    "### Originators Name"
   ]
  },
  {
   "cell_type": "code",
   "execution_count": 44,
   "metadata": {},
   "outputs": [
    {
     "data": {
      "text/plain": [
       "array(['BMW Bank of North America', 'BMW Financial Services NA LLC', 'SC',\n",
       "       'Mechanics Bank', 'TMCC', 'AHFC',\n",
       "       'USAAFSB                                           ', 'NMAC',\n",
       "       'Fifth Third Bank', 'VW Credit',\n",
       "       'MBFS USA LLC                                      ', 'Ford Credit',\n",
       "       'HCA', 'WORLD OMNI FINANCIAL CORP', 'CBS'], dtype=object)"
      ]
     },
     "execution_count": 44,
     "metadata": {},
     "output_type": "execute_result"
    }
   ],
   "source": [
    "df.originatorname.unique()"
   ]
  },
  {
   "cell_type": "code",
   "execution_count": 45,
   "metadata": {},
   "outputs": [
    {
     "data": {
      "image/png": "[encoded data removed]",
      "text/plain": [
       "<matplotlib.figure.Figure at 0x21a8ce6dd68>"
      ]
     },
     "metadata": {},
     "output_type": "display_data"
    },
    {
     "name": "stdout",
     "output_type": "stream",
     "text": [
      "Top  -1  counts:  \n",
      " SC                                                    5882726\n",
      "TMCC                                                  3536459\n",
      "AHFC                                                  3029796\n",
      "NMAC                                                  1805919\n",
      "WORLD OMNI FINANCIAL CORP                             1536039\n",
      "HCA                                                   1090356\n",
      "BMW Bank of North America                              426891\n",
      "Fifth Third Bank                                       310976\n",
      "CBS                                                    297607\n",
      "Mechanics Bank                                         284360\n",
      "USAAFSB                                                227457\n",
      "VW Credit                                              207888\n",
      "Ford Credit                                            171831\n",
      "MBFS USA LLC                                           100589\n",
      "Name: originatorname, dtype: int64\n"
     ]
    }
   ],
   "source": [
    "# draw charts for originators name\n",
    "draw(df.originatorname, title='Originators Name', ylabel='Number of Loans', sort=True)"
   ]
  },
  {
   "cell_type": "markdown",
   "metadata": {},
   "source": [
    "### Create Features for Originators"
   ]
  },
  {
   "cell_type": "code",
   "execution_count": 46,
   "metadata": {
    "collapsed": true
   },
   "outputs": [],
   "source": [
    "df['originatorname']=df.originatorname.astype('category')"
   ]
  },
  {
   "cell_type": "code",
   "execution_count": 47,
   "metadata": {},
   "outputs": [
    {
     "name": "stdout",
     "output_type": "stream",
     "text": [
      "Added Column for :   originator_SC\n",
      "Added Column for :   originator_TMCC\n",
      "Added Column for :   originator_AHFC\n",
      "Added Column for :   originator_NMAC\n",
      "Added Column for :   originator_WORLD OMNI FINANCIAL CORP\n",
      "Added Column for :   originator_HCA\n",
      "Added Column for :   originator_BMW Bank of North America\n",
      "Added Column for :   originator_Fifth Third Bank\n",
      "Added Column for :   originator_CBS\n",
      "Added Column for :   originator_Mechanics Bank\n",
      "Added Column for :   originator_USAAFSB                                           \n",
      "Added Column for :   originator_VW Credit\n",
      "Added Column for :   originator_Ford Credit\n",
      "Added Column for :   originator_MBFS USA LLC                                      \n",
      "Added Column for :   originator_BMW Financial Services NA LLC\n",
      "New Dataframe shape :  (18909247, 78)\n"
     ]
    }
   ],
   "source": [
    "# create feature columns for categories within originator name \n",
    "def map_originatorname(*args):\n",
    "    columns = [col for col in args]\n",
    "    for column in columns:\n",
    "        if column == code:\n",
    "            return 1\n",
    "        else:\n",
    "            return 0\n",
    "codes = pd.value_counts(df.originatorname).index.tolist()\n",
    "\n",
    "for code in codes:\n",
    "        df['originator_{}'.format(code)] = list(map(map_originatorname, df.originatorname))\n",
    "        print('Added Column for :   originator_'+code)\n",
    "print('New Dataframe shape : ', df.shape)"
   ]
  },
  {
   "cell_type": "code",
   "execution_count": 48,
   "metadata": {},
   "outputs": [
    {
     "data": {
      "text/plain": [
       "(18909247, 77)"
      ]
     },
     "execution_count": 48,
     "metadata": {},
     "output_type": "execute_result"
    }
   ],
   "source": [
    "# drop originator name column\n",
    "df.drop(['originatorname'],axis=1, inplace=True)\n",
    "# new number of rows and columns\n",
    "df.shape"
   ]
  },
  {
   "cell_type": "markdown",
   "metadata": {},
   "source": [
    "### Original Loan Amount"
   ]
  },
  {
   "cell_type": "code",
   "execution_count": 49,
   "metadata": {},
   "outputs": [
    {
     "data": {
      "text/plain": [
       "reportingperiodendingdate\n",
       "2016-12-31    24338.764833\n",
       "2017-01-31    23130.747803\n",
       "2017-02-28    23371.975696\n",
       "2017-03-31    19392.967107\n",
       "2017-11-30    33782.069528\n",
       "2017-12-31    23356.855044\n",
       "2018-01-31    27952.585437\n",
       "2018-02-28    23977.500993\n",
       "2018-03-31    23782.480131\n",
       "2018-04-30    23927.268019\n",
       "2018-05-31    23825.206457\n",
       "2018-06-30    24252.522997\n",
       "2018-07-31    25729.183819\n",
       "2018-08-31    23324.530212\n",
       "2018-09-30    20759.268733\n",
       "Name: originalloanamount, dtype: float64"
      ]
     },
     "execution_count": 49,
     "metadata": {},
     "output_type": "execute_result"
    }
   ],
   "source": [
    "df.groupby(df.reportingperiodendingdate).originalloanamount.mean()\n"
   ]
  },
  {
   "cell_type": "code",
   "execution_count": 50,
   "metadata": {},
   "outputs": [
    {
     "data": {
      "image/png": "[encoded data removed]",
      "text/plain": [
       "<matplotlib.figure.Figure at 0x21a8cdd2780>"
      ]
     },
     "metadata": {},
     "output_type": "display_data"
    },
    {
     "name": "stdout",
     "output_type": "stream",
     "text": [
      "Top  -1  counts:  \n",
      " True    18027645\n",
      "Name: originalloanamount, dtype: int64\n"
     ]
    }
   ],
   "source": [
    "# draw chart for original loan amount as filered in the next variable(original_loan_in_excess) \n",
    "original_loan_in_excess = 10000\n",
    "draw(df.originalloanamount>original_loan_in_excess, title='Original Loan Amount', ylabel='Number of Loans', sort=True)"
   ]
  },
  {
   "cell_type": "code",
   "execution_count": 51,
   "metadata": {},
   "outputs": [
    {
     "data": {
      "image/png": "[encoded data removed]",
      "text/plain": [
       "<matplotlib.figure.Figure at 0x21ab1e80978>"
      ]
     },
     "metadata": {},
     "output_type": "display_data"
    }
   ],
   "source": [
    "#draw a chart to view distribution of original loan amount\n",
    "bins = np.linspace(0, 80000, 1000)\n",
    "plt.hist(df.originalloanamount, bins, label='Original Loan Amount')\n",
    "plt.legend(loc='upper right')\n",
    "plt.title(\"Original Amount Loaned\")\n",
    "plt.xlabel('Original Loan amount')\n",
    "plt.ylabel('Number of Loans')\n",
    "plt.show()"
   ]
  },
  {
   "cell_type": "code",
   "execution_count": 52,
   "metadata": {},
   "outputs": [
    {
     "data": {
      "text/plain": [
       "count    1.890925e+07\n",
       "mean     2.384596e+04\n",
       "std      1.015794e+04\n",
       "min      7.209300e+02\n",
       "25%      1.668617e+04\n",
       "50%      2.245584e+04\n",
       "75%      2.934815e+04\n",
       "max      2.432811e+05\n",
       "Name: originalloanamount, dtype: float64"
      ]
     },
     "execution_count": 52,
     "metadata": {},
     "output_type": "execute_result"
    }
   ],
   "source": [
    "# get statistics for original loan amount\n",
    "df.originalloanamount.describe()"
   ]
  },
  {
   "cell_type": "markdown",
   "metadata": {},
   "source": [
    "### Remove Original Loan Amount Below Zero"
   ]
  },
  {
   "cell_type": "code",
   "execution_count": 53,
   "metadata": {},
   "outputs": [
    {
     "name": "stdout",
     "output_type": "stream",
     "text": [
      "No original loan amount blank or below zero\n"
     ]
    },
    {
     "data": {
      "text/plain": [
       "(18909247, 77)"
      ]
     },
     "execution_count": 53,
     "metadata": {},
     "output_type": "execute_result"
    }
   ],
   "source": [
    "# To remove rows with zero, non-negative or blank values for original loan amount\n",
    "\n",
    "u=pd.value_counts(df.originalloanamount<=0)\n",
    "if len(u)<2:\n",
    "    print('No original loan amount blank or below zero')\n",
    "else: \n",
    "    print('Number of original loan amount rows blank or below zero',':', u[1])\n",
    "    print('Dropping ', u[1], 'rows and retaining loans with original loan amount more than zero')\n",
    "    df=df[df.originalloanamount>0]\n",
    "df.shape"
   ]
  },
  {
   "cell_type": "markdown",
   "metadata": {},
   "source": [
    "### Original Loan Term"
   ]
  },
  {
   "cell_type": "code",
   "execution_count": 54,
   "metadata": {},
   "outputs": [
    {
     "data": {
      "text/plain": [
       "reportingperiodendingdate\n",
       "2016-12-31    65.981788\n",
       "2017-01-31    66.029206\n",
       "2017-02-28    65.127003\n",
       "2017-03-31    66.135396\n",
       "2017-11-30    61.347819\n",
       "2017-12-31    66.506458\n",
       "2018-01-31    70.416080\n",
       "2018-02-28    66.403083\n",
       "2018-03-31    66.517867\n",
       "2018-04-30    66.545312\n",
       "2018-05-31    66.585709\n",
       "2018-06-30    66.843201\n",
       "2018-07-31    65.427173\n",
       "2018-08-31    67.616598\n",
       "2018-09-30    70.013053\n",
       "Name: originalloanterm, dtype: float64"
      ]
     },
     "execution_count": 54,
     "metadata": {},
     "output_type": "execute_result"
    }
   ],
   "source": [
    "df.groupby(df.reportingperiodendingdate).originalloanterm.mean()"
   ]
  },
  {
   "cell_type": "code",
   "execution_count": 55,
   "metadata": {},
   "outputs": [
    {
     "data": {
      "image/png": "[encoded data removed]",
      "text/plain": [
       "<matplotlib.figure.Figure at 0x21a8d66b4a8>"
      ]
     },
     "metadata": {},
     "output_type": "display_data"
    },
    {
     "name": "stdout",
     "output_type": "stream",
     "text": [
      "Top  -1  counts:  \n",
      " True    18121590\n",
      "Name: originalloanterm, dtype: int64\n"
     ]
    }
   ],
   "source": [
    "# draw chart for original loan term based on the input of variable below(original_loan_term_excess)\n",
    "original_loan_term_excess = 48\n",
    "draw(df.originalloanterm>original_loan_term_excess, title='Original Loan Terms', ylabel='Number of Loans',sort=True)"
   ]
  },
  {
   "cell_type": "code",
   "execution_count": 56,
   "metadata": {},
   "outputs": [
    {
     "data": {
      "image/png": "[encoded data removed]",
      "text/plain": [
       "<matplotlib.figure.Figure at 0x21a835e5f98>"
      ]
     },
     "metadata": {},
     "output_type": "display_data"
    }
   ],
   "source": [
    "#chart for the distribution of original loan term\n",
    "bins = np.linspace(0, 84, 12)\n",
    "plt.hist(df.originalloanterm, bins, label='Original Loan Term')\n",
    "plt.legend(loc='upper right')\n",
    "plt.title(\"Original Loan Term\")\n",
    "plt.xlabel('Number of Months')\n",
    "#plt.ylabel('Number of Loans')\n",
    "plt.show()"
   ]
  },
  {
   "cell_type": "code",
   "execution_count": 57,
   "metadata": {},
   "outputs": [
    {
     "data": {
      "text/plain": [
       "count    1.890925e+07\n",
       "mean     6.672788e+01\n",
       "std      8.459095e+00\n",
       "min      1.200000e+01\n",
       "25%      6.100000e+01\n",
       "50%      7.200000e+01\n",
       "75%      7.300000e+01\n",
       "max      8.600000e+01\n",
       "Name: originalloanterm, dtype: float64"
      ]
     },
     "execution_count": 57,
     "metadata": {},
     "output_type": "execute_result"
    }
   ],
   "source": [
    "#statistics for original loan term\n",
    "df.originalloanterm.describe()"
   ]
  },
  {
   "cell_type": "code",
   "execution_count": 58,
   "metadata": {},
   "outputs": [
    {
     "name": "stdout",
     "output_type": "stream",
     "text": [
      "No original loan term blank or below zero\n"
     ]
    },
    {
     "data": {
      "text/plain": [
       "(18909247, 77)"
      ]
     },
     "execution_count": 58,
     "metadata": {},
     "output_type": "execute_result"
    }
   ],
   "source": [
    "# remove rows with zero, blank or negative original loan term\n",
    "\n",
    "u=pd.value_counts(df.originalloanterm<=0)\n",
    "if len(u)<2:\n",
    "    print('No original loan term blank or below zero')\n",
    "else: \n",
    "    print('Number of original loan term rows blank or below zero',':', u[1])\n",
    "    print('Dropping ', u[1], 'rows and retaining loans with original loan term more than zero')\n",
    "    df=df[df.originalloanterm>0]\n",
    "# new number of rows and columns of the dataframe\n",
    "df.shape"
   ]
  },
  {
   "cell_type": "markdown",
   "metadata": {},
   "source": [
    "### Original interest rate percentage"
   ]
  },
  {
   "cell_type": "code",
   "execution_count": 59,
   "metadata": {},
   "outputs": [
    {
     "data": {
      "image/png": "[encoded data removed]",
      "text/plain": [
       "<matplotlib.figure.Figure at 0x21a8394eac8>"
      ]
     },
     "metadata": {},
     "output_type": "display_data"
    },
    {
     "name": "stdout",
     "output_type": "stream",
     "text": [
      "Top  -1  counts:  \n",
      " True    18637835\n",
      "Name: originalinterestratepercentage, dtype: int64\n"
     ]
    }
   ],
   "source": [
    "# draw a chart with a filter input as below (originalinterestratepercentage_excess)\n",
    "originalinterestratepercentage_excess = 2.0\n",
    "draw(df.originalinterestratepercentage<originalinterestratepercentage_excess, title='Original Interest Rate Percentage', ylabel='Number of Loans',sort=True)"
   ]
  },
  {
   "cell_type": "code",
   "execution_count": 60,
   "metadata": {
    "collapsed": true
   },
   "outputs": [],
   "source": [
    "# get statistics for originalinterestratepercentage\n",
    "#df.originalinterestratepercentage.describe()"
   ]
  },
  {
   "cell_type": "markdown",
   "metadata": {},
   "source": [
    "### Remove interest rates below zero"
   ]
  },
  {
   "cell_type": "code",
   "execution_count": 61,
   "metadata": {},
   "outputs": [
    {
     "name": "stdout",
     "output_type": "stream",
     "text": [
      "No original interest rate blank or below zero\n"
     ]
    },
    {
     "data": {
      "text/plain": [
       "(18909247, 77)"
      ]
     },
     "execution_count": 61,
     "metadata": {},
     "output_type": "execute_result"
    }
   ],
   "source": [
    "# drop rows with blank or negative original interest rate percentage and research on zero interest rate loans\n",
    "u=pd.value_counts(df.originalinterestratepercentage<0)\n",
    "if len(u)<2:\n",
    "    print('No original interest rate blank or below zero')\n",
    "else: \n",
    "    print('Number of original interest rate rows blank or below zero',':', u[1])\n",
    "    print('Dropping ', u[1], 'rows and retaining loans with original interest rate with non-negative values')\n",
    "    df=df[df.originalinterestratepercentage>=0]\n",
    "df.shape"
   ]
  },
  {
   "cell_type": "markdown",
   "metadata": {},
   "source": [
    "### Retain zero interest loans?"
   ]
  },
  {
   "cell_type": "code",
   "execution_count": 62,
   "metadata": {},
   "outputs": [
    {
     "name": "stdout",
     "output_type": "stream",
     "text": [
      "Number of zero original interest rate rows : 2522319\n"
     ]
    },
    {
     "data": {
      "text/plain": [
       "(18909247, 77)"
      ]
     },
     "execution_count": 62,
     "metadata": {},
     "output_type": "execute_result"
    }
   ],
   "source": [
    "# view zero original interest rate percentage loans\n",
    "u=pd.value_counts(df.originalinterestratepercentage==0)\n",
    "if len(u)<2:\n",
    "    print('No zero original interest rate percentage')\n",
    "else: \n",
    "    print('Number of zero original interest rate rows',':', u[1])\n",
    "    #print('Dropping ', u[1], 'rows and retaining loans with original interest rate with non-negative values')\n",
    "    #df=df[df.originalinterestratepercentage>=0]\n",
    "df.shape"
   ]
  },
  {
   "cell_type": "markdown",
   "metadata": {},
   "source": [
    "### Underwriting Indicator"
   ]
  },
  {
   "cell_type": "markdown",
   "metadata": {},
   "source": [
    "Indicate whether the loan met the criteria for the first level of solicitation, credit-granting or underwriting criteria used to originate the loan."
   ]
  },
  {
   "cell_type": "code",
   "execution_count": 63,
   "metadata": {},
   "outputs": [
    {
     "data": {
      "text/plain": [
       "array([ True, False], dtype=bool)"
      ]
     },
     "execution_count": 63,
     "metadata": {},
     "output_type": "execute_result"
    }
   ],
   "source": [
    "df.underwritingindicator.unique()"
   ]
  },
  {
   "cell_type": "code",
   "execution_count": 64,
   "metadata": {
    "collapsed": true
   },
   "outputs": [],
   "source": [
    "df['underwritingindicator']=df.underwritingindicator.astype('category')"
   ]
  },
  {
   "cell_type": "code",
   "execution_count": 65,
   "metadata": {},
   "outputs": [
    {
     "data": {
      "image/png": "[encoded data removed]",
      "text/plain": [
       "<matplotlib.figure.Figure at 0x21a84f00278>"
      ]
     },
     "metadata": {},
     "output_type": "display_data"
    },
    {
     "name": "stdout",
     "output_type": "stream",
     "text": [
      "Top  -1  counts:  \n",
      " True    14148027\n",
      "Name: underwritingindicator, dtype: int64\n"
     ]
    }
   ],
   "source": [
    "draw(df.underwritingindicator, title='Underwriting Indicator', ylabel='Number of Loans', sort=True)"
   ]
  },
  {
   "cell_type": "markdown",
   "metadata": {},
   "source": [
    "### Create Feature Column Underwriting"
   ]
  },
  {
   "cell_type": "code",
   "execution_count": 66,
   "metadata": {},
   "outputs": [
    {
     "data": {
      "text/plain": [
       "1    14148027\n",
       "0     4761220\n",
       "Name: underwriting_true, dtype: int64"
      ]
     },
     "execution_count": 66,
     "metadata": {},
     "output_type": "execute_result"
    }
   ],
   "source": [
    "def map_underwriting_true(*args):\n",
    "    columns = [col for col in args]\n",
    "    for column in columns:\n",
    "        if column == True:\n",
    "            return 1\n",
    "        elif column == False:\n",
    "            return 0\n",
    "        \n",
    "df['underwriting_true'] = list(map(map_underwriting_true, df.underwritingindicator))\n",
    "df.drop(['underwritingindicator'], axis=1, inplace=True)\n",
    "pd.value_counts(df.underwriting_true)"
   ]
  },
  {
   "cell_type": "markdown",
   "metadata": {},
   "source": [
    "### Subvented"
   ]
  },
  {
   "cell_type": "markdown",
   "metadata": {},
   "source": [
    "Indicate yes or no as to whether a form of subsidy is received on the loan, such as cash incentives or favorable financing for the buyer. 0: No, 1: Yes - Rate Subvention, 2: Yes - Cash Rebate, 98: Yes - Other"
   ]
  },
  {
   "cell_type": "code",
   "execution_count": 67,
   "metadata": {},
   "outputs": [
    {
     "data": {
      "text/plain": [
       "array(['[\"98\"]', '[\"2\"]', '[\"1\"]', '[\"0\"]', '[\"1\",\"2\"]', '[\"1\",\"98\"]',\n",
       "       '[\"1\",\" 2\"]', '[\"1\",\" 98\"]'], dtype=object)"
      ]
     },
     "execution_count": 67,
     "metadata": {},
     "output_type": "execute_result"
    }
   ],
   "source": [
    "df.subvented.unique()"
   ]
  },
  {
   "cell_type": "code",
   "execution_count": 68,
   "metadata": {
    "collapsed": true
   },
   "outputs": [],
   "source": [
    "df['subvented']=df.subvented.astype('category')"
   ]
  },
  {
   "cell_type": "code",
   "execution_count": 69,
   "metadata": {},
   "outputs": [
    {
     "data": {
      "image/png": "[encoded data removed]",
      "text/plain": [
       "<matplotlib.figure.Figure at 0x21a807d9278>"
      ]
     },
     "metadata": {},
     "output_type": "display_data"
    },
    {
     "name": "stdout",
     "output_type": "stream",
     "text": [
      "Top  -1  counts:  \n",
      " [\"0\"]         10025739\n",
      "[\"1\"]          5688505\n",
      "[\"1\",\"2\"]      1802400\n",
      "[\"2\"]          1306695\n",
      "[\"98\"]           82966\n",
      "[\"1\",\" 2\"]        2595\n",
      "[\"1\",\"98\"]         238\n",
      "Name: subvented, dtype: int64\n"
     ]
    }
   ],
   "source": [
    "draw(df.subvented, title='Subvented', ylabel='Number of Loans', sort=True)"
   ]
  },
  {
   "cell_type": "code",
   "execution_count": 70,
   "metadata": {},
   "outputs": [
    {
     "data": {
      "text/plain": [
       "count     18909247\n",
       "unique           8\n",
       "top          [\"0\"]\n",
       "freq      10025739\n",
       "Name: subvented, dtype: object"
      ]
     },
     "execution_count": 70,
     "metadata": {},
     "output_type": "execute_result"
    }
   ],
   "source": [
    "df.subvented.describe(include='all')"
   ]
  },
  {
   "cell_type": "markdown",
   "metadata": {},
   "source": [
    "### Create Feature Column for Subvented"
   ]
  },
  {
   "cell_type": "code",
   "execution_count": 71,
   "metadata": {},
   "outputs": [
    {
     "name": "stdout",
     "output_type": "stream",
     "text": [
      "Added Column for :   subvented_[\"0\"]\n",
      "Added Column for :   subvented_[\"1\"]\n",
      "Added Column for :   subvented_[\"1\",\"2\"]\n",
      "Added Column for :   subvented_[\"2\"]\n",
      "Added Column for :   subvented_[\"98\"]\n",
      "Added Column for :   subvented_[\"1\",\" 2\"]\n",
      "Added Column for :   subvented_[\"1\",\"98\"]\n",
      "Added Column for :   subvented_[\"1\",\" 98\"]\n",
      "New Dataframe shape :  (18909247, 85)\n"
     ]
    }
   ],
   "source": [
    "# create feature columns for subvented\n",
    "def map_subvented(*args):\n",
    "    columns = [col for col in args]\n",
    "    for column in columns:\n",
    "        if column == code:\n",
    "            return 1\n",
    "        else:\n",
    "            return 0\n",
    "codes = pd.value_counts(df.subvented).index.tolist()\n",
    "\n",
    "for code in codes:\n",
    "        df['subvented_{}'.format(code)] = list(map(map_subvented, df.subvented))\n",
    "        print('Added Column for :   subvented_'+code)\n",
    "print('New Dataframe shape : ', df.shape)\n",
    "df.drop(['subvented'], axis=1, inplace=True)"
   ]
  },
  {
   "cell_type": "markdown",
   "metadata": {},
   "source": [
    "### Vehicle New or Used code"
   ]
  },
  {
   "cell_type": "markdown",
   "metadata": {},
   "source": [
    "Indicate whether the vehicle financed is new or used at the time of origination. 1: New, 2: Used"
   ]
  },
  {
   "cell_type": "code",
   "execution_count": 72,
   "metadata": {},
   "outputs": [
    {
     "data": {
      "text/plain": [
       "array([1, 2], dtype=int64)"
      ]
     },
     "execution_count": 72,
     "metadata": {},
     "output_type": "execute_result"
    }
   ],
   "source": [
    "df.vehiclenewusedcode.unique()"
   ]
  },
  {
   "cell_type": "code",
   "execution_count": 73,
   "metadata": {
    "collapsed": true
   },
   "outputs": [],
   "source": [
    "df['vehiclenewusedcode']=df.vehiclenewusedcode.astype('category')"
   ]
  },
  {
   "cell_type": "markdown",
   "metadata": {},
   "source": [
    "draw(df.vehiclenewusedcode, title='Vehicle New or Used code', ylabel='Number of Loans', sort=True)"
   ]
  },
  {
   "cell_type": "markdown",
   "metadata": {},
   "source": [
    "### Create Feature Column for New or Used"
   ]
  },
  {
   "cell_type": "code",
   "execution_count": 75,
   "metadata": {},
   "outputs": [
    {
     "data": {
      "text/plain": [
       "1    11952787\n",
       "0     6956460\n",
       "Name: vehiclenew_true, dtype: int64"
      ]
     },
     "execution_count": 75,
     "metadata": {},
     "output_type": "execute_result"
    }
   ],
   "source": [
    "def map_vehiclenewusedcode_true(*args):\n",
    "    columns = [col for col in args]\n",
    "    for column in columns:\n",
    "        if column == 1:\n",
    "            return 1\n",
    "        else:\n",
    "            return 0\n",
    "        \n",
    "df['vehiclenew_true'] = list(map(map_vehiclenewusedcode_true, df.vehiclenewusedcode))\n",
    "print('Added Column for :   vehiclenew_true')\n",
    "df.drop(['vehiclenewusedcode'], axis=1, inplace=True)\n",
    "pd.value_counts(df.vehiclenew_true)"
   ]
  },
  {
   "cell_type": "markdown",
   "metadata": {},
   "source": [
    "### Vehicle Type code ---relevancy for machine learning ?"
   ]
  },
  {
   "cell_type": "markdown",
   "metadata": {},
   "source": [
    "Indicate the code describing the vehicle type. 1: Car, 2:\n",
    "Truck, 3: SUV, 4: Motorcycle, 98: Other, 99: Unknown"
   ]
  },
  {
   "cell_type": "code",
   "execution_count": 76,
   "metadata": {},
   "outputs": [
    {
     "data": {
      "text/plain": [
       "array([ 3,  1,  4,  2, 99, 98], dtype=int64)"
      ]
     },
     "execution_count": 76,
     "metadata": {},
     "output_type": "execute_result"
    }
   ],
   "source": [
    "df.vehicletypecode.unique()"
   ]
  },
  {
   "cell_type": "code",
   "execution_count": 77,
   "metadata": {
    "collapsed": true
   },
   "outputs": [],
   "source": [
    "#df['vehicletypecode']=df.vehicletypecode.astype('category')"
   ]
  },
  {
   "cell_type": "code",
   "execution_count": 78,
   "metadata": {},
   "outputs": [
    {
     "data": {
      "image/png": "[encoded data removed]",
      "text/plain": [
       "<matplotlib.figure.Figure at 0x21a81acf630>"
      ]
     },
     "metadata": {},
     "output_type": "display_data"
    },
    {
     "name": "stdout",
     "output_type": "stream",
     "text": [
      "Top  -1  counts:  \n",
      " 1     9995541\n",
      "3     5869699\n",
      "2     2123877\n",
      "98     884459\n",
      "4       31419\n",
      "Name: vehicletypecode, dtype: int64\n"
     ]
    }
   ],
   "source": [
    "draw(df.vehicletypecode, title='Vehicle Type Code', ylabel='Number of Loans', sort=True)"
   ]
  },
  {
   "cell_type": "code",
   "execution_count": 79,
   "metadata": {},
   "outputs": [
    {
     "data": {
      "text/plain": [
       "count     18909247\n",
       "unique           6\n",
       "top              1\n",
       "freq       9995541\n",
       "Name: vehicletypecode, dtype: int64"
      ]
     },
     "execution_count": 79,
     "metadata": {},
     "output_type": "execute_result"
    }
   ],
   "source": [
    "df.vehicletypecode.describe()"
   ]
  },
  {
   "cell_type": "code",
   "execution_count": 80,
   "metadata": {},
   "outputs": [
    {
     "data": {
      "text/plain": [
       "(18909247, 83)"
      ]
     },
     "execution_count": 80,
     "metadata": {},
     "output_type": "execute_result"
    }
   ],
   "source": [
    "df.drop(['vehicletypecode'],axis=1, inplace=True)\n",
    "df.shape"
   ]
  },
  {
   "cell_type": "markdown",
   "metadata": {},
   "source": [
    "### Obligor Credit Score Type"
   ]
  },
  {
   "cell_type": "markdown",
   "metadata": {},
   "source": [
    "Specify the type of the standardized credit score used to\n",
    "evaluate the obligor during the loan origination process"
   ]
  },
  {
   "cell_type": "code",
   "execution_count": 81,
   "metadata": {},
   "outputs": [
    {
     "data": {
      "text/plain": [
       "array(['FICO', 'Bureau', 'FICO Score 2 Auto', 'FICO Score 8 Auto',\n",
       "       'Credit Bureau', 'Consumer Bureau', 'Commercial Bureau',\n",
       "       'Consumer Credit Bureau', 'Unknown/Invalid', 'CREDIT BUREAU'], dtype=object)"
      ]
     },
     "execution_count": 81,
     "metadata": {},
     "output_type": "execute_result"
    }
   ],
   "source": [
    "df.obligorcreditscoretype.unique()"
   ]
  },
  {
   "cell_type": "code",
   "execution_count": 82,
   "metadata": {
    "collapsed": true
   },
   "outputs": [],
   "source": [
    "df['obligorcreditscoretype']=df.obligorcreditscoretype.astype('category')"
   ]
  },
  {
   "cell_type": "markdown",
   "metadata": {},
   "source": [
    "draw(df.obligorcreditscoretype, title='Obligor Credit Score Type', ylabel='Number of Loans', sort=True)"
   ]
  },
  {
   "cell_type": "code",
   "execution_count": 84,
   "metadata": {},
   "outputs": [
    {
     "data": {
      "text/plain": [
       "count     18909247\n",
       "unique          10\n",
       "top         Bureau\n",
       "freq       6180333\n",
       "Name: obligorcreditscoretype, dtype: object"
      ]
     },
     "execution_count": 84,
     "metadata": {},
     "output_type": "execute_result"
    }
   ],
   "source": [
    "df.obligorcreditscoretype.describe()"
   ]
  },
  {
   "cell_type": "code",
   "execution_count": 85,
   "metadata": {},
   "outputs": [
    {
     "data": {
      "text/plain": [
       "False    18909247\n",
       "Name: obligorcreditscoretype, dtype: int64"
      ]
     },
     "execution_count": 85,
     "metadata": {},
     "output_type": "execute_result"
    }
   ],
   "source": [
    "pd.value_counts(df.obligorcreditscoretype==0)"
   ]
  },
  {
   "cell_type": "markdown",
   "metadata": {},
   "source": [
    "### Create features for obligator credit score type"
   ]
  },
  {
   "cell_type": "code",
   "execution_count": 86,
   "metadata": {
    "collapsed": true
   },
   "outputs": [],
   "source": [
    "def map_obligorcreditscoretype(*args):\n",
    "    columns = [col for col in args]\n",
    "    for column in columns:\n",
    "        if column == code:\n",
    "            return 1\n",
    "        else:\n",
    "            return 0\n",
    "codes = pd.value_counts(df.obligorcreditscoretype).index.tolist()\n",
    "\n",
    "for code in codes:\n",
    "        df['credit_type_{}'.format(code)] = list(map(map_obligorcreditscoretype, df.obligorcreditscoretype))\n",
    "        print('Added Column for :   credit_type_'+code)\n",
    "df.drop(['obligorcreditscoretype'], axis=1, inplace=True)\n",
    "df.shape       "
   ]
  },
  {
   "cell_type": "markdown",
   "metadata": {},
   "source": [
    "### Obligor Credit Score"
   ]
  },
  {
   "cell_type": "markdown",
   "metadata": {},
   "source": [
    "Provide the standardized credit score of the obligor used to\n",
    "evaluate the obligor during the loan origination process"
   ]
  },
  {
   "cell_type": "code",
   "execution_count": 88,
   "metadata": {
    "collapsed": true
   },
   "outputs": [],
   "source": [
    "#df.obligorcreditscore.isnull().values.any()"
   ]
  },
  {
   "cell_type": "code",
   "execution_count": 89,
   "metadata": {
    "collapsed": true
   },
   "outputs": [],
   "source": [
    "#df.obligorcreditscore.value_counts(dropna=False).sort_values(ascending=False).head()"
   ]
  },
  {
   "cell_type": "code",
   "execution_count": 90,
   "metadata": {
    "collapsed": true
   },
   "outputs": [],
   "source": [
    "#df.obligorcreditscore.value_counts('NaN').head()"
   ]
  },
  {
   "cell_type": "code",
   "execution_count": 91,
   "metadata": {},
   "outputs": [
    {
     "data": {
      "image/png": "[encoded data removed]",
      "text/plain": [
       "<matplotlib.figure.Figure at 0x21a808cb2b0>"
      ]
     },
     "metadata": {},
     "output_type": "display_data"
    },
    {
     "name": "stdout",
     "output_type": "stream",
     "text": [
      "Top  10  counts:  \n",
      " 817    80756\n",
      "825    80495\n",
      "827    79184\n",
      "703    78787\n",
      "729    78301\n",
      "722    77459\n",
      "795    77319\n",
      "805    77081\n",
      "810    76283\n",
      "815    75127\n",
      "Name: obligorcreditscore, dtype: int64\n"
     ]
    }
   ],
   "source": [
    "draw(df.obligorcreditscore, title='Obligor Credit Score', ylabel='Number of Loans', sort=True, n=10)"
   ]
  },
  {
   "cell_type": "code",
   "execution_count": 92,
   "metadata": {},
   "outputs": [
    {
     "data": {
      "text/plain": [
       "count     18092096\n",
       "unique        1083\n",
       "top            817\n",
       "freq         80756\n",
       "Name: obligorcreditscore, dtype: object"
      ]
     },
     "execution_count": 92,
     "metadata": {},
     "output_type": "execute_result"
    }
   ],
   "source": [
    "df.obligorcreditscore.describe()"
   ]
  },
  {
   "cell_type": "markdown",
   "metadata": {},
   "source": [
    "### Remove and Drop rows of Obligor Credit Score with strings('no score', 'none', 'Nan')"
   ]
  },
  {
   "cell_type": "code",
   "execution_count": 93,
   "metadata": {},
   "outputs": [
    {
     "name": "stderr",
     "output_type": "stream",
     "text": [
      "C:\\Progra~1\\Anaconda3_4\\lib\\site-packages\\ipykernel\\__main__.py:2: UserWarning: This pattern has match groups. To actually get the groups, use str.extract.\n",
      "  from ipykernel import kernelapp as app\n"
     ]
    },
    {
     "name": "stdout",
     "output_type": "stream",
     "text": [
      "Number of Strings in the Columns :  "
     ]
    },
    {
     "name": "stderr",
     "output_type": "stream",
     "text": [
      "C:\\Progra~1\\Anaconda3_4\\lib\\site-packages\\ipykernel\\__main__.py:5: UserWarning: This pattern has match groups. To actually get the groups, use str.extract.\n"
     ]
    },
    {
     "name": "stdout",
     "output_type": "stream",
     "text": [
      "829327\n",
      "Strings in data :  [nan 'No Score' 'NONE']\n"
     ]
    },
    {
     "name": "stderr",
     "output_type": "stream",
     "text": [
      "C:\\Progra~1\\Anaconda3_4\\lib\\site-packages\\ipykernel\\__main__.py:7: UserWarning: This pattern has match groups. To actually get the groups, use str.extract.\n"
     ]
    }
   ],
   "source": [
    "#search for strings in the columns\n",
    "q=df.obligorcreditscore.astype(str).str.contains(r'^([^0-9]*)$', na=False).sum()\n",
    "print('Number of Strings in the Columns : ', q)\n",
    "if q > 0:\n",
    "    u=df[df.obligorcreditscore.astype(str).str.contains(r'^([^0-9]*)$', na=False)].obligorcreditscore.unique()\n",
    "    print('Strings in data : ', u)\n",
    "    df=df[~df.obligorcreditscore.astype(str).str.contains(r'^([^0-9]*)$', na=False)]\n",
    "else:\n",
    "    print('No strings in the Obligor Credit Score')\n",
    "    \n"
   ]
  },
  {
   "cell_type": "code",
   "execution_count": 94,
   "metadata": {},
   "outputs": [
    {
     "name": "stderr",
     "output_type": "stream",
     "text": [
      "C:\\Progra~1\\Anaconda3_4\\lib\\site-packages\\ipykernel\\__main__.py:2: UserWarning: This pattern has match groups. To actually get the groups, use str.extract.\n",
      "  from ipykernel import kernelapp as app\n"
     ]
    },
    {
     "data": {
      "text/plain": [
       "0"
      ]
     },
     "execution_count": 94,
     "metadata": {},
     "output_type": "execute_result"
    }
   ],
   "source": [
    "#Number of blanks in the column\n",
    "df.obligorcreditscore.astype(str).str.contains(r'^(\\s+)$').sum()"
   ]
  },
  {
   "cell_type": "code",
   "execution_count": 95,
   "metadata": {
    "collapsed": true
   },
   "outputs": [],
   "source": [
    "#pd.crosstab(df.reportingperiodendingdate, df.obligorcreditscore)"
   ]
  },
  {
   "cell_type": "code",
   "execution_count": 96,
   "metadata": {
    "collapsed": true
   },
   "outputs": [],
   "source": [
    "\n",
    "#df=df[~df.obligorcreditscore.str.contains(r'^([^0-9]*)$', na=False)]"
   ]
  },
  {
   "cell_type": "code",
   "execution_count": 97,
   "metadata": {},
   "outputs": [
    {
     "data": {
      "text/plain": [
       "cik                                                                     0\n",
       "assetnumber                                                             0\n",
       "reportingperiodbeginningdate                                            0\n",
       "reportingperiodendingdate                                               0\n",
       "originationdate                                                         0\n",
       "originalloanamount                                                      0\n",
       "originalloanterm                                                        0\n",
       "originalinterestratepercentage                                          0\n",
       "originalfirstpaymentdate                                                0\n",
       "graceperiodnumber                                                       0\n",
       "obligorcreditscore                                                      0\n",
       "obligorincomeverificationlevelcode                                  22913\n",
       "obligoremploymentverificationcode                                   22913\n",
       "coobligorindicator                                                      0\n",
       "paymenttoincomepercentage                                           60299\n",
       "assetaddedindicator                                               5065575\n",
       "reportingperiodmodificationindicator                               140259\n",
       "servicingadvancemethodcode                                              0\n",
       "reportingperiodbeginningloanbalanceamount                           21539\n",
       "nextreportingperiodpaymentamountdue                                217716\n",
       "reportingperiodinterestratepercentage                              132296\n",
       "nextinterestratepercentage                                         220743\n",
       "servicingfeepercentage                                              53156\n",
       "servicingflatfeeamount                                           17368316\n",
       "otherservicerfeeretainedbyservicer                               17368316\n",
       "otherassesseduncollectedservicerfeeamount                            2915\n",
       "scheduledinterestamount                                            142204\n",
       "scheduledprincipalamount                                           142204\n",
       "otherprincipaladjustmentamount                                       2137\n",
       "reportingperiodactualendbalanceamount                                   0\n",
       "                                                                   ...   \n",
       "originator_HCA                                                          0\n",
       "originator_BMW Bank of North America                                    0\n",
       "originator_Fifth Third Bank                                             0\n",
       "originator_CBS                                                          0\n",
       "originator_Mechanics Bank                                               0\n",
       "originator_USAAFSB                                                      0\n",
       "originator_VW Credit                                                    0\n",
       "originator_Ford Credit                                                  0\n",
       "originator_MBFS USA LLC                                                 0\n",
       "originator_BMW Financial Services NA LLC                                0\n",
       "underwriting_true                                                       0\n",
       "subvented_[\"0\"]                                                         0\n",
       "subvented_[\"1\"]                                                         0\n",
       "subvented_[\"1\",\"2\"]                                                     0\n",
       "subvented_[\"2\"]                                                         0\n",
       "subvented_[\"98\"]                                                        0\n",
       "subvented_[\"1\",\" 2\"]                                                    0\n",
       "subvented_[\"1\",\"98\"]                                                    0\n",
       "subvented_[\"1\",\" 98\"]                                                   0\n",
       "vehiclenew_true                                                         0\n",
       "credit_type_Bureau                                                      0\n",
       "credit_type_Credit Bureau                                               0\n",
       "credit_type_FICO                                                        0\n",
       "credit_type_FICO Score 8 Auto                                           0\n",
       "credit_type_FICO Score 2 Auto                                           0\n",
       "credit_type_CREDIT BUREAU                                               0\n",
       "credit_type_Consumer Credit Bureau                                      0\n",
       "credit_type_Consumer Bureau                                             0\n",
       "credit_type_Commercial Bureau                                           0\n",
       "credit_type_Unknown/Invalid                                             0\n",
       "Length: 92, dtype: int64"
      ]
     },
     "execution_count": 97,
     "metadata": {},
     "output_type": "execute_result"
    }
   ],
   "source": [
    "#df.isnull().sum()"
   ]
  },
  {
   "cell_type": "code",
   "execution_count": 98,
   "metadata": {
    "collapsed": true
   },
   "outputs": [],
   "source": [
    "#df.obligorcreditscore.isnull().value_counts()"
   ]
  },
  {
   "cell_type": "code",
   "execution_count": 99,
   "metadata": {
    "collapsed": true
   },
   "outputs": [],
   "source": [
    "#df[df.obligorcreditscore.isnull()]"
   ]
  },
  {
   "cell_type": "code",
   "execution_count": 100,
   "metadata": {
    "collapsed": true
   },
   "outputs": [],
   "source": [
    "df=df.dropna(subset=['obligorcreditscore'])"
   ]
  },
  {
   "cell_type": "code",
   "execution_count": 101,
   "metadata": {},
   "outputs": [
    {
     "data": {
      "text/plain": [
       "817    80756\n",
       "825    80495\n",
       "827    79184\n",
       "703    78787\n",
       "729    78301\n",
       "Name: obligorcreditscore, dtype: int64"
      ]
     },
     "execution_count": 101,
     "metadata": {},
     "output_type": "execute_result"
    }
   ],
   "source": [
    "df.obligorcreditscore.value_counts(dropna=False).sort_values(ascending=False).head()"
   ]
  },
  {
   "cell_type": "code",
   "execution_count": 102,
   "metadata": {},
   "outputs": [
    {
     "data": {
      "text/plain": [
       "False"
      ]
     },
     "execution_count": 102,
     "metadata": {},
     "output_type": "execute_result"
    }
   ],
   "source": [
    "df.obligorcreditscore.isnull().values.any()"
   ]
  },
  {
   "cell_type": "code",
   "execution_count": 103,
   "metadata": {},
   "outputs": [
    {
     "data": {
      "text/plain": [
       "cik                                                                int64\n",
       "assetnumber                                                       object\n",
       "reportingperiodbeginningdate                                      object\n",
       "reportingperiodendingdate                                         object\n",
       "originationdate                                                   object\n",
       "originalloanamount                                               float64\n",
       "originalloanterm                                                   int64\n",
       "originalinterestratepercentage                                   float64\n",
       "originalfirstpaymentdate                                          object\n",
       "graceperiodnumber                                                  int64\n",
       "obligorcreditscore                                                object\n",
       "obligorincomeverificationlevelcode                               float64\n",
       "obligoremploymentverificationcode                                float64\n",
       "coobligorindicator                                                  bool\n",
       "paymenttoincomepercentage                                        float64\n",
       "assetaddedindicator                                               object\n",
       "reportingperiodmodificationindicator                              object\n",
       "servicingadvancemethodcode                                       float64\n",
       "reportingperiodbeginningloanbalanceamount                        float64\n",
       "nextreportingperiodpaymentamountdue                              float64\n",
       "reportingperiodinterestratepercentage                            float64\n",
       "nextinterestratepercentage                                       float64\n",
       "servicingfeepercentage                                           float64\n",
       "servicingflatfeeamount                                           float64\n",
       "otherservicerfeeretainedbyservicer                               float64\n",
       "otherassesseduncollectedservicerfeeamount                        float64\n",
       "scheduledinterestamount                                          float64\n",
       "scheduledprincipalamount                                         float64\n",
       "otherprincipaladjustmentamount                                   float64\n",
       "reportingperiodactualendbalanceamount                            float64\n",
       "                                                                  ...   \n",
       "originator_HCA                                                     int64\n",
       "originator_BMW Bank of North America                               int64\n",
       "originator_Fifth Third Bank                                        int64\n",
       "originator_CBS                                                     int64\n",
       "originator_Mechanics Bank                                          int64\n",
       "originator_USAAFSB                                                 int64\n",
       "originator_VW Credit                                               int64\n",
       "originator_Ford Credit                                             int64\n",
       "originator_MBFS USA LLC                                            int64\n",
       "originator_BMW Financial Services NA LLC                           int64\n",
       "underwriting_true                                                  int64\n",
       "subvented_[\"0\"]                                                    int64\n",
       "subvented_[\"1\"]                                                    int64\n",
       "subvented_[\"1\",\"2\"]                                                int64\n",
       "subvented_[\"2\"]                                                    int64\n",
       "subvented_[\"98\"]                                                   int64\n",
       "subvented_[\"1\",\" 2\"]                                               int64\n",
       "subvented_[\"1\",\"98\"]                                               int64\n",
       "subvented_[\"1\",\" 98\"]                                              int64\n",
       "vehiclenew_true                                                    int64\n",
       "credit_type_Bureau                                                 int64\n",
       "credit_type_Credit Bureau                                          int64\n",
       "credit_type_FICO                                                   int64\n",
       "credit_type_FICO Score 8 Auto                                      int64\n",
       "credit_type_FICO Score 2 Auto                                      int64\n",
       "credit_type_CREDIT BUREAU                                          int64\n",
       "credit_type_Consumer Credit Bureau                                 int64\n",
       "credit_type_Consumer Bureau                                        int64\n",
       "credit_type_Commercial Bureau                                      int64\n",
       "credit_type_Unknown/Invalid                                        int64\n",
       "Length: 92, dtype: object"
      ]
     },
     "execution_count": 103,
     "metadata": {},
     "output_type": "execute_result"
    }
   ],
   "source": [
    "#df.dtypes"
   ]
  },
  {
   "cell_type": "markdown",
   "metadata": {},
   "source": [
    "### Obligor Income Verification Level Code"
   ]
  },
  {
   "cell_type": "markdown",
   "metadata": {},
   "source": [
    "Indicate the code describing the extent to which the\n",
    "obligor's income was verified during the loan origination\n",
    "process. 1: Not stated, not verified, 2: Stated, not verified,\n",
    "3: Stated, verified but not to level 4 or level 5., 4: Stated,\n",
    "\"level 4\" verifiedLevel 4 income verification = Previous year\n",
    "W-2 or tax returns, and year-to-date pay stubs, if salaried. If\n",
    "self-employed, then obligor provided 2 years of tax returns.,\n",
    "5: Stated, \"level 5\" verifiedLevel 5 income verification = 24\n",
    "months income verification (W-2s, pay stubs, bank\n",
    "statements and/or tax returns). If self-employed, then\n",
    "obligor provided 2 years tax returns plus a CPA certification\n",
    "of the tax returns."
   ]
  },
  {
   "cell_type": "code",
   "execution_count": 104,
   "metadata": {
    "collapsed": true
   },
   "outputs": [],
   "source": [
    "df['obligorincomeverificationlevelcode']=df.obligorincomeverificationlevelcode.astype('category')"
   ]
  },
  {
   "cell_type": "code",
   "execution_count": 105,
   "metadata": {},
   "outputs": [
    {
     "data": {
      "image/png": "[encoded data removed]",
      "text/plain": [
       "<matplotlib.figure.Figure at 0x21ab9464048>"
      ]
     },
     "metadata": {},
     "output_type": "display_data"
    },
    {
     "name": "stdout",
     "output_type": "stream",
     "text": [
      "Top  -1  counts:  \n",
      " 2.0    17203786\n",
      "3.0      806914\n",
      "1.0       46176\n",
      "4.0         110\n",
      "Name: obligorincomeverificationlevelcode, dtype: int64\n"
     ]
    }
   ],
   "source": [
    "draw(df.obligorincomeverificationlevelcode, title='Obligor Credit Score', ylabel='Number of Loans', sort=True)"
   ]
  },
  {
   "cell_type": "code",
   "execution_count": 106,
   "metadata": {},
   "outputs": [
    {
     "data": {
      "text/plain": [
       "count     18057007.0\n",
       "unique           5.0\n",
       "top              2.0\n",
       "freq      17203786.0\n",
       "Name: obligorincomeverificationlevelcode, dtype: float64"
      ]
     },
     "execution_count": 106,
     "metadata": {},
     "output_type": "execute_result"
    }
   ],
   "source": [
    "df.obligorincomeverificationlevelcode.describe()"
   ]
  },
  {
   "cell_type": "code",
   "execution_count": 107,
   "metadata": {},
   "outputs": [
    {
     "data": {
      "text/plain": [
       "2.0    17203786\n",
       "3.0      806914\n",
       "1.0       46176\n",
       "4.0         110\n",
       "5.0          21\n",
       "Name: obligorincomeverificationlevelcode, dtype: int64"
      ]
     },
     "execution_count": 107,
     "metadata": {},
     "output_type": "execute_result"
    }
   ],
   "source": [
    "pd.value_counts(df.obligorincomeverificationlevelcode)"
   ]
  },
  {
   "cell_type": "code",
   "execution_count": 108,
   "metadata": {},
   "outputs": [
    {
     "name": "stdout",
     "output_type": "stream",
     "text": [
      "No blank or zero obligor income verification level code\n"
     ]
    },
    {
     "data": {
      "text/plain": [
       "(18079920, 92)"
      ]
     },
     "execution_count": 108,
     "metadata": {},
     "output_type": "execute_result"
    }
   ],
   "source": [
    "u=pd.value_counts(df.obligorincomeverificationlevelcode==0)\n",
    "if len(u)<2:\n",
    "    print('No blank or zero obligor income verification level code')\n",
    "else: \n",
    "    print('Number of loans with no obligor income verification level code',':', u[1])\n",
    "    print('Dropping ', u[1], 'rows and retaining loans with obligor income verification level code')\n",
    "    df=df[df.obligorincomeverificationlevelcode>0]\n",
    "df.shape"
   ]
  },
  {
   "cell_type": "markdown",
   "metadata": {},
   "source": [
    "### Create Feature Columns for Obligor Income Verification Code"
   ]
  },
  {
   "cell_type": "code",
   "execution_count": 109,
   "metadata": {
    "collapsed": true
   },
   "outputs": [],
   "source": [
    "def map_obligorincomeverificationlevelcode(*args):\n",
    "    columns = [col for col in args]\n",
    "    for column in columns:\n",
    "        if column == code:\n",
    "            return 1\n",
    "        else:\n",
    "            return 0\n",
    "codes = pd.value_counts(df.obligorincomeverificationlevelcode).index.tolist()\n",
    "\n",
    "for code in codes:\n",
    "        df['income_code_{}'.format(code)] = list(map(map_obligorincomeverificationlevelcode, df.obligorincomeverificationlevelcode))\n",
    "        print('Added Column for :   income_code_'+code)\n",
    "df.drop(['obligorincomeverificationlevelcode'], axis=1, inplace=True)\n",
    "df.shape()"
   ]
  },
  {
   "cell_type": "markdown",
   "metadata": {},
   "source": [
    "### Obligor Employment Verification Code"
   ]
  },
  {
   "cell_type": "markdown",
   "metadata": {},
   "source": [
    "Indicate the code describing the extent to which the\n",
    "obligor's employment was verified during the loan\n",
    "origination process. 1: Not stated, not verified, 2: Stated,\n",
    "not verified, 3: Stated, level 3 verified Level 3 verified =\n",
    "Direct independent verification with a third party of the\n",
    "obligors current employment."
   ]
  },
  {
   "cell_type": "code",
   "execution_count": 111,
   "metadata": {
    "collapsed": true
   },
   "outputs": [],
   "source": [
    "df['obligoremploymentverificationcode']=df.obligoremploymentverificationcode.astype('category')"
   ]
  },
  {
   "cell_type": "code",
   "execution_count": 112,
   "metadata": {},
   "outputs": [
    {
     "data": {
      "image/png": "[encoded data removed]",
      "text/plain": [
       "<matplotlib.figure.Figure at 0x21a808fd978>"
      ]
     },
     "metadata": {},
     "output_type": "display_data"
    },
    {
     "name": "stdout",
     "output_type": "stream",
     "text": [
      "Top  -1  counts:  \n",
      " 2.0    17024162\n",
      "3.0      651429\n",
      "Name: obligoremploymentverificationcode, dtype: int64\n"
     ]
    }
   ],
   "source": [
    "draw(df.obligoremploymentverificationcode, title='Obligor Employment Verification Code', ylabel='Number of Loans', sort=True)"
   ]
  },
  {
   "cell_type": "code",
   "execution_count": 113,
   "metadata": {
    "collapsed": true
   },
   "outputs": [],
   "source": [
    "#pd.value_counts(df.obligoremploymentverificationcode==0)"
   ]
  },
  {
   "cell_type": "code",
   "execution_count": 114,
   "metadata": {},
   "outputs": [
    {
     "data": {
      "text/plain": [
       "count     18057007.0\n",
       "unique           3.0\n",
       "top              2.0\n",
       "freq      17024162.0\n",
       "Name: obligoremploymentverificationcode, dtype: float64"
      ]
     },
     "execution_count": 114,
     "metadata": {},
     "output_type": "execute_result"
    }
   ],
   "source": [
    "df.obligoremploymentverificationcode.describe()"
   ]
  },
  {
   "cell_type": "code",
   "execution_count": 115,
   "metadata": {},
   "outputs": [
    {
     "name": "stdout",
     "output_type": "stream",
     "text": [
      "No blank or zero obligor employment verification level code\n"
     ]
    },
    {
     "data": {
      "text/plain": [
       "(18079920, 96)"
      ]
     },
     "execution_count": 115,
     "metadata": {},
     "output_type": "execute_result"
    }
   ],
   "source": [
    "u=pd.value_counts(df.obligoremploymentverificationcode==0)\n",
    "if len(u)<2:\n",
    "    print('No blank or zero obligor employment verification level code')\n",
    "else: \n",
    "    print('Number of loans with no obligor employment verification level code',':', u[1])\n",
    "    print('Dropping ', u[1], 'rows and retaining loans with obligor employment verification level code')\n",
    "    df=df[df.obligoremploymentverificationcode>0]\n",
    "df.shape"
   ]
  },
  {
   "cell_type": "markdown",
   "metadata": {},
   "source": [
    "### Create feature Columns for obligor employment verification"
   ]
  },
  {
   "cell_type": "code",
   "execution_count": 116,
   "metadata": {
    "collapsed": true
   },
   "outputs": [],
   "source": [
    "def map_obligoremploymentverificationcode(*args):\n",
    "    columns = [col for col in args]\n",
    "    for column in columns:\n",
    "        if column == code:\n",
    "            return 1\n",
    "        else:\n",
    "            return 0\n",
    "codes = pd.value_counts(df.obligoremploymentverificationcode).index.tolist()\n",
    "\n",
    "for code in codes:\n",
    "        df['empl_code_{}'.format(code)] = list(map(map_obligoremploymentverificationcode, df.obligoremploymentverificationcode))\n",
    "        print('Added Column for :   empl_code_'+code)\n",
    "df.drop(['obligoremploymentverificationcode'], axis=1, inplace=True)\n",
    "df.shape()"
   ]
  },
  {
   "cell_type": "markdown",
   "metadata": {},
   "source": [
    "### Co-obligator Indicator"
   ]
  },
  {
   "cell_type": "markdown",
   "metadata": {},
   "source": [
    "Indicate whether the loan has a co-obligor."
   ]
  },
  {
   "cell_type": "code",
   "execution_count": 118,
   "metadata": {
    "collapsed": true
   },
   "outputs": [],
   "source": [
    "df['coobligorindicator']=df.coobligorindicator.astype('category')"
   ]
  },
  {
   "cell_type": "code",
   "execution_count": 119,
   "metadata": {},
   "outputs": [
    {
     "data": {
      "text/plain": [
       "count     18079920\n",
       "unique           2\n",
       "top          False\n",
       "freq      12050688\n",
       "Name: coobligorindicator, dtype: object"
      ]
     },
     "execution_count": 119,
     "metadata": {},
     "output_type": "execute_result"
    }
   ],
   "source": [
    "df.coobligorindicator.describe()"
   ]
  },
  {
   "cell_type": "code",
   "execution_count": 120,
   "metadata": {},
   "outputs": [
    {
     "data": {
      "image/png": "[encoded data removed]",
      "text/plain": [
       "<matplotlib.figure.Figure at 0x21a83d3bb70>"
      ]
     },
     "metadata": {},
     "output_type": "display_data"
    },
    {
     "name": "stdout",
     "output_type": "stream",
     "text": [
      "Top  -1  counts:  \n",
      " False    12050688\n",
      "Name: coobligorindicator, dtype: int64\n"
     ]
    }
   ],
   "source": [
    "draw(df.coobligorindicator, title='Co-Obligator Indicator', ylabel='Number of Loans', sort=True)"
   ]
  },
  {
   "cell_type": "markdown",
   "metadata": {},
   "source": [
    "### Create features for Co-obligator Indicator"
   ]
  },
  {
   "cell_type": "code",
   "execution_count": 121,
   "metadata": {},
   "outputs": [
    {
     "data": {
      "text/plain": [
       "0    12050688\n",
       "1     6029232\n",
       "Name: coobligorindicator_true, dtype: int64"
      ]
     },
     "execution_count": 121,
     "metadata": {},
     "output_type": "execute_result"
    }
   ],
   "source": [
    "def map_coobligorindicator_true(*args):\n",
    "    columns = [col for col in args]\n",
    "    for column in columns:\n",
    "        if column == 1:\n",
    "            return 1\n",
    "        else:\n",
    "            return 0\n",
    "        \n",
    "df['coobligorindicator_true'] = list(map(map_coobligorindicator_true, df.coobligorindicator))\n",
    "df.drop(['coobligorindicator'], axis=1, inplace=True)\n",
    "print('Added Column for :   coobligorindicator_true')\n",
    "pd.value_counts(df.coobligorindicator_true)"
   ]
  },
  {
   "cell_type": "markdown",
   "metadata": {},
   "source": [
    "### Reporting Period Actual End Balance Amount"
   ]
  },
  {
   "cell_type": "markdown",
   "metadata": {},
   "source": [
    "Mean reporting period actual end balance amount by the reporting period ending date"
   ]
  },
  {
   "cell_type": "code",
   "execution_count": 122,
   "metadata": {},
   "outputs": [
    {
     "data": {
      "text/plain": [
       "<matplotlib.axes._subplots.AxesSubplot at 0x21a809fb908>"
      ]
     },
     "execution_count": 122,
     "metadata": {},
     "output_type": "execute_result"
    },
    {
     "data": {
      "image/png": "[encoded data removed]",
      "text/plain": [
       "<matplotlib.figure.Figure at 0x21a8346b8d0>"
      ]
     },
     "metadata": {},
     "output_type": "display_data"
    }
   ],
   "source": [
    "df.groupby(df.reportingperiodendingdate).reportingperiodactualendbalanceamount.mean().plot(kind='bar')"
   ]
  },
  {
   "cell_type": "code",
   "execution_count": 123,
   "metadata": {
    "collapsed": true
   },
   "outputs": [],
   "source": [
    "#draw(df.reportingperiodactualendbalanceamount, title='Reporting Period Actual End Balance Amount', ylabel='Number of Loans', sort=True)"
   ]
  },
  {
   "cell_type": "code",
   "execution_count": 124,
   "metadata": {},
   "outputs": [
    {
     "data": {
      "text/plain": [
       "count    1.807992e+07\n",
       "mean     1.638287e+04\n",
       "std      9.936905e+03\n",
       "min     -9.978260e+03\n",
       "25%      9.723740e+03\n",
       "50%      1.557705e+04\n",
       "75%      2.200000e+04\n",
       "max      2.111091e+05\n",
       "Name: reportingperiodactualendbalanceamount, dtype: float64"
      ]
     },
     "execution_count": 124,
     "metadata": {},
     "output_type": "execute_result"
    }
   ],
   "source": [
    "df.reportingperiodactualendbalanceamount.describe()"
   ]
  },
  {
   "cell_type": "markdown",
   "metadata": {},
   "source": [
    "### Dropping loans with zero or negative reporting period actual end balance amount"
   ]
  },
  {
   "cell_type": "code",
   "execution_count": 125,
   "metadata": {},
   "outputs": [
    {
     "name": "stdout",
     "output_type": "stream",
     "text": [
      "Number of loans with no reporting period actual end balance amount : 777590\n",
      "Dropping  777590 rows and retaining loans with reporting period actual end balance amount\n"
     ]
    },
    {
     "data": {
      "text/plain": [
       "(17302330, 98)"
      ]
     },
     "execution_count": 125,
     "metadata": {},
     "output_type": "execute_result"
    }
   ],
   "source": [
    "u=pd.value_counts(df.reportingperiodactualendbalanceamount<=0)\n",
    "if len(u)<2:\n",
    "    print('No blank or zero or negative reporting period actual end balance amount')\n",
    "else: \n",
    "    print('Number of loans with no reporting period actual end balance amount',':', u[1])\n",
    "    print('Dropping ', u[1], 'rows and retaining loans with reporting period actual end balance amount')\n",
    "    df=df[df.reportingperiodactualendbalanceamount>0]\n",
    "df.shape"
   ]
  },
  {
   "cell_type": "markdown",
   "metadata": {},
   "source": [
    "### Total Actual amount paid"
   ]
  },
  {
   "cell_type": "code",
   "execution_count": 126,
   "metadata": {},
   "outputs": [
    {
     "data": {
      "text/plain": [
       "count    1.728332e+07\n",
       "mean     4.585619e+02\n",
       "std      6.314416e+02\n",
       "min     -7.203197e+04\n",
       "25%      2.989400e+02\n",
       "50%      4.041800e+02\n",
       "75%      5.500000e+02\n",
       "max      2.041267e+05\n",
       "Name: totalactualamountpaid, dtype: float64"
      ]
     },
     "execution_count": 126,
     "metadata": {},
     "output_type": "execute_result"
    }
   ],
   "source": [
    "df.totalactualamountpaid.describe()"
   ]
  },
  {
   "cell_type": "code",
   "execution_count": 127,
   "metadata": {},
   "outputs": [
    {
     "name": "stdout",
     "output_type": "stream",
     "text": [
      "Number of loans with no or negative total actual amount paid : 1818036\n"
     ]
    },
    {
     "data": {
      "text/plain": [
       "(17302330, 98)"
      ]
     },
     "execution_count": 127,
     "metadata": {},
     "output_type": "execute_result"
    }
   ],
   "source": [
    "u=pd.value_counts(df.totalactualamountpaid<=0)\n",
    "if len(u)<2:\n",
    "    print('No blank or zero or negative total actual amount paid')\n",
    "else: \n",
    "    print('Number of loans with no or negative total actual amount paid',':', u[1])\n",
    "    #print('Dropping ', u[1], 'rows and retaining loans with positive total actual amount paid')\n",
    "    #df=df[df.totalactualamountpaid>0]\n",
    "df.shape"
   ]
  },
  {
   "cell_type": "markdown",
   "metadata": {},
   "source": [
    "### Actual interest collected amount"
   ]
  },
  {
   "cell_type": "code",
   "execution_count": 128,
   "metadata": {},
   "outputs": [
    {
     "data": {
      "text/plain": [
       "count    1.728332e+07\n",
       "mean     9.196977e+01\n",
       "std      1.472337e+02\n",
       "min     -1.303820e+03\n",
       "25%      2.460000e+00\n",
       "50%      3.151000e+01\n",
       "75%      1.072700e+02\n",
       "max      4.767940e+03\n",
       "Name: actualinterestcollectedamount, dtype: float64"
      ]
     },
     "execution_count": 128,
     "metadata": {},
     "output_type": "execute_result"
    }
   ],
   "source": [
    "df.actualinterestcollectedamount.describe()"
   ]
  },
  {
   "cell_type": "code",
   "execution_count": 129,
   "metadata": {},
   "outputs": [
    {
     "name": "stdout",
     "output_type": "stream",
     "text": [
      "Number of loans with no or negative actual interest collected amount : 4165819\n"
     ]
    },
    {
     "data": {
      "text/plain": [
       "(17302330, 98)"
      ]
     },
     "execution_count": 129,
     "metadata": {},
     "output_type": "execute_result"
    }
   ],
   "source": [
    "u=pd.value_counts(df.actualinterestcollectedamount<=0)\n",
    "if len(u)<2:\n",
    "    print('No blank or zero actual interest collected amount')\n",
    "else: \n",
    "    print('Number of loans with no or negative actual interest collected amount',':', u[1])\n",
    "    #print('Dropping ', u[1], 'rows and retaining loans with positive actual interest collected amount')\n",
    "    #df=df[df.actualinterestcollectedamount>0]\n",
    "df.shape"
   ]
  },
  {
   "cell_type": "markdown",
   "metadata": {},
   "source": [
    "### Actual principal collected amount"
   ]
  },
  {
   "cell_type": "code",
   "execution_count": 130,
   "metadata": {},
   "outputs": [
    {
     "data": {
      "text/plain": [
       "count    1.728332e+07\n",
       "mean     3.659767e+02\n",
       "std      6.193506e+02\n",
       "min     -7.203197e+04\n",
       "25%      1.810900e+02\n",
       "50%      3.275100e+02\n",
       "75%      4.649600e+02\n",
       "max      2.031540e+05\n",
       "Name: actualprincipalcollectedamount, dtype: float64"
      ]
     },
     "execution_count": 130,
     "metadata": {},
     "output_type": "execute_result"
    }
   ],
   "source": [
    "df.actualprincipalcollectedamount.describe()"
   ]
  },
  {
   "cell_type": "code",
   "execution_count": 131,
   "metadata": {},
   "outputs": [
    {
     "name": "stdout",
     "output_type": "stream",
     "text": [
      "Number of loans with zero or negative actual principal collected amount : 2331478\n"
     ]
    },
    {
     "data": {
      "text/plain": [
       "(17302330, 98)"
      ]
     },
     "execution_count": 131,
     "metadata": {},
     "output_type": "execute_result"
    }
   ],
   "source": [
    "u=pd.value_counts(df.actualprincipalcollectedamount<=0)\n",
    "if len(u)<2:\n",
    "    print('No blank or zero actual principal collected amount')\n",
    "else: \n",
    "    print('Number of loans with zero or negative actual principal collected amount',':', u[1])\n",
    "    #print('Dropping ', u[1], 'rows and retaining loans with positive actual principal collected amount')\n",
    "    #df=df[df.actualprincipalcollectedamount>0]\n",
    "df.shape"
   ]
  },
  {
   "cell_type": "markdown",
   "metadata": {},
   "source": [
    "### Interest paid through date"
   ]
  },
  {
   "cell_type": "code",
   "execution_count": 132,
   "metadata": {},
   "outputs": [
    {
     "data": {
      "text/plain": [
       "1900-01-01    1323367\n",
       "2018-06-15     133433\n",
       "2018-06-29     106512\n",
       "2018-06-01     103529\n",
       "2018-03-30     102848\n",
       "2018-05-15     102675\n",
       "2018-03-15      99464\n",
       "2018-04-20      98659\n",
       "2018-05-25      95999\n",
       "2018-04-13      92514\n",
       "Name: interestpaidthroughdate, dtype: int64"
      ]
     },
     "execution_count": 132,
     "metadata": {},
     "output_type": "execute_result"
    }
   ],
   "source": [
    "pd.value_counts(df.interestpaidthroughdate).head(n=10)"
   ]
  },
  {
   "cell_type": "code",
   "execution_count": 133,
   "metadata": {},
   "outputs": [
    {
     "data": {
      "text/plain": [
       "count       16327098\n",
       "unique          2077\n",
       "top       1900-01-01\n",
       "freq         1323367\n",
       "Name: interestpaidthroughdate, dtype: object"
      ]
     },
     "execution_count": 133,
     "metadata": {},
     "output_type": "execute_result"
    }
   ],
   "source": [
    "df.interestpaidthroughdate.describe()"
   ]
  },
  {
   "cell_type": "markdown",
   "metadata": {},
   "source": [
    "### Dropping interest paid through date '1900-01-01'"
   ]
  },
  {
   "cell_type": "code",
   "execution_count": 134,
   "metadata": {},
   "outputs": [
    {
     "name": "stdout",
     "output_type": "stream",
     "text": [
      "Number of loans with zero or 1900-01-01 as  interest paid throughdate : 1323367\n"
     ]
    },
    {
     "data": {
      "text/plain": [
       "(17302330, 98)"
      ]
     },
     "execution_count": 134,
     "metadata": {},
     "output_type": "execute_result"
    }
   ],
   "source": [
    "u=pd.value_counts(df.interestpaidthroughdate=='1900-01-01')\n",
    "if len(u)<2:\n",
    "    print('No blank or zero interest paid throughdate as 1900-01-01')\n",
    "else: \n",
    "    print('Number of loans with zero or 1900-01-01 as  interest paid throughdate',':', u[1])\n",
    "    #print('Dropping ', u[1], 'rows and retaining loans with correct interest paid throughdate')\n",
    "    #df=df[df.interestpaidthroughdate>'1900-01-01']\n",
    "df.shape"
   ]
  },
  {
   "cell_type": "code",
   "execution_count": 135,
   "metadata": {},
   "outputs": [
    {
     "data": {
      "text/plain": [
       "(17302330, 97)"
      ]
     },
     "execution_count": 135,
     "metadata": {},
     "output_type": "execute_result"
    }
   ],
   "source": [
    "df.drop(['interestpaidthroughdate'], axis=1, inplace=True)\n",
    "df.shape"
   ]
  },
  {
   "cell_type": "markdown",
   "metadata": {},
   "source": [
    "### Number of Days from origination to first payment date"
   ]
  },
  {
   "cell_type": "code",
   "execution_count": 136,
   "metadata": {},
   "outputs": [
    {
     "data": {
      "image/png": "[encoded data removed]",
      "text/plain": [
       "<matplotlib.figure.Figure at 0x21ab8cc6710>"
      ]
     },
     "metadata": {},
     "output_type": "display_data"
    },
    {
     "name": "stdout",
     "output_type": "stream",
     "text": [
      "Top  -1  counts:  \n",
      " 31 days     5317183\n",
      "61 days     5059186\n",
      "30 days     3281136\n",
      "62 days     1179886\n",
      "59 days     1044228\n",
      "28 days      601183\n",
      "92 days      258872\n",
      "60 days      185034\n",
      "91 days      127794\n",
      "29 days      104096\n",
      "90 days       78611\n",
      "0 days        41556\n",
      "89 days       20651\n",
      "120 days       2347\n",
      "122 days        359\n",
      "-31 days        136\n",
      "121 days         29\n",
      "123 days         16\n",
      "-62 days         14\n",
      "-30 days         11\n",
      "Name: daystofirstpayment, dtype: int64\n"
     ]
    }
   ],
   "source": [
    "df['daystofirstpayment'] = pd.to_datetime(df['originalfirstpaymentdate'])-pd.to_datetime(df['originationdate'])\n",
    "#draw a chart for visual look and analysis\n",
    "draw(df.daystofirstpayment, title='Days to First Payment', ylabel='Number of Loans', sort = True, n=5)\n"
   ]
  },
  {
   "cell_type": "code",
   "execution_count": 137,
   "metadata": {},
   "outputs": [
    {
     "data": {
      "text/plain": [
       "count                   17302330\n",
       "mean     45 days 05:05:40.274864\n",
       "std      17 days 00:10:32.333318\n",
       "min           -62 days +00:00:00\n",
       "25%             31 days 00:00:00\n",
       "50%             31 days 00:00:00\n",
       "75%             61 days 00:00:00\n",
       "max            153 days 00:00:00\n",
       "Name: daystofirstpayment, dtype: object"
      ]
     },
     "execution_count": 137,
     "metadata": {},
     "output_type": "execute_result"
    }
   ],
   "source": [
    "df.daystofirstpayment.describe()"
   ]
  },
  {
   "cell_type": "markdown",
   "metadata": {},
   "source": [
    "### Create a new feature for number of days to first payment"
   ]
  },
  {
   "cell_type": "code",
   "execution_count": 138,
   "metadata": {},
   "outputs": [
    {
     "data": {
      "text/plain": [
       "19999995    31\n",
       "19999996    31\n",
       "19999997    31\n",
       "19999998    31\n",
       "19999999    31\n",
       "Name: daystofirstpayment, dtype: int64"
      ]
     },
     "execution_count": 138,
     "metadata": {},
     "output_type": "execute_result"
    }
   ],
   "source": [
    "#remove days string for machine learning\n",
    "df['daystofirstpayment']=df.daystofirstpayment.map(lambda x: np.nan if pd.isnull(x) else x.days)\n",
    "#display last five rows\n",
    "df.daystofirstpayment.tail()"
   ]
  },
  {
   "cell_type": "markdown",
   "metadata": {},
   "source": [
    "### Number of loans with zero days to first payment"
   ]
  },
  {
   "cell_type": "code",
   "execution_count": 139,
   "metadata": {},
   "outputs": [
    {
     "name": "stdout",
     "output_type": "stream",
     "text": [
      "Number of loans with zero days to first payment : 41556\n"
     ]
    },
    {
     "data": {
      "text/plain": [
       "(17302330, 98)"
      ]
     },
     "execution_count": 139,
     "metadata": {},
     "output_type": "execute_result"
    }
   ],
   "source": [
    "u=pd.value_counts(df.daystofirstpayment==0)\n",
    "if len(u)<2:\n",
    "    print('No blank or zero days to first payment')\n",
    "else: \n",
    "    print('Number of loans with zero days to first payment',':', u[1])\n",
    "    #print('Dropping ', u[1], 'rows and retaining loans with positive total actual amount paid')\n",
    "    #df=df[df.daystofirstpayment>0]\n",
    "df.shape"
   ]
  },
  {
   "cell_type": "code",
   "execution_count": 140,
   "metadata": {},
   "outputs": [
    {
     "data": {
      "text/plain": [
       "(17302330, 97)"
      ]
     },
     "execution_count": 140,
     "metadata": {},
     "output_type": "execute_result"
    }
   ],
   "source": [
    "df.drop(['originalfirstpaymentdate'], axis=1, inplace=True)\n",
    "df.shape"
   ]
  },
  {
   "cell_type": "markdown",
   "metadata": {},
   "source": [
    "### Grace Period"
   ]
  },
  {
   "cell_type": "code",
   "execution_count": 141,
   "metadata": {},
   "outputs": [
    {
     "data": {
      "image/png": "[encoded data removed]",
      "text/plain": [
       "<matplotlib.figure.Figure at 0x21a806cd390>"
      ]
     },
     "metadata": {},
     "output_type": "display_data"
    },
    {
     "name": "stdout",
     "output_type": "stream",
     "text": [
      "Top  -1  counts:  \n",
      " 1    8797229\n",
      "2    7859279\n",
      "3     492198\n",
      "0     151067\n",
      "4       2555\n",
      "Name: graceperiodnumber, dtype: int64\n"
     ]
    }
   ],
   "source": [
    "draw(df.graceperiodnumber, title='Grace period Number', ylabel='Number of Loans', sort = True)"
   ]
  },
  {
   "cell_type": "code",
   "execution_count": 142,
   "metadata": {},
   "outputs": [
    {
     "data": {
      "text/plain": [
       "count    1.730233e+07\n",
       "mean     1.502839e+00\n",
       "std      5.702940e-01\n",
       "min      0.000000e+00\n",
       "25%      1.000000e+00\n",
       "50%      1.000000e+00\n",
       "75%      2.000000e+00\n",
       "max      5.000000e+00\n",
       "Name: graceperiodnumber, dtype: float64"
      ]
     },
     "execution_count": 142,
     "metadata": {},
     "output_type": "execute_result"
    }
   ],
   "source": [
    "df.graceperiodnumber.describe()"
   ]
  },
  {
   "cell_type": "markdown",
   "metadata": {},
   "source": [
    "### Number of loans with zero grace period"
   ]
  },
  {
   "cell_type": "code",
   "execution_count": 143,
   "metadata": {},
   "outputs": [
    {
     "name": "stdout",
     "output_type": "stream",
     "text": [
      "Number of loans with zero grace period number : 151067\n"
     ]
    },
    {
     "data": {
      "text/plain": [
       "(17302330, 97)"
      ]
     },
     "execution_count": 143,
     "metadata": {},
     "output_type": "execute_result"
    }
   ],
   "source": [
    "u=pd.value_counts(df.graceperiodnumber==0)\n",
    "if len(u)<2:\n",
    "    print('No blank or zero grace period number')\n",
    "else: \n",
    "    print('Number of loans with zero grace period number',':', u[1])\n",
    "    #print('Dropping ', u[1], 'rows and retaining loans with positive grace period number')\n",
    "    #df=df[df.graceperiodnumber>0]\n",
    "df.shape"
   ]
  },
  {
   "cell_type": "markdown",
   "metadata": {},
   "source": [
    "### Asset added indicator"
   ]
  },
  {
   "cell_type": "markdown",
   "metadata": {},
   "source": [
    "Indicate yes or no whether the asset was added during the\n",
    "reporting period. Instruction: A response to this data point\n",
    "is only required when assets are added to the asset pool\n",
    "after the final prospectus is filed"
   ]
  },
  {
   "cell_type": "code",
   "execution_count": 144,
   "metadata": {
    "collapsed": true
   },
   "outputs": [],
   "source": [
    "df['assetaddedindicator']=df.assetaddedindicator.astype('category')"
   ]
  },
  {
   "cell_type": "code",
   "execution_count": 145,
   "metadata": {},
   "outputs": [
    {
     "data": {
      "image/png": "[encoded data removed]",
      "text/plain": [
       "<matplotlib.figure.Figure at 0x21a84f62390>"
      ]
     },
     "metadata": {},
     "output_type": "display_data"
    },
    {
     "name": "stdout",
     "output_type": "stream",
     "text": [
      "Top  -1  counts:  \n",
      " Series([], Name: assetaddedindicator, dtype: int64)\n"
     ]
    }
   ],
   "source": [
    "draw(df.assetaddedindicator, title='Asset Added Indicator', ylabel='Proportion of Loans', sort = False, n=2)"
   ]
  },
  {
   "cell_type": "code",
   "execution_count": 146,
   "metadata": {},
   "outputs": [
    {
     "data": {
      "text/plain": [
       "count     12499456\n",
       "unique           1\n",
       "top          False\n",
       "freq      12499456\n",
       "Name: assetaddedindicator, dtype: object"
      ]
     },
     "execution_count": 146,
     "metadata": {},
     "output_type": "execute_result"
    }
   ],
   "source": [
    "df.assetaddedindicator.describe()"
   ]
  },
  {
   "cell_type": "code",
   "execution_count": 147,
   "metadata": {},
   "outputs": [
    {
     "name": "stdout",
     "output_type": "stream",
     "text": [
      "Number of loans with zero or blank Asset Added Indicator : 4802874\n"
     ]
    },
    {
     "data": {
      "text/plain": [
       "(17302330, 97)"
      ]
     },
     "execution_count": 147,
     "metadata": {},
     "output_type": "execute_result"
    }
   ],
   "source": [
    "u=pd.value_counts(df.assetaddedindicator!=False)\n",
    "if len(u)<2:\n",
    "    print('No blank or zero Asset Added Indicator')\n",
    "else: \n",
    "    print('Number of loans with zero or blank Asset Added Indicator',':', u[1])\n",
    "    #print('Dropping ', u[1], 'rows and retaining loans with positive asset added indicator')\n",
    "    #df=df[df.assetaddedindicator>0]\n",
    "df.shape"
   ]
  },
  {
   "cell_type": "code",
   "execution_count": 148,
   "metadata": {},
   "outputs": [
    {
     "data": {
      "text/plain": [
       "(17302330, 96)"
      ]
     },
     "execution_count": 148,
     "metadata": {},
     "output_type": "execute_result"
    }
   ],
   "source": [
    "df.drop(['assetaddedindicator'], axis=1, inplace=True)\n",
    "df.shape"
   ]
  },
  {
   "cell_type": "markdown",
   "metadata": {},
   "source": [
    "### Reporting Period Modification Indicator"
   ]
  },
  {
   "cell_type": "markdown",
   "metadata": {},
   "source": [
    "Indicates yes or no whether the loan was modified from its\n",
    "original terms during the reporting period."
   ]
  },
  {
   "cell_type": "code",
   "execution_count": 149,
   "metadata": {
    "collapsed": true
   },
   "outputs": [],
   "source": [
    "df['reportingperiodmodificationindicator']=df.reportingperiodmodificationindicator.astype('category')"
   ]
  },
  {
   "cell_type": "code",
   "execution_count": 150,
   "metadata": {},
   "outputs": [
    {
     "data": {
      "image/png": "[encoded data removed]",
      "text/plain": [
       "<matplotlib.figure.Figure at 0x21a83d3b320>"
      ]
     },
     "metadata": {},
     "output_type": "display_data"
    },
    {
     "name": "stdout",
     "output_type": "stream",
     "text": [
      "Top  -1  counts:  \n",
      " False    17091024\n",
      "Name: reportingperiodmodificationindicator, dtype: int64\n"
     ]
    }
   ],
   "source": [
    "draw(df.reportingperiodmodificationindicator, title='Reporting Period Modification Error', ylabel='Proportion of Loans', sort = True)"
   ]
  },
  {
   "cell_type": "code",
   "execution_count": 151,
   "metadata": {},
   "outputs": [
    {
     "data": {
      "text/plain": [
       "count     17302329\n",
       "unique           2\n",
       "top          False\n",
       "freq      17091024\n",
       "Name: reportingperiodmodificationindicator, dtype: object"
      ]
     },
     "execution_count": 151,
     "metadata": {},
     "output_type": "execute_result"
    }
   ],
   "source": [
    "df.reportingperiodmodificationindicator.describe()"
   ]
  },
  {
   "cell_type": "markdown",
   "metadata": {},
   "source": [
    "### Create Features for Reporting Period Modification Indicator True"
   ]
  },
  {
   "cell_type": "code",
   "execution_count": 152,
   "metadata": {},
   "outputs": [
    {
     "data": {
      "text/plain": [
       "0    17091025\n",
       "1      211305\n",
       "Name: reportingperiodmodificationindicator_true, dtype: int64"
      ]
     },
     "execution_count": 152,
     "metadata": {},
     "output_type": "execute_result"
    }
   ],
   "source": [
    "def map_reportingperiodmodificationindicator_true(*args):\n",
    "    columns = [col for col in args]\n",
    "    for column in columns:\n",
    "        if column == 1:\n",
    "            return 1\n",
    "        else:\n",
    "            return 0\n",
    "        \n",
    "df['reportingperiodmodificationindicator_true'] = list(map(map_reportingperiodmodificationindicator_true, df.reportingperiodmodificationindicator))\n",
    "print('Added Column for :   reportingperiodmodificationindicator_true')\n",
    "df.drop(['reportingperiodmodificationindicator'], axis=1, inplace=True)\n",
    "pd.value_counts(df.reportingperiodmodificationindicator_true)"
   ]
  },
  {
   "cell_type": "code",
   "execution_count": 153,
   "metadata": {},
   "outputs": [
    {
     "data": {
      "text/plain": [
       "(17302330, 96)"
      ]
     },
     "execution_count": 153,
     "metadata": {},
     "output_type": "execute_result"
    }
   ],
   "source": [
    "df.shape"
   ]
  },
  {
   "cell_type": "markdown",
   "metadata": {},
   "source": [
    "### Servicing Advance Method Code"
   ]
  },
  {
   "cell_type": "markdown",
   "metadata": {},
   "source": [
    "Specify the code that indicates a servicer's responsibility for\n",
    "advancing principal or interest on delinquent loans. 1: No\n",
    "advancing, 2: Interest only, 3: Principal only, 4: Principal and\n",
    "Interest, 99: Unavailable"
   ]
  },
  {
   "cell_type": "code",
   "execution_count": 154,
   "metadata": {
    "collapsed": true
   },
   "outputs": [],
   "source": [
    "df['servicingadvancemethodcode']=df.servicingadvancemethodcode.astype('category')"
   ]
  },
  {
   "cell_type": "code",
   "execution_count": 155,
   "metadata": {},
   "outputs": [
    {
     "data": {
      "image/png": "[encoded data removed]",
      "text/plain": [
       "<matplotlib.figure.Figure at 0x21a808d5eb8>"
      ]
     },
     "metadata": {},
     "output_type": "display_data"
    },
    {
     "name": "stdout",
     "output_type": "stream",
     "text": [
      "Top  -1  counts:  \n",
      " 1.0    17044370\n",
      "2.0      247705\n",
      "Name: servicingadvancemethodcode, dtype: int64\n"
     ]
    }
   ],
   "source": [
    "draw(df.servicingadvancemethodcode, title='Serving Advance Method Code', ylabel='Number of Loans', sort = True)"
   ]
  },
  {
   "cell_type": "code",
   "execution_count": 156,
   "metadata": {},
   "outputs": [
    {
     "data": {
      "text/plain": [
       "count     17302330.0\n",
       "unique           3.0\n",
       "top              1.0\n",
       "freq      17044370.0\n",
       "Name: servicingadvancemethodcode, dtype: float64"
      ]
     },
     "execution_count": 156,
     "metadata": {},
     "output_type": "execute_result"
    }
   ],
   "source": [
    "df.servicingadvancemethodcode.describe()"
   ]
  },
  {
   "cell_type": "markdown",
   "metadata": {},
   "source": [
    "### Create Feature Columns for Servicing Advance Method Codes"
   ]
  },
  {
   "cell_type": "code",
   "execution_count": 157,
   "metadata": {
    "collapsed": true
   },
   "outputs": [],
   "source": [
    "def map_servicingadvancemethodcode(*args):\n",
    "    columns = [col for col in args]\n",
    "    for column in columns:\n",
    "        if column == code:\n",
    "            return 1\n",
    "        else:\n",
    "            return 0\n",
    "codes = pd.value_counts(df.servicingadvancemethodcode).index.tolist()\n",
    "\n",
    "for code in codes:\n",
    "        df['servicingadvancemethod_code_{}'.format(code)] = list(map(map_servicingadvancemethodcode, df.servicingadvancemethodcode))\n",
    "        print('Added Column for :   servicingadvancemethod_code_'+code)\n",
    "df.drop(['servicingadvancemethodcode'], axis=1, inplace=True)\n",
    "df.shape"
   ]
  },
  {
   "cell_type": "markdown",
   "metadata": {},
   "source": [
    "### Other Principal Adjustment Amount"
   ]
  },
  {
   "cell_type": "code",
   "execution_count": 159,
   "metadata": {},
   "outputs": [
    {
     "data": {
      "text/plain": [
       "count    1.730233e+07\n",
       "mean    -1.952782e+01\n",
       "std      8.448026e+02\n",
       "min     -7.466276e+04\n",
       "25%      0.000000e+00\n",
       "50%      0.000000e+00\n",
       "75%      0.000000e+00\n",
       "max      7.299528e+04\n",
       "Name: otherprincipaladjustmentamount, dtype: float64"
      ]
     },
     "execution_count": 159,
     "metadata": {},
     "output_type": "execute_result"
    }
   ],
   "source": [
    "df.otherprincipaladjustmentamount.describe()"
   ]
  },
  {
   "cell_type": "code",
   "execution_count": 160,
   "metadata": {},
   "outputs": [
    {
     "name": "stdout",
     "output_type": "stream",
     "text": [
      "Number of loans with zero other principal adjustment amount : 17302170\n"
     ]
    },
    {
     "data": {
      "text/plain": [
       "(17302330, 98)"
      ]
     },
     "execution_count": 160,
     "metadata": {},
     "output_type": "execute_result"
    }
   ],
   "source": [
    "u=pd.value_counts(df.otherprincipaladjustmentamount!=True)\n",
    "if len(u)<2:\n",
    "    print('No blank other principal adjustment amount')\n",
    "else: \n",
    "    print('Number of loans with zero other principal adjustment amount',':', u[1])\n",
    "    #print('Dropping ', u[1], 'rows and retaining loans with other principal adjustment amount')\n",
    "    #df=df[df.otherprincipaladjustmentamount>0]\n",
    "df.shape"
   ]
  },
  {
   "cell_type": "markdown",
   "metadata": {},
   "source": [
    "### Zero Balance Effective Date"
   ]
  },
  {
   "cell_type": "markdown",
   "metadata": {},
   "source": [
    "Provide the date on which the loan balance was reduced to\n",
    "zero."
   ]
  },
  {
   "cell_type": "code",
   "execution_count": 161,
   "metadata": {},
   "outputs": [
    {
     "data": {
      "text/plain": [
       "count            974\n",
       "unique            10\n",
       "top       2018-01-31\n",
       "freq             179\n",
       "Name: zerobalanceeffectivedate, dtype: object"
      ]
     },
     "execution_count": 161,
     "metadata": {},
     "output_type": "execute_result"
    }
   ],
   "source": [
    "df.zerobalanceeffectivedate.describe()"
   ]
  },
  {
   "cell_type": "markdown",
   "metadata": {
    "collapsed": true
   },
   "source": [
    "### Adding new features for Days to Zero Balance Effective Date from Origination Date"
   ]
  },
  {
   "cell_type": "code",
   "execution_count": 162,
   "metadata": {
    "collapsed": true
   },
   "outputs": [],
   "source": [
    "for i in pd.value_counts(df.zerobalanceeffectivedate).keys().tolist():\n",
    "    if i>cutOffForOriginationDate:\n",
    "        df['zerobalanceeffectivedate_calc'] = pd.to_datetime(df['zerobalanceeffectivedate'])-pd.to_datetime(df['originationdate'])\n",
    "df['zerobalanceeffectivedate_calc']=df.zerobalanceeffectivedate_calc.map(lambda x: np.nan if pd.isnull(x) else x.days)\n",
    "print('Added Column for :   zerobalanceeffectivedate_calc')\n",
    "#df.zerobalanceeffectivedate_calc.replace(np.nan, 0, inplace = True)"
   ]
  },
  {
   "cell_type": "code",
   "execution_count": 163,
   "metadata": {},
   "outputs": [
    {
     "data": {
      "text/plain": [
       "count     974.000000\n",
       "mean      500.667351\n",
       "std       313.446711\n",
       "min        30.000000\n",
       "25%       274.000000\n",
       "50%       485.000000\n",
       "75%       639.000000\n",
       "max      1916.000000\n",
       "Name: zerobalanceeffectivedate_calc, dtype: float64"
      ]
     },
     "execution_count": 163,
     "metadata": {},
     "output_type": "execute_result"
    }
   ],
   "source": [
    "df.zerobalanceeffectivedate_calc.describe()"
   ]
  },
  {
   "cell_type": "code",
   "execution_count": 164,
   "metadata": {
    "collapsed": true
   },
   "outputs": [],
   "source": [
    "# fill NaN values with zeros\n",
    "#df.zerobalanceeffectivedate_calc.replace(np.nan, 0, inplace = True)"
   ]
  },
  {
   "cell_type": "code",
   "execution_count": 165,
   "metadata": {},
   "outputs": [
    {
     "data": {
      "text/plain": [
       "(17302330, 98)"
      ]
     },
     "execution_count": 165,
     "metadata": {},
     "output_type": "execute_result"
    }
   ],
   "source": [
    "df.drop(['zerobalanceeffectivedate'], axis=1, inplace=True)\n",
    "df.shape"
   ]
  },
  {
   "cell_type": "markdown",
   "metadata": {},
   "source": [
    "### Zero Balance Code"
   ]
  },
  {
   "cell_type": "markdown",
   "metadata": {},
   "source": [
    "Provide the code that indicates the reason the loan's\n",
    "balance was reduced to zero. 1: Prepaid or Matured, 2:\n",
    "Third-party Sale, 3: Repurchased or Replaced, 4: Chargedoff,\n",
    "5: Servicing Transfer, 99: Unavailable"
   ]
  },
  {
   "cell_type": "code",
   "execution_count": 166,
   "metadata": {
    "collapsed": true
   },
   "outputs": [],
   "source": [
    "df['zerobalancecode']=df.zerobalancecode.astype('category')"
   ]
  },
  {
   "cell_type": "code",
   "execution_count": 167,
   "metadata": {},
   "outputs": [
    {
     "data": {
      "image/png": "[encoded data removed]",
      "text/plain": [
       "<matplotlib.figure.Figure at 0x21a81ac0f28>"
      ]
     },
     "metadata": {},
     "output_type": "display_data"
    },
    {
     "name": "stdout",
     "output_type": "stream",
     "text": [
      "Top  -1  counts:  \n",
      " []        16907514\n",
      "[\"99\"]      393842\n",
      "[\"1\"]          960\n",
      "Name: zerobalancecode, dtype: int64\n"
     ]
    }
   ],
   "source": [
    "draw(df.zerobalancecode, title='Zero Balance Code', ylabel='Number of Loans', sort = True)"
   ]
  },
  {
   "cell_type": "markdown",
   "metadata": {},
   "source": [
    "### Create feature column for zero balance code"
   ]
  },
  {
   "cell_type": "code",
   "execution_count": 168,
   "metadata": {
    "collapsed": true
   },
   "outputs": [],
   "source": [
    "def map_zerobalancecode(*args):\n",
    "    columns = [col for col in args]\n",
    "    for column in columns:\n",
    "        if column == code:\n",
    "            return 1\n",
    "        else:\n",
    "            return 0\n",
    "codes = pd.value_counts(df.zerobalancecode).index.tolist()\n",
    "\n",
    "for code in codes:\n",
    "        df['zerobalance_{}'.format(code)] = list(map(map_zerobalancecode, df.zerobalancecode))\n",
    "        print('Added Column for :   zerobalance_'+code)\n",
    "df.drop(['zerobalancecode'], axis=1, inplace=True)\n",
    "df.shape"
   ]
  },
  {
   "cell_type": "code",
   "execution_count": 171,
   "metadata": {
    "collapsed": true
   },
   "outputs": [],
   "source": [
    "# df.set_index('originationdate')\n",
    "# df.sort_values(by='originationdate', ascending=True)"
   ]
  },
  {
   "cell_type": "markdown",
   "metadata": {},
   "source": [
    "## Add External S&P Experian default index and historical data"
   ]
  },
  {
   "cell_type": "code",
   "execution_count": 172,
   "metadata": {
    "collapsed": true
   },
   "outputs": [],
   "source": [
    "df=df.set_index('reportingperiodendingdate')"
   ]
  },
  {
   "cell_type": "code",
   "execution_count": 173,
   "metadata": {
    "collapsed": true
   },
   "outputs": [],
   "source": [
    "df1=pd.read_csv(path+'datasets/s&pExperianAutoDefaultIndex.csv', index_col=0)\n",
    "df=df.join(df1)\n",
    "df2=pd.read_csv(path+'datasets/experianHistDefaultRates.csv', index_col=0)\n",
    "df=df.join(df2)"
   ]
  },
  {
   "cell_type": "code",
   "execution_count": 174,
   "metadata": {},
   "outputs": [
    {
     "data": {
      "text/html": [
       "<div>\n",
       "<style scoped>\n",
       "    .dataframe tbody tr th:only-of-type {\n",
       "        vertical-align: middle;\n",
       "    }\n",
       "\n",
       "    .dataframe tbody tr th {\n",
       "        vertical-align: top;\n",
       "    }\n",
       "\n",
       "    .dataframe thead th {\n",
       "        text-align: right;\n",
       "    }\n",
       "</style>\n",
       "<table border=\"1\" class=\"dataframe\">\n",
       "  <thead>\n",
       "    <tr style=\"text-align: right;\">\n",
       "      <th></th>\n",
       "      <th>cik</th>\n",
       "      <th>assetnumber</th>\n",
       "      <th>reportingperiodbeginningdate</th>\n",
       "      <th>originationdate</th>\n",
       "      <th>originalloanamount</th>\n",
       "      <th>originalloanterm</th>\n",
       "      <th>originalinterestratepercentage</th>\n",
       "      <th>graceperiodnumber</th>\n",
       "      <th>obligorcreditscore</th>\n",
       "      <th>paymenttoincomepercentage</th>\n",
       "      <th>...</th>\n",
       "      <th>zerobalance_code[]</th>\n",
       "      <th>zerobalance_code[\"99\"]</th>\n",
       "      <th>zerobalance_code[\"1\"]</th>\n",
       "      <th>zerobalance_code[\"4\"]</th>\n",
       "      <th>S&amp;P/Experian Auto Default Index</th>\n",
       "      <th>AutoIndex</th>\n",
       "      <th>BankCardIndex</th>\n",
       "      <th>FirstMortgageIndex</th>\n",
       "      <th>SecondMortgageIndex</th>\n",
       "      <th>CompositeIndex</th>\n",
       "    </tr>\n",
       "  </thead>\n",
       "  <tbody>\n",
       "    <tr>\n",
       "      <th>2016-12-31</th>\n",
       "      <td>1694276</td>\n",
       "      <td>3312469</td>\n",
       "      <td>2016-12-01</td>\n",
       "      <td>2016-10-31</td>\n",
       "      <td>19339.41</td>\n",
       "      <td>60</td>\n",
       "      <td>5.39</td>\n",
       "      <td>0</td>\n",
       "      <td>710</td>\n",
       "      <td>0.0682</td>\n",
       "      <td>...</td>\n",
       "      <td>1</td>\n",
       "      <td>0</td>\n",
       "      <td>0</td>\n",
       "      <td>0</td>\n",
       "      <td>0.0106</td>\n",
       "      <td>1.06</td>\n",
       "      <td>3.21</td>\n",
       "      <td>0.72</td>\n",
       "      <td>0.48</td>\n",
       "      <td>0.92</td>\n",
       "    </tr>\n",
       "    <tr>\n",
       "      <th>2016-12-31</th>\n",
       "      <td>1694276</td>\n",
       "      <td>3364684</td>\n",
       "      <td>2016-12-01</td>\n",
       "      <td>2016-10-31</td>\n",
       "      <td>17955.27</td>\n",
       "      <td>60</td>\n",
       "      <td>8.99</td>\n",
       "      <td>1</td>\n",
       "      <td>654</td>\n",
       "      <td>0.0792</td>\n",
       "      <td>...</td>\n",
       "      <td>1</td>\n",
       "      <td>0</td>\n",
       "      <td>0</td>\n",
       "      <td>0</td>\n",
       "      <td>0.0106</td>\n",
       "      <td>1.06</td>\n",
       "      <td>3.21</td>\n",
       "      <td>0.72</td>\n",
       "      <td>0.48</td>\n",
       "      <td>0.92</td>\n",
       "    </tr>\n",
       "    <tr>\n",
       "      <th>2016-12-31</th>\n",
       "      <td>1694276</td>\n",
       "      <td>3364692</td>\n",
       "      <td>2016-12-01</td>\n",
       "      <td>2016-10-31</td>\n",
       "      <td>14815.00</td>\n",
       "      <td>72</td>\n",
       "      <td>9.55</td>\n",
       "      <td>0</td>\n",
       "      <td>707</td>\n",
       "      <td>0.0372</td>\n",
       "      <td>...</td>\n",
       "      <td>1</td>\n",
       "      <td>0</td>\n",
       "      <td>0</td>\n",
       "      <td>0</td>\n",
       "      <td>0.0106</td>\n",
       "      <td>1.06</td>\n",
       "      <td>3.21</td>\n",
       "      <td>0.72</td>\n",
       "      <td>0.48</td>\n",
       "      <td>0.92</td>\n",
       "    </tr>\n",
       "    <tr>\n",
       "      <th>2016-12-31</th>\n",
       "      <td>1694276</td>\n",
       "      <td>3364718</td>\n",
       "      <td>2016-12-01</td>\n",
       "      <td>2016-10-31</td>\n",
       "      <td>13186.31</td>\n",
       "      <td>60</td>\n",
       "      <td>9.90</td>\n",
       "      <td>1</td>\n",
       "      <td>622</td>\n",
       "      <td>0.0488</td>\n",
       "      <td>...</td>\n",
       "      <td>1</td>\n",
       "      <td>0</td>\n",
       "      <td>0</td>\n",
       "      <td>0</td>\n",
       "      <td>0.0106</td>\n",
       "      <td>1.06</td>\n",
       "      <td>3.21</td>\n",
       "      <td>0.72</td>\n",
       "      <td>0.48</td>\n",
       "      <td>0.92</td>\n",
       "    </tr>\n",
       "    <tr>\n",
       "      <th>2016-12-31</th>\n",
       "      <td>1694276</td>\n",
       "      <td>3364734</td>\n",
       "      <td>2016-12-01</td>\n",
       "      <td>2016-10-31</td>\n",
       "      <td>16400.00</td>\n",
       "      <td>48</td>\n",
       "      <td>10.90</td>\n",
       "      <td>0</td>\n",
       "      <td>656</td>\n",
       "      <td>0.0829</td>\n",
       "      <td>...</td>\n",
       "      <td>1</td>\n",
       "      <td>0</td>\n",
       "      <td>0</td>\n",
       "      <td>0</td>\n",
       "      <td>0.0106</td>\n",
       "      <td>1.06</td>\n",
       "      <td>3.21</td>\n",
       "      <td>0.72</td>\n",
       "      <td>0.48</td>\n",
       "      <td>0.92</td>\n",
       "    </tr>\n",
       "  </tbody>\n",
       "</table>\n",
       "<p>5 rows × 106 columns</p>\n",
       "</div>"
      ],
      "text/plain": [
       "                cik assetnumber reportingperiodbeginningdate originationdate  \\\n",
       "2016-12-31  1694276     3312469                   2016-12-01      2016-10-31   \n",
       "2016-12-31  1694276     3364684                   2016-12-01      2016-10-31   \n",
       "2016-12-31  1694276     3364692                   2016-12-01      2016-10-31   \n",
       "2016-12-31  1694276     3364718                   2016-12-01      2016-10-31   \n",
       "2016-12-31  1694276     3364734                   2016-12-01      2016-10-31   \n",
       "\n",
       "            originalloanamount  originalloanterm  \\\n",
       "2016-12-31            19339.41                60   \n",
       "2016-12-31            17955.27                60   \n",
       "2016-12-31            14815.00                72   \n",
       "2016-12-31            13186.31                60   \n",
       "2016-12-31            16400.00                48   \n",
       "\n",
       "            originalinterestratepercentage  graceperiodnumber  \\\n",
       "2016-12-31                            5.39                  0   \n",
       "2016-12-31                            8.99                  1   \n",
       "2016-12-31                            9.55                  0   \n",
       "2016-12-31                            9.90                  1   \n",
       "2016-12-31                           10.90                  0   \n",
       "\n",
       "           obligorcreditscore  paymenttoincomepercentage       ...        \\\n",
       "2016-12-31                710                     0.0682       ...         \n",
       "2016-12-31                654                     0.0792       ...         \n",
       "2016-12-31                707                     0.0372       ...         \n",
       "2016-12-31                622                     0.0488       ...         \n",
       "2016-12-31                656                     0.0829       ...         \n",
       "\n",
       "            zerobalance_code[]  zerobalance_code[\"99\"]  zerobalance_code[\"1\"]  \\\n",
       "2016-12-31                   1                       0                      0   \n",
       "2016-12-31                   1                       0                      0   \n",
       "2016-12-31                   1                       0                      0   \n",
       "2016-12-31                   1                       0                      0   \n",
       "2016-12-31                   1                       0                      0   \n",
       "\n",
       "            zerobalance_code[\"4\"]  S&P/Experian Auto Default Index  AutoIndex  \\\n",
       "2016-12-31                      0                           0.0106       1.06   \n",
       "2016-12-31                      0                           0.0106       1.06   \n",
       "2016-12-31                      0                           0.0106       1.06   \n",
       "2016-12-31                      0                           0.0106       1.06   \n",
       "2016-12-31                      0                           0.0106       1.06   \n",
       "\n",
       "            BankCardIndex  FirstMortgageIndex  SecondMortgageIndex  \\\n",
       "2016-12-31           3.21                0.72                 0.48   \n",
       "2016-12-31           3.21                0.72                 0.48   \n",
       "2016-12-31           3.21                0.72                 0.48   \n",
       "2016-12-31           3.21                0.72                 0.48   \n",
       "2016-12-31           3.21                0.72                 0.48   \n",
       "\n",
       "            CompositeIndex  \n",
       "2016-12-31            0.92  \n",
       "2016-12-31            0.92  \n",
       "2016-12-31            0.92  \n",
       "2016-12-31            0.92  \n",
       "2016-12-31            0.92  \n",
       "\n",
       "[5 rows x 106 columns]"
      ]
     },
     "execution_count": 174,
     "metadata": {},
     "output_type": "execute_result"
    }
   ],
   "source": [
    "df.head()"
   ]
  },
  {
   "cell_type": "code",
   "execution_count": 175,
   "metadata": {},
   "outputs": [
    {
     "data": {
      "text/plain": [
       "(17302330, 102)"
      ]
     },
     "execution_count": 175,
     "metadata": {},
     "output_type": "execute_result"
    }
   ],
   "source": [
    "df.drop(['cik', 'assetnumber', 'reportingperiodbeginningdate','originationdate'], axis=1, inplace=True)\n",
    "df.shape\n",
    "        "
   ]
  },
  {
   "cell_type": "markdown",
   "metadata": {},
   "source": [
    "# Clean data"
   ]
  },
  {
   "cell_type": "code",
   "execution_count": 176,
   "metadata": {
    "collapsed": true
   },
   "outputs": [],
   "source": [
    "# change columns to lower case and remove prefix to enable pandas to work\n",
    "#column_list=[x.lower() for x in (column_list)]\n",
    "#df.columns=df.columns.str.replace('abs_loan.','')\n",
    "# convert objects to numeric\n",
    "#df=df.convert_objects(convert_numeric=True)"
   ]
  },
  {
   "cell_type": "markdown",
   "metadata": {},
   "source": [
    "# Check for null"
   ]
  },
  {
   "cell_type": "code",
   "execution_count": 177,
   "metadata": {},
   "outputs": [
    {
     "data": {
      "text/plain": [
       "True"
      ]
     },
     "execution_count": 177,
     "metadata": {},
     "output_type": "execute_result"
    }
   ],
   "source": [
    "df.isnull().values.any()"
   ]
  },
  {
   "cell_type": "markdown",
   "metadata": {},
   "source": [
    "# Loan Statistics"
   ]
  },
  {
   "cell_type": "code",
   "execution_count": 178,
   "metadata": {},
   "outputs": [
    {
     "data": {
      "text/html": [
       "<div>\n",
       "<style scoped>\n",
       "    .dataframe tbody tr th:only-of-type {\n",
       "        vertical-align: middle;\n",
       "    }\n",
       "\n",
       "    .dataframe tbody tr th {\n",
       "        vertical-align: top;\n",
       "    }\n",
       "\n",
       "    .dataframe thead th {\n",
       "        text-align: right;\n",
       "    }\n",
       "</style>\n",
       "<table border=\"1\" class=\"dataframe\">\n",
       "  <thead>\n",
       "    <tr style=\"text-align: right;\">\n",
       "      <th></th>\n",
       "      <th>originalloanamount</th>\n",
       "      <th>originalloanterm</th>\n",
       "      <th>originalinterestratepercentage</th>\n",
       "      <th>graceperiodnumber</th>\n",
       "      <th>paymenttoincomepercentage</th>\n",
       "      <th>reportingperiodbeginningloanbalanceamount</th>\n",
       "      <th>nextreportingperiodpaymentamountdue</th>\n",
       "      <th>reportingperiodinterestratepercentage</th>\n",
       "      <th>nextinterestratepercentage</th>\n",
       "      <th>servicingfeepercentage</th>\n",
       "      <th>...</th>\n",
       "      <th>zerobalance_code[]</th>\n",
       "      <th>zerobalance_code[\"99\"]</th>\n",
       "      <th>zerobalance_code[\"1\"]</th>\n",
       "      <th>zerobalance_code[\"4\"]</th>\n",
       "      <th>S&amp;P/Experian Auto Default Index</th>\n",
       "      <th>AutoIndex</th>\n",
       "      <th>BankCardIndex</th>\n",
       "      <th>FirstMortgageIndex</th>\n",
       "      <th>SecondMortgageIndex</th>\n",
       "      <th>CompositeIndex</th>\n",
       "    </tr>\n",
       "  </thead>\n",
       "  <tbody>\n",
       "    <tr>\n",
       "      <th>count</th>\n",
       "      <td>1.730233e+07</td>\n",
       "      <td>1.730233e+07</td>\n",
       "      <td>1.730233e+07</td>\n",
       "      <td>1.730233e+07</td>\n",
       "      <td>1.724297e+07</td>\n",
       "      <td>1.728079e+07</td>\n",
       "      <td>1.725741e+07</td>\n",
       "      <td>1.730154e+07</td>\n",
       "      <td>1.730154e+07</td>\n",
       "      <td>1.730233e+07</td>\n",
       "      <td>...</td>\n",
       "      <td>1.730233e+07</td>\n",
       "      <td>1.730233e+07</td>\n",
       "      <td>1.730233e+07</td>\n",
       "      <td>1.730233e+07</td>\n",
       "      <td>1.730233e+07</td>\n",
       "      <td>1.730233e+07</td>\n",
       "      <td>1.730233e+07</td>\n",
       "      <td>1.730233e+07</td>\n",
       "      <td>1.730233e+07</td>\n",
       "      <td>1.730233e+07</td>\n",
       "    </tr>\n",
       "    <tr>\n",
       "      <th>mean</th>\n",
       "      <td>2.428780e+04</td>\n",
       "      <td>6.659573e+01</td>\n",
       "      <td>1.556459e-01</td>\n",
       "      <td>1.502839e+00</td>\n",
       "      <td>1.133885e+00</td>\n",
       "      <td>1.745285e+04</td>\n",
       "      <td>4.992643e+02</td>\n",
       "      <td>2.322092e-01</td>\n",
       "      <td>2.322092e-01</td>\n",
       "      <td>5.234222e-02</td>\n",
       "      <td>...</td>\n",
       "      <td>9.771813e-01</td>\n",
       "      <td>2.276237e-02</td>\n",
       "      <td>5.548386e-05</td>\n",
       "      <td>8.091396e-07</td>\n",
       "      <td>9.708901e-03</td>\n",
       "      <td>9.865052e-01</td>\n",
       "      <td>3.654231e+00</td>\n",
       "      <td>6.666839e-01</td>\n",
       "      <td>6.591004e-01</td>\n",
       "      <td>8.961008e-01</td>\n",
       "    </tr>\n",
       "    <tr>\n",
       "      <th>std</th>\n",
       "      <td>1.013864e+04</td>\n",
       "      <td>8.425659e+00</td>\n",
       "      <td>6.905820e-01</td>\n",
       "      <td>5.702940e-01</td>\n",
       "      <td>4.065185e+01</td>\n",
       "      <td>9.569933e+03</td>\n",
       "      <td>4.853595e+02</td>\n",
       "      <td>1.090127e+00</td>\n",
       "      <td>1.090126e+00</td>\n",
       "      <td>1.864605e-01</td>\n",
       "      <td>...</td>\n",
       "      <td>1.493251e-01</td>\n",
       "      <td>1.491450e-01</td>\n",
       "      <td>7.448542e-03</td>\n",
       "      <td>8.995215e-04</td>\n",
       "      <td>5.660996e-04</td>\n",
       "      <td>6.235218e-02</td>\n",
       "      <td>2.029891e-01</td>\n",
       "      <td>3.160004e-02</td>\n",
       "      <td>1.914183e-01</td>\n",
       "      <td>3.658019e-02</td>\n",
       "    </tr>\n",
       "    <tr>\n",
       "      <th>min</th>\n",
       "      <td>7.209300e+02</td>\n",
       "      <td>1.200000e+01</td>\n",
       "      <td>0.000000e+00</td>\n",
       "      <td>0.000000e+00</td>\n",
       "      <td>0.000000e+00</td>\n",
       "      <td>0.000000e+00</td>\n",
       "      <td>-4.537913e+04</td>\n",
       "      <td>0.000000e+00</td>\n",
       "      <td>0.000000e+00</td>\n",
       "      <td>0.000000e+00</td>\n",
       "      <td>...</td>\n",
       "      <td>0.000000e+00</td>\n",
       "      <td>0.000000e+00</td>\n",
       "      <td>0.000000e+00</td>\n",
       "      <td>0.000000e+00</td>\n",
       "      <td>8.900000e-03</td>\n",
       "      <td>8.900000e-01</td>\n",
       "      <td>3.140000e+00</td>\n",
       "      <td>6.300000e-01</td>\n",
       "      <td>4.800000e-01</td>\n",
       "      <td>8.200000e-01</td>\n",
       "    </tr>\n",
       "    <tr>\n",
       "      <th>25%</th>\n",
       "      <td>1.717314e+04</td>\n",
       "      <td>6.100000e+01</td>\n",
       "      <td>9.000000e-03</td>\n",
       "      <td>1.000000e+00</td>\n",
       "      <td>5.210000e-02</td>\n",
       "      <td>1.088249e+04</td>\n",
       "      <td>2.650000e+02</td>\n",
       "      <td>9.000000e-03</td>\n",
       "      <td>9.000000e-03</td>\n",
       "      <td>1.000000e-02</td>\n",
       "      <td>...</td>\n",
       "      <td>1.000000e+00</td>\n",
       "      <td>0.000000e+00</td>\n",
       "      <td>0.000000e+00</td>\n",
       "      <td>0.000000e+00</td>\n",
       "      <td>9.300000e-03</td>\n",
       "      <td>9.300000e-01</td>\n",
       "      <td>3.520000e+00</td>\n",
       "      <td>6.300000e-01</td>\n",
       "      <td>5.700000e-01</td>\n",
       "      <td>8.600000e-01</td>\n",
       "    </tr>\n",
       "    <tr>\n",
       "      <th>50%</th>\n",
       "      <td>2.292256e+04</td>\n",
       "      <td>7.200000e+01</td>\n",
       "      <td>3.740000e-02</td>\n",
       "      <td>1.000000e+00</td>\n",
       "      <td>8.682788e-02</td>\n",
       "      <td>1.635123e+04</td>\n",
       "      <td>4.117100e+02</td>\n",
       "      <td>3.750000e-02</td>\n",
       "      <td>3.750000e-02</td>\n",
       "      <td>1.000000e-02</td>\n",
       "      <td>...</td>\n",
       "      <td>1.000000e+00</td>\n",
       "      <td>0.000000e+00</td>\n",
       "      <td>0.000000e+00</td>\n",
       "      <td>0.000000e+00</td>\n",
       "      <td>9.700000e-03</td>\n",
       "      <td>9.700000e-01</td>\n",
       "      <td>3.710000e+00</td>\n",
       "      <td>6.600000e-01</td>\n",
       "      <td>5.900000e-01</td>\n",
       "      <td>8.900000e-01</td>\n",
       "    </tr>\n",
       "    <tr>\n",
       "      <th>75%</th>\n",
       "      <td>2.978572e+04</td>\n",
       "      <td>7.300000e+01</td>\n",
       "      <td>1.399000e-01</td>\n",
       "      <td>2.000000e+00</td>\n",
       "      <td>1.392000e-01</td>\n",
       "      <td>2.271053e+04</td>\n",
       "      <td>6.062600e+02</td>\n",
       "      <td>1.460000e-01</td>\n",
       "      <td>1.460000e-01</td>\n",
       "      <td>3.000000e-02</td>\n",
       "      <td>...</td>\n",
       "      <td>1.000000e+00</td>\n",
       "      <td>0.000000e+00</td>\n",
       "      <td>0.000000e+00</td>\n",
       "      <td>0.000000e+00</td>\n",
       "      <td>9.900000e-03</td>\n",
       "      <td>9.900000e-01</td>\n",
       "      <td>3.840000e+00</td>\n",
       "      <td>6.800000e-01</td>\n",
       "      <td>5.900000e-01</td>\n",
       "      <td>9.200000e-01</td>\n",
       "    </tr>\n",
       "    <tr>\n",
       "      <th>max</th>\n",
       "      <td>2.432811e+05</td>\n",
       "      <td>8.600000e+01</td>\n",
       "      <td>2.299000e+01</td>\n",
       "      <td>5.000000e+00</td>\n",
       "      <td>8.121600e+04</td>\n",
       "      <td>2.128795e+05</td>\n",
       "      <td>1.705755e+04</td>\n",
       "      <td>2.400000e+01</td>\n",
       "      <td>2.400000e+01</td>\n",
       "      <td>1.000000e+00</td>\n",
       "      <td>...</td>\n",
       "      <td>1.000000e+00</td>\n",
       "      <td>1.000000e+00</td>\n",
       "      <td>1.000000e+00</td>\n",
       "      <td>1.000000e+00</td>\n",
       "      <td>1.100000e-02</td>\n",
       "      <td>1.110000e+00</td>\n",
       "      <td>3.860000e+00</td>\n",
       "      <td>7.500000e-01</td>\n",
       "      <td>1.220000e+00</td>\n",
       "      <td>9.600000e-01</td>\n",
       "    </tr>\n",
       "  </tbody>\n",
       "</table>\n",
       "<p>8 rows × 101 columns</p>\n",
       "</div>"
      ],
      "text/plain": [
       "       originalloanamount  originalloanterm  originalinterestratepercentage  \\\n",
       "count        1.730233e+07      1.730233e+07                    1.730233e+07   \n",
       "mean         2.428780e+04      6.659573e+01                    1.556459e-01   \n",
       "std          1.013864e+04      8.425659e+00                    6.905820e-01   \n",
       "min          7.209300e+02      1.200000e+01                    0.000000e+00   \n",
       "25%          1.717314e+04      6.100000e+01                    9.000000e-03   \n",
       "50%          2.292256e+04      7.200000e+01                    3.740000e-02   \n",
       "75%          2.978572e+04      7.300000e+01                    1.399000e-01   \n",
       "max          2.432811e+05      8.600000e+01                    2.299000e+01   \n",
       "\n",
       "       graceperiodnumber  paymenttoincomepercentage  \\\n",
       "count       1.730233e+07               1.724297e+07   \n",
       "mean        1.502839e+00               1.133885e+00   \n",
       "std         5.702940e-01               4.065185e+01   \n",
       "min         0.000000e+00               0.000000e+00   \n",
       "25%         1.000000e+00               5.210000e-02   \n",
       "50%         1.000000e+00               8.682788e-02   \n",
       "75%         2.000000e+00               1.392000e-01   \n",
       "max         5.000000e+00               8.121600e+04   \n",
       "\n",
       "       reportingperiodbeginningloanbalanceamount  \\\n",
       "count                               1.728079e+07   \n",
       "mean                                1.745285e+04   \n",
       "std                                 9.569933e+03   \n",
       "min                                 0.000000e+00   \n",
       "25%                                 1.088249e+04   \n",
       "50%                                 1.635123e+04   \n",
       "75%                                 2.271053e+04   \n",
       "max                                 2.128795e+05   \n",
       "\n",
       "       nextreportingperiodpaymentamountdue  \\\n",
       "count                         1.725741e+07   \n",
       "mean                          4.992643e+02   \n",
       "std                           4.853595e+02   \n",
       "min                          -4.537913e+04   \n",
       "25%                           2.650000e+02   \n",
       "50%                           4.117100e+02   \n",
       "75%                           6.062600e+02   \n",
       "max                           1.705755e+04   \n",
       "\n",
       "       reportingperiodinterestratepercentage  nextinterestratepercentage  \\\n",
       "count                           1.730154e+07                1.730154e+07   \n",
       "mean                            2.322092e-01                2.322092e-01   \n",
       "std                             1.090127e+00                1.090126e+00   \n",
       "min                             0.000000e+00                0.000000e+00   \n",
       "25%                             9.000000e-03                9.000000e-03   \n",
       "50%                             3.750000e-02                3.750000e-02   \n",
       "75%                             1.460000e-01                1.460000e-01   \n",
       "max                             2.400000e+01                2.400000e+01   \n",
       "\n",
       "       servicingfeepercentage       ...        zerobalance_code[]  \\\n",
       "count            1.730233e+07       ...              1.730233e+07   \n",
       "mean             5.234222e-02       ...              9.771813e-01   \n",
       "std              1.864605e-01       ...              1.493251e-01   \n",
       "min              0.000000e+00       ...              0.000000e+00   \n",
       "25%              1.000000e-02       ...              1.000000e+00   \n",
       "50%              1.000000e-02       ...              1.000000e+00   \n",
       "75%              3.000000e-02       ...              1.000000e+00   \n",
       "max              1.000000e+00       ...              1.000000e+00   \n",
       "\n",
       "       zerobalance_code[\"99\"]  zerobalance_code[\"1\"]  zerobalance_code[\"4\"]  \\\n",
       "count            1.730233e+07           1.730233e+07           1.730233e+07   \n",
       "mean             2.276237e-02           5.548386e-05           8.091396e-07   \n",
       "std              1.491450e-01           7.448542e-03           8.995215e-04   \n",
       "min              0.000000e+00           0.000000e+00           0.000000e+00   \n",
       "25%              0.000000e+00           0.000000e+00           0.000000e+00   \n",
       "50%              0.000000e+00           0.000000e+00           0.000000e+00   \n",
       "75%              0.000000e+00           0.000000e+00           0.000000e+00   \n",
       "max              1.000000e+00           1.000000e+00           1.000000e+00   \n",
       "\n",
       "       S&P/Experian Auto Default Index     AutoIndex  BankCardIndex  \\\n",
       "count                     1.730233e+07  1.730233e+07   1.730233e+07   \n",
       "mean                      9.708901e-03  9.865052e-01   3.654231e+00   \n",
       "std                       5.660996e-04  6.235218e-02   2.029891e-01   \n",
       "min                       8.900000e-03  8.900000e-01   3.140000e+00   \n",
       "25%                       9.300000e-03  9.300000e-01   3.520000e+00   \n",
       "50%                       9.700000e-03  9.700000e-01   3.710000e+00   \n",
       "75%                       9.900000e-03  9.900000e-01   3.840000e+00   \n",
       "max                       1.100000e-02  1.110000e+00   3.860000e+00   \n",
       "\n",
       "       FirstMortgageIndex  SecondMortgageIndex  CompositeIndex  \n",
       "count        1.730233e+07         1.730233e+07    1.730233e+07  \n",
       "mean         6.666839e-01         6.591004e-01    8.961008e-01  \n",
       "std          3.160004e-02         1.914183e-01    3.658019e-02  \n",
       "min          6.300000e-01         4.800000e-01    8.200000e-01  \n",
       "25%          6.300000e-01         5.700000e-01    8.600000e-01  \n",
       "50%          6.600000e-01         5.900000e-01    8.900000e-01  \n",
       "75%          6.800000e-01         5.900000e-01    9.200000e-01  \n",
       "max          7.500000e-01         1.220000e+00    9.600000e-01  \n",
       "\n",
       "[8 rows x 101 columns]"
      ]
     },
     "execution_count": 178,
     "metadata": {},
     "output_type": "execute_result"
    }
   ],
   "source": [
    "df.describe()"
   ]
  },
  {
   "cell_type": "markdown",
   "metadata": {},
   "source": [
    "## Deliquency Buckets Current Vs Non-Current"
   ]
  },
  {
   "cell_type": "code",
   "execution_count": 179,
   "metadata": {},
   "outputs": [
    {
     "data": {
      "image/png": "[encoded data removed]",
      "text/plain": [
       "<matplotlib.figure.Figure at 0x21ab8cadeb8>"
      ]
     },
     "metadata": {},
     "output_type": "display_data"
    },
    {
     "name": "stdout",
     "output_type": "stream",
     "text": [
      "Number of loans Current : 15367237     Number of loans Not Current : 1935093\n"
     ]
    }
   ],
   "source": [
    "LABELS = ('Current', 'Not Current')\n",
    "count_classes = pd.value_counts(df.currentdelinquencystatus>0, sort = True)\n",
    "count_classes.plot(kind = 'bar', rot=0)\n",
    "plt.xticks(range(2), LABELS)\n",
    "plt.title('Deliquency Class')\n",
    "plt.ylabel(\"Number of Loans\")\n",
    "plt.show()\n",
    "print('Number of loans Current :', count_classes[0],'   ', 'Number of loans Not Current :', count_classes[1],)"
   ]
  },
  {
   "cell_type": "code",
   "execution_count": 180,
   "metadata": {
    "collapsed": true
   },
   "outputs": [],
   "source": [
    "#pd.value_counts(df.currentdelinquencystatus)"
   ]
  },
  {
   "cell_type": "code",
   "execution_count": 181,
   "metadata": {},
   "outputs": [
    {
     "data": {
      "text/plain": [
       "count    1.730081e+07\n",
       "mean     2.581539e+00\n",
       "std      1.053865e+01\n",
       "min     -1.000000e+00\n",
       "25%      0.000000e+00\n",
       "50%      0.000000e+00\n",
       "75%      0.000000e+00\n",
       "max      2.490000e+02\n",
       "Name: currentdelinquencystatus, dtype: float64"
      ]
     },
     "execution_count": 181,
     "metadata": {},
     "output_type": "execute_result"
    }
   ],
   "source": [
    "df.currentdelinquencystatus.describe()"
   ]
  },
  {
   "cell_type": "code",
   "execution_count": 182,
   "metadata": {},
   "outputs": [
    {
     "name": "stdout",
     "output_type": "stream",
     "text": [
      "No blank current delinquency status\n"
     ]
    },
    {
     "data": {
      "text/plain": [
       "(17302330, 102)"
      ]
     },
     "execution_count": 182,
     "metadata": {},
     "output_type": "execute_result"
    }
   ],
   "source": [
    "u=pd.value_counts(df.currentdelinquencystatus==''.index) \n",
    "if len(u)<2:\n",
    "    print('No blank current delinquency status')\n",
    "else: \n",
    "    print('Number of loans with blank current delinquency status',':', u[1])\n",
    "    #print('Dropping ', u[1], 'rows and retaining loans with correct interest paid throughdate')\n",
    "    #df=df[df.interestpaidthroughdate>'1900-01-01']\n",
    "df.shape"
   ]
  },
  {
   "cell_type": "markdown",
   "metadata": {},
   "source": [
    "## Label Creation for Machine Learning"
   ]
  },
  {
   "cell_type": "code",
   "execution_count": 183,
   "metadata": {},
   "outputs": [
    {
     "data": {
      "image/png": "[encoded data removed]",
      "text/plain": [
       "<matplotlib.figure.Figure at 0x21ab8cc91d0>"
      ]
     },
     "metadata": {},
     "output_type": "display_data"
    },
    {
     "name": "stdout",
     "output_type": "stream",
     "text": [
      "Number of loans Current : 15365715     Number of loans Defaulted : 1935093\n"
     ]
    }
   ],
   "source": [
    "def map_label(*args):\n",
    "    columns = [col for col in args]\n",
    "    for column in columns:\n",
    "        if column > 0:\n",
    "            return 1\n",
    "        elif column == 0:\n",
    "            return 0\n",
    "        \n",
    "df['label'] = list(map(map_label, df.currentdelinquencystatus ))\n",
    "\n",
    "LABELS = ('Current', 'Default')\n",
    "count_classes = pd.value_counts(df.label, sort = True)\n",
    "count_classes.plot(kind = 'bar', rot=0)\n",
    "plt.xticks(range(2), LABELS)\n",
    "plt.title('Revised Deliquency Class')\n",
    "plt.ylabel(\"Number of Loans\")\n",
    "plt.show()\n",
    "print('Number of loans Current :', count_classes[0],'   ', 'Number of loans Defaulted :', count_classes[1],)"
   ]
  },
  {
   "cell_type": "markdown",
   "metadata": {},
   "source": [
    "### Loan Balance Amount at the End of Reporting Period"
   ]
  },
  {
   "cell_type": "code",
   "execution_count": 184,
   "metadata": {},
   "outputs": [
    {
     "data": {
      "image/png": "[encoded data removed]",
      "text/plain": [
       "<matplotlib.figure.Figure at 0x21ab8cd69b0>"
      ]
     },
     "metadata": {},
     "output_type": "display_data"
    }
   ],
   "source": [
    "current_df = df[df.label==0]\n",
    "not_current_df = df[df.label==1]\n",
    "bins = np.linspace(0, 100000, 100)\n",
    "plt.hist(current_df.reportingperiodactualendbalanceamount, bins, alpha=0.6, \n",
    "         #density=True, \n",
    "         label='CURRENT')\n",
    "plt.hist(not_current_df.reportingperiodactualendbalanceamount, bins, alpha=1, \n",
    "         #density=True, \n",
    "         label='NOT CURRENT')\n",
    "plt.legend(loc='upper right')\n",
    "plt.title(\"Loan Balance Amount at the end of reporting Period\")\n",
    "plt.xlabel('Loan Balance Amount')\n",
    "plt.ylabel('Number of of Loans')\n",
    "plt.show()"
   ]
  },
  {
   "cell_type": "markdown",
   "metadata": {},
   "source": [
    "### Manual oversampling of default data "
   ]
  },
  {
   "cell_type": "code",
   "execution_count": 185,
   "metadata": {},
   "outputs": [
    {
     "name": "stdout",
     "output_type": "stream",
     "text": [
      "default:  (1935093, 103)\n",
      "copy default data  7  times\n",
      "0\n"
     ]
    },
    {
     "data": {
      "image/png": "[encoded data removed]",
      "text/plain": [
       "<matplotlib.figure.Figure at 0x21ab8c0bd68>"
      ]
     },
     "metadata": {},
     "output_type": "display_data"
    },
    {
     "name": "stdout",
     "output_type": "stream",
     "text": [
      "Top  -1  counts:  \n",
      " 0.0    15365715\n",
      "Name: label, dtype: int64\n",
      "(17302330, 103)\n",
      "False    15367237\n",
      "True      1935093\n",
      "Name: label, dtype: int64\n"
     ]
    }
   ],
   "source": [
    "#def manual_oversampling(df):\n",
    "default=df[df.label==1]\n",
    "print('default: ',default.shape)\n",
    "b=int((df.shape[0]-default.shape[0])/(default.shape[0]))\n",
    "print('copy default data ',b, ' times')\n",
    "b=int(b*manualOversamplingFactor)\n",
    "print(b)\n",
    "for i in range(b):\n",
    "    df=df.append(default, ignore_index=True)\n",
    "df=df.sample(frac=1).reset_index(drop=True)\n",
    "draw(df.label, title='Manual Oversampling -Current Vs Non-Current', ylabel='Number of Loans', sort=True)\n",
    "print(df.shape)\n",
    "print(pd.value_counts(df.label==1))\n",
    "#return df\n",
    "   "
   ]
  },
  {
   "cell_type": "code",
   "execution_count": 186,
   "metadata": {},
   "outputs": [
    {
     "name": "stdout",
     "output_type": "stream",
     "text": [
      "False    15367237\n",
      "True      1935093\n",
      "Name: label, dtype: int64\n"
     ]
    },
    {
     "data": {
      "text/plain": [
       "(17302330, 103)"
      ]
     },
     "execution_count": 186,
     "metadata": {},
     "output_type": "execute_result"
    }
   ],
   "source": [
    "#manual_oversampling(df)\n",
    "print(pd.value_counts(df.label==1))\n",
    "df.shape"
   ]
  },
  {
   "cell_type": "code",
   "execution_count": 187,
   "metadata": {},
   "outputs": [
    {
     "data": {
      "text/plain": [
       "originalloanamount                           float64\n",
       "originalloanterm                               int64\n",
       "originalinterestratepercentage               float64\n",
       "graceperiodnumber                              int64\n",
       "obligorcreditscore                            object\n",
       "paymenttoincomepercentage                    float64\n",
       "reportingperiodbeginningloanbalanceamount    float64\n",
       "nextreportingperiodpaymentamountdue          float64\n",
       "reportingperiodinterestratepercentage        float64\n",
       "nextinterestratepercentage                   float64\n",
       "servicingfeepercentage                       float64\n",
       "servicingflatfeeamount                       float64\n",
       "otherservicerfeeretainedbyservicer           float64\n",
       "otherassesseduncollectedservicerfeeamount    float64\n",
       "scheduledinterestamount                      float64\n",
       "scheduledprincipalamount                     float64\n",
       "otherprincipaladjustmentamount               float64\n",
       "reportingperiodactualendbalanceamount        float64\n",
       "reportingperiodscheduledpaymentamount        float64\n",
       "totalactualamountpaid                        float64\n",
       "actualinterestcollectedamount                float64\n",
       "actualprincipalcollectedamount               float64\n",
       "actualothercollectedamount                   float64\n",
       "serviceradvancedamount                       float64\n",
       "currentdelinquencystatus                     float64\n",
       "reportingperiodending_2018-06-30               int64\n",
       "reportingperiodending_2018-05-31               int64\n",
       "reportingperiodending_2018-04-30               int64\n",
       "reportingperiodending_2018-03-31               int64\n",
       "reportingperiodending_2018-02-28               int64\n",
       "                                              ...   \n",
       "credit_type_Consumer Credit Bureau             int64\n",
       "credit_type_Consumer Bureau                    int64\n",
       "credit_type_Commercial Bureau                  int64\n",
       "credit_type_Unknown/Invalid                    int64\n",
       "income_code2.0                                 int64\n",
       "income_code3.0                                 int64\n",
       "income_code1.0                                 int64\n",
       "income_code4.0                                 int64\n",
       "income_code5.0                                 int64\n",
       "empl_code2.0                                   int64\n",
       "empl_code3.0                                   int64\n",
       "empl_code1.0                                   int64\n",
       "coobligorindicator_true                        int64\n",
       "daystofirstpayment                             int64\n",
       "reportingperiodmodificationindicator_true      int64\n",
       "servicingadvancemethod_code1.0                 int64\n",
       "servicingadvancemethod_code2.0                 int64\n",
       "servicingadvancemethod_code4.0                 int64\n",
       "zerobalanceeffectivedate_calc                float64\n",
       "zerobalance_code[]                             int64\n",
       "zerobalance_code[\"99\"]                         int64\n",
       "zerobalance_code[\"1\"]                          int64\n",
       "zerobalance_code[\"4\"]                          int64\n",
       "S&P/Experian Auto Default Index              float64\n",
       "AutoIndex                                    float64\n",
       "BankCardIndex                                float64\n",
       "FirstMortgageIndex                           float64\n",
       "SecondMortgageIndex                          float64\n",
       "CompositeIndex                               float64\n",
       "label                                        float64\n",
       "Length: 103, dtype: object"
      ]
     },
     "execution_count": 187,
     "metadata": {},
     "output_type": "execute_result"
    }
   ],
   "source": [
    "#df.dtypes"
   ]
  },
  {
   "cell_type": "markdown",
   "metadata": {},
   "source": [
    "### Oversampling with SMOTE"
   ]
  },
  {
   "cell_type": "code",
   "execution_count": 188,
   "metadata": {
    "collapsed": true
   },
   "outputs": [],
   "source": [
    "# from imblearn.over_sampling import SMOTE, ADASYN\n",
    "# x_train, y_train = SMOTE().fit_resample(x_train, y_train)"
   ]
  },
  {
   "cell_type": "code",
   "execution_count": 189,
   "metadata": {
    "collapsed": true
   },
   "outputs": [],
   "source": [
    "# #Apply SMOTE to create synthetic observations from minority class\n",
    "# #Source:https://github.com/scikit-learn-contrib/imbalanced-learn\n",
    "# from imblearn.over_sampling import SMOTE #Over sampling\n",
    "# sm = SMOTE(ratio='auto',kind='regular')\n",
    "# X_sampled,y_sampled = sm.fit_sample(X,y.values.ravel())\n",
    "\n",
    "# #Percentage of fraudlent records in original data\n",
    "# Source_data_no_fraud_count = len(data[data.Class==0])\n",
    "# Source_data_fraud_count = len(data[data.Class==1])\n",
    "# print('Percentage of fraud counts in original dataset:{}%'.format((Source_data_fraud_count*100)/(Source_data_no_fraud_count+Source_data_fraud_count)))\n",
    "\n",
    "# #Percentage of fraudlent records in sampled data\n",
    "# Sampled_data_no_fraud_count = len(y_sampled[y_sampled==0])\n",
    "# Sampled_data_fraud_count = len(y_sampled[y_sampled==1])\n",
    "# print('Percentage of fraud counts in the new data:{}%'.format((Sampled_data_fraud_count*100)/(Sampled_data_no_fraud_count+Sampled_data_fraud_count)))"
   ]
  },
  {
   "cell_type": "markdown",
   "metadata": {
    "collapsed": true
   },
   "source": [
    "### Naive Random Oversampling"
   ]
  },
  {
   "cell_type": "code",
   "execution_count": 190,
   "metadata": {
    "collapsed": true
   },
   "outputs": [],
   "source": [
    "# from imblearn.over_sampling import RandomOverSampler\n",
    "# ros = RandomOverSampler(random_state=0)\n",
    "# X_resampled, y_resampled = ros.fit_resample(X, y)\n",
    "# from collections import Counter\n",
    "# print(sorted(Counter(y_resampled).items()))"
   ]
  },
  {
   "cell_type": "markdown",
   "metadata": {
    "collapsed": true
   },
   "source": [
    "#  Clean up for Machine Learning"
   ]
  },
  {
   "cell_type": "code",
   "execution_count": 191,
   "metadata": {},
   "outputs": [
    {
     "data": {
      "text/plain": [
       "(17302330, 103)"
      ]
     },
     "execution_count": 191,
     "metadata": {},
     "output_type": "execute_result"
    }
   ],
   "source": [
    "df.shape"
   ]
  },
  {
   "cell_type": "code",
   "execution_count": 192,
   "metadata": {
    "scrolled": false
   },
   "outputs": [
    {
     "data": {
      "text/html": [
       "<div>\n",
       "<style scoped>\n",
       "    .dataframe tbody tr th:only-of-type {\n",
       "        vertical-align: middle;\n",
       "    }\n",
       "\n",
       "    .dataframe tbody tr th {\n",
       "        vertical-align: top;\n",
       "    }\n",
       "\n",
       "    .dataframe thead th {\n",
       "        text-align: right;\n",
       "    }\n",
       "</style>\n",
       "<table border=\"1\" class=\"dataframe\">\n",
       "  <thead>\n",
       "    <tr style=\"text-align: right;\">\n",
       "      <th></th>\n",
       "      <th>originalloanamount</th>\n",
       "      <th>originalloanterm</th>\n",
       "      <th>originalinterestratepercentage</th>\n",
       "      <th>graceperiodnumber</th>\n",
       "      <th>obligorcreditscore</th>\n",
       "      <th>paymenttoincomepercentage</th>\n",
       "      <th>reportingperiodbeginningloanbalanceamount</th>\n",
       "      <th>nextreportingperiodpaymentamountdue</th>\n",
       "      <th>reportingperiodinterestratepercentage</th>\n",
       "      <th>nextinterestratepercentage</th>\n",
       "      <th>...</th>\n",
       "      <th>zerobalance_code[\"99\"]</th>\n",
       "      <th>zerobalance_code[\"1\"]</th>\n",
       "      <th>zerobalance_code[\"4\"]</th>\n",
       "      <th>S&amp;P/Experian Auto Default Index</th>\n",
       "      <th>AutoIndex</th>\n",
       "      <th>BankCardIndex</th>\n",
       "      <th>FirstMortgageIndex</th>\n",
       "      <th>SecondMortgageIndex</th>\n",
       "      <th>CompositeIndex</th>\n",
       "      <th>label</th>\n",
       "    </tr>\n",
       "  </thead>\n",
       "  <tbody>\n",
       "    <tr>\n",
       "      <th>0</th>\n",
       "      <td>18989.04</td>\n",
       "      <td>72</td>\n",
       "      <td>0.1835</td>\n",
       "      <td>1</td>\n",
       "      <td>742</td>\n",
       "      <td>0.073975</td>\n",
       "      <td>18989.04</td>\n",
       "      <td>458.68</td>\n",
       "      <td>0.1835</td>\n",
       "      <td>0.1835</td>\n",
       "      <td>...</td>\n",
       "      <td>0</td>\n",
       "      <td>0</td>\n",
       "      <td>0</td>\n",
       "      <td>0.0105</td>\n",
       "      <td>1.09</td>\n",
       "      <td>3.64</td>\n",
       "      <td>0.72</td>\n",
       "      <td>0.80</td>\n",
       "      <td>0.96</td>\n",
       "      <td>0.0</td>\n",
       "    </tr>\n",
       "    <tr>\n",
       "      <th>1</th>\n",
       "      <td>27316.75</td>\n",
       "      <td>74</td>\n",
       "      <td>0.0000</td>\n",
       "      <td>2</td>\n",
       "      <td>760</td>\n",
       "      <td>0.108400</td>\n",
       "      <td>15100.00</td>\n",
       "      <td>0.00</td>\n",
       "      <td>0.0000</td>\n",
       "      <td>0.0000</td>\n",
       "      <td>...</td>\n",
       "      <td>0</td>\n",
       "      <td>0</td>\n",
       "      <td>0</td>\n",
       "      <td>0.0097</td>\n",
       "      <td>0.96</td>\n",
       "      <td>3.56</td>\n",
       "      <td>0.63</td>\n",
       "      <td>0.59</td>\n",
       "      <td>0.86</td>\n",
       "      <td>0.0</td>\n",
       "    </tr>\n",
       "    <tr>\n",
       "      <th>2</th>\n",
       "      <td>23059.00</td>\n",
       "      <td>74</td>\n",
       "      <td>0.0290</td>\n",
       "      <td>2</td>\n",
       "      <td>761</td>\n",
       "      <td>0.102900</td>\n",
       "      <td>14633.82</td>\n",
       "      <td>0.00</td>\n",
       "      <td>0.0290</td>\n",
       "      <td>0.0290</td>\n",
       "      <td>...</td>\n",
       "      <td>0</td>\n",
       "      <td>0</td>\n",
       "      <td>0</td>\n",
       "      <td>0.0093</td>\n",
       "      <td>0.93</td>\n",
       "      <td>3.84</td>\n",
       "      <td>0.66</td>\n",
       "      <td>0.57</td>\n",
       "      <td>0.89</td>\n",
       "      <td>0.0</td>\n",
       "    </tr>\n",
       "    <tr>\n",
       "      <th>3</th>\n",
       "      <td>23238.72</td>\n",
       "      <td>73</td>\n",
       "      <td>0.0320</td>\n",
       "      <td>1</td>\n",
       "      <td>745</td>\n",
       "      <td>0.179200</td>\n",
       "      <td>21203.08</td>\n",
       "      <td>0.00</td>\n",
       "      <td>0.0320</td>\n",
       "      <td>0.0320</td>\n",
       "      <td>...</td>\n",
       "      <td>0</td>\n",
       "      <td>0</td>\n",
       "      <td>0</td>\n",
       "      <td>0.0107</td>\n",
       "      <td>1.10</td>\n",
       "      <td>3.44</td>\n",
       "      <td>0.68</td>\n",
       "      <td>1.22</td>\n",
       "      <td>0.91</td>\n",
       "      <td>0.0</td>\n",
       "    </tr>\n",
       "    <tr>\n",
       "      <th>4</th>\n",
       "      <td>50083.30</td>\n",
       "      <td>65</td>\n",
       "      <td>4.9700</td>\n",
       "      <td>0</td>\n",
       "      <td>774</td>\n",
       "      <td>14.180000</td>\n",
       "      <td>37523.45</td>\n",
       "      <td>0.00</td>\n",
       "      <td>5.0806</td>\n",
       "      <td>5.0806</td>\n",
       "      <td>...</td>\n",
       "      <td>1</td>\n",
       "      <td>0</td>\n",
       "      <td>0</td>\n",
       "      <td>0.0110</td>\n",
       "      <td>1.11</td>\n",
       "      <td>3.28</td>\n",
       "      <td>0.66</td>\n",
       "      <td>1.08</td>\n",
       "      <td>0.89</td>\n",
       "      <td>0.0</td>\n",
       "    </tr>\n",
       "  </tbody>\n",
       "</table>\n",
       "<p>5 rows × 103 columns</p>\n",
       "</div>"
      ],
      "text/plain": [
       "   originalloanamount  originalloanterm  originalinterestratepercentage  \\\n",
       "0            18989.04                72                          0.1835   \n",
       "1            27316.75                74                          0.0000   \n",
       "2            23059.00                74                          0.0290   \n",
       "3            23238.72                73                          0.0320   \n",
       "4            50083.30                65                          4.9700   \n",
       "\n",
       "   graceperiodnumber obligorcreditscore  paymenttoincomepercentage  \\\n",
       "0                  1                742                   0.073975   \n",
       "1                  2                760                   0.108400   \n",
       "2                  2                761                   0.102900   \n",
       "3                  1                745                   0.179200   \n",
       "4                  0                774                  14.180000   \n",
       "\n",
       "   reportingperiodbeginningloanbalanceamount  \\\n",
       "0                                   18989.04   \n",
       "1                                   15100.00   \n",
       "2                                   14633.82   \n",
       "3                                   21203.08   \n",
       "4                                   37523.45   \n",
       "\n",
       "   nextreportingperiodpaymentamountdue  reportingperiodinterestratepercentage  \\\n",
       "0                               458.68                                 0.1835   \n",
       "1                                 0.00                                 0.0000   \n",
       "2                                 0.00                                 0.0290   \n",
       "3                                 0.00                                 0.0320   \n",
       "4                                 0.00                                 5.0806   \n",
       "\n",
       "   nextinterestratepercentage  ...    zerobalance_code[\"99\"]  \\\n",
       "0                      0.1835  ...                         0   \n",
       "1                      0.0000  ...                         0   \n",
       "2                      0.0290  ...                         0   \n",
       "3                      0.0320  ...                         0   \n",
       "4                      5.0806  ...                         1   \n",
       "\n",
       "   zerobalance_code[\"1\"]  zerobalance_code[\"4\"]  \\\n",
       "0                      0                      0   \n",
       "1                      0                      0   \n",
       "2                      0                      0   \n",
       "3                      0                      0   \n",
       "4                      0                      0   \n",
       "\n",
       "   S&P/Experian Auto Default Index  AutoIndex  BankCardIndex  \\\n",
       "0                           0.0105       1.09           3.64   \n",
       "1                           0.0097       0.96           3.56   \n",
       "2                           0.0093       0.93           3.84   \n",
       "3                           0.0107       1.10           3.44   \n",
       "4                           0.0110       1.11           3.28   \n",
       "\n",
       "   FirstMortgageIndex  SecondMortgageIndex  CompositeIndex  label  \n",
       "0                0.72                 0.80            0.96    0.0  \n",
       "1                0.63                 0.59            0.86    0.0  \n",
       "2                0.66                 0.57            0.89    0.0  \n",
       "3                0.68                 1.22            0.91    0.0  \n",
       "4                0.66                 1.08            0.89    0.0  \n",
       "\n",
       "[5 rows x 103 columns]"
      ]
     },
     "execution_count": 192,
     "metadata": {},
     "output_type": "execute_result"
    }
   ],
   "source": [
    "#df=df.replace([np.inf, -np.inf], np.nan)\n",
    "#df=df.fillna(0, inplace=True)\n",
    "#df=df.dropna(inplace=True)\n",
    "#df.head()\n",
    "df.head()"
   ]
  },
  {
   "cell_type": "code",
   "execution_count": 193,
   "metadata": {},
   "outputs": [
    {
     "data": {
      "text/plain": [
       "originalloanamount                           False\n",
       "originalloanterm                             False\n",
       "originalinterestratepercentage               False\n",
       "graceperiodnumber                            False\n",
       "obligorcreditscore                           False\n",
       "paymenttoincomepercentage                     True\n",
       "reportingperiodbeginningloanbalanceamount     True\n",
       "nextreportingperiodpaymentamountdue           True\n",
       "reportingperiodinterestratepercentage         True\n",
       "nextinterestratepercentage                    True\n",
       "servicingfeepercentage                       False\n",
       "servicingflatfeeamount                        True\n",
       "otherservicerfeeretainedbyservicer            True\n",
       "otherassesseduncollectedservicerfeeamount     True\n",
       "scheduledinterestamount                       True\n",
       "scheduledprincipalamount                      True\n",
       "otherprincipaladjustmentamount               False\n",
       "reportingperiodactualendbalanceamount        False\n",
       "reportingperiodscheduledpaymentamount         True\n",
       "totalactualamountpaid                         True\n",
       "actualinterestcollectedamount                 True\n",
       "actualprincipalcollectedamount                True\n",
       "actualothercollectedamount                    True\n",
       "serviceradvancedamount                        True\n",
       "currentdelinquencystatus                      True\n",
       "reportingperiodending_2018-06-30             False\n",
       "reportingperiodending_2018-05-31             False\n",
       "reportingperiodending_2018-04-30             False\n",
       "reportingperiodending_2018-03-31             False\n",
       "reportingperiodending_2018-02-28             False\n",
       "                                             ...  \n",
       "credit_type_Consumer Credit Bureau           False\n",
       "credit_type_Consumer Bureau                  False\n",
       "credit_type_Commercial Bureau                False\n",
       "credit_type_Unknown/Invalid                  False\n",
       "income_code2.0                               False\n",
       "income_code3.0                               False\n",
       "income_code1.0                               False\n",
       "income_code4.0                               False\n",
       "income_code5.0                               False\n",
       "empl_code2.0                                 False\n",
       "empl_code3.0                                 False\n",
       "empl_code1.0                                 False\n",
       "coobligorindicator_true                      False\n",
       "daystofirstpayment                           False\n",
       "reportingperiodmodificationindicator_true    False\n",
       "servicingadvancemethod_code1.0               False\n",
       "servicingadvancemethod_code2.0               False\n",
       "servicingadvancemethod_code4.0               False\n",
       "zerobalanceeffectivedate_calc                False\n",
       "zerobalance_code[]                           False\n",
       "zerobalance_code[\"99\"]                       False\n",
       "zerobalance_code[\"1\"]                        False\n",
       "zerobalance_code[\"4\"]                        False\n",
       "S&P/Experian Auto Default Index              False\n",
       "AutoIndex                                    False\n",
       "BankCardIndex                                False\n",
       "FirstMortgageIndex                           False\n",
       "SecondMortgageIndex                          False\n",
       "CompositeIndex                               False\n",
       "label                                         True\n",
       "Length: 103, dtype: bool"
      ]
     },
     "execution_count": 193,
     "metadata": {},
     "output_type": "execute_result"
    }
   ],
   "source": [
    "df.isnull().any()"
   ]
  },
  {
   "cell_type": "code",
   "execution_count": 194,
   "metadata": {},
   "outputs": [
    {
     "data": {
      "text/plain": [
       "18"
      ]
     },
     "execution_count": 194,
     "metadata": {},
     "output_type": "execute_result"
    }
   ],
   "source": [
    "df.isnull().any().sum()"
   ]
  },
  {
   "cell_type": "code",
   "execution_count": 195,
   "metadata": {},
   "outputs": [
    {
     "data": {
      "text/plain": [
       " 0.0    15365715\n",
       " 1.0     1935093\n",
       "NaN         1522\n",
       "Name: label, dtype: int64"
      ]
     },
     "execution_count": 195,
     "metadata": {},
     "output_type": "execute_result"
    }
   ],
   "source": [
    "pd.value_counts(df.label, dropna=False)"
   ]
  },
  {
   "cell_type": "code",
   "execution_count": 196,
   "metadata": {
    "collapsed": true
   },
   "outputs": [],
   "source": [
    "df.label.fillna(0, inplace=True)"
   ]
  },
  {
   "cell_type": "code",
   "execution_count": 197,
   "metadata": {},
   "outputs": [
    {
     "data": {
      "text/plain": [
       "0.0    15367237\n",
       "1.0     1935093\n",
       "Name: label, dtype: int64"
      ]
     },
     "execution_count": 197,
     "metadata": {},
     "output_type": "execute_result"
    }
   ],
   "source": [
    "pd.value_counts(df.label, dropna=False)"
   ]
  },
  {
   "cell_type": "code",
   "execution_count": 198,
   "metadata": {},
   "outputs": [
    {
     "data": {
      "text/plain": [
       " 0.00    150179\n",
       "NaN       59363\n",
       " 0.05     14081\n",
       " 0.06     12108\n",
       " 0.04     12001\n",
       "Name: paymenttoincomepercentage, dtype: int64"
      ]
     },
     "execution_count": 198,
     "metadata": {},
     "output_type": "execute_result"
    }
   ],
   "source": [
    "pd.value_counts(df.paymenttoincomepercentage, dropna=False).head()"
   ]
  },
  {
   "cell_type": "code",
   "execution_count": 199,
   "metadata": {
    "collapsed": true
   },
   "outputs": [],
   "source": [
    "df.paymenttoincomepercentage.dropna(inplace=True)"
   ]
  },
  {
   "cell_type": "code",
   "execution_count": 200,
   "metadata": {},
   "outputs": [
    {
     "data": {
      "text/plain": [
       "0.00    150179\n",
       "0.05     14081\n",
       "0.06     12108\n",
       "0.04     12001\n",
       "0.07     10181\n",
       "Name: paymenttoincomepercentage, dtype: int64"
      ]
     },
     "execution_count": 200,
     "metadata": {},
     "output_type": "execute_result"
    }
   ],
   "source": [
    "pd.value_counts(df.paymenttoincomepercentage, dropna=False).head()"
   ]
  },
  {
   "cell_type": "code",
   "execution_count": 201,
   "metadata": {},
   "outputs": [
    {
     "data": {
      "text/plain": [
       "NaN     16659823\n",
       " 0.0      642507\n",
       "Name: servicingflatfeeamount, dtype: int64"
      ]
     },
     "execution_count": 201,
     "metadata": {},
     "output_type": "execute_result"
    }
   ],
   "source": [
    "df['servicingflatfeeamount']=df.servicingflatfeeamount.astype('float')\n",
    "pd.value_counts(df.servicingflatfeeamount, dropna=False) "
   ]
  },
  {
   "cell_type": "code",
   "execution_count": 202,
   "metadata": {
    "collapsed": true
   },
   "outputs": [],
   "source": [
    "df.servicingflatfeeamount.fillna(0,inplace=True)"
   ]
  },
  {
   "cell_type": "code",
   "execution_count": 203,
   "metadata": {},
   "outputs": [
    {
     "data": {
      "text/plain": [
       "NaN         21539\n",
       " 0.0        13248\n",
       " 10000.0     1303\n",
       " 12000.0     1052\n",
       " 14000.0      923\n",
       "Name: reportingperiodbeginningloanbalanceamount, dtype: int64"
      ]
     },
     "execution_count": 203,
     "metadata": {},
     "output_type": "execute_result"
    }
   ],
   "source": [
    "pd.value_counts(df.reportingperiodbeginningloanbalanceamount, dropna=False).head()"
   ]
  },
  {
   "cell_type": "code",
   "execution_count": 204,
   "metadata": {
    "collapsed": true
   },
   "outputs": [],
   "source": [
    "df.reportingperiodbeginningloanbalanceamount.fillna(0, inplace=True)"
   ]
  },
  {
   "cell_type": "code",
   "execution_count": 205,
   "metadata": {},
   "outputs": [
    {
     "data": {
      "text/plain": [
       "0.0        34787\n",
       "10000.0     1303\n",
       "12000.0     1052\n",
       "14000.0      923\n",
       "5000.0       921\n",
       "Name: reportingperiodbeginningloanbalanceamount, dtype: int64"
      ]
     },
     "execution_count": 205,
     "metadata": {},
     "output_type": "execute_result"
    }
   ],
   "source": [
    "pd.value_counts(df.reportingperiodbeginningloanbalanceamount, dropna=False).head()"
   ]
  },
  {
   "cell_type": "code",
   "execution_count": 206,
   "metadata": {},
   "outputs": [
    {
     "data": {
      "text/plain": [
       "NaN      16659823\n",
       " 0.0       638769\n",
       " 15.0          77\n",
       " 20.0          30\n",
       " 30.0          27\n",
       "Name: otherservicerfeeretainedbyservicer, dtype: int64"
      ]
     },
     "execution_count": 206,
     "metadata": {},
     "output_type": "execute_result"
    }
   ],
   "source": [
    "pd.value_counts(df.otherservicerfeeretainedbyservicer, dropna=False).head()"
   ]
  },
  {
   "cell_type": "code",
   "execution_count": 207,
   "metadata": {
    "collapsed": true
   },
   "outputs": [],
   "source": [
    "df.otherservicerfeeretainedbyservicer.fillna(0, inplace=True)"
   ]
  },
  {
   "cell_type": "code",
   "execution_count": 208,
   "metadata": {},
   "outputs": [
    {
     "data": {
      "text/plain": [
       "0.0     17298592\n",
       "15.0          77\n",
       "20.0          30\n",
       "30.0          27\n",
       "45.0          15\n",
       "Name: otherservicerfeeretainedbyservicer, dtype: int64"
      ]
     },
     "execution_count": 208,
     "metadata": {},
     "output_type": "execute_result"
    }
   ],
   "source": [
    "pd.value_counts(df.otherservicerfeeretainedbyservicer, dropna=False).head()"
   ]
  },
  {
   "cell_type": "code",
   "execution_count": 209,
   "metadata": {},
   "outputs": [
    {
     "data": {
      "text/plain": [
       "NaN      11799191\n",
       " 0.00     5468122\n",
       " 1.97           9\n",
       " 0.67           7\n",
       " 0.95           7\n",
       "Name: serviceradvancedamount, dtype: int64"
      ]
     },
     "execution_count": 209,
     "metadata": {},
     "output_type": "execute_result"
    }
   ],
   "source": [
    "pd.value_counts(df.serviceradvancedamount, dropna=False).head()"
   ]
  },
  {
   "cell_type": "code",
   "execution_count": 210,
   "metadata": {
    "collapsed": true
   },
   "outputs": [],
   "source": [
    "df.serviceradvancedamount.fillna(0, inplace=True)"
   ]
  },
  {
   "cell_type": "code",
   "execution_count": 211,
   "metadata": {},
   "outputs": [
    {
     "data": {
      "text/plain": [
       "0.00     17267313\n",
       "1.97            9\n",
       "0.67            7\n",
       "0.95            7\n",
       "11.93           6\n",
       "Name: serviceradvancedamount, dtype: int64"
      ]
     },
     "execution_count": 211,
     "metadata": {},
     "output_type": "execute_result"
    }
   ],
   "source": [
    "pd.value_counts(df.serviceradvancedamount, dropna=False).head()"
   ]
  },
  {
   "cell_type": "code",
   "execution_count": 212,
   "metadata": {},
   "outputs": [
    {
     "data": {
      "text/plain": [
       "originalloanamount                           False\n",
       "originalloanterm                             False\n",
       "originalinterestratepercentage               False\n",
       "graceperiodnumber                            False\n",
       "obligorcreditscore                           False\n",
       "paymenttoincomepercentage                     True\n",
       "reportingperiodbeginningloanbalanceamount    False\n",
       "nextreportingperiodpaymentamountdue           True\n",
       "reportingperiodinterestratepercentage         True\n",
       "nextinterestratepercentage                    True\n",
       "servicingfeepercentage                       False\n",
       "servicingflatfeeamount                       False\n",
       "otherservicerfeeretainedbyservicer           False\n",
       "otherassesseduncollectedservicerfeeamount     True\n",
       "scheduledinterestamount                       True\n",
       "scheduledprincipalamount                      True\n",
       "otherprincipaladjustmentamount               False\n",
       "reportingperiodactualendbalanceamount        False\n",
       "reportingperiodscheduledpaymentamount         True\n",
       "totalactualamountpaid                         True\n",
       "actualinterestcollectedamount                 True\n",
       "actualprincipalcollectedamount                True\n",
       "actualothercollectedamount                    True\n",
       "serviceradvancedamount                       False\n",
       "currentdelinquencystatus                      True\n",
       "reportingperiodending_2018-06-30             False\n",
       "reportingperiodending_2018-05-31             False\n",
       "reportingperiodending_2018-04-30             False\n",
       "reportingperiodending_2018-03-31             False\n",
       "reportingperiodending_2018-02-28             False\n",
       "                                             ...  \n",
       "credit_type_Consumer Credit Bureau           False\n",
       "credit_type_Consumer Bureau                  False\n",
       "credit_type_Commercial Bureau                False\n",
       "credit_type_Unknown/Invalid                  False\n",
       "income_code2.0                               False\n",
       "income_code3.0                               False\n",
       "income_code1.0                               False\n",
       "income_code4.0                               False\n",
       "income_code5.0                               False\n",
       "empl_code2.0                                 False\n",
       "empl_code3.0                                 False\n",
       "empl_code1.0                                 False\n",
       "coobligorindicator_true                      False\n",
       "daystofirstpayment                           False\n",
       "reportingperiodmodificationindicator_true    False\n",
       "servicingadvancemethod_code1.0               False\n",
       "servicingadvancemethod_code2.0               False\n",
       "servicingadvancemethod_code4.0               False\n",
       "zerobalanceeffectivedate_calc                False\n",
       "zerobalance_code[]                           False\n",
       "zerobalance_code[\"99\"]                       False\n",
       "zerobalance_code[\"1\"]                        False\n",
       "zerobalance_code[\"4\"]                        False\n",
       "S&P/Experian Auto Default Index              False\n",
       "AutoIndex                                    False\n",
       "BankCardIndex                                False\n",
       "FirstMortgageIndex                           False\n",
       "SecondMortgageIndex                          False\n",
       "CompositeIndex                               False\n",
       "label                                        False\n",
       "Length: 103, dtype: bool"
      ]
     },
     "execution_count": 212,
     "metadata": {},
     "output_type": "execute_result"
    }
   ],
   "source": [
    "df.isnull().any()"
   ]
  },
  {
   "cell_type": "code",
   "execution_count": 213,
   "metadata": {},
   "outputs": [
    {
     "data": {
      "text/plain": [
       " 0.00    150179\n",
       "NaN       59363\n",
       " 0.05     14081\n",
       " 0.06     12108\n",
       " 0.04     12001\n",
       "Name: paymenttoincomepercentage, dtype: int64"
      ]
     },
     "execution_count": 213,
     "metadata": {},
     "output_type": "execute_result"
    }
   ],
   "source": [
    "pd.value_counts(df.paymenttoincomepercentage, dropna=False).head()"
   ]
  },
  {
   "cell_type": "code",
   "execution_count": 214,
   "metadata": {
    "collapsed": true
   },
   "outputs": [],
   "source": [
    "df.dropna(inplace=True)"
   ]
  },
  {
   "cell_type": "code",
   "execution_count": 215,
   "metadata": {
    "collapsed": true
   },
   "outputs": [],
   "source": [
    "#df.isnull().any().sum()"
   ]
  },
  {
   "cell_type": "code",
   "execution_count": 216,
   "metadata": {},
   "outputs": [
    {
     "data": {
      "text/plain": [
       "(17165336, 103)"
      ]
     },
     "execution_count": 216,
     "metadata": {},
     "output_type": "execute_result"
    }
   ],
   "source": [
    "df.shape "
   ]
  },
  {
   "cell_type": "markdown",
   "metadata": {},
   "source": [
    "### Preparing data for Machine Learning"
   ]
  },
  {
   "cell_type": "code",
   "execution_count": 217,
   "metadata": {},
   "outputs": [
    {
     "data": {
      "text/plain": [
       "(17165336,)"
      ]
     },
     "execution_count": 217,
     "metadata": {},
     "output_type": "execute_result"
    }
   ],
   "source": [
    "# prepare label for scikit-learn\n",
    "Y=df.label.values\n",
    "Y.shape"
   ]
  },
  {
   "cell_type": "code",
   "execution_count": 218,
   "metadata": {},
   "outputs": [
    {
     "data": {
      "text/plain": [
       "(17165336,)"
      ]
     },
     "execution_count": 218,
     "metadata": {},
     "output_type": "execute_result"
    }
   ],
   "source": [
    "# reshape labels for machine learning\n",
    "#Y=Y.reshape(Y.shape[0],1)\n",
    "Y.shape"
   ]
  },
  {
   "cell_type": "code",
   "execution_count": 219,
   "metadata": {},
   "outputs": [
    {
     "data": {
      "text/plain": [
       "(17165336, 103)"
      ]
     },
     "execution_count": 219,
     "metadata": {},
     "output_type": "execute_result"
    }
   ],
   "source": [
    "# prepare input data for scikit-learn\n",
    "input=df.values\n",
    "input.shape"
   ]
  },
  {
   "cell_type": "code",
   "execution_count": 220,
   "metadata": {},
   "outputs": [
    {
     "name": "stdout",
     "output_type": "stream",
     "text": [
      "13732268\n"
     ]
    }
   ],
   "source": [
    "# calculate train/test split\n",
    "len_train = int(len(input)*train_split)\n",
    "print(len_train)"
   ]
  },
  {
   "cell_type": "code",
   "execution_count": 221,
   "metadata": {
    "collapsed": true
   },
   "outputs": [],
   "source": [
    "# apply train/test split to labels\n",
    "y_train = Y[0:len_train]\n",
    "y_test = Y[len_train:]"
   ]
  },
  {
   "cell_type": "code",
   "execution_count": 222,
   "metadata": {},
   "outputs": [
    {
     "data": {
      "text/plain": [
       "(17165336, 103)"
      ]
     },
     "execution_count": 222,
     "metadata": {},
     "output_type": "execute_result"
    }
   ],
   "source": [
    "#reshape input data for machine learning\n",
    "#input=input.reshape(input.shape[0], input.shape[1], 1)\n",
    "input.shape"
   ]
  },
  {
   "cell_type": "code",
   "execution_count": 223,
   "metadata": {},
   "outputs": [
    {
     "data": {
      "text/plain": [
       "(13732268, 103)"
      ]
     },
     "execution_count": 223,
     "metadata": {},
     "output_type": "execute_result"
    }
   ],
   "source": [
    "# apply train/test split to input data\n",
    "x_train = input[0:len_train]\n",
    "x_test = input[len_train:]\n",
    "x_train.shape"
   ]
  },
  {
   "cell_type": "markdown",
   "metadata": {},
   "source": [
    "### Scikit-Learn Scaling"
   ]
  },
  {
   "cell_type": "code",
   "execution_count": 224,
   "metadata": {
    "collapsed": true
   },
   "outputs": [],
   "source": [
    "#from sklearn.preprocessing import MinMaxScaler\n",
    "# from sklearn.preprocessing import minmax_scale\n",
    "# from sklearn.preprocessing import MaxAbsScaler\n",
    "from sklearn.preprocessing import StandardScaler\n",
    "# from sklearn.preprocessing import RobustScaler\n",
    "# from sklearn.preprocessing import Normalizer\n",
    "# from sklearn.preprocessing import QuantileTransformer\n",
    "# from sklearn.preprocessing import PowerTransformer"
   ]
  },
  {
   "cell_type": "code",
   "execution_count": 225,
   "metadata": {},
   "outputs": [
    {
     "name": "stderr",
     "output_type": "stream",
     "text": [
      "C:\\Progra~1\\Anaconda3_4\\lib\\site-packages\\sklearn\\utils\\validation.py:444: DataConversionWarning: Data with input dtype object was converted to float64 by StandardScaler.\n",
      "  warnings.warn(msg, DataConversionWarning)\n",
      "C:\\Progra~1\\Anaconda3_4\\lib\\site-packages\\sklearn\\utils\\validation.py:444: DataConversionWarning: Data with input dtype object was converted to float64 by StandardScaler.\n",
      "  warnings.warn(msg, DataConversionWarning)\n",
      "C:\\Progra~1\\Anaconda3_4\\lib\\site-packages\\sklearn\\utils\\validation.py:444: DataConversionWarning: Data with input dtype object was converted to float64 by StandardScaler.\n",
      "  warnings.warn(msg, DataConversionWarning)\n",
      "C:\\Progra~1\\Anaconda3_4\\lib\\site-packages\\sklearn\\utils\\validation.py:444: DataConversionWarning: Data with input dtype object was converted to float64 by StandardScaler.\n",
      "  warnings.warn(msg, DataConversionWarning)\n"
     ]
    }
   ],
   "source": [
    "x_scaler=StandardScaler()\n",
    "x_train = x_scaler.fit_transform(x_train)\n",
    "x_test = x_scaler.fit_transform(x_test)"
   ]
  },
  {
   "cell_type": "markdown",
   "metadata": {},
   "source": [
    "### Keras Scaling - Normalize"
   ]
  },
  {
   "cell_type": "code",
   "execution_count": 226,
   "metadata": {
    "collapsed": true,
    "scrolled": false
   },
   "outputs": [],
   "source": [
    "# x_train_keras_scaled = keras.utils.normalize(x_train, axis=-1, order=2)\n",
    "# x_test_keras_scaled = keras.utils.normalize(x_test, axis=-1, order=2)\n",
    "# x_train_keras_scaled.shape"
   ]
  },
  {
   "cell_type": "markdown",
   "metadata": {},
   "source": [
    "### Linear Support Vector Machine Algorithm"
   ]
  },
  {
   "cell_type": "code",
   "execution_count": 227,
   "metadata": {
    "collapsed": true
   },
   "outputs": [],
   "source": [
    "# from sklearn import svm, neighbors\n",
    "# lsvc=svm.LinearSVC()\n",
    "# clf_lsvc=lsvc.fit(x_train, y_train)\n",
    "# confidence_lsvc=clf_lsvc.score(x_test, y_test)"
   ]
  },
  {
   "cell_type": "markdown",
   "metadata": {},
   "source": [
    "### K-Nearest Neighbors Algorithm"
   ]
  },
  {
   "cell_type": "code",
   "execution_count": 228,
   "metadata": {
    "collapsed": true
   },
   "outputs": [],
   "source": [
    "# knn=neighbors.KNeighborsClassifier(n_neighbors=10, n_jobs=-1)\n",
    "# clf_knn=knn.fit(x_train, y_train)\n",
    "# confidence_knn=clf_knn.score(x_test, y_test)"
   ]
  },
  {
   "cell_type": "markdown",
   "metadata": {},
   "source": [
    "### Random Forest Tree Algorithm"
   ]
  },
  {
   "cell_type": "code",
   "execution_count": 229,
   "metadata": {
    "collapsed": true
   },
   "outputs": [],
   "source": [
    "rfor=RandomForestClassifier()\n",
    "clf_rfor = rfor.fit(x_train, y_train)\n",
    "confidence_rfor=clf_rfor.score(x_test, y_test)"
   ]
  },
  {
   "cell_type": "markdown",
   "metadata": {},
   "source": [
    "### Logistic Regression Algorithm"
   ]
  },
  {
   "cell_type": "code",
   "execution_count": 230,
   "metadata": {
    "collapsed": true
   },
   "outputs": [],
   "source": [
    "# lr = LogisticRegression(solver='lbfgs')\n",
    "# clf_lr = lr.fit(x_train, y_train)\n",
    "# confidence_lr=clf_lr.score(x_test, y_test)"
   ]
  },
  {
   "cell_type": "markdown",
   "metadata": {},
   "source": [
    "### Gaussian Naive Bayes Algorithm"
   ]
  },
  {
   "cell_type": "code",
   "execution_count": 231,
   "metadata": {
    "collapsed": true
   },
   "outputs": [],
   "source": [
    "# from sklearn.naive_bayes import GaussianNB\n",
    "# gnb = GaussianNB()\n",
    "# clf_gnb = gnb.fit(x_train, y_train)\n",
    "# confidence_gnb=clf_gnb.score(x_test, y_test)"
   ]
  },
  {
   "cell_type": "markdown",
   "metadata": {},
   "source": [
    "### Deep Learning - GRU"
   ]
  },
  {
   "cell_type": "code",
   "execution_count": 232,
   "metadata": {
    "collapsed": true
   },
   "outputs": [],
   "source": [
    "\n",
    "# model = keras.Sequential()\n",
    "# model.add(keras.layers.GRU(128, activation='relu',  \n",
    "#                            kernel_regularizer=regularizers.l2(0.01), \n",
    "#                            input_shape=(x_train_keras_scaled.shape[1:]), \n",
    "#                            return_sequences=True))\n",
    "# model.add(keras.layers.Dropout(0.3))\n",
    "\n",
    "# model.add(keras.layers.GRU(64, activation='relu', kernel_regularizer=regularizers.l2(0.01)))\n",
    "# model.add(keras.layers.Dropout(0.2))\n",
    "\n",
    "# model.add(keras.layers.Dense(32, activation='relu',  kernel_regularizer=regularizers.l2(0.01)))\n",
    "# model.add(keras.layers.Dropout(0.3))\n",
    "\n",
    "# model.add(keras.layers.Dense(2, activation='softmax'))\n",
    "\n",
    "# optimizer = tf.keras.optimizers.Adam(lr=1e-3, decay=1e-6)\n",
    "# model.summary()"
   ]
  },
  {
   "cell_type": "markdown",
   "metadata": {},
   "source": [
    "### Model Configuration"
   ]
  },
  {
   "cell_type": "code",
   "execution_count": 233,
   "metadata": {
    "collapsed": true
   },
   "outputs": [],
   "source": [
    "#save the best model\n",
    "#keras.callbacks.Callback()\n",
    "# checkPoint = ModelCheckpoint(filepath = path+'model/'+name+'.h5',\n",
    "#                             save_best_only = True,\n",
    "#                             verbose=0)\n",
    "# tensorboard = TensorBoard(log_dir=path+'logs/{}'.format(name),\n",
    "#                           histogram_freq=0,\n",
    "#                           batch_size=32,\n",
    "#                           write_graph=True,\n",
    "#                           write_images=False)\n",
    "# history = keras.callbacks.History()"
   ]
  },
  {
   "cell_type": "markdown",
   "metadata": {},
   "source": [
    "### Train the Model"
   ]
  },
  {
   "cell_type": "code",
   "execution_count": 234,
   "metadata": {
    "collapsed": true,
    "scrolled": false
   },
   "outputs": [],
   "source": [
    "# model.compile(loss='sparse_categorical_crossentropy', optimizer=optimizer, metrics=['accuracy'])\n",
    "\n",
    "# model.fit(x_train, y_train, epochs=epochs, validation_data=(x_test_keras_scaled, y_test), batch_size=254, \n",
    "#         # callbacks = [\n",
    "#    # baseLogger,\n",
    "#     #history,\n",
    "#     #tensorboard\n",
    "#     #learningRateScheduler,\n",
    "#     #reduceLROnPlateau\n",
    "#      #    ], \n",
    "#           shuffle=False\n",
    "# )\n"
   ]
  },
  {
   "cell_type": "markdown",
   "metadata": {
    "collapsed": true
   },
   "source": [
    "### Save the Model"
   ]
  },
  {
   "cell_type": "code",
   "execution_count": 235,
   "metadata": {
    "collapsed": true
   },
   "outputs": [],
   "source": [
    "# model.save(path+'model/'+name+'.h5')"
   ]
  },
  {
   "cell_type": "code",
   "execution_count": 236,
   "metadata": {
    "collapsed": true
   },
   "outputs": [],
   "source": [
    "# test_loss, test_acc = model.evaluate(x_test_keras_scaled, y_test)\n",
    "# print('Test Loss : ',test_loss,' ','Test Accuracy : ', test_acc)"
   ]
  },
  {
   "cell_type": "code",
   "execution_count": 237,
   "metadata": {
    "collapsed": true
   },
   "outputs": [],
   "source": [
    "# y_pred = model.predict_classes(x_test)"
   ]
  },
  {
   "cell_type": "code",
   "execution_count": 238,
   "metadata": {
    "collapsed": true
   },
   "outputs": [],
   "source": [
    "#print(y_pred)"
   ]
  },
  {
   "cell_type": "code",
   "execution_count": 239,
   "metadata": {
    "collapsed": true
   },
   "outputs": [],
   "source": [
    "#len(y_pred)"
   ]
  },
  {
   "cell_type": "code",
   "execution_count": 240,
   "metadata": {
    "collapsed": true
   },
   "outputs": [],
   "source": [
    "# np.count_nonzero(y_pred)"
   ]
  },
  {
   "cell_type": "code",
   "execution_count": 241,
   "metadata": {
    "collapsed": true
   },
   "outputs": [],
   "source": [
    "# np.count_nonzero(y_test)"
   ]
  },
  {
   "cell_type": "markdown",
   "metadata": {},
   "source": [
    "### Load Saved Model"
   ]
  },
  {
   "cell_type": "code",
   "execution_count": 242,
   "metadata": {
    "collapsed": true
   },
   "outputs": [],
   "source": [
    "#saved_model = load_model(path+'model/ABS_Keras-GRU254GRU128D32D2-adam1540234475.h5')"
   ]
  },
  {
   "cell_type": "code",
   "execution_count": 243,
   "metadata": {
    "collapsed": true
   },
   "outputs": [],
   "source": [
    "# test_loss, test_acc = saved_model.evaluate(x_test_keras_scaled, y_test)\n",
    "# print('Test Loss : ',test_loss,' ','Test Accuracy : ', test_acc)"
   ]
  },
  {
   "cell_type": "markdown",
   "metadata": {
    "collapsed": true
   },
   "source": [
    "### Predict Classes"
   ]
  },
  {
   "cell_type": "code",
   "execution_count": 244,
   "metadata": {
    "collapsed": true
   },
   "outputs": [],
   "source": [
    "x_pred = x_test"
   ]
  },
  {
   "cell_type": "code",
   "execution_count": 245,
   "metadata": {
    "collapsed": true
   },
   "outputs": [],
   "source": [
    "#prediction_gru = model.predict_classes(x_pred)\n",
    "# prediction_lsvc = clf_lsvc.predict(x_pred)\n",
    "# prediction_knn = clf_knn.predict(x_pred)\n",
    "prediction_rfor = clf_rfor.predict(x_pred)\n",
    "# prediction_lr = clf_lr.predict(x_pred)\n",
    "# prediction_gnb = clf_gnb.predict(x_pred)"
   ]
  },
  {
   "cell_type": "code",
   "execution_count": 246,
   "metadata": {
    "collapsed": true
   },
   "outputs": [],
   "source": [
    "predictions = [\n",
    "  # prediction_gru,\n",
    "#     prediction_lsvc,\n",
    "#     prediction_knn,\n",
    "    prediction_rfor,\n",
    "#     prediction_lr,\n",
    "#     prediction_gnb \n",
    "]"
   ]
  },
  {
   "cell_type": "markdown",
   "metadata": {},
   "source": [
    "### Confusion Matrix"
   ]
  },
  {
   "cell_type": "code",
   "execution_count": 247,
   "metadata": {
    "scrolled": false
   },
   "outputs": [
    {
     "name": "stdout",
     "output_type": "stream",
     "text": [
      "ROC_AUC_SCORE ;  1.0\n",
      "Confusion matrix, without normalization\n",
      "[[3048533       0]\n",
      " [      0  384535]]\n",
      "Confusion matrix, without normalization\n",
      "[[3048533       0]\n",
      " [      0  384535]]\n"
     ]
    },
    {
     "data": {
      "image/png": "[encoded data removed]",
      "text/plain": [
       "<matplotlib.figure.Figure at 0x21ab93f5400>"
      ]
     },
     "metadata": {},
     "output_type": "display_data"
    },
    {
     "data": {
      "image/png": "[encoded data removed]",
      "text/plain": [
       "<matplotlib.figure.Figure at 0x21ab8d089e8>"
      ]
     },
     "metadata": {},
     "output_type": "display_data"
    }
   ],
   "source": [
    "class_names = ['Current', 'Non-Current']\n",
    "\n",
    "def plot_confusion_matrix(cm, classes,\n",
    "                          normalize=False,\n",
    "                          title='Confusion matrix',\n",
    "                          cmap=plt.cm.Blues):\n",
    "    \"\"\"\n",
    "    This function prints and plots the confusion matrix.\n",
    "    Normalization can be applied by setting `normalize=True`.\n",
    "    \"\"\"\n",
    "    if normalize:\n",
    "        cm = cm.astype('float') / cm.sum(axis=1)[:, np.newaxis]\n",
    "        print(\"Normalized confusion matrix\")\n",
    "    else:\n",
    "        print('Confusion matrix, without normalization')\n",
    "\n",
    "    print(cm)\n",
    "\n",
    "    plt.imshow(cm, interpolation='nearest', cmap=cmap)\n",
    "    plt.title(title)\n",
    "    plt.colorbar()\n",
    "    tick_marks = np.arange(len(classes))\n",
    "    plt.xticks(tick_marks, classes, rotation=45)\n",
    "    plt.yticks(tick_marks, classes)\n",
    "\n",
    "    fmt = '.2f' if normalize else 'd'\n",
    "    thresh = cm.max() / 2.\n",
    "    for i, j in itertools.product(range(cm.shape[0]), range(cm.shape[1])):\n",
    "        plt.text(j, i, format(cm[i, j], fmt),\n",
    "                 horizontalalignment=\"center\",\n",
    "                 color=\"white\" if cm[i, j] > thresh else \"black\")\n",
    "\n",
    "    plt.ylabel('True label')\n",
    "    plt.xlabel('Predicted label')\n",
    "    plt.tight_layout()\n",
    "\n",
    "for prediction in predictions:\n",
    "        print('ROC_AUC_SCORE ; ', roc_auc_score(y_test, prediction))\n",
    "        # Compute confusion matrix\n",
    "        cnf_matrix = confusion_matrix(y_test, prediction)\n",
    "        np.set_printoptions(precision=2)\n",
    "\n",
    "        # Plot non-normalized confusion matrix\n",
    "        plt.figure()\n",
    "        plot_confusion_matrix(cnf_matrix, classes=class_names,\n",
    "                          title= 'Confusion matrix, without normalization')\n",
    "\n",
    "        # Plot normalized confusion matrix\n",
    "        plt.figure()\n",
    "        plot_confusion_matrix(cnf_matrix, classes=class_names, normalize=False,\n",
    "                          title='Normalized confusion matrix')\n",
    "\n",
    "        plt.show()"
   ]
  },
  {
   "cell_type": "code",
   "execution_count": 248,
   "metadata": {
    "collapsed": true
   },
   "outputs": [],
   "source": [
    "# fpr, tpr, thresholds = metrics.roc_curve(y_test, prediction, pos_label=2)\n",
    "# metrics.auc(fpr, tpr)"
   ]
  },
  {
   "cell_type": "code",
   "execution_count": 249,
   "metadata": {
    "collapsed": true
   },
   "outputs": [],
   "source": [
    "#1. find any string which has no numbers \n",
    "\n",
    "#2. find only numbers r'^([0-9]*)$'\n",
    "\n",
    "#3. find only blanks(empty strings) r'^(\\s+)$'"
   ]
  },
  {
   "cell_type": "code",
   "execution_count": 250,
   "metadata": {
    "collapsed": true
   },
   "outputs": [],
   "source": [
    "#at least one Nan in a row\n",
    "# df1=df[df.isnull().any(axis=1)]\n",
    "# df.isna()\n",
    "# df.notna()\n",
    "# df.loc[:,df.isna().any]"
   ]
  },
  {
   "cell_type": "code",
   "execution_count": 251,
   "metadata": {
    "collapsed": true
   },
   "outputs": [],
   "source": [
    "# #replace NaN with zero\n",
    "# df.fillna(0, inplace=True)"
   ]
  },
  {
   "cell_type": "code",
   "execution_count": null,
   "metadata": {
    "collapsed": true
   },
   "outputs": [],
   "source": []
  }
 ],
 "metadata": {
  "kernelspec": {
   "display_name": "Python [conda env:Anaconda3_4]",
   "language": "python",
   "name": "conda-env-Anaconda3_4-py"
  },
  "language_info": {
   "codemirror_mode": {
    "name": "ipython",
    "version": 3
   },
   "file_extension": ".py",
   "mimetype": "text/x-python",
   "name": "python",
   "nbconvert_exporter": "python",
   "pygments_lexer": "ipython3",
   "version": "3.6.1"
  }
 },
 "nbformat": 4,
 "nbformat_minor": 2
}
