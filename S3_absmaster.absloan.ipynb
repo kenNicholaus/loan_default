{
 "cells": [
  {
   "cell_type": "code",
   "execution_count": 1,
   "metadata": {},
   "outputs": [
    {
     "name": "stderr",
     "output_type": "stream",
     "text": [
      "Using TensorFlow backend.\n"
     ]
    }
   ],
   "source": [
    "import pandas as pd\n",
    "import numpy as np\n",
    "from matplotlib import pyplot as plt\n",
    "import tensorflow as tf\n",
    "from tensorflow import keras\n",
    "from keras import optimizers\n",
    "from keras.models import Sequential\n",
    "from keras.layers import Dense, Dropout, LSTM, GRU"
   ]
  },
  {
   "cell_type": "code",
   "execution_count": 2,
   "metadata": {
    "collapsed": true
   },
   "outputs": [],
   "source": [
    "default = 0"
   ]
  },
  {
   "cell_type": "code",
   "execution_count": 3,
   "metadata": {
    "collapsed": true
   },
   "outputs": [],
   "source": [
    "column_list = [\n",
    "    #'abs_loan.reportingperiodbeginningdate',\n",
    "'abs_loan.originalloanamount',\n",
    "'abs_loan.originalloanterm',\n",
    "'abs_loan.originalinterestratepercentage',\n",
    "'abs_loan.vehiclenewusedcode',\n",
    "'abs_loan.vehiclevalueamount',\n",
    "'abs_loan.obligorcreditscore',\n",
    "'abs_loan.obligorincomeverificationlevelcode',\n",
    "'abs_loan.obligoremploymentverificationcode',\n",
    "#'abs_loan.coobligorindicator', \n",
    "'abs_loan.paymenttoincomepercentage',\n",
    "'abs_loan.remainingtermtomaturitynumber',\n",
    "'abs_loan.reportingperiodbeginningloanbalanceamount',\n",
    "'abs_loan.nextreportingperiodpaymentamountdue',\n",
    "'abs_loan.reportingperiodinterestratepercentage',\n",
    "'abs_loan.nextinterestratepercentage',\n",
    "'abs_loan.servicingfeepercentage',\n",
    "'abs_loan.otherservicerfeeretainedbyservicer',\n",
    "'abs_loan.otherassesseduncollectedservicerfeeamount',\n",
    "'abs_loan.scheduledinterestamount', \n",
    "'abs_loan.scheduledprincipalamount',\n",
    "'abs_loan.otherprincipaladjustmentamount',\n",
    "'abs_loan.reportingperiodactualendbalanceamount',\n",
    "'abs_loan.reportingperiodscheduledpaymentamount',\n",
    "'abs_loan.totalactualamountpaid',\n",
    "'abs_loan.actualinterestcollectedamount',\n",
    "'abs_loan.actualprincipalcollectedamount',\n",
    "'abs_loan.actualothercollectedamount',\n",
    "'abs_loan.serviceradvancedamount', \n",
    "#'abs_loan.interestpaidthroughdate',\n",
    "'abs_loan.currentdelinquencystatus']"
   ]
  },
  {
   "cell_type": "code",
   "execution_count": 4,
   "metadata": {
    "collapsed": true
   },
   "outputs": [],
   "source": [
    "df=pd.read_csv('c:/users/ugy1/abs/datasets/s3/abs_loan.csv', \n",
    "               #use_cols=column_list, \n",
    "               nrows=420000, \n",
    "               low_memory=True, \n",
    "              index_col='abs_loan.originationdate', \n",
    "               parse_dates=True\n",
    "              )"
   ]
  },
  {
   "cell_type": "code",
   "execution_count": 5,
   "metadata": {},
   "outputs": [
    {
     "name": "stdout",
     "output_type": "stream",
     "text": [
      "73\n"
     ]
    },
    {
     "data": {
      "text/plain": [
       "Index(['abs_loan.cik', 'abs_loan.accessionnumber', 'abs_loan.assettypenumber',\n",
       "       'abs_loan.assetnumber', 'abs_loan.reportingperiodbeginningdate',\n",
       "       'abs_loan.reportingperiodendingdate', 'abs_loan.originatorname',\n",
       "       'abs_loan.originalloanamount', 'abs_loan.originalloanterm',\n",
       "       'abs_loan.loanmaturitydate', 'abs_loan.originalinterestratepercentage',\n",
       "       'abs_loan.interestcalculationtypecode',\n",
       "       'abs_loan.originalinterestratetypecode',\n",
       "       'abs_loan.originalinterestonlytermnumber',\n",
       "       'abs_loan.originalfirstpaymentdate', 'abs_loan.underwritingindicator',\n",
       "       'abs_loan.graceperiodnumber', 'abs_loan.paymenttypecode',\n",
       "       'abs_loan.subvented', 'abs_loan.vehiclemanufacturername',\n",
       "       'abs_loan.vehiclemodelname', 'abs_loan.vehiclenewusedcode',\n",
       "       'abs_loan.vehiclemodelyear', 'abs_loan.vehicletypecode',\n",
       "       'abs_loan.vehiclevalueamount', 'abs_loan.vehiclevaluesourcecode',\n",
       "       'abs_loan.obligorcreditscoretype', 'abs_loan.obligorcreditscore',\n",
       "       'abs_loan.obligorincomeverificationlevelcode',\n",
       "       'abs_loan.obligoremploymentverificationcode',\n",
       "       'abs_loan.coobligorindicator', 'abs_loan.paymenttoincomepercentage',\n",
       "       'abs_loan.obligorgeographiclocation', 'abs_loan.assetaddedindicator',\n",
       "       'abs_loan.remainingtermtomaturitynumber',\n",
       "       'abs_loan.reportingperiodmodificationindicator',\n",
       "       'abs_loan.servicingadvancemethodcode',\n",
       "       'abs_loan.reportingperiodbeginningloanbalanceamount',\n",
       "       'abs_loan.nextreportingperiodpaymentamountdue',\n",
       "       'abs_loan.reportingperiodinterestratepercentage',\n",
       "       'abs_loan.nextinterestratepercentage',\n",
       "       'abs_loan.servicingfeepercentage', 'abs_loan.servicingflatfeeamount',\n",
       "       'abs_loan.otherservicerfeeretainedbyservicer',\n",
       "       'abs_loan.otherassesseduncollectedservicerfeeamount',\n",
       "       'abs_loan.scheduledinterestamount', 'abs_loan.scheduledprincipalamount',\n",
       "       'abs_loan.otherprincipaladjustmentamount',\n",
       "       'abs_loan.reportingperiodactualendbalanceamount',\n",
       "       'abs_loan.reportingperiodscheduledpaymentamount',\n",
       "       'abs_loan.totalactualamountpaid',\n",
       "       'abs_loan.actualinterestcollectedamount',\n",
       "       'abs_loan.actualprincipalcollectedamount',\n",
       "       'abs_loan.actualothercollectedamount',\n",
       "       'abs_loan.serviceradvancedamount', 'abs_loan.interestpaidthroughdate',\n",
       "       'abs_loan.zerobalanceeffectivedate', 'abs_loan.zerobalancecode',\n",
       "       'abs_loan.currentdelinquencystatus', 'abs_loan.primaryloanservicername',\n",
       "       'abs_loan.mostrecentservicingtransferreceiveddate',\n",
       "       'abs_loan.assetsubjectdemandindicator',\n",
       "       'abs_loan.assetsubjectdemandstatuscode', 'abs_loan.repurchaseamount',\n",
       "       'abs_loan.demandresolutiondate', 'abs_loan.repurchasername',\n",
       "       'abs_loan.repurchasereplacementreasoncode',\n",
       "       'abs_loan.chargedoffprincipalamount', 'abs_loan.recoveredamount',\n",
       "       'abs_loan.modificationtypecode', 'abs_loan.paymentextendednumber',\n",
       "       'abs_loan.repossessedindicator', 'abs_loan.repossessedproceedsamount'],\n",
       "      dtype='object')"
      ]
     },
     "execution_count": 5,
     "metadata": {},
     "output_type": "execute_result"
    }
   ],
   "source": [
    "print(len(df.columns))\n",
    "df.columns"
   ]
  },
  {
   "cell_type": "code",
   "execution_count": 6,
   "metadata": {},
   "outputs": [
    {
     "data": {
      "text/plain": [
       "(420000, 73)"
      ]
     },
     "execution_count": 6,
     "metadata": {},
     "output_type": "execute_result"
    }
   ],
   "source": [
    "df.shape"
   ]
  },
  {
   "cell_type": "code",
   "execution_count": 7,
   "metadata": {},
   "outputs": [
    {
     "data": {
      "text/plain": [
       "abs_loan.cik                                            int64\n",
       "abs_loan.accessionnumber                               object\n",
       "abs_loan.assettypenumber                               object\n",
       "abs_loan.assetnumber                                    int64\n",
       "abs_loan.reportingperiodbeginningdate                  object\n",
       "abs_loan.reportingperiodendingdate                     object\n",
       "abs_loan.originatorname                                object\n",
       "abs_loan.originalloanamount                           float64\n",
       "abs_loan.originalloanterm                               int64\n",
       "abs_loan.loanmaturitydate                              object\n",
       "abs_loan.originalinterestratepercentage               float64\n",
       "abs_loan.interestcalculationtypecode                    int64\n",
       "abs_loan.originalinterestratetypecode                   int64\n",
       "abs_loan.originalinterestonlytermnumber               float64\n",
       "abs_loan.originalfirstpaymentdate                      object\n",
       "abs_loan.underwritingindicator                           bool\n",
       "abs_loan.graceperiodnumber                              int64\n",
       "abs_loan.paymenttypecode                                int64\n",
       "abs_loan.subvented                                     object\n",
       "abs_loan.vehiclemanufacturername                       object\n",
       "abs_loan.vehiclemodelname                              object\n",
       "abs_loan.vehiclenewusedcode                             int64\n",
       "abs_loan.vehiclemodelyear                               int64\n",
       "abs_loan.vehicletypecode                                int64\n",
       "abs_loan.vehiclevalueamount                           float64\n",
       "abs_loan.vehiclevaluesourcecode                         int64\n",
       "abs_loan.obligorcreditscoretype                        object\n",
       "abs_loan.obligorcreditscore                             int64\n",
       "abs_loan.obligorincomeverificationlevelcode             int64\n",
       "abs_loan.obligoremploymentverificationcode              int64\n",
       "                                                       ...   \n",
       "abs_loan.otherservicerfeeretainedbyservicer           float64\n",
       "abs_loan.otherassesseduncollectedservicerfeeamount    float64\n",
       "abs_loan.scheduledinterestamount                      float64\n",
       "abs_loan.scheduledprincipalamount                     float64\n",
       "abs_loan.otherprincipaladjustmentamount               float64\n",
       "abs_loan.reportingperiodactualendbalanceamount        float64\n",
       "abs_loan.reportingperiodscheduledpaymentamount        float64\n",
       "abs_loan.totalactualamountpaid                        float64\n",
       "abs_loan.actualinterestcollectedamount                float64\n",
       "abs_loan.actualprincipalcollectedamount               float64\n",
       "abs_loan.actualothercollectedamount                   float64\n",
       "abs_loan.serviceradvancedamount                       float64\n",
       "abs_loan.interestpaidthroughdate                       object\n",
       "abs_loan.zerobalanceeffectivedate                      object\n",
       "abs_loan.zerobalancecode                               object\n",
       "abs_loan.currentdelinquencystatus                       int64\n",
       "abs_loan.primaryloanservicername                       object\n",
       "abs_loan.mostrecentservicingtransferreceiveddate      float64\n",
       "abs_loan.assetsubjectdemandindicator                     bool\n",
       "abs_loan.assetsubjectdemandstatuscode                 float64\n",
       "abs_loan.repurchaseamount                             float64\n",
       "abs_loan.demandresolutiondate                         float64\n",
       "abs_loan.repurchasername                              float64\n",
       "abs_loan.repurchasereplacementreasoncode               object\n",
       "abs_loan.chargedoffprincipalamount                    float64\n",
       "abs_loan.recoveredamount                              float64\n",
       "abs_loan.modificationtypecode                          object\n",
       "abs_loan.paymentextendednumber                        float64\n",
       "abs_loan.repossessedindicator                            bool\n",
       "abs_loan.repossessedproceedsamount                    float64\n",
       "Length: 73, dtype: object"
      ]
     },
     "execution_count": 7,
     "metadata": {},
     "output_type": "execute_result"
    }
   ],
   "source": [
    "df.dtypes"
   ]
  },
  {
   "cell_type": "code",
   "execution_count": 8,
   "metadata": {},
   "outputs": [
    {
     "data": {
      "text/plain": [
       "Index(['abs_loan.cik', 'abs_loan.accessionnumber', 'abs_loan.assettypenumber',\n",
       "       'abs_loan.assetnumber', 'abs_loan.reportingperiodbeginningdate',\n",
       "       'abs_loan.reportingperiodendingdate', 'abs_loan.originatorname',\n",
       "       'abs_loan.originalloanamount', 'abs_loan.originalloanterm',\n",
       "       'abs_loan.loanmaturitydate', 'abs_loan.originalinterestratepercentage',\n",
       "       'abs_loan.interestcalculationtypecode',\n",
       "       'abs_loan.originalinterestratetypecode',\n",
       "       'abs_loan.originalinterestonlytermnumber',\n",
       "       'abs_loan.originalfirstpaymentdate', 'abs_loan.underwritingindicator',\n",
       "       'abs_loan.graceperiodnumber', 'abs_loan.paymenttypecode',\n",
       "       'abs_loan.subvented', 'abs_loan.vehiclemanufacturername',\n",
       "       'abs_loan.vehiclemodelname', 'abs_loan.vehiclenewusedcode',\n",
       "       'abs_loan.vehiclemodelyear', 'abs_loan.vehicletypecode',\n",
       "       'abs_loan.vehiclevalueamount', 'abs_loan.vehiclevaluesourcecode',\n",
       "       'abs_loan.obligorcreditscoretype', 'abs_loan.obligorcreditscore',\n",
       "       'abs_loan.obligorincomeverificationlevelcode',\n",
       "       'abs_loan.obligoremploymentverificationcode',\n",
       "       'abs_loan.coobligorindicator', 'abs_loan.paymenttoincomepercentage',\n",
       "       'abs_loan.obligorgeographiclocation', 'abs_loan.assetaddedindicator',\n",
       "       'abs_loan.remainingtermtomaturitynumber',\n",
       "       'abs_loan.reportingperiodmodificationindicator',\n",
       "       'abs_loan.servicingadvancemethodcode',\n",
       "       'abs_loan.reportingperiodbeginningloanbalanceamount',\n",
       "       'abs_loan.nextreportingperiodpaymentamountdue',\n",
       "       'abs_loan.reportingperiodinterestratepercentage',\n",
       "       'abs_loan.nextinterestratepercentage',\n",
       "       'abs_loan.servicingfeepercentage', 'abs_loan.servicingflatfeeamount',\n",
       "       'abs_loan.otherservicerfeeretainedbyservicer',\n",
       "       'abs_loan.otherassesseduncollectedservicerfeeamount',\n",
       "       'abs_loan.scheduledinterestamount', 'abs_loan.scheduledprincipalamount',\n",
       "       'abs_loan.otherprincipaladjustmentamount',\n",
       "       'abs_loan.reportingperiodactualendbalanceamount',\n",
       "       'abs_loan.reportingperiodscheduledpaymentamount',\n",
       "       'abs_loan.totalactualamountpaid',\n",
       "       'abs_loan.actualinterestcollectedamount',\n",
       "       'abs_loan.actualprincipalcollectedamount',\n",
       "       'abs_loan.actualothercollectedamount',\n",
       "       'abs_loan.serviceradvancedamount', 'abs_loan.interestpaidthroughdate',\n",
       "       'abs_loan.zerobalanceeffectivedate', 'abs_loan.zerobalancecode',\n",
       "       'abs_loan.currentdelinquencystatus', 'abs_loan.primaryloanservicername',\n",
       "       'abs_loan.mostrecentservicingtransferreceiveddate',\n",
       "       'abs_loan.assetsubjectdemandindicator',\n",
       "       'abs_loan.assetsubjectdemandstatuscode', 'abs_loan.repurchaseamount',\n",
       "       'abs_loan.demandresolutiondate', 'abs_loan.repurchasername',\n",
       "       'abs_loan.repurchasereplacementreasoncode',\n",
       "       'abs_loan.chargedoffprincipalamount', 'abs_loan.recoveredamount',\n",
       "       'abs_loan.modificationtypecode', 'abs_loan.paymentextendednumber',\n",
       "       'abs_loan.repossessedindicator', 'abs_loan.repossessedproceedsamount'],\n",
       "      dtype='object')"
      ]
     },
     "execution_count": 8,
     "metadata": {},
     "output_type": "execute_result"
    }
   ],
   "source": [
    "df.columns"
   ]
  },
  {
   "cell_type": "code",
   "execution_count": 9,
   "metadata": {
    "collapsed": true
   },
   "outputs": [],
   "source": [
    "column_list=[x.lower() for x in (column_list)]"
   ]
  },
  {
   "cell_type": "code",
   "execution_count": 10,
   "metadata": {
    "collapsed": true
   },
   "outputs": [],
   "source": [
    "df=df[column_list]"
   ]
  },
  {
   "cell_type": "code",
   "execution_count": 11,
   "metadata": {
    "collapsed": true
   },
   "outputs": [],
   "source": [
    "df.columns=df.columns.str.replace('abs_loan.','')"
   ]
  },
  {
   "cell_type": "code",
   "execution_count": 12,
   "metadata": {},
   "outputs": [
    {
     "data": {
      "text/html": [
       "<div>\n",
       "<style scoped>\n",
       "    .dataframe tbody tr th:only-of-type {\n",
       "        vertical-align: middle;\n",
       "    }\n",
       "\n",
       "    .dataframe tbody tr th {\n",
       "        vertical-align: top;\n",
       "    }\n",
       "\n",
       "    .dataframe thead th {\n",
       "        text-align: right;\n",
       "    }\n",
       "</style>\n",
       "<table border=\"1\" class=\"dataframe\">\n",
       "  <thead>\n",
       "    <tr style=\"text-align: right;\">\n",
       "      <th></th>\n",
       "      <th>originalloanamount</th>\n",
       "      <th>originalloanterm</th>\n",
       "      <th>originalinterestratepercentage</th>\n",
       "      <th>vehiclenewusedcode</th>\n",
       "      <th>vehiclevalueamount</th>\n",
       "      <th>obligorcreditscore</th>\n",
       "      <th>obligorincomeverificationlevelcode</th>\n",
       "      <th>obligoremploymentverificationcode</th>\n",
       "      <th>paymenttoincomepercentage</th>\n",
       "      <th>remainingtermtomaturitynumber</th>\n",
       "      <th>...</th>\n",
       "      <th>scheduledprincipalamount</th>\n",
       "      <th>otherprincipaladjustmentamount</th>\n",
       "      <th>reportingperiodactualendbalanceamount</th>\n",
       "      <th>reportingperiodscheduledpaymentamount</th>\n",
       "      <th>totalactualamountpaid</th>\n",
       "      <th>actualinterestcollectedamount</th>\n",
       "      <th>actualprincipalcollectedamount</th>\n",
       "      <th>actualothercollectedamount</th>\n",
       "      <th>serviceradvancedamount</th>\n",
       "      <th>currentdelinquencystatus</th>\n",
       "    </tr>\n",
       "  </thead>\n",
       "  <tbody>\n",
       "    <tr>\n",
       "      <th>count</th>\n",
       "      <td>420000.000000</td>\n",
       "      <td>420000.000000</td>\n",
       "      <td>420000.000000</td>\n",
       "      <td>420000.000000</td>\n",
       "      <td>4.200000e+05</td>\n",
       "      <td>420000.000000</td>\n",
       "      <td>420000.0</td>\n",
       "      <td>420000.0</td>\n",
       "      <td>420000.000000</td>\n",
       "      <td>420000.000000</td>\n",
       "      <td>...</td>\n",
       "      <td>420000.000000</td>\n",
       "      <td>420000.000000</td>\n",
       "      <td>420000.000000</td>\n",
       "      <td>420000.00000</td>\n",
       "      <td>420000.000000</td>\n",
       "      <td>420000.000000</td>\n",
       "      <td>420000.000000</td>\n",
       "      <td>420000.000000</td>\n",
       "      <td>420000.000000</td>\n",
       "      <td>420000.000000</td>\n",
       "    </tr>\n",
       "    <tr>\n",
       "      <th>mean</th>\n",
       "      <td>33741.512412</td>\n",
       "      <td>61.369971</td>\n",
       "      <td>2.434259</td>\n",
       "      <td>1.436686</td>\n",
       "      <td>4.593955e+04</td>\n",
       "      <td>779.414198</td>\n",
       "      <td>2.0</td>\n",
       "      <td>2.0</td>\n",
       "      <td>6.179419</td>\n",
       "      <td>43.684348</td>\n",
       "      <td>...</td>\n",
       "      <td>506.356638</td>\n",
       "      <td>327.567757</td>\n",
       "      <td>22118.292326</td>\n",
       "      <td>553.81530</td>\n",
       "      <td>847.560450</td>\n",
       "      <td>44.656931</td>\n",
       "      <td>808.067232</td>\n",
       "      <td>4.665264</td>\n",
       "      <td>1.305540</td>\n",
       "      <td>0.421443</td>\n",
       "    </tr>\n",
       "    <tr>\n",
       "      <th>std</th>\n",
       "      <td>16405.971306</td>\n",
       "      <td>10.096222</td>\n",
       "      <td>1.532988</td>\n",
       "      <td>0.495976</td>\n",
       "      <td>7.917621e+04</td>\n",
       "      <td>65.809843</td>\n",
       "      <td>0.0</td>\n",
       "      <td>0.0</td>\n",
       "      <td>5.401930</td>\n",
       "      <td>14.387148</td>\n",
       "      <td>...</td>\n",
       "      <td>296.731041</td>\n",
       "      <td>2811.311466</td>\n",
       "      <td>14912.620627</td>\n",
       "      <td>317.21954</td>\n",
       "      <td>2851.991029</td>\n",
       "      <td>50.102702</td>\n",
       "      <td>2846.720456</td>\n",
       "      <td>31.809362</td>\n",
       "      <td>12.467181</td>\n",
       "      <td>3.893368</td>\n",
       "    </tr>\n",
       "    <tr>\n",
       "      <th>min</th>\n",
       "      <td>3741.290000</td>\n",
       "      <td>16.000000</td>\n",
       "      <td>0.010000</td>\n",
       "      <td>1.000000</td>\n",
       "      <td>0.000000e+00</td>\n",
       "      <td>0.000000</td>\n",
       "      <td>2.0</td>\n",
       "      <td>2.0</td>\n",
       "      <td>0.000000</td>\n",
       "      <td>0.000000</td>\n",
       "      <td>...</td>\n",
       "      <td>0.000000</td>\n",
       "      <td>-72031.970000</td>\n",
       "      <td>0.000000</td>\n",
       "      <td>0.00000</td>\n",
       "      <td>-72031.970000</td>\n",
       "      <td>-1303.820000</td>\n",
       "      <td>-72031.970000</td>\n",
       "      <td>0.000000</td>\n",
       "      <td>0.000000</td>\n",
       "      <td>-9.000000</td>\n",
       "    </tr>\n",
       "    <tr>\n",
       "      <th>25%</th>\n",
       "      <td>22669.510000</td>\n",
       "      <td>60.000000</td>\n",
       "      <td>1.000000</td>\n",
       "      <td>1.000000</td>\n",
       "      <td>3.115000e+04</td>\n",
       "      <td>729.000000</td>\n",
       "      <td>2.0</td>\n",
       "      <td>2.0</td>\n",
       "      <td>2.990000</td>\n",
       "      <td>37.000000</td>\n",
       "      <td>...</td>\n",
       "      <td>338.450000</td>\n",
       "      <td>0.000000</td>\n",
       "      <td>12393.772500</td>\n",
       "      <td>374.66750</td>\n",
       "      <td>360.160000</td>\n",
       "      <td>14.780000</td>\n",
       "      <td>330.487500</td>\n",
       "      <td>0.000000</td>\n",
       "      <td>0.000000</td>\n",
       "      <td>0.000000</td>\n",
       "    </tr>\n",
       "    <tr>\n",
       "      <th>50%</th>\n",
       "      <td>30809.910000</td>\n",
       "      <td>60.000000</td>\n",
       "      <td>1.900000</td>\n",
       "      <td>1.000000</td>\n",
       "      <td>4.331000e+04</td>\n",
       "      <td>786.000000</td>\n",
       "      <td>2.0</td>\n",
       "      <td>2.0</td>\n",
       "      <td>4.940000</td>\n",
       "      <td>46.000000</td>\n",
       "      <td>...</td>\n",
       "      <td>469.165000</td>\n",
       "      <td>0.000000</td>\n",
       "      <td>20506.910000</td>\n",
       "      <td>514.61000</td>\n",
       "      <td>520.000000</td>\n",
       "      <td>31.820000</td>\n",
       "      <td>481.730000</td>\n",
       "      <td>0.000000</td>\n",
       "      <td>0.000000</td>\n",
       "      <td>0.000000</td>\n",
       "    </tr>\n",
       "    <tr>\n",
       "      <th>75%</th>\n",
       "      <td>41298.940000</td>\n",
       "      <td>72.000000</td>\n",
       "      <td>2.990000</td>\n",
       "      <td>2.000000</td>\n",
       "      <td>5.647000e+04</td>\n",
       "      <td>834.000000</td>\n",
       "      <td>2.0</td>\n",
       "      <td>2.0</td>\n",
       "      <td>7.870000</td>\n",
       "      <td>53.000000</td>\n",
       "      <td>...</td>\n",
       "      <td>630.000000</td>\n",
       "      <td>0.000000</td>\n",
       "      <td>29760.492500</td>\n",
       "      <td>687.59000</td>\n",
       "      <td>732.590000</td>\n",
       "      <td>58.540000</td>\n",
       "      <td>676.820000</td>\n",
       "      <td>0.000000</td>\n",
       "      <td>0.000000</td>\n",
       "      <td>0.000000</td>\n",
       "    </tr>\n",
       "    <tr>\n",
       "      <th>max</th>\n",
       "      <td>189984.120000</td>\n",
       "      <td>72.000000</td>\n",
       "      <td>15.140000</td>\n",
       "      <td>2.000000</td>\n",
       "      <td>1.021234e+07</td>\n",
       "      <td>900.000000</td>\n",
       "      <td>2.0</td>\n",
       "      <td>2.0</td>\n",
       "      <td>96.950000</td>\n",
       "      <td>72.000000</td>\n",
       "      <td>...</td>\n",
       "      <td>4945.480000</td>\n",
       "      <td>113665.770000</td>\n",
       "      <td>177603.400000</td>\n",
       "      <td>4975.23000</td>\n",
       "      <td>116238.070000</td>\n",
       "      <td>2083.070000</td>\n",
       "      <td>115756.120000</td>\n",
       "      <td>3831.100000</td>\n",
       "      <td>881.840000</td>\n",
       "      <td>212.000000</td>\n",
       "    </tr>\n",
       "  </tbody>\n",
       "</table>\n",
       "<p>8 rows × 28 columns</p>\n",
       "</div>"
      ],
      "text/plain": [
       "       originalloanamount  originalloanterm  originalinterestratepercentage  \\\n",
       "count       420000.000000     420000.000000                   420000.000000   \n",
       "mean         33741.512412         61.369971                        2.434259   \n",
       "std          16405.971306         10.096222                        1.532988   \n",
       "min           3741.290000         16.000000                        0.010000   \n",
       "25%          22669.510000         60.000000                        1.000000   \n",
       "50%          30809.910000         60.000000                        1.900000   \n",
       "75%          41298.940000         72.000000                        2.990000   \n",
       "max         189984.120000         72.000000                       15.140000   \n",
       "\n",
       "       vehiclenewusedcode  vehiclevalueamount  obligorcreditscore  \\\n",
       "count       420000.000000        4.200000e+05       420000.000000   \n",
       "mean             1.436686        4.593955e+04          779.414198   \n",
       "std              0.495976        7.917621e+04           65.809843   \n",
       "min              1.000000        0.000000e+00            0.000000   \n",
       "25%              1.000000        3.115000e+04          729.000000   \n",
       "50%              1.000000        4.331000e+04          786.000000   \n",
       "75%              2.000000        5.647000e+04          834.000000   \n",
       "max              2.000000        1.021234e+07          900.000000   \n",
       "\n",
       "       obligorincomeverificationlevelcode  obligoremploymentverificationcode  \\\n",
       "count                            420000.0                           420000.0   \n",
       "mean                                  2.0                                2.0   \n",
       "std                                   0.0                                0.0   \n",
       "min                                   2.0                                2.0   \n",
       "25%                                   2.0                                2.0   \n",
       "50%                                   2.0                                2.0   \n",
       "75%                                   2.0                                2.0   \n",
       "max                                   2.0                                2.0   \n",
       "\n",
       "       paymenttoincomepercentage  remainingtermtomaturitynumber  \\\n",
       "count              420000.000000                  420000.000000   \n",
       "mean                    6.179419                      43.684348   \n",
       "std                     5.401930                      14.387148   \n",
       "min                     0.000000                       0.000000   \n",
       "25%                     2.990000                      37.000000   \n",
       "50%                     4.940000                      46.000000   \n",
       "75%                     7.870000                      53.000000   \n",
       "max                    96.950000                      72.000000   \n",
       "\n",
       "                 ...             scheduledprincipalamount  \\\n",
       "count            ...                        420000.000000   \n",
       "mean             ...                           506.356638   \n",
       "std              ...                           296.731041   \n",
       "min              ...                             0.000000   \n",
       "25%              ...                           338.450000   \n",
       "50%              ...                           469.165000   \n",
       "75%              ...                           630.000000   \n",
       "max              ...                          4945.480000   \n",
       "\n",
       "       otherprincipaladjustmentamount  reportingperiodactualendbalanceamount  \\\n",
       "count                   420000.000000                          420000.000000   \n",
       "mean                       327.567757                           22118.292326   \n",
       "std                       2811.311466                           14912.620627   \n",
       "min                     -72031.970000                               0.000000   \n",
       "25%                          0.000000                           12393.772500   \n",
       "50%                          0.000000                           20506.910000   \n",
       "75%                          0.000000                           29760.492500   \n",
       "max                     113665.770000                          177603.400000   \n",
       "\n",
       "       reportingperiodscheduledpaymentamount  totalactualamountpaid  \\\n",
       "count                           420000.00000          420000.000000   \n",
       "mean                               553.81530             847.560450   \n",
       "std                                317.21954            2851.991029   \n",
       "min                                  0.00000          -72031.970000   \n",
       "25%                                374.66750             360.160000   \n",
       "50%                                514.61000             520.000000   \n",
       "75%                                687.59000             732.590000   \n",
       "max                               4975.23000          116238.070000   \n",
       "\n",
       "       actualinterestcollectedamount  actualprincipalcollectedamount  \\\n",
       "count                  420000.000000                   420000.000000   \n",
       "mean                       44.656931                      808.067232   \n",
       "std                        50.102702                     2846.720456   \n",
       "min                     -1303.820000                   -72031.970000   \n",
       "25%                        14.780000                      330.487500   \n",
       "50%                        31.820000                      481.730000   \n",
       "75%                        58.540000                      676.820000   \n",
       "max                      2083.070000                   115756.120000   \n",
       "\n",
       "       actualothercollectedamount  serviceradvancedamount  \\\n",
       "count               420000.000000           420000.000000   \n",
       "mean                     4.665264                1.305540   \n",
       "std                     31.809362               12.467181   \n",
       "min                      0.000000                0.000000   \n",
       "25%                      0.000000                0.000000   \n",
       "50%                      0.000000                0.000000   \n",
       "75%                      0.000000                0.000000   \n",
       "max                   3831.100000              881.840000   \n",
       "\n",
       "       currentdelinquencystatus  \n",
       "count             420000.000000  \n",
       "mean                   0.421443  \n",
       "std                    3.893368  \n",
       "min                   -9.000000  \n",
       "25%                    0.000000  \n",
       "50%                    0.000000  \n",
       "75%                    0.000000  \n",
       "max                  212.000000  \n",
       "\n",
       "[8 rows x 28 columns]"
      ]
     },
     "execution_count": 12,
     "metadata": {},
     "output_type": "execute_result"
    }
   ],
   "source": [
    "df.describe()"
   ]
  },
  {
   "cell_type": "code",
   "execution_count": 13,
   "metadata": {},
   "outputs": [
    {
     "data": {
      "image/png": "[encoded data removed]",
      "text/plain": [
       "<Figure size 432x288 with 1 Axes>"
      ]
     },
     "metadata": {},
     "output_type": "display_data"
    },
    {
     "name": "stdout",
     "output_type": "stream",
     "text": [
      "Number of loans Current : 403699     Number of loans Defaulted : 16301\n"
     ]
    }
   ],
   "source": [
    "LABELS = ('Current', 'Default')\n",
    "count_classes = pd.value_counts(df.currentdelinquencystatus>default, sort = True)\n",
    "count_classes.plot(kind = 'bar', rot=0)\n",
    "plt.xticks(range(2), LABELS)\n",
    "plt.title('Class')\n",
    "plt.ylabel(\"Number of Loans\")\n",
    "plt.show()\n",
    "print('Number of loans Current :', count_classes[0],'   ', 'Number of loans Defaulted :', count_classes[1],)"
   ]
  },
  {
   "cell_type": "code",
   "execution_count": 14,
   "metadata": {},
   "outputs": [
    {
     "data": {
      "text/plain": [
       " 0      403697\n",
       " 1        2382\n",
       " 2        1769\n",
       " 3        1426\n",
       " 4        1307\n",
       " 5        1061\n",
       " 6         934\n",
       " 7         896\n",
       " 8         645\n",
       " 9         498\n",
       " 10        467\n",
       " 11        396\n",
       " 12        385\n",
       " 14        329\n",
       " 17        315\n",
       " 13        297\n",
       " 15        296\n",
       " 16        260\n",
       " 18        218\n",
       " 19        200\n",
       " 21        170\n",
       " 20        163\n",
       " 23        129\n",
       " 26        123\n",
       " 25        110\n",
       " 22        107\n",
       " 27        106\n",
       " 28        101\n",
       " 24         89\n",
       " 32         77\n",
       "         ...  \n",
       " 86          2\n",
       " 87          2\n",
       " 90          2\n",
       " 110         2\n",
       " 164         2\n",
       " 92          2\n",
       " 95          2\n",
       " 97          2\n",
       " 98          2\n",
       " 106         2\n",
       " 195         1\n",
       " 182         1\n",
       " 179         1\n",
       " 210         1\n",
       " 173         1\n",
       " 171         1\n",
       " 212         1\n",
       " 184         1\n",
       "-9           1\n",
       " 166         1\n",
       " 143         1\n",
       " 140         1\n",
       " 137         1\n",
       " 136         1\n",
       " 135         1\n",
       " 132         1\n",
       " 129         1\n",
       " 128         1\n",
       " 84          1\n",
       "-1           1\n",
       "Name: currentdelinquencystatus, Length: 149, dtype: int64"
      ]
     },
     "execution_count": 14,
     "metadata": {},
     "output_type": "execute_result"
    }
   ],
   "source": [
    "pd.value_counts(df.currentdelinquencystatus)"
   ]
  },
  {
   "cell_type": "code",
   "execution_count": 15,
   "metadata": {
    "collapsed": true
   },
   "outputs": [],
   "source": [
    "def map_label(*args):\n",
    "    columns = [c for c in args]\n",
    "    for column in columns:\n",
    "        if column > 0:\n",
    "            return 0\n",
    "        elif column <= 0:\n",
    "            return 1\n",
    "        \n",
    "       "
   ]
  },
  {
   "cell_type": "code",
   "execution_count": 16,
   "metadata": {
    "collapsed": true
   },
   "outputs": [],
   "source": [
    "df['label'] = list(map(map_label, df.currentdelinquencystatus ))"
   ]
  },
  {
   "cell_type": "code",
   "execution_count": 17,
   "metadata": {},
   "outputs": [
    {
     "data": {
      "text/plain": [
       "1    403699\n",
       "0     16301\n",
       "Name: label, dtype: int64"
      ]
     },
     "execution_count": 17,
     "metadata": {},
     "output_type": "execute_result"
    }
   ],
   "source": [
    "pd.value_counts(df.label)"
   ]
  },
  {
   "cell_type": "code",
   "execution_count": 18,
   "metadata": {
    "collapsed": true
   },
   "outputs": [],
   "source": [
    "df.fillna(0, inplace=True)"
   ]
  },
  {
   "cell_type": "code",
   "execution_count": 19,
   "metadata": {},
   "outputs": [
    {
     "data": {
      "text/plain": [
       "originalloanamount                           float64\n",
       "originalloanterm                               int64\n",
       "originalinterestratepercentage               float64\n",
       "vehiclenewusedcode                             int64\n",
       "vehiclevalueamount                           float64\n",
       "obligorcreditscore                             int64\n",
       "obligorincomeverificationlevelcode             int64\n",
       "obligoremploymentverificationcode              int64\n",
       "paymenttoincomepercentage                    float64\n",
       "remainingtermtomaturitynumber                  int64\n",
       "reportingperiodbeginningloanbalanceamount    float64\n",
       "nextreportingperiodpaymentamountdue          float64\n",
       "reportingperiodinterestratepercentage        float64\n",
       "nextinterestratepercentage                   float64\n",
       "servicingfeepercentage                       float64\n",
       "otherservicerfeeretainedbyservicer           float64\n",
       "otherassesseduncollectedservicerfeeamount    float64\n",
       "scheduledinterestamount                      float64\n",
       "scheduledprincipalamount                     float64\n",
       "otherprincipaladjustmentamount               float64\n",
       "reportingperiodactualendbalanceamount        float64\n",
       "reportingperiodscheduledpaymentamount        float64\n",
       "totalactualamountpaid                        float64\n",
       "actualinterestcollectedamount                float64\n",
       "actualprincipalcollectedamount               float64\n",
       "actualothercollectedamount                   float64\n",
       "serviceradvancedamount                       float64\n",
       "currentdelinquencystatus                       int64\n",
       "label                                          int64\n",
       "dtype: object"
      ]
     },
     "execution_count": 19,
     "metadata": {},
     "output_type": "execute_result"
    }
   ],
   "source": [
    "df=df.replace([np.inf, -np.inf], np.nan)\n",
    "df.dropna(inplace=True)\n",
    "df.dtypes"
   ]
  },
  {
   "cell_type": "code",
   "execution_count": 20,
   "metadata": {},
   "outputs": [
    {
     "data": {
      "text/html": [
       "<div>\n",
       "<style scoped>\n",
       "    .dataframe tbody tr th:only-of-type {\n",
       "        vertical-align: middle;\n",
       "    }\n",
       "\n",
       "    .dataframe tbody tr th {\n",
       "        vertical-align: top;\n",
       "    }\n",
       "\n",
       "    .dataframe thead th {\n",
       "        text-align: right;\n",
       "    }\n",
       "</style>\n",
       "<table border=\"1\" class=\"dataframe\">\n",
       "  <thead>\n",
       "    <tr style=\"text-align: right;\">\n",
       "      <th></th>\n",
       "      <th>originalloanamount</th>\n",
       "      <th>originalloanterm</th>\n",
       "      <th>originalinterestratepercentage</th>\n",
       "      <th>vehiclenewusedcode</th>\n",
       "      <th>vehiclevalueamount</th>\n",
       "      <th>obligorcreditscore</th>\n",
       "      <th>obligorincomeverificationlevelcode</th>\n",
       "      <th>obligoremploymentverificationcode</th>\n",
       "      <th>paymenttoincomepercentage</th>\n",
       "      <th>remainingtermtomaturitynumber</th>\n",
       "      <th>...</th>\n",
       "      <th>otherprincipaladjustmentamount</th>\n",
       "      <th>reportingperiodactualendbalanceamount</th>\n",
       "      <th>reportingperiodscheduledpaymentamount</th>\n",
       "      <th>totalactualamountpaid</th>\n",
       "      <th>actualinterestcollectedamount</th>\n",
       "      <th>actualprincipalcollectedamount</th>\n",
       "      <th>actualothercollectedamount</th>\n",
       "      <th>serviceradvancedamount</th>\n",
       "      <th>currentdelinquencystatus</th>\n",
       "      <th>label</th>\n",
       "    </tr>\n",
       "    <tr>\n",
       "      <th>abs_loan.originationdate</th>\n",
       "      <th></th>\n",
       "      <th></th>\n",
       "      <th></th>\n",
       "      <th></th>\n",
       "      <th></th>\n",
       "      <th></th>\n",
       "      <th></th>\n",
       "      <th></th>\n",
       "      <th></th>\n",
       "      <th></th>\n",
       "      <th></th>\n",
       "      <th></th>\n",
       "      <th></th>\n",
       "      <th></th>\n",
       "      <th></th>\n",
       "      <th></th>\n",
       "      <th></th>\n",
       "      <th></th>\n",
       "      <th></th>\n",
       "      <th></th>\n",
       "      <th></th>\n",
       "    </tr>\n",
       "  </thead>\n",
       "  <tbody>\n",
       "    <tr>\n",
       "      <th>2012-12-31</th>\n",
       "      <td>25124.50</td>\n",
       "      <td>72</td>\n",
       "      <td>3.29</td>\n",
       "      <td>1</td>\n",
       "      <td>44395.0</td>\n",
       "      <td>812</td>\n",
       "      <td>2</td>\n",
       "      <td>2</td>\n",
       "      <td>2.66</td>\n",
       "      <td>13</td>\n",
       "      <td>...</td>\n",
       "      <td>0.0</td>\n",
       "      <td>4479.55</td>\n",
       "      <td>385.00</td>\n",
       "      <td>385.00</td>\n",
       "      <td>13.30</td>\n",
       "      <td>371.70</td>\n",
       "      <td>0.0</td>\n",
       "      <td>0.0</td>\n",
       "      <td>0</td>\n",
       "      <td>1</td>\n",
       "    </tr>\n",
       "    <tr>\n",
       "      <th>2012-12-31</th>\n",
       "      <td>43257.34</td>\n",
       "      <td>72</td>\n",
       "      <td>3.29</td>\n",
       "      <td>1</td>\n",
       "      <td>50595.0</td>\n",
       "      <td>817</td>\n",
       "      <td>2</td>\n",
       "      <td>2</td>\n",
       "      <td>3.99</td>\n",
       "      <td>14</td>\n",
       "      <td>...</td>\n",
       "      <td>0.0</td>\n",
       "      <td>8328.13</td>\n",
       "      <td>663.71</td>\n",
       "      <td>663.71</td>\n",
       "      <td>24.58</td>\n",
       "      <td>639.13</td>\n",
       "      <td>0.0</td>\n",
       "      <td>0.0</td>\n",
       "      <td>0</td>\n",
       "      <td>1</td>\n",
       "    </tr>\n",
       "    <tr>\n",
       "      <th>2012-12-31</th>\n",
       "      <td>56917.54</td>\n",
       "      <td>72</td>\n",
       "      <td>3.29</td>\n",
       "      <td>1</td>\n",
       "      <td>62695.0</td>\n",
       "      <td>818</td>\n",
       "      <td>2</td>\n",
       "      <td>2</td>\n",
       "      <td>6.97</td>\n",
       "      <td>14</td>\n",
       "      <td>...</td>\n",
       "      <td>0.0</td>\n",
       "      <td>11979.91</td>\n",
       "      <td>873.39</td>\n",
       "      <td>873.39</td>\n",
       "      <td>35.14</td>\n",
       "      <td>838.25</td>\n",
       "      <td>0.0</td>\n",
       "      <td>0.0</td>\n",
       "      <td>0</td>\n",
       "      <td>1</td>\n",
       "    </tr>\n",
       "    <tr>\n",
       "      <th>2012-12-31</th>\n",
       "      <td>42003.57</td>\n",
       "      <td>72</td>\n",
       "      <td>3.29</td>\n",
       "      <td>1</td>\n",
       "      <td>46995.0</td>\n",
       "      <td>791</td>\n",
       "      <td>2</td>\n",
       "      <td>2</td>\n",
       "      <td>2.96</td>\n",
       "      <td>13</td>\n",
       "      <td>...</td>\n",
       "      <td>0.0</td>\n",
       "      <td>8182.63</td>\n",
       "      <td>643.71</td>\n",
       "      <td>643.71</td>\n",
       "      <td>24.12</td>\n",
       "      <td>619.59</td>\n",
       "      <td>0.0</td>\n",
       "      <td>0.0</td>\n",
       "      <td>0</td>\n",
       "      <td>1</td>\n",
       "    </tr>\n",
       "    <tr>\n",
       "      <th>2012-12-31</th>\n",
       "      <td>77217.85</td>\n",
       "      <td>72</td>\n",
       "      <td>3.29</td>\n",
       "      <td>1</td>\n",
       "      <td>76145.0</td>\n",
       "      <td>712</td>\n",
       "      <td>2</td>\n",
       "      <td>2</td>\n",
       "      <td>10.37</td>\n",
       "      <td>14</td>\n",
       "      <td>...</td>\n",
       "      <td>0.0</td>\n",
       "      <td>16336.95</td>\n",
       "      <td>1184.89</td>\n",
       "      <td>1160.89</td>\n",
       "      <td>47.92</td>\n",
       "      <td>1136.97</td>\n",
       "      <td>24.0</td>\n",
       "      <td>0.0</td>\n",
       "      <td>0</td>\n",
       "      <td>1</td>\n",
       "    </tr>\n",
       "  </tbody>\n",
       "</table>\n",
       "<p>5 rows × 29 columns</p>\n",
       "</div>"
      ],
      "text/plain": [
       "                          originalloanamount  originalloanterm  \\\n",
       "abs_loan.originationdate                                         \n",
       "2012-12-31                          25124.50                72   \n",
       "2012-12-31                          43257.34                72   \n",
       "2012-12-31                          56917.54                72   \n",
       "2012-12-31                          42003.57                72   \n",
       "2012-12-31                          77217.85                72   \n",
       "\n",
       "                          originalinterestratepercentage  vehiclenewusedcode  \\\n",
       "abs_loan.originationdate                                                       \n",
       "2012-12-31                                          3.29                   1   \n",
       "2012-12-31                                          3.29                   1   \n",
       "2012-12-31                                          3.29                   1   \n",
       "2012-12-31                                          3.29                   1   \n",
       "2012-12-31                                          3.29                   1   \n",
       "\n",
       "                          vehiclevalueamount  obligorcreditscore  \\\n",
       "abs_loan.originationdate                                           \n",
       "2012-12-31                           44395.0                 812   \n",
       "2012-12-31                           50595.0                 817   \n",
       "2012-12-31                           62695.0                 818   \n",
       "2012-12-31                           46995.0                 791   \n",
       "2012-12-31                           76145.0                 712   \n",
       "\n",
       "                          obligorincomeverificationlevelcode  \\\n",
       "abs_loan.originationdate                                       \n",
       "2012-12-31                                                 2   \n",
       "2012-12-31                                                 2   \n",
       "2012-12-31                                                 2   \n",
       "2012-12-31                                                 2   \n",
       "2012-12-31                                                 2   \n",
       "\n",
       "                          obligoremploymentverificationcode  \\\n",
       "abs_loan.originationdate                                      \n",
       "2012-12-31                                                2   \n",
       "2012-12-31                                                2   \n",
       "2012-12-31                                                2   \n",
       "2012-12-31                                                2   \n",
       "2012-12-31                                                2   \n",
       "\n",
       "                          paymenttoincomepercentage  \\\n",
       "abs_loan.originationdate                              \n",
       "2012-12-31                                     2.66   \n",
       "2012-12-31                                     3.99   \n",
       "2012-12-31                                     6.97   \n",
       "2012-12-31                                     2.96   \n",
       "2012-12-31                                    10.37   \n",
       "\n",
       "                          remainingtermtomaturitynumber  ...    \\\n",
       "abs_loan.originationdate                                 ...     \n",
       "2012-12-31                                           13  ...     \n",
       "2012-12-31                                           14  ...     \n",
       "2012-12-31                                           14  ...     \n",
       "2012-12-31                                           13  ...     \n",
       "2012-12-31                                           14  ...     \n",
       "\n",
       "                          otherprincipaladjustmentamount  \\\n",
       "abs_loan.originationdate                                   \n",
       "2012-12-31                                           0.0   \n",
       "2012-12-31                                           0.0   \n",
       "2012-12-31                                           0.0   \n",
       "2012-12-31                                           0.0   \n",
       "2012-12-31                                           0.0   \n",
       "\n",
       "                          reportingperiodactualendbalanceamount  \\\n",
       "abs_loan.originationdate                                          \n",
       "2012-12-31                                              4479.55   \n",
       "2012-12-31                                              8328.13   \n",
       "2012-12-31                                             11979.91   \n",
       "2012-12-31                                              8182.63   \n",
       "2012-12-31                                             16336.95   \n",
       "\n",
       "                          reportingperiodscheduledpaymentamount  \\\n",
       "abs_loan.originationdate                                          \n",
       "2012-12-31                                               385.00   \n",
       "2012-12-31                                               663.71   \n",
       "2012-12-31                                               873.39   \n",
       "2012-12-31                                               643.71   \n",
       "2012-12-31                                              1184.89   \n",
       "\n",
       "                          totalactualamountpaid  \\\n",
       "abs_loan.originationdate                          \n",
       "2012-12-31                               385.00   \n",
       "2012-12-31                               663.71   \n",
       "2012-12-31                               873.39   \n",
       "2012-12-31                               643.71   \n",
       "2012-12-31                              1160.89   \n",
       "\n",
       "                          actualinterestcollectedamount  \\\n",
       "abs_loan.originationdate                                  \n",
       "2012-12-31                                        13.30   \n",
       "2012-12-31                                        24.58   \n",
       "2012-12-31                                        35.14   \n",
       "2012-12-31                                        24.12   \n",
       "2012-12-31                                        47.92   \n",
       "\n",
       "                          actualprincipalcollectedamount  \\\n",
       "abs_loan.originationdate                                   \n",
       "2012-12-31                                        371.70   \n",
       "2012-12-31                                        639.13   \n",
       "2012-12-31                                        838.25   \n",
       "2012-12-31                                        619.59   \n",
       "2012-12-31                                       1136.97   \n",
       "\n",
       "                          actualothercollectedamount  serviceradvancedamount  \\\n",
       "abs_loan.originationdate                                                       \n",
       "2012-12-31                                       0.0                     0.0   \n",
       "2012-12-31                                       0.0                     0.0   \n",
       "2012-12-31                                       0.0                     0.0   \n",
       "2012-12-31                                       0.0                     0.0   \n",
       "2012-12-31                                      24.0                     0.0   \n",
       "\n",
       "                          currentdelinquencystatus  label  \n",
       "abs_loan.originationdate                                   \n",
       "2012-12-31                                       0      1  \n",
       "2012-12-31                                       0      1  \n",
       "2012-12-31                                       0      1  \n",
       "2012-12-31                                       0      1  \n",
       "2012-12-31                                       0      1  \n",
       "\n",
       "[5 rows x 29 columns]"
      ]
     },
     "execution_count": 20,
     "metadata": {},
     "output_type": "execute_result"
    }
   ],
   "source": [
    "df.head()"
   ]
  },
  {
   "cell_type": "code",
   "execution_count": 21,
   "metadata": {
    "collapsed": true
   },
   "outputs": [],
   "source": [
    "Y=df.label.values"
   ]
  },
  {
   "cell_type": "code",
   "execution_count": 22,
   "metadata": {},
   "outputs": [
    {
     "data": {
      "text/plain": [
       "(420000,)"
      ]
     },
     "execution_count": 22,
     "metadata": {},
     "output_type": "execute_result"
    }
   ],
   "source": [
    "Y.shape"
   ]
  },
  {
   "cell_type": "code",
   "execution_count": 23,
   "metadata": {
    "collapsed": true
   },
   "outputs": [],
   "source": [
    "Y=Y.reshape(Y.shape[0],1)"
   ]
  },
  {
   "cell_type": "code",
   "execution_count": 24,
   "metadata": {},
   "outputs": [
    {
     "data": {
      "text/plain": [
       "(420000, 1)"
      ]
     },
     "execution_count": 24,
     "metadata": {},
     "output_type": "execute_result"
    }
   ],
   "source": [
    "Y.shape"
   ]
  },
  {
   "cell_type": "code",
   "execution_count": 25,
   "metadata": {},
   "outputs": [
    {
     "data": {
      "text/plain": [
       "(420000, 29)"
      ]
     },
     "execution_count": 25,
     "metadata": {},
     "output_type": "execute_result"
    }
   ],
   "source": [
    "input=df.values\n",
    "input.shape"
   ]
  },
  {
   "cell_type": "code",
   "execution_count": 26,
   "metadata": {},
   "outputs": [
    {
     "name": "stdout",
     "output_type": "stream",
     "text": [
      "294000\n"
     ]
    }
   ],
   "source": [
    "train_split = 0.70\n",
    "len_train = int(len(input)*train_split)\n",
    "print(len_train)"
   ]
  },
  {
   "cell_type": "code",
   "execution_count": 27,
   "metadata": {
    "collapsed": true
   },
   "outputs": [],
   "source": [
    "y_train = Y[0:len_train]\n",
    "y_test = Y[len_train:]"
   ]
  },
  {
   "cell_type": "code",
   "execution_count": 28,
   "metadata": {
    "collapsed": true
   },
   "outputs": [],
   "source": [
    "df.drop(['currentdelinquencystatus','label'], axis=1, inplace=True)"
   ]
  },
  {
   "cell_type": "code",
   "execution_count": 29,
   "metadata": {},
   "outputs": [
    {
     "data": {
      "text/plain": [
       "(420000, 29, 1)"
      ]
     },
     "execution_count": 29,
     "metadata": {},
     "output_type": "execute_result"
    }
   ],
   "source": [
    "input=input.reshape(input.shape[0], input.shape[1], 1)\n",
    "input.shape"
   ]
  },
  {
   "cell_type": "code",
   "execution_count": 30,
   "metadata": {
    "collapsed": true
   },
   "outputs": [],
   "source": [
    "x_train = input[0:len_train]\n",
    "x_test = input[len_train:]"
   ]
  },
  {
   "cell_type": "code",
   "execution_count": 31,
   "metadata": {},
   "outputs": [
    {
     "data": {
      "text/plain": [
       "(294000, 29, 1)"
      ]
     },
     "execution_count": 31,
     "metadata": {},
     "output_type": "execute_result"
    }
   ],
   "source": [
    "x_train_keras_scaled = keras.utils.normalize(x_train, axis=-1, order=2)\n",
    "x_test_keras_scaled = keras.utils.normalize(x_test, axis=-1, order=2)\n",
    "x_train_keras_scaled.shape"
   ]
  },
  {
   "cell_type": "code",
   "execution_count": 32,
   "metadata": {},
   "outputs": [
    {
     "name": "stdout",
     "output_type": "stream",
     "text": [
      "Train on 294000 samples, validate on 126000 samples\n",
      "Epoch 1/10\n",
      "294000/294000 [==============================] - 562s 2ms/step - loss: 0.6345 - acc: 0.9606 - val_loss: 0.4585 - val_acc: 0.9569\n",
      "Epoch 2/10\n",
      "294000/294000 [==============================] - 566s 2ms/step - loss: 0.5997 - acc: 0.9628 - val_loss: 0.3321 - val_acc: 0.9569\n",
      "Epoch 3/10\n",
      "294000/294000 [==============================] - 571s 2ms/step - loss: 0.5962 - acc: 0.9630 - val_loss: 0.3321 - val_acc: 0.9569\n",
      "Epoch 4/10\n",
      "294000/294000 [==============================] - 544s 2ms/step - loss: 0.5962 - acc: 0.9630 - val_loss: 0.3321 - val_acc: 0.9569\n",
      "Epoch 5/10\n",
      "294000/294000 [==============================] - 580s 2ms/step - loss: 0.5962 - acc: 0.9630 - val_loss: 0.3321 - val_acc: 0.9569\n",
      "Epoch 6/10\n",
      "203712/294000 [===================>..........] - ETA: 2:37 - loss: 0.6018 - acc: 0.9627"
     ]
    },
    {
     "ename": "KeyboardInterrupt",
     "evalue": "",
     "output_type": "error",
     "traceback": [
      "\u001b[1;31m---------------------------------------------------------------------------\u001b[0m",
      "\u001b[1;31mKeyboardInterrupt\u001b[0m                         Traceback (most recent call last)",
      "\u001b[1;32m<ipython-input-32-ac47cc015a9b>\u001b[0m in \u001b[0;36m<module>\u001b[1;34m()\u001b[0m\n\u001b[0;32m     15\u001b[0m \u001b[0mmodel\u001b[0m\u001b[1;33m.\u001b[0m\u001b[0mcompile\u001b[0m\u001b[1;33m(\u001b[0m\u001b[0mloss\u001b[0m\u001b[1;33m=\u001b[0m\u001b[1;34m'sparse_categorical_crossentropy'\u001b[0m\u001b[1;33m,\u001b[0m \u001b[0moptimizer\u001b[0m\u001b[1;33m=\u001b[0m\u001b[0moptimizer\u001b[0m\u001b[1;33m,\u001b[0m \u001b[0mmetrics\u001b[0m\u001b[1;33m=\u001b[0m\u001b[1;33m[\u001b[0m\u001b[1;34m'accuracy'\u001b[0m\u001b[1;33m]\u001b[0m\u001b[1;33m)\u001b[0m\u001b[1;33m\u001b[0m\u001b[0m\n\u001b[0;32m     16\u001b[0m \u001b[1;33m\u001b[0m\u001b[0m\n\u001b[1;32m---> 17\u001b[1;33m \u001b[0mmodel\u001b[0m\u001b[1;33m.\u001b[0m\u001b[0mfit\u001b[0m\u001b[1;33m(\u001b[0m\u001b[0mx_train\u001b[0m\u001b[1;33m,\u001b[0m \u001b[0my_train\u001b[0m\u001b[1;33m,\u001b[0m \u001b[0mepochs\u001b[0m\u001b[1;33m=\u001b[0m\u001b[1;36m10\u001b[0m\u001b[1;33m,\u001b[0m \u001b[0mvalidation_data\u001b[0m\u001b[1;33m=\u001b[0m\u001b[1;33m(\u001b[0m\u001b[0mx_test_keras_scaled\u001b[0m\u001b[1;33m,\u001b[0m \u001b[0my_test\u001b[0m\u001b[1;33m)\u001b[0m\u001b[1;33m)\u001b[0m\u001b[1;33m\u001b[0m\u001b[0m\n\u001b[0m\u001b[0;32m     18\u001b[0m \u001b[1;33m\u001b[0m\u001b[0m\n\u001b[0;32m     19\u001b[0m \u001b[0mtest_loss\u001b[0m\u001b[1;33m,\u001b[0m \u001b[0mtest_acc\u001b[0m \u001b[1;33m=\u001b[0m \u001b[0mmodel\u001b[0m\u001b[1;33m.\u001b[0m\u001b[0mevaluate\u001b[0m\u001b[1;33m(\u001b[0m\u001b[0mx_test_keras_scaled\u001b[0m\u001b[1;33m,\u001b[0m \u001b[0my_test\u001b[0m\u001b[1;33m)\u001b[0m\u001b[1;33m\u001b[0m\u001b[0m\n",
      "\u001b[1;32mC:\\Progra~1\\Anaconda3_4\\lib\\site-packages\\tensorflow\\python\\keras\\_impl\\keras\\engine\\training.py\u001b[0m in \u001b[0;36mfit\u001b[1;34m(self, x, y, batch_size, epochs, verbose, callbacks, validation_split, validation_data, shuffle, class_weight, sample_weight, initial_epoch, steps_per_epoch, validation_steps, **kwargs)\u001b[0m\n\u001b[0;32m   1214\u001b[0m           \u001b[0minitial_epoch\u001b[0m\u001b[1;33m=\u001b[0m\u001b[0minitial_epoch\u001b[0m\u001b[1;33m,\u001b[0m\u001b[1;33m\u001b[0m\u001b[0m\n\u001b[0;32m   1215\u001b[0m           \u001b[0msteps_per_epoch\u001b[0m\u001b[1;33m=\u001b[0m\u001b[0msteps_per_epoch\u001b[0m\u001b[1;33m,\u001b[0m\u001b[1;33m\u001b[0m\u001b[0m\n\u001b[1;32m-> 1216\u001b[1;33m           validation_steps=validation_steps)\n\u001b[0m\u001b[0;32m   1217\u001b[0m \u001b[1;33m\u001b[0m\u001b[0m\n\u001b[0;32m   1218\u001b[0m   def evaluate(self,\n",
      "\u001b[1;32mC:\\Progra~1\\Anaconda3_4\\lib\\site-packages\\tensorflow\\python\\keras\\_impl\\keras\\engine\\training_arrays.py\u001b[0m in \u001b[0;36mfit_loop\u001b[1;34m(model, inputs, targets, sample_weights, batch_size, epochs, verbose, callbacks, val_inputs, val_targets, val_sample_weights, shuffle, callback_metrics, initial_epoch, steps_per_epoch, validation_steps)\u001b[0m\n\u001b[0;32m    243\u001b[0m           \u001b[0mins_batch\u001b[0m\u001b[1;33m[\u001b[0m\u001b[0mi\u001b[0m\u001b[1;33m]\u001b[0m \u001b[1;33m=\u001b[0m \u001b[0mins_batch\u001b[0m\u001b[1;33m[\u001b[0m\u001b[0mi\u001b[0m\u001b[1;33m]\u001b[0m\u001b[1;33m.\u001b[0m\u001b[0mtoarray\u001b[0m\u001b[1;33m(\u001b[0m\u001b[1;33m)\u001b[0m\u001b[1;33m\u001b[0m\u001b[0m\n\u001b[0;32m    244\u001b[0m \u001b[1;33m\u001b[0m\u001b[0m\n\u001b[1;32m--> 245\u001b[1;33m         \u001b[0mouts\u001b[0m \u001b[1;33m=\u001b[0m \u001b[0mf\u001b[0m\u001b[1;33m(\u001b[0m\u001b[0mins_batch\u001b[0m\u001b[1;33m)\u001b[0m\u001b[1;33m\u001b[0m\u001b[0m\n\u001b[0m\u001b[0;32m    246\u001b[0m         \u001b[1;32mif\u001b[0m \u001b[1;32mnot\u001b[0m \u001b[0misinstance\u001b[0m\u001b[1;33m(\u001b[0m\u001b[0mouts\u001b[0m\u001b[1;33m,\u001b[0m \u001b[0mlist\u001b[0m\u001b[1;33m)\u001b[0m\u001b[1;33m:\u001b[0m\u001b[1;33m\u001b[0m\u001b[0m\n\u001b[0;32m    247\u001b[0m           \u001b[0mouts\u001b[0m \u001b[1;33m=\u001b[0m \u001b[1;33m[\u001b[0m\u001b[0mouts\u001b[0m\u001b[1;33m]\u001b[0m\u001b[1;33m\u001b[0m\u001b[0m\n",
      "\u001b[1;32mC:\\Progra~1\\Anaconda3_4\\lib\\site-packages\\tensorflow\\python\\keras\\_impl\\keras\\backend.py\u001b[0m in \u001b[0;36m__call__\u001b[1;34m(self, inputs)\u001b[0m\n\u001b[0;32m   2822\u001b[0m     \u001b[0mfetches\u001b[0m \u001b[1;33m=\u001b[0m \u001b[0mself\u001b[0m\u001b[1;33m.\u001b[0m\u001b[0moutputs\u001b[0m \u001b[1;33m+\u001b[0m \u001b[1;33m[\u001b[0m\u001b[0mself\u001b[0m\u001b[1;33m.\u001b[0m\u001b[0mupdates_op\u001b[0m\u001b[1;33m]\u001b[0m \u001b[1;33m+\u001b[0m \u001b[0mself\u001b[0m\u001b[1;33m.\u001b[0m\u001b[0mfetches\u001b[0m\u001b[1;33m\u001b[0m\u001b[0m\n\u001b[0;32m   2823\u001b[0m     updated = session.run(\n\u001b[1;32m-> 2824\u001b[1;33m         fetches=fetches, feed_dict=feed_dict, **self.session_kwargs)\n\u001b[0m\u001b[0;32m   2825\u001b[0m     \u001b[1;32mreturn\u001b[0m \u001b[0mupdated\u001b[0m\u001b[1;33m[\u001b[0m\u001b[1;33m:\u001b[0m\u001b[0mlen\u001b[0m\u001b[1;33m(\u001b[0m\u001b[0mself\u001b[0m\u001b[1;33m.\u001b[0m\u001b[0moutputs\u001b[0m\u001b[1;33m)\u001b[0m\u001b[1;33m]\u001b[0m\u001b[1;33m\u001b[0m\u001b[0m\n\u001b[0;32m   2826\u001b[0m \u001b[1;33m\u001b[0m\u001b[0m\n",
      "\u001b[1;32mC:\\Progra~1\\Anaconda3_4\\lib\\site-packages\\tensorflow\\python\\client\\session.py\u001b[0m in \u001b[0;36mrun\u001b[1;34m(self, fetches, feed_dict, options, run_metadata)\u001b[0m\n\u001b[0;32m    898\u001b[0m     \u001b[1;32mtry\u001b[0m\u001b[1;33m:\u001b[0m\u001b[1;33m\u001b[0m\u001b[0m\n\u001b[0;32m    899\u001b[0m       result = self._run(None, fetches, feed_dict, options_ptr,\n\u001b[1;32m--> 900\u001b[1;33m                          run_metadata_ptr)\n\u001b[0m\u001b[0;32m    901\u001b[0m       \u001b[1;32mif\u001b[0m \u001b[0mrun_metadata\u001b[0m\u001b[1;33m:\u001b[0m\u001b[1;33m\u001b[0m\u001b[0m\n\u001b[0;32m    902\u001b[0m         \u001b[0mproto_data\u001b[0m \u001b[1;33m=\u001b[0m \u001b[0mtf_session\u001b[0m\u001b[1;33m.\u001b[0m\u001b[0mTF_GetBuffer\u001b[0m\u001b[1;33m(\u001b[0m\u001b[0mrun_metadata_ptr\u001b[0m\u001b[1;33m)\u001b[0m\u001b[1;33m\u001b[0m\u001b[0m\n",
      "\u001b[1;32mC:\\Progra~1\\Anaconda3_4\\lib\\site-packages\\tensorflow\\python\\client\\session.py\u001b[0m in \u001b[0;36m_run\u001b[1;34m(self, handle, fetches, feed_dict, options, run_metadata)\u001b[0m\n\u001b[0;32m   1133\u001b[0m     \u001b[1;32mif\u001b[0m \u001b[0mfinal_fetches\u001b[0m \u001b[1;32mor\u001b[0m \u001b[0mfinal_targets\u001b[0m \u001b[1;32mor\u001b[0m \u001b[1;33m(\u001b[0m\u001b[0mhandle\u001b[0m \u001b[1;32mand\u001b[0m \u001b[0mfeed_dict_tensor\u001b[0m\u001b[1;33m)\u001b[0m\u001b[1;33m:\u001b[0m\u001b[1;33m\u001b[0m\u001b[0m\n\u001b[0;32m   1134\u001b[0m       results = self._do_run(handle, final_targets, final_fetches,\n\u001b[1;32m-> 1135\u001b[1;33m                              feed_dict_tensor, options, run_metadata)\n\u001b[0m\u001b[0;32m   1136\u001b[0m     \u001b[1;32melse\u001b[0m\u001b[1;33m:\u001b[0m\u001b[1;33m\u001b[0m\u001b[0m\n\u001b[0;32m   1137\u001b[0m       \u001b[0mresults\u001b[0m \u001b[1;33m=\u001b[0m \u001b[1;33m[\u001b[0m\u001b[1;33m]\u001b[0m\u001b[1;33m\u001b[0m\u001b[0m\n",
      "\u001b[1;32mC:\\Progra~1\\Anaconda3_4\\lib\\site-packages\\tensorflow\\python\\client\\session.py\u001b[0m in \u001b[0;36m_do_run\u001b[1;34m(self, handle, target_list, fetch_list, feed_dict, options, run_metadata)\u001b[0m\n\u001b[0;32m   1314\u001b[0m     \u001b[1;32mif\u001b[0m \u001b[0mhandle\u001b[0m \u001b[1;32mis\u001b[0m \u001b[1;32mNone\u001b[0m\u001b[1;33m:\u001b[0m\u001b[1;33m\u001b[0m\u001b[0m\n\u001b[0;32m   1315\u001b[0m       return self._do_call(_run_fn, feeds, fetches, targets, options,\n\u001b[1;32m-> 1316\u001b[1;33m                            run_metadata)\n\u001b[0m\u001b[0;32m   1317\u001b[0m     \u001b[1;32melse\u001b[0m\u001b[1;33m:\u001b[0m\u001b[1;33m\u001b[0m\u001b[0m\n\u001b[0;32m   1318\u001b[0m       \u001b[1;32mreturn\u001b[0m \u001b[0mself\u001b[0m\u001b[1;33m.\u001b[0m\u001b[0m_do_call\u001b[0m\u001b[1;33m(\u001b[0m\u001b[0m_prun_fn\u001b[0m\u001b[1;33m,\u001b[0m \u001b[0mhandle\u001b[0m\u001b[1;33m,\u001b[0m \u001b[0mfeeds\u001b[0m\u001b[1;33m,\u001b[0m \u001b[0mfetches\u001b[0m\u001b[1;33m)\u001b[0m\u001b[1;33m\u001b[0m\u001b[0m\n",
      "\u001b[1;32mC:\\Progra~1\\Anaconda3_4\\lib\\site-packages\\tensorflow\\python\\client\\session.py\u001b[0m in \u001b[0;36m_do_call\u001b[1;34m(self, fn, *args)\u001b[0m\n\u001b[0;32m   1320\u001b[0m   \u001b[1;32mdef\u001b[0m \u001b[0m_do_call\u001b[0m\u001b[1;33m(\u001b[0m\u001b[0mself\u001b[0m\u001b[1;33m,\u001b[0m \u001b[0mfn\u001b[0m\u001b[1;33m,\u001b[0m \u001b[1;33m*\u001b[0m\u001b[0margs\u001b[0m\u001b[1;33m)\u001b[0m\u001b[1;33m:\u001b[0m\u001b[1;33m\u001b[0m\u001b[0m\n\u001b[0;32m   1321\u001b[0m     \u001b[1;32mtry\u001b[0m\u001b[1;33m:\u001b[0m\u001b[1;33m\u001b[0m\u001b[0m\n\u001b[1;32m-> 1322\u001b[1;33m       \u001b[1;32mreturn\u001b[0m \u001b[0mfn\u001b[0m\u001b[1;33m(\u001b[0m\u001b[1;33m*\u001b[0m\u001b[0margs\u001b[0m\u001b[1;33m)\u001b[0m\u001b[1;33m\u001b[0m\u001b[0m\n\u001b[0m\u001b[0;32m   1323\u001b[0m     \u001b[1;32mexcept\u001b[0m \u001b[0merrors\u001b[0m\u001b[1;33m.\u001b[0m\u001b[0mOpError\u001b[0m \u001b[1;32mas\u001b[0m \u001b[0me\u001b[0m\u001b[1;33m:\u001b[0m\u001b[1;33m\u001b[0m\u001b[0m\n\u001b[0;32m   1324\u001b[0m       \u001b[0mmessage\u001b[0m \u001b[1;33m=\u001b[0m \u001b[0mcompat\u001b[0m\u001b[1;33m.\u001b[0m\u001b[0mas_text\u001b[0m\u001b[1;33m(\u001b[0m\u001b[0me\u001b[0m\u001b[1;33m.\u001b[0m\u001b[0mmessage\u001b[0m\u001b[1;33m)\u001b[0m\u001b[1;33m\u001b[0m\u001b[0m\n",
      "\u001b[1;32mC:\\Progra~1\\Anaconda3_4\\lib\\site-packages\\tensorflow\\python\\client\\session.py\u001b[0m in \u001b[0;36m_run_fn\u001b[1;34m(feed_dict, fetch_list, target_list, options, run_metadata)\u001b[0m\n\u001b[0;32m   1305\u001b[0m       \u001b[0mself\u001b[0m\u001b[1;33m.\u001b[0m\u001b[0m_extend_graph\u001b[0m\u001b[1;33m(\u001b[0m\u001b[1;33m)\u001b[0m\u001b[1;33m\u001b[0m\u001b[0m\n\u001b[0;32m   1306\u001b[0m       return self._call_tf_sessionrun(\n\u001b[1;32m-> 1307\u001b[1;33m           options, feed_dict, fetch_list, target_list, run_metadata)\n\u001b[0m\u001b[0;32m   1308\u001b[0m \u001b[1;33m\u001b[0m\u001b[0m\n\u001b[0;32m   1309\u001b[0m     \u001b[1;32mdef\u001b[0m \u001b[0m_prun_fn\u001b[0m\u001b[1;33m(\u001b[0m\u001b[0mhandle\u001b[0m\u001b[1;33m,\u001b[0m \u001b[0mfeed_dict\u001b[0m\u001b[1;33m,\u001b[0m \u001b[0mfetch_list\u001b[0m\u001b[1;33m)\u001b[0m\u001b[1;33m:\u001b[0m\u001b[1;33m\u001b[0m\u001b[0m\n",
      "\u001b[1;32mC:\\Progra~1\\Anaconda3_4\\lib\\site-packages\\tensorflow\\python\\client\\session.py\u001b[0m in \u001b[0;36m_call_tf_sessionrun\u001b[1;34m(self, options, feed_dict, fetch_list, target_list, run_metadata)\u001b[0m\n\u001b[0;32m   1407\u001b[0m       return tf_session.TF_SessionRun_wrapper(\n\u001b[0;32m   1408\u001b[0m           \u001b[0mself\u001b[0m\u001b[1;33m.\u001b[0m\u001b[0m_session\u001b[0m\u001b[1;33m,\u001b[0m \u001b[0moptions\u001b[0m\u001b[1;33m,\u001b[0m \u001b[0mfeed_dict\u001b[0m\u001b[1;33m,\u001b[0m \u001b[0mfetch_list\u001b[0m\u001b[1;33m,\u001b[0m \u001b[0mtarget_list\u001b[0m\u001b[1;33m,\u001b[0m\u001b[1;33m\u001b[0m\u001b[0m\n\u001b[1;32m-> 1409\u001b[1;33m           run_metadata)\n\u001b[0m\u001b[0;32m   1410\u001b[0m     \u001b[1;32melse\u001b[0m\u001b[1;33m:\u001b[0m\u001b[1;33m\u001b[0m\u001b[0m\n\u001b[0;32m   1411\u001b[0m       \u001b[1;32mwith\u001b[0m \u001b[0merrors\u001b[0m\u001b[1;33m.\u001b[0m\u001b[0mraise_exception_on_not_ok_status\u001b[0m\u001b[1;33m(\u001b[0m\u001b[1;33m)\u001b[0m \u001b[1;32mas\u001b[0m \u001b[0mstatus\u001b[0m\u001b[1;33m:\u001b[0m\u001b[1;33m\u001b[0m\u001b[0m\n",
      "\u001b[1;31mKeyboardInterrupt\u001b[0m: "
     ]
    }
   ],
   "source": [
    "model = keras.Sequential()\n",
    "model.add(keras.layers.LSTM(128, activation='relu', input_shape=(x_train_keras_scaled.shape[1:]), return_sequences=True))\n",
    "model.add(keras.layers.Dropout(0.2))\n",
    "\n",
    "model.add(keras.layers.LSTM(128, activation='relu'))\n",
    "model.add(keras.layers.Dropout(0.1))\n",
    "\n",
    "model.add(keras.layers.Dense(32, activation='relu'))\n",
    "model.add(keras.layers.Dropout(0.2))\n",
    "\n",
    "model.add(keras.layers.Dense(2, activation='softmax'))\n",
    "\n",
    "optimizer = tf.keras.optimizers.Adam(lr=1e-3, decay=1e-6)\n",
    "\n",
    "model.compile(loss='sparse_categorical_crossentropy', optimizer=optimizer, metrics=['accuracy'])\n",
    "\n",
    "model.fit(x_train, y_train, epochs=1, validation_data=(x_test_keras_scaled, y_test))\n",
    "\n",
    "test_loss, test_acc = model.evaluate(x_test_keras_scaled, y_test)\n"
   ]
  },
  {
   "cell_type": "code",
   "execution_count": null,
   "metadata": {
    "collapsed": true
   },
   "outputs": [],
   "source": []
  }
 ],
 "metadata": {
  "kernelspec": {
   "display_name": "Python 3",
   "language": "python",
   "name": "python3"
  },
  "language_info": {
   "codemirror_mode": {
    "name": "ipython",
    "version": 3
   },
   "file_extension": ".py",
   "mimetype": "text/x-python",
   "name": "python",
   "nbconvert_exporter": "python",
   "pygments_lexer": "ipython3",
   "version": "3.6.1"
  }
 },
 "nbformat": 4,
 "nbformat_minor": 2
}
