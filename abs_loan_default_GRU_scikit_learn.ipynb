{
 "cells": [
  {
   "cell_type": "markdown",
   "metadata": {},
   "source": [
    "# ASSET BACKED SECURITIES - AUTO FINANCE LOANS"
   ]
  },
  {
   "cell_type": "markdown",
   "metadata": {},
   "source": [
    "SEC data ingested from Edgar Online"
   ]
  },
  {
   "cell_type": "code",
   "execution_count": 1,
   "metadata": {},
   "outputs": [
    {
     "name": "stderr",
     "output_type": "stream",
     "text": [
      "Using TensorFlow backend.\n",
      "C:\\Progra~1\\Anaconda3_4\\lib\\site-packages\\sklearn\\cross_validation.py:41: DeprecationWarning: This module was deprecated in version 0.18 in favor of the model_selection module into which all the refactored classes and functions are moved. Also note that the interface of the new CV iterators are different from that of this module. This module will be removed in 0.20.\n",
      "  \"This module will be removed in 0.20.\", DeprecationWarning)\n",
      "C:\\Progra~1\\Anaconda3_4\\lib\\site-packages\\sklearn\\grid_search.py:42: DeprecationWarning: This module was deprecated in version 0.18 in favor of the model_selection module into which all the refactored classes and functions are moved. This module will be removed in 0.20.\n",
      "  DeprecationWarning)\n"
     ]
    }
   ],
   "source": [
    "import re\n",
    "import time\n",
    "import pandas as pd\n",
    "import numpy as np\n",
    "from matplotlib import pyplot as plt\n",
    "import tensorflow as tf\n",
    "from tensorflow import keras\n",
    "from keras import optimizers\n",
    "from keras.models import Sequential\n",
    "from keras.layers import Input, Dense, Dropout, LSTM, GRU\n",
    "from keras.models import Model, load_model\n",
    "from keras.callbacks import ModelCheckpoint, TensorBoard\n",
    "from keras import regularizers\n",
    "tf.__version__\n",
    "%matplotlib inline\n",
    "\n",
    "import seaborn as sns\n",
    "import operator\n",
    "import collections\n",
    "from scipy.io import mmread, mmwrite\n",
    "from random import randint\n",
    "from sklearn import linear_model\n",
    "from sklearn.grid_search import GridSearchCV\n",
    "from sklearn import preprocessing as pp\n",
    "from sklearn.svm import SVR\n",
    "from sklearn.ensemble import GradientBoostingRegressor, GradientBoostingClassifier\n",
    "from sklearn.ensemble import RandomForestRegressor, RandomForestClassifier\n",
    "from sklearn.ensemble import ExtraTreesRegressor\n",
    "from sklearn.decomposition import PCA, KernelPCA\n",
    "from sklearn.decomposition import NMF\n",
    "from sklearn.pipeline import Pipeline\n",
    "from sklearn.svm import LinearSVC\n",
    "from sklearn.linear_model import LogisticRegression, Ridge, Lasso, ElasticNet\n",
    "import scipy.stats as stats\n",
    "from sklearn import tree\n",
    "from sklearn.feature_selection import f_regression\n",
    "from sklearn.gaussian_process import GaussianProcess\n",
    "\n",
    "\n",
    "from sklearn.model_selection import train_test_split\n",
    "from sklearn.metrics import confusion_matrix, precision_recall_curve\n",
    "from sklearn.metrics import recall_score, classification_report, auc, roc_curve\n",
    "from sklearn.metrics import precision_recall_fscore_support, f1_score\n",
    "from sklearn.preprocessing import StandardScaler\n",
    "\n",
    "\n",
    "\n"
   ]
  },
  {
   "cell_type": "markdown",
   "metadata": {},
   "source": [
    "# Model Name"
   ]
  },
  {
   "cell_type": "code",
   "execution_count": 2,
   "metadata": {
    "collapsed": true
   },
   "outputs": [],
   "source": [
    "name = \"ABS_Keras-GRU254GRU128D32D2-adam{}\".format(int(time.time()))\n",
    "#name_noTime = \"ABS_Keras-LSTM128LSTM128D32D2-adam\""
   ]
  },
  {
   "cell_type": "markdown",
   "metadata": {},
   "source": [
    "# Choose default parameters"
   ]
  },
  {
   "cell_type": "code",
   "execution_count": 3,
   "metadata": {
    "collapsed": true
   },
   "outputs": [],
   "source": [
    "#parameters to choose\n",
    "\n",
    "default_days = 0\n",
    "nrows = 100000\n",
    "train_split = 0.80\n",
    "model_type = keras\n",
    "path = 'c:/users/ugy1/abs/'\n",
    "rows_for_prediction = 1000\n",
    "cutOffForOriginationDate='2012-01-01'\n",
    "manualOversamplingFactor=0.0\n",
    "epochs=1"
   ]
  },
  {
   "cell_type": "code",
   "execution_count": 4,
   "metadata": {
    "collapsed": true
   },
   "outputs": [],
   "source": [
    "# columns to be used\n",
    "use_list=[\n",
    "    'abs_loan.cik',\n",
    " #'abs_loan.accessionnumber',\n",
    " #'abs_loan.assettypenumber',\n",
    " 'abs_loan.assetnumber',\n",
    " 'abs_loan.reportingperiodbeginningdate',\n",
    " 'abs_loan.reportingperiodendingdate',\n",
    " 'abs_loan.originatorname',\n",
    " 'abs_loan.originationdate',\n",
    " 'abs_loan.originalloanamount',\n",
    " 'abs_loan.originalloanterm',\n",
    " 'abs_loan.loanmaturitydate',\n",
    " 'abs_loan.originalinterestratepercentage',\n",
    " #'interestcalculationtypecode',\n",
    " #'originalinterestratetypecode',\n",
    " #'originalinterestonlytermnumber',\n",
    " 'abs_loan.originalfirstpaymentdate',\n",
    " 'abs_loan.underwritingindicator',\n",
    " 'abs_loan.graceperiodnumber',\n",
    " #'paymenttypecode',\n",
    " 'abs_loan.subvented',\n",
    " #'vehiclemanufacturername',\n",
    " #'vehiclemodelname',\n",
    " 'abs_loan.vehiclenewusedcode',\n",
    " #'vehiclemodelyear',\n",
    " 'abs_loan.vehicletypecode',\n",
    " #'vehiclevalueamount',\n",
    " #'vehiclevaluesourcecode',\n",
    " 'abs_loan.obligorcreditscoretype',\n",
    " 'abs_loan.obligorcreditscore',\n",
    " 'abs_loan.obligorincomeverificationlevelcode',\n",
    " 'abs_loan.obligoremploymentverificationcode',\n",
    " 'abs_loan.coobligorindicator',\n",
    " 'abs_loan.paymenttoincomepercentage',\n",
    " #'obligorgeographiclocation',\n",
    " 'abs_loan.assetaddedindicator',\n",
    " #'remainingtermtomaturitynumber',\n",
    " 'abs_loan.reportingperiodmodificationindicator',\n",
    " 'abs_loan.servicingadvancemethodcode',\n",
    " 'abs_loan.reportingperiodbeginningloanbalanceamount',\n",
    " 'abs_loan.nextreportingperiodpaymentamountdue',\n",
    " 'abs_loan.reportingperiodinterestratepercentage',\n",
    " 'abs_loan.nextinterestratepercentage',\n",
    " 'abs_loan.servicingfeepercentage',\n",
    " 'abs_loan.servicingflatfeeamount',\n",
    " 'abs_loan.otherservicerfeeretainedbyservicer',\n",
    " 'abs_loan.otherassesseduncollectedservicerfeeamount',\n",
    " 'abs_loan.scheduledinterestamount',\n",
    " 'abs_loan.scheduledprincipalamount',\n",
    " 'abs_loan.otherprincipaladjustmentamount',\n",
    " 'abs_loan.reportingperiodactualendbalanceamount',\n",
    " 'abs_loan.reportingperiodscheduledpaymentamount',\n",
    " 'abs_loan.totalactualamountpaid',\n",
    " 'abs_loan.actualinterestcollectedamount',\n",
    " 'abs_loan.actualprincipalcollectedamount',\n",
    " 'abs_loan.actualothercollectedamount',\n",
    " 'abs_loan.serviceradvancedamount',\n",
    " 'abs_loan.interestpaidthroughdate',\n",
    " 'abs_loan.zerobalanceeffectivedate',\n",
    " 'abs_loan.zerobalancecode',\n",
    " 'abs_loan.currentdelinquencystatus',\n",
    " #'primaryloanservicername',\n",
    " #'mostrecentservicingtransferreceiveddate',\n",
    " #'assetsubjectdemandindicator',\n",
    " #'assetsubjectdemandstatuscode',\n",
    " #'repurchaseamount',\n",
    " #'demandresolutiondate',\n",
    " #'repurchasername',\n",
    " #'repurchasereplacementreasoncode',\n",
    " #'chargedoffprincipalamount',\n",
    " #'recoveredamount',\n",
    " #'modificationtypecode',\n",
    " #'paymentextendednumber',\n",
    " #'repossessedindicator',\n",
    " #'repossessedproceedsamount'\n",
    "]"
   ]
  },
  {
   "cell_type": "code",
   "execution_count": 5,
   "metadata": {
    "collapsed": true
   },
   "outputs": [],
   "source": [
    "#df.drop(drop_list,axis=1, inplace=True)"
   ]
  },
  {
   "cell_type": "markdown",
   "metadata": {},
   "source": [
    "# GPU Options"
   ]
  },
  {
   "cell_type": "code",
   "execution_count": 6,
   "metadata": {
    "collapsed": true
   },
   "outputs": [],
   "source": [
    "#set gpu options to adjust gpu usage\n",
    "# gpu_options = tf.GPUOptions(per_process_gpu_memory_fraction=0.5)\n",
    "# sess=tf.Session(config=tf.ConfigProto(gpu_options=gpu_options))"
   ]
  },
  {
   "cell_type": "markdown",
   "metadata": {},
   "source": [
    "# Load data"
   ]
  },
  {
   "cell_type": "code",
   "execution_count": 7,
   "metadata": {},
   "outputs": [
    {
     "name": "stdout",
     "output_type": "stream",
     "text": [
      "(31511678, 47)\n"
     ]
    }
   ],
   "source": [
    "#load data from tab delimited file\n",
    "df=pd.read_csv(path+'datasets/abs_loan.csv', \n",
    "               usecols=use_list, \n",
    "               sep='\\t',\n",
    "               #compression=bz2,\n",
    "               #nrows=nrows,\n",
    "               low_memory=False, \n",
    "              #index_col='abs_loan.reportingperiodendingdate', \n",
    "               parse_dates=True\n",
    "              )\n",
    "\n",
    "#remove 'abs_loan.' string from columns because 'dot' is a command in pandas\n",
    "df.columns=df.columns.str.replace('abs_loan.','')\n",
    "\n",
    "#display data shape\n",
    "print(df.shape)\n",
    "#view first five rows of all columns\n",
    "#df.head(n=5)"
   ]
  },
  {
   "cell_type": "code",
   "execution_count": 8,
   "metadata": {
    "collapsed": true
   },
   "outputs": [],
   "source": [
    "#df.cik.unique()"
   ]
  },
  {
   "cell_type": "code",
   "execution_count": 9,
   "metadata": {
    "collapsed": true
   },
   "outputs": [],
   "source": [
    "#df.assetnumber.unique()"
   ]
  },
  {
   "cell_type": "code",
   "execution_count": 10,
   "metadata": {
    "collapsed": true
   },
   "outputs": [],
   "source": [
    "#df.loc[:,~df.columns.str.contains('^Unnamed')]"
   ]
  },
  {
   "cell_type": "code",
   "execution_count": 11,
   "metadata": {
    "collapsed": true
   },
   "outputs": [],
   "source": [
    "#df.duplicated(subset=['cik','assetnumber']).sum()"
   ]
  },
  {
   "cell_type": "code",
   "execution_count": 12,
   "metadata": {},
   "outputs": [],
   "source": [
    "#df.duplicated(subset=['cik','assetnumber','reportingperiodendingdate']).sum()"
   ]
  },
  {
   "cell_type": "code",
   "execution_count": 13,
   "metadata": {},
   "outputs": [
    {
     "data": {
      "text/plain": [
       "1197970"
      ]
     },
     "execution_count": 13,
     "metadata": {},
     "output_type": "execute_result"
    }
   ],
   "source": [
    "df.duplicated(subset=['cik','assetnumber','reportingperiodendingdate','originationdate']).sum()"
   ]
  },
  {
   "cell_type": "code",
   "execution_count": 14,
   "metadata": {
    "collapsed": true
   },
   "outputs": [],
   "source": [
    "#df.loc[df.duplicated(subset=['cik','assetnumber','reportingperiodendingdate']),:]"
   ]
  },
  {
   "cell_type": "code",
   "execution_count": 15,
   "metadata": {},
   "outputs": [
    {
     "data": {
      "text/plain": [
       "1197970"
      ]
     },
     "execution_count": 15,
     "metadata": {},
     "output_type": "execute_result"
    }
   ],
   "source": [
    "df.duplicated().sum()"
   ]
  },
  {
   "cell_type": "code",
   "execution_count": 16,
   "metadata": {
    "collapsed": true
   },
   "outputs": [],
   "source": [
    "df.drop_duplicates(subset=['cik','assetnumber','reportingperiodendingdate','originationdate'],keep='last', inplace=True)"
   ]
  },
  {
   "cell_type": "code",
   "execution_count": 17,
   "metadata": {},
   "outputs": [
    {
     "data": {
      "text/plain": [
       "(30313708, 47)"
      ]
     },
     "execution_count": 17,
     "metadata": {},
     "output_type": "execute_result"
    }
   ],
   "source": [
    "#df.columns.tolist()\n",
    "df.shape"
   ]
  },
  {
   "cell_type": "code",
   "execution_count": 18,
   "metadata": {
    "collapsed": true,
    "scrolled": false
   },
   "outputs": [],
   "source": [
    "#df.info(memory_usage='deep')"
   ]
  },
  {
   "cell_type": "code",
   "execution_count": 19,
   "metadata": {
    "collapsed": true
   },
   "outputs": [],
   "source": [
    "#df.memory_usage(deep=True).sum()"
   ]
  },
  {
   "cell_type": "code",
   "execution_count": 20,
   "metadata": {
    "collapsed": true
   },
   "outputs": [],
   "source": [
    "#df.dtypes"
   ]
  },
  {
   "cell_type": "code",
   "execution_count": 21,
   "metadata": {
    "collapsed": true
   },
   "outputs": [],
   "source": [
    "#df.head()\n",
    "#df=df.sort_values(by='originationdate', ascending=True)"
   ]
  },
  {
   "cell_type": "markdown",
   "metadata": {},
   "source": [
    "# Function to Draw Bar chart"
   ]
  },
  {
   "cell_type": "code",
   "execution_count": 22,
   "metadata": {
    "collapsed": true
   },
   "outputs": [],
   "source": [
    "#function to draw a bar chart \n",
    "def draw(data, title, ylabel, sort = False, n=-1):\n",
    "    labels = pd.value_counts(data).head().index.tolist()\n",
    "    count_classes = pd.value_counts(data, sort).head()\n",
    "    count_classes.plot(kind = 'bar', rot=0)\n",
    "    plt.xticks(range(len(labels)), labels)\n",
    "    plt.title(title)\n",
    "    plt.ylabel(ylabel)\n",
    "    plt.show()\n",
    "    print('Top ',n,' counts: ','\\n',pd.value_counts(data, sort).head(n))"
   ]
  },
  {
   "cell_type": "markdown",
   "metadata": {},
   "source": [
    "# Reporting Period"
   ]
  },
  {
   "cell_type": "code",
   "execution_count": 23,
   "metadata": {},
   "outputs": [
    {
     "data": {
      "image/png": "[encoded data removed]",
      "text/plain": [
       "<matplotlib.figure.Figure at 0x27bf431d1d0>"
      ]
     },
     "metadata": {},
     "output_type": "display_data"
    },
    {
     "name": "stdout",
     "output_type": "stream",
     "text": [
      "Top  100  counts:  \n",
      " 2018-06-30    4362979\n",
      "2018-05-31    3991000\n",
      "2018-04-30    3755105\n",
      "2018-03-31    3660354\n",
      "2018-08-31    3540881\n",
      "2018-02-28    3210528\n",
      "2018-07-31    2620727\n",
      "2017-12-31    2205186\n",
      "2018-09-30    1602432\n",
      "2017-01-31     449156\n",
      "2017-02-28     407609\n",
      "2016-12-31     282950\n",
      "2017-11-30     102344\n",
      "2017-03-31      75737\n",
      "2018-01-31      46720\n",
      "Name: reportingperiodendingdate, dtype: int64\n"
     ]
    }
   ],
   "source": [
    "draw(df.reportingperiodendingdate, title='reporting period endingdate', ylabel='Number of Loans', sort = True, n=100)"
   ]
  },
  {
   "cell_type": "code",
   "execution_count": 24,
   "metadata": {
    "collapsed": true
   },
   "outputs": [],
   "source": [
    "# restrict data to a reporting period\n",
    "#df=df[df.index=='2017-11-30']"
   ]
  },
  {
   "cell_type": "markdown",
   "metadata": {},
   "source": [
    "Mean current deliquency days for the reporting period"
   ]
  },
  {
   "cell_type": "code",
   "execution_count": 25,
   "metadata": {},
   "outputs": [
    {
     "data": {
      "text/plain": [
       "reportingperiodendingdate\n",
       "2016-12-31     1.017230\n",
       "2017-01-31     1.245357\n",
       "2017-02-28     0.975419\n",
       "2017-03-31     0.527338\n",
       "2017-11-30     0.299060\n",
       "2017-12-31     4.351060\n",
       "2018-01-31     0.538368\n",
       "2018-02-28     3.790537\n",
       "2018-03-31     3.613464\n",
       "2018-04-30     4.018169\n",
       "2018-05-31     4.382200\n",
       "2018-06-30     4.494235\n",
       "2018-07-31     1.033303\n",
       "2018-08-31     6.986425\n",
       "2018-09-30    14.454640\n",
       "Name: currentdelinquencystatus, dtype: float64"
      ]
     },
     "execution_count": 25,
     "metadata": {},
     "output_type": "execute_result"
    }
   ],
   "source": [
    "df.groupby(df.reportingperiodendingdate).currentdelinquencystatus.mean()"
   ]
  },
  {
   "cell_type": "markdown",
   "metadata": {},
   "source": [
    "Mean ending balance for the reporting period"
   ]
  },
  {
   "cell_type": "code",
   "execution_count": 26,
   "metadata": {},
   "outputs": [
    {
     "data": {
      "text/plain": [
       "reportingperiodendingdate\n",
       "2016-12-31    19307.627329\n",
       "2017-01-31    18400.565060\n",
       "2017-02-28    18864.512296\n",
       "2017-03-31    18459.045384\n",
       "2017-11-30    27365.950704\n",
       "2017-12-31    16263.135838\n",
       "2018-01-31    22312.621633\n",
       "2018-02-28    16555.467863\n",
       "2018-03-31    16243.891309\n",
       "2018-04-30    16212.113389\n",
       "2018-05-31    16070.462467\n",
       "2018-06-30    16354.949164\n",
       "2018-07-31    15704.642696\n",
       "2018-08-31    16816.434780\n",
       "2018-09-30    15810.045308\n",
       "Name: reportingperiodactualendbalanceamount, dtype: float64"
      ]
     },
     "execution_count": 26,
     "metadata": {},
     "output_type": "execute_result"
    }
   ],
   "source": [
    "df.groupby(df.reportingperiodendingdate).reportingperiodactualendbalanceamount.mean()"
   ]
  },
  {
   "cell_type": "markdown",
   "metadata": {},
   "source": [
    "# Create Features for Reporting period"
   ]
  },
  {
   "cell_type": "code",
   "execution_count": 27,
   "metadata": {},
   "outputs": [
    {
     "name": "stdout",
     "output_type": "stream",
     "text": [
      "Added Column for :   reportingperiodending_2018-06-30\n",
      "Added Column for :   reportingperiodending_2018-05-31\n",
      "Added Column for :   reportingperiodending_2018-04-30\n",
      "Added Column for :   reportingperiodending_2018-03-31\n",
      "Added Column for :   reportingperiodending_2018-08-31\n",
      "Added Column for :   reportingperiodending_2018-02-28\n",
      "Added Column for :   reportingperiodending_2018-07-31\n",
      "Added Column for :   reportingperiodending_2017-12-31\n",
      "Added Column for :   reportingperiodending_2018-09-30\n",
      "Added Column for :   reportingperiodending_2017-01-31\n",
      "Added Column for :   reportingperiodending_2017-02-28\n",
      "Added Column for :   reportingperiodending_2016-12-31\n",
      "Added Column for :   reportingperiodending_2017-11-30\n",
      "Added Column for :   reportingperiodending_2017-03-31\n",
      "Added Column for :   reportingperiodending_2018-01-31\n",
      "New Dataframe shape :  (30313708, 62)\n"
     ]
    }
   ],
   "source": [
    "# create feature columns for categories within originator name \n",
    "def map_reportingperiodendingdate(*args):\n",
    "    columns = [col for col in args]\n",
    "    for column in columns:\n",
    "        if column == code:\n",
    "            return 1\n",
    "        else:\n",
    "            return 0\n",
    "codes = pd.value_counts(df.reportingperiodendingdate).index.tolist()\n",
    "\n",
    "for code in codes:\n",
    "        df['reportingperiodending_{}'.format(code)] = list(map(map_reportingperiodendingdate, df.reportingperiodendingdate))\n",
    "        print('Added Column for :   reportingperiodending_'+code)\n",
    "print('New Dataframe shape : ', df.shape)"
   ]
  },
  {
   "cell_type": "markdown",
   "metadata": {},
   "source": [
    "# Number of Days Loans Outstanding"
   ]
  },
  {
   "cell_type": "code",
   "execution_count": 28,
   "metadata": {},
   "outputs": [
    {
     "data": {
      "image/png": "[encoded data removed]",
      "text/plain": [
       "<matplotlib.figure.Figure at 0x27b8051eac8>"
      ]
     },
     "metadata": {},
     "output_type": "display_data"
    },
    {
     "name": "stdout",
     "output_type": "stream",
     "text": [
      "Top  5  counts:  \n",
      " 365 days    1118783\n",
      "577 days     803457\n",
      "304 days     791994\n",
      "212 days     776215\n",
      "334 days     708415\n",
      "Name: outstandingdays, dtype: int64\n"
     ]
    }
   ],
   "source": [
    "#calculate outstanding days\n",
    "df['outstandingdays'] = pd.to_datetime(df['reportingperiodendingdate'])-pd.to_datetime(df['originationdate'])\n",
    "#draw a chart for visual look and analysis\n",
    "draw(df.outstandingdays, title='Outstanding Days', ylabel='Number of Loans', sort = True, n=5)\n",
    "#remove days string for machine learning\n",
    "df['outstandingdays']=df.outstandingdays.map(lambda x: np.nan if pd.isnull(x) else x.days)\n",
    "#display last five rows\n",
    "#df.outstandingdays.tail()"
   ]
  },
  {
   "cell_type": "code",
   "execution_count": 29,
   "metadata": {},
   "outputs": [
    {
     "name": "stdout",
     "output_type": "stream",
     "text": [
      "No Loans Below zero outstanding days\n"
     ]
    }
   ],
   "source": [
    "# retaining only loans with non-negative outstanding days\n",
    "u=pd.value_counts(df.outstandingdays<0)\n",
    "if len(u)<2:\n",
    "    print('No Loans Below zero outstanding days')\n",
    "else: \n",
    "    print('Number of Loans with negative outstanding days :', u[1])\n",
    "    print('Dropping ', u[1], 'rows and retaining loans with only non-negative outstanding days')\n",
    "    df=df[df.outstandingdays>0]   "
   ]
  },
  {
   "cell_type": "code",
   "execution_count": 30,
   "metadata": {},
   "outputs": [
    {
     "data": {
      "text/plain": [
       "count    3.031276e+07\n",
       "mean     6.224169e+02\n",
       "std      5.106972e+02\n",
       "min      0.000000e+00\n",
       "25%      2.730000e+02\n",
       "50%      4.850000e+02\n",
       "75%      7.900000e+02\n",
       "max      2.922000e+03\n",
       "Name: outstandingdays, dtype: float64"
      ]
     },
     "execution_count": 30,
     "metadata": {},
     "output_type": "execute_result"
    }
   ],
   "source": [
    "# get statistics for outstanding days\n",
    "df.outstandingdays.describe()"
   ]
  },
  {
   "cell_type": "markdown",
   "metadata": {},
   "source": [
    "Mean outstanding days for the reporting period"
   ]
  },
  {
   "cell_type": "code",
   "execution_count": 31,
   "metadata": {},
   "outputs": [
    {
     "data": {
      "text/plain": [
       "reportingperiodendingdate\n",
       "2016-12-31    390.549889\n",
       "2017-01-31    444.156462\n",
       "2017-02-28    457.063465\n",
       "2017-03-31     90.684276\n",
       "2017-11-30    326.895070\n",
       "2017-12-31    575.396975\n",
       "2018-01-31    439.978275\n",
       "2018-02-28    627.985054\n",
       "2018-03-31    631.013987\n",
       "2018-04-30    634.437935\n",
       "2018-05-31    650.023500\n",
       "2018-06-30    637.687212\n",
       "2018-07-31    756.858757\n",
       "2018-08-31    611.687875\n",
       "2018-09-30    503.969048\n",
       "Name: outstandingdays, dtype: float64"
      ]
     },
     "execution_count": 31,
     "metadata": {},
     "output_type": "execute_result"
    }
   ],
   "source": [
    "df.groupby(df.reportingperiodendingdate).outstandingdays.mean()"
   ]
  },
  {
   "cell_type": "markdown",
   "metadata": {},
   "source": [
    "# Days Left until Maturity"
   ]
  },
  {
   "cell_type": "code",
   "execution_count": 32,
   "metadata": {},
   "outputs": [
    {
     "data": {
      "image/png": "[encoded data removed]",
      "text/plain": [
       "<matplotlib.figure.Figure at 0x27b80590978>"
      ]
     },
     "metadata": {},
     "output_type": "display_data"
    },
    {
     "name": "stdout",
     "output_type": "stream",
     "text": [
      "Top  5  counts:  \n",
      " 1826 days    732887\n",
      "1614 days    613622\n",
      "1461 days    585966\n",
      "1887 days    542220\n",
      "1979 days    502089\n",
      "Name: daystomaturity, dtype: int64\n"
     ]
    }
   ],
   "source": [
    "#calculate days left until maturity\n",
    "df['daystomaturity'] = pd.to_datetime(df['loanmaturitydate'])-pd.to_datetime(df['reportingperiodendingdate'])\n",
    "draw(df.daystomaturity, title='Days Left Until Maturity', ylabel='Number of Loans', sort=True, n=5)"
   ]
  },
  {
   "cell_type": "code",
   "execution_count": 33,
   "metadata": {},
   "outputs": [
    {
     "data": {
      "text/plain": [
       "31511673    2130.0\n",
       "31511674    2130.0\n",
       "31511675    2130.0\n",
       "31511676    1764.0\n",
       "31511677    2130.0\n",
       "Name: daystomaturity, dtype: float64"
      ]
     },
     "execution_count": 33,
     "metadata": {},
     "output_type": "execute_result"
    }
   ],
   "source": [
    "# remove days from the data for machine learning\n",
    "df['daystomaturity']=df.daystomaturity.map(lambda x: np.nan if pd.isnull(x) else x.days)\n",
    "# print last five rows\n",
    "df.daystomaturity.tail()"
   ]
  },
  {
   "cell_type": "code",
   "execution_count": 34,
   "metadata": {},
   "outputs": [
    {
     "name": "stdout",
     "output_type": "stream",
     "text": [
      "Number of Loans with negative outstanding days : 173094\n",
      "Dropping  173094 rows and retaining loans with only non-negative outstanding days\n"
     ]
    }
   ],
   "source": [
    "#retaining only loans with non-negative days to maturity\n",
    "u=pd.value_counts(df.daystomaturity<=0)\n",
    "if len(u)<2:\n",
    "    print('No Loans Below zero outstanding days')\n",
    "else: \n",
    "    print('Number of Loans with negative outstanding days :', u[1])\n",
    "    print('Dropping ', u[1], 'rows and retaining loans with only non-negative outstanding days')\n",
    "    df=df[df.daystomaturity>0]"
   ]
  },
  {
   "cell_type": "code",
   "execution_count": 35,
   "metadata": {},
   "outputs": [
    {
     "data": {
      "text/plain": [
       "(29567934, 64)"
      ]
     },
     "execution_count": 35,
     "metadata": {},
     "output_type": "execute_result"
    }
   ],
   "source": [
    "#number of rows and columns of the dataframe\n",
    "df.shape"
   ]
  },
  {
   "cell_type": "code",
   "execution_count": 36,
   "metadata": {},
   "outputs": [
    {
     "data": {
      "text/plain": [
       "count    2.956793e+07\n",
       "mean     1.430216e+03\n",
       "std      5.471379e+02\n",
       "min      2.800000e+01\n",
       "25%      1.127000e+03\n",
       "50%      1.553000e+03\n",
       "75%      1.856000e+03\n",
       "max      7.944000e+03\n",
       "Name: daystomaturity, dtype: float64"
      ]
     },
     "execution_count": 36,
     "metadata": {},
     "output_type": "execute_result"
    }
   ],
   "source": [
    "# statistics for days to maturity\n",
    "df.daystomaturity.describe()"
   ]
  },
  {
   "cell_type": "markdown",
   "metadata": {},
   "source": [
    "Mean days to maturity for the reporting period"
   ]
  },
  {
   "cell_type": "code",
   "execution_count": 37,
   "metadata": {},
   "outputs": [
    {
     "data": {
      "text/plain": [
       "reportingperiodendingdate\n",
       "2016-12-31    1630.752974\n",
       "2017-01-31    1572.112689\n",
       "2017-02-28    1534.587813\n",
       "2017-03-31    1900.921452\n",
       "2017-11-30    1601.029762\n",
       "2017-12-31    1466.503750\n",
       "2018-01-31    1674.368001\n",
       "2018-02-28    1412.515209\n",
       "2018-03-31    1413.236883\n",
       "2018-04-30    1413.485323\n",
       "2018-05-31    1400.122814\n",
       "2018-06-30    1419.303252\n",
       "2018-07-31    1262.163006\n",
       "2018-08-31    1477.093127\n",
       "2018-09-30    1614.013112\n",
       "Name: daystomaturity, dtype: float64"
      ]
     },
     "execution_count": 37,
     "metadata": {},
     "output_type": "execute_result"
    }
   ],
   "source": [
    "df.groupby(df.reportingperiodendingdate).daystomaturity.mean()"
   ]
  },
  {
   "cell_type": "code",
   "execution_count": 38,
   "metadata": {
    "collapsed": true
   },
   "outputs": [],
   "source": [
    "df.drop(['loanmaturitydate'], axis=1, inplace=True)"
   ]
  },
  {
   "cell_type": "markdown",
   "metadata": {},
   "source": [
    "# Origination date"
   ]
  },
  {
   "cell_type": "markdown",
   "metadata": {},
   "source": [
    "# Removing loans before origination cutoff date"
   ]
  },
  {
   "cell_type": "code",
   "execution_count": 39,
   "metadata": {},
   "outputs": [
    {
     "name": "stdout",
     "output_type": "stream",
     "text": [
      "Number of rows before 2012-01-01 : 22057\n",
      "Dropping  22057 rows and retaining loans with origination dates after 2012-01-01\n"
     ]
    },
    {
     "data": {
      "text/plain": [
       "(29545877, 63)"
      ]
     },
     "execution_count": 39,
     "metadata": {},
     "output_type": "execute_result"
    }
   ],
   "source": [
    "# remove loans with orgination dates set for cut off earlier\n",
    "u=pd.value_counts(df.originationdate<=cutOffForOriginationDate)\n",
    "if len(u)<2:\n",
    "    print('No origination date rows fall before ',cutOffForOriginationDate )\n",
    "else: \n",
    "    print('Number of rows before',cutOffForOriginationDate ,':', u[1])\n",
    "    print('Dropping ', u[1], 'rows and retaining loans with origination dates after', cutOffForOriginationDate)\n",
    "    df=df[df.originationdate>cutOffForOriginationDate]\n",
    "#new number of rows and columns of the dataframe\n",
    "df.shape"
   ]
  },
  {
   "cell_type": "code",
   "execution_count": 40,
   "metadata": {},
   "outputs": [
    {
     "data": {
      "image/png": "[encoded data removed]",
      "text/plain": [
       "<matplotlib.figure.Figure at 0x27be77d5630>"
      ]
     },
     "metadata": {},
     "output_type": "display_data"
    },
    {
     "name": "stdout",
     "output_type": "stream",
     "text": [
      "Top  10  counts:  \n",
      " 2017-03-31    1416784\n",
      "2016-12-31    1227394\n",
      "2017-05-31    1184396\n",
      "2017-04-30    1124943\n",
      "2016-10-31    1078464\n",
      "2016-09-30    1062917\n",
      "2017-08-31    1048110\n",
      "2016-11-30    1032031\n",
      "2017-07-31    1024725\n",
      "2017-01-31     994864\n",
      "Name: originationdate, dtype: int64\n"
     ]
    }
   ],
   "source": [
    "#set origination date as index\n",
    "#df.set_index(['originationdate'])\n",
    "# draw origination date chart\n",
    "draw(df.originationdate, title='Origination Date', ylabel='Number of Loans', sort=True, n=10)"
   ]
  },
  {
   "cell_type": "code",
   "execution_count": 41,
   "metadata": {},
   "outputs": [
    {
     "data": {
      "text/plain": [
       "count       29545877\n",
       "unique            81\n",
       "top       2017-03-31\n",
       "freq         1416784\n",
       "Name: originationdate, dtype: object"
      ]
     },
     "execution_count": 41,
     "metadata": {},
     "output_type": "execute_result"
    }
   ],
   "source": [
    "# statistics for origination date\n",
    "df.originationdate.describe()"
   ]
  },
  {
   "cell_type": "markdown",
   "metadata": {},
   "source": [
    "Top ten mean current deliquncy status by origination date"
   ]
  },
  {
   "cell_type": "code",
   "execution_count": 42,
   "metadata": {},
   "outputs": [
    {
     "data": {
      "text/plain": [
       "<matplotlib.axes._subplots.AxesSubplot at 0x27be7b8bb70>"
      ]
     },
     "execution_count": 42,
     "metadata": {},
     "output_type": "execute_result"
    },
    {
     "data": {
      "image/png": "[encoded data removed]",
      "text/plain": [
       "<matplotlib.figure.Figure at 0x27b9f5212b0>"
      ]
     },
     "metadata": {},
     "output_type": "display_data"
    }
   ],
   "source": [
    "df.groupby([df.originationdate, df.reportingperiodendingdate]).currentdelinquencystatus.mean().sort_values().tail(n=10).plot(kind='bar')"
   ]
  },
  {
   "cell_type": "code",
   "execution_count": 43,
   "metadata": {},
   "outputs": [
    {
     "data": {
      "text/plain": [
       "<matplotlib.axes._subplots.AxesSubplot at 0x27bd4ae87f0>"
      ]
     },
     "execution_count": 43,
     "metadata": {},
     "output_type": "execute_result"
    },
    {
     "data": {
      "image/png": "[encoded data removed]",
      "text/plain": [
       "<matplotlib.figure.Figure at 0x27b9f523390>"
      ]
     },
     "metadata": {},
     "output_type": "display_data"
    }
   ],
   "source": [
    "df.groupby(df.originationdate).currentdelinquencystatus.mean().sort_values().tail(n=10).plot(kind='bar')"
   ]
  },
  {
   "cell_type": "markdown",
   "metadata": {},
   "source": [
    "# Originators Name"
   ]
  },
  {
   "cell_type": "code",
   "execution_count": 44,
   "metadata": {},
   "outputs": [
    {
     "data": {
      "text/plain": [
       "array(['BMW Bank of North America', 'BMW Financial Services NA LLC', 'SC',\n",
       "       'Mechanics Bank', 'TMCC', 'AHFC',\n",
       "       'USAAFSB                                           ', 'NMAC',\n",
       "       'Fifth Third Bank', 'VW Credit',\n",
       "       'MBFS USA LLC                                      ', 'Ford Credit',\n",
       "       'HCA', 'WORLD OMNI FINANCIAL CORP', 'CBS', 'GM FINANCIAL',\n",
       "       'Ally Bank'], dtype=object)"
      ]
     },
     "execution_count": 44,
     "metadata": {},
     "output_type": "execute_result"
    }
   ],
   "source": [
    "df.originatorname.unique()"
   ]
  },
  {
   "cell_type": "code",
   "execution_count": 45,
   "metadata": {},
   "outputs": [
    {
     "data": {
      "image/png": "[encoded data removed]",
      "text/plain": [
       "<matplotlib.figure.Figure at 0x27bd1709ef0>"
      ]
     },
     "metadata": {},
     "output_type": "display_data"
    },
    {
     "name": "stdout",
     "output_type": "stream",
     "text": [
      "Top  -1  counts:  \n",
      " SC                                                    5882726\n",
      "CBS                                                   3598244\n",
      "TMCC                                                  3536459\n",
      "Ally Bank                                             3070699\n",
      "AHFC                                                  3029796\n",
      "GM FINANCIAL                                          2748137\n",
      "NMAC                                                  1805919\n",
      "Ford Credit                                           1688988\n",
      "WORLD OMNI FINANCIAL CORP                             1536039\n",
      "HCA                                                   1090356\n",
      "BMW Bank of North America                              426891\n",
      "Fifth Third Bank                                       310976\n",
      "Mechanics Bank                                         284360\n",
      "USAAFSB                                                227457\n",
      "VW Credit                                              207888\n",
      "MBFS USA LLC                                           100589\n",
      "Name: originatorname, dtype: int64\n"
     ]
    }
   ],
   "source": [
    "# draw charts for originators name\n",
    "draw(df.originatorname, title='Originators Name', ylabel='Number of Loans', sort=True)"
   ]
  },
  {
   "cell_type": "markdown",
   "metadata": {},
   "source": [
    "# Create Features for Originators"
   ]
  },
  {
   "cell_type": "code",
   "execution_count": 46,
   "metadata": {
    "collapsed": true
   },
   "outputs": [],
   "source": [
    "df['originatorname']=df.originatorname.astype('category')"
   ]
  },
  {
   "cell_type": "code",
   "execution_count": 47,
   "metadata": {},
   "outputs": [
    {
     "name": "stdout",
     "output_type": "stream",
     "text": [
      "Added Column for :   originator_SC\n",
      "Added Column for :   originator_CBS\n",
      "Added Column for :   originator_TMCC\n",
      "Added Column for :   originator_Ally Bank\n",
      "Added Column for :   originator_AHFC\n",
      "Added Column for :   originator_GM FINANCIAL\n",
      "Added Column for :   originator_NMAC\n",
      "Added Column for :   originator_Ford Credit\n",
      "Added Column for :   originator_WORLD OMNI FINANCIAL CORP\n",
      "Added Column for :   originator_HCA\n",
      "Added Column for :   originator_BMW Bank of North America\n",
      "Added Column for :   originator_Fifth Third Bank\n",
      "Added Column for :   originator_Mechanics Bank\n",
      "Added Column for :   originator_USAAFSB                                           \n",
      "Added Column for :   originator_VW Credit\n",
      "Added Column for :   originator_MBFS USA LLC                                      \n",
      "Added Column for :   originator_BMW Financial Services NA LLC\n",
      "New Dataframe shape :  (29545877, 80)\n"
     ]
    }
   ],
   "source": [
    "# create feature columns for categories within originator name \n",
    "def map_originatorname(*args):\n",
    "    columns = [col for col in args]\n",
    "    for column in columns:\n",
    "        if column == code:\n",
    "            return 1\n",
    "        else:\n",
    "            return 0\n",
    "codes = pd.value_counts(df.originatorname).index.tolist()\n",
    "\n",
    "for code in codes:\n",
    "        df['originator_{}'.format(code)] = list(map(map_originatorname, df.originatorname))\n",
    "        print('Added Column for :   originator_'+code)\n",
    "print('New Dataframe shape : ', df.shape)"
   ]
  },
  {
   "cell_type": "code",
   "execution_count": 48,
   "metadata": {},
   "outputs": [
    {
     "data": {
      "text/plain": [
       "(29545877, 79)"
      ]
     },
     "execution_count": 48,
     "metadata": {},
     "output_type": "execute_result"
    }
   ],
   "source": [
    "# drop originator name column\n",
    "df.drop(['originatorname'],axis=1, inplace=True)\n",
    "# new number of rows and columns\n",
    "df.shape"
   ]
  },
  {
   "cell_type": "markdown",
   "metadata": {},
   "source": [
    "# Original Loan Amount"
   ]
  },
  {
   "cell_type": "code",
   "execution_count": 49,
   "metadata": {},
   "outputs": [
    {
     "data": {
      "text/plain": [
       "reportingperiodendingdate\n",
       "2016-12-31    23499.758086\n",
       "2017-01-31    23426.627053\n",
       "2017-02-28    24408.563931\n",
       "2017-03-31    19392.967107\n",
       "2017-11-30    33450.714108\n",
       "2017-12-31    22738.087680\n",
       "2018-01-31    27952.585437\n",
       "2018-02-28    24001.135384\n",
       "2018-03-31    23751.070808\n",
       "2018-04-30    23760.034267\n",
       "2018-05-31    23855.966093\n",
       "2018-06-30    24017.885074\n",
       "2018-07-31    25704.122132\n",
       "2018-08-31    23714.321477\n",
       "2018-09-30    20221.398766\n",
       "Name: originalloanamount, dtype: float64"
      ]
     },
     "execution_count": 49,
     "metadata": {},
     "output_type": "execute_result"
    }
   ],
   "source": [
    "df.groupby(df.reportingperiodendingdate).originalloanamount.mean()"
   ]
  },
  {
   "cell_type": "code",
   "execution_count": 50,
   "metadata": {},
   "outputs": [
    {
     "data": {
      "image/png": "[encoded data removed]",
      "text/plain": [
       "<matplotlib.figure.Figure at 0x27b805effd0>"
      ]
     },
     "metadata": {},
     "output_type": "display_data"
    },
    {
     "name": "stdout",
     "output_type": "stream",
     "text": [
      "Top  -1  counts:  \n",
      " True    28111228\n",
      "Name: originalloanamount, dtype: int64\n"
     ]
    }
   ],
   "source": [
    "# draw chart for original loan amount as filered in the next variable(original_loan_in_excess) \n",
    "original_loan_in_excess = 10000\n",
    "draw(df.originalloanamount>original_loan_in_excess, title='Original Loan Amount', ylabel='Number of Loans', sort=True)"
   ]
  },
  {
   "cell_type": "code",
   "execution_count": 51,
   "metadata": {},
   "outputs": [
    {
     "data": {
      "image/png": "[encoded data removed]",
      "text/plain": [
       "<matplotlib.figure.Figure at 0x27be7ef1470>"
      ]
     },
     "metadata": {},
     "output_type": "display_data"
    }
   ],
   "source": [
    "#draw a chart to view distribution of original loan amount\n",
    "bins = np.linspace(0, 80000, 1000)\n",
    "plt.hist(df.originalloanamount, bins, label='Original Loan Amount')\n",
    "plt.legend(loc='upper right')\n",
    "plt.title(\"Original Amount Loaned\")\n",
    "plt.xlabel('Original Loan amount')\n",
    "plt.ylabel('Number of Loans')\n",
    "plt.show()"
   ]
  },
  {
   "cell_type": "code",
   "execution_count": 52,
   "metadata": {},
   "outputs": [
    {
     "data": {
      "text/plain": [
       "count    2.954588e+07\n",
       "mean     2.375660e+04\n",
       "std      1.076533e+04\n",
       "min      5.510000e+02\n",
       "25%      1.624237e+04\n",
       "50%      2.192698e+04\n",
       "75%      2.912244e+04\n",
       "max      2.432811e+05\n",
       "Name: originalloanamount, dtype: float64"
      ]
     },
     "execution_count": 52,
     "metadata": {},
     "output_type": "execute_result"
    }
   ],
   "source": [
    "# get statistics for original loan amount\n",
    "df.originalloanamount.describe()"
   ]
  },
  {
   "cell_type": "code",
   "execution_count": 53,
   "metadata": {},
   "outputs": [
    {
     "name": "stdout",
     "output_type": "stream",
     "text": [
      "No original loan amount blank or below zero\n"
     ]
    },
    {
     "data": {
      "text/plain": [
       "(29545877, 79)"
      ]
     },
     "execution_count": 53,
     "metadata": {},
     "output_type": "execute_result"
    }
   ],
   "source": [
    "# To remove rows with zero, non-negative or blank values for original loan amount\n",
    "\n",
    "u=pd.value_counts(df.originalloanamount<=0)\n",
    "if len(u)<2:\n",
    "    print('No original loan amount blank or below zero')\n",
    "else: \n",
    "    print('Number of original loan amount rows blank or below zero',':', u[1])\n",
    "    print('Dropping ', u[1], 'rows and retaining loans with original loan amount more than zero')\n",
    "    df=df[df.originalloanamount>0]\n",
    "df.shape"
   ]
  },
  {
   "cell_type": "markdown",
   "metadata": {},
   "source": [
    "# Original Loan Term"
   ]
  },
  {
   "cell_type": "code",
   "execution_count": 54,
   "metadata": {},
   "outputs": [
    {
     "data": {
      "text/plain": [
       "reportingperiodendingdate\n",
       "2016-12-31    67.167942\n",
       "2017-01-31    66.745404\n",
       "2017-02-28    66.207702\n",
       "2017-03-31    66.135396\n",
       "2017-11-30    63.560951\n",
       "2017-12-31    67.132079\n",
       "2018-01-31    70.416080\n",
       "2018-02-28    66.891629\n",
       "2018-03-31    67.001881\n",
       "2018-04-30    67.012369\n",
       "2018-05-31    67.013476\n",
       "2018-06-30    67.223207\n",
       "2018-07-31    65.950912\n",
       "2018-08-31    67.762346\n",
       "2018-09-30    68.923208\n",
       "Name: originalloanterm, dtype: float64"
      ]
     },
     "execution_count": 54,
     "metadata": {},
     "output_type": "execute_result"
    }
   ],
   "source": [
    "df.groupby(df.reportingperiodendingdate).originalloanterm.mean()"
   ]
  },
  {
   "cell_type": "code",
   "execution_count": 55,
   "metadata": {},
   "outputs": [
    {
     "data": {
      "image/png": "[encoded data removed]",
      "text/plain": [
       "<matplotlib.figure.Figure at 0x27be96cc438>"
      ]
     },
     "metadata": {},
     "output_type": "display_data"
    },
    {
     "name": "stdout",
     "output_type": "stream",
     "text": [
      "Top  -1  counts:  \n",
      " True    28480690\n",
      "Name: originalloanterm, dtype: int64\n"
     ]
    }
   ],
   "source": [
    "# draw chart for original loan term based on the input of variable below(original_loan_term_excess)\n",
    "original_loan_term_excess = 48\n",
    "draw(df.originalloanterm>original_loan_term_excess, title='Original Loan Terms', ylabel='Number of Loans',sort=True)"
   ]
  },
  {
   "cell_type": "code",
   "execution_count": 56,
   "metadata": {},
   "outputs": [
    {
     "data": {
      "image/png": "[encoded data removed]",
      "text/plain": [
       "<matplotlib.figure.Figure at 0x27b80d9beb8>"
      ]
     },
     "metadata": {},
     "output_type": "display_data"
    }
   ],
   "source": [
    "#chart for the distribution of original loan term\n",
    "bins = np.linspace(0, 84, 12)\n",
    "plt.hist(df.originalloanterm, bins, label='Original Loan Term')\n",
    "plt.legend(loc='upper right')\n",
    "plt.title(\"Original Loan Term\")\n",
    "plt.xlabel('Number of Months')\n",
    "#plt.ylabel('Number of Loans')\n",
    "plt.show()"
   ]
  },
  {
   "cell_type": "code",
   "execution_count": 57,
   "metadata": {},
   "outputs": [
    {
     "data": {
      "text/plain": [
       "count    2.954588e+07\n",
       "mean     6.711513e+01\n",
       "std      8.468860e+00\n",
       "min      1.000000e+01\n",
       "25%      6.100000e+01\n",
       "50%      7.200000e+01\n",
       "75%      7.300000e+01\n",
       "max      8.600000e+01\n",
       "Name: originalloanterm, dtype: float64"
      ]
     },
     "execution_count": 57,
     "metadata": {},
     "output_type": "execute_result"
    }
   ],
   "source": [
    "#statistics for original loan term\n",
    "df.originalloanterm.describe()"
   ]
  },
  {
   "cell_type": "code",
   "execution_count": 58,
   "metadata": {},
   "outputs": [
    {
     "name": "stdout",
     "output_type": "stream",
     "text": [
      "No original loan term blank or below zero\n"
     ]
    },
    {
     "data": {
      "text/plain": [
       "(29545877, 79)"
      ]
     },
     "execution_count": 58,
     "metadata": {},
     "output_type": "execute_result"
    }
   ],
   "source": [
    "# remove rows with zero, blank or negative original loan term\n",
    "\n",
    "u=pd.value_counts(df.originalloanterm<=0)\n",
    "if len(u)<2:\n",
    "    print('No original loan term blank or below zero')\n",
    "else: \n",
    "    print('Number of original loan term rows blank or below zero',':', u[1])\n",
    "    print('Dropping ', u[1], 'rows and retaining loans with original loan term more than zero')\n",
    "    df=df[df.originalloanterm>0]\n",
    "# new number of rows and columns of the dataframe\n",
    "df.shape"
   ]
  },
  {
   "cell_type": "markdown",
   "metadata": {},
   "source": [
    "# Original interest rate percentage"
   ]
  },
  {
   "cell_type": "code",
   "execution_count": 59,
   "metadata": {},
   "outputs": [
    {
     "data": {
      "image/png": "[encoded data removed]",
      "text/plain": [
       "<matplotlib.figure.Figure at 0x27b81802b00>"
      ]
     },
     "metadata": {},
     "output_type": "display_data"
    },
    {
     "name": "stdout",
     "output_type": "stream",
     "text": [
      "Top  -1  counts:  \n",
      " True    29274465\n",
      "Name: originalinterestratepercentage, dtype: int64\n"
     ]
    }
   ],
   "source": [
    "# draw a chart with a filter input as below (originalinterestratepercentage_excess)\n",
    "originalinterestratepercentage_excess = 2.0\n",
    "draw(df.originalinterestratepercentage<originalinterestratepercentage_excess, title='Original Interest Rate Percentage', ylabel='Number of Loans',sort=True)"
   ]
  },
  {
   "cell_type": "code",
   "execution_count": 60,
   "metadata": {
    "collapsed": true
   },
   "outputs": [],
   "source": [
    "# get statistics for originalinterestratepercentage\n",
    "#df.originalinterestratepercentage.describe()"
   ]
  },
  {
   "cell_type": "code",
   "execution_count": 61,
   "metadata": {},
   "outputs": [
    {
     "name": "stdout",
     "output_type": "stream",
     "text": [
      "No original interest rate blank or below zero\n"
     ]
    },
    {
     "data": {
      "text/plain": [
       "(29545877, 79)"
      ]
     },
     "execution_count": 61,
     "metadata": {},
     "output_type": "execute_result"
    }
   ],
   "source": [
    "# drop rows with blank or negative original interest rate percentage and research on zero interest rate loans\n",
    "u=pd.value_counts(df.originalinterestratepercentage<0)\n",
    "if len(u)<2:\n",
    "    print('No original interest rate blank or below zero')\n",
    "else: \n",
    "    print('Number of original interest rate rows blank or below zero',':', u[1])\n",
    "    print('Dropping ', u[1], 'rows and retaining loans with original interest rate with non-negative values')\n",
    "    df=df[df.originalinterestratepercentage>=0]\n",
    "df.shape"
   ]
  },
  {
   "cell_type": "markdown",
   "metadata": {},
   "source": [
    "# No interest rate loans"
   ]
  },
  {
   "cell_type": "code",
   "execution_count": 62,
   "metadata": {},
   "outputs": [
    {
     "name": "stdout",
     "output_type": "stream",
     "text": [
      "Number of zero original interest rate rows : 3458939\n"
     ]
    },
    {
     "data": {
      "text/plain": [
       "(29545877, 79)"
      ]
     },
     "execution_count": 62,
     "metadata": {},
     "output_type": "execute_result"
    }
   ],
   "source": [
    "# view zero original interest rate percentage loans\n",
    "u=pd.value_counts(df.originalinterestratepercentage==0)\n",
    "if len(u)<2:\n",
    "    print('No zero original interest rate percentage')\n",
    "else: \n",
    "    print('Number of zero original interest rate rows',':', u[1])\n",
    "    #print('Dropping ', u[1], 'rows and retaining loans with original interest rate with non-negative values')\n",
    "    #df=df[df.originalinterestratepercentage>=0]\n",
    "df.shape"
   ]
  },
  {
   "cell_type": "markdown",
   "metadata": {},
   "source": [
    "# Underwriting Indicator"
   ]
  },
  {
   "cell_type": "code",
   "execution_count": 63,
   "metadata": {},
   "outputs": [
    {
     "data": {
      "text/plain": [
       "array([True, False], dtype=object)"
      ]
     },
     "execution_count": 63,
     "metadata": {},
     "output_type": "execute_result"
    }
   ],
   "source": [
    "df.underwritingindicator.unique()"
   ]
  },
  {
   "cell_type": "code",
   "execution_count": 64,
   "metadata": {
    "collapsed": true
   },
   "outputs": [],
   "source": [
    "df['underwritingindicator']=df.underwritingindicator.astype('category')"
   ]
  },
  {
   "cell_type": "code",
   "execution_count": 65,
   "metadata": {},
   "outputs": [
    {
     "data": {
      "image/png": "[encoded data removed]",
      "text/plain": [
       "<matplotlib.figure.Figure at 0x27b81804780>"
      ]
     },
     "metadata": {},
     "output_type": "display_data"
    },
    {
     "name": "stdout",
     "output_type": "stream",
     "text": [
      "Top  -1  counts:  \n",
      " True    24630967\n",
      "Name: underwritingindicator, dtype: int64\n"
     ]
    }
   ],
   "source": [
    "draw(df.underwritingindicator, title='Underwriting Indicator', ylabel='Number of Loans', sort=True)"
   ]
  },
  {
   "cell_type": "markdown",
   "metadata": {},
   "source": [
    "Create Feature Column for Underwriting TRUE"
   ]
  },
  {
   "cell_type": "code",
   "execution_count": 66,
   "metadata": {},
   "outputs": [
    {
     "data": {
      "text/plain": [
       "1    24630967\n",
       "0     4914910\n",
       "Name: underwriting_true, dtype: int64"
      ]
     },
     "execution_count": 66,
     "metadata": {},
     "output_type": "execute_result"
    }
   ],
   "source": [
    "def map_underwriting_true(*args):\n",
    "    columns = [col for col in args]\n",
    "    for column in columns:\n",
    "        if column == True:\n",
    "            return 1\n",
    "        elif column == False:\n",
    "            return 0\n",
    "        \n",
    "df['underwriting_true'] = list(map(map_underwriting_true, df.underwritingindicator))\n",
    "df.drop(['underwritingindicator'], axis=1, inplace=True)\n",
    "pd.value_counts(df.underwriting_true)"
   ]
  },
  {
   "cell_type": "markdown",
   "metadata": {},
   "source": [
    "# Subvented"
   ]
  },
  {
   "cell_type": "code",
   "execution_count": 67,
   "metadata": {},
   "outputs": [
    {
     "data": {
      "text/plain": [
       "array(['[\"98\"]', '[\"2\"]', '[\"1\"]', '[\"0\"]', '[\"1\",\"2\"]', '[\"1\",\"98\"]',\n",
       "       '[\"1\",\" 2\"]', '[\"1\",\" 98\"]', '[\"2\",\"1\"]'], dtype=object)"
      ]
     },
     "execution_count": 67,
     "metadata": {},
     "output_type": "execute_result"
    }
   ],
   "source": [
    "df.subvented.unique()"
   ]
  },
  {
   "cell_type": "code",
   "execution_count": 68,
   "metadata": {
    "collapsed": true
   },
   "outputs": [],
   "source": [
    "df['subvented']=df.subvented.astype('category')"
   ]
  },
  {
   "cell_type": "code",
   "execution_count": 69,
   "metadata": {},
   "outputs": [
    {
     "data": {
      "image/png": "[encoded data removed]",
      "text/plain": [
       "<matplotlib.figure.Figure at 0x27c0910dd30>"
      ]
     },
     "metadata": {},
     "output_type": "display_data"
    },
    {
     "name": "stdout",
     "output_type": "stream",
     "text": [
      "Top  -1  counts:  \n",
      " [\"0\"]         16306649\n",
      "[\"1\"]          6254274\n",
      "[\"2\"]          3873442\n",
      "[\"1\",\"2\"]      2798353\n",
      "[\"2\",\"1\"]       227251\n",
      "[\"98\"]           82966\n",
      "[\"1\",\" 2\"]        2595\n",
      "[\"1\",\"98\"]         238\n",
      "Name: subvented, dtype: int64\n"
     ]
    }
   ],
   "source": [
    "draw(df.subvented, title='Subvented', ylabel='Number of Loans', sort=True)"
   ]
  },
  {
   "cell_type": "code",
   "execution_count": 70,
   "metadata": {},
   "outputs": [
    {
     "data": {
      "text/plain": [
       "count     29545877\n",
       "unique           9\n",
       "top          [\"0\"]\n",
       "freq      16306649\n",
       "Name: subvented, dtype: object"
      ]
     },
     "execution_count": 70,
     "metadata": {},
     "output_type": "execute_result"
    }
   ],
   "source": [
    "df.subvented.describe(include='all')"
   ]
  },
  {
   "cell_type": "markdown",
   "metadata": {},
   "source": [
    "Create Feature Column for Subvented"
   ]
  },
  {
   "cell_type": "code",
   "execution_count": 71,
   "metadata": {},
   "outputs": [
    {
     "name": "stdout",
     "output_type": "stream",
     "text": [
      "Added Column for :   subvented_[\"0\"]\n",
      "Added Column for :   subvented_[\"1\"]\n",
      "Added Column for :   subvented_[\"2\"]\n",
      "Added Column for :   subvented_[\"1\",\"2\"]\n",
      "Added Column for :   subvented_[\"2\",\"1\"]\n",
      "Added Column for :   subvented_[\"98\"]\n",
      "Added Column for :   subvented_[\"1\",\" 2\"]\n",
      "Added Column for :   subvented_[\"1\",\"98\"]\n",
      "Added Column for :   subvented_[\"1\",\" 98\"]\n",
      "New Dataframe shape :  (29545877, 88)\n"
     ]
    }
   ],
   "source": [
    "# create feature columns for subvented\n",
    "def map_subvented(*args):\n",
    "    columns = [col for col in args]\n",
    "    for column in columns:\n",
    "        if column == code:\n",
    "            return 1\n",
    "        else:\n",
    "            return 0\n",
    "codes = pd.value_counts(df.subvented).index.tolist()\n",
    "\n",
    "for code in codes:\n",
    "        df['subvented_{}'.format(code)] = list(map(map_subvented, df.subvented))\n",
    "        print('Added Column for :   subvented_'+code)\n",
    "print('New Dataframe shape : ', df.shape)\n",
    "df.drop(['subvented'], axis=1, inplace=True)"
   ]
  },
  {
   "cell_type": "markdown",
   "metadata": {},
   "source": [
    "# Vehicle New or Used code"
   ]
  },
  {
   "cell_type": "code",
   "execution_count": 72,
   "metadata": {},
   "outputs": [
    {
     "data": {
      "text/plain": [
       "array([ 1.,  2.])"
      ]
     },
     "execution_count": 72,
     "metadata": {},
     "output_type": "execute_result"
    }
   ],
   "source": [
    "df.vehiclenewusedcode.unique()"
   ]
  },
  {
   "cell_type": "code",
   "execution_count": 73,
   "metadata": {
    "collapsed": true
   },
   "outputs": [],
   "source": [
    "df['vehiclenewusedcode']=df.vehiclenewusedcode.astype('category')"
   ]
  },
  {
   "cell_type": "code",
   "execution_count": 74,
   "metadata": {},
   "outputs": [
    {
     "data": {
      "image/png": "[encoded data removed]",
      "text/plain": [
       "<matplotlib.figure.Figure at 0x27b828dd4e0>"
      ]
     },
     "metadata": {},
     "output_type": "display_data"
    },
    {
     "name": "stdout",
     "output_type": "stream",
     "text": [
      "Top  -1  counts:  \n",
      " 1.0    16547346\n",
      "Name: vehiclenewusedcode, dtype: int64\n"
     ]
    }
   ],
   "source": [
    "draw(df.vehiclenewusedcode, title='Vehicle New or Used code', ylabel='Number of Loans', sort=True)"
   ]
  },
  {
   "cell_type": "markdown",
   "metadata": {},
   "source": [
    "# Create Feature Column for New or Used"
   ]
  },
  {
   "cell_type": "code",
   "execution_count": 75,
   "metadata": {},
   "outputs": [
    {
     "data": {
      "text/plain": [
       "1    16547346\n",
       "0    12998531\n",
       "Name: vehiclenew_true, dtype: int64"
      ]
     },
     "execution_count": 75,
     "metadata": {},
     "output_type": "execute_result"
    }
   ],
   "source": [
    "def map_vehiclenewusedcode_true(*args):\n",
    "    columns = [col for col in args]\n",
    "    for column in columns:\n",
    "        if column == 1:\n",
    "            return 1\n",
    "        else:\n",
    "            return 0\n",
    "        \n",
    "df['vehiclenew_true'] = list(map(map_vehiclenewusedcode_true, df.vehiclenewusedcode))\n",
    "df.drop(['vehiclenewusedcode'], axis=1, inplace=True)\n",
    "pd.value_counts(df.vehiclenew_true)"
   ]
  },
  {
   "cell_type": "markdown",
   "metadata": {},
   "source": [
    "# Vehicle Type code"
   ]
  },
  {
   "cell_type": "code",
   "execution_count": 76,
   "metadata": {},
   "outputs": [
    {
     "data": {
      "text/plain": [
       "array([  3.,   1.,   4.,   2.,  99.,  98.])"
      ]
     },
     "execution_count": 76,
     "metadata": {},
     "output_type": "execute_result"
    }
   ],
   "source": [
    "df.vehicletypecode.unique()"
   ]
  },
  {
   "cell_type": "code",
   "execution_count": 77,
   "metadata": {
    "collapsed": true
   },
   "outputs": [],
   "source": [
    "df['vehicletypecode']=df.vehicletypecode.astype('category')"
   ]
  },
  {
   "cell_type": "code",
   "execution_count": 78,
   "metadata": {},
   "outputs": [
    {
     "data": {
      "image/png": "[encoded data removed]",
      "text/plain": [
       "<matplotlib.figure.Figure at 0x27b8296f5f8>"
      ]
     },
     "metadata": {},
     "output_type": "display_data"
    },
    {
     "name": "stdout",
     "output_type": "stream",
     "text": [
      "Top  -1  counts:  \n",
      " 1.0     14745179\n",
      "3.0      9501220\n",
      "2.0      4254556\n",
      "98.0     1008707\n",
      "4.0        31419\n",
      "Name: vehicletypecode, dtype: int64\n"
     ]
    }
   ],
   "source": [
    "draw(df.vehicletypecode, title='Vehicle Type Code', ylabel='Number of Loans', sort=True)"
   ]
  },
  {
   "cell_type": "code",
   "execution_count": 79,
   "metadata": {},
   "outputs": [
    {
     "data": {
      "text/plain": [
       "count     29545877.0\n",
       "unique           6.0\n",
       "top              1.0\n",
       "freq      14745179.0\n",
       "Name: vehicletypecode, dtype: float64"
      ]
     },
     "execution_count": 79,
     "metadata": {},
     "output_type": "execute_result"
    }
   ],
   "source": [
    "df.vehicletypecode.describe()"
   ]
  },
  {
   "cell_type": "code",
   "execution_count": 80,
   "metadata": {},
   "outputs": [
    {
     "data": {
      "text/plain": [
       "(29545877, 86)"
      ]
     },
     "execution_count": 80,
     "metadata": {},
     "output_type": "execute_result"
    }
   ],
   "source": [
    "df.drop(['vehicletypecode'],axis=1, inplace=True)\n",
    "df.shape"
   ]
  },
  {
   "cell_type": "markdown",
   "metadata": {},
   "source": [
    "# Obligor Credit Score Type"
   ]
  },
  {
   "cell_type": "code",
   "execution_count": 81,
   "metadata": {},
   "outputs": [
    {
     "data": {
      "text/plain": [
       "array(['FICO', 'Bureau', 'FICO Score 2 Auto', 'FICO Score 8 Auto',\n",
       "       'Credit Bureau', 'Consumer Bureau', 'Commercial Bureau',\n",
       "       'Consumer Credit Bureau', 'Unknown/Invalid', 'CREDIT BUREAU',\n",
       "       'Credit Bureau Score', 'None'], dtype=object)"
      ]
     },
     "execution_count": 81,
     "metadata": {},
     "output_type": "execute_result"
    }
   ],
   "source": [
    "df.obligorcreditscoretype.unique()"
   ]
  },
  {
   "cell_type": "code",
   "execution_count": 82,
   "metadata": {
    "collapsed": true
   },
   "outputs": [],
   "source": [
    "df['obligorcreditscoretype']=df.obligorcreditscoretype.astype('category')"
   ]
  },
  {
   "cell_type": "code",
   "execution_count": 83,
   "metadata": {},
   "outputs": [
    {
     "data": {
      "image/png": "[encoded data removed]",
      "text/plain": [
       "<matplotlib.figure.Figure at 0x27b82937e48>"
      ]
     },
     "metadata": {},
     "output_type": "display_data"
    },
    {
     "name": "stdout",
     "output_type": "stream",
     "text": [
      "Top  -1  counts:  \n",
      " Bureau                    9480970\n",
      "Consumer Bureau           4272777\n",
      "Credit Bureau             3338273\n",
      "FICO                      3055956\n",
      "Credit Bureau Score       2729877\n",
      "FICO Score 8 Auto         1804956\n",
      "FICO Score 2 Auto         1731503\n",
      "CREDIT BUREAU             1536039\n",
      "Consumer Credit Bureau    1083786\n",
      "Commercial Bureau          467420\n",
      "None                        37750\n",
      "Name: obligorcreditscoretype, dtype: int64\n"
     ]
    }
   ],
   "source": [
    "draw(df.obligorcreditscoretype, title='Obligor Credit Score Type', ylabel='Number of Loans', sort=True)"
   ]
  },
  {
   "cell_type": "code",
   "execution_count": 84,
   "metadata": {},
   "outputs": [
    {
     "data": {
      "text/plain": [
       "count     29545877\n",
       "unique          12\n",
       "top         Bureau\n",
       "freq       9480970\n",
       "Name: obligorcreditscoretype, dtype: object"
      ]
     },
     "execution_count": 84,
     "metadata": {},
     "output_type": "execute_result"
    }
   ],
   "source": [
    "df.obligorcreditscoretype.describe()"
   ]
  },
  {
   "cell_type": "code",
   "execution_count": 85,
   "metadata": {},
   "outputs": [
    {
     "data": {
      "text/plain": [
       "False    29545877\n",
       "Name: obligorcreditscoretype, dtype: int64"
      ]
     },
     "execution_count": 85,
     "metadata": {},
     "output_type": "execute_result"
    }
   ],
   "source": [
    "pd.value_counts(df.obligorcreditscoretype==0)"
   ]
  },
  {
   "cell_type": "markdown",
   "metadata": {},
   "source": [
    "Create features for obligator credit score type"
   ]
  },
  {
   "cell_type": "code",
   "execution_count": 86,
   "metadata": {
    "collapsed": true
   },
   "outputs": [],
   "source": [
    "def map_obligorcreditscoretype(*args):\n",
    "    columns = [col for col in args]\n",
    "    for column in columns:\n",
    "        if column == code:\n",
    "            return 1\n",
    "        else:\n",
    "            return 0\n",
    "codes = pd.value_counts(df.obligorcreditscoretype).index.tolist()\n",
    "\n",
    "for code in codes:\n",
    "        df['credit_type_{}'.format(code)] = list(map(map_obligorcreditscoretype, df.obligorcreditscoretype))"
   ]
  },
  {
   "cell_type": "code",
   "execution_count": 87,
   "metadata": {},
   "outputs": [
    {
     "data": {
      "text/plain": [
       "(29545877, 97)"
      ]
     },
     "execution_count": 87,
     "metadata": {},
     "output_type": "execute_result"
    }
   ],
   "source": [
    "df.drop(['obligorcreditscoretype'], axis=1, inplace=True)\n",
    "df.shape"
   ]
  },
  {
   "cell_type": "markdown",
   "metadata": {},
   "source": [
    "# Obligor Credit Score"
   ]
  },
  {
   "cell_type": "code",
   "execution_count": 88,
   "metadata": {},
   "outputs": [],
   "source": [
    "#df.obligorcreditscore.isnull().values.any()"
   ]
  },
  {
   "cell_type": "code",
   "execution_count": 89,
   "metadata": {},
   "outputs": [],
   "source": [
    "#df.obligorcreditscore.value_counts(dropna=False).sort_values(ascending=False).head()"
   ]
  },
  {
   "cell_type": "code",
   "execution_count": 90,
   "metadata": {},
   "outputs": [],
   "source": [
    "#df.obligorcreditscore.value_counts('NaN').head()"
   ]
  },
  {
   "cell_type": "code",
   "execution_count": 91,
   "metadata": {},
   "outputs": [
    {
     "data": {
      "image/png": "[encoded data removed]",
      "text/plain": [
       "<matplotlib.figure.Figure at 0x27c091aa2e8>"
      ]
     },
     "metadata": {},
     "output_type": "display_data"
    },
    {
     "name": "stdout",
     "output_type": "stream",
     "text": [
      "Top  10  counts:  \n",
      " 703    118951\n",
      "825    118942\n",
      "700    117147\n",
      "722    116410\n",
      "817    115888\n",
      "729    114801\n",
      "677    112801\n",
      "701    110894\n",
      "827    110445\n",
      "678    109554\n",
      "Name: obligorcreditscore, dtype: int64\n"
     ]
    }
   ],
   "source": [
    "draw(df.obligorcreditscore, title='Obligor Credit Score', ylabel='Number of Loans', sort=True, n=10)"
   ]
  },
  {
   "cell_type": "code",
   "execution_count": 92,
   "metadata": {},
   "outputs": [
    {
     "data": {
      "text/plain": [
       "count     28728726\n",
       "unique        1418\n",
       "top            703\n",
       "freq        118951\n",
       "Name: obligorcreditscore, dtype: object"
      ]
     },
     "execution_count": 92,
     "metadata": {},
     "output_type": "execute_result"
    }
   ],
   "source": [
    "df.obligorcreditscore.describe()"
   ]
  },
  {
   "cell_type": "code",
   "execution_count": 93,
   "metadata": {},
   "outputs": [
    {
     "name": "stderr",
     "output_type": "stream",
     "text": [
      "C:\\Progra~1\\Anaconda3_4\\lib\\site-packages\\ipykernel_launcher.py:2: UserWarning: This pattern has match groups. To actually get the groups, use str.extract.\n",
      "  \n"
     ]
    },
    {
     "data": {
      "text/plain": [
       "991806"
      ]
     },
     "execution_count": 93,
     "metadata": {},
     "output_type": "execute_result"
    }
   ],
   "source": [
    "#string has no numbers\n",
    "df.obligorcreditscore.astype(str).str.contains(r'^([^0-9]*)$', na=False).sum()\n"
   ]
  },
  {
   "cell_type": "code",
   "execution_count": 94,
   "metadata": {},
   "outputs": [
    {
     "name": "stderr",
     "output_type": "stream",
     "text": [
      "C:\\Progra~1\\Anaconda3_4\\lib\\site-packages\\ipykernel_launcher.py:1: UserWarning: This pattern has match groups. To actually get the groups, use str.extract.\n",
      "  \"\"\"Entry point for launching an IPython kernel.\n"
     ]
    },
    {
     "data": {
      "text/plain": [
       "array([nan, 'No Score', 'NONE', 'None'], dtype=object)"
      ]
     },
     "execution_count": 94,
     "metadata": {},
     "output_type": "execute_result"
    }
   ],
   "source": [
    "df[df.obligorcreditscore.astype(str).str.contains(r'^([^0-9]*)$', na=False)].obligorcreditscore.unique()"
   ]
  },
  {
   "cell_type": "code",
   "execution_count": 95,
   "metadata": {},
   "outputs": [
    {
     "name": "stderr",
     "output_type": "stream",
     "text": [
      "C:\\Progra~1\\Anaconda3_4\\lib\\site-packages\\ipykernel_launcher.py:2: UserWarning: This pattern has match groups. To actually get the groups, use str.extract.\n",
      "  \n"
     ]
    },
    {
     "data": {
      "text/plain": [
       "27856383"
      ]
     },
     "execution_count": 95,
     "metadata": {},
     "output_type": "execute_result"
    }
   ],
   "source": [
    "#to find only numbers\n",
    "df.obligorcreditscore.str.contains(r'^([0-9]*)$').sum()"
   ]
  },
  {
   "cell_type": "code",
   "execution_count": 96,
   "metadata": {},
   "outputs": [
    {
     "name": "stderr",
     "output_type": "stream",
     "text": [
      "C:\\Progra~1\\Anaconda3_4\\lib\\site-packages\\ipykernel_launcher.py:2: UserWarning: This pattern has match groups. To actually get the groups, use str.extract.\n",
      "  \n"
     ]
    },
    {
     "data": {
      "text/plain": [
       "0"
      ]
     },
     "execution_count": 96,
     "metadata": {},
     "output_type": "execute_result"
    }
   ],
   "source": [
    "#find only blanks(empty strings) \n",
    "df.obligorcreditscore.str.contains(r'^(\\s+)$').sum()"
   ]
  },
  {
   "cell_type": "code",
   "execution_count": 97,
   "metadata": {},
   "outputs": [
    {
     "data": {
      "text/plain": [
       "cik                                                                                                   156169675532\n",
       "assetnumber                                                      0657390006100657390006180657390006420657390006...\n",
       "reportingperiodbeginningdate                                     2016-12-012016-12-012016-12-012016-12-012016-1...\n",
       "reportingperiodendingdate                                        2016-12-312016-12-312016-12-312016-12-312016-1...\n",
       "originationdate                                                  2012-01-312012-01-312012-01-312012-01-312012-0...\n",
       "originalloanamount                                                                                     2.98163e+09\n",
       "originalloanterm                                                                                       5.49472e+06\n",
       "originalinterestratepercentage                                                                             4036.94\n",
       "originalfirstpaymentdate                                         2012-02-292012-02-292012-03-312012-03-312012-0...\n",
       "graceperiodnumber                                                                                           133762\n",
       "obligorcreditscore                                               No ScoreNo ScoreNo ScoreNo ScoreNo ScoreNo Sco...\n",
       "obligorincomeverificationlevelcode                                                                           67625\n",
       "obligoremploymentverificationcode                                                                            67558\n",
       "coobligorindicator                                                                                           15699\n",
       "paymenttoincomepercentage                                                                                  2812.67\n",
       "assetaddedindicator                                                                                              0\n",
       "reportingperiodmodificationindicator                                                                           444\n",
       "servicingadvancemethodcode                                                                                   91757\n",
       "reportingperiodbeginningloanbalanceamount                                                              1.93434e+09\n",
       "nextreportingperiodpaymentamountdue                                                                    5.60283e+07\n",
       "reportingperiodinterestratepercentage                                                                      4036.94\n",
       "nextinterestratepercentage                                                                                 4036.94\n",
       "servicingfeepercentage                                                                                      917.57\n",
       "servicingflatfeeamount                                                                                           0\n",
       "otherservicerfeeretainedbyservicer                                                                               0\n",
       "otherassesseduncollectedservicerfeeamount                                                                   495121\n",
       "scheduledinterestamount                                                                                7.24661e+06\n",
       "scheduledprincipalamount                                                                               5.23002e+07\n",
       "otherprincipaladjustmentamount                                                                            -48184.5\n",
       "reportingperiodactualendbalanceamount                                                                  1.87209e+09\n",
       "                                                                                       ...                        \n",
       "originator_BMW Bank of North America                                                                             0\n",
       "originator_Fifth Third Bank                                                                                      0\n",
       "originator_Mechanics Bank                                                                                        0\n",
       "originator_USAAFSB                                                                                               0\n",
       "originator_VW Credit                                                                                             0\n",
       "originator_MBFS USA LLC                                                                                          0\n",
       "originator_BMW Financial Services NA LLC                                                                         0\n",
       "underwriting_true                                                                                            91757\n",
       "subvented_[\"0\"]                                                                                              14699\n",
       "subvented_[\"1\"]                                                                                              12219\n",
       "subvented_[\"2\"]                                                                                              39472\n",
       "subvented_[\"1\",\"2\"]                                                                                          25367\n",
       "subvented_[\"2\",\"1\"]                                                                                              0\n",
       "subvented_[\"98\"]                                                                                                 0\n",
       "subvented_[\"1\",\" 2\"]                                                                                             0\n",
       "subvented_[\"1\",\"98\"]                                                                                             0\n",
       "subvented_[\"1\",\" 98\"]                                                                                            0\n",
       "vehiclenew_true                                                                                              78387\n",
       "credit_type_Bureau                                                                                               0\n",
       "credit_type_Consumer Bureau                                                                                  31944\n",
       "credit_type_Credit Bureau                                                                                        0\n",
       "credit_type_FICO                                                                                                 0\n",
       "credit_type_Credit Bureau Score                                                                                  0\n",
       "credit_type_FICO Score 8 Auto                                                                                    0\n",
       "credit_type_FICO Score 2 Auto                                                                                    0\n",
       "credit_type_CREDIT BUREAU                                                                                        0\n",
       "credit_type_Consumer Credit Bureau                                                                               0\n",
       "credit_type_Commercial Bureau                                                                                59813\n",
       "credit_type_None                                                                                                 0\n",
       "credit_type_Unknown/Invalid                                                                                      0\n",
       "Length: 96, dtype: object"
      ]
     },
     "execution_count": 97,
     "metadata": {},
     "output_type": "execute_result"
    }
   ],
   "source": [
    "df[df.obligorcreditscore.str.contains('No Score',na=False)].sum()"
   ]
  },
  {
   "cell_type": "code",
   "execution_count": 98,
   "metadata": {},
   "outputs": [
    {
     "data": {
      "text/html": [
       "<div>\n",
       "<style scoped>\n",
       "    .dataframe tbody tr th:only-of-type {\n",
       "        vertical-align: middle;\n",
       "    }\n",
       "\n",
       "    .dataframe tbody tr th {\n",
       "        vertical-align: top;\n",
       "    }\n",
       "\n",
       "    .dataframe thead th {\n",
       "        text-align: right;\n",
       "    }\n",
       "</style>\n",
       "<table border=\"1\" class=\"dataframe\">\n",
       "  <thead>\n",
       "    <tr style=\"text-align: right;\">\n",
       "      <th></th>\n",
       "      <th>cik</th>\n",
       "      <th>assetnumber</th>\n",
       "      <th>reportingperiodbeginningdate</th>\n",
       "      <th>reportingperiodendingdate</th>\n",
       "      <th>originationdate</th>\n",
       "      <th>originalloanamount</th>\n",
       "      <th>originalloanterm</th>\n",
       "      <th>originalinterestratepercentage</th>\n",
       "      <th>originalfirstpaymentdate</th>\n",
       "      <th>graceperiodnumber</th>\n",
       "      <th>...</th>\n",
       "      <th>credit_type_Credit Bureau</th>\n",
       "      <th>credit_type_FICO</th>\n",
       "      <th>credit_type_Credit Bureau Score</th>\n",
       "      <th>credit_type_FICO Score 8 Auto</th>\n",
       "      <th>credit_type_FICO Score 2 Auto</th>\n",
       "      <th>credit_type_CREDIT BUREAU</th>\n",
       "      <th>credit_type_Consumer Credit Bureau</th>\n",
       "      <th>credit_type_Commercial Bureau</th>\n",
       "      <th>credit_type_None</th>\n",
       "      <th>credit_type_Unknown/Invalid</th>\n",
       "    </tr>\n",
       "  </thead>\n",
       "  <tbody>\n",
       "    <tr>\n",
       "      <th>0</th>\n",
       "      <td>1725617</td>\n",
       "      <td>1001536189</td>\n",
       "      <td>2017-11-01</td>\n",
       "      <td>2017-11-30</td>\n",
       "      <td>2012-12-31</td>\n",
       "      <td>25124.50</td>\n",
       "      <td>72.0</td>\n",
       "      <td>3.2900</td>\n",
       "      <td>2013-01-31</td>\n",
       "      <td>0.0</td>\n",
       "      <td>...</td>\n",
       "      <td>0</td>\n",
       "      <td>1</td>\n",
       "      <td>0</td>\n",
       "      <td>0</td>\n",
       "      <td>0</td>\n",
       "      <td>0</td>\n",
       "      <td>0</td>\n",
       "      <td>0</td>\n",
       "      <td>0</td>\n",
       "      <td>0</td>\n",
       "    </tr>\n",
       "    <tr>\n",
       "      <th>1</th>\n",
       "      <td>1725617</td>\n",
       "      <td>1001536759</td>\n",
       "      <td>2017-11-01</td>\n",
       "      <td>2017-11-30</td>\n",
       "      <td>2012-12-31</td>\n",
       "      <td>43257.34</td>\n",
       "      <td>72.0</td>\n",
       "      <td>3.2900</td>\n",
       "      <td>2013-02-28</td>\n",
       "      <td>1.0</td>\n",
       "      <td>...</td>\n",
       "      <td>0</td>\n",
       "      <td>1</td>\n",
       "      <td>0</td>\n",
       "      <td>0</td>\n",
       "      <td>0</td>\n",
       "      <td>0</td>\n",
       "      <td>0</td>\n",
       "      <td>0</td>\n",
       "      <td>0</td>\n",
       "      <td>0</td>\n",
       "    </tr>\n",
       "    <tr>\n",
       "      <th>2</th>\n",
       "      <td>1725617</td>\n",
       "      <td>1001536970</td>\n",
       "      <td>2017-11-01</td>\n",
       "      <td>2017-11-30</td>\n",
       "      <td>2012-12-31</td>\n",
       "      <td>56917.54</td>\n",
       "      <td>72.0</td>\n",
       "      <td>3.2900</td>\n",
       "      <td>2013-02-28</td>\n",
       "      <td>1.0</td>\n",
       "      <td>...</td>\n",
       "      <td>0</td>\n",
       "      <td>1</td>\n",
       "      <td>0</td>\n",
       "      <td>0</td>\n",
       "      <td>0</td>\n",
       "      <td>0</td>\n",
       "      <td>0</td>\n",
       "      <td>0</td>\n",
       "      <td>0</td>\n",
       "      <td>0</td>\n",
       "    </tr>\n",
       "    <tr>\n",
       "      <th>3</th>\n",
       "      <td>1725617</td>\n",
       "      <td>1001537061</td>\n",
       "      <td>2017-11-01</td>\n",
       "      <td>2017-11-30</td>\n",
       "      <td>2012-12-31</td>\n",
       "      <td>42003.57</td>\n",
       "      <td>72.0</td>\n",
       "      <td>3.2900</td>\n",
       "      <td>2013-01-31</td>\n",
       "      <td>1.0</td>\n",
       "      <td>...</td>\n",
       "      <td>0</td>\n",
       "      <td>1</td>\n",
       "      <td>0</td>\n",
       "      <td>0</td>\n",
       "      <td>0</td>\n",
       "      <td>0</td>\n",
       "      <td>0</td>\n",
       "      <td>0</td>\n",
       "      <td>0</td>\n",
       "      <td>0</td>\n",
       "    </tr>\n",
       "    <tr>\n",
       "      <th>4</th>\n",
       "      <td>1725617</td>\n",
       "      <td>1001537088</td>\n",
       "      <td>2017-11-01</td>\n",
       "      <td>2017-11-30</td>\n",
       "      <td>2012-12-31</td>\n",
       "      <td>77217.85</td>\n",
       "      <td>72.0</td>\n",
       "      <td>3.2900</td>\n",
       "      <td>2013-02-28</td>\n",
       "      <td>1.0</td>\n",
       "      <td>...</td>\n",
       "      <td>0</td>\n",
       "      <td>1</td>\n",
       "      <td>0</td>\n",
       "      <td>0</td>\n",
       "      <td>0</td>\n",
       "      <td>0</td>\n",
       "      <td>0</td>\n",
       "      <td>0</td>\n",
       "      <td>0</td>\n",
       "      <td>0</td>\n",
       "    </tr>\n",
       "    <tr>\n",
       "      <th>5</th>\n",
       "      <td>1725617</td>\n",
       "      <td>1001538073</td>\n",
       "      <td>2017-11-01</td>\n",
       "      <td>2017-11-30</td>\n",
       "      <td>2012-12-31</td>\n",
       "      <td>27784.19</td>\n",
       "      <td>72.0</td>\n",
       "      <td>3.2900</td>\n",
       "      <td>2013-02-28</td>\n",
       "      <td>1.0</td>\n",
       "      <td>...</td>\n",
       "      <td>0</td>\n",
       "      <td>1</td>\n",
       "      <td>0</td>\n",
       "      <td>0</td>\n",
       "      <td>0</td>\n",
       "      <td>0</td>\n",
       "      <td>0</td>\n",
       "      <td>0</td>\n",
       "      <td>0</td>\n",
       "      <td>0</td>\n",
       "    </tr>\n",
       "    <tr>\n",
       "      <th>6</th>\n",
       "      <td>1725617</td>\n",
       "      <td>1001538680</td>\n",
       "      <td>2017-11-01</td>\n",
       "      <td>2017-11-30</td>\n",
       "      <td>2012-12-31</td>\n",
       "      <td>43397.80</td>\n",
       "      <td>72.0</td>\n",
       "      <td>3.2900</td>\n",
       "      <td>2013-02-28</td>\n",
       "      <td>1.0</td>\n",
       "      <td>...</td>\n",
       "      <td>0</td>\n",
       "      <td>1</td>\n",
       "      <td>0</td>\n",
       "      <td>0</td>\n",
       "      <td>0</td>\n",
       "      <td>0</td>\n",
       "      <td>0</td>\n",
       "      <td>0</td>\n",
       "      <td>0</td>\n",
       "      <td>0</td>\n",
       "    </tr>\n",
       "    <tr>\n",
       "      <th>7</th>\n",
       "      <td>1725617</td>\n",
       "      <td>1001565943</td>\n",
       "      <td>2017-11-01</td>\n",
       "      <td>2017-11-30</td>\n",
       "      <td>2013-02-28</td>\n",
       "      <td>49345.92</td>\n",
       "      <td>72.0</td>\n",
       "      <td>3.1900</td>\n",
       "      <td>2013-03-31</td>\n",
       "      <td>0.0</td>\n",
       "      <td>...</td>\n",
       "      <td>0</td>\n",
       "      <td>1</td>\n",
       "      <td>0</td>\n",
       "      <td>0</td>\n",
       "      <td>0</td>\n",
       "      <td>0</td>\n",
       "      <td>0</td>\n",
       "      <td>0</td>\n",
       "      <td>0</td>\n",
       "      <td>0</td>\n",
       "    </tr>\n",
       "    <tr>\n",
       "      <th>8</th>\n",
       "      <td>1725617</td>\n",
       "      <td>1001566705</td>\n",
       "      <td>2017-11-01</td>\n",
       "      <td>2017-11-30</td>\n",
       "      <td>2013-02-28</td>\n",
       "      <td>45763.89</td>\n",
       "      <td>66.0</td>\n",
       "      <td>3.1900</td>\n",
       "      <td>2013-03-31</td>\n",
       "      <td>0.0</td>\n",
       "      <td>...</td>\n",
       "      <td>0</td>\n",
       "      <td>1</td>\n",
       "      <td>0</td>\n",
       "      <td>0</td>\n",
       "      <td>0</td>\n",
       "      <td>0</td>\n",
       "      <td>0</td>\n",
       "      <td>0</td>\n",
       "      <td>0</td>\n",
       "      <td>0</td>\n",
       "    </tr>\n",
       "    <tr>\n",
       "      <th>9</th>\n",
       "      <td>1725617</td>\n",
       "      <td>1001566738</td>\n",
       "      <td>2017-11-01</td>\n",
       "      <td>2017-11-30</td>\n",
       "      <td>2013-02-28</td>\n",
       "      <td>45756.02</td>\n",
       "      <td>72.0</td>\n",
       "      <td>3.1900</td>\n",
       "      <td>2013-03-31</td>\n",
       "      <td>1.0</td>\n",
       "      <td>...</td>\n",
       "      <td>0</td>\n",
       "      <td>1</td>\n",
       "      <td>0</td>\n",
       "      <td>0</td>\n",
       "      <td>0</td>\n",
       "      <td>0</td>\n",
       "      <td>0</td>\n",
       "      <td>0</td>\n",
       "      <td>0</td>\n",
       "      <td>0</td>\n",
       "    </tr>\n",
       "    <tr>\n",
       "      <th>10</th>\n",
       "      <td>1725617</td>\n",
       "      <td>1001567106</td>\n",
       "      <td>2017-11-01</td>\n",
       "      <td>2017-11-30</td>\n",
       "      <td>2013-02-28</td>\n",
       "      <td>40334.93</td>\n",
       "      <td>72.0</td>\n",
       "      <td>3.1900</td>\n",
       "      <td>2013-03-31</td>\n",
       "      <td>0.0</td>\n",
       "      <td>...</td>\n",
       "      <td>0</td>\n",
       "      <td>1</td>\n",
       "      <td>0</td>\n",
       "      <td>0</td>\n",
       "      <td>0</td>\n",
       "      <td>0</td>\n",
       "      <td>0</td>\n",
       "      <td>0</td>\n",
       "      <td>0</td>\n",
       "      <td>0</td>\n",
       "    </tr>\n",
       "    <tr>\n",
       "      <th>11</th>\n",
       "      <td>1725617</td>\n",
       "      <td>1001567559</td>\n",
       "      <td>2017-11-01</td>\n",
       "      <td>2017-11-30</td>\n",
       "      <td>2013-02-28</td>\n",
       "      <td>59581.43</td>\n",
       "      <td>72.0</td>\n",
       "      <td>3.1900</td>\n",
       "      <td>2013-03-31</td>\n",
       "      <td>1.0</td>\n",
       "      <td>...</td>\n",
       "      <td>0</td>\n",
       "      <td>1</td>\n",
       "      <td>0</td>\n",
       "      <td>0</td>\n",
       "      <td>0</td>\n",
       "      <td>0</td>\n",
       "      <td>0</td>\n",
       "      <td>0</td>\n",
       "      <td>0</td>\n",
       "      <td>0</td>\n",
       "    </tr>\n",
       "    <tr>\n",
       "      <th>12</th>\n",
       "      <td>1725617</td>\n",
       "      <td>1001569208</td>\n",
       "      <td>2017-11-01</td>\n",
       "      <td>2017-11-30</td>\n",
       "      <td>2013-02-28</td>\n",
       "      <td>58577.95</td>\n",
       "      <td>72.0</td>\n",
       "      <td>3.1900</td>\n",
       "      <td>2013-03-31</td>\n",
       "      <td>0.0</td>\n",
       "      <td>...</td>\n",
       "      <td>0</td>\n",
       "      <td>1</td>\n",
       "      <td>0</td>\n",
       "      <td>0</td>\n",
       "      <td>0</td>\n",
       "      <td>0</td>\n",
       "      <td>0</td>\n",
       "      <td>0</td>\n",
       "      <td>0</td>\n",
       "      <td>0</td>\n",
       "    </tr>\n",
       "    <tr>\n",
       "      <th>13</th>\n",
       "      <td>1725617</td>\n",
       "      <td>1001581025</td>\n",
       "      <td>2017-11-01</td>\n",
       "      <td>2017-11-30</td>\n",
       "      <td>2013-03-31</td>\n",
       "      <td>18381.54</td>\n",
       "      <td>66.0</td>\n",
       "      <td>1.9000</td>\n",
       "      <td>2013-04-30</td>\n",
       "      <td>0.0</td>\n",
       "      <td>...</td>\n",
       "      <td>0</td>\n",
       "      <td>1</td>\n",
       "      <td>0</td>\n",
       "      <td>0</td>\n",
       "      <td>0</td>\n",
       "      <td>0</td>\n",
       "      <td>0</td>\n",
       "      <td>0</td>\n",
       "      <td>0</td>\n",
       "      <td>0</td>\n",
       "    </tr>\n",
       "    <tr>\n",
       "      <th>14</th>\n",
       "      <td>1725617</td>\n",
       "      <td>1001587438</td>\n",
       "      <td>2017-11-01</td>\n",
       "      <td>2017-11-30</td>\n",
       "      <td>2013-03-31</td>\n",
       "      <td>36608.33</td>\n",
       "      <td>60.0</td>\n",
       "      <td>3.1900</td>\n",
       "      <td>2013-05-31</td>\n",
       "      <td>1.0</td>\n",
       "      <td>...</td>\n",
       "      <td>0</td>\n",
       "      <td>1</td>\n",
       "      <td>0</td>\n",
       "      <td>0</td>\n",
       "      <td>0</td>\n",
       "      <td>0</td>\n",
       "      <td>0</td>\n",
       "      <td>0</td>\n",
       "      <td>0</td>\n",
       "      <td>0</td>\n",
       "    </tr>\n",
       "    <tr>\n",
       "      <th>15</th>\n",
       "      <td>1725617</td>\n",
       "      <td>1001589695</td>\n",
       "      <td>2017-11-01</td>\n",
       "      <td>2017-11-30</td>\n",
       "      <td>2013-03-31</td>\n",
       "      <td>29097.12</td>\n",
       "      <td>63.0</td>\n",
       "      <td>3.1900</td>\n",
       "      <td>2013-05-31</td>\n",
       "      <td>1.0</td>\n",
       "      <td>...</td>\n",
       "      <td>0</td>\n",
       "      <td>1</td>\n",
       "      <td>0</td>\n",
       "      <td>0</td>\n",
       "      <td>0</td>\n",
       "      <td>0</td>\n",
       "      <td>0</td>\n",
       "      <td>0</td>\n",
       "      <td>0</td>\n",
       "      <td>0</td>\n",
       "    </tr>\n",
       "    <tr>\n",
       "      <th>16</th>\n",
       "      <td>1725617</td>\n",
       "      <td>1001590082</td>\n",
       "      <td>2017-11-01</td>\n",
       "      <td>2017-11-30</td>\n",
       "      <td>2013-03-31</td>\n",
       "      <td>52805.39</td>\n",
       "      <td>72.0</td>\n",
       "      <td>3.1900</td>\n",
       "      <td>2013-05-31</td>\n",
       "      <td>1.0</td>\n",
       "      <td>...</td>\n",
       "      <td>0</td>\n",
       "      <td>1</td>\n",
       "      <td>0</td>\n",
       "      <td>0</td>\n",
       "      <td>0</td>\n",
       "      <td>0</td>\n",
       "      <td>0</td>\n",
       "      <td>0</td>\n",
       "      <td>0</td>\n",
       "      <td>0</td>\n",
       "    </tr>\n",
       "    <tr>\n",
       "      <th>17</th>\n",
       "      <td>1725617</td>\n",
       "      <td>1001592150</td>\n",
       "      <td>2017-11-01</td>\n",
       "      <td>2017-11-30</td>\n",
       "      <td>2013-03-31</td>\n",
       "      <td>31257.59</td>\n",
       "      <td>60.0</td>\n",
       "      <td>1.9000</td>\n",
       "      <td>2013-05-31</td>\n",
       "      <td>1.0</td>\n",
       "      <td>...</td>\n",
       "      <td>0</td>\n",
       "      <td>1</td>\n",
       "      <td>0</td>\n",
       "      <td>0</td>\n",
       "      <td>0</td>\n",
       "      <td>0</td>\n",
       "      <td>0</td>\n",
       "      <td>0</td>\n",
       "      <td>0</td>\n",
       "      <td>0</td>\n",
       "    </tr>\n",
       "    <tr>\n",
       "      <th>18</th>\n",
       "      <td>1725617</td>\n",
       "      <td>1001592164</td>\n",
       "      <td>2017-11-01</td>\n",
       "      <td>2017-11-30</td>\n",
       "      <td>2013-03-31</td>\n",
       "      <td>26421.54</td>\n",
       "      <td>66.0</td>\n",
       "      <td>2.9000</td>\n",
       "      <td>2013-05-31</td>\n",
       "      <td>1.0</td>\n",
       "      <td>...</td>\n",
       "      <td>0</td>\n",
       "      <td>1</td>\n",
       "      <td>0</td>\n",
       "      <td>0</td>\n",
       "      <td>0</td>\n",
       "      <td>0</td>\n",
       "      <td>0</td>\n",
       "      <td>0</td>\n",
       "      <td>0</td>\n",
       "      <td>0</td>\n",
       "    </tr>\n",
       "    <tr>\n",
       "      <th>19</th>\n",
       "      <td>1725617</td>\n",
       "      <td>1001592340</td>\n",
       "      <td>2017-11-01</td>\n",
       "      <td>2017-11-30</td>\n",
       "      <td>2013-03-31</td>\n",
       "      <td>56346.37</td>\n",
       "      <td>72.0</td>\n",
       "      <td>3.1900</td>\n",
       "      <td>2013-04-30</td>\n",
       "      <td>0.0</td>\n",
       "      <td>...</td>\n",
       "      <td>0</td>\n",
       "      <td>1</td>\n",
       "      <td>0</td>\n",
       "      <td>0</td>\n",
       "      <td>0</td>\n",
       "      <td>0</td>\n",
       "      <td>0</td>\n",
       "      <td>0</td>\n",
       "      <td>0</td>\n",
       "      <td>0</td>\n",
       "    </tr>\n",
       "    <tr>\n",
       "      <th>20</th>\n",
       "      <td>1725617</td>\n",
       "      <td>1001592458</td>\n",
       "      <td>2017-11-01</td>\n",
       "      <td>2017-11-30</td>\n",
       "      <td>2013-03-31</td>\n",
       "      <td>24070.17</td>\n",
       "      <td>60.0</td>\n",
       "      <td>3.1900</td>\n",
       "      <td>2013-05-31</td>\n",
       "      <td>1.0</td>\n",
       "      <td>...</td>\n",
       "      <td>0</td>\n",
       "      <td>1</td>\n",
       "      <td>0</td>\n",
       "      <td>0</td>\n",
       "      <td>0</td>\n",
       "      <td>0</td>\n",
       "      <td>0</td>\n",
       "      <td>0</td>\n",
       "      <td>0</td>\n",
       "      <td>0</td>\n",
       "    </tr>\n",
       "    <tr>\n",
       "      <th>21</th>\n",
       "      <td>1725617</td>\n",
       "      <td>1001592532</td>\n",
       "      <td>2017-11-01</td>\n",
       "      <td>2017-11-30</td>\n",
       "      <td>2013-03-31</td>\n",
       "      <td>29753.13</td>\n",
       "      <td>66.0</td>\n",
       "      <td>1.9000</td>\n",
       "      <td>2013-04-30</td>\n",
       "      <td>0.0</td>\n",
       "      <td>...</td>\n",
       "      <td>0</td>\n",
       "      <td>1</td>\n",
       "      <td>0</td>\n",
       "      <td>0</td>\n",
       "      <td>0</td>\n",
       "      <td>0</td>\n",
       "      <td>0</td>\n",
       "      <td>0</td>\n",
       "      <td>0</td>\n",
       "      <td>0</td>\n",
       "    </tr>\n",
       "    <tr>\n",
       "      <th>22</th>\n",
       "      <td>1725617</td>\n",
       "      <td>1001592783</td>\n",
       "      <td>2017-11-01</td>\n",
       "      <td>2017-11-30</td>\n",
       "      <td>2013-03-31</td>\n",
       "      <td>31813.11</td>\n",
       "      <td>60.0</td>\n",
       "      <td>3.1900</td>\n",
       "      <td>2013-05-31</td>\n",
       "      <td>1.0</td>\n",
       "      <td>...</td>\n",
       "      <td>0</td>\n",
       "      <td>1</td>\n",
       "      <td>0</td>\n",
       "      <td>0</td>\n",
       "      <td>0</td>\n",
       "      <td>0</td>\n",
       "      <td>0</td>\n",
       "      <td>0</td>\n",
       "      <td>0</td>\n",
       "      <td>0</td>\n",
       "    </tr>\n",
       "    <tr>\n",
       "      <th>23</th>\n",
       "      <td>1725617</td>\n",
       "      <td>1001594933</td>\n",
       "      <td>2017-11-01</td>\n",
       "      <td>2017-11-30</td>\n",
       "      <td>2013-03-31</td>\n",
       "      <td>30933.72</td>\n",
       "      <td>60.0</td>\n",
       "      <td>1.9000</td>\n",
       "      <td>2013-05-31</td>\n",
       "      <td>1.0</td>\n",
       "      <td>...</td>\n",
       "      <td>0</td>\n",
       "      <td>1</td>\n",
       "      <td>0</td>\n",
       "      <td>0</td>\n",
       "      <td>0</td>\n",
       "      <td>0</td>\n",
       "      <td>0</td>\n",
       "      <td>0</td>\n",
       "      <td>0</td>\n",
       "      <td>0</td>\n",
       "    </tr>\n",
       "    <tr>\n",
       "      <th>24</th>\n",
       "      <td>1725617</td>\n",
       "      <td>1001595082</td>\n",
       "      <td>2017-11-01</td>\n",
       "      <td>2017-11-30</td>\n",
       "      <td>2013-03-31</td>\n",
       "      <td>32029.40</td>\n",
       "      <td>66.0</td>\n",
       "      <td>1.9000</td>\n",
       "      <td>2013-05-31</td>\n",
       "      <td>1.0</td>\n",
       "      <td>...</td>\n",
       "      <td>0</td>\n",
       "      <td>1</td>\n",
       "      <td>0</td>\n",
       "      <td>0</td>\n",
       "      <td>0</td>\n",
       "      <td>0</td>\n",
       "      <td>0</td>\n",
       "      <td>0</td>\n",
       "      <td>0</td>\n",
       "      <td>0</td>\n",
       "    </tr>\n",
       "    <tr>\n",
       "      <th>25</th>\n",
       "      <td>1725617</td>\n",
       "      <td>1001595434</td>\n",
       "      <td>2017-11-01</td>\n",
       "      <td>2017-11-30</td>\n",
       "      <td>2013-03-31</td>\n",
       "      <td>38715.34</td>\n",
       "      <td>60.0</td>\n",
       "      <td>3.1900</td>\n",
       "      <td>2013-05-31</td>\n",
       "      <td>1.0</td>\n",
       "      <td>...</td>\n",
       "      <td>0</td>\n",
       "      <td>1</td>\n",
       "      <td>0</td>\n",
       "      <td>0</td>\n",
       "      <td>0</td>\n",
       "      <td>0</td>\n",
       "      <td>0</td>\n",
       "      <td>0</td>\n",
       "      <td>0</td>\n",
       "      <td>0</td>\n",
       "    </tr>\n",
       "    <tr>\n",
       "      <th>26</th>\n",
       "      <td>1725617</td>\n",
       "      <td>1001599388</td>\n",
       "      <td>2017-11-01</td>\n",
       "      <td>2017-11-30</td>\n",
       "      <td>2013-04-30</td>\n",
       "      <td>37643.19</td>\n",
       "      <td>60.0</td>\n",
       "      <td>3.1900</td>\n",
       "      <td>2013-05-31</td>\n",
       "      <td>1.0</td>\n",
       "      <td>...</td>\n",
       "      <td>0</td>\n",
       "      <td>1</td>\n",
       "      <td>0</td>\n",
       "      <td>0</td>\n",
       "      <td>0</td>\n",
       "      <td>0</td>\n",
       "      <td>0</td>\n",
       "      <td>0</td>\n",
       "      <td>0</td>\n",
       "      <td>0</td>\n",
       "    </tr>\n",
       "    <tr>\n",
       "      <th>27</th>\n",
       "      <td>1725617</td>\n",
       "      <td>1001494341</td>\n",
       "      <td>2017-11-01</td>\n",
       "      <td>2017-11-30</td>\n",
       "      <td>2012-10-31</td>\n",
       "      <td>27355.73</td>\n",
       "      <td>66.0</td>\n",
       "      <td>3.2900</td>\n",
       "      <td>2012-11-30</td>\n",
       "      <td>0.0</td>\n",
       "      <td>...</td>\n",
       "      <td>0</td>\n",
       "      <td>1</td>\n",
       "      <td>0</td>\n",
       "      <td>0</td>\n",
       "      <td>0</td>\n",
       "      <td>0</td>\n",
       "      <td>0</td>\n",
       "      <td>0</td>\n",
       "      <td>0</td>\n",
       "      <td>0</td>\n",
       "    </tr>\n",
       "    <tr>\n",
       "      <th>28</th>\n",
       "      <td>1725617</td>\n",
       "      <td>1001494392</td>\n",
       "      <td>2017-11-01</td>\n",
       "      <td>2017-11-30</td>\n",
       "      <td>2012-10-31</td>\n",
       "      <td>49102.12</td>\n",
       "      <td>72.0</td>\n",
       "      <td>3.2900</td>\n",
       "      <td>2012-11-30</td>\n",
       "      <td>1.0</td>\n",
       "      <td>...</td>\n",
       "      <td>0</td>\n",
       "      <td>1</td>\n",
       "      <td>0</td>\n",
       "      <td>0</td>\n",
       "      <td>0</td>\n",
       "      <td>0</td>\n",
       "      <td>0</td>\n",
       "      <td>0</td>\n",
       "      <td>0</td>\n",
       "      <td>0</td>\n",
       "    </tr>\n",
       "    <tr>\n",
       "      <th>29</th>\n",
       "      <td>1725617</td>\n",
       "      <td>1001495423</td>\n",
       "      <td>2017-11-01</td>\n",
       "      <td>2017-11-30</td>\n",
       "      <td>2012-10-31</td>\n",
       "      <td>34626.16</td>\n",
       "      <td>66.0</td>\n",
       "      <td>3.2900</td>\n",
       "      <td>2012-12-31</td>\n",
       "      <td>1.0</td>\n",
       "      <td>...</td>\n",
       "      <td>0</td>\n",
       "      <td>1</td>\n",
       "      <td>0</td>\n",
       "      <td>0</td>\n",
       "      <td>0</td>\n",
       "      <td>0</td>\n",
       "      <td>0</td>\n",
       "      <td>0</td>\n",
       "      <td>0</td>\n",
       "      <td>0</td>\n",
       "    </tr>\n",
       "    <tr>\n",
       "      <th>...</th>\n",
       "      <td>...</td>\n",
       "      <td>...</td>\n",
       "      <td>...</td>\n",
       "      <td>...</td>\n",
       "      <td>...</td>\n",
       "      <td>...</td>\n",
       "      <td>...</td>\n",
       "      <td>...</td>\n",
       "      <td>...</td>\n",
       "      <td>...</td>\n",
       "      <td>...</td>\n",
       "      <td>...</td>\n",
       "      <td>...</td>\n",
       "      <td>...</td>\n",
       "      <td>...</td>\n",
       "      <td>...</td>\n",
       "      <td>...</td>\n",
       "      <td>...</td>\n",
       "      <td>...</td>\n",
       "      <td>...</td>\n",
       "      <td>...</td>\n",
       "    </tr>\n",
       "    <tr>\n",
       "      <th>31511648</th>\n",
       "      <td>1745314</td>\n",
       "      <td>0001745314 - 061565</td>\n",
       "      <td>2018-08-01</td>\n",
       "      <td>2018-08-31</td>\n",
       "      <td>2018-06-30</td>\n",
       "      <td>18813.30</td>\n",
       "      <td>73.0</td>\n",
       "      <td>0.1590</td>\n",
       "      <td>2018-07-31</td>\n",
       "      <td>1.0</td>\n",
       "      <td>...</td>\n",
       "      <td>0</td>\n",
       "      <td>0</td>\n",
       "      <td>1</td>\n",
       "      <td>0</td>\n",
       "      <td>0</td>\n",
       "      <td>0</td>\n",
       "      <td>0</td>\n",
       "      <td>0</td>\n",
       "      <td>0</td>\n",
       "      <td>0</td>\n",
       "    </tr>\n",
       "    <tr>\n",
       "      <th>31511649</th>\n",
       "      <td>1745314</td>\n",
       "      <td>0001745314 - 061566</td>\n",
       "      <td>2018-08-01</td>\n",
       "      <td>2018-08-31</td>\n",
       "      <td>2018-06-30</td>\n",
       "      <td>17816.15</td>\n",
       "      <td>73.0</td>\n",
       "      <td>0.2275</td>\n",
       "      <td>2018-07-31</td>\n",
       "      <td>1.0</td>\n",
       "      <td>...</td>\n",
       "      <td>0</td>\n",
       "      <td>0</td>\n",
       "      <td>1</td>\n",
       "      <td>0</td>\n",
       "      <td>0</td>\n",
       "      <td>0</td>\n",
       "      <td>0</td>\n",
       "      <td>0</td>\n",
       "      <td>0</td>\n",
       "      <td>0</td>\n",
       "    </tr>\n",
       "    <tr>\n",
       "      <th>31511650</th>\n",
       "      <td>1745314</td>\n",
       "      <td>0001745314 - 061567</td>\n",
       "      <td>2018-08-01</td>\n",
       "      <td>2018-08-31</td>\n",
       "      <td>2018-06-30</td>\n",
       "      <td>12702.49</td>\n",
       "      <td>73.0</td>\n",
       "      <td>0.1495</td>\n",
       "      <td>2018-07-31</td>\n",
       "      <td>1.0</td>\n",
       "      <td>...</td>\n",
       "      <td>0</td>\n",
       "      <td>0</td>\n",
       "      <td>1</td>\n",
       "      <td>0</td>\n",
       "      <td>0</td>\n",
       "      <td>0</td>\n",
       "      <td>0</td>\n",
       "      <td>0</td>\n",
       "      <td>0</td>\n",
       "      <td>0</td>\n",
       "    </tr>\n",
       "    <tr>\n",
       "      <th>31511651</th>\n",
       "      <td>1745314</td>\n",
       "      <td>0001745314 - 061568</td>\n",
       "      <td>2018-08-01</td>\n",
       "      <td>2018-08-31</td>\n",
       "      <td>2018-06-30</td>\n",
       "      <td>21180.24</td>\n",
       "      <td>73.0</td>\n",
       "      <td>0.1799</td>\n",
       "      <td>2018-07-31</td>\n",
       "      <td>1.0</td>\n",
       "      <td>...</td>\n",
       "      <td>0</td>\n",
       "      <td>0</td>\n",
       "      <td>1</td>\n",
       "      <td>0</td>\n",
       "      <td>0</td>\n",
       "      <td>0</td>\n",
       "      <td>0</td>\n",
       "      <td>0</td>\n",
       "      <td>0</td>\n",
       "      <td>0</td>\n",
       "    </tr>\n",
       "    <tr>\n",
       "      <th>31511652</th>\n",
       "      <td>1745314</td>\n",
       "      <td>0001745314 - 061569</td>\n",
       "      <td>2018-08-01</td>\n",
       "      <td>2018-08-31</td>\n",
       "      <td>2018-05-31</td>\n",
       "      <td>24143.18</td>\n",
       "      <td>77.0</td>\n",
       "      <td>0.1590</td>\n",
       "      <td>2018-07-31</td>\n",
       "      <td>2.0</td>\n",
       "      <td>...</td>\n",
       "      <td>0</td>\n",
       "      <td>0</td>\n",
       "      <td>1</td>\n",
       "      <td>0</td>\n",
       "      <td>0</td>\n",
       "      <td>0</td>\n",
       "      <td>0</td>\n",
       "      <td>0</td>\n",
       "      <td>0</td>\n",
       "      <td>0</td>\n",
       "    </tr>\n",
       "    <tr>\n",
       "      <th>31511653</th>\n",
       "      <td>1745314</td>\n",
       "      <td>0001745314 - 061570</td>\n",
       "      <td>2018-08-01</td>\n",
       "      <td>2018-08-31</td>\n",
       "      <td>2018-06-30</td>\n",
       "      <td>13806.75</td>\n",
       "      <td>61.0</td>\n",
       "      <td>0.1805</td>\n",
       "      <td>2018-07-31</td>\n",
       "      <td>1.0</td>\n",
       "      <td>...</td>\n",
       "      <td>0</td>\n",
       "      <td>0</td>\n",
       "      <td>1</td>\n",
       "      <td>0</td>\n",
       "      <td>0</td>\n",
       "      <td>0</td>\n",
       "      <td>0</td>\n",
       "      <td>0</td>\n",
       "      <td>0</td>\n",
       "      <td>0</td>\n",
       "    </tr>\n",
       "    <tr>\n",
       "      <th>31511654</th>\n",
       "      <td>1745314</td>\n",
       "      <td>0001745314 - 061571</td>\n",
       "      <td>2018-08-01</td>\n",
       "      <td>2018-08-31</td>\n",
       "      <td>2018-05-31</td>\n",
       "      <td>23517.50</td>\n",
       "      <td>74.0</td>\n",
       "      <td>0.1099</td>\n",
       "      <td>2018-07-31</td>\n",
       "      <td>2.0</td>\n",
       "      <td>...</td>\n",
       "      <td>0</td>\n",
       "      <td>0</td>\n",
       "      <td>1</td>\n",
       "      <td>0</td>\n",
       "      <td>0</td>\n",
       "      <td>0</td>\n",
       "      <td>0</td>\n",
       "      <td>0</td>\n",
       "      <td>0</td>\n",
       "      <td>0</td>\n",
       "    </tr>\n",
       "    <tr>\n",
       "      <th>31511655</th>\n",
       "      <td>1745314</td>\n",
       "      <td>0001745314 - 061572</td>\n",
       "      <td>2018-08-01</td>\n",
       "      <td>2018-08-31</td>\n",
       "      <td>2018-06-30</td>\n",
       "      <td>29053.94</td>\n",
       "      <td>73.0</td>\n",
       "      <td>0.0990</td>\n",
       "      <td>2018-07-31</td>\n",
       "      <td>1.0</td>\n",
       "      <td>...</td>\n",
       "      <td>0</td>\n",
       "      <td>0</td>\n",
       "      <td>1</td>\n",
       "      <td>0</td>\n",
       "      <td>0</td>\n",
       "      <td>0</td>\n",
       "      <td>0</td>\n",
       "      <td>0</td>\n",
       "      <td>0</td>\n",
       "      <td>0</td>\n",
       "    </tr>\n",
       "    <tr>\n",
       "      <th>31511656</th>\n",
       "      <td>1745314</td>\n",
       "      <td>0001745314 - 061573</td>\n",
       "      <td>2018-08-01</td>\n",
       "      <td>2018-08-31</td>\n",
       "      <td>2018-06-30</td>\n",
       "      <td>30265.53</td>\n",
       "      <td>73.0</td>\n",
       "      <td>0.1140</td>\n",
       "      <td>2018-07-31</td>\n",
       "      <td>1.0</td>\n",
       "      <td>...</td>\n",
       "      <td>0</td>\n",
       "      <td>0</td>\n",
       "      <td>1</td>\n",
       "      <td>0</td>\n",
       "      <td>0</td>\n",
       "      <td>0</td>\n",
       "      <td>0</td>\n",
       "      <td>0</td>\n",
       "      <td>0</td>\n",
       "      <td>0</td>\n",
       "    </tr>\n",
       "    <tr>\n",
       "      <th>31511657</th>\n",
       "      <td>1745314</td>\n",
       "      <td>0001745314 - 061574</td>\n",
       "      <td>2018-08-01</td>\n",
       "      <td>2018-08-31</td>\n",
       "      <td>2018-05-31</td>\n",
       "      <td>28796.60</td>\n",
       "      <td>74.0</td>\n",
       "      <td>0.1350</td>\n",
       "      <td>2018-07-31</td>\n",
       "      <td>2.0</td>\n",
       "      <td>...</td>\n",
       "      <td>0</td>\n",
       "      <td>0</td>\n",
       "      <td>1</td>\n",
       "      <td>0</td>\n",
       "      <td>0</td>\n",
       "      <td>0</td>\n",
       "      <td>0</td>\n",
       "      <td>0</td>\n",
       "      <td>0</td>\n",
       "      <td>0</td>\n",
       "    </tr>\n",
       "    <tr>\n",
       "      <th>31511658</th>\n",
       "      <td>1745314</td>\n",
       "      <td>0001745314 - 061575</td>\n",
       "      <td>2018-08-01</td>\n",
       "      <td>2018-08-31</td>\n",
       "      <td>2018-06-30</td>\n",
       "      <td>13744.95</td>\n",
       "      <td>73.0</td>\n",
       "      <td>0.1495</td>\n",
       "      <td>2018-07-31</td>\n",
       "      <td>1.0</td>\n",
       "      <td>...</td>\n",
       "      <td>0</td>\n",
       "      <td>0</td>\n",
       "      <td>1</td>\n",
       "      <td>0</td>\n",
       "      <td>0</td>\n",
       "      <td>0</td>\n",
       "      <td>0</td>\n",
       "      <td>0</td>\n",
       "      <td>0</td>\n",
       "      <td>0</td>\n",
       "    </tr>\n",
       "    <tr>\n",
       "      <th>31511659</th>\n",
       "      <td>1745314</td>\n",
       "      <td>0001745314 - 061576</td>\n",
       "      <td>2018-08-01</td>\n",
       "      <td>2018-08-31</td>\n",
       "      <td>2018-06-30</td>\n",
       "      <td>10699.00</td>\n",
       "      <td>61.0</td>\n",
       "      <td>0.1800</td>\n",
       "      <td>2018-07-31</td>\n",
       "      <td>1.0</td>\n",
       "      <td>...</td>\n",
       "      <td>0</td>\n",
       "      <td>0</td>\n",
       "      <td>1</td>\n",
       "      <td>0</td>\n",
       "      <td>0</td>\n",
       "      <td>0</td>\n",
       "      <td>0</td>\n",
       "      <td>0</td>\n",
       "      <td>0</td>\n",
       "      <td>0</td>\n",
       "    </tr>\n",
       "    <tr>\n",
       "      <th>31511660</th>\n",
       "      <td>1745314</td>\n",
       "      <td>0001745314 - 061577</td>\n",
       "      <td>2018-08-01</td>\n",
       "      <td>2018-08-31</td>\n",
       "      <td>2018-05-31</td>\n",
       "      <td>15125.57</td>\n",
       "      <td>73.0</td>\n",
       "      <td>0.1699</td>\n",
       "      <td>2018-06-30</td>\n",
       "      <td>1.0</td>\n",
       "      <td>...</td>\n",
       "      <td>0</td>\n",
       "      <td>0</td>\n",
       "      <td>1</td>\n",
       "      <td>0</td>\n",
       "      <td>0</td>\n",
       "      <td>0</td>\n",
       "      <td>0</td>\n",
       "      <td>0</td>\n",
       "      <td>0</td>\n",
       "      <td>0</td>\n",
       "    </tr>\n",
       "    <tr>\n",
       "      <th>31511661</th>\n",
       "      <td>1745314</td>\n",
       "      <td>0001745314 - 061578</td>\n",
       "      <td>2018-08-01</td>\n",
       "      <td>2018-08-31</td>\n",
       "      <td>2018-06-30</td>\n",
       "      <td>22184.18</td>\n",
       "      <td>49.0</td>\n",
       "      <td>0.1685</td>\n",
       "      <td>2018-07-31</td>\n",
       "      <td>1.0</td>\n",
       "      <td>...</td>\n",
       "      <td>0</td>\n",
       "      <td>0</td>\n",
       "      <td>1</td>\n",
       "      <td>0</td>\n",
       "      <td>0</td>\n",
       "      <td>0</td>\n",
       "      <td>0</td>\n",
       "      <td>0</td>\n",
       "      <td>0</td>\n",
       "      <td>0</td>\n",
       "    </tr>\n",
       "    <tr>\n",
       "      <th>31511662</th>\n",
       "      <td>1745314</td>\n",
       "      <td>0001745314 - 061579</td>\n",
       "      <td>2018-08-01</td>\n",
       "      <td>2018-08-31</td>\n",
       "      <td>2018-06-30</td>\n",
       "      <td>18125.64</td>\n",
       "      <td>73.0</td>\n",
       "      <td>0.1250</td>\n",
       "      <td>2018-07-31</td>\n",
       "      <td>1.0</td>\n",
       "      <td>...</td>\n",
       "      <td>0</td>\n",
       "      <td>0</td>\n",
       "      <td>1</td>\n",
       "      <td>0</td>\n",
       "      <td>0</td>\n",
       "      <td>0</td>\n",
       "      <td>0</td>\n",
       "      <td>0</td>\n",
       "      <td>0</td>\n",
       "      <td>0</td>\n",
       "    </tr>\n",
       "    <tr>\n",
       "      <th>31511663</th>\n",
       "      <td>1745314</td>\n",
       "      <td>0001745314 - 061580</td>\n",
       "      <td>2018-08-01</td>\n",
       "      <td>2018-08-31</td>\n",
       "      <td>2018-06-30</td>\n",
       "      <td>21205.13</td>\n",
       "      <td>73.0</td>\n",
       "      <td>0.1815</td>\n",
       "      <td>2018-07-31</td>\n",
       "      <td>1.0</td>\n",
       "      <td>...</td>\n",
       "      <td>0</td>\n",
       "      <td>0</td>\n",
       "      <td>1</td>\n",
       "      <td>0</td>\n",
       "      <td>0</td>\n",
       "      <td>0</td>\n",
       "      <td>0</td>\n",
       "      <td>0</td>\n",
       "      <td>0</td>\n",
       "      <td>0</td>\n",
       "    </tr>\n",
       "    <tr>\n",
       "      <th>31511664</th>\n",
       "      <td>1745314</td>\n",
       "      <td>0001745314 - 061581</td>\n",
       "      <td>2018-08-01</td>\n",
       "      <td>2018-08-31</td>\n",
       "      <td>2018-06-30</td>\n",
       "      <td>15557.66</td>\n",
       "      <td>73.0</td>\n",
       "      <td>0.1590</td>\n",
       "      <td>2018-07-31</td>\n",
       "      <td>1.0</td>\n",
       "      <td>...</td>\n",
       "      <td>0</td>\n",
       "      <td>0</td>\n",
       "      <td>1</td>\n",
       "      <td>0</td>\n",
       "      <td>0</td>\n",
       "      <td>0</td>\n",
       "      <td>0</td>\n",
       "      <td>0</td>\n",
       "      <td>0</td>\n",
       "      <td>0</td>\n",
       "    </tr>\n",
       "    <tr>\n",
       "      <th>31511665</th>\n",
       "      <td>1745314</td>\n",
       "      <td>0001745314 - 061582</td>\n",
       "      <td>2018-08-01</td>\n",
       "      <td>2018-08-31</td>\n",
       "      <td>2018-06-30</td>\n",
       "      <td>19251.00</td>\n",
       "      <td>73.0</td>\n",
       "      <td>0.1800</td>\n",
       "      <td>2018-07-31</td>\n",
       "      <td>1.0</td>\n",
       "      <td>...</td>\n",
       "      <td>0</td>\n",
       "      <td>0</td>\n",
       "      <td>1</td>\n",
       "      <td>0</td>\n",
       "      <td>0</td>\n",
       "      <td>0</td>\n",
       "      <td>0</td>\n",
       "      <td>0</td>\n",
       "      <td>0</td>\n",
       "      <td>0</td>\n",
       "    </tr>\n",
       "    <tr>\n",
       "      <th>31511666</th>\n",
       "      <td>1745314</td>\n",
       "      <td>0001745314 - 061583</td>\n",
       "      <td>2018-08-01</td>\n",
       "      <td>2018-08-31</td>\n",
       "      <td>2018-05-31</td>\n",
       "      <td>10965.00</td>\n",
       "      <td>74.0</td>\n",
       "      <td>0.1999</td>\n",
       "      <td>2018-07-31</td>\n",
       "      <td>2.0</td>\n",
       "      <td>...</td>\n",
       "      <td>0</td>\n",
       "      <td>0</td>\n",
       "      <td>1</td>\n",
       "      <td>0</td>\n",
       "      <td>0</td>\n",
       "      <td>0</td>\n",
       "      <td>0</td>\n",
       "      <td>0</td>\n",
       "      <td>0</td>\n",
       "      <td>0</td>\n",
       "    </tr>\n",
       "    <tr>\n",
       "      <th>31511667</th>\n",
       "      <td>1745314</td>\n",
       "      <td>0001745314 - 061584</td>\n",
       "      <td>2018-08-01</td>\n",
       "      <td>2018-08-31</td>\n",
       "      <td>2018-06-30</td>\n",
       "      <td>11167.25</td>\n",
       "      <td>73.0</td>\n",
       "      <td>0.2599</td>\n",
       "      <td>2018-07-31</td>\n",
       "      <td>1.0</td>\n",
       "      <td>...</td>\n",
       "      <td>0</td>\n",
       "      <td>0</td>\n",
       "      <td>1</td>\n",
       "      <td>0</td>\n",
       "      <td>0</td>\n",
       "      <td>0</td>\n",
       "      <td>0</td>\n",
       "      <td>0</td>\n",
       "      <td>0</td>\n",
       "      <td>0</td>\n",
       "    </tr>\n",
       "    <tr>\n",
       "      <th>31511668</th>\n",
       "      <td>1745314</td>\n",
       "      <td>0001745314 - 061585</td>\n",
       "      <td>2018-08-01</td>\n",
       "      <td>2018-08-31</td>\n",
       "      <td>2018-06-30</td>\n",
       "      <td>18521.26</td>\n",
       "      <td>73.0</td>\n",
       "      <td>0.1670</td>\n",
       "      <td>2018-07-31</td>\n",
       "      <td>1.0</td>\n",
       "      <td>...</td>\n",
       "      <td>0</td>\n",
       "      <td>0</td>\n",
       "      <td>1</td>\n",
       "      <td>0</td>\n",
       "      <td>0</td>\n",
       "      <td>0</td>\n",
       "      <td>0</td>\n",
       "      <td>0</td>\n",
       "      <td>0</td>\n",
       "      <td>0</td>\n",
       "    </tr>\n",
       "    <tr>\n",
       "      <th>31511669</th>\n",
       "      <td>1745314</td>\n",
       "      <td>0001745314 - 061586</td>\n",
       "      <td>2018-08-01</td>\n",
       "      <td>2018-08-31</td>\n",
       "      <td>2018-06-30</td>\n",
       "      <td>14161.36</td>\n",
       "      <td>73.0</td>\n",
       "      <td>0.1295</td>\n",
       "      <td>2018-07-31</td>\n",
       "      <td>1.0</td>\n",
       "      <td>...</td>\n",
       "      <td>0</td>\n",
       "      <td>0</td>\n",
       "      <td>1</td>\n",
       "      <td>0</td>\n",
       "      <td>0</td>\n",
       "      <td>0</td>\n",
       "      <td>0</td>\n",
       "      <td>0</td>\n",
       "      <td>0</td>\n",
       "      <td>0</td>\n",
       "    </tr>\n",
       "    <tr>\n",
       "      <th>31511670</th>\n",
       "      <td>1745314</td>\n",
       "      <td>0001745314 - 061587</td>\n",
       "      <td>2018-08-01</td>\n",
       "      <td>2018-08-31</td>\n",
       "      <td>2018-06-30</td>\n",
       "      <td>19094.00</td>\n",
       "      <td>73.0</td>\n",
       "      <td>0.1190</td>\n",
       "      <td>2018-07-31</td>\n",
       "      <td>1.0</td>\n",
       "      <td>...</td>\n",
       "      <td>0</td>\n",
       "      <td>0</td>\n",
       "      <td>1</td>\n",
       "      <td>0</td>\n",
       "      <td>0</td>\n",
       "      <td>0</td>\n",
       "      <td>0</td>\n",
       "      <td>0</td>\n",
       "      <td>0</td>\n",
       "      <td>0</td>\n",
       "    </tr>\n",
       "    <tr>\n",
       "      <th>31511671</th>\n",
       "      <td>1745314</td>\n",
       "      <td>0001745314 - 061588</td>\n",
       "      <td>2018-08-01</td>\n",
       "      <td>2018-08-31</td>\n",
       "      <td>2018-06-30</td>\n",
       "      <td>13968.40</td>\n",
       "      <td>73.0</td>\n",
       "      <td>0.1539</td>\n",
       "      <td>2018-07-31</td>\n",
       "      <td>1.0</td>\n",
       "      <td>...</td>\n",
       "      <td>0</td>\n",
       "      <td>0</td>\n",
       "      <td>1</td>\n",
       "      <td>0</td>\n",
       "      <td>0</td>\n",
       "      <td>0</td>\n",
       "      <td>0</td>\n",
       "      <td>0</td>\n",
       "      <td>0</td>\n",
       "      <td>0</td>\n",
       "    </tr>\n",
       "    <tr>\n",
       "      <th>31511672</th>\n",
       "      <td>1745314</td>\n",
       "      <td>0001745314 - 061589</td>\n",
       "      <td>2018-08-01</td>\n",
       "      <td>2018-08-31</td>\n",
       "      <td>2018-06-30</td>\n",
       "      <td>20817.85</td>\n",
       "      <td>73.0</td>\n",
       "      <td>0.1575</td>\n",
       "      <td>2018-07-31</td>\n",
       "      <td>1.0</td>\n",
       "      <td>...</td>\n",
       "      <td>0</td>\n",
       "      <td>0</td>\n",
       "      <td>1</td>\n",
       "      <td>0</td>\n",
       "      <td>0</td>\n",
       "      <td>0</td>\n",
       "      <td>0</td>\n",
       "      <td>0</td>\n",
       "      <td>0</td>\n",
       "      <td>0</td>\n",
       "    </tr>\n",
       "    <tr>\n",
       "      <th>31511673</th>\n",
       "      <td>1745314</td>\n",
       "      <td>0001745314 - 061590</td>\n",
       "      <td>2018-08-01</td>\n",
       "      <td>2018-08-31</td>\n",
       "      <td>2018-06-30</td>\n",
       "      <td>20297.68</td>\n",
       "      <td>73.0</td>\n",
       "      <td>0.1895</td>\n",
       "      <td>2018-07-31</td>\n",
       "      <td>1.0</td>\n",
       "      <td>...</td>\n",
       "      <td>0</td>\n",
       "      <td>0</td>\n",
       "      <td>1</td>\n",
       "      <td>0</td>\n",
       "      <td>0</td>\n",
       "      <td>0</td>\n",
       "      <td>0</td>\n",
       "      <td>0</td>\n",
       "      <td>0</td>\n",
       "      <td>0</td>\n",
       "    </tr>\n",
       "    <tr>\n",
       "      <th>31511674</th>\n",
       "      <td>1745314</td>\n",
       "      <td>0001745314 - 061591</td>\n",
       "      <td>2018-08-01</td>\n",
       "      <td>2018-08-31</td>\n",
       "      <td>2018-06-30</td>\n",
       "      <td>18747.59</td>\n",
       "      <td>73.0</td>\n",
       "      <td>0.1530</td>\n",
       "      <td>2018-07-31</td>\n",
       "      <td>1.0</td>\n",
       "      <td>...</td>\n",
       "      <td>0</td>\n",
       "      <td>0</td>\n",
       "      <td>1</td>\n",
       "      <td>0</td>\n",
       "      <td>0</td>\n",
       "      <td>0</td>\n",
       "      <td>0</td>\n",
       "      <td>0</td>\n",
       "      <td>0</td>\n",
       "      <td>0</td>\n",
       "    </tr>\n",
       "    <tr>\n",
       "      <th>31511675</th>\n",
       "      <td>1745314</td>\n",
       "      <td>0001745314 - 061592</td>\n",
       "      <td>2018-08-01</td>\n",
       "      <td>2018-08-31</td>\n",
       "      <td>2018-06-30</td>\n",
       "      <td>18470.42</td>\n",
       "      <td>73.0</td>\n",
       "      <td>0.2150</td>\n",
       "      <td>2018-07-31</td>\n",
       "      <td>1.0</td>\n",
       "      <td>...</td>\n",
       "      <td>0</td>\n",
       "      <td>0</td>\n",
       "      <td>1</td>\n",
       "      <td>0</td>\n",
       "      <td>0</td>\n",
       "      <td>0</td>\n",
       "      <td>0</td>\n",
       "      <td>0</td>\n",
       "      <td>0</td>\n",
       "      <td>0</td>\n",
       "    </tr>\n",
       "    <tr>\n",
       "      <th>31511676</th>\n",
       "      <td>1745314</td>\n",
       "      <td>0001745314 - 061593</td>\n",
       "      <td>2018-08-01</td>\n",
       "      <td>2018-08-31</td>\n",
       "      <td>2018-05-31</td>\n",
       "      <td>12536.77</td>\n",
       "      <td>62.0</td>\n",
       "      <td>0.1895</td>\n",
       "      <td>2018-07-31</td>\n",
       "      <td>2.0</td>\n",
       "      <td>...</td>\n",
       "      <td>0</td>\n",
       "      <td>0</td>\n",
       "      <td>1</td>\n",
       "      <td>0</td>\n",
       "      <td>0</td>\n",
       "      <td>0</td>\n",
       "      <td>0</td>\n",
       "      <td>0</td>\n",
       "      <td>0</td>\n",
       "      <td>0</td>\n",
       "    </tr>\n",
       "    <tr>\n",
       "      <th>31511677</th>\n",
       "      <td>1745314</td>\n",
       "      <td>0001745314 - 061594</td>\n",
       "      <td>2018-08-01</td>\n",
       "      <td>2018-08-31</td>\n",
       "      <td>2018-06-30</td>\n",
       "      <td>19942.00</td>\n",
       "      <td>73.0</td>\n",
       "      <td>0.1560</td>\n",
       "      <td>2018-07-31</td>\n",
       "      <td>1.0</td>\n",
       "      <td>...</td>\n",
       "      <td>0</td>\n",
       "      <td>0</td>\n",
       "      <td>1</td>\n",
       "      <td>0</td>\n",
       "      <td>0</td>\n",
       "      <td>0</td>\n",
       "      <td>0</td>\n",
       "      <td>0</td>\n",
       "      <td>0</td>\n",
       "      <td>0</td>\n",
       "    </tr>\n",
       "  </tbody>\n",
       "</table>\n",
       "<p>29454120 rows × 97 columns</p>\n",
       "</div>"
      ],
      "text/plain": [
       "              cik          assetnumber reportingperiodbeginningdate  \\\n",
       "0         1725617           1001536189                   2017-11-01   \n",
       "1         1725617           1001536759                   2017-11-01   \n",
       "2         1725617           1001536970                   2017-11-01   \n",
       "3         1725617           1001537061                   2017-11-01   \n",
       "4         1725617           1001537088                   2017-11-01   \n",
       "5         1725617           1001538073                   2017-11-01   \n",
       "6         1725617           1001538680                   2017-11-01   \n",
       "7         1725617           1001565943                   2017-11-01   \n",
       "8         1725617           1001566705                   2017-11-01   \n",
       "9         1725617           1001566738                   2017-11-01   \n",
       "10        1725617           1001567106                   2017-11-01   \n",
       "11        1725617           1001567559                   2017-11-01   \n",
       "12        1725617           1001569208                   2017-11-01   \n",
       "13        1725617           1001581025                   2017-11-01   \n",
       "14        1725617           1001587438                   2017-11-01   \n",
       "15        1725617           1001589695                   2017-11-01   \n",
       "16        1725617           1001590082                   2017-11-01   \n",
       "17        1725617           1001592150                   2017-11-01   \n",
       "18        1725617           1001592164                   2017-11-01   \n",
       "19        1725617           1001592340                   2017-11-01   \n",
       "20        1725617           1001592458                   2017-11-01   \n",
       "21        1725617           1001592532                   2017-11-01   \n",
       "22        1725617           1001592783                   2017-11-01   \n",
       "23        1725617           1001594933                   2017-11-01   \n",
       "24        1725617           1001595082                   2017-11-01   \n",
       "25        1725617           1001595434                   2017-11-01   \n",
       "26        1725617           1001599388                   2017-11-01   \n",
       "27        1725617           1001494341                   2017-11-01   \n",
       "28        1725617           1001494392                   2017-11-01   \n",
       "29        1725617           1001495423                   2017-11-01   \n",
       "...           ...                  ...                          ...   \n",
       "31511648  1745314  0001745314 - 061565                   2018-08-01   \n",
       "31511649  1745314  0001745314 - 061566                   2018-08-01   \n",
       "31511650  1745314  0001745314 - 061567                   2018-08-01   \n",
       "31511651  1745314  0001745314 - 061568                   2018-08-01   \n",
       "31511652  1745314  0001745314 - 061569                   2018-08-01   \n",
       "31511653  1745314  0001745314 - 061570                   2018-08-01   \n",
       "31511654  1745314  0001745314 - 061571                   2018-08-01   \n",
       "31511655  1745314  0001745314 - 061572                   2018-08-01   \n",
       "31511656  1745314  0001745314 - 061573                   2018-08-01   \n",
       "31511657  1745314  0001745314 - 061574                   2018-08-01   \n",
       "31511658  1745314  0001745314 - 061575                   2018-08-01   \n",
       "31511659  1745314  0001745314 - 061576                   2018-08-01   \n",
       "31511660  1745314  0001745314 - 061577                   2018-08-01   \n",
       "31511661  1745314  0001745314 - 061578                   2018-08-01   \n",
       "31511662  1745314  0001745314 - 061579                   2018-08-01   \n",
       "31511663  1745314  0001745314 - 061580                   2018-08-01   \n",
       "31511664  1745314  0001745314 - 061581                   2018-08-01   \n",
       "31511665  1745314  0001745314 - 061582                   2018-08-01   \n",
       "31511666  1745314  0001745314 - 061583                   2018-08-01   \n",
       "31511667  1745314  0001745314 - 061584                   2018-08-01   \n",
       "31511668  1745314  0001745314 - 061585                   2018-08-01   \n",
       "31511669  1745314  0001745314 - 061586                   2018-08-01   \n",
       "31511670  1745314  0001745314 - 061587                   2018-08-01   \n",
       "31511671  1745314  0001745314 - 061588                   2018-08-01   \n",
       "31511672  1745314  0001745314 - 061589                   2018-08-01   \n",
       "31511673  1745314  0001745314 - 061590                   2018-08-01   \n",
       "31511674  1745314  0001745314 - 061591                   2018-08-01   \n",
       "31511675  1745314  0001745314 - 061592                   2018-08-01   \n",
       "31511676  1745314  0001745314 - 061593                   2018-08-01   \n",
       "31511677  1745314  0001745314 - 061594                   2018-08-01   \n",
       "\n",
       "         reportingperiodendingdate originationdate  originalloanamount  \\\n",
       "0                       2017-11-30      2012-12-31            25124.50   \n",
       "1                       2017-11-30      2012-12-31            43257.34   \n",
       "2                       2017-11-30      2012-12-31            56917.54   \n",
       "3                       2017-11-30      2012-12-31            42003.57   \n",
       "4                       2017-11-30      2012-12-31            77217.85   \n",
       "5                       2017-11-30      2012-12-31            27784.19   \n",
       "6                       2017-11-30      2012-12-31            43397.80   \n",
       "7                       2017-11-30      2013-02-28            49345.92   \n",
       "8                       2017-11-30      2013-02-28            45763.89   \n",
       "9                       2017-11-30      2013-02-28            45756.02   \n",
       "10                      2017-11-30      2013-02-28            40334.93   \n",
       "11                      2017-11-30      2013-02-28            59581.43   \n",
       "12                      2017-11-30      2013-02-28            58577.95   \n",
       "13                      2017-11-30      2013-03-31            18381.54   \n",
       "14                      2017-11-30      2013-03-31            36608.33   \n",
       "15                      2017-11-30      2013-03-31            29097.12   \n",
       "16                      2017-11-30      2013-03-31            52805.39   \n",
       "17                      2017-11-30      2013-03-31            31257.59   \n",
       "18                      2017-11-30      2013-03-31            26421.54   \n",
       "19                      2017-11-30      2013-03-31            56346.37   \n",
       "20                      2017-11-30      2013-03-31            24070.17   \n",
       "21                      2017-11-30      2013-03-31            29753.13   \n",
       "22                      2017-11-30      2013-03-31            31813.11   \n",
       "23                      2017-11-30      2013-03-31            30933.72   \n",
       "24                      2017-11-30      2013-03-31            32029.40   \n",
       "25                      2017-11-30      2013-03-31            38715.34   \n",
       "26                      2017-11-30      2013-04-30            37643.19   \n",
       "27                      2017-11-30      2012-10-31            27355.73   \n",
       "28                      2017-11-30      2012-10-31            49102.12   \n",
       "29                      2017-11-30      2012-10-31            34626.16   \n",
       "...                            ...             ...                 ...   \n",
       "31511648                2018-08-31      2018-06-30            18813.30   \n",
       "31511649                2018-08-31      2018-06-30            17816.15   \n",
       "31511650                2018-08-31      2018-06-30            12702.49   \n",
       "31511651                2018-08-31      2018-06-30            21180.24   \n",
       "31511652                2018-08-31      2018-05-31            24143.18   \n",
       "31511653                2018-08-31      2018-06-30            13806.75   \n",
       "31511654                2018-08-31      2018-05-31            23517.50   \n",
       "31511655                2018-08-31      2018-06-30            29053.94   \n",
       "31511656                2018-08-31      2018-06-30            30265.53   \n",
       "31511657                2018-08-31      2018-05-31            28796.60   \n",
       "31511658                2018-08-31      2018-06-30            13744.95   \n",
       "31511659                2018-08-31      2018-06-30            10699.00   \n",
       "31511660                2018-08-31      2018-05-31            15125.57   \n",
       "31511661                2018-08-31      2018-06-30            22184.18   \n",
       "31511662                2018-08-31      2018-06-30            18125.64   \n",
       "31511663                2018-08-31      2018-06-30            21205.13   \n",
       "31511664                2018-08-31      2018-06-30            15557.66   \n",
       "31511665                2018-08-31      2018-06-30            19251.00   \n",
       "31511666                2018-08-31      2018-05-31            10965.00   \n",
       "31511667                2018-08-31      2018-06-30            11167.25   \n",
       "31511668                2018-08-31      2018-06-30            18521.26   \n",
       "31511669                2018-08-31      2018-06-30            14161.36   \n",
       "31511670                2018-08-31      2018-06-30            19094.00   \n",
       "31511671                2018-08-31      2018-06-30            13968.40   \n",
       "31511672                2018-08-31      2018-06-30            20817.85   \n",
       "31511673                2018-08-31      2018-06-30            20297.68   \n",
       "31511674                2018-08-31      2018-06-30            18747.59   \n",
       "31511675                2018-08-31      2018-06-30            18470.42   \n",
       "31511676                2018-08-31      2018-05-31            12536.77   \n",
       "31511677                2018-08-31      2018-06-30            19942.00   \n",
       "\n",
       "          originalloanterm  originalinterestratepercentage  \\\n",
       "0                     72.0                          3.2900   \n",
       "1                     72.0                          3.2900   \n",
       "2                     72.0                          3.2900   \n",
       "3                     72.0                          3.2900   \n",
       "4                     72.0                          3.2900   \n",
       "5                     72.0                          3.2900   \n",
       "6                     72.0                          3.2900   \n",
       "7                     72.0                          3.1900   \n",
       "8                     66.0                          3.1900   \n",
       "9                     72.0                          3.1900   \n",
       "10                    72.0                          3.1900   \n",
       "11                    72.0                          3.1900   \n",
       "12                    72.0                          3.1900   \n",
       "13                    66.0                          1.9000   \n",
       "14                    60.0                          3.1900   \n",
       "15                    63.0                          3.1900   \n",
       "16                    72.0                          3.1900   \n",
       "17                    60.0                          1.9000   \n",
       "18                    66.0                          2.9000   \n",
       "19                    72.0                          3.1900   \n",
       "20                    60.0                          3.1900   \n",
       "21                    66.0                          1.9000   \n",
       "22                    60.0                          3.1900   \n",
       "23                    60.0                          1.9000   \n",
       "24                    66.0                          1.9000   \n",
       "25                    60.0                          3.1900   \n",
       "26                    60.0                          3.1900   \n",
       "27                    66.0                          3.2900   \n",
       "28                    72.0                          3.2900   \n",
       "29                    66.0                          3.2900   \n",
       "...                    ...                             ...   \n",
       "31511648              73.0                          0.1590   \n",
       "31511649              73.0                          0.2275   \n",
       "31511650              73.0                          0.1495   \n",
       "31511651              73.0                          0.1799   \n",
       "31511652              77.0                          0.1590   \n",
       "31511653              61.0                          0.1805   \n",
       "31511654              74.0                          0.1099   \n",
       "31511655              73.0                          0.0990   \n",
       "31511656              73.0                          0.1140   \n",
       "31511657              74.0                          0.1350   \n",
       "31511658              73.0                          0.1495   \n",
       "31511659              61.0                          0.1800   \n",
       "31511660              73.0                          0.1699   \n",
       "31511661              49.0                          0.1685   \n",
       "31511662              73.0                          0.1250   \n",
       "31511663              73.0                          0.1815   \n",
       "31511664              73.0                          0.1590   \n",
       "31511665              73.0                          0.1800   \n",
       "31511666              74.0                          0.1999   \n",
       "31511667              73.0                          0.2599   \n",
       "31511668              73.0                          0.1670   \n",
       "31511669              73.0                          0.1295   \n",
       "31511670              73.0                          0.1190   \n",
       "31511671              73.0                          0.1539   \n",
       "31511672              73.0                          0.1575   \n",
       "31511673              73.0                          0.1895   \n",
       "31511674              73.0                          0.1530   \n",
       "31511675              73.0                          0.2150   \n",
       "31511676              62.0                          0.1895   \n",
       "31511677              73.0                          0.1560   \n",
       "\n",
       "         originalfirstpaymentdate  graceperiodnumber  \\\n",
       "0                      2013-01-31                0.0   \n",
       "1                      2013-02-28                1.0   \n",
       "2                      2013-02-28                1.0   \n",
       "3                      2013-01-31                1.0   \n",
       "4                      2013-02-28                1.0   \n",
       "5                      2013-02-28                1.0   \n",
       "6                      2013-02-28                1.0   \n",
       "7                      2013-03-31                0.0   \n",
       "8                      2013-03-31                0.0   \n",
       "9                      2013-03-31                1.0   \n",
       "10                     2013-03-31                0.0   \n",
       "11                     2013-03-31                1.0   \n",
       "12                     2013-03-31                0.0   \n",
       "13                     2013-04-30                0.0   \n",
       "14                     2013-05-31                1.0   \n",
       "15                     2013-05-31                1.0   \n",
       "16                     2013-05-31                1.0   \n",
       "17                     2013-05-31                1.0   \n",
       "18                     2013-05-31                1.0   \n",
       "19                     2013-04-30                0.0   \n",
       "20                     2013-05-31                1.0   \n",
       "21                     2013-04-30                0.0   \n",
       "22                     2013-05-31                1.0   \n",
       "23                     2013-05-31                1.0   \n",
       "24                     2013-05-31                1.0   \n",
       "25                     2013-05-31                1.0   \n",
       "26                     2013-05-31                1.0   \n",
       "27                     2012-11-30                0.0   \n",
       "28                     2012-11-30                1.0   \n",
       "29                     2012-12-31                1.0   \n",
       "...                           ...                ...   \n",
       "31511648               2018-07-31                1.0   \n",
       "31511649               2018-07-31                1.0   \n",
       "31511650               2018-07-31                1.0   \n",
       "31511651               2018-07-31                1.0   \n",
       "31511652               2018-07-31                2.0   \n",
       "31511653               2018-07-31                1.0   \n",
       "31511654               2018-07-31                2.0   \n",
       "31511655               2018-07-31                1.0   \n",
       "31511656               2018-07-31                1.0   \n",
       "31511657               2018-07-31                2.0   \n",
       "31511658               2018-07-31                1.0   \n",
       "31511659               2018-07-31                1.0   \n",
       "31511660               2018-06-30                1.0   \n",
       "31511661               2018-07-31                1.0   \n",
       "31511662               2018-07-31                1.0   \n",
       "31511663               2018-07-31                1.0   \n",
       "31511664               2018-07-31                1.0   \n",
       "31511665               2018-07-31                1.0   \n",
       "31511666               2018-07-31                2.0   \n",
       "31511667               2018-07-31                1.0   \n",
       "31511668               2018-07-31                1.0   \n",
       "31511669               2018-07-31                1.0   \n",
       "31511670               2018-07-31                1.0   \n",
       "31511671               2018-07-31                1.0   \n",
       "31511672               2018-07-31                1.0   \n",
       "31511673               2018-07-31                1.0   \n",
       "31511674               2018-07-31                1.0   \n",
       "31511675               2018-07-31                1.0   \n",
       "31511676               2018-07-31                2.0   \n",
       "31511677               2018-07-31                1.0   \n",
       "\n",
       "                     ...              credit_type_Credit Bureau  \\\n",
       "0                    ...                                      0   \n",
       "1                    ...                                      0   \n",
       "2                    ...                                      0   \n",
       "3                    ...                                      0   \n",
       "4                    ...                                      0   \n",
       "5                    ...                                      0   \n",
       "6                    ...                                      0   \n",
       "7                    ...                                      0   \n",
       "8                    ...                                      0   \n",
       "9                    ...                                      0   \n",
       "10                   ...                                      0   \n",
       "11                   ...                                      0   \n",
       "12                   ...                                      0   \n",
       "13                   ...                                      0   \n",
       "14                   ...                                      0   \n",
       "15                   ...                                      0   \n",
       "16                   ...                                      0   \n",
       "17                   ...                                      0   \n",
       "18                   ...                                      0   \n",
       "19                   ...                                      0   \n",
       "20                   ...                                      0   \n",
       "21                   ...                                      0   \n",
       "22                   ...                                      0   \n",
       "23                   ...                                      0   \n",
       "24                   ...                                      0   \n",
       "25                   ...                                      0   \n",
       "26                   ...                                      0   \n",
       "27                   ...                                      0   \n",
       "28                   ...                                      0   \n",
       "29                   ...                                      0   \n",
       "...                  ...                                    ...   \n",
       "31511648             ...                                      0   \n",
       "31511649             ...                                      0   \n",
       "31511650             ...                                      0   \n",
       "31511651             ...                                      0   \n",
       "31511652             ...                                      0   \n",
       "31511653             ...                                      0   \n",
       "31511654             ...                                      0   \n",
       "31511655             ...                                      0   \n",
       "31511656             ...                                      0   \n",
       "31511657             ...                                      0   \n",
       "31511658             ...                                      0   \n",
       "31511659             ...                                      0   \n",
       "31511660             ...                                      0   \n",
       "31511661             ...                                      0   \n",
       "31511662             ...                                      0   \n",
       "31511663             ...                                      0   \n",
       "31511664             ...                                      0   \n",
       "31511665             ...                                      0   \n",
       "31511666             ...                                      0   \n",
       "31511667             ...                                      0   \n",
       "31511668             ...                                      0   \n",
       "31511669             ...                                      0   \n",
       "31511670             ...                                      0   \n",
       "31511671             ...                                      0   \n",
       "31511672             ...                                      0   \n",
       "31511673             ...                                      0   \n",
       "31511674             ...                                      0   \n",
       "31511675             ...                                      0   \n",
       "31511676             ...                                      0   \n",
       "31511677             ...                                      0   \n",
       "\n",
       "          credit_type_FICO  credit_type_Credit Bureau Score  \\\n",
       "0                        1                                0   \n",
       "1                        1                                0   \n",
       "2                        1                                0   \n",
       "3                        1                                0   \n",
       "4                        1                                0   \n",
       "5                        1                                0   \n",
       "6                        1                                0   \n",
       "7                        1                                0   \n",
       "8                        1                                0   \n",
       "9                        1                                0   \n",
       "10                       1                                0   \n",
       "11                       1                                0   \n",
       "12                       1                                0   \n",
       "13                       1                                0   \n",
       "14                       1                                0   \n",
       "15                       1                                0   \n",
       "16                       1                                0   \n",
       "17                       1                                0   \n",
       "18                       1                                0   \n",
       "19                       1                                0   \n",
       "20                       1                                0   \n",
       "21                       1                                0   \n",
       "22                       1                                0   \n",
       "23                       1                                0   \n",
       "24                       1                                0   \n",
       "25                       1                                0   \n",
       "26                       1                                0   \n",
       "27                       1                                0   \n",
       "28                       1                                0   \n",
       "29                       1                                0   \n",
       "...                    ...                              ...   \n",
       "31511648                 0                                1   \n",
       "31511649                 0                                1   \n",
       "31511650                 0                                1   \n",
       "31511651                 0                                1   \n",
       "31511652                 0                                1   \n",
       "31511653                 0                                1   \n",
       "31511654                 0                                1   \n",
       "31511655                 0                                1   \n",
       "31511656                 0                                1   \n",
       "31511657                 0                                1   \n",
       "31511658                 0                                1   \n",
       "31511659                 0                                1   \n",
       "31511660                 0                                1   \n",
       "31511661                 0                                1   \n",
       "31511662                 0                                1   \n",
       "31511663                 0                                1   \n",
       "31511664                 0                                1   \n",
       "31511665                 0                                1   \n",
       "31511666                 0                                1   \n",
       "31511667                 0                                1   \n",
       "31511668                 0                                1   \n",
       "31511669                 0                                1   \n",
       "31511670                 0                                1   \n",
       "31511671                 0                                1   \n",
       "31511672                 0                                1   \n",
       "31511673                 0                                1   \n",
       "31511674                 0                                1   \n",
       "31511675                 0                                1   \n",
       "31511676                 0                                1   \n",
       "31511677                 0                                1   \n",
       "\n",
       "         credit_type_FICO Score 8 Auto  credit_type_FICO Score 2 Auto  \\\n",
       "0                                    0                              0   \n",
       "1                                    0                              0   \n",
       "2                                    0                              0   \n",
       "3                                    0                              0   \n",
       "4                                    0                              0   \n",
       "5                                    0                              0   \n",
       "6                                    0                              0   \n",
       "7                                    0                              0   \n",
       "8                                    0                              0   \n",
       "9                                    0                              0   \n",
       "10                                   0                              0   \n",
       "11                                   0                              0   \n",
       "12                                   0                              0   \n",
       "13                                   0                              0   \n",
       "14                                   0                              0   \n",
       "15                                   0                              0   \n",
       "16                                   0                              0   \n",
       "17                                   0                              0   \n",
       "18                                   0                              0   \n",
       "19                                   0                              0   \n",
       "20                                   0                              0   \n",
       "21                                   0                              0   \n",
       "22                                   0                              0   \n",
       "23                                   0                              0   \n",
       "24                                   0                              0   \n",
       "25                                   0                              0   \n",
       "26                                   0                              0   \n",
       "27                                   0                              0   \n",
       "28                                   0                              0   \n",
       "29                                   0                              0   \n",
       "...                                ...                            ...   \n",
       "31511648                             0                              0   \n",
       "31511649                             0                              0   \n",
       "31511650                             0                              0   \n",
       "31511651                             0                              0   \n",
       "31511652                             0                              0   \n",
       "31511653                             0                              0   \n",
       "31511654                             0                              0   \n",
       "31511655                             0                              0   \n",
       "31511656                             0                              0   \n",
       "31511657                             0                              0   \n",
       "31511658                             0                              0   \n",
       "31511659                             0                              0   \n",
       "31511660                             0                              0   \n",
       "31511661                             0                              0   \n",
       "31511662                             0                              0   \n",
       "31511663                             0                              0   \n",
       "31511664                             0                              0   \n",
       "31511665                             0                              0   \n",
       "31511666                             0                              0   \n",
       "31511667                             0                              0   \n",
       "31511668                             0                              0   \n",
       "31511669                             0                              0   \n",
       "31511670                             0                              0   \n",
       "31511671                             0                              0   \n",
       "31511672                             0                              0   \n",
       "31511673                             0                              0   \n",
       "31511674                             0                              0   \n",
       "31511675                             0                              0   \n",
       "31511676                             0                              0   \n",
       "31511677                             0                              0   \n",
       "\n",
       "         credit_type_CREDIT BUREAU credit_type_Consumer Credit Bureau  \\\n",
       "0                                0                                  0   \n",
       "1                                0                                  0   \n",
       "2                                0                                  0   \n",
       "3                                0                                  0   \n",
       "4                                0                                  0   \n",
       "5                                0                                  0   \n",
       "6                                0                                  0   \n",
       "7                                0                                  0   \n",
       "8                                0                                  0   \n",
       "9                                0                                  0   \n",
       "10                               0                                  0   \n",
       "11                               0                                  0   \n",
       "12                               0                                  0   \n",
       "13                               0                                  0   \n",
       "14                               0                                  0   \n",
       "15                               0                                  0   \n",
       "16                               0                                  0   \n",
       "17                               0                                  0   \n",
       "18                               0                                  0   \n",
       "19                               0                                  0   \n",
       "20                               0                                  0   \n",
       "21                               0                                  0   \n",
       "22                               0                                  0   \n",
       "23                               0                                  0   \n",
       "24                               0                                  0   \n",
       "25                               0                                  0   \n",
       "26                               0                                  0   \n",
       "27                               0                                  0   \n",
       "28                               0                                  0   \n",
       "29                               0                                  0   \n",
       "...                            ...                                ...   \n",
       "31511648                         0                                  0   \n",
       "31511649                         0                                  0   \n",
       "31511650                         0                                  0   \n",
       "31511651                         0                                  0   \n",
       "31511652                         0                                  0   \n",
       "31511653                         0                                  0   \n",
       "31511654                         0                                  0   \n",
       "31511655                         0                                  0   \n",
       "31511656                         0                                  0   \n",
       "31511657                         0                                  0   \n",
       "31511658                         0                                  0   \n",
       "31511659                         0                                  0   \n",
       "31511660                         0                                  0   \n",
       "31511661                         0                                  0   \n",
       "31511662                         0                                  0   \n",
       "31511663                         0                                  0   \n",
       "31511664                         0                                  0   \n",
       "31511665                         0                                  0   \n",
       "31511666                         0                                  0   \n",
       "31511667                         0                                  0   \n",
       "31511668                         0                                  0   \n",
       "31511669                         0                                  0   \n",
       "31511670                         0                                  0   \n",
       "31511671                         0                                  0   \n",
       "31511672                         0                                  0   \n",
       "31511673                         0                                  0   \n",
       "31511674                         0                                  0   \n",
       "31511675                         0                                  0   \n",
       "31511676                         0                                  0   \n",
       "31511677                         0                                  0   \n",
       "\n",
       "          credit_type_Commercial Bureau  credit_type_None  \\\n",
       "0                                     0                 0   \n",
       "1                                     0                 0   \n",
       "2                                     0                 0   \n",
       "3                                     0                 0   \n",
       "4                                     0                 0   \n",
       "5                                     0                 0   \n",
       "6                                     0                 0   \n",
       "7                                     0                 0   \n",
       "8                                     0                 0   \n",
       "9                                     0                 0   \n",
       "10                                    0                 0   \n",
       "11                                    0                 0   \n",
       "12                                    0                 0   \n",
       "13                                    0                 0   \n",
       "14                                    0                 0   \n",
       "15                                    0                 0   \n",
       "16                                    0                 0   \n",
       "17                                    0                 0   \n",
       "18                                    0                 0   \n",
       "19                                    0                 0   \n",
       "20                                    0                 0   \n",
       "21                                    0                 0   \n",
       "22                                    0                 0   \n",
       "23                                    0                 0   \n",
       "24                                    0                 0   \n",
       "25                                    0                 0   \n",
       "26                                    0                 0   \n",
       "27                                    0                 0   \n",
       "28                                    0                 0   \n",
       "29                                    0                 0   \n",
       "...                                 ...               ...   \n",
       "31511648                              0                 0   \n",
       "31511649                              0                 0   \n",
       "31511650                              0                 0   \n",
       "31511651                              0                 0   \n",
       "31511652                              0                 0   \n",
       "31511653                              0                 0   \n",
       "31511654                              0                 0   \n",
       "31511655                              0                 0   \n",
       "31511656                              0                 0   \n",
       "31511657                              0                 0   \n",
       "31511658                              0                 0   \n",
       "31511659                              0                 0   \n",
       "31511660                              0                 0   \n",
       "31511661                              0                 0   \n",
       "31511662                              0                 0   \n",
       "31511663                              0                 0   \n",
       "31511664                              0                 0   \n",
       "31511665                              0                 0   \n",
       "31511666                              0                 0   \n",
       "31511667                              0                 0   \n",
       "31511668                              0                 0   \n",
       "31511669                              0                 0   \n",
       "31511670                              0                 0   \n",
       "31511671                              0                 0   \n",
       "31511672                              0                 0   \n",
       "31511673                              0                 0   \n",
       "31511674                              0                 0   \n",
       "31511675                              0                 0   \n",
       "31511676                              0                 0   \n",
       "31511677                              0                 0   \n",
       "\n",
       "          credit_type_Unknown/Invalid  \n",
       "0                                   0  \n",
       "1                                   0  \n",
       "2                                   0  \n",
       "3                                   0  \n",
       "4                                   0  \n",
       "5                                   0  \n",
       "6                                   0  \n",
       "7                                   0  \n",
       "8                                   0  \n",
       "9                                   0  \n",
       "10                                  0  \n",
       "11                                  0  \n",
       "12                                  0  \n",
       "13                                  0  \n",
       "14                                  0  \n",
       "15                                  0  \n",
       "16                                  0  \n",
       "17                                  0  \n",
       "18                                  0  \n",
       "19                                  0  \n",
       "20                                  0  \n",
       "21                                  0  \n",
       "22                                  0  \n",
       "23                                  0  \n",
       "24                                  0  \n",
       "25                                  0  \n",
       "26                                  0  \n",
       "27                                  0  \n",
       "28                                  0  \n",
       "29                                  0  \n",
       "...                               ...  \n",
       "31511648                            0  \n",
       "31511649                            0  \n",
       "31511650                            0  \n",
       "31511651                            0  \n",
       "31511652                            0  \n",
       "31511653                            0  \n",
       "31511654                            0  \n",
       "31511655                            0  \n",
       "31511656                            0  \n",
       "31511657                            0  \n",
       "31511658                            0  \n",
       "31511659                            0  \n",
       "31511660                            0  \n",
       "31511661                            0  \n",
       "31511662                            0  \n",
       "31511663                            0  \n",
       "31511664                            0  \n",
       "31511665                            0  \n",
       "31511666                            0  \n",
       "31511667                            0  \n",
       "31511668                            0  \n",
       "31511669                            0  \n",
       "31511670                            0  \n",
       "31511671                            0  \n",
       "31511672                            0  \n",
       "31511673                            0  \n",
       "31511674                            0  \n",
       "31511675                            0  \n",
       "31511676                            0  \n",
       "31511677                            0  \n",
       "\n",
       "[29454120 rows x 97 columns]"
      ]
     },
     "execution_count": 98,
     "metadata": {},
     "output_type": "execute_result"
    }
   ],
   "source": [
    "df[~df.obligorcreditscore.str.contains('No Score', na=False)]"
   ]
  },
  {
   "cell_type": "code",
   "execution_count": 99,
   "metadata": {
    "collapsed": true
   },
   "outputs": [],
   "source": [
    "#df.obligorcreditscore.str.contains('No Score').sum()"
   ]
  },
  {
   "cell_type": "code",
   "execution_count": 100,
   "metadata": {},
   "outputs": [
    {
     "data": {
      "text/html": [
       "<div>\n",
       "<style scoped>\n",
       "    .dataframe tbody tr th:only-of-type {\n",
       "        vertical-align: middle;\n",
       "    }\n",
       "\n",
       "    .dataframe tbody tr th {\n",
       "        vertical-align: top;\n",
       "    }\n",
       "\n",
       "    .dataframe thead th {\n",
       "        text-align: right;\n",
       "    }\n",
       "</style>\n",
       "<table border=\"1\" class=\"dataframe\">\n",
       "  <thead>\n",
       "    <tr style=\"text-align: right;\">\n",
       "      <th>obligorcreditscore</th>\n",
       "      <th>0</th>\n",
       "      <th>1</th>\n",
       "      <th>10</th>\n",
       "      <th>100</th>\n",
       "      <th>11</th>\n",
       "      <th>12</th>\n",
       "      <th>13</th>\n",
       "      <th>14</th>\n",
       "      <th>15</th>\n",
       "      <th>16</th>\n",
       "      <th>...</th>\n",
       "      <th>93</th>\n",
       "      <th>94</th>\n",
       "      <th>95</th>\n",
       "      <th>96</th>\n",
       "      <th>97</th>\n",
       "      <th>98</th>\n",
       "      <th>99</th>\n",
       "      <th>NONE</th>\n",
       "      <th>No Score</th>\n",
       "      <th>None</th>\n",
       "    </tr>\n",
       "    <tr>\n",
       "      <th>reportingperiodendingdate</th>\n",
       "      <th></th>\n",
       "      <th></th>\n",
       "      <th></th>\n",
       "      <th></th>\n",
       "      <th></th>\n",
       "      <th></th>\n",
       "      <th></th>\n",
       "      <th></th>\n",
       "      <th></th>\n",
       "      <th></th>\n",
       "      <th></th>\n",
       "      <th></th>\n",
       "      <th></th>\n",
       "      <th></th>\n",
       "      <th></th>\n",
       "      <th></th>\n",
       "      <th></th>\n",
       "      <th></th>\n",
       "      <th></th>\n",
       "      <th></th>\n",
       "      <th></th>\n",
       "    </tr>\n",
       "  </thead>\n",
       "  <tbody>\n",
       "    <tr>\n",
       "      <th>2016-12-31</th>\n",
       "      <td>1</td>\n",
       "      <td>131</td>\n",
       "      <td>98</td>\n",
       "      <td>126</td>\n",
       "      <td>113</td>\n",
       "      <td>102</td>\n",
       "      <td>106</td>\n",
       "      <td>97</td>\n",
       "      <td>113</td>\n",
       "      <td>117</td>\n",
       "      <td>...</td>\n",
       "      <td>80</td>\n",
       "      <td>65</td>\n",
       "      <td>75</td>\n",
       "      <td>97</td>\n",
       "      <td>108</td>\n",
       "      <td>111</td>\n",
       "      <td>119</td>\n",
       "      <td>833</td>\n",
       "      <td>2255</td>\n",
       "      <td>456</td>\n",
       "    </tr>\n",
       "    <tr>\n",
       "      <th>2017-01-31</th>\n",
       "      <td>1</td>\n",
       "      <td>131</td>\n",
       "      <td>98</td>\n",
       "      <td>126</td>\n",
       "      <td>113</td>\n",
       "      <td>102</td>\n",
       "      <td>106</td>\n",
       "      <td>97</td>\n",
       "      <td>113</td>\n",
       "      <td>117</td>\n",
       "      <td>...</td>\n",
       "      <td>80</td>\n",
       "      <td>65</td>\n",
       "      <td>75</td>\n",
       "      <td>97</td>\n",
       "      <td>108</td>\n",
       "      <td>111</td>\n",
       "      <td>119</td>\n",
       "      <td>833</td>\n",
       "      <td>2255</td>\n",
       "      <td>456</td>\n",
       "    </tr>\n",
       "    <tr>\n",
       "      <th>2017-02-28</th>\n",
       "      <td>2461</td>\n",
       "      <td>127</td>\n",
       "      <td>97</td>\n",
       "      <td>122</td>\n",
       "      <td>113</td>\n",
       "      <td>102</td>\n",
       "      <td>104</td>\n",
       "      <td>97</td>\n",
       "      <td>111</td>\n",
       "      <td>117</td>\n",
       "      <td>...</td>\n",
       "      <td>77</td>\n",
       "      <td>63</td>\n",
       "      <td>73</td>\n",
       "      <td>94</td>\n",
       "      <td>107</td>\n",
       "      <td>110</td>\n",
       "      <td>113</td>\n",
       "      <td>0</td>\n",
       "      <td>2175</td>\n",
       "      <td>456</td>\n",
       "    </tr>\n",
       "    <tr>\n",
       "      <th>2017-03-31</th>\n",
       "      <td>1</td>\n",
       "      <td>0</td>\n",
       "      <td>0</td>\n",
       "      <td>0</td>\n",
       "      <td>0</td>\n",
       "      <td>0</td>\n",
       "      <td>0</td>\n",
       "      <td>0</td>\n",
       "      <td>0</td>\n",
       "      <td>0</td>\n",
       "      <td>...</td>\n",
       "      <td>0</td>\n",
       "      <td>0</td>\n",
       "      <td>0</td>\n",
       "      <td>0</td>\n",
       "      <td>0</td>\n",
       "      <td>0</td>\n",
       "      <td>0</td>\n",
       "      <td>647</td>\n",
       "      <td>0</td>\n",
       "      <td>0</td>\n",
       "    </tr>\n",
       "    <tr>\n",
       "      <th>2017-11-30</th>\n",
       "      <td>1</td>\n",
       "      <td>0</td>\n",
       "      <td>0</td>\n",
       "      <td>0</td>\n",
       "      <td>0</td>\n",
       "      <td>0</td>\n",
       "      <td>0</td>\n",
       "      <td>0</td>\n",
       "      <td>0</td>\n",
       "      <td>0</td>\n",
       "      <td>...</td>\n",
       "      <td>0</td>\n",
       "      <td>0</td>\n",
       "      <td>0</td>\n",
       "      <td>0</td>\n",
       "      <td>0</td>\n",
       "      <td>0</td>\n",
       "      <td>0</td>\n",
       "      <td>0</td>\n",
       "      <td>0</td>\n",
       "      <td>243</td>\n",
       "    </tr>\n",
       "    <tr>\n",
       "      <th>2017-12-31</th>\n",
       "      <td>5079</td>\n",
       "      <td>0</td>\n",
       "      <td>0</td>\n",
       "      <td>0</td>\n",
       "      <td>0</td>\n",
       "      <td>0</td>\n",
       "      <td>0</td>\n",
       "      <td>0</td>\n",
       "      <td>0</td>\n",
       "      <td>0</td>\n",
       "      <td>...</td>\n",
       "      <td>0</td>\n",
       "      <td>0</td>\n",
       "      <td>0</td>\n",
       "      <td>0</td>\n",
       "      <td>0</td>\n",
       "      <td>0</td>\n",
       "      <td>0</td>\n",
       "      <td>4450</td>\n",
       "      <td>0</td>\n",
       "      <td>2155</td>\n",
       "    </tr>\n",
       "    <tr>\n",
       "      <th>2018-01-31</th>\n",
       "      <td>1018</td>\n",
       "      <td>0</td>\n",
       "      <td>0</td>\n",
       "      <td>0</td>\n",
       "      <td>0</td>\n",
       "      <td>0</td>\n",
       "      <td>0</td>\n",
       "      <td>0</td>\n",
       "      <td>0</td>\n",
       "      <td>0</td>\n",
       "      <td>...</td>\n",
       "      <td>0</td>\n",
       "      <td>0</td>\n",
       "      <td>0</td>\n",
       "      <td>0</td>\n",
       "      <td>0</td>\n",
       "      <td>0</td>\n",
       "      <td>0</td>\n",
       "      <td>0</td>\n",
       "      <td>0</td>\n",
       "      <td>0</td>\n",
       "    </tr>\n",
       "    <tr>\n",
       "      <th>2018-02-28</th>\n",
       "      <td>7187</td>\n",
       "      <td>319</td>\n",
       "      <td>249</td>\n",
       "      <td>371</td>\n",
       "      <td>289</td>\n",
       "      <td>274</td>\n",
       "      <td>262</td>\n",
       "      <td>273</td>\n",
       "      <td>291</td>\n",
       "      <td>297</td>\n",
       "      <td>...</td>\n",
       "      <td>200</td>\n",
       "      <td>188</td>\n",
       "      <td>212</td>\n",
       "      <td>232</td>\n",
       "      <td>256</td>\n",
       "      <td>285</td>\n",
       "      <td>314</td>\n",
       "      <td>3740</td>\n",
       "      <td>9719</td>\n",
       "      <td>3461</td>\n",
       "    </tr>\n",
       "    <tr>\n",
       "      <th>2018-03-31</th>\n",
       "      <td>7126</td>\n",
       "      <td>317</td>\n",
       "      <td>244</td>\n",
       "      <td>365</td>\n",
       "      <td>285</td>\n",
       "      <td>272</td>\n",
       "      <td>259</td>\n",
       "      <td>267</td>\n",
       "      <td>287</td>\n",
       "      <td>295</td>\n",
       "      <td>...</td>\n",
       "      <td>194</td>\n",
       "      <td>182</td>\n",
       "      <td>212</td>\n",
       "      <td>229</td>\n",
       "      <td>253</td>\n",
       "      <td>280</td>\n",
       "      <td>311</td>\n",
       "      <td>5269</td>\n",
       "      <td>9463</td>\n",
       "      <td>4636</td>\n",
       "    </tr>\n",
       "    <tr>\n",
       "      <th>2018-04-30</th>\n",
       "      <td>7738</td>\n",
       "      <td>421</td>\n",
       "      <td>332</td>\n",
       "      <td>508</td>\n",
       "      <td>385</td>\n",
       "      <td>384</td>\n",
       "      <td>373</td>\n",
       "      <td>379</td>\n",
       "      <td>394</td>\n",
       "      <td>403</td>\n",
       "      <td>...</td>\n",
       "      <td>281</td>\n",
       "      <td>258</td>\n",
       "      <td>302</td>\n",
       "      <td>351</td>\n",
       "      <td>352</td>\n",
       "      <td>413</td>\n",
       "      <td>460</td>\n",
       "      <td>5169</td>\n",
       "      <td>13403</td>\n",
       "      <td>4578</td>\n",
       "    </tr>\n",
       "    <tr>\n",
       "      <th>2018-05-31</th>\n",
       "      <td>7512</td>\n",
       "      <td>419</td>\n",
       "      <td>328</td>\n",
       "      <td>500</td>\n",
       "      <td>378</td>\n",
       "      <td>381</td>\n",
       "      <td>369</td>\n",
       "      <td>377</td>\n",
       "      <td>390</td>\n",
       "      <td>396</td>\n",
       "      <td>...</td>\n",
       "      <td>278</td>\n",
       "      <td>253</td>\n",
       "      <td>300</td>\n",
       "      <td>350</td>\n",
       "      <td>348</td>\n",
       "      <td>408</td>\n",
       "      <td>458</td>\n",
       "      <td>5074</td>\n",
       "      <td>13174</td>\n",
       "      <td>5474</td>\n",
       "    </tr>\n",
       "    <tr>\n",
       "      <th>2018-06-30</th>\n",
       "      <td>8268</td>\n",
       "      <td>412</td>\n",
       "      <td>327</td>\n",
       "      <td>487</td>\n",
       "      <td>374</td>\n",
       "      <td>378</td>\n",
       "      <td>362</td>\n",
       "      <td>373</td>\n",
       "      <td>383</td>\n",
       "      <td>387</td>\n",
       "      <td>...</td>\n",
       "      <td>275</td>\n",
       "      <td>245</td>\n",
       "      <td>293</td>\n",
       "      <td>343</td>\n",
       "      <td>338</td>\n",
       "      <td>398</td>\n",
       "      <td>446</td>\n",
       "      <td>6244</td>\n",
       "      <td>12709</td>\n",
       "      <td>5934</td>\n",
       "    </tr>\n",
       "    <tr>\n",
       "      <th>2018-07-31</th>\n",
       "      <td>8117</td>\n",
       "      <td>407</td>\n",
       "      <td>319</td>\n",
       "      <td>479</td>\n",
       "      <td>371</td>\n",
       "      <td>370</td>\n",
       "      <td>355</td>\n",
       "      <td>368</td>\n",
       "      <td>377</td>\n",
       "      <td>379</td>\n",
       "      <td>...</td>\n",
       "      <td>267</td>\n",
       "      <td>244</td>\n",
       "      <td>290</td>\n",
       "      <td>335</td>\n",
       "      <td>332</td>\n",
       "      <td>389</td>\n",
       "      <td>434</td>\n",
       "      <td>0</td>\n",
       "      <td>12343</td>\n",
       "      <td>3627</td>\n",
       "    </tr>\n",
       "    <tr>\n",
       "      <th>2018-08-31</th>\n",
       "      <td>7818</td>\n",
       "      <td>400</td>\n",
       "      <td>315</td>\n",
       "      <td>472</td>\n",
       "      <td>368</td>\n",
       "      <td>364</td>\n",
       "      <td>352</td>\n",
       "      <td>360</td>\n",
       "      <td>371</td>\n",
       "      <td>372</td>\n",
       "      <td>...</td>\n",
       "      <td>265</td>\n",
       "      <td>239</td>\n",
       "      <td>281</td>\n",
       "      <td>329</td>\n",
       "      <td>319</td>\n",
       "      <td>379</td>\n",
       "      <td>428</td>\n",
       "      <td>6012</td>\n",
       "      <td>11996</td>\n",
       "      <td>6274</td>\n",
       "    </tr>\n",
       "    <tr>\n",
       "      <th>2018-09-30</th>\n",
       "      <td>10</td>\n",
       "      <td>56</td>\n",
       "      <td>70</td>\n",
       "      <td>85</td>\n",
       "      <td>65</td>\n",
       "      <td>50</td>\n",
       "      <td>68</td>\n",
       "      <td>63</td>\n",
       "      <td>72</td>\n",
       "      <td>72</td>\n",
       "      <td>...</td>\n",
       "      <td>46</td>\n",
       "      <td>44</td>\n",
       "      <td>53</td>\n",
       "      <td>49</td>\n",
       "      <td>78</td>\n",
       "      <td>74</td>\n",
       "      <td>76</td>\n",
       "      <td>6877</td>\n",
       "      <td>2265</td>\n",
       "      <td>0</td>\n",
       "    </tr>\n",
       "  </tbody>\n",
       "</table>\n",
       "<p>15 rows × 1418 columns</p>\n",
       "</div>"
      ],
      "text/plain": [
       "obligorcreditscore            0    1   10  100   11   12   13   14   15   16  \\\n",
       "reportingperiodendingdate                                                      \n",
       "2016-12-31                    1  131   98  126  113  102  106   97  113  117   \n",
       "2017-01-31                    1  131   98  126  113  102  106   97  113  117   \n",
       "2017-02-28                 2461  127   97  122  113  102  104   97  111  117   \n",
       "2017-03-31                    1    0    0    0    0    0    0    0    0    0   \n",
       "2017-11-30                    1    0    0    0    0    0    0    0    0    0   \n",
       "2017-12-31                 5079    0    0    0    0    0    0    0    0    0   \n",
       "2018-01-31                 1018    0    0    0    0    0    0    0    0    0   \n",
       "2018-02-28                 7187  319  249  371  289  274  262  273  291  297   \n",
       "2018-03-31                 7126  317  244  365  285  272  259  267  287  295   \n",
       "2018-04-30                 7738  421  332  508  385  384  373  379  394  403   \n",
       "2018-05-31                 7512  419  328  500  378  381  369  377  390  396   \n",
       "2018-06-30                 8268  412  327  487  374  378  362  373  383  387   \n",
       "2018-07-31                 8117  407  319  479  371  370  355  368  377  379   \n",
       "2018-08-31                 7818  400  315  472  368  364  352  360  371  372   \n",
       "2018-09-30                   10   56   70   85   65   50   68   63   72   72   \n",
       "\n",
       "obligorcreditscore         ...    93   94   95   96   97   98   99  NONE  \\\n",
       "reportingperiodendingdate  ...                                             \n",
       "2016-12-31                 ...    80   65   75   97  108  111  119   833   \n",
       "2017-01-31                 ...    80   65   75   97  108  111  119   833   \n",
       "2017-02-28                 ...    77   63   73   94  107  110  113     0   \n",
       "2017-03-31                 ...     0    0    0    0    0    0    0   647   \n",
       "2017-11-30                 ...     0    0    0    0    0    0    0     0   \n",
       "2017-12-31                 ...     0    0    0    0    0    0    0  4450   \n",
       "2018-01-31                 ...     0    0    0    0    0    0    0     0   \n",
       "2018-02-28                 ...   200  188  212  232  256  285  314  3740   \n",
       "2018-03-31                 ...   194  182  212  229  253  280  311  5269   \n",
       "2018-04-30                 ...   281  258  302  351  352  413  460  5169   \n",
       "2018-05-31                 ...   278  253  300  350  348  408  458  5074   \n",
       "2018-06-30                 ...   275  245  293  343  338  398  446  6244   \n",
       "2018-07-31                 ...   267  244  290  335  332  389  434     0   \n",
       "2018-08-31                 ...   265  239  281  329  319  379  428  6012   \n",
       "2018-09-30                 ...    46   44   53   49   78   74   76  6877   \n",
       "\n",
       "obligorcreditscore         No Score  None  \n",
       "reportingperiodendingdate                  \n",
       "2016-12-31                     2255   456  \n",
       "2017-01-31                     2255   456  \n",
       "2017-02-28                     2175   456  \n",
       "2017-03-31                        0     0  \n",
       "2017-11-30                        0   243  \n",
       "2017-12-31                        0  2155  \n",
       "2018-01-31                        0     0  \n",
       "2018-02-28                     9719  3461  \n",
       "2018-03-31                     9463  4636  \n",
       "2018-04-30                    13403  4578  \n",
       "2018-05-31                    13174  5474  \n",
       "2018-06-30                    12709  5934  \n",
       "2018-07-31                    12343  3627  \n",
       "2018-08-31                    11996  6274  \n",
       "2018-09-30                     2265     0  \n",
       "\n",
       "[15 rows x 1418 columns]"
      ]
     },
     "execution_count": 100,
     "metadata": {},
     "output_type": "execute_result"
    }
   ],
   "source": [
    "pd.crosstab(df.reportingperiodendingdate, df.obligorcreditscore)"
   ]
  },
  {
   "cell_type": "code",
   "execution_count": 101,
   "metadata": {},
   "outputs": [
    {
     "name": "stderr",
     "output_type": "stream",
     "text": [
      "C:\\Progra~1\\Anaconda3_4\\lib\\site-packages\\ipykernel_launcher.py:1: UserWarning: This pattern has match groups. To actually get the groups, use str.extract.\n",
      "  \"\"\"Entry point for launching an IPython kernel.\n"
     ]
    }
   ],
   "source": [
    "df=df[~df.obligorcreditscore.str.contains(r'^([^0-9]*)$', na=False)]"
   ]
  },
  {
   "cell_type": "code",
   "execution_count": 102,
   "metadata": {},
   "outputs": [
    {
     "data": {
      "text/plain": [
       "cik                                                                     0\n",
       "assetnumber                                                             0\n",
       "reportingperiodbeginningdate                                            0\n",
       "reportingperiodendingdate                                               0\n",
       "originationdate                                                         0\n",
       "originalloanamount                                                      0\n",
       "originalloanterm                                                        0\n",
       "originalinterestratepercentage                                          0\n",
       "originalfirstpaymentdate                                                0\n",
       "graceperiodnumber                                                       0\n",
       "obligorcreditscore                                                 817151\n",
       "obligorincomeverificationlevelcode                                 214786\n",
       "obligoremploymentverificationcode                                  214786\n",
       "coobligorindicator                                                      0\n",
       "paymenttoincomepercentage                                          263192\n",
       "assetaddedindicator                                               5882726\n",
       "reportingperiodmodificationindicator                              3047635\n",
       "servicingadvancemethodcode                                              0\n",
       "reportingperiodbeginningloanbalanceamount                           28997\n",
       "nextreportingperiodpaymentamountdue                                294030\n",
       "reportingperiodinterestratepercentage                              154132\n",
       "nextinterestratepercentage                                         320502\n",
       "servicingfeepercentage                                              53156\n",
       "servicingflatfeeamount                                           25929741\n",
       "otherservicerfeeretainedbyservicer                               25929741\n",
       "otherassesseduncollectedservicerfeeamount                            2915\n",
       "scheduledinterestamount                                            227105\n",
       "scheduledprincipalamount                                           227105\n",
       "otherprincipaladjustmentamount                                       9595\n",
       "reportingperiodactualendbalanceamount                                   0\n",
       "                                                                   ...   \n",
       "originator_BMW Bank of North America                                    0\n",
       "originator_Fifth Third Bank                                             0\n",
       "originator_Mechanics Bank                                               0\n",
       "originator_USAAFSB                                                      0\n",
       "originator_VW Credit                                                    0\n",
       "originator_MBFS USA LLC                                                 0\n",
       "originator_BMW Financial Services NA LLC                                0\n",
       "underwriting_true                                                       0\n",
       "subvented_[\"0\"]                                                         0\n",
       "subvented_[\"1\"]                                                         0\n",
       "subvented_[\"2\"]                                                         0\n",
       "subvented_[\"1\",\"2\"]                                                     0\n",
       "subvented_[\"2\",\"1\"]                                                     0\n",
       "subvented_[\"98\"]                                                        0\n",
       "subvented_[\"1\",\" 2\"]                                                    0\n",
       "subvented_[\"1\",\"98\"]                                                    0\n",
       "subvented_[\"1\",\" 98\"]                                                   0\n",
       "vehiclenew_true                                                         0\n",
       "credit_type_Bureau                                                      0\n",
       "credit_type_Consumer Bureau                                             0\n",
       "credit_type_Credit Bureau                                               0\n",
       "credit_type_FICO                                                        0\n",
       "credit_type_Credit Bureau Score                                         0\n",
       "credit_type_FICO Score 8 Auto                                           0\n",
       "credit_type_FICO Score 2 Auto                                           0\n",
       "credit_type_CREDIT BUREAU                                               0\n",
       "credit_type_Consumer Credit Bureau                                      0\n",
       "credit_type_Commercial Bureau                                           0\n",
       "credit_type_None                                                        0\n",
       "credit_type_Unknown/Invalid                                             0\n",
       "Length: 97, dtype: int64"
      ]
     },
     "execution_count": 102,
     "metadata": {},
     "output_type": "execute_result"
    }
   ],
   "source": [
    "df.isnull().sum()"
   ]
  },
  {
   "cell_type": "code",
   "execution_count": 103,
   "metadata": {},
   "outputs": [
    {
     "data": {
      "text/plain": [
       "False    28554071\n",
       "True       817151\n",
       "Name: obligorcreditscore, dtype: int64"
      ]
     },
     "execution_count": 103,
     "metadata": {},
     "output_type": "execute_result"
    }
   ],
   "source": [
    "df.obligorcreditscore.isnull().value_counts()"
   ]
  },
  {
   "cell_type": "code",
   "execution_count": 104,
   "metadata": {},
   "outputs": [
    {
     "data": {
      "text/html": [
       "<div>\n",
       "<style scoped>\n",
       "    .dataframe tbody tr th:only-of-type {\n",
       "        vertical-align: middle;\n",
       "    }\n",
       "\n",
       "    .dataframe tbody tr th {\n",
       "        vertical-align: top;\n",
       "    }\n",
       "\n",
       "    .dataframe thead th {\n",
       "        text-align: right;\n",
       "    }\n",
       "</style>\n",
       "<table border=\"1\" class=\"dataframe\">\n",
       "  <thead>\n",
       "    <tr style=\"text-align: right;\">\n",
       "      <th></th>\n",
       "      <th>cik</th>\n",
       "      <th>assetnumber</th>\n",
       "      <th>reportingperiodbeginningdate</th>\n",
       "      <th>reportingperiodendingdate</th>\n",
       "      <th>originationdate</th>\n",
       "      <th>originalloanamount</th>\n",
       "      <th>originalloanterm</th>\n",
       "      <th>originalinterestratepercentage</th>\n",
       "      <th>originalfirstpaymentdate</th>\n",
       "      <th>graceperiodnumber</th>\n",
       "      <th>...</th>\n",
       "      <th>credit_type_Credit Bureau</th>\n",
       "      <th>credit_type_FICO</th>\n",
       "      <th>credit_type_Credit Bureau Score</th>\n",
       "      <th>credit_type_FICO Score 8 Auto</th>\n",
       "      <th>credit_type_FICO Score 2 Auto</th>\n",
       "      <th>credit_type_CREDIT BUREAU</th>\n",
       "      <th>credit_type_Consumer Credit Bureau</th>\n",
       "      <th>credit_type_Commercial Bureau</th>\n",
       "      <th>credit_type_None</th>\n",
       "      <th>credit_type_Unknown/Invalid</th>\n",
       "    </tr>\n",
       "  </thead>\n",
       "  <tbody>\n",
       "    <tr>\n",
       "      <th>429806</th>\n",
       "      <td>1742444</td>\n",
       "      <td>1067258</td>\n",
       "      <td>2018-05-01</td>\n",
       "      <td>2018-05-31</td>\n",
       "      <td>2012-05-31</td>\n",
       "      <td>16217.08</td>\n",
       "      <td>72.0</td>\n",
       "      <td>0.2400</td>\n",
       "      <td>2012-06-30</td>\n",
       "      <td>1.0</td>\n",
       "      <td>...</td>\n",
       "      <td>0</td>\n",
       "      <td>0</td>\n",
       "      <td>0</td>\n",
       "      <td>0</td>\n",
       "      <td>0</td>\n",
       "      <td>0</td>\n",
       "      <td>0</td>\n",
       "      <td>0</td>\n",
       "      <td>0</td>\n",
       "      <td>0</td>\n",
       "    </tr>\n",
       "    <tr>\n",
       "      <th>429814</th>\n",
       "      <td>1742444</td>\n",
       "      <td>10696264</td>\n",
       "      <td>2018-05-01</td>\n",
       "      <td>2018-05-31</td>\n",
       "      <td>2014-08-31</td>\n",
       "      <td>13076.00</td>\n",
       "      <td>72.0</td>\n",
       "      <td>0.2500</td>\n",
       "      <td>2014-10-31</td>\n",
       "      <td>2.0</td>\n",
       "      <td>...</td>\n",
       "      <td>0</td>\n",
       "      <td>0</td>\n",
       "      <td>0</td>\n",
       "      <td>0</td>\n",
       "      <td>0</td>\n",
       "      <td>0</td>\n",
       "      <td>0</td>\n",
       "      <td>0</td>\n",
       "      <td>0</td>\n",
       "      <td>0</td>\n",
       "    </tr>\n",
       "    <tr>\n",
       "      <th>429819</th>\n",
       "      <td>1742444</td>\n",
       "      <td>1072213</td>\n",
       "      <td>2018-05-01</td>\n",
       "      <td>2018-05-31</td>\n",
       "      <td>2012-05-31</td>\n",
       "      <td>20067.63</td>\n",
       "      <td>72.0</td>\n",
       "      <td>0.1900</td>\n",
       "      <td>2012-06-30</td>\n",
       "      <td>1.0</td>\n",
       "      <td>...</td>\n",
       "      <td>0</td>\n",
       "      <td>0</td>\n",
       "      <td>0</td>\n",
       "      <td>0</td>\n",
       "      <td>0</td>\n",
       "      <td>0</td>\n",
       "      <td>0</td>\n",
       "      <td>0</td>\n",
       "      <td>0</td>\n",
       "      <td>0</td>\n",
       "    </tr>\n",
       "    <tr>\n",
       "      <th>429823</th>\n",
       "      <td>1742444</td>\n",
       "      <td>1079219</td>\n",
       "      <td>2018-05-01</td>\n",
       "      <td>2018-05-31</td>\n",
       "      <td>2012-04-30</td>\n",
       "      <td>34999.45</td>\n",
       "      <td>72.0</td>\n",
       "      <td>0.1800</td>\n",
       "      <td>2012-06-30</td>\n",
       "      <td>2.0</td>\n",
       "      <td>...</td>\n",
       "      <td>0</td>\n",
       "      <td>0</td>\n",
       "      <td>0</td>\n",
       "      <td>0</td>\n",
       "      <td>0</td>\n",
       "      <td>0</td>\n",
       "      <td>0</td>\n",
       "      <td>0</td>\n",
       "      <td>0</td>\n",
       "      <td>0</td>\n",
       "    </tr>\n",
       "    <tr>\n",
       "      <th>429887</th>\n",
       "      <td>1742444</td>\n",
       "      <td>1278848</td>\n",
       "      <td>2018-05-01</td>\n",
       "      <td>2018-05-31</td>\n",
       "      <td>2012-05-31</td>\n",
       "      <td>12705.55</td>\n",
       "      <td>72.0</td>\n",
       "      <td>0.1800</td>\n",
       "      <td>2012-07-31</td>\n",
       "      <td>2.0</td>\n",
       "      <td>...</td>\n",
       "      <td>0</td>\n",
       "      <td>0</td>\n",
       "      <td>0</td>\n",
       "      <td>0</td>\n",
       "      <td>0</td>\n",
       "      <td>0</td>\n",
       "      <td>0</td>\n",
       "      <td>0</td>\n",
       "      <td>0</td>\n",
       "      <td>0</td>\n",
       "    </tr>\n",
       "    <tr>\n",
       "      <th>429896</th>\n",
       "      <td>1742444</td>\n",
       "      <td>12970837</td>\n",
       "      <td>2018-05-01</td>\n",
       "      <td>2018-05-31</td>\n",
       "      <td>2015-06-30</td>\n",
       "      <td>16574.42</td>\n",
       "      <td>60.0</td>\n",
       "      <td>0.1019</td>\n",
       "      <td>2015-07-31</td>\n",
       "      <td>1.0</td>\n",
       "      <td>...</td>\n",
       "      <td>0</td>\n",
       "      <td>0</td>\n",
       "      <td>0</td>\n",
       "      <td>0</td>\n",
       "      <td>0</td>\n",
       "      <td>0</td>\n",
       "      <td>0</td>\n",
       "      <td>0</td>\n",
       "      <td>0</td>\n",
       "      <td>0</td>\n",
       "    </tr>\n",
       "    <tr>\n",
       "      <th>429937</th>\n",
       "      <td>1742444</td>\n",
       "      <td>1417786</td>\n",
       "      <td>2018-05-01</td>\n",
       "      <td>2018-05-31</td>\n",
       "      <td>2012-06-30</td>\n",
       "      <td>16829.64</td>\n",
       "      <td>72.0</td>\n",
       "      <td>0.2599</td>\n",
       "      <td>2012-08-31</td>\n",
       "      <td>2.0</td>\n",
       "      <td>...</td>\n",
       "      <td>0</td>\n",
       "      <td>0</td>\n",
       "      <td>0</td>\n",
       "      <td>0</td>\n",
       "      <td>0</td>\n",
       "      <td>0</td>\n",
       "      <td>0</td>\n",
       "      <td>0</td>\n",
       "      <td>0</td>\n",
       "      <td>0</td>\n",
       "    </tr>\n",
       "    <tr>\n",
       "      <th>429943</th>\n",
       "      <td>1742444</td>\n",
       "      <td>14226666</td>\n",
       "      <td>2018-05-01</td>\n",
       "      <td>2018-05-31</td>\n",
       "      <td>2015-09-30</td>\n",
       "      <td>16739.42</td>\n",
       "      <td>72.0</td>\n",
       "      <td>0.2400</td>\n",
       "      <td>2015-11-30</td>\n",
       "      <td>2.0</td>\n",
       "      <td>...</td>\n",
       "      <td>0</td>\n",
       "      <td>0</td>\n",
       "      <td>0</td>\n",
       "      <td>0</td>\n",
       "      <td>0</td>\n",
       "      <td>0</td>\n",
       "      <td>0</td>\n",
       "      <td>0</td>\n",
       "      <td>0</td>\n",
       "      <td>0</td>\n",
       "    </tr>\n",
       "    <tr>\n",
       "      <th>429983</th>\n",
       "      <td>1742444</td>\n",
       "      <td>14675421</td>\n",
       "      <td>2018-05-01</td>\n",
       "      <td>2018-05-31</td>\n",
       "      <td>2015-12-31</td>\n",
       "      <td>18447.68</td>\n",
       "      <td>72.0</td>\n",
       "      <td>0.1678</td>\n",
       "      <td>2016-01-31</td>\n",
       "      <td>1.0</td>\n",
       "      <td>...</td>\n",
       "      <td>0</td>\n",
       "      <td>0</td>\n",
       "      <td>0</td>\n",
       "      <td>0</td>\n",
       "      <td>0</td>\n",
       "      <td>0</td>\n",
       "      <td>0</td>\n",
       "      <td>0</td>\n",
       "      <td>0</td>\n",
       "      <td>0</td>\n",
       "    </tr>\n",
       "    <tr>\n",
       "      <th>429992</th>\n",
       "      <td>1742444</td>\n",
       "      <td>14802288</td>\n",
       "      <td>2018-05-01</td>\n",
       "      <td>2018-05-31</td>\n",
       "      <td>2015-12-31</td>\n",
       "      <td>15485.00</td>\n",
       "      <td>72.0</td>\n",
       "      <td>0.1823</td>\n",
       "      <td>2016-01-31</td>\n",
       "      <td>1.0</td>\n",
       "      <td>...</td>\n",
       "      <td>0</td>\n",
       "      <td>0</td>\n",
       "      <td>0</td>\n",
       "      <td>0</td>\n",
       "      <td>0</td>\n",
       "      <td>0</td>\n",
       "      <td>0</td>\n",
       "      <td>0</td>\n",
       "      <td>0</td>\n",
       "      <td>0</td>\n",
       "    </tr>\n",
       "    <tr>\n",
       "      <th>430005</th>\n",
       "      <td>1742444</td>\n",
       "      <td>14954640</td>\n",
       "      <td>2018-05-01</td>\n",
       "      <td>2018-05-31</td>\n",
       "      <td>2016-01-31</td>\n",
       "      <td>18132.46</td>\n",
       "      <td>72.0</td>\n",
       "      <td>0.1678</td>\n",
       "      <td>2016-03-31</td>\n",
       "      <td>2.0</td>\n",
       "      <td>...</td>\n",
       "      <td>0</td>\n",
       "      <td>0</td>\n",
       "      <td>0</td>\n",
       "      <td>0</td>\n",
       "      <td>0</td>\n",
       "      <td>0</td>\n",
       "      <td>0</td>\n",
       "      <td>0</td>\n",
       "      <td>0</td>\n",
       "      <td>0</td>\n",
       "    </tr>\n",
       "    <tr>\n",
       "      <th>430018</th>\n",
       "      <td>1742444</td>\n",
       "      <td>15008616</td>\n",
       "      <td>2018-05-01</td>\n",
       "      <td>2018-05-31</td>\n",
       "      <td>2016-02-29</td>\n",
       "      <td>26034.15</td>\n",
       "      <td>72.0</td>\n",
       "      <td>0.1390</td>\n",
       "      <td>2016-03-31</td>\n",
       "      <td>1.0</td>\n",
       "      <td>...</td>\n",
       "      <td>0</td>\n",
       "      <td>0</td>\n",
       "      <td>0</td>\n",
       "      <td>0</td>\n",
       "      <td>0</td>\n",
       "      <td>0</td>\n",
       "      <td>0</td>\n",
       "      <td>0</td>\n",
       "      <td>0</td>\n",
       "      <td>0</td>\n",
       "    </tr>\n",
       "    <tr>\n",
       "      <th>430025</th>\n",
       "      <td>1742444</td>\n",
       "      <td>15022738</td>\n",
       "      <td>2018-05-01</td>\n",
       "      <td>2018-05-31</td>\n",
       "      <td>2016-02-29</td>\n",
       "      <td>21111.14</td>\n",
       "      <td>72.0</td>\n",
       "      <td>0.1800</td>\n",
       "      <td>2016-04-30</td>\n",
       "      <td>2.0</td>\n",
       "      <td>...</td>\n",
       "      <td>0</td>\n",
       "      <td>0</td>\n",
       "      <td>0</td>\n",
       "      <td>0</td>\n",
       "      <td>0</td>\n",
       "      <td>0</td>\n",
       "      <td>0</td>\n",
       "      <td>0</td>\n",
       "      <td>0</td>\n",
       "      <td>0</td>\n",
       "    </tr>\n",
       "    <tr>\n",
       "      <th>430043</th>\n",
       "      <td>1742444</td>\n",
       "      <td>15035128</td>\n",
       "      <td>2018-05-01</td>\n",
       "      <td>2018-05-31</td>\n",
       "      <td>2016-02-29</td>\n",
       "      <td>15874.42</td>\n",
       "      <td>72.0</td>\n",
       "      <td>0.1800</td>\n",
       "      <td>2016-04-30</td>\n",
       "      <td>2.0</td>\n",
       "      <td>...</td>\n",
       "      <td>0</td>\n",
       "      <td>0</td>\n",
       "      <td>0</td>\n",
       "      <td>0</td>\n",
       "      <td>0</td>\n",
       "      <td>0</td>\n",
       "      <td>0</td>\n",
       "      <td>0</td>\n",
       "      <td>0</td>\n",
       "      <td>0</td>\n",
       "    </tr>\n",
       "    <tr>\n",
       "      <th>430049</th>\n",
       "      <td>1742444</td>\n",
       "      <td>1505500</td>\n",
       "      <td>2018-05-01</td>\n",
       "      <td>2018-05-31</td>\n",
       "      <td>2012-07-31</td>\n",
       "      <td>14450.40</td>\n",
       "      <td>72.0</td>\n",
       "      <td>0.1800</td>\n",
       "      <td>2012-08-31</td>\n",
       "      <td>1.0</td>\n",
       "      <td>...</td>\n",
       "      <td>0</td>\n",
       "      <td>0</td>\n",
       "      <td>0</td>\n",
       "      <td>0</td>\n",
       "      <td>0</td>\n",
       "      <td>0</td>\n",
       "      <td>0</td>\n",
       "      <td>0</td>\n",
       "      <td>0</td>\n",
       "      <td>0</td>\n",
       "    </tr>\n",
       "    <tr>\n",
       "      <th>430052</th>\n",
       "      <td>1742444</td>\n",
       "      <td>15057363</td>\n",
       "      <td>2018-05-01</td>\n",
       "      <td>2018-05-31</td>\n",
       "      <td>2016-02-29</td>\n",
       "      <td>11262.36</td>\n",
       "      <td>72.0</td>\n",
       "      <td>0.1799</td>\n",
       "      <td>2016-03-31</td>\n",
       "      <td>1.0</td>\n",
       "      <td>...</td>\n",
       "      <td>0</td>\n",
       "      <td>0</td>\n",
       "      <td>0</td>\n",
       "      <td>0</td>\n",
       "      <td>0</td>\n",
       "      <td>0</td>\n",
       "      <td>0</td>\n",
       "      <td>0</td>\n",
       "      <td>0</td>\n",
       "      <td>0</td>\n",
       "    </tr>\n",
       "    <tr>\n",
       "      <th>430065</th>\n",
       "      <td>1742444</td>\n",
       "      <td>15054755</td>\n",
       "      <td>2018-05-01</td>\n",
       "      <td>2018-05-31</td>\n",
       "      <td>2016-02-29</td>\n",
       "      <td>9290.93</td>\n",
       "      <td>72.0</td>\n",
       "      <td>0.2273</td>\n",
       "      <td>2016-04-30</td>\n",
       "      <td>2.0</td>\n",
       "      <td>...</td>\n",
       "      <td>0</td>\n",
       "      <td>0</td>\n",
       "      <td>0</td>\n",
       "      <td>0</td>\n",
       "      <td>0</td>\n",
       "      <td>0</td>\n",
       "      <td>0</td>\n",
       "      <td>0</td>\n",
       "      <td>0</td>\n",
       "      <td>0</td>\n",
       "    </tr>\n",
       "    <tr>\n",
       "      <th>430091</th>\n",
       "      <td>1742444</td>\n",
       "      <td>1695599</td>\n",
       "      <td>2018-05-01</td>\n",
       "      <td>2018-05-31</td>\n",
       "      <td>2012-07-31</td>\n",
       "      <td>12071.88</td>\n",
       "      <td>72.0</td>\n",
       "      <td>0.2499</td>\n",
       "      <td>2012-08-31</td>\n",
       "      <td>1.0</td>\n",
       "      <td>...</td>\n",
       "      <td>0</td>\n",
       "      <td>0</td>\n",
       "      <td>0</td>\n",
       "      <td>0</td>\n",
       "      <td>0</td>\n",
       "      <td>0</td>\n",
       "      <td>0</td>\n",
       "      <td>0</td>\n",
       "      <td>0</td>\n",
       "      <td>0</td>\n",
       "    </tr>\n",
       "    <tr>\n",
       "      <th>430115</th>\n",
       "      <td>1742444</td>\n",
       "      <td>1825453</td>\n",
       "      <td>2018-05-01</td>\n",
       "      <td>2018-05-31</td>\n",
       "      <td>2012-07-31</td>\n",
       "      <td>21397.03</td>\n",
       "      <td>72.0</td>\n",
       "      <td>0.1678</td>\n",
       "      <td>2012-09-30</td>\n",
       "      <td>2.0</td>\n",
       "      <td>...</td>\n",
       "      <td>0</td>\n",
       "      <td>0</td>\n",
       "      <td>0</td>\n",
       "      <td>0</td>\n",
       "      <td>0</td>\n",
       "      <td>0</td>\n",
       "      <td>0</td>\n",
       "      <td>0</td>\n",
       "      <td>0</td>\n",
       "      <td>0</td>\n",
       "    </tr>\n",
       "    <tr>\n",
       "      <th>430118</th>\n",
       "      <td>1742444</td>\n",
       "      <td>1851166</td>\n",
       "      <td>2018-05-01</td>\n",
       "      <td>2018-05-31</td>\n",
       "      <td>2012-08-31</td>\n",
       "      <td>12404.88</td>\n",
       "      <td>72.0</td>\n",
       "      <td>0.2400</td>\n",
       "      <td>2012-10-31</td>\n",
       "      <td>2.0</td>\n",
       "      <td>...</td>\n",
       "      <td>0</td>\n",
       "      <td>0</td>\n",
       "      <td>0</td>\n",
       "      <td>0</td>\n",
       "      <td>0</td>\n",
       "      <td>0</td>\n",
       "      <td>0</td>\n",
       "      <td>0</td>\n",
       "      <td>0</td>\n",
       "      <td>0</td>\n",
       "    </tr>\n",
       "    <tr>\n",
       "      <th>430140</th>\n",
       "      <td>1742444</td>\n",
       "      <td>196095</td>\n",
       "      <td>2018-05-01</td>\n",
       "      <td>2018-05-31</td>\n",
       "      <td>2012-01-31</td>\n",
       "      <td>16115.43</td>\n",
       "      <td>72.0</td>\n",
       "      <td>0.2199</td>\n",
       "      <td>2012-02-29</td>\n",
       "      <td>1.0</td>\n",
       "      <td>...</td>\n",
       "      <td>0</td>\n",
       "      <td>0</td>\n",
       "      <td>0</td>\n",
       "      <td>0</td>\n",
       "      <td>0</td>\n",
       "      <td>0</td>\n",
       "      <td>0</td>\n",
       "      <td>0</td>\n",
       "      <td>0</td>\n",
       "      <td>0</td>\n",
       "    </tr>\n",
       "    <tr>\n",
       "      <th>430143</th>\n",
       "      <td>1742444</td>\n",
       "      <td>1971201</td>\n",
       "      <td>2018-05-01</td>\n",
       "      <td>2018-05-31</td>\n",
       "      <td>2012-08-31</td>\n",
       "      <td>16999.99</td>\n",
       "      <td>72.0</td>\n",
       "      <td>0.2599</td>\n",
       "      <td>2012-10-31</td>\n",
       "      <td>2.0</td>\n",
       "      <td>...</td>\n",
       "      <td>0</td>\n",
       "      <td>0</td>\n",
       "      <td>0</td>\n",
       "      <td>0</td>\n",
       "      <td>0</td>\n",
       "      <td>0</td>\n",
       "      <td>0</td>\n",
       "      <td>0</td>\n",
       "      <td>0</td>\n",
       "      <td>0</td>\n",
       "    </tr>\n",
       "    <tr>\n",
       "      <th>430193</th>\n",
       "      <td>1742444</td>\n",
       "      <td>254587</td>\n",
       "      <td>2018-05-01</td>\n",
       "      <td>2018-05-31</td>\n",
       "      <td>2012-01-31</td>\n",
       "      <td>21532.85</td>\n",
       "      <td>72.0</td>\n",
       "      <td>0.1999</td>\n",
       "      <td>2012-03-31</td>\n",
       "      <td>2.0</td>\n",
       "      <td>...</td>\n",
       "      <td>0</td>\n",
       "      <td>0</td>\n",
       "      <td>0</td>\n",
       "      <td>0</td>\n",
       "      <td>0</td>\n",
       "      <td>0</td>\n",
       "      <td>0</td>\n",
       "      <td>0</td>\n",
       "      <td>0</td>\n",
       "      <td>0</td>\n",
       "    </tr>\n",
       "    <tr>\n",
       "      <th>430200</th>\n",
       "      <td>1742444</td>\n",
       "      <td>311336</td>\n",
       "      <td>2018-05-01</td>\n",
       "      <td>2018-05-31</td>\n",
       "      <td>2012-02-29</td>\n",
       "      <td>16891.09</td>\n",
       "      <td>72.0</td>\n",
       "      <td>0.1800</td>\n",
       "      <td>2012-03-31</td>\n",
       "      <td>1.0</td>\n",
       "      <td>...</td>\n",
       "      <td>0</td>\n",
       "      <td>0</td>\n",
       "      <td>0</td>\n",
       "      <td>0</td>\n",
       "      <td>0</td>\n",
       "      <td>0</td>\n",
       "      <td>0</td>\n",
       "      <td>0</td>\n",
       "      <td>0</td>\n",
       "      <td>0</td>\n",
       "    </tr>\n",
       "    <tr>\n",
       "      <th>430207</th>\n",
       "      <td>1742444</td>\n",
       "      <td>351778</td>\n",
       "      <td>2018-05-01</td>\n",
       "      <td>2018-05-31</td>\n",
       "      <td>2012-02-29</td>\n",
       "      <td>23266.54</td>\n",
       "      <td>72.0</td>\n",
       "      <td>0.2499</td>\n",
       "      <td>2012-03-31</td>\n",
       "      <td>1.0</td>\n",
       "      <td>...</td>\n",
       "      <td>0</td>\n",
       "      <td>0</td>\n",
       "      <td>0</td>\n",
       "      <td>0</td>\n",
       "      <td>0</td>\n",
       "      <td>0</td>\n",
       "      <td>0</td>\n",
       "      <td>0</td>\n",
       "      <td>0</td>\n",
       "      <td>0</td>\n",
       "    </tr>\n",
       "    <tr>\n",
       "      <th>430209</th>\n",
       "      <td>1742444</td>\n",
       "      <td>362713</td>\n",
       "      <td>2018-05-01</td>\n",
       "      <td>2018-05-31</td>\n",
       "      <td>2012-02-29</td>\n",
       "      <td>12905.60</td>\n",
       "      <td>72.0</td>\n",
       "      <td>0.2599</td>\n",
       "      <td>2012-03-31</td>\n",
       "      <td>1.0</td>\n",
       "      <td>...</td>\n",
       "      <td>0</td>\n",
       "      <td>0</td>\n",
       "      <td>0</td>\n",
       "      <td>0</td>\n",
       "      <td>0</td>\n",
       "      <td>0</td>\n",
       "      <td>0</td>\n",
       "      <td>0</td>\n",
       "      <td>0</td>\n",
       "      <td>0</td>\n",
       "    </tr>\n",
       "    <tr>\n",
       "      <th>430235</th>\n",
       "      <td>1742444</td>\n",
       "      <td>3995211</td>\n",
       "      <td>2018-05-01</td>\n",
       "      <td>2018-05-31</td>\n",
       "      <td>2012-09-30</td>\n",
       "      <td>20739.75</td>\n",
       "      <td>72.0</td>\n",
       "      <td>0.1800</td>\n",
       "      <td>2012-10-31</td>\n",
       "      <td>1.0</td>\n",
       "      <td>...</td>\n",
       "      <td>0</td>\n",
       "      <td>0</td>\n",
       "      <td>0</td>\n",
       "      <td>0</td>\n",
       "      <td>0</td>\n",
       "      <td>0</td>\n",
       "      <td>0</td>\n",
       "      <td>0</td>\n",
       "      <td>0</td>\n",
       "      <td>0</td>\n",
       "    </tr>\n",
       "    <tr>\n",
       "      <th>430258</th>\n",
       "      <td>1742444</td>\n",
       "      <td>4050899</td>\n",
       "      <td>2018-05-01</td>\n",
       "      <td>2018-05-31</td>\n",
       "      <td>2012-10-31</td>\n",
       "      <td>15906.32</td>\n",
       "      <td>72.0</td>\n",
       "      <td>0.2381</td>\n",
       "      <td>2012-11-30</td>\n",
       "      <td>1.0</td>\n",
       "      <td>...</td>\n",
       "      <td>0</td>\n",
       "      <td>0</td>\n",
       "      <td>0</td>\n",
       "      <td>0</td>\n",
       "      <td>0</td>\n",
       "      <td>0</td>\n",
       "      <td>0</td>\n",
       "      <td>0</td>\n",
       "      <td>0</td>\n",
       "      <td>0</td>\n",
       "    </tr>\n",
       "    <tr>\n",
       "      <th>430264</th>\n",
       "      <td>1742444</td>\n",
       "      <td>4042623</td>\n",
       "      <td>2018-05-01</td>\n",
       "      <td>2018-05-31</td>\n",
       "      <td>2012-10-31</td>\n",
       "      <td>17964.00</td>\n",
       "      <td>72.0</td>\n",
       "      <td>0.1800</td>\n",
       "      <td>2012-11-30</td>\n",
       "      <td>1.0</td>\n",
       "      <td>...</td>\n",
       "      <td>0</td>\n",
       "      <td>0</td>\n",
       "      <td>0</td>\n",
       "      <td>0</td>\n",
       "      <td>0</td>\n",
       "      <td>0</td>\n",
       "      <td>0</td>\n",
       "      <td>0</td>\n",
       "      <td>0</td>\n",
       "      <td>0</td>\n",
       "    </tr>\n",
       "    <tr>\n",
       "      <th>430313</th>\n",
       "      <td>1742444</td>\n",
       "      <td>417214</td>\n",
       "      <td>2018-05-01</td>\n",
       "      <td>2018-05-31</td>\n",
       "      <td>2012-02-29</td>\n",
       "      <td>9749.50</td>\n",
       "      <td>72.0</td>\n",
       "      <td>0.2599</td>\n",
       "      <td>2012-03-31</td>\n",
       "      <td>1.0</td>\n",
       "      <td>...</td>\n",
       "      <td>0</td>\n",
       "      <td>0</td>\n",
       "      <td>0</td>\n",
       "      <td>0</td>\n",
       "      <td>0</td>\n",
       "      <td>0</td>\n",
       "      <td>0</td>\n",
       "      <td>0</td>\n",
       "      <td>0</td>\n",
       "      <td>0</td>\n",
       "    </tr>\n",
       "    <tr>\n",
       "      <th>...</th>\n",
       "      <td>...</td>\n",
       "      <td>...</td>\n",
       "      <td>...</td>\n",
       "      <td>...</td>\n",
       "      <td>...</td>\n",
       "      <td>...</td>\n",
       "      <td>...</td>\n",
       "      <td>...</td>\n",
       "      <td>...</td>\n",
       "      <td>...</td>\n",
       "      <td>...</td>\n",
       "      <td>...</td>\n",
       "      <td>...</td>\n",
       "      <td>...</td>\n",
       "      <td>...</td>\n",
       "      <td>...</td>\n",
       "      <td>...</td>\n",
       "      <td>...</td>\n",
       "      <td>...</td>\n",
       "      <td>...</td>\n",
       "      <td>...</td>\n",
       "    </tr>\n",
       "    <tr>\n",
       "      <th>16467949</th>\n",
       "      <td>1748011</td>\n",
       "      <td>18754050</td>\n",
       "      <td>2018-09-01</td>\n",
       "      <td>2018-09-30</td>\n",
       "      <td>2018-06-30</td>\n",
       "      <td>16064.50</td>\n",
       "      <td>72.0</td>\n",
       "      <td>0.2799</td>\n",
       "      <td>2018-08-31</td>\n",
       "      <td>2.0</td>\n",
       "      <td>...</td>\n",
       "      <td>0</td>\n",
       "      <td>0</td>\n",
       "      <td>0</td>\n",
       "      <td>0</td>\n",
       "      <td>0</td>\n",
       "      <td>0</td>\n",
       "      <td>0</td>\n",
       "      <td>0</td>\n",
       "      <td>0</td>\n",
       "      <td>0</td>\n",
       "    </tr>\n",
       "    <tr>\n",
       "      <th>16467952</th>\n",
       "      <td>1748011</td>\n",
       "      <td>18816353</td>\n",
       "      <td>2018-09-01</td>\n",
       "      <td>2018-09-30</td>\n",
       "      <td>2018-07-31</td>\n",
       "      <td>17602.91</td>\n",
       "      <td>72.0</td>\n",
       "      <td>0.1770</td>\n",
       "      <td>2018-08-31</td>\n",
       "      <td>1.0</td>\n",
       "      <td>...</td>\n",
       "      <td>0</td>\n",
       "      <td>0</td>\n",
       "      <td>0</td>\n",
       "      <td>0</td>\n",
       "      <td>0</td>\n",
       "      <td>0</td>\n",
       "      <td>0</td>\n",
       "      <td>0</td>\n",
       "      <td>0</td>\n",
       "      <td>0</td>\n",
       "    </tr>\n",
       "    <tr>\n",
       "      <th>16467954</th>\n",
       "      <td>1748011</td>\n",
       "      <td>18754052</td>\n",
       "      <td>2018-09-01</td>\n",
       "      <td>2018-09-30</td>\n",
       "      <td>2018-06-30</td>\n",
       "      <td>23764.16</td>\n",
       "      <td>72.0</td>\n",
       "      <td>0.1842</td>\n",
       "      <td>2018-08-31</td>\n",
       "      <td>2.0</td>\n",
       "      <td>...</td>\n",
       "      <td>0</td>\n",
       "      <td>0</td>\n",
       "      <td>0</td>\n",
       "      <td>0</td>\n",
       "      <td>0</td>\n",
       "      <td>0</td>\n",
       "      <td>0</td>\n",
       "      <td>0</td>\n",
       "      <td>0</td>\n",
       "      <td>0</td>\n",
       "    </tr>\n",
       "    <tr>\n",
       "      <th>16467959</th>\n",
       "      <td>1748011</td>\n",
       "      <td>18752736</td>\n",
       "      <td>2018-09-01</td>\n",
       "      <td>2018-09-30</td>\n",
       "      <td>2018-06-30</td>\n",
       "      <td>14495.80</td>\n",
       "      <td>72.0</td>\n",
       "      <td>0.1800</td>\n",
       "      <td>2018-08-31</td>\n",
       "      <td>2.0</td>\n",
       "      <td>...</td>\n",
       "      <td>0</td>\n",
       "      <td>0</td>\n",
       "      <td>0</td>\n",
       "      <td>0</td>\n",
       "      <td>0</td>\n",
       "      <td>0</td>\n",
       "      <td>0</td>\n",
       "      <td>0</td>\n",
       "      <td>0</td>\n",
       "      <td>0</td>\n",
       "    </tr>\n",
       "    <tr>\n",
       "      <th>16467962</th>\n",
       "      <td>1748011</td>\n",
       "      <td>18752725</td>\n",
       "      <td>2018-09-01</td>\n",
       "      <td>2018-09-30</td>\n",
       "      <td>2018-06-30</td>\n",
       "      <td>15155.78</td>\n",
       "      <td>60.0</td>\n",
       "      <td>0.2317</td>\n",
       "      <td>2018-08-31</td>\n",
       "      <td>2.0</td>\n",
       "      <td>...</td>\n",
       "      <td>0</td>\n",
       "      <td>0</td>\n",
       "      <td>0</td>\n",
       "      <td>0</td>\n",
       "      <td>0</td>\n",
       "      <td>0</td>\n",
       "      <td>0</td>\n",
       "      <td>0</td>\n",
       "      <td>0</td>\n",
       "      <td>0</td>\n",
       "    </tr>\n",
       "    <tr>\n",
       "      <th>16467964</th>\n",
       "      <td>1748011</td>\n",
       "      <td>18752719</td>\n",
       "      <td>2018-09-01</td>\n",
       "      <td>2018-09-30</td>\n",
       "      <td>2018-06-30</td>\n",
       "      <td>20001.00</td>\n",
       "      <td>72.0</td>\n",
       "      <td>0.2779</td>\n",
       "      <td>2018-07-31</td>\n",
       "      <td>1.0</td>\n",
       "      <td>...</td>\n",
       "      <td>0</td>\n",
       "      <td>0</td>\n",
       "      <td>0</td>\n",
       "      <td>0</td>\n",
       "      <td>0</td>\n",
       "      <td>0</td>\n",
       "      <td>0</td>\n",
       "      <td>0</td>\n",
       "      <td>0</td>\n",
       "      <td>0</td>\n",
       "    </tr>\n",
       "    <tr>\n",
       "      <th>16467979</th>\n",
       "      <td>1748011</td>\n",
       "      <td>18817577</td>\n",
       "      <td>2018-09-01</td>\n",
       "      <td>2018-09-30</td>\n",
       "      <td>2018-07-31</td>\n",
       "      <td>17946.67</td>\n",
       "      <td>72.0</td>\n",
       "      <td>0.2381</td>\n",
       "      <td>2018-08-31</td>\n",
       "      <td>1.0</td>\n",
       "      <td>...</td>\n",
       "      <td>0</td>\n",
       "      <td>0</td>\n",
       "      <td>0</td>\n",
       "      <td>0</td>\n",
       "      <td>0</td>\n",
       "      <td>0</td>\n",
       "      <td>0</td>\n",
       "      <td>0</td>\n",
       "      <td>0</td>\n",
       "      <td>0</td>\n",
       "    </tr>\n",
       "    <tr>\n",
       "      <th>16467990</th>\n",
       "      <td>1748011</td>\n",
       "      <td>18753427</td>\n",
       "      <td>2018-09-01</td>\n",
       "      <td>2018-09-30</td>\n",
       "      <td>2018-06-30</td>\n",
       "      <td>12377.08</td>\n",
       "      <td>60.0</td>\n",
       "      <td>0.2193</td>\n",
       "      <td>2018-08-31</td>\n",
       "      <td>2.0</td>\n",
       "      <td>...</td>\n",
       "      <td>0</td>\n",
       "      <td>0</td>\n",
       "      <td>0</td>\n",
       "      <td>0</td>\n",
       "      <td>0</td>\n",
       "      <td>0</td>\n",
       "      <td>0</td>\n",
       "      <td>0</td>\n",
       "      <td>0</td>\n",
       "      <td>0</td>\n",
       "    </tr>\n",
       "    <tr>\n",
       "      <th>16467995</th>\n",
       "      <td>1748011</td>\n",
       "      <td>18753439</td>\n",
       "      <td>2018-09-01</td>\n",
       "      <td>2018-09-30</td>\n",
       "      <td>2018-06-30</td>\n",
       "      <td>11690.93</td>\n",
       "      <td>72.0</td>\n",
       "      <td>0.1823</td>\n",
       "      <td>2018-08-31</td>\n",
       "      <td>2.0</td>\n",
       "      <td>...</td>\n",
       "      <td>0</td>\n",
       "      <td>0</td>\n",
       "      <td>0</td>\n",
       "      <td>0</td>\n",
       "      <td>0</td>\n",
       "      <td>0</td>\n",
       "      <td>0</td>\n",
       "      <td>0</td>\n",
       "      <td>0</td>\n",
       "      <td>0</td>\n",
       "    </tr>\n",
       "    <tr>\n",
       "      <th>16468000</th>\n",
       "      <td>1748011</td>\n",
       "      <td>18822377</td>\n",
       "      <td>2018-09-01</td>\n",
       "      <td>2018-09-30</td>\n",
       "      <td>2018-07-31</td>\n",
       "      <td>16076.00</td>\n",
       "      <td>72.0</td>\n",
       "      <td>0.1799</td>\n",
       "      <td>2018-08-31</td>\n",
       "      <td>1.0</td>\n",
       "      <td>...</td>\n",
       "      <td>0</td>\n",
       "      <td>0</td>\n",
       "      <td>0</td>\n",
       "      <td>0</td>\n",
       "      <td>0</td>\n",
       "      <td>0</td>\n",
       "      <td>0</td>\n",
       "      <td>0</td>\n",
       "      <td>0</td>\n",
       "      <td>0</td>\n",
       "    </tr>\n",
       "    <tr>\n",
       "      <th>16468001</th>\n",
       "      <td>1748011</td>\n",
       "      <td>18753407</td>\n",
       "      <td>2018-09-01</td>\n",
       "      <td>2018-09-30</td>\n",
       "      <td>2018-06-30</td>\n",
       "      <td>12028.40</td>\n",
       "      <td>72.0</td>\n",
       "      <td>0.1564</td>\n",
       "      <td>2018-08-31</td>\n",
       "      <td>2.0</td>\n",
       "      <td>...</td>\n",
       "      <td>0</td>\n",
       "      <td>0</td>\n",
       "      <td>0</td>\n",
       "      <td>0</td>\n",
       "      <td>0</td>\n",
       "      <td>0</td>\n",
       "      <td>0</td>\n",
       "      <td>0</td>\n",
       "      <td>0</td>\n",
       "      <td>0</td>\n",
       "    </tr>\n",
       "    <tr>\n",
       "      <th>16468010</th>\n",
       "      <td>1748011</td>\n",
       "      <td>18822420</td>\n",
       "      <td>2018-09-01</td>\n",
       "      <td>2018-09-30</td>\n",
       "      <td>2018-07-31</td>\n",
       "      <td>19087.08</td>\n",
       "      <td>72.0</td>\n",
       "      <td>0.2508</td>\n",
       "      <td>2018-08-31</td>\n",
       "      <td>1.0</td>\n",
       "      <td>...</td>\n",
       "      <td>0</td>\n",
       "      <td>0</td>\n",
       "      <td>0</td>\n",
       "      <td>0</td>\n",
       "      <td>0</td>\n",
       "      <td>0</td>\n",
       "      <td>0</td>\n",
       "      <td>0</td>\n",
       "      <td>0</td>\n",
       "      <td>0</td>\n",
       "    </tr>\n",
       "    <tr>\n",
       "      <th>16468023</th>\n",
       "      <td>1748011</td>\n",
       "      <td>18823153</td>\n",
       "      <td>2018-09-01</td>\n",
       "      <td>2018-09-30</td>\n",
       "      <td>2018-07-31</td>\n",
       "      <td>11159.42</td>\n",
       "      <td>72.0</td>\n",
       "      <td>0.2226</td>\n",
       "      <td>2018-08-31</td>\n",
       "      <td>1.0</td>\n",
       "      <td>...</td>\n",
       "      <td>0</td>\n",
       "      <td>0</td>\n",
       "      <td>0</td>\n",
       "      <td>0</td>\n",
       "      <td>0</td>\n",
       "      <td>0</td>\n",
       "      <td>0</td>\n",
       "      <td>0</td>\n",
       "      <td>0</td>\n",
       "      <td>0</td>\n",
       "    </tr>\n",
       "    <tr>\n",
       "      <th>16468024</th>\n",
       "      <td>1748011</td>\n",
       "      <td>18753566</td>\n",
       "      <td>2018-09-01</td>\n",
       "      <td>2018-09-30</td>\n",
       "      <td>2018-06-30</td>\n",
       "      <td>14890.21</td>\n",
       "      <td>72.0</td>\n",
       "      <td>0.2500</td>\n",
       "      <td>2018-08-31</td>\n",
       "      <td>2.0</td>\n",
       "      <td>...</td>\n",
       "      <td>0</td>\n",
       "      <td>0</td>\n",
       "      <td>0</td>\n",
       "      <td>0</td>\n",
       "      <td>0</td>\n",
       "      <td>0</td>\n",
       "      <td>0</td>\n",
       "      <td>0</td>\n",
       "      <td>0</td>\n",
       "      <td>0</td>\n",
       "    </tr>\n",
       "    <tr>\n",
       "      <th>16468025</th>\n",
       "      <td>1748011</td>\n",
       "      <td>18753585</td>\n",
       "      <td>2018-09-01</td>\n",
       "      <td>2018-09-30</td>\n",
       "      <td>2018-06-30</td>\n",
       "      <td>10223.50</td>\n",
       "      <td>72.0</td>\n",
       "      <td>0.2100</td>\n",
       "      <td>2018-07-31</td>\n",
       "      <td>1.0</td>\n",
       "      <td>...</td>\n",
       "      <td>0</td>\n",
       "      <td>0</td>\n",
       "      <td>0</td>\n",
       "      <td>0</td>\n",
       "      <td>0</td>\n",
       "      <td>0</td>\n",
       "      <td>0</td>\n",
       "      <td>0</td>\n",
       "      <td>0</td>\n",
       "      <td>0</td>\n",
       "    </tr>\n",
       "    <tr>\n",
       "      <th>16468026</th>\n",
       "      <td>1748011</td>\n",
       "      <td>18753586</td>\n",
       "      <td>2018-09-01</td>\n",
       "      <td>2018-09-30</td>\n",
       "      <td>2018-06-30</td>\n",
       "      <td>14318.31</td>\n",
       "      <td>72.0</td>\n",
       "      <td>0.2289</td>\n",
       "      <td>2018-08-31</td>\n",
       "      <td>2.0</td>\n",
       "      <td>...</td>\n",
       "      <td>0</td>\n",
       "      <td>0</td>\n",
       "      <td>0</td>\n",
       "      <td>0</td>\n",
       "      <td>0</td>\n",
       "      <td>0</td>\n",
       "      <td>0</td>\n",
       "      <td>0</td>\n",
       "      <td>0</td>\n",
       "      <td>0</td>\n",
       "    </tr>\n",
       "    <tr>\n",
       "      <th>16468030</th>\n",
       "      <td>1748011</td>\n",
       "      <td>18753598</td>\n",
       "      <td>2018-09-01</td>\n",
       "      <td>2018-09-30</td>\n",
       "      <td>2018-06-30</td>\n",
       "      <td>7164.95</td>\n",
       "      <td>48.0</td>\n",
       "      <td>0.2100</td>\n",
       "      <td>2018-08-31</td>\n",
       "      <td>2.0</td>\n",
       "      <td>...</td>\n",
       "      <td>0</td>\n",
       "      <td>0</td>\n",
       "      <td>0</td>\n",
       "      <td>0</td>\n",
       "      <td>0</td>\n",
       "      <td>0</td>\n",
       "      <td>0</td>\n",
       "      <td>0</td>\n",
       "      <td>0</td>\n",
       "      <td>0</td>\n",
       "    </tr>\n",
       "    <tr>\n",
       "      <th>16468032</th>\n",
       "      <td>1748011</td>\n",
       "      <td>18753618</td>\n",
       "      <td>2018-09-01</td>\n",
       "      <td>2018-09-30</td>\n",
       "      <td>2018-06-30</td>\n",
       "      <td>12041.81</td>\n",
       "      <td>72.0</td>\n",
       "      <td>0.2799</td>\n",
       "      <td>2018-08-31</td>\n",
       "      <td>2.0</td>\n",
       "      <td>...</td>\n",
       "      <td>0</td>\n",
       "      <td>0</td>\n",
       "      <td>0</td>\n",
       "      <td>0</td>\n",
       "      <td>0</td>\n",
       "      <td>0</td>\n",
       "      <td>0</td>\n",
       "      <td>0</td>\n",
       "      <td>0</td>\n",
       "      <td>0</td>\n",
       "    </tr>\n",
       "    <tr>\n",
       "      <th>16468034</th>\n",
       "      <td>1748011</td>\n",
       "      <td>18753641</td>\n",
       "      <td>2018-09-01</td>\n",
       "      <td>2018-09-30</td>\n",
       "      <td>2018-06-30</td>\n",
       "      <td>14360.42</td>\n",
       "      <td>72.0</td>\n",
       "      <td>0.2202</td>\n",
       "      <td>2018-08-31</td>\n",
       "      <td>2.0</td>\n",
       "      <td>...</td>\n",
       "      <td>0</td>\n",
       "      <td>0</td>\n",
       "      <td>0</td>\n",
       "      <td>0</td>\n",
       "      <td>0</td>\n",
       "      <td>0</td>\n",
       "      <td>0</td>\n",
       "      <td>0</td>\n",
       "      <td>0</td>\n",
       "      <td>0</td>\n",
       "    </tr>\n",
       "    <tr>\n",
       "      <th>16468044</th>\n",
       "      <td>1748011</td>\n",
       "      <td>18752180</td>\n",
       "      <td>2018-09-01</td>\n",
       "      <td>2018-09-30</td>\n",
       "      <td>2018-06-30</td>\n",
       "      <td>8515.00</td>\n",
       "      <td>72.0</td>\n",
       "      <td>0.2707</td>\n",
       "      <td>2018-08-31</td>\n",
       "      <td>2.0</td>\n",
       "      <td>...</td>\n",
       "      <td>0</td>\n",
       "      <td>0</td>\n",
       "      <td>0</td>\n",
       "      <td>0</td>\n",
       "      <td>0</td>\n",
       "      <td>0</td>\n",
       "      <td>0</td>\n",
       "      <td>0</td>\n",
       "      <td>0</td>\n",
       "      <td>0</td>\n",
       "    </tr>\n",
       "    <tr>\n",
       "      <th>16468045</th>\n",
       "      <td>1748011</td>\n",
       "      <td>18823358</td>\n",
       "      <td>2018-09-01</td>\n",
       "      <td>2018-09-30</td>\n",
       "      <td>2018-07-31</td>\n",
       "      <td>9799.32</td>\n",
       "      <td>48.0</td>\n",
       "      <td>0.1937</td>\n",
       "      <td>2018-08-31</td>\n",
       "      <td>1.0</td>\n",
       "      <td>...</td>\n",
       "      <td>0</td>\n",
       "      <td>0</td>\n",
       "      <td>0</td>\n",
       "      <td>0</td>\n",
       "      <td>0</td>\n",
       "      <td>0</td>\n",
       "      <td>0</td>\n",
       "      <td>0</td>\n",
       "      <td>0</td>\n",
       "      <td>0</td>\n",
       "    </tr>\n",
       "    <tr>\n",
       "      <th>16468048</th>\n",
       "      <td>1748011</td>\n",
       "      <td>18753892</td>\n",
       "      <td>2018-09-01</td>\n",
       "      <td>2018-09-30</td>\n",
       "      <td>2018-06-30</td>\n",
       "      <td>14062.47</td>\n",
       "      <td>72.0</td>\n",
       "      <td>0.2000</td>\n",
       "      <td>2018-08-31</td>\n",
       "      <td>2.0</td>\n",
       "      <td>...</td>\n",
       "      <td>0</td>\n",
       "      <td>0</td>\n",
       "      <td>0</td>\n",
       "      <td>0</td>\n",
       "      <td>0</td>\n",
       "      <td>0</td>\n",
       "      <td>0</td>\n",
       "      <td>0</td>\n",
       "      <td>0</td>\n",
       "      <td>0</td>\n",
       "    </tr>\n",
       "    <tr>\n",
       "      <th>16468049</th>\n",
       "      <td>1748011</td>\n",
       "      <td>18753910</td>\n",
       "      <td>2018-09-01</td>\n",
       "      <td>2018-09-30</td>\n",
       "      <td>2018-06-30</td>\n",
       "      <td>13407.12</td>\n",
       "      <td>72.0</td>\n",
       "      <td>0.2400</td>\n",
       "      <td>2018-08-31</td>\n",
       "      <td>2.0</td>\n",
       "      <td>...</td>\n",
       "      <td>0</td>\n",
       "      <td>0</td>\n",
       "      <td>0</td>\n",
       "      <td>0</td>\n",
       "      <td>0</td>\n",
       "      <td>0</td>\n",
       "      <td>0</td>\n",
       "      <td>0</td>\n",
       "      <td>0</td>\n",
       "      <td>0</td>\n",
       "    </tr>\n",
       "    <tr>\n",
       "      <th>16468058</th>\n",
       "      <td>1748011</td>\n",
       "      <td>18823667</td>\n",
       "      <td>2018-09-01</td>\n",
       "      <td>2018-09-30</td>\n",
       "      <td>2018-07-31</td>\n",
       "      <td>14076.21</td>\n",
       "      <td>72.0</td>\n",
       "      <td>0.1800</td>\n",
       "      <td>2018-08-31</td>\n",
       "      <td>1.0</td>\n",
       "      <td>...</td>\n",
       "      <td>0</td>\n",
       "      <td>0</td>\n",
       "      <td>0</td>\n",
       "      <td>0</td>\n",
       "      <td>0</td>\n",
       "      <td>0</td>\n",
       "      <td>0</td>\n",
       "      <td>0</td>\n",
       "      <td>0</td>\n",
       "      <td>0</td>\n",
       "    </tr>\n",
       "    <tr>\n",
       "      <th>16468075</th>\n",
       "      <td>1748011</td>\n",
       "      <td>18753960</td>\n",
       "      <td>2018-09-01</td>\n",
       "      <td>2018-09-30</td>\n",
       "      <td>2018-06-30</td>\n",
       "      <td>16949.21</td>\n",
       "      <td>72.0</td>\n",
       "      <td>0.1616</td>\n",
       "      <td>2018-08-31</td>\n",
       "      <td>2.0</td>\n",
       "      <td>...</td>\n",
       "      <td>0</td>\n",
       "      <td>0</td>\n",
       "      <td>0</td>\n",
       "      <td>0</td>\n",
       "      <td>0</td>\n",
       "      <td>0</td>\n",
       "      <td>0</td>\n",
       "      <td>0</td>\n",
       "      <td>0</td>\n",
       "      <td>0</td>\n",
       "    </tr>\n",
       "    <tr>\n",
       "      <th>16468079</th>\n",
       "      <td>1748011</td>\n",
       "      <td>18824038</td>\n",
       "      <td>2018-09-01</td>\n",
       "      <td>2018-09-30</td>\n",
       "      <td>2018-07-31</td>\n",
       "      <td>15229.03</td>\n",
       "      <td>48.0</td>\n",
       "      <td>0.1749</td>\n",
       "      <td>2018-08-31</td>\n",
       "      <td>1.0</td>\n",
       "      <td>...</td>\n",
       "      <td>0</td>\n",
       "      <td>0</td>\n",
       "      <td>0</td>\n",
       "      <td>0</td>\n",
       "      <td>0</td>\n",
       "      <td>0</td>\n",
       "      <td>0</td>\n",
       "      <td>0</td>\n",
       "      <td>0</td>\n",
       "      <td>0</td>\n",
       "    </tr>\n",
       "    <tr>\n",
       "      <th>16468084</th>\n",
       "      <td>1748011</td>\n",
       "      <td>18823745</td>\n",
       "      <td>2018-09-01</td>\n",
       "      <td>2018-09-30</td>\n",
       "      <td>2018-07-31</td>\n",
       "      <td>17228.38</td>\n",
       "      <td>72.0</td>\n",
       "      <td>0.2381</td>\n",
       "      <td>2018-08-31</td>\n",
       "      <td>1.0</td>\n",
       "      <td>...</td>\n",
       "      <td>0</td>\n",
       "      <td>0</td>\n",
       "      <td>0</td>\n",
       "      <td>0</td>\n",
       "      <td>0</td>\n",
       "      <td>0</td>\n",
       "      <td>0</td>\n",
       "      <td>0</td>\n",
       "      <td>0</td>\n",
       "      <td>0</td>\n",
       "    </tr>\n",
       "    <tr>\n",
       "      <th>16468086</th>\n",
       "      <td>1748011</td>\n",
       "      <td>18823761</td>\n",
       "      <td>2018-09-01</td>\n",
       "      <td>2018-09-30</td>\n",
       "      <td>2018-07-31</td>\n",
       "      <td>15800.39</td>\n",
       "      <td>72.0</td>\n",
       "      <td>0.1678</td>\n",
       "      <td>2018-08-31</td>\n",
       "      <td>1.0</td>\n",
       "      <td>...</td>\n",
       "      <td>0</td>\n",
       "      <td>0</td>\n",
       "      <td>0</td>\n",
       "      <td>0</td>\n",
       "      <td>0</td>\n",
       "      <td>0</td>\n",
       "      <td>0</td>\n",
       "      <td>0</td>\n",
       "      <td>0</td>\n",
       "      <td>0</td>\n",
       "    </tr>\n",
       "    <tr>\n",
       "      <th>16468087</th>\n",
       "      <td>1748011</td>\n",
       "      <td>18823771</td>\n",
       "      <td>2018-09-01</td>\n",
       "      <td>2018-09-30</td>\n",
       "      <td>2018-07-31</td>\n",
       "      <td>31538.86</td>\n",
       "      <td>72.0</td>\n",
       "      <td>0.2205</td>\n",
       "      <td>2018-08-31</td>\n",
       "      <td>1.0</td>\n",
       "      <td>...</td>\n",
       "      <td>0</td>\n",
       "      <td>0</td>\n",
       "      <td>0</td>\n",
       "      <td>0</td>\n",
       "      <td>0</td>\n",
       "      <td>0</td>\n",
       "      <td>0</td>\n",
       "      <td>0</td>\n",
       "      <td>0</td>\n",
       "      <td>0</td>\n",
       "    </tr>\n",
       "    <tr>\n",
       "      <th>16468092</th>\n",
       "      <td>1748011</td>\n",
       "      <td>18753114</td>\n",
       "      <td>2018-09-01</td>\n",
       "      <td>2018-09-30</td>\n",
       "      <td>2018-06-30</td>\n",
       "      <td>16499.50</td>\n",
       "      <td>72.0</td>\n",
       "      <td>0.2708</td>\n",
       "      <td>2018-08-31</td>\n",
       "      <td>2.0</td>\n",
       "      <td>...</td>\n",
       "      <td>0</td>\n",
       "      <td>0</td>\n",
       "      <td>0</td>\n",
       "      <td>0</td>\n",
       "      <td>0</td>\n",
       "      <td>0</td>\n",
       "      <td>0</td>\n",
       "      <td>0</td>\n",
       "      <td>0</td>\n",
       "      <td>0</td>\n",
       "    </tr>\n",
       "  </tbody>\n",
       "</table>\n",
       "<p>817151 rows × 97 columns</p>\n",
       "</div>"
      ],
      "text/plain": [
       "              cik assetnumber reportingperiodbeginningdate  \\\n",
       "429806    1742444     1067258                   2018-05-01   \n",
       "429814    1742444    10696264                   2018-05-01   \n",
       "429819    1742444     1072213                   2018-05-01   \n",
       "429823    1742444     1079219                   2018-05-01   \n",
       "429887    1742444     1278848                   2018-05-01   \n",
       "429896    1742444    12970837                   2018-05-01   \n",
       "429937    1742444     1417786                   2018-05-01   \n",
       "429943    1742444    14226666                   2018-05-01   \n",
       "429983    1742444    14675421                   2018-05-01   \n",
       "429992    1742444    14802288                   2018-05-01   \n",
       "430005    1742444    14954640                   2018-05-01   \n",
       "430018    1742444    15008616                   2018-05-01   \n",
       "430025    1742444    15022738                   2018-05-01   \n",
       "430043    1742444    15035128                   2018-05-01   \n",
       "430049    1742444     1505500                   2018-05-01   \n",
       "430052    1742444    15057363                   2018-05-01   \n",
       "430065    1742444    15054755                   2018-05-01   \n",
       "430091    1742444     1695599                   2018-05-01   \n",
       "430115    1742444     1825453                   2018-05-01   \n",
       "430118    1742444     1851166                   2018-05-01   \n",
       "430140    1742444      196095                   2018-05-01   \n",
       "430143    1742444     1971201                   2018-05-01   \n",
       "430193    1742444      254587                   2018-05-01   \n",
       "430200    1742444      311336                   2018-05-01   \n",
       "430207    1742444      351778                   2018-05-01   \n",
       "430209    1742444      362713                   2018-05-01   \n",
       "430235    1742444     3995211                   2018-05-01   \n",
       "430258    1742444     4050899                   2018-05-01   \n",
       "430264    1742444     4042623                   2018-05-01   \n",
       "430313    1742444      417214                   2018-05-01   \n",
       "...           ...         ...                          ...   \n",
       "16467949  1748011    18754050                   2018-09-01   \n",
       "16467952  1748011    18816353                   2018-09-01   \n",
       "16467954  1748011    18754052                   2018-09-01   \n",
       "16467959  1748011    18752736                   2018-09-01   \n",
       "16467962  1748011    18752725                   2018-09-01   \n",
       "16467964  1748011    18752719                   2018-09-01   \n",
       "16467979  1748011    18817577                   2018-09-01   \n",
       "16467990  1748011    18753427                   2018-09-01   \n",
       "16467995  1748011    18753439                   2018-09-01   \n",
       "16468000  1748011    18822377                   2018-09-01   \n",
       "16468001  1748011    18753407                   2018-09-01   \n",
       "16468010  1748011    18822420                   2018-09-01   \n",
       "16468023  1748011    18823153                   2018-09-01   \n",
       "16468024  1748011    18753566                   2018-09-01   \n",
       "16468025  1748011    18753585                   2018-09-01   \n",
       "16468026  1748011    18753586                   2018-09-01   \n",
       "16468030  1748011    18753598                   2018-09-01   \n",
       "16468032  1748011    18753618                   2018-09-01   \n",
       "16468034  1748011    18753641                   2018-09-01   \n",
       "16468044  1748011    18752180                   2018-09-01   \n",
       "16468045  1748011    18823358                   2018-09-01   \n",
       "16468048  1748011    18753892                   2018-09-01   \n",
       "16468049  1748011    18753910                   2018-09-01   \n",
       "16468058  1748011    18823667                   2018-09-01   \n",
       "16468075  1748011    18753960                   2018-09-01   \n",
       "16468079  1748011    18824038                   2018-09-01   \n",
       "16468084  1748011    18823745                   2018-09-01   \n",
       "16468086  1748011    18823761                   2018-09-01   \n",
       "16468087  1748011    18823771                   2018-09-01   \n",
       "16468092  1748011    18753114                   2018-09-01   \n",
       "\n",
       "         reportingperiodendingdate originationdate  originalloanamount  \\\n",
       "429806                  2018-05-31      2012-05-31            16217.08   \n",
       "429814                  2018-05-31      2014-08-31            13076.00   \n",
       "429819                  2018-05-31      2012-05-31            20067.63   \n",
       "429823                  2018-05-31      2012-04-30            34999.45   \n",
       "429887                  2018-05-31      2012-05-31            12705.55   \n",
       "429896                  2018-05-31      2015-06-30            16574.42   \n",
       "429937                  2018-05-31      2012-06-30            16829.64   \n",
       "429943                  2018-05-31      2015-09-30            16739.42   \n",
       "429983                  2018-05-31      2015-12-31            18447.68   \n",
       "429992                  2018-05-31      2015-12-31            15485.00   \n",
       "430005                  2018-05-31      2016-01-31            18132.46   \n",
       "430018                  2018-05-31      2016-02-29            26034.15   \n",
       "430025                  2018-05-31      2016-02-29            21111.14   \n",
       "430043                  2018-05-31      2016-02-29            15874.42   \n",
       "430049                  2018-05-31      2012-07-31            14450.40   \n",
       "430052                  2018-05-31      2016-02-29            11262.36   \n",
       "430065                  2018-05-31      2016-02-29             9290.93   \n",
       "430091                  2018-05-31      2012-07-31            12071.88   \n",
       "430115                  2018-05-31      2012-07-31            21397.03   \n",
       "430118                  2018-05-31      2012-08-31            12404.88   \n",
       "430140                  2018-05-31      2012-01-31            16115.43   \n",
       "430143                  2018-05-31      2012-08-31            16999.99   \n",
       "430193                  2018-05-31      2012-01-31            21532.85   \n",
       "430200                  2018-05-31      2012-02-29            16891.09   \n",
       "430207                  2018-05-31      2012-02-29            23266.54   \n",
       "430209                  2018-05-31      2012-02-29            12905.60   \n",
       "430235                  2018-05-31      2012-09-30            20739.75   \n",
       "430258                  2018-05-31      2012-10-31            15906.32   \n",
       "430264                  2018-05-31      2012-10-31            17964.00   \n",
       "430313                  2018-05-31      2012-02-29             9749.50   \n",
       "...                            ...             ...                 ...   \n",
       "16467949                2018-09-30      2018-06-30            16064.50   \n",
       "16467952                2018-09-30      2018-07-31            17602.91   \n",
       "16467954                2018-09-30      2018-06-30            23764.16   \n",
       "16467959                2018-09-30      2018-06-30            14495.80   \n",
       "16467962                2018-09-30      2018-06-30            15155.78   \n",
       "16467964                2018-09-30      2018-06-30            20001.00   \n",
       "16467979                2018-09-30      2018-07-31            17946.67   \n",
       "16467990                2018-09-30      2018-06-30            12377.08   \n",
       "16467995                2018-09-30      2018-06-30            11690.93   \n",
       "16468000                2018-09-30      2018-07-31            16076.00   \n",
       "16468001                2018-09-30      2018-06-30            12028.40   \n",
       "16468010                2018-09-30      2018-07-31            19087.08   \n",
       "16468023                2018-09-30      2018-07-31            11159.42   \n",
       "16468024                2018-09-30      2018-06-30            14890.21   \n",
       "16468025                2018-09-30      2018-06-30            10223.50   \n",
       "16468026                2018-09-30      2018-06-30            14318.31   \n",
       "16468030                2018-09-30      2018-06-30             7164.95   \n",
       "16468032                2018-09-30      2018-06-30            12041.81   \n",
       "16468034                2018-09-30      2018-06-30            14360.42   \n",
       "16468044                2018-09-30      2018-06-30             8515.00   \n",
       "16468045                2018-09-30      2018-07-31             9799.32   \n",
       "16468048                2018-09-30      2018-06-30            14062.47   \n",
       "16468049                2018-09-30      2018-06-30            13407.12   \n",
       "16468058                2018-09-30      2018-07-31            14076.21   \n",
       "16468075                2018-09-30      2018-06-30            16949.21   \n",
       "16468079                2018-09-30      2018-07-31            15229.03   \n",
       "16468084                2018-09-30      2018-07-31            17228.38   \n",
       "16468086                2018-09-30      2018-07-31            15800.39   \n",
       "16468087                2018-09-30      2018-07-31            31538.86   \n",
       "16468092                2018-09-30      2018-06-30            16499.50   \n",
       "\n",
       "          originalloanterm  originalinterestratepercentage  \\\n",
       "429806                72.0                          0.2400   \n",
       "429814                72.0                          0.2500   \n",
       "429819                72.0                          0.1900   \n",
       "429823                72.0                          0.1800   \n",
       "429887                72.0                          0.1800   \n",
       "429896                60.0                          0.1019   \n",
       "429937                72.0                          0.2599   \n",
       "429943                72.0                          0.2400   \n",
       "429983                72.0                          0.1678   \n",
       "429992                72.0                          0.1823   \n",
       "430005                72.0                          0.1678   \n",
       "430018                72.0                          0.1390   \n",
       "430025                72.0                          0.1800   \n",
       "430043                72.0                          0.1800   \n",
       "430049                72.0                          0.1800   \n",
       "430052                72.0                          0.1799   \n",
       "430065                72.0                          0.2273   \n",
       "430091                72.0                          0.2499   \n",
       "430115                72.0                          0.1678   \n",
       "430118                72.0                          0.2400   \n",
       "430140                72.0                          0.2199   \n",
       "430143                72.0                          0.2599   \n",
       "430193                72.0                          0.1999   \n",
       "430200                72.0                          0.1800   \n",
       "430207                72.0                          0.2499   \n",
       "430209                72.0                          0.2599   \n",
       "430235                72.0                          0.1800   \n",
       "430258                72.0                          0.2381   \n",
       "430264                72.0                          0.1800   \n",
       "430313                72.0                          0.2599   \n",
       "...                    ...                             ...   \n",
       "16467949              72.0                          0.2799   \n",
       "16467952              72.0                          0.1770   \n",
       "16467954              72.0                          0.1842   \n",
       "16467959              72.0                          0.1800   \n",
       "16467962              60.0                          0.2317   \n",
       "16467964              72.0                          0.2779   \n",
       "16467979              72.0                          0.2381   \n",
       "16467990              60.0                          0.2193   \n",
       "16467995              72.0                          0.1823   \n",
       "16468000              72.0                          0.1799   \n",
       "16468001              72.0                          0.1564   \n",
       "16468010              72.0                          0.2508   \n",
       "16468023              72.0                          0.2226   \n",
       "16468024              72.0                          0.2500   \n",
       "16468025              72.0                          0.2100   \n",
       "16468026              72.0                          0.2289   \n",
       "16468030              48.0                          0.2100   \n",
       "16468032              72.0                          0.2799   \n",
       "16468034              72.0                          0.2202   \n",
       "16468044              72.0                          0.2707   \n",
       "16468045              48.0                          0.1937   \n",
       "16468048              72.0                          0.2000   \n",
       "16468049              72.0                          0.2400   \n",
       "16468058              72.0                          0.1800   \n",
       "16468075              72.0                          0.1616   \n",
       "16468079              48.0                          0.1749   \n",
       "16468084              72.0                          0.2381   \n",
       "16468086              72.0                          0.1678   \n",
       "16468087              72.0                          0.2205   \n",
       "16468092              72.0                          0.2708   \n",
       "\n",
       "         originalfirstpaymentdate  graceperiodnumber  \\\n",
       "429806                 2012-06-30                1.0   \n",
       "429814                 2014-10-31                2.0   \n",
       "429819                 2012-06-30                1.0   \n",
       "429823                 2012-06-30                2.0   \n",
       "429887                 2012-07-31                2.0   \n",
       "429896                 2015-07-31                1.0   \n",
       "429937                 2012-08-31                2.0   \n",
       "429943                 2015-11-30                2.0   \n",
       "429983                 2016-01-31                1.0   \n",
       "429992                 2016-01-31                1.0   \n",
       "430005                 2016-03-31                2.0   \n",
       "430018                 2016-03-31                1.0   \n",
       "430025                 2016-04-30                2.0   \n",
       "430043                 2016-04-30                2.0   \n",
       "430049                 2012-08-31                1.0   \n",
       "430052                 2016-03-31                1.0   \n",
       "430065                 2016-04-30                2.0   \n",
       "430091                 2012-08-31                1.0   \n",
       "430115                 2012-09-30                2.0   \n",
       "430118                 2012-10-31                2.0   \n",
       "430140                 2012-02-29                1.0   \n",
       "430143                 2012-10-31                2.0   \n",
       "430193                 2012-03-31                2.0   \n",
       "430200                 2012-03-31                1.0   \n",
       "430207                 2012-03-31                1.0   \n",
       "430209                 2012-03-31                1.0   \n",
       "430235                 2012-10-31                1.0   \n",
       "430258                 2012-11-30                1.0   \n",
       "430264                 2012-11-30                1.0   \n",
       "430313                 2012-03-31                1.0   \n",
       "...                           ...                ...   \n",
       "16467949               2018-08-31                2.0   \n",
       "16467952               2018-08-31                1.0   \n",
       "16467954               2018-08-31                2.0   \n",
       "16467959               2018-08-31                2.0   \n",
       "16467962               2018-08-31                2.0   \n",
       "16467964               2018-07-31                1.0   \n",
       "16467979               2018-08-31                1.0   \n",
       "16467990               2018-08-31                2.0   \n",
       "16467995               2018-08-31                2.0   \n",
       "16468000               2018-08-31                1.0   \n",
       "16468001               2018-08-31                2.0   \n",
       "16468010               2018-08-31                1.0   \n",
       "16468023               2018-08-31                1.0   \n",
       "16468024               2018-08-31                2.0   \n",
       "16468025               2018-07-31                1.0   \n",
       "16468026               2018-08-31                2.0   \n",
       "16468030               2018-08-31                2.0   \n",
       "16468032               2018-08-31                2.0   \n",
       "16468034               2018-08-31                2.0   \n",
       "16468044               2018-08-31                2.0   \n",
       "16468045               2018-08-31                1.0   \n",
       "16468048               2018-08-31                2.0   \n",
       "16468049               2018-08-31                2.0   \n",
       "16468058               2018-08-31                1.0   \n",
       "16468075               2018-08-31                2.0   \n",
       "16468079               2018-08-31                1.0   \n",
       "16468084               2018-08-31                1.0   \n",
       "16468086               2018-08-31                1.0   \n",
       "16468087               2018-08-31                1.0   \n",
       "16468092               2018-08-31                2.0   \n",
       "\n",
       "                     ...              credit_type_Credit Bureau  \\\n",
       "429806               ...                                      0   \n",
       "429814               ...                                      0   \n",
       "429819               ...                                      0   \n",
       "429823               ...                                      0   \n",
       "429887               ...                                      0   \n",
       "429896               ...                                      0   \n",
       "429937               ...                                      0   \n",
       "429943               ...                                      0   \n",
       "429983               ...                                      0   \n",
       "429992               ...                                      0   \n",
       "430005               ...                                      0   \n",
       "430018               ...                                      0   \n",
       "430025               ...                                      0   \n",
       "430043               ...                                      0   \n",
       "430049               ...                                      0   \n",
       "430052               ...                                      0   \n",
       "430065               ...                                      0   \n",
       "430091               ...                                      0   \n",
       "430115               ...                                      0   \n",
       "430118               ...                                      0   \n",
       "430140               ...                                      0   \n",
       "430143               ...                                      0   \n",
       "430193               ...                                      0   \n",
       "430200               ...                                      0   \n",
       "430207               ...                                      0   \n",
       "430209               ...                                      0   \n",
       "430235               ...                                      0   \n",
       "430258               ...                                      0   \n",
       "430264               ...                                      0   \n",
       "430313               ...                                      0   \n",
       "...                  ...                                    ...   \n",
       "16467949             ...                                      0   \n",
       "16467952             ...                                      0   \n",
       "16467954             ...                                      0   \n",
       "16467959             ...                                      0   \n",
       "16467962             ...                                      0   \n",
       "16467964             ...                                      0   \n",
       "16467979             ...                                      0   \n",
       "16467990             ...                                      0   \n",
       "16467995             ...                                      0   \n",
       "16468000             ...                                      0   \n",
       "16468001             ...                                      0   \n",
       "16468010             ...                                      0   \n",
       "16468023             ...                                      0   \n",
       "16468024             ...                                      0   \n",
       "16468025             ...                                      0   \n",
       "16468026             ...                                      0   \n",
       "16468030             ...                                      0   \n",
       "16468032             ...                                      0   \n",
       "16468034             ...                                      0   \n",
       "16468044             ...                                      0   \n",
       "16468045             ...                                      0   \n",
       "16468048             ...                                      0   \n",
       "16468049             ...                                      0   \n",
       "16468058             ...                                      0   \n",
       "16468075             ...                                      0   \n",
       "16468079             ...                                      0   \n",
       "16468084             ...                                      0   \n",
       "16468086             ...                                      0   \n",
       "16468087             ...                                      0   \n",
       "16468092             ...                                      0   \n",
       "\n",
       "          credit_type_FICO  credit_type_Credit Bureau Score  \\\n",
       "429806                   0                                0   \n",
       "429814                   0                                0   \n",
       "429819                   0                                0   \n",
       "429823                   0                                0   \n",
       "429887                   0                                0   \n",
       "429896                   0                                0   \n",
       "429937                   0                                0   \n",
       "429943                   0                                0   \n",
       "429983                   0                                0   \n",
       "429992                   0                                0   \n",
       "430005                   0                                0   \n",
       "430018                   0                                0   \n",
       "430025                   0                                0   \n",
       "430043                   0                                0   \n",
       "430049                   0                                0   \n",
       "430052                   0                                0   \n",
       "430065                   0                                0   \n",
       "430091                   0                                0   \n",
       "430115                   0                                0   \n",
       "430118                   0                                0   \n",
       "430140                   0                                0   \n",
       "430143                   0                                0   \n",
       "430193                   0                                0   \n",
       "430200                   0                                0   \n",
       "430207                   0                                0   \n",
       "430209                   0                                0   \n",
       "430235                   0                                0   \n",
       "430258                   0                                0   \n",
       "430264                   0                                0   \n",
       "430313                   0                                0   \n",
       "...                    ...                              ...   \n",
       "16467949                 0                                0   \n",
       "16467952                 0                                0   \n",
       "16467954                 0                                0   \n",
       "16467959                 0                                0   \n",
       "16467962                 0                                0   \n",
       "16467964                 0                                0   \n",
       "16467979                 0                                0   \n",
       "16467990                 0                                0   \n",
       "16467995                 0                                0   \n",
       "16468000                 0                                0   \n",
       "16468001                 0                                0   \n",
       "16468010                 0                                0   \n",
       "16468023                 0                                0   \n",
       "16468024                 0                                0   \n",
       "16468025                 0                                0   \n",
       "16468026                 0                                0   \n",
       "16468030                 0                                0   \n",
       "16468032                 0                                0   \n",
       "16468034                 0                                0   \n",
       "16468044                 0                                0   \n",
       "16468045                 0                                0   \n",
       "16468048                 0                                0   \n",
       "16468049                 0                                0   \n",
       "16468058                 0                                0   \n",
       "16468075                 0                                0   \n",
       "16468079                 0                                0   \n",
       "16468084                 0                                0   \n",
       "16468086                 0                                0   \n",
       "16468087                 0                                0   \n",
       "16468092                 0                                0   \n",
       "\n",
       "         credit_type_FICO Score 8 Auto  credit_type_FICO Score 2 Auto  \\\n",
       "429806                               0                              0   \n",
       "429814                               0                              0   \n",
       "429819                               0                              0   \n",
       "429823                               0                              0   \n",
       "429887                               0                              0   \n",
       "429896                               0                              0   \n",
       "429937                               0                              0   \n",
       "429943                               0                              0   \n",
       "429983                               0                              0   \n",
       "429992                               0                              0   \n",
       "430005                               0                              0   \n",
       "430018                               0                              0   \n",
       "430025                               0                              0   \n",
       "430043                               0                              0   \n",
       "430049                               0                              0   \n",
       "430052                               0                              0   \n",
       "430065                               0                              0   \n",
       "430091                               0                              0   \n",
       "430115                               0                              0   \n",
       "430118                               0                              0   \n",
       "430140                               0                              0   \n",
       "430143                               0                              0   \n",
       "430193                               0                              0   \n",
       "430200                               0                              0   \n",
       "430207                               0                              0   \n",
       "430209                               0                              0   \n",
       "430235                               0                              0   \n",
       "430258                               0                              0   \n",
       "430264                               0                              0   \n",
       "430313                               0                              0   \n",
       "...                                ...                            ...   \n",
       "16467949                             0                              0   \n",
       "16467952                             0                              0   \n",
       "16467954                             0                              0   \n",
       "16467959                             0                              0   \n",
       "16467962                             0                              0   \n",
       "16467964                             0                              0   \n",
       "16467979                             0                              0   \n",
       "16467990                             0                              0   \n",
       "16467995                             0                              0   \n",
       "16468000                             0                              0   \n",
       "16468001                             0                              0   \n",
       "16468010                             0                              0   \n",
       "16468023                             0                              0   \n",
       "16468024                             0                              0   \n",
       "16468025                             0                              0   \n",
       "16468026                             0                              0   \n",
       "16468030                             0                              0   \n",
       "16468032                             0                              0   \n",
       "16468034                             0                              0   \n",
       "16468044                             0                              0   \n",
       "16468045                             0                              0   \n",
       "16468048                             0                              0   \n",
       "16468049                             0                              0   \n",
       "16468058                             0                              0   \n",
       "16468075                             0                              0   \n",
       "16468079                             0                              0   \n",
       "16468084                             0                              0   \n",
       "16468086                             0                              0   \n",
       "16468087                             0                              0   \n",
       "16468092                             0                              0   \n",
       "\n",
       "         credit_type_CREDIT BUREAU credit_type_Consumer Credit Bureau  \\\n",
       "429806                           0                                  0   \n",
       "429814                           0                                  0   \n",
       "429819                           0                                  0   \n",
       "429823                           0                                  0   \n",
       "429887                           0                                  0   \n",
       "429896                           0                                  0   \n",
       "429937                           0                                  0   \n",
       "429943                           0                                  0   \n",
       "429983                           0                                  0   \n",
       "429992                           0                                  0   \n",
       "430005                           0                                  0   \n",
       "430018                           0                                  0   \n",
       "430025                           0                                  0   \n",
       "430043                           0                                  0   \n",
       "430049                           0                                  0   \n",
       "430052                           0                                  0   \n",
       "430065                           0                                  0   \n",
       "430091                           0                                  0   \n",
       "430115                           0                                  0   \n",
       "430118                           0                                  0   \n",
       "430140                           0                                  0   \n",
       "430143                           0                                  0   \n",
       "430193                           0                                  0   \n",
       "430200                           0                                  0   \n",
       "430207                           0                                  0   \n",
       "430209                           0                                  0   \n",
       "430235                           0                                  0   \n",
       "430258                           0                                  0   \n",
       "430264                           0                                  0   \n",
       "430313                           0                                  0   \n",
       "...                            ...                                ...   \n",
       "16467949                         0                                  0   \n",
       "16467952                         0                                  0   \n",
       "16467954                         0                                  0   \n",
       "16467959                         0                                  0   \n",
       "16467962                         0                                  0   \n",
       "16467964                         0                                  0   \n",
       "16467979                         0                                  0   \n",
       "16467990                         0                                  0   \n",
       "16467995                         0                                  0   \n",
       "16468000                         0                                  0   \n",
       "16468001                         0                                  0   \n",
       "16468010                         0                                  0   \n",
       "16468023                         0                                  0   \n",
       "16468024                         0                                  0   \n",
       "16468025                         0                                  0   \n",
       "16468026                         0                                  0   \n",
       "16468030                         0                                  0   \n",
       "16468032                         0                                  0   \n",
       "16468034                         0                                  0   \n",
       "16468044                         0                                  0   \n",
       "16468045                         0                                  0   \n",
       "16468048                         0                                  0   \n",
       "16468049                         0                                  0   \n",
       "16468058                         0                                  0   \n",
       "16468075                         0                                  0   \n",
       "16468079                         0                                  0   \n",
       "16468084                         0                                  0   \n",
       "16468086                         0                                  0   \n",
       "16468087                         0                                  0   \n",
       "16468092                         0                                  0   \n",
       "\n",
       "          credit_type_Commercial Bureau  credit_type_None  \\\n",
       "429806                                0                 0   \n",
       "429814                                0                 0   \n",
       "429819                                0                 0   \n",
       "429823                                0                 0   \n",
       "429887                                0                 0   \n",
       "429896                                0                 0   \n",
       "429937                                0                 0   \n",
       "429943                                0                 0   \n",
       "429983                                0                 0   \n",
       "429992                                0                 0   \n",
       "430005                                0                 0   \n",
       "430018                                0                 0   \n",
       "430025                                0                 0   \n",
       "430043                                0                 0   \n",
       "430049                                0                 0   \n",
       "430052                                0                 0   \n",
       "430065                                0                 0   \n",
       "430091                                0                 0   \n",
       "430115                                0                 0   \n",
       "430118                                0                 0   \n",
       "430140                                0                 0   \n",
       "430143                                0                 0   \n",
       "430193                                0                 0   \n",
       "430200                                0                 0   \n",
       "430207                                0                 0   \n",
       "430209                                0                 0   \n",
       "430235                                0                 0   \n",
       "430258                                0                 0   \n",
       "430264                                0                 0   \n",
       "430313                                0                 0   \n",
       "...                                 ...               ...   \n",
       "16467949                              0                 0   \n",
       "16467952                              0                 0   \n",
       "16467954                              0                 0   \n",
       "16467959                              0                 0   \n",
       "16467962                              0                 0   \n",
       "16467964                              0                 0   \n",
       "16467979                              0                 0   \n",
       "16467990                              0                 0   \n",
       "16467995                              0                 0   \n",
       "16468000                              0                 0   \n",
       "16468001                              0                 0   \n",
       "16468010                              0                 0   \n",
       "16468023                              0                 0   \n",
       "16468024                              0                 0   \n",
       "16468025                              0                 0   \n",
       "16468026                              0                 0   \n",
       "16468030                              0                 0   \n",
       "16468032                              0                 0   \n",
       "16468034                              0                 0   \n",
       "16468044                              0                 0   \n",
       "16468045                              0                 0   \n",
       "16468048                              0                 0   \n",
       "16468049                              0                 0   \n",
       "16468058                              0                 0   \n",
       "16468075                              0                 0   \n",
       "16468079                              0                 0   \n",
       "16468084                              0                 0   \n",
       "16468086                              0                 0   \n",
       "16468087                              0                 0   \n",
       "16468092                              0                 0   \n",
       "\n",
       "          credit_type_Unknown/Invalid  \n",
       "429806                              0  \n",
       "429814                              0  \n",
       "429819                              0  \n",
       "429823                              0  \n",
       "429887                              0  \n",
       "429896                              0  \n",
       "429937                              0  \n",
       "429943                              0  \n",
       "429983                              0  \n",
       "429992                              0  \n",
       "430005                              0  \n",
       "430018                              0  \n",
       "430025                              0  \n",
       "430043                              0  \n",
       "430049                              0  \n",
       "430052                              0  \n",
       "430065                              0  \n",
       "430091                              0  \n",
       "430115                              0  \n",
       "430118                              0  \n",
       "430140                              0  \n",
       "430143                              0  \n",
       "430193                              0  \n",
       "430200                              0  \n",
       "430207                              0  \n",
       "430209                              0  \n",
       "430235                              0  \n",
       "430258                              0  \n",
       "430264                              0  \n",
       "430313                              0  \n",
       "...                               ...  \n",
       "16467949                            0  \n",
       "16467952                            0  \n",
       "16467954                            0  \n",
       "16467959                            0  \n",
       "16467962                            0  \n",
       "16467964                            0  \n",
       "16467979                            0  \n",
       "16467990                            0  \n",
       "16467995                            0  \n",
       "16468000                            0  \n",
       "16468001                            0  \n",
       "16468010                            0  \n",
       "16468023                            0  \n",
       "16468024                            0  \n",
       "16468025                            0  \n",
       "16468026                            0  \n",
       "16468030                            0  \n",
       "16468032                            0  \n",
       "16468034                            0  \n",
       "16468044                            0  \n",
       "16468045                            0  \n",
       "16468048                            0  \n",
       "16468049                            0  \n",
       "16468058                            0  \n",
       "16468075                            0  \n",
       "16468079                            0  \n",
       "16468084                            0  \n",
       "16468086                            0  \n",
       "16468087                            0  \n",
       "16468092                            0  \n",
       "\n",
       "[817151 rows x 97 columns]"
      ]
     },
     "execution_count": 104,
     "metadata": {},
     "output_type": "execute_result"
    }
   ],
   "source": [
    "df[df.obligorcreditscore.isnull()]"
   ]
  },
  {
   "cell_type": "code",
   "execution_count": 105,
   "metadata": {
    "collapsed": true
   },
   "outputs": [],
   "source": [
    "df=df.dropna(subset=['obligorcreditscore'])"
   ]
  },
  {
   "cell_type": "code",
   "execution_count": 106,
   "metadata": {},
   "outputs": [
    {
     "data": {
      "text/plain": [
       "703    118951\n",
       "825    118942\n",
       "700    117147\n",
       "722    116410\n",
       "817    115888\n",
       "Name: obligorcreditscore, dtype: int64"
      ]
     },
     "execution_count": 106,
     "metadata": {},
     "output_type": "execute_result"
    }
   ],
   "source": [
    "df.obligorcreditscore.value_counts(dropna=False).sort_values(ascending=False).head()"
   ]
  },
  {
   "cell_type": "code",
   "execution_count": 107,
   "metadata": {},
   "outputs": [
    {
     "data": {
      "text/plain": [
       "False"
      ]
     },
     "execution_count": 107,
     "metadata": {},
     "output_type": "execute_result"
    }
   ],
   "source": [
    "df.obligorcreditscore.isnull().values.any()"
   ]
  },
  {
   "cell_type": "code",
   "execution_count": 108,
   "metadata": {
    "collapsed": true
   },
   "outputs": [],
   "source": [
    "# codes = pd.value_counts(df.obligorcreditscore).index.tolist()\n",
    "# print(codes)"
   ]
  },
  {
   "cell_type": "code",
   "execution_count": null,
   "metadata": {
    "collapsed": true
   },
   "outputs": [],
   "source": []
  },
  {
   "cell_type": "code",
   "execution_count": 109,
   "metadata": {
    "collapsed": true
   },
   "outputs": [],
   "source": [
    "#df.obligorcreditscore.str.contains('No Score').sum()"
   ]
  },
  {
   "cell_type": "code",
   "execution_count": 110,
   "metadata": {
    "collapsed": true
   },
   "outputs": [],
   "source": [
    "#~df.obligorcreditscore.str.contains('No Score').sum()"
   ]
  },
  {
   "cell_type": "code",
   "execution_count": null,
   "metadata": {
    "collapsed": true
   },
   "outputs": [],
   "source": []
  },
  {
   "cell_type": "code",
   "execution_count": 111,
   "metadata": {
    "collapsed": true
   },
   "outputs": [],
   "source": [
    "\n",
    "# u=pd.value_counts(df.obligorcreditscore.str.contains('No Score'))\n",
    "# if len(u)==0:\n",
    "#     print('No rows with No Score string' )\n",
    "# else: \n",
    "#     print('Number of loans with No Score string',':', len(u))\n",
    "#     print('Dropping ', len(u), 'rows and retaining loans with credit score')\n",
    "#     df=df.fillna(inplace=True)\n",
    "#     df=df.drop(df.obligorcreditscore.str.contains('No Score'), axis=1)\n",
    "        \n",
    "# df.shape"
   ]
  },
  {
   "cell_type": "code",
   "execution_count": null,
   "metadata": {
    "collapsed": true
   },
   "outputs": [],
   "source": []
  },
  {
   "cell_type": "markdown",
   "metadata": {},
   "source": [
    "# Obligor Income Verification Level Code"
   ]
  },
  {
   "cell_type": "code",
   "execution_count": 112,
   "metadata": {
    "collapsed": true
   },
   "outputs": [],
   "source": [
    "df['obligorincomeverificationlevelcode']=df.obligorincomeverificationlevelcode.astype('category')"
   ]
  },
  {
   "cell_type": "code",
   "execution_count": 113,
   "metadata": {},
   "outputs": [
    {
     "data": {
      "image/png": "[encoded data removed]",
      "text/plain": [
       "<matplotlib.figure.Figure at 0x27bd1b25ba8>"
      ]
     },
     "metadata": {},
     "output_type": "display_data"
    },
    {
     "name": "stdout",
     "output_type": "stream",
     "text": [
      "Top  -1  counts:  \n",
      " 2.0    25818262\n",
      "3.0     2280564\n",
      "1.0      239934\n",
      "4.0         452\n",
      "Name: obligorincomeverificationlevelcode, dtype: int64\n"
     ]
    }
   ],
   "source": [
    "draw(df.obligorincomeverificationlevelcode, title='Obligor Credit Score', ylabel='Number of Loans', sort=True)"
   ]
  },
  {
   "cell_type": "code",
   "execution_count": 114,
   "metadata": {},
   "outputs": [
    {
     "data": {
      "text/plain": [
       "count     28339285.0\n",
       "unique           5.0\n",
       "top              2.0\n",
       "freq      25818262.0\n",
       "Name: obligorincomeverificationlevelcode, dtype: float64"
      ]
     },
     "execution_count": 114,
     "metadata": {},
     "output_type": "execute_result"
    }
   ],
   "source": [
    "df.obligorincomeverificationlevelcode.describe()"
   ]
  },
  {
   "cell_type": "code",
   "execution_count": 115,
   "metadata": {},
   "outputs": [
    {
     "data": {
      "text/plain": [
       "2.0    25818262\n",
       "3.0     2280564\n",
       "1.0      239934\n",
       "4.0         452\n",
       "5.0          73\n",
       "Name: obligorincomeverificationlevelcode, dtype: int64"
      ]
     },
     "execution_count": 115,
     "metadata": {},
     "output_type": "execute_result"
    }
   ],
   "source": [
    "pd.value_counts(df.obligorincomeverificationlevelcode)"
   ]
  },
  {
   "cell_type": "code",
   "execution_count": 116,
   "metadata": {},
   "outputs": [
    {
     "name": "stdout",
     "output_type": "stream",
     "text": [
      "No blank or zero obligor income verification level code\n"
     ]
    },
    {
     "data": {
      "text/plain": [
       "(28554071, 97)"
      ]
     },
     "execution_count": 116,
     "metadata": {},
     "output_type": "execute_result"
    }
   ],
   "source": [
    "u=pd.value_counts(df.obligorincomeverificationlevelcode==0)\n",
    "if len(u)<2:\n",
    "    print('No blank or zero obligor income verification level code')\n",
    "else: \n",
    "    print('Number of loans with no obligor income verification level code',':', u[1])\n",
    "    print('Dropping ', u[1], 'rows and retaining loans with obligor income verification level code')\n",
    "    df=df[df.obligorincomeverificationlevelcode>0]\n",
    "df.shape"
   ]
  },
  {
   "cell_type": "markdown",
   "metadata": {},
   "source": [
    "# Create Feature Columns for Obligor Income Verification Code"
   ]
  },
  {
   "cell_type": "code",
   "execution_count": 117,
   "metadata": {
    "collapsed": true
   },
   "outputs": [],
   "source": [
    "def map_obligorincomeverificationlevelcode(*args):\n",
    "    columns = [col for col in args]\n",
    "    for column in columns:\n",
    "        if column == code:\n",
    "            return 1\n",
    "        else:\n",
    "            return 0\n",
    "codes = pd.value_counts(df.obligorincomeverificationlevelcode).index.tolist()\n",
    "\n",
    "for code in codes:\n",
    "        df['income_code{}'.format(code)] = list(map(map_obligorincomeverificationlevelcode, df.obligorincomeverificationlevelcode))\n"
   ]
  },
  {
   "cell_type": "code",
   "execution_count": 118,
   "metadata": {
    "collapsed": true
   },
   "outputs": [],
   "source": [
    "df.drop(['obligorincomeverificationlevelcode'], axis=1, inplace=True)"
   ]
  },
  {
   "cell_type": "markdown",
   "metadata": {},
   "source": [
    "# Obligor Employment Verification Code"
   ]
  },
  {
   "cell_type": "code",
   "execution_count": 119,
   "metadata": {
    "collapsed": true
   },
   "outputs": [],
   "source": [
    "df['obligoremploymentverificationcode']=df.obligoremploymentverificationcode.astype('category')"
   ]
  },
  {
   "cell_type": "code",
   "execution_count": 120,
   "metadata": {},
   "outputs": [
    {
     "data": {
      "image/png": "[encoded data removed]",
      "text/plain": [
       "<matplotlib.figure.Figure at 0x27bd12ab828>"
      ]
     },
     "metadata": {},
     "output_type": "display_data"
    },
    {
     "name": "stdout",
     "output_type": "stream",
     "text": [
      "Top  -1  counts:  \n",
      " 2.0    25775444\n",
      "3.0     1988744\n",
      "Name: obligoremploymentverificationcode, dtype: int64\n"
     ]
    }
   ],
   "source": [
    "draw(df.obligoremploymentverificationcode, title='Obligor Employment Verification Code', ylabel='Number of Loans', sort=True)"
   ]
  },
  {
   "cell_type": "code",
   "execution_count": 121,
   "metadata": {
    "collapsed": true
   },
   "outputs": [],
   "source": [
    "#pd.value_counts(df.obligoremploymentverificationcode==0)"
   ]
  },
  {
   "cell_type": "code",
   "execution_count": 122,
   "metadata": {},
   "outputs": [
    {
     "data": {
      "text/plain": [
       "count     28339285.0\n",
       "unique           3.0\n",
       "top              2.0\n",
       "freq      25775444.0\n",
       "Name: obligoremploymentverificationcode, dtype: float64"
      ]
     },
     "execution_count": 122,
     "metadata": {},
     "output_type": "execute_result"
    }
   ],
   "source": [
    "df.obligoremploymentverificationcode.describe()"
   ]
  },
  {
   "cell_type": "code",
   "execution_count": 123,
   "metadata": {},
   "outputs": [
    {
     "name": "stdout",
     "output_type": "stream",
     "text": [
      "No blank or zero obligor employment verification level code\n"
     ]
    },
    {
     "data": {
      "text/plain": [
       "(28554071, 101)"
      ]
     },
     "execution_count": 123,
     "metadata": {},
     "output_type": "execute_result"
    }
   ],
   "source": [
    "u=pd.value_counts(df.obligoremploymentverificationcode==0)\n",
    "if len(u)<2:\n",
    "    print('No blank or zero obligor employment verification level code')\n",
    "else: \n",
    "    print('Number of loans with no obligor employment verification level code',':', u[1])\n",
    "    print('Dropping ', u[1], 'rows and retaining loans with obligor employment verification level code')\n",
    "    df=df[df.obligoremploymentverificationcode>0]\n",
    "df.shape"
   ]
  },
  {
   "cell_type": "markdown",
   "metadata": {},
   "source": [
    "# Create feature Columns for obligor employment verification"
   ]
  },
  {
   "cell_type": "code",
   "execution_count": 124,
   "metadata": {
    "collapsed": true
   },
   "outputs": [],
   "source": [
    "def map_obligoremploymentverificationcode(*args):\n",
    "    columns = [col for col in args]\n",
    "    for column in columns:\n",
    "        if column == code:\n",
    "            return 1\n",
    "        else:\n",
    "            return 0\n",
    "codes = pd.value_counts(df.obligoremploymentverificationcode).index.tolist()\n",
    "\n",
    "for code in codes:\n",
    "        df['empl_code{}'.format(code)] = list(map(map_obligoremploymentverificationcode, df.obligoremploymentverificationcode))\n"
   ]
  },
  {
   "cell_type": "code",
   "execution_count": 125,
   "metadata": {
    "collapsed": true
   },
   "outputs": [],
   "source": [
    "df.drop(['obligoremploymentverificationcode'], axis=1, inplace=True)"
   ]
  },
  {
   "cell_type": "markdown",
   "metadata": {},
   "source": [
    "# Co-obligator Indicator"
   ]
  },
  {
   "cell_type": "code",
   "execution_count": 126,
   "metadata": {
    "collapsed": true
   },
   "outputs": [],
   "source": [
    "df['coobligorindicator']=df.coobligorindicator.astype('category')"
   ]
  },
  {
   "cell_type": "code",
   "execution_count": 127,
   "metadata": {},
   "outputs": [
    {
     "data": {
      "text/plain": [
       "count     28554071\n",
       "unique           2\n",
       "top          False\n",
       "freq      18675803\n",
       "Name: coobligorindicator, dtype: object"
      ]
     },
     "execution_count": 127,
     "metadata": {},
     "output_type": "execute_result"
    }
   ],
   "source": [
    "df.coobligorindicator.describe()"
   ]
  },
  {
   "cell_type": "code",
   "execution_count": 128,
   "metadata": {},
   "outputs": [
    {
     "data": {
      "image/png": "[encoded data removed]",
      "text/plain": [
       "<matplotlib.figure.Figure at 0x27b82890710>"
      ]
     },
     "metadata": {},
     "output_type": "display_data"
    },
    {
     "name": "stdout",
     "output_type": "stream",
     "text": [
      "Top  -1  counts:  \n",
      " False    18675803\n",
      "Name: coobligorindicator, dtype: int64\n"
     ]
    }
   ],
   "source": [
    "draw(df.coobligorindicator, title='Co-Obligator Indicator', ylabel='Number of Loans', sort=True)"
   ]
  },
  {
   "cell_type": "markdown",
   "metadata": {},
   "source": [
    "# Create features for Co-obligator Indicator True"
   ]
  },
  {
   "cell_type": "code",
   "execution_count": 129,
   "metadata": {},
   "outputs": [
    {
     "data": {
      "text/plain": [
       "0    18675803\n",
       "1     9878268\n",
       "Name: coobligorindicator_true, dtype: int64"
      ]
     },
     "execution_count": 129,
     "metadata": {},
     "output_type": "execute_result"
    }
   ],
   "source": [
    "def map_coobligorindicator_true(*args):\n",
    "    columns = [col for col in args]\n",
    "    for column in columns:\n",
    "        if column == 1:\n",
    "            return 1\n",
    "        else:\n",
    "            return 0\n",
    "        \n",
    "df['coobligorindicator_true'] = list(map(map_coobligorindicator_true, df.coobligorindicator))\n",
    "df.drop(['coobligorindicator'], axis=1, inplace=True)\n",
    "pd.value_counts(df.coobligorindicator_true)"
   ]
  },
  {
   "cell_type": "markdown",
   "metadata": {},
   "source": [
    "# Reporting Period Actual End Balance Amount"
   ]
  },
  {
   "cell_type": "markdown",
   "metadata": {},
   "source": [
    "Mean reporting period actual end balance amount by the reporting period ending date"
   ]
  },
  {
   "cell_type": "code",
   "execution_count": 130,
   "metadata": {},
   "outputs": [
    {
     "data": {
      "text/plain": [
       "<matplotlib.axes._subplots.AxesSubplot at 0x27be77c8c50>"
      ]
     },
     "execution_count": 130,
     "metadata": {},
     "output_type": "execute_result"
    },
    {
     "data": {
      "image/png": "[encoded data removed]",
      "text/plain": [
       "<matplotlib.figure.Figure at 0x27b9f5203c8>"
      ]
     },
     "metadata": {},
     "output_type": "display_data"
    }
   ],
   "source": [
    "df.groupby(df.reportingperiodendingdate).reportingperiodactualendbalanceamount.mean().plot(kind='bar')"
   ]
  },
  {
   "cell_type": "code",
   "execution_count": 131,
   "metadata": {
    "collapsed": true
   },
   "outputs": [],
   "source": [
    "#draw(df.reportingperiodactualendbalanceamount, title='Reporting Period Actual End Balance Amount', ylabel='Number of Loans', sort=True)"
   ]
  },
  {
   "cell_type": "code",
   "execution_count": 132,
   "metadata": {},
   "outputs": [
    {
     "data": {
      "text/plain": [
       "count    2.855407e+07\n",
       "mean     1.662460e+04\n",
       "std      1.029135e+04\n",
       "min     -9.978260e+03\n",
       "25%      9.861590e+03\n",
       "50%      1.550965e+04\n",
       "75%      2.200183e+04\n",
       "max      2.111091e+05\n",
       "Name: reportingperiodactualendbalanceamount, dtype: float64"
      ]
     },
     "execution_count": 132,
     "metadata": {},
     "output_type": "execute_result"
    }
   ],
   "source": [
    "df.reportingperiodactualendbalanceamount.describe()"
   ]
  },
  {
   "cell_type": "code",
   "execution_count": 133,
   "metadata": {},
   "outputs": [
    {
     "name": "stdout",
     "output_type": "stream",
     "text": [
      "Number of loans with no reporting period actual end balance amount : 984062\n",
      "Dropping  984062 rows and retaining loans with reporting period actual end balance amount\n"
     ]
    },
    {
     "data": {
      "text/plain": [
       "(27570009, 103)"
      ]
     },
     "execution_count": 133,
     "metadata": {},
     "output_type": "execute_result"
    }
   ],
   "source": [
    "u=pd.value_counts(df.reportingperiodactualendbalanceamount<=0)\n",
    "if len(u)<2:\n",
    "    print('No blank or zero or negative reporting period actual end balance amount')\n",
    "else: \n",
    "    print('Number of loans with no reporting period actual end balance amount',':', u[1])\n",
    "    print('Dropping ', u[1], 'rows and retaining loans with reporting period actual end balance amount')\n",
    "    df=df[df.reportingperiodactualendbalanceamount>0]\n",
    "df.shape"
   ]
  },
  {
   "cell_type": "markdown",
   "metadata": {},
   "source": [
    "# Total Actual amount paid"
   ]
  },
  {
   "cell_type": "code",
   "execution_count": 134,
   "metadata": {},
   "outputs": [
    {
     "data": {
      "text/plain": [
       "count    2.755100e+07\n",
       "mean     4.595003e+02\n",
       "std      6.747729e+02\n",
       "min     -7.203197e+04\n",
       "25%      2.875300e+02\n",
       "50%      4.000000e+02\n",
       "75%      5.497100e+02\n",
       "max      2.041267e+05\n",
       "Name: totalactualamountpaid, dtype: float64"
      ]
     },
     "execution_count": 134,
     "metadata": {},
     "output_type": "execute_result"
    }
   ],
   "source": [
    "df.totalactualamountpaid.describe()"
   ]
  },
  {
   "cell_type": "code",
   "execution_count": 135,
   "metadata": {},
   "outputs": [
    {
     "name": "stdout",
     "output_type": "stream",
     "text": [
      "Number of loans with no or negative total actual amount paid : 2742210\n"
     ]
    },
    {
     "data": {
      "text/plain": [
       "(27570009, 103)"
      ]
     },
     "execution_count": 135,
     "metadata": {},
     "output_type": "execute_result"
    }
   ],
   "source": [
    "u=pd.value_counts(df.totalactualamountpaid<=0)\n",
    "if len(u)<2:\n",
    "    print('No blank or zero or negative total actual amount paid')\n",
    "else: \n",
    "    print('Number of loans with no or negative total actual amount paid',':', u[1])\n",
    "    #print('Dropping ', u[1], 'rows and retaining loans with positive total actual amount paid')\n",
    "    #df=df[df.totalactualamountpaid>0]\n",
    "df.shape"
   ]
  },
  {
   "cell_type": "markdown",
   "metadata": {},
   "source": [
    "# Actual interest collected amount"
   ]
  },
  {
   "cell_type": "code",
   "execution_count": 136,
   "metadata": {},
   "outputs": [
    {
     "data": {
      "text/plain": [
       "count    2.755100e+07\n",
       "mean     9.523242e+01\n",
       "std      1.374802e+02\n",
       "min     -1.303820e+03\n",
       "25%      7.490000e+00\n",
       "50%      4.334000e+01\n",
       "75%      1.239600e+02\n",
       "max      5.538290e+03\n",
       "Name: actualinterestcollectedamount, dtype: float64"
      ]
     },
     "execution_count": 136,
     "metadata": {},
     "output_type": "execute_result"
    }
   ],
   "source": [
    "df.actualinterestcollectedamount.describe()"
   ]
  },
  {
   "cell_type": "code",
   "execution_count": 137,
   "metadata": {},
   "outputs": [
    {
     "name": "stdout",
     "output_type": "stream",
     "text": [
      "Number of loans with no or negative actual interest collected amount : 5964201\n"
     ]
    },
    {
     "data": {
      "text/plain": [
       "(27570009, 103)"
      ]
     },
     "execution_count": 137,
     "metadata": {},
     "output_type": "execute_result"
    }
   ],
   "source": [
    "u=pd.value_counts(df.actualinterestcollectedamount<=0)\n",
    "if len(u)<2:\n",
    "    print('No blank or zero actual interest collected amount')\n",
    "else: \n",
    "    print('Number of loans with no or negative actual interest collected amount',':', u[1])\n",
    "    #print('Dropping ', u[1], 'rows and retaining loans with positive actual interest collected amount')\n",
    "    #df=df[df.actualinterestcollectedamount>0]\n",
    "df.shape"
   ]
  },
  {
   "cell_type": "markdown",
   "metadata": {},
   "source": [
    "# Actual principal collected amount"
   ]
  },
  {
   "cell_type": "code",
   "execution_count": 138,
   "metadata": {},
   "outputs": [
    {
     "data": {
      "text/plain": [
       "count    2.755100e+07\n",
       "mean     3.635210e+02\n",
       "std      6.625728e+02\n",
       "min     -7.203197e+04\n",
       "25%      1.787600e+02\n",
       "50%      3.085800e+02\n",
       "75%      4.541000e+02\n",
       "max      2.031540e+05\n",
       "Name: actualprincipalcollectedamount, dtype: float64"
      ]
     },
     "execution_count": 138,
     "metadata": {},
     "output_type": "execute_result"
    }
   ],
   "source": [
    "df.actualprincipalcollectedamount.describe()"
   ]
  },
  {
   "cell_type": "code",
   "execution_count": 139,
   "metadata": {},
   "outputs": [
    {
     "name": "stdout",
     "output_type": "stream",
     "text": [
      "Number of loans with zero or negative actual principal collected amount : 3396019\n"
     ]
    },
    {
     "data": {
      "text/plain": [
       "(27570009, 103)"
      ]
     },
     "execution_count": 139,
     "metadata": {},
     "output_type": "execute_result"
    }
   ],
   "source": [
    "u=pd.value_counts(df.actualprincipalcollectedamount<=0)\n",
    "if len(u)<2:\n",
    "    print('No blank or zero actual principal collected amount')\n",
    "else: \n",
    "    print('Number of loans with zero or negative actual principal collected amount',':', u[1])\n",
    "    #print('Dropping ', u[1], 'rows and retaining loans with positive actual principal collected amount')\n",
    "    #df=df[df.actualprincipalcollectedamount>0]\n",
    "df.shape"
   ]
  },
  {
   "cell_type": "markdown",
   "metadata": {},
   "source": [
    "# Interest paid through date"
   ]
  },
  {
   "cell_type": "code",
   "execution_count": 140,
   "metadata": {},
   "outputs": [
    {
     "data": {
      "text/plain": [
       "1900-01-01    1323367\n",
       "2018-06-15     225645\n",
       "2018-06-29     187585\n",
       "2018-03-30     176286\n",
       "2018-05-25     169179\n",
       "2018-04-20     167682\n",
       "2018-05-15     167560\n",
       "2018-02-28     165562\n",
       "2018-04-13     161320\n",
       "2018-05-18     160555\n",
       "Name: interestpaidthroughdate, dtype: int64"
      ]
     },
     "execution_count": 140,
     "metadata": {},
     "output_type": "execute_result"
    }
   ],
   "source": [
    "pd.value_counts(df.interestpaidthroughdate).head(n=10)"
   ]
  },
  {
   "cell_type": "code",
   "execution_count": 141,
   "metadata": {},
   "outputs": [
    {
     "data": {
      "text/plain": [
       "count       26594777\n",
       "unique          2099\n",
       "top       1900-01-01\n",
       "freq         1323367\n",
       "Name: interestpaidthroughdate, dtype: object"
      ]
     },
     "execution_count": 141,
     "metadata": {},
     "output_type": "execute_result"
    }
   ],
   "source": [
    "df.interestpaidthroughdate.describe()"
   ]
  },
  {
   "cell_type": "code",
   "execution_count": 142,
   "metadata": {},
   "outputs": [
    {
     "name": "stdout",
     "output_type": "stream",
     "text": [
      "Number of loans with zero or 1900-01-01 as  interest paid throughdate : 1323367\n"
     ]
    },
    {
     "data": {
      "text/plain": [
       "(27570009, 103)"
      ]
     },
     "execution_count": 142,
     "metadata": {},
     "output_type": "execute_result"
    }
   ],
   "source": [
    "u=pd.value_counts(df.interestpaidthroughdate=='1900-01-01')\n",
    "if len(u)<2:\n",
    "    print('No blank or zero interest paid throughdate as 1900-01-01')\n",
    "else: \n",
    "    print('Number of loans with zero or 1900-01-01 as  interest paid throughdate',':', u[1])\n",
    "    #print('Dropping ', u[1], 'rows and retaining loans with correct interest paid throughdate')\n",
    "    #df=df[df.interestpaidthroughdate>'1900-01-01']\n",
    "df.shape"
   ]
  },
  {
   "cell_type": "code",
   "execution_count": 143,
   "metadata": {},
   "outputs": [
    {
     "data": {
      "text/plain": [
       "(27570009, 102)"
      ]
     },
     "execution_count": 143,
     "metadata": {},
     "output_type": "execute_result"
    }
   ],
   "source": [
    "df.drop(['interestpaidthroughdate'], axis=1, inplace=True)\n",
    "df.shape"
   ]
  },
  {
   "cell_type": "markdown",
   "metadata": {},
   "source": [
    "# Days from origination to first payment date"
   ]
  },
  {
   "cell_type": "code",
   "execution_count": 144,
   "metadata": {},
   "outputs": [
    {
     "data": {
      "image/png": "[encoded data removed]",
      "text/plain": [
       "<matplotlib.figure.Figure at 0x27b81639c18>"
      ]
     },
     "metadata": {},
     "output_type": "display_data"
    },
    {
     "name": "stdout",
     "output_type": "stream",
     "text": [
      "Top  -1  counts:  \n",
      " 31 days     8641594\n",
      "61 days     8120162\n",
      "30 days     5396118\n",
      "62 days     1805787\n",
      "59 days     1688986\n",
      "28 days      935868\n",
      "60 days      276803\n",
      "92 days      263501\n",
      "29 days      156815\n",
      "91 days      129805\n",
      "90 days       79726\n",
      "0 days        51016\n",
      "89 days       20751\n",
      "120 days       2393\n",
      "122 days        404\n",
      "-31 days        136\n",
      "123 days         58\n",
      "121 days         46\n",
      "-62 days         14\n",
      "-30 days         11\n",
      "153 days          8\n",
      "Name: daystofirstpayment, dtype: int64\n"
     ]
    }
   ],
   "source": [
    "df['daystofirstpayment'] = pd.to_datetime(df['originalfirstpaymentdate'])-pd.to_datetime(df['originationdate'])\n",
    "#draw a chart for visual look and analysis\n",
    "draw(df.daystofirstpayment, title='Days to First Payment', ylabel='Number of Loans', sort = True)\n"
   ]
  },
  {
   "cell_type": "code",
   "execution_count": 145,
   "metadata": {},
   "outputs": [
    {
     "data": {
      "text/plain": [
       "count                   27570009\n",
       "mean     44 days 14:17:20.446667\n",
       "std      16 days 08:51:36.138760\n",
       "min           -62 days +00:00:00\n",
       "25%             31 days 00:00:00\n",
       "50%             31 days 00:00:00\n",
       "75%             61 days 00:00:00\n",
       "max            214 days 00:00:00\n",
       "Name: daystofirstpayment, dtype: object"
      ]
     },
     "execution_count": 145,
     "metadata": {},
     "output_type": "execute_result"
    }
   ],
   "source": [
    "df.daystofirstpayment.describe()"
   ]
  },
  {
   "cell_type": "code",
   "execution_count": 146,
   "metadata": {},
   "outputs": [
    {
     "data": {
      "text/plain": [
       "31511673    31\n",
       "31511674    31\n",
       "31511675    31\n",
       "31511676    61\n",
       "31511677    31\n",
       "Name: daystofirstpayment, dtype: int64"
      ]
     },
     "execution_count": 146,
     "metadata": {},
     "output_type": "execute_result"
    }
   ],
   "source": [
    "#remove days string for machine learning\n",
    "df['daystofirstpayment']=df.daystofirstpayment.map(lambda x: np.nan if pd.isnull(x) else x.days)\n",
    "#display last five rows\n",
    "df.daystofirstpayment.tail()"
   ]
  },
  {
   "cell_type": "code",
   "execution_count": 147,
   "metadata": {},
   "outputs": [
    {
     "name": "stdout",
     "output_type": "stream",
     "text": [
      "Number of loans with zero days to first payment : 51016\n"
     ]
    },
    {
     "data": {
      "text/plain": [
       "(27570009, 103)"
      ]
     },
     "execution_count": 147,
     "metadata": {},
     "output_type": "execute_result"
    }
   ],
   "source": [
    "u=pd.value_counts(df.daystofirstpayment==0)\n",
    "if len(u)<2:\n",
    "    print('No blank or zero days to first payment')\n",
    "else: \n",
    "    print('Number of loans with zero days to first payment',':', u[1])\n",
    "    #print('Dropping ', u[1], 'rows and retaining loans with positive total actual amount paid')\n",
    "    #df=df[df.daystofirstpayment>0]\n",
    "df.shape"
   ]
  },
  {
   "cell_type": "code",
   "execution_count": 148,
   "metadata": {},
   "outputs": [
    {
     "data": {
      "text/plain": [
       "(27570009, 102)"
      ]
     },
     "execution_count": 148,
     "metadata": {},
     "output_type": "execute_result"
    }
   ],
   "source": [
    "df.drop(['originalfirstpaymentdate'], axis=1, inplace=True)\n",
    "df.shape"
   ]
  },
  {
   "cell_type": "markdown",
   "metadata": {},
   "source": [
    "# Grace Period"
   ]
  },
  {
   "cell_type": "code",
   "execution_count": 149,
   "metadata": {},
   "outputs": [
    {
     "data": {
      "image/png": "[encoded data removed]",
      "text/plain": [
       "<matplotlib.figure.Figure at 0x27b81804198>"
      ]
     },
     "metadata": {},
     "output_type": "display_data"
    },
    {
     "name": "stdout",
     "output_type": "stream",
     "text": [
      "Top  -1  counts:  \n",
      " 1.0    14624026\n",
      "2.0    12282690\n",
      "3.0      500053\n",
      "0.0      160527\n",
      "4.0        2705\n",
      "Name: graceperiodnumber, dtype: int64\n"
     ]
    }
   ],
   "source": [
    "draw(df.graceperiodnumber, title='Grace period Number', ylabel='Number of Loans', sort = True)"
   ]
  },
  {
   "cell_type": "code",
   "execution_count": 150,
   "metadata": {},
   "outputs": [
    {
     "data": {
      "text/plain": [
       "count    2.757001e+07\n",
       "mean     1.476257e+00\n",
       "std      5.458467e-01\n",
       "min      0.000000e+00\n",
       "25%      1.000000e+00\n",
       "50%      1.000000e+00\n",
       "75%      2.000000e+00\n",
       "max      5.000000e+00\n",
       "Name: graceperiodnumber, dtype: float64"
      ]
     },
     "execution_count": 150,
     "metadata": {},
     "output_type": "execute_result"
    }
   ],
   "source": [
    "df.graceperiodnumber.describe()"
   ]
  },
  {
   "cell_type": "code",
   "execution_count": 151,
   "metadata": {},
   "outputs": [
    {
     "name": "stdout",
     "output_type": "stream",
     "text": [
      "Number of loans with zero grace period number : 160527\n"
     ]
    },
    {
     "data": {
      "text/plain": [
       "(27570009, 102)"
      ]
     },
     "execution_count": 151,
     "metadata": {},
     "output_type": "execute_result"
    }
   ],
   "source": [
    "u=pd.value_counts(df.graceperiodnumber==0)\n",
    "if len(u)<2:\n",
    "    print('No blank or zero grace period number')\n",
    "else: \n",
    "    print('Number of loans with zero grace period number',':', u[1])\n",
    "    #print('Dropping ', u[1], 'rows and retaining loans with positive grace period number')\n",
    "    #df=df[df.graceperiodnumber>0]\n",
    "df.shape"
   ]
  },
  {
   "cell_type": "markdown",
   "metadata": {},
   "source": [
    "# Asset added indicator"
   ]
  },
  {
   "cell_type": "code",
   "execution_count": 152,
   "metadata": {
    "collapsed": true
   },
   "outputs": [],
   "source": [
    "df['assetaddedindicator']=df.assetaddedindicator.astype('category')"
   ]
  },
  {
   "cell_type": "code",
   "execution_count": 153,
   "metadata": {},
   "outputs": [
    {
     "data": {
      "image/png": "[encoded data removed]",
      "text/plain": [
       "<matplotlib.figure.Figure at 0x27b8298be80>"
      ]
     },
     "metadata": {},
     "output_type": "display_data"
    },
    {
     "name": "stdout",
     "output_type": "stream",
     "text": [
      "Top  -1  counts:  \n",
      " False    22560250\n",
      "Name: assetaddedindicator, dtype: int64\n"
     ]
    }
   ],
   "source": [
    "draw(df.assetaddedindicator, title='Asset Added Indicator', ylabel='Number of Loans', sort = True)"
   ]
  },
  {
   "cell_type": "code",
   "execution_count": 154,
   "metadata": {},
   "outputs": [
    {
     "data": {
      "text/plain": [
       "count     22767135\n",
       "unique           2\n",
       "top          False\n",
       "freq      22560250\n",
       "Name: assetaddedindicator, dtype: object"
      ]
     },
     "execution_count": 154,
     "metadata": {},
     "output_type": "execute_result"
    }
   ],
   "source": [
    "df.assetaddedindicator.describe()"
   ]
  },
  {
   "cell_type": "code",
   "execution_count": 155,
   "metadata": {},
   "outputs": [
    {
     "name": "stdout",
     "output_type": "stream",
     "text": [
      "Number of loans with zero or blank Asset Added Indicator : 5009759\n"
     ]
    },
    {
     "data": {
      "text/plain": [
       "(27570009, 102)"
      ]
     },
     "execution_count": 155,
     "metadata": {},
     "output_type": "execute_result"
    }
   ],
   "source": [
    "u=pd.value_counts(df.assetaddedindicator!=False)\n",
    "if len(u)<2:\n",
    "    print('No blank or zero Asset Added Indicator')\n",
    "else: \n",
    "    print('Number of loans with zero or blank Asset Added Indicator',':', u[1])\n",
    "    #print('Dropping ', u[1], 'rows and retaining loans with positive asset added indicator')\n",
    "    #df=df[df.assetaddedindicator>0]\n",
    "df.shape"
   ]
  },
  {
   "cell_type": "code",
   "execution_count": 156,
   "metadata": {},
   "outputs": [
    {
     "data": {
      "text/plain": [
       "(27570009, 101)"
      ]
     },
     "execution_count": 156,
     "metadata": {},
     "output_type": "execute_result"
    }
   ],
   "source": [
    "df.drop(['assetaddedindicator'], axis=1, inplace=True)\n",
    "df.shape"
   ]
  },
  {
   "cell_type": "markdown",
   "metadata": {},
   "source": [
    "# Reporting Period Modification Indicator"
   ]
  },
  {
   "cell_type": "code",
   "execution_count": 157,
   "metadata": {
    "collapsed": true
   },
   "outputs": [],
   "source": [
    "df['reportingperiodmodificationindicator']=df.reportingperiodmodificationindicator.astype('category')"
   ]
  },
  {
   "cell_type": "code",
   "execution_count": 158,
   "metadata": {},
   "outputs": [
    {
     "data": {
      "image/png": "[encoded data removed]",
      "text/plain": [
       "<matplotlib.figure.Figure at 0x27b9edf3b70>"
      ]
     },
     "metadata": {},
     "output_type": "display_data"
    },
    {
     "name": "stdout",
     "output_type": "stream",
     "text": [
      "Top  -1  counts:  \n",
      " False    24417604\n",
      "Name: reportingperiodmodificationindicator, dtype: int64\n"
     ]
    }
   ],
   "source": [
    "draw(df.reportingperiodmodificationindicator, title='Reporting Period Modification Error', ylabel='Number of Loans', sort = True)"
   ]
  },
  {
   "cell_type": "code",
   "execution_count": 159,
   "metadata": {},
   "outputs": [
    {
     "data": {
      "text/plain": [
       "count     24715832\n",
       "unique           2\n",
       "top          False\n",
       "freq      24417604\n",
       "Name: reportingperiodmodificationindicator, dtype: object"
      ]
     },
     "execution_count": 159,
     "metadata": {},
     "output_type": "execute_result"
    }
   ],
   "source": [
    "df.reportingperiodmodificationindicator.describe()"
   ]
  },
  {
   "cell_type": "markdown",
   "metadata": {},
   "source": [
    "# Create Features for Reporting Period Modification Indicator True"
   ]
  },
  {
   "cell_type": "code",
   "execution_count": 160,
   "metadata": {},
   "outputs": [
    {
     "data": {
      "text/plain": [
       "0    27271781\n",
       "1      298228\n",
       "Name: reportingperiodmodificationindicator_true, dtype: int64"
      ]
     },
     "execution_count": 160,
     "metadata": {},
     "output_type": "execute_result"
    }
   ],
   "source": [
    "def map_reportingperiodmodificationindicator_true(*args):\n",
    "    columns = [col for col in args]\n",
    "    for column in columns:\n",
    "        if column == 1:\n",
    "            return 1\n",
    "        else:\n",
    "            return 0\n",
    "        \n",
    "df['reportingperiodmodificationindicator_true'] = list(map(map_reportingperiodmodificationindicator_true, df.reportingperiodmodificationindicator))\n",
    "df.drop(['reportingperiodmodificationindicator'], axis=1, inplace=True)\n",
    "pd.value_counts(df.reportingperiodmodificationindicator_true)"
   ]
  },
  {
   "cell_type": "code",
   "execution_count": 161,
   "metadata": {},
   "outputs": [
    {
     "data": {
      "text/plain": [
       "(27570009, 101)"
      ]
     },
     "execution_count": 161,
     "metadata": {},
     "output_type": "execute_result"
    }
   ],
   "source": [
    "df.shape"
   ]
  },
  {
   "cell_type": "markdown",
   "metadata": {},
   "source": [
    "# Servicing Advance Method Code"
   ]
  },
  {
   "cell_type": "code",
   "execution_count": 162,
   "metadata": {
    "collapsed": true
   },
   "outputs": [],
   "source": [
    "df['servicingadvancemethodcode']=df.servicingadvancemethodcode.astype('category')"
   ]
  },
  {
   "cell_type": "code",
   "execution_count": 163,
   "metadata": {},
   "outputs": [
    {
     "data": {
      "image/png": "[encoded data removed]",
      "text/plain": [
       "<matplotlib.figure.Figure at 0x27b9edf8e10>"
      ]
     },
     "metadata": {},
     "output_type": "display_data"
    },
    {
     "name": "stdout",
     "output_type": "stream",
     "text": [
      "Top  -1  counts:  \n",
      " 1.0    27312049\n",
      "2.0      247705\n",
      "Name: servicingadvancemethodcode, dtype: int64\n"
     ]
    }
   ],
   "source": [
    "draw(df.servicingadvancemethodcode, title='Serving Advance Method Code', ylabel='Number of Loans', sort = True)"
   ]
  },
  {
   "cell_type": "code",
   "execution_count": 164,
   "metadata": {},
   "outputs": [
    {
     "data": {
      "text/plain": [
       "count     27570009.0\n",
       "unique           3.0\n",
       "top              1.0\n",
       "freq      27312049.0\n",
       "Name: servicingadvancemethodcode, dtype: float64"
      ]
     },
     "execution_count": 164,
     "metadata": {},
     "output_type": "execute_result"
    }
   ],
   "source": [
    "df.servicingadvancemethodcode.describe()"
   ]
  },
  {
   "cell_type": "markdown",
   "metadata": {},
   "source": [
    "# Create Feature Columns for Servicing Advance Method Codes"
   ]
  },
  {
   "cell_type": "code",
   "execution_count": 165,
   "metadata": {
    "collapsed": true
   },
   "outputs": [],
   "source": [
    "def map_servicingadvancemethodcode(*args):\n",
    "    columns = [col for col in args]\n",
    "    for column in columns:\n",
    "        if column == code:\n",
    "            return 1\n",
    "        else:\n",
    "            return 0\n",
    "codes = pd.value_counts(df.servicingadvancemethodcode).index.tolist()\n",
    "\n",
    "for code in codes:\n",
    "        df['servicingadvancemethod_code{}'.format(code)] = list(map(map_servicingadvancemethodcode, df.servicingadvancemethodcode))\n"
   ]
  },
  {
   "cell_type": "code",
   "execution_count": 166,
   "metadata": {},
   "outputs": [
    {
     "data": {
      "text/plain": [
       "(27570009, 103)"
      ]
     },
     "execution_count": 166,
     "metadata": {},
     "output_type": "execute_result"
    }
   ],
   "source": [
    "df.drop(['servicingadvancemethodcode'], axis=1, inplace=True)\n",
    "df.shape"
   ]
  },
  {
   "cell_type": "markdown",
   "metadata": {},
   "source": [
    "# Other Principal Adjustment Amount"
   ]
  },
  {
   "cell_type": "code",
   "execution_count": 167,
   "metadata": {},
   "outputs": [
    {
     "data": {
      "text/plain": [
       "count    2.756255e+07\n",
       "mean    -1.542018e+01\n",
       "std      6.718883e+02\n",
       "min     -7.466276e+04\n",
       "25%      0.000000e+00\n",
       "50%      0.000000e+00\n",
       "75%      0.000000e+00\n",
       "max      7.299528e+04\n",
       "Name: otherprincipaladjustmentamount, dtype: float64"
      ]
     },
     "execution_count": 167,
     "metadata": {},
     "output_type": "execute_result"
    }
   ],
   "source": [
    "df.otherprincipaladjustmentamount.describe()"
   ]
  },
  {
   "cell_type": "code",
   "execution_count": 168,
   "metadata": {},
   "outputs": [
    {
     "name": "stdout",
     "output_type": "stream",
     "text": [
      "Number of loans with zero other principal adjustment amount : 27569841\n"
     ]
    },
    {
     "data": {
      "text/plain": [
       "(27570009, 103)"
      ]
     },
     "execution_count": 168,
     "metadata": {},
     "output_type": "execute_result"
    }
   ],
   "source": [
    "u=pd.value_counts(df.otherprincipaladjustmentamount!=True)\n",
    "if len(u)<2:\n",
    "    print('No blank other principal adjustment amount')\n",
    "else: \n",
    "    print('Number of loans with zero other principal adjustment amount',':', u[1])\n",
    "    #print('Dropping ', u[1], 'rows and retaining loans with other principal adjustment amount')\n",
    "    #df=df[df.otherprincipaladjustmentamount>0]\n",
    "df.shape"
   ]
  },
  {
   "cell_type": "markdown",
   "metadata": {},
   "source": [
    "# Zero Balance Effective Date"
   ]
  },
  {
   "cell_type": "code",
   "execution_count": 169,
   "metadata": {},
   "outputs": [
    {
     "data": {
      "text/plain": [
       "count           3256\n",
       "unique            13\n",
       "top       2018-05-31\n",
       "freq             466\n",
       "Name: zerobalanceeffectivedate, dtype: object"
      ]
     },
     "execution_count": 169,
     "metadata": {},
     "output_type": "execute_result"
    }
   ],
   "source": [
    "df.zerobalanceeffectivedate.describe()"
   ]
  },
  {
   "cell_type": "markdown",
   "metadata": {
    "collapsed": true
   },
   "source": [
    "# Creating new feature column for zero balance effective date"
   ]
  },
  {
   "cell_type": "code",
   "execution_count": 170,
   "metadata": {
    "collapsed": true
   },
   "outputs": [],
   "source": [
    "for i in pd.value_counts(df.zerobalanceeffectivedate).keys().tolist():\n",
    "    if i>cutOffForOriginationDate:\n",
    "        df['zerobalanceeffectivedate_calc'] = pd.to_datetime(df['zerobalanceeffectivedate'])-pd.to_datetime(df['originationdate'])\n",
    "df['zerobalanceeffectivedate_calc']=df.zerobalanceeffectivedate_calc.map(lambda x: np.nan if pd.isnull(x) else x.days)\n",
    "#df.zerobalanceeffectivedate_calc.replace(np.nan, 0, inplace = True)"
   ]
  },
  {
   "cell_type": "code",
   "execution_count": 171,
   "metadata": {},
   "outputs": [
    {
     "data": {
      "text/plain": [
       "count    3256.000000\n",
       "mean      690.350737\n",
       "std       500.203324\n",
       "min        30.000000\n",
       "25%       327.000000\n",
       "50%       580.500000\n",
       "75%       912.000000\n",
       "max      2344.000000\n",
       "Name: zerobalanceeffectivedate_calc, dtype: float64"
      ]
     },
     "execution_count": 171,
     "metadata": {},
     "output_type": "execute_result"
    }
   ],
   "source": [
    "df.zerobalanceeffectivedate_calc.describe()"
   ]
  },
  {
   "cell_type": "code",
   "execution_count": 172,
   "metadata": {
    "collapsed": true
   },
   "outputs": [],
   "source": [
    "# fill NaN values with zeros\n",
    "df.zerobalanceeffectivedate_calc.replace(np.nan, 0, inplace = True)"
   ]
  },
  {
   "cell_type": "code",
   "execution_count": 173,
   "metadata": {},
   "outputs": [
    {
     "data": {
      "text/plain": [
       "(27570009, 103)"
      ]
     },
     "execution_count": 173,
     "metadata": {},
     "output_type": "execute_result"
    }
   ],
   "source": [
    "df.drop(['zerobalanceeffectivedate'], axis=1, inplace=True)\n",
    "df.shape"
   ]
  },
  {
   "cell_type": "markdown",
   "metadata": {},
   "source": [
    "# Zero Balance Code"
   ]
  },
  {
   "cell_type": "code",
   "execution_count": 174,
   "metadata": {
    "collapsed": true
   },
   "outputs": [],
   "source": [
    "df['zerobalancecode']=df.zerobalancecode.astype('category')"
   ]
  },
  {
   "cell_type": "code",
   "execution_count": 175,
   "metadata": {},
   "outputs": [
    {
     "data": {
      "image/png": "[encoded data removed]",
      "text/plain": [
       "<matplotlib.figure.Figure at 0x27b828dde48>"
      ]
     },
     "metadata": {},
     "output_type": "display_data"
    },
    {
     "name": "stdout",
     "output_type": "stream",
     "text": [
      "Top  -1  counts:  \n",
      " []        27172911\n",
      "[\"99\"]      393842\n",
      "[\"1\"]         2335\n",
      "[\"3\"]          578\n",
      "Name: zerobalancecode, dtype: int64\n"
     ]
    }
   ],
   "source": [
    "draw(df.zerobalancecode, title='Zero Balance Code', ylabel='Number of Loans', sort = True)"
   ]
  },
  {
   "cell_type": "markdown",
   "metadata": {},
   "source": [
    "# Create feature column for zero balance code"
   ]
  },
  {
   "cell_type": "code",
   "execution_count": 176,
   "metadata": {
    "collapsed": true
   },
   "outputs": [],
   "source": [
    "def map_zerobalancecode(*args):\n",
    "    columns = [col for col in args]\n",
    "    for column in columns:\n",
    "        if column == code:\n",
    "            return 1\n",
    "        else:\n",
    "            return 0\n",
    "codes = pd.value_counts(df.zerobalancecode).index.tolist()\n",
    "\n",
    "for code in codes:\n",
    "        df['zerobalance_code{}'.format(code)] = list(map(map_zerobalancecode, df.zerobalancecode))\n"
   ]
  },
  {
   "cell_type": "code",
   "execution_count": 177,
   "metadata": {},
   "outputs": [
    {
     "data": {
      "text/plain": [
       "(27570009, 108)"
      ]
     },
     "execution_count": 177,
     "metadata": {},
     "output_type": "execute_result"
    }
   ],
   "source": [
    "df.shape"
   ]
  },
  {
   "cell_type": "code",
   "execution_count": 178,
   "metadata": {},
   "outputs": [
    {
     "data": {
      "text/plain": [
       "(27570009, 107)"
      ]
     },
     "execution_count": 178,
     "metadata": {},
     "output_type": "execute_result"
    }
   ],
   "source": [
    "df.drop(['zerobalancecode'], axis=1, inplace=True)\n",
    "df.shape"
   ]
  },
  {
   "cell_type": "code",
   "execution_count": 179,
   "metadata": {
    "collapsed": true
   },
   "outputs": [],
   "source": [
    "# df.set_index('originationdate')\n",
    "# df.sort_values(by='originationdate', ascending=True)"
   ]
  },
  {
   "cell_type": "markdown",
   "metadata": {},
   "source": [
    "# Add S&P Experian default index and historical data"
   ]
  },
  {
   "cell_type": "code",
   "execution_count": 180,
   "metadata": {
    "collapsed": true
   },
   "outputs": [],
   "source": [
    "df=df.set_index('reportingperiodendingdate')\n",
    "#df.head()\n",
    "#df.to_csv('c:users/ugy1/abs/datasets/df.csv')"
   ]
  },
  {
   "cell_type": "code",
   "execution_count": 181,
   "metadata": {
    "collapsed": true
   },
   "outputs": [],
   "source": [
    "df1=pd.read_csv(path+'datasets/s&pExperianAutoDefaultIndex.csv', index_col=0)\n",
    "df=df.join(df1)\n",
    "df2=pd.read_csv(path+'datasets/experianHistDefaultRates.csv', index_col=0)\n",
    "df=df.join(df2)"
   ]
  },
  {
   "cell_type": "code",
   "execution_count": 182,
   "metadata": {},
   "outputs": [
    {
     "data": {
      "text/html": [
       "<div>\n",
       "<style scoped>\n",
       "    .dataframe tbody tr th:only-of-type {\n",
       "        vertical-align: middle;\n",
       "    }\n",
       "\n",
       "    .dataframe tbody tr th {\n",
       "        vertical-align: top;\n",
       "    }\n",
       "\n",
       "    .dataframe thead th {\n",
       "        text-align: right;\n",
       "    }\n",
       "</style>\n",
       "<table border=\"1\" class=\"dataframe\">\n",
       "  <thead>\n",
       "    <tr style=\"text-align: right;\">\n",
       "      <th></th>\n",
       "      <th>cik</th>\n",
       "      <th>assetnumber</th>\n",
       "      <th>reportingperiodbeginningdate</th>\n",
       "      <th>originationdate</th>\n",
       "      <th>originalloanamount</th>\n",
       "      <th>originalloanterm</th>\n",
       "      <th>originalinterestratepercentage</th>\n",
       "      <th>graceperiodnumber</th>\n",
       "      <th>obligorcreditscore</th>\n",
       "      <th>paymenttoincomepercentage</th>\n",
       "      <th>...</th>\n",
       "      <th>zerobalance_code[\"99\"]</th>\n",
       "      <th>zerobalance_code[\"1\"]</th>\n",
       "      <th>zerobalance_code[\"3\"]</th>\n",
       "      <th>zerobalance_code[\"4\"]</th>\n",
       "      <th>S&amp;P/Experian Auto Default Index</th>\n",
       "      <th>AutoIndex</th>\n",
       "      <th>BankCardIndex</th>\n",
       "      <th>FirstMortgageIndex</th>\n",
       "      <th>SecondMortgageIndex</th>\n",
       "      <th>CompositeIndex</th>\n",
       "    </tr>\n",
       "  </thead>\n",
       "  <tbody>\n",
       "    <tr>\n",
       "      <th>2016-12-31</th>\n",
       "      <td>1694276</td>\n",
       "      <td>3312469</td>\n",
       "      <td>2016-12-01</td>\n",
       "      <td>2016-10-31</td>\n",
       "      <td>19339.41</td>\n",
       "      <td>60.0</td>\n",
       "      <td>5.39</td>\n",
       "      <td>0.0</td>\n",
       "      <td>710</td>\n",
       "      <td>0.0682</td>\n",
       "      <td>...</td>\n",
       "      <td>0</td>\n",
       "      <td>0</td>\n",
       "      <td>0</td>\n",
       "      <td>0</td>\n",
       "      <td>0.0106</td>\n",
       "      <td>1.06</td>\n",
       "      <td>3.21</td>\n",
       "      <td>0.72</td>\n",
       "      <td>0.48</td>\n",
       "      <td>0.92</td>\n",
       "    </tr>\n",
       "    <tr>\n",
       "      <th>2016-12-31</th>\n",
       "      <td>1694276</td>\n",
       "      <td>3364684</td>\n",
       "      <td>2016-12-01</td>\n",
       "      <td>2016-10-31</td>\n",
       "      <td>17955.27</td>\n",
       "      <td>60.0</td>\n",
       "      <td>8.99</td>\n",
       "      <td>1.0</td>\n",
       "      <td>654</td>\n",
       "      <td>0.0792</td>\n",
       "      <td>...</td>\n",
       "      <td>0</td>\n",
       "      <td>0</td>\n",
       "      <td>0</td>\n",
       "      <td>0</td>\n",
       "      <td>0.0106</td>\n",
       "      <td>1.06</td>\n",
       "      <td>3.21</td>\n",
       "      <td>0.72</td>\n",
       "      <td>0.48</td>\n",
       "      <td>0.92</td>\n",
       "    </tr>\n",
       "    <tr>\n",
       "      <th>2016-12-31</th>\n",
       "      <td>1694276</td>\n",
       "      <td>3364692</td>\n",
       "      <td>2016-12-01</td>\n",
       "      <td>2016-10-31</td>\n",
       "      <td>14815.00</td>\n",
       "      <td>72.0</td>\n",
       "      <td>9.55</td>\n",
       "      <td>0.0</td>\n",
       "      <td>707</td>\n",
       "      <td>0.0372</td>\n",
       "      <td>...</td>\n",
       "      <td>0</td>\n",
       "      <td>0</td>\n",
       "      <td>0</td>\n",
       "      <td>0</td>\n",
       "      <td>0.0106</td>\n",
       "      <td>1.06</td>\n",
       "      <td>3.21</td>\n",
       "      <td>0.72</td>\n",
       "      <td>0.48</td>\n",
       "      <td>0.92</td>\n",
       "    </tr>\n",
       "    <tr>\n",
       "      <th>2016-12-31</th>\n",
       "      <td>1694276</td>\n",
       "      <td>3364718</td>\n",
       "      <td>2016-12-01</td>\n",
       "      <td>2016-10-31</td>\n",
       "      <td>13186.31</td>\n",
       "      <td>60.0</td>\n",
       "      <td>9.90</td>\n",
       "      <td>1.0</td>\n",
       "      <td>622</td>\n",
       "      <td>0.0488</td>\n",
       "      <td>...</td>\n",
       "      <td>0</td>\n",
       "      <td>0</td>\n",
       "      <td>0</td>\n",
       "      <td>0</td>\n",
       "      <td>0.0106</td>\n",
       "      <td>1.06</td>\n",
       "      <td>3.21</td>\n",
       "      <td>0.72</td>\n",
       "      <td>0.48</td>\n",
       "      <td>0.92</td>\n",
       "    </tr>\n",
       "    <tr>\n",
       "      <th>2016-12-31</th>\n",
       "      <td>1694276</td>\n",
       "      <td>3364734</td>\n",
       "      <td>2016-12-01</td>\n",
       "      <td>2016-10-31</td>\n",
       "      <td>16400.00</td>\n",
       "      <td>48.0</td>\n",
       "      <td>10.90</td>\n",
       "      <td>0.0</td>\n",
       "      <td>656</td>\n",
       "      <td>0.0829</td>\n",
       "      <td>...</td>\n",
       "      <td>0</td>\n",
       "      <td>0</td>\n",
       "      <td>0</td>\n",
       "      <td>0</td>\n",
       "      <td>0.0106</td>\n",
       "      <td>1.06</td>\n",
       "      <td>3.21</td>\n",
       "      <td>0.72</td>\n",
       "      <td>0.48</td>\n",
       "      <td>0.92</td>\n",
       "    </tr>\n",
       "  </tbody>\n",
       "</table>\n",
       "<p>5 rows × 112 columns</p>\n",
       "</div>"
      ],
      "text/plain": [
       "                cik assetnumber reportingperiodbeginningdate originationdate  \\\n",
       "2016-12-31  1694276     3312469                   2016-12-01      2016-10-31   \n",
       "2016-12-31  1694276     3364684                   2016-12-01      2016-10-31   \n",
       "2016-12-31  1694276     3364692                   2016-12-01      2016-10-31   \n",
       "2016-12-31  1694276     3364718                   2016-12-01      2016-10-31   \n",
       "2016-12-31  1694276     3364734                   2016-12-01      2016-10-31   \n",
       "\n",
       "            originalloanamount  originalloanterm  \\\n",
       "2016-12-31            19339.41              60.0   \n",
       "2016-12-31            17955.27              60.0   \n",
       "2016-12-31            14815.00              72.0   \n",
       "2016-12-31            13186.31              60.0   \n",
       "2016-12-31            16400.00              48.0   \n",
       "\n",
       "            originalinterestratepercentage  graceperiodnumber  \\\n",
       "2016-12-31                            5.39                0.0   \n",
       "2016-12-31                            8.99                1.0   \n",
       "2016-12-31                            9.55                0.0   \n",
       "2016-12-31                            9.90                1.0   \n",
       "2016-12-31                           10.90                0.0   \n",
       "\n",
       "           obligorcreditscore  paymenttoincomepercentage       ...        \\\n",
       "2016-12-31                710                     0.0682       ...         \n",
       "2016-12-31                654                     0.0792       ...         \n",
       "2016-12-31                707                     0.0372       ...         \n",
       "2016-12-31                622                     0.0488       ...         \n",
       "2016-12-31                656                     0.0829       ...         \n",
       "\n",
       "            zerobalance_code[\"99\"]  zerobalance_code[\"1\"]  \\\n",
       "2016-12-31                       0                      0   \n",
       "2016-12-31                       0                      0   \n",
       "2016-12-31                       0                      0   \n",
       "2016-12-31                       0                      0   \n",
       "2016-12-31                       0                      0   \n",
       "\n",
       "            zerobalance_code[\"3\"]  zerobalance_code[\"4\"]  \\\n",
       "2016-12-31                      0                      0   \n",
       "2016-12-31                      0                      0   \n",
       "2016-12-31                      0                      0   \n",
       "2016-12-31                      0                      0   \n",
       "2016-12-31                      0                      0   \n",
       "\n",
       "            S&P/Experian Auto Default Index  AutoIndex  BankCardIndex  \\\n",
       "2016-12-31                           0.0106       1.06           3.21   \n",
       "2016-12-31                           0.0106       1.06           3.21   \n",
       "2016-12-31                           0.0106       1.06           3.21   \n",
       "2016-12-31                           0.0106       1.06           3.21   \n",
       "2016-12-31                           0.0106       1.06           3.21   \n",
       "\n",
       "            FirstMortgageIndex  SecondMortgageIndex  CompositeIndex  \n",
       "2016-12-31                0.72                 0.48            0.92  \n",
       "2016-12-31                0.72                 0.48            0.92  \n",
       "2016-12-31                0.72                 0.48            0.92  \n",
       "2016-12-31                0.72                 0.48            0.92  \n",
       "2016-12-31                0.72                 0.48            0.92  \n",
       "\n",
       "[5 rows x 112 columns]"
      ]
     },
     "execution_count": 182,
     "metadata": {},
     "output_type": "execute_result"
    }
   ],
   "source": [
    "df.head()"
   ]
  },
  {
   "cell_type": "code",
   "execution_count": 183,
   "metadata": {},
   "outputs": [
    {
     "data": {
      "text/plain": [
       "(27570009, 110)"
      ]
     },
     "execution_count": 183,
     "metadata": {},
     "output_type": "execute_result"
    }
   ],
   "source": [
    "#df=df.drop(['reportingperiodbeginningdate','originationdate\"], axis=1)\n",
    "df.drop(['reportingperiodbeginningdate','originationdate'], axis=1, inplace=True)\n",
    "df.shape\n",
    "        "
   ]
  },
  {
   "cell_type": "markdown",
   "metadata": {},
   "source": [
    "# Clean data"
   ]
  },
  {
   "cell_type": "code",
   "execution_count": 184,
   "metadata": {
    "collapsed": true
   },
   "outputs": [],
   "source": [
    "# change columns to lower case and remove prefix to enable pandas to work\n",
    "#column_list=[x.lower() for x in (column_list)]\n",
    "#df.columns=df.columns.str.replace('abs_loan.','')\n",
    "# convert objects to numeric\n",
    "#df=df.convert_objects(convert_numeric=True)"
   ]
  },
  {
   "cell_type": "markdown",
   "metadata": {},
   "source": [
    "# Check for null"
   ]
  },
  {
   "cell_type": "code",
   "execution_count": 185,
   "metadata": {},
   "outputs": [
    {
     "data": {
      "text/plain": [
       "True"
      ]
     },
     "execution_count": 185,
     "metadata": {},
     "output_type": "execute_result"
    }
   ],
   "source": [
    "df.isnull().values.any()"
   ]
  },
  {
   "cell_type": "markdown",
   "metadata": {},
   "source": [
    "# Loan Statistics"
   ]
  },
  {
   "cell_type": "code",
   "execution_count": 186,
   "metadata": {},
   "outputs": [
    {
     "data": {
      "text/html": [
       "<div>\n",
       "<style scoped>\n",
       "    .dataframe tbody tr th:only-of-type {\n",
       "        vertical-align: middle;\n",
       "    }\n",
       "\n",
       "    .dataframe tbody tr th {\n",
       "        vertical-align: top;\n",
       "    }\n",
       "\n",
       "    .dataframe thead th {\n",
       "        text-align: right;\n",
       "    }\n",
       "</style>\n",
       "<table border=\"1\" class=\"dataframe\">\n",
       "  <thead>\n",
       "    <tr style=\"text-align: right;\">\n",
       "      <th></th>\n",
       "      <th>cik</th>\n",
       "      <th>originalloanamount</th>\n",
       "      <th>originalloanterm</th>\n",
       "      <th>originalinterestratepercentage</th>\n",
       "      <th>graceperiodnumber</th>\n",
       "      <th>paymenttoincomepercentage</th>\n",
       "      <th>reportingperiodbeginningloanbalanceamount</th>\n",
       "      <th>nextreportingperiodpaymentamountdue</th>\n",
       "      <th>reportingperiodinterestratepercentage</th>\n",
       "      <th>nextinterestratepercentage</th>\n",
       "      <th>...</th>\n",
       "      <th>zerobalance_code[\"99\"]</th>\n",
       "      <th>zerobalance_code[\"1\"]</th>\n",
       "      <th>zerobalance_code[\"3\"]</th>\n",
       "      <th>zerobalance_code[\"4\"]</th>\n",
       "      <th>S&amp;P/Experian Auto Default Index</th>\n",
       "      <th>AutoIndex</th>\n",
       "      <th>BankCardIndex</th>\n",
       "      <th>FirstMortgageIndex</th>\n",
       "      <th>SecondMortgageIndex</th>\n",
       "      <th>CompositeIndex</th>\n",
       "    </tr>\n",
       "  </thead>\n",
       "  <tbody>\n",
       "    <tr>\n",
       "      <th>count</th>\n",
       "      <td>2.757001e+07</td>\n",
       "      <td>2.757001e+07</td>\n",
       "      <td>2.757001e+07</td>\n",
       "      <td>2.757001e+07</td>\n",
       "      <td>2.757001e+07</td>\n",
       "      <td>2.731061e+07</td>\n",
       "      <td>2.754101e+07</td>\n",
       "      <td>2.752509e+07</td>\n",
       "      <td>2.756134e+07</td>\n",
       "      <td>2.756922e+07</td>\n",
       "      <td>...</td>\n",
       "      <td>2.757001e+07</td>\n",
       "      <td>2.757001e+07</td>\n",
       "      <td>2.757001e+07</td>\n",
       "      <td>2.757001e+07</td>\n",
       "      <td>2.757001e+07</td>\n",
       "      <td>2.757001e+07</td>\n",
       "      <td>2.757001e+07</td>\n",
       "      <td>2.757001e+07</td>\n",
       "      <td>2.757001e+07</td>\n",
       "      <td>2.757001e+07</td>\n",
       "    </tr>\n",
       "    <tr>\n",
       "      <th>mean</th>\n",
       "      <td>1.716196e+06</td>\n",
       "      <td>2.404005e+04</td>\n",
       "      <td>6.708438e+01</td>\n",
       "      <td>1.242969e-01</td>\n",
       "      <td>1.476257e+00</td>\n",
       "      <td>7.436702e-01</td>\n",
       "      <td>1.755886e+04</td>\n",
       "      <td>4.770881e+02</td>\n",
       "      <td>1.723433e-01</td>\n",
       "      <td>1.723293e-01</td>\n",
       "      <td>...</td>\n",
       "      <td>1.428516e-02</td>\n",
       "      <td>8.469348e-05</td>\n",
       "      <td>2.096481e-05</td>\n",
       "      <td>1.244106e-05</td>\n",
       "      <td>9.683667e-03</td>\n",
       "      <td>9.850605e-01</td>\n",
       "      <td>3.651863e+00</td>\n",
       "      <td>6.668355e-01</td>\n",
       "      <td>6.496951e-01</td>\n",
       "      <td>8.957784e-01</td>\n",
       "    </tr>\n",
       "    <tr>\n",
       "      <th>std</th>\n",
       "      <td>3.236515e+04</td>\n",
       "      <td>1.076309e+04</td>\n",
       "      <td>8.423612e+00</td>\n",
       "      <td>5.494013e-01</td>\n",
       "      <td>5.458467e-01</td>\n",
       "      <td>3.230540e+01</td>\n",
       "      <td>1.004398e+04</td>\n",
       "      <td>4.445975e+02</td>\n",
       "      <td>8.677169e-01</td>\n",
       "      <td>8.675934e-01</td>\n",
       "      <td>...</td>\n",
       "      <td>1.186638e-01</td>\n",
       "      <td>9.202516e-03</td>\n",
       "      <td>4.578687e-03</td>\n",
       "      <td>3.527166e-03</td>\n",
       "      <td>5.682560e-04</td>\n",
       "      <td>6.115433e-02</td>\n",
       "      <td>2.058047e-01</td>\n",
       "      <td>3.180999e-02</td>\n",
       "      <td>1.809403e-01</td>\n",
       "      <td>3.657023e-02</td>\n",
       "    </tr>\n",
       "    <tr>\n",
       "      <th>min</th>\n",
       "      <td>1.129987e+06</td>\n",
       "      <td>5.510000e+02</td>\n",
       "      <td>1.000000e+01</td>\n",
       "      <td>0.000000e+00</td>\n",
       "      <td>0.000000e+00</td>\n",
       "      <td>0.000000e+00</td>\n",
       "      <td>0.000000e+00</td>\n",
       "      <td>-4.537913e+04</td>\n",
       "      <td>0.000000e+00</td>\n",
       "      <td>0.000000e+00</td>\n",
       "      <td>...</td>\n",
       "      <td>0.000000e+00</td>\n",
       "      <td>0.000000e+00</td>\n",
       "      <td>0.000000e+00</td>\n",
       "      <td>0.000000e+00</td>\n",
       "      <td>8.900000e-03</td>\n",
       "      <td>8.900000e-01</td>\n",
       "      <td>3.140000e+00</td>\n",
       "      <td>6.300000e-01</td>\n",
       "      <td>4.800000e-01</td>\n",
       "      <td>8.200000e-01</td>\n",
       "    </tr>\n",
       "    <tr>\n",
       "      <th>25%</th>\n",
       "      <td>1.705710e+06</td>\n",
       "      <td>1.653950e+04</td>\n",
       "      <td>6.100000e+01</td>\n",
       "      <td>1.900000e-02</td>\n",
       "      <td>1.000000e+00</td>\n",
       "      <td>4.770000e-02</td>\n",
       "      <td>1.081721e+04</td>\n",
       "      <td>2.563900e+02</td>\n",
       "      <td>1.900000e-02</td>\n",
       "      <td>1.900000e-02</td>\n",
       "      <td>...</td>\n",
       "      <td>0.000000e+00</td>\n",
       "      <td>0.000000e+00</td>\n",
       "      <td>0.000000e+00</td>\n",
       "      <td>0.000000e+00</td>\n",
       "      <td>9.300000e-03</td>\n",
       "      <td>9.300000e-01</td>\n",
       "      <td>3.520000e+00</td>\n",
       "      <td>6.300000e-01</td>\n",
       "      <td>5.700000e-01</td>\n",
       "      <td>8.600000e-01</td>\n",
       "    </tr>\n",
       "    <tr>\n",
       "      <th>50%</th>\n",
       "      <td>1.718100e+06</td>\n",
       "      <td>2.222240e+04</td>\n",
       "      <td>7.200000e+01</td>\n",
       "      <td>4.860000e-02</td>\n",
       "      <td>1.000000e+00</td>\n",
       "      <td>7.820000e-02</td>\n",
       "      <td>1.617465e+04</td>\n",
       "      <td>3.988200e+02</td>\n",
       "      <td>4.890000e-02</td>\n",
       "      <td>4.890000e-02</td>\n",
       "      <td>...</td>\n",
       "      <td>0.000000e+00</td>\n",
       "      <td>0.000000e+00</td>\n",
       "      <td>0.000000e+00</td>\n",
       "      <td>0.000000e+00</td>\n",
       "      <td>9.700000e-03</td>\n",
       "      <td>9.700000e-01</td>\n",
       "      <td>3.710000e+00</td>\n",
       "      <td>6.600000e-01</td>\n",
       "      <td>5.900000e-01</td>\n",
       "      <td>8.900000e-01</td>\n",
       "    </tr>\n",
       "    <tr>\n",
       "      <th>75%</th>\n",
       "      <td>1.728028e+06</td>\n",
       "      <td>2.940688e+04</td>\n",
       "      <td>7.300000e+01</td>\n",
       "      <td>1.133000e-01</td>\n",
       "      <td>2.000000e+00</td>\n",
       "      <td>1.230602e-01</td>\n",
       "      <td>2.265181e+04</td>\n",
       "      <td>5.912600e+02</td>\n",
       "      <td>1.145000e-01</td>\n",
       "      <td>1.145000e-01</td>\n",
       "      <td>...</td>\n",
       "      <td>0.000000e+00</td>\n",
       "      <td>0.000000e+00</td>\n",
       "      <td>0.000000e+00</td>\n",
       "      <td>0.000000e+00</td>\n",
       "      <td>9.900000e-03</td>\n",
       "      <td>9.900000e-01</td>\n",
       "      <td>3.840000e+00</td>\n",
       "      <td>6.800000e-01</td>\n",
       "      <td>5.900000e-01</td>\n",
       "      <td>9.200000e-01</td>\n",
       "    </tr>\n",
       "    <tr>\n",
       "      <th>max</th>\n",
       "      <td>1.754784e+06</td>\n",
       "      <td>2.432811e+05</td>\n",
       "      <td>8.600000e+01</td>\n",
       "      <td>2.299000e+01</td>\n",
       "      <td>5.000000e+00</td>\n",
       "      <td>8.121600e+04</td>\n",
       "      <td>2.128795e+05</td>\n",
       "      <td>2.050125e+04</td>\n",
       "      <td>2.400000e+01</td>\n",
       "      <td>2.400000e+01</td>\n",
       "      <td>...</td>\n",
       "      <td>1.000000e+00</td>\n",
       "      <td>1.000000e+00</td>\n",
       "      <td>1.000000e+00</td>\n",
       "      <td>1.000000e+00</td>\n",
       "      <td>1.100000e-02</td>\n",
       "      <td>1.110000e+00</td>\n",
       "      <td>3.860000e+00</td>\n",
       "      <td>7.500000e-01</td>\n",
       "      <td>1.220000e+00</td>\n",
       "      <td>9.600000e-01</td>\n",
       "    </tr>\n",
       "  </tbody>\n",
       "</table>\n",
       "<p>8 rows × 108 columns</p>\n",
       "</div>"
      ],
      "text/plain": [
       "                cik  originalloanamount  originalloanterm  \\\n",
       "count  2.757001e+07        2.757001e+07      2.757001e+07   \n",
       "mean   1.716196e+06        2.404005e+04      6.708438e+01   \n",
       "std    3.236515e+04        1.076309e+04      8.423612e+00   \n",
       "min    1.129987e+06        5.510000e+02      1.000000e+01   \n",
       "25%    1.705710e+06        1.653950e+04      6.100000e+01   \n",
       "50%    1.718100e+06        2.222240e+04      7.200000e+01   \n",
       "75%    1.728028e+06        2.940688e+04      7.300000e+01   \n",
       "max    1.754784e+06        2.432811e+05      8.600000e+01   \n",
       "\n",
       "       originalinterestratepercentage  graceperiodnumber  \\\n",
       "count                    2.757001e+07       2.757001e+07   \n",
       "mean                     1.242969e-01       1.476257e+00   \n",
       "std                      5.494013e-01       5.458467e-01   \n",
       "min                      0.000000e+00       0.000000e+00   \n",
       "25%                      1.900000e-02       1.000000e+00   \n",
       "50%                      4.860000e-02       1.000000e+00   \n",
       "75%                      1.133000e-01       2.000000e+00   \n",
       "max                      2.299000e+01       5.000000e+00   \n",
       "\n",
       "       paymenttoincomepercentage  reportingperiodbeginningloanbalanceamount  \\\n",
       "count               2.731061e+07                               2.754101e+07   \n",
       "mean                7.436702e-01                               1.755886e+04   \n",
       "std                 3.230540e+01                               1.004398e+04   \n",
       "min                 0.000000e+00                               0.000000e+00   \n",
       "25%                 4.770000e-02                               1.081721e+04   \n",
       "50%                 7.820000e-02                               1.617465e+04   \n",
       "75%                 1.230602e-01                               2.265181e+04   \n",
       "max                 8.121600e+04                               2.128795e+05   \n",
       "\n",
       "       nextreportingperiodpaymentamountdue  \\\n",
       "count                         2.752509e+07   \n",
       "mean                          4.770881e+02   \n",
       "std                           4.445975e+02   \n",
       "min                          -4.537913e+04   \n",
       "25%                           2.563900e+02   \n",
       "50%                           3.988200e+02   \n",
       "75%                           5.912600e+02   \n",
       "max                           2.050125e+04   \n",
       "\n",
       "       reportingperiodinterestratepercentage  nextinterestratepercentage  \\\n",
       "count                           2.756134e+07                2.756922e+07   \n",
       "mean                            1.723433e-01                1.723293e-01   \n",
       "std                             8.677169e-01                8.675934e-01   \n",
       "min                             0.000000e+00                0.000000e+00   \n",
       "25%                             1.900000e-02                1.900000e-02   \n",
       "50%                             4.890000e-02                4.890000e-02   \n",
       "75%                             1.145000e-01                1.145000e-01   \n",
       "max                             2.400000e+01                2.400000e+01   \n",
       "\n",
       "            ...        zerobalance_code[\"99\"]  zerobalance_code[\"1\"]  \\\n",
       "count       ...                  2.757001e+07           2.757001e+07   \n",
       "mean        ...                  1.428516e-02           8.469348e-05   \n",
       "std         ...                  1.186638e-01           9.202516e-03   \n",
       "min         ...                  0.000000e+00           0.000000e+00   \n",
       "25%         ...                  0.000000e+00           0.000000e+00   \n",
       "50%         ...                  0.000000e+00           0.000000e+00   \n",
       "75%         ...                  0.000000e+00           0.000000e+00   \n",
       "max         ...                  1.000000e+00           1.000000e+00   \n",
       "\n",
       "       zerobalance_code[\"3\"]  zerobalance_code[\"4\"]  \\\n",
       "count           2.757001e+07           2.757001e+07   \n",
       "mean            2.096481e-05           1.244106e-05   \n",
       "std             4.578687e-03           3.527166e-03   \n",
       "min             0.000000e+00           0.000000e+00   \n",
       "25%             0.000000e+00           0.000000e+00   \n",
       "50%             0.000000e+00           0.000000e+00   \n",
       "75%             0.000000e+00           0.000000e+00   \n",
       "max             1.000000e+00           1.000000e+00   \n",
       "\n",
       "       S&P/Experian Auto Default Index     AutoIndex  BankCardIndex  \\\n",
       "count                     2.757001e+07  2.757001e+07   2.757001e+07   \n",
       "mean                      9.683667e-03  9.850605e-01   3.651863e+00   \n",
       "std                       5.682560e-04  6.115433e-02   2.058047e-01   \n",
       "min                       8.900000e-03  8.900000e-01   3.140000e+00   \n",
       "25%                       9.300000e-03  9.300000e-01   3.520000e+00   \n",
       "50%                       9.700000e-03  9.700000e-01   3.710000e+00   \n",
       "75%                       9.900000e-03  9.900000e-01   3.840000e+00   \n",
       "max                       1.100000e-02  1.110000e+00   3.860000e+00   \n",
       "\n",
       "       FirstMortgageIndex  SecondMortgageIndex  CompositeIndex  \n",
       "count        2.757001e+07         2.757001e+07    2.757001e+07  \n",
       "mean         6.668355e-01         6.496951e-01    8.957784e-01  \n",
       "std          3.180999e-02         1.809403e-01    3.657023e-02  \n",
       "min          6.300000e-01         4.800000e-01    8.200000e-01  \n",
       "25%          6.300000e-01         5.700000e-01    8.600000e-01  \n",
       "50%          6.600000e-01         5.900000e-01    8.900000e-01  \n",
       "75%          6.800000e-01         5.900000e-01    9.200000e-01  \n",
       "max          7.500000e-01         1.220000e+00    9.600000e-01  \n",
       "\n",
       "[8 rows x 108 columns]"
      ]
     },
     "execution_count": 186,
     "metadata": {},
     "output_type": "execute_result"
    }
   ],
   "source": [
    "df.describe()"
   ]
  },
  {
   "cell_type": "markdown",
   "metadata": {},
   "source": [
    "# Current Vs Other Buckets"
   ]
  },
  {
   "cell_type": "code",
   "execution_count": 187,
   "metadata": {},
   "outputs": [
    {
     "data": {
      "image/png": "[encoded data removed]",
      "text/plain": [
       "<matplotlib.figure.Figure at 0x27b8282f0b8>"
      ]
     },
     "metadata": {},
     "output_type": "display_data"
    },
    {
     "name": "stdout",
     "output_type": "stream",
     "text": [
      "Number of loans Current : 24347180     Number of loans Not Current : 3222829\n"
     ]
    }
   ],
   "source": [
    "LABELS = ('Current', 'Not Current')\n",
    "count_classes = pd.value_counts(df.currentdelinquencystatus>0, sort = True)\n",
    "count_classes.plot(kind = 'bar', rot=0)\n",
    "plt.xticks(range(2), LABELS)\n",
    "plt.title('Deliquency Class')\n",
    "plt.ylabel(\"Number of Loans\")\n",
    "plt.show()\n",
    "print('Number of loans Current :', count_classes[0],'   ', 'Number of loans Not Current :', count_classes[1],)"
   ]
  },
  {
   "cell_type": "code",
   "execution_count": 188,
   "metadata": {},
   "outputs": [
    {
     "data": {
      "text/plain": [
       " 0.0      24334792\n",
       " 3.0        174847\n",
       " 2.0        165015\n",
       " 5.0        160650\n",
       " 4.0        144217\n",
       " 6.0        127463\n",
       " 7.0        113887\n",
       " 10.0       107775\n",
       " 1.0        105751\n",
       " 8.0        105058\n",
       " 15.0       104599\n",
       " 9.0         95502\n",
       " 16.0        87360\n",
       " 11.0        85567\n",
       " 13.0        80316\n",
       " 14.0        77284\n",
       " 12.0        77261\n",
       " 17.0        69965\n",
       " 18.0        61429\n",
       " 20.0        55992\n",
       " 19.0        55222\n",
       " 30.0        50147\n",
       " 21.0        47722\n",
       " 22.0        42249\n",
       " 25.0        39427\n",
       " 23.0        38533\n",
       " 24.0        36657\n",
       " 26.0        36563\n",
       " 27.0        34536\n",
       " 35.0        34035\n",
       "            ...   \n",
       " 291.0           1\n",
       " 321.0           1\n",
       " 342.0           1\n",
       " 279.0           1\n",
       " 185.0           1\n",
       " 250.0           1\n",
       " 211.0           1\n",
       " 378.0           1\n",
       " 311.0           1\n",
       " 152.0           1\n",
       " 177.0           1\n",
       " 183.0           1\n",
       " 187.0           1\n",
       " 190.0           1\n",
       " 200.0           1\n",
       " 202.0           1\n",
       " 210.0           1\n",
       " 212.0           1\n",
       " 242.0           1\n",
       " 218.0           1\n",
       " 223.0           1\n",
       " 224.0           1\n",
       " 225.0           1\n",
       " 226.0           1\n",
       " 231.0           1\n",
       " 238.0           1\n",
       " 239.0           1\n",
       "-1.0             1\n",
       " 241.0           1\n",
       " 315.0           1\n",
       "Name: currentdelinquencystatus, Length: 247, dtype: int64"
      ]
     },
     "execution_count": 188,
     "metadata": {},
     "output_type": "execute_result"
    }
   ],
   "source": [
    "pd.value_counts(df.currentdelinquencystatus)"
   ]
  },
  {
   "cell_type": "code",
   "execution_count": 189,
   "metadata": {},
   "outputs": [
    {
     "data": {
      "text/plain": [
       "count    2.755762e+07\n",
       "mean     2.520686e+00\n",
       "std      1.014280e+01\n",
       "min     -1.000000e+00\n",
       "25%      0.000000e+00\n",
       "50%      0.000000e+00\n",
       "75%      0.000000e+00\n",
       "max      3.780000e+02\n",
       "Name: currentdelinquencystatus, dtype: float64"
      ]
     },
     "execution_count": 189,
     "metadata": {},
     "output_type": "execute_result"
    }
   ],
   "source": [
    "df.currentdelinquencystatus.describe()"
   ]
  },
  {
   "cell_type": "code",
   "execution_count": 190,
   "metadata": {},
   "outputs": [
    {
     "name": "stdout",
     "output_type": "stream",
     "text": [
      "No blank current delinquency status\n"
     ]
    },
    {
     "data": {
      "text/plain": [
       "(27570009, 110)"
      ]
     },
     "execution_count": 190,
     "metadata": {},
     "output_type": "execute_result"
    }
   ],
   "source": [
    "u=pd.value_counts(df.currentdelinquencystatus==''.index) \n",
    "if len(u)<2:\n",
    "    print('No blank current delinquency status')\n",
    "else: \n",
    "    print('Number of loans with blank current delinquency status',':', u[1])\n",
    "    #print('Dropping ', u[1], 'rows and retaining loans with correct interest paid throughdate')\n",
    "    #df=df[df.interestpaidthroughdate>'1900-01-01']\n",
    "df.shape"
   ]
  },
  {
   "cell_type": "markdown",
   "metadata": {},
   "source": [
    "# Label Creation"
   ]
  },
  {
   "cell_type": "code",
   "execution_count": 191,
   "metadata": {},
   "outputs": [
    {
     "data": {
      "image/png": "[encoded data removed]",
      "text/plain": [
       "<matplotlib.figure.Figure at 0x27b8064c4a8>"
      ]
     },
     "metadata": {},
     "output_type": "display_data"
    },
    {
     "name": "stdout",
     "output_type": "stream",
     "text": [
      "Number of loans Current : 24334792     Number of loans Defaulted : 3222829\n"
     ]
    }
   ],
   "source": [
    "def map_label(*args):\n",
    "    columns = [col for col in args]\n",
    "    for column in columns:\n",
    "        if column > 0:\n",
    "            return 1\n",
    "        elif column == 0:\n",
    "            return 0\n",
    "        \n",
    "df['label'] = list(map(map_label, df.currentdelinquencystatus ))\n",
    "\n",
    "LABELS = ('Current', 'Default')\n",
    "count_classes = pd.value_counts(df.label, sort = True)\n",
    "count_classes.plot(kind = 'bar', rot=0)\n",
    "plt.xticks(range(2), LABELS)\n",
    "plt.title('Revised Deliquency Class')\n",
    "plt.ylabel(\"Number of Loans\")\n",
    "plt.show()\n",
    "print('Number of loans Current :', count_classes[0],'   ', 'Number of loans Defaulted :', count_classes[1],)"
   ]
  },
  {
   "cell_type": "markdown",
   "metadata": {},
   "source": [
    "# Loan Balance Amount at the End of Reporting Period"
   ]
  },
  {
   "cell_type": "code",
   "execution_count": null,
   "metadata": {},
   "outputs": [
    {
     "data": {
      "image/png": "[encoded data removed]",
      "text/plain": [
       "<matplotlib.figure.Figure at 0x27b8065b128>"
      ]
     },
     "metadata": {},
     "output_type": "display_data"
    }
   ],
   "source": [
    "current_df = df[df.label==0]\n",
    "not_current_df = df[df.label==1]\n",
    "bins = np.linspace(0, 100000, 100)\n",
    "plt.hist(current_df.reportingperiodactualendbalanceamount, bins, alpha=0.6, \n",
    "         #density=True, \n",
    "         label='CURRENT')\n",
    "plt.hist(not_current_df.reportingperiodactualendbalanceamount, bins, alpha=1, \n",
    "         #density=True, \n",
    "         label='NOT CURRENT')\n",
    "plt.legend(loc='upper right')\n",
    "plt.title(\"Loan Balance Amount at the end of reporting Period\")\n",
    "plt.xlabel('Loan Balance Amount')\n",
    "plt.ylabel('Number of of Loans')\n",
    "plt.show()"
   ]
  },
  {
   "cell_type": "markdown",
   "metadata": {},
   "source": [
    "# Manual oversampling of default data "
   ]
  },
  {
   "cell_type": "code",
   "execution_count": null,
   "metadata": {},
   "outputs": [
    {
     "name": "stdout",
     "output_type": "stream",
     "text": [
      "default:  (3222829, 111)\n",
      "copy default data  7  times\n",
      "0\n"
     ]
    }
   ],
   "source": [
    "#def manual_oversampling(df):\n",
    "default=df[df.label==1]\n",
    "print('default: ',default.shape)\n",
    "b=int((df.shape[0]-default.shape[0])/(default.shape[0]))\n",
    "print('copy default data ',b, ' times')\n",
    "b=int(b*manualOversamplingFactor)\n",
    "print(b)\n",
    "for i in range(b):\n",
    "    df=df.append(default, ignore_index=True)\n",
    "df=df.sample(frac=1).reset_index(drop=True)\n",
    "draw(df.label, title='Manual Oversampling -Current Vs Non-Current', ylabel='Number of Loans', sort=True)\n",
    "print(df.shape)\n",
    "print(pd.value_counts(df.label==1))\n",
    "#return df\n",
    "   "
   ]
  },
  {
   "cell_type": "code",
   "execution_count": null,
   "metadata": {
    "collapsed": true
   },
   "outputs": [],
   "source": [
    "#manual_oversampling(df)\n",
    "print(pd.value_counts(df.label==1))\n",
    "df.shape"
   ]
  },
  {
   "cell_type": "markdown",
   "metadata": {},
   "source": [
    "# Oversampling with SMOTE"
   ]
  },
  {
   "cell_type": "code",
   "execution_count": null,
   "metadata": {
    "collapsed": true
   },
   "outputs": [],
   "source": [
    "# from imblearn.over_sampling import SMOTE, ADASYN\n",
    "# x_train, y_train = SMOTE().fit_resample(x_train, y_train)"
   ]
  },
  {
   "cell_type": "code",
   "execution_count": null,
   "metadata": {
    "collapsed": true
   },
   "outputs": [],
   "source": [
    "# #Apply SMOTE to create synthetic observations from minority class\n",
    "# #Source:https://github.com/scikit-learn-contrib/imbalanced-learn\n",
    "# from imblearn.over_sampling import SMOTE #Over sampling\n",
    "# sm = SMOTE(ratio='auto',kind='regular')\n",
    "# X_sampled,y_sampled = sm.fit_sample(X,y.values.ravel())\n",
    "\n",
    "# #Percentage of fraudlent records in original data\n",
    "# Source_data_no_fraud_count = len(data[data.Class==0])\n",
    "# Source_data_fraud_count = len(data[data.Class==1])\n",
    "# print('Percentage of fraud counts in original dataset:{}%'.format((Source_data_fraud_count*100)/(Source_data_no_fraud_count+Source_data_fraud_count)))\n",
    "\n",
    "# #Percentage of fraudlent records in sampled data\n",
    "# Sampled_data_no_fraud_count = len(y_sampled[y_sampled==0])\n",
    "# Sampled_data_fraud_count = len(y_sampled[y_sampled==1])\n",
    "# print('Percentage of fraud counts in the new data:{}%'.format((Sampled_data_fraud_count*100)/(Sampled_data_no_fraud_count+Sampled_data_fraud_count)))"
   ]
  },
  {
   "cell_type": "markdown",
   "metadata": {
    "collapsed": true
   },
   "source": [
    "# Naive Random Oversampling"
   ]
  },
  {
   "cell_type": "code",
   "execution_count": null,
   "metadata": {
    "collapsed": true
   },
   "outputs": [],
   "source": [
    "# from imblearn.over_sampling import RandomOverSampler\n",
    "# ros = RandomOverSampler(random_state=0)\n",
    "# X_resampled, y_resampled = ros.fit_resample(X, y)\n",
    "# from collections import Counter\n",
    "# print(sorted(Counter(y_resampled).items()))"
   ]
  },
  {
   "cell_type": "markdown",
   "metadata": {
    "collapsed": true
   },
   "source": [
    "#  Clean up for Machine Learning"
   ]
  },
  {
   "cell_type": "code",
   "execution_count": null,
   "metadata": {
    "collapsed": true,
    "scrolled": true
   },
   "outputs": [],
   "source": [
    "#df.fillna(0, inplace=True)\n",
    "df=df.replace([np.inf, -np.inf], np.nan)\n",
    "df.dropna(inplace=True)\n",
    "df.head()"
   ]
  },
  {
   "cell_type": "markdown",
   "metadata": {},
   "source": [
    "# Preparing data for Machine Learning"
   ]
  },
  {
   "cell_type": "code",
   "execution_count": null,
   "metadata": {
    "collapsed": true
   },
   "outputs": [],
   "source": [
    "# prepare label\n",
    "Y=df.label.values\n",
    "Y.shape"
   ]
  },
  {
   "cell_type": "code",
   "execution_count": null,
   "metadata": {
    "collapsed": true
   },
   "outputs": [],
   "source": [
    "# reshape labels for machine learning\n",
    "Y=Y.reshape(Y.shape[0],1)\n",
    "Y.shape"
   ]
  },
  {
   "cell_type": "code",
   "execution_count": null,
   "metadata": {
    "collapsed": true
   },
   "outputs": [],
   "source": [
    "# prepare input data\n",
    "input=df.values\n",
    "input.shape"
   ]
  },
  {
   "cell_type": "code",
   "execution_count": null,
   "metadata": {
    "collapsed": true
   },
   "outputs": [],
   "source": [
    "# calculate train/test split\n",
    "len_train = int(len(input)*train_split)\n",
    "print(len_train)"
   ]
  },
  {
   "cell_type": "code",
   "execution_count": null,
   "metadata": {
    "collapsed": true
   },
   "outputs": [],
   "source": [
    "# apply train/test split to labels\n",
    "y_train = Y[0:len_train]\n",
    "y_test = Y[len_train:]"
   ]
  },
  {
   "cell_type": "code",
   "execution_count": null,
   "metadata": {
    "collapsed": true
   },
   "outputs": [],
   "source": [
    "#drop unneeded columns for creating input data\n",
    "df.drop(['currentdelinquencystatus','label'], axis=1, inplace=True)"
   ]
  },
  {
   "cell_type": "code",
   "execution_count": null,
   "metadata": {
    "collapsed": true
   },
   "outputs": [],
   "source": [
    "#reshape input data for machine learning\n",
    "input=input.reshape(input.shape[0], input.shape[1], 1)\n",
    "input.shape"
   ]
  },
  {
   "cell_type": "code",
   "execution_count": null,
   "metadata": {
    "collapsed": true
   },
   "outputs": [],
   "source": [
    "# apply train/test split to input data\n",
    "x_train = input[0:len_train]\n",
    "x_test = input[len_train:]"
   ]
  },
  {
   "cell_type": "markdown",
   "metadata": {},
   "source": [
    "# Normalize input data"
   ]
  },
  {
   "cell_type": "code",
   "execution_count": null,
   "metadata": {
    "collapsed": true,
    "scrolled": false
   },
   "outputs": [],
   "source": [
    "x_train_keras_scaled = keras.utils.normalize(x_train, axis=-1, order=2)\n",
    "x_test_keras_scaled = keras.utils.normalize(x_test, axis=-1, order=2)\n",
    "x_train_keras_scaled.shape"
   ]
  },
  {
   "cell_type": "markdown",
   "metadata": {},
   "source": [
    "# Model Architecture"
   ]
  },
  {
   "cell_type": "code",
   "execution_count": null,
   "metadata": {
    "collapsed": true
   },
   "outputs": [],
   "source": [
    "model = keras.Sequential()\n",
    "model.add(keras.layers.GRU(128, activation='relu',  kernel_regularizer=regularizers.l2(0.01), input_shape=(x_train_keras_scaled.shape[1:]), return_sequences=True))\n",
    "model.add(keras.layers.Dropout(0.3))\n",
    "\n",
    "model.add(keras.layers.GRU(64, activation='relu', kernel_regularizer=regularizers.l2(0.01)))\n",
    "model.add(keras.layers.Dropout(0.2))\n",
    "\n",
    "model.add(keras.layers.Dense(32, activation='relu',  kernel_regularizer=regularizers.l2(0.01)))\n",
    "model.add(keras.layers.Dropout(0.3))\n",
    "\n",
    "model.add(keras.layers.Dense(2, activation='softmax'))\n",
    "\n",
    "optimizer = tf.keras.optimizers.Adam(lr=1e-3, decay=1e-6)\n",
    "model.summary()"
   ]
  },
  {
   "cell_type": "markdown",
   "metadata": {},
   "source": [
    "# Model Configuration"
   ]
  },
  {
   "cell_type": "code",
   "execution_count": null,
   "metadata": {
    "collapsed": true
   },
   "outputs": [],
   "source": [
    "#save the best model\n",
    "#keras.callbacks.Callback()\n",
    "# checkPoint = ModelCheckpoint(filepath = path+'model/'+name+'.h5',\n",
    "#                             save_best_only = True,\n",
    "#                             verbose=0)\n",
    "# tensorboard = TensorBoard(log_dir=path+'logs/{}'.format(name),\n",
    "#                           histogram_freq=0,\n",
    "#                           batch_size=32,\n",
    "#                           write_graph=True,\n",
    "#                           write_images=False)\n",
    "# history = keras.callbacks.History()"
   ]
  },
  {
   "cell_type": "markdown",
   "metadata": {},
   "source": [
    "# Train the Model"
   ]
  },
  {
   "cell_type": "code",
   "execution_count": null,
   "metadata": {
    "collapsed": true,
    "scrolled": false
   },
   "outputs": [],
   "source": [
    "model.compile(loss='sparse_categorical_crossentropy', optimizer=optimizer, metrics=['accuracy'])\n",
    "\n",
    "model.fit(x_train, y_train, epochs=epochs, validation_data=(x_test_keras_scaled, y_test), batch_size=8, \n",
    "        # callbacks = [\n",
    "   # baseLogger,\n",
    "    #history,\n",
    "    #tensorboard\n",
    "    #learningRateScheduler,\n",
    "    #reduceLROnPlateau\n",
    "     #    ], \n",
    "          shuffle=False\n",
    ")\n"
   ]
  },
  {
   "cell_type": "markdown",
   "metadata": {
    "collapsed": true
   },
   "source": [
    "# Save the Model"
   ]
  },
  {
   "cell_type": "code",
   "execution_count": null,
   "metadata": {
    "collapsed": true
   },
   "outputs": [],
   "source": [
    "model.save(path+'model/'+name+'.h5')"
   ]
  },
  {
   "cell_type": "code",
   "execution_count": null,
   "metadata": {
    "collapsed": true
   },
   "outputs": [],
   "source": [
    "test_loss, test_acc = model.evaluate(x_test_keras_scaled, y_test)\n",
    "print('Test Loss : ',test_loss,' ','Test Accuracy : ', test_acc)"
   ]
  },
  {
   "cell_type": "code",
   "execution_count": null,
   "metadata": {
    "collapsed": true
   },
   "outputs": [],
   "source": [
    "y_pred = model.predict_classes(x_test)"
   ]
  },
  {
   "cell_type": "code",
   "execution_count": null,
   "metadata": {
    "collapsed": true
   },
   "outputs": [],
   "source": [
    "#print(y_pred)"
   ]
  },
  {
   "cell_type": "code",
   "execution_count": null,
   "metadata": {
    "collapsed": true
   },
   "outputs": [],
   "source": [
    "len(y_pred)"
   ]
  },
  {
   "cell_type": "code",
   "execution_count": null,
   "metadata": {
    "collapsed": true
   },
   "outputs": [],
   "source": [
    "np.count_nonzero(y_pred)"
   ]
  },
  {
   "cell_type": "code",
   "execution_count": null,
   "metadata": {
    "collapsed": true
   },
   "outputs": [],
   "source": [
    "np.count_nonzero(y_test)"
   ]
  },
  {
   "cell_type": "markdown",
   "metadata": {},
   "source": [
    "# Load Saved Model"
   ]
  },
  {
   "cell_type": "code",
   "execution_count": null,
   "metadata": {
    "collapsed": true
   },
   "outputs": [],
   "source": []
  },
  {
   "cell_type": "code",
   "execution_count": null,
   "metadata": {
    "collapsed": true
   },
   "outputs": [],
   "source": [
    "#saved_model = load_model(path+'model/ABS_Keras-GRU254GRU128D32D2-adam1540234475.h5')"
   ]
  },
  {
   "cell_type": "code",
   "execution_count": null,
   "metadata": {
    "collapsed": true
   },
   "outputs": [],
   "source": [
    "# test_loss, test_acc = saved_model.evaluate(x_test_keras_scaled, y_test)\n",
    "# print('Test Loss : ',test_loss,' ','Test Accuracy : ', test_acc)"
   ]
  },
  {
   "cell_type": "markdown",
   "metadata": {
    "collapsed": true
   },
   "source": [
    "# Predict Classes"
   ]
  },
  {
   "cell_type": "code",
   "execution_count": null,
   "metadata": {
    "collapsed": true
   },
   "outputs": [],
   "source": [
    "y_pred = model.predict_classes(x_test)"
   ]
  },
  {
   "cell_type": "markdown",
   "metadata": {},
   "source": [
    "# Confusion Matrix"
   ]
  },
  {
   "cell_type": "code",
   "execution_count": null,
   "metadata": {
    "collapsed": true
   },
   "outputs": [],
   "source": [
    "import itertools\n",
    "class_names = ['Current', 'Non-Current']\n",
    "\n",
    "def plot_confusion_matrix(cm, classes,\n",
    "                          normalize=False,\n",
    "                          title='Confusion matrix',\n",
    "                          cmap=plt.cm.Blues):\n",
    "    \"\"\"\n",
    "    This function prints and plots the confusion matrix.\n",
    "    Normalization can be applied by setting `normalize=True`.\n",
    "    \"\"\"\n",
    "    if normalize:\n",
    "        cm = cm.astype('float') / cm.sum(axis=1)[:, np.newaxis]\n",
    "        print(\"Normalized confusion matrix\")\n",
    "    else:\n",
    "        print('Confusion matrix, without normalization')\n",
    "\n",
    "    print(cm)\n",
    "\n",
    "    plt.imshow(cm, interpolation='nearest', cmap=cmap)\n",
    "    plt.title(title)\n",
    "    plt.colorbar()\n",
    "    tick_marks = np.arange(len(classes))\n",
    "    plt.xticks(tick_marks, classes, rotation=45)\n",
    "    plt.yticks(tick_marks, classes)\n",
    "\n",
    "    fmt = '.2f' if normalize else 'd'\n",
    "    thresh = cm.max() / 2.\n",
    "    for i, j in itertools.product(range(cm.shape[0]), range(cm.shape[1])):\n",
    "        plt.text(j, i, format(cm[i, j], fmt),\n",
    "                 horizontalalignment=\"center\",\n",
    "                 color=\"white\" if cm[i, j] > thresh else \"black\")\n",
    "\n",
    "    plt.ylabel('True label')\n",
    "    plt.xlabel('Predicted label')\n",
    "    plt.tight_layout()\n",
    "\n",
    "\n",
    "# Compute confusion matrix\n",
    "cnf_matrix = confusion_matrix(y_test, y_pred)\n",
    "np.set_printoptions(precision=2)\n",
    "\n",
    "# Plot non-normalized confusion matrix\n",
    "plt.figure()\n",
    "plot_confusion_matrix(cnf_matrix, classes=class_names,\n",
    "                      title='Confusion matrix, without normalization')\n",
    "\n",
    "# Plot normalized confusion matrix\n",
    "plt.figure()\n",
    "plot_confusion_matrix(cnf_matrix, classes=class_names, normalize=False,\n",
    "                      title='Normalized confusion matrix')\n",
    "\n",
    "plt.show()"
   ]
  },
  {
   "cell_type": "code",
   "execution_count": null,
   "metadata": {
    "collapsed": true
   },
   "outputs": [],
   "source": [
    "from sklearn.metrics import roc_auc_score\n",
    "roc_auc_score(y_test, y_pred)"
   ]
  },
  {
   "cell_type": "code",
   "execution_count": null,
   "metadata": {
    "collapsed": true
   },
   "outputs": [],
   "source": [
    "from sklearn import metrics\n",
    "fpr, tpr, thresholds = metrics.roc_curve(y_test, y_pred, pos_label=2)\n",
    "metrics.auc(fpr, tpr)"
   ]
  },
  {
   "cell_type": "code",
   "execution_count": null,
   "metadata": {
    "collapsed": true
   },
   "outputs": [],
   "source": [
    "#1. find any string which has no numbers \n",
    "\n",
    "\n",
    "'\n",
    "\n",
    "#2. find only numbers r'^([0-9]*)$'\n",
    "\n",
    "#3. find only blanks(empty strings) r'^(\\s+)$'"
   ]
  }
 ],
 "metadata": {
  "kernelspec": {
   "display_name": "Python 3",
   "language": "python",
   "name": "python3"
  },
  "language_info": {
   "codemirror_mode": {
    "name": "ipython",
    "version": 3
   },
   "file_extension": ".py",
   "mimetype": "text/x-python",
   "name": "python",
   "nbconvert_exporter": "python",
   "pygments_lexer": "ipython3",
   "version": "3.6.1"
  }
 },
 "nbformat": 4,
 "nbformat_minor": 2
}
