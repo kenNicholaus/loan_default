{
 "cells": [
  {
   "cell_type": "code",
   "execution_count": 1,
   "metadata": {
    "scrolled": false
   },
   "outputs": [
    {
     "name": "stderr",
     "output_type": "stream",
     "text": [
      "Using TensorFlow backend.\n"
     ]
    },
    {
     "data": {
      "text/plain": [
       "'1.8.0'"
      ]
     },
     "execution_count": 1,
     "metadata": {},
     "output_type": "execute_result"
    }
   ],
   "source": [
    "import time\n",
    "import pandas as pd\n",
    "import numpy as np\n",
    "from matplotlib import pyplot as plt\n",
    "import tensorflow as tf\n",
    "from tensorflow import keras\n",
    "from keras import optimizers\n",
    "from keras.models import Sequential\n",
    "from keras.layers import Input, Dense, Dropout, LSTM, GRU\n",
    "from keras.models import Model, load_model\n",
    "from keras.callbacks import ModelCheckpoint, TensorBoard\n",
    "from keras import regularizers\n",
    "\n",
    "\n",
    "\n",
    "#import seaborn as sns\n",
    "#from sklearn.model_selection import train_test_split\n",
    "#from sklearn.metrics import confusion_matrix, precision_recall_curve\n",
    "#from sklearn.metrics import recall_score, classification_report, auc, roc_curve\n",
    "#from sklearn.metrics import precision_recall_fscore_support, f1_score\n",
    "#from sklearn.preprocessing import StandardScaler\n",
    "from pylab import rcParams\n",
    "tf.__version__"
   ]
  },
  {
   "cell_type": "markdown",
   "metadata": {},
   "source": [
    "# Model Name"
   ]
  },
  {
   "cell_type": "code",
   "execution_count": 2,
   "metadata": {
    "collapsed": true
   },
   "outputs": [],
   "source": [
    "name = \"ABS_Keras-GRU254GRU128D32D2-adam{}\".format(int(time.time()))\n",
    "#name_noTime = \"ABS_Keras-GRU128GRU128D32D2-adam\""
   ]
  },
  {
   "cell_type": "markdown",
   "metadata": {},
   "source": [
    "# Choose default months & paths, columns(features) and number of loans to load, train/test split"
   ]
  },
  {
   "cell_type": "code",
   "execution_count": 3,
   "metadata": {
    "collapsed": true
   },
   "outputs": [],
   "source": [
    "default_months = 6\n",
    "nrows = 100000\n",
    "train_split = 0.90\n",
    "model = keras\n",
    "path = 'c:/users/ugy1/abs/'\n",
    "rows_for_prediction = 1000\n",
    "LABELS = ('Current', 'Not Current')\n",
    "\n",
    "column_list = ['abs_loan.originationdate', 'abs_loan.originalloanamount','abs_loan.originalloanterm',\n",
    "'abs_loan.originalinterestratepercentage','abs_loan.vehiclenewusedcode','abs_loan.vehiclevalueamount',\n",
    "'abs_loan.obligorcreditscore','abs_loan.obligorincomeverificationlevelcode','abs_loan.obligoremploymentverificationcode',\n",
    "'abs_loan.paymenttoincomepercentage','abs_loan.remainingtermtomaturitynumber',\n",
    "'abs_loan.reportingperiodbeginningloanbalanceamount','abs_loan.nextreportingperiodpaymentamountdue',\n",
    "'abs_loan.reportingperiodinterestratepercentage','abs_loan.nextinterestratepercentage',\n",
    "'abs_loan.servicingfeepercentage','abs_loan.otherservicerfeeretainedbyservicer',\n",
    "'abs_loan.otherassesseduncollectedservicerfeeamount','abs_loan.scheduledinterestamount', \n",
    "'abs_loan.scheduledprincipalamount','abs_loan.otherprincipaladjustmentamount',\n",
    "'abs_loan.reportingperiodactualendbalanceamount','abs_loan.reportingperiodscheduledpaymentamount',\n",
    "'abs_loan.totalactualamountpaid','abs_loan.actualinterestcollectedamount','abs_loan.actualprincipalcollectedamount',\n",
    "'abs_loan.actualothercollectedamount','abs_loan.serviceradvancedamount', 'abs_loan.currentdelinquencystatus']"
   ]
  },
  {
   "cell_type": "markdown",
   "metadata": {},
   "source": [
    "# GPU Options"
   ]
  },
  {
   "cell_type": "code",
   "execution_count": 4,
   "metadata": {
    "collapsed": true
   },
   "outputs": [],
   "source": [
    "# gpu_options = tf.GPUOptions(per_process_gpu_memory_fraction=0.5)\n",
    "# sess=tf.Session(config=tf.ConfigProto(gpu_options=gpu_options))"
   ]
  },
  {
   "cell_type": "markdown",
   "metadata": {},
   "source": [
    "# Load data"
   ]
  },
  {
   "cell_type": "code",
   "execution_count": 5,
   "metadata": {},
   "outputs": [
    {
     "name": "stdout",
     "output_type": "stream",
     "text": [
      "(100000, 28)\n"
     ]
    },
    {
     "data": {
      "text/plain": [
       "abs_loan.originalloanamount                           float64\n",
       "abs_loan.originalloanterm                               int64\n",
       "abs_loan.originalinterestratepercentage               float64\n",
       "abs_loan.vehiclenewusedcode                             int64\n",
       "abs_loan.vehiclevalueamount                           float64\n",
       "abs_loan.obligorcreditscore                             int64\n",
       "abs_loan.obligorincomeverificationlevelcode             int64\n",
       "abs_loan.obligoremploymentverificationcode              int64\n",
       "abs_loan.paymenttoincomepercentage                    float64\n",
       "abs_loan.remainingtermtomaturitynumber                  int64\n",
       "abs_loan.reportingperiodbeginningloanbalanceamount    float64\n",
       "abs_loan.nextreportingperiodpaymentamountdue          float64\n",
       "abs_loan.reportingperiodinterestratepercentage        float64\n",
       "abs_loan.nextinterestratepercentage                   float64\n",
       "abs_loan.servicingfeepercentage                       float64\n",
       "abs_loan.otherservicerfeeretainedbyservicer           float64\n",
       "abs_loan.otherassesseduncollectedservicerfeeamount    float64\n",
       "abs_loan.scheduledinterestamount                      float64\n",
       "abs_loan.scheduledprincipalamount                     float64\n",
       "abs_loan.otherprincipaladjustmentamount               float64\n",
       "abs_loan.reportingperiodactualendbalanceamount        float64\n",
       "abs_loan.reportingperiodscheduledpaymentamount        float64\n",
       "abs_loan.totalactualamountpaid                        float64\n",
       "abs_loan.actualinterestcollectedamount                float64\n",
       "abs_loan.actualprincipalcollectedamount               float64\n",
       "abs_loan.actualothercollectedamount                   float64\n",
       "abs_loan.serviceradvancedamount                       float64\n",
       "abs_loan.currentdelinquencystatus                       int64\n",
       "dtype: object"
      ]
     },
     "execution_count": 5,
     "metadata": {},
     "output_type": "execute_result"
    }
   ],
   "source": [
    "df=pd.read_csv(path+'datasets/s3tab/abs_loan.csv', \n",
    "               usecols=column_list, \n",
    "               sep='\\t',\n",
    "               nrows=nrows,\n",
    "               low_memory=False, \n",
    "              index_col='abs_loan.originationdate', \n",
    "               parse_dates=True\n",
    "              )\n",
    "print(df.shape)\n",
    "df.dtypes"
   ]
  },
  {
   "cell_type": "markdown",
   "metadata": {},
   "source": [
    "# Clean data"
   ]
  },
  {
   "cell_type": "code",
   "execution_count": 6,
   "metadata": {
    "collapsed": true
   },
   "outputs": [],
   "source": [
    "# change columns to lower case and remove prefix to enable pandas to work\n",
    "column_list=[x.lower() for x in (column_list)]\n",
    "df.columns=df.columns.str.replace('abs_loan.','')\n",
    "# convert objects to numeric\n",
    "#df=df.convert_objects(convert_numeric=True)"
   ]
  },
  {
   "cell_type": "markdown",
   "metadata": {},
   "source": [
    "# Check for null"
   ]
  },
  {
   "cell_type": "code",
   "execution_count": 7,
   "metadata": {},
   "outputs": [
    {
     "data": {
      "text/plain": [
       "False"
      ]
     },
     "execution_count": 7,
     "metadata": {},
     "output_type": "execute_result"
    }
   ],
   "source": [
    "df.isnull().values.any()"
   ]
  },
  {
   "cell_type": "markdown",
   "metadata": {},
   "source": [
    "# Loan Statistics"
   ]
  },
  {
   "cell_type": "code",
   "execution_count": 8,
   "metadata": {},
   "outputs": [
    {
     "data": {
      "text/html": [
       "<div>\n",
       "<style scoped>\n",
       "    .dataframe tbody tr th:only-of-type {\n",
       "        vertical-align: middle;\n",
       "    }\n",
       "\n",
       "    .dataframe tbody tr th {\n",
       "        vertical-align: top;\n",
       "    }\n",
       "\n",
       "    .dataframe thead th {\n",
       "        text-align: right;\n",
       "    }\n",
       "</style>\n",
       "<table border=\"1\" class=\"dataframe\">\n",
       "  <thead>\n",
       "    <tr style=\"text-align: right;\">\n",
       "      <th></th>\n",
       "      <th>originalloanamount</th>\n",
       "      <th>originalloanterm</th>\n",
       "      <th>originalinterestratepercentage</th>\n",
       "      <th>vehiclenewusedcode</th>\n",
       "      <th>vehiclevalueamount</th>\n",
       "      <th>obligorcreditscore</th>\n",
       "      <th>obligorincomeverificationlevelcode</th>\n",
       "      <th>obligoremploymentverificationcode</th>\n",
       "      <th>paymenttoincomepercentage</th>\n",
       "      <th>remainingtermtomaturitynumber</th>\n",
       "      <th>...</th>\n",
       "      <th>scheduledprincipalamount</th>\n",
       "      <th>otherprincipaladjustmentamount</th>\n",
       "      <th>reportingperiodactualendbalanceamount</th>\n",
       "      <th>reportingperiodscheduledpaymentamount</th>\n",
       "      <th>totalactualamountpaid</th>\n",
       "      <th>actualinterestcollectedamount</th>\n",
       "      <th>actualprincipalcollectedamount</th>\n",
       "      <th>actualothercollectedamount</th>\n",
       "      <th>serviceradvancedamount</th>\n",
       "      <th>currentdelinquencystatus</th>\n",
       "    </tr>\n",
       "  </thead>\n",
       "  <tbody>\n",
       "    <tr>\n",
       "      <th>count</th>\n",
       "      <td>100000.000000</td>\n",
       "      <td>100000.000000</td>\n",
       "      <td>100000.000000</td>\n",
       "      <td>100000.000000</td>\n",
       "      <td>1.000000e+05</td>\n",
       "      <td>100000.000000</td>\n",
       "      <td>100000.0</td>\n",
       "      <td>100000.0</td>\n",
       "      <td>100000.000000</td>\n",
       "      <td>100000.000000</td>\n",
       "      <td>...</td>\n",
       "      <td>100000.000000</td>\n",
       "      <td>100000.000000</td>\n",
       "      <td>100000.000000</td>\n",
       "      <td>100000.000000</td>\n",
       "      <td>100000.000000</td>\n",
       "      <td>100000.000000</td>\n",
       "      <td>100000.000000</td>\n",
       "      <td>100000.000000</td>\n",
       "      <td>100000.000000</td>\n",
       "      <td>100000.000000</td>\n",
       "    </tr>\n",
       "    <tr>\n",
       "      <th>mean</th>\n",
       "      <td>33770.728509</td>\n",
       "      <td>61.357590</td>\n",
       "      <td>2.437836</td>\n",
       "      <td>1.432970</td>\n",
       "      <td>4.592671e+04</td>\n",
       "      <td>779.338390</td>\n",
       "      <td>2.0</td>\n",
       "      <td>2.0</td>\n",
       "      <td>6.197697</td>\n",
       "      <td>47.169600</td>\n",
       "      <td>...</td>\n",
       "      <td>534.175101</td>\n",
       "      <td>330.888883</td>\n",
       "      <td>24999.855279</td>\n",
       "      <td>586.004785</td>\n",
       "      <td>879.572160</td>\n",
       "      <td>49.420437</td>\n",
       "      <td>834.447465</td>\n",
       "      <td>3.457836</td>\n",
       "      <td>1.300456</td>\n",
       "      <td>0.276480</td>\n",
       "    </tr>\n",
       "    <tr>\n",
       "      <th>std</th>\n",
       "      <td>16406.941224</td>\n",
       "      <td>10.114684</td>\n",
       "      <td>1.530379</td>\n",
       "      <td>0.495489</td>\n",
       "      <td>8.100001e+04</td>\n",
       "      <td>65.766079</td>\n",
       "      <td>0.0</td>\n",
       "      <td>0.0</td>\n",
       "      <td>5.434317</td>\n",
       "      <td>14.491508</td>\n",
       "      <td>...</td>\n",
       "      <td>280.909495</td>\n",
       "      <td>2929.811645</td>\n",
       "      <td>15105.987654</td>\n",
       "      <td>299.780911</td>\n",
       "      <td>2966.534912</td>\n",
       "      <td>49.433409</td>\n",
       "      <td>2961.837151</td>\n",
       "      <td>27.656165</td>\n",
       "      <td>12.896672</td>\n",
       "      <td>2.404898</td>\n",
       "    </tr>\n",
       "    <tr>\n",
       "      <th>min</th>\n",
       "      <td>3741.290000</td>\n",
       "      <td>16.000000</td>\n",
       "      <td>0.010000</td>\n",
       "      <td>1.000000</td>\n",
       "      <td>0.000000e+00</td>\n",
       "      <td>0.000000</td>\n",
       "      <td>2.0</td>\n",
       "      <td>2.0</td>\n",
       "      <td>0.000000</td>\n",
       "      <td>3.000000</td>\n",
       "      <td>...</td>\n",
       "      <td>0.000000</td>\n",
       "      <td>-72031.970000</td>\n",
       "      <td>0.000000</td>\n",
       "      <td>0.000000</td>\n",
       "      <td>-72031.970000</td>\n",
       "      <td>-164.050000</td>\n",
       "      <td>-72031.970000</td>\n",
       "      <td>0.000000</td>\n",
       "      <td>0.000000</td>\n",
       "      <td>0.000000</td>\n",
       "    </tr>\n",
       "    <tr>\n",
       "      <th>25%</th>\n",
       "      <td>22686.080000</td>\n",
       "      <td>60.000000</td>\n",
       "      <td>1.000000</td>\n",
       "      <td>1.000000</td>\n",
       "      <td>3.110000e+04</td>\n",
       "      <td>729.000000</td>\n",
       "      <td>2.0</td>\n",
       "      <td>2.0</td>\n",
       "      <td>2.997500</td>\n",
       "      <td>42.000000</td>\n",
       "      <td>...</td>\n",
       "      <td>358.397500</td>\n",
       "      <td>0.000000</td>\n",
       "      <td>14959.700000</td>\n",
       "      <td>396.160000</td>\n",
       "      <td>388.440000</td>\n",
       "      <td>19.000000</td>\n",
       "      <td>351.567500</td>\n",
       "      <td>0.000000</td>\n",
       "      <td>0.000000</td>\n",
       "      <td>0.000000</td>\n",
       "    </tr>\n",
       "    <tr>\n",
       "      <th>50%</th>\n",
       "      <td>30854.720000</td>\n",
       "      <td>60.000000</td>\n",
       "      <td>1.900000</td>\n",
       "      <td>1.000000</td>\n",
       "      <td>4.324000e+04</td>\n",
       "      <td>786.000000</td>\n",
       "      <td>2.0</td>\n",
       "      <td>2.0</td>\n",
       "      <td>4.950000</td>\n",
       "      <td>50.000000</td>\n",
       "      <td>...</td>\n",
       "      <td>481.920000</td>\n",
       "      <td>0.000000</td>\n",
       "      <td>22875.780000</td>\n",
       "      <td>530.930000</td>\n",
       "      <td>536.420000</td>\n",
       "      <td>36.340000</td>\n",
       "      <td>490.570000</td>\n",
       "      <td>0.000000</td>\n",
       "      <td>0.000000</td>\n",
       "      <td>0.000000</td>\n",
       "    </tr>\n",
       "    <tr>\n",
       "      <th>75%</th>\n",
       "      <td>41369.707500</td>\n",
       "      <td>72.000000</td>\n",
       "      <td>2.990000</td>\n",
       "      <td>2.000000</td>\n",
       "      <td>5.644125e+04</td>\n",
       "      <td>834.000000</td>\n",
       "      <td>2.0</td>\n",
       "      <td>2.0</td>\n",
       "      <td>7.890000</td>\n",
       "      <td>57.000000</td>\n",
       "      <td>...</td>\n",
       "      <td>641.502500</td>\n",
       "      <td>0.000000</td>\n",
       "      <td>32429.337500</td>\n",
       "      <td>701.470000</td>\n",
       "      <td>748.000000</td>\n",
       "      <td>64.520000</td>\n",
       "      <td>683.840000</td>\n",
       "      <td>0.000000</td>\n",
       "      <td>0.000000</td>\n",
       "      <td>0.000000</td>\n",
       "    </tr>\n",
       "    <tr>\n",
       "      <th>max</th>\n",
       "      <td>189984.120000</td>\n",
       "      <td>72.000000</td>\n",
       "      <td>15.140000</td>\n",
       "      <td>2.000000</td>\n",
       "      <td>1.021234e+07</td>\n",
       "      <td>900.000000</td>\n",
       "      <td>2.0</td>\n",
       "      <td>2.0</td>\n",
       "      <td>96.950000</td>\n",
       "      <td>72.000000</td>\n",
       "      <td>...</td>\n",
       "      <td>4923.280000</td>\n",
       "      <td>95550.670000</td>\n",
       "      <td>177603.400000</td>\n",
       "      <td>4975.230000</td>\n",
       "      <td>97288.810000</td>\n",
       "      <td>1666.400000</td>\n",
       "      <td>97135.010000</td>\n",
       "      <td>3831.100000</td>\n",
       "      <td>853.390000</td>\n",
       "      <td>118.000000</td>\n",
       "    </tr>\n",
       "  </tbody>\n",
       "</table>\n",
       "<p>8 rows × 28 columns</p>\n",
       "</div>"
      ],
      "text/plain": [
       "       originalloanamount  originalloanterm  originalinterestratepercentage  \\\n",
       "count       100000.000000     100000.000000                   100000.000000   \n",
       "mean         33770.728509         61.357590                        2.437836   \n",
       "std          16406.941224         10.114684                        1.530379   \n",
       "min           3741.290000         16.000000                        0.010000   \n",
       "25%          22686.080000         60.000000                        1.000000   \n",
       "50%          30854.720000         60.000000                        1.900000   \n",
       "75%          41369.707500         72.000000                        2.990000   \n",
       "max         189984.120000         72.000000                       15.140000   \n",
       "\n",
       "       vehiclenewusedcode  vehiclevalueamount  obligorcreditscore  \\\n",
       "count       100000.000000        1.000000e+05       100000.000000   \n",
       "mean             1.432970        4.592671e+04          779.338390   \n",
       "std              0.495489        8.100001e+04           65.766079   \n",
       "min              1.000000        0.000000e+00            0.000000   \n",
       "25%              1.000000        3.110000e+04          729.000000   \n",
       "50%              1.000000        4.324000e+04          786.000000   \n",
       "75%              2.000000        5.644125e+04          834.000000   \n",
       "max              2.000000        1.021234e+07          900.000000   \n",
       "\n",
       "       obligorincomeverificationlevelcode  obligoremploymentverificationcode  \\\n",
       "count                            100000.0                           100000.0   \n",
       "mean                                  2.0                                2.0   \n",
       "std                                   0.0                                0.0   \n",
       "min                                   2.0                                2.0   \n",
       "25%                                   2.0                                2.0   \n",
       "50%                                   2.0                                2.0   \n",
       "75%                                   2.0                                2.0   \n",
       "max                                   2.0                                2.0   \n",
       "\n",
       "       paymenttoincomepercentage  remainingtermtomaturitynumber  \\\n",
       "count              100000.000000                  100000.000000   \n",
       "mean                    6.197697                      47.169600   \n",
       "std                     5.434317                      14.491508   \n",
       "min                     0.000000                       3.000000   \n",
       "25%                     2.997500                      42.000000   \n",
       "50%                     4.950000                      50.000000   \n",
       "75%                     7.890000                      57.000000   \n",
       "max                    96.950000                      72.000000   \n",
       "\n",
       "                 ...             scheduledprincipalamount  \\\n",
       "count            ...                        100000.000000   \n",
       "mean             ...                           534.175101   \n",
       "std              ...                           280.909495   \n",
       "min              ...                             0.000000   \n",
       "25%              ...                           358.397500   \n",
       "50%              ...                           481.920000   \n",
       "75%              ...                           641.502500   \n",
       "max              ...                          4923.280000   \n",
       "\n",
       "       otherprincipaladjustmentamount  reportingperiodactualendbalanceamount  \\\n",
       "count                   100000.000000                          100000.000000   \n",
       "mean                       330.888883                           24999.855279   \n",
       "std                       2929.811645                           15105.987654   \n",
       "min                     -72031.970000                               0.000000   \n",
       "25%                          0.000000                           14959.700000   \n",
       "50%                          0.000000                           22875.780000   \n",
       "75%                          0.000000                           32429.337500   \n",
       "max                      95550.670000                          177603.400000   \n",
       "\n",
       "       reportingperiodscheduledpaymentamount  totalactualamountpaid  \\\n",
       "count                          100000.000000          100000.000000   \n",
       "mean                              586.004785             879.572160   \n",
       "std                               299.780911            2966.534912   \n",
       "min                                 0.000000          -72031.970000   \n",
       "25%                               396.160000             388.440000   \n",
       "50%                               530.930000             536.420000   \n",
       "75%                               701.470000             748.000000   \n",
       "max                              4975.230000           97288.810000   \n",
       "\n",
       "       actualinterestcollectedamount  actualprincipalcollectedamount  \\\n",
       "count                  100000.000000                   100000.000000   \n",
       "mean                       49.420437                      834.447465   \n",
       "std                        49.433409                     2961.837151   \n",
       "min                      -164.050000                   -72031.970000   \n",
       "25%                        19.000000                      351.567500   \n",
       "50%                        36.340000                      490.570000   \n",
       "75%                        64.520000                      683.840000   \n",
       "max                      1666.400000                    97135.010000   \n",
       "\n",
       "       actualothercollectedamount  serviceradvancedamount  \\\n",
       "count               100000.000000           100000.000000   \n",
       "mean                     3.457836                1.300456   \n",
       "std                     27.656165               12.896672   \n",
       "min                      0.000000                0.000000   \n",
       "25%                      0.000000                0.000000   \n",
       "50%                      0.000000                0.000000   \n",
       "75%                      0.000000                0.000000   \n",
       "max                   3831.100000              853.390000   \n",
       "\n",
       "       currentdelinquencystatus  \n",
       "count             100000.000000  \n",
       "mean                   0.276480  \n",
       "std                    2.404898  \n",
       "min                    0.000000  \n",
       "25%                    0.000000  \n",
       "50%                    0.000000  \n",
       "75%                    0.000000  \n",
       "max                  118.000000  \n",
       "\n",
       "[8 rows x 28 columns]"
      ]
     },
     "execution_count": 8,
     "metadata": {},
     "output_type": "execute_result"
    }
   ],
   "source": [
    "df.describe()"
   ]
  },
  {
   "cell_type": "markdown",
   "metadata": {},
   "source": [
    "# Current Vs Non-Current"
   ]
  },
  {
   "cell_type": "code",
   "execution_count": 9,
   "metadata": {},
   "outputs": [
    {
     "data": {
      "image/png": "[encoded data removed]",
      "text/plain": [
       "<Figure size 432x288 with 1 Axes>"
      ]
     },
     "metadata": {},
     "output_type": "display_data"
    },
    {
     "name": "stdout",
     "output_type": "stream",
     "text": [
      "Number of loans Current : 96414     Number of loans Not Current : 3586\n"
     ]
    }
   ],
   "source": [
    "count_classes = pd.value_counts(df.currentdelinquencystatus>0, sort = True)\n",
    "count_classes.plot(kind = 'bar', rot=0)\n",
    "plt.xticks(range(2), LABELS)\n",
    "plt.title('Deliquency Class')\n",
    "plt.ylabel(\"Number of Loans\")\n",
    "plt.show()\n",
    "print('Number of loans Current :', count_classes[0],'   ', 'Number of loans Not Current :', count_classes[1],)"
   ]
  },
  {
   "cell_type": "code",
   "execution_count": 10,
   "metadata": {},
   "outputs": [
    {
     "data": {
      "text/plain": [
       "0      96414\n",
       "1       1001\n",
       "2        336\n",
       "3        304\n",
       "4        253\n",
       "5        205\n",
       "6        176\n",
       "7        140\n",
       "8        113\n",
       "9        108\n",
       "10        86\n",
       "11        83\n",
       "12        72\n",
       "14        71\n",
       "15        66\n",
       "13        62\n",
       "16        60\n",
       "17        56\n",
       "18        37\n",
       "19        30\n",
       "21        28\n",
       "23        28\n",
       "25        24\n",
       "20        23\n",
       "22        21\n",
       "28        21\n",
       "26        18\n",
       "24        17\n",
       "27        16\n",
       "32        10\n",
       "       ...  \n",
       "41         3\n",
       "52         2\n",
       "72         2\n",
       "45         2\n",
       "47         2\n",
       "38         1\n",
       "71         1\n",
       "118        1\n",
       "55         1\n",
       "50         1\n",
       "57         1\n",
       "58         1\n",
       "59         1\n",
       "60         1\n",
       "73         1\n",
       "43         1\n",
       "74         1\n",
       "49         1\n",
       "109        1\n",
       "79         1\n",
       "80         1\n",
       "104        1\n",
       "85         1\n",
       "103        1\n",
       "39         1\n",
       "89         1\n",
       "90         1\n",
       "61         1\n",
       "100        1\n",
       "62         1\n",
       "Name: currentdelinquencystatus, Length: 75, dtype: int64"
      ]
     },
     "execution_count": 10,
     "metadata": {},
     "output_type": "execute_result"
    }
   ],
   "source": [
    "pd.value_counts(df.currentdelinquencystatus)"
   ]
  },
  {
   "cell_type": "markdown",
   "metadata": {},
   "source": [
    "# Label Creation"
   ]
  },
  {
   "cell_type": "code",
   "execution_count": 11,
   "metadata": {},
   "outputs": [
    {
     "data": {
      "image/png": "[encoded data removed]",
      "text/plain": [
       "<Figure size 432x288 with 1 Axes>"
      ]
     },
     "metadata": {},
     "output_type": "display_data"
    },
    {
     "name": "stdout",
     "output_type": "stream",
     "text": [
      "Number of loans Current : 98689     Number of loans Defaulted : 1311\n",
      "New Vehicle Percent default:  1.311\n"
     ]
    }
   ],
   "source": [
    "def map_label(*args):\n",
    "    columns = [col for col in args]\n",
    "    for column in columns:\n",
    "        if column > default_months:\n",
    "            return 1\n",
    "        elif column <= default_months:\n",
    "            return 0\n",
    "        \n",
    "df['label'] = list(map(map_label, df.currentdelinquencystatus ))\n",
    "\n",
    "\n",
    "count_classes = pd.value_counts(df.label, sort = True)\n",
    "count_classes.plot(kind = 'bar', rot=0)\n",
    "plt.xticks(range(2), LABELS)\n",
    "plt.title('Revised Deliquency Class')\n",
    "plt.ylabel(\"Number of Loans\")\n",
    "plt.show()\n",
    "print('Number of loans Current :', count_classes[0],'   ', 'Number of loans Defaulted :', count_classes[1],)\n",
    "print('New Vehicle Percent default: ', (count_classes[1]/(count_classes[0]+count_classes[1]))*100 )"
   ]
  },
  {
   "cell_type": "markdown",
   "metadata": {},
   "source": [
    "# Loan Balance Amount at the End of Reporting Period"
   ]
  },
  {
   "cell_type": "code",
   "execution_count": 12,
   "metadata": {},
   "outputs": [
    {
     "data": {
      "image/png": "[encoded data removed]",
      "text/plain": [
       "<Figure size 432x288 with 1 Axes>"
      ]
     },
     "metadata": {},
     "output_type": "display_data"
    }
   ],
   "source": [
    "current_df = df[df.label==0]\n",
    "not_current_df = df[df.label==1]\n",
    "bins = np.linspace(0, 100000, 100)\n",
    "plt.hist(current_df.reportingperiodactualendbalanceamount, bins, alpha=0.6, density=True, label='CURRENT')\n",
    "plt.hist(not_current_df.reportingperiodactualendbalanceamount, bins, alpha=1, density=True, label='NOT CURRENT')\n",
    "plt.legend(loc='upper right')\n",
    "plt.title(\"Loan Balance Amount at the end of reporting Period\")\n",
    "plt.xlabel('Loan Balance Amount')\n",
    "plt.ylabel('Percent of Loans')\n",
    "plt.show()\n",
    "#pd.value_counts(df.reportingperiodactualendbalanceamount[df.label==0])\n"
   ]
  },
  {
   "cell_type": "markdown",
   "metadata": {},
   "source": [
    "# New Vehicle Default"
   ]
  },
  {
   "cell_type": "code",
   "execution_count": 13,
   "metadata": {},
   "outputs": [
    {
     "data": {
      "image/png": "[encoded data removed]",
      "text/plain": [
       "<Figure size 432x288 with 1 Axes>"
      ]
     },
     "metadata": {},
     "output_type": "display_data"
    },
    {
     "name": "stdout",
     "output_type": "stream",
     "text": [
      "Number of loans Current : 56062     Number of loans Defaulted : 641\n",
      "New Vehicle Percent default:  1.13045165159\n"
     ]
    }
   ],
   "source": [
    "count_classes = pd.value_counts(df.label[df.vehiclenewusedcode==1], sort = True)\n",
    "count_classes.plot(kind = 'bar', rot=0)\n",
    "plt.xticks(range(2), LABELS)\n",
    "plt.title('New Vehicle Deliquency Class')\n",
    "plt.ylabel(\"Number of Loans\")\n",
    "plt.show()\n",
    "print('Number of loans Current :', count_classes[0],'   ', 'Number of loans Defaulted :', count_classes[1],)\n",
    "print('New Vehicle Percent default: ', (count_classes[1]/(count_classes[0]+count_classes[1]))*100 )"
   ]
  },
  {
   "cell_type": "markdown",
   "metadata": {},
   "source": [
    "# Used Vehicle default"
   ]
  },
  {
   "cell_type": "code",
   "execution_count": 14,
   "metadata": {},
   "outputs": [
    {
     "data": {
      "image/png": "[encoded data removed]",
      "text/plain": [
       "<Figure size 432x288 with 1 Axes>"
      ]
     },
     "metadata": {},
     "output_type": "display_data"
    },
    {
     "name": "stdout",
     "output_type": "stream",
     "text": [
      "Number of loans Current : 42627     Number of loans Defaulted : 670\n",
      "Used Vehicle Percent default:  1.54745132457\n"
     ]
    }
   ],
   "source": [
    "LABELS = ('Current', 'Default')\n",
    "count_classes = pd.value_counts(df.label[df.vehiclenewusedcode==2], sort = True)\n",
    "count_classes.plot(kind = 'bar', rot=0)\n",
    "plt.xticks(range(2), LABELS)\n",
    "plt.title('Used Vehicle Deliquency Class')\n",
    "plt.ylabel(\"Number of Loans\")\n",
    "plt.show()\n",
    "print('Number of loans Current :', count_classes[0],'   ', 'Number of loans Defaulted :', count_classes[1],)\n",
    "print('Used Vehicle Percent default: ', (count_classes[1]/(count_classes[0]+count_classes[1]))*100 )"
   ]
  },
  {
   "cell_type": "markdown",
   "metadata": {
    "collapsed": true
   },
   "source": [
    "#  Clean up for Machine Learning"
   ]
  },
  {
   "cell_type": "code",
   "execution_count": 15,
   "metadata": {},
   "outputs": [
    {
     "data": {
      "text/html": [
       "<div>\n",
       "<style scoped>\n",
       "    .dataframe tbody tr th:only-of-type {\n",
       "        vertical-align: middle;\n",
       "    }\n",
       "\n",
       "    .dataframe tbody tr th {\n",
       "        vertical-align: top;\n",
       "    }\n",
       "\n",
       "    .dataframe thead th {\n",
       "        text-align: right;\n",
       "    }\n",
       "</style>\n",
       "<table border=\"1\" class=\"dataframe\">\n",
       "  <thead>\n",
       "    <tr style=\"text-align: right;\">\n",
       "      <th></th>\n",
       "      <th>originalloanamount</th>\n",
       "      <th>originalloanterm</th>\n",
       "      <th>originalinterestratepercentage</th>\n",
       "      <th>vehiclenewusedcode</th>\n",
       "      <th>vehiclevalueamount</th>\n",
       "      <th>obligorcreditscore</th>\n",
       "      <th>obligorincomeverificationlevelcode</th>\n",
       "      <th>obligoremploymentverificationcode</th>\n",
       "      <th>paymenttoincomepercentage</th>\n",
       "      <th>remainingtermtomaturitynumber</th>\n",
       "      <th>...</th>\n",
       "      <th>otherprincipaladjustmentamount</th>\n",
       "      <th>reportingperiodactualendbalanceamount</th>\n",
       "      <th>reportingperiodscheduledpaymentamount</th>\n",
       "      <th>totalactualamountpaid</th>\n",
       "      <th>actualinterestcollectedamount</th>\n",
       "      <th>actualprincipalcollectedamount</th>\n",
       "      <th>actualothercollectedamount</th>\n",
       "      <th>serviceradvancedamount</th>\n",
       "      <th>currentdelinquencystatus</th>\n",
       "      <th>label</th>\n",
       "    </tr>\n",
       "    <tr>\n",
       "      <th>abs_loan.originationdate</th>\n",
       "      <th></th>\n",
       "      <th></th>\n",
       "      <th></th>\n",
       "      <th></th>\n",
       "      <th></th>\n",
       "      <th></th>\n",
       "      <th></th>\n",
       "      <th></th>\n",
       "      <th></th>\n",
       "      <th></th>\n",
       "      <th></th>\n",
       "      <th></th>\n",
       "      <th></th>\n",
       "      <th></th>\n",
       "      <th></th>\n",
       "      <th></th>\n",
       "      <th></th>\n",
       "      <th></th>\n",
       "      <th></th>\n",
       "      <th></th>\n",
       "      <th></th>\n",
       "    </tr>\n",
       "  </thead>\n",
       "  <tbody>\n",
       "    <tr>\n",
       "      <th>2012-12-31</th>\n",
       "      <td>25124.50</td>\n",
       "      <td>72</td>\n",
       "      <td>3.29</td>\n",
       "      <td>1</td>\n",
       "      <td>44395.0</td>\n",
       "      <td>812</td>\n",
       "      <td>2</td>\n",
       "      <td>2</td>\n",
       "      <td>2.66</td>\n",
       "      <td>13</td>\n",
       "      <td>...</td>\n",
       "      <td>0.0</td>\n",
       "      <td>4479.55</td>\n",
       "      <td>385.00</td>\n",
       "      <td>385.00</td>\n",
       "      <td>13.30</td>\n",
       "      <td>371.70</td>\n",
       "      <td>0.0</td>\n",
       "      <td>0.0</td>\n",
       "      <td>0</td>\n",
       "      <td>0</td>\n",
       "    </tr>\n",
       "    <tr>\n",
       "      <th>2012-12-31</th>\n",
       "      <td>43257.34</td>\n",
       "      <td>72</td>\n",
       "      <td>3.29</td>\n",
       "      <td>1</td>\n",
       "      <td>50595.0</td>\n",
       "      <td>817</td>\n",
       "      <td>2</td>\n",
       "      <td>2</td>\n",
       "      <td>3.99</td>\n",
       "      <td>14</td>\n",
       "      <td>...</td>\n",
       "      <td>0.0</td>\n",
       "      <td>8328.13</td>\n",
       "      <td>663.71</td>\n",
       "      <td>663.71</td>\n",
       "      <td>24.58</td>\n",
       "      <td>639.13</td>\n",
       "      <td>0.0</td>\n",
       "      <td>0.0</td>\n",
       "      <td>0</td>\n",
       "      <td>0</td>\n",
       "    </tr>\n",
       "    <tr>\n",
       "      <th>2012-12-31</th>\n",
       "      <td>56917.54</td>\n",
       "      <td>72</td>\n",
       "      <td>3.29</td>\n",
       "      <td>1</td>\n",
       "      <td>62695.0</td>\n",
       "      <td>818</td>\n",
       "      <td>2</td>\n",
       "      <td>2</td>\n",
       "      <td>6.97</td>\n",
       "      <td>14</td>\n",
       "      <td>...</td>\n",
       "      <td>0.0</td>\n",
       "      <td>11979.91</td>\n",
       "      <td>873.39</td>\n",
       "      <td>873.39</td>\n",
       "      <td>35.14</td>\n",
       "      <td>838.25</td>\n",
       "      <td>0.0</td>\n",
       "      <td>0.0</td>\n",
       "      <td>0</td>\n",
       "      <td>0</td>\n",
       "    </tr>\n",
       "    <tr>\n",
       "      <th>2012-12-31</th>\n",
       "      <td>42003.57</td>\n",
       "      <td>72</td>\n",
       "      <td>3.29</td>\n",
       "      <td>1</td>\n",
       "      <td>46995.0</td>\n",
       "      <td>791</td>\n",
       "      <td>2</td>\n",
       "      <td>2</td>\n",
       "      <td>2.96</td>\n",
       "      <td>13</td>\n",
       "      <td>...</td>\n",
       "      <td>0.0</td>\n",
       "      <td>8182.63</td>\n",
       "      <td>643.71</td>\n",
       "      <td>643.71</td>\n",
       "      <td>24.12</td>\n",
       "      <td>619.59</td>\n",
       "      <td>0.0</td>\n",
       "      <td>0.0</td>\n",
       "      <td>0</td>\n",
       "      <td>0</td>\n",
       "    </tr>\n",
       "    <tr>\n",
       "      <th>2012-12-31</th>\n",
       "      <td>77217.85</td>\n",
       "      <td>72</td>\n",
       "      <td>3.29</td>\n",
       "      <td>1</td>\n",
       "      <td>76145.0</td>\n",
       "      <td>712</td>\n",
       "      <td>2</td>\n",
       "      <td>2</td>\n",
       "      <td>10.37</td>\n",
       "      <td>14</td>\n",
       "      <td>...</td>\n",
       "      <td>0.0</td>\n",
       "      <td>16336.95</td>\n",
       "      <td>1184.89</td>\n",
       "      <td>1160.89</td>\n",
       "      <td>47.92</td>\n",
       "      <td>1136.97</td>\n",
       "      <td>24.0</td>\n",
       "      <td>0.0</td>\n",
       "      <td>0</td>\n",
       "      <td>0</td>\n",
       "    </tr>\n",
       "  </tbody>\n",
       "</table>\n",
       "<p>5 rows × 29 columns</p>\n",
       "</div>"
      ],
      "text/plain": [
       "                          originalloanamount  originalloanterm  \\\n",
       "abs_loan.originationdate                                         \n",
       "2012-12-31                          25124.50                72   \n",
       "2012-12-31                          43257.34                72   \n",
       "2012-12-31                          56917.54                72   \n",
       "2012-12-31                          42003.57                72   \n",
       "2012-12-31                          77217.85                72   \n",
       "\n",
       "                          originalinterestratepercentage  vehiclenewusedcode  \\\n",
       "abs_loan.originationdate                                                       \n",
       "2012-12-31                                          3.29                   1   \n",
       "2012-12-31                                          3.29                   1   \n",
       "2012-12-31                                          3.29                   1   \n",
       "2012-12-31                                          3.29                   1   \n",
       "2012-12-31                                          3.29                   1   \n",
       "\n",
       "                          vehiclevalueamount  obligorcreditscore  \\\n",
       "abs_loan.originationdate                                           \n",
       "2012-12-31                           44395.0                 812   \n",
       "2012-12-31                           50595.0                 817   \n",
       "2012-12-31                           62695.0                 818   \n",
       "2012-12-31                           46995.0                 791   \n",
       "2012-12-31                           76145.0                 712   \n",
       "\n",
       "                          obligorincomeverificationlevelcode  \\\n",
       "abs_loan.originationdate                                       \n",
       "2012-12-31                                                 2   \n",
       "2012-12-31                                                 2   \n",
       "2012-12-31                                                 2   \n",
       "2012-12-31                                                 2   \n",
       "2012-12-31                                                 2   \n",
       "\n",
       "                          obligoremploymentverificationcode  \\\n",
       "abs_loan.originationdate                                      \n",
       "2012-12-31                                                2   \n",
       "2012-12-31                                                2   \n",
       "2012-12-31                                                2   \n",
       "2012-12-31                                                2   \n",
       "2012-12-31                                                2   \n",
       "\n",
       "                          paymenttoincomepercentage  \\\n",
       "abs_loan.originationdate                              \n",
       "2012-12-31                                     2.66   \n",
       "2012-12-31                                     3.99   \n",
       "2012-12-31                                     6.97   \n",
       "2012-12-31                                     2.96   \n",
       "2012-12-31                                    10.37   \n",
       "\n",
       "                          remainingtermtomaturitynumber  ...    \\\n",
       "abs_loan.originationdate                                 ...     \n",
       "2012-12-31                                           13  ...     \n",
       "2012-12-31                                           14  ...     \n",
       "2012-12-31                                           14  ...     \n",
       "2012-12-31                                           13  ...     \n",
       "2012-12-31                                           14  ...     \n",
       "\n",
       "                          otherprincipaladjustmentamount  \\\n",
       "abs_loan.originationdate                                   \n",
       "2012-12-31                                           0.0   \n",
       "2012-12-31                                           0.0   \n",
       "2012-12-31                                           0.0   \n",
       "2012-12-31                                           0.0   \n",
       "2012-12-31                                           0.0   \n",
       "\n",
       "                          reportingperiodactualendbalanceamount  \\\n",
       "abs_loan.originationdate                                          \n",
       "2012-12-31                                              4479.55   \n",
       "2012-12-31                                              8328.13   \n",
       "2012-12-31                                             11979.91   \n",
       "2012-12-31                                              8182.63   \n",
       "2012-12-31                                             16336.95   \n",
       "\n",
       "                          reportingperiodscheduledpaymentamount  \\\n",
       "abs_loan.originationdate                                          \n",
       "2012-12-31                                               385.00   \n",
       "2012-12-31                                               663.71   \n",
       "2012-12-31                                               873.39   \n",
       "2012-12-31                                               643.71   \n",
       "2012-12-31                                              1184.89   \n",
       "\n",
       "                          totalactualamountpaid  \\\n",
       "abs_loan.originationdate                          \n",
       "2012-12-31                               385.00   \n",
       "2012-12-31                               663.71   \n",
       "2012-12-31                               873.39   \n",
       "2012-12-31                               643.71   \n",
       "2012-12-31                              1160.89   \n",
       "\n",
       "                          actualinterestcollectedamount  \\\n",
       "abs_loan.originationdate                                  \n",
       "2012-12-31                                        13.30   \n",
       "2012-12-31                                        24.58   \n",
       "2012-12-31                                        35.14   \n",
       "2012-12-31                                        24.12   \n",
       "2012-12-31                                        47.92   \n",
       "\n",
       "                          actualprincipalcollectedamount  \\\n",
       "abs_loan.originationdate                                   \n",
       "2012-12-31                                        371.70   \n",
       "2012-12-31                                        639.13   \n",
       "2012-12-31                                        838.25   \n",
       "2012-12-31                                        619.59   \n",
       "2012-12-31                                       1136.97   \n",
       "\n",
       "                          actualothercollectedamount  serviceradvancedamount  \\\n",
       "abs_loan.originationdate                                                       \n",
       "2012-12-31                                       0.0                     0.0   \n",
       "2012-12-31                                       0.0                     0.0   \n",
       "2012-12-31                                       0.0                     0.0   \n",
       "2012-12-31                                       0.0                     0.0   \n",
       "2012-12-31                                      24.0                     0.0   \n",
       "\n",
       "                          currentdelinquencystatus  label  \n",
       "abs_loan.originationdate                                   \n",
       "2012-12-31                                       0      0  \n",
       "2012-12-31                                       0      0  \n",
       "2012-12-31                                       0      0  \n",
       "2012-12-31                                       0      0  \n",
       "2012-12-31                                       0      0  \n",
       "\n",
       "[5 rows x 29 columns]"
      ]
     },
     "execution_count": 15,
     "metadata": {},
     "output_type": "execute_result"
    }
   ],
   "source": [
    "df.fillna(0, inplace=True)\n",
    "df=df.replace([np.inf, -np.inf], np.nan)\n",
    "df.dropna(inplace=True)\n",
    "df.head()"
   ]
  },
  {
   "cell_type": "markdown",
   "metadata": {},
   "source": [
    "# Preparing data for Machine Learning"
   ]
  },
  {
   "cell_type": "code",
   "execution_count": 16,
   "metadata": {},
   "outputs": [
    {
     "data": {
      "text/plain": [
       "(100000,)"
      ]
     },
     "execution_count": 16,
     "metadata": {},
     "output_type": "execute_result"
    }
   ],
   "source": [
    "# prepare label\n",
    "Y=df.label.values\n",
    "Y.shape"
   ]
  },
  {
   "cell_type": "code",
   "execution_count": 17,
   "metadata": {},
   "outputs": [
    {
     "data": {
      "text/plain": [
       "(100000, 1)"
      ]
     },
     "execution_count": 17,
     "metadata": {},
     "output_type": "execute_result"
    }
   ],
   "source": [
    "# reshape labels for machine learning\n",
    "Y=Y.reshape(Y.shape[0],1)\n",
    "Y.shape"
   ]
  },
  {
   "cell_type": "code",
   "execution_count": 18,
   "metadata": {},
   "outputs": [
    {
     "data": {
      "text/plain": [
       "(100000, 29)"
      ]
     },
     "execution_count": 18,
     "metadata": {},
     "output_type": "execute_result"
    }
   ],
   "source": [
    "# prepare input data\n",
    "input=df.values\n",
    "input.shape"
   ]
  },
  {
   "cell_type": "code",
   "execution_count": 19,
   "metadata": {},
   "outputs": [
    {
     "name": "stdout",
     "output_type": "stream",
     "text": [
      "90000\n"
     ]
    }
   ],
   "source": [
    "# calculate train/test split\n",
    "len_train = int(len(input)*train_split)\n",
    "print(len_train)"
   ]
  },
  {
   "cell_type": "code",
   "execution_count": 20,
   "metadata": {
    "collapsed": true
   },
   "outputs": [],
   "source": [
    "# apply train/test split to labels\n",
    "y_train = Y[0:len_train]\n",
    "y_test = Y[len_train:]"
   ]
  },
  {
   "cell_type": "code",
   "execution_count": 21,
   "metadata": {
    "collapsed": true
   },
   "outputs": [],
   "source": [
    "#drop unneeded columns for creating input data\n",
    "df.drop(['currentdelinquencystatus','label'], axis=1, inplace=True)"
   ]
  },
  {
   "cell_type": "code",
   "execution_count": 22,
   "metadata": {},
   "outputs": [
    {
     "data": {
      "text/plain": [
       "(100000, 29, 1)"
      ]
     },
     "execution_count": 22,
     "metadata": {},
     "output_type": "execute_result"
    }
   ],
   "source": [
    "#reshape input data for machine learning\n",
    "input=input.reshape(input.shape[0], input.shape[1], 1)\n",
    "input.shape"
   ]
  },
  {
   "cell_type": "code",
   "execution_count": 23,
   "metadata": {
    "collapsed": true
   },
   "outputs": [],
   "source": [
    "# apply train/test split to input data\n",
    "x_train = input[0:len_train]\n",
    "x_test = input[len_train:]"
   ]
  },
  {
   "cell_type": "markdown",
   "metadata": {},
   "source": [
    "# Normalize input data"
   ]
  },
  {
   "cell_type": "code",
   "execution_count": 24,
   "metadata": {},
   "outputs": [
    {
     "data": {
      "text/plain": [
       "(90000, 29, 1)"
      ]
     },
     "execution_count": 24,
     "metadata": {},
     "output_type": "execute_result"
    }
   ],
   "source": [
    "x_train_keras_scaled = keras.utils.normalize(x_train, axis=-1, order=2)\n",
    "x_test_keras_scaled = keras.utils.normalize(x_test, axis=-1, order=2)\n",
    "x_train_keras_scaled.shape"
   ]
  },
  {
   "cell_type": "markdown",
   "metadata": {},
   "source": [
    "# Model Architecture"
   ]
  },
  {
   "cell_type": "code",
   "execution_count": 25,
   "metadata": {
    "collapsed": true
   },
   "outputs": [],
   "source": [
    "model = keras.Sequential()\n",
    "model.add(keras.layers.GRU(254, activation='relu', input_shape=(x_train_keras_scaled.shape[1:]), return_sequences=True))\n",
    "model.add(keras.layers.Dropout(0.2))\n",
    "\n",
    "model.add(keras.layers.GRU(128, activation='relu'))\n",
    "model.add(keras.layers.Dropout(0.1))\n",
    "\n",
    "model.add(keras.layers.Dense(32, activation='relu'))\n",
    "model.add(keras.layers.Dropout(0.2))\n",
    "\n",
    "model.add(keras.layers.Dense(2, activation='softmax'))\n",
    "\n",
    "optimizer = tf.keras.optimizers.Adam(lr=1e-3, decay=1e-6)\n"
   ]
  },
  {
   "cell_type": "markdown",
   "metadata": {},
   "source": [
    "# Model Configuration"
   ]
  },
  {
   "cell_type": "code",
   "execution_count": 26,
   "metadata": {
    "collapsed": true
   },
   "outputs": [],
   "source": [
    "#save the best model\n",
    "# keras.callbacks.Callback()\n",
    "# checkPoint = ModelCheckpoint(filepath = path+'model/'+name+'.h5',\n",
    "#                             save_best_only = True,\n",
    "#                             verbose=0)\n",
    "# tensorboard = TensorBoard(log_dir=path+'logs/{}'.format(name),\n",
    "#                          histogram_freq=0,\n",
    "#                          batch_size=32,\n",
    "#                          write_graph=True,\n",
    "#                          write_images=False)\n",
    "# history = keras.callbacks.History()"
   ]
  },
  {
   "cell_type": "markdown",
   "metadata": {},
   "source": [
    "# Train the Model"
   ]
  },
  {
   "cell_type": "code",
   "execution_count": 27,
   "metadata": {
    "scrolled": false
   },
   "outputs": [
    {
     "name": "stdout",
     "output_type": "stream",
     "text": [
      "Train on 90000 samples, validate on 10000 samples\n",
      "Epoch 1/1\n",
      "90000/90000 [==============================] - 271s 3ms/step - loss: 0.2509 - acc: 0.9844 - val_loss: 0.4077 - val_acc: 0.9850\n"
     ]
    },
    {
     "data": {
      "text/plain": [
       "<tensorflow.python.keras._impl.keras.callbacks.History at 0x20483d06fd0>"
      ]
     },
     "execution_count": 27,
     "metadata": {},
     "output_type": "execute_result"
    }
   ],
   "source": [
    "model.compile(loss='sparse_categorical_crossentropy', optimizer=optimizer, metrics=['accuracy'])\n",
    "\n",
    "model.fit(x_train, y_train, epochs=1, validation_data=(x_test_keras_scaled, y_test), \n",
    "         # callbacks = [\n",
    "   # baseLogger,\n",
    "    #history,\n",
    "    #tensorboard,\n",
    "    #learningRateScheduler,\n",
    "    #reduceLROnPlateau\n",
    "#], \n",
    "          shuffle=False\n",
    ")\n"
   ]
  },
  {
   "cell_type": "markdown",
   "metadata": {
    "collapsed": true
   },
   "source": [
    "# Save the Model"
   ]
  },
  {
   "cell_type": "code",
   "execution_count": 28,
   "metadata": {
    "collapsed": true
   },
   "outputs": [],
   "source": [
    "model.save(path+'model/'+name+'.h5')"
   ]
  },
  {
   "cell_type": "code",
   "execution_count": 29,
   "metadata": {},
   "outputs": [
    {
     "name": "stdout",
     "output_type": "stream",
     "text": [
      "10000/10000 [==============================] - 7s 727us/step\n",
      "Test Loss :  0.407675276089   Test Accuracy :  0.985\n"
     ]
    }
   ],
   "source": [
    "test_loss, test_acc = model.evaluate(x_test_keras_scaled, y_test)\n",
    "print('Test Loss : ',test_loss,' ','Test Accuracy : ', test_acc)"
   ]
  },
  {
   "cell_type": "markdown",
   "metadata": {},
   "source": [
    "# Load Saved Model"
   ]
  },
  {
   "cell_type": "code",
   "execution_count": 30,
   "metadata": {
    "collapsed": true
   },
   "outputs": [],
   "source": [
    "#saved_model = load_model(path+'model/ABS_Keras-GRU254GRU128D32D2-adam1540234865.h5')"
   ]
  },
  {
   "cell_type": "code",
   "execution_count": 31,
   "metadata": {
    "collapsed": true
   },
   "outputs": [],
   "source": [
    "#test_loss, test_acc = saved_model.evaluate(x_test_keras_scaled, y_test)\n",
    "#print('Test Loss : ',test_loss,' ','Test Accuracy : ', test_acc)"
   ]
  },
  {
   "cell_type": "code",
   "execution_count": null,
   "metadata": {
    "collapsed": true
   },
   "outputs": [],
   "source": []
  },
  {
   "cell_type": "code",
   "execution_count": null,
   "metadata": {
    "collapsed": true
   },
   "outputs": [],
   "source": []
  }
 ],
 "metadata": {
  "kernelspec": {
   "display_name": "Python 3",
   "language": "python",
   "name": "python3"
  },
  "language_info": {
   "codemirror_mode": {
    "name": "ipython",
    "version": 3
   },
   "file_extension": ".py",
   "mimetype": "text/x-python",
   "name": "python",
   "nbconvert_exporter": "python",
   "pygments_lexer": "ipython3",
   "version": "3.6.1"
  }
 },
 "nbformat": 4,
 "nbformat_minor": 2
}
