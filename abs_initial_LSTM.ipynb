{
 "cells": [
  {
   "cell_type": "code",
   "execution_count": 1,
   "metadata": {
    "collapsed": true
   },
   "outputs": [],
   "source": [
    "import pandas as pd"
   ]
  },
  {
   "cell_type": "code",
   "execution_count": 2,
   "metadata": {
    "collapsed": true
   },
   "outputs": [],
   "source": [
    "column_list=(\n",
    "             'assetTypeNumber',\n",
    "             'assetNumber',\n",
    "             'reportingPeriodBeginningDate',\n",
    "             'reportingPeriodEndingDate',\n",
    "             'originatorName',\n",
    "             'originalLoanAmount',\n",
    "             'originalLoanTerm',\n",
    "            'loanMaturityDate',\n",
    "           'originalInterestRatePercentage',\n",
    "            'interestCalculationTypeCode',\n",
    "           'originalInterestRateTypeCode',\n",
    "            'originalInterestOnlyTermNumber',\n",
    "           'originalFirstPaymentDate',\n",
    "            'underwritingIndicator',\n",
    "           'gracePeriodNumber',\n",
    "            'paymentTypeCode',\n",
    "            'subvented',\n",
    "           'vehicleManufacturerName',\n",
    "            'vehicleModelName',\n",
    "            'vehicleNewUsedCode',\n",
    "           'vehicleModelYear',\n",
    "            'vehicleTypeCode',\n",
    "            'vehicleValueAmount',\n",
    "           'vehicleValueSourceCode',\n",
    "            'obligorCreditScoreType',\n",
    "           'obligorCreditScore',\n",
    "            'obligorIncomeVerificationLevelCode',\n",
    "           'obligorEmploymentVerificationCode',\n",
    "            'coObligorIndicator',\n",
    "           'paymentToIncomePercentage',\n",
    "            'obligorGeographicLocation',\n",
    "           'assetAddedIndicator',\n",
    "            'remainingTermToMaturityNumber',\n",
    "           'reportingPeriodModificationIndicator',\n",
    "           'servicingAdvanceMethodCode',\n",
    "           'reportingPeriodBeginningLoanBalanceAmount',\n",
    "           'nextReportingPeriodPaymentAmountDue',\n",
    "           'reportingPeriodInterestRatePercentage',\n",
    "           'nextInterestRatePercentage', 'servicingFeePercentage',\n",
    "           'servicingFlatFeeAmount', 'otherServicerFeeRetainedByServicer',\n",
    "           'otherAssessedUncollectedServicerFeeAmount',\n",
    "           'scheduledInterestAmount', 'scheduledPrincipalAmount',\n",
    "           'otherPrincipalAdjustmentAmount',\n",
    "           'reportingPeriodActualEndBalanceAmount',\n",
    "           'reportingPeriodScheduledPaymentAmount', 'totalActualAmountPaid',\n",
    "           'actualInterestCollectedAmount', 'actualPrincipalCollectedAmount',\n",
    "           'actualOtherCollectedAmount', 'servicerAdvancedAmount',\n",
    "           'interestPaidThroughDate', 'zeroBalanceEffectiveDate',\n",
    "           'zeroBalanceCode', 'currentDelinquencyStatus',\n",
    "           'primaryLoanServicerName',\n",
    "           'mostRecentServicingTransferReceivedDate',\n",
    "           'assetSubjectDemandIndicator', 'assetSubjectDemandStatusCode',\n",
    "           'repurchaseAmount', 'DemandResolutionDate', 'repurchaserName',\n",
    "           'repurchaseReplacementReasonCode', 'chargedoffPrincipalAmount',\n",
    "           'recoveredAmount', 'modificationTypeCode', 'paymentExtendedNumber',\n",
    "           'repossessedIndicator', 'repossessedProceedsAmount')"
   ]
  },
  {
   "cell_type": "code",
   "execution_count": 3,
   "metadata": {
    "collapsed": true
   },
   "outputs": [],
   "source": [
    "column_list1 = ['originalLoanAmount',\n",
    "               'originalLoanTerm',\n",
    "               'originalInterestRatePercentage',\n",
    "               'vehicleNewUsedCode',\n",
    "               'vehicleTypeCode',\n",
    "               'vehicleValueAmount',\n",
    "               'obligorCreditScore',\n",
    "               'obligorIncomeVerificationLevelCode',\n",
    "               'obligorEmploymentVerificationCode',\n",
    "               'coObligorIndicator',\n",
    "               'paymentToIncomePercentage',\n",
    "               'remainingTermToMaturityNumber',\n",
    "               'reportingPeriodBeginningLoanBalanceAmount',\n",
    "               'nextReportingPeriodPaymentAmountDue',\n",
    "               'reportingPeriodInterestRatePercentage',\n",
    "               'nextInterestRatePercentage',\n",
    "               'servicingFeePercentage',\n",
    "               'otherAssessedUncollectedServicerFeeAmount',\n",
    "               'scheduledInterestAmount',\n",
    "               'scheduledPrincipalAmount',\n",
    "               'reportingPeriodActualEndBalanceAmount',\n",
    "               'reportingPeriodScheduledPaymentAmount',\n",
    "               'totalActualAmountPaid',\n",
    "               'actualInterestCollectedAmount',\n",
    "               'actualPrincipalCollectedAmount',\n",
    "               'actualOtherCollectedAmount',\n",
    "               'currentDelinquencyStatus']"
   ]
  },
  {
   "cell_type": "code",
   "execution_count": 4,
   "metadata": {
    "collapsed": true
   },
   "outputs": [],
   "source": [
    "column_list2 = ['originalLoanAmount',\n",
    "               'actualInterestCollectedAmount',\n",
    "               'actualPrincipalCollectedAmount',\n",
    "               'actualOtherCollectedAmount',\n",
    "               'currentDelinquencyStatus']"
   ]
  },
  {
   "cell_type": "code",
   "execution_count": 5,
   "metadata": {
    "collapsed": true
   },
   "outputs": [],
   "source": [
    "df=pd.read_excel('c:/users/ugy1/abs/Ford Credit Auto.xlsx', low_memory=True, use_cols=column_list1, index_col='originationDate', parse_dates=True)\n",
    "#df=pd.read_excel('c:/users/ugy1/abs/Ford Credit Auto.xlsx', low_memory=True, names=column_list, index_col='originationDate', parse_dates=True)"
   ]
  },
  {
   "cell_type": "code",
   "execution_count": 6,
   "metadata": {},
   "outputs": [
    {
     "data": {
      "text/plain": [
       "array(['assetTypeNumber', 'assetNumber', 'reportingPeriodBeginningDate',\n",
       "       'reportingPeriodEndingDate', 'originatorName', 'originalLoanAmount',\n",
       "       'originalLoanTerm', 'loanMaturityDate',\n",
       "       'originalInterestRatePercentage', 'interestCalculationTypeCode',\n",
       "       'originalInterestRateTypeCode', 'originalInterestOnlyTermNumber',\n",
       "       'originalFirstPaymentDate', 'underwritingIndicator',\n",
       "       'gracePeriodNumber', 'paymentTypeCode', 'subvented',\n",
       "       'vehicleManufacturerName', 'vehicleModelName', 'vehicleNewUsedCode',\n",
       "       'vehicleModelYear', 'vehicleTypeCode', 'vehicleValueAmount',\n",
       "       'vehicleValueSourceCode', 'obligorCreditScoreType',\n",
       "       'obligorCreditScore', 'obligorIncomeVerificationLevelCode',\n",
       "       'obligorEmploymentVerificationCode', 'coObligorIndicator',\n",
       "       'paymentToIncomePercentage', 'obligorGeographicLocation',\n",
       "       'assetAddedIndicator', 'remainingTermToMaturityNumber',\n",
       "       'reportingPeriodModificationIndicator',\n",
       "       'servicingAdvanceMethodCode',\n",
       "       'reportingPeriodBeginningLoanBalanceAmount',\n",
       "       'nextReportingPeriodPaymentAmountDue',\n",
       "       'reportingPeriodInterestRatePercentage',\n",
       "       'nextInterestRatePercentage', 'servicingFeePercentage',\n",
       "       'servicingFlatFeeAmount', 'otherServicerFeeRetainedByServicer',\n",
       "       'otherAssessedUncollectedServicerFeeAmount',\n",
       "       'scheduledInterestAmount', 'scheduledPrincipalAmount',\n",
       "       'otherPrincipalAdjustmentAmount',\n",
       "       'reportingPeriodActualEndBalanceAmount',\n",
       "       'reportingPeriodScheduledPaymentAmount', 'totalActualAmountPaid',\n",
       "       'actualInterestCollectedAmount', 'actualPrincipalCollectedAmount',\n",
       "       'actualOtherCollectedAmount', 'servicerAdvancedAmount',\n",
       "       'interestPaidThroughDate', 'zeroBalanceEffectiveDate',\n",
       "       'zeroBalanceCode', 'currentDelinquencyStatus',\n",
       "       'primaryLoanServicerName',\n",
       "       'mostRecentServicingTransferReceivedDate',\n",
       "       'assetSubjectDemandIndicator', 'assetSubjectDemandStatusCode',\n",
       "       'repurchaseAmount', 'DemandResolutionDate', 'repurchaserName',\n",
       "       'repurchaseReplacementReasonCode', 'chargedoffPrincipalAmount',\n",
       "       'recoveredAmount', 'modificationTypeCode', 'paymentExtendedNumber',\n",
       "       'repossessedIndicator', 'repossessedProceedsAmount'], dtype=object)"
      ]
     },
     "execution_count": 6,
     "metadata": {},
     "output_type": "execute_result"
    }
   ],
   "source": [
    "df.columns.values"
   ]
  },
  {
   "cell_type": "code",
   "execution_count": 7,
   "metadata": {},
   "outputs": [
    {
     "data": {
      "text/plain": [
       "assetTypeNumber                                      object\n",
       "assetNumber                                           int64\n",
       "reportingPeriodBeginningDate                 datetime64[ns]\n",
       "reportingPeriodEndingDate                    datetime64[ns]\n",
       "originatorName                                       object\n",
       "originalLoanAmount                                   object\n",
       "originalLoanTerm                                     object\n",
       "loanMaturityDate                                     object\n",
       "originalInterestRatePercentage                       object\n",
       "interestCalculationTypeCode                          object\n",
       "originalInterestRateTypeCode                         object\n",
       "originalInterestOnlyTermNumber                       object\n",
       "originalFirstPaymentDate                             object\n",
       "underwritingIndicator                                object\n",
       "gracePeriodNumber                                    object\n",
       "paymentTypeCode                                      object\n",
       "subvented                                            object\n",
       "vehicleManufacturerName                              object\n",
       "vehicleModelName                                     object\n",
       "vehicleNewUsedCode                                   object\n",
       "vehicleModelYear                                     object\n",
       "vehicleTypeCode                                      object\n",
       "vehicleValueAmount                                   object\n",
       "vehicleValueSourceCode                               object\n",
       "obligorCreditScoreType                               object\n",
       "obligorCreditScore                                   object\n",
       "obligorIncomeVerificationLevelCode                   object\n",
       "obligorEmploymentVerificationCode                    object\n",
       "coObligorIndicator                                   object\n",
       "paymentToIncomePercentage                            object\n",
       "                                                  ...      \n",
       "otherServicerFeeRetainedByServicer                   object\n",
       "otherAssessedUncollectedServicerFeeAmount            object\n",
       "scheduledInterestAmount                              object\n",
       "scheduledPrincipalAmount                             object\n",
       "otherPrincipalAdjustmentAmount                       object\n",
       "reportingPeriodActualEndBalanceAmount                object\n",
       "reportingPeriodScheduledPaymentAmount                object\n",
       "totalActualAmountPaid                                object\n",
       "actualInterestCollectedAmount                        object\n",
       "actualPrincipalCollectedAmount                       object\n",
       "actualOtherCollectedAmount                           object\n",
       "servicerAdvancedAmount                               object\n",
       "interestPaidThroughDate                              object\n",
       "zeroBalanceEffectiveDate                             object\n",
       "zeroBalanceCode                                      object\n",
       "currentDelinquencyStatus                             object\n",
       "primaryLoanServicerName                              object\n",
       "mostRecentServicingTransferReceivedDate              object\n",
       "assetSubjectDemandIndicator                          object\n",
       "assetSubjectDemandStatusCode                         object\n",
       "repurchaseAmount                                     object\n",
       "DemandResolutionDate                                 object\n",
       "repurchaserName                                      object\n",
       "repurchaseReplacementReasonCode                      object\n",
       "chargedoffPrincipalAmount                            object\n",
       "recoveredAmount                                      object\n",
       "modificationTypeCode                                 object\n",
       "paymentExtendedNumber                                object\n",
       "repossessedIndicator                                 object\n",
       "repossessedProceedsAmount                            object\n",
       "Length: 71, dtype: object"
      ]
     },
     "execution_count": 7,
     "metadata": {},
     "output_type": "execute_result"
    }
   ],
   "source": [
    "df.dtypes"
   ]
  },
  {
   "cell_type": "code",
   "execution_count": 8,
   "metadata": {
    "collapsed": true
   },
   "outputs": [],
   "source": [
    "df1=df[column_list1]"
   ]
  },
  {
   "cell_type": "code",
   "execution_count": 9,
   "metadata": {},
   "outputs": [
    {
     "name": "stderr",
     "output_type": "stream",
     "text": [
      "C:\\Progra~1\\Anaconda3_4\\lib\\site-packages\\ipykernel_launcher.py:1: FutureWarning: convert_objects is deprecated.  To re-infer data dtypes for object columns, use DataFrame.infer_objects()\n",
      "For all other conversions use the data-type specific converters pd.to_datetime, pd.to_timedelta and pd.to_numeric.\n",
      "  \"\"\"Entry point for launching an IPython kernel.\n"
     ]
    }
   ],
   "source": [
    "df1=df1.convert_objects(convert_numeric=True)"
   ]
  },
  {
   "cell_type": "code",
   "execution_count": 10,
   "metadata": {},
   "outputs": [
    {
     "data": {
      "text/plain": [
       "(61516, 27)"
      ]
     },
     "execution_count": 10,
     "metadata": {},
     "output_type": "execute_result"
    }
   ],
   "source": [
    "df1.shape"
   ]
  },
  {
   "cell_type": "code",
   "execution_count": 11,
   "metadata": {},
   "outputs": [
    {
     "data": {
      "text/html": [
       "<div>\n",
       "<style scoped>\n",
       "    .dataframe tbody tr th:only-of-type {\n",
       "        vertical-align: middle;\n",
       "    }\n",
       "\n",
       "    .dataframe tbody tr th {\n",
       "        vertical-align: top;\n",
       "    }\n",
       "\n",
       "    .dataframe thead th {\n",
       "        text-align: right;\n",
       "    }\n",
       "</style>\n",
       "<table border=\"1\" class=\"dataframe\">\n",
       "  <thead>\n",
       "    <tr style=\"text-align: right;\">\n",
       "      <th></th>\n",
       "      <th>originalLoanAmount</th>\n",
       "      <th>originalLoanTerm</th>\n",
       "      <th>originalInterestRatePercentage</th>\n",
       "      <th>vehicleNewUsedCode</th>\n",
       "      <th>vehicleTypeCode</th>\n",
       "      <th>vehicleValueAmount</th>\n",
       "      <th>obligorCreditScore</th>\n",
       "      <th>obligorIncomeVerificationLevelCode</th>\n",
       "      <th>obligorEmploymentVerificationCode</th>\n",
       "      <th>coObligorIndicator</th>\n",
       "      <th>...</th>\n",
       "      <th>otherAssessedUncollectedServicerFeeAmount</th>\n",
       "      <th>scheduledInterestAmount</th>\n",
       "      <th>scheduledPrincipalAmount</th>\n",
       "      <th>reportingPeriodActualEndBalanceAmount</th>\n",
       "      <th>reportingPeriodScheduledPaymentAmount</th>\n",
       "      <th>totalActualAmountPaid</th>\n",
       "      <th>actualInterestCollectedAmount</th>\n",
       "      <th>actualPrincipalCollectedAmount</th>\n",
       "      <th>actualOtherCollectedAmount</th>\n",
       "      <th>currentDelinquencyStatus</th>\n",
       "    </tr>\n",
       "  </thead>\n",
       "  <tbody>\n",
       "    <tr>\n",
       "      <th>count</th>\n",
       "      <td>61515.000000</td>\n",
       "      <td>61515.000000</td>\n",
       "      <td>61515.000000</td>\n",
       "      <td>61515.000000</td>\n",
       "      <td>61515.000000</td>\n",
       "      <td>61515.000000</td>\n",
       "      <td>57587.000000</td>\n",
       "      <td>50545.000000</td>\n",
       "      <td>50545.000000</td>\n",
       "      <td>61515.000000</td>\n",
       "      <td>...</td>\n",
       "      <td>61515.000000</td>\n",
       "      <td>61486.000000</td>\n",
       "      <td>61486.000000</td>\n",
       "      <td>61515.000000</td>\n",
       "      <td>61486.000000</td>\n",
       "      <td>61515.000000</td>\n",
       "      <td>61515.000000</td>\n",
       "      <td>61515.000000</td>\n",
       "      <td>61515.000000</td>\n",
       "      <td>61515.000000</td>\n",
       "    </tr>\n",
       "    <tr>\n",
       "      <th>mean</th>\n",
       "      <td>33488.011621</td>\n",
       "      <td>65.815265</td>\n",
       "      <td>0.034320</td>\n",
       "      <td>1.167130</td>\n",
       "      <td>2.107307</td>\n",
       "      <td>37323.840020</td>\n",
       "      <td>639.911716</td>\n",
       "      <td>2.027916</td>\n",
       "      <td>2.027540</td>\n",
       "      <td>0.279444</td>\n",
       "      <td>...</td>\n",
       "      <td>3.342388</td>\n",
       "      <td>75.502507</td>\n",
       "      <td>505.621574</td>\n",
       "      <td>24942.527838</td>\n",
       "      <td>581.124082</td>\n",
       "      <td>1009.762609</td>\n",
       "      <td>75.718325</td>\n",
       "      <td>932.402483</td>\n",
       "      <td>1.641801</td>\n",
       "      <td>0.908266</td>\n",
       "    </tr>\n",
       "    <tr>\n",
       "      <th>std</th>\n",
       "      <td>14573.703974</td>\n",
       "      <td>9.621927</td>\n",
       "      <td>0.031851</td>\n",
       "      <td>0.373095</td>\n",
       "      <td>0.757581</td>\n",
       "      <td>14798.734165</td>\n",
       "      <td>255.358108</td>\n",
       "      <td>0.167236</td>\n",
       "      <td>0.163652</td>\n",
       "      <td>0.448730</td>\n",
       "      <td>...</td>\n",
       "      <td>30.943981</td>\n",
       "      <td>91.969630</td>\n",
       "      <td>243.244058</td>\n",
       "      <td>15031.469511</td>\n",
       "      <td>279.871772</td>\n",
       "      <td>3581.340338</td>\n",
       "      <td>109.762837</td>\n",
       "      <td>3566.503245</td>\n",
       "      <td>13.296513</td>\n",
       "      <td>4.627039</td>\n",
       "    </tr>\n",
       "    <tr>\n",
       "      <th>min</th>\n",
       "      <td>2000.000000</td>\n",
       "      <td>13.000000</td>\n",
       "      <td>0.000000</td>\n",
       "      <td>1.000000</td>\n",
       "      <td>1.000000</td>\n",
       "      <td>4625.000000</td>\n",
       "      <td>1.000000</td>\n",
       "      <td>2.000000</td>\n",
       "      <td>2.000000</td>\n",
       "      <td>0.000000</td>\n",
       "      <td>...</td>\n",
       "      <td>0.000000</td>\n",
       "      <td>0.000000</td>\n",
       "      <td>63.529064</td>\n",
       "      <td>0.000000</td>\n",
       "      <td>69.310000</td>\n",
       "      <td>0.000000</td>\n",
       "      <td>0.000000</td>\n",
       "      <td>0.000000</td>\n",
       "      <td>0.000000</td>\n",
       "      <td>0.000000</td>\n",
       "    </tr>\n",
       "    <tr>\n",
       "      <th>25%</th>\n",
       "      <td>23103.195000</td>\n",
       "      <td>61.000000</td>\n",
       "      <td>0.000000</td>\n",
       "      <td>1.000000</td>\n",
       "      <td>2.000000</td>\n",
       "      <td>25611.500000</td>\n",
       "      <td>628.000000</td>\n",
       "      <td>2.000000</td>\n",
       "      <td>2.000000</td>\n",
       "      <td>0.000000</td>\n",
       "      <td>...</td>\n",
       "      <td>0.000000</td>\n",
       "      <td>0.000000</td>\n",
       "      <td>339.211485</td>\n",
       "      <td>14296.730000</td>\n",
       "      <td>387.275000</td>\n",
       "      <td>375.000000</td>\n",
       "      <td>0.000000</td>\n",
       "      <td>324.940000</td>\n",
       "      <td>0.000000</td>\n",
       "      <td>0.000000</td>\n",
       "    </tr>\n",
       "    <tr>\n",
       "      <th>50%</th>\n",
       "      <td>31468.050000</td>\n",
       "      <td>68.000000</td>\n",
       "      <td>0.029000</td>\n",
       "      <td>1.000000</td>\n",
       "      <td>2.000000</td>\n",
       "      <td>36142.000000</td>\n",
       "      <td>722.000000</td>\n",
       "      <td>2.000000</td>\n",
       "      <td>2.000000</td>\n",
       "      <td>0.000000</td>\n",
       "      <td>...</td>\n",
       "      <td>0.000000</td>\n",
       "      <td>43.814178</td>\n",
       "      <td>463.756718</td>\n",
       "      <td>23673.020000</td>\n",
       "      <td>525.365000</td>\n",
       "      <td>538.710000</td>\n",
       "      <td>34.720000</td>\n",
       "      <td>477.860000</td>\n",
       "      <td>0.000000</td>\n",
       "      <td>0.000000</td>\n",
       "    </tr>\n",
       "    <tr>\n",
       "      <th>75%</th>\n",
       "      <td>41636.460000</td>\n",
       "      <td>73.000000</td>\n",
       "      <td>0.058400</td>\n",
       "      <td>1.000000</td>\n",
       "      <td>3.000000</td>\n",
       "      <td>46646.255000</td>\n",
       "      <td>804.000000</td>\n",
       "      <td>2.000000</td>\n",
       "      <td>2.000000</td>\n",
       "      <td>1.000000</td>\n",
       "      <td>...</td>\n",
       "      <td>0.000000</td>\n",
       "      <td>119.948595</td>\n",
       "      <td>623.459358</td>\n",
       "      <td>33922.180000</td>\n",
       "      <td>704.467500</td>\n",
       "      <td>774.545000</td>\n",
       "      <td>113.670000</td>\n",
       "      <td>680.530000</td>\n",
       "      <td>0.000000</td>\n",
       "      <td>0.000000</td>\n",
       "    </tr>\n",
       "    <tr>\n",
       "      <th>max</th>\n",
       "      <td>128619.030000</td>\n",
       "      <td>74.000000</td>\n",
       "      <td>0.215000</td>\n",
       "      <td>2.000000</td>\n",
       "      <td>3.000000</td>\n",
       "      <td>123857.000000</td>\n",
       "      <td>900.000000</td>\n",
       "      <td>5.000000</td>\n",
       "      <td>3.000000</td>\n",
       "      <td>1.000000</td>\n",
       "      <td>...</td>\n",
       "      <td>3828.760000</td>\n",
       "      <td>926.493701</td>\n",
       "      <td>3705.913209</td>\n",
       "      <td>97191.370000</td>\n",
       "      <td>4177.630000</td>\n",
       "      <td>80819.890000</td>\n",
       "      <td>1852.200000</td>\n",
       "      <td>80193.480000</td>\n",
       "      <td>1673.250000</td>\n",
       "      <td>107.000000</td>\n",
       "    </tr>\n",
       "  </tbody>\n",
       "</table>\n",
       "<p>8 rows × 27 columns</p>\n",
       "</div>"
      ],
      "text/plain": [
       "       originalLoanAmount  originalLoanTerm  originalInterestRatePercentage  \\\n",
       "count        61515.000000      61515.000000                    61515.000000   \n",
       "mean         33488.011621         65.815265                        0.034320   \n",
       "std          14573.703974          9.621927                        0.031851   \n",
       "min           2000.000000         13.000000                        0.000000   \n",
       "25%          23103.195000         61.000000                        0.000000   \n",
       "50%          31468.050000         68.000000                        0.029000   \n",
       "75%          41636.460000         73.000000                        0.058400   \n",
       "max         128619.030000         74.000000                        0.215000   \n",
       "\n",
       "       vehicleNewUsedCode  vehicleTypeCode  vehicleValueAmount  \\\n",
       "count        61515.000000     61515.000000        61515.000000   \n",
       "mean             1.167130         2.107307        37323.840020   \n",
       "std              0.373095         0.757581        14798.734165   \n",
       "min              1.000000         1.000000         4625.000000   \n",
       "25%              1.000000         2.000000        25611.500000   \n",
       "50%              1.000000         2.000000        36142.000000   \n",
       "75%              1.000000         3.000000        46646.255000   \n",
       "max              2.000000         3.000000       123857.000000   \n",
       "\n",
       "       obligorCreditScore  obligorIncomeVerificationLevelCode  \\\n",
       "count        57587.000000                        50545.000000   \n",
       "mean           639.911716                            2.027916   \n",
       "std            255.358108                            0.167236   \n",
       "min              1.000000                            2.000000   \n",
       "25%            628.000000                            2.000000   \n",
       "50%            722.000000                            2.000000   \n",
       "75%            804.000000                            2.000000   \n",
       "max            900.000000                            5.000000   \n",
       "\n",
       "       obligorEmploymentVerificationCode  coObligorIndicator  \\\n",
       "count                       50545.000000        61515.000000   \n",
       "mean                            2.027540            0.279444   \n",
       "std                             0.163652            0.448730   \n",
       "min                             2.000000            0.000000   \n",
       "25%                             2.000000            0.000000   \n",
       "50%                             2.000000            0.000000   \n",
       "75%                             2.000000            1.000000   \n",
       "max                             3.000000            1.000000   \n",
       "\n",
       "                 ...             otherAssessedUncollectedServicerFeeAmount  \\\n",
       "count            ...                                          61515.000000   \n",
       "mean             ...                                              3.342388   \n",
       "std              ...                                             30.943981   \n",
       "min              ...                                              0.000000   \n",
       "25%              ...                                              0.000000   \n",
       "50%              ...                                              0.000000   \n",
       "75%              ...                                              0.000000   \n",
       "max              ...                                           3828.760000   \n",
       "\n",
       "       scheduledInterestAmount  scheduledPrincipalAmount  \\\n",
       "count             61486.000000              61486.000000   \n",
       "mean                 75.502507                505.621574   \n",
       "std                  91.969630                243.244058   \n",
       "min                   0.000000                 63.529064   \n",
       "25%                   0.000000                339.211485   \n",
       "50%                  43.814178                463.756718   \n",
       "75%                 119.948595                623.459358   \n",
       "max                 926.493701               3705.913209   \n",
       "\n",
       "       reportingPeriodActualEndBalanceAmount  \\\n",
       "count                           61515.000000   \n",
       "mean                            24942.527838   \n",
       "std                             15031.469511   \n",
       "min                                 0.000000   \n",
       "25%                             14296.730000   \n",
       "50%                             23673.020000   \n",
       "75%                             33922.180000   \n",
       "max                             97191.370000   \n",
       "\n",
       "       reportingPeriodScheduledPaymentAmount  totalActualAmountPaid  \\\n",
       "count                           61486.000000           61515.000000   \n",
       "mean                              581.124082            1009.762609   \n",
       "std                               279.871772            3581.340338   \n",
       "min                                69.310000               0.000000   \n",
       "25%                               387.275000             375.000000   \n",
       "50%                               525.365000             538.710000   \n",
       "75%                               704.467500             774.545000   \n",
       "max                              4177.630000           80819.890000   \n",
       "\n",
       "       actualInterestCollectedAmount  actualPrincipalCollectedAmount  \\\n",
       "count                   61515.000000                    61515.000000   \n",
       "mean                       75.718325                      932.402483   \n",
       "std                       109.762837                     3566.503245   \n",
       "min                         0.000000                        0.000000   \n",
       "25%                         0.000000                      324.940000   \n",
       "50%                        34.720000                      477.860000   \n",
       "75%                       113.670000                      680.530000   \n",
       "max                      1852.200000                    80193.480000   \n",
       "\n",
       "       actualOtherCollectedAmount  currentDelinquencyStatus  \n",
       "count                61515.000000              61515.000000  \n",
       "mean                     1.641801                  0.908266  \n",
       "std                     13.296513                  4.627039  \n",
       "min                      0.000000                  0.000000  \n",
       "25%                      0.000000                  0.000000  \n",
       "50%                      0.000000                  0.000000  \n",
       "75%                      0.000000                  0.000000  \n",
       "max                   1673.250000                107.000000  \n",
       "\n",
       "[8 rows x 27 columns]"
      ]
     },
     "execution_count": 11,
     "metadata": {},
     "output_type": "execute_result"
    }
   ],
   "source": [
    "df1.describe()"
   ]
  },
  {
   "cell_type": "code",
   "execution_count": 12,
   "metadata": {},
   "outputs": [
    {
     "data": {
      "text/plain": [
       "originalLoanAmount                           float64\n",
       "originalLoanTerm                             float64\n",
       "originalInterestRatePercentage               float64\n",
       "vehicleNewUsedCode                           float64\n",
       "vehicleTypeCode                              float64\n",
       "vehicleValueAmount                           float64\n",
       "obligorCreditScore                           float64\n",
       "obligorIncomeVerificationLevelCode           float64\n",
       "obligorEmploymentVerificationCode            float64\n",
       "coObligorIndicator                           float64\n",
       "paymentToIncomePercentage                    float64\n",
       "remainingTermToMaturityNumber                float64\n",
       "reportingPeriodBeginningLoanBalanceAmount    float64\n",
       "nextReportingPeriodPaymentAmountDue          float64\n",
       "reportingPeriodInterestRatePercentage        float64\n",
       "nextInterestRatePercentage                   float64\n",
       "servicingFeePercentage                       float64\n",
       "otherAssessedUncollectedServicerFeeAmount    float64\n",
       "scheduledInterestAmount                      float64\n",
       "scheduledPrincipalAmount                     float64\n",
       "reportingPeriodActualEndBalanceAmount        float64\n",
       "reportingPeriodScheduledPaymentAmount        float64\n",
       "totalActualAmountPaid                        float64\n",
       "actualInterestCollectedAmount                float64\n",
       "actualPrincipalCollectedAmount               float64\n",
       "actualOtherCollectedAmount                   float64\n",
       "currentDelinquencyStatus                     float64\n",
       "dtype: object"
      ]
     },
     "execution_count": 12,
     "metadata": {},
     "output_type": "execute_result"
    }
   ],
   "source": [
    "df1.dtypes"
   ]
  },
  {
   "cell_type": "code",
   "execution_count": 13,
   "metadata": {},
   "outputs": [
    {
     "data": {
      "text/plain": [
       "count    57587.000000\n",
       "mean       639.911716\n",
       "std        255.358108\n",
       "min          1.000000\n",
       "25%        628.000000\n",
       "50%        722.000000\n",
       "75%        804.000000\n",
       "max        900.000000\n",
       "Name: obligorCreditScore, dtype: float64"
      ]
     },
     "execution_count": 13,
     "metadata": {},
     "output_type": "execute_result"
    }
   ],
   "source": [
    "df1.obligorCreditScore.describe()"
   ]
  },
  {
   "cell_type": "code",
   "execution_count": 14,
   "metadata": {},
   "outputs": [
    {
     "data": {
      "text/plain": [
       "True     57762\n",
       "False     3754\n",
       "Name: currentDelinquencyStatus, dtype: int64"
      ]
     },
     "execution_count": 14,
     "metadata": {},
     "output_type": "execute_result"
    }
   ],
   "source": [
    "# number of deliquent loans\n",
    "pd.value_counts(df1.currentDelinquencyStatus<=1)"
   ]
  },
  {
   "cell_type": "code",
   "execution_count": 15,
   "metadata": {},
   "outputs": [
    {
     "data": {
      "text/plain": [
       "False    61410\n",
       "True       106\n",
       "Name: obligorCreditScore, dtype: int64"
      ]
     },
     "execution_count": 15,
     "metadata": {},
     "output_type": "execute_result"
    }
   ],
   "source": [
    "#loans with credit score of 1...need to be fixed\n",
    "pd.value_counts(df1.obligorCreditScore==1)"
   ]
  },
  {
   "cell_type": "code",
   "execution_count": 16,
   "metadata": {},
   "outputs": [
    {
     "data": {
      "text/plain": [
       "False    53328\n",
       "True      8188\n",
       "Name: obligorCreditScore, dtype: int64"
      ]
     },
     "execution_count": 16,
     "metadata": {},
     "output_type": "execute_result"
    }
   ],
   "source": [
    "#loans with credit score of less than 100...need to be fixed\n",
    "pd.value_counts(df1.obligorCreditScore<=100)"
   ]
  },
  {
   "cell_type": "code",
   "execution_count": 17,
   "metadata": {},
   "outputs": [
    {
     "data": {
      "text/plain": [
       "0.0    44325\n",
       "1.0    17190\n",
       "Name: coObligorIndicator, dtype: int64"
      ]
     },
     "execution_count": 17,
     "metadata": {},
     "output_type": "execute_result"
    }
   ],
   "source": [
    "pd.value_counts(df1.coObligorIndicator)"
   ]
  },
  {
   "cell_type": "code",
   "execution_count": 18,
   "metadata": {},
   "outputs": [
    {
     "data": {
      "text/plain": [
       "73.0    16537\n",
       "74.0    14119\n",
       "61.0    12325\n",
       "62.0     9886\n",
       "49.0     1859\n",
       "37.0     1483\n",
       "50.0     1458\n",
       "67.0     1370\n",
       "38.0     1096\n",
       "68.0      808\n",
       "25.0      132\n",
       "63.0      119\n",
       "26.0       86\n",
       "55.0       45\n",
       "64.0       39\n",
       "56.0       21\n",
       "43.0       19\n",
       "13.0       18\n",
       "65.0       16\n",
       "44.0       16\n",
       "14.0        8\n",
       "32.0        6\n",
       "72.0        6\n",
       "31.0        5\n",
       "39.0        5\n",
       "60.0        4\n",
       "71.0        3\n",
       "51.0        3\n",
       "20.0        3\n",
       "52.0        2\n",
       "53.0        2\n",
       "19.0        2\n",
       "41.0        2\n",
       "40.0        2\n",
       "59.0        1\n",
       "57.0        1\n",
       "36.0        1\n",
       "30.0        1\n",
       "42.0        1\n",
       "54.0        1\n",
       "70.0        1\n",
       "33.0        1\n",
       "34.0        1\n",
       "66.0        1\n",
       "Name: originalLoanTerm, dtype: int64"
      ]
     },
     "execution_count": 18,
     "metadata": {},
     "output_type": "execute_result"
    }
   ],
   "source": [
    "pd.value_counts(df1.originalLoanTerm)"
   ]
  },
  {
   "cell_type": "code",
   "execution_count": 19,
   "metadata": {},
   "outputs": [
    {
     "data": {
      "text/plain": [
       "2.0    49153\n",
       "3.0     1375\n",
       "4.0       15\n",
       "5.0        2\n",
       "Name: obligorIncomeVerificationLevelCode, dtype: int64"
      ]
     },
     "execution_count": 19,
     "metadata": {},
     "output_type": "execute_result"
    }
   ],
   "source": [
    "pd.value_counts(df1.obligorIncomeVerificationLevelCode)"
   ]
  },
  {
   "cell_type": "code",
   "execution_count": 20,
   "metadata": {},
   "outputs": [
    {
     "data": {
      "text/plain": [
       "1.0    51234\n",
       "2.0    10281\n",
       "Name: vehicleNewUsedCode, dtype: int64"
      ]
     },
     "execution_count": 20,
     "metadata": {},
     "output_type": "execute_result"
    }
   ],
   "source": [
    "pd.value_counts(df1.vehicleNewUsedCode)"
   ]
  },
  {
   "cell_type": "code",
   "execution_count": 21,
   "metadata": {},
   "outputs": [
    {
     "data": {
      "text/plain": [
       "2.0    49153\n",
       "3.0     1392\n",
       "Name: obligorEmploymentVerificationCode, dtype: int64"
      ]
     },
     "execution_count": 21,
     "metadata": {},
     "output_type": "execute_result"
    }
   ],
   "source": [
    "pd.value_counts(df1.obligorEmploymentVerificationCode)"
   ]
  },
  {
   "cell_type": "code",
   "execution_count": 22,
   "metadata": {},
   "outputs": [
    {
     "data": {
      "text/plain": [
       "True"
      ]
     },
     "execution_count": 22,
     "metadata": {},
     "output_type": "execute_result"
    }
   ],
   "source": [
    "df1.isnull().values.any()"
   ]
  },
  {
   "cell_type": "code",
   "execution_count": 23,
   "metadata": {},
   "outputs": [
    {
     "data": {
      "text/plain": [
       "0.0      57759\n",
       "4.0        384\n",
       "6.0        294\n",
       "5.0        294\n",
       "7.0        280\n",
       "8.0        192\n",
       "9.0        171\n",
       "10.0       161\n",
       "12.0       146\n",
       "11.0       129\n",
       "13.0       128\n",
       "17.0       122\n",
       "18.0       121\n",
       "16.0       107\n",
       "15.0       103\n",
       "14.0       101\n",
       "20.0        95\n",
       "19.0        85\n",
       "22.0        77\n",
       "21.0        70\n",
       "24.0        55\n",
       "27.0        54\n",
       "23.0        54\n",
       "29.0        39\n",
       "26.0        37\n",
       "28.0        36\n",
       "25.0        36\n",
       "31.0        35\n",
       "30.0        33\n",
       "34.0        23\n",
       "         ...  \n",
       "49.0         7\n",
       "51.0         7\n",
       "50.0         7\n",
       "44.0         7\n",
       "59.0         7\n",
       "57.0         6\n",
       "61.0         6\n",
       "53.0         5\n",
       "58.0         5\n",
       "54.0         3\n",
       "60.0         3\n",
       "1.0          3\n",
       "68.0         2\n",
       "55.0         2\n",
       "72.0         2\n",
       "74.0         2\n",
       "3.0          2\n",
       "67.0         2\n",
       "32.0         1\n",
       "70.0         1\n",
       "71.0         1\n",
       "81.0         1\n",
       "107.0        1\n",
       "80.0         1\n",
       "65.0         1\n",
       "83.0         1\n",
       "90.0         1\n",
       "66.0         1\n",
       "75.0         1\n",
       "104.0        1\n",
       "Name: currentDelinquencyStatus, Length: 76, dtype: int64"
      ]
     },
     "execution_count": 23,
     "metadata": {},
     "output_type": "execute_result"
    }
   ],
   "source": [
    "pd.value_counts(df1.currentDelinquencyStatus)"
   ]
  },
  {
   "cell_type": "code",
   "execution_count": 24,
   "metadata": {
    "collapsed": true
   },
   "outputs": [],
   "source": [
    "def map_label(*args):\n",
    "    columns = [c for c in args]\n",
    "    for column in columns:\n",
    "        if column > 0:\n",
    "            return 1\n",
    "        \n",
    "        if column == 0:\n",
    "            return 0\n",
    "              "
   ]
  },
  {
   "cell_type": "code",
   "execution_count": 25,
   "metadata": {
    "collapsed": true
   },
   "outputs": [],
   "source": [
    "df1['label'] = list(map(map_label, df1.currentDelinquencyStatus ))"
   ]
  },
  {
   "cell_type": "code",
   "execution_count": 26,
   "metadata": {},
   "outputs": [
    {
     "data": {
      "text/plain": [
       "0.0    57759\n",
       "1.0     3756\n",
       "Name: label, dtype: int64"
      ]
     },
     "execution_count": 26,
     "metadata": {},
     "output_type": "execute_result"
    }
   ],
   "source": [
    "pd.value_counts(df1.label)"
   ]
  },
  {
   "cell_type": "code",
   "execution_count": 27,
   "metadata": {},
   "outputs": [
    {
     "data": {
      "text/plain": [
       "(61516, 28)"
      ]
     },
     "execution_count": 27,
     "metadata": {},
     "output_type": "execute_result"
    }
   ],
   "source": [
    "df1.shape"
   ]
  },
  {
   "cell_type": "code",
   "execution_count": 28,
   "metadata": {
    "collapsed": true
   },
   "outputs": [],
   "source": [
    "df1.fillna(0, inplace=True)"
   ]
  },
  {
   "cell_type": "code",
   "execution_count": 29,
   "metadata": {},
   "outputs": [],
   "source": [
    "import numpy as np\n",
    "df1=df1.replace([np.inf, -np.inf], np.nan)\n",
    "df1.dropna(inplace=True)"
   ]
  },
  {
   "cell_type": "code",
   "execution_count": 30,
   "metadata": {},
   "outputs": [],
   "source": [
    "Y=df1.label.values"
   ]
  },
  {
   "cell_type": "code",
   "execution_count": 31,
   "metadata": {},
   "outputs": [
    {
     "data": {
      "text/plain": [
       "(61516,)"
      ]
     },
     "execution_count": 31,
     "metadata": {},
     "output_type": "execute_result"
    }
   ],
   "source": [
    "Y.shape"
   ]
  },
  {
   "cell_type": "code",
   "execution_count": 32,
   "metadata": {
    "collapsed": true
   },
   "outputs": [],
   "source": [
    "Y=Y.reshape(Y.shape[0],1)"
   ]
  },
  {
   "cell_type": "code",
   "execution_count": 33,
   "metadata": {},
   "outputs": [
    {
     "data": {
      "text/plain": [
       "(61516, 1)"
      ]
     },
     "execution_count": 33,
     "metadata": {},
     "output_type": "execute_result"
    }
   ],
   "source": [
    "Y.shape"
   ]
  },
  {
   "cell_type": "code",
   "execution_count": 34,
   "metadata": {},
   "outputs": [
    {
     "data": {
      "text/plain": [
       "(61516, 28)"
      ]
     },
     "execution_count": 34,
     "metadata": {},
     "output_type": "execute_result"
    }
   ],
   "source": [
    "input=df1.values\n",
    "input.shape"
   ]
  },
  {
   "cell_type": "code",
   "execution_count": 35,
   "metadata": {},
   "outputs": [
    {
     "name": "stdout",
     "output_type": "stream",
     "text": [
      "43061\n"
     ]
    }
   ],
   "source": [
    "train_split = 0.70\n",
    "len_train = int(len(input)*train_split)\n",
    "print(len_train)"
   ]
  },
  {
   "cell_type": "code",
   "execution_count": 36,
   "metadata": {},
   "outputs": [],
   "source": [
    "y_train = Y[0:len_train]\n",
    "y_test = Y[len_train:]"
   ]
  },
  {
   "cell_type": "code",
   "execution_count": 37,
   "metadata": {},
   "outputs": [
    {
     "data": {
      "text/plain": [
       "Index(['originalLoanAmount', 'originalLoanTerm',\n",
       "       'originalInterestRatePercentage', 'vehicleNewUsedCode',\n",
       "       'vehicleTypeCode', 'vehicleValueAmount', 'obligorCreditScore',\n",
       "       'obligorIncomeVerificationLevelCode',\n",
       "       'obligorEmploymentVerificationCode', 'coObligorIndicator',\n",
       "       'paymentToIncomePercentage', 'remainingTermToMaturityNumber',\n",
       "       'reportingPeriodBeginningLoanBalanceAmount',\n",
       "       'nextReportingPeriodPaymentAmountDue',\n",
       "       'reportingPeriodInterestRatePercentage', 'nextInterestRatePercentage',\n",
       "       'servicingFeePercentage', 'otherAssessedUncollectedServicerFeeAmount',\n",
       "       'scheduledInterestAmount', 'scheduledPrincipalAmount',\n",
       "       'reportingPeriodActualEndBalanceAmount',\n",
       "       'reportingPeriodScheduledPaymentAmount', 'totalActualAmountPaid',\n",
       "       'actualInterestCollectedAmount', 'actualPrincipalCollectedAmount',\n",
       "       'actualOtherCollectedAmount', 'currentDelinquencyStatus', 'label'],\n",
       "      dtype='object')"
      ]
     },
     "execution_count": 37,
     "metadata": {},
     "output_type": "execute_result"
    }
   ],
   "source": [
    "df1.columns"
   ]
  },
  {
   "cell_type": "code",
   "execution_count": 38,
   "metadata": {
    "collapsed": true
   },
   "outputs": [],
   "source": [
    "df1.drop(['currentDelinquencyStatus','label'], axis=1, inplace=True)"
   ]
  },
  {
   "cell_type": "code",
   "execution_count": 39,
   "metadata": {},
   "outputs": [
    {
     "data": {
      "text/plain": [
       "(61516, 28, 1)"
      ]
     },
     "execution_count": 39,
     "metadata": {},
     "output_type": "execute_result"
    }
   ],
   "source": [
    "input=input.reshape(input.shape[0], input.shape[1], 1)\n",
    "input.shape"
   ]
  },
  {
   "cell_type": "code",
   "execution_count": 40,
   "metadata": {
    "collapsed": true
   },
   "outputs": [],
   "source": [
    "x_train = input[0:len_train]\n",
    "x_test = input[len_train:]"
   ]
  },
  {
   "cell_type": "code",
   "execution_count": 41,
   "metadata": {
    "scrolled": false
   },
   "outputs": [
    {
     "data": {
      "text/plain": [
       "(43061, 28, 1)"
      ]
     },
     "execution_count": 41,
     "metadata": {},
     "output_type": "execute_result"
    }
   ],
   "source": [
    "from tensorflow import keras\n",
    "x_train_keras_scaled = keras.utils.normalize(x_train, axis=-1, order=2)\n",
    "x_test_keras_scaled = keras.utils.normalize(x_test, axis=-1, order=2)\n",
    "x_train_keras_scaled.shape"
   ]
  },
  {
   "cell_type": "code",
   "execution_count": 42,
   "metadata": {
    "collapsed": true
   },
   "outputs": [],
   "source": [
    "#from sklearn.preprocessing import MinMaxScaler"
   ]
  },
  {
   "cell_type": "code",
   "execution_count": 43,
   "metadata": {},
   "outputs": [
    {
     "name": "stderr",
     "output_type": "stream",
     "text": [
      "Using TensorFlow backend.\n"
     ]
    }
   ],
   "source": [
    "import tensorflow as tf\n",
    "from tensorflow import keras\n",
    "from keras import optimizers\n",
    "from keras.models import Sequential\n",
    "from keras.layers import Dense, Dropout, LSTM, GRU"
   ]
  },
  {
   "cell_type": "code",
   "execution_count": 48,
   "metadata": {},
   "outputs": [
    {
     "name": "stdout",
     "output_type": "stream",
     "text": [
      "Train on 43061 samples, validate on 18455 samples\n",
      "Epoch 1/1\n",
      "43061/43061 [==============================] - 84s 2ms/step - loss: 1.3192 - acc: 0.9180 - val_loss: 0.3633 - val_acc: 0.9775\n",
      "18455/18455 [==============================] - 8s 412us/step\n"
     ]
    }
   ],
   "source": [
    "model = keras.Sequential()\n",
    "model.add(keras.layers.LSTM(128, activation='relu', input_shape=(x_train_keras_scaled.shape[1:]), return_sequences=True))\n",
    "model.add(keras.layers.Dropout(0.2))\n",
    "\n",
    "model.add(keras.layers.LSTM(128, activation='relu'))\n",
    "model.add(keras.layers.Dropout(0.1))\n",
    "\n",
    "model.add(keras.layers.Dense(32, activation='relu'))\n",
    "model.add(keras.layers.Dropout(0.2))\n",
    "\n",
    "model.add(keras.layers.Dense(2, activation='softmax'))\n",
    "\n",
    "optimizer = tf.keras.optimizers.Adam(lr=1e-3, decay=1e-6)\n",
    "\n",
    "model.compile(loss='sparse_categorical_crossentropy', optimizer=optimizer, metrics=['accuracy'])\n",
    "\n",
    "model.fit(x_train, y_train, epochs=1, validation_data=(x_test, y_test))\n",
    "\n",
    "test_loss, test_acc = model.evaluate(x_test, y_test)\n"
   ]
  },
  {
   "cell_type": "code",
   "execution_count": null,
   "metadata": {
    "collapsed": true
   },
   "outputs": [],
   "source": []
  }
 ],
 "metadata": {
  "kernelspec": {
   "display_name": "Python 3",
   "language": "python",
   "name": "python3"
  },
  "language_info": {
   "codemirror_mode": {
    "name": "ipython",
    "version": 3
   },
   "file_extension": ".py",
   "mimetype": "text/x-python",
   "name": "python",
   "nbconvert_exporter": "python",
   "pygments_lexer": "ipython3",
   "version": "3.6.1"
  }
 },
 "nbformat": 4,
 "nbformat_minor": 2
}
