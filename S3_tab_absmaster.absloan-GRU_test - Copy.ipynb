{
 "cells": [
  {
   "cell_type": "code",
   "execution_count": 1,
   "metadata": {
    "scrolled": false
   },
   "outputs": [
    {
     "name": "stderr",
     "output_type": "stream",
     "text": [
      "Using TensorFlow backend.\n"
     ]
    },
    {
     "data": {
      "text/plain": [
       "'1.8.0'"
      ]
     },
     "execution_count": 1,
     "metadata": {},
     "output_type": "execute_result"
    }
   ],
   "source": [
    "import time\n",
    "import pandas as pd\n",
    "import numpy as np\n",
    "from matplotlib import pyplot as plt\n",
    "import tensorflow as tf\n",
    "from tensorflow import keras\n",
    "from keras import optimizers\n",
    "from keras.models import Sequential\n",
    "from keras.layers import Input, Dense, Dropout, LSTM, GRU\n",
    "from keras.models import Model, load_model\n",
    "from keras.callbacks import ModelCheckpoint, TensorBoard\n",
    "from keras import regularizers\n",
    "tf.__version__\n",
    "\n",
    "\n",
    "#import seaborn as sns\n",
    "#from sklearn.model_selection import train_test_split\n",
    "#from sklearn.metrics import confusion_matrix, precision_recall_curve\n",
    "#from sklearn.metrics import recall_score, classification_report, auc, roc_curve\n",
    "#from sklearn.metrics import precision_recall_fscore_support, f1_score\n",
    "#from sklearn.preprocessing import StandardScaler\n",
    "from pylab import rcParams\n",
    "tf.__version__"
   ]
  },
  {
   "cell_type": "markdown",
   "metadata": {},
   "source": [
    "# Model Name"
   ]
  },
  {
   "cell_type": "code",
   "execution_count": 2,
   "metadata": {
    "collapsed": true
   },
   "outputs": [],
   "source": [
    "name = \"ABS_Keras-GRU254GRU128D32D2-adam{}\".format(int(time.time()))\n",
    "#name_noTime = \"ABS_Keras-LSTM128LSTM128D32D2-adam\""
   ]
  },
  {
   "cell_type": "markdown",
   "metadata": {},
   "source": [
    "# Choose default months & paths, columns(features) and number of loans to load, train/test split"
   ]
  },
  {
   "cell_type": "code",
   "execution_count": 3,
   "metadata": {
    "collapsed": true
   },
   "outputs": [],
   "source": [
    "default_months = 6\n",
    "nrows = 1000000\n",
    "train_split = 0.80\n",
    "model = keras\n",
    "path = 'c:/users/ugy1/abs/'\n",
    "rows_for_prediction = 1000\n",
    "\n",
    "column_list = ['abs_loan.originationdate', 'abs_loan.originalloanamount','abs_loan.originalloanterm',\n",
    "'abs_loan.originalinterestratepercentage','abs_loan.subvented','abs_loan.vehiclenewusedcode','abs_loan.vehiclevalueamount',\n",
    "'abs_loan.obligorcreditscore','abs_loan.obligorincomeverificationlevelcode','abs_loan.obligoremploymentverificationcode',\n",
    "'abs_loan.paymenttoincomepercentage','abs_loan.remainingtermtomaturitynumber',\n",
    "'abs_loan.reportingperiodbeginningloanbalanceamount','abs_loan.nextreportingperiodpaymentamountdue',\n",
    "'abs_loan.reportingperiodinterestratepercentage','abs_loan.nextinterestratepercentage',\n",
    "'abs_loan.servicingfeepercentage','abs_loan.otherservicerfeeretainedbyservicer',\n",
    "'abs_loan.otherassesseduncollectedservicerfeeamount','abs_loan.scheduledinterestamount', \n",
    "'abs_loan.scheduledprincipalamount','abs_loan.otherprincipaladjustmentamount',\n",
    "'abs_loan.reportingperiodactualendbalanceamount','abs_loan.reportingperiodscheduledpaymentamount',\n",
    "'abs_loan.totalactualamountpaid','abs_loan.actualinterestcollectedamount','abs_loan.actualprincipalcollectedamount',\n",
    "'abs_loan.actualothercollectedamount','abs_loan.serviceradvancedamount', 'abs_loan.currentdelinquencystatus']"
   ]
  },
  {
   "cell_type": "markdown",
   "metadata": {},
   "source": [
    "# GPU Options"
   ]
  },
  {
   "cell_type": "code",
   "execution_count": 4,
   "metadata": {
    "collapsed": true
   },
   "outputs": [],
   "source": [
    "# gpu_options = tf.GPUOptions(per_process_gpu_memory_fraction=0.5)\n",
    "# sess=tf.Session(config=tf.ConfigProto(gpu_options=gpu_options))"
   ]
  },
  {
   "cell_type": "markdown",
   "metadata": {},
   "source": [
    "# Load data"
   ]
  },
  {
   "cell_type": "code",
   "execution_count": 5,
   "metadata": {},
   "outputs": [
    {
     "name": "stdout",
     "output_type": "stream",
     "text": [
      "(1000000, 73)\n"
     ]
    },
    {
     "data": {
      "text/plain": [
       "abs_loan.cik                                            int64\n",
       "abs_loan.accessionnumber                               object\n",
       "abs_loan.assettypenumber                               object\n",
       "abs_loan.assetnumber                                   object\n",
       "abs_loan.reportingperiodbeginningdate                  object\n",
       "abs_loan.reportingperiodendingdate                     object\n",
       "abs_loan.originatorname                                object\n",
       "abs_loan.originalloanamount                           float64\n",
       "abs_loan.originalloanterm                               int64\n",
       "abs_loan.loanmaturitydate                              object\n",
       "abs_loan.originalinterestratepercentage               float64\n",
       "abs_loan.interestcalculationtypecode                    int64\n",
       "abs_loan.originalinterestratetypecode                   int64\n",
       "abs_loan.originalinterestonlytermnumber               float64\n",
       "abs_loan.originalfirstpaymentdate                      object\n",
       "abs_loan.underwritingindicator                           bool\n",
       "abs_loan.graceperiodnumber                              int64\n",
       "abs_loan.paymenttypecode                                int64\n",
       "abs_loan.subvented                                     object\n",
       "abs_loan.vehiclemanufacturername                       object\n",
       "abs_loan.vehiclemodelname                              object\n",
       "abs_loan.vehiclenewusedcode                             int64\n",
       "abs_loan.vehiclemodelyear                               int64\n",
       "abs_loan.vehicletypecode                                int64\n",
       "abs_loan.vehiclevalueamount                           float64\n",
       "abs_loan.vehiclevaluesourcecode                         int64\n",
       "abs_loan.obligorcreditscoretype                        object\n",
       "abs_loan.obligorcreditscore                           float64\n",
       "abs_loan.obligorincomeverificationlevelcode             int64\n",
       "abs_loan.obligoremploymentverificationcode              int64\n",
       "                                                       ...   \n",
       "abs_loan.otherservicerfeeretainedbyservicer           float64\n",
       "abs_loan.otherassesseduncollectedservicerfeeamount    float64\n",
       "abs_loan.scheduledinterestamount                      float64\n",
       "abs_loan.scheduledprincipalamount                     float64\n",
       "abs_loan.otherprincipaladjustmentamount               float64\n",
       "abs_loan.reportingperiodactualendbalanceamount        float64\n",
       "abs_loan.reportingperiodscheduledpaymentamount        float64\n",
       "abs_loan.totalactualamountpaid                        float64\n",
       "abs_loan.actualinterestcollectedamount                float64\n",
       "abs_loan.actualprincipalcollectedamount               float64\n",
       "abs_loan.actualothercollectedamount                   float64\n",
       "abs_loan.serviceradvancedamount                       float64\n",
       "abs_loan.interestpaidthroughdate                       object\n",
       "abs_loan.zerobalanceeffectivedate                      object\n",
       "abs_loan.zerobalancecode                               object\n",
       "abs_loan.currentdelinquencystatus                       int64\n",
       "abs_loan.primaryloanservicername                       object\n",
       "abs_loan.mostrecentservicingtransferreceiveddate      float64\n",
       "abs_loan.assetsubjectdemandindicator                     bool\n",
       "abs_loan.assetsubjectdemandstatuscode                 float64\n",
       "abs_loan.repurchaseamount                             float64\n",
       "abs_loan.demandresolutiondate                         float64\n",
       "abs_loan.repurchasername                              float64\n",
       "abs_loan.repurchasereplacementreasoncode               object\n",
       "abs_loan.chargedoffprincipalamount                    float64\n",
       "abs_loan.recoveredamount                              float64\n",
       "abs_loan.modificationtypecode                          object\n",
       "abs_loan.paymentextendednumber                        float64\n",
       "abs_loan.repossessedindicator                            bool\n",
       "abs_loan.repossessedproceedsamount                    float64\n",
       "Length: 73, dtype: object"
      ]
     },
     "execution_count": 5,
     "metadata": {},
     "output_type": "execute_result"
    }
   ],
   "source": [
    "df=pd.read_csv(path+'datasets/s3tab/abs_loan.csv', \n",
    "               #usecols=column_list, \n",
    "               sep='\\t',\n",
    "               nrows=nrows,\n",
    "               low_memory=False, \n",
    "              index_col='abs_loan.originationdate', \n",
    "               parse_dates=True\n",
    "              )\n",
    "print(df.shape)\n",
    "df.dtypes"
   ]
  },
  {
   "cell_type": "code",
   "execution_count": 6,
   "metadata": {},
   "outputs": [
    {
     "data": {
      "text/html": [
       "<div>\n",
       "<style scoped>\n",
       "    .dataframe tbody tr th:only-of-type {\n",
       "        vertical-align: middle;\n",
       "    }\n",
       "\n",
       "    .dataframe tbody tr th {\n",
       "        vertical-align: top;\n",
       "    }\n",
       "\n",
       "    .dataframe thead th {\n",
       "        text-align: right;\n",
       "    }\n",
       "</style>\n",
       "<table border=\"1\" class=\"dataframe\">\n",
       "  <thead>\n",
       "    <tr style=\"text-align: right;\">\n",
       "      <th></th>\n",
       "      <th>abs_loan.cik</th>\n",
       "      <th>abs_loan.accessionnumber</th>\n",
       "      <th>abs_loan.assettypenumber</th>\n",
       "      <th>abs_loan.assetnumber</th>\n",
       "      <th>abs_loan.reportingperiodbeginningdate</th>\n",
       "      <th>abs_loan.reportingperiodendingdate</th>\n",
       "      <th>abs_loan.originatorname</th>\n",
       "      <th>abs_loan.originalloanamount</th>\n",
       "      <th>abs_loan.originalloanterm</th>\n",
       "      <th>abs_loan.loanmaturitydate</th>\n",
       "      <th>...</th>\n",
       "      <th>abs_loan.repurchaseamount</th>\n",
       "      <th>abs_loan.demandresolutiondate</th>\n",
       "      <th>abs_loan.repurchasername</th>\n",
       "      <th>abs_loan.repurchasereplacementreasoncode</th>\n",
       "      <th>abs_loan.chargedoffprincipalamount</th>\n",
       "      <th>abs_loan.recoveredamount</th>\n",
       "      <th>abs_loan.modificationtypecode</th>\n",
       "      <th>abs_loan.paymentextendednumber</th>\n",
       "      <th>abs_loan.repossessedindicator</th>\n",
       "      <th>abs_loan.repossessedproceedsamount</th>\n",
       "    </tr>\n",
       "    <tr>\n",
       "      <th>abs_loan.originationdate</th>\n",
       "      <th></th>\n",
       "      <th></th>\n",
       "      <th></th>\n",
       "      <th></th>\n",
       "      <th></th>\n",
       "      <th></th>\n",
       "      <th></th>\n",
       "      <th></th>\n",
       "      <th></th>\n",
       "      <th></th>\n",
       "      <th></th>\n",
       "      <th></th>\n",
       "      <th></th>\n",
       "      <th></th>\n",
       "      <th></th>\n",
       "      <th></th>\n",
       "      <th></th>\n",
       "      <th></th>\n",
       "      <th></th>\n",
       "      <th></th>\n",
       "      <th></th>\n",
       "    </tr>\n",
       "  </thead>\n",
       "  <tbody>\n",
       "    <tr>\n",
       "      <th>2012-12-31</th>\n",
       "      <td>1725617</td>\n",
       "      <td>0000929638-18-000030</td>\n",
       "      <td>BMW2018-A</td>\n",
       "      <td>1001536189</td>\n",
       "      <td>2017-11-01</td>\n",
       "      <td>2017-11-30</td>\n",
       "      <td>BMW Bank of North America</td>\n",
       "      <td>25124.50</td>\n",
       "      <td>72</td>\n",
       "      <td>2018-12-31</td>\n",
       "      <td>...</td>\n",
       "      <td>0.0</td>\n",
       "      <td>NaN</td>\n",
       "      <td>NaN</td>\n",
       "      <td>[]</td>\n",
       "      <td>0.0</td>\n",
       "      <td>0.0</td>\n",
       "      <td>[]</td>\n",
       "      <td>NaN</td>\n",
       "      <td>False</td>\n",
       "      <td>0.0</td>\n",
       "    </tr>\n",
       "    <tr>\n",
       "      <th>2012-12-31</th>\n",
       "      <td>1725617</td>\n",
       "      <td>0000929638-18-000030</td>\n",
       "      <td>BMW2018-A</td>\n",
       "      <td>1001536759</td>\n",
       "      <td>2017-11-01</td>\n",
       "      <td>2017-11-30</td>\n",
       "      <td>BMW Bank of North America</td>\n",
       "      <td>43257.34</td>\n",
       "      <td>72</td>\n",
       "      <td>2019-01-31</td>\n",
       "      <td>...</td>\n",
       "      <td>0.0</td>\n",
       "      <td>NaN</td>\n",
       "      <td>NaN</td>\n",
       "      <td>[]</td>\n",
       "      <td>0.0</td>\n",
       "      <td>0.0</td>\n",
       "      <td>[]</td>\n",
       "      <td>NaN</td>\n",
       "      <td>False</td>\n",
       "      <td>0.0</td>\n",
       "    </tr>\n",
       "    <tr>\n",
       "      <th>2012-12-31</th>\n",
       "      <td>1725617</td>\n",
       "      <td>0000929638-18-000030</td>\n",
       "      <td>BMW2018-A</td>\n",
       "      <td>1001536970</td>\n",
       "      <td>2017-11-01</td>\n",
       "      <td>2017-11-30</td>\n",
       "      <td>BMW Bank of North America</td>\n",
       "      <td>56917.54</td>\n",
       "      <td>72</td>\n",
       "      <td>2019-01-31</td>\n",
       "      <td>...</td>\n",
       "      <td>0.0</td>\n",
       "      <td>NaN</td>\n",
       "      <td>NaN</td>\n",
       "      <td>[]</td>\n",
       "      <td>0.0</td>\n",
       "      <td>0.0</td>\n",
       "      <td>[]</td>\n",
       "      <td>NaN</td>\n",
       "      <td>False</td>\n",
       "      <td>0.0</td>\n",
       "    </tr>\n",
       "    <tr>\n",
       "      <th>2012-12-31</th>\n",
       "      <td>1725617</td>\n",
       "      <td>0000929638-18-000030</td>\n",
       "      <td>BMW2018-A</td>\n",
       "      <td>1001537061</td>\n",
       "      <td>2017-11-01</td>\n",
       "      <td>2017-11-30</td>\n",
       "      <td>BMW Bank of North America</td>\n",
       "      <td>42003.57</td>\n",
       "      <td>72</td>\n",
       "      <td>2018-12-31</td>\n",
       "      <td>...</td>\n",
       "      <td>0.0</td>\n",
       "      <td>NaN</td>\n",
       "      <td>NaN</td>\n",
       "      <td>[]</td>\n",
       "      <td>0.0</td>\n",
       "      <td>0.0</td>\n",
       "      <td>[]</td>\n",
       "      <td>NaN</td>\n",
       "      <td>False</td>\n",
       "      <td>0.0</td>\n",
       "    </tr>\n",
       "    <tr>\n",
       "      <th>2012-12-31</th>\n",
       "      <td>1725617</td>\n",
       "      <td>0000929638-18-000030</td>\n",
       "      <td>BMW2018-A</td>\n",
       "      <td>1001537088</td>\n",
       "      <td>2017-11-01</td>\n",
       "      <td>2017-11-30</td>\n",
       "      <td>BMW Bank of North America</td>\n",
       "      <td>77217.85</td>\n",
       "      <td>72</td>\n",
       "      <td>2019-01-31</td>\n",
       "      <td>...</td>\n",
       "      <td>0.0</td>\n",
       "      <td>NaN</td>\n",
       "      <td>NaN</td>\n",
       "      <td>[]</td>\n",
       "      <td>0.0</td>\n",
       "      <td>0.0</td>\n",
       "      <td>[]</td>\n",
       "      <td>NaN</td>\n",
       "      <td>False</td>\n",
       "      <td>0.0</td>\n",
       "    </tr>\n",
       "  </tbody>\n",
       "</table>\n",
       "<p>5 rows × 73 columns</p>\n",
       "</div>"
      ],
      "text/plain": [
       "                          abs_loan.cik abs_loan.accessionnumber  \\\n",
       "abs_loan.originationdate                                          \n",
       "2012-12-31                     1725617     0000929638-18-000030   \n",
       "2012-12-31                     1725617     0000929638-18-000030   \n",
       "2012-12-31                     1725617     0000929638-18-000030   \n",
       "2012-12-31                     1725617     0000929638-18-000030   \n",
       "2012-12-31                     1725617     0000929638-18-000030   \n",
       "\n",
       "                         abs_loan.assettypenumber abs_loan.assetnumber  \\\n",
       "abs_loan.originationdate                                                 \n",
       "2012-12-31                             BMW2018-A            1001536189   \n",
       "2012-12-31                             BMW2018-A            1001536759   \n",
       "2012-12-31                             BMW2018-A            1001536970   \n",
       "2012-12-31                             BMW2018-A            1001537061   \n",
       "2012-12-31                             BMW2018-A            1001537088   \n",
       "\n",
       "                         abs_loan.reportingperiodbeginningdate  \\\n",
       "abs_loan.originationdate                                         \n",
       "2012-12-31                                          2017-11-01   \n",
       "2012-12-31                                          2017-11-01   \n",
       "2012-12-31                                          2017-11-01   \n",
       "2012-12-31                                          2017-11-01   \n",
       "2012-12-31                                          2017-11-01   \n",
       "\n",
       "                         abs_loan.reportingperiodendingdate  \\\n",
       "abs_loan.originationdate                                      \n",
       "2012-12-31                                       2017-11-30   \n",
       "2012-12-31                                       2017-11-30   \n",
       "2012-12-31                                       2017-11-30   \n",
       "2012-12-31                                       2017-11-30   \n",
       "2012-12-31                                       2017-11-30   \n",
       "\n",
       "                            abs_loan.originatorname  \\\n",
       "abs_loan.originationdate                              \n",
       "2012-12-31                BMW Bank of North America   \n",
       "2012-12-31                BMW Bank of North America   \n",
       "2012-12-31                BMW Bank of North America   \n",
       "2012-12-31                BMW Bank of North America   \n",
       "2012-12-31                BMW Bank of North America   \n",
       "\n",
       "                          abs_loan.originalloanamount  \\\n",
       "abs_loan.originationdate                                \n",
       "2012-12-31                                   25124.50   \n",
       "2012-12-31                                   43257.34   \n",
       "2012-12-31                                   56917.54   \n",
       "2012-12-31                                   42003.57   \n",
       "2012-12-31                                   77217.85   \n",
       "\n",
       "                          abs_loan.originalloanterm abs_loan.loanmaturitydate  \\\n",
       "abs_loan.originationdate                                                        \n",
       "2012-12-31                                       72                2018-12-31   \n",
       "2012-12-31                                       72                2019-01-31   \n",
       "2012-12-31                                       72                2019-01-31   \n",
       "2012-12-31                                       72                2018-12-31   \n",
       "2012-12-31                                       72                2019-01-31   \n",
       "\n",
       "                                        ...                  \\\n",
       "abs_loan.originationdate                ...                   \n",
       "2012-12-31                              ...                   \n",
       "2012-12-31                              ...                   \n",
       "2012-12-31                              ...                   \n",
       "2012-12-31                              ...                   \n",
       "2012-12-31                              ...                   \n",
       "\n",
       "                          abs_loan.repurchaseamount  \\\n",
       "abs_loan.originationdate                              \n",
       "2012-12-31                                      0.0   \n",
       "2012-12-31                                      0.0   \n",
       "2012-12-31                                      0.0   \n",
       "2012-12-31                                      0.0   \n",
       "2012-12-31                                      0.0   \n",
       "\n",
       "                          abs_loan.demandresolutiondate  \\\n",
       "abs_loan.originationdate                                  \n",
       "2012-12-31                                          NaN   \n",
       "2012-12-31                                          NaN   \n",
       "2012-12-31                                          NaN   \n",
       "2012-12-31                                          NaN   \n",
       "2012-12-31                                          NaN   \n",
       "\n",
       "                          abs_loan.repurchasername  \\\n",
       "abs_loan.originationdate                             \n",
       "2012-12-31                                     NaN   \n",
       "2012-12-31                                     NaN   \n",
       "2012-12-31                                     NaN   \n",
       "2012-12-31                                     NaN   \n",
       "2012-12-31                                     NaN   \n",
       "\n",
       "                          abs_loan.repurchasereplacementreasoncode  \\\n",
       "abs_loan.originationdate                                             \n",
       "2012-12-31                                                      []   \n",
       "2012-12-31                                                      []   \n",
       "2012-12-31                                                      []   \n",
       "2012-12-31                                                      []   \n",
       "2012-12-31                                                      []   \n",
       "\n",
       "                         abs_loan.chargedoffprincipalamount  \\\n",
       "abs_loan.originationdate                                      \n",
       "2012-12-31                                              0.0   \n",
       "2012-12-31                                              0.0   \n",
       "2012-12-31                                              0.0   \n",
       "2012-12-31                                              0.0   \n",
       "2012-12-31                                              0.0   \n",
       "\n",
       "                          abs_loan.recoveredamount  \\\n",
       "abs_loan.originationdate                             \n",
       "2012-12-31                                     0.0   \n",
       "2012-12-31                                     0.0   \n",
       "2012-12-31                                     0.0   \n",
       "2012-12-31                                     0.0   \n",
       "2012-12-31                                     0.0   \n",
       "\n",
       "                          abs_loan.modificationtypecode  \\\n",
       "abs_loan.originationdate                                  \n",
       "2012-12-31                                           []   \n",
       "2012-12-31                                           []   \n",
       "2012-12-31                                           []   \n",
       "2012-12-31                                           []   \n",
       "2012-12-31                                           []   \n",
       "\n",
       "                          abs_loan.paymentextendednumber  \\\n",
       "abs_loan.originationdate                                   \n",
       "2012-12-31                                           NaN   \n",
       "2012-12-31                                           NaN   \n",
       "2012-12-31                                           NaN   \n",
       "2012-12-31                                           NaN   \n",
       "2012-12-31                                           NaN   \n",
       "\n",
       "                         abs_loan.repossessedindicator  \\\n",
       "abs_loan.originationdate                                 \n",
       "2012-12-31                                       False   \n",
       "2012-12-31                                       False   \n",
       "2012-12-31                                       False   \n",
       "2012-12-31                                       False   \n",
       "2012-12-31                                       False   \n",
       "\n",
       "                         abs_loan.repossessedproceedsamount  \n",
       "abs_loan.originationdate                                     \n",
       "2012-12-31                                              0.0  \n",
       "2012-12-31                                              0.0  \n",
       "2012-12-31                                              0.0  \n",
       "2012-12-31                                              0.0  \n",
       "2012-12-31                                              0.0  \n",
       "\n",
       "[5 rows x 73 columns]"
      ]
     },
     "execution_count": 6,
     "metadata": {},
     "output_type": "execute_result"
    }
   ],
   "source": [
    "df.head()"
   ]
  },
  {
   "cell_type": "code",
   "execution_count": 7,
   "metadata": {
    "collapsed": true
   },
   "outputs": [],
   "source": [
    "df.columns=df.columns.str.replace('abs_loan.','')"
   ]
  },
  {
   "cell_type": "markdown",
   "metadata": {},
   "source": [
    "# Function to Draw Bar chart"
   ]
  },
  {
   "cell_type": "code",
   "execution_count": 19,
   "metadata": {},
   "outputs": [],
   "source": [
    "def draw(df, title, ylabel):\n",
    "    labels = pd.value_counts(df).index.tolist()\n",
    "    count_classes = pd.value_counts(df, sort = True)\n",
    "    count_classes.plot(kind = 'bar', rot=0)\n",
    "    plt.xticks(range(len(labels)), labels)\n",
    "    plt.title(title)\n",
    "    plt.ylabel(ylabel)\n",
    "    plt.show()\n",
    "    print(pd.value_counts(df))"
   ]
  },
  {
   "cell_type": "markdown",
   "metadata": {},
   "source": [
    "# Origination date"
   ]
  },
  {
   "cell_type": "code",
   "execution_count": 20,
   "metadata": {},
   "outputs": [
    {
     "data": {
      "image/png": "[encoded data removed]",
      "text/plain": [
       "<Figure size 432x288 with 1 Axes>"
      ]
     },
     "metadata": {},
     "output_type": "display_data"
    },
    {
     "name": "stdout",
     "output_type": "stream",
     "text": [
      "2016-12-31    64578\n",
      "2016-10-31    64272\n",
      "2017-01-31    52433\n",
      "2016-08-31    42815\n",
      "2016-09-30    40922\n",
      "2017-04-30    40713\n",
      "2017-03-31    40303\n",
      "2017-05-31    39985\n",
      "2016-11-30    36773\n",
      "2017-09-30    32881\n",
      "2017-10-31    30065\n",
      "2017-08-31    29296\n",
      "2016-07-31    29096\n",
      "2017-02-28    26752\n",
      "2016-05-31    25524\n",
      "2016-06-30    23782\n",
      "2017-11-30    22231\n",
      "2017-07-31    20604\n",
      "2017-06-30    20330\n",
      "2018-05-31    19960\n",
      "2018-04-30    19525\n",
      "2016-04-30    17254\n",
      "2016-03-31    12062\n",
      "2018-03-31    11635\n",
      "2017-12-31    10692\n",
      "2015-12-31     8650\n",
      "2015-10-31     7978\n",
      "2016-01-31     7806\n",
      "2014-04-30     7480\n",
      "2013-07-31     7257\n",
      "              ...  \n",
      "2014-06-30     3054\n",
      "2015-02-28     2923\n",
      "2014-10-31     2920\n",
      "2014-02-28     2916\n",
      "2012-11-30     2513\n",
      "2012-04-30     2298\n",
      "2012-10-31     1982\n",
      "2012-08-31     1697\n",
      "2012-09-30     1596\n",
      "2012-02-29     1569\n",
      "2012-07-31     1415\n",
      "2012-05-31     1189\n",
      "2012-06-30     1159\n",
      "2018-01-31     1005\n",
      "2012-01-31      547\n",
      "2011-12-31      427\n",
      "2011-11-30      203\n",
      "2011-08-31      163\n",
      "2011-10-31      157\n",
      "2011-07-31      124\n",
      "2011-06-30      123\n",
      "2011-09-30      122\n",
      "2011-05-31      116\n",
      "2011-04-30       62\n",
      "2011-03-31       45\n",
      "2011-02-28       40\n",
      "2010-12-31       22\n",
      "2011-01-31       19\n",
      "2010-11-30        6\n",
      "2010-10-31        1\n",
      "Name: abs_loan.originationdate, Length: 92, dtype: int64\n"
     ]
    }
   ],
   "source": [
    "draw(df.index, title='Origination Date', ylabel='Number of Loans')"
   ]
  },
  {
   "cell_type": "markdown",
   "metadata": {},
   "source": [
    "# CIK Number"
   ]
  },
  {
   "cell_type": "code",
   "execution_count": 21,
   "metadata": {},
   "outputs": [
    {
     "data": {
      "image/png": "[encoded data removed]",
      "text/plain": [
       "<Figure size 432x288 with 1 Axes>"
      ]
     },
     "metadata": {},
     "output_type": "display_data"
    },
    {
     "name": "stdout",
     "output_type": "stream",
     "text": [
      "1725617    429753\n",
      "1696935    100512\n",
      "1694919     93151\n",
      "1697574     79235\n",
      "1726794     79166\n",
      "1694276     76690\n",
      "1708978     74302\n",
      "1742444     67191\n",
      "Name: cik, dtype: int64\n"
     ]
    }
   ],
   "source": [
    "draw(df.cik, title='cik Number', ylabel='Number of Loans')"
   ]
  },
  {
   "cell_type": "markdown",
   "metadata": {},
   "source": [
    "# Accession Number"
   ]
  },
  {
   "cell_type": "code",
   "execution_count": 22,
   "metadata": {},
   "outputs": [
    {
     "data": {
      "image/png": "[encoded data removed]",
      "text/plain": [
       "<Figure size 432x288 with 1 Axes>"
      ]
     },
     "metadata": {},
     "output_type": "display_data"
    },
    {
     "name": "stdout",
     "output_type": "stream",
     "text": [
      "0000950131-17-000068    93151\n",
      "0000950131-17-000083    79235\n",
      "0000950131-18-000011    79166\n",
      "0000950131-18-000048    74302\n",
      "0000950123-18-006317    67191\n",
      "0000950131-17-000040    66797\n",
      "0000929638-18-000030    55710\n",
      "0000929638-18-000431    53447\n",
      "0000929638-18-000483    53443\n",
      "0000929638-18-000552    53442\n",
      "0000929638-18-000589    53440\n",
      "0000929638-18-000653    53437\n",
      "0000929638-18-000727    53436\n",
      "0000929638-18-000790    53398\n",
      "0000950131-18-000049    33715\n",
      "0000950131-17-000070    20737\n",
      "0000950131-17-000092    20737\n",
      "0000950131-17-000133    20737\n",
      "0000950131-17-000015    14479\n",
      "Name: accessionnumber, dtype: int64\n"
     ]
    }
   ],
   "source": [
    "draw(df.accessionnumber, title='Accession Number', ylabel='Number of Loans')"
   ]
  },
  {
   "cell_type": "markdown",
   "metadata": {},
   "source": [
    "# Asset Type Number"
   ]
  },
  {
   "cell_type": "code",
   "execution_count": 24,
   "metadata": {},
   "outputs": [
    {
     "data": {
      "image/png": "[encoded data removed]",
      "text/plain": [
       "<Figure size 432x288 with 1 Axes>"
      ]
     },
     "metadata": {},
     "output_type": "display_data"
    },
    {
     "name": "stdout",
     "output_type": "stream",
     "text": [
      "BMW2018-A          429753\n",
      "SC                 213154\n",
      "RANDOMID            93151\n",
      "AHFC                79235\n",
      "Loan Number         76690\n",
      "DRIVE0201700001     74302\n",
      "SDART0201700001     33715\n",
      "Name: assettypenumber, dtype: int64\n"
     ]
    }
   ],
   "source": [
    "draw(df.assettypenumber, title='Asset Type Number', ylabel='Number of Loans')"
   ]
  },
  {
   "cell_type": "markdown",
   "metadata": {},
   "source": [
    "# Reporting Period Beginning Date"
   ]
  },
  {
   "cell_type": "code",
   "execution_count": 25,
   "metadata": {},
   "outputs": [
    {
     "data": {
      "image/png": "[encoded data removed]",
      "text/plain": [
       "<Figure size 432x288 with 1 Axes>"
      ]
     },
     "metadata": {},
     "output_type": "display_data"
    },
    {
     "name": "stdout",
     "output_type": "stream",
     "text": [
      "2017-12-01    187183\n",
      "2017-01-01    180685\n",
      "2018-05-01    120631\n",
      "2017-02-01     99972\n",
      "2017-11-01     55710\n",
      "2018-02-01     53447\n",
      "2018-03-01     53443\n",
      "2018-04-01     53442\n",
      "2018-06-01     53437\n",
      "2018-07-01     53436\n",
      "2018-08-01     53398\n",
      "2017-03-01     20737\n",
      "2016-12-01     14479\n",
      "Name: reportingperiodbeginningdate, dtype: int64\n"
     ]
    }
   ],
   "source": [
    "draw(df.reportingperiodbeginningdate, title='accessionnumber', ylabel='Number of Loans')"
   ]
  },
  {
   "cell_type": "markdown",
   "metadata": {},
   "source": [
    "# Originators Name"
   ]
  },
  {
   "cell_type": "code",
   "execution_count": 26,
   "metadata": {},
   "outputs": [
    {
     "data": {
      "image/png": "[encoded data removed]",
      "text/plain": [
       "<Figure size 432x288 with 1 Axes>"
      ]
     },
     "metadata": {},
     "output_type": "display_data"
    },
    {
     "name": "stdout",
     "output_type": "stream",
     "text": [
      "BMW Bank of North America        429348\n",
      "SC                               321171\n",
      "TMCC                              93151\n",
      "AHFC                              79235\n",
      "Mechanics Bank                    76690\n",
      "BMW Financial Services NA LLC       405\n",
      "Name: originatorname, dtype: int64\n"
     ]
    }
   ],
   "source": [
    "draw(df.originatorname, title='Originators Name', ylabel='Number of Loans')"
   ]
  },
  {
   "cell_type": "markdown",
   "metadata": {},
   "source": [
    "# Original Loan Amount"
   ]
  },
  {
   "cell_type": "code",
   "execution_count": 27,
   "metadata": {},
   "outputs": [
    {
     "data": {
      "image/png": "[encoded data removed]",
      "text/plain": [
       "<Figure size 432x288 with 1 Axes>"
      ]
     },
     "metadata": {},
     "output_type": "display_data"
    },
    {
     "name": "stdout",
     "output_type": "stream",
     "text": [
      "True     947379\n",
      "False     52621\n",
      "Name: originalloanamount, dtype: int64\n"
     ]
    }
   ],
   "source": [
    "draw(df.originalloanamount>10000, title='Original Loan Amount', ylabel='Number of Loans')"
   ]
  },
  {
   "cell_type": "code",
   "execution_count": 28,
   "metadata": {},
   "outputs": [
    {
     "data": {
      "image/png": "[encoded data removed]",
      "text/plain": [
       "<Figure size 432x288 with 1 Axes>"
      ]
     },
     "metadata": {},
     "output_type": "display_data"
    }
   ],
   "source": [
    "bins = np.linspace(0, 100000, 1000)\n",
    "plt.hist(df.originalloanamount, bins, alpha=0.6, density=True, label='Original Loan Amount')\n",
    "plt.legend(loc='upper right')\n",
    "plt.title(\"Original Amount Loaned\")\n",
    "plt.xlabel('Original Loan amount')\n",
    "plt.ylabel('Percent of Loans')\n",
    "plt.show()"
   ]
  },
  {
   "cell_type": "code",
   "execution_count": 29,
   "metadata": {},
   "outputs": [
    {
     "data": {
      "text/plain": [
       "count    1000000.000000\n",
       "mean       26798.861306\n",
       "std        14203.851901\n",
       "min         1624.630000\n",
       "25%        16930.812500\n",
       "50%        24021.030000\n",
       "75%        33227.800000\n",
       "max       189984.120000\n",
       "Name: originalloanamount, dtype: float64"
      ]
     },
     "execution_count": 29,
     "metadata": {},
     "output_type": "execute_result"
    }
   ],
   "source": [
    "df.originalloanamount.describe()"
   ]
  },
  {
   "cell_type": "markdown",
   "metadata": {},
   "source": [
    "# Orignial Loan Term"
   ]
  },
  {
   "cell_type": "code",
   "execution_count": 30,
   "metadata": {},
   "outputs": [
    {
     "data": {
      "image/png": "[encoded data removed]",
      "text/plain": [
       "<Figure size 432x288 with 1 Axes>"
      ]
     },
     "metadata": {},
     "output_type": "display_data"
    },
    {
     "name": "stdout",
     "output_type": "stream",
     "text": [
      "True     916351\n",
      "False     83649\n",
      "Name: originalloanterm, dtype: int64\n"
     ]
    }
   ],
   "source": [
    "draw(df.originalloanterm>48, title='Original Loan Terms', ylabel='Number of Loans')"
   ]
  },
  {
   "cell_type": "code",
   "execution_count": 31,
   "metadata": {},
   "outputs": [
    {
     "data": {
      "image/png": "[encoded data removed]",
      "text/plain": [
       "<Figure size 432x288 with 1 Axes>"
      ]
     },
     "metadata": {},
     "output_type": "display_data"
    }
   ],
   "source": [
    "bins = np.linspace(0, 84, 12)\n",
    "plt.hist(df.originalloanterm, bins, alpha=0.6, density=True, label='Original Loan Term')\n",
    "plt.legend(loc='upper right')\n",
    "plt.title(\"Original Loan Term\")\n",
    "plt.xlabel('Number of Months')\n",
    "plt.ylabel('Percent of Loans')\n",
    "plt.show()"
   ]
  },
  {
   "cell_type": "code",
   "execution_count": null,
   "metadata": {},
   "outputs": [],
   "source": [
    "df.originalloanterm.describe()"
   ]
  },
  {
   "cell_type": "markdown",
   "metadata": {},
   "source": [
    "# Loan Maturity Date"
   ]
  },
  {
   "cell_type": "code",
   "execution_count": 32,
   "metadata": {},
   "outputs": [
    {
     "data": {
      "image/png": "[encoded data removed]",
      "text/plain": [
       "<Figure size 432x288 with 1 Axes>"
      ]
     },
     "metadata": {},
     "output_type": "display_data"
    },
    {
     "name": "stdout",
     "output_type": "stream",
     "text": [
      "2022-10-31    37521\n",
      "2022-12-31    32529\n",
      "2023-01-31    32440\n",
      "2022-11-30    30297\n",
      "2023-05-31    28633\n",
      "2021-09-30    27933\n",
      "2021-10-31    27237\n",
      "2022-09-30    26194\n",
      "2023-04-30    25599\n",
      "2022-05-31    24103\n",
      "2021-08-31    24049\n",
      "2023-03-31    23597\n",
      "2022-08-31    23162\n",
      "2022-06-30    21423\n",
      "2021-11-30    20601\n",
      "2022-07-31    20436\n",
      "2022-04-30    19969\n",
      "2021-06-30    19871\n",
      "2024-05-31    19632\n",
      "2021-07-31    19372\n",
      "2023-10-31    18777\n",
      "2022-01-31    18530\n",
      "2021-12-31    18342\n",
      "2023-02-28    17372\n",
      "2022-03-31    16561\n",
      "2021-05-31    15785\n",
      "2023-11-30    15666\n",
      "2022-02-28    14980\n",
      "2023-12-31    14734\n",
      "2023-06-30    13638\n",
      "              ...  \n",
      "2019-01-31     4989\n",
      "2018-09-30     4961\n",
      "2018-12-31     4604\n",
      "2018-11-30     4529\n",
      "2019-02-28     4316\n",
      "2018-10-31     4102\n",
      "2018-04-30     3975\n",
      "2024-08-31     2758\n",
      "2018-03-31     2636\n",
      "2024-02-29     2591\n",
      "2024-07-31     2257\n",
      "2024-01-31     2246\n",
      "2017-09-30     1558\n",
      "2017-12-31     1474\n",
      "2018-01-31     1456\n",
      "2017-11-30     1262\n",
      "2017-10-31     1218\n",
      "2018-02-28     1138\n",
      "2017-06-30      865\n",
      "2017-08-31      864\n",
      "2017-07-31      857\n",
      "2017-05-31      789\n",
      "2024-09-30      564\n",
      "2017-04-30       33\n",
      "2027-01-31        1\n",
      "2032-04-30        1\n",
      "2026-04-30        1\n",
      "2034-07-31        1\n",
      "2029-09-30        1\n",
      "2030-09-30        1\n",
      "Name: loanmaturitydate, Length: 96, dtype: int64\n"
     ]
    }
   ],
   "source": [
    "draw(df.loanmaturitydate, title='Loan Maturity date', ylabel='Number of Loans')"
   ]
  },
  {
   "cell_type": "markdown",
   "metadata": {},
   "source": [
    "# Original interest rate percentage below 2%"
   ]
  },
  {
   "cell_type": "code",
   "execution_count": 33,
   "metadata": {},
   "outputs": [
    {
     "data": {
      "image/png": "[encoded data removed]",
      "text/plain": [
       "<Figure size 432x288 with 1 Axes>"
      ]
     },
     "metadata": {},
     "output_type": "display_data"
    },
    {
     "name": "stdout",
     "output_type": "stream",
     "text": [
      "True     727774\n",
      "False    272226\n",
      "Name: originalinterestratepercentage, dtype: int64\n"
     ]
    }
   ],
   "source": [
    "draw(df.originalinterestratepercentage<2.0, title='Original Interest Rate Percentage', ylabel='Number of Loans')"
   ]
  },
  {
   "cell_type": "code",
   "execution_count": 41,
   "metadata": {},
   "outputs": [
    {
     "data": {
      "text/plain": [
       "count    1000000.00000\n",
       "mean           1.68655\n",
       "std            2.45960\n",
       "min            0.00000\n",
       "25%            0.13900\n",
       "50%            0.90000\n",
       "75%            2.90000\n",
       "max           22.99000\n",
       "Name: originalinterestratepercentage, dtype: float64"
      ]
     },
     "execution_count": 41,
     "metadata": {},
     "output_type": "execute_result"
    }
   ],
   "source": [
    "df.originalinterestratepercentage.describe()"
   ]
  },
  {
   "cell_type": "markdown",
   "metadata": {},
   "source": [
    "# No interest rate loans"
   ]
  },
  {
   "cell_type": "code",
   "execution_count": 44,
   "metadata": {},
   "outputs": [
    {
     "name": "stdout",
     "output_type": "stream",
     "text": [
      "No interest rate for 35504 loans\n"
     ]
    }
   ],
   "source": [
    "y=pd.value_counts(df.originalinterestratepercentage==0)\n",
    "print('No interest rate for',y[1],'loans')"
   ]
  },
  {
   "cell_type": "markdown",
   "metadata": {},
   "source": [
    "# Underwriting Indicator"
   ]
  },
  {
   "cell_type": "code",
   "execution_count": 34,
   "metadata": {},
   "outputs": [
    {
     "data": {
      "image/png": "[encoded data removed]",
      "text/plain": [
       "<Figure size 432x288 with 1 Axes>"
      ]
     },
     "metadata": {},
     "output_type": "display_data"
    },
    {
     "name": "stdout",
     "output_type": "stream",
     "text": [
      "True     807471\n",
      "False    192529\n",
      "Name: underwritingindicator, dtype: int64\n"
     ]
    }
   ],
   "source": [
    "draw(df.underwritingindicator, title='Underwriting Indicator', ylabel='Number of Loans')"
   ]
  },
  {
   "cell_type": "markdown",
   "metadata": {},
   "source": [
    "# Create Feature Column for Underwriting TRUE"
   ]
  },
  {
   "cell_type": "code",
   "execution_count": 51,
   "metadata": {},
   "outputs": [],
   "source": [
    "def map_underwriting_true(*args):\n",
    "    columns = [col for col in args]\n",
    "    for column in columns:\n",
    "        if column == True:\n",
    "            return 1\n",
    "        elif column == False:\n",
    "            return 0\n",
    "        \n",
    "df['underwriting_true'] = list(map(map_underwriting_true, df.underwritingindicator))\n",
    "df.drop(['underwritingindicator'], axis=1, inplace=True)\n",
    "pd.value_counts(df.underwriting_true)"
   ]
  },
  {
   "cell_type": "markdown",
   "metadata": {},
   "source": [
    "# Subvented"
   ]
  },
  {
   "cell_type": "code",
   "execution_count": 35,
   "metadata": {},
   "outputs": [
    {
     "data": {
      "image/png": "[encoded data removed]",
      "text/plain": [
       "<Figure size 432x288 with 1 Axes>"
      ]
     },
     "metadata": {},
     "output_type": "display_data"
    },
    {
     "name": "stdout",
     "output_type": "stream",
     "text": [
      "[\"0\"]          496121\n",
      "[\"1\"]          371715\n",
      "[\"98\"]          79424\n",
      "[\"2\"]           39308\n",
      "[\"1\",\"2\"]       12818\n",
      "[\"1\",\" 2\"]        590\n",
      "[\"1\",\"98\"]         14\n",
      "[\"1\",\" 98\"]        10\n",
      "Name: subvented, dtype: int64\n"
     ]
    }
   ],
   "source": [
    "draw(df.subvented, title='Subvented', ylabel='Number of Loans')"
   ]
  },
  {
   "cell_type": "code",
   "execution_count": 55,
   "metadata": {},
   "outputs": [
    {
     "data": {
      "text/plain": [
       "count     1000000\n",
       "unique          8\n",
       "top         [\"0\"]\n",
       "freq       496121\n",
       "Name: subvented, dtype: object"
      ]
     },
     "execution_count": 55,
     "metadata": {},
     "output_type": "execute_result"
    }
   ],
   "source": [
    "df.subvented.describe(include='all')"
   ]
  },
  {
   "cell_type": "markdown",
   "metadata": {},
   "source": [
    "# Create Feature Column for Subvented"
   ]
  },
  {
   "cell_type": "code",
   "execution_count": 59,
   "metadata": {},
   "outputs": [
    {
     "data": {
      "text/plain": [
       "1    503879\n",
       "0    496121\n",
       "Name: subvented_true, dtype: int64"
      ]
     },
     "execution_count": 59,
     "metadata": {},
     "output_type": "execute_result"
    }
   ],
   "source": [
    "def map_subvented_true(*args):\n",
    "    columns = [col for col in args]\n",
    "    for column in columns:\n",
    "        if column == '[\"0\"]':\n",
    "            return 0\n",
    "        else:\n",
    "            return 1\n",
    "        \n",
    "df['subvented_true'] = list(map(map_subvented_true, df.subvented))\n",
    "df.drop(['subvented'], axis=1, inplace=True)\n",
    "pd.value_counts(df.subvented_true)"
   ]
  },
  {
   "cell_type": "markdown",
   "metadata": {},
   "source": [
    "# Vehicle New or Used code"
   ]
  },
  {
   "cell_type": "code",
   "execution_count": 36,
   "metadata": {},
   "outputs": [
    {
     "data": {
      "image/png": "[encoded data removed]",
      "text/plain": [
       "<Figure size 432x288 with 1 Axes>"
      ]
     },
     "metadata": {},
     "output_type": "display_data"
    },
    {
     "name": "stdout",
     "output_type": "stream",
     "text": [
      "2    501388\n",
      "1    498612\n",
      "Name: vehiclenewusedcode, dtype: int64\n"
     ]
    }
   ],
   "source": [
    "draw(df.vehiclenewusedcode, title='Vehicle New or Used code', ylabel='Number of Loans')"
   ]
  },
  {
   "cell_type": "markdown",
   "metadata": {},
   "source": [
    "# Create Feature Column for New or Used"
   ]
  },
  {
   "cell_type": "code",
   "execution_count": 61,
   "metadata": {},
   "outputs": [
    {
     "data": {
      "text/plain": [
       "0    501388\n",
       "1    498612\n",
       "Name: vehiclenew_true, dtype: int64"
      ]
     },
     "execution_count": 61,
     "metadata": {},
     "output_type": "execute_result"
    }
   ],
   "source": [
    "def map_vehiclenewusedcode_true(*args):\n",
    "    columns = [col for col in args]\n",
    "    for column in columns:\n",
    "        if column == 1:\n",
    "            return 1\n",
    "        else:\n",
    "            return 0\n",
    "        \n",
    "df['vehiclenew_true'] = list(map(map_vehiclenewusedcode_true, df.vehiclenewusedcode))\n",
    "df.drop(['vehiclenewusedcode'], axis=1, inplace=True)\n",
    "pd.value_counts(df.vehiclenew_true)"
   ]
  },
  {
   "cell_type": "markdown",
   "metadata": {},
   "source": [
    "# Vehicle Type code"
   ]
  },
  {
   "cell_type": "code",
   "execution_count": 37,
   "metadata": {},
   "outputs": [
    {
     "data": {
      "image/png": "[encoded data removed]",
      "text/plain": [
       "<Figure size 432x288 with 1 Axes>"
      ]
     },
     "metadata": {},
     "output_type": "display_data"
    },
    {
     "name": "stdout",
     "output_type": "stream",
     "text": [
      "1     589775\n",
      "3     311098\n",
      "2      66274\n",
      "4      31469\n",
      "99      1384\n",
      "Name: vehicletypecode, dtype: int64\n"
     ]
    }
   ],
   "source": [
    "draw(df.vehicletypecode, title='Vehicle New or Used code', ylabel='Number of Loans')"
   ]
  },
  {
   "cell_type": "code",
   "execution_count": 62,
   "metadata": {},
   "outputs": [
    {
     "data": {
      "text/plain": [
       "count    1000000.000000\n",
       "mean           1.918509\n",
       "std            3.747289\n",
       "min            1.000000\n",
       "25%            1.000000\n",
       "50%            1.000000\n",
       "75%            3.000000\n",
       "max           99.000000\n",
       "Name: vehicletypecode, dtype: float64"
      ]
     },
     "execution_count": 62,
     "metadata": {},
     "output_type": "execute_result"
    }
   ],
   "source": [
    "df.vehicletypecode.describe()"
   ]
  },
  {
   "cell_type": "code",
   "execution_count": null,
   "metadata": {
    "collapsed": true
   },
   "outputs": [],
   "source": [
    "#"
   ]
  },
  {
   "cell_type": "markdown",
   "metadata": {},
   "source": [
    "# Obligor Credit Score Type"
   ]
  },
  {
   "cell_type": "code",
   "execution_count": 38,
   "metadata": {},
   "outputs": [
    {
     "data": {
      "image/png": "[encoded data removed]",
      "text/plain": [
       "<Figure size 432x288 with 1 Axes>"
      ]
     },
     "metadata": {},
     "output_type": "display_data"
    },
    {
     "name": "stdout",
     "output_type": "stream",
     "text": [
      "FICO                 506443\n",
      "Bureau               321171\n",
      "Credit Bureau         79235\n",
      "FICO Score 2 Auto     71401\n",
      "FICO Score 8 Auto     21750\n",
      "Name: obligorcreditscoretype, dtype: int64\n"
     ]
    }
   ],
   "source": [
    "draw(df.obligorcreditscoretype, title='Obligor Credit Score Type', ylabel='Number of Loans')"
   ]
  },
  {
   "cell_type": "code",
   "execution_count": 63,
   "metadata": {},
   "outputs": [
    {
     "data": {
      "text/plain": [
       "count     1000000\n",
       "unique          5\n",
       "top          FICO\n",
       "freq       506443\n",
       "Name: obligorcreditscoretype, dtype: object"
      ]
     },
     "execution_count": 63,
     "metadata": {},
     "output_type": "execute_result"
    }
   ],
   "source": [
    "df.obligorcreditscoretype.describe()"
   ]
  },
  {
   "cell_type": "code",
   "execution_count": 64,
   "metadata": {},
   "outputs": [
    {
     "data": {
      "text/plain": [
       "False    1000000\n",
       "Name: obligorcreditscoretype, dtype: int64"
      ]
     },
     "execution_count": 64,
     "metadata": {},
     "output_type": "execute_result"
    }
   ],
   "source": [
    "pd.value_counts(df.obligorcreditscoretype==0)"
   ]
  },
  {
   "cell_type": "markdown",
   "metadata": {},
   "source": [
    "# Obligor Credit Score"
   ]
  },
  {
   "cell_type": "code",
   "execution_count": 39,
   "metadata": {},
   "outputs": [
    {
     "data": {
      "image/png": "[encoded data removed]",
      "text/plain": [
       "<Figure size 432x288 with 1 Axes>"
      ]
     },
     "metadata": {},
     "output_type": "display_data"
    },
    {
     "name": "stdout",
     "output_type": "stream",
     "text": [
      "825.0    4386\n",
      "677.0    4278\n",
      "818.0    4199\n",
      "831.0    4197\n",
      "827.0    4197\n",
      "817.0    4186\n",
      "826.0    4161\n",
      "824.0    4160\n",
      "816.0    4107\n",
      "830.0    4059\n",
      "834.0    4037\n",
      "828.0    4022\n",
      "833.0    4002\n",
      "805.0    3961\n",
      "822.0    3946\n",
      "815.0    3930\n",
      "836.0    3867\n",
      "820.0    3835\n",
      "814.0    3830\n",
      "812.0    3827\n",
      "853.0    3801\n",
      "821.0    3800\n",
      "842.0    3792\n",
      "832.0    3771\n",
      "705.0    3769\n",
      "837.0    3754\n",
      "747.0    3749\n",
      "738.0    3740\n",
      "810.0    3740\n",
      "823.0    3737\n",
      "         ... \n",
      "399.0      10\n",
      "397.0       7\n",
      "402.0       7\n",
      "389.0       7\n",
      "398.0       7\n",
      "395.0       7\n",
      "393.0       6\n",
      "385.0       5\n",
      "384.0       5\n",
      "391.0       4\n",
      "387.0       4\n",
      "396.0       3\n",
      "374.0       3\n",
      "380.0       3\n",
      "378.0       3\n",
      "383.0       3\n",
      "375.0       2\n",
      "373.0       2\n",
      "370.0       2\n",
      "381.0       1\n",
      "390.0       1\n",
      "377.0       1\n",
      "386.0       1\n",
      "372.0       1\n",
      "371.0       1\n",
      "388.0       1\n",
      "366.0       1\n",
      "363.0       1\n",
      "359.0       1\n",
      "382.0       1\n",
      "Name: obligorcreditscore, Length: 533, dtype: int64\n"
     ]
    }
   ],
   "source": [
    "draw(df.obligorcreditscore, title='Obligor Credit Score', ylabel='Number of Loans')"
   ]
  },
  {
   "cell_type": "code",
   "execution_count": 40,
   "metadata": {},
   "outputs": [
    {
     "data": {
      "text/plain": [
       "count    956434.000000\n",
       "mean        717.122269\n",
       "std         106.919954\n",
       "min           0.000000\n",
       "25%         639.000000\n",
       "50%         730.000000\n",
       "75%         806.000000\n",
       "max         900.000000\n",
       "Name: obligorcreditscore, dtype: float64"
      ]
     },
     "execution_count": 40,
     "metadata": {},
     "output_type": "execute_result"
    }
   ],
   "source": [
    "df.obligorcreditscore.describe()"
   ]
  },
  {
   "cell_type": "markdown",
   "metadata": {},
   "source": [
    "# zero credit score loans"
   ]
  },
  {
   "cell_type": "code",
   "execution_count": null,
   "metadata": {},
   "outputs": [],
   "source": [
    "y=pd.value_counts(df.obligorcreditscore==0)\n",
    "print('No Credit score for',y[1],'loans')"
   ]
  },
  {
   "cell_type": "markdown",
   "metadata": {},
   "source": [
    "# Unfilled Credit Score"
   ]
  },
  {
   "cell_type": "code",
   "execution_count": null,
   "metadata": {},
   "outputs": [],
   "source": [
    "df.obligorcreditscore.fillna(0, inplace=True)\n",
    "y=pd.value_counts(df.obligorcreditscore==0)\n",
    "print('No Credit score for',y[1],'loans')"
   ]
  },
  {
   "cell_type": "markdown",
   "metadata": {},
   "source": [
    "# Remove rows with no credit score"
   ]
  },
  {
   "cell_type": "code",
   "execution_count": 66,
   "metadata": {
    "collapsed": true
   },
   "outputs": [],
   "source": [
    "df.obligorcreditscore.replace(0, np.nan, inplace=True)\n",
    "df.obligorcreditscore.dropna(axis=0,inplace=True)"
   ]
  },
  {
   "cell_type": "code",
   "execution_count": 67,
   "metadata": {},
   "outputs": [
    {
     "data": {
      "text/plain": [
       "(1000000, 74)"
      ]
     },
     "execution_count": 67,
     "metadata": {},
     "output_type": "execute_result"
    }
   ],
   "source": [
    "df.shape"
   ]
  },
  {
   "cell_type": "markdown",
   "metadata": {},
   "source": [
    "# Obligor Income Verification Level Code"
   ]
  },
  {
   "cell_type": "code",
   "execution_count": 68,
   "metadata": {},
   "outputs": [
    {
     "data": {
      "image/png": "[encoded data removed]",
      "text/plain": [
       "<Figure size 432x288 with 1 Axes>"
      ]
     },
     "metadata": {},
     "output_type": "display_data"
    },
    {
     "name": "stdout",
     "output_type": "stream",
     "text": [
      "2    948466\n",
      "3     51397\n",
      "4       116\n",
      "5        21\n",
      "Name: obligorincomeverificationlevelcode, dtype: int64\n"
     ]
    }
   ],
   "source": [
    "draw(df.obligorincomeverificationlevelcode, title='Obligor Credit Score', ylabel='Number of Loans')"
   ]
  },
  {
   "cell_type": "code",
   "execution_count": 69,
   "metadata": {},
   "outputs": [
    {
     "data": {
      "text/plain": [
       "count    1000000.000000\n",
       "mean           2.051692\n",
       "std            0.222212\n",
       "min            2.000000\n",
       "25%            2.000000\n",
       "50%            2.000000\n",
       "75%            2.000000\n",
       "max            5.000000\n",
       "Name: obligorincomeverificationlevelcode, dtype: float64"
      ]
     },
     "execution_count": 69,
     "metadata": {},
     "output_type": "execute_result"
    }
   ],
   "source": [
    "df.obligorincomeverificationlevelcode.describe()"
   ]
  },
  {
   "cell_type": "code",
   "execution_count": 70,
   "metadata": {},
   "outputs": [
    {
     "data": {
      "text/plain": [
       "False    1000000\n",
       "Name: obligorincomeverificationlevelcode, dtype: int64"
      ]
     },
     "execution_count": 70,
     "metadata": {},
     "output_type": "execute_result"
    }
   ],
   "source": [
    "pd.value_counts(df.obligorincomeverificationlevelcode==0)"
   ]
  },
  {
   "cell_type": "markdown",
   "metadata": {},
   "source": [
    "# Create Feature Columns for Obligor Income Verification Code 2,3,4 and 5"
   ]
  },
  {
   "cell_type": "code",
   "execution_count": 73,
   "metadata": {},
   "outputs": [
    {
     "data": {
      "text/plain": [
       "1    948466\n",
       "0     51534\n",
       "Name: income_2, dtype: int64"
      ]
     },
     "execution_count": 73,
     "metadata": {},
     "output_type": "execute_result"
    }
   ],
   "source": [
    "def map_obligorincomeverificationlevelcode(*args):\n",
    "    columns = [col for col in args]\n",
    "    for column in columns:\n",
    "        if column == code:\n",
    "            return 1\n",
    "        else:\n",
    "            return 0\n",
    "codes = pd.value_counts(df.obligorincomeverificationlevelcode).index.tolist()\n",
    "\n",
    "for code in codes:\n",
    "        df['income_{}'.format(code)] = list(map(map_obligorincomeverificationlevelcode, df.obligorincomeverificationlevelcode))\n"
   ]
  },
  {
   "cell_type": "code",
   "execution_count": 77,
   "metadata": {},
   "outputs": [
    {
     "data": {
      "text/plain": [
       "1    948466\n",
       "0     51534\n",
       "Name: income_2, dtype: int64"
      ]
     },
     "execution_count": 77,
     "metadata": {},
     "output_type": "execute_result"
    }
   ],
   "source": [
    "pd.value_counts(df.income_2)"
   ]
  },
  {
   "cell_type": "code",
   "execution_count": 74,
   "metadata": {},
   "outputs": [
    {
     "data": {
      "text/plain": [
       "0    948603\n",
       "1     51397\n",
       "Name: income_3, dtype: int64"
      ]
     },
     "execution_count": 74,
     "metadata": {},
     "output_type": "execute_result"
    }
   ],
   "source": [
    "pd.value_counts(df.income_3)"
   ]
  },
  {
   "cell_type": "code",
   "execution_count": 75,
   "metadata": {},
   "outputs": [
    {
     "data": {
      "text/plain": [
       "0    999884\n",
       "1       116\n",
       "Name: income_4, dtype: int64"
      ]
     },
     "execution_count": 75,
     "metadata": {},
     "output_type": "execute_result"
    }
   ],
   "source": [
    "pd.value_counts(df.income_4)"
   ]
  },
  {
   "cell_type": "code",
   "execution_count": 76,
   "metadata": {},
   "outputs": [
    {
     "data": {
      "text/plain": [
       "0    999979\n",
       "1        21\n",
       "Name: income_5, dtype: int64"
      ]
     },
     "execution_count": 76,
     "metadata": {},
     "output_type": "execute_result"
    }
   ],
   "source": [
    "pd.value_counts(df.income_5)"
   ]
  },
  {
   "cell_type": "code",
   "execution_count": 78,
   "metadata": {
    "collapsed": true
   },
   "outputs": [],
   "source": [
    "df.drop(['obligorincomeverificationlevelcode'], axis=1, inplace=True)"
   ]
  },
  {
   "cell_type": "markdown",
   "metadata": {},
   "source": [
    "# Obligor Employment Verification Code"
   ]
  },
  {
   "cell_type": "code",
   "execution_count": 81,
   "metadata": {},
   "outputs": [
    {
     "data": {
      "image/png": "[encoded data removed]",
      "text/plain": [
       "<Figure size 432x288 with 1 Axes>"
      ]
     },
     "metadata": {},
     "output_type": "display_data"
    },
    {
     "name": "stdout",
     "output_type": "stream",
     "text": [
      "2    929732\n",
      "3     49247\n",
      "1     21021\n",
      "Name: obligoremploymentverificationcode, dtype: int64\n"
     ]
    }
   ],
   "source": [
    "draw(df.obligoremploymentverificationcode, title='Obligor Employment Verification Code', ylabel='Number of Loans')"
   ]
  },
  {
   "cell_type": "code",
   "execution_count": 82,
   "metadata": {},
   "outputs": [
    {
     "data": {
      "text/plain": [
       "False    1000000\n",
       "Name: obligoremploymentverificationcode, dtype: int64"
      ]
     },
     "execution_count": 82,
     "metadata": {},
     "output_type": "execute_result"
    }
   ],
   "source": [
    "pd.value_counts(df.obligoremploymentverificationcode==0)"
   ]
  },
  {
   "cell_type": "code",
   "execution_count": 83,
   "metadata": {},
   "outputs": [
    {
     "data": {
      "text/plain": [
       "count    1000000.000000\n",
       "mean           2.028226\n",
       "std            0.263574\n",
       "min            1.000000\n",
       "25%            2.000000\n",
       "50%            2.000000\n",
       "75%            2.000000\n",
       "max            3.000000\n",
       "Name: obligoremploymentverificationcode, dtype: float64"
      ]
     },
     "execution_count": 83,
     "metadata": {},
     "output_type": "execute_result"
    }
   ],
   "source": [
    "df.obligoremploymentverificationcode.describe()"
   ]
  },
  {
   "cell_type": "markdown",
   "metadata": {},
   "source": [
    "# Create feature Columns for obligor employment verification code 1,2 and 3"
   ]
  },
  {
   "cell_type": "code",
   "execution_count": 84,
   "metadata": {
    "collapsed": true
   },
   "outputs": [],
   "source": [
    "def map_obligoremploymentverificationcode(*args):\n",
    "    columns = [col for col in args]\n",
    "    for column in columns:\n",
    "        if column == code:\n",
    "            return 1\n",
    "        else:\n",
    "            return 0\n",
    "codes = pd.value_counts(df.obligoremploymentverificationcode).index.tolist()\n",
    "\n",
    "for code in codes:\n",
    "        df['employment_{}'.format(code)] = list(map(map_obligoremploymentverificationcode, df.obligoremploymentverificationcode))\n"
   ]
  },
  {
   "cell_type": "code",
   "execution_count": 85,
   "metadata": {},
   "outputs": [
    {
     "data": {
      "text/plain": [
       "0    978979\n",
       "1     21021\n",
       "Name: employment_1, dtype: int64"
      ]
     },
     "execution_count": 85,
     "metadata": {},
     "output_type": "execute_result"
    }
   ],
   "source": [
    "pd.value_counts(df.employment_1)"
   ]
  },
  {
   "cell_type": "code",
   "execution_count": 86,
   "metadata": {},
   "outputs": [
    {
     "data": {
      "text/plain": [
       "1    929732\n",
       "0     70268\n",
       "Name: employment_2, dtype: int64"
      ]
     },
     "execution_count": 86,
     "metadata": {},
     "output_type": "execute_result"
    }
   ],
   "source": [
    "pd.value_counts(df.employment_2)"
   ]
  },
  {
   "cell_type": "code",
   "execution_count": 87,
   "metadata": {},
   "outputs": [
    {
     "data": {
      "text/plain": [
       "0    950753\n",
       "1     49247\n",
       "Name: employment_3, dtype: int64"
      ]
     },
     "execution_count": 87,
     "metadata": {},
     "output_type": "execute_result"
    }
   ],
   "source": [
    "pd.value_counts(df.employment_3)"
   ]
  },
  {
   "cell_type": "code",
   "execution_count": 88,
   "metadata": {
    "collapsed": true
   },
   "outputs": [],
   "source": [
    "df.drop(['obligoremploymentverificationcode'], axis=1, inplace=True)"
   ]
  },
  {
   "cell_type": "markdown",
   "metadata": {},
   "source": [
    "# Obligor Employment Verification Code"
   ]
  },
  {
   "cell_type": "code",
   "execution_count": null,
   "metadata": {},
   "outputs": [],
   "source": [
    "pd.value_counts(df.obligoremploymentverificationcode)"
   ]
  },
  {
   "cell_type": "code",
   "execution_count": null,
   "metadata": {},
   "outputs": [],
   "source": [
    "pd.value_counts(df.reportingperiodactualendbalanceamount)"
   ]
  },
  {
   "cell_type": "code",
   "execution_count": null,
   "metadata": {},
   "outputs": [],
   "source": [
    "pd.value_counts(df.totalactualamountpaid)"
   ]
  },
  {
   "cell_type": "code",
   "execution_count": null,
   "metadata": {},
   "outputs": [],
   "source": [
    "pd.value_counts(df.actualinterestcollectedamount)"
   ]
  },
  {
   "cell_type": "code",
   "execution_count": null,
   "metadata": {},
   "outputs": [],
   "source": [
    "pd.value_counts(df.actualprincipalcollectedamount)"
   ]
  },
  {
   "cell_type": "code",
   "execution_count": null,
   "metadata": {},
   "outputs": [],
   "source": [
    "pd.value_counts(df.interestpaidthroughdate)"
   ]
  },
  {
   "cell_type": "code",
   "execution_count": null,
   "metadata": {},
   "outputs": [],
   "source": [
    "pd.value_counts(df.currentdelinquencystatus)"
   ]
  },
  {
   "cell_type": "code",
   "execution_count": null,
   "metadata": {},
   "outputs": [],
   "source": [
    "pd.value_counts(df.chargedoffprincipalamount)"
   ]
  },
  {
   "cell_type": "code",
   "execution_count": null,
   "metadata": {},
   "outputs": [],
   "source": [
    "pd.value_counts(df.recoveredamount)"
   ]
  },
  {
   "cell_type": "code",
   "execution_count": null,
   "metadata": {},
   "outputs": [],
   "source": [
    "pd.value_counts(df.repossessedindicator)"
   ]
  },
  {
   "cell_type": "code",
   "execution_count": null,
   "metadata": {},
   "outputs": [],
   "source": [
    "pd.value_counts(df.repossessedproceedsamount)"
   ]
  },
  {
   "cell_type": "markdown",
   "metadata": {},
   "source": [
    "# Clean data"
   ]
  },
  {
   "cell_type": "code",
   "execution_count": null,
   "metadata": {
    "collapsed": true
   },
   "outputs": [],
   "source": [
    "# change columns to lower case and remove prefix to enable pandas to work\n",
    "column_list=[x.lower() for x in (column_list)]\n",
    "df.columns=df.columns.str.replace('abs_loan.','')\n",
    "# convert objects to numeric\n",
    "#df=df.convert_objects(convert_numeric=True)"
   ]
  },
  {
   "cell_type": "markdown",
   "metadata": {},
   "source": [
    "# Check for null"
   ]
  },
  {
   "cell_type": "code",
   "execution_count": null,
   "metadata": {},
   "outputs": [],
   "source": [
    "df.isnull().values.any()"
   ]
  },
  {
   "cell_type": "markdown",
   "metadata": {},
   "source": [
    "# Loan Statistics"
   ]
  },
  {
   "cell_type": "code",
   "execution_count": null,
   "metadata": {},
   "outputs": [],
   "source": [
    "df.describe()"
   ]
  },
  {
   "cell_type": "markdown",
   "metadata": {},
   "source": [
    "# Current Vs Other Buckets"
   ]
  },
  {
   "cell_type": "code",
   "execution_count": null,
   "metadata": {},
   "outputs": [],
   "source": [
    "LABELS = ('Current', 'Not Current')\n",
    "count_classes = pd.value_counts(df.currentdelinquencystatus>0, sort = True)\n",
    "count_classes.plot(kind = 'bar', rot=0)\n",
    "plt.xticks(range(2), LABELS)\n",
    "plt.title('Deliquency Class')\n",
    "plt.ylabel(\"Number of Loans\")\n",
    "plt.show()\n",
    "print('Number of loans Current :', count_classes[0],'   ', 'Number of loans Not Current :', count_classes[1],)"
   ]
  },
  {
   "cell_type": "code",
   "execution_count": null,
   "metadata": {},
   "outputs": [],
   "source": [
    "pd.value_counts(df.currentdelinquencystatus)"
   ]
  },
  {
   "cell_type": "markdown",
   "metadata": {},
   "source": [
    "# Label Creation"
   ]
  },
  {
   "cell_type": "code",
   "execution_count": null,
   "metadata": {},
   "outputs": [],
   "source": [
    "def map_label(*args):\n",
    "    columns = [col for col in args]\n",
    "    for column in columns:\n",
    "        if column > default_months:\n",
    "            return 1\n",
    "        elif column <= default_months:\n",
    "            return 0\n",
    "        \n",
    "df['label'] = list(map(map_label, df.currentdelinquencystatus ))\n",
    "\n",
    "LABELS = ('Current', 'Default')\n",
    "count_classes = pd.value_counts(df.label, sort = True)\n",
    "count_classes.plot(kind = 'bar', rot=0)\n",
    "plt.xticks(range(2), LABELS)\n",
    "plt.title('Revised Deliquency Class')\n",
    "plt.ylabel(\"Number of Loans\")\n",
    "plt.show()\n",
    "print('Number of loans Current :', count_classes[0],'   ', 'Number of loans Defaulted :', count_classes[1],)"
   ]
  },
  {
   "cell_type": "markdown",
   "metadata": {},
   "source": [
    "# Loan Balance Amount at the End of Reporting Period"
   ]
  },
  {
   "cell_type": "code",
   "execution_count": null,
   "metadata": {},
   "outputs": [],
   "source": [
    "current_df = df[df.label==0]\n",
    "not_current_df = df[df.label==1]\n",
    "bins = np.linspace(0, 100000, 100)\n",
    "plt.hist(current_df.reportingperiodactualendbalanceamount, bins, alpha=0.6, density=True, label='CURRENT')\n",
    "plt.hist(not_current_df.reportingperiodactualendbalanceamount, bins, alpha=1, density=True, label='NOT CURRENT')\n",
    "plt.legend(loc='upper right')\n",
    "plt.title(\"Loan Balance Amount at the end of reporting Period\")\n",
    "plt.xlabel('Loan Balance Amount')\n",
    "plt.ylabel('Percent of Loans')\n",
    "plt.show()"
   ]
  },
  {
   "cell_type": "markdown",
   "metadata": {
    "collapsed": true
   },
   "source": [
    "#  Clean up for Machine Learning"
   ]
  },
  {
   "cell_type": "code",
   "execution_count": null,
   "metadata": {
    "collapsed": true
   },
   "outputs": [],
   "source": [
    "df.fillna(0, inplace=True)\n",
    "df=df.replace([np.inf, -np.inf], np.nan)\n",
    "df.dropna(inplace=True)\n",
    "df.head()"
   ]
  },
  {
   "cell_type": "markdown",
   "metadata": {},
   "source": [
    "# Preparing data for Machine Learning"
   ]
  },
  {
   "cell_type": "code",
   "execution_count": null,
   "metadata": {
    "collapsed": true
   },
   "outputs": [],
   "source": [
    "# prepare label\n",
    "Y=df.label.values\n",
    "Y.shape"
   ]
  },
  {
   "cell_type": "code",
   "execution_count": null,
   "metadata": {
    "collapsed": true
   },
   "outputs": [],
   "source": [
    "# reshape labels for machine learning\n",
    "Y=Y.reshape(Y.shape[0],1)\n",
    "Y.shape"
   ]
  },
  {
   "cell_type": "code",
   "execution_count": null,
   "metadata": {
    "collapsed": true
   },
   "outputs": [],
   "source": [
    "# prepare input data\n",
    "input=df.values\n",
    "input.shape"
   ]
  },
  {
   "cell_type": "code",
   "execution_count": null,
   "metadata": {
    "collapsed": true
   },
   "outputs": [],
   "source": [
    "# calculate train/test split\n",
    "len_train = int(len(input)*train_split)\n",
    "print(len_train)"
   ]
  },
  {
   "cell_type": "code",
   "execution_count": null,
   "metadata": {
    "collapsed": true
   },
   "outputs": [],
   "source": [
    "# apply train/test split to labels\n",
    "y_train = Y[0:len_train]\n",
    "y_test = Y[len_train:]"
   ]
  },
  {
   "cell_type": "code",
   "execution_count": null,
   "metadata": {
    "collapsed": true
   },
   "outputs": [],
   "source": [
    "#drop unneeded columns for creating input data\n",
    "df.drop(['currentdelinquencystatus','label'], axis=1, inplace=True)"
   ]
  },
  {
   "cell_type": "code",
   "execution_count": null,
   "metadata": {
    "collapsed": true
   },
   "outputs": [],
   "source": [
    "#reshape input data for machine learning\n",
    "input=input.reshape(input.shape[0], input.shape[1], 1)\n",
    "input.shape"
   ]
  },
  {
   "cell_type": "code",
   "execution_count": null,
   "metadata": {
    "collapsed": true
   },
   "outputs": [],
   "source": [
    "# apply train/test split to input data\n",
    "x_train = input[0:len_train]\n",
    "x_test = input[len_train:]"
   ]
  },
  {
   "cell_type": "markdown",
   "metadata": {},
   "source": [
    "# Normalize input data"
   ]
  },
  {
   "cell_type": "code",
   "execution_count": null,
   "metadata": {
    "collapsed": true
   },
   "outputs": [],
   "source": [
    "x_train_keras_scaled = keras.utils.normalize(x_train, axis=-1, order=2)\n",
    "x_test_keras_scaled = keras.utils.normalize(x_test, axis=-1, order=2)\n",
    "x_train_keras_scaled.shape"
   ]
  },
  {
   "cell_type": "markdown",
   "metadata": {},
   "source": [
    "# Model Architecture"
   ]
  },
  {
   "cell_type": "code",
   "execution_count": null,
   "metadata": {
    "collapsed": true
   },
   "outputs": [],
   "source": [
    "model = keras.Sequential()\n",
    "model.add(keras.layers.GRU(254, activation='relu', input_shape=(x_train_keras_scaled.shape[1:]), return_sequences=True))\n",
    "model.add(keras.layers.Dropout(0.2))\n",
    "\n",
    "model.add(keras.layers.GRU(128, activation='relu'))\n",
    "model.add(keras.layers.Dropout(0.1))\n",
    "\n",
    "model.add(keras.layers.Dense(32, activation='relu'))\n",
    "model.add(keras.layers.Dropout(0.2))\n",
    "\n",
    "model.add(keras.layers.Dense(2, activation='softmax'))\n",
    "\n",
    "optimizer = tf.keras.optimizers.Adam(lr=1e-3, decay=1e-6)\n"
   ]
  },
  {
   "cell_type": "markdown",
   "metadata": {},
   "source": [
    "# Model Configuration"
   ]
  },
  {
   "cell_type": "code",
   "execution_count": null,
   "metadata": {
    "collapsed": true
   },
   "outputs": [],
   "source": [
    "#save the best model\n",
    "#keras.callbacks.Callback()\n",
    "# checkPoint = ModelCheckpoint(filepath = path+'model/'+name+'.h5',\n",
    "#                             save_best_only = True,\n",
    "#                             verbose=0)\n",
    "# tensorboard = TensorBoard(log_dir=path+'logs/{}'.format(name),\n",
    "#                           histogram_freq=0,\n",
    "#                           batch_size=32,\n",
    "#                           write_graph=True,\n",
    "#                           write_images=False)\n",
    "# history = keras.callbacks.History()"
   ]
  },
  {
   "cell_type": "markdown",
   "metadata": {},
   "source": [
    "# Train the Model"
   ]
  },
  {
   "cell_type": "code",
   "execution_count": null,
   "metadata": {
    "collapsed": true,
    "scrolled": false
   },
   "outputs": [],
   "source": [
    "model.compile(loss='sparse_categorical_crossentropy', optimizer=optimizer, metrics=['accuracy'])\n",
    "\n",
    "model.fit(x_train, y_train, epochs=1, validation_data=(x_test_keras_scaled, y_test), \n",
    "        # callbacks = [\n",
    "   # baseLogger,\n",
    "    #history,\n",
    "    #tensorboard\n",
    "    #learningRateScheduler,\n",
    "    #reduceLROnPlateau\n",
    "     #    ], \n",
    "          shuffle=False\n",
    ")\n"
   ]
  },
  {
   "cell_type": "markdown",
   "metadata": {
    "collapsed": true
   },
   "source": [
    "# Save the Model"
   ]
  },
  {
   "cell_type": "code",
   "execution_count": null,
   "metadata": {
    "collapsed": true
   },
   "outputs": [],
   "source": [
    "model.save(path+'model/'+name+'.h5')"
   ]
  },
  {
   "cell_type": "code",
   "execution_count": null,
   "metadata": {
    "collapsed": true
   },
   "outputs": [],
   "source": [
    "test_loss, test_acc = model.evaluate(x_test_keras_scaled, y_test)\n",
    "print('Test Loss : ',test_loss,' ','Test Accuracy : ', test_acc)"
   ]
  },
  {
   "cell_type": "markdown",
   "metadata": {},
   "source": [
    "# Load Saved Model"
   ]
  },
  {
   "cell_type": "code",
   "execution_count": null,
   "metadata": {
    "collapsed": true
   },
   "outputs": [],
   "source": [
    "saved_model = load_model(path+'model/ABS_Keras-GRU254GRU128D32D2-adam1540234475.h5')"
   ]
  },
  {
   "cell_type": "code",
   "execution_count": null,
   "metadata": {
    "collapsed": true
   },
   "outputs": [],
   "source": [
    "test_loss, test_acc = saved_model.evaluate(x_test_keras_scaled, y_test)\n",
    "print('Test Loss : ',test_loss,' ','Test Accuracy : ', test_acc)"
   ]
  },
  {
   "cell_type": "code",
   "execution_count": null,
   "metadata": {
    "collapsed": true
   },
   "outputs": [],
   "source": []
  },
  {
   "cell_type": "code",
   "execution_count": null,
   "metadata": {
    "collapsed": true
   },
   "outputs": [],
   "source": []
  }
 ],
 "metadata": {
  "kernelspec": {
   "display_name": "Python 3",
   "language": "python",
   "name": "python3"
  },
  "language_info": {
   "codemirror_mode": {
    "name": "ipython",
    "version": 3
   },
   "file_extension": ".py",
   "mimetype": "text/x-python",
   "name": "python",
   "nbconvert_exporter": "python",
   "pygments_lexer": "ipython3",
   "version": "3.6.1"
  }
 },
 "nbformat": 4,
 "nbformat_minor": 2
}
