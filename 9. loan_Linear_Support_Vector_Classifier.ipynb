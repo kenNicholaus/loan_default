{
 "cells": [
  {
   "cell_type": "markdown",
   "metadata": {},
   "source": [
    "# Linear Support Vector Classifier"
   ]
  },
  {
   "cell_type": "markdown",
   "metadata": {},
   "source": [
    "An SVM model is based on dividing the training sample points into separate categories by as wide a gap as possible, while penalizing training samples that fall on the wrong side of the gap. The SVM model then makes predictions by assigning points to one side of the gap or the other.\n",
    "Single/One class SVM is trained on one class which is the ‘normal’ class. However, since SVM decision boundaries are soft, it can be used for unsupervised as well. It is able to detect outliers with higher accuracy where enough outlier data is not available. It is great for novelty detection too. If outliers are included in the training data, it does not perform well for outlier detection."
   ]
  },
  {
   "cell_type": "markdown",
   "metadata": {},
   "source": [
    "### Linear Support Vector Classification.\n",
    "Similar to SVC with parameter kernel=’linear’, but implemented in terms of liblinear rather than libsvm, so it has more flexibility in the choice of penalties and loss functions and should scale better to large numbers of samples.\n",
    "This class supports both dense and sparse input and the multiclass support is handled according to a one-vs-the-rest scheme."
   ]
  },
  {
   "cell_type": "markdown",
   "metadata": {},
   "source": [
    "![Linear Support Vector Machine](datasets/linearsvm.png)"
   ]
  },
  {
   "cell_type": "code",
   "execution_count": 1,
   "metadata": {
    "collapsed": true
   },
   "outputs": [],
   "source": [
    "from sklearn import preprocessing\n",
    "from sklearn.model_selection import train_test_split\n",
    "\n",
    "from sklearn.ensemble import IsolationForest\n",
    "from sklearn.neighbors import LocalOutlierFactor\n",
    "from sklearn import svm, neighbors\n",
    "from sklearn.neighbors import NearestNeighbors\n",
    "\n",
    "from sklearn.metrics import classification_report\n",
    "from sklearn.metrics import confusion_matrix\n",
    "from sklearn.metrics import recall_score\n",
    "from sklearn.metrics import roc_auc_score\n",
    "from sklearn.model_selection import GridSearchCV\n",
    "from sklearn.metrics import make_scorer\n",
    "from sklearn.metrics import accuracy_score\n",
    "\n",
    "import pandas as pd\n",
    "import numpy as np\n",
    "import itertools\n",
    "import matplotlib.pyplot as plt\n",
    "import datetime\n",
    "\n",
    "%matplotlib inline"
   ]
  },
  {
   "cell_type": "code",
   "execution_count": 2,
   "metadata": {},
   "outputs": [
    {
     "data": {
      "text/plain": [
       "(26199370, 109)"
      ]
     },
     "execution_count": 2,
     "metadata": {},
     "output_type": "execute_result"
    }
   ],
   "source": [
    "train_split = 0.80\n",
    "nrows = 30_000_000\n",
    "path = 'c:/users/ugy1/abs/'\n",
    "df=pd.read_csv(path+'datasets/processed_abs_loan_'+str(nrows)+'.csv', \n",
    "               #usecols=use_list, \n",
    "               #sep='\\t',\n",
    "               #compression=bz2,\n",
    "               nrows=nrows,\n",
    "               low_memory=False, \n",
    "              index_col=0, \n",
    "               parse_dates=True\n",
    "              )\n",
    "df.shape"
   ]
  },
  {
   "cell_type": "code",
   "execution_count": 3,
   "metadata": {
    "collapsed": true
   },
   "outputs": [],
   "source": [
    "column_list=df.columns.tolist()"
   ]
  },
  {
   "cell_type": "code",
   "execution_count": 4,
   "metadata": {},
   "outputs": [
    {
     "data": {
      "text/html": [
       "<div>\n",
       "<style scoped>\n",
       "    .dataframe tbody tr th:only-of-type {\n",
       "        vertical-align: middle;\n",
       "    }\n",
       "\n",
       "    .dataframe tbody tr th {\n",
       "        vertical-align: top;\n",
       "    }\n",
       "\n",
       "    .dataframe thead th {\n",
       "        text-align: right;\n",
       "    }\n",
       "</style>\n",
       "<table border=\"1\" class=\"dataframe\">\n",
       "  <thead>\n",
       "    <tr style=\"text-align: right;\">\n",
       "      <th></th>\n",
       "      <th>originalloanamount</th>\n",
       "      <th>originalloanterm</th>\n",
       "      <th>originalinterestratepercentage</th>\n",
       "      <th>graceperiodnumber</th>\n",
       "      <th>obligorcreditscore</th>\n",
       "      <th>paymenttoincomepercentage</th>\n",
       "      <th>reportingperiodbeginningloanbalanceamount</th>\n",
       "      <th>nextreportingperiodpaymentamountdue</th>\n",
       "      <th>reportingperiodinterestratepercentage</th>\n",
       "      <th>nextinterestratepercentage</th>\n",
       "      <th>...</th>\n",
       "      <th>zerobalance_[\"1\"]</th>\n",
       "      <th>zerobalance_[\"3\"]</th>\n",
       "      <th>zerobalance_[\"4\"]</th>\n",
       "      <th>S&amp;P/Experian Auto Default Index</th>\n",
       "      <th>AutoIndex</th>\n",
       "      <th>BankCardIndex</th>\n",
       "      <th>FirstMortgageIndex</th>\n",
       "      <th>SecondMortgageIndex</th>\n",
       "      <th>CompositeIndex</th>\n",
       "      <th>label</th>\n",
       "    </tr>\n",
       "  </thead>\n",
       "  <tbody>\n",
       "    <tr>\n",
       "      <th>2016-12-31</th>\n",
       "      <td>19339.41</td>\n",
       "      <td>60.0</td>\n",
       "      <td>5.39</td>\n",
       "      <td>0.0</td>\n",
       "      <td>710.0</td>\n",
       "      <td>0.0682</td>\n",
       "      <td>18818.87</td>\n",
       "      <td>369.25</td>\n",
       "      <td>5.39</td>\n",
       "      <td>5.39</td>\n",
       "      <td>...</td>\n",
       "      <td>0</td>\n",
       "      <td>0</td>\n",
       "      <td>0</td>\n",
       "      <td>0.0106</td>\n",
       "      <td>1.06</td>\n",
       "      <td>3.21</td>\n",
       "      <td>0.72</td>\n",
       "      <td>0.48</td>\n",
       "      <td>0.92</td>\n",
       "      <td>0.0</td>\n",
       "    </tr>\n",
       "    <tr>\n",
       "      <th>2016-12-31</th>\n",
       "      <td>17955.27</td>\n",
       "      <td>60.0</td>\n",
       "      <td>8.99</td>\n",
       "      <td>1.0</td>\n",
       "      <td>654.0</td>\n",
       "      <td>0.0792</td>\n",
       "      <td>17779.76</td>\n",
       "      <td>373.97</td>\n",
       "      <td>8.99</td>\n",
       "      <td>8.99</td>\n",
       "      <td>...</td>\n",
       "      <td>0</td>\n",
       "      <td>0</td>\n",
       "      <td>0</td>\n",
       "      <td>0.0106</td>\n",
       "      <td>1.06</td>\n",
       "      <td>3.21</td>\n",
       "      <td>0.72</td>\n",
       "      <td>0.48</td>\n",
       "      <td>0.92</td>\n",
       "      <td>0.0</td>\n",
       "    </tr>\n",
       "    <tr>\n",
       "      <th>2016-12-31</th>\n",
       "      <td>14815.00</td>\n",
       "      <td>72.0</td>\n",
       "      <td>9.55</td>\n",
       "      <td>0.0</td>\n",
       "      <td>707.0</td>\n",
       "      <td>0.0372</td>\n",
       "      <td>14518.87</td>\n",
       "      <td>542.22</td>\n",
       "      <td>9.55</td>\n",
       "      <td>9.55</td>\n",
       "      <td>...</td>\n",
       "      <td>0</td>\n",
       "      <td>0</td>\n",
       "      <td>0</td>\n",
       "      <td>0.0106</td>\n",
       "      <td>1.06</td>\n",
       "      <td>3.21</td>\n",
       "      <td>0.72</td>\n",
       "      <td>0.48</td>\n",
       "      <td>0.92</td>\n",
       "      <td>1.0</td>\n",
       "    </tr>\n",
       "    <tr>\n",
       "      <th>2016-12-31</th>\n",
       "      <td>13186.31</td>\n",
       "      <td>60.0</td>\n",
       "      <td>9.90</td>\n",
       "      <td>1.0</td>\n",
       "      <td>622.0</td>\n",
       "      <td>0.0488</td>\n",
       "      <td>13048.32</td>\n",
       "      <td>0.00</td>\n",
       "      <td>9.90</td>\n",
       "      <td>9.90</td>\n",
       "      <td>...</td>\n",
       "      <td>0</td>\n",
       "      <td>0</td>\n",
       "      <td>0</td>\n",
       "      <td>0.0106</td>\n",
       "      <td>1.06</td>\n",
       "      <td>3.21</td>\n",
       "      <td>0.72</td>\n",
       "      <td>0.48</td>\n",
       "      <td>0.92</td>\n",
       "      <td>0.0</td>\n",
       "    </tr>\n",
       "    <tr>\n",
       "      <th>2016-12-31</th>\n",
       "      <td>16400.00</td>\n",
       "      <td>48.0</td>\n",
       "      <td>10.90</td>\n",
       "      <td>0.0</td>\n",
       "      <td>656.0</td>\n",
       "      <td>0.0829</td>\n",
       "      <td>16182.14</td>\n",
       "      <td>845.98</td>\n",
       "      <td>10.90</td>\n",
       "      <td>10.90</td>\n",
       "      <td>...</td>\n",
       "      <td>0</td>\n",
       "      <td>0</td>\n",
       "      <td>0</td>\n",
       "      <td>0.0106</td>\n",
       "      <td>1.06</td>\n",
       "      <td>3.21</td>\n",
       "      <td>0.72</td>\n",
       "      <td>0.48</td>\n",
       "      <td>0.92</td>\n",
       "      <td>1.0</td>\n",
       "    </tr>\n",
       "  </tbody>\n",
       "</table>\n",
       "<p>5 rows × 109 columns</p>\n",
       "</div>"
      ],
      "text/plain": [
       "            originalloanamount  originalloanterm  \\\n",
       "2016-12-31            19339.41              60.0   \n",
       "2016-12-31            17955.27              60.0   \n",
       "2016-12-31            14815.00              72.0   \n",
       "2016-12-31            13186.31              60.0   \n",
       "2016-12-31            16400.00              48.0   \n",
       "\n",
       "            originalinterestratepercentage  graceperiodnumber  \\\n",
       "2016-12-31                            5.39                0.0   \n",
       "2016-12-31                            8.99                1.0   \n",
       "2016-12-31                            9.55                0.0   \n",
       "2016-12-31                            9.90                1.0   \n",
       "2016-12-31                           10.90                0.0   \n",
       "\n",
       "            obligorcreditscore  paymenttoincomepercentage  \\\n",
       "2016-12-31               710.0                     0.0682   \n",
       "2016-12-31               654.0                     0.0792   \n",
       "2016-12-31               707.0                     0.0372   \n",
       "2016-12-31               622.0                     0.0488   \n",
       "2016-12-31               656.0                     0.0829   \n",
       "\n",
       "            reportingperiodbeginningloanbalanceamount  \\\n",
       "2016-12-31                                   18818.87   \n",
       "2016-12-31                                   17779.76   \n",
       "2016-12-31                                   14518.87   \n",
       "2016-12-31                                   13048.32   \n",
       "2016-12-31                                   16182.14   \n",
       "\n",
       "            nextreportingperiodpaymentamountdue  \\\n",
       "2016-12-31                               369.25   \n",
       "2016-12-31                               373.97   \n",
       "2016-12-31                               542.22   \n",
       "2016-12-31                                 0.00   \n",
       "2016-12-31                               845.98   \n",
       "\n",
       "            reportingperiodinterestratepercentage  nextinterestratepercentage  \\\n",
       "2016-12-31                                   5.39                        5.39   \n",
       "2016-12-31                                   8.99                        8.99   \n",
       "2016-12-31                                   9.55                        9.55   \n",
       "2016-12-31                                   9.90                        9.90   \n",
       "2016-12-31                                  10.90                       10.90   \n",
       "\n",
       "            ...    zerobalance_[\"1\"]  zerobalance_[\"3\"]  zerobalance_[\"4\"]  \\\n",
       "2016-12-31  ...                    0                  0                  0   \n",
       "2016-12-31  ...                    0                  0                  0   \n",
       "2016-12-31  ...                    0                  0                  0   \n",
       "2016-12-31  ...                    0                  0                  0   \n",
       "2016-12-31  ...                    0                  0                  0   \n",
       "\n",
       "            S&P/Experian Auto Default Index  AutoIndex  BankCardIndex  \\\n",
       "2016-12-31                           0.0106       1.06           3.21   \n",
       "2016-12-31                           0.0106       1.06           3.21   \n",
       "2016-12-31                           0.0106       1.06           3.21   \n",
       "2016-12-31                           0.0106       1.06           3.21   \n",
       "2016-12-31                           0.0106       1.06           3.21   \n",
       "\n",
       "            FirstMortgageIndex  SecondMortgageIndex  CompositeIndex  label  \n",
       "2016-12-31                0.72                 0.48            0.92    0.0  \n",
       "2016-12-31                0.72                 0.48            0.92    0.0  \n",
       "2016-12-31                0.72                 0.48            0.92    1.0  \n",
       "2016-12-31                0.72                 0.48            0.92    0.0  \n",
       "2016-12-31                0.72                 0.48            0.92    1.0  \n",
       "\n",
       "[5 rows x 109 columns]"
      ]
     },
     "execution_count": 4,
     "metadata": {},
     "output_type": "execute_result"
    }
   ],
   "source": [
    "df.head()"
   ]
  },
  {
   "cell_type": "code",
   "execution_count": 5,
   "metadata": {},
   "outputs": [
    {
     "data": {
      "text/plain": [
       "(26199370,)"
      ]
     },
     "execution_count": 5,
     "metadata": {},
     "output_type": "execute_result"
    }
   ],
   "source": [
    "# prepare label for scikit-learn\n",
    "Y=df.label.values\n",
    "Y.shape"
   ]
  },
  {
   "cell_type": "code",
   "execution_count": 6,
   "metadata": {},
   "outputs": [
    {
     "data": {
      "text/plain": [
       "(26199370, 109)"
      ]
     },
     "execution_count": 6,
     "metadata": {},
     "output_type": "execute_result"
    }
   ],
   "source": [
    "# prepare input data for scikit-learn\n",
    "input=df.values\n",
    "input.shape"
   ]
  },
  {
   "cell_type": "code",
   "execution_count": 7,
   "metadata": {},
   "outputs": [
    {
     "name": "stdout",
     "output_type": "stream",
     "text": [
      "20959496\n"
     ]
    }
   ],
   "source": [
    "# calculate train/test split\n",
    "\n",
    "len_train = int(len(input)*train_split)\n",
    "print(len_train)"
   ]
  },
  {
   "cell_type": "code",
   "execution_count": 8,
   "metadata": {},
   "outputs": [
    {
     "data": {
      "text/plain": [
       "(20959496, 109)"
      ]
     },
     "execution_count": 8,
     "metadata": {},
     "output_type": "execute_result"
    }
   ],
   "source": [
    "# apply train/test split to labels\n",
    "y_train = Y[0:len_train]\n",
    "y_test = Y[len_train:]\n",
    "x_train = input[0:len_train]\n",
    "x_test = input[len_train:]\n",
    "x_train.shape"
   ]
  },
  {
   "cell_type": "code",
   "execution_count": 9,
   "metadata": {
    "collapsed": true
   },
   "outputs": [],
   "source": [
    "export_x_test = pd.DataFrame(data=x_test)"
   ]
  },
  {
   "cell_type": "code",
   "execution_count": 10,
   "metadata": {},
   "outputs": [
    {
     "data": {
      "text/html": [
       "<div>\n",
       "<style scoped>\n",
       "    .dataframe tbody tr th:only-of-type {\n",
       "        vertical-align: middle;\n",
       "    }\n",
       "\n",
       "    .dataframe tbody tr th {\n",
       "        vertical-align: top;\n",
       "    }\n",
       "\n",
       "    .dataframe thead th {\n",
       "        text-align: right;\n",
       "    }\n",
       "</style>\n",
       "<table border=\"1\" class=\"dataframe\">\n",
       "  <thead>\n",
       "    <tr style=\"text-align: right;\">\n",
       "      <th></th>\n",
       "      <th>originalloanamount</th>\n",
       "      <th>originalloanterm</th>\n",
       "      <th>originalinterestratepercentage</th>\n",
       "      <th>graceperiodnumber</th>\n",
       "      <th>obligorcreditscore</th>\n",
       "      <th>paymenttoincomepercentage</th>\n",
       "      <th>reportingperiodbeginningloanbalanceamount</th>\n",
       "      <th>nextreportingperiodpaymentamountdue</th>\n",
       "      <th>reportingperiodinterestratepercentage</th>\n",
       "      <th>nextinterestratepercentage</th>\n",
       "      <th>...</th>\n",
       "      <th>zerobalance_[\"1\"]</th>\n",
       "      <th>zerobalance_[\"3\"]</th>\n",
       "      <th>zerobalance_[\"4\"]</th>\n",
       "      <th>S&amp;P/Experian Auto Default Index</th>\n",
       "      <th>AutoIndex</th>\n",
       "      <th>BankCardIndex</th>\n",
       "      <th>FirstMortgageIndex</th>\n",
       "      <th>SecondMortgageIndex</th>\n",
       "      <th>CompositeIndex</th>\n",
       "      <th>True Label</th>\n",
       "    </tr>\n",
       "  </thead>\n",
       "  <tbody>\n",
       "    <tr>\n",
       "      <th>0</th>\n",
       "      <td>12187.00</td>\n",
       "      <td>62.0</td>\n",
       "      <td>0.0385</td>\n",
       "      <td>2.0</td>\n",
       "      <td>802.0</td>\n",
       "      <td>0.03450</td>\n",
       "      <td>8962.82</td>\n",
       "      <td>0.00</td>\n",
       "      <td>0.0385</td>\n",
       "      <td>0.0385</td>\n",
       "      <td>...</td>\n",
       "      <td>0.0</td>\n",
       "      <td>0.0</td>\n",
       "      <td>0.0</td>\n",
       "      <td>0.0097</td>\n",
       "      <td>0.96</td>\n",
       "      <td>3.56</td>\n",
       "      <td>0.63</td>\n",
       "      <td>0.59</td>\n",
       "      <td>0.86</td>\n",
       "      <td>0.0</td>\n",
       "    </tr>\n",
       "    <tr>\n",
       "      <th>1</th>\n",
       "      <td>18656.42</td>\n",
       "      <td>62.0</td>\n",
       "      <td>0.0190</td>\n",
       "      <td>2.0</td>\n",
       "      <td>734.0</td>\n",
       "      <td>0.04080</td>\n",
       "      <td>14165.76</td>\n",
       "      <td>326.45</td>\n",
       "      <td>0.0190</td>\n",
       "      <td>0.0190</td>\n",
       "      <td>...</td>\n",
       "      <td>0.0</td>\n",
       "      <td>0.0</td>\n",
       "      <td>0.0</td>\n",
       "      <td>0.0097</td>\n",
       "      <td>0.96</td>\n",
       "      <td>3.56</td>\n",
       "      <td>0.63</td>\n",
       "      <td>0.59</td>\n",
       "      <td>0.86</td>\n",
       "      <td>0.0</td>\n",
       "    </tr>\n",
       "    <tr>\n",
       "      <th>2</th>\n",
       "      <td>9679.13</td>\n",
       "      <td>50.0</td>\n",
       "      <td>0.0000</td>\n",
       "      <td>2.0</td>\n",
       "      <td>753.0</td>\n",
       "      <td>0.02370</td>\n",
       "      <td>7460.98</td>\n",
       "      <td>201.65</td>\n",
       "      <td>0.0000</td>\n",
       "      <td>0.0000</td>\n",
       "      <td>...</td>\n",
       "      <td>0.0</td>\n",
       "      <td>0.0</td>\n",
       "      <td>0.0</td>\n",
       "      <td>0.0097</td>\n",
       "      <td>0.96</td>\n",
       "      <td>3.56</td>\n",
       "      <td>0.63</td>\n",
       "      <td>0.59</td>\n",
       "      <td>0.86</td>\n",
       "      <td>0.0</td>\n",
       "    </tr>\n",
       "    <tr>\n",
       "      <th>3</th>\n",
       "      <td>22000.00</td>\n",
       "      <td>73.0</td>\n",
       "      <td>0.0424</td>\n",
       "      <td>1.0</td>\n",
       "      <td>792.0</td>\n",
       "      <td>0.03928</td>\n",
       "      <td>2729.91</td>\n",
       "      <td>346.60</td>\n",
       "      <td>0.0424</td>\n",
       "      <td>0.0424</td>\n",
       "      <td>...</td>\n",
       "      <td>0.0</td>\n",
       "      <td>0.0</td>\n",
       "      <td>0.0</td>\n",
       "      <td>0.0097</td>\n",
       "      <td>0.96</td>\n",
       "      <td>3.56</td>\n",
       "      <td>0.63</td>\n",
       "      <td>0.59</td>\n",
       "      <td>0.86</td>\n",
       "      <td>0.0</td>\n",
       "    </tr>\n",
       "    <tr>\n",
       "      <th>4</th>\n",
       "      <td>16366.35</td>\n",
       "      <td>61.0</td>\n",
       "      <td>0.0190</td>\n",
       "      <td>1.0</td>\n",
       "      <td>736.0</td>\n",
       "      <td>0.06240</td>\n",
       "      <td>570.68</td>\n",
       "      <td>285.18</td>\n",
       "      <td>0.0190</td>\n",
       "      <td>0.0190</td>\n",
       "      <td>...</td>\n",
       "      <td>0.0</td>\n",
       "      <td>0.0</td>\n",
       "      <td>0.0</td>\n",
       "      <td>0.0097</td>\n",
       "      <td>0.96</td>\n",
       "      <td>3.56</td>\n",
       "      <td>0.63</td>\n",
       "      <td>0.59</td>\n",
       "      <td>0.86</td>\n",
       "      <td>0.0</td>\n",
       "    </tr>\n",
       "  </tbody>\n",
       "</table>\n",
       "<p>5 rows × 109 columns</p>\n",
       "</div>"
      ],
      "text/plain": [
       "   originalloanamount  originalloanterm  originalinterestratepercentage  \\\n",
       "0            12187.00              62.0                          0.0385   \n",
       "1            18656.42              62.0                          0.0190   \n",
       "2             9679.13              50.0                          0.0000   \n",
       "3            22000.00              73.0                          0.0424   \n",
       "4            16366.35              61.0                          0.0190   \n",
       "\n",
       "   graceperiodnumber  obligorcreditscore  paymenttoincomepercentage  \\\n",
       "0                2.0               802.0                    0.03450   \n",
       "1                2.0               734.0                    0.04080   \n",
       "2                2.0               753.0                    0.02370   \n",
       "3                1.0               792.0                    0.03928   \n",
       "4                1.0               736.0                    0.06240   \n",
       "\n",
       "   reportingperiodbeginningloanbalanceamount  \\\n",
       "0                                    8962.82   \n",
       "1                                   14165.76   \n",
       "2                                    7460.98   \n",
       "3                                    2729.91   \n",
       "4                                     570.68   \n",
       "\n",
       "   nextreportingperiodpaymentamountdue  reportingperiodinterestratepercentage  \\\n",
       "0                                 0.00                                 0.0385   \n",
       "1                               326.45                                 0.0190   \n",
       "2                               201.65                                 0.0000   \n",
       "3                               346.60                                 0.0424   \n",
       "4                               285.18                                 0.0190   \n",
       "\n",
       "   nextinterestratepercentage     ...      zerobalance_[\"1\"]  \\\n",
       "0                      0.0385     ...                    0.0   \n",
       "1                      0.0190     ...                    0.0   \n",
       "2                      0.0000     ...                    0.0   \n",
       "3                      0.0424     ...                    0.0   \n",
       "4                      0.0190     ...                    0.0   \n",
       "\n",
       "   zerobalance_[\"3\"]  zerobalance_[\"4\"]  S&P/Experian Auto Default Index  \\\n",
       "0                0.0                0.0                           0.0097   \n",
       "1                0.0                0.0                           0.0097   \n",
       "2                0.0                0.0                           0.0097   \n",
       "3                0.0                0.0                           0.0097   \n",
       "4                0.0                0.0                           0.0097   \n",
       "\n",
       "   AutoIndex  BankCardIndex  FirstMortgageIndex  SecondMortgageIndex  \\\n",
       "0       0.96           3.56                0.63                 0.59   \n",
       "1       0.96           3.56                0.63                 0.59   \n",
       "2       0.96           3.56                0.63                 0.59   \n",
       "3       0.96           3.56                0.63                 0.59   \n",
       "4       0.96           3.56                0.63                 0.59   \n",
       "\n",
       "   CompositeIndex  True Label  \n",
       "0            0.86         0.0  \n",
       "1            0.86         0.0  \n",
       "2            0.86         0.0  \n",
       "3            0.86         0.0  \n",
       "4            0.86         0.0  \n",
       "\n",
       "[5 rows x 109 columns]"
      ]
     },
     "execution_count": 10,
     "metadata": {},
     "output_type": "execute_result"
    }
   ],
   "source": [
    "export_x_test.columns=column_list\n",
    "export_x_test.rename(columns={'label':'True Label'}, inplace=True)\n",
    "export_x_test.head()"
   ]
  },
  {
   "cell_type": "code",
   "execution_count": 11,
   "metadata": {
    "collapsed": true
   },
   "outputs": [],
   "source": [
    "#from sklearn.preprocessing import MinMaxScaler\n",
    "# from sklearn.preprocessing import minmax_scale\n",
    "# from sklearn.preprocessing import MaxAbsScaler\n",
    "from sklearn.preprocessing import StandardScaler\n",
    "# from sklearn.preprocessing import RobustScaler\n",
    "# from sklearn.preprocessing import Normalizer\n",
    "# from sklearn.preprocessing import QuantileTransformer\n",
    "# from sklearn.preprocessing import PowerTransformer"
   ]
  },
  {
   "cell_type": "code",
   "execution_count": null,
   "metadata": {
    "collapsed": true
   },
   "outputs": [],
   "source": [
    "x_scaler=StandardScaler()\n",
    "x_train = x_scaler.fit_transform(x_train)\n",
    "x_test = x_scaler.fit_transform(x_test)"
   ]
  },
  {
   "cell_type": "code",
   "execution_count": null,
   "metadata": {
    "collapsed": true
   },
   "outputs": [],
   "source": [
    "lsvc=svm.LinearSVC()\n",
    "clf_lsvc=lsvc.fit(x_train, y_train)\n",
    "confidence_lsvc=clf_lsvc.score(x_test, y_test)"
   ]
  },
  {
   "cell_type": "code",
   "execution_count": null,
   "metadata": {
    "collapsed": true
   },
   "outputs": [],
   "source": [
    "x_pred = x_test"
   ]
  },
  {
   "cell_type": "code",
   "execution_count": null,
   "metadata": {
    "collapsed": true
   },
   "outputs": [],
   "source": [
    "prediction_lsvc = clf_lsvc.predict(x_pred)"
   ]
  },
  {
   "cell_type": "code",
   "execution_count": null,
   "metadata": {
    "collapsed": true
   },
   "outputs": [],
   "source": [
    "export_x_test['Predicted Label']=prediction_lsvc"
   ]
  },
  {
   "cell_type": "code",
   "execution_count": null,
   "metadata": {},
   "outputs": [],
   "source": [
    "export_x_test.head()"
   ]
  },
  {
   "cell_type": "code",
   "execution_count": null,
   "metadata": {},
   "outputs": [],
   "source": [
    "export_x_test.shape"
   ]
  },
  {
   "cell_type": "code",
   "execution_count": null,
   "metadata": {
    "collapsed": true
   },
   "outputs": [],
   "source": [
    "export_x_test.to_csv(path+\"prediction/linearsvc/predicated_linear_svc_abs_loans_\"+str(nrows)+\".csv\", chunksize=10000)"
   ]
  },
  {
   "cell_type": "code",
   "execution_count": null,
   "metadata": {
    "collapsed": true
   },
   "outputs": [],
   "source": [
    "def plot_confusion_matrix(cm, title, classes=['Non-Current', 'Current'],\n",
    "                          cmap=plt.cm.Blues, save=False, saveas=\"MyFigure.png\"):\n",
    "    \n",
    "    # print Confusion matrix with blue gradient colours\n",
    "    \n",
    "    cm = cm.astype('float') / cm.sum(axis=1)[:, np.newaxis]\n",
    "    \n",
    "    plt.imshow(cm, interpolation='nearest', cmap=cmap)\n",
    "    plt.title(title)\n",
    "    plt.colorbar()\n",
    "    tick_marks = np.arange(len(classes))\n",
    "    plt.xticks(tick_marks, classes, rotation=90)\n",
    "    plt.yticks(tick_marks, classes)\n",
    "\n",
    "    fmt = '.1%'\n",
    "    thresh = cm.max() / 2.\n",
    "    for i, j in itertools.product(range(cm.shape[0]), range(cm.shape[1])):\n",
    "        plt.text(j, i, format(cm[i, j], fmt),\n",
    "                 horizontalalignment=\"center\",\n",
    "                 color=\"white\" if cm[i, j] > thresh else \"black\")\n",
    "\n",
    "    plt.tight_layout()\n",
    "    plt.ylabel('True label')\n",
    "    plt.xlabel('Predicted label')\n",
    "    \n",
    "    if save:\n",
    "        plt.savefig(saveas, dpi=100)"
   ]
  },
  {
   "cell_type": "code",
   "execution_count": null,
   "metadata": {
    "collapsed": true
   },
   "outputs": [],
   "source": [
    "def plot_gridsearch_cv(results, estimator, x_min, x_max, y_min, y_max,save=False, saveas=\"MyFigure.png\"):\n",
    "    \n",
    "    # print GridSearch cross-validation for parameters\n",
    "    \n",
    "    plt.figure(figsize=(10,8))\n",
    "    plt.title(\"GridSearchCV for \"+estimator, fontsize=24)\n",
    "\n",
    "    plt.xlabel(estimator)\n",
    "    plt.ylabel(\"Score\")\n",
    "    plt.grid()\n",
    "\n",
    "    ax = plt.axes()\n",
    "    ax.set_xlim(x_min, x_max)\n",
    "    ax.set_ylim(y_min, y_max)\n",
    "\n",
    "    pad = 0.005\n",
    "    X_axis = np.array(results[\"param_\"+estimator].data, dtype=float)\n",
    "\n",
    "    for scorer, color in zip(sorted(scoring), ['b', 'k']):\n",
    "        for sample, style in (('train', '--'), ('test', '-')):\n",
    "            sample_score_mean = results['mean_%s_%s' % (sample, scorer)]\n",
    "            sample_score_std = results['std_%s_%s' % (sample, scorer)]\n",
    "            ax.fill_between(X_axis, sample_score_mean - sample_score_std,\n",
    "                        sample_score_mean + sample_score_std,\n",
    "                        alpha=0.1 if sample == 'test' else 0, color=color)\n",
    "            ax.plot(X_axis, sample_score_mean, style, color=color,\n",
    "                alpha=1 if sample == 'test' else 0.7,\n",
    "                label=\"%s (%s)\" % (scorer, sample))\n",
    "\n",
    "        best_index = np.nonzero(results['rank_test_%s' % scorer] == 1)[0][0]\n",
    "        best_score = results['mean_test_%s' % scorer][best_index]\n",
    "\n",
    "        # Plot a dotted vertical line at the best score for that scorer marked by x\n",
    "        ax.plot([X_axis[best_index], ] * 2, [0, best_score],\n",
    "            linestyle='-.', color=color, marker='x', markeredgewidth=3, ms=8)\n",
    "\n",
    "        # Annotate the best score for that scorer\n",
    "        ax.annotate(\"%0.2f\" % best_score,\n",
    "                (X_axis[best_index], best_score+pad))\n",
    "\n",
    "    plt.legend(loc=\"best\")\n",
    "    plt.grid('off')\n",
    "    plt.tight_layout()\n",
    "    if save:\n",
    "        plt.savefig(saveas, dpi=100)\n",
    "        \n",
    "    plt.show()"
   ]
  },
  {
   "cell_type": "code",
   "execution_count": null,
   "metadata": {},
   "outputs": [],
   "source": [
    "print(classification_report(y_test, prediction_lsvc, target_names=['Non-Current', 'Current']))\n",
    "print (\"AUC: \", \"{:.1%}\".format(roc_auc_score(y_test, prediction_lsvc)))\n",
    "cm = confusion_matrix(y_test, prediction_lsvc)\n",
    "plot_confusion_matrix(cm, title=\"Linear SVC Confusion Matrix\",save=True, \n",
    "                      saveas='prediction/linearsvc/cm'+str(' Linear SVC Accuracy-')+str(nrows)+'.jpg')\n"
   ]
  },
  {
   "cell_type": "code",
   "execution_count": null,
   "metadata": {},
   "outputs": [],
   "source": [
    "class_names = ['Current', 'Non-Current']\n",
    "\n",
    "def plot_confusion_matrix(cm, classes,\n",
    "                          normalize=False,\n",
    "                          title='Confusion matrix',\n",
    "                          cmap=plt.cm.Blues):\n",
    "    \"\"\"\n",
    "    This function prints and plots the confusion matrix.\n",
    "    Normalization can be applied by setting `normalize=True`.\n",
    "    \"\"\"\n",
    "    if normalize:\n",
    "        cm = cm.astype('float') / cm.sum(axis=1)[:, np.newaxis]\n",
    "        print(\"Normalized confusion matrix\")\n",
    "    else:\n",
    "        print('Confusion matrix, without normalization')\n",
    "\n",
    "    print(cm)\n",
    "\n",
    "    plt.imshow(cm, interpolation='nearest', cmap=cmap)\n",
    "    plt.title(title)\n",
    "    plt.colorbar()\n",
    "    tick_marks = np.arange(len(classes))\n",
    "    plt.xticks(tick_marks, classes, rotation=45)\n",
    "    plt.yticks(tick_marks, classes)\n",
    "\n",
    "    fmt = '.2f' if normalize else 'd'\n",
    "    thresh = cm.max() / 2.\n",
    "    for i, j in itertools.product(range(cm.shape[0]), range(cm.shape[1])):\n",
    "        plt.text(j, i, format(cm[i, j], fmt),\n",
    "                 horizontalalignment=\"center\",\n",
    "                 color=\"white\" if cm[i, j] > thresh else \"black\")\n",
    "\n",
    "    plt.ylabel('True label')\n",
    "    plt.xlabel('Predicted label')\n",
    "    plt.tight_layout()\n",
    "\n",
    "\n",
    "print('ROC_AUC_SCORE ; ', roc_auc_score(y_test, prediction_lsvc))\n",
    "# Compute confusion matrix\n",
    "cnf_matrix = confusion_matrix(y_test, prediction_lsvc)\n",
    "np.set_printoptions(precision=2)\n",
    "\n",
    "# Plot non-normalized confusion matrix\n",
    "plt.figure()\n",
    "plot_confusion_matrix(cnf_matrix, classes=class_names, title= 'Confusion matrix, Linear SVC')\n",
    "plt.savefig('prediction/linearsvc/cm'+str(' Linear SVC Prediction-')+str(nrows)+'.jpg')\n",
    "plt.show()"
   ]
  }
 ],
 "metadata": {
  "kernelspec": {
   "display_name": "Python [conda env:Anaconda3_4]",
   "language": "python",
   "name": "conda-env-Anaconda3_4-py"
  },
  "language_info": {
   "codemirror_mode": {
    "name": "ipython",
    "version": 3
   },
   "file_extension": ".py",
   "mimetype": "text/x-python",
   "name": "python",
   "nbconvert_exporter": "python",
   "pygments_lexer": "ipython3",
   "version": "3.6.1"
  }
 },
 "nbformat": 4,
 "nbformat_minor": 2
}
