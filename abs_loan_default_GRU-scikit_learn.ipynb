{
 "cells": [
  {
   "cell_type": "markdown",
   "metadata": {},
   "source": [
    "# ASSET BACKED SECURITIES - AUTO FINANCE LOANS"
   ]
  },
  {
   "cell_type": "markdown",
   "metadata": {},
   "source": [
    "SEC data ingested from Edgar Online"
   ]
  },
  {
   "cell_type": "code",
   "execution_count": null,
   "metadata": {},
   "outputs": [],
   "source": [
    "import re\n",
    "import time\n",
    "import pandas as pd\n",
    "import numpy as np\n",
    "from matplotlib import pyplot as plt\n",
    "import tensorflow as tf\n",
    "from tensorflow import keras\n",
    "from keras import optimizers\n",
    "from keras.models import Sequential\n",
    "from keras.layers import Input, Dense, Dropout, LSTM, GRU\n",
    "from keras.models import Model, load_model\n",
    "from keras.callbacks import ModelCheckpoint, TensorBoard\n",
    "from keras import regularizers\n",
    "tf.__version__\n",
    "%matplotlib inline\n",
    "\n",
    "import seaborn as sns\n",
    "import itertools\n",
    "import operator\n",
    "import collections\n",
    "from scipy.io import mmread, mmwrite\n",
    "from random import randint\n",
    "from sklearn import linear_model\n",
    "from sklearn.grid_search import GridSearchCV\n",
    "from sklearn import preprocessing as pp\n",
    "from sklearn.svm import SVR\n",
    "from sklearn.ensemble import GradientBoostingRegressor, GradientBoostingClassifier\n",
    "from sklearn.ensemble import RandomForestRegressor, RandomForestClassifier\n",
    "from sklearn.ensemble import ExtraTreesRegressor\n",
    "from sklearn.decomposition import PCA, KernelPCA\n",
    "from sklearn.decomposition import NMF\n",
    "from sklearn.pipeline import Pipeline\n",
    "from sklearn.svm import LinearSVC\n",
    "from sklearn.linear_model import LogisticRegression, Ridge, Lasso, ElasticNet\n",
    "import scipy.stats as stats\n",
    "from sklearn import tree\n",
    "from sklearn.feature_selection import f_regression\n",
    "from sklearn.gaussian_process import GaussianProcess\n",
    "from sklearn.metrics import roc_auc_score\n",
    "from sklearn import metrics\n",
    "\n",
    "from sklearn.model_selection import train_test_split\n",
    "from sklearn.metrics import confusion_matrix, precision_recall_curve\n",
    "from sklearn.metrics import recall_score, classification_report, auc, roc_curve\n",
    "from sklearn.metrics import precision_recall_fscore_support, f1_score\n",
    "from sklearn.preprocessing import StandardScaler\n",
    "\n",
    "\n",
    "\n"
   ]
  },
  {
   "cell_type": "markdown",
   "metadata": {},
   "source": [
    "# Model Name"
   ]
  },
  {
   "cell_type": "code",
   "execution_count": null,
   "metadata": {
    "collapsed": true
   },
   "outputs": [],
   "source": [
    "name = \"ABS_Keras-GRU254GRU128D32D2-adam{}\".format(int(time.time()))\n",
    "#name_noTime = \"ABS_Keras-LSTM128LSTM128D32D2-adam\""
   ]
  },
  {
   "cell_type": "markdown",
   "metadata": {},
   "source": [
    "# Choose default parameters"
   ]
  },
  {
   "cell_type": "code",
   "execution_count": null,
   "metadata": {
    "collapsed": true
   },
   "outputs": [],
   "source": [
    "#parameters to choose\n",
    "\n",
    "default_days = 0\n",
    "nrows = 1000000\n",
    "train_split = 0.80\n",
    "model_type = keras\n",
    "path = 'c:/users/ugy1/abs/'\n",
    "rows_for_prediction = 1000\n",
    "cutOffForOriginationDate='2012-01-01'\n",
    "manualOversamplingFactor=0.0\n",
    "epochs=1"
   ]
  },
  {
   "cell_type": "code",
   "execution_count": null,
   "metadata": {
    "collapsed": true
   },
   "outputs": [],
   "source": [
    "# columns to be used\n",
    "use_list=[\n",
    "    'abs_loan.cik',\n",
    " #'abs_loan.accessionnumber',\n",
    " #'abs_loan.assettypenumber',\n",
    " 'abs_loan.assetnumber',\n",
    " 'abs_loan.reportingperiodbeginningdate',\n",
    " 'abs_loan.reportingperiodendingdate',\n",
    " 'abs_loan.originatorname',\n",
    " 'abs_loan.originationdate',\n",
    " 'abs_loan.originalloanamount',\n",
    " 'abs_loan.originalloanterm',\n",
    " 'abs_loan.loanmaturitydate',\n",
    " 'abs_loan.originalinterestratepercentage',\n",
    " #'interestcalculationtypecode',\n",
    " #'originalinterestratetypecode',\n",
    " #'originalinterestonlytermnumber',\n",
    " 'abs_loan.originalfirstpaymentdate',\n",
    " 'abs_loan.underwritingindicator',\n",
    " 'abs_loan.graceperiodnumber',\n",
    " #'paymenttypecode',\n",
    " 'abs_loan.subvented',\n",
    " #'vehiclemanufacturername',\n",
    " #'vehiclemodelname',\n",
    " 'abs_loan.vehiclenewusedcode',\n",
    " #'vehiclemodelyear',\n",
    " 'abs_loan.vehicletypecode',\n",
    " #'vehiclevalueamount',\n",
    " #'vehiclevaluesourcecode',\n",
    " 'abs_loan.obligorcreditscoretype',\n",
    " 'abs_loan.obligorcreditscore',\n",
    " 'abs_loan.obligorincomeverificationlevelcode',\n",
    " 'abs_loan.obligoremploymentverificationcode',\n",
    " 'abs_loan.coobligorindicator',\n",
    " 'abs_loan.paymenttoincomepercentage',\n",
    " #'obligorgeographiclocation',\n",
    " 'abs_loan.assetaddedindicator',\n",
    " #'remainingtermtomaturitynumber',\n",
    " 'abs_loan.reportingperiodmodificationindicator',\n",
    " 'abs_loan.servicingadvancemethodcode',\n",
    " 'abs_loan.reportingperiodbeginningloanbalanceamount',\n",
    " 'abs_loan.nextreportingperiodpaymentamountdue',\n",
    " 'abs_loan.reportingperiodinterestratepercentage',\n",
    " 'abs_loan.nextinterestratepercentage',\n",
    " 'abs_loan.servicingfeepercentage',\n",
    " 'abs_loan.servicingflatfeeamount',\n",
    " 'abs_loan.otherservicerfeeretainedbyservicer',\n",
    " 'abs_loan.otherassesseduncollectedservicerfeeamount',\n",
    " 'abs_loan.scheduledinterestamount',\n",
    " 'abs_loan.scheduledprincipalamount',\n",
    " 'abs_loan.otherprincipaladjustmentamount',\n",
    " 'abs_loan.reportingperiodactualendbalanceamount',\n",
    " 'abs_loan.reportingperiodscheduledpaymentamount',\n",
    " 'abs_loan.totalactualamountpaid',\n",
    " 'abs_loan.actualinterestcollectedamount',\n",
    " 'abs_loan.actualprincipalcollectedamount',\n",
    " 'abs_loan.actualothercollectedamount',\n",
    " 'abs_loan.serviceradvancedamount',\n",
    " 'abs_loan.interestpaidthroughdate',\n",
    " 'abs_loan.zerobalanceeffectivedate',\n",
    " 'abs_loan.zerobalancecode',\n",
    " 'abs_loan.currentdelinquencystatus',\n",
    " #'primaryloanservicername',\n",
    " #'mostrecentservicingtransferreceiveddate',\n",
    " #'assetsubjectdemandindicator',\n",
    " #'assetsubjectdemandstatuscode',\n",
    " #'repurchaseamount',\n",
    " #'demandresolutiondate',\n",
    " #'repurchasername',\n",
    " #'repurchasereplacementreasoncode',\n",
    " #'chargedoffprincipalamount',\n",
    " #'recoveredamount',\n",
    " #'modificationtypecode',\n",
    " #'paymentextendednumber',\n",
    " #'repossessedindicator',\n",
    " #'repossessedproceedsamount'\n",
    "]"
   ]
  },
  {
   "cell_type": "code",
   "execution_count": null,
   "metadata": {
    "collapsed": true
   },
   "outputs": [],
   "source": [
    "#df.drop(drop_list,axis=1, inplace=True)"
   ]
  },
  {
   "cell_type": "markdown",
   "metadata": {},
   "source": [
    "# GPU Options"
   ]
  },
  {
   "cell_type": "code",
   "execution_count": null,
   "metadata": {
    "collapsed": true
   },
   "outputs": [],
   "source": [
    "#set gpu options to adjust gpu usage\n",
    "# gpu_options = tf.GPUOptions(per_process_gpu_memory_fraction=0.5)\n",
    "# sess=tf.Session(config=tf.ConfigProto(gpu_options=gpu_options))"
   ]
  },
  {
   "cell_type": "markdown",
   "metadata": {},
   "source": [
    "# Load data"
   ]
  },
  {
   "cell_type": "code",
   "execution_count": null,
   "metadata": {},
   "outputs": [],
   "source": [
    "#load data from tab delimited file\n",
    "df=pd.read_csv(path+'datasets/abs_loan.csv', \n",
    "               usecols=use_list, \n",
    "               sep='\\t',\n",
    "               #compression=bz2,\n",
    "               nrows=nrows,\n",
    "               low_memory=False, \n",
    "              #index_col='abs_loan.reportingperiodendingdate', \n",
    "               parse_dates=True\n",
    "              )\n",
    "\n",
    "#remove 'abs_loan.' string from columns because 'dot' is a command in pandas\n",
    "df.columns=df.columns.str.replace('abs_loan.','')\n",
    "\n",
    "#display data shape\n",
    "print(df.shape)\n",
    "#view first five rows of all columns\n",
    "#df.head(n=5)"
   ]
  },
  {
   "cell_type": "code",
   "execution_count": null,
   "metadata": {
    "collapsed": true
   },
   "outputs": [],
   "source": [
    "#df.cik.unique()"
   ]
  },
  {
   "cell_type": "code",
   "execution_count": null,
   "metadata": {
    "collapsed": true
   },
   "outputs": [],
   "source": [
    "#df.assetnumber.unique()"
   ]
  },
  {
   "cell_type": "code",
   "execution_count": null,
   "metadata": {
    "collapsed": true
   },
   "outputs": [],
   "source": [
    "#df.loc[:,~df.columns.str.contains('^Unnamed')]"
   ]
  },
  {
   "cell_type": "code",
   "execution_count": null,
   "metadata": {
    "collapsed": true
   },
   "outputs": [],
   "source": [
    "#df.duplicated(subset=['cik','assetnumber']).sum()"
   ]
  },
  {
   "cell_type": "code",
   "execution_count": null,
   "metadata": {
    "collapsed": true
   },
   "outputs": [],
   "source": [
    "#df.duplicated(subset=['cik','assetnumber','reportingperiodendingdate']).sum()"
   ]
  },
  {
   "cell_type": "code",
   "execution_count": null,
   "metadata": {},
   "outputs": [],
   "source": [
    "df.duplicated(subset=['cik','assetnumber','reportingperiodendingdate','originationdate']).sum()"
   ]
  },
  {
   "cell_type": "code",
   "execution_count": null,
   "metadata": {
    "collapsed": true
   },
   "outputs": [],
   "source": [
    "#df.loc[df.duplicated(subset=['cik','assetnumber','reportingperiodendingdate']),:]"
   ]
  },
  {
   "cell_type": "code",
   "execution_count": null,
   "metadata": {},
   "outputs": [],
   "source": [
    "df.duplicated().sum()"
   ]
  },
  {
   "cell_type": "code",
   "execution_count": null,
   "metadata": {
    "collapsed": true
   },
   "outputs": [],
   "source": [
    "df.drop_duplicates(subset=['cik','assetnumber','reportingperiodendingdate','originationdate'],keep='last', inplace=True)"
   ]
  },
  {
   "cell_type": "code",
   "execution_count": null,
   "metadata": {},
   "outputs": [],
   "source": [
    "#df.columns.tolist()\n",
    "df.shape"
   ]
  },
  {
   "cell_type": "code",
   "execution_count": null,
   "metadata": {
    "collapsed": true,
    "scrolled": false
   },
   "outputs": [],
   "source": [
    "#df.info(memory_usage='deep')"
   ]
  },
  {
   "cell_type": "code",
   "execution_count": null,
   "metadata": {
    "collapsed": true
   },
   "outputs": [],
   "source": [
    "#df.memory_usage(deep=True).sum()"
   ]
  },
  {
   "cell_type": "code",
   "execution_count": null,
   "metadata": {
    "collapsed": true
   },
   "outputs": [],
   "source": [
    "#df.dtypes"
   ]
  },
  {
   "cell_type": "code",
   "execution_count": null,
   "metadata": {
    "collapsed": true
   },
   "outputs": [],
   "source": [
    "#df.head()\n",
    "#df=df.sort_values(by='originationdate', ascending=True)"
   ]
  },
  {
   "cell_type": "markdown",
   "metadata": {},
   "source": [
    "# Function to Draw Bar chart"
   ]
  },
  {
   "cell_type": "code",
   "execution_count": null,
   "metadata": {
    "collapsed": true
   },
   "outputs": [],
   "source": [
    "#function to draw a bar chart \n",
    "def draw(data, title, ylabel, sort = False, n=-1):\n",
    "    labels = pd.value_counts(data).head().index.tolist()\n",
    "    count_classes = pd.value_counts(data, sort).head()\n",
    "    count_classes.plot(kind = 'bar', rot=0)\n",
    "    plt.xticks(range(len(labels)), labels)\n",
    "    plt.title(title)\n",
    "    plt.ylabel(ylabel)\n",
    "    plt.show()\n",
    "    print('Top ',n,' counts: ','\\n',pd.value_counts(data, sort).head(n))"
   ]
  },
  {
   "cell_type": "markdown",
   "metadata": {},
   "source": [
    "# Reporting Period"
   ]
  },
  {
   "cell_type": "code",
   "execution_count": null,
   "metadata": {},
   "outputs": [],
   "source": [
    "draw(df.reportingperiodendingdate, title='reporting period endingdate', ylabel='Number of Loans', sort = True, n=100)"
   ]
  },
  {
   "cell_type": "code",
   "execution_count": null,
   "metadata": {
    "collapsed": true
   },
   "outputs": [],
   "source": [
    "# restrict data to a reporting period\n",
    "#df=df[df.index=='2017-11-30']"
   ]
  },
  {
   "cell_type": "markdown",
   "metadata": {},
   "source": [
    "Mean current deliquency days for the reporting period"
   ]
  },
  {
   "cell_type": "code",
   "execution_count": null,
   "metadata": {},
   "outputs": [],
   "source": [
    "df.groupby(df.reportingperiodendingdate).currentdelinquencystatus.mean()"
   ]
  },
  {
   "cell_type": "markdown",
   "metadata": {},
   "source": [
    "Mean ending balance for the reporting period"
   ]
  },
  {
   "cell_type": "code",
   "execution_count": null,
   "metadata": {},
   "outputs": [],
   "source": [
    "df.groupby(df.reportingperiodendingdate).reportingperiodactualendbalanceamount.mean()"
   ]
  },
  {
   "cell_type": "markdown",
   "metadata": {},
   "source": [
    "# Create Features for Reporting period"
   ]
  },
  {
   "cell_type": "code",
   "execution_count": null,
   "metadata": {},
   "outputs": [],
   "source": [
    "# create feature columns for categories within originator name \n",
    "def map_reportingperiodendingdate(*args):\n",
    "    columns = [col for col in args]\n",
    "    for column in columns:\n",
    "        if column == code:\n",
    "            return 1\n",
    "        else:\n",
    "            return 0\n",
    "codes = pd.value_counts(df.reportingperiodendingdate).index.tolist()\n",
    "\n",
    "for code in codes:\n",
    "        df['reportingperiodending_{}'.format(code)] = list(map(map_reportingperiodendingdate, df.reportingperiodendingdate))\n",
    "        print('Added Column for :   reportingperiodending_'+code)\n",
    "print('New Dataframe shape : ', df.shape)"
   ]
  },
  {
   "cell_type": "markdown",
   "metadata": {},
   "source": [
    "# Number of Days Loans Outstanding"
   ]
  },
  {
   "cell_type": "code",
   "execution_count": null,
   "metadata": {},
   "outputs": [],
   "source": [
    "#calculate outstanding days\n",
    "df['outstandingdays'] = pd.to_datetime(df['reportingperiodendingdate'])-pd.to_datetime(df['originationdate'])\n",
    "#draw a chart for visual look and analysis\n",
    "draw(df.outstandingdays, title='Outstanding Days', ylabel='Number of Loans', sort = True, n=5)\n",
    "#remove days string for machine learning\n",
    "df['outstandingdays']=df.outstandingdays.map(lambda x: np.nan if pd.isnull(x) else x.days)\n",
    "#display last five rows\n",
    "#df.outstandingdays.tail()"
   ]
  },
  {
   "cell_type": "code",
   "execution_count": null,
   "metadata": {},
   "outputs": [],
   "source": [
    "# retaining only loans with non-negative outstanding days\n",
    "u=pd.value_counts(df.outstandingdays<0)\n",
    "if len(u)<2:\n",
    "    print('No Loans Below zero outstanding days')\n",
    "else: \n",
    "    print('Number of Loans with negative outstanding days :', u[1])\n",
    "    print('Dropping ', u[1], 'rows and retaining loans with only non-negative outstanding days')\n",
    "    df=df[df.outstandingdays>0]   "
   ]
  },
  {
   "cell_type": "code",
   "execution_count": null,
   "metadata": {},
   "outputs": [],
   "source": [
    "# get statistics for outstanding days\n",
    "df.outstandingdays.describe()"
   ]
  },
  {
   "cell_type": "markdown",
   "metadata": {},
   "source": [
    "Mean outstanding days for the reporting period"
   ]
  },
  {
   "cell_type": "code",
   "execution_count": null,
   "metadata": {},
   "outputs": [],
   "source": [
    "df.groupby(df.reportingperiodendingdate).outstandingdays.mean()"
   ]
  },
  {
   "cell_type": "markdown",
   "metadata": {},
   "source": [
    "# Days Left until Maturity"
   ]
  },
  {
   "cell_type": "code",
   "execution_count": null,
   "metadata": {},
   "outputs": [],
   "source": [
    "#calculate days left until maturity\n",
    "df['daystomaturity'] = pd.to_datetime(df['loanmaturitydate'])-pd.to_datetime(df['reportingperiodendingdate'])\n",
    "draw(df.daystomaturity, title='Days Left Until Maturity', ylabel='Number of Loans', sort=True, n=5)"
   ]
  },
  {
   "cell_type": "code",
   "execution_count": null,
   "metadata": {},
   "outputs": [],
   "source": [
    "# remove days from the data for machine learning\n",
    "df['daystomaturity']=df.daystomaturity.map(lambda x: np.nan if pd.isnull(x) else x.days)\n",
    "# print last five rows\n",
    "df.daystomaturity.tail()"
   ]
  },
  {
   "cell_type": "code",
   "execution_count": null,
   "metadata": {},
   "outputs": [],
   "source": [
    "#retaining only loans with non-negative days to maturity\n",
    "u=pd.value_counts(df.daystomaturity<=0)\n",
    "if len(u)<2:\n",
    "    print('No Loans Below zero outstanding days')\n",
    "else: \n",
    "    print('Number of Loans with negative outstanding days :', u[1])\n",
    "    print('Dropping ', u[1], 'rows and retaining loans with only non-negative outstanding days')\n",
    "    df=df[df.daystomaturity>0]"
   ]
  },
  {
   "cell_type": "code",
   "execution_count": null,
   "metadata": {},
   "outputs": [],
   "source": [
    "#number of rows and columns of the dataframe\n",
    "df.shape"
   ]
  },
  {
   "cell_type": "code",
   "execution_count": null,
   "metadata": {},
   "outputs": [],
   "source": [
    "# statistics for days to maturity\n",
    "df.daystomaturity.describe()"
   ]
  },
  {
   "cell_type": "markdown",
   "metadata": {},
   "source": [
    "Mean days to maturity for the reporting period"
   ]
  },
  {
   "cell_type": "code",
   "execution_count": null,
   "metadata": {},
   "outputs": [],
   "source": [
    "df.groupby(df.reportingperiodendingdate).daystomaturity.mean()"
   ]
  },
  {
   "cell_type": "code",
   "execution_count": null,
   "metadata": {
    "collapsed": true
   },
   "outputs": [],
   "source": [
    "df.drop(['loanmaturitydate'], axis=1, inplace=True)"
   ]
  },
  {
   "cell_type": "markdown",
   "metadata": {},
   "source": [
    "# Origination date"
   ]
  },
  {
   "cell_type": "markdown",
   "metadata": {},
   "source": [
    "# Removing loans before origination cutoff date"
   ]
  },
  {
   "cell_type": "code",
   "execution_count": null,
   "metadata": {},
   "outputs": [],
   "source": [
    "# remove loans with orgination dates set for cut off earlier\n",
    "u=pd.value_counts(df.originationdate<=cutOffForOriginationDate)\n",
    "if len(u)<2:\n",
    "    print('No origination date rows fall before ',cutOffForOriginationDate )\n",
    "else: \n",
    "    print('Number of rows before',cutOffForOriginationDate ,':', u[1])\n",
    "    print('Dropping ', u[1], 'rows and retaining loans with origination dates after', cutOffForOriginationDate)\n",
    "    df=df[df.originationdate>cutOffForOriginationDate]\n",
    "#new number of rows and columns of the dataframe\n",
    "df.shape"
   ]
  },
  {
   "cell_type": "code",
   "execution_count": null,
   "metadata": {},
   "outputs": [],
   "source": [
    "#set origination date as index\n",
    "#df.set_index(['originationdate'])\n",
    "# draw origination date chart\n",
    "draw(df.originationdate, title='Origination Date', ylabel='Number of Loans', sort=True, n=10)"
   ]
  },
  {
   "cell_type": "code",
   "execution_count": null,
   "metadata": {},
   "outputs": [],
   "source": [
    "# statistics for origination date\n",
    "df.originationdate.describe()"
   ]
  },
  {
   "cell_type": "markdown",
   "metadata": {},
   "source": [
    "Top ten mean current deliquncy status by origination date"
   ]
  },
  {
   "cell_type": "code",
   "execution_count": null,
   "metadata": {},
   "outputs": [],
   "source": [
    "df.groupby([df.originationdate, df.reportingperiodendingdate]).currentdelinquencystatus.mean().sort_values().tail(n=10).plot(kind='bar')"
   ]
  },
  {
   "cell_type": "code",
   "execution_count": null,
   "metadata": {},
   "outputs": [],
   "source": [
    "df.groupby(df.originationdate).currentdelinquencystatus.mean().sort_values().tail(n=10).plot(kind='bar')"
   ]
  },
  {
   "cell_type": "markdown",
   "metadata": {},
   "source": [
    "# Originators Name"
   ]
  },
  {
   "cell_type": "code",
   "execution_count": null,
   "metadata": {},
   "outputs": [],
   "source": [
    "df.originatorname.unique()"
   ]
  },
  {
   "cell_type": "code",
   "execution_count": null,
   "metadata": {},
   "outputs": [],
   "source": [
    "# draw charts for originators name\n",
    "draw(df.originatorname, title='Originators Name', ylabel='Number of Loans', sort=True)"
   ]
  },
  {
   "cell_type": "markdown",
   "metadata": {},
   "source": [
    "# Create Features for Originators"
   ]
  },
  {
   "cell_type": "code",
   "execution_count": null,
   "metadata": {
    "collapsed": true
   },
   "outputs": [],
   "source": [
    "df['originatorname']=df.originatorname.astype('category')"
   ]
  },
  {
   "cell_type": "code",
   "execution_count": null,
   "metadata": {},
   "outputs": [],
   "source": [
    "# create feature columns for categories within originator name \n",
    "def map_originatorname(*args):\n",
    "    columns = [col for col in args]\n",
    "    for column in columns:\n",
    "        if column == code:\n",
    "            return 1\n",
    "        else:\n",
    "            return 0\n",
    "codes = pd.value_counts(df.originatorname).index.tolist()\n",
    "\n",
    "for code in codes:\n",
    "        df['originator_{}'.format(code)] = list(map(map_originatorname, df.originatorname))\n",
    "        print('Added Column for :   originator_'+code)\n",
    "print('New Dataframe shape : ', df.shape)"
   ]
  },
  {
   "cell_type": "code",
   "execution_count": null,
   "metadata": {},
   "outputs": [],
   "source": [
    "# drop originator name column\n",
    "df.drop(['originatorname'],axis=1, inplace=True)\n",
    "# new number of rows and columns\n",
    "df.shape"
   ]
  },
  {
   "cell_type": "markdown",
   "metadata": {},
   "source": [
    "# Original Loan Amount"
   ]
  },
  {
   "cell_type": "code",
   "execution_count": null,
   "metadata": {},
   "outputs": [],
   "source": [
    "df.groupby(df.reportingperiodendingdate).originalloanamount.mean()\n"
   ]
  },
  {
   "cell_type": "code",
   "execution_count": null,
   "metadata": {},
   "outputs": [],
   "source": [
    "# draw chart for original loan amount as filered in the next variable(original_loan_in_excess) \n",
    "original_loan_in_excess = 10000\n",
    "draw(df.originalloanamount>original_loan_in_excess, title='Original Loan Amount', ylabel='Number of Loans', sort=True)"
   ]
  },
  {
   "cell_type": "code",
   "execution_count": null,
   "metadata": {},
   "outputs": [],
   "source": [
    "#draw a chart to view distribution of original loan amount\n",
    "bins = np.linspace(0, 80000, 1000)\n",
    "plt.hist(df.originalloanamount, bins, label='Original Loan Amount')\n",
    "plt.legend(loc='upper right')\n",
    "plt.title(\"Original Amount Loaned\")\n",
    "plt.xlabel('Original Loan amount')\n",
    "plt.ylabel('Number of Loans')\n",
    "plt.show()"
   ]
  },
  {
   "cell_type": "code",
   "execution_count": null,
   "metadata": {},
   "outputs": [],
   "source": [
    "# get statistics for original loan amount\n",
    "df.originalloanamount.describe()"
   ]
  },
  {
   "cell_type": "code",
   "execution_count": null,
   "metadata": {},
   "outputs": [],
   "source": [
    "# To remove rows with zero, non-negative or blank values for original loan amount\n",
    "\n",
    "u=pd.value_counts(df.originalloanamount<=0)\n",
    "if len(u)<2:\n",
    "    print('No original loan amount blank or below zero')\n",
    "else: \n",
    "    print('Number of original loan amount rows blank or below zero',':', u[1])\n",
    "    print('Dropping ', u[1], 'rows and retaining loans with original loan amount more than zero')\n",
    "    df=df[df.originalloanamount>0]\n",
    "df.shape"
   ]
  },
  {
   "cell_type": "markdown",
   "metadata": {},
   "source": [
    "# Original Loan Term"
   ]
  },
  {
   "cell_type": "code",
   "execution_count": null,
   "metadata": {},
   "outputs": [],
   "source": [
    "df.groupby(df.reportingperiodendingdate).originalloanterm.mean()"
   ]
  },
  {
   "cell_type": "code",
   "execution_count": null,
   "metadata": {},
   "outputs": [],
   "source": [
    "# draw chart for original loan term based on the input of variable below(original_loan_term_excess)\n",
    "original_loan_term_excess = 48\n",
    "draw(df.originalloanterm>original_loan_term_excess, title='Original Loan Terms', ylabel='Number of Loans',sort=True)"
   ]
  },
  {
   "cell_type": "code",
   "execution_count": null,
   "metadata": {},
   "outputs": [],
   "source": [
    "#chart for the distribution of original loan term\n",
    "bins = np.linspace(0, 84, 12)\n",
    "plt.hist(df.originalloanterm, bins, label='Original Loan Term')\n",
    "plt.legend(loc='upper right')\n",
    "plt.title(\"Original Loan Term\")\n",
    "plt.xlabel('Number of Months')\n",
    "#plt.ylabel('Number of Loans')\n",
    "plt.show()"
   ]
  },
  {
   "cell_type": "code",
   "execution_count": null,
   "metadata": {},
   "outputs": [],
   "source": [
    "#statistics for original loan term\n",
    "df.originalloanterm.describe()"
   ]
  },
  {
   "cell_type": "code",
   "execution_count": null,
   "metadata": {},
   "outputs": [],
   "source": [
    "# remove rows with zero, blank or negative original loan term\n",
    "\n",
    "u=pd.value_counts(df.originalloanterm<=0)\n",
    "if len(u)<2:\n",
    "    print('No original loan term blank or below zero')\n",
    "else: \n",
    "    print('Number of original loan term rows blank or below zero',':', u[1])\n",
    "    print('Dropping ', u[1], 'rows and retaining loans with original loan term more than zero')\n",
    "    df=df[df.originalloanterm>0]\n",
    "# new number of rows and columns of the dataframe\n",
    "df.shape"
   ]
  },
  {
   "cell_type": "markdown",
   "metadata": {},
   "source": [
    "# Original interest rate percentage"
   ]
  },
  {
   "cell_type": "code",
   "execution_count": null,
   "metadata": {},
   "outputs": [],
   "source": [
    "# draw a chart with a filter input as below (originalinterestratepercentage_excess)\n",
    "originalinterestratepercentage_excess = 2.0\n",
    "draw(df.originalinterestratepercentage<originalinterestratepercentage_excess, title='Original Interest Rate Percentage', ylabel='Number of Loans',sort=True)"
   ]
  },
  {
   "cell_type": "code",
   "execution_count": null,
   "metadata": {
    "collapsed": true
   },
   "outputs": [],
   "source": [
    "# get statistics for originalinterestratepercentage\n",
    "#df.originalinterestratepercentage.describe()"
   ]
  },
  {
   "cell_type": "code",
   "execution_count": null,
   "metadata": {},
   "outputs": [],
   "source": [
    "# drop rows with blank or negative original interest rate percentage and research on zero interest rate loans\n",
    "u=pd.value_counts(df.originalinterestratepercentage<0)\n",
    "if len(u)<2:\n",
    "    print('No original interest rate blank or below zero')\n",
    "else: \n",
    "    print('Number of original interest rate rows blank or below zero',':', u[1])\n",
    "    print('Dropping ', u[1], 'rows and retaining loans with original interest rate with non-negative values')\n",
    "    df=df[df.originalinterestratepercentage>=0]\n",
    "df.shape"
   ]
  },
  {
   "cell_type": "markdown",
   "metadata": {},
   "source": [
    "# No interest rate loans"
   ]
  },
  {
   "cell_type": "code",
   "execution_count": null,
   "metadata": {},
   "outputs": [],
   "source": [
    "# view zero original interest rate percentage loans\n",
    "u=pd.value_counts(df.originalinterestratepercentage==0)\n",
    "if len(u)<2:\n",
    "    print('No zero original interest rate percentage')\n",
    "else: \n",
    "    print('Number of zero original interest rate rows',':', u[1])\n",
    "    #print('Dropping ', u[1], 'rows and retaining loans with original interest rate with non-negative values')\n",
    "    #df=df[df.originalinterestratepercentage>=0]\n",
    "df.shape"
   ]
  },
  {
   "cell_type": "markdown",
   "metadata": {},
   "source": [
    "# Underwriting Indicator"
   ]
  },
  {
   "cell_type": "code",
   "execution_count": null,
   "metadata": {},
   "outputs": [],
   "source": [
    "df.underwritingindicator.unique()"
   ]
  },
  {
   "cell_type": "code",
   "execution_count": null,
   "metadata": {
    "collapsed": true
   },
   "outputs": [],
   "source": [
    "df['underwritingindicator']=df.underwritingindicator.astype('category')"
   ]
  },
  {
   "cell_type": "code",
   "execution_count": null,
   "metadata": {},
   "outputs": [],
   "source": [
    "draw(df.underwritingindicator, title='Underwriting Indicator', ylabel='Number of Loans', sort=True)"
   ]
  },
  {
   "cell_type": "markdown",
   "metadata": {},
   "source": [
    "Create Feature Column for Underwriting TRUE"
   ]
  },
  {
   "cell_type": "code",
   "execution_count": null,
   "metadata": {},
   "outputs": [],
   "source": [
    "def map_underwriting_true(*args):\n",
    "    columns = [col for col in args]\n",
    "    for column in columns:\n",
    "        if column == True:\n",
    "            return 1\n",
    "        elif column == False:\n",
    "            return 0\n",
    "        \n",
    "df['underwriting_true'] = list(map(map_underwriting_true, df.underwritingindicator))\n",
    "df.drop(['underwritingindicator'], axis=1, inplace=True)\n",
    "pd.value_counts(df.underwriting_true)"
   ]
  },
  {
   "cell_type": "markdown",
   "metadata": {},
   "source": [
    "# Subvented"
   ]
  },
  {
   "cell_type": "code",
   "execution_count": null,
   "metadata": {},
   "outputs": [],
   "source": [
    "df.subvented.unique()"
   ]
  },
  {
   "cell_type": "code",
   "execution_count": null,
   "metadata": {
    "collapsed": true
   },
   "outputs": [],
   "source": [
    "df['subvented']=df.subvented.astype('category')"
   ]
  },
  {
   "cell_type": "code",
   "execution_count": null,
   "metadata": {},
   "outputs": [],
   "source": [
    "draw(df.subvented, title='Subvented', ylabel='Number of Loans', sort=True)"
   ]
  },
  {
   "cell_type": "code",
   "execution_count": null,
   "metadata": {},
   "outputs": [],
   "source": [
    "df.subvented.describe(include='all')"
   ]
  },
  {
   "cell_type": "markdown",
   "metadata": {},
   "source": [
    "Create Feature Column for Subvented"
   ]
  },
  {
   "cell_type": "code",
   "execution_count": null,
   "metadata": {},
   "outputs": [],
   "source": [
    "# create feature columns for subvented\n",
    "def map_subvented(*args):\n",
    "    columns = [col for col in args]\n",
    "    for column in columns:\n",
    "        if column == code:\n",
    "            return 1\n",
    "        else:\n",
    "            return 0\n",
    "codes = pd.value_counts(df.subvented).index.tolist()\n",
    "\n",
    "for code in codes:\n",
    "        df['subvented_{}'.format(code)] = list(map(map_subvented, df.subvented))\n",
    "        print('Added Column for :   subvented_'+code)\n",
    "print('New Dataframe shape : ', df.shape)\n",
    "df.drop(['subvented'], axis=1, inplace=True)"
   ]
  },
  {
   "cell_type": "markdown",
   "metadata": {},
   "source": [
    "# Vehicle New or Used code"
   ]
  },
  {
   "cell_type": "code",
   "execution_count": null,
   "metadata": {},
   "outputs": [],
   "source": [
    "df.vehiclenewusedcode.unique()"
   ]
  },
  {
   "cell_type": "code",
   "execution_count": null,
   "metadata": {
    "collapsed": true
   },
   "outputs": [],
   "source": [
    "df['vehiclenewusedcode']=df.vehiclenewusedcode.astype('category')"
   ]
  },
  {
   "cell_type": "code",
   "execution_count": null,
   "metadata": {},
   "outputs": [],
   "source": [
    "draw(df.vehiclenewusedcode, title='Vehicle New or Used code', ylabel='Number of Loans', sort=True)"
   ]
  },
  {
   "cell_type": "markdown",
   "metadata": {},
   "source": [
    "# Create Feature Column for New or Used"
   ]
  },
  {
   "cell_type": "code",
   "execution_count": null,
   "metadata": {},
   "outputs": [],
   "source": [
    "def map_vehiclenewusedcode_true(*args):\n",
    "    columns = [col for col in args]\n",
    "    for column in columns:\n",
    "        if column == 1:\n",
    "            return 1\n",
    "        else:\n",
    "            return 0\n",
    "        \n",
    "df['vehiclenew_true'] = list(map(map_vehiclenewusedcode_true, df.vehiclenewusedcode))\n",
    "df.drop(['vehiclenewusedcode'], axis=1, inplace=True)\n",
    "pd.value_counts(df.vehiclenew_true)"
   ]
  },
  {
   "cell_type": "markdown",
   "metadata": {},
   "source": [
    "# Vehicle Type code"
   ]
  },
  {
   "cell_type": "code",
   "execution_count": null,
   "metadata": {},
   "outputs": [],
   "source": [
    "df.vehicletypecode.unique()"
   ]
  },
  {
   "cell_type": "code",
   "execution_count": null,
   "metadata": {
    "collapsed": true
   },
   "outputs": [],
   "source": [
    "df['vehicletypecode']=df.vehicletypecode.astype('category')"
   ]
  },
  {
   "cell_type": "code",
   "execution_count": null,
   "metadata": {},
   "outputs": [],
   "source": [
    "draw(df.vehicletypecode, title='Vehicle Type Code', ylabel='Number of Loans', sort=True)"
   ]
  },
  {
   "cell_type": "code",
   "execution_count": null,
   "metadata": {},
   "outputs": [],
   "source": [
    "df.vehicletypecode.describe()"
   ]
  },
  {
   "cell_type": "code",
   "execution_count": null,
   "metadata": {},
   "outputs": [],
   "source": [
    "df.drop(['vehicletypecode'],axis=1, inplace=True)\n",
    "df.shape"
   ]
  },
  {
   "cell_type": "markdown",
   "metadata": {},
   "source": [
    "# Obligor Credit Score Type"
   ]
  },
  {
   "cell_type": "code",
   "execution_count": null,
   "metadata": {},
   "outputs": [],
   "source": [
    "df.obligorcreditscoretype.unique()"
   ]
  },
  {
   "cell_type": "code",
   "execution_count": null,
   "metadata": {
    "collapsed": true
   },
   "outputs": [],
   "source": [
    "df['obligorcreditscoretype']=df.obligorcreditscoretype.astype('category')"
   ]
  },
  {
   "cell_type": "code",
   "execution_count": null,
   "metadata": {},
   "outputs": [],
   "source": [
    "draw(df.obligorcreditscoretype, title='Obligor Credit Score Type', ylabel='Number of Loans', sort=True)"
   ]
  },
  {
   "cell_type": "code",
   "execution_count": null,
   "metadata": {},
   "outputs": [],
   "source": [
    "df.obligorcreditscoretype.describe()"
   ]
  },
  {
   "cell_type": "code",
   "execution_count": null,
   "metadata": {},
   "outputs": [],
   "source": [
    "pd.value_counts(df.obligorcreditscoretype==0)"
   ]
  },
  {
   "cell_type": "markdown",
   "metadata": {},
   "source": [
    "Create features for obligator credit score type"
   ]
  },
  {
   "cell_type": "code",
   "execution_count": null,
   "metadata": {
    "collapsed": true
   },
   "outputs": [],
   "source": [
    "def map_obligorcreditscoretype(*args):\n",
    "    columns = [col for col in args]\n",
    "    for column in columns:\n",
    "        if column == code:\n",
    "            return 1\n",
    "        else:\n",
    "            return 0\n",
    "codes = pd.value_counts(df.obligorcreditscoretype).index.tolist()\n",
    "\n",
    "for code in codes:\n",
    "        df['credit_type_{}'.format(code)] = list(map(map_obligorcreditscoretype, df.obligorcreditscoretype))"
   ]
  },
  {
   "cell_type": "code",
   "execution_count": null,
   "metadata": {},
   "outputs": [],
   "source": [
    "df.drop(['obligorcreditscoretype'], axis=1, inplace=True)\n",
    "df.shape"
   ]
  },
  {
   "cell_type": "markdown",
   "metadata": {},
   "source": [
    "# Obligor Credit Score"
   ]
  },
  {
   "cell_type": "code",
   "execution_count": null,
   "metadata": {
    "collapsed": true
   },
   "outputs": [],
   "source": [
    "#df.obligorcreditscore.isnull().values.any()"
   ]
  },
  {
   "cell_type": "code",
   "execution_count": null,
   "metadata": {
    "collapsed": true
   },
   "outputs": [],
   "source": [
    "#df.obligorcreditscore.value_counts(dropna=False).sort_values(ascending=False).head()"
   ]
  },
  {
   "cell_type": "code",
   "execution_count": null,
   "metadata": {
    "collapsed": true
   },
   "outputs": [],
   "source": [
    "#df.obligorcreditscore.value_counts('NaN').head()"
   ]
  },
  {
   "cell_type": "code",
   "execution_count": null,
   "metadata": {},
   "outputs": [],
   "source": [
    "draw(df.obligorcreditscore, title='Obligor Credit Score', ylabel='Number of Loans', sort=True, n=10)"
   ]
  },
  {
   "cell_type": "code",
   "execution_count": null,
   "metadata": {},
   "outputs": [],
   "source": [
    "df.obligorcreditscore.describe()"
   ]
  },
  {
   "cell_type": "code",
   "execution_count": null,
   "metadata": {},
   "outputs": [],
   "source": [
    "#search for strings in the columns\n",
    "q=df.obligorcreditscore.astype(str).str.contains(r'^([^0-9]*)$', na=False).sum()\n",
    "print('Number of Strings in the Columns : ', q)\n",
    "if q > 0:\n",
    "    u=df[df.obligorcreditscore.astype(str).str.contains(r'^([^0-9]*)$', na=False)].obligorcreditscore.unique()\n",
    "    print('Strings in data : ', u)\n",
    "    df=df[~df.obligorcreditscore.astype(str).str.contains(r'^([^0-9]*)$', na=False)]\n",
    "else:\n",
    "    print('No strings in the Obligor Credit Score')\n",
    "    \n"
   ]
  },
  {
   "cell_type": "code",
   "execution_count": null,
   "metadata": {},
   "outputs": [],
   "source": [
    "#Number of blanks in the column\n",
    "df.obligorcreditscore.astype(str).str.contains(r'^(\\s+)$').sum()"
   ]
  },
  {
   "cell_type": "code",
   "execution_count": null,
   "metadata": {
    "collapsed": true
   },
   "outputs": [],
   "source": [
    "#pd.crosstab(df.reportingperiodendingdate, df.obligorcreditscore)"
   ]
  },
  {
   "cell_type": "code",
   "execution_count": null,
   "metadata": {
    "collapsed": true
   },
   "outputs": [],
   "source": [
    "\n",
    "#df=df[~df.obligorcreditscore.str.contains(r'^([^0-9]*)$', na=False)]"
   ]
  },
  {
   "cell_type": "code",
   "execution_count": null,
   "metadata": {},
   "outputs": [],
   "source": [
    "df.isnull().sum()"
   ]
  },
  {
   "cell_type": "code",
   "execution_count": null,
   "metadata": {
    "collapsed": true
   },
   "outputs": [],
   "source": [
    "#df.obligorcreditscore.isnull().value_counts()"
   ]
  },
  {
   "cell_type": "code",
   "execution_count": null,
   "metadata": {
    "collapsed": true
   },
   "outputs": [],
   "source": [
    "#df[df.obligorcreditscore.isnull()]"
   ]
  },
  {
   "cell_type": "code",
   "execution_count": null,
   "metadata": {
    "collapsed": true
   },
   "outputs": [],
   "source": [
    "df=df.dropna(subset=['obligorcreditscore'])"
   ]
  },
  {
   "cell_type": "code",
   "execution_count": null,
   "metadata": {},
   "outputs": [],
   "source": [
    "df.obligorcreditscore.value_counts(dropna=False).sort_values(ascending=False).head()"
   ]
  },
  {
   "cell_type": "code",
   "execution_count": null,
   "metadata": {},
   "outputs": [],
   "source": [
    "df.obligorcreditscore.isnull().values.any()"
   ]
  },
  {
   "cell_type": "code",
   "execution_count": null,
   "metadata": {},
   "outputs": [],
   "source": [
    "df.dtypes"
   ]
  },
  {
   "cell_type": "code",
   "execution_count": null,
   "metadata": {
    "collapsed": true
   },
   "outputs": [],
   "source": []
  },
  {
   "cell_type": "markdown",
   "metadata": {},
   "source": [
    "# Obligor Income Verification Level Code"
   ]
  },
  {
   "cell_type": "code",
   "execution_count": null,
   "metadata": {
    "collapsed": true
   },
   "outputs": [],
   "source": [
    "df['obligorincomeverificationlevelcode']=df.obligorincomeverificationlevelcode.astype('category')"
   ]
  },
  {
   "cell_type": "code",
   "execution_count": null,
   "metadata": {},
   "outputs": [],
   "source": [
    "draw(df.obligorincomeverificationlevelcode, title='Obligor Credit Score', ylabel='Number of Loans', sort=True)"
   ]
  },
  {
   "cell_type": "code",
   "execution_count": null,
   "metadata": {},
   "outputs": [],
   "source": [
    "df.obligorincomeverificationlevelcode.describe()"
   ]
  },
  {
   "cell_type": "code",
   "execution_count": null,
   "metadata": {},
   "outputs": [],
   "source": [
    "pd.value_counts(df.obligorincomeverificationlevelcode)"
   ]
  },
  {
   "cell_type": "code",
   "execution_count": null,
   "metadata": {},
   "outputs": [],
   "source": [
    "u=pd.value_counts(df.obligorincomeverificationlevelcode==0)\n",
    "if len(u)<2:\n",
    "    print('No blank or zero obligor income verification level code')\n",
    "else: \n",
    "    print('Number of loans with no obligor income verification level code',':', u[1])\n",
    "    print('Dropping ', u[1], 'rows and retaining loans with obligor income verification level code')\n",
    "    df=df[df.obligorincomeverificationlevelcode>0]\n",
    "df.shape"
   ]
  },
  {
   "cell_type": "markdown",
   "metadata": {},
   "source": [
    "# Create Feature Columns for Obligor Income Verification Code"
   ]
  },
  {
   "cell_type": "code",
   "execution_count": null,
   "metadata": {
    "collapsed": true
   },
   "outputs": [],
   "source": [
    "def map_obligorincomeverificationlevelcode(*args):\n",
    "    columns = [col for col in args]\n",
    "    for column in columns:\n",
    "        if column == code:\n",
    "            return 1\n",
    "        else:\n",
    "            return 0\n",
    "codes = pd.value_counts(df.obligorincomeverificationlevelcode).index.tolist()\n",
    "\n",
    "for code in codes:\n",
    "        df['income_code{}'.format(code)] = list(map(map_obligorincomeverificationlevelcode, df.obligorincomeverificationlevelcode))\n"
   ]
  },
  {
   "cell_type": "code",
   "execution_count": null,
   "metadata": {
    "collapsed": true
   },
   "outputs": [],
   "source": [
    "df.drop(['obligorincomeverificationlevelcode'], axis=1, inplace=True)"
   ]
  },
  {
   "cell_type": "markdown",
   "metadata": {},
   "source": [
    "# Obligor Employment Verification Code"
   ]
  },
  {
   "cell_type": "code",
   "execution_count": null,
   "metadata": {
    "collapsed": true
   },
   "outputs": [],
   "source": [
    "df['obligoremploymentverificationcode']=df.obligoremploymentverificationcode.astype('category')"
   ]
  },
  {
   "cell_type": "code",
   "execution_count": null,
   "metadata": {},
   "outputs": [],
   "source": [
    "draw(df.obligoremploymentverificationcode, title='Obligor Employment Verification Code', ylabel='Number of Loans', sort=True)"
   ]
  },
  {
   "cell_type": "code",
   "execution_count": null,
   "metadata": {
    "collapsed": true
   },
   "outputs": [],
   "source": [
    "#pd.value_counts(df.obligoremploymentverificationcode==0)"
   ]
  },
  {
   "cell_type": "code",
   "execution_count": null,
   "metadata": {},
   "outputs": [],
   "source": [
    "df.obligoremploymentverificationcode.describe()"
   ]
  },
  {
   "cell_type": "code",
   "execution_count": null,
   "metadata": {},
   "outputs": [],
   "source": [
    "u=pd.value_counts(df.obligoremploymentverificationcode==0)\n",
    "if len(u)<2:\n",
    "    print('No blank or zero obligor employment verification level code')\n",
    "else: \n",
    "    print('Number of loans with no obligor employment verification level code',':', u[1])\n",
    "    print('Dropping ', u[1], 'rows and retaining loans with obligor employment verification level code')\n",
    "    df=df[df.obligoremploymentverificationcode>0]\n",
    "df.shape"
   ]
  },
  {
   "cell_type": "markdown",
   "metadata": {},
   "source": [
    "# Create feature Columns for obligor employment verification"
   ]
  },
  {
   "cell_type": "code",
   "execution_count": null,
   "metadata": {
    "collapsed": true
   },
   "outputs": [],
   "source": [
    "def map_obligoremploymentverificationcode(*args):\n",
    "    columns = [col for col in args]\n",
    "    for column in columns:\n",
    "        if column == code:\n",
    "            return 1\n",
    "        else:\n",
    "            return 0\n",
    "codes = pd.value_counts(df.obligoremploymentverificationcode).index.tolist()\n",
    "\n",
    "for code in codes:\n",
    "        df['empl_code{}'.format(code)] = list(map(map_obligoremploymentverificationcode, df.obligoremploymentverificationcode))\n"
   ]
  },
  {
   "cell_type": "code",
   "execution_count": null,
   "metadata": {
    "collapsed": true
   },
   "outputs": [],
   "source": [
    "df.drop(['obligoremploymentverificationcode'], axis=1, inplace=True)"
   ]
  },
  {
   "cell_type": "markdown",
   "metadata": {},
   "source": [
    "# Co-obligator Indicator"
   ]
  },
  {
   "cell_type": "code",
   "execution_count": null,
   "metadata": {
    "collapsed": true
   },
   "outputs": [],
   "source": [
    "df['coobligorindicator']=df.coobligorindicator.astype('category')"
   ]
  },
  {
   "cell_type": "code",
   "execution_count": null,
   "metadata": {},
   "outputs": [],
   "source": [
    "df.coobligorindicator.describe()"
   ]
  },
  {
   "cell_type": "code",
   "execution_count": null,
   "metadata": {},
   "outputs": [],
   "source": [
    "draw(df.coobligorindicator, title='Co-Obligator Indicator', ylabel='Number of Loans', sort=True)"
   ]
  },
  {
   "cell_type": "markdown",
   "metadata": {},
   "source": [
    "# Create features for Co-obligator Indicator True"
   ]
  },
  {
   "cell_type": "code",
   "execution_count": null,
   "metadata": {},
   "outputs": [],
   "source": [
    "def map_coobligorindicator_true(*args):\n",
    "    columns = [col for col in args]\n",
    "    for column in columns:\n",
    "        if column == 1:\n",
    "            return 1\n",
    "        else:\n",
    "            return 0\n",
    "        \n",
    "df['coobligorindicator_true'] = list(map(map_coobligorindicator_true, df.coobligorindicator))\n",
    "df.drop(['coobligorindicator'], axis=1, inplace=True)\n",
    "pd.value_counts(df.coobligorindicator_true)"
   ]
  },
  {
   "cell_type": "markdown",
   "metadata": {},
   "source": [
    "# Reporting Period Actual End Balance Amount"
   ]
  },
  {
   "cell_type": "markdown",
   "metadata": {},
   "source": [
    "Mean reporting period actual end balance amount by the reporting period ending date"
   ]
  },
  {
   "cell_type": "code",
   "execution_count": null,
   "metadata": {},
   "outputs": [],
   "source": [
    "df.groupby(df.reportingperiodendingdate).reportingperiodactualendbalanceamount.mean().plot(kind='bar')"
   ]
  },
  {
   "cell_type": "code",
   "execution_count": null,
   "metadata": {
    "collapsed": true
   },
   "outputs": [],
   "source": [
    "#draw(df.reportingperiodactualendbalanceamount, title='Reporting Period Actual End Balance Amount', ylabel='Number of Loans', sort=True)"
   ]
  },
  {
   "cell_type": "code",
   "execution_count": null,
   "metadata": {},
   "outputs": [],
   "source": [
    "df.reportingperiodactualendbalanceamount.describe()"
   ]
  },
  {
   "cell_type": "code",
   "execution_count": null,
   "metadata": {},
   "outputs": [],
   "source": [
    "u=pd.value_counts(df.reportingperiodactualendbalanceamount<=0)\n",
    "if len(u)<2:\n",
    "    print('No blank or zero or negative reporting period actual end balance amount')\n",
    "else: \n",
    "    print('Number of loans with no reporting period actual end balance amount',':', u[1])\n",
    "    print('Dropping ', u[1], 'rows and retaining loans with reporting period actual end balance amount')\n",
    "    df=df[df.reportingperiodactualendbalanceamount>0]\n",
    "df.shape"
   ]
  },
  {
   "cell_type": "markdown",
   "metadata": {},
   "source": [
    "# Total Actual amount paid"
   ]
  },
  {
   "cell_type": "code",
   "execution_count": null,
   "metadata": {},
   "outputs": [],
   "source": [
    "df.totalactualamountpaid.describe()"
   ]
  },
  {
   "cell_type": "code",
   "execution_count": null,
   "metadata": {},
   "outputs": [],
   "source": [
    "u=pd.value_counts(df.totalactualamountpaid<=0)\n",
    "if len(u)<2:\n",
    "    print('No blank or zero or negative total actual amount paid')\n",
    "else: \n",
    "    print('Number of loans with no or negative total actual amount paid',':', u[1])\n",
    "    #print('Dropping ', u[1], 'rows and retaining loans with positive total actual amount paid')\n",
    "    #df=df[df.totalactualamountpaid>0]\n",
    "df.shape"
   ]
  },
  {
   "cell_type": "markdown",
   "metadata": {},
   "source": [
    "# Actual interest collected amount"
   ]
  },
  {
   "cell_type": "code",
   "execution_count": null,
   "metadata": {},
   "outputs": [],
   "source": [
    "df.actualinterestcollectedamount.describe()"
   ]
  },
  {
   "cell_type": "code",
   "execution_count": null,
   "metadata": {},
   "outputs": [],
   "source": [
    "u=pd.value_counts(df.actualinterestcollectedamount<=0)\n",
    "if len(u)<2:\n",
    "    print('No blank or zero actual interest collected amount')\n",
    "else: \n",
    "    print('Number of loans with no or negative actual interest collected amount',':', u[1])\n",
    "    #print('Dropping ', u[1], 'rows and retaining loans with positive actual interest collected amount')\n",
    "    #df=df[df.actualinterestcollectedamount>0]\n",
    "df.shape"
   ]
  },
  {
   "cell_type": "markdown",
   "metadata": {},
   "source": [
    "# Actual principal collected amount"
   ]
  },
  {
   "cell_type": "code",
   "execution_count": null,
   "metadata": {},
   "outputs": [],
   "source": [
    "df.actualprincipalcollectedamount.describe()"
   ]
  },
  {
   "cell_type": "code",
   "execution_count": null,
   "metadata": {},
   "outputs": [],
   "source": [
    "u=pd.value_counts(df.actualprincipalcollectedamount<=0)\n",
    "if len(u)<2:\n",
    "    print('No blank or zero actual principal collected amount')\n",
    "else: \n",
    "    print('Number of loans with zero or negative actual principal collected amount',':', u[1])\n",
    "    #print('Dropping ', u[1], 'rows and retaining loans with positive actual principal collected amount')\n",
    "    #df=df[df.actualprincipalcollectedamount>0]\n",
    "df.shape"
   ]
  },
  {
   "cell_type": "markdown",
   "metadata": {},
   "source": [
    "# Interest paid through date"
   ]
  },
  {
   "cell_type": "code",
   "execution_count": null,
   "metadata": {},
   "outputs": [],
   "source": [
    "pd.value_counts(df.interestpaidthroughdate).head(n=10)"
   ]
  },
  {
   "cell_type": "code",
   "execution_count": null,
   "metadata": {},
   "outputs": [],
   "source": [
    "df.interestpaidthroughdate.describe()"
   ]
  },
  {
   "cell_type": "code",
   "execution_count": null,
   "metadata": {},
   "outputs": [],
   "source": [
    "u=pd.value_counts(df.interestpaidthroughdate=='1900-01-01')\n",
    "if len(u)<2:\n",
    "    print('No blank or zero interest paid throughdate as 1900-01-01')\n",
    "else: \n",
    "    print('Number of loans with zero or 1900-01-01 as  interest paid throughdate',':', u[1])\n",
    "    #print('Dropping ', u[1], 'rows and retaining loans with correct interest paid throughdate')\n",
    "    #df=df[df.interestpaidthroughdate>'1900-01-01']\n",
    "df.shape"
   ]
  },
  {
   "cell_type": "code",
   "execution_count": null,
   "metadata": {},
   "outputs": [],
   "source": [
    "df.drop(['interestpaidthroughdate'], axis=1, inplace=True)\n",
    "df.shape"
   ]
  },
  {
   "cell_type": "markdown",
   "metadata": {},
   "source": [
    "# Days from origination to first payment date"
   ]
  },
  {
   "cell_type": "code",
   "execution_count": null,
   "metadata": {},
   "outputs": [],
   "source": [
    "df['daystofirstpayment'] = pd.to_datetime(df['originalfirstpaymentdate'])-pd.to_datetime(df['originationdate'])\n",
    "#draw a chart for visual look and analysis\n",
    "draw(df.daystofirstpayment, title='Days to First Payment', ylabel='Number of Loans', sort = True)\n"
   ]
  },
  {
   "cell_type": "code",
   "execution_count": null,
   "metadata": {},
   "outputs": [],
   "source": [
    "df.daystofirstpayment.describe()"
   ]
  },
  {
   "cell_type": "code",
   "execution_count": null,
   "metadata": {},
   "outputs": [],
   "source": [
    "#remove days string for machine learning\n",
    "df['daystofirstpayment']=df.daystofirstpayment.map(lambda x: np.nan if pd.isnull(x) else x.days)\n",
    "#display last five rows\n",
    "df.daystofirstpayment.tail()"
   ]
  },
  {
   "cell_type": "code",
   "execution_count": null,
   "metadata": {},
   "outputs": [],
   "source": [
    "u=pd.value_counts(df.daystofirstpayment==0)\n",
    "if len(u)<2:\n",
    "    print('No blank or zero days to first payment')\n",
    "else: \n",
    "    print('Number of loans with zero days to first payment',':', u[1])\n",
    "    #print('Dropping ', u[1], 'rows and retaining loans with positive total actual amount paid')\n",
    "    #df=df[df.daystofirstpayment>0]\n",
    "df.shape"
   ]
  },
  {
   "cell_type": "code",
   "execution_count": null,
   "metadata": {},
   "outputs": [],
   "source": [
    "df.drop(['originalfirstpaymentdate'], axis=1, inplace=True)\n",
    "df.shape"
   ]
  },
  {
   "cell_type": "markdown",
   "metadata": {},
   "source": [
    "# Grace Period"
   ]
  },
  {
   "cell_type": "code",
   "execution_count": null,
   "metadata": {},
   "outputs": [],
   "source": [
    "draw(df.graceperiodnumber, title='Grace period Number', ylabel='Number of Loans', sort = True)"
   ]
  },
  {
   "cell_type": "code",
   "execution_count": null,
   "metadata": {},
   "outputs": [],
   "source": [
    "df.graceperiodnumber.describe()"
   ]
  },
  {
   "cell_type": "code",
   "execution_count": null,
   "metadata": {},
   "outputs": [],
   "source": [
    "u=pd.value_counts(df.graceperiodnumber==0)\n",
    "if len(u)<2:\n",
    "    print('No blank or zero grace period number')\n",
    "else: \n",
    "    print('Number of loans with zero grace period number',':', u[1])\n",
    "    #print('Dropping ', u[1], 'rows and retaining loans with positive grace period number')\n",
    "    #df=df[df.graceperiodnumber>0]\n",
    "df.shape"
   ]
  },
  {
   "cell_type": "markdown",
   "metadata": {},
   "source": [
    "# Asset added indicator"
   ]
  },
  {
   "cell_type": "code",
   "execution_count": null,
   "metadata": {
    "collapsed": true
   },
   "outputs": [],
   "source": [
    "df['assetaddedindicator']=df.assetaddedindicator.astype('category')"
   ]
  },
  {
   "cell_type": "code",
   "execution_count": null,
   "metadata": {},
   "outputs": [],
   "source": [
    "draw(df.assetaddedindicator, title='Asset Added Indicator', ylabel='Number of Loans', sort = True)"
   ]
  },
  {
   "cell_type": "code",
   "execution_count": null,
   "metadata": {},
   "outputs": [],
   "source": [
    "df.assetaddedindicator.describe()"
   ]
  },
  {
   "cell_type": "code",
   "execution_count": null,
   "metadata": {},
   "outputs": [],
   "source": [
    "u=pd.value_counts(df.assetaddedindicator!=False)\n",
    "if len(u)<2:\n",
    "    print('No blank or zero Asset Added Indicator')\n",
    "else: \n",
    "    print('Number of loans with zero or blank Asset Added Indicator',':', u[1])\n",
    "    #print('Dropping ', u[1], 'rows and retaining loans with positive asset added indicator')\n",
    "    #df=df[df.assetaddedindicator>0]\n",
    "df.shape"
   ]
  },
  {
   "cell_type": "code",
   "execution_count": null,
   "metadata": {},
   "outputs": [],
   "source": [
    "df.drop(['assetaddedindicator'], axis=1, inplace=True)\n",
    "df.shape"
   ]
  },
  {
   "cell_type": "markdown",
   "metadata": {},
   "source": [
    "# Reporting Period Modification Indicator"
   ]
  },
  {
   "cell_type": "code",
   "execution_count": null,
   "metadata": {
    "collapsed": true
   },
   "outputs": [],
   "source": [
    "df['reportingperiodmodificationindicator']=df.reportingperiodmodificationindicator.astype('category')"
   ]
  },
  {
   "cell_type": "code",
   "execution_count": null,
   "metadata": {},
   "outputs": [],
   "source": [
    "draw(df.reportingperiodmodificationindicator, title='Reporting Period Modification Error', ylabel='Number of Loans', sort = True)"
   ]
  },
  {
   "cell_type": "code",
   "execution_count": null,
   "metadata": {},
   "outputs": [],
   "source": [
    "df.reportingperiodmodificationindicator.describe()"
   ]
  },
  {
   "cell_type": "markdown",
   "metadata": {},
   "source": [
    "# Create Features for Reporting Period Modification Indicator True"
   ]
  },
  {
   "cell_type": "code",
   "execution_count": null,
   "metadata": {},
   "outputs": [],
   "source": [
    "def map_reportingperiodmodificationindicator_true(*args):\n",
    "    columns = [col for col in args]\n",
    "    for column in columns:\n",
    "        if column == 1:\n",
    "            return 1\n",
    "        else:\n",
    "            return 0\n",
    "        \n",
    "df['reportingperiodmodificationindicator_true'] = list(map(map_reportingperiodmodificationindicator_true, df.reportingperiodmodificationindicator))\n",
    "df.drop(['reportingperiodmodificationindicator'], axis=1, inplace=True)\n",
    "pd.value_counts(df.reportingperiodmodificationindicator_true)"
   ]
  },
  {
   "cell_type": "code",
   "execution_count": null,
   "metadata": {},
   "outputs": [],
   "source": [
    "df.shape"
   ]
  },
  {
   "cell_type": "markdown",
   "metadata": {},
   "source": [
    "# Servicing Advance Method Code"
   ]
  },
  {
   "cell_type": "code",
   "execution_count": null,
   "metadata": {
    "collapsed": true
   },
   "outputs": [],
   "source": [
    "df['servicingadvancemethodcode']=df.servicingadvancemethodcode.astype('category')"
   ]
  },
  {
   "cell_type": "code",
   "execution_count": null,
   "metadata": {},
   "outputs": [],
   "source": [
    "draw(df.servicingadvancemethodcode, title='Serving Advance Method Code', ylabel='Number of Loans', sort = True)"
   ]
  },
  {
   "cell_type": "code",
   "execution_count": null,
   "metadata": {},
   "outputs": [],
   "source": [
    "df.servicingadvancemethodcode.describe()"
   ]
  },
  {
   "cell_type": "markdown",
   "metadata": {},
   "source": [
    "# Create Feature Columns for Servicing Advance Method Codes"
   ]
  },
  {
   "cell_type": "code",
   "execution_count": null,
   "metadata": {
    "collapsed": true
   },
   "outputs": [],
   "source": [
    "def map_servicingadvancemethodcode(*args):\n",
    "    columns = [col for col in args]\n",
    "    for column in columns:\n",
    "        if column == code:\n",
    "            return 1\n",
    "        else:\n",
    "            return 0\n",
    "codes = pd.value_counts(df.servicingadvancemethodcode).index.tolist()\n",
    "\n",
    "for code in codes:\n",
    "        df['servicingadvancemethod_code{}'.format(code)] = list(map(map_servicingadvancemethodcode, df.servicingadvancemethodcode))\n"
   ]
  },
  {
   "cell_type": "code",
   "execution_count": null,
   "metadata": {},
   "outputs": [],
   "source": [
    "df.drop(['servicingadvancemethodcode'], axis=1, inplace=True)\n",
    "df.shape"
   ]
  },
  {
   "cell_type": "markdown",
   "metadata": {},
   "source": [
    "# Other Principal Adjustment Amount"
   ]
  },
  {
   "cell_type": "code",
   "execution_count": null,
   "metadata": {},
   "outputs": [],
   "source": [
    "df.otherprincipaladjustmentamount.describe()"
   ]
  },
  {
   "cell_type": "code",
   "execution_count": null,
   "metadata": {},
   "outputs": [],
   "source": [
    "u=pd.value_counts(df.otherprincipaladjustmentamount!=True)\n",
    "if len(u)<2:\n",
    "    print('No blank other principal adjustment amount')\n",
    "else: \n",
    "    print('Number of loans with zero other principal adjustment amount',':', u[1])\n",
    "    #print('Dropping ', u[1], 'rows and retaining loans with other principal adjustment amount')\n",
    "    #df=df[df.otherprincipaladjustmentamount>0]\n",
    "df.shape"
   ]
  },
  {
   "cell_type": "markdown",
   "metadata": {},
   "source": [
    "# Zero Balance Effective Date"
   ]
  },
  {
   "cell_type": "code",
   "execution_count": null,
   "metadata": {},
   "outputs": [],
   "source": [
    "df.zerobalanceeffectivedate.describe()"
   ]
  },
  {
   "cell_type": "markdown",
   "metadata": {
    "collapsed": true
   },
   "source": [
    "# Creating new feature column for zero balance effective date"
   ]
  },
  {
   "cell_type": "code",
   "execution_count": null,
   "metadata": {
    "collapsed": true
   },
   "outputs": [],
   "source": [
    "for i in pd.value_counts(df.zerobalanceeffectivedate).keys().tolist():\n",
    "    if i>cutOffForOriginationDate:\n",
    "        df['zerobalanceeffectivedate_calc'] = pd.to_datetime(df['zerobalanceeffectivedate'])-pd.to_datetime(df['originationdate'])\n",
    "df['zerobalanceeffectivedate_calc']=df.zerobalanceeffectivedate_calc.map(lambda x: np.nan if pd.isnull(x) else x.days)\n",
    "#df.zerobalanceeffectivedate_calc.replace(np.nan, 0, inplace = True)"
   ]
  },
  {
   "cell_type": "code",
   "execution_count": null,
   "metadata": {},
   "outputs": [],
   "source": [
    "df.zerobalanceeffectivedate_calc.describe()"
   ]
  },
  {
   "cell_type": "code",
   "execution_count": null,
   "metadata": {
    "collapsed": true
   },
   "outputs": [],
   "source": [
    "# fill NaN values with zeros\n",
    "df.zerobalanceeffectivedate_calc.replace(np.nan, 0, inplace = True)"
   ]
  },
  {
   "cell_type": "code",
   "execution_count": null,
   "metadata": {},
   "outputs": [],
   "source": [
    "df.drop(['zerobalanceeffectivedate'], axis=1, inplace=True)\n",
    "df.shape"
   ]
  },
  {
   "cell_type": "markdown",
   "metadata": {},
   "source": [
    "# Zero Balance Code"
   ]
  },
  {
   "cell_type": "code",
   "execution_count": null,
   "metadata": {
    "collapsed": true
   },
   "outputs": [],
   "source": [
    "df['zerobalancecode']=df.zerobalancecode.astype('category')"
   ]
  },
  {
   "cell_type": "code",
   "execution_count": null,
   "metadata": {},
   "outputs": [],
   "source": [
    "draw(df.zerobalancecode, title='Zero Balance Code', ylabel='Number of Loans', sort = True)"
   ]
  },
  {
   "cell_type": "markdown",
   "metadata": {},
   "source": [
    "# Create feature column for zero balance code"
   ]
  },
  {
   "cell_type": "code",
   "execution_count": null,
   "metadata": {
    "collapsed": true
   },
   "outputs": [],
   "source": [
    "def map_zerobalancecode(*args):\n",
    "    columns = [col for col in args]\n",
    "    for column in columns:\n",
    "        if column == code:\n",
    "            return 1\n",
    "        else:\n",
    "            return 0\n",
    "codes = pd.value_counts(df.zerobalancecode).index.tolist()\n",
    "\n",
    "for code in codes:\n",
    "        df['zerobalance_code{}'.format(code)] = list(map(map_zerobalancecode, df.zerobalancecode))\n"
   ]
  },
  {
   "cell_type": "code",
   "execution_count": null,
   "metadata": {},
   "outputs": [],
   "source": [
    "df.shape"
   ]
  },
  {
   "cell_type": "code",
   "execution_count": null,
   "metadata": {},
   "outputs": [],
   "source": [
    "df.drop(['zerobalancecode'], axis=1, inplace=True)\n",
    "df.shape"
   ]
  },
  {
   "cell_type": "code",
   "execution_count": null,
   "metadata": {
    "collapsed": true
   },
   "outputs": [],
   "source": [
    "# df.set_index('originationdate')\n",
    "# df.sort_values(by='originationdate', ascending=True)"
   ]
  },
  {
   "cell_type": "markdown",
   "metadata": {},
   "source": [
    "# Add S&P Experian default index and historical data"
   ]
  },
  {
   "cell_type": "code",
   "execution_count": null,
   "metadata": {
    "collapsed": true
   },
   "outputs": [],
   "source": [
    "df=df.set_index('reportingperiodendingdate')\n",
    "#df.head()\n",
    "#df.to_csv('c:users/ugy1/abs/datasets/df.csv')"
   ]
  },
  {
   "cell_type": "code",
   "execution_count": null,
   "metadata": {
    "collapsed": true
   },
   "outputs": [],
   "source": [
    "df1=pd.read_csv(path+'datasets/s&pExperianAutoDefaultIndex.csv', index_col=0)\n",
    "df=df.join(df1)\n",
    "df2=pd.read_csv(path+'datasets/experianHistDefaultRates.csv', index_col=0)\n",
    "df=df.join(df2)"
   ]
  },
  {
   "cell_type": "code",
   "execution_count": null,
   "metadata": {},
   "outputs": [],
   "source": [
    "df.head()"
   ]
  },
  {
   "cell_type": "code",
   "execution_count": null,
   "metadata": {},
   "outputs": [],
   "source": [
    "#df=df.drop(['reportingperiodbeginningdate','originationdate\"], axis=1)\n",
    "df.drop(['cik', 'assetnumber', 'reportingperiodbeginningdate','originationdate'], axis=1, inplace=True)\n",
    "df.shape\n",
    "        "
   ]
  },
  {
   "cell_type": "markdown",
   "metadata": {},
   "source": [
    "# Clean data"
   ]
  },
  {
   "cell_type": "code",
   "execution_count": null,
   "metadata": {
    "collapsed": true
   },
   "outputs": [],
   "source": [
    "# change columns to lower case and remove prefix to enable pandas to work\n",
    "#column_list=[x.lower() for x in (column_list)]\n",
    "#df.columns=df.columns.str.replace('abs_loan.','')\n",
    "# convert objects to numeric\n",
    "#df=df.convert_objects(convert_numeric=True)"
   ]
  },
  {
   "cell_type": "markdown",
   "metadata": {},
   "source": [
    "# Check for null"
   ]
  },
  {
   "cell_type": "code",
   "execution_count": null,
   "metadata": {},
   "outputs": [],
   "source": [
    "df.isnull().values.any()"
   ]
  },
  {
   "cell_type": "markdown",
   "metadata": {},
   "source": [
    "# Loan Statistics"
   ]
  },
  {
   "cell_type": "code",
   "execution_count": null,
   "metadata": {},
   "outputs": [],
   "source": [
    "df.describe()"
   ]
  },
  {
   "cell_type": "markdown",
   "metadata": {},
   "source": [
    "# Current Vs Other Buckets"
   ]
  },
  {
   "cell_type": "code",
   "execution_count": null,
   "metadata": {},
   "outputs": [],
   "source": [
    "LABELS = ('Current', 'Not Current')\n",
    "count_classes = pd.value_counts(df.currentdelinquencystatus>0, sort = True)\n",
    "count_classes.plot(kind = 'bar', rot=0)\n",
    "plt.xticks(range(2), LABELS)\n",
    "plt.title('Deliquency Class')\n",
    "plt.ylabel(\"Number of Loans\")\n",
    "plt.show()\n",
    "print('Number of loans Current :', count_classes[0],'   ', 'Number of loans Not Current :', count_classes[1],)"
   ]
  },
  {
   "cell_type": "code",
   "execution_count": null,
   "metadata": {
    "collapsed": true
   },
   "outputs": [],
   "source": [
    "#pd.value_counts(df.currentdelinquencystatus)"
   ]
  },
  {
   "cell_type": "code",
   "execution_count": null,
   "metadata": {},
   "outputs": [],
   "source": [
    "df.currentdelinquencystatus.describe()"
   ]
  },
  {
   "cell_type": "code",
   "execution_count": null,
   "metadata": {},
   "outputs": [],
   "source": [
    "u=pd.value_counts(df.currentdelinquencystatus==''.index) \n",
    "if len(u)<2:\n",
    "    print('No blank current delinquency status')\n",
    "else: \n",
    "    print('Number of loans with blank current delinquency status',':', u[1])\n",
    "    #print('Dropping ', u[1], 'rows and retaining loans with correct interest paid throughdate')\n",
    "    #df=df[df.interestpaidthroughdate>'1900-01-01']\n",
    "df.shape"
   ]
  },
  {
   "cell_type": "markdown",
   "metadata": {},
   "source": [
    "# Label Creation"
   ]
  },
  {
   "cell_type": "code",
   "execution_count": null,
   "metadata": {},
   "outputs": [],
   "source": [
    "def map_label(*args):\n",
    "    columns = [col for col in args]\n",
    "    for column in columns:\n",
    "        if column > 0:\n",
    "            return 1\n",
    "        elif column == 0:\n",
    "            return 0\n",
    "        \n",
    "df['label'] = list(map(map_label, df.currentdelinquencystatus ))\n",
    "\n",
    "LABELS = ('Current', 'Default')\n",
    "count_classes = pd.value_counts(df.label, sort = True)\n",
    "count_classes.plot(kind = 'bar', rot=0)\n",
    "plt.xticks(range(2), LABELS)\n",
    "plt.title('Revised Deliquency Class')\n",
    "plt.ylabel(\"Number of Loans\")\n",
    "plt.show()\n",
    "print('Number of loans Current :', count_classes[0],'   ', 'Number of loans Defaulted :', count_classes[1],)"
   ]
  },
  {
   "cell_type": "markdown",
   "metadata": {},
   "source": [
    "# Loan Balance Amount at the End of Reporting Period"
   ]
  },
  {
   "cell_type": "code",
   "execution_count": null,
   "metadata": {},
   "outputs": [],
   "source": [
    "current_df = df[df.label==0]\n",
    "not_current_df = df[df.label==1]\n",
    "bins = np.linspace(0, 100000, 100)\n",
    "plt.hist(current_df.reportingperiodactualendbalanceamount, bins, alpha=0.6, \n",
    "         #density=True, \n",
    "         label='CURRENT')\n",
    "plt.hist(not_current_df.reportingperiodactualendbalanceamount, bins, alpha=1, \n",
    "         #density=True, \n",
    "         label='NOT CURRENT')\n",
    "plt.legend(loc='upper right')\n",
    "plt.title(\"Loan Balance Amount at the end of reporting Period\")\n",
    "plt.xlabel('Loan Balance Amount')\n",
    "plt.ylabel('Number of of Loans')\n",
    "plt.show()"
   ]
  },
  {
   "cell_type": "markdown",
   "metadata": {},
   "source": [
    "# Manual oversampling of default data "
   ]
  },
  {
   "cell_type": "code",
   "execution_count": null,
   "metadata": {},
   "outputs": [],
   "source": [
    "#def manual_oversampling(df):\n",
    "default=df[df.label==1]\n",
    "print('default: ',default.shape)\n",
    "b=int((df.shape[0]-default.shape[0])/(default.shape[0]))\n",
    "print('copy default data ',b, ' times')\n",
    "b=int(b*manualOversamplingFactor)\n",
    "print(b)\n",
    "for i in range(b):\n",
    "    df=df.append(default, ignore_index=True)\n",
    "df=df.sample(frac=1).reset_index(drop=True)\n",
    "draw(df.label, title='Manual Oversampling -Current Vs Non-Current', ylabel='Number of Loans', sort=True)\n",
    "print(df.shape)\n",
    "print(pd.value_counts(df.label==1))\n",
    "#return df\n",
    "   "
   ]
  },
  {
   "cell_type": "code",
   "execution_count": null,
   "metadata": {},
   "outputs": [],
   "source": [
    "#manual_oversampling(df)\n",
    "print(pd.value_counts(df.label==1))\n",
    "df.shape"
   ]
  },
  {
   "cell_type": "code",
   "execution_count": null,
   "metadata": {},
   "outputs": [],
   "source": [
    "df.dtypes"
   ]
  },
  {
   "cell_type": "markdown",
   "metadata": {},
   "source": [
    "# Oversampling with SMOTE"
   ]
  },
  {
   "cell_type": "code",
   "execution_count": null,
   "metadata": {
    "collapsed": true
   },
   "outputs": [],
   "source": [
    "# from imblearn.over_sampling import SMOTE, ADASYN\n",
    "# x_train, y_train = SMOTE().fit_resample(x_train, y_train)"
   ]
  },
  {
   "cell_type": "code",
   "execution_count": null,
   "metadata": {
    "collapsed": true
   },
   "outputs": [],
   "source": [
    "# #Apply SMOTE to create synthetic observations from minority class\n",
    "# #Source:https://github.com/scikit-learn-contrib/imbalanced-learn\n",
    "# from imblearn.over_sampling import SMOTE #Over sampling\n",
    "# sm = SMOTE(ratio='auto',kind='regular')\n",
    "# X_sampled,y_sampled = sm.fit_sample(X,y.values.ravel())\n",
    "\n",
    "# #Percentage of fraudlent records in original data\n",
    "# Source_data_no_fraud_count = len(data[data.Class==0])\n",
    "# Source_data_fraud_count = len(data[data.Class==1])\n",
    "# print('Percentage of fraud counts in original dataset:{}%'.format((Source_data_fraud_count*100)/(Source_data_no_fraud_count+Source_data_fraud_count)))\n",
    "\n",
    "# #Percentage of fraudlent records in sampled data\n",
    "# Sampled_data_no_fraud_count = len(y_sampled[y_sampled==0])\n",
    "# Sampled_data_fraud_count = len(y_sampled[y_sampled==1])\n",
    "# print('Percentage of fraud counts in the new data:{}%'.format((Sampled_data_fraud_count*100)/(Sampled_data_no_fraud_count+Sampled_data_fraud_count)))"
   ]
  },
  {
   "cell_type": "markdown",
   "metadata": {
    "collapsed": true
   },
   "source": [
    "# Naive Random Oversampling"
   ]
  },
  {
   "cell_type": "code",
   "execution_count": null,
   "metadata": {
    "collapsed": true
   },
   "outputs": [],
   "source": [
    "# from imblearn.over_sampling import RandomOverSampler\n",
    "# ros = RandomOverSampler(random_state=0)\n",
    "# X_resampled, y_resampled = ros.fit_resample(X, y)\n",
    "# from collections import Counter\n",
    "# print(sorted(Counter(y_resampled).items()))"
   ]
  },
  {
   "cell_type": "markdown",
   "metadata": {
    "collapsed": true
   },
   "source": [
    "#  Clean up for Machine Learning"
   ]
  },
  {
   "cell_type": "code",
   "execution_count": null,
   "metadata": {},
   "outputs": [],
   "source": [
    "df.shape"
   ]
  },
  {
   "cell_type": "code",
   "execution_count": null,
   "metadata": {
    "scrolled": false
   },
   "outputs": [],
   "source": [
    "#df=df.replace([np.inf, -np.inf], np.nan)\n",
    "#df=df.fillna(0, inplace=True)\n",
    "#df=df.dropna(inplace=True)\n",
    "#df.head()\n",
    "df.head()"
   ]
  },
  {
   "cell_type": "code",
   "execution_count": null,
   "metadata": {},
   "outputs": [],
   "source": [
    "df.isnull().any()"
   ]
  },
  {
   "cell_type": "code",
   "execution_count": null,
   "metadata": {},
   "outputs": [],
   "source": [
    "df.isnull().any().sum()"
   ]
  },
  {
   "cell_type": "code",
   "execution_count": null,
   "metadata": {},
   "outputs": [],
   "source": [
    "pd.value_counts(df.label, dropna=False)"
   ]
  },
  {
   "cell_type": "code",
   "execution_count": null,
   "metadata": {
    "collapsed": true
   },
   "outputs": [],
   "source": [
    "df.label.fillna(0, inplace=True)"
   ]
  },
  {
   "cell_type": "code",
   "execution_count": null,
   "metadata": {},
   "outputs": [],
   "source": [
    "pd.value_counts(df.label, dropna=False)"
   ]
  },
  {
   "cell_type": "code",
   "execution_count": null,
   "metadata": {},
   "outputs": [],
   "source": [
    "pd.value_counts(df.paymenttoincomepercentage, dropna=False).head()"
   ]
  },
  {
   "cell_type": "code",
   "execution_count": null,
   "metadata": {
    "collapsed": true
   },
   "outputs": [],
   "source": [
    "df.paymenttoincomepercentage.dropna(inplace=True)"
   ]
  },
  {
   "cell_type": "code",
   "execution_count": null,
   "metadata": {},
   "outputs": [],
   "source": [
    "pd.value_counts(df.paymenttoincomepercentage, dropna=False).head()"
   ]
  },
  {
   "cell_type": "code",
   "execution_count": null,
   "metadata": {},
   "outputs": [],
   "source": [
    "df['servicingflatfeeamount']=df.servicingflatfeeamount.astype('float')\n",
    "pd.value_counts(df.servicingflatfeeamount, dropna=False) "
   ]
  },
  {
   "cell_type": "code",
   "execution_count": null,
   "metadata": {
    "collapsed": true
   },
   "outputs": [],
   "source": [
    "df.servicingflatfeeamount.fillna(0,inplace=True)"
   ]
  },
  {
   "cell_type": "code",
   "execution_count": null,
   "metadata": {},
   "outputs": [],
   "source": [
    "pd.value_counts(df.reportingperiodbeginningloanbalanceamount, dropna=False).head()"
   ]
  },
  {
   "cell_type": "code",
   "execution_count": null,
   "metadata": {
    "collapsed": true
   },
   "outputs": [],
   "source": [
    "df.reportingperiodbeginningloanbalanceamount.fillna(0, inplace=True)"
   ]
  },
  {
   "cell_type": "code",
   "execution_count": null,
   "metadata": {},
   "outputs": [],
   "source": [
    "pd.value_counts(df.reportingperiodbeginningloanbalanceamount, dropna=False).head()"
   ]
  },
  {
   "cell_type": "code",
   "execution_count": null,
   "metadata": {},
   "outputs": [],
   "source": [
    "pd.value_counts(df.otherservicerfeeretainedbyservicer, dropna=False).head()"
   ]
  },
  {
   "cell_type": "code",
   "execution_count": null,
   "metadata": {
    "collapsed": true
   },
   "outputs": [],
   "source": [
    "df.otherservicerfeeretainedbyservicer.fillna(0, inplace=True)"
   ]
  },
  {
   "cell_type": "code",
   "execution_count": null,
   "metadata": {},
   "outputs": [],
   "source": [
    "pd.value_counts(df.otherservicerfeeretainedbyservicer, dropna=False).head()"
   ]
  },
  {
   "cell_type": "code",
   "execution_count": null,
   "metadata": {},
   "outputs": [],
   "source": [
    "pd.value_counts(df.serviceradvancedamount, dropna=False).head()"
   ]
  },
  {
   "cell_type": "code",
   "execution_count": null,
   "metadata": {
    "collapsed": true
   },
   "outputs": [],
   "source": [
    "df.serviceradvancedamount.fillna(0, inplace=True)"
   ]
  },
  {
   "cell_type": "code",
   "execution_count": null,
   "metadata": {},
   "outputs": [],
   "source": [
    "pd.value_counts(df.serviceradvancedamount, dropna=False).head()"
   ]
  },
  {
   "cell_type": "code",
   "execution_count": null,
   "metadata": {},
   "outputs": [],
   "source": [
    "df.isnull().any()"
   ]
  },
  {
   "cell_type": "code",
   "execution_count": null,
   "metadata": {},
   "outputs": [],
   "source": [
    "pd.value_counts(df.paymenttoincomepercentage, dropna=False).head()"
   ]
  },
  {
   "cell_type": "code",
   "execution_count": null,
   "metadata": {
    "collapsed": true
   },
   "outputs": [],
   "source": [
    "df.dropna(inplace=True)"
   ]
  },
  {
   "cell_type": "code",
   "execution_count": null,
   "metadata": {
    "collapsed": true
   },
   "outputs": [],
   "source": [
    "#df.isnull().any().sum()"
   ]
  },
  {
   "cell_type": "code",
   "execution_count": null,
   "metadata": {},
   "outputs": [],
   "source": [
    "df.shape "
   ]
  },
  {
   "cell_type": "markdown",
   "metadata": {},
   "source": [
    "# Preparing data for Machine Learning"
   ]
  },
  {
   "cell_type": "code",
   "execution_count": null,
   "metadata": {},
   "outputs": [],
   "source": [
    "# prepare label for scikit-learn\n",
    "Y=df.label.values\n",
    "Y.shape"
   ]
  },
  {
   "cell_type": "code",
   "execution_count": null,
   "metadata": {},
   "outputs": [],
   "source": [
    "# reshape labels for machine learning\n",
    "#Y=Y.reshape(Y.shape[0],1)\n",
    "Y.shape"
   ]
  },
  {
   "cell_type": "code",
   "execution_count": null,
   "metadata": {},
   "outputs": [],
   "source": [
    "# prepare input data for scikit-learn\n",
    "input=df.values\n",
    "input.shape"
   ]
  },
  {
   "cell_type": "code",
   "execution_count": null,
   "metadata": {},
   "outputs": [],
   "source": [
    "# calculate train/test split\n",
    "len_train = int(len(input)*train_split)\n",
    "print(len_train)"
   ]
  },
  {
   "cell_type": "code",
   "execution_count": null,
   "metadata": {
    "collapsed": true
   },
   "outputs": [],
   "source": [
    "# apply train/test split to labels\n",
    "y_train = Y[0:len_train]\n",
    "y_test = Y[len_train:]"
   ]
  },
  {
   "cell_type": "code",
   "execution_count": null,
   "metadata": {},
   "outputs": [],
   "source": [
    "#reshape input data for machine learning\n",
    "#input=input.reshape(input.shape[0], input.shape[1], 1)\n",
    "input.shape"
   ]
  },
  {
   "cell_type": "code",
   "execution_count": null,
   "metadata": {},
   "outputs": [],
   "source": [
    "# apply train/test split to input data\n",
    "x_train = input[0:len_train]\n",
    "x_test = input[len_train:]\n",
    "x_train.shape"
   ]
  },
  {
   "cell_type": "markdown",
   "metadata": {},
   "source": [
    "# Scikit-Learn Scaling"
   ]
  },
  {
   "cell_type": "code",
   "execution_count": null,
   "metadata": {
    "collapsed": true
   },
   "outputs": [],
   "source": [
    "# from sklearn.preprocessing import MinMaxScaler\n",
    "# from sklearn.preprocessing import minmax_scale\n",
    "# from sklearn.preprocessing import MaxAbsScaler\n",
    "# from sklearn.preprocessing import StandardScaler\n",
    "# from sklearn.preprocessing import RobustScaler\n",
    "# from sklearn.preprocessing import Normalizer\n",
    "# from sklearn.preprocessing import QuantileTransformer\n",
    "# from sklearn.preprocessing import PowerTransformer"
   ]
  },
  {
   "cell_type": "code",
   "execution_count": null,
   "metadata": {
    "collapsed": true
   },
   "outputs": [],
   "source": [
    "# x_scaler=MinMaxScaler()\n",
    "# x_train = x_scaler.fit_transform(x_train)\n",
    "# x_test = x_scaler.fit_transform(x_test)"
   ]
  },
  {
   "cell_type": "markdown",
   "metadata": {},
   "source": [
    "# Keras Normalize input data"
   ]
  },
  {
   "cell_type": "code",
   "execution_count": null,
   "metadata": {
    "scrolled": false
   },
   "outputs": [],
   "source": [
    "x_train_keras_scaled = keras.utils.normalize(x_train, axis=-1, order=2)\n",
    "x_test_keras_scaled = keras.utils.normalize(x_test, axis=-1, order=2)\n",
    "x_train_keras_scaled.shape"
   ]
  },
  {
   "cell_type": "markdown",
   "metadata": {},
   "source": [
    "# Linear SVC"
   ]
  },
  {
   "cell_type": "code",
   "execution_count": null,
   "metadata": {
    "collapsed": true
   },
   "outputs": [],
   "source": [
    "from sklearn import svm, neighbors\n",
    "lsvc=svm.LinearSVC()\n",
    "clf_lsvc=lsvc.fit(x_train, y_train)\n",
    "confidence_lsvc=clf_lsvc.score(x_test, y_test)"
   ]
  },
  {
   "cell_type": "markdown",
   "metadata": {},
   "source": [
    "# K-Nearest Neighbors"
   ]
  },
  {
   "cell_type": "code",
   "execution_count": null,
   "metadata": {
    "collapsed": true
   },
   "outputs": [],
   "source": [
    "knn=neighbors.KNeighborsClassifier(n_neighbors=10, n_jobs=-1)\n",
    "clf_knn=knn.fit(x_train, y_train)\n",
    "confidence_knn=clf_knn.score(x_test, y_test)"
   ]
  },
  {
   "cell_type": "markdown",
   "metadata": {},
   "source": [
    "# Random Forest Tree"
   ]
  },
  {
   "cell_type": "code",
   "execution_count": null,
   "metadata": {
    "collapsed": true
   },
   "outputs": [],
   "source": [
    "rfor=RandomForestClassifier()\n",
    "clf_rfor = rfor.fit(x_train, y_train)\n",
    "confidence_rfor=clf_rfor.score(x_test, y_test)"
   ]
  },
  {
   "cell_type": "markdown",
   "metadata": {},
   "source": [
    "# Logistic Regression"
   ]
  },
  {
   "cell_type": "code",
   "execution_count": null,
   "metadata": {
    "collapsed": true
   },
   "outputs": [],
   "source": [
    "lr = LogisticRegression(solver='lbfgs')\n",
    "clf_lr = lr.fit(x_train, y_train)\n",
    "confidence_lr=clf_lr.score(x_test, y_test)"
   ]
  },
  {
   "cell_type": "markdown",
   "metadata": {},
   "source": [
    "# Gaussian Naive Bayes"
   ]
  },
  {
   "cell_type": "code",
   "execution_count": null,
   "metadata": {
    "collapsed": true
   },
   "outputs": [],
   "source": [
    "from sklearn.naive_bayes import GaussianNB\n",
    "gnb = GaussianNB()\n",
    "clf_gnb = gnb.fit(x_train, y_train)\n",
    "confidence_gnb=clf_gnb.score(x_test, y_test)"
   ]
  },
  {
   "cell_type": "markdown",
   "metadata": {},
   "source": [
    "# Gated Recurring Unit"
   ]
  },
  {
   "cell_type": "code",
   "execution_count": null,
   "metadata": {
    "collapsed": true
   },
   "outputs": [],
   "source": [
    "\n",
    "# model = keras.Sequential()\n",
    "# model.add(keras.layers.GRU(128, activation='relu',  \n",
    "#                            kernel_regularizer=regularizers.l2(0.01), \n",
    "#                            input_shape=(x_train_keras_scaled.shape[1:]), \n",
    "#                            return_sequences=True))\n",
    "# model.add(keras.layers.Dropout(0.3))\n",
    "\n",
    "# model.add(keras.layers.GRU(64, activation='relu', kernel_regularizer=regularizers.l2(0.01)))\n",
    "# model.add(keras.layers.Dropout(0.2))\n",
    "\n",
    "# model.add(keras.layers.Dense(32, activation='relu',  kernel_regularizer=regularizers.l2(0.01)))\n",
    "# model.add(keras.layers.Dropout(0.3))\n",
    "\n",
    "# model.add(keras.layers.Dense(2, activation='softmax'))\n",
    "\n",
    "# optimizer = tf.keras.optimizers.Adam(lr=1e-3, decay=1e-6)\n",
    "# model.summary()"
   ]
  },
  {
   "cell_type": "markdown",
   "metadata": {},
   "source": [
    "# Model Configuration"
   ]
  },
  {
   "cell_type": "code",
   "execution_count": null,
   "metadata": {
    "collapsed": true
   },
   "outputs": [],
   "source": [
    "#save the best model\n",
    "#keras.callbacks.Callback()\n",
    "# checkPoint = ModelCheckpoint(filepath = path+'model/'+name+'.h5',\n",
    "#                             save_best_only = True,\n",
    "#                             verbose=0)\n",
    "# tensorboard = TensorBoard(log_dir=path+'logs/{}'.format(name),\n",
    "#                           histogram_freq=0,\n",
    "#                           batch_size=32,\n",
    "#                           write_graph=True,\n",
    "#                           write_images=False)\n",
    "# history = keras.callbacks.History()"
   ]
  },
  {
   "cell_type": "markdown",
   "metadata": {},
   "source": [
    "# Train the Model"
   ]
  },
  {
   "cell_type": "code",
   "execution_count": null,
   "metadata": {
    "collapsed": true,
    "scrolled": false
   },
   "outputs": [],
   "source": [
    "# model.compile(loss='sparse_categorical_crossentropy', optimizer=optimizer, metrics=['accuracy'])\n",
    "\n",
    "# model.fit(x_train, y_train, epochs=epochs, validation_data=(x_test_keras_scaled, y_test), batch_size=254, \n",
    "#         # callbacks = [\n",
    "#    # baseLogger,\n",
    "#     #history,\n",
    "#     #tensorboard\n",
    "#     #learningRateScheduler,\n",
    "#     #reduceLROnPlateau\n",
    "#      #    ], \n",
    "#           shuffle=False\n",
    "# )\n"
   ]
  },
  {
   "cell_type": "markdown",
   "metadata": {
    "collapsed": true
   },
   "source": [
    "# Save the Model"
   ]
  },
  {
   "cell_type": "code",
   "execution_count": null,
   "metadata": {
    "collapsed": true
   },
   "outputs": [],
   "source": [
    "# model.save(path+'model/'+name+'.h5')"
   ]
  },
  {
   "cell_type": "code",
   "execution_count": null,
   "metadata": {
    "collapsed": true
   },
   "outputs": [],
   "source": [
    "# test_loss, test_acc = model.evaluate(x_test_keras_scaled, y_test)\n",
    "# print('Test Loss : ',test_loss,' ','Test Accuracy : ', test_acc)"
   ]
  },
  {
   "cell_type": "code",
   "execution_count": null,
   "metadata": {
    "collapsed": true
   },
   "outputs": [],
   "source": [
    "# y_pred = model.predict_classes(x_test)"
   ]
  },
  {
   "cell_type": "code",
   "execution_count": null,
   "metadata": {
    "collapsed": true
   },
   "outputs": [],
   "source": [
    "#print(y_pred)"
   ]
  },
  {
   "cell_type": "code",
   "execution_count": null,
   "metadata": {
    "collapsed": true
   },
   "outputs": [],
   "source": [
    "#len(y_pred)"
   ]
  },
  {
   "cell_type": "code",
   "execution_count": null,
   "metadata": {
    "collapsed": true
   },
   "outputs": [],
   "source": [
    "# np.count_nonzero(y_pred)"
   ]
  },
  {
   "cell_type": "code",
   "execution_count": null,
   "metadata": {
    "collapsed": true
   },
   "outputs": [],
   "source": [
    "# np.count_nonzero(y_test)"
   ]
  },
  {
   "cell_type": "markdown",
   "metadata": {},
   "source": [
    "# Load Saved Model"
   ]
  },
  {
   "cell_type": "code",
   "execution_count": null,
   "metadata": {
    "collapsed": true
   },
   "outputs": [],
   "source": [
    "#saved_model = load_model(path+'model/ABS_Keras-GRU254GRU128D32D2-adam1540234475.h5')"
   ]
  },
  {
   "cell_type": "code",
   "execution_count": null,
   "metadata": {
    "collapsed": true
   },
   "outputs": [],
   "source": [
    "# test_loss, test_acc = saved_model.evaluate(x_test_keras_scaled, y_test)\n",
    "# print('Test Loss : ',test_loss,' ','Test Accuracy : ', test_acc)"
   ]
  },
  {
   "cell_type": "markdown",
   "metadata": {
    "collapsed": true
   },
   "source": [
    "# Predict Classes"
   ]
  },
  {
   "cell_type": "code",
   "execution_count": null,
   "metadata": {
    "collapsed": true
   },
   "outputs": [],
   "source": [
    "x_pred = x_test"
   ]
  },
  {
   "cell_type": "code",
   "execution_count": null,
   "metadata": {
    "collapsed": true
   },
   "outputs": [],
   "source": [
    "#prediction_gru = model.predict_classes(x_pred)\n",
    "prediction_lsvc = clf_lsvc.predict(x_pred)\n",
    "prediction_knn = clf_knn.predict(x_pred)\n",
    "prediction_rfor = clf_rfor.predict(x_pred)\n",
    "prediction_lr = clf_lr.predict(x_pred)\n",
    "prediction_gnb = clf_gnb.predict(x_pred)"
   ]
  },
  {
   "cell_type": "code",
   "execution_count": null,
   "metadata": {
    "collapsed": true
   },
   "outputs": [],
   "source": [
    "predictions = [\n",
    "  # prediction_gru,\n",
    "    prediction_lsvc,\n",
    "    prediction_knn,\n",
    "    prediction_rfor,\n",
    "    prediction_lr,\n",
    "    prediction_gnb \n",
    "]"
   ]
  },
  {
   "cell_type": "markdown",
   "metadata": {},
   "source": [
    "# Confusion Matrix"
   ]
  },
  {
   "cell_type": "code",
   "execution_count": null,
   "metadata": {
    "scrolled": false
   },
   "outputs": [],
   "source": [
    "class_names = ['Current', 'Non-Current']\n",
    "\n",
    "def plot_confusion_matrix(cm, classes,\n",
    "                          normalize=False,\n",
    "                          title='Confusion matrix',\n",
    "                          cmap=plt.cm.Blues):\n",
    "    \"\"\"\n",
    "    This function prints and plots the confusion matrix.\n",
    "    Normalization can be applied by setting `normalize=True`.\n",
    "    \"\"\"\n",
    "    if normalize:\n",
    "        cm = cm.astype('float') / cm.sum(axis=1)[:, np.newaxis]\n",
    "        print(\"Normalized confusion matrix\")\n",
    "    else:\n",
    "        print('Confusion matrix, without normalization')\n",
    "\n",
    "    print(cm)\n",
    "\n",
    "    plt.imshow(cm, interpolation='nearest', cmap=cmap)\n",
    "    plt.title(title)\n",
    "    plt.colorbar()\n",
    "    tick_marks = np.arange(len(classes))\n",
    "    plt.xticks(tick_marks, classes, rotation=45)\n",
    "    plt.yticks(tick_marks, classes)\n",
    "\n",
    "    fmt = '.2f' if normalize else 'd'\n",
    "    thresh = cm.max() / 2.\n",
    "    for i, j in itertools.product(range(cm.shape[0]), range(cm.shape[1])):\n",
    "        plt.text(j, i, format(cm[i, j], fmt),\n",
    "                 horizontalalignment=\"center\",\n",
    "                 color=\"white\" if cm[i, j] > thresh else \"black\")\n",
    "\n",
    "    plt.ylabel('True label')\n",
    "    plt.xlabel('Predicted label')\n",
    "    plt.tight_layout()\n",
    "\n",
    "for prediction in predictions:\n",
    "        print('ROC_AUC_SCORE ; ', roc_auc_score(y_test, prediction))\n",
    "        # Compute confusion matrix\n",
    "        cnf_matrix = confusion_matrix(y_test, prediction)\n",
    "        np.set_printoptions(precision=2)\n",
    "\n",
    "        # Plot non-normalized confusion matrix\n",
    "        plt.figure()\n",
    "        plot_confusion_matrix(cnf_matrix, classes=class_names,\n",
    "                          title= 'Confusion matrix, without normalization')\n",
    "\n",
    "        # Plot normalized confusion matrix\n",
    "        plt.figure()\n",
    "        plot_confusion_matrix(cnf_matrix, classes=class_names, normalize=False,\n",
    "                          title='Normalized confusion matrix')\n",
    "\n",
    "        plt.show()"
   ]
  },
  {
   "cell_type": "code",
   "execution_count": null,
   "metadata": {
    "collapsed": true
   },
   "outputs": [],
   "source": [
    "# fpr, tpr, thresholds = metrics.roc_curve(y_test, prediction, pos_label=2)\n",
    "# metrics.auc(fpr, tpr)"
   ]
  },
  {
   "cell_type": "code",
   "execution_count": null,
   "metadata": {
    "collapsed": true
   },
   "outputs": [],
   "source": [
    "#1. find any string which has no numbers \n",
    "\n",
    "#2. find only numbers r'^([0-9]*)$'\n",
    "\n",
    "#3. find only blanks(empty strings) r'^(\\s+)$'"
   ]
  },
  {
   "cell_type": "code",
   "execution_count": null,
   "metadata": {
    "collapsed": true
   },
   "outputs": [],
   "source": [
    "#at least one Nan in a row\n",
    "# df1=df[df.isnull().any(axis=1)]\n",
    "# df.isna()\n",
    "# df.notna()\n",
    "# df.loc[:,df.isna().any]"
   ]
  },
  {
   "cell_type": "code",
   "execution_count": null,
   "metadata": {
    "collapsed": true
   },
   "outputs": [],
   "source": [
    "# #replace NaN with zero\n",
    "# df.fillna(0, inplace=True)"
   ]
  },
  {
   "cell_type": "code",
   "execution_count": null,
   "metadata": {
    "collapsed": true
   },
   "outputs": [],
   "source": []
  }
 ],
 "metadata": {
  "kernelspec": {
   "display_name": "Python [conda env:Anaconda3_4]",
   "language": "python",
   "name": "conda-env-Anaconda3_4-py"
  },
  "language_info": {
   "codemirror_mode": {
    "name": "ipython",
    "version": 3
   },
   "file_extension": ".py",
   "mimetype": "text/x-python",
   "name": "python",
   "nbconvert_exporter": "python",
   "pygments_lexer": "ipython3",
   "version": "3.6.1"
  }
 },
 "nbformat": 4,
 "nbformat_minor": 2
}
