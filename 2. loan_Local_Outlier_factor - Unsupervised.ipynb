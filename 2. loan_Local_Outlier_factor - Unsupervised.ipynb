{
 "cells": [
  {
   "cell_type": "markdown",
   "metadata": {
    "collapsed": true
   },
   "source": [
    "# Local_Outlier_Factor - Unsupervised"
   ]
  },
  {
   "cell_type": "markdown",
   "metadata": {},
   "source": [
    "Local Outlier Factor - measures local variation of density of a samplet vs. its neighbors, where locality is determined by k-nearest neighbors. Lower density samples are considered outliers."
   ]
  },
  {
   "cell_type": "markdown",
   "metadata": {},
   "source": [
    "The strength of the LOF algorithm is that it takes both local and global properties of datasets into consideration: it can perform well even in datasets where abnormal samples have different underlying densities. The question is not, how isolated the sample is, but how isolated it is with respect to the surrounding neighborhood."
   ]
  },
  {
   "cell_type": "markdown",
   "metadata": {},
   "source": [
    "![Local Outlier Factor](datasets/sphx_glr_plot_lof_outlier_detection_001.png)"
   ]
  },
  {
   "cell_type": "code",
   "execution_count": 1,
   "metadata": {
    "collapsed": true
   },
   "outputs": [],
   "source": [
    "from sklearn import preprocessing\n",
    "from sklearn.model_selection import train_test_split\n",
    "\n",
    "from sklearn.ensemble import IsolationForest\n",
    "from sklearn.neighbors import LocalOutlierFactor\n",
    "from sklearn import svm\n",
    "from sklearn.neighbors import NearestNeighbors\n",
    "\n",
    "from sklearn.metrics import classification_report\n",
    "from sklearn.metrics import confusion_matrix\n",
    "from sklearn.metrics import recall_score\n",
    "from sklearn.metrics import roc_auc_score\n",
    "from sklearn.model_selection import GridSearchCV\n",
    "from sklearn.metrics import make_scorer\n",
    "from sklearn.metrics import accuracy_score\n",
    "\n",
    "import pandas as pd\n",
    "import numpy as np\n",
    "import itertools\n",
    "import matplotlib.pyplot as plt\n",
    "import datetime\n",
    "\n",
    "%matplotlib inline"
   ]
  },
  {
   "cell_type": "code",
   "execution_count": 2,
   "metadata": {},
   "outputs": [
    {
     "data": {
      "text/plain": [
       "(913751, 85)"
      ]
     },
     "execution_count": 2,
     "metadata": {},
     "output_type": "execute_result"
    }
   ],
   "source": [
    "train_split = 0.80\n",
    "nrows = 1_000_000\n",
    "path = 'c:/users/ugy1/abs/'\n",
    "df=pd.read_csv(path+'datasets/processed_abs_loan_'+str(nrows)+'.csv', \n",
    "               #usecols=use_list, \n",
    "               #sep='\\t',\n",
    "               #compression=bz2,\n",
    "               nrows=nrows,\n",
    "               low_memory=False, \n",
    "              index_col=0, \n",
    "               parse_dates=True\n",
    "              )\n",
    "df.shape"
   ]
  },
  {
   "cell_type": "code",
   "execution_count": 3,
   "metadata": {
    "collapsed": true
   },
   "outputs": [],
   "source": [
    "column_list=df.columns.tolist()"
   ]
  },
  {
   "cell_type": "code",
   "execution_count": 4,
   "metadata": {},
   "outputs": [
    {
     "data": {
      "text/html": [
       "<div>\n",
       "<style scoped>\n",
       "    .dataframe tbody tr th:only-of-type {\n",
       "        vertical-align: middle;\n",
       "    }\n",
       "\n",
       "    .dataframe tbody tr th {\n",
       "        vertical-align: top;\n",
       "    }\n",
       "\n",
       "    .dataframe thead th {\n",
       "        text-align: right;\n",
       "    }\n",
       "</style>\n",
       "<table border=\"1\" class=\"dataframe\">\n",
       "  <thead>\n",
       "    <tr style=\"text-align: right;\">\n",
       "      <th></th>\n",
       "      <th>originalloanamount</th>\n",
       "      <th>originalloanterm</th>\n",
       "      <th>originalinterestratepercentage</th>\n",
       "      <th>graceperiodnumber</th>\n",
       "      <th>obligorcreditscore</th>\n",
       "      <th>paymenttoincomepercentage</th>\n",
       "      <th>reportingperiodbeginningloanbalanceamount</th>\n",
       "      <th>nextreportingperiodpaymentamountdue</th>\n",
       "      <th>reportingperiodinterestratepercentage</th>\n",
       "      <th>nextinterestratepercentage</th>\n",
       "      <th>...</th>\n",
       "      <th>zerobalance_[]</th>\n",
       "      <th>zerobalance_[\"99\"]</th>\n",
       "      <th>zerobalance_[\"1\"]</th>\n",
       "      <th>S&amp;P/Experian Auto Default Index</th>\n",
       "      <th>AutoIndex</th>\n",
       "      <th>BankCardIndex</th>\n",
       "      <th>FirstMortgageIndex</th>\n",
       "      <th>SecondMortgageIndex</th>\n",
       "      <th>CompositeIndex</th>\n",
       "      <th>label</th>\n",
       "    </tr>\n",
       "  </thead>\n",
       "  <tbody>\n",
       "    <tr>\n",
       "      <th>0</th>\n",
       "      <td>11940.46</td>\n",
       "      <td>60</td>\n",
       "      <td>0.2149</td>\n",
       "      <td>1</td>\n",
       "      <td>573.0</td>\n",
       "      <td>0.169781</td>\n",
       "      <td>6160.80</td>\n",
       "      <td>1225.49</td>\n",
       "      <td>0.2149</td>\n",
       "      <td>0.2149</td>\n",
       "      <td>...</td>\n",
       "      <td>1</td>\n",
       "      <td>0</td>\n",
       "      <td>0</td>\n",
       "      <td>0.0107</td>\n",
       "      <td>1.10</td>\n",
       "      <td>3.44</td>\n",
       "      <td>0.68</td>\n",
       "      <td>1.22</td>\n",
       "      <td>0.91</td>\n",
       "      <td>1.0</td>\n",
       "    </tr>\n",
       "    <tr>\n",
       "      <th>1</th>\n",
       "      <td>17501.22</td>\n",
       "      <td>62</td>\n",
       "      <td>0.0190</td>\n",
       "      <td>2</td>\n",
       "      <td>814.0</td>\n",
       "      <td>0.061246</td>\n",
       "      <td>4925.58</td>\n",
       "      <td>0.00</td>\n",
       "      <td>0.0190</td>\n",
       "      <td>0.0190</td>\n",
       "      <td>...</td>\n",
       "      <td>1</td>\n",
       "      <td>0</td>\n",
       "      <td>0</td>\n",
       "      <td>0.0100</td>\n",
       "      <td>1.00</td>\n",
       "      <td>3.31</td>\n",
       "      <td>0.75</td>\n",
       "      <td>0.57</td>\n",
       "      <td>0.94</td>\n",
       "      <td>0.0</td>\n",
       "    </tr>\n",
       "    <tr>\n",
       "      <th>2</th>\n",
       "      <td>13310.93</td>\n",
       "      <td>72</td>\n",
       "      <td>0.1897</td>\n",
       "      <td>2</td>\n",
       "      <td>578.0</td>\n",
       "      <td>0.050482</td>\n",
       "      <td>13310.93</td>\n",
       "      <td>463.85</td>\n",
       "      <td>0.1729</td>\n",
       "      <td>0.1729</td>\n",
       "      <td>...</td>\n",
       "      <td>1</td>\n",
       "      <td>0</td>\n",
       "      <td>0</td>\n",
       "      <td>0.0107</td>\n",
       "      <td>1.10</td>\n",
       "      <td>3.44</td>\n",
       "      <td>0.68</td>\n",
       "      <td>1.22</td>\n",
       "      <td>0.91</td>\n",
       "      <td>0.0</td>\n",
       "    </tr>\n",
       "    <tr>\n",
       "      <th>3</th>\n",
       "      <td>21427.33</td>\n",
       "      <td>72</td>\n",
       "      <td>0.0651</td>\n",
       "      <td>1</td>\n",
       "      <td>581.0</td>\n",
       "      <td>0.041312</td>\n",
       "      <td>20936.74</td>\n",
       "      <td>793.31</td>\n",
       "      <td>0.0651</td>\n",
       "      <td>0.0651</td>\n",
       "      <td>...</td>\n",
       "      <td>1</td>\n",
       "      <td>0</td>\n",
       "      <td>0</td>\n",
       "      <td>0.0107</td>\n",
       "      <td>1.10</td>\n",
       "      <td>3.44</td>\n",
       "      <td>0.68</td>\n",
       "      <td>1.22</td>\n",
       "      <td>0.91</td>\n",
       "      <td>0.0</td>\n",
       "    </tr>\n",
       "    <tr>\n",
       "      <th>4</th>\n",
       "      <td>6200.00</td>\n",
       "      <td>60</td>\n",
       "      <td>0.1868</td>\n",
       "      <td>1</td>\n",
       "      <td>614.0</td>\n",
       "      <td>0.092229</td>\n",
       "      <td>6200.00</td>\n",
       "      <td>239.06</td>\n",
       "      <td>0.1868</td>\n",
       "      <td>0.1868</td>\n",
       "      <td>...</td>\n",
       "      <td>1</td>\n",
       "      <td>0</td>\n",
       "      <td>0</td>\n",
       "      <td>0.0105</td>\n",
       "      <td>1.05</td>\n",
       "      <td>3.22</td>\n",
       "      <td>0.74</td>\n",
       "      <td>0.51</td>\n",
       "      <td>0.94</td>\n",
       "      <td>0.0</td>\n",
       "    </tr>\n",
       "  </tbody>\n",
       "</table>\n",
       "<p>5 rows × 85 columns</p>\n",
       "</div>"
      ],
      "text/plain": [
       "   originalloanamount  originalloanterm  originalinterestratepercentage  \\\n",
       "0            11940.46                60                          0.2149   \n",
       "1            17501.22                62                          0.0190   \n",
       "2            13310.93                72                          0.1897   \n",
       "3            21427.33                72                          0.0651   \n",
       "4             6200.00                60                          0.1868   \n",
       "\n",
       "   graceperiodnumber  obligorcreditscore  paymenttoincomepercentage  \\\n",
       "0                  1               573.0                   0.169781   \n",
       "1                  2               814.0                   0.061246   \n",
       "2                  2               578.0                   0.050482   \n",
       "3                  1               581.0                   0.041312   \n",
       "4                  1               614.0                   0.092229   \n",
       "\n",
       "   reportingperiodbeginningloanbalanceamount  \\\n",
       "0                                    6160.80   \n",
       "1                                    4925.58   \n",
       "2                                   13310.93   \n",
       "3                                   20936.74   \n",
       "4                                    6200.00   \n",
       "\n",
       "   nextreportingperiodpaymentamountdue  reportingperiodinterestratepercentage  \\\n",
       "0                              1225.49                                 0.2149   \n",
       "1                                 0.00                                 0.0190   \n",
       "2                               463.85                                 0.1729   \n",
       "3                               793.31                                 0.0651   \n",
       "4                               239.06                                 0.1868   \n",
       "\n",
       "   nextinterestratepercentage  ...    zerobalance_[]  zerobalance_[\"99\"]  \\\n",
       "0                      0.2149  ...                 1                   0   \n",
       "1                      0.0190  ...                 1                   0   \n",
       "2                      0.1729  ...                 1                   0   \n",
       "3                      0.0651  ...                 1                   0   \n",
       "4                      0.1868  ...                 1                   0   \n",
       "\n",
       "   zerobalance_[\"1\"]  S&P/Experian Auto Default Index  AutoIndex  \\\n",
       "0                  0                           0.0107       1.10   \n",
       "1                  0                           0.0100       1.00   \n",
       "2                  0                           0.0107       1.10   \n",
       "3                  0                           0.0107       1.10   \n",
       "4                  0                           0.0105       1.05   \n",
       "\n",
       "   BankCardIndex  FirstMortgageIndex  SecondMortgageIndex  CompositeIndex  \\\n",
       "0           3.44                0.68                 1.22            0.91   \n",
       "1           3.31                0.75                 0.57            0.94   \n",
       "2           3.44                0.68                 1.22            0.91   \n",
       "3           3.44                0.68                 1.22            0.91   \n",
       "4           3.22                0.74                 0.51            0.94   \n",
       "\n",
       "   label  \n",
       "0    1.0  \n",
       "1    0.0  \n",
       "2    0.0  \n",
       "3    0.0  \n",
       "4    0.0  \n",
       "\n",
       "[5 rows x 85 columns]"
      ]
     },
     "execution_count": 4,
     "metadata": {},
     "output_type": "execute_result"
    }
   ],
   "source": [
    "df.head()"
   ]
  },
  {
   "cell_type": "code",
   "execution_count": 5,
   "metadata": {},
   "outputs": [
    {
     "data": {
      "text/plain": [
       "False"
      ]
     },
     "execution_count": 5,
     "metadata": {},
     "output_type": "execute_result"
    }
   ],
   "source": [
    "df.isnull().sum().any()"
   ]
  },
  {
   "cell_type": "code",
   "execution_count": 6,
   "metadata": {
    "collapsed": true
   },
   "outputs": [],
   "source": [
    "df.label.replace(1, -1, inplace=True)\n",
    "df.label.replace(0, 1, inplace=True)"
   ]
  },
  {
   "cell_type": "code",
   "execution_count": 7,
   "metadata": {},
   "outputs": [
    {
     "data": {
      "text/plain": [
       "(913751,)"
      ]
     },
     "execution_count": 7,
     "metadata": {},
     "output_type": "execute_result"
    }
   ],
   "source": [
    "# prepare label for scikit-learn\n",
    "Y=df.label.values\n",
    "Y.shape"
   ]
  },
  {
   "cell_type": "code",
   "execution_count": 8,
   "metadata": {},
   "outputs": [
    {
     "data": {
      "text/plain": [
       "(913751, 85)"
      ]
     },
     "execution_count": 8,
     "metadata": {},
     "output_type": "execute_result"
    }
   ],
   "source": [
    "# prepare input data for scikit-learn\n",
    "input=df.values\n",
    "input.shape"
   ]
  },
  {
   "cell_type": "code",
   "execution_count": 9,
   "metadata": {},
   "outputs": [
    {
     "name": "stdout",
     "output_type": "stream",
     "text": [
      "731000\n"
     ]
    }
   ],
   "source": [
    "# calculate train/test split\n",
    "\n",
    "len_train = int(len(input)*train_split)\n",
    "print(len_train)"
   ]
  },
  {
   "cell_type": "code",
   "execution_count": 10,
   "metadata": {},
   "outputs": [
    {
     "data": {
      "text/plain": [
       "(731000, 85)"
      ]
     },
     "execution_count": 10,
     "metadata": {},
     "output_type": "execute_result"
    }
   ],
   "source": [
    "# apply train/test split to labels\n",
    "y_train = Y[0:len_train]\n",
    "y_test = Y[len_train:]\n",
    "x_train = input[0:len_train]\n",
    "x_test = input[len_train:]\n",
    "x_train.shape"
   ]
  },
  {
   "cell_type": "code",
   "execution_count": 11,
   "metadata": {
    "collapsed": true
   },
   "outputs": [],
   "source": [
    "export_x_test = pd.DataFrame(data=x_test)"
   ]
  },
  {
   "cell_type": "code",
   "execution_count": 12,
   "metadata": {},
   "outputs": [
    {
     "data": {
      "text/html": [
       "<div>\n",
       "<style scoped>\n",
       "    .dataframe tbody tr th:only-of-type {\n",
       "        vertical-align: middle;\n",
       "    }\n",
       "\n",
       "    .dataframe tbody tr th {\n",
       "        vertical-align: top;\n",
       "    }\n",
       "\n",
       "    .dataframe thead th {\n",
       "        text-align: right;\n",
       "    }\n",
       "</style>\n",
       "<table border=\"1\" class=\"dataframe\">\n",
       "  <thead>\n",
       "    <tr style=\"text-align: right;\">\n",
       "      <th></th>\n",
       "      <th>originalloanamount</th>\n",
       "      <th>originalloanterm</th>\n",
       "      <th>originalinterestratepercentage</th>\n",
       "      <th>graceperiodnumber</th>\n",
       "      <th>obligorcreditscore</th>\n",
       "      <th>paymenttoincomepercentage</th>\n",
       "      <th>reportingperiodbeginningloanbalanceamount</th>\n",
       "      <th>nextreportingperiodpaymentamountdue</th>\n",
       "      <th>reportingperiodinterestratepercentage</th>\n",
       "      <th>nextinterestratepercentage</th>\n",
       "      <th>...</th>\n",
       "      <th>zerobalance_[]</th>\n",
       "      <th>zerobalance_[\"99\"]</th>\n",
       "      <th>zerobalance_[\"1\"]</th>\n",
       "      <th>S&amp;P/Experian Auto Default Index</th>\n",
       "      <th>AutoIndex</th>\n",
       "      <th>BankCardIndex</th>\n",
       "      <th>FirstMortgageIndex</th>\n",
       "      <th>SecondMortgageIndex</th>\n",
       "      <th>CompositeIndex</th>\n",
       "      <th>True Label</th>\n",
       "    </tr>\n",
       "  </thead>\n",
       "  <tbody>\n",
       "    <tr>\n",
       "      <th>0</th>\n",
       "      <td>15634.45</td>\n",
       "      <td>72.0</td>\n",
       "      <td>0.1823</td>\n",
       "      <td>1.0</td>\n",
       "      <td>605.0</td>\n",
       "      <td>0.073820</td>\n",
       "      <td>15634.45</td>\n",
       "      <td>540.94</td>\n",
       "      <td>0.1823</td>\n",
       "      <td>0.1823</td>\n",
       "      <td>...</td>\n",
       "      <td>1.0</td>\n",
       "      <td>0.0</td>\n",
       "      <td>0.0</td>\n",
       "      <td>0.0107</td>\n",
       "      <td>1.10</td>\n",
       "      <td>3.44</td>\n",
       "      <td>0.68</td>\n",
       "      <td>1.22</td>\n",
       "      <td>0.91</td>\n",
       "      <td>1.0</td>\n",
       "    </tr>\n",
       "    <tr>\n",
       "      <th>1</th>\n",
       "      <td>21551.70</td>\n",
       "      <td>60.0</td>\n",
       "      <td>0.1980</td>\n",
       "      <td>2.0</td>\n",
       "      <td>624.0</td>\n",
       "      <td>0.129555</td>\n",
       "      <td>20658.05</td>\n",
       "      <td>858.09</td>\n",
       "      <td>0.1968</td>\n",
       "      <td>0.1968</td>\n",
       "      <td>...</td>\n",
       "      <td>1.0</td>\n",
       "      <td>0.0</td>\n",
       "      <td>0.0</td>\n",
       "      <td>0.0107</td>\n",
       "      <td>1.10</td>\n",
       "      <td>3.44</td>\n",
       "      <td>0.68</td>\n",
       "      <td>1.22</td>\n",
       "      <td>0.91</td>\n",
       "      <td>1.0</td>\n",
       "    </tr>\n",
       "    <tr>\n",
       "      <th>2</th>\n",
       "      <td>66580.36</td>\n",
       "      <td>60.0</td>\n",
       "      <td>1.9000</td>\n",
       "      <td>1.0</td>\n",
       "      <td>779.0</td>\n",
       "      <td>3.710000</td>\n",
       "      <td>49478.29</td>\n",
       "      <td>0.00</td>\n",
       "      <td>1.9187</td>\n",
       "      <td>1.9187</td>\n",
       "      <td>...</td>\n",
       "      <td>0.0</td>\n",
       "      <td>1.0</td>\n",
       "      <td>0.0</td>\n",
       "      <td>0.0099</td>\n",
       "      <td>0.99</td>\n",
       "      <td>3.86</td>\n",
       "      <td>0.68</td>\n",
       "      <td>0.59</td>\n",
       "      <td>0.92</td>\n",
       "      <td>1.0</td>\n",
       "    </tr>\n",
       "    <tr>\n",
       "      <th>3</th>\n",
       "      <td>32845.00</td>\n",
       "      <td>72.0</td>\n",
       "      <td>12.5000</td>\n",
       "      <td>2.0</td>\n",
       "      <td>633.0</td>\n",
       "      <td>8.430000</td>\n",
       "      <td>32011.02</td>\n",
       "      <td>0.00</td>\n",
       "      <td>12.5000</td>\n",
       "      <td>12.5000</td>\n",
       "      <td>...</td>\n",
       "      <td>1.0</td>\n",
       "      <td>0.0</td>\n",
       "      <td>0.0</td>\n",
       "      <td>0.0090</td>\n",
       "      <td>1.00</td>\n",
       "      <td>3.31</td>\n",
       "      <td>0.75</td>\n",
       "      <td>0.57</td>\n",
       "      <td>0.94</td>\n",
       "      <td>1.0</td>\n",
       "    </tr>\n",
       "    <tr>\n",
       "      <th>4</th>\n",
       "      <td>58840.50</td>\n",
       "      <td>72.0</td>\n",
       "      <td>1.0000</td>\n",
       "      <td>0.0</td>\n",
       "      <td>842.0</td>\n",
       "      <td>6.400000</td>\n",
       "      <td>47673.87</td>\n",
       "      <td>0.00</td>\n",
       "      <td>1.0052</td>\n",
       "      <td>1.0052</td>\n",
       "      <td>...</td>\n",
       "      <td>0.0</td>\n",
       "      <td>1.0</td>\n",
       "      <td>0.0</td>\n",
       "      <td>0.0099</td>\n",
       "      <td>0.99</td>\n",
       "      <td>3.86</td>\n",
       "      <td>0.68</td>\n",
       "      <td>0.59</td>\n",
       "      <td>0.92</td>\n",
       "      <td>1.0</td>\n",
       "    </tr>\n",
       "  </tbody>\n",
       "</table>\n",
       "<p>5 rows × 85 columns</p>\n",
       "</div>"
      ],
      "text/plain": [
       "   originalloanamount  originalloanterm  originalinterestratepercentage  \\\n",
       "0            15634.45              72.0                          0.1823   \n",
       "1            21551.70              60.0                          0.1980   \n",
       "2            66580.36              60.0                          1.9000   \n",
       "3            32845.00              72.0                         12.5000   \n",
       "4            58840.50              72.0                          1.0000   \n",
       "\n",
       "   graceperiodnumber  obligorcreditscore  paymenttoincomepercentage  \\\n",
       "0                1.0               605.0                   0.073820   \n",
       "1                2.0               624.0                   0.129555   \n",
       "2                1.0               779.0                   3.710000   \n",
       "3                2.0               633.0                   8.430000   \n",
       "4                0.0               842.0                   6.400000   \n",
       "\n",
       "   reportingperiodbeginningloanbalanceamount  \\\n",
       "0                                   15634.45   \n",
       "1                                   20658.05   \n",
       "2                                   49478.29   \n",
       "3                                   32011.02   \n",
       "4                                   47673.87   \n",
       "\n",
       "   nextreportingperiodpaymentamountdue  reportingperiodinterestratepercentage  \\\n",
       "0                               540.94                                 0.1823   \n",
       "1                               858.09                                 0.1968   \n",
       "2                                 0.00                                 1.9187   \n",
       "3                                 0.00                                12.5000   \n",
       "4                                 0.00                                 1.0052   \n",
       "\n",
       "   nextinterestratepercentage     ...      zerobalance_[]  zerobalance_[\"99\"]  \\\n",
       "0                      0.1823     ...                 1.0                 0.0   \n",
       "1                      0.1968     ...                 1.0                 0.0   \n",
       "2                      1.9187     ...                 0.0                 1.0   \n",
       "3                     12.5000     ...                 1.0                 0.0   \n",
       "4                      1.0052     ...                 0.0                 1.0   \n",
       "\n",
       "   zerobalance_[\"1\"]  S&P/Experian Auto Default Index  AutoIndex  \\\n",
       "0                0.0                           0.0107       1.10   \n",
       "1                0.0                           0.0107       1.10   \n",
       "2                0.0                           0.0099       0.99   \n",
       "3                0.0                           0.0090       1.00   \n",
       "4                0.0                           0.0099       0.99   \n",
       "\n",
       "   BankCardIndex  FirstMortgageIndex  SecondMortgageIndex  CompositeIndex  \\\n",
       "0           3.44                0.68                 1.22            0.91   \n",
       "1           3.44                0.68                 1.22            0.91   \n",
       "2           3.86                0.68                 0.59            0.92   \n",
       "3           3.31                0.75                 0.57            0.94   \n",
       "4           3.86                0.68                 0.59            0.92   \n",
       "\n",
       "   True Label  \n",
       "0         1.0  \n",
       "1         1.0  \n",
       "2         1.0  \n",
       "3         1.0  \n",
       "4         1.0  \n",
       "\n",
       "[5 rows x 85 columns]"
      ]
     },
     "execution_count": 12,
     "metadata": {},
     "output_type": "execute_result"
    }
   ],
   "source": [
    "export_x_test.columns=column_list\n",
    "export_x_test.rename(columns={'label':'True Label'}, inplace=True)\n",
    "export_x_test.head()"
   ]
  },
  {
   "cell_type": "code",
   "execution_count": 13,
   "metadata": {
    "collapsed": true
   },
   "outputs": [],
   "source": [
    "#from sklearn.preprocessing import MinMaxScaler\n",
    "# from sklearn.preprocessing import minmax_scale\n",
    "# from sklearn.preprocessing import MaxAbsScaler\n",
    "from sklearn.preprocessing import StandardScaler\n",
    "# from sklearn.preprocessing import RobustScaler\n",
    "# from sklearn.preprocessing import Normalizer\n",
    "# from sklearn.preprocessing import QuantileTransformer\n",
    "# from sklearn.preprocessing import PowerTransformer"
   ]
  },
  {
   "cell_type": "code",
   "execution_count": 14,
   "metadata": {
    "collapsed": true
   },
   "outputs": [],
   "source": [
    "x_scaler=StandardScaler()\n",
    "x_train = x_scaler.fit_transform(x_train)\n",
    "x_test = x_scaler.fit_transform(x_test)"
   ]
  },
  {
   "cell_type": "code",
   "execution_count": 15,
   "metadata": {
    "collapsed": true
   },
   "outputs": [],
   "source": [
    "clf_LOF = LocalOutlierFactor(n_neighbors=20, metric='euclidean', algorithm='auto', contamination=0.15, n_jobs=-1)\n",
    "#clf_LOF = LocalOutlierFactor(n_neighbors=20)"
   ]
  },
  {
   "cell_type": "code",
   "execution_count": 16,
   "metadata": {},
   "outputs": [
    {
     "data": {
      "text/plain": [
       "LocalOutlierFactor(algorithm='auto', contamination=0.15, leaf_size=30,\n",
       "          metric='euclidean', metric_params=None, n_jobs=-1,\n",
       "          n_neighbors=20, p=2)"
      ]
     },
     "execution_count": 16,
     "metadata": {},
     "output_type": "execute_result"
    }
   ],
   "source": [
    "clf_LOF.fit(x_test)"
   ]
  },
  {
   "cell_type": "code",
   "execution_count": 17,
   "metadata": {
    "collapsed": true
   },
   "outputs": [],
   "source": [
    "#_scores=clf_LOF.negative_outlier_factor_"
   ]
  },
  {
   "cell_type": "code",
   "execution_count": 18,
   "metadata": {
    "collapsed": true
   },
   "outputs": [],
   "source": [
    "x_pred = x_test"
   ]
  },
  {
   "cell_type": "code",
   "execution_count": 19,
   "metadata": {
    "collapsed": true
   },
   "outputs": [],
   "source": [
    "prediction_LOF = clf_LOF.fit_predict(x_pred)"
   ]
  },
  {
   "cell_type": "code",
   "execution_count": 20,
   "metadata": {},
   "outputs": [
    {
     "data": {
      "text/plain": [
       "array([-1,  1])"
      ]
     },
     "execution_count": 20,
     "metadata": {},
     "output_type": "execute_result"
    }
   ],
   "source": [
    "np.unique(prediction_LOF)"
   ]
  },
  {
   "cell_type": "code",
   "execution_count": 21,
   "metadata": {
    "collapsed": true
   },
   "outputs": [],
   "source": [
    "export_x_test['Predicted Label']=prediction_LOF"
   ]
  },
  {
   "cell_type": "code",
   "execution_count": 22,
   "metadata": {},
   "outputs": [
    {
     "data": {
      "text/html": [
       "<div>\n",
       "<style scoped>\n",
       "    .dataframe tbody tr th:only-of-type {\n",
       "        vertical-align: middle;\n",
       "    }\n",
       "\n",
       "    .dataframe tbody tr th {\n",
       "        vertical-align: top;\n",
       "    }\n",
       "\n",
       "    .dataframe thead th {\n",
       "        text-align: right;\n",
       "    }\n",
       "</style>\n",
       "<table border=\"1\" class=\"dataframe\">\n",
       "  <thead>\n",
       "    <tr style=\"text-align: right;\">\n",
       "      <th></th>\n",
       "      <th>originalloanamount</th>\n",
       "      <th>originalloanterm</th>\n",
       "      <th>originalinterestratepercentage</th>\n",
       "      <th>graceperiodnumber</th>\n",
       "      <th>obligorcreditscore</th>\n",
       "      <th>paymenttoincomepercentage</th>\n",
       "      <th>reportingperiodbeginningloanbalanceamount</th>\n",
       "      <th>nextreportingperiodpaymentamountdue</th>\n",
       "      <th>reportingperiodinterestratepercentage</th>\n",
       "      <th>nextinterestratepercentage</th>\n",
       "      <th>...</th>\n",
       "      <th>zerobalance_[\"99\"]</th>\n",
       "      <th>zerobalance_[\"1\"]</th>\n",
       "      <th>S&amp;P/Experian Auto Default Index</th>\n",
       "      <th>AutoIndex</th>\n",
       "      <th>BankCardIndex</th>\n",
       "      <th>FirstMortgageIndex</th>\n",
       "      <th>SecondMortgageIndex</th>\n",
       "      <th>CompositeIndex</th>\n",
       "      <th>True Label</th>\n",
       "      <th>Predicted Label</th>\n",
       "    </tr>\n",
       "  </thead>\n",
       "  <tbody>\n",
       "    <tr>\n",
       "      <th>0</th>\n",
       "      <td>15634.45</td>\n",
       "      <td>72.0</td>\n",
       "      <td>0.1823</td>\n",
       "      <td>1.0</td>\n",
       "      <td>605.0</td>\n",
       "      <td>0.073820</td>\n",
       "      <td>15634.45</td>\n",
       "      <td>540.94</td>\n",
       "      <td>0.1823</td>\n",
       "      <td>0.1823</td>\n",
       "      <td>...</td>\n",
       "      <td>0.0</td>\n",
       "      <td>0.0</td>\n",
       "      <td>0.0107</td>\n",
       "      <td>1.10</td>\n",
       "      <td>3.44</td>\n",
       "      <td>0.68</td>\n",
       "      <td>1.22</td>\n",
       "      <td>0.91</td>\n",
       "      <td>1.0</td>\n",
       "      <td>1</td>\n",
       "    </tr>\n",
       "    <tr>\n",
       "      <th>1</th>\n",
       "      <td>21551.70</td>\n",
       "      <td>60.0</td>\n",
       "      <td>0.1980</td>\n",
       "      <td>2.0</td>\n",
       "      <td>624.0</td>\n",
       "      <td>0.129555</td>\n",
       "      <td>20658.05</td>\n",
       "      <td>858.09</td>\n",
       "      <td>0.1968</td>\n",
       "      <td>0.1968</td>\n",
       "      <td>...</td>\n",
       "      <td>0.0</td>\n",
       "      <td>0.0</td>\n",
       "      <td>0.0107</td>\n",
       "      <td>1.10</td>\n",
       "      <td>3.44</td>\n",
       "      <td>0.68</td>\n",
       "      <td>1.22</td>\n",
       "      <td>0.91</td>\n",
       "      <td>1.0</td>\n",
       "      <td>1</td>\n",
       "    </tr>\n",
       "    <tr>\n",
       "      <th>2</th>\n",
       "      <td>66580.36</td>\n",
       "      <td>60.0</td>\n",
       "      <td>1.9000</td>\n",
       "      <td>1.0</td>\n",
       "      <td>779.0</td>\n",
       "      <td>3.710000</td>\n",
       "      <td>49478.29</td>\n",
       "      <td>0.00</td>\n",
       "      <td>1.9187</td>\n",
       "      <td>1.9187</td>\n",
       "      <td>...</td>\n",
       "      <td>1.0</td>\n",
       "      <td>0.0</td>\n",
       "      <td>0.0099</td>\n",
       "      <td>0.99</td>\n",
       "      <td>3.86</td>\n",
       "      <td>0.68</td>\n",
       "      <td>0.59</td>\n",
       "      <td>0.92</td>\n",
       "      <td>1.0</td>\n",
       "      <td>1</td>\n",
       "    </tr>\n",
       "    <tr>\n",
       "      <th>3</th>\n",
       "      <td>32845.00</td>\n",
       "      <td>72.0</td>\n",
       "      <td>12.5000</td>\n",
       "      <td>2.0</td>\n",
       "      <td>633.0</td>\n",
       "      <td>8.430000</td>\n",
       "      <td>32011.02</td>\n",
       "      <td>0.00</td>\n",
       "      <td>12.5000</td>\n",
       "      <td>12.5000</td>\n",
       "      <td>...</td>\n",
       "      <td>0.0</td>\n",
       "      <td>0.0</td>\n",
       "      <td>0.0090</td>\n",
       "      <td>1.00</td>\n",
       "      <td>3.31</td>\n",
       "      <td>0.75</td>\n",
       "      <td>0.57</td>\n",
       "      <td>0.94</td>\n",
       "      <td>1.0</td>\n",
       "      <td>1</td>\n",
       "    </tr>\n",
       "    <tr>\n",
       "      <th>4</th>\n",
       "      <td>58840.50</td>\n",
       "      <td>72.0</td>\n",
       "      <td>1.0000</td>\n",
       "      <td>0.0</td>\n",
       "      <td>842.0</td>\n",
       "      <td>6.400000</td>\n",
       "      <td>47673.87</td>\n",
       "      <td>0.00</td>\n",
       "      <td>1.0052</td>\n",
       "      <td>1.0052</td>\n",
       "      <td>...</td>\n",
       "      <td>1.0</td>\n",
       "      <td>0.0</td>\n",
       "      <td>0.0099</td>\n",
       "      <td>0.99</td>\n",
       "      <td>3.86</td>\n",
       "      <td>0.68</td>\n",
       "      <td>0.59</td>\n",
       "      <td>0.92</td>\n",
       "      <td>1.0</td>\n",
       "      <td>1</td>\n",
       "    </tr>\n",
       "  </tbody>\n",
       "</table>\n",
       "<p>5 rows × 86 columns</p>\n",
       "</div>"
      ],
      "text/plain": [
       "   originalloanamount  originalloanterm  originalinterestratepercentage  \\\n",
       "0            15634.45              72.0                          0.1823   \n",
       "1            21551.70              60.0                          0.1980   \n",
       "2            66580.36              60.0                          1.9000   \n",
       "3            32845.00              72.0                         12.5000   \n",
       "4            58840.50              72.0                          1.0000   \n",
       "\n",
       "   graceperiodnumber  obligorcreditscore  paymenttoincomepercentage  \\\n",
       "0                1.0               605.0                   0.073820   \n",
       "1                2.0               624.0                   0.129555   \n",
       "2                1.0               779.0                   3.710000   \n",
       "3                2.0               633.0                   8.430000   \n",
       "4                0.0               842.0                   6.400000   \n",
       "\n",
       "   reportingperiodbeginningloanbalanceamount  \\\n",
       "0                                   15634.45   \n",
       "1                                   20658.05   \n",
       "2                                   49478.29   \n",
       "3                                   32011.02   \n",
       "4                                   47673.87   \n",
       "\n",
       "   nextreportingperiodpaymentamountdue  reportingperiodinterestratepercentage  \\\n",
       "0                               540.94                                 0.1823   \n",
       "1                               858.09                                 0.1968   \n",
       "2                                 0.00                                 1.9187   \n",
       "3                                 0.00                                12.5000   \n",
       "4                                 0.00                                 1.0052   \n",
       "\n",
       "   nextinterestratepercentage       ...         zerobalance_[\"99\"]  \\\n",
       "0                      0.1823       ...                        0.0   \n",
       "1                      0.1968       ...                        0.0   \n",
       "2                      1.9187       ...                        1.0   \n",
       "3                     12.5000       ...                        0.0   \n",
       "4                      1.0052       ...                        1.0   \n",
       "\n",
       "   zerobalance_[\"1\"]  S&P/Experian Auto Default Index  AutoIndex  \\\n",
       "0                0.0                           0.0107       1.10   \n",
       "1                0.0                           0.0107       1.10   \n",
       "2                0.0                           0.0099       0.99   \n",
       "3                0.0                           0.0090       1.00   \n",
       "4                0.0                           0.0099       0.99   \n",
       "\n",
       "   BankCardIndex  FirstMortgageIndex  SecondMortgageIndex  CompositeIndex  \\\n",
       "0           3.44                0.68                 1.22            0.91   \n",
       "1           3.44                0.68                 1.22            0.91   \n",
       "2           3.86                0.68                 0.59            0.92   \n",
       "3           3.31                0.75                 0.57            0.94   \n",
       "4           3.86                0.68                 0.59            0.92   \n",
       "\n",
       "   True Label  Predicted Label  \n",
       "0         1.0                1  \n",
       "1         1.0                1  \n",
       "2         1.0                1  \n",
       "3         1.0                1  \n",
       "4         1.0                1  \n",
       "\n",
       "[5 rows x 86 columns]"
      ]
     },
     "execution_count": 22,
     "metadata": {},
     "output_type": "execute_result"
    }
   ],
   "source": [
    "export_x_test.head()"
   ]
  },
  {
   "cell_type": "code",
   "execution_count": 23,
   "metadata": {},
   "outputs": [
    {
     "data": {
      "text/plain": [
       "(182751, 86)"
      ]
     },
     "execution_count": 23,
     "metadata": {},
     "output_type": "execute_result"
    }
   ],
   "source": [
    "export_x_test.shape"
   ]
  },
  {
   "cell_type": "code",
   "execution_count": 24,
   "metadata": {
    "collapsed": true
   },
   "outputs": [],
   "source": [
    "export_x_test.to_csv(path+\"prediction/LOF/predicated_LOF_abs_loans_\"+str(nrows)+\".csv\", chunksize=10000)"
   ]
  },
  {
   "cell_type": "code",
   "execution_count": 25,
   "metadata": {
    "collapsed": true
   },
   "outputs": [],
   "source": [
    "def plot_confusion_matrix(cm, title, classes=['non-Current', 'Current'],\n",
    "                          cmap=plt.cm.Blues, save=False, saveas=\"MyFigure.png\"):\n",
    "    \n",
    "    \n",
    "    cm = cm.astype('float') / cm.sum(axis=1)[:, np.newaxis]\n",
    "    \n",
    "    plt.imshow(cm, interpolation='nearest', cmap=cmap)\n",
    "    plt.title(title)\n",
    "    plt.colorbar()\n",
    "    tick_marks = np.arange(len(classes))\n",
    "    plt.xticks(tick_marks, classes, rotation=90)\n",
    "    plt.yticks(tick_marks, classes)\n",
    "\n",
    "    fmt = '.1%'\n",
    "    thresh = cm.max() / 2.\n",
    "    for i, j in itertools.product(range(cm.shape[0]), range(cm.shape[1])):\n",
    "        plt.text(j, i, format(cm[i, j], fmt),\n",
    "                 horizontalalignment=\"center\",\n",
    "                 color=\"white\" if cm[i, j] > thresh else \"black\")\n",
    "\n",
    "    plt.tight_layout()\n",
    "    plt.ylabel('True label')\n",
    "    plt.xlabel('Predicted label')\n",
    "    \n",
    "    if save:\n",
    "        plt.savefig(saveas, dpi=100)"
   ]
  },
  {
   "cell_type": "code",
   "execution_count": 26,
   "metadata": {
    "collapsed": true
   },
   "outputs": [],
   "source": [
    "def plot_gridsearch_cv(results, estimator, x_min, x_max, y_min, y_max,save=False, saveas=\"MyFigure.png\"):\n",
    "    \n",
    "    \n",
    "    plt.figure(figsize=(10,8))\n",
    "    plt.title(\"GridSearchCV for \"+estimator, fontsize=24)\n",
    "\n",
    "    plt.xlabel(estimator)\n",
    "    plt.ylabel(\"Score\")\n",
    "    plt.grid()\n",
    "\n",
    "    ax = plt.axes()\n",
    "    ax.set_xlim(x_min, x_max)\n",
    "    ax.set_ylim(y_min, y_max)\n",
    "\n",
    "    pad = 0.005\n",
    "    X_axis = np.array(results[\"param_\"+estimator].data, dtype=float)\n",
    "\n",
    "    for scorer, color in zip(sorted(scoring), ['b', 'k']):\n",
    "        for sample, style in (('train', '--'), ('test', '-')):\n",
    "            sample_score_mean = results['mean_%s_%s' % (sample, scorer)]\n",
    "            sample_score_std = results['std_%s_%s' % (sample, scorer)]\n",
    "            ax.fill_between(X_axis, sample_score_mean - sample_score_std,\n",
    "                        sample_score_mean + sample_score_std,\n",
    "                        alpha=0.1 if sample == 'test' else 0, color=color)\n",
    "            ax.plot(X_axis, sample_score_mean, style, color=color,\n",
    "                alpha=1 if sample == 'test' else 0.7,\n",
    "                label=\"%s (%s)\" % (scorer, sample))\n",
    "\n",
    "        best_index = np.nonzero(results['rank_test_%s' % scorer] == 1)[0][0]\n",
    "        best_score = results['mean_test_%s' % scorer][best_index]\n",
    "\n",
    "        # Plot a dotted vertical line at the best score for that scorer marked by x\n",
    "        ax.plot([X_axis[best_index], ] * 2, [0, best_score],\n",
    "            linestyle='-.', color=color, marker='x', markeredgewidth=3, ms=8)\n",
    "\n",
    "        # Annotate the best score for that scorer\n",
    "        ax.annotate(\"%0.2f\" % best_score,\n",
    "                (X_axis[best_index], best_score+pad))\n",
    "\n",
    "    plt.legend(loc=\"best\")\n",
    "    plt.grid('off')\n",
    "    plt.tight_layout()\n",
    "    if save:\n",
    "        plt.savefig(saveas, dpi=100)\n",
    "        \n",
    "    plt.show()"
   ]
  },
  {
   "cell_type": "code",
   "execution_count": 27,
   "metadata": {},
   "outputs": [
    {
     "name": "stdout",
     "output_type": "stream",
     "text": [
      "             precision    recall  f1-score   support\n",
      "\n",
      "Non-Current       0.08      0.14      0.10     16184\n",
      "    Current       0.91      0.85      0.88    166567\n",
      "\n",
      "avg / total       0.84      0.79      0.81    182751\n",
      "\n",
      "AUC:  49.3%\n"
     ]
    },
    {
     "data": {
      "image/png": "[encoded data removed]",
      "text/plain": [
       "<matplotlib.figure.Figure at 0x173880adc88>"
      ]
     },
     "metadata": {},
     "output_type": "display_data"
    }
   ],
   "source": [
    "print(classification_report(y_test, prediction_LOF, target_names=['Non-Current', 'Current']))\n",
    "print (\"AUC: \", \"{:.1%}\".format(roc_auc_score(y_test, prediction_LOF)))\n",
    "cm = confusion_matrix(y_test, prediction_LOF)\n",
    "plot_confusion_matrix(cm, title=\"Local Outlier Factor Confusion Matrix\",save=True, \n",
    "                      saveas='prediction/LOF/cm'+str(' Local Outlier Factor Accuracy-')+str(nrows)+'.jpg')\n"
   ]
  },
  {
   "cell_type": "code",
   "execution_count": 28,
   "metadata": {},
   "outputs": [
    {
     "name": "stdout",
     "output_type": "stream",
     "text": [
      "ROC_AUC_SCORE ;  0.493063724265\n",
      "Confusion matrix, without normalization\n",
      "[[  2223  13961]\n",
      " [ 25190 141377]]\n"
     ]
    },
    {
     "data": {
      "image/png": "[encoded data removed]",
      "text/plain": [
       "<matplotlib.figure.Figure at 0x173a4ab9ba8>"
      ]
     },
     "metadata": {},
     "output_type": "display_data"
    }
   ],
   "source": [
    "class_names = ['Non-Current', 'Current']\n",
    "\n",
    "def plot_confusion_matrix(cm, classes,\n",
    "                          normalize=False,\n",
    "                          title='Confusion matrix',\n",
    "                          cmap=plt.cm.Blues):\n",
    "    \"\"\"\n",
    "    This function prints and plots the confusion matrix.\n",
    "    Normalization can be applied by setting `normalize=True`.\n",
    "    \"\"\"\n",
    "    if normalize:\n",
    "        cm = cm.astype('float') / cm.sum(axis=1)[:, np.newaxis]\n",
    "        print(\"Normalized confusion matrix\")\n",
    "    else:\n",
    "        print('Confusion matrix, without normalization')\n",
    "\n",
    "    print(cm)\n",
    "\n",
    "    plt.imshow(cm, interpolation='nearest', cmap=cmap)\n",
    "    plt.title(title)\n",
    "    plt.colorbar()\n",
    "    tick_marks = np.arange(len(classes))\n",
    "    plt.xticks(tick_marks, classes, rotation=45)\n",
    "    plt.yticks(tick_marks, classes)\n",
    "\n",
    "    fmt = '.2f' if normalize else 'd'\n",
    "    thresh = cm.max() / 2.\n",
    "    for i, j in itertools.product(range(cm.shape[0]), range(cm.shape[1])):\n",
    "        plt.text(j, i, format(cm[i, j], fmt),\n",
    "                 horizontalalignment=\"center\",\n",
    "                 color=\"white\" if cm[i, j] > thresh else \"black\")\n",
    "\n",
    "    plt.ylabel('True label')\n",
    "    plt.xlabel('Predicted label')\n",
    "    plt.tight_layout()\n",
    "\n",
    "\n",
    "print('ROC_AUC_SCORE ; ', roc_auc_score(y_test, prediction_LOF))\n",
    "# Compute confusion matrix\n",
    "cnf_matrix = confusion_matrix(y_test, prediction_LOF)\n",
    "np.set_printoptions(precision=2)\n",
    "\n",
    "# Plot non-normalized confusion matrix\n",
    "plt.figure()\n",
    "plot_confusion_matrix(cnf_matrix, classes=class_names, title= 'Confusion matrix, Local Outlier Factor')\n",
    "plt.savefig('prediction/LOF/cm'+str(' Local Outlier Factor Prediction-')+str(nrows)+'.jpg')\n",
    "plt.show()"
   ]
  }
 ],
 "metadata": {
  "kernelspec": {
   "display_name": "Python [conda env:Anaconda3]",
   "language": "python",
   "name": "conda-env-Anaconda3-py"
  },
  "language_info": {
   "codemirror_mode": {
    "name": "ipython",
    "version": 3
   },
   "file_extension": ".py",
   "mimetype": "text/x-python",
   "name": "python",
   "nbconvert_exporter": "python",
   "pygments_lexer": "ipython3",
   "version": "3.5.5"
  }
 },
 "nbformat": 4,
 "nbformat_minor": 2
}
