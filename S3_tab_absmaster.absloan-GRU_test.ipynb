{
 "cells": [
  {
   "cell_type": "code",
   "execution_count": 133,
   "metadata": {
    "scrolled": false
   },
   "outputs": [
    {
     "data": {
      "text/plain": [
       "'1.8.0'"
      ]
     },
     "execution_count": 133,
     "metadata": {},
     "output_type": "execute_result"
    }
   ],
   "source": [
    "import time\n",
    "import pandas as pd\n",
    "import numpy as np\n",
    "from matplotlib import pyplot as plt\n",
    "import tensorflow as tf\n",
    "from tensorflow import keras\n",
    "from keras import optimizers\n",
    "from keras.models import Sequential\n",
    "from keras.layers import Input, Dense, Dropout, LSTM, GRU\n",
    "from keras.models import Model, load_model\n",
    "from keras.callbacks import ModelCheckpoint, TensorBoard\n",
    "from keras import regularizers\n",
    "tf.__version__\n",
    "\n",
    "\n",
    "#import seaborn as sns\n",
    "#from sklearn.model_selection import train_test_split\n",
    "#from sklearn.metrics import confusion_matrix, precision_recall_curve\n",
    "#from sklearn.metrics import recall_score, classification_report, auc, roc_curve\n",
    "#from sklearn.metrics import precision_recall_fscore_support, f1_score\n",
    "#from sklearn.preprocessing import StandardScaler\n",
    "from pylab import rcParams\n",
    "tf.__version__"
   ]
  },
  {
   "cell_type": "markdown",
   "metadata": {},
   "source": [
    "# Model Name"
   ]
  },
  {
   "cell_type": "code",
   "execution_count": 134,
   "metadata": {
    "collapsed": true
   },
   "outputs": [],
   "source": [
    "name = \"ABS_Keras-GRU254GRU128D32D2-adam{}\".format(int(time.time()))\n",
    "#name_noTime = \"ABS_Keras-LSTM128LSTM128D32D2-adam\""
   ]
  },
  {
   "cell_type": "markdown",
   "metadata": {},
   "source": [
    "# Choose default months & paths, columns(features) and number of loans to load, train/test split"
   ]
  },
  {
   "cell_type": "code",
   "execution_count": 135,
   "metadata": {
    "collapsed": true
   },
   "outputs": [],
   "source": [
    "#parameters to choose\n",
    "\n",
    "default_months = 6\n",
    "nrows = 1000000\n",
    "train_split = 0.80\n",
    "model = keras\n",
    "path = 'c:/users/ugy1/abs/'\n",
    "rows_for_prediction = 1000\n",
    "cutOfffForOriginationDate='2012-01-01'\n",
    "\n",
    "all_columns = [\n",
    "    'abs_loan.cik',\n",
    " 'abs_loan.accessionnumber',\n",
    " 'abs_loan.assettypenumber',\n",
    " 'abs_loan.assetnumber',\n",
    " 'abs_loan.reportingperiodbeginningdate',\n",
    " 'abs_loan.reportingperiodendingdate',\n",
    " 'abs_loan.originatorname',\n",
    " 'abs_loan.originationdate',\n",
    " 'abs_loan.originalloanamount',\n",
    " 'abs_loan.originalloanterm',\n",
    " 'abs_loan.loanmaturitydate',\n",
    " 'abs_loan.originalinterestratepercentage',\n",
    " 'abs_loan.interestcalculationtypecode',\n",
    " 'abs_loan.originalinterestratetypecode',\n",
    " 'abs_loan.originalinterestonlytermnumber',\n",
    " 'abs_loan.originalfirstpaymentdate',\n",
    " 'abs_loan.underwritingindicator',\n",
    " 'abs_loan.graceperiodnumber',\n",
    " 'abs_loan.paymenttypecode',\n",
    " 'abs_loan.subvented',\n",
    " 'abs_loan.vehiclemanufacturername',\n",
    " 'abs_loan.vehiclemodelname',\n",
    " 'abs_loan.vehiclenewusedcode',\n",
    " 'abs_loan.vehiclemodelyear',\n",
    " 'abs_loan.vehicletypecode',\n",
    " 'abs_loan.vehiclevalueamount',\n",
    " 'abs_loan.vehiclevaluesourcecode',\n",
    " 'abs_loan.obligorcreditscoretype',\n",
    " 'abs_loan.obligorcreditscore',\n",
    " 'abs_loan.obligorincomeverificationlevelcode',\n",
    " 'abs_loan.obligoremploymentverificationcode',\n",
    " 'abs_loan.coobligorindicator',\n",
    " 'abs_loan.paymenttoincomepercentage',\n",
    " 'abs_loan.obligorgeographiclocation',\n",
    " 'abs_loan.assetaddedindicator',\n",
    " 'abs_loan.remainingtermtomaturitynumber',\n",
    " 'abs_loan.reportingperiodmodificationindicator',\n",
    " 'abs_loan.servicingadvancemethodcode',\n",
    " 'abs_loan.reportingperiodbeginningloanbalanceamount',\n",
    " 'abs_loan.nextreportingperiodpaymentamountdue',\n",
    " 'abs_loan.reportingperiodinterestratepercentage',\n",
    " 'abs_loan.nextinterestratepercentage',\n",
    " 'abs_loan.servicingfeepercentage',\n",
    " 'abs_loan.servicingflatfeeamount',\n",
    " 'abs_loan.otherservicerfeeretainedbyservicer',\n",
    " 'abs_loan.otherassesseduncollectedservicerfeeamount',\n",
    " 'abs_loan.scheduledinterestamount',\n",
    " 'abs_loan.scheduledprincipalamount',\n",
    " 'abs_loan.otherprincipaladjustmentamount',\n",
    " 'abs_loan.reportingperiodactualendbalanceamount',\n",
    " 'abs_loan.reportingperiodscheduledpaymentamount',\n",
    " 'abs_loan.totalactualamountpaid',\n",
    " 'abs_loan.actualinterestcollectedamount',\n",
    " 'abs_loan.actualprincipalcollectedamount',\n",
    " 'abs_loan.actualothercollectedamount',\n",
    " 'abs_loan.serviceradvancedamount',\n",
    " 'abs_loan.interestpaidthroughdate',\n",
    " 'abs_loan.zerobalanceeffectivedate',\n",
    " 'abs_loan.zerobalancecode',\n",
    " 'abs_loan.currentdelinquencystatus',\n",
    " 'abs_loan.primaryloanservicername',\n",
    " 'abs_loan.mostrecentservicingtransferreceiveddate',\n",
    " 'abs_loan.assetsubjectdemandindicator',\n",
    " 'abs_loan.assetsubjectdemandstatuscode',\n",
    " 'abs_loan.repurchaseamount',\n",
    " 'abs_loan.demandresolutiondate',\n",
    " 'abs_loan.repurchasername',\n",
    " 'abs_loan.repurchasereplacementreasoncode',\n",
    " 'abs_loan.chargedoffprincipalamount',\n",
    " 'abs_loan.recoveredamount',\n",
    " 'abs_loan.modificationtypecode',\n",
    " 'abs_loan.paymentextendednumber',\n",
    " 'abs_loan.repossessedindicator',\n",
    " 'abs_loan.repossessedproceedsamount']\n",
    "\n",
    "use_columns = ['abs_loan.originationdate', 'abs_loan.originalloanamount','abs_loan.originalloanterm',\n",
    "'abs_loan.originalinterestratepercentage','abs_loan.subvented','abs_loan.vehiclenewusedcode','abs_loan.vehiclevalueamount',\n",
    "'abs_loan.obligorcreditscore','abs_loan.obligorincomeverificationlevelcode','abs_loan.obligoremploymentverificationcode',\n",
    "'abs_loan.paymenttoincomepercentage','abs_loan.remainingtermtomaturitynumber',\n",
    "'abs_loan.reportingperiodbeginningloanbalanceamount','abs_loan.nextreportingperiodpaymentamountdue',\n",
    "'abs_loan.reportingperiodinterestratepercentage','abs_loan.nextinterestratepercentage',\n",
    "'abs_loan.servicingfeepercentage','abs_loan.otherservicerfeeretainedbyservicer',\n",
    "'abs_loan.otherassesseduncollectedservicerfeeamount','abs_loan.scheduledinterestamount', \n",
    "'abs_loan.scheduledprincipalamount','abs_loan.otherprincipaladjustmentamount',\n",
    "'abs_loan.reportingperiodactualendbalanceamount','abs_loan.reportingperiodscheduledpaymentamount',\n",
    "'abs_loan.totalactualamountpaid','abs_loan.actualinterestcollectedamount','abs_loan.actualprincipalcollectedamount',\n",
    "'abs_loan.actualothercollectedamount','abs_loan.serviceradvancedamount', 'abs_loan.currentdelinquencystatus']"
   ]
  },
  {
   "cell_type": "markdown",
   "metadata": {},
   "source": [
    "# GPU Options"
   ]
  },
  {
   "cell_type": "code",
   "execution_count": 136,
   "metadata": {
    "collapsed": true
   },
   "outputs": [],
   "source": [
    "#set gpu options to adjust gpu usage\n",
    "# gpu_options = tf.GPUOptions(per_process_gpu_memory_fraction=0.5)\n",
    "# sess=tf.Session(config=tf.ConfigProto(gpu_options=gpu_options))"
   ]
  },
  {
   "cell_type": "markdown",
   "metadata": {},
   "source": [
    "# Load data"
   ]
  },
  {
   "cell_type": "code",
   "execution_count": 137,
   "metadata": {},
   "outputs": [
    {
     "name": "stdout",
     "output_type": "stream",
     "text": [
      "(1000000, 74)\n"
     ]
    }
   ],
   "source": [
    "df=pd.read_csv(path+'datasets/s3tab/abs_loan.csv', \n",
    "               #usecols=column_list, \n",
    "               sep='\\t',\n",
    "               nrows=nrows,\n",
    "               low_memory=False, \n",
    "              #index_col='abs_loan.originationdate', \n",
    "               parse_dates=True\n",
    "              )\n",
    "#display data shape\n",
    "print(df.shape)"
   ]
  },
  {
   "cell_type": "code",
   "execution_count": 138,
   "metadata": {},
   "outputs": [
    {
     "data": {
      "text/html": [
       "<div>\n",
       "<style scoped>\n",
       "    .dataframe tbody tr th:only-of-type {\n",
       "        vertical-align: middle;\n",
       "    }\n",
       "\n",
       "    .dataframe tbody tr th {\n",
       "        vertical-align: top;\n",
       "    }\n",
       "\n",
       "    .dataframe thead th {\n",
       "        text-align: right;\n",
       "    }\n",
       "</style>\n",
       "<table border=\"1\" class=\"dataframe\">\n",
       "  <thead>\n",
       "    <tr style=\"text-align: right;\">\n",
       "      <th></th>\n",
       "      <th>abs_loan.cik</th>\n",
       "      <th>abs_loan.accessionnumber</th>\n",
       "      <th>abs_loan.assettypenumber</th>\n",
       "      <th>abs_loan.assetnumber</th>\n",
       "      <th>abs_loan.reportingperiodbeginningdate</th>\n",
       "      <th>abs_loan.reportingperiodendingdate</th>\n",
       "      <th>abs_loan.originatorname</th>\n",
       "      <th>abs_loan.originationdate</th>\n",
       "      <th>abs_loan.originalloanamount</th>\n",
       "      <th>abs_loan.originalloanterm</th>\n",
       "      <th>...</th>\n",
       "      <th>abs_loan.repurchaseamount</th>\n",
       "      <th>abs_loan.demandresolutiondate</th>\n",
       "      <th>abs_loan.repurchasername</th>\n",
       "      <th>abs_loan.repurchasereplacementreasoncode</th>\n",
       "      <th>abs_loan.chargedoffprincipalamount</th>\n",
       "      <th>abs_loan.recoveredamount</th>\n",
       "      <th>abs_loan.modificationtypecode</th>\n",
       "      <th>abs_loan.paymentextendednumber</th>\n",
       "      <th>abs_loan.repossessedindicator</th>\n",
       "      <th>abs_loan.repossessedproceedsamount</th>\n",
       "    </tr>\n",
       "  </thead>\n",
       "  <tbody>\n",
       "    <tr>\n",
       "      <th>0</th>\n",
       "      <td>1725617</td>\n",
       "      <td>0000929638-18-000030</td>\n",
       "      <td>BMW2018-A</td>\n",
       "      <td>1001536189</td>\n",
       "      <td>2017-11-01</td>\n",
       "      <td>2017-11-30</td>\n",
       "      <td>BMW Bank of North America</td>\n",
       "      <td>2012-12-31</td>\n",
       "      <td>25124.50</td>\n",
       "      <td>72</td>\n",
       "      <td>...</td>\n",
       "      <td>0.0</td>\n",
       "      <td>NaN</td>\n",
       "      <td>NaN</td>\n",
       "      <td>[]</td>\n",
       "      <td>0.0</td>\n",
       "      <td>0.0</td>\n",
       "      <td>[]</td>\n",
       "      <td>NaN</td>\n",
       "      <td>False</td>\n",
       "      <td>0.0</td>\n",
       "    </tr>\n",
       "    <tr>\n",
       "      <th>1</th>\n",
       "      <td>1725617</td>\n",
       "      <td>0000929638-18-000030</td>\n",
       "      <td>BMW2018-A</td>\n",
       "      <td>1001536759</td>\n",
       "      <td>2017-11-01</td>\n",
       "      <td>2017-11-30</td>\n",
       "      <td>BMW Bank of North America</td>\n",
       "      <td>2012-12-31</td>\n",
       "      <td>43257.34</td>\n",
       "      <td>72</td>\n",
       "      <td>...</td>\n",
       "      <td>0.0</td>\n",
       "      <td>NaN</td>\n",
       "      <td>NaN</td>\n",
       "      <td>[]</td>\n",
       "      <td>0.0</td>\n",
       "      <td>0.0</td>\n",
       "      <td>[]</td>\n",
       "      <td>NaN</td>\n",
       "      <td>False</td>\n",
       "      <td>0.0</td>\n",
       "    </tr>\n",
       "    <tr>\n",
       "      <th>2</th>\n",
       "      <td>1725617</td>\n",
       "      <td>0000929638-18-000030</td>\n",
       "      <td>BMW2018-A</td>\n",
       "      <td>1001536970</td>\n",
       "      <td>2017-11-01</td>\n",
       "      <td>2017-11-30</td>\n",
       "      <td>BMW Bank of North America</td>\n",
       "      <td>2012-12-31</td>\n",
       "      <td>56917.54</td>\n",
       "      <td>72</td>\n",
       "      <td>...</td>\n",
       "      <td>0.0</td>\n",
       "      <td>NaN</td>\n",
       "      <td>NaN</td>\n",
       "      <td>[]</td>\n",
       "      <td>0.0</td>\n",
       "      <td>0.0</td>\n",
       "      <td>[]</td>\n",
       "      <td>NaN</td>\n",
       "      <td>False</td>\n",
       "      <td>0.0</td>\n",
       "    </tr>\n",
       "    <tr>\n",
       "      <th>3</th>\n",
       "      <td>1725617</td>\n",
       "      <td>0000929638-18-000030</td>\n",
       "      <td>BMW2018-A</td>\n",
       "      <td>1001537061</td>\n",
       "      <td>2017-11-01</td>\n",
       "      <td>2017-11-30</td>\n",
       "      <td>BMW Bank of North America</td>\n",
       "      <td>2012-12-31</td>\n",
       "      <td>42003.57</td>\n",
       "      <td>72</td>\n",
       "      <td>...</td>\n",
       "      <td>0.0</td>\n",
       "      <td>NaN</td>\n",
       "      <td>NaN</td>\n",
       "      <td>[]</td>\n",
       "      <td>0.0</td>\n",
       "      <td>0.0</td>\n",
       "      <td>[]</td>\n",
       "      <td>NaN</td>\n",
       "      <td>False</td>\n",
       "      <td>0.0</td>\n",
       "    </tr>\n",
       "    <tr>\n",
       "      <th>4</th>\n",
       "      <td>1725617</td>\n",
       "      <td>0000929638-18-000030</td>\n",
       "      <td>BMW2018-A</td>\n",
       "      <td>1001537088</td>\n",
       "      <td>2017-11-01</td>\n",
       "      <td>2017-11-30</td>\n",
       "      <td>BMW Bank of North America</td>\n",
       "      <td>2012-12-31</td>\n",
       "      <td>77217.85</td>\n",
       "      <td>72</td>\n",
       "      <td>...</td>\n",
       "      <td>0.0</td>\n",
       "      <td>NaN</td>\n",
       "      <td>NaN</td>\n",
       "      <td>[]</td>\n",
       "      <td>0.0</td>\n",
       "      <td>0.0</td>\n",
       "      <td>[]</td>\n",
       "      <td>NaN</td>\n",
       "      <td>False</td>\n",
       "      <td>0.0</td>\n",
       "    </tr>\n",
       "  </tbody>\n",
       "</table>\n",
       "<p>5 rows × 74 columns</p>\n",
       "</div>"
      ],
      "text/plain": [
       "   abs_loan.cik abs_loan.accessionnumber abs_loan.assettypenumber  \\\n",
       "0       1725617     0000929638-18-000030               BMW2018-A    \n",
       "1       1725617     0000929638-18-000030               BMW2018-A    \n",
       "2       1725617     0000929638-18-000030               BMW2018-A    \n",
       "3       1725617     0000929638-18-000030               BMW2018-A    \n",
       "4       1725617     0000929638-18-000030               BMW2018-A    \n",
       "\n",
       "  abs_loan.assetnumber abs_loan.reportingperiodbeginningdate  \\\n",
       "0           1001536189                            2017-11-01   \n",
       "1           1001536759                            2017-11-01   \n",
       "2           1001536970                            2017-11-01   \n",
       "3           1001537061                            2017-11-01   \n",
       "4           1001537088                            2017-11-01   \n",
       "\n",
       "  abs_loan.reportingperiodendingdate    abs_loan.originatorname  \\\n",
       "0                         2017-11-30  BMW Bank of North America   \n",
       "1                         2017-11-30  BMW Bank of North America   \n",
       "2                         2017-11-30  BMW Bank of North America   \n",
       "3                         2017-11-30  BMW Bank of North America   \n",
       "4                         2017-11-30  BMW Bank of North America   \n",
       "\n",
       "  abs_loan.originationdate  abs_loan.originalloanamount  \\\n",
       "0               2012-12-31                     25124.50   \n",
       "1               2012-12-31                     43257.34   \n",
       "2               2012-12-31                     56917.54   \n",
       "3               2012-12-31                     42003.57   \n",
       "4               2012-12-31                     77217.85   \n",
       "\n",
       "   abs_loan.originalloanterm                ...                  \\\n",
       "0                         72                ...                   \n",
       "1                         72                ...                   \n",
       "2                         72                ...                   \n",
       "3                         72                ...                   \n",
       "4                         72                ...                   \n",
       "\n",
       "  abs_loan.repurchaseamount  abs_loan.demandresolutiondate  \\\n",
       "0                       0.0                            NaN   \n",
       "1                       0.0                            NaN   \n",
       "2                       0.0                            NaN   \n",
       "3                       0.0                            NaN   \n",
       "4                       0.0                            NaN   \n",
       "\n",
       "   abs_loan.repurchasername  abs_loan.repurchasereplacementreasoncode  \\\n",
       "0                       NaN                                        []   \n",
       "1                       NaN                                        []   \n",
       "2                       NaN                                        []   \n",
       "3                       NaN                                        []   \n",
       "4                       NaN                                        []   \n",
       "\n",
       "   abs_loan.chargedoffprincipalamount abs_loan.recoveredamount  \\\n",
       "0                                 0.0                      0.0   \n",
       "1                                 0.0                      0.0   \n",
       "2                                 0.0                      0.0   \n",
       "3                                 0.0                      0.0   \n",
       "4                                 0.0                      0.0   \n",
       "\n",
       "   abs_loan.modificationtypecode  abs_loan.paymentextendednumber  \\\n",
       "0                             []                             NaN   \n",
       "1                             []                             NaN   \n",
       "2                             []                             NaN   \n",
       "3                             []                             NaN   \n",
       "4                             []                             NaN   \n",
       "\n",
       "   abs_loan.repossessedindicator abs_loan.repossessedproceedsamount  \n",
       "0                          False                                0.0  \n",
       "1                          False                                0.0  \n",
       "2                          False                                0.0  \n",
       "3                          False                                0.0  \n",
       "4                          False                                0.0  \n",
       "\n",
       "[5 rows x 74 columns]"
      ]
     },
     "execution_count": 138,
     "metadata": {},
     "output_type": "execute_result"
    }
   ],
   "source": [
    "#view first five rows of all columns\n",
    "df.head()"
   ]
  },
  {
   "cell_type": "code",
   "execution_count": 139,
   "metadata": {
    "collapsed": true
   },
   "outputs": [],
   "source": [
    "#remove 'abs_loan.' string from columns because dot is a command in pandas\n",
    "df.columns=df.columns.str.replace('abs_loan.','')"
   ]
  },
  {
   "cell_type": "markdown",
   "metadata": {},
   "source": [
    "# Function to Draw Bar chart"
   ]
  },
  {
   "cell_type": "code",
   "execution_count": 140,
   "metadata": {
    "collapsed": true
   },
   "outputs": [],
   "source": [
    "#function to draw a bar chart \n",
    "def draw(data, title, ylabel, sort = False):\n",
    "    labels = pd.value_counts(data).index.tolist()\n",
    "    count_classes = pd.value_counts(data, sort)\n",
    "    count_classes.plot(kind = 'bar', rot=0)\n",
    "    plt.xticks(range(len(labels)), labels)\n",
    "    plt.title(title)\n",
    "    plt.ylabel(ylabel)\n",
    "    plt.show()\n",
    "    print(pd.value_counts(data))"
   ]
  },
  {
   "cell_type": "markdown",
   "metadata": {},
   "source": [
    "# Number of Days Loans Outstanding"
   ]
  },
  {
   "cell_type": "code",
   "execution_count": 141,
   "metadata": {},
   "outputs": [
    {
     "data": {
      "image/png": "[encoded data removed]",
      "text/plain": [
       "<Figure size 432x288 with 1 Axes>"
      ]
     },
     "metadata": {},
     "output_type": "display_data"
    },
    {
     "name": "stdout",
     "output_type": "stream",
     "text": [
      "31 days      61820\n",
      "0 days       57592\n",
      "61 days      38272\n",
      "245 days     26971\n",
      "275 days     25217\n",
      "365 days     24866\n",
      "92 days      22566\n",
      "273 days     19270\n",
      "426 days     18960\n",
      "577 days     18486\n",
      "334 days     18322\n",
      "304 days     17953\n",
      "151 days     17829\n",
      "212 days     17305\n",
      "214 days     16357\n",
      "396 days     16156\n",
      "306 days     16013\n",
      "243 days     14532\n",
      "638 days     13890\n",
      "669 days     13195\n",
      "59 days      12245\n",
      "120 days     12042\n",
      "181 days     11727\n",
      "546 days     11406\n",
      "730 days     11197\n",
      "608 days     10968\n",
      "62 days      10622\n",
      "516 days     10402\n",
      "457 days     10065\n",
      "90 days       9279\n",
      "             ...  \n",
      "2253 days       39\n",
      "2222 days       39\n",
      "2103 days       37\n",
      "2252 days       32\n",
      "2376 days       31\n",
      "2283 days       29\n",
      "2406 days       28\n",
      "2467 days       26\n",
      "2100 days       26\n",
      "2437 days       25\n",
      "1947 days       25\n",
      "2498 days       23\n",
      "2068 days       21\n",
      "2133 days       19\n",
      "2343 days       19\n",
      "1976 days       18\n",
      "1915 days       18\n",
      "1854 days       18\n",
      "2164 days       17\n",
      "2312 days       14\n",
      "2557 days       12\n",
      "2526 days       10\n",
      "2160 days        7\n",
      "2374 days        6\n",
      "2588 days        4\n",
      "2129 days        3\n",
      "2404 days        2\n",
      "2254 days        2\n",
      "2435 days        2\n",
      "2618 days        1\n",
      "Name: outstandingdays, Length: 282, dtype: int64\n"
     ]
    }
   ],
   "source": [
    "#calculate outstanding days\n",
    "df['outstandingdays'] = pd.to_datetime(df['reportingperiodendingdate'])-pd.to_datetime(df['originationdate'])\n",
    "#draw a chart for visual look and analysis\n",
    "draw(df.outstandingdays, title='Outstanding Days', ylabel='Number of Loans', sort = True)"
   ]
  },
  {
   "cell_type": "code",
   "execution_count": 142,
   "metadata": {},
   "outputs": [
    {
     "data": {
      "text/plain": [
       "999995    396\n",
       "999996    365\n",
       "999997    396\n",
       "999998    396\n",
       "999999    365\n",
       "Name: outstandingdays, dtype: int64"
      ]
     },
     "execution_count": 142,
     "metadata": {},
     "output_type": "execute_result"
    }
   ],
   "source": [
    "#remove days string for machine learning\n",
    "df['outstandingdays']=df.outstandingdays.map(lambda x: np.nan if pd.isnull(x) else x.days)\n",
    "#display last five rows\n",
    "df.outstandingdays.tail()"
   ]
  },
  {
   "cell_type": "code",
   "execution_count": 143,
   "metadata": {},
   "outputs": [
    {
     "name": "stdout",
     "output_type": "stream",
     "text": [
      "No Loans Below zero outstanding days\n"
     ]
    }
   ],
   "source": [
    "#retaining only loans with non-negative outstanding days\n",
    "u=pd.value_counts(df.outstandingdays<0)\n",
    "if len(u)<2:\n",
    "    print('No Loans Below zero outstanding days')\n",
    "else: \n",
    "    print('Number of Loans with negative outstanding days :', u[1])\n",
    "    print('Dropping ', u[1], 'rows and retaining loans with only non-negative outstanding days')\n",
    "    df=df[df.outstandingdays>0]   "
   ]
  },
  {
   "cell_type": "code",
   "execution_count": 144,
   "metadata": {},
   "outputs": [
    {
     "data": {
      "text/plain": [
       "count    1000000.000000\n",
       "mean         476.152630\n",
       "std          460.655651\n",
       "min            0.000000\n",
       "25%          151.000000\n",
       "50%          335.000000\n",
       "75%          638.000000\n",
       "max         2618.000000\n",
       "Name: outstandingdays, dtype: float64"
      ]
     },
     "execution_count": 144,
     "metadata": {},
     "output_type": "execute_result"
    }
   ],
   "source": [
    "df.outstandingdays.describe()"
   ]
  },
  {
   "cell_type": "markdown",
   "metadata": {},
   "source": [
    "# Days Left until Maturity"
   ]
  },
  {
   "cell_type": "code",
   "execution_count": 145,
   "metadata": {},
   "outputs": [
    {
     "data": {
      "image/png": "[encoded data removed]",
      "text/plain": [
       "<Figure size 432x288 with 1 Axes>"
      ]
     },
     "metadata": {},
     "output_type": "display_data"
    },
    {
     "name": "stdout",
     "output_type": "stream",
     "text": [
      "2191 days    36003\n",
      "2160 days    29398\n",
      "1461 days    20524\n",
      "1977 days    20256\n",
      "1826 days    20173\n",
      "2192 days    19632\n",
      "1946 days    17270\n",
      "1614 days    16173\n",
      "1795 days    15512\n",
      "2130 days    14969\n",
      "1916 days    14362\n",
      "1522 days    13692\n",
      "1249 days    13622\n",
      "1583 days    13128\n",
      "2161 days    12610\n",
      "1430 days    12582\n",
      "1553 days    12456\n",
      "1675 days    12136\n",
      "1765 days    11577\n",
      "1400 days    10828\n",
      "1492 days    10199\n",
      "1188 days     9838\n",
      "1645 days     9636\n",
      "1157 days     9524\n",
      "1218 days     9281\n",
      "2007 days     9087\n",
      "1096 days     8865\n",
      "1310 days     8806\n",
      "1369 days     8616\n",
      "2222 days     8590\n",
      "             ...  \n",
      "182 days       268\n",
      "-61 days       262\n",
      "-92 days       251\n",
      "-30 days       245\n",
      "59 days        243\n",
      "641 days       236\n",
      "580 days       235\n",
      "62 days        204\n",
      "244 days       186\n",
      "276 days       138\n",
      "215 days       138\n",
      "486 days       127\n",
      "2283 days      112\n",
      "2312 days       81\n",
      "89 days         32\n",
      "-153 days        9\n",
      "881 days         6\n",
      "760 days         5\n",
      "2341 days        3\n",
      "820 days         3\n",
      "-184 days        3\n",
      "-122 days        2\n",
      "6056 days        1\n",
      "4656 days        1\n",
      "3318 days        1\n",
      "2373 days        1\n",
      "-245 days        1\n",
      "5234 days        1\n",
      "4291 days        1\n",
      "3042 days        1\n",
      "Name: daystomaturity, Length: 286, dtype: int64\n"
     ]
    }
   ],
   "source": [
    "df['daystomaturity'] = pd.to_datetime(df['loanmaturitydate'])-pd.to_datetime(df['reportingperiodendingdate'])\n",
    "draw(df.daystomaturity, title='Days Left Until Maturity', ylabel='Number of Loans', sort=True)"
   ]
  },
  {
   "cell_type": "code",
   "execution_count": 146,
   "metadata": {},
   "outputs": [
    {
     "data": {
      "text/plain": [
       "999995    1795\n",
       "999996    1946\n",
       "999997    1857\n",
       "999998    1795\n",
       "999999    1826\n",
       "Name: daystomaturity, dtype: int64"
      ]
     },
     "execution_count": 146,
     "metadata": {},
     "output_type": "execute_result"
    }
   ],
   "source": [
    "#remove days from the data for machine learning\n",
    "df['daystomaturity']=df.daystomaturity.map(lambda x: np.nan if pd.isnull(x) else x.days)\n",
    "df.daystomaturity.tail()"
   ]
  },
  {
   "cell_type": "code",
   "execution_count": 147,
   "metadata": {},
   "outputs": [
    {
     "name": "stdout",
     "output_type": "stream",
     "text": [
      "Number of Loans with negative outstanding days : 2671\n",
      "Dropping  2671 rows and retaining loans with only non-negative outstanding days\n"
     ]
    }
   ],
   "source": [
    "#retaining only loans with non-negative days to maturity\n",
    "u=pd.value_counts(df.daystomaturity<=0)\n",
    "if len(u)<2:\n",
    "    print('No Loans Below zero outstanding days')\n",
    "else: \n",
    "    print('Number of Loans with negative outstanding days :', u[1])\n",
    "    print('Dropping ', u[1], 'rows and retaining loans with only non-negative outstanding days')\n",
    "    df=df[df.daystomaturity>0]"
   ]
  },
  {
   "cell_type": "code",
   "execution_count": 148,
   "metadata": {},
   "outputs": [
    {
     "data": {
      "text/plain": [
       "(997329, 76)"
      ]
     },
     "execution_count": 148,
     "metadata": {},
     "output_type": "execute_result"
    }
   ],
   "source": [
    "df.shape"
   ]
  },
  {
   "cell_type": "code",
   "execution_count": 149,
   "metadata": {},
   "outputs": [
    {
     "data": {
      "text/plain": [
       "count    997329.000000\n",
       "mean       1505.814987\n",
       "std         542.817794\n",
       "min          30.000000\n",
       "25%        1188.000000\n",
       "50%        1583.000000\n",
       "75%        1948.000000\n",
       "max        6056.000000\n",
       "Name: daystomaturity, dtype: float64"
      ]
     },
     "execution_count": 149,
     "metadata": {},
     "output_type": "execute_result"
    }
   ],
   "source": [
    "df.daystomaturity.describe()"
   ]
  },
  {
   "cell_type": "markdown",
   "metadata": {},
   "source": [
    "# Origination date"
   ]
  },
  {
   "cell_type": "markdown",
   "metadata": {},
   "source": [
    "# Removing loans before origination cutoff date"
   ]
  },
  {
   "cell_type": "code",
   "execution_count": 150,
   "metadata": {},
   "outputs": [
    {
     "name": "stdout",
     "output_type": "stream",
     "text": [
      "Number of rows before 2012-01-01 : 1575\n",
      "Dropping  1575 rows and retaining loans with origination dates after 2012-01-01\n"
     ]
    },
    {
     "data": {
      "text/plain": [
       "(995754, 76)"
      ]
     },
     "execution_count": 150,
     "metadata": {},
     "output_type": "execute_result"
    }
   ],
   "source": [
    "#df=df[df.originationdate>cutOfffForOriginationDate]\n",
    "u=pd.value_counts(df.originationdate<=cutOfffForOriginationDate)\n",
    "if len(u)<2:\n",
    "    print('No origination date rows fall before ',cutOfffForOriginationDate )\n",
    "else: \n",
    "    print('Number of rows before',cutOfffForOriginationDate ,':', u[1])\n",
    "    print('Dropping ', u[1], 'rows and retaining loans with origination dates after', cutOfffForOriginationDate)\n",
    "    df=df[df.originationdate>cutOfffForOriginationDate]\n",
    "df.shape"
   ]
  },
  {
   "cell_type": "code",
   "execution_count": 18,
   "metadata": {},
   "outputs": [
    {
     "data": {
      "image/png": "[encoded data removed]",
      "text/plain": [
       "<Figure size 432x288 with 1 Axes>"
      ]
     },
     "metadata": {},
     "output_type": "display_data"
    },
    {
     "name": "stdout",
     "output_type": "stream",
     "text": [
      "2016-12-31    64574\n",
      "2016-10-31    64272\n",
      "2017-01-31    52433\n",
      "2016-08-31    42772\n",
      "2016-09-30    40922\n",
      "2017-04-30    40713\n",
      "2017-03-31    40303\n",
      "2017-05-31    39985\n",
      "2016-11-30    36773\n",
      "2017-09-30    32881\n",
      "2017-10-31    30065\n",
      "2017-08-31    29296\n",
      "2016-07-31    29048\n",
      "2017-02-28    26752\n",
      "2016-05-31    25476\n",
      "2016-06-30    23716\n",
      "2017-11-30    22231\n",
      "2017-07-31    20604\n",
      "2017-06-30    20330\n",
      "2018-05-31    19960\n",
      "2018-04-30    19525\n",
      "2016-04-30    17206\n",
      "2016-03-31    12062\n",
      "2018-03-31    11635\n",
      "2017-12-31    10692\n",
      "2015-12-31     8650\n",
      "2015-10-31     7977\n",
      "2016-01-31     7806\n",
      "2014-04-30     7451\n",
      "2014-03-31     7225\n",
      "              ...  \n",
      "2014-06-30     3052\n",
      "2015-02-28     2923\n",
      "2014-10-31     2920\n",
      "2014-02-28     2916\n",
      "2012-11-30     2510\n",
      "2012-04-30     2282\n",
      "2012-10-31     1978\n",
      "2012-08-31     1693\n",
      "2012-09-30     1596\n",
      "2012-02-29     1557\n",
      "2012-07-31     1402\n",
      "2012-05-31     1187\n",
      "2012-06-30     1152\n",
      "2018-01-31     1005\n",
      "2012-01-31      541\n",
      "2011-12-31      419\n",
      "2011-11-30      201\n",
      "2011-08-31      158\n",
      "2011-10-31      155\n",
      "2011-07-31      122\n",
      "2011-06-30      121\n",
      "2011-09-30      120\n",
      "2011-05-31      114\n",
      "2011-04-30       56\n",
      "2011-03-31       39\n",
      "2011-02-28       32\n",
      "2010-12-31       18\n",
      "2011-01-31       14\n",
      "2010-11-30        5\n",
      "2010-10-31        1\n",
      "Name: originationdate, Length: 92, dtype: int64\n"
     ]
    }
   ],
   "source": [
    "#set origination date as index\n",
    "#df.set_index(['originationdate'])\n",
    "draw(df.originationdate, title='Origination Date', ylabel='Number of Loans', sort=True)"
   ]
  },
  {
   "cell_type": "code",
   "execution_count": 151,
   "metadata": {},
   "outputs": [
    {
     "data": {
      "text/plain": [
       "count         995754\n",
       "unique            77\n",
       "top       2016-12-31\n",
       "freq           64574\n",
       "Name: originationdate, dtype: object"
      ]
     },
     "execution_count": 151,
     "metadata": {},
     "output_type": "execute_result"
    }
   ],
   "source": [
    "df.originationdate.describe()"
   ]
  },
  {
   "cell_type": "markdown",
   "metadata": {},
   "source": [
    "# CIK Number"
   ]
  },
  {
   "cell_type": "code",
   "execution_count": 152,
   "metadata": {},
   "outputs": [
    {
     "data": {
      "image/png": "[encoded data removed]",
      "text/plain": [
       "<Figure size 432x288 with 1 Axes>"
      ]
     },
     "metadata": {},
     "output_type": "display_data"
    },
    {
     "name": "stdout",
     "output_type": "stream",
     "text": [
      "1725617    427244\n",
      "1696935     99667\n",
      "1694919     92557\n",
      "1697574     79235\n",
      "1726794     79095\n",
      "1694276     76690\n",
      "1708978     74104\n",
      "1742444     67162\n",
      "Name: cik, dtype: int64\n"
     ]
    }
   ],
   "source": [
    "draw(df.cik, title='cik Number', ylabel='Number of Loans', sort=True)"
   ]
  },
  {
   "cell_type": "code",
   "execution_count": 153,
   "metadata": {},
   "outputs": [
    {
     "data": {
      "text/plain": [
       "(995754, 75)"
      ]
     },
     "execution_count": 153,
     "metadata": {},
     "output_type": "execute_result"
    }
   ],
   "source": [
    "df.drop(['cik'],axis=1, inplace=True)\n",
    "df.shape"
   ]
  },
  {
   "cell_type": "markdown",
   "metadata": {},
   "source": [
    "# Accession Number"
   ]
  },
  {
   "cell_type": "code",
   "execution_count": 154,
   "metadata": {},
   "outputs": [
    {
     "data": {
      "image/png": "[encoded data removed]",
      "text/plain": [
       "<Figure size 432x288 with 1 Axes>"
      ]
     },
     "metadata": {},
     "output_type": "display_data"
    },
    {
     "name": "stdout",
     "output_type": "stream",
     "text": [
      "0000950131-17-000068    92557\n",
      "0000950131-17-000083    79235\n",
      "0000950131-18-000011    79095\n",
      "0000950131-18-000048    74104\n",
      "0000950123-18-006317    67162\n",
      "0000950131-17-000040    66363\n",
      "0000929638-18-000030    55710\n",
      "0000929638-18-000431    53447\n",
      "0000929638-18-000483    53443\n",
      "0000929638-18-000552    53442\n",
      "0000929638-18-000589    53195\n",
      "0000929638-18-000653    52911\n",
      "0000929638-18-000727    52669\n",
      "0000929638-18-000790    52427\n",
      "0000950131-18-000049    33304\n",
      "0000950131-17-000070    20737\n",
      "0000950131-17-000092    20737\n",
      "0000950131-17-000133    20737\n",
      "0000950131-17-000015    14479\n",
      "Name: accessionnumber, dtype: int64\n"
     ]
    }
   ],
   "source": [
    "draw(df.accessionnumber, title='Accession Number', ylabel='Number of Loans', sort=True)"
   ]
  },
  {
   "cell_type": "code",
   "execution_count": 155,
   "metadata": {},
   "outputs": [
    {
     "data": {
      "text/plain": [
       "(995754, 74)"
      ]
     },
     "execution_count": 155,
     "metadata": {},
     "output_type": "execute_result"
    }
   ],
   "source": [
    "df.drop(['accessionnumber'],axis=1, inplace=True)\n",
    "df.shape"
   ]
  },
  {
   "cell_type": "markdown",
   "metadata": {},
   "source": [
    "# Asset Type Number"
   ]
  },
  {
   "cell_type": "code",
   "execution_count": 156,
   "metadata": {},
   "outputs": [
    {
     "data": {
      "image/png": "[encoded data removed]",
      "text/plain": [
       "<Figure size 432x288 with 1 Axes>"
      ]
     },
     "metadata": {},
     "output_type": "display_data"
    },
    {
     "name": "stdout",
     "output_type": "stream",
     "text": [
      "BMW2018-A          427244\n",
      "SC                 212620\n",
      "RANDOMID            92557\n",
      "AHFC                79235\n",
      "Loan Number         76690\n",
      "DRIVE0201700001     74104\n",
      "SDART0201700001     33304\n",
      "Name: assettypenumber, dtype: int64\n"
     ]
    }
   ],
   "source": [
    "draw(df.assettypenumber, title='Asset Type Number', ylabel='Number of Loans', sort=True)"
   ]
  },
  {
   "cell_type": "code",
   "execution_count": 157,
   "metadata": {},
   "outputs": [
    {
     "data": {
      "text/plain": [
       "(995754, 73)"
      ]
     },
     "execution_count": 157,
     "metadata": {},
     "output_type": "execute_result"
    }
   ],
   "source": [
    "df.drop(['assettypenumber'],axis=1, inplace=True)\n",
    "df.shape"
   ]
  },
  {
   "cell_type": "markdown",
   "metadata": {},
   "source": [
    "# Reporting Period Beginning Date"
   ]
  },
  {
   "cell_type": "code",
   "execution_count": 22,
   "metadata": {},
   "outputs": [
    {
     "data": {
      "image/png": "[encoded data removed]",
      "text/plain": [
       "<Figure size 432x288 with 1 Axes>"
      ]
     },
     "metadata": {},
     "output_type": "display_data"
    },
    {
     "name": "stdout",
     "output_type": "stream",
     "text": [
      "2017-12-01    187021\n",
      "2017-01-01    180685\n",
      "2018-05-01    120386\n",
      "2017-02-01     99972\n",
      "2017-11-01     55710\n",
      "2018-02-01     53447\n",
      "2018-03-01     53443\n",
      "2018-04-01     53442\n",
      "2018-06-01     52911\n",
      "2018-07-01     52669\n",
      "2018-08-01     52427\n",
      "2017-03-01     20737\n",
      "2016-12-01     14479\n",
      "Name: reportingperiodbeginningdate, dtype: int64\n"
     ]
    }
   ],
   "source": [
    "draw(df.reportingperiodbeginningdate, title='accessionnumber', ylabel='Number of Loans', sort=True)"
   ]
  },
  {
   "cell_type": "code",
   "execution_count": 158,
   "metadata": {},
   "outputs": [
    {
     "data": {
      "text/plain": [
       "(995754, 72)"
      ]
     },
     "execution_count": 158,
     "metadata": {},
     "output_type": "execute_result"
    }
   ],
   "source": [
    "df.drop(['reportingperiodbeginningdate'],axis=1, inplace=True)\n",
    "df.shape"
   ]
  },
  {
   "cell_type": "markdown",
   "metadata": {},
   "source": [
    "# Originators Name"
   ]
  },
  {
   "cell_type": "code",
   "execution_count": 159,
   "metadata": {},
   "outputs": [
    {
     "data": {
      "image/png": "[encoded data removed]",
      "text/plain": [
       "<Figure size 432x288 with 1 Axes>"
      ]
     },
     "metadata": {},
     "output_type": "display_data"
    },
    {
     "name": "stdout",
     "output_type": "stream",
     "text": [
      "BMW Bank of North America        426891\n",
      "SC                               320028\n",
      "TMCC                              92557\n",
      "AHFC                              79235\n",
      "Mechanics Bank                    76690\n",
      "BMW Financial Services NA LLC       353\n",
      "Name: originatorname, dtype: int64\n"
     ]
    }
   ],
   "source": [
    "draw(df.originatorname, title='Originators Name', ylabel='Number of Loans', sort=True)"
   ]
  },
  {
   "cell_type": "markdown",
   "metadata": {},
   "source": [
    "# Create Features for Originators"
   ]
  },
  {
   "cell_type": "code",
   "execution_count": null,
   "metadata": {
    "collapsed": true
   },
   "outputs": [],
   "source": [
    "def map_originatorname(*args):\n",
    "    columns = [col for col in args]\n",
    "    for column in columns:\n",
    "        if column == code:\n",
    "            return 1\n",
    "        else:\n",
    "            return 0\n",
    "codes = pd.value_counts(df.originatorname).index.tolist()\n",
    "\n",
    "for code in codes:\n",
    "        df['originator_{}'.format(code)] = list(map(map_originatorname, df.originatorname))\n"
   ]
  },
  {
   "cell_type": "code",
   "execution_count": null,
   "metadata": {
    "collapsed": true
   },
   "outputs": [],
   "source": [
    "df.drop(['originatorname'],axis=1, inplace=True)\n",
    "df.shape"
   ]
  },
  {
   "cell_type": "markdown",
   "metadata": {},
   "source": [
    "# Original Loan Amount"
   ]
  },
  {
   "cell_type": "code",
   "execution_count": 161,
   "metadata": {},
   "outputs": [
    {
     "data": {
      "image/png": "[encoded data removed]",
      "text/plain": [
       "<Figure size 432x288 with 1 Axes>"
      ]
     },
     "metadata": {},
     "output_type": "display_data"
    },
    {
     "name": "stdout",
     "output_type": "stream",
     "text": [
      "True     943225\n",
      "False     52529\n",
      "Name: originalloanamount, dtype: int64\n"
     ]
    }
   ],
   "source": [
    "draw(df.originalloanamount>10000, title='Original Loan Amount', ylabel='Number of Loans', sort=True)"
   ]
  },
  {
   "cell_type": "code",
   "execution_count": 162,
   "metadata": {},
   "outputs": [
    {
     "data": {
      "image/png": "[encoded data removed]",
      "text/plain": [
       "<Figure size 432x288 with 1 Axes>"
      ]
     },
     "metadata": {},
     "output_type": "display_data"
    }
   ],
   "source": [
    "bins = np.linspace(0, 100000, 1000)\n",
    "plt.hist(df.originalloanamount, bins, alpha=0.6, density=True, label='Original Loan Amount')\n",
    "plt.legend(loc='upper right')\n",
    "plt.title(\"Original Amount Loaned\")\n",
    "plt.xlabel('Original Loan amount')\n",
    "plt.ylabel('Percent of Loans')\n",
    "plt.show()"
   ]
  },
  {
   "cell_type": "code",
   "execution_count": 26,
   "metadata": {},
   "outputs": [
    {
     "data": {
      "text/plain": [
       "count    997329.000000\n",
       "mean      26782.123195\n",
       "std       14194.515677\n",
       "min        1624.630000\n",
       "25%       16920.840000\n",
       "50%       24005.610000\n",
       "75%       33207.560000\n",
       "max      189984.120000\n",
       "Name: originalloanamount, dtype: float64"
      ]
     },
     "execution_count": 26,
     "metadata": {},
     "output_type": "execute_result"
    }
   ],
   "source": [
    "df.originalloanamount.describe()"
   ]
  },
  {
   "cell_type": "code",
   "execution_count": 165,
   "metadata": {},
   "outputs": [
    {
     "name": "stdout",
     "output_type": "stream",
     "text": [
      "No original loan amount blank or below zero\n"
     ]
    },
    {
     "data": {
      "text/plain": [
       "(995754, 71)"
      ]
     },
     "execution_count": 165,
     "metadata": {},
     "output_type": "execute_result"
    }
   ],
   "source": [
    "u=pd.value_counts(df.originalloanamount<=0)\n",
    "if len(u)<2:\n",
    "    print('No original loan amount blank or below zero')\n",
    "else: \n",
    "    print('Number of original loan amount rows blank or below zero',':', u[1])\n",
    "    print('Dropping ', u[1], 'rows and retaining loans with original loan amount more than zero')\n",
    "    df=df[df.originalloanamount>0]\n",
    "df.shape"
   ]
  },
  {
   "cell_type": "markdown",
   "metadata": {},
   "source": [
    "# Orignial Loan Term"
   ]
  },
  {
   "cell_type": "code",
   "execution_count": 166,
   "metadata": {},
   "outputs": [
    {
     "data": {
      "image/png": "[encoded data removed]",
      "text/plain": [
       "<Figure size 432x288 with 1 Axes>"
      ]
     },
     "metadata": {},
     "output_type": "display_data"
    },
    {
     "name": "stdout",
     "output_type": "stream",
     "text": [
      "True     913035\n",
      "False     82719\n",
      "Name: originalloanterm, dtype: int64\n"
     ]
    }
   ],
   "source": [
    "draw(df.originalloanterm>48, title='Original Loan Terms', ylabel='Number of Loans',sort=True)"
   ]
  },
  {
   "cell_type": "code",
   "execution_count": 167,
   "metadata": {},
   "outputs": [
    {
     "data": {
      "image/png": "[encoded data removed]",
      "text/plain": [
       "<Figure size 432x288 with 1 Axes>"
      ]
     },
     "metadata": {},
     "output_type": "display_data"
    }
   ],
   "source": [
    "bins = np.linspace(0, 84, 12)\n",
    "plt.hist(df.originalloanterm, bins, alpha=0.6, density=True, label='Original Loan Term')\n",
    "plt.legend(loc='upper right')\n",
    "plt.title(\"Original Loan Term\")\n",
    "plt.xlabel('Number of Months')\n",
    "plt.ylabel('Percent of Loans')\n",
    "plt.show()"
   ]
  },
  {
   "cell_type": "code",
   "execution_count": 168,
   "metadata": {},
   "outputs": [
    {
     "data": {
      "text/plain": [
       "count    995754.000000\n",
       "mean         64.608213\n",
       "std           9.537029\n",
       "min          12.000000\n",
       "25%          60.000000\n",
       "50%          66.000000\n",
       "75%          72.000000\n",
       "max          75.000000\n",
       "Name: originalloanterm, dtype: float64"
      ]
     },
     "execution_count": 168,
     "metadata": {},
     "output_type": "execute_result"
    }
   ],
   "source": [
    "df.originalloanterm.describe()"
   ]
  },
  {
   "cell_type": "code",
   "execution_count": 169,
   "metadata": {},
   "outputs": [
    {
     "name": "stdout",
     "output_type": "stream",
     "text": [
      "No original loan term blank or below zero\n"
     ]
    },
    {
     "data": {
      "text/plain": [
       "(995754, 71)"
      ]
     },
     "execution_count": 169,
     "metadata": {},
     "output_type": "execute_result"
    }
   ],
   "source": [
    "u=pd.value_counts(df.originalloanterm<=0)\n",
    "if len(u)<2:\n",
    "    print('No original loan term blank or below zero')\n",
    "else: \n",
    "    print('Number of original loan term rows blank or below zero',':', u[1])\n",
    "    print('Dropping ', u[1], 'rows and retaining loans with original loan term more than zero')\n",
    "    df=df[df.originalloanterm>0]\n",
    "df.shape"
   ]
  },
  {
   "cell_type": "markdown",
   "metadata": {},
   "source": [
    "# Original interest rate percentage"
   ]
  },
  {
   "cell_type": "code",
   "execution_count": 174,
   "metadata": {},
   "outputs": [
    {
     "data": {
      "image/png": "[encoded data removed]",
      "text/plain": [
       "<Figure size 432x288 with 1 Axes>"
      ]
     },
     "metadata": {},
     "output_type": "display_data"
    },
    {
     "name": "stdout",
     "output_type": "stream",
     "text": [
      "True     688839\n",
      "False    271412\n",
      "Name: originalinterestratepercentage, dtype: int64\n"
     ]
    }
   ],
   "source": [
    "draw(df.originalinterestratepercentage<2.0, title='Original Interest Rate Percentage', ylabel='Number of Loans',sort=True)"
   ]
  },
  {
   "cell_type": "code",
   "execution_count": 171,
   "metadata": {},
   "outputs": [
    {
     "data": {
      "text/plain": [
       "count    995754.000000\n",
       "mean          1.688689\n",
       "std           2.463216\n",
       "min           0.000000\n",
       "25%           0.139000\n",
       "50%           0.900000\n",
       "75%           2.900000\n",
       "max          22.990000\n",
       "Name: originalinterestratepercentage, dtype: float64"
      ]
     },
     "execution_count": 171,
     "metadata": {},
     "output_type": "execute_result"
    }
   ],
   "source": [
    "df.originalinterestratepercentage.describe()"
   ]
  },
  {
   "cell_type": "code",
   "execution_count": 172,
   "metadata": {},
   "outputs": [
    {
     "name": "stdout",
     "output_type": "stream",
     "text": [
      "Number of original interest rate rows blank or below zero : 35503\n",
      "Dropping  35503 rows and retaining loans with original interest rate more than zero\n"
     ]
    },
    {
     "data": {
      "text/plain": [
       "(960251, 71)"
      ]
     },
     "execution_count": 172,
     "metadata": {},
     "output_type": "execute_result"
    }
   ],
   "source": [
    "u=pd.value_counts(df.originalinterestratepercentage<=0)\n",
    "if len(u)<2:\n",
    "    print('No original interest rate blank or below zero')\n",
    "else: \n",
    "    print('Number of original interest rate rows blank or below zero',':', u[1])\n",
    "    #print('Dropping ', u[1], 'rows and retaining loans with original interest rate more than zero')\n",
    "    #df=df[df.originalinterestratepercentage>0]\n",
    "df.shape"
   ]
  },
  {
   "cell_type": "markdown",
   "metadata": {},
   "source": [
    "# No interest rate loans"
   ]
  },
  {
   "cell_type": "code",
   "execution_count": 32,
   "metadata": {},
   "outputs": [
    {
     "name": "stdout",
     "output_type": "stream",
     "text": [
      "No interest rate for 35504 loans\n"
     ]
    }
   ],
   "source": [
    "y=pd.value_counts(df.originalinterestratepercentage==0)\n",
    "print('No interest rate for',y[1],'loans')"
   ]
  },
  {
   "cell_type": "markdown",
   "metadata": {},
   "source": [
    "# Underwriting Indicator"
   ]
  },
  {
   "cell_type": "code",
   "execution_count": 33,
   "metadata": {},
   "outputs": [
    {
     "data": {
      "image/png": "[encoded data removed]",
      "text/plain": [
       "<Figure size 432x288 with 1 Axes>"
      ]
     },
     "metadata": {},
     "output_type": "display_data"
    },
    {
     "name": "stdout",
     "output_type": "stream",
     "text": [
      "True     805614\n",
      "False    191715\n",
      "Name: underwritingindicator, dtype: int64\n"
     ]
    }
   ],
   "source": [
    "draw(df.underwritingindicator, title='Underwriting Indicator', ylabel='Number of Loans', sort=True)"
   ]
  },
  {
   "cell_type": "markdown",
   "metadata": {},
   "source": [
    "# Create Feature Column for Underwriting TRUE"
   ]
  },
  {
   "cell_type": "code",
   "execution_count": 34,
   "metadata": {},
   "outputs": [
    {
     "data": {
      "text/plain": [
       "1    805614\n",
       "0    191715\n",
       "Name: underwriting_true, dtype: int64"
      ]
     },
     "execution_count": 34,
     "metadata": {},
     "output_type": "execute_result"
    }
   ],
   "source": [
    "def map_underwriting_true(*args):\n",
    "    columns = [col for col in args]\n",
    "    for column in columns:\n",
    "        if column == True:\n",
    "            return 1\n",
    "        elif column == False:\n",
    "            return 0\n",
    "        \n",
    "df['underwriting_true'] = list(map(map_underwriting_true, df.underwritingindicator))\n",
    "df.drop(['underwritingindicator'], axis=1, inplace=True)\n",
    "pd.value_counts(df.underwriting_true)"
   ]
  },
  {
   "cell_type": "markdown",
   "metadata": {},
   "source": [
    "# Subvented"
   ]
  },
  {
   "cell_type": "code",
   "execution_count": 35,
   "metadata": {},
   "outputs": [
    {
     "data": {
      "image/png": "[encoded data removed]",
      "text/plain": [
       "<Figure size 432x288 with 1 Axes>"
      ]
     },
     "metadata": {},
     "output_type": "display_data"
    },
    {
     "name": "stdout",
     "output_type": "stream",
     "text": [
      "[\"0\"]          495724\n",
      "[\"1\"]          370269\n",
      "[\"98\"]          79104\n",
      "[\"2\"]           38800\n",
      "[\"1\",\"2\"]       12818\n",
      "[\"1\",\" 2\"]        590\n",
      "[\"1\",\"98\"]         14\n",
      "[\"1\",\" 98\"]        10\n",
      "Name: subvented, dtype: int64\n"
     ]
    }
   ],
   "source": [
    "draw(df.subvented, title='Subvented', ylabel='Number of Loans', sort=True)"
   ]
  },
  {
   "cell_type": "code",
   "execution_count": 36,
   "metadata": {},
   "outputs": [
    {
     "data": {
      "text/plain": [
       "count     997329\n",
       "unique         8\n",
       "top        [\"0\"]\n",
       "freq      495724\n",
       "Name: subvented, dtype: object"
      ]
     },
     "execution_count": 36,
     "metadata": {},
     "output_type": "execute_result"
    }
   ],
   "source": [
    "df.subvented.describe(include='all')"
   ]
  },
  {
   "cell_type": "markdown",
   "metadata": {},
   "source": [
    "# Create Feature Column for Subvented"
   ]
  },
  {
   "cell_type": "code",
   "execution_count": 37,
   "metadata": {},
   "outputs": [
    {
     "data": {
      "text/plain": [
       "1    501605\n",
       "0    495724\n",
       "Name: subvented_true, dtype: int64"
      ]
     },
     "execution_count": 37,
     "metadata": {},
     "output_type": "execute_result"
    }
   ],
   "source": [
    "def map_subvented_true(*args):\n",
    "    columns = [col for col in args]\n",
    "    for column in columns:\n",
    "        if column == '[\"0\"]':\n",
    "            return 0\n",
    "        else:\n",
    "            return 1\n",
    "        \n",
    "df['subvented_true'] = list(map(map_subvented_true, df.subvented))\n",
    "df.drop(['subvented'], axis=1, inplace=True)\n",
    "pd.value_counts(df.subvented_true)"
   ]
  },
  {
   "cell_type": "markdown",
   "metadata": {},
   "source": [
    "# Vehicle New or Used code"
   ]
  },
  {
   "cell_type": "code",
   "execution_count": 38,
   "metadata": {},
   "outputs": [
    {
     "data": {
      "image/png": "[encoded data removed]",
      "text/plain": [
       "<Figure size 432x288 with 1 Axes>"
      ]
     },
     "metadata": {},
     "output_type": "display_data"
    },
    {
     "name": "stdout",
     "output_type": "stream",
     "text": [
      "2    501012\n",
      "1    496317\n",
      "Name: vehiclenewusedcode, dtype: int64\n"
     ]
    }
   ],
   "source": [
    "draw(df.vehiclenewusedcode, title='Vehicle New or Used code', ylabel='Number of Loans', sort=True)"
   ]
  },
  {
   "cell_type": "markdown",
   "metadata": {},
   "source": [
    "# Create Feature Column for New or Used"
   ]
  },
  {
   "cell_type": "code",
   "execution_count": 39,
   "metadata": {},
   "outputs": [
    {
     "data": {
      "text/plain": [
       "0    501012\n",
       "1    496317\n",
       "Name: vehiclenew_true, dtype: int64"
      ]
     },
     "execution_count": 39,
     "metadata": {},
     "output_type": "execute_result"
    }
   ],
   "source": [
    "def map_vehiclenewusedcode_true(*args):\n",
    "    columns = [col for col in args]\n",
    "    for column in columns:\n",
    "        if column == 1:\n",
    "            return 1\n",
    "        else:\n",
    "            return 0\n",
    "        \n",
    "df['vehiclenew_true'] = list(map(map_vehiclenewusedcode_true, df.vehiclenewusedcode))\n",
    "df.drop(['vehiclenewusedcode'], axis=1, inplace=True)\n",
    "pd.value_counts(df.vehiclenew_true)"
   ]
  },
  {
   "cell_type": "markdown",
   "metadata": {},
   "source": [
    "# Vehicle Type code"
   ]
  },
  {
   "cell_type": "code",
   "execution_count": 40,
   "metadata": {},
   "outputs": [
    {
     "data": {
      "image/png": "[encoded data removed]",
      "text/plain": [
       "<Figure size 432x288 with 1 Axes>"
      ]
     },
     "metadata": {},
     "output_type": "display_data"
    },
    {
     "name": "stdout",
     "output_type": "stream",
     "text": [
      "1     588022\n",
      "3     310237\n",
      "2      66267\n",
      "4      31419\n",
      "99      1384\n",
      "Name: vehicletypecode, dtype: int64\n"
     ]
    }
   ],
   "source": [
    "draw(df.vehicletypecode, title='Vehicle New or Used code', ylabel='Number of Loans', sort=True)"
   ]
  },
  {
   "cell_type": "code",
   "execution_count": 41,
   "metadata": {},
   "outputs": [
    {
     "data": {
      "text/plain": [
       "count    997329.000000\n",
       "mean          1.919085\n",
       "std           3.751943\n",
       "min           1.000000\n",
       "25%           1.000000\n",
       "50%           1.000000\n",
       "75%           3.000000\n",
       "max          99.000000\n",
       "Name: vehicletypecode, dtype: float64"
      ]
     },
     "execution_count": 41,
     "metadata": {},
     "output_type": "execute_result"
    }
   ],
   "source": [
    "df.vehicletypecode.describe()"
   ]
  },
  {
   "cell_type": "code",
   "execution_count": 175,
   "metadata": {},
   "outputs": [
    {
     "data": {
      "text/plain": [
       "(960251, 70)"
      ]
     },
     "execution_count": 175,
     "metadata": {},
     "output_type": "execute_result"
    }
   ],
   "source": [
    "df.drop(['vehicletypecode'],axis=1, inplace=True)\n",
    "df.shape"
   ]
  },
  {
   "cell_type": "markdown",
   "metadata": {},
   "source": [
    "# Obligor Credit Score Type"
   ]
  },
  {
   "cell_type": "code",
   "execution_count": 42,
   "metadata": {},
   "outputs": [
    {
     "data": {
      "image/png": "[encoded data removed]",
      "text/plain": [
       "<Figure size 432x288 with 1 Axes>"
      ]
     },
     "metadata": {},
     "output_type": "display_data"
    },
    {
     "name": "stdout",
     "output_type": "stream",
     "text": [
      "FICO                 503934\n",
      "Bureau               321009\n",
      "Credit Bureau         79235\n",
      "FICO Score 2 Auto     71401\n",
      "FICO Score 8 Auto     21750\n",
      "Name: obligorcreditscoretype, dtype: int64\n"
     ]
    }
   ],
   "source": [
    "draw(df.obligorcreditscoretype, title='Obligor Credit Score Type', ylabel='Number of Loans', sort=True)"
   ]
  },
  {
   "cell_type": "code",
   "execution_count": 43,
   "metadata": {},
   "outputs": [
    {
     "data": {
      "text/plain": [
       "count     997329\n",
       "unique         5\n",
       "top         FICO\n",
       "freq      503934\n",
       "Name: obligorcreditscoretype, dtype: object"
      ]
     },
     "execution_count": 43,
     "metadata": {},
     "output_type": "execute_result"
    }
   ],
   "source": [
    "df.obligorcreditscoretype.describe()"
   ]
  },
  {
   "cell_type": "code",
   "execution_count": 44,
   "metadata": {},
   "outputs": [
    {
     "data": {
      "text/plain": [
       "False    997329\n",
       "Name: obligorcreditscoretype, dtype: int64"
      ]
     },
     "execution_count": 44,
     "metadata": {},
     "output_type": "execute_result"
    }
   ],
   "source": [
    "pd.value_counts(df.obligorcreditscoretype==0)"
   ]
  },
  {
   "cell_type": "markdown",
   "metadata": {},
   "source": [
    "# Create features for obligator credit score type"
   ]
  },
  {
   "cell_type": "code",
   "execution_count": 176,
   "metadata": {
    "collapsed": true
   },
   "outputs": [],
   "source": [
    "def map_obligorcreditscoretype(*args):\n",
    "    columns = [col for col in args]\n",
    "    for column in columns:\n",
    "        if column == code:\n",
    "            return 1\n",
    "        else:\n",
    "            return 0\n",
    "codes = pd.value_counts(df.obligorcreditscoretype).index.tolist()\n",
    "\n",
    "for code in codes:\n",
    "        df['credit_type_{}'.format(code)] = list(map(map_obligorcreditscoretype, df.obligorcreditscoretype))\n"
   ]
  },
  {
   "cell_type": "code",
   "execution_count": 177,
   "metadata": {},
   "outputs": [
    {
     "data": {
      "text/plain": [
       "(960251, 74)"
      ]
     },
     "execution_count": 177,
     "metadata": {},
     "output_type": "execute_result"
    }
   ],
   "source": [
    "df.drop(['obligorcreditscoretype'], axis=1, inplace=True)\n",
    "df.shape"
   ]
  },
  {
   "cell_type": "markdown",
   "metadata": {},
   "source": [
    "# Obligor Credit Score"
   ]
  },
  {
   "cell_type": "code",
   "execution_count": 45,
   "metadata": {},
   "outputs": [
    {
     "data": {
      "image/png": "[encoded data removed]",
      "text/plain": [
       "<Figure size 432x288 with 1 Axes>"
      ]
     },
     "metadata": {},
     "output_type": "display_data"
    },
    {
     "name": "stdout",
     "output_type": "stream",
     "text": [
      "825.0    4361\n",
      "677.0    4269\n",
      "818.0    4184\n",
      "827.0    4173\n",
      "817.0    4170\n",
      "831.0    4162\n",
      "826.0    4134\n",
      "824.0    4124\n",
      "816.0    4088\n",
      "830.0    4041\n",
      "834.0    4012\n",
      "828.0    3997\n",
      "833.0    3984\n",
      "805.0    3940\n",
      "822.0    3928\n",
      "815.0    3903\n",
      "836.0    3847\n",
      "814.0    3821\n",
      "820.0    3814\n",
      "812.0    3810\n",
      "853.0    3788\n",
      "821.0    3786\n",
      "842.0    3770\n",
      "705.0    3765\n",
      "832.0    3758\n",
      "747.0    3744\n",
      "837.0    3743\n",
      "738.0    3733\n",
      "823.0    3733\n",
      "810.0    3729\n",
      "         ... \n",
      "399.0      10\n",
      "397.0       7\n",
      "402.0       7\n",
      "389.0       7\n",
      "398.0       7\n",
      "395.0       7\n",
      "393.0       6\n",
      "385.0       5\n",
      "384.0       5\n",
      "391.0       4\n",
      "387.0       4\n",
      "396.0       3\n",
      "374.0       3\n",
      "380.0       3\n",
      "378.0       3\n",
      "383.0       3\n",
      "375.0       2\n",
      "373.0       2\n",
      "370.0       2\n",
      "381.0       1\n",
      "390.0       1\n",
      "377.0       1\n",
      "386.0       1\n",
      "372.0       1\n",
      "371.0       1\n",
      "388.0       1\n",
      "366.0       1\n",
      "363.0       1\n",
      "359.0       1\n",
      "382.0       1\n",
      "Name: obligorcreditscore, Length: 533, dtype: int64\n"
     ]
    }
   ],
   "source": [
    "draw(df.obligorcreditscore, title='Obligor Credit Score', ylabel='Number of Loans', sort=True)"
   ]
  },
  {
   "cell_type": "code",
   "execution_count": 46,
   "metadata": {},
   "outputs": [
    {
     "data": {
      "text/plain": [
       "count    953782.000000\n",
       "mean        716.953510\n",
       "std         106.942971\n",
       "min           0.000000\n",
       "25%         639.000000\n",
       "50%         730.000000\n",
       "75%         806.000000\n",
       "max         900.000000\n",
       "Name: obligorcreditscore, dtype: float64"
      ]
     },
     "execution_count": 46,
     "metadata": {},
     "output_type": "execute_result"
    }
   ],
   "source": [
    "df.obligorcreditscore.describe()"
   ]
  },
  {
   "cell_type": "markdown",
   "metadata": {},
   "source": [
    "# zero credit score loans"
   ]
  },
  {
   "cell_type": "code",
   "execution_count": 47,
   "metadata": {},
   "outputs": [
    {
     "name": "stdout",
     "output_type": "stream",
     "text": [
      "No Credit score for 660 loans\n"
     ]
    }
   ],
   "source": [
    "y=pd.value_counts(df.obligorcreditscore==0)\n",
    "print('No Credit score for',y[1],'loans')"
   ]
  },
  {
   "cell_type": "markdown",
   "metadata": {},
   "source": [
    "# Unfilled Credit Score"
   ]
  },
  {
   "cell_type": "code",
   "execution_count": 48,
   "metadata": {},
   "outputs": [
    {
     "name": "stdout",
     "output_type": "stream",
     "text": [
      "No Credit score for 44207 loans\n"
     ]
    }
   ],
   "source": [
    "df.obligorcreditscore.fillna(0, inplace=True)\n",
    "y=pd.value_counts(df.obligorcreditscore==0)\n",
    "print('No Credit score for',y[1],'loans')"
   ]
  },
  {
   "cell_type": "markdown",
   "metadata": {},
   "source": [
    "# Remove rows with no credit score"
   ]
  },
  {
   "cell_type": "code",
   "execution_count": 49,
   "metadata": {
    "collapsed": true
   },
   "outputs": [],
   "source": [
    "df.obligorcreditscore.replace(0, np.nan, inplace=True)\n",
    "df.obligorcreditscore.dropna(axis=0,inplace=True)"
   ]
  },
  {
   "cell_type": "code",
   "execution_count": 50,
   "metadata": {},
   "outputs": [
    {
     "data": {
      "text/plain": [
       "(997329, 76)"
      ]
     },
     "execution_count": 50,
     "metadata": {},
     "output_type": "execute_result"
    }
   ],
   "source": [
    "df.shape"
   ]
  },
  {
   "cell_type": "markdown",
   "metadata": {},
   "source": [
    "# Obligor Income Verification Level Code"
   ]
  },
  {
   "cell_type": "code",
   "execution_count": 51,
   "metadata": {},
   "outputs": [
    {
     "data": {
      "image/png": "[encoded data removed]",
      "text/plain": [
       "<Figure size 432x288 with 1 Axes>"
      ]
     },
     "metadata": {},
     "output_type": "display_data"
    },
    {
     "name": "stdout",
     "output_type": "stream",
     "text": [
      "2    945882\n",
      "3     51310\n",
      "4       116\n",
      "5        21\n",
      "Name: obligorincomeverificationlevelcode, dtype: int64\n"
     ]
    }
   ],
   "source": [
    "draw(df.obligorincomeverificationlevelcode, title='Obligor Credit Score', ylabel='Number of Loans', sort=True)"
   ]
  },
  {
   "cell_type": "code",
   "execution_count": 52,
   "metadata": {},
   "outputs": [
    {
     "data": {
      "text/plain": [
       "count    997329.000000\n",
       "mean          2.051743\n",
       "std           0.222317\n",
       "min           2.000000\n",
       "25%           2.000000\n",
       "50%           2.000000\n",
       "75%           2.000000\n",
       "max           5.000000\n",
       "Name: obligorincomeverificationlevelcode, dtype: float64"
      ]
     },
     "execution_count": 52,
     "metadata": {},
     "output_type": "execute_result"
    }
   ],
   "source": [
    "df.obligorincomeverificationlevelcode.describe()"
   ]
  },
  {
   "cell_type": "code",
   "execution_count": 53,
   "metadata": {},
   "outputs": [
    {
     "data": {
      "text/plain": [
       "False    997329\n",
       "Name: obligorincomeverificationlevelcode, dtype: int64"
      ]
     },
     "execution_count": 53,
     "metadata": {},
     "output_type": "execute_result"
    }
   ],
   "source": [
    "pd.value_counts(df.obligorincomeverificationlevelcode==0)"
   ]
  },
  {
   "cell_type": "markdown",
   "metadata": {},
   "source": [
    "# Create Feature Columns for Obligor Income Verification Code 2,3,4 and 5"
   ]
  },
  {
   "cell_type": "code",
   "execution_count": 54,
   "metadata": {
    "collapsed": true
   },
   "outputs": [],
   "source": [
    "def map_obligorincomeverificationlevelcode(*args):\n",
    "    columns = [col for col in args]\n",
    "    for column in columns:\n",
    "        if column == code:\n",
    "            return 1\n",
    "        else:\n",
    "            return 0\n",
    "codes = pd.value_counts(df.obligorincomeverificationlevelcode).index.tolist()\n",
    "\n",
    "for code in codes:\n",
    "        df['income_{}'.format(code)] = list(map(map_obligorincomeverificationlevelcode, df.obligorincomeverificationlevelcode))\n"
   ]
  },
  {
   "cell_type": "code",
   "execution_count": 55,
   "metadata": {},
   "outputs": [
    {
     "data": {
      "text/plain": [
       "1    945882\n",
       "0     51447\n",
       "Name: income_2, dtype: int64"
      ]
     },
     "execution_count": 55,
     "metadata": {},
     "output_type": "execute_result"
    }
   ],
   "source": [
    "pd.value_counts(df.income_2)"
   ]
  },
  {
   "cell_type": "code",
   "execution_count": 56,
   "metadata": {},
   "outputs": [
    {
     "data": {
      "text/plain": [
       "0    946019\n",
       "1     51310\n",
       "Name: income_3, dtype: int64"
      ]
     },
     "execution_count": 56,
     "metadata": {},
     "output_type": "execute_result"
    }
   ],
   "source": [
    "pd.value_counts(df.income_3)"
   ]
  },
  {
   "cell_type": "code",
   "execution_count": 57,
   "metadata": {},
   "outputs": [
    {
     "data": {
      "text/plain": [
       "0    997213\n",
       "1       116\n",
       "Name: income_4, dtype: int64"
      ]
     },
     "execution_count": 57,
     "metadata": {},
     "output_type": "execute_result"
    }
   ],
   "source": [
    "pd.value_counts(df.income_4)"
   ]
  },
  {
   "cell_type": "code",
   "execution_count": 58,
   "metadata": {},
   "outputs": [
    {
     "data": {
      "text/plain": [
       "0    997308\n",
       "1        21\n",
       "Name: income_5, dtype: int64"
      ]
     },
     "execution_count": 58,
     "metadata": {},
     "output_type": "execute_result"
    }
   ],
   "source": [
    "pd.value_counts(df.income_5)"
   ]
  },
  {
   "cell_type": "code",
   "execution_count": 59,
   "metadata": {
    "collapsed": true
   },
   "outputs": [],
   "source": [
    "df.drop(['obligorincomeverificationlevelcode'], axis=1, inplace=True)"
   ]
  },
  {
   "cell_type": "markdown",
   "metadata": {},
   "source": [
    "# Obligor Employment Verification Code"
   ]
  },
  {
   "cell_type": "code",
   "execution_count": 60,
   "metadata": {},
   "outputs": [
    {
     "data": {
      "image/png": "[encoded data removed]",
      "text/plain": [
       "<Figure size 432x288 with 1 Axes>"
      ]
     },
     "metadata": {},
     "output_type": "display_data"
    },
    {
     "name": "stdout",
     "output_type": "stream",
     "text": [
      "2    927136\n",
      "3     49176\n",
      "1     21017\n",
      "Name: obligoremploymentverificationcode, dtype: int64\n"
     ]
    }
   ],
   "source": [
    "draw(df.obligoremploymentverificationcode, title='Obligor Employment Verification Code', ylabel='Number of Loans', sort=True)"
   ]
  },
  {
   "cell_type": "code",
   "execution_count": 61,
   "metadata": {},
   "outputs": [
    {
     "data": {
      "text/plain": [
       "False    997329\n",
       "Name: obligoremploymentverificationcode, dtype: int64"
      ]
     },
     "execution_count": 61,
     "metadata": {},
     "output_type": "execute_result"
    }
   ],
   "source": [
    "pd.value_counts(df.obligoremploymentverificationcode==0)"
   ]
  },
  {
   "cell_type": "code",
   "execution_count": 62,
   "metadata": {},
   "outputs": [
    {
     "data": {
      "text/plain": [
       "count    997329.000000\n",
       "mean          2.028234\n",
       "std           0.263788\n",
       "min           1.000000\n",
       "25%           2.000000\n",
       "50%           2.000000\n",
       "75%           2.000000\n",
       "max           3.000000\n",
       "Name: obligoremploymentverificationcode, dtype: float64"
      ]
     },
     "execution_count": 62,
     "metadata": {},
     "output_type": "execute_result"
    }
   ],
   "source": [
    "df.obligoremploymentverificationcode.describe()"
   ]
  },
  {
   "cell_type": "markdown",
   "metadata": {},
   "source": [
    "# Create feature Columns for obligor employment verification code 1,2 and 3"
   ]
  },
  {
   "cell_type": "code",
   "execution_count": 63,
   "metadata": {
    "collapsed": true
   },
   "outputs": [],
   "source": [
    "def map_obligoremploymentverificationcode(*args):\n",
    "    columns = [col for col in args]\n",
    "    for column in columns:\n",
    "        if column == code:\n",
    "            return 1\n",
    "        else:\n",
    "            return 0\n",
    "codes = pd.value_counts(df.obligoremploymentverificationcode).index.tolist()\n",
    "\n",
    "for code in codes:\n",
    "        df['employment_{}'.format(code)] = list(map(map_obligoremploymentverificationcode, df.obligoremploymentverificationcode))\n"
   ]
  },
  {
   "cell_type": "code",
   "execution_count": 64,
   "metadata": {},
   "outputs": [
    {
     "data": {
      "text/plain": [
       "0    976312\n",
       "1     21017\n",
       "Name: employment_1, dtype: int64"
      ]
     },
     "execution_count": 64,
     "metadata": {},
     "output_type": "execute_result"
    }
   ],
   "source": [
    "pd.value_counts(df.employment_1)"
   ]
  },
  {
   "cell_type": "code",
   "execution_count": 65,
   "metadata": {},
   "outputs": [
    {
     "data": {
      "text/plain": [
       "1    927136\n",
       "0     70193\n",
       "Name: employment_2, dtype: int64"
      ]
     },
     "execution_count": 65,
     "metadata": {},
     "output_type": "execute_result"
    }
   ],
   "source": [
    "pd.value_counts(df.employment_2)"
   ]
  },
  {
   "cell_type": "code",
   "execution_count": 66,
   "metadata": {},
   "outputs": [
    {
     "data": {
      "text/plain": [
       "0    948153\n",
       "1     49176\n",
       "Name: employment_3, dtype: int64"
      ]
     },
     "execution_count": 66,
     "metadata": {},
     "output_type": "execute_result"
    }
   ],
   "source": [
    "pd.value_counts(df.employment_3)"
   ]
  },
  {
   "cell_type": "code",
   "execution_count": 67,
   "metadata": {
    "collapsed": true
   },
   "outputs": [],
   "source": [
    "df.drop(['obligoremploymentverificationcode'], axis=1, inplace=True)"
   ]
  },
  {
   "cell_type": "markdown",
   "metadata": {},
   "source": [
    "# Reporting Period Actual End Balance Amount"
   ]
  },
  {
   "cell_type": "code",
   "execution_count": 68,
   "metadata": {},
   "outputs": [
    {
     "data": {
      "image/png": "[encoded data removed]",
      "text/plain": [
       "<Figure size 432x288 with 1 Axes>"
      ]
     },
     "metadata": {},
     "output_type": "display_data"
    }
   ],
   "source": [
    "bins = np.linspace(0, 100000, 1000)\n",
    "plt.hist(df.reportingperiodactualendbalanceamount, bins, alpha=0.6, density=True, label='Original Loan Amount')\n",
    "plt.legend(loc='upper right')\n",
    "plt.title(\"Reporting Period Actual End Balance Amount\")\n",
    "plt.xlabel('End Balance amount')\n",
    "plt.ylabel('Percent of Loans')\n",
    "plt.show()"
   ]
  },
  {
   "cell_type": "code",
   "execution_count": 69,
   "metadata": {
    "collapsed": true
   },
   "outputs": [],
   "source": [
    "#draw(df.reportingperiodactualendbalanceamount, title='Reporting Period Actual End Balance Amount', ylabel='Number of Loans')"
   ]
  },
  {
   "cell_type": "code",
   "execution_count": 70,
   "metadata": {},
   "outputs": [
    {
     "data": {
      "text/plain": [
       "0.00        39680\n",
       "0.01           73\n",
       "10000.00       64\n",
       "20000.00       52\n",
       "5000.00        49\n",
       "12000.00       46\n",
       "13000.00       42\n",
       "15000.00       37\n",
       "9000.00        36\n",
       "7500.00        36\n",
       "8000.00        33\n",
       "18000.00       32\n",
       "6000.00        31\n",
       "14000.00       31\n",
       "13500.00       30\n",
       "7000.00        29\n",
       "17000.00       29\n",
       "11000.00       28\n",
       "0.04           27\n",
       "4000.00        27\n",
       "19000.00       27\n",
       "11500.00       25\n",
       "12500.00       25\n",
       "20500.00       24\n",
       "25000.00       24\n",
       "3000.00        24\n",
       "23500.00       23\n",
       "6500.00        23\n",
       "21000.00       22\n",
       "21500.00       22\n",
       "            ...  \n",
       "11637.79        1\n",
       "12576.81        1\n",
       "11658.21        1\n",
       "5358.54         1\n",
       "25057.36        1\n",
       "7567.45         1\n",
       "25059.61        1\n",
       "11636.79        1\n",
       "16938.43        1\n",
       "25059.86        1\n",
       "25069.61        1\n",
       "5357.54         1\n",
       "24594.39        1\n",
       "16938.93        1\n",
       "43251.02        1\n",
       "17109.07        1\n",
       "24594.64        1\n",
       "56696.63        1\n",
       "25575.99        1\n",
       "3871.89         1\n",
       "32672.29        1\n",
       "11636.29        1\n",
       "32607.96        1\n",
       "24605.39        1\n",
       "16933.93        1\n",
       "24605.64        1\n",
       "16933.68        1\n",
       "9365.95         1\n",
       "32607.46        1\n",
       "13557.75        1\n",
       "Name: reportingperiodactualendbalanceamount, Length: 820285, dtype: int64"
      ]
     },
     "execution_count": 70,
     "metadata": {},
     "output_type": "execute_result"
    }
   ],
   "source": [
    "pd.value_counts(df.reportingperiodactualendbalanceamount)"
   ]
  },
  {
   "cell_type": "code",
   "execution_count": 71,
   "metadata": {},
   "outputs": [
    {
     "data": {
      "text/plain": [
       " 0.00        182168\n",
       " 500.00       19089\n",
       " 400.00       13495\n",
       " 600.00       10808\n",
       " 300.00        9775\n",
       " 1000.00       8927\n",
       " 700.00        5942\n",
       " 350.00        5410\n",
       " 450.00        4824\n",
       " 800.00        4144\n",
       " 200.00        3749\n",
       " 550.00        3739\n",
       " 250.00        3580\n",
       " 650.00        2828\n",
       " 750.00        2164\n",
       " 2000.00       1828\n",
       " 900.00        1763\n",
       " 360.00        1577\n",
       " 1500.00       1534\n",
       " 320.00        1396\n",
       " 420.00        1370\n",
       " 1200.00       1291\n",
       " 375.00        1270\n",
       " 380.00        1267\n",
       " 425.00        1204\n",
       " 460.00        1156\n",
       " 430.00        1107\n",
       " 340.00        1098\n",
       " 330.00        1089\n",
       " 370.00        1088\n",
       "              ...  \n",
       " 881.27           1\n",
       " 866.63           1\n",
       " 752.48           1\n",
       " 17390.94         1\n",
       " 1012.87          1\n",
       " 1551.91          1\n",
       "-45.86            1\n",
       " 14275.91         1\n",
       " 1987.30          1\n",
       " 140.67           1\n",
       " 8599.01          1\n",
       " 13498.75         1\n",
       " 1668.56          1\n",
       " 1696.29          1\n",
       " 99.26            1\n",
       " 199.33           1\n",
       "-16.61            1\n",
       " 867.71           1\n",
       " 892.29           1\n",
       " 717.12           1\n",
       " 175.89           1\n",
       " 524.68           1\n",
       " 1449.12          1\n",
       " 137.31           1\n",
       " 769.14           1\n",
       " 3010.53          1\n",
       " 648.31           1\n",
       " 1164.83          1\n",
       " 18203.12         1\n",
       " 120.98           1\n",
       "Name: totalactualamountpaid, Length: 102581, dtype: int64"
      ]
     },
     "execution_count": 71,
     "metadata": {},
     "output_type": "execute_result"
    }
   ],
   "source": [
    "pd.value_counts(df.totalactualamountpaid)"
   ]
  },
  {
   "cell_type": "code",
   "execution_count": 72,
   "metadata": {},
   "outputs": [
    {
     "data": {
      "text/plain": [
       "0.00       223814\n",
       "300.00        807\n",
       "200.00        730\n",
       "400.00        727\n",
       "500.00        592\n",
       "100.00        384\n",
       "250.00        369\n",
       "350.00        350\n",
       "600.00        340\n",
       "450.00        270\n",
       "150.00        262\n",
       "700.00        192\n",
       "550.00        161\n",
       "320.00        141\n",
       "360.00        140\n",
       "380.00        134\n",
       "19.23         126\n",
       "650.00        125\n",
       "15.80         120\n",
       "12.05         119\n",
       "11.93         119\n",
       "420.00        119\n",
       "18.53         118\n",
       "15.36         118\n",
       "19.10         118\n",
       "14.94         118\n",
       "18.13         117\n",
       "16.24         117\n",
       "15.28         117\n",
       "16.89         116\n",
       "            ...  \n",
       "667.52          1\n",
       "676.33          1\n",
       "317.73          1\n",
       "762.10          1\n",
       "501.59          1\n",
       "303.44          1\n",
       "880.43          1\n",
       "690.03          1\n",
       "922.70          1\n",
       "583.98          1\n",
       "535.59          1\n",
       "532.41          1\n",
       "477.93          1\n",
       "476.07          1\n",
       "384.85          1\n",
       "482.56          1\n",
       "1191.75         1\n",
       "762.85          1\n",
       "460.80          1\n",
       "807.11          1\n",
       "693.78          1\n",
       "460.22          1\n",
       "422.81          1\n",
       "324.33          1\n",
       "576.23          1\n",
       "677.83          1\n",
       "503.66          1\n",
       "712.50          1\n",
       "690.47          1\n",
       "2440.00         1\n",
       "Name: actualinterestcollectedamount, Length: 62620, dtype: int64"
      ]
     },
     "execution_count": 72,
     "metadata": {},
     "output_type": "execute_result"
    }
   ],
   "source": [
    "pd.value_counts(df.actualinterestcollectedamount)"
   ]
  },
  {
   "cell_type": "code",
   "execution_count": 73,
   "metadata": {},
   "outputs": [
    {
     "data": {
      "text/plain": [
       "0.00        218533\n",
       "500.00        1266\n",
       "400.00         813\n",
       "300.00         486\n",
       "600.00         466\n",
       "350.00         334\n",
       "1000.00        288\n",
       "450.00         279\n",
       "700.00         216\n",
       "550.00         189\n",
       "250.00         167\n",
       "800.00         129\n",
       "200.00         124\n",
       "375.00          93\n",
       "360.00          87\n",
       "650.00          87\n",
       "425.00          84\n",
       "420.00          81\n",
       "325.00          72\n",
       "430.00          69\n",
       "380.00          68\n",
       "370.00          66\n",
       "310.00          66\n",
       "320.00          64\n",
       "480.00          64\n",
       "330.00          63\n",
       "460.00          62\n",
       "440.00          61\n",
       "410.00          60\n",
       "750.00          58\n",
       "             ...  \n",
       "1284.80          1\n",
       "6567.49          1\n",
       "16127.83         1\n",
       "946.52           1\n",
       "1234.25          1\n",
       "868.76           1\n",
       "852.68           1\n",
       "3477.04          1\n",
       "50905.79         1\n",
       "1036.09          1\n",
       "792.39           1\n",
       "1069.81          1\n",
       "1214.33          1\n",
       "1297.44          1\n",
       "1153.67          1\n",
       "28920.23         1\n",
       "1035.66          1\n",
       "627.27           1\n",
       "26529.35         1\n",
       "19769.81         1\n",
       "8151.83          1\n",
       "1006.38          1\n",
       "31234.51         1\n",
       "2868.80          1\n",
       "16576.44         1\n",
       "3109.88          1\n",
       "1456.32          1\n",
       "1212.45          1\n",
       "1211.55          1\n",
       "10446.51         1\n",
       "Name: actualprincipalcollectedamount, Length: 138321, dtype: int64"
      ]
     },
     "execution_count": 73,
     "metadata": {},
     "output_type": "execute_result"
    }
   ],
   "source": [
    "pd.value_counts(df.actualprincipalcollectedamount)"
   ]
  },
  {
   "cell_type": "code",
   "execution_count": 74,
   "metadata": {},
   "outputs": [
    {
     "data": {
      "text/plain": [
       "1900-01-01    34477\n",
       "2017-12-15    11412\n",
       "2017-12-01     8135\n",
       "2017-12-08     7805\n",
       "2017-12-29     7792\n",
       "2017-12-14     7103\n",
       "2017-12-22     6695\n",
       "2017-02-01     6581\n",
       "2017-12-04     6424\n",
       "2017-12-05     6362\n",
       "2017-12-11     6024\n",
       "2017-12-12     5885\n",
       "2017-12-07     5830\n",
       "2017-12-13     5751\n",
       "2017-01-20     5614\n",
       "2017-02-10     5301\n",
       "2017-12-06     5224\n",
       "2017-02-28     5220\n",
       "2017-12-28     5196\n",
       "2017-02-15     5087\n",
       "2017-01-27     5069\n",
       "2017-01-17     4962\n",
       "2017-11-30     4900\n",
       "2017-01-13     4880\n",
       "2018-02-28     4673\n",
       "2017-02-03     4595\n",
       "2018-05-25     4581\n",
       "2017-12-09     4532\n",
       "2017-01-10     4503\n",
       "2017-12-20     4489\n",
       "              ...  \n",
       "2020-02-17        1\n",
       "2016-02-25        1\n",
       "2021-01-01        1\n",
       "2019-06-14        1\n",
       "2016-06-03        1\n",
       "2015-10-31        1\n",
       "2018-09-23        1\n",
       "2015-01-22        1\n",
       "2016-04-18        1\n",
       "2019-05-28        1\n",
       "2016-05-24        1\n",
       "2019-01-27        1\n",
       "2014-04-13        1\n",
       "2015-03-04        1\n",
       "2016-04-10        1\n",
       "2019-09-17        1\n",
       "2018-10-26        1\n",
       "2014-12-07        1\n",
       "2016-07-22        1\n",
       "2016-07-06        1\n",
       "2021-01-03        1\n",
       "2015-10-20        1\n",
       "2018-12-23        1\n",
       "2019-03-03        1\n",
       "2020-01-24        1\n",
       "2016-02-04        1\n",
       "2018-11-16        1\n",
       "2021-04-30        1\n",
       "2015-09-02        1\n",
       "2018-12-01        1\n",
       "Name: interestpaidthroughdate, Length: 1114, dtype: int64"
      ]
     },
     "execution_count": 74,
     "metadata": {},
     "output_type": "execute_result"
    }
   ],
   "source": [
    "pd.value_counts(df.interestpaidthroughdate)"
   ]
  },
  {
   "cell_type": "code",
   "execution_count": 75,
   "metadata": {},
   "outputs": [
    {
     "data": {
      "text/plain": [
       " 0      900654\n",
       " 2        6152\n",
       " 5        6068\n",
       " 3        4884\n",
       " 4        4657\n",
       " 1        4081\n",
       " 6        3827\n",
       " 10       3771\n",
       " 15       3696\n",
       " 7        3659\n",
       " 8        3191\n",
       " 9        2941\n",
       " 12       2459\n",
       " 11       2270\n",
       " 14       2215\n",
       " 13       2212\n",
       " 16       2074\n",
       " 17       1996\n",
       " 30       1921\n",
       " 18       1703\n",
       " 20       1699\n",
       " 19       1612\n",
       " 21       1384\n",
       " 22       1202\n",
       " 23       1123\n",
       " 25       1122\n",
       " 26       1087\n",
       " 24       1002\n",
       " 27        918\n",
       " 29        880\n",
       "         ...  \n",
       " 307         4\n",
       " 267         4\n",
       " 314         4\n",
       " 289         4\n",
       " 328         3\n",
       " 282         3\n",
       " 356         3\n",
       " 355         3\n",
       " 349         3\n",
       " 313         3\n",
       " 341         3\n",
       " 339         3\n",
       " 323         3\n",
       " 342         3\n",
       " 337         3\n",
       " 262         3\n",
       " 321         2\n",
       " 348         2\n",
       " 350         2\n",
       " 351         2\n",
       " 271         2\n",
       " 332         2\n",
       " 343         1\n",
       " 442         1\n",
       " 391         1\n",
       " 390         1\n",
       " 354         1\n",
       " 358         1\n",
       " 353         1\n",
       "-1           1\n",
       "Name: currentdelinquencystatus, Length: 362, dtype: int64"
      ]
     },
     "execution_count": 75,
     "metadata": {},
     "output_type": "execute_result"
    }
   ],
   "source": [
    "pd.value_counts(df.currentdelinquencystatus)"
   ]
  },
  {
   "cell_type": "code",
   "execution_count": 76,
   "metadata": {},
   "outputs": [
    {
     "data": {
      "text/plain": [
       "0.00        497894\n",
       "20159.00         2\n",
       "17752.00         2\n",
       "15316.69         1\n",
       "17759.02         1\n",
       "13736.00         1\n",
       "17792.23         1\n",
       "32494.20         1\n",
       "8104.20          1\n",
       "13825.75         1\n",
       "15297.56         1\n",
       "28718.46         1\n",
       "16936.02         1\n",
       "14089.11         1\n",
       "16964.98         1\n",
       "16957.52         1\n",
       "17023.48         1\n",
       "8990.95          1\n",
       "13886.25         1\n",
       "28224.86         1\n",
       "19879.68         1\n",
       "8081.45          1\n",
       "13704.00         1\n",
       "13955.00         1\n",
       "14409.56         1\n",
       "22943.66         1\n",
       "31762.05         1\n",
       "14280.89         1\n",
       "12033.12         1\n",
       "14275.89         1\n",
       "             ...  \n",
       "6898.02          1\n",
       "9120.10          1\n",
       "7695.85          1\n",
       "22389.22         1\n",
       "21586.78         1\n",
       "18723.87         1\n",
       "18769.62         1\n",
       "22012.03         1\n",
       "19073.62         1\n",
       "26946.58         1\n",
       "17077.06         1\n",
       "23838.69         1\n",
       "11527.60         1\n",
       "11524.85         1\n",
       "17046.81         1\n",
       "20307.00         1\n",
       "18785.28         1\n",
       "10669.52         1\n",
       "20387.00         1\n",
       "20441.50         1\n",
       "20453.50         1\n",
       "16276.58         1\n",
       "20500.00         1\n",
       "10607.18         1\n",
       "20587.00         1\n",
       "21857.97         1\n",
       "16177.24         1\n",
       "14573.59         1\n",
       "19251.62         1\n",
       "15720.61         1\n",
       "Name: chargedoffprincipalamount, Length: 1372, dtype: int64"
      ]
     },
     "execution_count": 76,
     "metadata": {},
     "output_type": "execute_result"
    }
   ],
   "source": [
    "pd.value_counts(df.chargedoffprincipalamount)"
   ]
  },
  {
   "cell_type": "code",
   "execution_count": 77,
   "metadata": {},
   "outputs": [
    {
     "data": {
      "text/plain": [
       " 0.00        497536\n",
       "-405.00          80\n",
       "-385.00          75\n",
       "-85.00           15\n",
       "-700.00          14\n",
       "-185.00          13\n",
       "-175.00          11\n",
       "-370.00          10\n",
       "-600.00           8\n",
       "-581.00           7\n",
       "-150.00           7\n",
       " 200.00           7\n",
       "-325.00           6\n",
       "-425.00           6\n",
       " 50.00            5\n",
       " 300.00           5\n",
       "-300.00           5\n",
       "-225.00           5\n",
       "-75.00            4\n",
       " 350.00           4\n",
       "-400.00           4\n",
       "-25.00            4\n",
       " 100.00           4\n",
       " 500.00           4\n",
       "-200.00           3\n",
       "-80.00            3\n",
       " 175.00           3\n",
       "-56.00            3\n",
       "-50.00            3\n",
       " 9026.00          3\n",
       "              ...  \n",
       " 21653.00         1\n",
       " 506.10           1\n",
       " 144.18           1\n",
       " 5428.50          1\n",
       " 5433.00          1\n",
       " 5436.00          1\n",
       " 2107.40          1\n",
       " 320.23           1\n",
       " 21765.50         1\n",
       " 5329.50          1\n",
       " 7779.90          1\n",
       " 5326.00          1\n",
       " 5238.00          1\n",
       " 12490.17         1\n",
       " 783.13           1\n",
       " 5398.93          1\n",
       " 5206.00          1\n",
       " 5221.00          1\n",
       " 7876.90          1\n",
       " 20909.00         1\n",
       " 296.42           1\n",
       " 5322.00          1\n",
       " 5268.00          1\n",
       " 5274.00          1\n",
       " 330.00           1\n",
       " 21138.00         1\n",
       " 5296.50          1\n",
       " 21226.00         1\n",
       " 156.43           1\n",
       " 510.24           1\n",
       "Name: recoveredamount, Length: 1385, dtype: int64"
      ]
     },
     "execution_count": 77,
     "metadata": {},
     "output_type": "execute_result"
    }
   ],
   "source": [
    "pd.value_counts(df.recoveredamount)"
   ]
  },
  {
   "cell_type": "code",
   "execution_count": 78,
   "metadata": {},
   "outputs": [
    {
     "data": {
      "text/plain": [
       "False    991855\n",
       "True       5474\n",
       "Name: repossessedindicator, dtype: int64"
      ]
     },
     "execution_count": 78,
     "metadata": {},
     "output_type": "execute_result"
    }
   ],
   "source": [
    "pd.value_counts(df.repossessedindicator)"
   ]
  },
  {
   "cell_type": "code",
   "execution_count": 79,
   "metadata": {},
   "outputs": [
    {
     "data": {
      "text/plain": [
       " 0.00        524590\n",
       "-385.00         557\n",
       "-405.00         135\n",
       "-125.00          91\n",
       "-150.00          70\n",
       "-185.00          67\n",
       "-370.00          54\n",
       "-85.00           50\n",
       "-175.00          23\n",
       "-425.00          19\n",
       "-25.00           16\n",
       "-700.00          16\n",
       "-325.00          12\n",
       "-600.00          10\n",
       "-200.00          10\n",
       "-75.00            9\n",
       "-165.00           8\n",
       "-225.00           8\n",
       "-15.00            8\n",
       "-400.00           7\n",
       "-581.00           7\n",
       "-8.00             5\n",
       "-100.00           5\n",
       "-275.00           5\n",
       "-205.00           5\n",
       "-535.00           5\n",
       "-510.00           5\n",
       "-300.00           5\n",
       "-350.00           4\n",
       "-56.00            4\n",
       "              ...  \n",
       "-290.00           1\n",
       " 4649.00          1\n",
       " 10244.98         1\n",
       " 4651.50          1\n",
       " 19501.00         1\n",
       " 19453.00         1\n",
       " 4844.75          1\n",
       " 4839.50          1\n",
       " 19331.00         1\n",
       " 1206.00          1\n",
       " 4808.00          1\n",
       " 4802.50          1\n",
       " 7853.00          1\n",
       " 1199.50          1\n",
       " 4782.50          1\n",
       " 4776.00          1\n",
       " 4769.50          1\n",
       "-298.00           1\n",
       " 4758.00          1\n",
       " 1187.00          1\n",
       " 1168.00          1\n",
       " 4742.00          1\n",
       " 4724.50          1\n",
       "-1965.00          1\n",
       " 4907.43          1\n",
       " 4713.00          1\n",
       " 4712.00          1\n",
       "-520.00           1\n",
       "-292.00           1\n",
       " 3917.50          1\n",
       "Name: repossessedproceedsamount, Length: 1026, dtype: int64"
      ]
     },
     "execution_count": 79,
     "metadata": {},
     "output_type": "execute_result"
    }
   ],
   "source": [
    "pd.value_counts(df.repossessedproceedsamount)"
   ]
  },
  {
   "cell_type": "markdown",
   "metadata": {},
   "source": [
    "# Clean data"
   ]
  },
  {
   "cell_type": "code",
   "execution_count": 80,
   "metadata": {
    "collapsed": true
   },
   "outputs": [],
   "source": [
    "# change columns to lower case and remove prefix to enable pandas to work\n",
    "column_list=[x.lower() for x in (column_list)]\n",
    "df.columns=df.columns.str.replace('abs_loan.','')\n",
    "# convert objects to numeric\n",
    "#df=df.convert_objects(convert_numeric=True)"
   ]
  },
  {
   "cell_type": "markdown",
   "metadata": {},
   "source": [
    "# Check for null"
   ]
  },
  {
   "cell_type": "code",
   "execution_count": 81,
   "metadata": {},
   "outputs": [
    {
     "data": {
      "text/plain": [
       "True"
      ]
     },
     "execution_count": 81,
     "metadata": {},
     "output_type": "execute_result"
    }
   ],
   "source": [
    "df.isnull().values.any()"
   ]
  },
  {
   "cell_type": "markdown",
   "metadata": {},
   "source": [
    "# Loan Statistics"
   ]
  },
  {
   "cell_type": "code",
   "execution_count": 82,
   "metadata": {},
   "outputs": [
    {
     "data": {
      "text/html": [
       "<div>\n",
       "<style scoped>\n",
       "    .dataframe tbody tr th:only-of-type {\n",
       "        vertical-align: middle;\n",
       "    }\n",
       "\n",
       "    .dataframe tbody tr th {\n",
       "        vertical-align: top;\n",
       "    }\n",
       "\n",
       "    .dataframe thead th {\n",
       "        text-align: right;\n",
       "    }\n",
       "</style>\n",
       "<table border=\"1\" class=\"dataframe\">\n",
       "  <thead>\n",
       "    <tr style=\"text-align: right;\">\n",
       "      <th></th>\n",
       "      <th>cik</th>\n",
       "      <th>originalloanamount</th>\n",
       "      <th>originalloanterm</th>\n",
       "      <th>originalinterestratepercentage</th>\n",
       "      <th>interestcalculationtypecode</th>\n",
       "      <th>originalinterestratetypecode</th>\n",
       "      <th>originalinterestonlytermnumber</th>\n",
       "      <th>graceperiodnumber</th>\n",
       "      <th>paymenttypecode</th>\n",
       "      <th>vehiclemodelyear</th>\n",
       "      <th>...</th>\n",
       "      <th>underwriting_true</th>\n",
       "      <th>subvented_true</th>\n",
       "      <th>vehiclenew_true</th>\n",
       "      <th>income_2</th>\n",
       "      <th>income_3</th>\n",
       "      <th>income_4</th>\n",
       "      <th>income_5</th>\n",
       "      <th>employment_2</th>\n",
       "      <th>employment_3</th>\n",
       "      <th>employment_1</th>\n",
       "    </tr>\n",
       "  </thead>\n",
       "  <tbody>\n",
       "    <tr>\n",
       "      <th>count</th>\n",
       "      <td>9.973290e+05</td>\n",
       "      <td>997329.000000</td>\n",
       "      <td>997329.000000</td>\n",
       "      <td>997329.000000</td>\n",
       "      <td>997329.0</td>\n",
       "      <td>997329.0</td>\n",
       "      <td>76690.0</td>\n",
       "      <td>997329.000000</td>\n",
       "      <td>997329.0</td>\n",
       "      <td>997329.000000</td>\n",
       "      <td>...</td>\n",
       "      <td>997329.000000</td>\n",
       "      <td>997329.000000</td>\n",
       "      <td>997329.000000</td>\n",
       "      <td>997329.000000</td>\n",
       "      <td>997329.000000</td>\n",
       "      <td>997329.000000</td>\n",
       "      <td>997329.000000</td>\n",
       "      <td>997329.000000</td>\n",
       "      <td>997329.000000</td>\n",
       "      <td>997329.000000</td>\n",
       "    </tr>\n",
       "    <tr>\n",
       "      <th>mean</th>\n",
       "      <td>1.715213e+06</td>\n",
       "      <td>26782.123195</td>\n",
       "      <td>64.619998</td>\n",
       "      <td>1.686214</td>\n",
       "      <td>1.0</td>\n",
       "      <td>1.0</td>\n",
       "      <td>0.0</td>\n",
       "      <td>1.097445</td>\n",
       "      <td>2.0</td>\n",
       "      <td>2014.391710</td>\n",
       "      <td>...</td>\n",
       "      <td>0.807772</td>\n",
       "      <td>0.502948</td>\n",
       "      <td>0.497646</td>\n",
       "      <td>0.948415</td>\n",
       "      <td>0.051447</td>\n",
       "      <td>0.000116</td>\n",
       "      <td>0.000021</td>\n",
       "      <td>0.929619</td>\n",
       "      <td>0.049308</td>\n",
       "      <td>0.021073</td>\n",
       "    </tr>\n",
       "    <tr>\n",
       "      <th>std</th>\n",
       "      <td>1.550455e+04</td>\n",
       "      <td>14194.515677</td>\n",
       "      <td>9.534591</td>\n",
       "      <td>2.462058</td>\n",
       "      <td>0.0</td>\n",
       "      <td>0.0</td>\n",
       "      <td>0.0</td>\n",
       "      <td>0.588963</td>\n",
       "      <td>0.0</td>\n",
       "      <td>2.464389</td>\n",
       "      <td>...</td>\n",
       "      <td>0.394052</td>\n",
       "      <td>0.499992</td>\n",
       "      <td>0.499995</td>\n",
       "      <td>0.221187</td>\n",
       "      <td>0.220909</td>\n",
       "      <td>0.010784</td>\n",
       "      <td>0.004589</td>\n",
       "      <td>0.255788</td>\n",
       "      <td>0.216510</td>\n",
       "      <td>0.143629</td>\n",
       "    </tr>\n",
       "    <tr>\n",
       "      <th>min</th>\n",
       "      <td>1.694276e+06</td>\n",
       "      <td>1624.630000</td>\n",
       "      <td>12.000000</td>\n",
       "      <td>0.000000</td>\n",
       "      <td>1.0</td>\n",
       "      <td>1.0</td>\n",
       "      <td>0.0</td>\n",
       "      <td>0.000000</td>\n",
       "      <td>2.0</td>\n",
       "      <td>1994.000000</td>\n",
       "      <td>...</td>\n",
       "      <td>0.000000</td>\n",
       "      <td>0.000000</td>\n",
       "      <td>0.000000</td>\n",
       "      <td>0.000000</td>\n",
       "      <td>0.000000</td>\n",
       "      <td>0.000000</td>\n",
       "      <td>0.000000</td>\n",
       "      <td>0.000000</td>\n",
       "      <td>0.000000</td>\n",
       "      <td>0.000000</td>\n",
       "    </tr>\n",
       "    <tr>\n",
       "      <th>25%</th>\n",
       "      <td>1.696935e+06</td>\n",
       "      <td>16920.840000</td>\n",
       "      <td>60.000000</td>\n",
       "      <td>0.138500</td>\n",
       "      <td>1.0</td>\n",
       "      <td>1.0</td>\n",
       "      <td>0.0</td>\n",
       "      <td>1.000000</td>\n",
       "      <td>2.0</td>\n",
       "      <td>2013.000000</td>\n",
       "      <td>...</td>\n",
       "      <td>1.000000</td>\n",
       "      <td>0.000000</td>\n",
       "      <td>0.000000</td>\n",
       "      <td>1.000000</td>\n",
       "      <td>0.000000</td>\n",
       "      <td>0.000000</td>\n",
       "      <td>0.000000</td>\n",
       "      <td>1.000000</td>\n",
       "      <td>0.000000</td>\n",
       "      <td>0.000000</td>\n",
       "    </tr>\n",
       "    <tr>\n",
       "      <th>50%</th>\n",
       "      <td>1.725617e+06</td>\n",
       "      <td>24005.610000</td>\n",
       "      <td>66.000000</td>\n",
       "      <td>0.900000</td>\n",
       "      <td>1.0</td>\n",
       "      <td>1.0</td>\n",
       "      <td>0.0</td>\n",
       "      <td>1.000000</td>\n",
       "      <td>2.0</td>\n",
       "      <td>2015.000000</td>\n",
       "      <td>...</td>\n",
       "      <td>1.000000</td>\n",
       "      <td>1.000000</td>\n",
       "      <td>0.000000</td>\n",
       "      <td>1.000000</td>\n",
       "      <td>0.000000</td>\n",
       "      <td>0.000000</td>\n",
       "      <td>0.000000</td>\n",
       "      <td>1.000000</td>\n",
       "      <td>0.000000</td>\n",
       "      <td>0.000000</td>\n",
       "    </tr>\n",
       "    <tr>\n",
       "      <th>75%</th>\n",
       "      <td>1.725617e+06</td>\n",
       "      <td>33207.560000</td>\n",
       "      <td>72.000000</td>\n",
       "      <td>2.900000</td>\n",
       "      <td>1.0</td>\n",
       "      <td>1.0</td>\n",
       "      <td>0.0</td>\n",
       "      <td>1.000000</td>\n",
       "      <td>2.0</td>\n",
       "      <td>2016.000000</td>\n",
       "      <td>...</td>\n",
       "      <td>1.000000</td>\n",
       "      <td>1.000000</td>\n",
       "      <td>1.000000</td>\n",
       "      <td>1.000000</td>\n",
       "      <td>0.000000</td>\n",
       "      <td>0.000000</td>\n",
       "      <td>0.000000</td>\n",
       "      <td>1.000000</td>\n",
       "      <td>0.000000</td>\n",
       "      <td>0.000000</td>\n",
       "    </tr>\n",
       "    <tr>\n",
       "      <th>max</th>\n",
       "      <td>1.742444e+06</td>\n",
       "      <td>189984.120000</td>\n",
       "      <td>75.000000</td>\n",
       "      <td>22.990000</td>\n",
       "      <td>1.0</td>\n",
       "      <td>1.0</td>\n",
       "      <td>0.0</td>\n",
       "      <td>3.000000</td>\n",
       "      <td>2.0</td>\n",
       "      <td>2019.000000</td>\n",
       "      <td>...</td>\n",
       "      <td>1.000000</td>\n",
       "      <td>1.000000</td>\n",
       "      <td>1.000000</td>\n",
       "      <td>1.000000</td>\n",
       "      <td>1.000000</td>\n",
       "      <td>1.000000</td>\n",
       "      <td>1.000000</td>\n",
       "      <td>1.000000</td>\n",
       "      <td>1.000000</td>\n",
       "      <td>1.000000</td>\n",
       "    </tr>\n",
       "  </tbody>\n",
       "</table>\n",
       "<p>8 rows × 57 columns</p>\n",
       "</div>"
      ],
      "text/plain": [
       "                cik  originalloanamount  originalloanterm  \\\n",
       "count  9.973290e+05       997329.000000     997329.000000   \n",
       "mean   1.715213e+06        26782.123195         64.619998   \n",
       "std    1.550455e+04        14194.515677          9.534591   \n",
       "min    1.694276e+06         1624.630000         12.000000   \n",
       "25%    1.696935e+06        16920.840000         60.000000   \n",
       "50%    1.725617e+06        24005.610000         66.000000   \n",
       "75%    1.725617e+06        33207.560000         72.000000   \n",
       "max    1.742444e+06       189984.120000         75.000000   \n",
       "\n",
       "       originalinterestratepercentage  interestcalculationtypecode  \\\n",
       "count                   997329.000000                     997329.0   \n",
       "mean                         1.686214                          1.0   \n",
       "std                          2.462058                          0.0   \n",
       "min                          0.000000                          1.0   \n",
       "25%                          0.138500                          1.0   \n",
       "50%                          0.900000                          1.0   \n",
       "75%                          2.900000                          1.0   \n",
       "max                         22.990000                          1.0   \n",
       "\n",
       "       originalinterestratetypecode  originalinterestonlytermnumber  \\\n",
       "count                      997329.0                         76690.0   \n",
       "mean                            1.0                             0.0   \n",
       "std                             0.0                             0.0   \n",
       "min                             1.0                             0.0   \n",
       "25%                             1.0                             0.0   \n",
       "50%                             1.0                             0.0   \n",
       "75%                             1.0                             0.0   \n",
       "max                             1.0                             0.0   \n",
       "\n",
       "       graceperiodnumber  paymenttypecode  vehiclemodelyear      ...        \\\n",
       "count      997329.000000         997329.0     997329.000000      ...         \n",
       "mean            1.097445              2.0       2014.391710      ...         \n",
       "std             0.588963              0.0          2.464389      ...         \n",
       "min             0.000000              2.0       1994.000000      ...         \n",
       "25%             1.000000              2.0       2013.000000      ...         \n",
       "50%             1.000000              2.0       2015.000000      ...         \n",
       "75%             1.000000              2.0       2016.000000      ...         \n",
       "max             3.000000              2.0       2019.000000      ...         \n",
       "\n",
       "       underwriting_true  subvented_true  vehiclenew_true       income_2  \\\n",
       "count      997329.000000   997329.000000    997329.000000  997329.000000   \n",
       "mean            0.807772        0.502948         0.497646       0.948415   \n",
       "std             0.394052        0.499992         0.499995       0.221187   \n",
       "min             0.000000        0.000000         0.000000       0.000000   \n",
       "25%             1.000000        0.000000         0.000000       1.000000   \n",
       "50%             1.000000        1.000000         0.000000       1.000000   \n",
       "75%             1.000000        1.000000         1.000000       1.000000   \n",
       "max             1.000000        1.000000         1.000000       1.000000   \n",
       "\n",
       "            income_3       income_4       income_5   employment_2  \\\n",
       "count  997329.000000  997329.000000  997329.000000  997329.000000   \n",
       "mean        0.051447       0.000116       0.000021       0.929619   \n",
       "std         0.220909       0.010784       0.004589       0.255788   \n",
       "min         0.000000       0.000000       0.000000       0.000000   \n",
       "25%         0.000000       0.000000       0.000000       1.000000   \n",
       "50%         0.000000       0.000000       0.000000       1.000000   \n",
       "75%         0.000000       0.000000       0.000000       1.000000   \n",
       "max         1.000000       1.000000       1.000000       1.000000   \n",
       "\n",
       "        employment_3   employment_1  \n",
       "count  997329.000000  997329.000000  \n",
       "mean        0.049308       0.021073  \n",
       "std         0.216510       0.143629  \n",
       "min         0.000000       0.000000  \n",
       "25%         0.000000       0.000000  \n",
       "50%         0.000000       0.000000  \n",
       "75%         0.000000       0.000000  \n",
       "max         1.000000       1.000000  \n",
       "\n",
       "[8 rows x 57 columns]"
      ]
     },
     "execution_count": 82,
     "metadata": {},
     "output_type": "execute_result"
    }
   ],
   "source": [
    "df.describe()"
   ]
  },
  {
   "cell_type": "markdown",
   "metadata": {},
   "source": [
    "# Current Vs Other Buckets"
   ]
  },
  {
   "cell_type": "code",
   "execution_count": 83,
   "metadata": {},
   "outputs": [
    {
     "data": {
      "image/png": "[encoded data removed]",
      "text/plain": [
       "<Figure size 432x288 with 1 Axes>"
      ]
     },
     "metadata": {},
     "output_type": "display_data"
    },
    {
     "name": "stdout",
     "output_type": "stream",
     "text": [
      "Number of loans Current : 900655     Number of loans Not Current : 96674\n"
     ]
    }
   ],
   "source": [
    "LABELS = ('Current', 'Not Current')\n",
    "count_classes = pd.value_counts(df.currentdelinquencystatus>0, sort = True)\n",
    "count_classes.plot(kind = 'bar', rot=0)\n",
    "plt.xticks(range(2), LABELS)\n",
    "plt.title('Deliquency Class')\n",
    "plt.ylabel(\"Number of Loans\")\n",
    "plt.show()\n",
    "print('Number of loans Current :', count_classes[0],'   ', 'Number of loans Not Current :', count_classes[1],)"
   ]
  },
  {
   "cell_type": "code",
   "execution_count": 84,
   "metadata": {},
   "outputs": [
    {
     "data": {
      "text/plain": [
       " 0      900654\n",
       " 2        6152\n",
       " 5        6068\n",
       " 3        4884\n",
       " 4        4657\n",
       " 1        4081\n",
       " 6        3827\n",
       " 10       3771\n",
       " 15       3696\n",
       " 7        3659\n",
       " 8        3191\n",
       " 9        2941\n",
       " 12       2459\n",
       " 11       2270\n",
       " 14       2215\n",
       " 13       2212\n",
       " 16       2074\n",
       " 17       1996\n",
       " 30       1921\n",
       " 18       1703\n",
       " 20       1699\n",
       " 19       1612\n",
       " 21       1384\n",
       " 22       1202\n",
       " 23       1123\n",
       " 25       1122\n",
       " 26       1087\n",
       " 24       1002\n",
       " 27        918\n",
       " 29        880\n",
       "         ...  \n",
       " 307         4\n",
       " 267         4\n",
       " 314         4\n",
       " 289         4\n",
       " 328         3\n",
       " 282         3\n",
       " 356         3\n",
       " 355         3\n",
       " 349         3\n",
       " 313         3\n",
       " 341         3\n",
       " 339         3\n",
       " 323         3\n",
       " 342         3\n",
       " 337         3\n",
       " 262         3\n",
       " 321         2\n",
       " 348         2\n",
       " 350         2\n",
       " 351         2\n",
       " 271         2\n",
       " 332         2\n",
       " 343         1\n",
       " 442         1\n",
       " 391         1\n",
       " 390         1\n",
       " 354         1\n",
       " 358         1\n",
       " 353         1\n",
       "-1           1\n",
       "Name: currentdelinquencystatus, Length: 362, dtype: int64"
      ]
     },
     "execution_count": 84,
     "metadata": {},
     "output_type": "execute_result"
    }
   ],
   "source": [
    "pd.value_counts(df.currentdelinquencystatus)"
   ]
  },
  {
   "cell_type": "markdown",
   "metadata": {},
   "source": [
    "# Label Creation"
   ]
  },
  {
   "cell_type": "code",
   "execution_count": 85,
   "metadata": {},
   "outputs": [
    {
     "data": {
      "image/png": "[encoded data removed]",
      "text/plain": [
       "<Figure size 432x288 with 1 Axes>"
      ]
     },
     "metadata": {},
     "output_type": "display_data"
    },
    {
     "name": "stdout",
     "output_type": "stream",
     "text": [
      "Number of loans Current : 930324     Number of loans Defaulted : 67005\n"
     ]
    }
   ],
   "source": [
    "def map_label(*args):\n",
    "    columns = [col for col in args]\n",
    "    for column in columns:\n",
    "        if column > default_months:\n",
    "            return 1\n",
    "        elif column <= default_months:\n",
    "            return 0\n",
    "        \n",
    "df['label'] = list(map(map_label, df.currentdelinquencystatus ))\n",
    "\n",
    "LABELS = ('Current', 'Default')\n",
    "count_classes = pd.value_counts(df.label, sort = True)\n",
    "count_classes.plot(kind = 'bar', rot=0)\n",
    "plt.xticks(range(2), LABELS)\n",
    "plt.title('Revised Deliquency Class')\n",
    "plt.ylabel(\"Number of Loans\")\n",
    "plt.show()\n",
    "print('Number of loans Current :', count_classes[0],'   ', 'Number of loans Defaulted :', count_classes[1],)"
   ]
  },
  {
   "cell_type": "markdown",
   "metadata": {},
   "source": [
    "# Loan Balance Amount at the End of Reporting Period"
   ]
  },
  {
   "cell_type": "code",
   "execution_count": 86,
   "metadata": {},
   "outputs": [
    {
     "data": {
      "image/png": "[encoded data removed]",
      "text/plain": [
       "<Figure size 432x288 with 1 Axes>"
      ]
     },
     "metadata": {},
     "output_type": "display_data"
    }
   ],
   "source": [
    "current_df = df[df.label==0]\n",
    "not_current_df = df[df.label==1]\n",
    "bins = np.linspace(0, 100000, 100)\n",
    "plt.hist(current_df.reportingperiodactualendbalanceamount, bins, alpha=0.6, density=True, label='CURRENT')\n",
    "plt.hist(not_current_df.reportingperiodactualendbalanceamount, bins, alpha=1, density=True, label='NOT CURRENT')\n",
    "plt.legend(loc='upper right')\n",
    "plt.title(\"Loan Balance Amount at the end of reporting Period\")\n",
    "plt.xlabel('Loan Balance Amount')\n",
    "plt.ylabel('Percent of Loans')\n",
    "plt.show()"
   ]
  },
  {
   "cell_type": "markdown",
   "metadata": {
    "collapsed": true
   },
   "source": [
    "#  Clean up for Machine Learning"
   ]
  },
  {
   "cell_type": "code",
   "execution_count": 87,
   "metadata": {},
   "outputs": [
    {
     "data": {
      "text/html": [
       "<div>\n",
       "<style scoped>\n",
       "    .dataframe tbody tr th:only-of-type {\n",
       "        vertical-align: middle;\n",
       "    }\n",
       "\n",
       "    .dataframe tbody tr th {\n",
       "        vertical-align: top;\n",
       "    }\n",
       "\n",
       "    .dataframe thead th {\n",
       "        text-align: right;\n",
       "    }\n",
       "</style>\n",
       "<table border=\"1\" class=\"dataframe\">\n",
       "  <thead>\n",
       "    <tr style=\"text-align: right;\">\n",
       "      <th></th>\n",
       "      <th>cik</th>\n",
       "      <th>accessionnumber</th>\n",
       "      <th>assettypenumber</th>\n",
       "      <th>assetnumber</th>\n",
       "      <th>reportingperiodbeginningdate</th>\n",
       "      <th>reportingperiodendingdate</th>\n",
       "      <th>originatorname</th>\n",
       "      <th>originationdate</th>\n",
       "      <th>originalloanamount</th>\n",
       "      <th>originalloanterm</th>\n",
       "      <th>...</th>\n",
       "      <th>subvented_true</th>\n",
       "      <th>vehiclenew_true</th>\n",
       "      <th>income_2</th>\n",
       "      <th>income_3</th>\n",
       "      <th>income_4</th>\n",
       "      <th>income_5</th>\n",
       "      <th>employment_2</th>\n",
       "      <th>employment_3</th>\n",
       "      <th>employment_1</th>\n",
       "      <th>label</th>\n",
       "    </tr>\n",
       "  </thead>\n",
       "  <tbody>\n",
       "    <tr>\n",
       "      <th>0</th>\n",
       "      <td>1725617</td>\n",
       "      <td>0000929638-18-000030</td>\n",
       "      <td>BMW2018-A</td>\n",
       "      <td>1001536189</td>\n",
       "      <td>2017-11-01</td>\n",
       "      <td>2017-11-30</td>\n",
       "      <td>BMW Bank of North America</td>\n",
       "      <td>2012-12-31</td>\n",
       "      <td>25124.50</td>\n",
       "      <td>72</td>\n",
       "      <td>...</td>\n",
       "      <td>1</td>\n",
       "      <td>1</td>\n",
       "      <td>1</td>\n",
       "      <td>0</td>\n",
       "      <td>0</td>\n",
       "      <td>0</td>\n",
       "      <td>1</td>\n",
       "      <td>0</td>\n",
       "      <td>0</td>\n",
       "      <td>0</td>\n",
       "    </tr>\n",
       "    <tr>\n",
       "      <th>1</th>\n",
       "      <td>1725617</td>\n",
       "      <td>0000929638-18-000030</td>\n",
       "      <td>BMW2018-A</td>\n",
       "      <td>1001536759</td>\n",
       "      <td>2017-11-01</td>\n",
       "      <td>2017-11-30</td>\n",
       "      <td>BMW Bank of North America</td>\n",
       "      <td>2012-12-31</td>\n",
       "      <td>43257.34</td>\n",
       "      <td>72</td>\n",
       "      <td>...</td>\n",
       "      <td>1</td>\n",
       "      <td>1</td>\n",
       "      <td>1</td>\n",
       "      <td>0</td>\n",
       "      <td>0</td>\n",
       "      <td>0</td>\n",
       "      <td>1</td>\n",
       "      <td>0</td>\n",
       "      <td>0</td>\n",
       "      <td>0</td>\n",
       "    </tr>\n",
       "    <tr>\n",
       "      <th>2</th>\n",
       "      <td>1725617</td>\n",
       "      <td>0000929638-18-000030</td>\n",
       "      <td>BMW2018-A</td>\n",
       "      <td>1001536970</td>\n",
       "      <td>2017-11-01</td>\n",
       "      <td>2017-11-30</td>\n",
       "      <td>BMW Bank of North America</td>\n",
       "      <td>2012-12-31</td>\n",
       "      <td>56917.54</td>\n",
       "      <td>72</td>\n",
       "      <td>...</td>\n",
       "      <td>1</td>\n",
       "      <td>1</td>\n",
       "      <td>1</td>\n",
       "      <td>0</td>\n",
       "      <td>0</td>\n",
       "      <td>0</td>\n",
       "      <td>1</td>\n",
       "      <td>0</td>\n",
       "      <td>0</td>\n",
       "      <td>0</td>\n",
       "    </tr>\n",
       "    <tr>\n",
       "      <th>3</th>\n",
       "      <td>1725617</td>\n",
       "      <td>0000929638-18-000030</td>\n",
       "      <td>BMW2018-A</td>\n",
       "      <td>1001537061</td>\n",
       "      <td>2017-11-01</td>\n",
       "      <td>2017-11-30</td>\n",
       "      <td>BMW Bank of North America</td>\n",
       "      <td>2012-12-31</td>\n",
       "      <td>42003.57</td>\n",
       "      <td>72</td>\n",
       "      <td>...</td>\n",
       "      <td>1</td>\n",
       "      <td>1</td>\n",
       "      <td>1</td>\n",
       "      <td>0</td>\n",
       "      <td>0</td>\n",
       "      <td>0</td>\n",
       "      <td>1</td>\n",
       "      <td>0</td>\n",
       "      <td>0</td>\n",
       "      <td>0</td>\n",
       "    </tr>\n",
       "    <tr>\n",
       "      <th>4</th>\n",
       "      <td>1725617</td>\n",
       "      <td>0000929638-18-000030</td>\n",
       "      <td>BMW2018-A</td>\n",
       "      <td>1001537088</td>\n",
       "      <td>2017-11-01</td>\n",
       "      <td>2017-11-30</td>\n",
       "      <td>BMW Bank of North America</td>\n",
       "      <td>2012-12-31</td>\n",
       "      <td>77217.85</td>\n",
       "      <td>72</td>\n",
       "      <td>...</td>\n",
       "      <td>1</td>\n",
       "      <td>1</td>\n",
       "      <td>1</td>\n",
       "      <td>0</td>\n",
       "      <td>0</td>\n",
       "      <td>0</td>\n",
       "      <td>1</td>\n",
       "      <td>0</td>\n",
       "      <td>0</td>\n",
       "      <td>0</td>\n",
       "    </tr>\n",
       "  </tbody>\n",
       "</table>\n",
       "<p>5 rows × 82 columns</p>\n",
       "</div>"
      ],
      "text/plain": [
       "       cik       accessionnumber assettypenumber assetnumber  \\\n",
       "0  1725617  0000929638-18-000030      BMW2018-A   1001536189   \n",
       "1  1725617  0000929638-18-000030      BMW2018-A   1001536759   \n",
       "2  1725617  0000929638-18-000030      BMW2018-A   1001536970   \n",
       "3  1725617  0000929638-18-000030      BMW2018-A   1001537061   \n",
       "4  1725617  0000929638-18-000030      BMW2018-A   1001537088   \n",
       "\n",
       "  reportingperiodbeginningdate reportingperiodendingdate  \\\n",
       "0                   2017-11-01                2017-11-30   \n",
       "1                   2017-11-01                2017-11-30   \n",
       "2                   2017-11-01                2017-11-30   \n",
       "3                   2017-11-01                2017-11-30   \n",
       "4                   2017-11-01                2017-11-30   \n",
       "\n",
       "              originatorname originationdate  originalloanamount  \\\n",
       "0  BMW Bank of North America      2012-12-31            25124.50   \n",
       "1  BMW Bank of North America      2012-12-31            43257.34   \n",
       "2  BMW Bank of North America      2012-12-31            56917.54   \n",
       "3  BMW Bank of North America      2012-12-31            42003.57   \n",
       "4  BMW Bank of North America      2012-12-31            77217.85   \n",
       "\n",
       "   originalloanterm  ...  subvented_true  vehiclenew_true  income_2  income_3  \\\n",
       "0                72  ...               1                1         1         0   \n",
       "1                72  ...               1                1         1         0   \n",
       "2                72  ...               1                1         1         0   \n",
       "3                72  ...               1                1         1         0   \n",
       "4                72  ...               1                1         1         0   \n",
       "\n",
       "   income_4 income_5  employment_2  employment_3 employment_1 label  \n",
       "0         0        0             1             0            0     0  \n",
       "1         0        0             1             0            0     0  \n",
       "2         0        0             1             0            0     0  \n",
       "3         0        0             1             0            0     0  \n",
       "4         0        0             1             0            0     0  \n",
       "\n",
       "[5 rows x 82 columns]"
      ]
     },
     "execution_count": 87,
     "metadata": {},
     "output_type": "execute_result"
    }
   ],
   "source": [
    "df.fillna(0, inplace=True)\n",
    "df=df.replace([np.inf, -np.inf], np.nan)\n",
    "df.dropna(inplace=True)\n",
    "df.head()"
   ]
  },
  {
   "cell_type": "markdown",
   "metadata": {},
   "source": [
    "# Preparing data for Machine Learning"
   ]
  },
  {
   "cell_type": "code",
   "execution_count": 88,
   "metadata": {},
   "outputs": [
    {
     "data": {
      "text/plain": [
       "(997329,)"
      ]
     },
     "execution_count": 88,
     "metadata": {},
     "output_type": "execute_result"
    }
   ],
   "source": [
    "# prepare label\n",
    "Y=df.label.values\n",
    "Y.shape"
   ]
  },
  {
   "cell_type": "code",
   "execution_count": 89,
   "metadata": {},
   "outputs": [
    {
     "data": {
      "text/plain": [
       "(997329, 1)"
      ]
     },
     "execution_count": 89,
     "metadata": {},
     "output_type": "execute_result"
    }
   ],
   "source": [
    "# reshape labels for machine learning\n",
    "Y=Y.reshape(Y.shape[0],1)\n",
    "Y.shape"
   ]
  },
  {
   "cell_type": "code",
   "execution_count": 90,
   "metadata": {},
   "outputs": [
    {
     "data": {
      "text/plain": [
       "(997329, 82)"
      ]
     },
     "execution_count": 90,
     "metadata": {},
     "output_type": "execute_result"
    }
   ],
   "source": [
    "# prepare input data\n",
    "input=df.values\n",
    "input.shape"
   ]
  },
  {
   "cell_type": "code",
   "execution_count": 91,
   "metadata": {},
   "outputs": [
    {
     "name": "stdout",
     "output_type": "stream",
     "text": [
      "797863\n"
     ]
    }
   ],
   "source": [
    "# calculate train/test split\n",
    "len_train = int(len(input)*train_split)\n",
    "print(len_train)"
   ]
  },
  {
   "cell_type": "code",
   "execution_count": 92,
   "metadata": {
    "collapsed": true
   },
   "outputs": [],
   "source": [
    "# apply train/test split to labels\n",
    "y_train = Y[0:len_train]\n",
    "y_test = Y[len_train:]"
   ]
  },
  {
   "cell_type": "code",
   "execution_count": 93,
   "metadata": {
    "collapsed": true
   },
   "outputs": [],
   "source": [
    "#drop unneeded columns for creating input data\n",
    "df.drop(['currentdelinquencystatus','label'], axis=1, inplace=True)"
   ]
  },
  {
   "cell_type": "code",
   "execution_count": 94,
   "metadata": {},
   "outputs": [
    {
     "data": {
      "text/plain": [
       "(997329, 82, 1)"
      ]
     },
     "execution_count": 94,
     "metadata": {},
     "output_type": "execute_result"
    }
   ],
   "source": [
    "#reshape input data for machine learning\n",
    "input=input.reshape(input.shape[0], input.shape[1], 1)\n",
    "input.shape"
   ]
  },
  {
   "cell_type": "code",
   "execution_count": 95,
   "metadata": {
    "collapsed": true
   },
   "outputs": [],
   "source": [
    "# apply train/test split to input data\n",
    "x_train = input[0:len_train]\n",
    "x_test = input[len_train:]"
   ]
  },
  {
   "cell_type": "markdown",
   "metadata": {},
   "source": [
    "# Normalize input data"
   ]
  },
  {
   "cell_type": "code",
   "execution_count": 96,
   "metadata": {},
   "outputs": [
    {
     "ename": "SystemError",
     "evalue": "<built-in method conjugate of int object at 0x0000000071BBE9B0> returned a result with an error set",
     "output_type": "error",
     "traceback": [
      "\u001b[1;31m---------------------------------------------------------------------------\u001b[0m",
      "\u001b[1;31mAttributeError\u001b[0m                            Traceback (most recent call last)",
      "\u001b[1;31mAttributeError\u001b[0m: 'str' object has no attribute 'conjugate'",
      "\nThe above exception was the direct cause of the following exception:\n",
      "\u001b[1;31mSystemError\u001b[0m                               Traceback (most recent call last)",
      "\u001b[1;31mSystemError\u001b[0m: <built-in method conjugate of float object at 0x000001C9635CE828> returned a result with an error set",
      "\nThe above exception was the direct cause of the following exception:\n",
      "\u001b[1;31mSystemError\u001b[0m                               Traceback (most recent call last)",
      "\u001b[1;31mSystemError\u001b[0m: <built-in method conjugate of bool object at 0x0000000071B800D0> returned a result with an error set",
      "\nThe above exception was the direct cause of the following exception:\n",
      "\u001b[1;31mSystemError\u001b[0m                               Traceback (most recent call last)",
      "\u001b[1;31mSystemError\u001b[0m: <built-in method conjugate of float object at 0x000001C964CFEFC0> returned a result with an error set",
      "\nThe above exception was the direct cause of the following exception:\n",
      "\u001b[1;31mSystemError\u001b[0m                               Traceback (most recent call last)",
      "\u001b[1;31mSystemError\u001b[0m: <built-in method conjugate of int object at 0x000001C96654AAF0> returned a result with an error set",
      "\nThe above exception was the direct cause of the following exception:\n",
      "\u001b[1;31mSystemError\u001b[0m                               Traceback (most recent call last)",
      "\u001b[1;31mSystemError\u001b[0m: <built-in method conjugate of int object at 0x000001C96783EE90> returned a result with an error set",
      "\nThe above exception was the direct cause of the following exception:\n",
      "\u001b[1;31mSystemError\u001b[0m                               Traceback (most recent call last)",
      "\u001b[1;31mSystemError\u001b[0m: <built-in method conjugate of int object at 0x0000000071BBE9D0> returned a result with an error set",
      "\nThe above exception was the direct cause of the following exception:\n",
      "\u001b[1;31mSystemError\u001b[0m                               Traceback (most recent call last)",
      "\u001b[1;31mSystemError\u001b[0m: <built-in method conjugate of int object at 0x0000000071BBE9D0> returned a result with an error set",
      "\nThe above exception was the direct cause of the following exception:\n",
      "\u001b[1;31mSystemError\u001b[0m                               Traceback (most recent call last)",
      "\u001b[1;31mSystemError\u001b[0m: <built-in method conjugate of int object at 0x0000000071BBE9D0> returned a result with an error set",
      "\nThe above exception was the direct cause of the following exception:\n",
      "\u001b[1;31mSystemError\u001b[0m                               Traceback (most recent call last)",
      "\u001b[1;31mSystemError\u001b[0m: <built-in method conjugate of int object at 0x0000000071BBE9D0> returned a result with an error set",
      "\nThe above exception was the direct cause of the following exception:\n",
      "\u001b[1;31mSystemError\u001b[0m                               Traceback (most recent call last)",
      "\u001b[1;31mSystemError\u001b[0m: <built-in method conjugate of int object at 0x0000000071BBE9B0> returned a result with an error set",
      "\nThe above exception was the direct cause of the following exception:\n",
      "\u001b[1;31mSystemError\u001b[0m                               Traceback (most recent call last)",
      "\u001b[1;31mSystemError\u001b[0m: <built-in method conjugate of int object at 0x0000000071BBE9B0> returned a result with an error set",
      "\nThe above exception was the direct cause of the following exception:\n",
      "\u001b[1;31mSystemError\u001b[0m                               Traceback (most recent call last)",
      "\u001b[1;31mSystemError\u001b[0m: <built-in method conjugate of int object at 0x0000000071BBE9B0> returned a result with an error set",
      "\nThe above exception was the direct cause of the following exception:\n",
      "\u001b[1;31mSystemError\u001b[0m                               Traceback (most recent call last)",
      "\u001b[1;31mSystemError\u001b[0m: <built-in method conjugate of int object at 0x0000000071BBE9D0> returned a result with an error set",
      "\nThe above exception was the direct cause of the following exception:\n",
      "\u001b[1;31mSystemError\u001b[0m                               Traceback (most recent call last)",
      "\u001b[1;31mSystemError\u001b[0m: <built-in method conjugate of int object at 0x0000000071BBE9B0> returned a result with an error set",
      "\nThe above exception was the direct cause of the following exception:\n",
      "\u001b[1;31mSystemError\u001b[0m                               Traceback (most recent call last)",
      "\u001b[1;31mSystemError\u001b[0m: <built-in method conjugate of int object at 0x0000000071BBE9B0> returned a result with an error set",
      "\nThe above exception was the direct cause of the following exception:\n",
      "\u001b[1;31mSystemError\u001b[0m                               Traceback (most recent call last)",
      "\u001b[1;32m<ipython-input-96-051b6727ffae>\u001b[0m in \u001b[0;36m<module>\u001b[1;34m()\u001b[0m\n\u001b[1;32m----> 1\u001b[1;33m \u001b[0mx_train_keras_scaled\u001b[0m \u001b[1;33m=\u001b[0m \u001b[0mkeras\u001b[0m\u001b[1;33m.\u001b[0m\u001b[0mutils\u001b[0m\u001b[1;33m.\u001b[0m\u001b[0mnormalize\u001b[0m\u001b[1;33m(\u001b[0m\u001b[0mx_train\u001b[0m\u001b[1;33m,\u001b[0m \u001b[0maxis\u001b[0m\u001b[1;33m=\u001b[0m\u001b[1;33m-\u001b[0m\u001b[1;36m1\u001b[0m\u001b[1;33m,\u001b[0m \u001b[0morder\u001b[0m\u001b[1;33m=\u001b[0m\u001b[1;36m2\u001b[0m\u001b[1;33m)\u001b[0m\u001b[1;33m\u001b[0m\u001b[0m\n\u001b[0m\u001b[0;32m      2\u001b[0m \u001b[0mx_test_keras_scaled\u001b[0m \u001b[1;33m=\u001b[0m \u001b[0mkeras\u001b[0m\u001b[1;33m.\u001b[0m\u001b[0mutils\u001b[0m\u001b[1;33m.\u001b[0m\u001b[0mnormalize\u001b[0m\u001b[1;33m(\u001b[0m\u001b[0mx_test\u001b[0m\u001b[1;33m,\u001b[0m \u001b[0maxis\u001b[0m\u001b[1;33m=\u001b[0m\u001b[1;33m-\u001b[0m\u001b[1;36m1\u001b[0m\u001b[1;33m,\u001b[0m \u001b[0morder\u001b[0m\u001b[1;33m=\u001b[0m\u001b[1;36m2\u001b[0m\u001b[1;33m)\u001b[0m\u001b[1;33m\u001b[0m\u001b[0m\n\u001b[0;32m      3\u001b[0m \u001b[0mx_train_keras_scaled\u001b[0m\u001b[1;33m.\u001b[0m\u001b[0mshape\u001b[0m\u001b[1;33m\u001b[0m\u001b[0m\n",
      "\u001b[1;32mC:\\Progra~1\\Anaconda3_4\\lib\\site-packages\\tensorflow\\python\\keras\\_impl\\keras\\utils\\np_utils.py\u001b[0m in \u001b[0;36mnormalize\u001b[1;34m(x, axis, order)\u001b[0m\n\u001b[0;32m     63\u001b[0m       \u001b[0mA\u001b[0m \u001b[0mnormalized\u001b[0m \u001b[0mcopy\u001b[0m \u001b[0mof\u001b[0m \u001b[0mthe\u001b[0m \u001b[0marray\u001b[0m\u001b[1;33m.\u001b[0m\u001b[1;33m\u001b[0m\u001b[0m\n\u001b[0;32m     64\u001b[0m   \"\"\"\n\u001b[1;32m---> 65\u001b[1;33m   \u001b[0ml2\u001b[0m \u001b[1;33m=\u001b[0m \u001b[0mnp\u001b[0m\u001b[1;33m.\u001b[0m\u001b[0matleast_1d\u001b[0m\u001b[1;33m(\u001b[0m\u001b[0mnp\u001b[0m\u001b[1;33m.\u001b[0m\u001b[0mlinalg\u001b[0m\u001b[1;33m.\u001b[0m\u001b[0mnorm\u001b[0m\u001b[1;33m(\u001b[0m\u001b[0mx\u001b[0m\u001b[1;33m,\u001b[0m \u001b[0morder\u001b[0m\u001b[1;33m,\u001b[0m \u001b[0maxis\u001b[0m\u001b[1;33m)\u001b[0m\u001b[1;33m)\u001b[0m\u001b[1;33m\u001b[0m\u001b[0m\n\u001b[0m\u001b[0;32m     66\u001b[0m   \u001b[0ml2\u001b[0m\u001b[1;33m[\u001b[0m\u001b[0ml2\u001b[0m \u001b[1;33m==\u001b[0m \u001b[1;36m0\u001b[0m\u001b[1;33m]\u001b[0m \u001b[1;33m=\u001b[0m \u001b[1;36m1\u001b[0m\u001b[1;33m\u001b[0m\u001b[0m\n\u001b[0;32m     67\u001b[0m   \u001b[1;32mreturn\u001b[0m \u001b[0mx\u001b[0m \u001b[1;33m/\u001b[0m \u001b[0mnp\u001b[0m\u001b[1;33m.\u001b[0m\u001b[0mexpand_dims\u001b[0m\u001b[1;33m(\u001b[0m\u001b[0ml2\u001b[0m\u001b[1;33m,\u001b[0m \u001b[0maxis\u001b[0m\u001b[1;33m)\u001b[0m\u001b[1;33m\u001b[0m\u001b[0m\n",
      "\u001b[1;32mC:\\Progra~1\\Anaconda3_4\\lib\\site-packages\\numpy\\linalg\\linalg.py\u001b[0m in \u001b[0;36mnorm\u001b[1;34m(x, ord, axis, keepdims)\u001b[0m\n\u001b[0;32m   2195\u001b[0m         \u001b[1;32melif\u001b[0m \u001b[0mord\u001b[0m \u001b[1;32mis\u001b[0m \u001b[1;32mNone\u001b[0m \u001b[1;32mor\u001b[0m \u001b[0mord\u001b[0m \u001b[1;33m==\u001b[0m \u001b[1;36m2\u001b[0m\u001b[1;33m:\u001b[0m\u001b[1;33m\u001b[0m\u001b[0m\n\u001b[0;32m   2196\u001b[0m             \u001b[1;31m# special case for speedup\u001b[0m\u001b[1;33m\u001b[0m\u001b[1;33m\u001b[0m\u001b[0m\n\u001b[1;32m-> 2197\u001b[1;33m             \u001b[0ms\u001b[0m \u001b[1;33m=\u001b[0m \u001b[1;33m(\u001b[0m\u001b[0mx\u001b[0m\u001b[1;33m.\u001b[0m\u001b[0mconj\u001b[0m\u001b[1;33m(\u001b[0m\u001b[1;33m)\u001b[0m \u001b[1;33m*\u001b[0m \u001b[0mx\u001b[0m\u001b[1;33m)\u001b[0m\u001b[1;33m.\u001b[0m\u001b[0mreal\u001b[0m\u001b[1;33m\u001b[0m\u001b[0m\n\u001b[0m\u001b[0;32m   2198\u001b[0m             \u001b[1;32mreturn\u001b[0m \u001b[0msqrt\u001b[0m\u001b[1;33m(\u001b[0m\u001b[0madd\u001b[0m\u001b[1;33m.\u001b[0m\u001b[0mreduce\u001b[0m\u001b[1;33m(\u001b[0m\u001b[0ms\u001b[0m\u001b[1;33m,\u001b[0m \u001b[0maxis\u001b[0m\u001b[1;33m=\u001b[0m\u001b[0maxis\u001b[0m\u001b[1;33m,\u001b[0m \u001b[0mkeepdims\u001b[0m\u001b[1;33m=\u001b[0m\u001b[0mkeepdims\u001b[0m\u001b[1;33m)\u001b[0m\u001b[1;33m)\u001b[0m\u001b[1;33m\u001b[0m\u001b[0m\n\u001b[0;32m   2199\u001b[0m         \u001b[1;32melse\u001b[0m\u001b[1;33m:\u001b[0m\u001b[1;33m\u001b[0m\u001b[0m\n",
      "\u001b[1;31mSystemError\u001b[0m: <built-in method conjugate of int object at 0x0000000071BBE9B0> returned a result with an error set"
     ]
    }
   ],
   "source": [
    "x_train_keras_scaled = keras.utils.normalize(x_train, axis=-1, order=2)\n",
    "x_test_keras_scaled = keras.utils.normalize(x_test, axis=-1, order=2)\n",
    "x_train_keras_scaled.shape"
   ]
  },
  {
   "cell_type": "markdown",
   "metadata": {},
   "source": [
    "# Model Architecture"
   ]
  },
  {
   "cell_type": "code",
   "execution_count": null,
   "metadata": {
    "collapsed": true
   },
   "outputs": [],
   "source": [
    "model = keras.Sequential()\n",
    "model.add(keras.layers.GRU(254, activation='relu', input_shape=(x_train_keras_scaled.shape[1:]), return_sequences=True))\n",
    "model.add(keras.layers.Dropout(0.2))\n",
    "\n",
    "model.add(keras.layers.GRU(128, activation='relu'))\n",
    "model.add(keras.layers.Dropout(0.1))\n",
    "\n",
    "model.add(keras.layers.Dense(32, activation='relu'))\n",
    "model.add(keras.layers.Dropout(0.2))\n",
    "\n",
    "model.add(keras.layers.Dense(2, activation='softmax'))\n",
    "\n",
    "optimizer = tf.keras.optimizers.Adam(lr=1e-3, decay=1e-6)\n"
   ]
  },
  {
   "cell_type": "markdown",
   "metadata": {},
   "source": [
    "# Model Configuration"
   ]
  },
  {
   "cell_type": "code",
   "execution_count": null,
   "metadata": {
    "collapsed": true
   },
   "outputs": [],
   "source": [
    "#save the best model\n",
    "#keras.callbacks.Callback()\n",
    "# checkPoint = ModelCheckpoint(filepath = path+'model/'+name+'.h5',\n",
    "#                             save_best_only = True,\n",
    "#                             verbose=0)\n",
    "# tensorboard = TensorBoard(log_dir=path+'logs/{}'.format(name),\n",
    "#                           histogram_freq=0,\n",
    "#                           batch_size=32,\n",
    "#                           write_graph=True,\n",
    "#                           write_images=False)\n",
    "# history = keras.callbacks.History()"
   ]
  },
  {
   "cell_type": "markdown",
   "metadata": {},
   "source": [
    "# Train the Model"
   ]
  },
  {
   "cell_type": "code",
   "execution_count": null,
   "metadata": {
    "collapsed": true,
    "scrolled": false
   },
   "outputs": [],
   "source": [
    "model.compile(loss='sparse_categorical_crossentropy', optimizer=optimizer, metrics=['accuracy'])\n",
    "\n",
    "model.fit(x_train, y_train, epochs=1, validation_data=(x_test_keras_scaled, y_test), \n",
    "        # callbacks = [\n",
    "   # baseLogger,\n",
    "    #history,\n",
    "    #tensorboard\n",
    "    #learningRateScheduler,\n",
    "    #reduceLROnPlateau\n",
    "     #    ], \n",
    "          shuffle=False\n",
    ")\n"
   ]
  },
  {
   "cell_type": "markdown",
   "metadata": {
    "collapsed": true
   },
   "source": [
    "# Save the Model"
   ]
  },
  {
   "cell_type": "code",
   "execution_count": null,
   "metadata": {
    "collapsed": true
   },
   "outputs": [],
   "source": [
    "model.save(path+'model/'+name+'.h5')"
   ]
  },
  {
   "cell_type": "code",
   "execution_count": null,
   "metadata": {
    "collapsed": true
   },
   "outputs": [],
   "source": [
    "test_loss, test_acc = model.evaluate(x_test_keras_scaled, y_test)\n",
    "print('Test Loss : ',test_loss,' ','Test Accuracy : ', test_acc)"
   ]
  },
  {
   "cell_type": "markdown",
   "metadata": {},
   "source": [
    "# Load Saved Model"
   ]
  },
  {
   "cell_type": "code",
   "execution_count": null,
   "metadata": {
    "collapsed": true
   },
   "outputs": [],
   "source": [
    "saved_model = load_model(path+'model/ABS_Keras-GRU254GRU128D32D2-adam1540234475.h5')"
   ]
  },
  {
   "cell_type": "code",
   "execution_count": null,
   "metadata": {
    "collapsed": true
   },
   "outputs": [],
   "source": [
    "test_loss, test_acc = saved_model.evaluate(x_test_keras_scaled, y_test)\n",
    "print('Test Loss : ',test_loss,' ','Test Accuracy : ', test_acc)"
   ]
  },
  {
   "cell_type": "code",
   "execution_count": null,
   "metadata": {
    "collapsed": true
   },
   "outputs": [],
   "source": []
  },
  {
   "cell_type": "code",
   "execution_count": null,
   "metadata": {
    "collapsed": true
   },
   "outputs": [],
   "source": []
  }
 ],
 "metadata": {
  "kernelspec": {
   "display_name": "Python 3",
   "language": "python",
   "name": "python3"
  },
  "language_info": {
   "codemirror_mode": {
    "name": "ipython",
    "version": 3
   },
   "file_extension": ".py",
   "mimetype": "text/x-python",
   "name": "python",
   "nbconvert_exporter": "python",
   "pygments_lexer": "ipython3",
   "version": "3.6.1"
  }
 },
 "nbformat": 4,
 "nbformat_minor": 2
}
