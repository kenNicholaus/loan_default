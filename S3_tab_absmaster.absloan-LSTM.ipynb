{
 "cells": [
  {
   "cell_type": "code",
   "execution_count": 1,
   "metadata": {
    "scrolled": false
   },
   "outputs": [
    {
     "name": "stderr",
     "output_type": "stream",
     "text": [
      "Using TensorFlow backend.\n"
     ]
    },
    {
     "data": {
      "text/plain": [
       "'1.8.0'"
      ]
     },
     "execution_count": 1,
     "metadata": {},
     "output_type": "execute_result"
    }
   ],
   "source": [
    "import time\n",
    "import pandas as pd\n",
    "import numpy as np\n",
    "from matplotlib import pyplot as plt\n",
    "import tensorflow as tf\n",
    "from tensorflow import keras\n",
    "from keras import optimizers\n",
    "from keras.models import Sequential\n",
    "from keras.layers import Input, Dense, Dropout, LSTM, GRU\n",
    "from keras.models import Model, load_model\n",
    "from keras.callbacks import ModelCheckpoint, TensorBoard\n",
    "from keras import regularizers\n",
    "\n",
    "\n",
    "\n",
    "#import seaborn as sns\n",
    "#from sklearn.model_selection import train_test_split\n",
    "#from sklearn.metrics import confusion_matrix, precision_recall_curve\n",
    "#from sklearn.metrics import recall_score, classification_report, auc, roc_curve\n",
    "#from sklearn.metrics import precision_recall_fscore_support, f1_score\n",
    "#from sklearn.preprocessing import StandardScaler\n",
    "from pylab import rcParams\n",
    "tf.__version__"
   ]
  },
  {
   "cell_type": "markdown",
   "metadata": {},
   "source": [
    "# Model Name"
   ]
  },
  {
   "cell_type": "code",
   "execution_count": 2,
   "metadata": {
    "collapsed": true
   },
   "outputs": [],
   "source": [
    "name = \"ABS_Keras-LSTM254LSTM128D32D2-adam{}\".format(int(time.time()))\n",
    "#name_noTime = \"ABS_Keras-LSTM128LSTM128D32D2-adam\""
   ]
  },
  {
   "cell_type": "markdown",
   "metadata": {},
   "source": [
    "# Choose default months & paths, columns(features) and number of loans to load, train/test split"
   ]
  },
  {
   "cell_type": "code",
   "execution_count": 3,
   "metadata": {
    "collapsed": true
   },
   "outputs": [],
   "source": [
    "default_months = 6\n",
    "nrows = 1000000\n",
    "train_split = 0.90\n",
    "model = keras\n",
    "path = 'c:/users/ugy1/abs/'\n",
    "rows_for_prediction = 1000\n",
    "LABELS = ('Current', 'Not Current')\n",
    "\n",
    "column_list = ['abs_loan.originationdate', 'abs_loan.originalloanamount','abs_loan.originalloanterm',\n",
    "'abs_loan.originalinterestratepercentage','abs_loan.vehiclenewusedcode','abs_loan.vehiclevalueamount',\n",
    "'abs_loan.obligorcreditscore','abs_loan.obligorincomeverificationlevelcode','abs_loan.obligoremploymentverificationcode',\n",
    "'abs_loan.paymenttoincomepercentage','abs_loan.remainingtermtomaturitynumber',\n",
    "'abs_loan.reportingperiodbeginningloanbalanceamount','abs_loan.nextreportingperiodpaymentamountdue',\n",
    "'abs_loan.reportingperiodinterestratepercentage','abs_loan.nextinterestratepercentage',\n",
    "'abs_loan.servicingfeepercentage','abs_loan.otherservicerfeeretainedbyservicer',\n",
    "'abs_loan.otherassesseduncollectedservicerfeeamount','abs_loan.scheduledinterestamount', \n",
    "'abs_loan.scheduledprincipalamount','abs_loan.otherprincipaladjustmentamount',\n",
    "'abs_loan.reportingperiodactualendbalanceamount','abs_loan.reportingperiodscheduledpaymentamount',\n",
    "'abs_loan.totalactualamountpaid','abs_loan.actualinterestcollectedamount','abs_loan.actualprincipalcollectedamount',\n",
    "'abs_loan.actualothercollectedamount','abs_loan.serviceradvancedamount', 'abs_loan.currentdelinquencystatus']"
   ]
  },
  {
   "cell_type": "markdown",
   "metadata": {},
   "source": [
    "# GPU Options"
   ]
  },
  {
   "cell_type": "code",
   "execution_count": 4,
   "metadata": {
    "collapsed": true
   },
   "outputs": [],
   "source": [
    "# gpu_options = tf.GPUOptions(per_process_gpu_memory_fraction=0.5)\n",
    "# sess=tf.Session(config=tf.ConfigProto(gpu_options=gpu_options))"
   ]
  },
  {
   "cell_type": "markdown",
   "metadata": {},
   "source": [
    "# Load data"
   ]
  },
  {
   "cell_type": "code",
   "execution_count": 5,
   "metadata": {},
   "outputs": [
    {
     "name": "stdout",
     "output_type": "stream",
     "text": [
      "(1000000, 28)\n"
     ]
    },
    {
     "data": {
      "text/plain": [
       "abs_loan.originalloanamount                           float64\n",
       "abs_loan.originalloanterm                               int64\n",
       "abs_loan.originalinterestratepercentage               float64\n",
       "abs_loan.vehiclenewusedcode                             int64\n",
       "abs_loan.vehiclevalueamount                           float64\n",
       "abs_loan.obligorcreditscore                           float64\n",
       "abs_loan.obligorincomeverificationlevelcode             int64\n",
       "abs_loan.obligoremploymentverificationcode              int64\n",
       "abs_loan.paymenttoincomepercentage                    float64\n",
       "abs_loan.remainingtermtomaturitynumber                  int64\n",
       "abs_loan.reportingperiodbeginningloanbalanceamount    float64\n",
       "abs_loan.nextreportingperiodpaymentamountdue          float64\n",
       "abs_loan.reportingperiodinterestratepercentage        float64\n",
       "abs_loan.nextinterestratepercentage                   float64\n",
       "abs_loan.servicingfeepercentage                       float64\n",
       "abs_loan.otherservicerfeeretainedbyservicer           float64\n",
       "abs_loan.otherassesseduncollectedservicerfeeamount    float64\n",
       "abs_loan.scheduledinterestamount                      float64\n",
       "abs_loan.scheduledprincipalamount                     float64\n",
       "abs_loan.otherprincipaladjustmentamount               float64\n",
       "abs_loan.reportingperiodactualendbalanceamount        float64\n",
       "abs_loan.reportingperiodscheduledpaymentamount        float64\n",
       "abs_loan.totalactualamountpaid                        float64\n",
       "abs_loan.actualinterestcollectedamount                float64\n",
       "abs_loan.actualprincipalcollectedamount               float64\n",
       "abs_loan.actualothercollectedamount                   float64\n",
       "abs_loan.serviceradvancedamount                       float64\n",
       "abs_loan.currentdelinquencystatus                       int64\n",
       "dtype: object"
      ]
     },
     "execution_count": 5,
     "metadata": {},
     "output_type": "execute_result"
    }
   ],
   "source": [
    "df=pd.read_csv(path+'datasets/s3tab/abs_loan.csv', \n",
    "               usecols=column_list, \n",
    "               sep='\\t',\n",
    "               nrows=nrows,\n",
    "               low_memory=False, \n",
    "              index_col='abs_loan.originationdate', \n",
    "               parse_dates=True\n",
    "              )\n",
    "print(df.shape)\n",
    "df.dtypes"
   ]
  },
  {
   "cell_type": "markdown",
   "metadata": {},
   "source": [
    "# Clean data"
   ]
  },
  {
   "cell_type": "code",
   "execution_count": 6,
   "metadata": {
    "collapsed": true
   },
   "outputs": [],
   "source": [
    "# change columns to lower case and remove prefix to enable pandas to work\n",
    "column_list=[x.lower() for x in (column_list)]\n",
    "df.columns=df.columns.str.replace('abs_loan.','')\n",
    "# convert objects to numeric\n",
    "#df=df.convert_objects(convert_numeric=True)"
   ]
  },
  {
   "cell_type": "markdown",
   "metadata": {},
   "source": [
    "# Check for null"
   ]
  },
  {
   "cell_type": "code",
   "execution_count": 7,
   "metadata": {},
   "outputs": [
    {
     "data": {
      "text/plain": [
       "True"
      ]
     },
     "execution_count": 7,
     "metadata": {},
     "output_type": "execute_result"
    }
   ],
   "source": [
    "df.isnull().values.any()"
   ]
  },
  {
   "cell_type": "markdown",
   "metadata": {},
   "source": [
    "# Loan Statistics"
   ]
  },
  {
   "cell_type": "code",
   "execution_count": 8,
   "metadata": {},
   "outputs": [
    {
     "data": {
      "text/html": [
       "<div>\n",
       "<style scoped>\n",
       "    .dataframe tbody tr th:only-of-type {\n",
       "        vertical-align: middle;\n",
       "    }\n",
       "\n",
       "    .dataframe tbody tr th {\n",
       "        vertical-align: top;\n",
       "    }\n",
       "\n",
       "    .dataframe thead th {\n",
       "        text-align: right;\n",
       "    }\n",
       "</style>\n",
       "<table border=\"1\" class=\"dataframe\">\n",
       "  <thead>\n",
       "    <tr style=\"text-align: right;\">\n",
       "      <th></th>\n",
       "      <th>originalloanamount</th>\n",
       "      <th>originalloanterm</th>\n",
       "      <th>originalinterestratepercentage</th>\n",
       "      <th>vehiclenewusedcode</th>\n",
       "      <th>vehiclevalueamount</th>\n",
       "      <th>obligorcreditscore</th>\n",
       "      <th>obligorincomeverificationlevelcode</th>\n",
       "      <th>obligoremploymentverificationcode</th>\n",
       "      <th>paymenttoincomepercentage</th>\n",
       "      <th>remainingtermtomaturitynumber</th>\n",
       "      <th>...</th>\n",
       "      <th>scheduledprincipalamount</th>\n",
       "      <th>otherprincipaladjustmentamount</th>\n",
       "      <th>reportingperiodactualendbalanceamount</th>\n",
       "      <th>reportingperiodscheduledpaymentamount</th>\n",
       "      <th>totalactualamountpaid</th>\n",
       "      <th>actualinterestcollectedamount</th>\n",
       "      <th>actualprincipalcollectedamount</th>\n",
       "      <th>actualothercollectedamount</th>\n",
       "      <th>serviceradvancedamount</th>\n",
       "      <th>currentdelinquencystatus</th>\n",
       "    </tr>\n",
       "  </thead>\n",
       "  <tbody>\n",
       "    <tr>\n",
       "      <th>count</th>\n",
       "      <td>1000000.000000</td>\n",
       "      <td>1000000.000000</td>\n",
       "      <td>1000000.00000</td>\n",
       "      <td>1000000.000000</td>\n",
       "      <td>1.000000e+06</td>\n",
       "      <td>956434.000000</td>\n",
       "      <td>1000000.000000</td>\n",
       "      <td>1000000.000000</td>\n",
       "      <td>998058.000000</td>\n",
       "      <td>1000000.000000</td>\n",
       "      <td>...</td>\n",
       "      <td>1000000.000000</td>\n",
       "      <td>1000000.000000</td>\n",
       "      <td>1000000.000000</td>\n",
       "      <td>1000000.000000</td>\n",
       "      <td>1000000.000000</td>\n",
       "      <td>1000000.000000</td>\n",
       "      <td>1000000.000000</td>\n",
       "      <td>1000000.000000</td>\n",
       "      <td>585678.000000</td>\n",
       "      <td>1000000.000000</td>\n",
       "    </tr>\n",
       "    <tr>\n",
       "      <th>mean</th>\n",
       "      <td>26798.861306</td>\n",
       "      <td>64.584190</td>\n",
       "      <td>1.68655</td>\n",
       "      <td>1.501388</td>\n",
       "      <td>3.206637e+04</td>\n",
       "      <td>717.122269</td>\n",
       "      <td>2.051692</td>\n",
       "      <td>2.028226</td>\n",
       "      <td>2.845555</td>\n",
       "      <td>49.652653</td>\n",
       "      <td>...</td>\n",
       "      <td>363.807156</td>\n",
       "      <td>142.875143</td>\n",
       "      <td>19425.504057</td>\n",
       "      <td>466.067118</td>\n",
       "      <td>602.343593</td>\n",
       "      <td>90.008221</td>\n",
       "      <td>514.181761</td>\n",
       "      <td>2.435522</td>\n",
       "      <td>1.666000</td>\n",
       "      <td>2.599470</td>\n",
       "    </tr>\n",
       "    <tr>\n",
       "      <th>std</th>\n",
       "      <td>14203.851901</td>\n",
       "      <td>9.572844</td>\n",
       "      <td>2.45960</td>\n",
       "      <td>0.499998</td>\n",
       "      <td>5.337953e+04</td>\n",
       "      <td>106.919954</td>\n",
       "      <td>0.222212</td>\n",
       "      <td>0.263574</td>\n",
       "      <td>4.692949</td>\n",
       "      <td>18.154550</td>\n",
       "      <td>...</td>\n",
       "      <td>264.776911</td>\n",
       "      <td>1865.259409</td>\n",
       "      <td>12351.168692</td>\n",
       "      <td>265.653898</td>\n",
       "      <td>2080.998070</td>\n",
       "      <td>138.647971</td>\n",
       "      <td>2076.629077</td>\n",
       "      <td>23.596166</td>\n",
       "      <td>15.838474</td>\n",
       "      <td>15.691225</td>\n",
       "    </tr>\n",
       "    <tr>\n",
       "      <th>min</th>\n",
       "      <td>1624.630000</td>\n",
       "      <td>12.000000</td>\n",
       "      <td>0.00000</td>\n",
       "      <td>1.000000</td>\n",
       "      <td>0.000000e+00</td>\n",
       "      <td>0.000000</td>\n",
       "      <td>2.000000</td>\n",
       "      <td>1.000000</td>\n",
       "      <td>0.000000</td>\n",
       "      <td>0.000000</td>\n",
       "      <td>...</td>\n",
       "      <td>-38.760000</td>\n",
       "      <td>-72031.970000</td>\n",
       "      <td>0.000000</td>\n",
       "      <td>0.000000</td>\n",
       "      <td>-72031.970000</td>\n",
       "      <td>-1303.820000</td>\n",
       "      <td>-72031.970000</td>\n",
       "      <td>-69.510000</td>\n",
       "      <td>0.000000</td>\n",
       "      <td>-9.000000</td>\n",
       "    </tr>\n",
       "    <tr>\n",
       "      <th>25%</th>\n",
       "      <td>16930.812500</td>\n",
       "      <td>60.000000</td>\n",
       "      <td>0.13900</td>\n",
       "      <td>1.000000</td>\n",
       "      <td>1.823584e+04</td>\n",
       "      <td>639.000000</td>\n",
       "      <td>2.000000</td>\n",
       "      <td>2.000000</td>\n",
       "      <td>0.078245</td>\n",
       "      <td>39.000000</td>\n",
       "      <td>...</td>\n",
       "      <td>176.280000</td>\n",
       "      <td>0.000000</td>\n",
       "      <td>11198.557500</td>\n",
       "      <td>317.710000</td>\n",
       "      <td>250.000000</td>\n",
       "      <td>5.840000</td>\n",
       "      <td>81.887500</td>\n",
       "      <td>0.000000</td>\n",
       "      <td>0.000000</td>\n",
       "      <td>0.000000</td>\n",
       "    </tr>\n",
       "    <tr>\n",
       "      <th>50%</th>\n",
       "      <td>24021.030000</td>\n",
       "      <td>66.000000</td>\n",
       "      <td>0.90000</td>\n",
       "      <td>2.000000</td>\n",
       "      <td>2.709000e+04</td>\n",
       "      <td>730.000000</td>\n",
       "      <td>2.000000</td>\n",
       "      <td>2.000000</td>\n",
       "      <td>0.151346</td>\n",
       "      <td>52.000000</td>\n",
       "      <td>...</td>\n",
       "      <td>330.030000</td>\n",
       "      <td>0.000000</td>\n",
       "      <td>17672.600000</td>\n",
       "      <td>435.710000</td>\n",
       "      <td>419.400000</td>\n",
       "      <td>35.265000</td>\n",
       "      <td>323.940000</td>\n",
       "      <td>0.000000</td>\n",
       "      <td>0.000000</td>\n",
       "      <td>0.000000</td>\n",
       "    </tr>\n",
       "    <tr>\n",
       "      <th>75%</th>\n",
       "      <td>33227.800000</td>\n",
       "      <td>72.000000</td>\n",
       "      <td>2.90000</td>\n",
       "      <td>2.000000</td>\n",
       "      <td>4.196500e+04</td>\n",
       "      <td>806.000000</td>\n",
       "      <td>2.000000</td>\n",
       "      <td>2.000000</td>\n",
       "      <td>4.520000</td>\n",
       "      <td>65.000000</td>\n",
       "      <td>...</td>\n",
       "      <td>491.710000</td>\n",
       "      <td>0.000000</td>\n",
       "      <td>25642.965000</td>\n",
       "      <td>585.040000</td>\n",
       "      <td>600.000000</td>\n",
       "      <td>107.010000</td>\n",
       "      <td>514.290000</td>\n",
       "      <td>0.000000</td>\n",
       "      <td>0.000000</td>\n",
       "      <td>0.000000</td>\n",
       "    </tr>\n",
       "    <tr>\n",
       "      <th>max</th>\n",
       "      <td>189984.120000</td>\n",
       "      <td>75.000000</td>\n",
       "      <td>22.99000</td>\n",
       "      <td>2.000000</td>\n",
       "      <td>1.021234e+07</td>\n",
       "      <td>900.000000</td>\n",
       "      <td>5.000000</td>\n",
       "      <td>3.000000</td>\n",
       "      <td>96.950000</td>\n",
       "      <td>200.000000</td>\n",
       "      <td>...</td>\n",
       "      <td>4945.480000</td>\n",
       "      <td>137706.250000</td>\n",
       "      <td>177603.400000</td>\n",
       "      <td>4975.230000</td>\n",
       "      <td>140576.750000</td>\n",
       "      <td>3447.000000</td>\n",
       "      <td>140460.800000</td>\n",
       "      <td>3831.100000</td>\n",
       "      <td>1223.295300</td>\n",
       "      <td>442.000000</td>\n",
       "    </tr>\n",
       "  </tbody>\n",
       "</table>\n",
       "<p>8 rows × 28 columns</p>\n",
       "</div>"
      ],
      "text/plain": [
       "       originalloanamount  originalloanterm  originalinterestratepercentage  \\\n",
       "count      1000000.000000    1000000.000000                   1000000.00000   \n",
       "mean         26798.861306         64.584190                         1.68655   \n",
       "std          14203.851901          9.572844                         2.45960   \n",
       "min           1624.630000         12.000000                         0.00000   \n",
       "25%          16930.812500         60.000000                         0.13900   \n",
       "50%          24021.030000         66.000000                         0.90000   \n",
       "75%          33227.800000         72.000000                         2.90000   \n",
       "max         189984.120000         75.000000                        22.99000   \n",
       "\n",
       "       vehiclenewusedcode  vehiclevalueamount  obligorcreditscore  \\\n",
       "count      1000000.000000        1.000000e+06       956434.000000   \n",
       "mean             1.501388        3.206637e+04          717.122269   \n",
       "std              0.499998        5.337953e+04          106.919954   \n",
       "min              1.000000        0.000000e+00            0.000000   \n",
       "25%              1.000000        1.823584e+04          639.000000   \n",
       "50%              2.000000        2.709000e+04          730.000000   \n",
       "75%              2.000000        4.196500e+04          806.000000   \n",
       "max              2.000000        1.021234e+07          900.000000   \n",
       "\n",
       "       obligorincomeverificationlevelcode  obligoremploymentverificationcode  \\\n",
       "count                      1000000.000000                     1000000.000000   \n",
       "mean                             2.051692                           2.028226   \n",
       "std                              0.222212                           0.263574   \n",
       "min                              2.000000                           1.000000   \n",
       "25%                              2.000000                           2.000000   \n",
       "50%                              2.000000                           2.000000   \n",
       "75%                              2.000000                           2.000000   \n",
       "max                              5.000000                           3.000000   \n",
       "\n",
       "       paymenttoincomepercentage  remainingtermtomaturitynumber  \\\n",
       "count              998058.000000                 1000000.000000   \n",
       "mean                    2.845555                      49.652653   \n",
       "std                     4.692949                      18.154550   \n",
       "min                     0.000000                       0.000000   \n",
       "25%                     0.078245                      39.000000   \n",
       "50%                     0.151346                      52.000000   \n",
       "75%                     4.520000                      65.000000   \n",
       "max                    96.950000                     200.000000   \n",
       "\n",
       "                 ...             scheduledprincipalamount  \\\n",
       "count            ...                       1000000.000000   \n",
       "mean             ...                           363.807156   \n",
       "std              ...                           264.776911   \n",
       "min              ...                           -38.760000   \n",
       "25%              ...                           176.280000   \n",
       "50%              ...                           330.030000   \n",
       "75%              ...                           491.710000   \n",
       "max              ...                          4945.480000   \n",
       "\n",
       "       otherprincipaladjustmentamount  reportingperiodactualendbalanceamount  \\\n",
       "count                  1000000.000000                         1000000.000000   \n",
       "mean                       142.875143                           19425.504057   \n",
       "std                       1865.259409                           12351.168692   \n",
       "min                     -72031.970000                               0.000000   \n",
       "25%                          0.000000                           11198.557500   \n",
       "50%                          0.000000                           17672.600000   \n",
       "75%                          0.000000                           25642.965000   \n",
       "max                     137706.250000                          177603.400000   \n",
       "\n",
       "       reportingperiodscheduledpaymentamount  totalactualamountpaid  \\\n",
       "count                         1000000.000000         1000000.000000   \n",
       "mean                              466.067118             602.343593   \n",
       "std                               265.653898            2080.998070   \n",
       "min                                 0.000000          -72031.970000   \n",
       "25%                               317.710000             250.000000   \n",
       "50%                               435.710000             419.400000   \n",
       "75%                               585.040000             600.000000   \n",
       "max                              4975.230000          140576.750000   \n",
       "\n",
       "       actualinterestcollectedamount  actualprincipalcollectedamount  \\\n",
       "count                 1000000.000000                  1000000.000000   \n",
       "mean                       90.008221                      514.181761   \n",
       "std                       138.647971                     2076.629077   \n",
       "min                     -1303.820000                   -72031.970000   \n",
       "25%                         5.840000                       81.887500   \n",
       "50%                        35.265000                      323.940000   \n",
       "75%                       107.010000                      514.290000   \n",
       "max                      3447.000000                   140460.800000   \n",
       "\n",
       "       actualothercollectedamount  serviceradvancedamount  \\\n",
       "count              1000000.000000           585678.000000   \n",
       "mean                     2.435522                1.666000   \n",
       "std                     23.596166               15.838474   \n",
       "min                    -69.510000                0.000000   \n",
       "25%                      0.000000                0.000000   \n",
       "50%                      0.000000                0.000000   \n",
       "75%                      0.000000                0.000000   \n",
       "max                   3831.100000             1223.295300   \n",
       "\n",
       "       currentdelinquencystatus  \n",
       "count            1000000.000000  \n",
       "mean                   2.599470  \n",
       "std                   15.691225  \n",
       "min                   -9.000000  \n",
       "25%                    0.000000  \n",
       "50%                    0.000000  \n",
       "75%                    0.000000  \n",
       "max                  442.000000  \n",
       "\n",
       "[8 rows x 28 columns]"
      ]
     },
     "execution_count": 8,
     "metadata": {},
     "output_type": "execute_result"
    }
   ],
   "source": [
    "df.describe()"
   ]
  },
  {
   "cell_type": "markdown",
   "metadata": {},
   "source": [
    "# Current Vs Non-Current"
   ]
  },
  {
   "cell_type": "code",
   "execution_count": 9,
   "metadata": {},
   "outputs": [
    {
     "data": {
      "image/png": "[encoded data removed]",
      "text/plain": [
       "<Figure size 432x288 with 1 Axes>"
      ]
     },
     "metadata": {},
     "output_type": "display_data"
    },
    {
     "name": "stdout",
     "output_type": "stream",
     "text": [
      "Number of loans Current : 903004     Number of loans Not Current : 96996\n"
     ]
    }
   ],
   "source": [
    "count_classes = pd.value_counts(df.currentdelinquencystatus>0, sort = True)\n",
    "count_classes.plot(kind = 'bar', rot=0)\n",
    "plt.xticks(range(2), LABELS)\n",
    "plt.title('Deliquency Class')\n",
    "plt.ylabel(\"Number of Loans\")\n",
    "plt.show()\n",
    "print('Number of loans Current :', count_classes[0],'   ', 'Number of loans Not Current :', count_classes[1],)"
   ]
  },
  {
   "cell_type": "code",
   "execution_count": 10,
   "metadata": {},
   "outputs": [
    {
     "data": {
      "text/plain": [
       " 0      903002\n",
       " 2        6204\n",
       " 5        6076\n",
       " 3        4898\n",
       " 4        4692\n",
       " 1        4108\n",
       " 6        3836\n",
       " 10       3771\n",
       " 15       3702\n",
       " 7        3663\n",
       " 8        3191\n",
       " 9        2944\n",
       " 12       2461\n",
       " 11       2270\n",
       " 14       2216\n",
       " 13       2216\n",
       " 16       2075\n",
       " 17       1999\n",
       " 30       1923\n",
       " 18       1704\n",
       " 20       1701\n",
       " 19       1612\n",
       " 21       1385\n",
       " 22       1203\n",
       " 23       1128\n",
       " 25       1123\n",
       " 26       1089\n",
       " 24       1003\n",
       " 27        918\n",
       " 29        880\n",
       "         ...  \n",
       " 298         4\n",
       " 267         4\n",
       " 268         4\n",
       " 252         4\n",
       " 355         3\n",
       " 356         3\n",
       " 349         3\n",
       " 323         3\n",
       " 328         3\n",
       " 341         3\n",
       " 339         3\n",
       " 337         3\n",
       " 313         3\n",
       " 262         3\n",
       " 342         3\n",
       " 343         2\n",
       " 321         2\n",
       " 351         2\n",
       " 350         2\n",
       " 332         2\n",
       " 348         2\n",
       " 271         2\n",
       " 442         1\n",
       " 390         1\n",
       " 391         1\n",
       " 354         1\n",
       "-9           1\n",
       " 358         1\n",
       " 353         1\n",
       "-1           1\n",
       "Name: currentdelinquencystatus, Length: 363, dtype: int64"
      ]
     },
     "execution_count": 10,
     "metadata": {},
     "output_type": "execute_result"
    }
   ],
   "source": [
    "pd.value_counts(df.currentdelinquencystatus)"
   ]
  },
  {
   "cell_type": "markdown",
   "metadata": {},
   "source": [
    "# Label Creation"
   ]
  },
  {
   "cell_type": "code",
   "execution_count": 11,
   "metadata": {},
   "outputs": [
    {
     "data": {
      "image/png": "[encoded data removed]",
      "text/plain": [
       "<Figure size 432x288 with 1 Axes>"
      ]
     },
     "metadata": {},
     "output_type": "display_data"
    },
    {
     "name": "stdout",
     "output_type": "stream",
     "text": [
      "Number of loans Current : 932818     Number of loans Defaulted : 67182\n",
      "New Vehicle Percent default:  6.7182\n"
     ]
    }
   ],
   "source": [
    "def map_label(*args):\n",
    "    columns = [col for col in args]\n",
    "    for column in columns:\n",
    "        if column > default_months:\n",
    "            return 1\n",
    "        elif column <= default_months:\n",
    "            return 0\n",
    "        \n",
    "df['label'] = list(map(map_label, df.currentdelinquencystatus ))\n",
    "\n",
    "\n",
    "count_classes = pd.value_counts(df.label, sort = True)\n",
    "count_classes.plot(kind = 'bar', rot=0)\n",
    "plt.xticks(range(2), LABELS)\n",
    "plt.title('Revised Deliquency Class')\n",
    "plt.ylabel(\"Number of Loans\")\n",
    "plt.show()\n",
    "print('Number of loans Current :', count_classes[0],'   ', 'Number of loans Defaulted :', count_classes[1],)\n",
    "print('New Vehicle Percent default: ', (count_classes[1]/(count_classes[0]+count_classes[1]))*100 )"
   ]
  },
  {
   "cell_type": "markdown",
   "metadata": {},
   "source": [
    "# Loan Balance Amount at the End of Reporting Period"
   ]
  },
  {
   "cell_type": "code",
   "execution_count": 12,
   "metadata": {},
   "outputs": [
    {
     "data": {
      "image/png": "[encoded data removed]",
      "text/plain": [
       "<Figure size 432x288 with 1 Axes>"
      ]
     },
     "metadata": {},
     "output_type": "display_data"
    }
   ],
   "source": [
    "current_df = df[df.label==0]\n",
    "not_current_df = df[df.label==1]\n",
    "bins = np.linspace(0, 100000, 100)\n",
    "plt.hist(current_df.reportingperiodactualendbalanceamount, bins, alpha=0.6, density=True, label='CURRENT')\n",
    "plt.hist(not_current_df.reportingperiodactualendbalanceamount, bins, alpha=1, density=True, label='NOT CURRENT')\n",
    "plt.legend(loc='upper right')\n",
    "plt.title(\"Loan Balance Amount at the end of reporting Period\")\n",
    "plt.xlabel('Loan Balance Amount')\n",
    "plt.ylabel('Percent of Loans')\n",
    "plt.show()\n",
    "#pd.value_counts(df.reportingperiodactualendbalanceamount[df.label==0])\n"
   ]
  },
  {
   "cell_type": "markdown",
   "metadata": {},
   "source": [
    "# New Vehicle Default"
   ]
  },
  {
   "cell_type": "code",
   "execution_count": 13,
   "metadata": {},
   "outputs": [
    {
     "data": {
      "image/png": "[encoded data removed]",
      "text/plain": [
       "<Figure size 432x288 with 1 Axes>"
      ]
     },
     "metadata": {},
     "output_type": "display_data"
    },
    {
     "name": "stdout",
     "output_type": "stream",
     "text": [
      "Number of loans Current : 477774     Number of loans Defaulted : 20838\n",
      "New Vehicle Percent default:  4.17920146326\n"
     ]
    }
   ],
   "source": [
    "count_classes = pd.value_counts(df.label[df.vehiclenewusedcode==1], sort = True)\n",
    "count_classes.plot(kind = 'bar', rot=0)\n",
    "plt.xticks(range(2), LABELS)\n",
    "plt.title('New Vehicle Deliquency Class')\n",
    "plt.ylabel(\"Number of Loans\")\n",
    "plt.show()\n",
    "print('Number of loans Current :', count_classes[0],'   ', 'Number of loans Defaulted :', count_classes[1],)\n",
    "print('New Vehicle Percent default: ', (count_classes[1]/(count_classes[0]+count_classes[1]))*100 )"
   ]
  },
  {
   "cell_type": "markdown",
   "metadata": {},
   "source": [
    "# Used Vehicle default"
   ]
  },
  {
   "cell_type": "code",
   "execution_count": 14,
   "metadata": {},
   "outputs": [
    {
     "data": {
      "image/png": "[encoded data removed]",
      "text/plain": [
       "<Figure size 432x288 with 1 Axes>"
      ]
     },
     "metadata": {},
     "output_type": "display_data"
    },
    {
     "name": "stdout",
     "output_type": "stream",
     "text": [
      "Number of loans Current : 455044     Number of loans Defaulted : 46344\n",
      "Used Vehicle Percent default:  9.24314104047\n"
     ]
    }
   ],
   "source": [
    "LABELS = ('Current', 'Default')\n",
    "count_classes = pd.value_counts(df.label[df.vehiclenewusedcode==2], sort = True)\n",
    "count_classes.plot(kind = 'bar', rot=0)\n",
    "plt.xticks(range(2), LABELS)\n",
    "plt.title('Used Vehicle Deliquency Class')\n",
    "plt.ylabel(\"Number of Loans\")\n",
    "plt.show()\n",
    "print('Number of loans Current :', count_classes[0],'   ', 'Number of loans Defaulted :', count_classes[1],)\n",
    "print('Used Vehicle Percent default: ', (count_classes[1]/(count_classes[0]+count_classes[1]))*100 )"
   ]
  },
  {
   "cell_type": "markdown",
   "metadata": {
    "collapsed": true
   },
   "source": [
    "#  Clean up for Machine Learning"
   ]
  },
  {
   "cell_type": "code",
   "execution_count": 15,
   "metadata": {},
   "outputs": [
    {
     "data": {
      "text/html": [
       "<div>\n",
       "<style scoped>\n",
       "    .dataframe tbody tr th:only-of-type {\n",
       "        vertical-align: middle;\n",
       "    }\n",
       "\n",
       "    .dataframe tbody tr th {\n",
       "        vertical-align: top;\n",
       "    }\n",
       "\n",
       "    .dataframe thead th {\n",
       "        text-align: right;\n",
       "    }\n",
       "</style>\n",
       "<table border=\"1\" class=\"dataframe\">\n",
       "  <thead>\n",
       "    <tr style=\"text-align: right;\">\n",
       "      <th></th>\n",
       "      <th>originalloanamount</th>\n",
       "      <th>originalloanterm</th>\n",
       "      <th>originalinterestratepercentage</th>\n",
       "      <th>vehiclenewusedcode</th>\n",
       "      <th>vehiclevalueamount</th>\n",
       "      <th>obligorcreditscore</th>\n",
       "      <th>obligorincomeverificationlevelcode</th>\n",
       "      <th>obligoremploymentverificationcode</th>\n",
       "      <th>paymenttoincomepercentage</th>\n",
       "      <th>remainingtermtomaturitynumber</th>\n",
       "      <th>...</th>\n",
       "      <th>otherprincipaladjustmentamount</th>\n",
       "      <th>reportingperiodactualendbalanceamount</th>\n",
       "      <th>reportingperiodscheduledpaymentamount</th>\n",
       "      <th>totalactualamountpaid</th>\n",
       "      <th>actualinterestcollectedamount</th>\n",
       "      <th>actualprincipalcollectedamount</th>\n",
       "      <th>actualothercollectedamount</th>\n",
       "      <th>serviceradvancedamount</th>\n",
       "      <th>currentdelinquencystatus</th>\n",
       "      <th>label</th>\n",
       "    </tr>\n",
       "    <tr>\n",
       "      <th>abs_loan.originationdate</th>\n",
       "      <th></th>\n",
       "      <th></th>\n",
       "      <th></th>\n",
       "      <th></th>\n",
       "      <th></th>\n",
       "      <th></th>\n",
       "      <th></th>\n",
       "      <th></th>\n",
       "      <th></th>\n",
       "      <th></th>\n",
       "      <th></th>\n",
       "      <th></th>\n",
       "      <th></th>\n",
       "      <th></th>\n",
       "      <th></th>\n",
       "      <th></th>\n",
       "      <th></th>\n",
       "      <th></th>\n",
       "      <th></th>\n",
       "      <th></th>\n",
       "      <th></th>\n",
       "    </tr>\n",
       "  </thead>\n",
       "  <tbody>\n",
       "    <tr>\n",
       "      <th>2012-12-31</th>\n",
       "      <td>25124.50</td>\n",
       "      <td>72</td>\n",
       "      <td>3.29</td>\n",
       "      <td>1</td>\n",
       "      <td>44395.0</td>\n",
       "      <td>812.0</td>\n",
       "      <td>2</td>\n",
       "      <td>2</td>\n",
       "      <td>2.66</td>\n",
       "      <td>13</td>\n",
       "      <td>...</td>\n",
       "      <td>0.0</td>\n",
       "      <td>4479.55</td>\n",
       "      <td>385.00</td>\n",
       "      <td>385.00</td>\n",
       "      <td>13.30</td>\n",
       "      <td>371.70</td>\n",
       "      <td>0.0</td>\n",
       "      <td>0.0</td>\n",
       "      <td>0</td>\n",
       "      <td>0</td>\n",
       "    </tr>\n",
       "    <tr>\n",
       "      <th>2012-12-31</th>\n",
       "      <td>43257.34</td>\n",
       "      <td>72</td>\n",
       "      <td>3.29</td>\n",
       "      <td>1</td>\n",
       "      <td>50595.0</td>\n",
       "      <td>817.0</td>\n",
       "      <td>2</td>\n",
       "      <td>2</td>\n",
       "      <td>3.99</td>\n",
       "      <td>14</td>\n",
       "      <td>...</td>\n",
       "      <td>0.0</td>\n",
       "      <td>8328.13</td>\n",
       "      <td>663.71</td>\n",
       "      <td>663.71</td>\n",
       "      <td>24.58</td>\n",
       "      <td>639.13</td>\n",
       "      <td>0.0</td>\n",
       "      <td>0.0</td>\n",
       "      <td>0</td>\n",
       "      <td>0</td>\n",
       "    </tr>\n",
       "    <tr>\n",
       "      <th>2012-12-31</th>\n",
       "      <td>56917.54</td>\n",
       "      <td>72</td>\n",
       "      <td>3.29</td>\n",
       "      <td>1</td>\n",
       "      <td>62695.0</td>\n",
       "      <td>818.0</td>\n",
       "      <td>2</td>\n",
       "      <td>2</td>\n",
       "      <td>6.97</td>\n",
       "      <td>14</td>\n",
       "      <td>...</td>\n",
       "      <td>0.0</td>\n",
       "      <td>11979.91</td>\n",
       "      <td>873.39</td>\n",
       "      <td>873.39</td>\n",
       "      <td>35.14</td>\n",
       "      <td>838.25</td>\n",
       "      <td>0.0</td>\n",
       "      <td>0.0</td>\n",
       "      <td>0</td>\n",
       "      <td>0</td>\n",
       "    </tr>\n",
       "    <tr>\n",
       "      <th>2012-12-31</th>\n",
       "      <td>42003.57</td>\n",
       "      <td>72</td>\n",
       "      <td>3.29</td>\n",
       "      <td>1</td>\n",
       "      <td>46995.0</td>\n",
       "      <td>791.0</td>\n",
       "      <td>2</td>\n",
       "      <td>2</td>\n",
       "      <td>2.96</td>\n",
       "      <td>13</td>\n",
       "      <td>...</td>\n",
       "      <td>0.0</td>\n",
       "      <td>8182.63</td>\n",
       "      <td>643.71</td>\n",
       "      <td>643.71</td>\n",
       "      <td>24.12</td>\n",
       "      <td>619.59</td>\n",
       "      <td>0.0</td>\n",
       "      <td>0.0</td>\n",
       "      <td>0</td>\n",
       "      <td>0</td>\n",
       "    </tr>\n",
       "    <tr>\n",
       "      <th>2012-12-31</th>\n",
       "      <td>77217.85</td>\n",
       "      <td>72</td>\n",
       "      <td>3.29</td>\n",
       "      <td>1</td>\n",
       "      <td>76145.0</td>\n",
       "      <td>712.0</td>\n",
       "      <td>2</td>\n",
       "      <td>2</td>\n",
       "      <td>10.37</td>\n",
       "      <td>14</td>\n",
       "      <td>...</td>\n",
       "      <td>0.0</td>\n",
       "      <td>16336.95</td>\n",
       "      <td>1184.89</td>\n",
       "      <td>1160.89</td>\n",
       "      <td>47.92</td>\n",
       "      <td>1136.97</td>\n",
       "      <td>24.0</td>\n",
       "      <td>0.0</td>\n",
       "      <td>0</td>\n",
       "      <td>0</td>\n",
       "    </tr>\n",
       "  </tbody>\n",
       "</table>\n",
       "<p>5 rows × 29 columns</p>\n",
       "</div>"
      ],
      "text/plain": [
       "                          originalloanamount  originalloanterm  \\\n",
       "abs_loan.originationdate                                         \n",
       "2012-12-31                          25124.50                72   \n",
       "2012-12-31                          43257.34                72   \n",
       "2012-12-31                          56917.54                72   \n",
       "2012-12-31                          42003.57                72   \n",
       "2012-12-31                          77217.85                72   \n",
       "\n",
       "                          originalinterestratepercentage  vehiclenewusedcode  \\\n",
       "abs_loan.originationdate                                                       \n",
       "2012-12-31                                          3.29                   1   \n",
       "2012-12-31                                          3.29                   1   \n",
       "2012-12-31                                          3.29                   1   \n",
       "2012-12-31                                          3.29                   1   \n",
       "2012-12-31                                          3.29                   1   \n",
       "\n",
       "                          vehiclevalueamount  obligorcreditscore  \\\n",
       "abs_loan.originationdate                                           \n",
       "2012-12-31                           44395.0               812.0   \n",
       "2012-12-31                           50595.0               817.0   \n",
       "2012-12-31                           62695.0               818.0   \n",
       "2012-12-31                           46995.0               791.0   \n",
       "2012-12-31                           76145.0               712.0   \n",
       "\n",
       "                          obligorincomeverificationlevelcode  \\\n",
       "abs_loan.originationdate                                       \n",
       "2012-12-31                                                 2   \n",
       "2012-12-31                                                 2   \n",
       "2012-12-31                                                 2   \n",
       "2012-12-31                                                 2   \n",
       "2012-12-31                                                 2   \n",
       "\n",
       "                          obligoremploymentverificationcode  \\\n",
       "abs_loan.originationdate                                      \n",
       "2012-12-31                                                2   \n",
       "2012-12-31                                                2   \n",
       "2012-12-31                                                2   \n",
       "2012-12-31                                                2   \n",
       "2012-12-31                                                2   \n",
       "\n",
       "                          paymenttoincomepercentage  \\\n",
       "abs_loan.originationdate                              \n",
       "2012-12-31                                     2.66   \n",
       "2012-12-31                                     3.99   \n",
       "2012-12-31                                     6.97   \n",
       "2012-12-31                                     2.96   \n",
       "2012-12-31                                    10.37   \n",
       "\n",
       "                          remainingtermtomaturitynumber  ...    \\\n",
       "abs_loan.originationdate                                 ...     \n",
       "2012-12-31                                           13  ...     \n",
       "2012-12-31                                           14  ...     \n",
       "2012-12-31                                           14  ...     \n",
       "2012-12-31                                           13  ...     \n",
       "2012-12-31                                           14  ...     \n",
       "\n",
       "                          otherprincipaladjustmentamount  \\\n",
       "abs_loan.originationdate                                   \n",
       "2012-12-31                                           0.0   \n",
       "2012-12-31                                           0.0   \n",
       "2012-12-31                                           0.0   \n",
       "2012-12-31                                           0.0   \n",
       "2012-12-31                                           0.0   \n",
       "\n",
       "                          reportingperiodactualendbalanceamount  \\\n",
       "abs_loan.originationdate                                          \n",
       "2012-12-31                                              4479.55   \n",
       "2012-12-31                                              8328.13   \n",
       "2012-12-31                                             11979.91   \n",
       "2012-12-31                                              8182.63   \n",
       "2012-12-31                                             16336.95   \n",
       "\n",
       "                          reportingperiodscheduledpaymentamount  \\\n",
       "abs_loan.originationdate                                          \n",
       "2012-12-31                                               385.00   \n",
       "2012-12-31                                               663.71   \n",
       "2012-12-31                                               873.39   \n",
       "2012-12-31                                               643.71   \n",
       "2012-12-31                                              1184.89   \n",
       "\n",
       "                          totalactualamountpaid  \\\n",
       "abs_loan.originationdate                          \n",
       "2012-12-31                               385.00   \n",
       "2012-12-31                               663.71   \n",
       "2012-12-31                               873.39   \n",
       "2012-12-31                               643.71   \n",
       "2012-12-31                              1160.89   \n",
       "\n",
       "                          actualinterestcollectedamount  \\\n",
       "abs_loan.originationdate                                  \n",
       "2012-12-31                                        13.30   \n",
       "2012-12-31                                        24.58   \n",
       "2012-12-31                                        35.14   \n",
       "2012-12-31                                        24.12   \n",
       "2012-12-31                                        47.92   \n",
       "\n",
       "                          actualprincipalcollectedamount  \\\n",
       "abs_loan.originationdate                                   \n",
       "2012-12-31                                        371.70   \n",
       "2012-12-31                                        639.13   \n",
       "2012-12-31                                        838.25   \n",
       "2012-12-31                                        619.59   \n",
       "2012-12-31                                       1136.97   \n",
       "\n",
       "                          actualothercollectedamount  serviceradvancedamount  \\\n",
       "abs_loan.originationdate                                                       \n",
       "2012-12-31                                       0.0                     0.0   \n",
       "2012-12-31                                       0.0                     0.0   \n",
       "2012-12-31                                       0.0                     0.0   \n",
       "2012-12-31                                       0.0                     0.0   \n",
       "2012-12-31                                      24.0                     0.0   \n",
       "\n",
       "                          currentdelinquencystatus  label  \n",
       "abs_loan.originationdate                                   \n",
       "2012-12-31                                       0      0  \n",
       "2012-12-31                                       0      0  \n",
       "2012-12-31                                       0      0  \n",
       "2012-12-31                                       0      0  \n",
       "2012-12-31                                       0      0  \n",
       "\n",
       "[5 rows x 29 columns]"
      ]
     },
     "execution_count": 15,
     "metadata": {},
     "output_type": "execute_result"
    }
   ],
   "source": [
    "df.fillna(0, inplace=True)\n",
    "df=df.replace([np.inf, -np.inf], np.nan)\n",
    "df.dropna(inplace=True)\n",
    "df.head()"
   ]
  },
  {
   "cell_type": "markdown",
   "metadata": {},
   "source": [
    "# Preparing data for Machine Learning"
   ]
  },
  {
   "cell_type": "code",
   "execution_count": 16,
   "metadata": {},
   "outputs": [
    {
     "data": {
      "text/plain": [
       "(1000000,)"
      ]
     },
     "execution_count": 16,
     "metadata": {},
     "output_type": "execute_result"
    }
   ],
   "source": [
    "# prepare label\n",
    "Y=df.label.values\n",
    "Y.shape"
   ]
  },
  {
   "cell_type": "code",
   "execution_count": 17,
   "metadata": {},
   "outputs": [
    {
     "data": {
      "text/plain": [
       "(1000000, 1)"
      ]
     },
     "execution_count": 17,
     "metadata": {},
     "output_type": "execute_result"
    }
   ],
   "source": [
    "# reshape labels for machine learning\n",
    "Y=Y.reshape(Y.shape[0],1)\n",
    "Y.shape"
   ]
  },
  {
   "cell_type": "code",
   "execution_count": 18,
   "metadata": {},
   "outputs": [
    {
     "data": {
      "text/plain": [
       "(1000000, 29)"
      ]
     },
     "execution_count": 18,
     "metadata": {},
     "output_type": "execute_result"
    }
   ],
   "source": [
    "# prepare input data\n",
    "input=df.values\n",
    "input.shape"
   ]
  },
  {
   "cell_type": "code",
   "execution_count": 19,
   "metadata": {},
   "outputs": [
    {
     "name": "stdout",
     "output_type": "stream",
     "text": [
      "900000\n"
     ]
    }
   ],
   "source": [
    "# calculate train/test split\n",
    "len_train = int(len(input)*train_split)\n",
    "print(len_train)"
   ]
  },
  {
   "cell_type": "code",
   "execution_count": 20,
   "metadata": {
    "collapsed": true
   },
   "outputs": [],
   "source": [
    "# apply train/test split to labels\n",
    "y_train = Y[0:len_train]\n",
    "y_test = Y[len_train:]"
   ]
  },
  {
   "cell_type": "code",
   "execution_count": 21,
   "metadata": {
    "collapsed": true
   },
   "outputs": [],
   "source": [
    "#drop unneeded columns for creating input data\n",
    "df.drop(['currentdelinquencystatus','label'], axis=1, inplace=True)"
   ]
  },
  {
   "cell_type": "code",
   "execution_count": 22,
   "metadata": {},
   "outputs": [
    {
     "data": {
      "text/plain": [
       "(1000000, 29, 1)"
      ]
     },
     "execution_count": 22,
     "metadata": {},
     "output_type": "execute_result"
    }
   ],
   "source": [
    "#reshape input data for machine learning\n",
    "input=input.reshape(input.shape[0], input.shape[1], 1)\n",
    "input.shape"
   ]
  },
  {
   "cell_type": "code",
   "execution_count": 23,
   "metadata": {
    "collapsed": true
   },
   "outputs": [],
   "source": [
    "# apply train/test split to input data\n",
    "x_train = input[0:len_train]\n",
    "x_test = input[len_train:]"
   ]
  },
  {
   "cell_type": "markdown",
   "metadata": {},
   "source": [
    "# Normalize input data"
   ]
  },
  {
   "cell_type": "code",
   "execution_count": 24,
   "metadata": {},
   "outputs": [
    {
     "data": {
      "text/plain": [
       "(900000, 29, 1)"
      ]
     },
     "execution_count": 24,
     "metadata": {},
     "output_type": "execute_result"
    }
   ],
   "source": [
    "x_train_keras_scaled = keras.utils.normalize(x_train, axis=-1, order=2)\n",
    "x_test_keras_scaled = keras.utils.normalize(x_test, axis=-1, order=2)\n",
    "x_train_keras_scaled.shape"
   ]
  },
  {
   "cell_type": "markdown",
   "metadata": {},
   "source": [
    "# Model Architecture"
   ]
  },
  {
   "cell_type": "code",
   "execution_count": 25,
   "metadata": {
    "collapsed": true
   },
   "outputs": [],
   "source": [
    "model = keras.Sequential()\n",
    "model.add(keras.layers.LSTM(254, activation='relu', input_shape=(x_train_keras_scaled.shape[1:]), return_sequences=True))\n",
    "model.add(keras.layers.Dropout(0.2))\n",
    "\n",
    "model.add(keras.layers.LSTM(128, activation='relu'))\n",
    "model.add(keras.layers.Dropout(0.1))\n",
    "\n",
    "model.add(keras.layers.Dense(32, activation='relu'))\n",
    "model.add(keras.layers.Dropout(0.2))\n",
    "\n",
    "model.add(keras.layers.Dense(2, activation='softmax'))\n",
    "\n",
    "optimizer = tf.keras.optimizers.Adam(lr=1e-3, decay=1e-6)\n"
   ]
  },
  {
   "cell_type": "markdown",
   "metadata": {},
   "source": [
    "# Model Configuration"
   ]
  },
  {
   "cell_type": "code",
   "execution_count": 26,
   "metadata": {
    "collapsed": true
   },
   "outputs": [],
   "source": [
    "#save the best model\n",
    "# keras.callbacks.Callback()\n",
    "# checkPoint = ModelCheckpoint(filepath = path+'model/'+name+'.h5',\n",
    "#                             save_best_only = True,\n",
    "#                             verbose=0)\n",
    "# tensorboard = TensorBoard(log_dir=path+'logs/{}'.format(name),\n",
    "#                          histogram_freq=0,\n",
    "#                          batch_size=32,\n",
    "#                          write_graph=True,\n",
    "#                          write_images=False)\n",
    "# history = keras.callbacks.History()"
   ]
  },
  {
   "cell_type": "markdown",
   "metadata": {},
   "source": [
    "# Train the Model"
   ]
  },
  {
   "cell_type": "code",
   "execution_count": 27,
   "metadata": {
    "scrolled": false
   },
   "outputs": [
    {
     "name": "stdout",
     "output_type": "stream",
     "text": [
      "Train on 900000 samples, validate on 100000 samples\n",
      "Epoch 1/1\n",
      " 28064/900000 [..............................] - ETA: 56:23 - loss: 0.4449 - acc: 0.9722"
     ]
    },
    {
     "ename": "KeyboardInterrupt",
     "evalue": "",
     "output_type": "error",
     "traceback": [
      "\u001b[1;31m---------------------------------------------------------------------------\u001b[0m",
      "\u001b[1;31mKeyboardInterrupt\u001b[0m                         Traceback (most recent call last)",
      "\u001b[1;32m<ipython-input-27-3c82fd2264c4>\u001b[0m in \u001b[0;36m<module>\u001b[1;34m()\u001b[0m\n\u001b[0;32m      9\u001b[0m     \u001b[1;31m#reduceLROnPlateau\u001b[0m\u001b[1;33m\u001b[0m\u001b[1;33m\u001b[0m\u001b[0m\n\u001b[0;32m     10\u001b[0m \u001b[1;31m#],\u001b[0m\u001b[1;33m\u001b[0m\u001b[1;33m\u001b[0m\u001b[0m\n\u001b[1;32m---> 11\u001b[1;33m           \u001b[0mshuffle\u001b[0m\u001b[1;33m=\u001b[0m\u001b[1;32mFalse\u001b[0m\u001b[1;33m\u001b[0m\u001b[0m\n\u001b[0m\u001b[0;32m     12\u001b[0m )\n",
      "\u001b[1;32mC:\\Progra~1\\Anaconda3_4\\lib\\site-packages\\tensorflow\\python\\keras\\_impl\\keras\\engine\\training.py\u001b[0m in \u001b[0;36mfit\u001b[1;34m(self, x, y, batch_size, epochs, verbose, callbacks, validation_split, validation_data, shuffle, class_weight, sample_weight, initial_epoch, steps_per_epoch, validation_steps, **kwargs)\u001b[0m\n\u001b[0;32m   1214\u001b[0m           \u001b[0minitial_epoch\u001b[0m\u001b[1;33m=\u001b[0m\u001b[0minitial_epoch\u001b[0m\u001b[1;33m,\u001b[0m\u001b[1;33m\u001b[0m\u001b[0m\n\u001b[0;32m   1215\u001b[0m           \u001b[0msteps_per_epoch\u001b[0m\u001b[1;33m=\u001b[0m\u001b[0msteps_per_epoch\u001b[0m\u001b[1;33m,\u001b[0m\u001b[1;33m\u001b[0m\u001b[0m\n\u001b[1;32m-> 1216\u001b[1;33m           validation_steps=validation_steps)\n\u001b[0m\u001b[0;32m   1217\u001b[0m \u001b[1;33m\u001b[0m\u001b[0m\n\u001b[0;32m   1218\u001b[0m   def evaluate(self,\n",
      "\u001b[1;32mC:\\Progra~1\\Anaconda3_4\\lib\\site-packages\\tensorflow\\python\\keras\\_impl\\keras\\engine\\training_arrays.py\u001b[0m in \u001b[0;36mfit_loop\u001b[1;34m(model, inputs, targets, sample_weights, batch_size, epochs, verbose, callbacks, val_inputs, val_targets, val_sample_weights, shuffle, callback_metrics, initial_epoch, steps_per_epoch, validation_steps)\u001b[0m\n\u001b[0;32m    243\u001b[0m           \u001b[0mins_batch\u001b[0m\u001b[1;33m[\u001b[0m\u001b[0mi\u001b[0m\u001b[1;33m]\u001b[0m \u001b[1;33m=\u001b[0m \u001b[0mins_batch\u001b[0m\u001b[1;33m[\u001b[0m\u001b[0mi\u001b[0m\u001b[1;33m]\u001b[0m\u001b[1;33m.\u001b[0m\u001b[0mtoarray\u001b[0m\u001b[1;33m(\u001b[0m\u001b[1;33m)\u001b[0m\u001b[1;33m\u001b[0m\u001b[0m\n\u001b[0;32m    244\u001b[0m \u001b[1;33m\u001b[0m\u001b[0m\n\u001b[1;32m--> 245\u001b[1;33m         \u001b[0mouts\u001b[0m \u001b[1;33m=\u001b[0m \u001b[0mf\u001b[0m\u001b[1;33m(\u001b[0m\u001b[0mins_batch\u001b[0m\u001b[1;33m)\u001b[0m\u001b[1;33m\u001b[0m\u001b[0m\n\u001b[0m\u001b[0;32m    246\u001b[0m         \u001b[1;32mif\u001b[0m \u001b[1;32mnot\u001b[0m \u001b[0misinstance\u001b[0m\u001b[1;33m(\u001b[0m\u001b[0mouts\u001b[0m\u001b[1;33m,\u001b[0m \u001b[0mlist\u001b[0m\u001b[1;33m)\u001b[0m\u001b[1;33m:\u001b[0m\u001b[1;33m\u001b[0m\u001b[0m\n\u001b[0;32m    247\u001b[0m           \u001b[0mouts\u001b[0m \u001b[1;33m=\u001b[0m \u001b[1;33m[\u001b[0m\u001b[0mouts\u001b[0m\u001b[1;33m]\u001b[0m\u001b[1;33m\u001b[0m\u001b[0m\n",
      "\u001b[1;32mC:\\Progra~1\\Anaconda3_4\\lib\\site-packages\\tensorflow\\python\\keras\\_impl\\keras\\backend.py\u001b[0m in \u001b[0;36m__call__\u001b[1;34m(self, inputs)\u001b[0m\n\u001b[0;32m   2822\u001b[0m     \u001b[0mfetches\u001b[0m \u001b[1;33m=\u001b[0m \u001b[0mself\u001b[0m\u001b[1;33m.\u001b[0m\u001b[0moutputs\u001b[0m \u001b[1;33m+\u001b[0m \u001b[1;33m[\u001b[0m\u001b[0mself\u001b[0m\u001b[1;33m.\u001b[0m\u001b[0mupdates_op\u001b[0m\u001b[1;33m]\u001b[0m \u001b[1;33m+\u001b[0m \u001b[0mself\u001b[0m\u001b[1;33m.\u001b[0m\u001b[0mfetches\u001b[0m\u001b[1;33m\u001b[0m\u001b[0m\n\u001b[0;32m   2823\u001b[0m     updated = session.run(\n\u001b[1;32m-> 2824\u001b[1;33m         fetches=fetches, feed_dict=feed_dict, **self.session_kwargs)\n\u001b[0m\u001b[0;32m   2825\u001b[0m     \u001b[1;32mreturn\u001b[0m \u001b[0mupdated\u001b[0m\u001b[1;33m[\u001b[0m\u001b[1;33m:\u001b[0m\u001b[0mlen\u001b[0m\u001b[1;33m(\u001b[0m\u001b[0mself\u001b[0m\u001b[1;33m.\u001b[0m\u001b[0moutputs\u001b[0m\u001b[1;33m)\u001b[0m\u001b[1;33m]\u001b[0m\u001b[1;33m\u001b[0m\u001b[0m\n\u001b[0;32m   2826\u001b[0m \u001b[1;33m\u001b[0m\u001b[0m\n",
      "\u001b[1;32mC:\\Progra~1\\Anaconda3_4\\lib\\site-packages\\tensorflow\\python\\client\\session.py\u001b[0m in \u001b[0;36mrun\u001b[1;34m(self, fetches, feed_dict, options, run_metadata)\u001b[0m\n\u001b[0;32m    898\u001b[0m     \u001b[1;32mtry\u001b[0m\u001b[1;33m:\u001b[0m\u001b[1;33m\u001b[0m\u001b[0m\n\u001b[0;32m    899\u001b[0m       result = self._run(None, fetches, feed_dict, options_ptr,\n\u001b[1;32m--> 900\u001b[1;33m                          run_metadata_ptr)\n\u001b[0m\u001b[0;32m    901\u001b[0m       \u001b[1;32mif\u001b[0m \u001b[0mrun_metadata\u001b[0m\u001b[1;33m:\u001b[0m\u001b[1;33m\u001b[0m\u001b[0m\n\u001b[0;32m    902\u001b[0m         \u001b[0mproto_data\u001b[0m \u001b[1;33m=\u001b[0m \u001b[0mtf_session\u001b[0m\u001b[1;33m.\u001b[0m\u001b[0mTF_GetBuffer\u001b[0m\u001b[1;33m(\u001b[0m\u001b[0mrun_metadata_ptr\u001b[0m\u001b[1;33m)\u001b[0m\u001b[1;33m\u001b[0m\u001b[0m\n",
      "\u001b[1;32mC:\\Progra~1\\Anaconda3_4\\lib\\site-packages\\tensorflow\\python\\client\\session.py\u001b[0m in \u001b[0;36m_run\u001b[1;34m(self, handle, fetches, feed_dict, options, run_metadata)\u001b[0m\n\u001b[0;32m   1133\u001b[0m     \u001b[1;32mif\u001b[0m \u001b[0mfinal_fetches\u001b[0m \u001b[1;32mor\u001b[0m \u001b[0mfinal_targets\u001b[0m \u001b[1;32mor\u001b[0m \u001b[1;33m(\u001b[0m\u001b[0mhandle\u001b[0m \u001b[1;32mand\u001b[0m \u001b[0mfeed_dict_tensor\u001b[0m\u001b[1;33m)\u001b[0m\u001b[1;33m:\u001b[0m\u001b[1;33m\u001b[0m\u001b[0m\n\u001b[0;32m   1134\u001b[0m       results = self._do_run(handle, final_targets, final_fetches,\n\u001b[1;32m-> 1135\u001b[1;33m                              feed_dict_tensor, options, run_metadata)\n\u001b[0m\u001b[0;32m   1136\u001b[0m     \u001b[1;32melse\u001b[0m\u001b[1;33m:\u001b[0m\u001b[1;33m\u001b[0m\u001b[0m\n\u001b[0;32m   1137\u001b[0m       \u001b[0mresults\u001b[0m \u001b[1;33m=\u001b[0m \u001b[1;33m[\u001b[0m\u001b[1;33m]\u001b[0m\u001b[1;33m\u001b[0m\u001b[0m\n",
      "\u001b[1;32mC:\\Progra~1\\Anaconda3_4\\lib\\site-packages\\tensorflow\\python\\client\\session.py\u001b[0m in \u001b[0;36m_do_run\u001b[1;34m(self, handle, target_list, fetch_list, feed_dict, options, run_metadata)\u001b[0m\n\u001b[0;32m   1314\u001b[0m     \u001b[1;32mif\u001b[0m \u001b[0mhandle\u001b[0m \u001b[1;32mis\u001b[0m \u001b[1;32mNone\u001b[0m\u001b[1;33m:\u001b[0m\u001b[1;33m\u001b[0m\u001b[0m\n\u001b[0;32m   1315\u001b[0m       return self._do_call(_run_fn, feeds, fetches, targets, options,\n\u001b[1;32m-> 1316\u001b[1;33m                            run_metadata)\n\u001b[0m\u001b[0;32m   1317\u001b[0m     \u001b[1;32melse\u001b[0m\u001b[1;33m:\u001b[0m\u001b[1;33m\u001b[0m\u001b[0m\n\u001b[0;32m   1318\u001b[0m       \u001b[1;32mreturn\u001b[0m \u001b[0mself\u001b[0m\u001b[1;33m.\u001b[0m\u001b[0m_do_call\u001b[0m\u001b[1;33m(\u001b[0m\u001b[0m_prun_fn\u001b[0m\u001b[1;33m,\u001b[0m \u001b[0mhandle\u001b[0m\u001b[1;33m,\u001b[0m \u001b[0mfeeds\u001b[0m\u001b[1;33m,\u001b[0m \u001b[0mfetches\u001b[0m\u001b[1;33m)\u001b[0m\u001b[1;33m\u001b[0m\u001b[0m\n",
      "\u001b[1;32mC:\\Progra~1\\Anaconda3_4\\lib\\site-packages\\tensorflow\\python\\client\\session.py\u001b[0m in \u001b[0;36m_do_call\u001b[1;34m(self, fn, *args)\u001b[0m\n\u001b[0;32m   1320\u001b[0m   \u001b[1;32mdef\u001b[0m \u001b[0m_do_call\u001b[0m\u001b[1;33m(\u001b[0m\u001b[0mself\u001b[0m\u001b[1;33m,\u001b[0m \u001b[0mfn\u001b[0m\u001b[1;33m,\u001b[0m \u001b[1;33m*\u001b[0m\u001b[0margs\u001b[0m\u001b[1;33m)\u001b[0m\u001b[1;33m:\u001b[0m\u001b[1;33m\u001b[0m\u001b[0m\n\u001b[0;32m   1321\u001b[0m     \u001b[1;32mtry\u001b[0m\u001b[1;33m:\u001b[0m\u001b[1;33m\u001b[0m\u001b[0m\n\u001b[1;32m-> 1322\u001b[1;33m       \u001b[1;32mreturn\u001b[0m \u001b[0mfn\u001b[0m\u001b[1;33m(\u001b[0m\u001b[1;33m*\u001b[0m\u001b[0margs\u001b[0m\u001b[1;33m)\u001b[0m\u001b[1;33m\u001b[0m\u001b[0m\n\u001b[0m\u001b[0;32m   1323\u001b[0m     \u001b[1;32mexcept\u001b[0m \u001b[0merrors\u001b[0m\u001b[1;33m.\u001b[0m\u001b[0mOpError\u001b[0m \u001b[1;32mas\u001b[0m \u001b[0me\u001b[0m\u001b[1;33m:\u001b[0m\u001b[1;33m\u001b[0m\u001b[0m\n\u001b[0;32m   1324\u001b[0m       \u001b[0mmessage\u001b[0m \u001b[1;33m=\u001b[0m \u001b[0mcompat\u001b[0m\u001b[1;33m.\u001b[0m\u001b[0mas_text\u001b[0m\u001b[1;33m(\u001b[0m\u001b[0me\u001b[0m\u001b[1;33m.\u001b[0m\u001b[0mmessage\u001b[0m\u001b[1;33m)\u001b[0m\u001b[1;33m\u001b[0m\u001b[0m\n",
      "\u001b[1;32mC:\\Progra~1\\Anaconda3_4\\lib\\site-packages\\tensorflow\\python\\client\\session.py\u001b[0m in \u001b[0;36m_run_fn\u001b[1;34m(feed_dict, fetch_list, target_list, options, run_metadata)\u001b[0m\n\u001b[0;32m   1305\u001b[0m       \u001b[0mself\u001b[0m\u001b[1;33m.\u001b[0m\u001b[0m_extend_graph\u001b[0m\u001b[1;33m(\u001b[0m\u001b[1;33m)\u001b[0m\u001b[1;33m\u001b[0m\u001b[0m\n\u001b[0;32m   1306\u001b[0m       return self._call_tf_sessionrun(\n\u001b[1;32m-> 1307\u001b[1;33m           options, feed_dict, fetch_list, target_list, run_metadata)\n\u001b[0m\u001b[0;32m   1308\u001b[0m \u001b[1;33m\u001b[0m\u001b[0m\n\u001b[0;32m   1309\u001b[0m     \u001b[1;32mdef\u001b[0m \u001b[0m_prun_fn\u001b[0m\u001b[1;33m(\u001b[0m\u001b[0mhandle\u001b[0m\u001b[1;33m,\u001b[0m \u001b[0mfeed_dict\u001b[0m\u001b[1;33m,\u001b[0m \u001b[0mfetch_list\u001b[0m\u001b[1;33m)\u001b[0m\u001b[1;33m:\u001b[0m\u001b[1;33m\u001b[0m\u001b[0m\n",
      "\u001b[1;32mC:\\Progra~1\\Anaconda3_4\\lib\\site-packages\\tensorflow\\python\\client\\session.py\u001b[0m in \u001b[0;36m_call_tf_sessionrun\u001b[1;34m(self, options, feed_dict, fetch_list, target_list, run_metadata)\u001b[0m\n\u001b[0;32m   1407\u001b[0m       return tf_session.TF_SessionRun_wrapper(\n\u001b[0;32m   1408\u001b[0m           \u001b[0mself\u001b[0m\u001b[1;33m.\u001b[0m\u001b[0m_session\u001b[0m\u001b[1;33m,\u001b[0m \u001b[0moptions\u001b[0m\u001b[1;33m,\u001b[0m \u001b[0mfeed_dict\u001b[0m\u001b[1;33m,\u001b[0m \u001b[0mfetch_list\u001b[0m\u001b[1;33m,\u001b[0m \u001b[0mtarget_list\u001b[0m\u001b[1;33m,\u001b[0m\u001b[1;33m\u001b[0m\u001b[0m\n\u001b[1;32m-> 1409\u001b[1;33m           run_metadata)\n\u001b[0m\u001b[0;32m   1410\u001b[0m     \u001b[1;32melse\u001b[0m\u001b[1;33m:\u001b[0m\u001b[1;33m\u001b[0m\u001b[0m\n\u001b[0;32m   1411\u001b[0m       \u001b[1;32mwith\u001b[0m \u001b[0merrors\u001b[0m\u001b[1;33m.\u001b[0m\u001b[0mraise_exception_on_not_ok_status\u001b[0m\u001b[1;33m(\u001b[0m\u001b[1;33m)\u001b[0m \u001b[1;32mas\u001b[0m \u001b[0mstatus\u001b[0m\u001b[1;33m:\u001b[0m\u001b[1;33m\u001b[0m\u001b[0m\n",
      "\u001b[1;31mKeyboardInterrupt\u001b[0m: "
     ]
    }
   ],
   "source": [
    "model.compile(loss='sparse_categorical_crossentropy', optimizer=optimizer, metrics=['accuracy'])\n",
    "\n",
    "model.fit(x_train, y_train, epochs=1, validation_data=(x_test_keras_scaled, y_test), \n",
    "         # callbacks = [\n",
    "   # baseLogger,\n",
    "    #history,\n",
    "    #tensorboard,\n",
    "    #learningRateScheduler,\n",
    "    #reduceLROnPlateau\n",
    "#], \n",
    "          shuffle=False\n",
    ")\n"
   ]
  },
  {
   "cell_type": "markdown",
   "metadata": {
    "collapsed": true
   },
   "source": [
    "# Save the Model"
   ]
  },
  {
   "cell_type": "code",
   "execution_count": null,
   "metadata": {
    "collapsed": true
   },
   "outputs": [],
   "source": [
    "model.save(path+'model/'+name+'.h5')"
   ]
  },
  {
   "cell_type": "code",
   "execution_count": null,
   "metadata": {},
   "outputs": [],
   "source": [
    "test_loss, test_acc = model.evaluate(x_test_keras_scaled, y_test)\n",
    "print('Test Loss : ',test_loss,' ','Test Accuracy : ', test_acc)"
   ]
  },
  {
   "cell_type": "markdown",
   "metadata": {},
   "source": [
    "# Load Saved Model"
   ]
  },
  {
   "cell_type": "code",
   "execution_count": null,
   "metadata": {
    "collapsed": true
   },
   "outputs": [],
   "source": [
    "#saved_model = load_model(path+'model/ABS_Keras-LSTM254LSTM128D32D2-adam1540234865.h5')"
   ]
  },
  {
   "cell_type": "code",
   "execution_count": null,
   "metadata": {},
   "outputs": [],
   "source": [
    "#test_loss, test_acc = saved_model.evaluate(x_test_keras_scaled, y_test)\n",
    "#print('Test Loss : ',test_loss,' ','Test Accuracy : ', test_acc)"
   ]
  },
  {
   "cell_type": "code",
   "execution_count": null,
   "metadata": {
    "collapsed": true
   },
   "outputs": [],
   "source": []
  },
  {
   "cell_type": "code",
   "execution_count": null,
   "metadata": {
    "collapsed": true
   },
   "outputs": [],
   "source": []
  }
 ],
 "metadata": {
  "kernelspec": {
   "display_name": "Python 3",
   "language": "python",
   "name": "python3"
  },
  "language_info": {
   "codemirror_mode": {
    "name": "ipython",
    "version": 3
   },
   "file_extension": ".py",
   "mimetype": "text/x-python",
   "name": "python",
   "nbconvert_exporter": "python",
   "pygments_lexer": "ipython3",
   "version": "3.6.1"
  }
 },
 "nbformat": 4,
 "nbformat_minor": 2
}
