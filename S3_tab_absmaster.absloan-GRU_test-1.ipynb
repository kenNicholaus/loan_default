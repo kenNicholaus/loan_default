{
 "cells": [
  {
   "cell_type": "code",
   "execution_count": 1,
   "metadata": {
    "scrolled": false
   },
   "outputs": [
    {
     "name": "stderr",
     "output_type": "stream",
     "text": [
      "Using TensorFlow backend.\n"
     ]
    },
    {
     "data": {
      "text/plain": [
       "'1.8.0'"
      ]
     },
     "execution_count": 1,
     "metadata": {},
     "output_type": "execute_result"
    }
   ],
   "source": [
    "import time\n",
    "import pandas as pd\n",
    "import numpy as np\n",
    "from matplotlib import pyplot as plt\n",
    "import tensorflow as tf\n",
    "from tensorflow import keras\n",
    "from keras import optimizers\n",
    "from keras.models import Sequential\n",
    "from keras.layers import Input, Dense, Dropout, LSTM, GRU\n",
    "from keras.models import Model, load_model\n",
    "from keras.callbacks import ModelCheckpoint, TensorBoard\n",
    "from keras import regularizers\n",
    "tf.__version__\n",
    "\n",
    "\n",
    "#import seaborn as sns\n",
    "#from sklearn.model_selection import train_test_split\n",
    "#from sklearn.metrics import confusion_matrix, precision_recall_curve\n",
    "#from sklearn.metrics import recall_score, classification_report, auc, roc_curve\n",
    "#from sklearn.metrics import precision_recall_fscore_support, f1_score\n",
    "#from sklearn.preprocessing import StandardScaler\n",
    "#from pylab import rcParams\n",
    "tf.__version__"
   ]
  },
  {
   "cell_type": "markdown",
   "metadata": {},
   "source": [
    "# Model Name"
   ]
  },
  {
   "cell_type": "code",
   "execution_count": 2,
   "metadata": {
    "collapsed": true
   },
   "outputs": [],
   "source": [
    "name = \"ABS_Keras-GRU254GRU128D32D2-adam{}\".format(int(time.time()))\n",
    "#name_noTime = \"ABS_Keras-LSTM128LSTM128D32D2-adam\""
   ]
  },
  {
   "cell_type": "markdown",
   "metadata": {},
   "source": [
    "# Choose default months & paths, columns(features) and number of loans to load, train/test split"
   ]
  },
  {
   "cell_type": "code",
   "execution_count": 3,
   "metadata": {
    "collapsed": true
   },
   "outputs": [],
   "source": [
    "#parameters to choose\n",
    "\n",
    "default_months = 6\n",
    "nrows = 1000000\n",
    "train_split = 0.90\n",
    "model = keras\n",
    "path = 'c:/users/ugy1/abs/'\n",
    "rows_for_prediction = 1000\n",
    "cutOfffForOriginationDate='2012-01-01'\n",
    "\n",
    "use_columns = ['abs_loan.originationdate', 'abs_loan.originalloanamount','abs_loan.originalloanterm',\n",
    "'abs_loan.originalinterestratepercentage','abs_loan.subvented','abs_loan.vehiclenewusedcode','abs_loan.vehiclevalueamount',\n",
    "'abs_loan.obligorcreditscore','abs_loan.obligorincomeverificationlevelcode','abs_loan.obligoremploymentverificationcode',\n",
    "'abs_loan.paymenttoincomepercentage','abs_loan.remainingtermtomaturitynumber',\n",
    "'abs_loan.reportingperiodbeginningloanbalanceamount','abs_loan.nextreportingperiodpaymentamountdue',\n",
    "'abs_loan.reportingperiodinterestratepercentage','abs_loan.nextinterestratepercentage',\n",
    "'abs_loan.servicingfeepercentage','abs_loan.otherservicerfeeretainedbyservicer',\n",
    "'abs_loan.otherassesseduncollectedservicerfeeamount','abs_loan.scheduledinterestamount', \n",
    "'abs_loan.scheduledprincipalamount','abs_loan.otherprincipaladjustmentamount',\n",
    "'abs_loan.reportingperiodactualendbalanceamount','abs_loan.reportingperiodscheduledpaymentamount',\n",
    "'abs_loan.totalactualamountpaid','abs_loan.actualinterestcollectedamount','abs_loan.actualprincipalcollectedamount',\n",
    "'abs_loan.actualothercollectedamount','abs_loan.serviceradvancedamount', 'abs_loan.currentdelinquencystatus']"
   ]
  },
  {
   "cell_type": "markdown",
   "metadata": {},
   "source": [
    "# GPU Options"
   ]
  },
  {
   "cell_type": "code",
   "execution_count": 4,
   "metadata": {
    "collapsed": true
   },
   "outputs": [],
   "source": [
    "#set gpu options to adjust gpu usage\n",
    "# gpu_options = tf.GPUOptions(per_process_gpu_memory_fraction=0.5)\n",
    "# sess=tf.Session(config=tf.ConfigProto(gpu_options=gpu_options))"
   ]
  },
  {
   "cell_type": "markdown",
   "metadata": {},
   "source": [
    "# Load data"
   ]
  },
  {
   "cell_type": "code",
   "execution_count": 5,
   "metadata": {},
   "outputs": [
    {
     "name": "stdout",
     "output_type": "stream",
     "text": [
      "(1000000, 74)\n"
     ]
    }
   ],
   "source": [
    "#load data from tab delimited file\n",
    "df=pd.read_csv(path+'datasets/s3tab/abs_loan.csv', \n",
    "               #usecols=column_list, \n",
    "               sep='\\t',\n",
    "               nrows=nrows,\n",
    "               low_memory=False, \n",
    "              #index_col='abs_loan.originationdate', \n",
    "               parse_dates=True\n",
    "              )\n",
    "#display data shape\n",
    "print(df.shape)"
   ]
  },
  {
   "cell_type": "code",
   "execution_count": 6,
   "metadata": {},
   "outputs": [
    {
     "data": {
      "text/html": [
       "<div>\n",
       "<style scoped>\n",
       "    .dataframe tbody tr th:only-of-type {\n",
       "        vertical-align: middle;\n",
       "    }\n",
       "\n",
       "    .dataframe tbody tr th {\n",
       "        vertical-align: top;\n",
       "    }\n",
       "\n",
       "    .dataframe thead th {\n",
       "        text-align: right;\n",
       "    }\n",
       "</style>\n",
       "<table border=\"1\" class=\"dataframe\">\n",
       "  <thead>\n",
       "    <tr style=\"text-align: right;\">\n",
       "      <th></th>\n",
       "      <th>abs_loan.cik</th>\n",
       "      <th>abs_loan.accessionnumber</th>\n",
       "      <th>abs_loan.assettypenumber</th>\n",
       "      <th>abs_loan.assetnumber</th>\n",
       "      <th>abs_loan.reportingperiodbeginningdate</th>\n",
       "      <th>abs_loan.reportingperiodendingdate</th>\n",
       "      <th>abs_loan.originatorname</th>\n",
       "      <th>abs_loan.originationdate</th>\n",
       "      <th>abs_loan.originalloanamount</th>\n",
       "      <th>abs_loan.originalloanterm</th>\n",
       "      <th>...</th>\n",
       "      <th>abs_loan.repurchaseamount</th>\n",
       "      <th>abs_loan.demandresolutiondate</th>\n",
       "      <th>abs_loan.repurchasername</th>\n",
       "      <th>abs_loan.repurchasereplacementreasoncode</th>\n",
       "      <th>abs_loan.chargedoffprincipalamount</th>\n",
       "      <th>abs_loan.recoveredamount</th>\n",
       "      <th>abs_loan.modificationtypecode</th>\n",
       "      <th>abs_loan.paymentextendednumber</th>\n",
       "      <th>abs_loan.repossessedindicator</th>\n",
       "      <th>abs_loan.repossessedproceedsamount</th>\n",
       "    </tr>\n",
       "  </thead>\n",
       "  <tbody>\n",
       "    <tr>\n",
       "      <th>0</th>\n",
       "      <td>1725617</td>\n",
       "      <td>0000929638-18-000030</td>\n",
       "      <td>BMW2018-A</td>\n",
       "      <td>1001536189</td>\n",
       "      <td>2017-11-01</td>\n",
       "      <td>2017-11-30</td>\n",
       "      <td>BMW Bank of North America</td>\n",
       "      <td>2012-12-31</td>\n",
       "      <td>25124.50</td>\n",
       "      <td>72</td>\n",
       "      <td>...</td>\n",
       "      <td>0.0</td>\n",
       "      <td>NaN</td>\n",
       "      <td>NaN</td>\n",
       "      <td>[]</td>\n",
       "      <td>0.0</td>\n",
       "      <td>0.0</td>\n",
       "      <td>[]</td>\n",
       "      <td>NaN</td>\n",
       "      <td>False</td>\n",
       "      <td>0.0</td>\n",
       "    </tr>\n",
       "    <tr>\n",
       "      <th>1</th>\n",
       "      <td>1725617</td>\n",
       "      <td>0000929638-18-000030</td>\n",
       "      <td>BMW2018-A</td>\n",
       "      <td>1001536759</td>\n",
       "      <td>2017-11-01</td>\n",
       "      <td>2017-11-30</td>\n",
       "      <td>BMW Bank of North America</td>\n",
       "      <td>2012-12-31</td>\n",
       "      <td>43257.34</td>\n",
       "      <td>72</td>\n",
       "      <td>...</td>\n",
       "      <td>0.0</td>\n",
       "      <td>NaN</td>\n",
       "      <td>NaN</td>\n",
       "      <td>[]</td>\n",
       "      <td>0.0</td>\n",
       "      <td>0.0</td>\n",
       "      <td>[]</td>\n",
       "      <td>NaN</td>\n",
       "      <td>False</td>\n",
       "      <td>0.0</td>\n",
       "    </tr>\n",
       "    <tr>\n",
       "      <th>2</th>\n",
       "      <td>1725617</td>\n",
       "      <td>0000929638-18-000030</td>\n",
       "      <td>BMW2018-A</td>\n",
       "      <td>1001536970</td>\n",
       "      <td>2017-11-01</td>\n",
       "      <td>2017-11-30</td>\n",
       "      <td>BMW Bank of North America</td>\n",
       "      <td>2012-12-31</td>\n",
       "      <td>56917.54</td>\n",
       "      <td>72</td>\n",
       "      <td>...</td>\n",
       "      <td>0.0</td>\n",
       "      <td>NaN</td>\n",
       "      <td>NaN</td>\n",
       "      <td>[]</td>\n",
       "      <td>0.0</td>\n",
       "      <td>0.0</td>\n",
       "      <td>[]</td>\n",
       "      <td>NaN</td>\n",
       "      <td>False</td>\n",
       "      <td>0.0</td>\n",
       "    </tr>\n",
       "    <tr>\n",
       "      <th>3</th>\n",
       "      <td>1725617</td>\n",
       "      <td>0000929638-18-000030</td>\n",
       "      <td>BMW2018-A</td>\n",
       "      <td>1001537061</td>\n",
       "      <td>2017-11-01</td>\n",
       "      <td>2017-11-30</td>\n",
       "      <td>BMW Bank of North America</td>\n",
       "      <td>2012-12-31</td>\n",
       "      <td>42003.57</td>\n",
       "      <td>72</td>\n",
       "      <td>...</td>\n",
       "      <td>0.0</td>\n",
       "      <td>NaN</td>\n",
       "      <td>NaN</td>\n",
       "      <td>[]</td>\n",
       "      <td>0.0</td>\n",
       "      <td>0.0</td>\n",
       "      <td>[]</td>\n",
       "      <td>NaN</td>\n",
       "      <td>False</td>\n",
       "      <td>0.0</td>\n",
       "    </tr>\n",
       "    <tr>\n",
       "      <th>4</th>\n",
       "      <td>1725617</td>\n",
       "      <td>0000929638-18-000030</td>\n",
       "      <td>BMW2018-A</td>\n",
       "      <td>1001537088</td>\n",
       "      <td>2017-11-01</td>\n",
       "      <td>2017-11-30</td>\n",
       "      <td>BMW Bank of North America</td>\n",
       "      <td>2012-12-31</td>\n",
       "      <td>77217.85</td>\n",
       "      <td>72</td>\n",
       "      <td>...</td>\n",
       "      <td>0.0</td>\n",
       "      <td>NaN</td>\n",
       "      <td>NaN</td>\n",
       "      <td>[]</td>\n",
       "      <td>0.0</td>\n",
       "      <td>0.0</td>\n",
       "      <td>[]</td>\n",
       "      <td>NaN</td>\n",
       "      <td>False</td>\n",
       "      <td>0.0</td>\n",
       "    </tr>\n",
       "    <tr>\n",
       "      <th>5</th>\n",
       "      <td>1725617</td>\n",
       "      <td>0000929638-18-000030</td>\n",
       "      <td>BMW2018-A</td>\n",
       "      <td>1001538073</td>\n",
       "      <td>2017-11-01</td>\n",
       "      <td>2017-11-30</td>\n",
       "      <td>BMW Bank of North America</td>\n",
       "      <td>2012-12-31</td>\n",
       "      <td>27784.19</td>\n",
       "      <td>72</td>\n",
       "      <td>...</td>\n",
       "      <td>0.0</td>\n",
       "      <td>NaN</td>\n",
       "      <td>NaN</td>\n",
       "      <td>[]</td>\n",
       "      <td>0.0</td>\n",
       "      <td>0.0</td>\n",
       "      <td>[]</td>\n",
       "      <td>NaN</td>\n",
       "      <td>False</td>\n",
       "      <td>0.0</td>\n",
       "    </tr>\n",
       "    <tr>\n",
       "      <th>6</th>\n",
       "      <td>1725617</td>\n",
       "      <td>0000929638-18-000030</td>\n",
       "      <td>BMW2018-A</td>\n",
       "      <td>1001538680</td>\n",
       "      <td>2017-11-01</td>\n",
       "      <td>2017-11-30</td>\n",
       "      <td>BMW Bank of North America</td>\n",
       "      <td>2012-12-31</td>\n",
       "      <td>43397.80</td>\n",
       "      <td>72</td>\n",
       "      <td>...</td>\n",
       "      <td>0.0</td>\n",
       "      <td>NaN</td>\n",
       "      <td>NaN</td>\n",
       "      <td>[]</td>\n",
       "      <td>0.0</td>\n",
       "      <td>0.0</td>\n",
       "      <td>[]</td>\n",
       "      <td>NaN</td>\n",
       "      <td>False</td>\n",
       "      <td>0.0</td>\n",
       "    </tr>\n",
       "    <tr>\n",
       "      <th>7</th>\n",
       "      <td>1725617</td>\n",
       "      <td>0000929638-18-000030</td>\n",
       "      <td>BMW2018-A</td>\n",
       "      <td>1001565943</td>\n",
       "      <td>2017-11-01</td>\n",
       "      <td>2017-11-30</td>\n",
       "      <td>BMW Bank of North America</td>\n",
       "      <td>2013-02-28</td>\n",
       "      <td>49345.92</td>\n",
       "      <td>72</td>\n",
       "      <td>...</td>\n",
       "      <td>0.0</td>\n",
       "      <td>NaN</td>\n",
       "      <td>NaN</td>\n",
       "      <td>[]</td>\n",
       "      <td>0.0</td>\n",
       "      <td>0.0</td>\n",
       "      <td>[]</td>\n",
       "      <td>NaN</td>\n",
       "      <td>False</td>\n",
       "      <td>0.0</td>\n",
       "    </tr>\n",
       "    <tr>\n",
       "      <th>8</th>\n",
       "      <td>1725617</td>\n",
       "      <td>0000929638-18-000030</td>\n",
       "      <td>BMW2018-A</td>\n",
       "      <td>1001566705</td>\n",
       "      <td>2017-11-01</td>\n",
       "      <td>2017-11-30</td>\n",
       "      <td>BMW Bank of North America</td>\n",
       "      <td>2013-02-28</td>\n",
       "      <td>45763.89</td>\n",
       "      <td>66</td>\n",
       "      <td>...</td>\n",
       "      <td>0.0</td>\n",
       "      <td>NaN</td>\n",
       "      <td>NaN</td>\n",
       "      <td>[]</td>\n",
       "      <td>0.0</td>\n",
       "      <td>0.0</td>\n",
       "      <td>[]</td>\n",
       "      <td>NaN</td>\n",
       "      <td>False</td>\n",
       "      <td>0.0</td>\n",
       "    </tr>\n",
       "    <tr>\n",
       "      <th>9</th>\n",
       "      <td>1725617</td>\n",
       "      <td>0000929638-18-000030</td>\n",
       "      <td>BMW2018-A</td>\n",
       "      <td>1001566738</td>\n",
       "      <td>2017-11-01</td>\n",
       "      <td>2017-11-30</td>\n",
       "      <td>BMW Bank of North America</td>\n",
       "      <td>2013-02-28</td>\n",
       "      <td>45756.02</td>\n",
       "      <td>72</td>\n",
       "      <td>...</td>\n",
       "      <td>0.0</td>\n",
       "      <td>NaN</td>\n",
       "      <td>NaN</td>\n",
       "      <td>[]</td>\n",
       "      <td>0.0</td>\n",
       "      <td>0.0</td>\n",
       "      <td>[]</td>\n",
       "      <td>NaN</td>\n",
       "      <td>False</td>\n",
       "      <td>0.0</td>\n",
       "    </tr>\n",
       "  </tbody>\n",
       "</table>\n",
       "<p>10 rows × 74 columns</p>\n",
       "</div>"
      ],
      "text/plain": [
       "   abs_loan.cik abs_loan.accessionnumber abs_loan.assettypenumber  \\\n",
       "0       1725617     0000929638-18-000030               BMW2018-A    \n",
       "1       1725617     0000929638-18-000030               BMW2018-A    \n",
       "2       1725617     0000929638-18-000030               BMW2018-A    \n",
       "3       1725617     0000929638-18-000030               BMW2018-A    \n",
       "4       1725617     0000929638-18-000030               BMW2018-A    \n",
       "5       1725617     0000929638-18-000030               BMW2018-A    \n",
       "6       1725617     0000929638-18-000030               BMW2018-A    \n",
       "7       1725617     0000929638-18-000030               BMW2018-A    \n",
       "8       1725617     0000929638-18-000030               BMW2018-A    \n",
       "9       1725617     0000929638-18-000030               BMW2018-A    \n",
       "\n",
       "  abs_loan.assetnumber abs_loan.reportingperiodbeginningdate  \\\n",
       "0           1001536189                            2017-11-01   \n",
       "1           1001536759                            2017-11-01   \n",
       "2           1001536970                            2017-11-01   \n",
       "3           1001537061                            2017-11-01   \n",
       "4           1001537088                            2017-11-01   \n",
       "5           1001538073                            2017-11-01   \n",
       "6           1001538680                            2017-11-01   \n",
       "7           1001565943                            2017-11-01   \n",
       "8           1001566705                            2017-11-01   \n",
       "9           1001566738                            2017-11-01   \n",
       "\n",
       "  abs_loan.reportingperiodendingdate    abs_loan.originatorname  \\\n",
       "0                         2017-11-30  BMW Bank of North America   \n",
       "1                         2017-11-30  BMW Bank of North America   \n",
       "2                         2017-11-30  BMW Bank of North America   \n",
       "3                         2017-11-30  BMW Bank of North America   \n",
       "4                         2017-11-30  BMW Bank of North America   \n",
       "5                         2017-11-30  BMW Bank of North America   \n",
       "6                         2017-11-30  BMW Bank of North America   \n",
       "7                         2017-11-30  BMW Bank of North America   \n",
       "8                         2017-11-30  BMW Bank of North America   \n",
       "9                         2017-11-30  BMW Bank of North America   \n",
       "\n",
       "  abs_loan.originationdate  abs_loan.originalloanamount  \\\n",
       "0               2012-12-31                     25124.50   \n",
       "1               2012-12-31                     43257.34   \n",
       "2               2012-12-31                     56917.54   \n",
       "3               2012-12-31                     42003.57   \n",
       "4               2012-12-31                     77217.85   \n",
       "5               2012-12-31                     27784.19   \n",
       "6               2012-12-31                     43397.80   \n",
       "7               2013-02-28                     49345.92   \n",
       "8               2013-02-28                     45763.89   \n",
       "9               2013-02-28                     45756.02   \n",
       "\n",
       "   abs_loan.originalloanterm                ...                  \\\n",
       "0                         72                ...                   \n",
       "1                         72                ...                   \n",
       "2                         72                ...                   \n",
       "3                         72                ...                   \n",
       "4                         72                ...                   \n",
       "5                         72                ...                   \n",
       "6                         72                ...                   \n",
       "7                         72                ...                   \n",
       "8                         66                ...                   \n",
       "9                         72                ...                   \n",
       "\n",
       "  abs_loan.repurchaseamount  abs_loan.demandresolutiondate  \\\n",
       "0                       0.0                            NaN   \n",
       "1                       0.0                            NaN   \n",
       "2                       0.0                            NaN   \n",
       "3                       0.0                            NaN   \n",
       "4                       0.0                            NaN   \n",
       "5                       0.0                            NaN   \n",
       "6                       0.0                            NaN   \n",
       "7                       0.0                            NaN   \n",
       "8                       0.0                            NaN   \n",
       "9                       0.0                            NaN   \n",
       "\n",
       "   abs_loan.repurchasername  abs_loan.repurchasereplacementreasoncode  \\\n",
       "0                       NaN                                        []   \n",
       "1                       NaN                                        []   \n",
       "2                       NaN                                        []   \n",
       "3                       NaN                                        []   \n",
       "4                       NaN                                        []   \n",
       "5                       NaN                                        []   \n",
       "6                       NaN                                        []   \n",
       "7                       NaN                                        []   \n",
       "8                       NaN                                        []   \n",
       "9                       NaN                                        []   \n",
       "\n",
       "   abs_loan.chargedoffprincipalamount abs_loan.recoveredamount  \\\n",
       "0                                 0.0                      0.0   \n",
       "1                                 0.0                      0.0   \n",
       "2                                 0.0                      0.0   \n",
       "3                                 0.0                      0.0   \n",
       "4                                 0.0                      0.0   \n",
       "5                                 0.0                      0.0   \n",
       "6                                 0.0                      0.0   \n",
       "7                                 0.0                      0.0   \n",
       "8                                 0.0                      0.0   \n",
       "9                                 0.0                      0.0   \n",
       "\n",
       "   abs_loan.modificationtypecode  abs_loan.paymentextendednumber  \\\n",
       "0                             []                             NaN   \n",
       "1                             []                             NaN   \n",
       "2                             []                             NaN   \n",
       "3                             []                             NaN   \n",
       "4                             []                             NaN   \n",
       "5                             []                             NaN   \n",
       "6                             []                             NaN   \n",
       "7                             []                             NaN   \n",
       "8                             []                             NaN   \n",
       "9                             []                             NaN   \n",
       "\n",
       "   abs_loan.repossessedindicator abs_loan.repossessedproceedsamount  \n",
       "0                          False                                0.0  \n",
       "1                          False                                0.0  \n",
       "2                          False                                0.0  \n",
       "3                          False                                0.0  \n",
       "4                          False                                0.0  \n",
       "5                          False                                0.0  \n",
       "6                          False                                0.0  \n",
       "7                          False                                0.0  \n",
       "8                          False                                0.0  \n",
       "9                          False                                0.0  \n",
       "\n",
       "[10 rows x 74 columns]"
      ]
     },
     "execution_count": 6,
     "metadata": {},
     "output_type": "execute_result"
    }
   ],
   "source": [
    "#view first five rows of all columns\n",
    "df.head(n=10)"
   ]
  },
  {
   "cell_type": "code",
   "execution_count": 7,
   "metadata": {
    "collapsed": true
   },
   "outputs": [],
   "source": [
    "#remove 'abs_loan.' string from columns because dot is a command in pandas\n",
    "df.columns=df.columns.str.replace('abs_loan.','')"
   ]
  },
  {
   "cell_type": "markdown",
   "metadata": {},
   "source": [
    "# Function to Draw Bar chart"
   ]
  },
  {
   "cell_type": "code",
   "execution_count": 8,
   "metadata": {
    "collapsed": true
   },
   "outputs": [],
   "source": [
    "#function to draw a bar chart \n",
    "def draw(data, title, ylabel, sort = False):\n",
    "    labels = pd.value_counts(data).index.tolist()\n",
    "    count_classes = pd.value_counts(data, sort)\n",
    "    count_classes.plot(kind = 'bar', rot=0)\n",
    "    plt.xticks(range(len(labels)), labels)\n",
    "    plt.title(title)\n",
    "    plt.ylabel(ylabel)\n",
    "    plt.show()\n",
    "    print(pd.value_counts(data))"
   ]
  },
  {
   "cell_type": "markdown",
   "metadata": {},
   "source": [
    "# Reporting Period"
   ]
  },
  {
   "cell_type": "code",
   "execution_count": 9,
   "metadata": {},
   "outputs": [
    {
     "data": {
      "image/png": "[encoded data removed]",
      "text/plain": [
       "<Figure size 432x288 with 1 Axes>"
      ]
     },
     "metadata": {},
     "output_type": "display_data"
    },
    {
     "name": "stdout",
     "output_type": "stream",
     "text": [
      "2017-12-31    187183\n",
      "2017-01-31    180685\n",
      "2018-05-31    120631\n",
      "2017-02-28     99972\n",
      "2017-11-30     55710\n",
      "2018-02-28     53447\n",
      "2018-03-31     53443\n",
      "2018-04-30     53442\n",
      "2018-06-30     53437\n",
      "2018-07-31     53436\n",
      "2018-08-31     53398\n",
      "2017-03-31     20737\n",
      "2016-12-31     14479\n",
      "Name: reportingperiodendingdate, dtype: int64\n"
     ]
    }
   ],
   "source": [
    "draw(df.reportingperiodendingdate, title='reporting period endingdate', ylabel='Number of Loans', sort = True)"
   ]
  },
  {
   "cell_type": "code",
   "execution_count": 10,
   "metadata": {
    "collapsed": true
   },
   "outputs": [],
   "source": [
    "#df=df[df.reportingperiodendingdate=='2017-11-30']"
   ]
  },
  {
   "cell_type": "markdown",
   "metadata": {},
   "source": [
    "# Create Features for Reporting period"
   ]
  },
  {
   "cell_type": "code",
   "execution_count": 11,
   "metadata": {
    "collapsed": true
   },
   "outputs": [],
   "source": [
    "# create feature columns for categories within originator name \n",
    "def map_reportingperiodendingdate(*args):\n",
    "    columns = [col for col in args]\n",
    "    for column in columns:\n",
    "        if column == code:\n",
    "            return 1\n",
    "        else:\n",
    "            return 0\n",
    "codes = pd.value_counts(df.reportingperiodendingdate).index.tolist()\n",
    "\n",
    "for code in codes:\n",
    "        df['reportingperiodending_{}'.format(code)] = list(map(map_reportingperiodendingdate, df.reportingperiodendingdate))\n"
   ]
  },
  {
   "cell_type": "code",
   "execution_count": 12,
   "metadata": {},
   "outputs": [
    {
     "data": {
      "text/plain": [
       "(1000000, 87)"
      ]
     },
     "execution_count": 12,
     "metadata": {},
     "output_type": "execute_result"
    }
   ],
   "source": [
    "df.shape"
   ]
  },
  {
   "cell_type": "markdown",
   "metadata": {},
   "source": [
    "# Number of Days Loans Outstanding"
   ]
  },
  {
   "cell_type": "code",
   "execution_count": 13,
   "metadata": {},
   "outputs": [
    {
     "data": {
      "image/png": "[encoded data removed]",
      "text/plain": [
       "<Figure size 432x288 with 1 Axes>"
      ]
     },
     "metadata": {},
     "output_type": "display_data"
    },
    {
     "name": "stdout",
     "output_type": "stream",
     "text": [
      "31 days      61820\n",
      "0 days       57592\n",
      "61 days      38272\n",
      "245 days     26971\n",
      "275 days     25217\n",
      "365 days     24866\n",
      "92 days      22566\n",
      "273 days     19270\n",
      "426 days     18960\n",
      "577 days     18486\n",
      "334 days     18322\n",
      "304 days     17953\n",
      "151 days     17829\n",
      "212 days     17305\n",
      "214 days     16357\n",
      "396 days     16156\n",
      "306 days     16013\n",
      "243 days     14532\n",
      "638 days     13890\n",
      "669 days     13195\n",
      "59 days      12245\n",
      "120 days     12042\n",
      "181 days     11727\n",
      "546 days     11406\n",
      "730 days     11197\n",
      "608 days     10968\n",
      "62 days      10622\n",
      "516 days     10402\n",
      "457 days     10065\n",
      "90 days       9279\n",
      "             ...  \n",
      "2253 days       39\n",
      "2222 days       39\n",
      "2103 days       37\n",
      "2252 days       32\n",
      "2376 days       31\n",
      "2283 days       29\n",
      "2406 days       28\n",
      "2467 days       26\n",
      "2100 days       26\n",
      "2437 days       25\n",
      "1947 days       25\n",
      "2498 days       23\n",
      "2068 days       21\n",
      "2133 days       19\n",
      "2343 days       19\n",
      "1976 days       18\n",
      "1915 days       18\n",
      "1854 days       18\n",
      "2164 days       17\n",
      "2312 days       14\n",
      "2557 days       12\n",
      "2526 days       10\n",
      "2160 days        7\n",
      "2374 days        6\n",
      "2588 days        4\n",
      "2129 days        3\n",
      "2404 days        2\n",
      "2254 days        2\n",
      "2435 days        2\n",
      "2618 days        1\n",
      "Name: outstandingdays, Length: 282, dtype: int64\n"
     ]
    }
   ],
   "source": [
    "#calculate outstanding days\n",
    "df['outstandingdays'] = pd.to_datetime(df['reportingperiodendingdate'])-pd.to_datetime(df['originationdate'])\n",
    "#draw a chart for visual look and analysis\n",
    "draw(df.outstandingdays, title='Outstanding Days', ylabel='Number of Loans', sort = True)"
   ]
  },
  {
   "cell_type": "code",
   "execution_count": 14,
   "metadata": {},
   "outputs": [
    {
     "data": {
      "text/plain": [
       "999995    396\n",
       "999996    365\n",
       "999997    396\n",
       "999998    396\n",
       "999999    365\n",
       "Name: outstandingdays, dtype: int64"
      ]
     },
     "execution_count": 14,
     "metadata": {},
     "output_type": "execute_result"
    }
   ],
   "source": [
    "#remove days string for machine learning\n",
    "df['outstandingdays']=df.outstandingdays.map(lambda x: np.nan if pd.isnull(x) else x.days)\n",
    "#display last five rows\n",
    "df.outstandingdays.tail()"
   ]
  },
  {
   "cell_type": "code",
   "execution_count": 15,
   "metadata": {},
   "outputs": [
    {
     "name": "stdout",
     "output_type": "stream",
     "text": [
      "No Loans Below zero outstanding days\n"
     ]
    }
   ],
   "source": [
    "# retaining only loans with non-negative outstanding days\n",
    "u=pd.value_counts(df.outstandingdays<0)\n",
    "if len(u)<2:\n",
    "    print('No Loans Below zero outstanding days')\n",
    "else: \n",
    "    print('Number of Loans with negative outstanding days :', u[1])\n",
    "    print('Dropping ', u[1], 'rows and retaining loans with only non-negative outstanding days')\n",
    "    df=df[df.outstandingdays>0]   "
   ]
  },
  {
   "cell_type": "code",
   "execution_count": 16,
   "metadata": {},
   "outputs": [
    {
     "data": {
      "text/plain": [
       "count    1000000.000000\n",
       "mean         476.152630\n",
       "std          460.655651\n",
       "min            0.000000\n",
       "25%          151.000000\n",
       "50%          335.000000\n",
       "75%          638.000000\n",
       "max         2618.000000\n",
       "Name: outstandingdays, dtype: float64"
      ]
     },
     "execution_count": 16,
     "metadata": {},
     "output_type": "execute_result"
    }
   ],
   "source": [
    "# get statistics for outstanding days\n",
    "df.outstandingdays.describe()"
   ]
  },
  {
   "cell_type": "markdown",
   "metadata": {},
   "source": [
    "# Days Left until Maturity"
   ]
  },
  {
   "cell_type": "code",
   "execution_count": 17,
   "metadata": {},
   "outputs": [
    {
     "data": {
      "image/png": "[encoded data removed]",
      "text/plain": [
       "<Figure size 432x288 with 1 Axes>"
      ]
     },
     "metadata": {},
     "output_type": "display_data"
    },
    {
     "name": "stdout",
     "output_type": "stream",
     "text": [
      "2191 days    36003\n",
      "2160 days    29398\n",
      "1461 days    20524\n",
      "1977 days    20256\n",
      "1826 days    20173\n",
      "2192 days    19632\n",
      "1946 days    17270\n",
      "1614 days    16173\n",
      "1795 days    15512\n",
      "2130 days    14969\n",
      "1916 days    14362\n",
      "1522 days    13692\n",
      "1249 days    13622\n",
      "1583 days    13128\n",
      "2161 days    12610\n",
      "1430 days    12582\n",
      "1553 days    12456\n",
      "1675 days    12136\n",
      "1765 days    11577\n",
      "1400 days    10828\n",
      "1492 days    10199\n",
      "1188 days     9838\n",
      "1645 days     9636\n",
      "1157 days     9524\n",
      "1218 days     9281\n",
      "2007 days     9087\n",
      "1096 days     8865\n",
      "1310 days     8806\n",
      "1369 days     8616\n",
      "2222 days     8590\n",
      "             ...  \n",
      "182 days       268\n",
      "-61 days       262\n",
      "-92 days       251\n",
      "-30 days       245\n",
      "59 days        243\n",
      "641 days       236\n",
      "580 days       235\n",
      "62 days        204\n",
      "244 days       186\n",
      "276 days       138\n",
      "215 days       138\n",
      "486 days       127\n",
      "2283 days      112\n",
      "2312 days       81\n",
      "89 days         32\n",
      "-153 days        9\n",
      "881 days         6\n",
      "760 days         5\n",
      "2341 days        3\n",
      "820 days         3\n",
      "-184 days        3\n",
      "-122 days        2\n",
      "6056 days        1\n",
      "4656 days        1\n",
      "3318 days        1\n",
      "2373 days        1\n",
      "-245 days        1\n",
      "5234 days        1\n",
      "4291 days        1\n",
      "3042 days        1\n",
      "Name: daystomaturity, Length: 286, dtype: int64\n"
     ]
    }
   ],
   "source": [
    "#calculate days left until maturity\n",
    "df['daystomaturity'] = pd.to_datetime(df['loanmaturitydate'])-pd.to_datetime(df['reportingperiodendingdate'])\n",
    "draw(df.daystomaturity, title='Days Left Until Maturity', ylabel='Number of Loans', sort=True)"
   ]
  },
  {
   "cell_type": "code",
   "execution_count": 18,
   "metadata": {},
   "outputs": [
    {
     "data": {
      "text/plain": [
       "999995    1795\n",
       "999996    1946\n",
       "999997    1857\n",
       "999998    1795\n",
       "999999    1826\n",
       "Name: daystomaturity, dtype: int64"
      ]
     },
     "execution_count": 18,
     "metadata": {},
     "output_type": "execute_result"
    }
   ],
   "source": [
    "# remove days from the data for machine learning\n",
    "df['daystomaturity']=df.daystomaturity.map(lambda x: np.nan if pd.isnull(x) else x.days)\n",
    "# print last five rows\n",
    "df.daystomaturity.tail()"
   ]
  },
  {
   "cell_type": "code",
   "execution_count": 19,
   "metadata": {},
   "outputs": [
    {
     "name": "stdout",
     "output_type": "stream",
     "text": [
      "Number of Loans with negative outstanding days : 2671\n",
      "Dropping  2671 rows and retaining loans with only non-negative outstanding days\n"
     ]
    }
   ],
   "source": [
    "#retaining only loans with non-negative days to maturity\n",
    "u=pd.value_counts(df.daystomaturity<=0)\n",
    "if len(u)<2:\n",
    "    print('No Loans Below zero outstanding days')\n",
    "else: \n",
    "    print('Number of Loans with negative outstanding days :', u[1])\n",
    "    print('Dropping ', u[1], 'rows and retaining loans with only non-negative outstanding days')\n",
    "    df=df[df.daystomaturity>0]"
   ]
  },
  {
   "cell_type": "code",
   "execution_count": 20,
   "metadata": {},
   "outputs": [
    {
     "data": {
      "text/plain": [
       "(997329, 89)"
      ]
     },
     "execution_count": 20,
     "metadata": {},
     "output_type": "execute_result"
    }
   ],
   "source": [
    "#number of rows and columns of the dataframe\n",
    "df.shape"
   ]
  },
  {
   "cell_type": "code",
   "execution_count": 21,
   "metadata": {},
   "outputs": [
    {
     "data": {
      "text/plain": [
       "count    997329.000000\n",
       "mean       1505.814987\n",
       "std         542.817794\n",
       "min          30.000000\n",
       "25%        1188.000000\n",
       "50%        1583.000000\n",
       "75%        1948.000000\n",
       "max        6056.000000\n",
       "Name: daystomaturity, dtype: float64"
      ]
     },
     "execution_count": 21,
     "metadata": {},
     "output_type": "execute_result"
    }
   ],
   "source": [
    "# statistics for days to maturity\n",
    "df.daystomaturity.describe()"
   ]
  },
  {
   "cell_type": "markdown",
   "metadata": {},
   "source": [
    "# Origination date"
   ]
  },
  {
   "cell_type": "markdown",
   "metadata": {},
   "source": [
    "# Removing loans before origination cutoff date"
   ]
  },
  {
   "cell_type": "code",
   "execution_count": 22,
   "metadata": {},
   "outputs": [
    {
     "name": "stdout",
     "output_type": "stream",
     "text": [
      "Number of rows before 2012-01-01 : 1575\n",
      "Dropping  1575 rows and retaining loans with origination dates after 2012-01-01\n"
     ]
    },
    {
     "data": {
      "text/plain": [
       "(995754, 89)"
      ]
     },
     "execution_count": 22,
     "metadata": {},
     "output_type": "execute_result"
    }
   ],
   "source": [
    "# remove loans with orgination dates set for cut off earlier\n",
    "u=pd.value_counts(df.originationdate<=cutOfffForOriginationDate)\n",
    "if len(u)<2:\n",
    "    print('No origination date rows fall before ',cutOfffForOriginationDate )\n",
    "else: \n",
    "    print('Number of rows before',cutOfffForOriginationDate ,':', u[1])\n",
    "    print('Dropping ', u[1], 'rows and retaining loans with origination dates after', cutOfffForOriginationDate)\n",
    "    df=df[df.originationdate>cutOfffForOriginationDate]\n",
    "#new number of rows and columns of the dataframe\n",
    "df.shape"
   ]
  },
  {
   "cell_type": "code",
   "execution_count": 23,
   "metadata": {},
   "outputs": [
    {
     "data": {
      "image/png": "[encoded data removed]",
      "text/plain": [
       "<Figure size 432x288 with 1 Axes>"
      ]
     },
     "metadata": {},
     "output_type": "display_data"
    },
    {
     "name": "stdout",
     "output_type": "stream",
     "text": [
      "2016-12-31    64574\n",
      "2016-10-31    64272\n",
      "2017-01-31    52433\n",
      "2016-08-31    42772\n",
      "2016-09-30    40922\n",
      "2017-04-30    40713\n",
      "2017-03-31    40303\n",
      "2017-05-31    39985\n",
      "2016-11-30    36773\n",
      "2017-09-30    32881\n",
      "2017-10-31    30065\n",
      "2017-08-31    29296\n",
      "2016-07-31    29048\n",
      "2017-02-28    26752\n",
      "2016-05-31    25476\n",
      "2016-06-30    23716\n",
      "2017-11-30    22231\n",
      "2017-07-31    20604\n",
      "2017-06-30    20330\n",
      "2018-05-31    19960\n",
      "2018-04-30    19525\n",
      "2016-04-30    17206\n",
      "2016-03-31    12062\n",
      "2018-03-31    11635\n",
      "2017-12-31    10692\n",
      "2015-12-31     8650\n",
      "2015-10-31     7977\n",
      "2016-01-31     7806\n",
      "2014-04-30     7451\n",
      "2014-03-31     7225\n",
      "              ...  \n",
      "2013-04-30     4447\n",
      "2014-05-31     3857\n",
      "2014-07-31     3855\n",
      "2013-02-28     3758\n",
      "2014-12-31     3746\n",
      "2013-01-31     3711\n",
      "2013-10-31     3677\n",
      "2012-12-31     3507\n",
      "2013-09-30     3501\n",
      "2012-03-31     3317\n",
      "2014-11-30     3290\n",
      "2014-09-30     3279\n",
      "2015-01-31     3257\n",
      "2013-03-31     3119\n",
      "2018-02-28     3071\n",
      "2014-06-30     3052\n",
      "2015-02-28     2923\n",
      "2014-10-31     2920\n",
      "2014-02-28     2916\n",
      "2012-11-30     2510\n",
      "2012-04-30     2282\n",
      "2012-10-31     1978\n",
      "2012-08-31     1693\n",
      "2012-09-30     1596\n",
      "2012-02-29     1557\n",
      "2012-07-31     1402\n",
      "2012-05-31     1187\n",
      "2012-06-30     1152\n",
      "2018-01-31     1005\n",
      "2012-01-31      541\n",
      "Name: originationdate, Length: 77, dtype: int64\n"
     ]
    }
   ],
   "source": [
    "#set origination date as index\n",
    "#df.set_index(['originationdate'])\n",
    "# draw origination date chart\n",
    "draw(df.originationdate, title='Origination Date', ylabel='Number of Loans', sort=True)"
   ]
  },
  {
   "cell_type": "code",
   "execution_count": 24,
   "metadata": {},
   "outputs": [
    {
     "data": {
      "text/plain": [
       "count         995754\n",
       "unique            77\n",
       "top       2016-12-31\n",
       "freq           64574\n",
       "Name: originationdate, dtype: object"
      ]
     },
     "execution_count": 24,
     "metadata": {},
     "output_type": "execute_result"
    }
   ],
   "source": [
    "# statistics for origination date\n",
    "df.originationdate.describe()"
   ]
  },
  {
   "cell_type": "markdown",
   "metadata": {},
   "source": [
    "# CIK Number"
   ]
  },
  {
   "cell_type": "code",
   "execution_count": 25,
   "metadata": {},
   "outputs": [
    {
     "data": {
      "image/png": "[encoded data removed]",
      "text/plain": [
       "<Figure size 432x288 with 1 Axes>"
      ]
     },
     "metadata": {},
     "output_type": "display_data"
    },
    {
     "name": "stdout",
     "output_type": "stream",
     "text": [
      "1725617    427244\n",
      "1696935     99667\n",
      "1694919     92557\n",
      "1697574     79235\n",
      "1726794     79095\n",
      "1694276     76690\n",
      "1708978     74104\n",
      "1742444     67162\n",
      "Name: cik, dtype: int64\n"
     ]
    }
   ],
   "source": [
    "#draw chart using the function above\n",
    "draw(df.cik, title='cik Number', ylabel='Number of Loans', sort=True)"
   ]
  },
  {
   "cell_type": "code",
   "execution_count": 26,
   "metadata": {},
   "outputs": [
    {
     "data": {
      "text/plain": [
       "(995754, 88)"
      ]
     },
     "execution_count": 26,
     "metadata": {},
     "output_type": "execute_result"
    }
   ],
   "source": [
    "#dropping cik column\n",
    "df.drop(['cik'],axis=1, inplace=True)\n",
    "#new number of rows and columns of the dataframe\n",
    "df.shape"
   ]
  },
  {
   "cell_type": "markdown",
   "metadata": {},
   "source": [
    "# Accession Number"
   ]
  },
  {
   "cell_type": "code",
   "execution_count": 27,
   "metadata": {},
   "outputs": [
    {
     "data": {
      "image/png": "[encoded data removed]",
      "text/plain": [
       "<Figure size 432x288 with 1 Axes>"
      ]
     },
     "metadata": {},
     "output_type": "display_data"
    },
    {
     "name": "stdout",
     "output_type": "stream",
     "text": [
      "0000950131-17-000068    92557\n",
      "0000950131-17-000083    79235\n",
      "0000950131-18-000011    79095\n",
      "0000950131-18-000048    74104\n",
      "0000950123-18-006317    67162\n",
      "0000950131-17-000040    66363\n",
      "0000929638-18-000030    55710\n",
      "0000929638-18-000431    53447\n",
      "0000929638-18-000483    53443\n",
      "0000929638-18-000552    53442\n",
      "0000929638-18-000589    53195\n",
      "0000929638-18-000653    52911\n",
      "0000929638-18-000727    52669\n",
      "0000929638-18-000790    52427\n",
      "0000950131-18-000049    33304\n",
      "0000950131-17-000092    20737\n",
      "0000950131-17-000070    20737\n",
      "0000950131-17-000133    20737\n",
      "0000950131-17-000015    14479\n",
      "Name: accessionnumber, dtype: int64\n"
     ]
    }
   ],
   "source": [
    "# draw chart for accession number\n",
    "draw(df.accessionnumber, title='Accession Number', ylabel='Number of Loans', sort=True)"
   ]
  },
  {
   "cell_type": "code",
   "execution_count": 28,
   "metadata": {},
   "outputs": [
    {
     "data": {
      "text/plain": [
       "(995754, 87)"
      ]
     },
     "execution_count": 28,
     "metadata": {},
     "output_type": "execute_result"
    }
   ],
   "source": [
    "# drop accession number column\n",
    "df.drop(['accessionnumber'],axis=1, inplace=True)\n",
    "# new number of rows and columns of the dataframe\n",
    "df.shape"
   ]
  },
  {
   "cell_type": "markdown",
   "metadata": {},
   "source": [
    "# Asset Type Number"
   ]
  },
  {
   "cell_type": "code",
   "execution_count": 29,
   "metadata": {},
   "outputs": [
    {
     "data": {
      "image/png": "[encoded data removed]",
      "text/plain": [
       "<Figure size 432x288 with 1 Axes>"
      ]
     },
     "metadata": {},
     "output_type": "display_data"
    },
    {
     "name": "stdout",
     "output_type": "stream",
     "text": [
      "BMW2018-A          427244\n",
      "SC                 212620\n",
      "RANDOMID            92557\n",
      "AHFC                79235\n",
      "Loan Number         76690\n",
      "DRIVE0201700001     74104\n",
      "SDART0201700001     33304\n",
      "Name: assettypenumber, dtype: int64\n"
     ]
    }
   ],
   "source": [
    "# draw chart for asset type number\n",
    "draw(df.assettypenumber, title='Asset Type Number', ylabel='Number of Loans', sort=True)"
   ]
  },
  {
   "cell_type": "code",
   "execution_count": 30,
   "metadata": {},
   "outputs": [
    {
     "data": {
      "text/plain": [
       "(995754, 86)"
      ]
     },
     "execution_count": 30,
     "metadata": {},
     "output_type": "execute_result"
    }
   ],
   "source": [
    "# drop asset type number column\n",
    "df.drop(['assettypenumber'],axis=1, inplace=True)\n",
    "# new number of rows and columns of the dataframe\n",
    "df.shape"
   ]
  },
  {
   "cell_type": "markdown",
   "metadata": {},
   "source": [
    "# Reporting Period Beginning Date"
   ]
  },
  {
   "cell_type": "code",
   "execution_count": 31,
   "metadata": {},
   "outputs": [
    {
     "data": {
      "image/png": "[encoded data removed]",
      "text/plain": [
       "<Figure size 432x288 with 1 Axes>"
      ]
     },
     "metadata": {},
     "output_type": "display_data"
    },
    {
     "name": "stdout",
     "output_type": "stream",
     "text": [
      "2017-12-01    186503\n",
      "2017-01-01    179657\n",
      "2018-05-01    120357\n",
      "2017-02-01     99972\n",
      "2017-11-01     55710\n",
      "2018-02-01     53447\n",
      "2018-03-01     53443\n",
      "2018-04-01     53442\n",
      "2018-06-01     52911\n",
      "2018-07-01     52669\n",
      "2018-08-01     52427\n",
      "2017-03-01     20737\n",
      "2016-12-01     14479\n",
      "Name: reportingperiodbeginningdate, dtype: int64\n"
     ]
    }
   ],
   "source": [
    "# draw charts for reporting period beginning date\n",
    "draw(df.reportingperiodbeginningdate, title='accessionnumber', ylabel='Number of Loans', sort=True)"
   ]
  },
  {
   "cell_type": "code",
   "execution_count": 32,
   "metadata": {},
   "outputs": [
    {
     "data": {
      "text/plain": [
       "(995754, 85)"
      ]
     },
     "execution_count": 32,
     "metadata": {},
     "output_type": "execute_result"
    }
   ],
   "source": [
    "# drop reporting period beginning date column\n",
    "df.drop(['reportingperiodbeginningdate'],axis=1, inplace=True)\n",
    "# new number of rows and columns of the dataframe\n",
    "df.shape"
   ]
  },
  {
   "cell_type": "markdown",
   "metadata": {},
   "source": [
    "# Originators Name"
   ]
  },
  {
   "cell_type": "code",
   "execution_count": 33,
   "metadata": {},
   "outputs": [
    {
     "data": {
      "image/png": "[encoded data removed]",
      "text/plain": [
       "<Figure size 432x288 with 1 Axes>"
      ]
     },
     "metadata": {},
     "output_type": "display_data"
    },
    {
     "name": "stdout",
     "output_type": "stream",
     "text": [
      "BMW Bank of North America        426891\n",
      "SC                               320028\n",
      "TMCC                              92557\n",
      "AHFC                              79235\n",
      "Mechanics Bank                    76690\n",
      "BMW Financial Services NA LLC       353\n",
      "Name: originatorname, dtype: int64\n"
     ]
    }
   ],
   "source": [
    "# draw charts for originators name\n",
    "draw(df.originatorname, title='Originators Name', ylabel='Number of Loans', sort=True)"
   ]
  },
  {
   "cell_type": "markdown",
   "metadata": {},
   "source": [
    "# Create Features for Originators"
   ]
  },
  {
   "cell_type": "code",
   "execution_count": 34,
   "metadata": {
    "collapsed": true
   },
   "outputs": [],
   "source": [
    "# create feature columns for categories within originator name \n",
    "def map_originatorname(*args):\n",
    "    columns = [col for col in args]\n",
    "    for column in columns:\n",
    "        if column == code:\n",
    "            return 1\n",
    "        else:\n",
    "            return 0\n",
    "codes = pd.value_counts(df.originatorname).index.tolist()\n",
    "\n",
    "for code in codes:\n",
    "        df['originator_{}'.format(code)] = list(map(map_originatorname, df.originatorname))\n"
   ]
  },
  {
   "cell_type": "code",
   "execution_count": 35,
   "metadata": {},
   "outputs": [
    {
     "data": {
      "text/plain": [
       "(995754, 90)"
      ]
     },
     "execution_count": 35,
     "metadata": {},
     "output_type": "execute_result"
    }
   ],
   "source": [
    "# drop originator name column\n",
    "df.drop(['originatorname'],axis=1, inplace=True)\n",
    "# new number of rows and columns\n",
    "df.shape"
   ]
  },
  {
   "cell_type": "markdown",
   "metadata": {},
   "source": [
    "# Original Loan Amount"
   ]
  },
  {
   "cell_type": "code",
   "execution_count": 36,
   "metadata": {},
   "outputs": [
    {
     "data": {
      "image/png": "[encoded data removed]",
      "text/plain": [
       "<Figure size 432x288 with 1 Axes>"
      ]
     },
     "metadata": {},
     "output_type": "display_data"
    },
    {
     "name": "stdout",
     "output_type": "stream",
     "text": [
      "True     943225\n",
      "False     52529\n",
      "Name: originalloanamount, dtype: int64\n"
     ]
    }
   ],
   "source": [
    "# draw chart for original loan amount as filered in the next variable(original_loan_in_excess) \n",
    "original_loan_in_excess = 10000\n",
    "draw(df.originalloanamount>original_loan_in_excess, title='Original Loan Amount', ylabel='Number of Loans', sort=True)"
   ]
  },
  {
   "cell_type": "code",
   "execution_count": 37,
   "metadata": {},
   "outputs": [
    {
     "data": {
      "image/png": "[encoded data removed]",
      "text/plain": [
       "<Figure size 432x288 with 1 Axes>"
      ]
     },
     "metadata": {},
     "output_type": "display_data"
    }
   ],
   "source": [
    "#draw a chart to view distribution of original loan amount\n",
    "bins = np.linspace(0, 100000, 1000)\n",
    "plt.hist(df.originalloanamount, bins, alpha=0.6, density=True, label='Original Loan Amount')\n",
    "plt.legend(loc='upper right')\n",
    "plt.title(\"Original Amount Loaned\")\n",
    "plt.xlabel('Original Loan amount')\n",
    "plt.ylabel('Percent of Loans')\n",
    "plt.show()"
   ]
  },
  {
   "cell_type": "code",
   "execution_count": 38,
   "metadata": {},
   "outputs": [
    {
     "data": {
      "text/plain": [
       "count    995754.00000\n",
       "mean      26788.92177\n",
       "std       14201.28015\n",
       "min        1624.63000\n",
       "25%       16920.88500\n",
       "50%       24012.50000\n",
       "75%       33218.55750\n",
       "max      189984.12000\n",
       "Name: originalloanamount, dtype: float64"
      ]
     },
     "execution_count": 38,
     "metadata": {},
     "output_type": "execute_result"
    }
   ],
   "source": [
    "# get statistics for original loan amount\n",
    "df.originalloanamount.describe()"
   ]
  },
  {
   "cell_type": "code",
   "execution_count": 39,
   "metadata": {},
   "outputs": [
    {
     "name": "stdout",
     "output_type": "stream",
     "text": [
      "No original loan amount blank or below zero\n"
     ]
    },
    {
     "data": {
      "text/plain": [
       "(995754, 90)"
      ]
     },
     "execution_count": 39,
     "metadata": {},
     "output_type": "execute_result"
    }
   ],
   "source": [
    "# To remove rows with zero, non-negative or blank values for original loan amount\n",
    "\n",
    "u=pd.value_counts(df.originalloanamount<=0)\n",
    "if len(u)<2:\n",
    "    print('No original loan amount blank or below zero')\n",
    "else: \n",
    "    print('Number of original loan amount rows blank or below zero',':', u[1])\n",
    "    print('Dropping ', u[1], 'rows and retaining loans with original loan amount more than zero')\n",
    "    df=df[df.originalloanamount>0]\n",
    "df.shape"
   ]
  },
  {
   "cell_type": "markdown",
   "metadata": {},
   "source": [
    "# Original Loan Term"
   ]
  },
  {
   "cell_type": "code",
   "execution_count": 40,
   "metadata": {},
   "outputs": [
    {
     "data": {
      "image/png": "[encoded data removed]",
      "text/plain": [
       "<Figure size 432x288 with 1 Axes>"
      ]
     },
     "metadata": {},
     "output_type": "display_data"
    },
    {
     "name": "stdout",
     "output_type": "stream",
     "text": [
      "True     913035\n",
      "False     82719\n",
      "Name: originalloanterm, dtype: int64\n"
     ]
    }
   ],
   "source": [
    "# draw chart for original loan term based on the input of variable below(original_loan_term_excess)\n",
    "original_loan_term_excess = 48\n",
    "draw(df.originalloanterm>original_loan_term_excess, title='Original Loan Terms', ylabel='Number of Loans',sort=True)"
   ]
  },
  {
   "cell_type": "code",
   "execution_count": 41,
   "metadata": {},
   "outputs": [
    {
     "data": {
      "image/png": "[encoded data removed]",
      "text/plain": [
       "<Figure size 432x288 with 1 Axes>"
      ]
     },
     "metadata": {},
     "output_type": "display_data"
    }
   ],
   "source": [
    "#chart for the distribution of original loan term\n",
    "bins = np.linspace(0, 84, 12)\n",
    "plt.hist(df.originalloanterm, bins, alpha=0.6, density=True, label='Original Loan Term')\n",
    "plt.legend(loc='upper right')\n",
    "plt.title(\"Original Loan Term\")\n",
    "plt.xlabel('Number of Months')\n",
    "plt.ylabel('Percent of Loans')\n",
    "plt.show()"
   ]
  },
  {
   "cell_type": "code",
   "execution_count": 42,
   "metadata": {},
   "outputs": [
    {
     "data": {
      "text/plain": [
       "count    995754.000000\n",
       "mean         64.608213\n",
       "std           9.537029\n",
       "min          12.000000\n",
       "25%          60.000000\n",
       "50%          66.000000\n",
       "75%          72.000000\n",
       "max          75.000000\n",
       "Name: originalloanterm, dtype: float64"
      ]
     },
     "execution_count": 42,
     "metadata": {},
     "output_type": "execute_result"
    }
   ],
   "source": [
    "#statistics for original loan term\n",
    "df.originalloanterm.describe()"
   ]
  },
  {
   "cell_type": "code",
   "execution_count": 43,
   "metadata": {},
   "outputs": [
    {
     "name": "stdout",
     "output_type": "stream",
     "text": [
      "No original loan term blank or below zero\n"
     ]
    },
    {
     "data": {
      "text/plain": [
       "(995754, 90)"
      ]
     },
     "execution_count": 43,
     "metadata": {},
     "output_type": "execute_result"
    }
   ],
   "source": [
    "# remove rows with zero, blank or negative original loan term\n",
    "\n",
    "u=pd.value_counts(df.originalloanterm<=0)\n",
    "if len(u)<2:\n",
    "    print('No original loan term blank or below zero')\n",
    "else: \n",
    "    print('Number of original loan term rows blank or below zero',':', u[1])\n",
    "    print('Dropping ', u[1], 'rows and retaining loans with original loan term more than zero')\n",
    "    df=df[df.originalloanterm>0]\n",
    "# new number of rows and columns of the dataframe\n",
    "df.shape"
   ]
  },
  {
   "cell_type": "markdown",
   "metadata": {},
   "source": [
    "# Original interest rate percentage"
   ]
  },
  {
   "cell_type": "code",
   "execution_count": 44,
   "metadata": {},
   "outputs": [
    {
     "data": {
      "image/png": "[encoded data removed]",
      "text/plain": [
       "<Figure size 432x288 with 1 Axes>"
      ]
     },
     "metadata": {},
     "output_type": "display_data"
    },
    {
     "name": "stdout",
     "output_type": "stream",
     "text": [
      "True     724342\n",
      "False    271412\n",
      "Name: originalinterestratepercentage, dtype: int64\n"
     ]
    }
   ],
   "source": [
    "# draw a chart with a filter input as below (originalinterestratepercentage_excess)\n",
    "originalinterestratepercentage_excess = 2.0\n",
    "draw(df.originalinterestratepercentage<originalinterestratepercentage_excess, title='Original Interest Rate Percentage', ylabel='Number of Loans',sort=True)"
   ]
  },
  {
   "cell_type": "code",
   "execution_count": 45,
   "metadata": {
    "collapsed": true
   },
   "outputs": [],
   "source": [
    "# get statistices for originalinterestratepercentage\n",
    "#df.originalinterestratepercentage.describe()"
   ]
  },
  {
   "cell_type": "code",
   "execution_count": 46,
   "metadata": {},
   "outputs": [
    {
     "name": "stdout",
     "output_type": "stream",
     "text": [
      "No original interest rate blank or below zero\n"
     ]
    },
    {
     "data": {
      "text/plain": [
       "(995754, 90)"
      ]
     },
     "execution_count": 46,
     "metadata": {},
     "output_type": "execute_result"
    }
   ],
   "source": [
    "# drop rows with blank or negative original interest rate percentage and research on zero interest rate loans\n",
    "u=pd.value_counts(df.originalinterestratepercentage<0)\n",
    "if len(u)<2:\n",
    "    print('No original interest rate blank or below zero')\n",
    "else: \n",
    "    print('Number of original interest rate rows blank or below zero',':', u[1])\n",
    "    print('Dropping ', u[1], 'rows and retaining loans with original interest rate with non-negative values')\n",
    "    df=df[df.originalinterestratepercentage>=0]\n",
    "df.shape"
   ]
  },
  {
   "cell_type": "markdown",
   "metadata": {},
   "source": [
    "# No interest rate loans"
   ]
  },
  {
   "cell_type": "code",
   "execution_count": 47,
   "metadata": {},
   "outputs": [
    {
     "name": "stdout",
     "output_type": "stream",
     "text": [
      "Number of zero original interest rate rows : 35503\n"
     ]
    },
    {
     "data": {
      "text/plain": [
       "(995754, 90)"
      ]
     },
     "execution_count": 47,
     "metadata": {},
     "output_type": "execute_result"
    }
   ],
   "source": [
    "# view zero original interest rate percentage loans\n",
    "u=pd.value_counts(df.originalinterestratepercentage==0)\n",
    "if len(u)<2:\n",
    "    print('No zero original interest rate percentage')\n",
    "else: \n",
    "    print('Number of zero original interest rate rows',':', u[1])\n",
    "    #print('Dropping ', u[1], 'rows and retaining loans with original interest rate with non-negative values')\n",
    "    #df=df[df.originalinterestratepercentage>=0]\n",
    "df.shape"
   ]
  },
  {
   "cell_type": "markdown",
   "metadata": {},
   "source": [
    "# Underwriting Indicator"
   ]
  },
  {
   "cell_type": "code",
   "execution_count": 48,
   "metadata": {},
   "outputs": [
    {
     "data": {
      "image/png": "[encoded data removed]",
      "text/plain": [
       "<Figure size 432x288 with 1 Axes>"
      ]
     },
     "metadata": {},
     "output_type": "display_data"
    },
    {
     "name": "stdout",
     "output_type": "stream",
     "text": [
      "True     804492\n",
      "False    191262\n",
      "Name: underwritingindicator, dtype: int64\n"
     ]
    }
   ],
   "source": [
    "draw(df.underwritingindicator, title='Underwriting Indicator', ylabel='Number of Loans', sort=True)"
   ]
  },
  {
   "cell_type": "markdown",
   "metadata": {},
   "source": [
    "# Create Feature Column for Underwriting TRUE"
   ]
  },
  {
   "cell_type": "code",
   "execution_count": 49,
   "metadata": {},
   "outputs": [
    {
     "data": {
      "text/plain": [
       "1    804492\n",
       "0    191262\n",
       "Name: underwriting_true, dtype: int64"
      ]
     },
     "execution_count": 49,
     "metadata": {},
     "output_type": "execute_result"
    }
   ],
   "source": [
    "def map_underwriting_true(*args):\n",
    "    columns = [col for col in args]\n",
    "    for column in columns:\n",
    "        if column == True:\n",
    "            return 1\n",
    "        elif column == False:\n",
    "            return 0\n",
    "        \n",
    "df['underwriting_true'] = list(map(map_underwriting_true, df.underwritingindicator))\n",
    "df.drop(['underwritingindicator'], axis=1, inplace=True)\n",
    "pd.value_counts(df.underwriting_true)"
   ]
  },
  {
   "cell_type": "markdown",
   "metadata": {},
   "source": [
    "# Subvented"
   ]
  },
  {
   "cell_type": "code",
   "execution_count": 50,
   "metadata": {},
   "outputs": [
    {
     "data": {
      "image/png": "[encoded data removed]",
      "text/plain": [
       "<Figure size 432x288 with 1 Axes>"
      ]
     },
     "metadata": {},
     "output_type": "display_data"
    },
    {
     "name": "stdout",
     "output_type": "stream",
     "text": [
      "[\"0\"]          494290\n",
      "[\"1\"]          370211\n",
      "[\"98\"]          79104\n",
      "[\"2\"]           38718\n",
      "[\"1\",\"2\"]       12817\n",
      "[\"1\",\" 2\"]        590\n",
      "[\"1\",\"98\"]         14\n",
      "[\"1\",\" 98\"]        10\n",
      "Name: subvented, dtype: int64\n"
     ]
    }
   ],
   "source": [
    "draw(df.subvented, title='Subvented', ylabel='Number of Loans', sort=True)"
   ]
  },
  {
   "cell_type": "code",
   "execution_count": 51,
   "metadata": {},
   "outputs": [
    {
     "data": {
      "text/plain": [
       "count     995754\n",
       "unique         8\n",
       "top        [\"0\"]\n",
       "freq      494290\n",
       "Name: subvented, dtype: object"
      ]
     },
     "execution_count": 51,
     "metadata": {},
     "output_type": "execute_result"
    }
   ],
   "source": [
    "df.subvented.describe(include='all')"
   ]
  },
  {
   "cell_type": "markdown",
   "metadata": {},
   "source": [
    "# Create Feature Column for Subvented"
   ]
  },
  {
   "cell_type": "code",
   "execution_count": 52,
   "metadata": {},
   "outputs": [
    {
     "data": {
      "text/plain": [
       "1    501464\n",
       "0    494290\n",
       "Name: subvented_true, dtype: int64"
      ]
     },
     "execution_count": 52,
     "metadata": {},
     "output_type": "execute_result"
    }
   ],
   "source": [
    "def map_subvented_true(*args):\n",
    "    columns = [col for col in args]\n",
    "    for column in columns:\n",
    "        if column == '[\"0\"]':\n",
    "            return 0\n",
    "        else:\n",
    "            return 1\n",
    "        \n",
    "df['subvented_true'] = list(map(map_subvented_true, df.subvented))\n",
    "df.drop(['subvented'], axis=1, inplace=True)\n",
    "pd.value_counts(df.subvented_true)"
   ]
  },
  {
   "cell_type": "markdown",
   "metadata": {},
   "source": [
    "# Vehicle New or Used code"
   ]
  },
  {
   "cell_type": "code",
   "execution_count": 53,
   "metadata": {},
   "outputs": [
    {
     "data": {
      "image/png": "[encoded data removed]",
      "text/plain": [
       "<Figure size 432x288 with 1 Axes>"
      ]
     },
     "metadata": {},
     "output_type": "display_data"
    },
    {
     "name": "stdout",
     "output_type": "stream",
     "text": [
      "2    500012\n",
      "1    495742\n",
      "Name: vehiclenewusedcode, dtype: int64\n"
     ]
    }
   ],
   "source": [
    "draw(df.vehiclenewusedcode, title='Vehicle New or Used code', ylabel='Number of Loans', sort=True)"
   ]
  },
  {
   "cell_type": "markdown",
   "metadata": {},
   "source": [
    "# Create Feature Column for New or Used"
   ]
  },
  {
   "cell_type": "code",
   "execution_count": 54,
   "metadata": {},
   "outputs": [
    {
     "data": {
      "text/plain": [
       "0    500012\n",
       "1    495742\n",
       "Name: vehiclenew_true, dtype: int64"
      ]
     },
     "execution_count": 54,
     "metadata": {},
     "output_type": "execute_result"
    }
   ],
   "source": [
    "def map_vehiclenewusedcode_true(*args):\n",
    "    columns = [col for col in args]\n",
    "    for column in columns:\n",
    "        if column == 1:\n",
    "            return 1\n",
    "        else:\n",
    "            return 0\n",
    "        \n",
    "df['vehiclenew_true'] = list(map(map_vehiclenewusedcode_true, df.vehiclenewusedcode))\n",
    "df.drop(['vehiclenewusedcode'], axis=1, inplace=True)\n",
    "pd.value_counts(df.vehiclenew_true)"
   ]
  },
  {
   "cell_type": "markdown",
   "metadata": {},
   "source": [
    "# Vehicle Type code"
   ]
  },
  {
   "cell_type": "code",
   "execution_count": 55,
   "metadata": {},
   "outputs": [
    {
     "data": {
      "image/png": "[encoded data removed]",
      "text/plain": [
       "<Figure size 432x288 with 1 Axes>"
      ]
     },
     "metadata": {},
     "output_type": "display_data"
    },
    {
     "name": "stdout",
     "output_type": "stream",
     "text": [
      "1     587023\n",
      "3     309839\n",
      "2      66089\n",
      "4      31419\n",
      "99      1384\n",
      "Name: vehicletypecode, dtype: int64\n"
     ]
    }
   ],
   "source": [
    "draw(df.vehicletypecode, title='Vehicle Type Code', ylabel='Number of Loans', sort=True)"
   ]
  },
  {
   "cell_type": "code",
   "execution_count": 56,
   "metadata": {},
   "outputs": [
    {
     "data": {
      "text/plain": [
       "count    995754.000000\n",
       "mean          1.919560\n",
       "std           3.754734\n",
       "min           1.000000\n",
       "25%           1.000000\n",
       "50%           1.000000\n",
       "75%           3.000000\n",
       "max          99.000000\n",
       "Name: vehicletypecode, dtype: float64"
      ]
     },
     "execution_count": 56,
     "metadata": {},
     "output_type": "execute_result"
    }
   ],
   "source": [
    "df.vehicletypecode.describe()"
   ]
  },
  {
   "cell_type": "code",
   "execution_count": 57,
   "metadata": {},
   "outputs": [
    {
     "data": {
      "text/plain": [
       "(995754, 89)"
      ]
     },
     "execution_count": 57,
     "metadata": {},
     "output_type": "execute_result"
    }
   ],
   "source": [
    "df.drop(['vehicletypecode'],axis=1, inplace=True)\n",
    "df.shape"
   ]
  },
  {
   "cell_type": "markdown",
   "metadata": {},
   "source": [
    "# Obligor Credit Score Type"
   ]
  },
  {
   "cell_type": "code",
   "execution_count": 58,
   "metadata": {},
   "outputs": [
    {
     "data": {
      "image/png": "[encoded data removed]",
      "text/plain": [
       "<Figure size 432x288 with 1 Axes>"
      ]
     },
     "metadata": {},
     "output_type": "display_data"
    },
    {
     "name": "stdout",
     "output_type": "stream",
     "text": [
      "FICO                 503934\n",
      "Bureau               320028\n",
      "Credit Bureau         79235\n",
      "FICO Score 2 Auto     70807\n",
      "FICO Score 8 Auto     21750\n",
      "Name: obligorcreditscoretype, dtype: int64\n"
     ]
    }
   ],
   "source": [
    "draw(df.obligorcreditscoretype, title='Obligor Credit Score Type', ylabel='Number of Loans', sort=True)"
   ]
  },
  {
   "cell_type": "code",
   "execution_count": 59,
   "metadata": {},
   "outputs": [
    {
     "data": {
      "text/plain": [
       "count     995754\n",
       "unique         5\n",
       "top         FICO\n",
       "freq      503934\n",
       "Name: obligorcreditscoretype, dtype: object"
      ]
     },
     "execution_count": 59,
     "metadata": {},
     "output_type": "execute_result"
    }
   ],
   "source": [
    "df.obligorcreditscoretype.describe()"
   ]
  },
  {
   "cell_type": "code",
   "execution_count": 60,
   "metadata": {},
   "outputs": [
    {
     "data": {
      "text/plain": [
       "False    995754\n",
       "Name: obligorcreditscoretype, dtype: int64"
      ]
     },
     "execution_count": 60,
     "metadata": {},
     "output_type": "execute_result"
    }
   ],
   "source": [
    "pd.value_counts(df.obligorcreditscoretype==0)"
   ]
  },
  {
   "cell_type": "markdown",
   "metadata": {},
   "source": [
    "# Create features for obligator credit score type"
   ]
  },
  {
   "cell_type": "code",
   "execution_count": 61,
   "metadata": {
    "collapsed": true
   },
   "outputs": [],
   "source": [
    "def map_obligorcreditscoretype(*args):\n",
    "    columns = [col for col in args]\n",
    "    for column in columns:\n",
    "        if column == code:\n",
    "            return 1\n",
    "        else:\n",
    "            return 0\n",
    "codes = pd.value_counts(df.obligorcreditscoretype).index.tolist()\n",
    "\n",
    "for code in codes:\n",
    "        df['credit_type_{}'.format(code)] = list(map(map_obligorcreditscoretype, df.obligorcreditscoretype))\n"
   ]
  },
  {
   "cell_type": "code",
   "execution_count": 62,
   "metadata": {},
   "outputs": [
    {
     "data": {
      "text/plain": [
       "(995754, 93)"
      ]
     },
     "execution_count": 62,
     "metadata": {},
     "output_type": "execute_result"
    }
   ],
   "source": [
    "df.drop(['obligorcreditscoretype'], axis=1, inplace=True)\n",
    "df.shape"
   ]
  },
  {
   "cell_type": "markdown",
   "metadata": {},
   "source": [
    "# Obligor Credit Score"
   ]
  },
  {
   "cell_type": "code",
   "execution_count": 63,
   "metadata": {},
   "outputs": [
    {
     "data": {
      "image/png": "[encoded data removed]",
      "text/plain": [
       "<Figure size 432x288 with 1 Axes>"
      ]
     },
     "metadata": {},
     "output_type": "display_data"
    },
    {
     "name": "stdout",
     "output_type": "stream",
     "text": [
      "825.0    4359\n",
      "677.0    4266\n",
      "818.0    4183\n",
      "827.0    4171\n",
      "817.0    4169\n",
      "831.0    4161\n",
      "826.0    4131\n",
      "824.0    4123\n",
      "816.0    4087\n",
      "830.0    4040\n",
      "834.0    4010\n",
      "828.0    3994\n",
      "833.0    3981\n",
      "805.0    3935\n",
      "822.0    3923\n",
      "815.0    3902\n",
      "836.0    3845\n",
      "814.0    3819\n",
      "820.0    3812\n",
      "812.0    3810\n",
      "853.0    3787\n",
      "821.0    3784\n",
      "842.0    3770\n",
      "705.0    3758\n",
      "832.0    3756\n",
      "747.0    3742\n",
      "837.0    3740\n",
      "823.0    3732\n",
      "738.0    3731\n",
      "810.0    3727\n",
      "         ... \n",
      "399.0      10\n",
      "397.0       7\n",
      "402.0       7\n",
      "389.0       7\n",
      "398.0       7\n",
      "395.0       7\n",
      "393.0       6\n",
      "385.0       5\n",
      "384.0       5\n",
      "391.0       4\n",
      "387.0       4\n",
      "396.0       3\n",
      "374.0       3\n",
      "380.0       3\n",
      "378.0       3\n",
      "383.0       3\n",
      "373.0       2\n",
      "370.0       2\n",
      "381.0       1\n",
      "390.0       1\n",
      "377.0       1\n",
      "375.0       1\n",
      "386.0       1\n",
      "372.0       1\n",
      "371.0       1\n",
      "388.0       1\n",
      "366.0       1\n",
      "363.0       1\n",
      "359.0       1\n",
      "382.0       1\n",
      "Name: obligorcreditscore, Length: 533, dtype: int64\n"
     ]
    }
   ],
   "source": [
    "draw(df.obligorcreditscore, title='Obligor Credit Score', ylabel='Number of Loans', sort=True)"
   ]
  },
  {
   "cell_type": "code",
   "execution_count": 64,
   "metadata": {},
   "outputs": [
    {
     "data": {
      "text/plain": [
       "count    952276.000000\n",
       "mean        717.066552\n",
       "std         106.921404\n",
       "min           0.000000\n",
       "25%         639.000000\n",
       "50%         730.000000\n",
       "75%         806.000000\n",
       "max         900.000000\n",
       "Name: obligorcreditscore, dtype: float64"
      ]
     },
     "execution_count": 64,
     "metadata": {},
     "output_type": "execute_result"
    }
   ],
   "source": [
    "df.obligorcreditscore.describe()"
   ]
  },
  {
   "cell_type": "code",
   "execution_count": 65,
   "metadata": {},
   "outputs": [
    {
     "name": "stdout",
     "output_type": "stream",
     "text": [
      "Number of loans with no credit score : 660\n",
      "Dropping  660 rows and retaining loans with credit score\n"
     ]
    },
    {
     "data": {
      "text/plain": [
       "(951616, 93)"
      ]
     },
     "execution_count": 65,
     "metadata": {},
     "output_type": "execute_result"
    }
   ],
   "source": [
    "u=pd.value_counts(df.obligorcreditscore<=0)\n",
    "if len(u)<2:\n",
    "    print('No blank or zero or negative credit score')\n",
    "else: \n",
    "    print('Number of loans with no credit score',':', u[1])\n",
    "    print('Dropping ', u[1], 'rows and retaining loans with credit score')\n",
    "    df=df[df.obligorcreditscore>0]\n",
    "df.shape"
   ]
  },
  {
   "cell_type": "markdown",
   "metadata": {},
   "source": [
    "# Obligor Income Verification Level Code"
   ]
  },
  {
   "cell_type": "code",
   "execution_count": 66,
   "metadata": {},
   "outputs": [
    {
     "data": {
      "image/png": "[encoded data removed]",
      "text/plain": [
       "<Figure size 432x288 with 1 Axes>"
      ]
     },
     "metadata": {},
     "output_type": "display_data"
    },
    {
     "name": "stdout",
     "output_type": "stream",
     "text": [
      "2    907562\n",
      "3     43947\n",
      "4        90\n",
      "5        17\n",
      "Name: obligorincomeverificationlevelcode, dtype: int64\n"
     ]
    }
   ],
   "source": [
    "draw(df.obligorincomeverificationlevelcode, title='Obligor Credit Score', ylabel='Number of Loans', sort=True)"
   ]
  },
  {
   "cell_type": "code",
   "execution_count": 67,
   "metadata": {},
   "outputs": [
    {
     "data": {
      "text/plain": [
       "count    951616.000000\n",
       "mean          2.046424\n",
       "std           0.211105\n",
       "min           2.000000\n",
       "25%           2.000000\n",
       "50%           2.000000\n",
       "75%           2.000000\n",
       "max           5.000000\n",
       "Name: obligorincomeverificationlevelcode, dtype: float64"
      ]
     },
     "execution_count": 67,
     "metadata": {},
     "output_type": "execute_result"
    }
   ],
   "source": [
    "df.obligorincomeverificationlevelcode.describe()"
   ]
  },
  {
   "cell_type": "code",
   "execution_count": 68,
   "metadata": {},
   "outputs": [
    {
     "name": "stdout",
     "output_type": "stream",
     "text": [
      "No blank or zero obligor income verification level code\n"
     ]
    },
    {
     "data": {
      "text/plain": [
       "(951616, 93)"
      ]
     },
     "execution_count": 68,
     "metadata": {},
     "output_type": "execute_result"
    }
   ],
   "source": [
    "u=pd.value_counts(df.obligorincomeverificationlevelcode<=0)\n",
    "if len(u)<2:\n",
    "    print('No blank or zero obligor income verification level code')\n",
    "else: \n",
    "    print('Number of loans with no obligor income verification level code',':', u[1])\n",
    "    print('Dropping ', u[1], 'rows and retaining loans with obligor income verification level code')\n",
    "    df=df[df.obligorincomeverificationlevelcode>0]\n",
    "df.shape"
   ]
  },
  {
   "cell_type": "markdown",
   "metadata": {},
   "source": [
    "# Create Feature Columns for Obligor Income Verification Code 2,3,4 and 5"
   ]
  },
  {
   "cell_type": "code",
   "execution_count": 69,
   "metadata": {
    "collapsed": true
   },
   "outputs": [],
   "source": [
    "def map_obligorincomeverificationlevelcode(*args):\n",
    "    columns = [col for col in args]\n",
    "    for column in columns:\n",
    "        if column == code:\n",
    "            return 1\n",
    "        else:\n",
    "            return 0\n",
    "codes = pd.value_counts(df.obligorincomeverificationlevelcode).index.tolist()\n",
    "\n",
    "for code in codes:\n",
    "        df['income_code{}'.format(code)] = list(map(map_obligorincomeverificationlevelcode, df.obligorincomeverificationlevelcode))\n"
   ]
  },
  {
   "cell_type": "code",
   "execution_count": 70,
   "metadata": {
    "collapsed": true
   },
   "outputs": [],
   "source": [
    "df.drop(['obligorincomeverificationlevelcode'], axis=1, inplace=True)"
   ]
  },
  {
   "cell_type": "markdown",
   "metadata": {},
   "source": [
    "# Obligor Employment Verification Code"
   ]
  },
  {
   "cell_type": "code",
   "execution_count": 71,
   "metadata": {},
   "outputs": [
    {
     "data": {
      "image/png": "[encoded data removed]",
      "text/plain": [
       "<Figure size 432x288 with 1 Axes>"
      ]
     },
     "metadata": {},
     "output_type": "display_data"
    },
    {
     "name": "stdout",
     "output_type": "stream",
     "text": [
      "2    889602\n",
      "3     43230\n",
      "1     18784\n",
      "Name: obligoremploymentverificationcode, dtype: int64\n"
     ]
    }
   ],
   "source": [
    "draw(df.obligoremploymentverificationcode, title='Obligor Employment Verification Code', ylabel='Number of Loans', sort=True)"
   ]
  },
  {
   "cell_type": "code",
   "execution_count": 72,
   "metadata": {
    "collapsed": true
   },
   "outputs": [],
   "source": [
    "#pd.value_counts(df.obligoremploymentverificationcode==0)"
   ]
  },
  {
   "cell_type": "code",
   "execution_count": 73,
   "metadata": {},
   "outputs": [
    {
     "data": {
      "text/plain": [
       "count    951616.000000\n",
       "mean          2.025689\n",
       "std           0.253983\n",
       "min           1.000000\n",
       "25%           2.000000\n",
       "50%           2.000000\n",
       "75%           2.000000\n",
       "max           3.000000\n",
       "Name: obligoremploymentverificationcode, dtype: float64"
      ]
     },
     "execution_count": 73,
     "metadata": {},
     "output_type": "execute_result"
    }
   ],
   "source": [
    "df.obligoremploymentverificationcode.describe()"
   ]
  },
  {
   "cell_type": "code",
   "execution_count": 74,
   "metadata": {},
   "outputs": [
    {
     "name": "stdout",
     "output_type": "stream",
     "text": [
      "No blank or zero obligor employment verification level code\n"
     ]
    },
    {
     "data": {
      "text/plain": [
       "(951616, 96)"
      ]
     },
     "execution_count": 74,
     "metadata": {},
     "output_type": "execute_result"
    }
   ],
   "source": [
    "u=pd.value_counts(df.obligoremploymentverificationcode<=0)\n",
    "if len(u)<2:\n",
    "    print('No blank or zero obligor employment verification level code')\n",
    "else: \n",
    "    print('Number of loans with no obligor employment verification level code',':', u[1])\n",
    "    print('Dropping ', u[1], 'rows and retaining loans with obligor employment verification level code')\n",
    "    df=df[df.obligoremploymentverificationcode>0]\n",
    "df.shape"
   ]
  },
  {
   "cell_type": "markdown",
   "metadata": {},
   "source": [
    "# Create feature Columns for obligor employment verification code 1,2 and 3"
   ]
  },
  {
   "cell_type": "code",
   "execution_count": 75,
   "metadata": {
    "collapsed": true
   },
   "outputs": [],
   "source": [
    "def map_obligoremploymentverificationcode(*args):\n",
    "    columns = [col for col in args]\n",
    "    for column in columns:\n",
    "        if column == code:\n",
    "            return 1\n",
    "        else:\n",
    "            return 0\n",
    "codes = pd.value_counts(df.obligoremploymentverificationcode).index.tolist()\n",
    "\n",
    "for code in codes:\n",
    "        df['empl_code{}'.format(code)] = list(map(map_obligoremploymentverificationcode, df.obligoremploymentverificationcode))\n"
   ]
  },
  {
   "cell_type": "code",
   "execution_count": 76,
   "metadata": {
    "collapsed": true
   },
   "outputs": [],
   "source": [
    "df.drop(['obligoremploymentverificationcode'], axis=1, inplace=True)"
   ]
  },
  {
   "cell_type": "markdown",
   "metadata": {},
   "source": [
    "# Co-obligator Indicator"
   ]
  },
  {
   "cell_type": "code",
   "execution_count": 77,
   "metadata": {},
   "outputs": [
    {
     "data": {
      "text/plain": [
       "count     951616\n",
       "unique         2\n",
       "top        False\n",
       "freq      667030\n",
       "Name: coobligorindicator, dtype: object"
      ]
     },
     "execution_count": 77,
     "metadata": {},
     "output_type": "execute_result"
    }
   ],
   "source": [
    "df.coobligorindicator.describe()"
   ]
  },
  {
   "cell_type": "code",
   "execution_count": 78,
   "metadata": {},
   "outputs": [
    {
     "data": {
      "image/png": "[encoded data removed]",
      "text/plain": [
       "<Figure size 432x288 with 1 Axes>"
      ]
     },
     "metadata": {},
     "output_type": "display_data"
    },
    {
     "name": "stdout",
     "output_type": "stream",
     "text": [
      "False    667030\n",
      "True     284586\n",
      "Name: coobligorindicator, dtype: int64\n"
     ]
    }
   ],
   "source": [
    "draw(df.coobligorindicator, title='Co-Obligator Indicator', ylabel='Number of Loans', sort=True)"
   ]
  },
  {
   "cell_type": "markdown",
   "metadata": {},
   "source": [
    "# Create features for Co-obligator Indicator True"
   ]
  },
  {
   "cell_type": "code",
   "execution_count": 79,
   "metadata": {},
   "outputs": [
    {
     "data": {
      "text/plain": [
       "0    667030\n",
       "1    284586\n",
       "Name: coobligorindicator_true, dtype: int64"
      ]
     },
     "execution_count": 79,
     "metadata": {},
     "output_type": "execute_result"
    }
   ],
   "source": [
    "def map_coobligorindicator_true(*args):\n",
    "    columns = [col for col in args]\n",
    "    for column in columns:\n",
    "        if column == 1:\n",
    "            return 1\n",
    "        else:\n",
    "            return 0\n",
    "        \n",
    "df['coobligorindicator_true'] = list(map(map_coobligorindicator_true, df.coobligorindicator))\n",
    "df.drop(['coobligorindicator'], axis=1, inplace=True)\n",
    "pd.value_counts(df.coobligorindicator_true)"
   ]
  },
  {
   "cell_type": "markdown",
   "metadata": {},
   "source": [
    "# Reporting Period Actual End Balance Amount"
   ]
  },
  {
   "cell_type": "code",
   "execution_count": 80,
   "metadata": {},
   "outputs": [
    {
     "data": {
      "image/png": "[encoded data removed]",
      "text/plain": [
       "<Figure size 432x288 with 1 Axes>"
      ]
     },
     "metadata": {},
     "output_type": "display_data"
    }
   ],
   "source": [
    "bins = np.linspace(0, 100000, 1000)\n",
    "plt.hist(df.reportingperiodactualendbalanceamount, bins, alpha=0.6, density=True, label='Original Loan Amount')\n",
    "plt.legend(loc='upper right')\n",
    "plt.title(\"Reporting Period Actual End Balance Amount\")\n",
    "plt.xlabel('End Balance amount')\n",
    "plt.ylabel('Percent of Loans')\n",
    "plt.show()"
   ]
  },
  {
   "cell_type": "code",
   "execution_count": 81,
   "metadata": {
    "collapsed": true
   },
   "outputs": [],
   "source": [
    "#draw(df.reportingperiodactualendbalanceamount, title='Reporting Period Actual End Balance Amount', ylabel='Number of Loans', sort=True)"
   ]
  },
  {
   "cell_type": "code",
   "execution_count": 82,
   "metadata": {},
   "outputs": [
    {
     "data": {
      "text/plain": [
       "count    951616.000000\n",
       "mean      19770.364366\n",
       "std       12463.940996\n",
       "min           0.000000\n",
       "25%       11465.480000\n",
       "50%       18059.455000\n",
       "75%       26088.672500\n",
       "max      177603.400000\n",
       "Name: reportingperiodactualendbalanceamount, dtype: float64"
      ]
     },
     "execution_count": 82,
     "metadata": {},
     "output_type": "execute_result"
    }
   ],
   "source": [
    "df.reportingperiodactualendbalanceamount.describe()"
   ]
  },
  {
   "cell_type": "code",
   "execution_count": 83,
   "metadata": {},
   "outputs": [
    {
     "name": "stdout",
     "output_type": "stream",
     "text": [
      "Number of loans with no reporting period actual end balance amount : 38525\n",
      "Dropping  38525 rows and retaining loans with reporting period actual end balance amount\n"
     ]
    },
    {
     "data": {
      "text/plain": [
       "(913091, 98)"
      ]
     },
     "execution_count": 83,
     "metadata": {},
     "output_type": "execute_result"
    }
   ],
   "source": [
    "u=pd.value_counts(df.reportingperiodactualendbalanceamount<=0)\n",
    "if len(u)<2:\n",
    "    print('No blank or zero or negative reporting period actual end balance amount')\n",
    "else: \n",
    "    print('Number of loans with no reporting period actual end balance amount',':', u[1])\n",
    "    print('Dropping ', u[1], 'rows and retaining loans with reporting period actual end balance amount')\n",
    "    df=df[df.reportingperiodactualendbalanceamount>0]\n",
    "df.shape"
   ]
  },
  {
   "cell_type": "markdown",
   "metadata": {},
   "source": [
    "# Total Actual amount paid"
   ]
  },
  {
   "cell_type": "code",
   "execution_count": 84,
   "metadata": {},
   "outputs": [
    {
     "data": {
      "text/plain": [
       "count    913091.000000\n",
       "mean        492.198000\n",
       "std         710.884694\n",
       "min      -72031.970000\n",
       "25%         284.840000\n",
       "50%         436.000000\n",
       "75%         608.000000\n",
       "max       74182.000000\n",
       "Name: totalactualamountpaid, dtype: float64"
      ]
     },
     "execution_count": 84,
     "metadata": {},
     "output_type": "execute_result"
    }
   ],
   "source": [
    "df.totalactualamountpaid.describe()"
   ]
  },
  {
   "cell_type": "code",
   "execution_count": 85,
   "metadata": {},
   "outputs": [
    {
     "name": "stdout",
     "output_type": "stream",
     "text": [
      "Number of loans with no or negative total actual amount paid : 139899\n"
     ]
    },
    {
     "data": {
      "text/plain": [
       "(913091, 98)"
      ]
     },
     "execution_count": 85,
     "metadata": {},
     "output_type": "execute_result"
    }
   ],
   "source": [
    "u=pd.value_counts(df.totalactualamountpaid<=0)\n",
    "if len(u)<2:\n",
    "    print('No blank or zero or negative total actual amount paid')\n",
    "else: \n",
    "    print('Number of loans with no or negative total actual amount paid',':', u[1])\n",
    "    #print('Dropping ', u[1], 'rows and retaining loans with positive total actual amount paid')\n",
    "    #df=df[df.totalactualamountpaid>0]\n",
    "df.shape"
   ]
  },
  {
   "cell_type": "markdown",
   "metadata": {},
   "source": [
    "# Actual interest collected amount"
   ]
  },
  {
   "cell_type": "code",
   "execution_count": 86,
   "metadata": {},
   "outputs": [
    {
     "data": {
      "text/plain": [
       "count    913091.000000\n",
       "mean         89.803571\n",
       "std         136.527782\n",
       "min       -1303.820000\n",
       "25%           9.930000\n",
       "50%          37.240000\n",
       "75%         104.390000\n",
       "max        3447.000000\n",
       "Name: actualinterestcollectedamount, dtype: float64"
      ]
     },
     "execution_count": 86,
     "metadata": {},
     "output_type": "execute_result"
    }
   ],
   "source": [
    "df.actualinterestcollectedamount.describe()"
   ]
  },
  {
   "cell_type": "code",
   "execution_count": 87,
   "metadata": {},
   "outputs": [
    {
     "name": "stdout",
     "output_type": "stream",
     "text": [
      "Number of loans with no or negative actual interest collected amount : 173611\n"
     ]
    },
    {
     "data": {
      "text/plain": [
       "(913091, 98)"
      ]
     },
     "execution_count": 87,
     "metadata": {},
     "output_type": "execute_result"
    }
   ],
   "source": [
    "u=pd.value_counts(df.actualinterestcollectedamount<=0)\n",
    "if len(u)<2:\n",
    "    print('No blank or zero actual interest collected amount')\n",
    "else: \n",
    "    print('Number of loans with no or negative actual interest collected amount',':', u[1])\n",
    "    #print('Dropping ', u[1], 'rows and retaining loans with positive actual interest collected amount')\n",
    "    #df=df[df.actualinterestcollectedamount>0]\n",
    "df.shape"
   ]
  },
  {
   "cell_type": "markdown",
   "metadata": {},
   "source": [
    "# Actual principal collected amount"
   ]
  },
  {
   "cell_type": "code",
   "execution_count": 88,
   "metadata": {},
   "outputs": [
    {
     "data": {
      "text/plain": [
       "count    913091.000000\n",
       "mean        404.455861\n",
       "std         703.709184\n",
       "min      -72031.970000\n",
       "25%         141.100000\n",
       "50%         346.180000\n",
       "75%         527.050000\n",
       "max       74001.130000\n",
       "Name: actualprincipalcollectedamount, dtype: float64"
      ]
     },
     "execution_count": 88,
     "metadata": {},
     "output_type": "execute_result"
    }
   ],
   "source": [
    "df.actualprincipalcollectedamount.describe()"
   ]
  },
  {
   "cell_type": "code",
   "execution_count": 89,
   "metadata": {},
   "outputs": [
    {
     "name": "stdout",
     "output_type": "stream",
     "text": [
      "Number of loans with zero or negative actual principal collected amount : 165657\n"
     ]
    },
    {
     "data": {
      "text/plain": [
       "(913091, 98)"
      ]
     },
     "execution_count": 89,
     "metadata": {},
     "output_type": "execute_result"
    }
   ],
   "source": [
    "u=pd.value_counts(df.actualprincipalcollectedamount<=0)\n",
    "if len(u)<2:\n",
    "    print('No blank or zero actual principal collected amount')\n",
    "else: \n",
    "    print('Number of loans with zero or negative actual principal collected amount',':', u[1])\n",
    "    #print('Dropping ', u[1], 'rows and retaining loans with positive actual principal collected amount')\n",
    "    #df=df[df.actualprincipalcollectedamount>0]\n",
    "df.shape"
   ]
  },
  {
   "cell_type": "markdown",
   "metadata": {},
   "source": [
    "# Interest paid through date"
   ]
  },
  {
   "cell_type": "code",
   "execution_count": 90,
   "metadata": {},
   "outputs": [
    {
     "data": {
      "text/plain": [
       "1900-01-01    34476\n",
       "2017-12-15    10044\n",
       "2017-12-01     7279\n",
       "2017-12-08     6844\n",
       "2017-12-29     6602\n",
       "2017-02-01     6524\n",
       "2017-12-14     6183\n",
       "2017-12-04     5648\n",
       "2017-12-05     5619\n",
       "2017-12-22     5616\n",
       "2017-12-11     5303\n",
       "2017-02-10     5249\n",
       "2017-01-20     5237\n",
       "2017-02-28     5139\n",
       "2017-12-07     5122\n",
       "2017-12-12     5118\n",
       "2017-12-13     5103\n",
       "2017-02-15     5015\n",
       "2017-01-17     4722\n",
       "2017-01-27     4706\n",
       "2017-12-06     4615\n",
       "2017-01-13     4566\n",
       "2017-02-03     4557\n",
       "2017-02-17     4423\n",
       "2017-12-28     4389\n",
       "2017-11-30     4386\n",
       "2018-02-28     4297\n",
       "2018-05-25     4297\n",
       "2017-01-10     4283\n",
       "2017-01-31     4265\n",
       "              ...  \n",
       "2015-08-29        1\n",
       "2014-04-13        1\n",
       "2018-12-03        1\n",
       "2019-08-05        1\n",
       "2021-01-03        1\n",
       "2016-06-25        1\n",
       "2016-07-05        1\n",
       "2016-01-20        1\n",
       "2015-10-14        1\n",
       "2016-07-14        1\n",
       "2015-03-05        1\n",
       "2016-05-20        1\n",
       "2016-02-27        1\n",
       "2019-06-05        1\n",
       "2016-09-19        1\n",
       "2019-07-11        1\n",
       "2020-02-17        1\n",
       "2018-09-27        1\n",
       "2015-05-28        1\n",
       "2016-04-09        1\n",
       "2016-02-23        1\n",
       "2016-02-10        1\n",
       "2019-01-19        1\n",
       "2016-05-05        1\n",
       "2015-11-20        1\n",
       "2018-11-28        1\n",
       "2019-02-10        1\n",
       "2019-03-03        1\n",
       "2019-03-18        1\n",
       "2015-11-07        1\n",
       "Name: interestpaidthroughdate, Length: 1084, dtype: int64"
      ]
     },
     "execution_count": 90,
     "metadata": {},
     "output_type": "execute_result"
    }
   ],
   "source": [
    "pd.value_counts(df.interestpaidthroughdate)"
   ]
  },
  {
   "cell_type": "code",
   "execution_count": 91,
   "metadata": {},
   "outputs": [
    {
     "data": {
      "text/plain": [
       "count         850038\n",
       "unique          1084\n",
       "top       1900-01-01\n",
       "freq           34476\n",
       "Name: interestpaidthroughdate, dtype: object"
      ]
     },
     "execution_count": 91,
     "metadata": {},
     "output_type": "execute_result"
    }
   ],
   "source": [
    "df.interestpaidthroughdate.describe()"
   ]
  },
  {
   "cell_type": "code",
   "execution_count": 92,
   "metadata": {},
   "outputs": [
    {
     "name": "stdout",
     "output_type": "stream",
     "text": [
      "Number of loans with zero or 1900-01-01 as  interest paid throughdate : 34476\n"
     ]
    },
    {
     "data": {
      "text/plain": [
       "(913091, 98)"
      ]
     },
     "execution_count": 92,
     "metadata": {},
     "output_type": "execute_result"
    }
   ],
   "source": [
    "u=pd.value_counts(df.interestpaidthroughdate=='1900-01-01')\n",
    "if len(u)<2:\n",
    "    print('No blank or zero interest paid throughdate as 1900-01-01')\n",
    "else: \n",
    "    print('Number of loans with zero or 1900-01-01 as  interest paid throughdate',':', u[1])\n",
    "    #print('Dropping ', u[1], 'rows and retaining loans with correct interest paid throughdate')\n",
    "    #df=df[df.interestpaidthroughdate>'1900-01-01']\n",
    "df.shape"
   ]
  },
  {
   "cell_type": "code",
   "execution_count": 93,
   "metadata": {},
   "outputs": [
    {
     "data": {
      "text/plain": [
       "(913091, 97)"
      ]
     },
     "execution_count": 93,
     "metadata": {},
     "output_type": "execute_result"
    }
   ],
   "source": [
    "df.drop(['interestpaidthroughdate'], axis=1, inplace=True)\n",
    "df.shape"
   ]
  },
  {
   "cell_type": "markdown",
   "metadata": {},
   "source": [
    "# Days from origination to first payment date"
   ]
  },
  {
   "cell_type": "code",
   "execution_count": 94,
   "metadata": {},
   "outputs": [
    {
     "data": {
      "image/png": "[encoded data removed]",
      "text/plain": [
       "<Figure size 432x288 with 1 Axes>"
      ]
     },
     "metadata": {},
     "output_type": "display_data"
    },
    {
     "name": "stdout",
     "output_type": "stream",
     "text": [
      "31 days     289951\n",
      "61 days     262278\n",
      "30 days     212087\n",
      "59 days      47493\n",
      "62 days      45962\n",
      "28 days      35672\n",
      "60 days       7772\n",
      "0 days        7277\n",
      "29 days       4323\n",
      "92 days        106\n",
      "-31 days        58\n",
      "90 days         47\n",
      "91 days         35\n",
      "89 days         20\n",
      "-62 days         6\n",
      "-30 days         4\n",
      "Name: daystofirstpayment, dtype: int64\n"
     ]
    }
   ],
   "source": [
    "df['daystofirstpayment'] = pd.to_datetime(df['originalfirstpaymentdate'])-pd.to_datetime(df['originationdate'])\n",
    "#draw a chart for visual look and analysis\n",
    "draw(df.daystofirstpayment, title='Days to First Payment', ylabel='Number of Loans', sort = True)\n"
   ]
  },
  {
   "cell_type": "code",
   "execution_count": 95,
   "metadata": {},
   "outputs": [
    {
     "data": {
      "text/plain": [
       "count                     913091\n",
       "mean     42 days 06:48:38.690031\n",
       "std      15 days 09:24:08.745595\n",
       "min           -62 days +00:00:00\n",
       "25%             30 days 00:00:00\n",
       "50%             31 days 00:00:00\n",
       "75%             61 days 00:00:00\n",
       "max             92 days 00:00:00\n",
       "Name: daystofirstpayment, dtype: object"
      ]
     },
     "execution_count": 95,
     "metadata": {},
     "output_type": "execute_result"
    }
   ],
   "source": [
    "df.daystofirstpayment.describe()"
   ]
  },
  {
   "cell_type": "code",
   "execution_count": 96,
   "metadata": {},
   "outputs": [
    {
     "data": {
      "text/plain": [
       "999994    62\n",
       "999995    31\n",
       "999996    31\n",
       "999998    31\n",
       "999999    31\n",
       "Name: daystofirstpayment, dtype: int64"
      ]
     },
     "execution_count": 96,
     "metadata": {},
     "output_type": "execute_result"
    }
   ],
   "source": [
    "#remove days string for machine learning\n",
    "df['daystofirstpayment']=df.daystofirstpayment.map(lambda x: np.nan if pd.isnull(x) else x.days)\n",
    "#display last five rows\n",
    "df.daystofirstpayment.tail()"
   ]
  },
  {
   "cell_type": "code",
   "execution_count": 97,
   "metadata": {},
   "outputs": [
    {
     "name": "stdout",
     "output_type": "stream",
     "text": [
      "Number of loans with zero days to first payment : 7277\n"
     ]
    },
    {
     "data": {
      "text/plain": [
       "(913091, 98)"
      ]
     },
     "execution_count": 97,
     "metadata": {},
     "output_type": "execute_result"
    }
   ],
   "source": [
    "u=pd.value_counts(df.daystofirstpayment==0)\n",
    "if len(u)<2:\n",
    "    print('No blank or zero days to first payment')\n",
    "else: \n",
    "    print('Number of loans with zero days to first payment',':', u[1])\n",
    "    #print('Dropping ', u[1], 'rows and retaining loans with positive total actual amount paid')\n",
    "    #df=df[df.daystofirstpayment>0]\n",
    "df.shape"
   ]
  },
  {
   "cell_type": "code",
   "execution_count": 98,
   "metadata": {},
   "outputs": [
    {
     "data": {
      "text/plain": [
       "(913091, 97)"
      ]
     },
     "execution_count": 98,
     "metadata": {},
     "output_type": "execute_result"
    }
   ],
   "source": [
    "df.drop(['originalfirstpaymentdate'], axis=1, inplace=True)\n",
    "df.shape"
   ]
  },
  {
   "cell_type": "markdown",
   "metadata": {},
   "source": [
    "# Grace Period"
   ]
  },
  {
   "cell_type": "code",
   "execution_count": 99,
   "metadata": {},
   "outputs": [
    {
     "data": {
      "image/png": "[encoded data removed]",
      "text/plain": [
       "<Figure size 432x288 with 1 Axes>"
      ]
     },
     "metadata": {},
     "output_type": "display_data"
    },
    {
     "name": "stdout",
     "output_type": "stream",
     "text": [
      "1    589807\n",
      "2    204364\n",
      "0    118712\n",
      "3       208\n",
      "Name: graceperiodnumber, dtype: int64\n"
     ]
    }
   ],
   "source": [
    "draw(df.graceperiodnumber, title='Grace period Number', ylabel='Number of Loans', sort = True)"
   ]
  },
  {
   "cell_type": "code",
   "execution_count": 100,
   "metadata": {},
   "outputs": [
    {
     "data": {
      "text/plain": [
       "count    913091.000000\n",
       "mean          1.094260\n",
       "std           0.588093\n",
       "min           0.000000\n",
       "25%           1.000000\n",
       "50%           1.000000\n",
       "75%           1.000000\n",
       "max           3.000000\n",
       "Name: graceperiodnumber, dtype: float64"
      ]
     },
     "execution_count": 100,
     "metadata": {},
     "output_type": "execute_result"
    }
   ],
   "source": [
    "df.graceperiodnumber.describe()"
   ]
  },
  {
   "cell_type": "code",
   "execution_count": 101,
   "metadata": {},
   "outputs": [
    {
     "name": "stdout",
     "output_type": "stream",
     "text": [
      "Number of loans with zero grace period number : 118712\n"
     ]
    },
    {
     "data": {
      "text/plain": [
       "(913091, 97)"
      ]
     },
     "execution_count": 101,
     "metadata": {},
     "output_type": "execute_result"
    }
   ],
   "source": [
    "u=pd.value_counts(df.graceperiodnumber==0)\n",
    "if len(u)<2:\n",
    "    print('No blank or zero grace period number')\n",
    "else: \n",
    "    print('Number of loans with zero grace period number',':', u[1])\n",
    "    #print('Dropping ', u[1], 'rows and retaining loans with positive grace period number')\n",
    "    #df=df[df.graceperiodnumber>0]\n",
    "df.shape"
   ]
  },
  {
   "cell_type": "markdown",
   "metadata": {},
   "source": [
    "# Asset added indicator"
   ]
  },
  {
   "cell_type": "code",
   "execution_count": 102,
   "metadata": {},
   "outputs": [
    {
     "data": {
      "image/png": "[encoded data removed]",
      "text/plain": [
       "<Figure size 432x288 with 1 Axes>"
      ]
     },
     "metadata": {},
     "output_type": "display_data"
    },
    {
     "name": "stdout",
     "output_type": "stream",
     "text": [
      "False    641725\n",
      "Name: assetaddedindicator, dtype: int64\n"
     ]
    }
   ],
   "source": [
    "draw(df.assetaddedindicator, title='Asset Added Indicator', ylabel='Number of Loans', sort = True)"
   ]
  },
  {
   "cell_type": "code",
   "execution_count": 103,
   "metadata": {},
   "outputs": [
    {
     "data": {
      "text/plain": [
       "count     641725\n",
       "unique         1\n",
       "top        False\n",
       "freq      641725\n",
       "Name: assetaddedindicator, dtype: object"
      ]
     },
     "execution_count": 103,
     "metadata": {},
     "output_type": "execute_result"
    }
   ],
   "source": [
    "df.assetaddedindicator.describe()"
   ]
  },
  {
   "cell_type": "code",
   "execution_count": 104,
   "metadata": {},
   "outputs": [
    {
     "name": "stdout",
     "output_type": "stream",
     "text": [
      "Number of loans with zero or blank Asset Added Indicator : 271366\n"
     ]
    },
    {
     "data": {
      "text/plain": [
       "(913091, 97)"
      ]
     },
     "execution_count": 104,
     "metadata": {},
     "output_type": "execute_result"
    }
   ],
   "source": [
    "u=pd.value_counts(df.assetaddedindicator!=False)\n",
    "if len(u)<2:\n",
    "    print('No blank or zero Asset Added Indicator')\n",
    "else: \n",
    "    print('Number of loans with zero or blank Asset Added Indicator',':', u[1])\n",
    "    #print('Dropping ', u[1], 'rows and retaining loans with positive asset added indicator')\n",
    "    #df=df[df.assetaddedindicator>0]\n",
    "df.shape"
   ]
  },
  {
   "cell_type": "code",
   "execution_count": 105,
   "metadata": {},
   "outputs": [
    {
     "data": {
      "text/plain": [
       "(913091, 96)"
      ]
     },
     "execution_count": 105,
     "metadata": {},
     "output_type": "execute_result"
    }
   ],
   "source": [
    "df.drop(['assetaddedindicator'], axis=1, inplace=True)\n",
    "df.shape"
   ]
  },
  {
   "cell_type": "markdown",
   "metadata": {},
   "source": [
    "# Reporting Period Modification Indicator"
   ]
  },
  {
   "cell_type": "code",
   "execution_count": 106,
   "metadata": {},
   "outputs": [
    {
     "data": {
      "image/png": "[encoded data removed]",
      "text/plain": [
       "<Figure size 432x288 with 1 Axes>"
      ]
     },
     "metadata": {},
     "output_type": "display_data"
    },
    {
     "name": "stdout",
     "output_type": "stream",
     "text": [
      "False    888294\n",
      "True      24797\n",
      "Name: reportingperiodmodificationindicator, dtype: int64\n"
     ]
    }
   ],
   "source": [
    "draw(df.reportingperiodmodificationindicator, title='Reporting Period Modification Error', ylabel='Number of Loans', sort = True)"
   ]
  },
  {
   "cell_type": "code",
   "execution_count": 107,
   "metadata": {},
   "outputs": [
    {
     "data": {
      "text/plain": [
       "count     913091\n",
       "unique         2\n",
       "top        False\n",
       "freq      888294\n",
       "Name: reportingperiodmodificationindicator, dtype: object"
      ]
     },
     "execution_count": 107,
     "metadata": {},
     "output_type": "execute_result"
    }
   ],
   "source": [
    "df.reportingperiodmodificationindicator.describe()"
   ]
  },
  {
   "cell_type": "markdown",
   "metadata": {},
   "source": [
    "# Create Features for Reporting Period Modification Indicator True"
   ]
  },
  {
   "cell_type": "code",
   "execution_count": 108,
   "metadata": {},
   "outputs": [
    {
     "data": {
      "text/plain": [
       "0    888294\n",
       "1     24797\n",
       "Name: reportingperiodmodificationindicator_true, dtype: int64"
      ]
     },
     "execution_count": 108,
     "metadata": {},
     "output_type": "execute_result"
    }
   ],
   "source": [
    "def map_reportingperiodmodificationindicator_true(*args):\n",
    "    columns = [col for col in args]\n",
    "    for column in columns:\n",
    "        if column == 1:\n",
    "            return 1\n",
    "        else:\n",
    "            return 0\n",
    "        \n",
    "df['reportingperiodmodificationindicator_true'] = list(map(map_reportingperiodmodificationindicator_true, df.reportingperiodmodificationindicator))\n",
    "df.drop(['reportingperiodmodificationindicator'], axis=1, inplace=True)\n",
    "pd.value_counts(df.reportingperiodmodificationindicator_true)"
   ]
  },
  {
   "cell_type": "code",
   "execution_count": 109,
   "metadata": {},
   "outputs": [
    {
     "data": {
      "text/plain": [
       "(913091, 96)"
      ]
     },
     "execution_count": 109,
     "metadata": {},
     "output_type": "execute_result"
    }
   ],
   "source": [
    "df.shape"
   ]
  },
  {
   "cell_type": "markdown",
   "metadata": {},
   "source": [
    "# Servicing Advance Method Code"
   ]
  },
  {
   "cell_type": "code",
   "execution_count": 110,
   "metadata": {},
   "outputs": [
    {
     "data": {
      "image/png": "[encoded data removed]",
      "text/plain": [
       "<Figure size 432x288 with 1 Axes>"
      ]
     },
     "metadata": {},
     "output_type": "display_data"
    },
    {
     "name": "stdout",
     "output_type": "stream",
     "text": [
      "1    827049\n",
      "2     75787\n",
      "4     10255\n",
      "Name: servicingadvancemethodcode, dtype: int64\n"
     ]
    }
   ],
   "source": [
    "draw(df.servicingadvancemethodcode, title='Serving Advance Method Code', ylabel='Number of Loans', sort = True)"
   ]
  },
  {
   "cell_type": "code",
   "execution_count": 111,
   "metadata": {},
   "outputs": [
    {
     "data": {
      "text/plain": [
       "count    913091.000000\n",
       "mean          1.116694\n",
       "std           0.412872\n",
       "min           1.000000\n",
       "25%           1.000000\n",
       "50%           1.000000\n",
       "75%           1.000000\n",
       "max           4.000000\n",
       "Name: servicingadvancemethodcode, dtype: float64"
      ]
     },
     "execution_count": 111,
     "metadata": {},
     "output_type": "execute_result"
    }
   ],
   "source": [
    "df.servicingadvancemethodcode.describe()"
   ]
  },
  {
   "cell_type": "markdown",
   "metadata": {},
   "source": [
    "# Create Feature Columns for Servicing Advance Method Codes"
   ]
  },
  {
   "cell_type": "code",
   "execution_count": 112,
   "metadata": {
    "collapsed": true
   },
   "outputs": [],
   "source": [
    "def map_servicingadvancemethodcode(*args):\n",
    "    columns = [col for col in args]\n",
    "    for column in columns:\n",
    "        if column == code:\n",
    "            return 1\n",
    "        else:\n",
    "            return 0\n",
    "codes = pd.value_counts(df.servicingadvancemethodcode).index.tolist()\n",
    "\n",
    "for code in codes:\n",
    "        df['servicingadvancemethod_code{}'.format(code)] = list(map(map_servicingadvancemethodcode, df.servicingadvancemethodcode))\n"
   ]
  },
  {
   "cell_type": "code",
   "execution_count": 113,
   "metadata": {},
   "outputs": [
    {
     "data": {
      "text/plain": [
       "(913091, 98)"
      ]
     },
     "execution_count": 113,
     "metadata": {},
     "output_type": "execute_result"
    }
   ],
   "source": [
    "df.drop(['servicingadvancemethodcode'], axis=1, inplace=True)\n",
    "df.shape"
   ]
  },
  {
   "cell_type": "markdown",
   "metadata": {},
   "source": [
    "# Other Principal Adjustment Amount"
   ]
  },
  {
   "cell_type": "code",
   "execution_count": 114,
   "metadata": {},
   "outputs": [
    {
     "data": {
      "text/plain": [
       "count    913091.000000\n",
       "mean         35.557263\n",
       "std         527.207743\n",
       "min      -72031.970000\n",
       "25%           0.000000\n",
       "50%           0.000000\n",
       "75%           0.000000\n",
       "max       72995.280000\n",
       "Name: otherprincipaladjustmentamount, dtype: float64"
      ]
     },
     "execution_count": 114,
     "metadata": {},
     "output_type": "execute_result"
    }
   ],
   "source": [
    "df.otherprincipaladjustmentamount.describe()"
   ]
  },
  {
   "cell_type": "code",
   "execution_count": 115,
   "metadata": {},
   "outputs": [
    {
     "name": "stdout",
     "output_type": "stream",
     "text": [
      "Number of loans with zero other principal adjustment amount : 912933\n"
     ]
    },
    {
     "data": {
      "text/plain": [
       "(913091, 98)"
      ]
     },
     "execution_count": 115,
     "metadata": {},
     "output_type": "execute_result"
    }
   ],
   "source": [
    "u=pd.value_counts(df.otherprincipaladjustmentamount!=True)\n",
    "if len(u)<2:\n",
    "    print('No blank other principal adjustment amount')\n",
    "else: \n",
    "    print('Number of loans with zero other principal adjustment amount',':', u[1])\n",
    "    #print('Dropping ', u[1], 'rows and retaining loans with other principal adjustment amount')\n",
    "    #df=df[df.otherprincipaladjustmentamount>0]\n",
    "df.shape"
   ]
  },
  {
   "cell_type": "markdown",
   "metadata": {},
   "source": [
    "# Zero Balance Effective Date"
   ]
  },
  {
   "cell_type": "code",
   "execution_count": 116,
   "metadata": {},
   "outputs": [
    {
     "data": {
      "text/plain": [
       "count            960\n",
       "unique            10\n",
       "top       2018-01-31\n",
       "freq             174\n",
       "Name: zerobalanceeffectivedate, dtype: object"
      ]
     },
     "execution_count": 116,
     "metadata": {},
     "output_type": "execute_result"
    }
   ],
   "source": [
    "df.zerobalanceeffectivedate.describe()\n"
   ]
  },
  {
   "cell_type": "code",
   "execution_count": 117,
   "metadata": {
    "collapsed": true
   },
   "outputs": [],
   "source": [
    "# Creating new feature column for zero balance effective date"
   ]
  },
  {
   "cell_type": "code",
   "execution_count": 118,
   "metadata": {
    "collapsed": true
   },
   "outputs": [],
   "source": [
    "for i in pd.value_counts(df.zerobalanceeffectivedate).keys().tolist():\n",
    "    if i>cutOfffForOriginationDate:\n",
    "        df['zerobalanceeffectivedate_calc'] = pd.to_datetime(df['zerobalanceeffectivedate'])-pd.to_datetime(df['originationdate'])\n",
    "df['zerobalanceeffectivedate_calc']=df.zerobalanceeffectivedate_calc.map(lambda x: np.nan if pd.isnull(x) else x.days)\n",
    "#df.zerobalanceeffectivedate_calc.replace(np.nan, 0, inplace = True)"
   ]
  },
  {
   "cell_type": "code",
   "execution_count": 119,
   "metadata": {},
   "outputs": [
    {
     "data": {
      "text/plain": [
       "count     960.000000\n",
       "mean      502.228125\n",
       "std       315.089168\n",
       "min        30.000000\n",
       "25%       274.000000\n",
       "50%       485.000000\n",
       "75%       639.000000\n",
       "max      1916.000000\n",
       "Name: zerobalanceeffectivedate_calc, dtype: float64"
      ]
     },
     "execution_count": 119,
     "metadata": {},
     "output_type": "execute_result"
    }
   ],
   "source": [
    "df.zerobalanceeffectivedate_calc.describe()"
   ]
  },
  {
   "cell_type": "code",
   "execution_count": 120,
   "metadata": {
    "collapsed": true
   },
   "outputs": [],
   "source": [
    "# fill NaN values with zeros\n",
    "df.zerobalanceeffectivedate_calc.replace(np.nan, 0, inplace = True)"
   ]
  },
  {
   "cell_type": "code",
   "execution_count": 121,
   "metadata": {},
   "outputs": [
    {
     "data": {
      "text/plain": [
       "(913091, 98)"
      ]
     },
     "execution_count": 121,
     "metadata": {},
     "output_type": "execute_result"
    }
   ],
   "source": [
    "df.drop(['zerobalanceeffectivedate'], axis=1, inplace=True)\n",
    "df.shape"
   ]
  },
  {
   "cell_type": "markdown",
   "metadata": {},
   "source": [
    "# Zero Balance Code"
   ]
  },
  {
   "cell_type": "code",
   "execution_count": 122,
   "metadata": {},
   "outputs": [
    {
     "data": {
      "image/png": "[encoded data removed]",
      "text/plain": [
       "<Figure size 432x288 with 1 Axes>"
      ]
     },
     "metadata": {},
     "output_type": "display_data"
    },
    {
     "name": "stdout",
     "output_type": "stream",
     "text": [
      "[]        518290\n",
      "[\"99\"]    393841\n",
      "[\"1\"]        960\n",
      "Name: zerobalancecode, dtype: int64\n"
     ]
    }
   ],
   "source": [
    "draw(df.zerobalancecode, title='Zero Balance Code', ylabel='Number of Loans', sort = True)"
   ]
  },
  {
   "cell_type": "markdown",
   "metadata": {},
   "source": [
    "# Create feature column for zero balance code"
   ]
  },
  {
   "cell_type": "code",
   "execution_count": 123,
   "metadata": {
    "collapsed": true
   },
   "outputs": [],
   "source": [
    "def map_zerobalancecode(*args):\n",
    "    columns = [col for col in args]\n",
    "    for column in columns:\n",
    "        if column == code:\n",
    "            return 1\n",
    "        else:\n",
    "            return 0\n",
    "codes = pd.value_counts(df.zerobalancecode).index.tolist()\n",
    "\n",
    "for code in codes:\n",
    "        df['zerobalance_code{}'.format(code)] = list(map(map_zerobalancecode, df.zerobalancecode))\n"
   ]
  },
  {
   "cell_type": "code",
   "execution_count": 124,
   "metadata": {},
   "outputs": [
    {
     "data": {
      "text/plain": [
       "(913091, 101)"
      ]
     },
     "execution_count": 124,
     "metadata": {},
     "output_type": "execute_result"
    }
   ],
   "source": [
    "df.shape"
   ]
  },
  {
   "cell_type": "code",
   "execution_count": 125,
   "metadata": {},
   "outputs": [
    {
     "data": {
      "text/plain": [
       "(913091, 100)"
      ]
     },
     "execution_count": 125,
     "metadata": {},
     "output_type": "execute_result"
    }
   ],
   "source": [
    "df.drop(['zerobalancecode'], axis=1, inplace=True)\n",
    "df.shape"
   ]
  },
  {
   "cell_type": "code",
   "execution_count": 126,
   "metadata": {
    "collapsed": true
   },
   "outputs": [],
   "source": [
    "drop_list = [\n",
    "    'assetnumber',\n",
    " 'reportingperiodendingdate',\n",
    " 'loanmaturitydate',\n",
    " 'interestcalculationtypecode',\n",
    " 'originalinterestratetypecode',\n",
    " 'originalinterestonlytermnumber',\n",
    "# #'originalfirstpaymentdate',\n",
    "# #'graceperiodnumber',\n",
    " 'paymenttypecode',\n",
    " 'vehiclemanufacturername',\n",
    " 'vehiclemodelname',\n",
    " 'vehiclemodelyear',\n",
    " 'vehiclevalueamount',\n",
    " 'vehiclevaluesourcecode',\n",
    " 'obligorgeographiclocation',\n",
    " ##'assetaddedindicator',\n",
    " 'remainingtermtomaturitynumber',\n",
    " ##'reportingperiodmodificationindicator',\n",
    " ##'servicingadvancemethodcode',\n",
    " 'servicingflatfeeamount',\n",
    " 'otherservicerfeeretainedbyservicer',\n",
    " 'otherassesseduncollectedservicerfeeamount',\n",
    " ##'otherprincipaladjustmentamount',\n",
    " 'actualothercollectedamount',\n",
    " 'serviceradvancedamount',\n",
    " ##'zerobalanceeffectivedate',\n",
    " ##'zerobalancecode',\n",
    " 'primaryloanservicername',\n",
    " 'mostrecentservicingtransferreceiveddate',\n",
    " 'assetsubjectdemandindicator',\n",
    " 'assetsubjectdemandstatuscode',\n",
    " 'repurchaseamount',\n",
    " 'demandresolutiondate',\n",
    " 'repurchasername',\n",
    " 'repurchasereplacementreasoncode',\n",
    " 'chargedoffprincipalamount',\n",
    " 'recoveredamount',\n",
    " 'modificationtypecode',\n",
    " 'paymentextendednumber',\n",
    " 'repossessedindicator',\n",
    " 'repossessedproceedsamount'\n",
    " ]"
   ]
  },
  {
   "cell_type": "code",
   "execution_count": 127,
   "metadata": {
    "collapsed": true,
    "scrolled": false
   },
   "outputs": [],
   "source": [
    "# for i in drop_list[:]:\n",
    "#     print(i, pd.value_counts(df[i]))"
   ]
  },
  {
   "cell_type": "code",
   "execution_count": null,
   "metadata": {
    "collapsed": true
   },
   "outputs": [],
   "source": []
  },
  {
   "cell_type": "code",
   "execution_count": null,
   "metadata": {
    "collapsed": true
   },
   "outputs": [],
   "source": []
  },
  {
   "cell_type": "code",
   "execution_count": 128,
   "metadata": {
    "collapsed": true
   },
   "outputs": [],
   "source": [
    "df.drop(drop_list,axis=1, inplace=True)\n"
   ]
  },
  {
   "cell_type": "code",
   "execution_count": null,
   "metadata": {
    "collapsed": true
   },
   "outputs": [],
   "source": []
  },
  {
   "cell_type": "code",
   "execution_count": 129,
   "metadata": {},
   "outputs": [
    {
     "data": {
      "text/plain": [
       "['originationdate',\n",
       " 'originalloanamount',\n",
       " 'originalloanterm',\n",
       " 'originalinterestratepercentage',\n",
       " 'graceperiodnumber',\n",
       " 'obligorcreditscore',\n",
       " 'paymenttoincomepercentage',\n",
       " 'reportingperiodbeginningloanbalanceamount',\n",
       " 'nextreportingperiodpaymentamountdue',\n",
       " 'reportingperiodinterestratepercentage',\n",
       " 'nextinterestratepercentage',\n",
       " 'servicingfeepercentage',\n",
       " 'scheduledinterestamount',\n",
       " 'scheduledprincipalamount',\n",
       " 'otherprincipaladjustmentamount',\n",
       " 'reportingperiodactualendbalanceamount',\n",
       " 'reportingperiodscheduledpaymentamount',\n",
       " 'totalactualamountpaid',\n",
       " 'actualinterestcollectedamount',\n",
       " 'actualprincipalcollectedamount',\n",
       " 'currentdelinquencystatus',\n",
       " 'reportingperiodending_2017-12-31',\n",
       " 'reportingperiodending_2017-01-31',\n",
       " 'reportingperiodending_2018-05-31',\n",
       " 'reportingperiodending_2017-02-28',\n",
       " 'reportingperiodending_2017-11-30',\n",
       " 'reportingperiodending_2018-02-28',\n",
       " 'reportingperiodending_2018-03-31',\n",
       " 'reportingperiodending_2018-04-30',\n",
       " 'reportingperiodending_2018-06-30',\n",
       " 'reportingperiodending_2018-07-31',\n",
       " 'reportingperiodending_2018-08-31',\n",
       " 'reportingperiodending_2017-03-31',\n",
       " 'reportingperiodending_2016-12-31',\n",
       " 'outstandingdays',\n",
       " 'daystomaturity',\n",
       " 'originator_BMW Bank of North America',\n",
       " 'originator_SC',\n",
       " 'originator_TMCC',\n",
       " 'originator_AHFC',\n",
       " 'originator_Mechanics Bank',\n",
       " 'originator_BMW Financial Services NA LLC',\n",
       " 'underwriting_true',\n",
       " 'subvented_true',\n",
       " 'vehiclenew_true',\n",
       " 'credit_type_FICO',\n",
       " 'credit_type_Bureau',\n",
       " 'credit_type_Credit Bureau',\n",
       " 'credit_type_FICO Score 2 Auto',\n",
       " 'credit_type_FICO Score 8 Auto',\n",
       " 'income_code2',\n",
       " 'income_code3',\n",
       " 'income_code4',\n",
       " 'income_code5',\n",
       " 'empl_code2',\n",
       " 'empl_code3',\n",
       " 'empl_code1',\n",
       " 'coobligorindicator_true',\n",
       " 'daystofirstpayment',\n",
       " 'reportingperiodmodificationindicator_true',\n",
       " 'servicingadvancemethod_code1',\n",
       " 'servicingadvancemethod_code2',\n",
       " 'servicingadvancemethod_code4',\n",
       " 'zerobalanceeffectivedate_calc',\n",
       " 'zerobalance_code[]',\n",
       " 'zerobalance_code[\"99\"]',\n",
       " 'zerobalance_code[\"1\"]']"
      ]
     },
     "execution_count": 129,
     "metadata": {},
     "output_type": "execute_result"
    }
   ],
   "source": [
    "df.shape\n",
    "df.columns.tolist()"
   ]
  },
  {
   "cell_type": "code",
   "execution_count": 130,
   "metadata": {},
   "outputs": [
    {
     "data": {
      "text/html": [
       "<div>\n",
       "<style scoped>\n",
       "    .dataframe tbody tr th:only-of-type {\n",
       "        vertical-align: middle;\n",
       "    }\n",
       "\n",
       "    .dataframe tbody tr th {\n",
       "        vertical-align: top;\n",
       "    }\n",
       "\n",
       "    .dataframe thead th {\n",
       "        text-align: right;\n",
       "    }\n",
       "</style>\n",
       "<table border=\"1\" class=\"dataframe\">\n",
       "  <thead>\n",
       "    <tr style=\"text-align: right;\">\n",
       "      <th></th>\n",
       "      <th>originalloanamount</th>\n",
       "      <th>originalloanterm</th>\n",
       "      <th>originalinterestratepercentage</th>\n",
       "      <th>graceperiodnumber</th>\n",
       "      <th>obligorcreditscore</th>\n",
       "      <th>paymenttoincomepercentage</th>\n",
       "      <th>reportingperiodbeginningloanbalanceamount</th>\n",
       "      <th>nextreportingperiodpaymentamountdue</th>\n",
       "      <th>reportingperiodinterestratepercentage</th>\n",
       "      <th>nextinterestratepercentage</th>\n",
       "      <th>...</th>\n",
       "      <th>coobligorindicator_true</th>\n",
       "      <th>daystofirstpayment</th>\n",
       "      <th>reportingperiodmodificationindicator_true</th>\n",
       "      <th>servicingadvancemethod_code1</th>\n",
       "      <th>servicingadvancemethod_code2</th>\n",
       "      <th>servicingadvancemethod_code4</th>\n",
       "      <th>zerobalanceeffectivedate_calc</th>\n",
       "      <th>zerobalance_code[]</th>\n",
       "      <th>zerobalance_code[\"99\"]</th>\n",
       "      <th>zerobalance_code[\"1\"]</th>\n",
       "    </tr>\n",
       "    <tr>\n",
       "      <th>originationdate</th>\n",
       "      <th></th>\n",
       "      <th></th>\n",
       "      <th></th>\n",
       "      <th></th>\n",
       "      <th></th>\n",
       "      <th></th>\n",
       "      <th></th>\n",
       "      <th></th>\n",
       "      <th></th>\n",
       "      <th></th>\n",
       "      <th></th>\n",
       "      <th></th>\n",
       "      <th></th>\n",
       "      <th></th>\n",
       "      <th></th>\n",
       "      <th></th>\n",
       "      <th></th>\n",
       "      <th></th>\n",
       "      <th></th>\n",
       "      <th></th>\n",
       "      <th></th>\n",
       "    </tr>\n",
       "  </thead>\n",
       "  <tbody>\n",
       "    <tr>\n",
       "      <th>2012-12-31</th>\n",
       "      <td>25124.50</td>\n",
       "      <td>72</td>\n",
       "      <td>3.2900</td>\n",
       "      <td>0</td>\n",
       "      <td>812.0</td>\n",
       "      <td>2.660000</td>\n",
       "      <td>4850.55</td>\n",
       "      <td>0.00</td>\n",
       "      <td>3.3423</td>\n",
       "      <td>3.3423</td>\n",
       "      <td>...</td>\n",
       "      <td>0</td>\n",
       "      <td>31</td>\n",
       "      <td>0</td>\n",
       "      <td>1</td>\n",
       "      <td>0</td>\n",
       "      <td>0</td>\n",
       "      <td>0.0</td>\n",
       "      <td>0</td>\n",
       "      <td>1</td>\n",
       "      <td>0</td>\n",
       "    </tr>\n",
       "    <tr>\n",
       "      <th>2012-12-31</th>\n",
       "      <td>43257.34</td>\n",
       "      <td>72</td>\n",
       "      <td>3.2900</td>\n",
       "      <td>1</td>\n",
       "      <td>817.0</td>\n",
       "      <td>3.990000</td>\n",
       "      <td>8966.77</td>\n",
       "      <td>0.00</td>\n",
       "      <td>3.3416</td>\n",
       "      <td>3.3416</td>\n",
       "      <td>...</td>\n",
       "      <td>0</td>\n",
       "      <td>59</td>\n",
       "      <td>0</td>\n",
       "      <td>1</td>\n",
       "      <td>0</td>\n",
       "      <td>0</td>\n",
       "      <td>0.0</td>\n",
       "      <td>0</td>\n",
       "      <td>1</td>\n",
       "      <td>0</td>\n",
       "    </tr>\n",
       "    <tr>\n",
       "      <th>2012-12-31</th>\n",
       "      <td>56917.54</td>\n",
       "      <td>72</td>\n",
       "      <td>3.2900</td>\n",
       "      <td>1</td>\n",
       "      <td>818.0</td>\n",
       "      <td>6.970000</td>\n",
       "      <td>12817.43</td>\n",
       "      <td>0.00</td>\n",
       "      <td>3.3450</td>\n",
       "      <td>3.3450</td>\n",
       "      <td>...</td>\n",
       "      <td>0</td>\n",
       "      <td>59</td>\n",
       "      <td>0</td>\n",
       "      <td>1</td>\n",
       "      <td>0</td>\n",
       "      <td>0</td>\n",
       "      <td>0.0</td>\n",
       "      <td>0</td>\n",
       "      <td>1</td>\n",
       "      <td>0</td>\n",
       "    </tr>\n",
       "    <tr>\n",
       "      <th>2012-12-31</th>\n",
       "      <td>42003.57</td>\n",
       "      <td>72</td>\n",
       "      <td>3.2900</td>\n",
       "      <td>1</td>\n",
       "      <td>791.0</td>\n",
       "      <td>2.960000</td>\n",
       "      <td>8798.55</td>\n",
       "      <td>0.00</td>\n",
       "      <td>3.3424</td>\n",
       "      <td>3.3424</td>\n",
       "      <td>...</td>\n",
       "      <td>0</td>\n",
       "      <td>31</td>\n",
       "      <td>0</td>\n",
       "      <td>1</td>\n",
       "      <td>0</td>\n",
       "      <td>0</td>\n",
       "      <td>0.0</td>\n",
       "      <td>0</td>\n",
       "      <td>1</td>\n",
       "      <td>0</td>\n",
       "    </tr>\n",
       "    <tr>\n",
       "      <th>2012-12-31</th>\n",
       "      <td>77217.85</td>\n",
       "      <td>72</td>\n",
       "      <td>3.2900</td>\n",
       "      <td>1</td>\n",
       "      <td>712.0</td>\n",
       "      <td>10.370000</td>\n",
       "      <td>17477.67</td>\n",
       "      <td>0.00</td>\n",
       "      <td>3.3449</td>\n",
       "      <td>3.3449</td>\n",
       "      <td>...</td>\n",
       "      <td>0</td>\n",
       "      <td>59</td>\n",
       "      <td>0</td>\n",
       "      <td>1</td>\n",
       "      <td>0</td>\n",
       "      <td>0</td>\n",
       "      <td>0.0</td>\n",
       "      <td>0</td>\n",
       "      <td>1</td>\n",
       "      <td>0</td>\n",
       "    </tr>\n",
       "    <tr>\n",
       "      <th>2012-12-31</th>\n",
       "      <td>27784.19</td>\n",
       "      <td>72</td>\n",
       "      <td>3.2900</td>\n",
       "      <td>1</td>\n",
       "      <td>747.0</td>\n",
       "      <td>4.630000</td>\n",
       "      <td>6246.50</td>\n",
       "      <td>0.00</td>\n",
       "      <td>3.3415</td>\n",
       "      <td>3.3415</td>\n",
       "      <td>...</td>\n",
       "      <td>0</td>\n",
       "      <td>59</td>\n",
       "      <td>0</td>\n",
       "      <td>1</td>\n",
       "      <td>0</td>\n",
       "      <td>0</td>\n",
       "      <td>0.0</td>\n",
       "      <td>0</td>\n",
       "      <td>1</td>\n",
       "      <td>0</td>\n",
       "    </tr>\n",
       "    <tr>\n",
       "      <th>2012-12-31</th>\n",
       "      <td>43397.80</td>\n",
       "      <td>72</td>\n",
       "      <td>3.2900</td>\n",
       "      <td>1</td>\n",
       "      <td>762.0</td>\n",
       "      <td>4.050000</td>\n",
       "      <td>9772.51</td>\n",
       "      <td>0.00</td>\n",
       "      <td>3.3434</td>\n",
       "      <td>3.3434</td>\n",
       "      <td>...</td>\n",
       "      <td>1</td>\n",
       "      <td>59</td>\n",
       "      <td>0</td>\n",
       "      <td>1</td>\n",
       "      <td>0</td>\n",
       "      <td>0</td>\n",
       "      <td>0.0</td>\n",
       "      <td>0</td>\n",
       "      <td>1</td>\n",
       "      <td>0</td>\n",
       "    </tr>\n",
       "    <tr>\n",
       "      <th>2013-02-28</th>\n",
       "      <td>49345.92</td>\n",
       "      <td>72</td>\n",
       "      <td>3.1900</td>\n",
       "      <td>0</td>\n",
       "      <td>746.0</td>\n",
       "      <td>7.230000</td>\n",
       "      <td>11841.96</td>\n",
       "      <td>0.00</td>\n",
       "      <td>3.2334</td>\n",
       "      <td>3.2334</td>\n",
       "      <td>...</td>\n",
       "      <td>0</td>\n",
       "      <td>31</td>\n",
       "      <td>0</td>\n",
       "      <td>1</td>\n",
       "      <td>0</td>\n",
       "      <td>0</td>\n",
       "      <td>0.0</td>\n",
       "      <td>0</td>\n",
       "      <td>1</td>\n",
       "      <td>0</td>\n",
       "    </tr>\n",
       "    <tr>\n",
       "      <th>2013-02-28</th>\n",
       "      <td>45763.89</td>\n",
       "      <td>66</td>\n",
       "      <td>3.1900</td>\n",
       "      <td>0</td>\n",
       "      <td>694.0</td>\n",
       "      <td>4.650000</td>\n",
       "      <td>7339.30</td>\n",
       "      <td>0.00</td>\n",
       "      <td>3.2334</td>\n",
       "      <td>3.2334</td>\n",
       "      <td>...</td>\n",
       "      <td>1</td>\n",
       "      <td>31</td>\n",
       "      <td>0</td>\n",
       "      <td>1</td>\n",
       "      <td>0</td>\n",
       "      <td>0</td>\n",
       "      <td>0.0</td>\n",
       "      <td>0</td>\n",
       "      <td>1</td>\n",
       "      <td>0</td>\n",
       "    </tr>\n",
       "    <tr>\n",
       "      <th>2013-02-28</th>\n",
       "      <td>45756.02</td>\n",
       "      <td>72</td>\n",
       "      <td>3.1900</td>\n",
       "      <td>1</td>\n",
       "      <td>828.0</td>\n",
       "      <td>6.830000</td>\n",
       "      <td>10933.36</td>\n",
       "      <td>0.00</td>\n",
       "      <td>3.2343</td>\n",
       "      <td>3.2343</td>\n",
       "      <td>...</td>\n",
       "      <td>0</td>\n",
       "      <td>31</td>\n",
       "      <td>0</td>\n",
       "      <td>1</td>\n",
       "      <td>0</td>\n",
       "      <td>0</td>\n",
       "      <td>0.0</td>\n",
       "      <td>0</td>\n",
       "      <td>1</td>\n",
       "      <td>0</td>\n",
       "    </tr>\n",
       "    <tr>\n",
       "      <th>2013-02-28</th>\n",
       "      <td>40334.93</td>\n",
       "      <td>72</td>\n",
       "      <td>3.1900</td>\n",
       "      <td>0</td>\n",
       "      <td>704.0</td>\n",
       "      <td>13.680000</td>\n",
       "      <td>9641.13</td>\n",
       "      <td>0.00</td>\n",
       "      <td>3.2337</td>\n",
       "      <td>3.2337</td>\n",
       "      <td>...</td>\n",
       "      <td>0</td>\n",
       "      <td>31</td>\n",
       "      <td>0</td>\n",
       "      <td>1</td>\n",
       "      <td>0</td>\n",
       "      <td>0</td>\n",
       "      <td>0.0</td>\n",
       "      <td>0</td>\n",
       "      <td>1</td>\n",
       "      <td>0</td>\n",
       "    </tr>\n",
       "    <tr>\n",
       "      <th>2013-02-28</th>\n",
       "      <td>59581.43</td>\n",
       "      <td>72</td>\n",
       "      <td>3.1900</td>\n",
       "      <td>1</td>\n",
       "      <td>803.0</td>\n",
       "      <td>13.650000</td>\n",
       "      <td>14218.54</td>\n",
       "      <td>0.00</td>\n",
       "      <td>3.2430</td>\n",
       "      <td>3.2430</td>\n",
       "      <td>...</td>\n",
       "      <td>0</td>\n",
       "      <td>31</td>\n",
       "      <td>0</td>\n",
       "      <td>1</td>\n",
       "      <td>0</td>\n",
       "      <td>0</td>\n",
       "      <td>0.0</td>\n",
       "      <td>0</td>\n",
       "      <td>1</td>\n",
       "      <td>0</td>\n",
       "    </tr>\n",
       "    <tr>\n",
       "      <th>2013-02-28</th>\n",
       "      <td>58577.95</td>\n",
       "      <td>72</td>\n",
       "      <td>3.1900</td>\n",
       "      <td>0</td>\n",
       "      <td>844.0</td>\n",
       "      <td>5.370000</td>\n",
       "      <td>13999.72</td>\n",
       "      <td>0.00</td>\n",
       "      <td>3.2335</td>\n",
       "      <td>3.2335</td>\n",
       "      <td>...</td>\n",
       "      <td>1</td>\n",
       "      <td>31</td>\n",
       "      <td>0</td>\n",
       "      <td>1</td>\n",
       "      <td>0</td>\n",
       "      <td>0</td>\n",
       "      <td>0.0</td>\n",
       "      <td>0</td>\n",
       "      <td>1</td>\n",
       "      <td>0</td>\n",
       "    </tr>\n",
       "    <tr>\n",
       "      <th>2013-03-31</th>\n",
       "      <td>18381.54</td>\n",
       "      <td>66</td>\n",
       "      <td>1.9000</td>\n",
       "      <td>0</td>\n",
       "      <td>801.0</td>\n",
       "      <td>4.450000</td>\n",
       "      <td>3054.50</td>\n",
       "      <td>0.00</td>\n",
       "      <td>1.9152</td>\n",
       "      <td>1.9152</td>\n",
       "      <td>...</td>\n",
       "      <td>0</td>\n",
       "      <td>30</td>\n",
       "      <td>0</td>\n",
       "      <td>1</td>\n",
       "      <td>0</td>\n",
       "      <td>0</td>\n",
       "      <td>0.0</td>\n",
       "      <td>0</td>\n",
       "      <td>1</td>\n",
       "      <td>0</td>\n",
       "    </tr>\n",
       "    <tr>\n",
       "      <th>2013-03-31</th>\n",
       "      <td>36608.33</td>\n",
       "      <td>60</td>\n",
       "      <td>3.1900</td>\n",
       "      <td>1</td>\n",
       "      <td>747.0</td>\n",
       "      <td>2.830000</td>\n",
       "      <td>3865.77</td>\n",
       "      <td>0.00</td>\n",
       "      <td>3.2349</td>\n",
       "      <td>3.2349</td>\n",
       "      <td>...</td>\n",
       "      <td>1</td>\n",
       "      <td>61</td>\n",
       "      <td>0</td>\n",
       "      <td>1</td>\n",
       "      <td>0</td>\n",
       "      <td>0</td>\n",
       "      <td>0.0</td>\n",
       "      <td>0</td>\n",
       "      <td>1</td>\n",
       "      <td>0</td>\n",
       "    </tr>\n",
       "    <tr>\n",
       "      <th>2013-03-31</th>\n",
       "      <td>29097.12</td>\n",
       "      <td>63</td>\n",
       "      <td>3.1900</td>\n",
       "      <td>1</td>\n",
       "      <td>754.0</td>\n",
       "      <td>3.450000</td>\n",
       "      <td>4448.00</td>\n",
       "      <td>0.00</td>\n",
       "      <td>3.2346</td>\n",
       "      <td>3.2346</td>\n",
       "      <td>...</td>\n",
       "      <td>1</td>\n",
       "      <td>61</td>\n",
       "      <td>0</td>\n",
       "      <td>1</td>\n",
       "      <td>0</td>\n",
       "      <td>0</td>\n",
       "      <td>0.0</td>\n",
       "      <td>0</td>\n",
       "      <td>1</td>\n",
       "      <td>0</td>\n",
       "    </tr>\n",
       "    <tr>\n",
       "      <th>2013-03-31</th>\n",
       "      <td>52805.39</td>\n",
       "      <td>72</td>\n",
       "      <td>3.1900</td>\n",
       "      <td>1</td>\n",
       "      <td>711.0</td>\n",
       "      <td>6.400000</td>\n",
       "      <td>14180.93</td>\n",
       "      <td>0.00</td>\n",
       "      <td>3.2341</td>\n",
       "      <td>3.2341</td>\n",
       "      <td>...</td>\n",
       "      <td>0</td>\n",
       "      <td>61</td>\n",
       "      <td>0</td>\n",
       "      <td>1</td>\n",
       "      <td>0</td>\n",
       "      <td>0</td>\n",
       "      <td>0.0</td>\n",
       "      <td>0</td>\n",
       "      <td>1</td>\n",
       "      <td>0</td>\n",
       "    </tr>\n",
       "    <tr>\n",
       "      <th>2013-03-31</th>\n",
       "      <td>31257.59</td>\n",
       "      <td>60</td>\n",
       "      <td>1.9000</td>\n",
       "      <td>1</td>\n",
       "      <td>784.0</td>\n",
       "      <td>2.990000</td>\n",
       "      <td>2418.54</td>\n",
       "      <td>0.00</td>\n",
       "      <td>1.9151</td>\n",
       "      <td>1.9151</td>\n",
       "      <td>...</td>\n",
       "      <td>0</td>\n",
       "      <td>61</td>\n",
       "      <td>0</td>\n",
       "      <td>1</td>\n",
       "      <td>0</td>\n",
       "      <td>0</td>\n",
       "      <td>0.0</td>\n",
       "      <td>0</td>\n",
       "      <td>1</td>\n",
       "      <td>0</td>\n",
       "    </tr>\n",
       "    <tr>\n",
       "      <th>2013-03-31</th>\n",
       "      <td>26421.54</td>\n",
       "      <td>66</td>\n",
       "      <td>2.9000</td>\n",
       "      <td>1</td>\n",
       "      <td>672.0</td>\n",
       "      <td>12.090000</td>\n",
       "      <td>4650.69</td>\n",
       "      <td>0.00</td>\n",
       "      <td>2.9354</td>\n",
       "      <td>2.9354</td>\n",
       "      <td>...</td>\n",
       "      <td>0</td>\n",
       "      <td>61</td>\n",
       "      <td>0</td>\n",
       "      <td>1</td>\n",
       "      <td>0</td>\n",
       "      <td>0</td>\n",
       "      <td>0.0</td>\n",
       "      <td>0</td>\n",
       "      <td>1</td>\n",
       "      <td>0</td>\n",
       "    </tr>\n",
       "    <tr>\n",
       "      <th>2013-03-31</th>\n",
       "      <td>56346.37</td>\n",
       "      <td>72</td>\n",
       "      <td>3.1900</td>\n",
       "      <td>0</td>\n",
       "      <td>781.0</td>\n",
       "      <td>8.260000</td>\n",
       "      <td>14223.48</td>\n",
       "      <td>0.00</td>\n",
       "      <td>3.2356</td>\n",
       "      <td>3.2356</td>\n",
       "      <td>...</td>\n",
       "      <td>0</td>\n",
       "      <td>30</td>\n",
       "      <td>0</td>\n",
       "      <td>1</td>\n",
       "      <td>0</td>\n",
       "      <td>0</td>\n",
       "      <td>0.0</td>\n",
       "      <td>0</td>\n",
       "      <td>1</td>\n",
       "      <td>0</td>\n",
       "    </tr>\n",
       "    <tr>\n",
       "      <th>2013-03-31</th>\n",
       "      <td>24070.17</td>\n",
       "      <td>60</td>\n",
       "      <td>3.1900</td>\n",
       "      <td>1</td>\n",
       "      <td>755.0</td>\n",
       "      <td>3.840000</td>\n",
       "      <td>2585.95</td>\n",
       "      <td>0.00</td>\n",
       "      <td>3.2345</td>\n",
       "      <td>3.2345</td>\n",
       "      <td>...</td>\n",
       "      <td>1</td>\n",
       "      <td>61</td>\n",
       "      <td>0</td>\n",
       "      <td>1</td>\n",
       "      <td>0</td>\n",
       "      <td>0</td>\n",
       "      <td>0.0</td>\n",
       "      <td>0</td>\n",
       "      <td>1</td>\n",
       "      <td>0</td>\n",
       "    </tr>\n",
       "    <tr>\n",
       "      <th>2013-03-31</th>\n",
       "      <td>29753.13</td>\n",
       "      <td>66</td>\n",
       "      <td>1.9000</td>\n",
       "      <td>0</td>\n",
       "      <td>732.0</td>\n",
       "      <td>4.620000</td>\n",
       "      <td>2360.58</td>\n",
       "      <td>0.00</td>\n",
       "      <td>1.9160</td>\n",
       "      <td>1.9160</td>\n",
       "      <td>...</td>\n",
       "      <td>0</td>\n",
       "      <td>30</td>\n",
       "      <td>0</td>\n",
       "      <td>1</td>\n",
       "      <td>0</td>\n",
       "      <td>0</td>\n",
       "      <td>0.0</td>\n",
       "      <td>0</td>\n",
       "      <td>1</td>\n",
       "      <td>0</td>\n",
       "    </tr>\n",
       "    <tr>\n",
       "      <th>2013-03-31</th>\n",
       "      <td>31813.11</td>\n",
       "      <td>60</td>\n",
       "      <td>3.1900</td>\n",
       "      <td>1</td>\n",
       "      <td>739.0</td>\n",
       "      <td>6.620000</td>\n",
       "      <td>2844.55</td>\n",
       "      <td>0.00</td>\n",
       "      <td>3.2345</td>\n",
       "      <td>3.2345</td>\n",
       "      <td>...</td>\n",
       "      <td>0</td>\n",
       "      <td>61</td>\n",
       "      <td>0</td>\n",
       "      <td>1</td>\n",
       "      <td>0</td>\n",
       "      <td>0</td>\n",
       "      <td>0.0</td>\n",
       "      <td>0</td>\n",
       "      <td>1</td>\n",
       "      <td>0</td>\n",
       "    </tr>\n",
       "    <tr>\n",
       "      <th>2013-03-31</th>\n",
       "      <td>30933.72</td>\n",
       "      <td>60</td>\n",
       "      <td>1.9000</td>\n",
       "      <td>1</td>\n",
       "      <td>743.0</td>\n",
       "      <td>13.240000</td>\n",
       "      <td>3229.63</td>\n",
       "      <td>0.00</td>\n",
       "      <td>1.9142</td>\n",
       "      <td>1.9142</td>\n",
       "      <td>...</td>\n",
       "      <td>1</td>\n",
       "      <td>61</td>\n",
       "      <td>0</td>\n",
       "      <td>1</td>\n",
       "      <td>0</td>\n",
       "      <td>0</td>\n",
       "      <td>0.0</td>\n",
       "      <td>0</td>\n",
       "      <td>1</td>\n",
       "      <td>0</td>\n",
       "    </tr>\n",
       "    <tr>\n",
       "      <th>2013-03-31</th>\n",
       "      <td>32029.40</td>\n",
       "      <td>66</td>\n",
       "      <td>1.9000</td>\n",
       "      <td>1</td>\n",
       "      <td>747.0</td>\n",
       "      <td>8.270000</td>\n",
       "      <td>6079.77</td>\n",
       "      <td>0.00</td>\n",
       "      <td>1.9145</td>\n",
       "      <td>1.9145</td>\n",
       "      <td>...</td>\n",
       "      <td>0</td>\n",
       "      <td>61</td>\n",
       "      <td>0</td>\n",
       "      <td>1</td>\n",
       "      <td>0</td>\n",
       "      <td>0</td>\n",
       "      <td>0.0</td>\n",
       "      <td>0</td>\n",
       "      <td>1</td>\n",
       "      <td>0</td>\n",
       "    </tr>\n",
       "    <tr>\n",
       "      <th>2013-03-31</th>\n",
       "      <td>38715.34</td>\n",
       "      <td>60</td>\n",
       "      <td>3.1900</td>\n",
       "      <td>1</td>\n",
       "      <td>783.0</td>\n",
       "      <td>2.160000</td>\n",
       "      <td>4158.19</td>\n",
       "      <td>0.00</td>\n",
       "      <td>3.2337</td>\n",
       "      <td>3.2337</td>\n",
       "      <td>...</td>\n",
       "      <td>0</td>\n",
       "      <td>61</td>\n",
       "      <td>0</td>\n",
       "      <td>1</td>\n",
       "      <td>0</td>\n",
       "      <td>0</td>\n",
       "      <td>0.0</td>\n",
       "      <td>0</td>\n",
       "      <td>1</td>\n",
       "      <td>0</td>\n",
       "    </tr>\n",
       "    <tr>\n",
       "      <th>2013-04-30</th>\n",
       "      <td>37643.19</td>\n",
       "      <td>60</td>\n",
       "      <td>3.1900</td>\n",
       "      <td>1</td>\n",
       "      <td>796.0</td>\n",
       "      <td>1.580000</td>\n",
       "      <td>4045.17</td>\n",
       "      <td>0.00</td>\n",
       "      <td>3.2350</td>\n",
       "      <td>3.2350</td>\n",
       "      <td>...</td>\n",
       "      <td>1</td>\n",
       "      <td>31</td>\n",
       "      <td>0</td>\n",
       "      <td>1</td>\n",
       "      <td>0</td>\n",
       "      <td>0</td>\n",
       "      <td>0.0</td>\n",
       "      <td>0</td>\n",
       "      <td>1</td>\n",
       "      <td>0</td>\n",
       "    </tr>\n",
       "    <tr>\n",
       "      <th>2012-10-31</th>\n",
       "      <td>27355.73</td>\n",
       "      <td>66</td>\n",
       "      <td>3.2900</td>\n",
       "      <td>0</td>\n",
       "      <td>842.0</td>\n",
       "      <td>7.940000</td>\n",
       "      <td>2696.08</td>\n",
       "      <td>0.00</td>\n",
       "      <td>3.3425</td>\n",
       "      <td>3.3425</td>\n",
       "      <td>...</td>\n",
       "      <td>0</td>\n",
       "      <td>30</td>\n",
       "      <td>0</td>\n",
       "      <td>1</td>\n",
       "      <td>0</td>\n",
       "      <td>0</td>\n",
       "      <td>0.0</td>\n",
       "      <td>0</td>\n",
       "      <td>1</td>\n",
       "      <td>0</td>\n",
       "    </tr>\n",
       "    <tr>\n",
       "      <th>2012-10-31</th>\n",
       "      <td>49102.12</td>\n",
       "      <td>72</td>\n",
       "      <td>3.2900</td>\n",
       "      <td>1</td>\n",
       "      <td>738.0</td>\n",
       "      <td>4.130000</td>\n",
       "      <td>8882.15</td>\n",
       "      <td>0.00</td>\n",
       "      <td>3.3417</td>\n",
       "      <td>3.3417</td>\n",
       "      <td>...</td>\n",
       "      <td>1</td>\n",
       "      <td>30</td>\n",
       "      <td>0</td>\n",
       "      <td>1</td>\n",
       "      <td>0</td>\n",
       "      <td>0</td>\n",
       "      <td>0.0</td>\n",
       "      <td>0</td>\n",
       "      <td>1</td>\n",
       "      <td>0</td>\n",
       "    </tr>\n",
       "    <tr>\n",
       "      <th>2012-10-31</th>\n",
       "      <td>34626.16</td>\n",
       "      <td>66</td>\n",
       "      <td>3.2900</td>\n",
       "      <td>1</td>\n",
       "      <td>788.0</td>\n",
       "      <td>6.320000</td>\n",
       "      <td>3981.70</td>\n",
       "      <td>0.00</td>\n",
       "      <td>3.3403</td>\n",
       "      <td>3.3403</td>\n",
       "      <td>...</td>\n",
       "      <td>0</td>\n",
       "      <td>61</td>\n",
       "      <td>0</td>\n",
       "      <td>1</td>\n",
       "      <td>0</td>\n",
       "      <td>0</td>\n",
       "      <td>0.0</td>\n",
       "      <td>0</td>\n",
       "      <td>1</td>\n",
       "      <td>0</td>\n",
       "    </tr>\n",
       "    <tr>\n",
       "      <th>...</th>\n",
       "      <td>...</td>\n",
       "      <td>...</td>\n",
       "      <td>...</td>\n",
       "      <td>...</td>\n",
       "      <td>...</td>\n",
       "      <td>...</td>\n",
       "      <td>...</td>\n",
       "      <td>...</td>\n",
       "      <td>...</td>\n",
       "      <td>...</td>\n",
       "      <td>...</td>\n",
       "      <td>...</td>\n",
       "      <td>...</td>\n",
       "      <td>...</td>\n",
       "      <td>...</td>\n",
       "      <td>...</td>\n",
       "      <td>...</td>\n",
       "      <td>...</td>\n",
       "      <td>...</td>\n",
       "      <td>...</td>\n",
       "      <td>...</td>\n",
       "    </tr>\n",
       "    <tr>\n",
       "      <th>2016-12-31</th>\n",
       "      <td>23252.77</td>\n",
       "      <td>75</td>\n",
       "      <td>0.1371</td>\n",
       "      <td>1</td>\n",
       "      <td>583.0</td>\n",
       "      <td>0.090726</td>\n",
       "      <td>21051.96</td>\n",
       "      <td>583.85</td>\n",
       "      <td>0.1371</td>\n",
       "      <td>0.1371</td>\n",
       "      <td>...</td>\n",
       "      <td>0</td>\n",
       "      <td>31</td>\n",
       "      <td>0</td>\n",
       "      <td>1</td>\n",
       "      <td>0</td>\n",
       "      <td>0</td>\n",
       "      <td>0.0</td>\n",
       "      <td>1</td>\n",
       "      <td>0</td>\n",
       "      <td>0</td>\n",
       "    </tr>\n",
       "    <tr>\n",
       "      <th>2016-11-30</th>\n",
       "      <td>13914.65</td>\n",
       "      <td>72</td>\n",
       "      <td>0.1742</td>\n",
       "      <td>2</td>\n",
       "      <td>534.0</td>\n",
       "      <td>0.108017</td>\n",
       "      <td>13406.38</td>\n",
       "      <td>332.30</td>\n",
       "      <td>0.1742</td>\n",
       "      <td>0.1742</td>\n",
       "      <td>...</td>\n",
       "      <td>0</td>\n",
       "      <td>62</td>\n",
       "      <td>0</td>\n",
       "      <td>1</td>\n",
       "      <td>0</td>\n",
       "      <td>0</td>\n",
       "      <td>0.0</td>\n",
       "      <td>1</td>\n",
       "      <td>0</td>\n",
       "      <td>0</td>\n",
       "    </tr>\n",
       "    <tr>\n",
       "      <th>2016-12-31</th>\n",
       "      <td>30331.76</td>\n",
       "      <td>72</td>\n",
       "      <td>0.0269</td>\n",
       "      <td>1</td>\n",
       "      <td>866.0</td>\n",
       "      <td>0.039276</td>\n",
       "      <td>25986.32</td>\n",
       "      <td>507.59</td>\n",
       "      <td>0.0269</td>\n",
       "      <td>0.0269</td>\n",
       "      <td>...</td>\n",
       "      <td>1</td>\n",
       "      <td>31</td>\n",
       "      <td>0</td>\n",
       "      <td>1</td>\n",
       "      <td>0</td>\n",
       "      <td>0</td>\n",
       "      <td>0.0</td>\n",
       "      <td>1</td>\n",
       "      <td>0</td>\n",
       "      <td>0</td>\n",
       "    </tr>\n",
       "    <tr>\n",
       "      <th>2016-11-30</th>\n",
       "      <td>27182.00</td>\n",
       "      <td>72</td>\n",
       "      <td>0.1164</td>\n",
       "      <td>1</td>\n",
       "      <td>617.0</td>\n",
       "      <td>0.143547</td>\n",
       "      <td>24304.15</td>\n",
       "      <td>1927.80</td>\n",
       "      <td>0.1164</td>\n",
       "      <td>0.1164</td>\n",
       "      <td>...</td>\n",
       "      <td>0</td>\n",
       "      <td>31</td>\n",
       "      <td>0</td>\n",
       "      <td>1</td>\n",
       "      <td>0</td>\n",
       "      <td>0</td>\n",
       "      <td>0.0</td>\n",
       "      <td>1</td>\n",
       "      <td>0</td>\n",
       "      <td>0</td>\n",
       "    </tr>\n",
       "    <tr>\n",
       "      <th>2016-12-31</th>\n",
       "      <td>28048.23</td>\n",
       "      <td>72</td>\n",
       "      <td>0.1134</td>\n",
       "      <td>1</td>\n",
       "      <td>562.0</td>\n",
       "      <td>0.069627</td>\n",
       "      <td>25757.61</td>\n",
       "      <td>1754.54</td>\n",
       "      <td>0.1030</td>\n",
       "      <td>0.1030</td>\n",
       "      <td>...</td>\n",
       "      <td>0</td>\n",
       "      <td>31</td>\n",
       "      <td>0</td>\n",
       "      <td>1</td>\n",
       "      <td>0</td>\n",
       "      <td>0</td>\n",
       "      <td>0.0</td>\n",
       "      <td>1</td>\n",
       "      <td>0</td>\n",
       "      <td>0</td>\n",
       "    </tr>\n",
       "    <tr>\n",
       "      <th>2016-12-31</th>\n",
       "      <td>18545.88</td>\n",
       "      <td>72</td>\n",
       "      <td>0.1678</td>\n",
       "      <td>1</td>\n",
       "      <td>671.0</td>\n",
       "      <td>0.069434</td>\n",
       "      <td>16867.90</td>\n",
       "      <td>505.18</td>\n",
       "      <td>0.1678</td>\n",
       "      <td>0.1678</td>\n",
       "      <td>...</td>\n",
       "      <td>1</td>\n",
       "      <td>31</td>\n",
       "      <td>0</td>\n",
       "      <td>1</td>\n",
       "      <td>0</td>\n",
       "      <td>0</td>\n",
       "      <td>0.0</td>\n",
       "      <td>1</td>\n",
       "      <td>0</td>\n",
       "      <td>0</td>\n",
       "    </tr>\n",
       "    <tr>\n",
       "      <th>2016-12-31</th>\n",
       "      <td>33154.33</td>\n",
       "      <td>72</td>\n",
       "      <td>0.0899</td>\n",
       "      <td>1</td>\n",
       "      <td>688.0</td>\n",
       "      <td>0.099950</td>\n",
       "      <td>29239.47</td>\n",
       "      <td>713.35</td>\n",
       "      <td>0.0899</td>\n",
       "      <td>0.0899</td>\n",
       "      <td>...</td>\n",
       "      <td>0</td>\n",
       "      <td>31</td>\n",
       "      <td>0</td>\n",
       "      <td>1</td>\n",
       "      <td>0</td>\n",
       "      <td>0</td>\n",
       "      <td>0.0</td>\n",
       "      <td>1</td>\n",
       "      <td>0</td>\n",
       "      <td>0</td>\n",
       "    </tr>\n",
       "    <tr>\n",
       "      <th>2016-12-31</th>\n",
       "      <td>15511.42</td>\n",
       "      <td>72</td>\n",
       "      <td>0.2267</td>\n",
       "      <td>1</td>\n",
       "      <td>609.0</td>\n",
       "      <td>0.124878</td>\n",
       "      <td>14666.07</td>\n",
       "      <td>679.21</td>\n",
       "      <td>0.2267</td>\n",
       "      <td>0.2267</td>\n",
       "      <td>...</td>\n",
       "      <td>0</td>\n",
       "      <td>31</td>\n",
       "      <td>0</td>\n",
       "      <td>1</td>\n",
       "      <td>0</td>\n",
       "      <td>0</td>\n",
       "      <td>0.0</td>\n",
       "      <td>1</td>\n",
       "      <td>0</td>\n",
       "      <td>0</td>\n",
       "    </tr>\n",
       "    <tr>\n",
       "      <th>2016-12-31</th>\n",
       "      <td>11804.50</td>\n",
       "      <td>72</td>\n",
       "      <td>0.2063</td>\n",
       "      <td>1</td>\n",
       "      <td>609.0</td>\n",
       "      <td>0.091905</td>\n",
       "      <td>11447.13</td>\n",
       "      <td>1025.87</td>\n",
       "      <td>0.2057</td>\n",
       "      <td>0.2057</td>\n",
       "      <td>...</td>\n",
       "      <td>0</td>\n",
       "      <td>31</td>\n",
       "      <td>0</td>\n",
       "      <td>1</td>\n",
       "      <td>0</td>\n",
       "      <td>0</td>\n",
       "      <td>0.0</td>\n",
       "      <td>1</td>\n",
       "      <td>0</td>\n",
       "      <td>0</td>\n",
       "    </tr>\n",
       "    <tr>\n",
       "      <th>2016-12-31</th>\n",
       "      <td>20066.00</td>\n",
       "      <td>75</td>\n",
       "      <td>0.1399</td>\n",
       "      <td>1</td>\n",
       "      <td>541.0</td>\n",
       "      <td>0.090036</td>\n",
       "      <td>18623.08</td>\n",
       "      <td>844.88</td>\n",
       "      <td>0.1399</td>\n",
       "      <td>0.1399</td>\n",
       "      <td>...</td>\n",
       "      <td>0</td>\n",
       "      <td>31</td>\n",
       "      <td>0</td>\n",
       "      <td>1</td>\n",
       "      <td>0</td>\n",
       "      <td>0</td>\n",
       "      <td>0.0</td>\n",
       "      <td>1</td>\n",
       "      <td>0</td>\n",
       "      <td>0</td>\n",
       "    </tr>\n",
       "    <tr>\n",
       "      <th>2016-11-30</th>\n",
       "      <td>16363.40</td>\n",
       "      <td>72</td>\n",
       "      <td>0.1653</td>\n",
       "      <td>2</td>\n",
       "      <td>621.0</td>\n",
       "      <td>0.150925</td>\n",
       "      <td>14225.00</td>\n",
       "      <td>599.52</td>\n",
       "      <td>0.1641</td>\n",
       "      <td>0.1641</td>\n",
       "      <td>...</td>\n",
       "      <td>0</td>\n",
       "      <td>62</td>\n",
       "      <td>0</td>\n",
       "      <td>1</td>\n",
       "      <td>0</td>\n",
       "      <td>0</td>\n",
       "      <td>0.0</td>\n",
       "      <td>1</td>\n",
       "      <td>0</td>\n",
       "      <td>0</td>\n",
       "    </tr>\n",
       "    <tr>\n",
       "      <th>2016-11-30</th>\n",
       "      <td>5670.00</td>\n",
       "      <td>36</td>\n",
       "      <td>0.1464</td>\n",
       "      <td>2</td>\n",
       "      <td>825.0</td>\n",
       "      <td>0.046856</td>\n",
       "      <td>4212.96</td>\n",
       "      <td>229.35</td>\n",
       "      <td>0.1464</td>\n",
       "      <td>0.1464</td>\n",
       "      <td>...</td>\n",
       "      <td>1</td>\n",
       "      <td>62</td>\n",
       "      <td>0</td>\n",
       "      <td>1</td>\n",
       "      <td>0</td>\n",
       "      <td>0</td>\n",
       "      <td>0.0</td>\n",
       "      <td>1</td>\n",
       "      <td>0</td>\n",
       "      <td>0</td>\n",
       "    </tr>\n",
       "    <tr>\n",
       "      <th>2016-12-31</th>\n",
       "      <td>10418.75</td>\n",
       "      <td>60</td>\n",
       "      <td>0.1923</td>\n",
       "      <td>1</td>\n",
       "      <td>630.0</td>\n",
       "      <td>0.149514</td>\n",
       "      <td>9236.30</td>\n",
       "      <td>345.74</td>\n",
       "      <td>0.1923</td>\n",
       "      <td>0.1923</td>\n",
       "      <td>...</td>\n",
       "      <td>0</td>\n",
       "      <td>31</td>\n",
       "      <td>0</td>\n",
       "      <td>1</td>\n",
       "      <td>0</td>\n",
       "      <td>0</td>\n",
       "      <td>0.0</td>\n",
       "      <td>1</td>\n",
       "      <td>0</td>\n",
       "      <td>0</td>\n",
       "    </tr>\n",
       "    <tr>\n",
       "      <th>2016-12-31</th>\n",
       "      <td>23745.15</td>\n",
       "      <td>75</td>\n",
       "      <td>0.1800</td>\n",
       "      <td>1</td>\n",
       "      <td>613.0</td>\n",
       "      <td>0.080433</td>\n",
       "      <td>22984.38</td>\n",
       "      <td>2562.55</td>\n",
       "      <td>0.1800</td>\n",
       "      <td>0.1800</td>\n",
       "      <td>...</td>\n",
       "      <td>1</td>\n",
       "      <td>31</td>\n",
       "      <td>0</td>\n",
       "      <td>1</td>\n",
       "      <td>0</td>\n",
       "      <td>0</td>\n",
       "      <td>0.0</td>\n",
       "      <td>1</td>\n",
       "      <td>0</td>\n",
       "      <td>0</td>\n",
       "    </tr>\n",
       "    <tr>\n",
       "      <th>2016-11-30</th>\n",
       "      <td>40851.44</td>\n",
       "      <td>75</td>\n",
       "      <td>0.1639</td>\n",
       "      <td>2</td>\n",
       "      <td>634.0</td>\n",
       "      <td>0.088717</td>\n",
       "      <td>37238.54</td>\n",
       "      <td>1276.63</td>\n",
       "      <td>0.1639</td>\n",
       "      <td>0.1639</td>\n",
       "      <td>...</td>\n",
       "      <td>1</td>\n",
       "      <td>62</td>\n",
       "      <td>0</td>\n",
       "      <td>1</td>\n",
       "      <td>0</td>\n",
       "      <td>0</td>\n",
       "      <td>0.0</td>\n",
       "      <td>1</td>\n",
       "      <td>0</td>\n",
       "      <td>0</td>\n",
       "    </tr>\n",
       "    <tr>\n",
       "      <th>2016-12-31</th>\n",
       "      <td>21790.15</td>\n",
       "      <td>72</td>\n",
       "      <td>0.1800</td>\n",
       "      <td>1</td>\n",
       "      <td>651.0</td>\n",
       "      <td>0.119278</td>\n",
       "      <td>19537.23</td>\n",
       "      <td>525.58</td>\n",
       "      <td>0.1800</td>\n",
       "      <td>0.1800</td>\n",
       "      <td>...</td>\n",
       "      <td>0</td>\n",
       "      <td>31</td>\n",
       "      <td>0</td>\n",
       "      <td>1</td>\n",
       "      <td>0</td>\n",
       "      <td>0</td>\n",
       "      <td>0.0</td>\n",
       "      <td>1</td>\n",
       "      <td>0</td>\n",
       "      <td>0</td>\n",
       "    </tr>\n",
       "    <tr>\n",
       "      <th>2016-11-30</th>\n",
       "      <td>16024.52</td>\n",
       "      <td>72</td>\n",
       "      <td>0.1757</td>\n",
       "      <td>2</td>\n",
       "      <td>656.0</td>\n",
       "      <td>0.102497</td>\n",
       "      <td>14455.63</td>\n",
       "      <td>494.86</td>\n",
       "      <td>0.1757</td>\n",
       "      <td>0.1757</td>\n",
       "      <td>...</td>\n",
       "      <td>1</td>\n",
       "      <td>62</td>\n",
       "      <td>0</td>\n",
       "      <td>1</td>\n",
       "      <td>0</td>\n",
       "      <td>0</td>\n",
       "      <td>0.0</td>\n",
       "      <td>1</td>\n",
       "      <td>0</td>\n",
       "      <td>0</td>\n",
       "    </tr>\n",
       "    <tr>\n",
       "      <th>2016-12-31</th>\n",
       "      <td>18002.55</td>\n",
       "      <td>60</td>\n",
       "      <td>0.1385</td>\n",
       "      <td>1</td>\n",
       "      <td>570.0</td>\n",
       "      <td>0.060256</td>\n",
       "      <td>15553.58</td>\n",
       "      <td>568.41</td>\n",
       "      <td>0.1385</td>\n",
       "      <td>0.1385</td>\n",
       "      <td>...</td>\n",
       "      <td>1</td>\n",
       "      <td>31</td>\n",
       "      <td>0</td>\n",
       "      <td>1</td>\n",
       "      <td>0</td>\n",
       "      <td>0</td>\n",
       "      <td>0.0</td>\n",
       "      <td>1</td>\n",
       "      <td>0</td>\n",
       "      <td>0</td>\n",
       "    </tr>\n",
       "    <tr>\n",
       "      <th>2016-11-30</th>\n",
       "      <td>33430.41</td>\n",
       "      <td>72</td>\n",
       "      <td>0.1088</td>\n",
       "      <td>2</td>\n",
       "      <td>602.0</td>\n",
       "      <td>0.091016</td>\n",
       "      <td>30074.88</td>\n",
       "      <td>843.94</td>\n",
       "      <td>0.1025</td>\n",
       "      <td>0.1025</td>\n",
       "      <td>...</td>\n",
       "      <td>0</td>\n",
       "      <td>62</td>\n",
       "      <td>0</td>\n",
       "      <td>1</td>\n",
       "      <td>0</td>\n",
       "      <td>0</td>\n",
       "      <td>0.0</td>\n",
       "      <td>1</td>\n",
       "      <td>0</td>\n",
       "      <td>0</td>\n",
       "    </tr>\n",
       "    <tr>\n",
       "      <th>2016-12-31</th>\n",
       "      <td>26726.86</td>\n",
       "      <td>72</td>\n",
       "      <td>0.1402</td>\n",
       "      <td>1</td>\n",
       "      <td>569.0</td>\n",
       "      <td>0.157431</td>\n",
       "      <td>23692.09</td>\n",
       "      <td>788.96</td>\n",
       "      <td>0.1397</td>\n",
       "      <td>0.1397</td>\n",
       "      <td>...</td>\n",
       "      <td>0</td>\n",
       "      <td>31</td>\n",
       "      <td>0</td>\n",
       "      <td>1</td>\n",
       "      <td>0</td>\n",
       "      <td>0</td>\n",
       "      <td>0.0</td>\n",
       "      <td>1</td>\n",
       "      <td>0</td>\n",
       "      <td>0</td>\n",
       "    </tr>\n",
       "    <tr>\n",
       "      <th>2016-11-30</th>\n",
       "      <td>13538.91</td>\n",
       "      <td>72</td>\n",
       "      <td>0.1800</td>\n",
       "      <td>2</td>\n",
       "      <td>536.0</td>\n",
       "      <td>0.062875</td>\n",
       "      <td>12995.63</td>\n",
       "      <td>951.72</td>\n",
       "      <td>0.1800</td>\n",
       "      <td>0.1800</td>\n",
       "      <td>...</td>\n",
       "      <td>1</td>\n",
       "      <td>62</td>\n",
       "      <td>0</td>\n",
       "      <td>1</td>\n",
       "      <td>0</td>\n",
       "      <td>0</td>\n",
       "      <td>0.0</td>\n",
       "      <td>1</td>\n",
       "      <td>0</td>\n",
       "      <td>0</td>\n",
       "    </tr>\n",
       "    <tr>\n",
       "      <th>2016-11-30</th>\n",
       "      <td>44895.85</td>\n",
       "      <td>72</td>\n",
       "      <td>0.0945</td>\n",
       "      <td>1</td>\n",
       "      <td>566.0</td>\n",
       "      <td>0.054623</td>\n",
       "      <td>41173.44</td>\n",
       "      <td>850.04</td>\n",
       "      <td>0.0945</td>\n",
       "      <td>0.0945</td>\n",
       "      <td>...</td>\n",
       "      <td>1</td>\n",
       "      <td>31</td>\n",
       "      <td>0</td>\n",
       "      <td>1</td>\n",
       "      <td>0</td>\n",
       "      <td>0</td>\n",
       "      <td>0.0</td>\n",
       "      <td>1</td>\n",
       "      <td>0</td>\n",
       "      <td>0</td>\n",
       "    </tr>\n",
       "    <tr>\n",
       "      <th>2016-12-31</th>\n",
       "      <td>24653.35</td>\n",
       "      <td>72</td>\n",
       "      <td>0.0319</td>\n",
       "      <td>1</td>\n",
       "      <td>742.0</td>\n",
       "      <td>0.030133</td>\n",
       "      <td>21172.33</td>\n",
       "      <td>420.40</td>\n",
       "      <td>0.0319</td>\n",
       "      <td>0.0319</td>\n",
       "      <td>...</td>\n",
       "      <td>1</td>\n",
       "      <td>31</td>\n",
       "      <td>0</td>\n",
       "      <td>1</td>\n",
       "      <td>0</td>\n",
       "      <td>0</td>\n",
       "      <td>0.0</td>\n",
       "      <td>1</td>\n",
       "      <td>0</td>\n",
       "      <td>0</td>\n",
       "    </tr>\n",
       "    <tr>\n",
       "      <th>2016-12-31</th>\n",
       "      <td>31973.58</td>\n",
       "      <td>72</td>\n",
       "      <td>0.0968</td>\n",
       "      <td>1</td>\n",
       "      <td>691.0</td>\n",
       "      <td>0.103775</td>\n",
       "      <td>29526.83</td>\n",
       "      <td>1370.64</td>\n",
       "      <td>0.0968</td>\n",
       "      <td>0.0968</td>\n",
       "      <td>...</td>\n",
       "      <td>0</td>\n",
       "      <td>31</td>\n",
       "      <td>0</td>\n",
       "      <td>1</td>\n",
       "      <td>0</td>\n",
       "      <td>0</td>\n",
       "      <td>0.0</td>\n",
       "      <td>1</td>\n",
       "      <td>0</td>\n",
       "      <td>0</td>\n",
       "    </tr>\n",
       "    <tr>\n",
       "      <th>2016-12-31</th>\n",
       "      <td>21572.33</td>\n",
       "      <td>72</td>\n",
       "      <td>0.1590</td>\n",
       "      <td>1</td>\n",
       "      <td>627.0</td>\n",
       "      <td>0.143805</td>\n",
       "      <td>19547.07</td>\n",
       "      <td>604.13</td>\n",
       "      <td>0.1588</td>\n",
       "      <td>0.1588</td>\n",
       "      <td>...</td>\n",
       "      <td>0</td>\n",
       "      <td>31</td>\n",
       "      <td>0</td>\n",
       "      <td>1</td>\n",
       "      <td>0</td>\n",
       "      <td>0</td>\n",
       "      <td>0.0</td>\n",
       "      <td>1</td>\n",
       "      <td>0</td>\n",
       "      <td>0</td>\n",
       "    </tr>\n",
       "    <tr>\n",
       "      <th>2016-11-30</th>\n",
       "      <td>12267.31</td>\n",
       "      <td>72</td>\n",
       "      <td>0.1824</td>\n",
       "      <td>2</td>\n",
       "      <td>721.0</td>\n",
       "      <td>0.045025</td>\n",
       "      <td>11799.40</td>\n",
       "      <td>847.51</td>\n",
       "      <td>0.1815</td>\n",
       "      <td>0.1815</td>\n",
       "      <td>...</td>\n",
       "      <td>1</td>\n",
       "      <td>62</td>\n",
       "      <td>0</td>\n",
       "      <td>1</td>\n",
       "      <td>0</td>\n",
       "      <td>0</td>\n",
       "      <td>0.0</td>\n",
       "      <td>1</td>\n",
       "      <td>0</td>\n",
       "      <td>0</td>\n",
       "    </tr>\n",
       "    <tr>\n",
       "      <th>2016-11-30</th>\n",
       "      <td>18084.16</td>\n",
       "      <td>72</td>\n",
       "      <td>0.1199</td>\n",
       "      <td>1</td>\n",
       "      <td>657.0</td>\n",
       "      <td>0.063116</td>\n",
       "      <td>15873.33</td>\n",
       "      <td>362.63</td>\n",
       "      <td>0.1188</td>\n",
       "      <td>0.1188</td>\n",
       "      <td>...</td>\n",
       "      <td>1</td>\n",
       "      <td>31</td>\n",
       "      <td>0</td>\n",
       "      <td>1</td>\n",
       "      <td>0</td>\n",
       "      <td>0</td>\n",
       "      <td>0.0</td>\n",
       "      <td>1</td>\n",
       "      <td>0</td>\n",
       "      <td>0</td>\n",
       "    </tr>\n",
       "    <tr>\n",
       "      <th>2016-12-31</th>\n",
       "      <td>42300.00</td>\n",
       "      <td>75</td>\n",
       "      <td>0.1476</td>\n",
       "      <td>1</td>\n",
       "      <td>628.0</td>\n",
       "      <td>0.120047</td>\n",
       "      <td>39107.14</td>\n",
       "      <td>1357.40</td>\n",
       "      <td>0.1476</td>\n",
       "      <td>0.1476</td>\n",
       "      <td>...</td>\n",
       "      <td>0</td>\n",
       "      <td>31</td>\n",
       "      <td>0</td>\n",
       "      <td>1</td>\n",
       "      <td>0</td>\n",
       "      <td>0</td>\n",
       "      <td>0.0</td>\n",
       "      <td>1</td>\n",
       "      <td>0</td>\n",
       "      <td>0</td>\n",
       "    </tr>\n",
       "    <tr>\n",
       "      <th>2016-11-30</th>\n",
       "      <td>24278.74</td>\n",
       "      <td>72</td>\n",
       "      <td>0.1678</td>\n",
       "      <td>1</td>\n",
       "      <td>636.0</td>\n",
       "      <td>0.067141</td>\n",
       "      <td>21948.78</td>\n",
       "      <td>1329.91</td>\n",
       "      <td>0.1678</td>\n",
       "      <td>0.1678</td>\n",
       "      <td>...</td>\n",
       "      <td>0</td>\n",
       "      <td>31</td>\n",
       "      <td>0</td>\n",
       "      <td>1</td>\n",
       "      <td>0</td>\n",
       "      <td>0</td>\n",
       "      <td>0.0</td>\n",
       "      <td>1</td>\n",
       "      <td>0</td>\n",
       "      <td>0</td>\n",
       "    </tr>\n",
       "    <tr>\n",
       "      <th>2016-12-31</th>\n",
       "      <td>21819.82</td>\n",
       "      <td>72</td>\n",
       "      <td>0.0319</td>\n",
       "      <td>1</td>\n",
       "      <td>738.0</td>\n",
       "      <td>0.028575</td>\n",
       "      <td>18738.85</td>\n",
       "      <td>373.71</td>\n",
       "      <td>0.0319</td>\n",
       "      <td>0.0319</td>\n",
       "      <td>...</td>\n",
       "      <td>0</td>\n",
       "      <td>31</td>\n",
       "      <td>0</td>\n",
       "      <td>1</td>\n",
       "      <td>0</td>\n",
       "      <td>0</td>\n",
       "      <td>0.0</td>\n",
       "      <td>1</td>\n",
       "      <td>0</td>\n",
       "      <td>0</td>\n",
       "    </tr>\n",
       "  </tbody>\n",
       "</table>\n",
       "<p>913091 rows × 66 columns</p>\n",
       "</div>"
      ],
      "text/plain": [
       "                 originalloanamount  originalloanterm  \\\n",
       "originationdate                                         \n",
       "2012-12-31                 25124.50                72   \n",
       "2012-12-31                 43257.34                72   \n",
       "2012-12-31                 56917.54                72   \n",
       "2012-12-31                 42003.57                72   \n",
       "2012-12-31                 77217.85                72   \n",
       "2012-12-31                 27784.19                72   \n",
       "2012-12-31                 43397.80                72   \n",
       "2013-02-28                 49345.92                72   \n",
       "2013-02-28                 45763.89                66   \n",
       "2013-02-28                 45756.02                72   \n",
       "2013-02-28                 40334.93                72   \n",
       "2013-02-28                 59581.43                72   \n",
       "2013-02-28                 58577.95                72   \n",
       "2013-03-31                 18381.54                66   \n",
       "2013-03-31                 36608.33                60   \n",
       "2013-03-31                 29097.12                63   \n",
       "2013-03-31                 52805.39                72   \n",
       "2013-03-31                 31257.59                60   \n",
       "2013-03-31                 26421.54                66   \n",
       "2013-03-31                 56346.37                72   \n",
       "2013-03-31                 24070.17                60   \n",
       "2013-03-31                 29753.13                66   \n",
       "2013-03-31                 31813.11                60   \n",
       "2013-03-31                 30933.72                60   \n",
       "2013-03-31                 32029.40                66   \n",
       "2013-03-31                 38715.34                60   \n",
       "2013-04-30                 37643.19                60   \n",
       "2012-10-31                 27355.73                66   \n",
       "2012-10-31                 49102.12                72   \n",
       "2012-10-31                 34626.16                66   \n",
       "...                             ...               ...   \n",
       "2016-12-31                 23252.77                75   \n",
       "2016-11-30                 13914.65                72   \n",
       "2016-12-31                 30331.76                72   \n",
       "2016-11-30                 27182.00                72   \n",
       "2016-12-31                 28048.23                72   \n",
       "2016-12-31                 18545.88                72   \n",
       "2016-12-31                 33154.33                72   \n",
       "2016-12-31                 15511.42                72   \n",
       "2016-12-31                 11804.50                72   \n",
       "2016-12-31                 20066.00                75   \n",
       "2016-11-30                 16363.40                72   \n",
       "2016-11-30                  5670.00                36   \n",
       "2016-12-31                 10418.75                60   \n",
       "2016-12-31                 23745.15                75   \n",
       "2016-11-30                 40851.44                75   \n",
       "2016-12-31                 21790.15                72   \n",
       "2016-11-30                 16024.52                72   \n",
       "2016-12-31                 18002.55                60   \n",
       "2016-11-30                 33430.41                72   \n",
       "2016-12-31                 26726.86                72   \n",
       "2016-11-30                 13538.91                72   \n",
       "2016-11-30                 44895.85                72   \n",
       "2016-12-31                 24653.35                72   \n",
       "2016-12-31                 31973.58                72   \n",
       "2016-12-31                 21572.33                72   \n",
       "2016-11-30                 12267.31                72   \n",
       "2016-11-30                 18084.16                72   \n",
       "2016-12-31                 42300.00                75   \n",
       "2016-11-30                 24278.74                72   \n",
       "2016-12-31                 21819.82                72   \n",
       "\n",
       "                 originalinterestratepercentage  graceperiodnumber  \\\n",
       "originationdate                                                      \n",
       "2012-12-31                               3.2900                  0   \n",
       "2012-12-31                               3.2900                  1   \n",
       "2012-12-31                               3.2900                  1   \n",
       "2012-12-31                               3.2900                  1   \n",
       "2012-12-31                               3.2900                  1   \n",
       "2012-12-31                               3.2900                  1   \n",
       "2012-12-31                               3.2900                  1   \n",
       "2013-02-28                               3.1900                  0   \n",
       "2013-02-28                               3.1900                  0   \n",
       "2013-02-28                               3.1900                  1   \n",
       "2013-02-28                               3.1900                  0   \n",
       "2013-02-28                               3.1900                  1   \n",
       "2013-02-28                               3.1900                  0   \n",
       "2013-03-31                               1.9000                  0   \n",
       "2013-03-31                               3.1900                  1   \n",
       "2013-03-31                               3.1900                  1   \n",
       "2013-03-31                               3.1900                  1   \n",
       "2013-03-31                               1.9000                  1   \n",
       "2013-03-31                               2.9000                  1   \n",
       "2013-03-31                               3.1900                  0   \n",
       "2013-03-31                               3.1900                  1   \n",
       "2013-03-31                               1.9000                  0   \n",
       "2013-03-31                               3.1900                  1   \n",
       "2013-03-31                               1.9000                  1   \n",
       "2013-03-31                               1.9000                  1   \n",
       "2013-03-31                               3.1900                  1   \n",
       "2013-04-30                               3.1900                  1   \n",
       "2012-10-31                               3.2900                  0   \n",
       "2012-10-31                               3.2900                  1   \n",
       "2012-10-31                               3.2900                  1   \n",
       "...                                         ...                ...   \n",
       "2016-12-31                               0.1371                  1   \n",
       "2016-11-30                               0.1742                  2   \n",
       "2016-12-31                               0.0269                  1   \n",
       "2016-11-30                               0.1164                  1   \n",
       "2016-12-31                               0.1134                  1   \n",
       "2016-12-31                               0.1678                  1   \n",
       "2016-12-31                               0.0899                  1   \n",
       "2016-12-31                               0.2267                  1   \n",
       "2016-12-31                               0.2063                  1   \n",
       "2016-12-31                               0.1399                  1   \n",
       "2016-11-30                               0.1653                  2   \n",
       "2016-11-30                               0.1464                  2   \n",
       "2016-12-31                               0.1923                  1   \n",
       "2016-12-31                               0.1800                  1   \n",
       "2016-11-30                               0.1639                  2   \n",
       "2016-12-31                               0.1800                  1   \n",
       "2016-11-30                               0.1757                  2   \n",
       "2016-12-31                               0.1385                  1   \n",
       "2016-11-30                               0.1088                  2   \n",
       "2016-12-31                               0.1402                  1   \n",
       "2016-11-30                               0.1800                  2   \n",
       "2016-11-30                               0.0945                  1   \n",
       "2016-12-31                               0.0319                  1   \n",
       "2016-12-31                               0.0968                  1   \n",
       "2016-12-31                               0.1590                  1   \n",
       "2016-11-30                               0.1824                  2   \n",
       "2016-11-30                               0.1199                  1   \n",
       "2016-12-31                               0.1476                  1   \n",
       "2016-11-30                               0.1678                  1   \n",
       "2016-12-31                               0.0319                  1   \n",
       "\n",
       "                 obligorcreditscore  paymenttoincomepercentage  \\\n",
       "originationdate                                                  \n",
       "2012-12-31                    812.0                   2.660000   \n",
       "2012-12-31                    817.0                   3.990000   \n",
       "2012-12-31                    818.0                   6.970000   \n",
       "2012-12-31                    791.0                   2.960000   \n",
       "2012-12-31                    712.0                  10.370000   \n",
       "2012-12-31                    747.0                   4.630000   \n",
       "2012-12-31                    762.0                   4.050000   \n",
       "2013-02-28                    746.0                   7.230000   \n",
       "2013-02-28                    694.0                   4.650000   \n",
       "2013-02-28                    828.0                   6.830000   \n",
       "2013-02-28                    704.0                  13.680000   \n",
       "2013-02-28                    803.0                  13.650000   \n",
       "2013-02-28                    844.0                   5.370000   \n",
       "2013-03-31                    801.0                   4.450000   \n",
       "2013-03-31                    747.0                   2.830000   \n",
       "2013-03-31                    754.0                   3.450000   \n",
       "2013-03-31                    711.0                   6.400000   \n",
       "2013-03-31                    784.0                   2.990000   \n",
       "2013-03-31                    672.0                  12.090000   \n",
       "2013-03-31                    781.0                   8.260000   \n",
       "2013-03-31                    755.0                   3.840000   \n",
       "2013-03-31                    732.0                   4.620000   \n",
       "2013-03-31                    739.0                   6.620000   \n",
       "2013-03-31                    743.0                  13.240000   \n",
       "2013-03-31                    747.0                   8.270000   \n",
       "2013-03-31                    783.0                   2.160000   \n",
       "2013-04-30                    796.0                   1.580000   \n",
       "2012-10-31                    842.0                   7.940000   \n",
       "2012-10-31                    738.0                   4.130000   \n",
       "2012-10-31                    788.0                   6.320000   \n",
       "...                             ...                        ...   \n",
       "2016-12-31                    583.0                   0.090726   \n",
       "2016-11-30                    534.0                   0.108017   \n",
       "2016-12-31                    866.0                   0.039276   \n",
       "2016-11-30                    617.0                   0.143547   \n",
       "2016-12-31                    562.0                   0.069627   \n",
       "2016-12-31                    671.0                   0.069434   \n",
       "2016-12-31                    688.0                   0.099950   \n",
       "2016-12-31                    609.0                   0.124878   \n",
       "2016-12-31                    609.0                   0.091905   \n",
       "2016-12-31                    541.0                   0.090036   \n",
       "2016-11-30                    621.0                   0.150925   \n",
       "2016-11-30                    825.0                   0.046856   \n",
       "2016-12-31                    630.0                   0.149514   \n",
       "2016-12-31                    613.0                   0.080433   \n",
       "2016-11-30                    634.0                   0.088717   \n",
       "2016-12-31                    651.0                   0.119278   \n",
       "2016-11-30                    656.0                   0.102497   \n",
       "2016-12-31                    570.0                   0.060256   \n",
       "2016-11-30                    602.0                   0.091016   \n",
       "2016-12-31                    569.0                   0.157431   \n",
       "2016-11-30                    536.0                   0.062875   \n",
       "2016-11-30                    566.0                   0.054623   \n",
       "2016-12-31                    742.0                   0.030133   \n",
       "2016-12-31                    691.0                   0.103775   \n",
       "2016-12-31                    627.0                   0.143805   \n",
       "2016-11-30                    721.0                   0.045025   \n",
       "2016-11-30                    657.0                   0.063116   \n",
       "2016-12-31                    628.0                   0.120047   \n",
       "2016-11-30                    636.0                   0.067141   \n",
       "2016-12-31                    738.0                   0.028575   \n",
       "\n",
       "                 reportingperiodbeginningloanbalanceamount  \\\n",
       "originationdate                                              \n",
       "2012-12-31                                         4850.55   \n",
       "2012-12-31                                         8966.77   \n",
       "2012-12-31                                        12817.43   \n",
       "2012-12-31                                         8798.55   \n",
       "2012-12-31                                        17477.67   \n",
       "2012-12-31                                         6246.50   \n",
       "2012-12-31                                         9772.51   \n",
       "2013-02-28                                        11841.96   \n",
       "2013-02-28                                         7339.30   \n",
       "2013-02-28                                        10933.36   \n",
       "2013-02-28                                         9641.13   \n",
       "2013-02-28                                        14218.54   \n",
       "2013-02-28                                        13999.72   \n",
       "2013-03-31                                         3054.50   \n",
       "2013-03-31                                         3865.77   \n",
       "2013-03-31                                         4448.00   \n",
       "2013-03-31                                        14180.93   \n",
       "2013-03-31                                         2418.54   \n",
       "2013-03-31                                         4650.69   \n",
       "2013-03-31                                        14223.48   \n",
       "2013-03-31                                         2585.95   \n",
       "2013-03-31                                         2360.58   \n",
       "2013-03-31                                         2844.55   \n",
       "2013-03-31                                         3229.63   \n",
       "2013-03-31                                         6079.77   \n",
       "2013-03-31                                         4158.19   \n",
       "2013-04-30                                         4045.17   \n",
       "2012-10-31                                         2696.08   \n",
       "2012-10-31                                         8882.15   \n",
       "2012-10-31                                         3981.70   \n",
       "...                                                    ...   \n",
       "2016-12-31                                        21051.96   \n",
       "2016-11-30                                        13406.38   \n",
       "2016-12-31                                        25986.32   \n",
       "2016-11-30                                        24304.15   \n",
       "2016-12-31                                        25757.61   \n",
       "2016-12-31                                        16867.90   \n",
       "2016-12-31                                        29239.47   \n",
       "2016-12-31                                        14666.07   \n",
       "2016-12-31                                        11447.13   \n",
       "2016-12-31                                        18623.08   \n",
       "2016-11-30                                        14225.00   \n",
       "2016-11-30                                         4212.96   \n",
       "2016-12-31                                         9236.30   \n",
       "2016-12-31                                        22984.38   \n",
       "2016-11-30                                        37238.54   \n",
       "2016-12-31                                        19537.23   \n",
       "2016-11-30                                        14455.63   \n",
       "2016-12-31                                        15553.58   \n",
       "2016-11-30                                        30074.88   \n",
       "2016-12-31                                        23692.09   \n",
       "2016-11-30                                        12995.63   \n",
       "2016-11-30                                        41173.44   \n",
       "2016-12-31                                        21172.33   \n",
       "2016-12-31                                        29526.83   \n",
       "2016-12-31                                        19547.07   \n",
       "2016-11-30                                        11799.40   \n",
       "2016-11-30                                        15873.33   \n",
       "2016-12-31                                        39107.14   \n",
       "2016-11-30                                        21948.78   \n",
       "2016-12-31                                        18738.85   \n",
       "\n",
       "                 nextreportingperiodpaymentamountdue  \\\n",
       "originationdate                                        \n",
       "2012-12-31                                      0.00   \n",
       "2012-12-31                                      0.00   \n",
       "2012-12-31                                      0.00   \n",
       "2012-12-31                                      0.00   \n",
       "2012-12-31                                      0.00   \n",
       "2012-12-31                                      0.00   \n",
       "2012-12-31                                      0.00   \n",
       "2013-02-28                                      0.00   \n",
       "2013-02-28                                      0.00   \n",
       "2013-02-28                                      0.00   \n",
       "2013-02-28                                      0.00   \n",
       "2013-02-28                                      0.00   \n",
       "2013-02-28                                      0.00   \n",
       "2013-03-31                                      0.00   \n",
       "2013-03-31                                      0.00   \n",
       "2013-03-31                                      0.00   \n",
       "2013-03-31                                      0.00   \n",
       "2013-03-31                                      0.00   \n",
       "2013-03-31                                      0.00   \n",
       "2013-03-31                                      0.00   \n",
       "2013-03-31                                      0.00   \n",
       "2013-03-31                                      0.00   \n",
       "2013-03-31                                      0.00   \n",
       "2013-03-31                                      0.00   \n",
       "2013-03-31                                      0.00   \n",
       "2013-03-31                                      0.00   \n",
       "2013-04-30                                      0.00   \n",
       "2012-10-31                                      0.00   \n",
       "2012-10-31                                      0.00   \n",
       "2012-10-31                                      0.00   \n",
       "...                                              ...   \n",
       "2016-12-31                                    583.85   \n",
       "2016-11-30                                    332.30   \n",
       "2016-12-31                                    507.59   \n",
       "2016-11-30                                   1927.80   \n",
       "2016-12-31                                   1754.54   \n",
       "2016-12-31                                    505.18   \n",
       "2016-12-31                                    713.35   \n",
       "2016-12-31                                    679.21   \n",
       "2016-12-31                                   1025.87   \n",
       "2016-12-31                                    844.88   \n",
       "2016-11-30                                    599.52   \n",
       "2016-11-30                                    229.35   \n",
       "2016-12-31                                    345.74   \n",
       "2016-12-31                                   2562.55   \n",
       "2016-11-30                                   1276.63   \n",
       "2016-12-31                                    525.58   \n",
       "2016-11-30                                    494.86   \n",
       "2016-12-31                                    568.41   \n",
       "2016-11-30                                    843.94   \n",
       "2016-12-31                                    788.96   \n",
       "2016-11-30                                    951.72   \n",
       "2016-11-30                                    850.04   \n",
       "2016-12-31                                    420.40   \n",
       "2016-12-31                                   1370.64   \n",
       "2016-12-31                                    604.13   \n",
       "2016-11-30                                    847.51   \n",
       "2016-11-30                                    362.63   \n",
       "2016-12-31                                   1357.40   \n",
       "2016-11-30                                   1329.91   \n",
       "2016-12-31                                    373.71   \n",
       "\n",
       "                 reportingperiodinterestratepercentage  \\\n",
       "originationdate                                          \n",
       "2012-12-31                                      3.3423   \n",
       "2012-12-31                                      3.3416   \n",
       "2012-12-31                                      3.3450   \n",
       "2012-12-31                                      3.3424   \n",
       "2012-12-31                                      3.3449   \n",
       "2012-12-31                                      3.3415   \n",
       "2012-12-31                                      3.3434   \n",
       "2013-02-28                                      3.2334   \n",
       "2013-02-28                                      3.2334   \n",
       "2013-02-28                                      3.2343   \n",
       "2013-02-28                                      3.2337   \n",
       "2013-02-28                                      3.2430   \n",
       "2013-02-28                                      3.2335   \n",
       "2013-03-31                                      1.9152   \n",
       "2013-03-31                                      3.2349   \n",
       "2013-03-31                                      3.2346   \n",
       "2013-03-31                                      3.2341   \n",
       "2013-03-31                                      1.9151   \n",
       "2013-03-31                                      2.9354   \n",
       "2013-03-31                                      3.2356   \n",
       "2013-03-31                                      3.2345   \n",
       "2013-03-31                                      1.9160   \n",
       "2013-03-31                                      3.2345   \n",
       "2013-03-31                                      1.9142   \n",
       "2013-03-31                                      1.9145   \n",
       "2013-03-31                                      3.2337   \n",
       "2013-04-30                                      3.2350   \n",
       "2012-10-31                                      3.3425   \n",
       "2012-10-31                                      3.3417   \n",
       "2012-10-31                                      3.3403   \n",
       "...                                                ...   \n",
       "2016-12-31                                      0.1371   \n",
       "2016-11-30                                      0.1742   \n",
       "2016-12-31                                      0.0269   \n",
       "2016-11-30                                      0.1164   \n",
       "2016-12-31                                      0.1030   \n",
       "2016-12-31                                      0.1678   \n",
       "2016-12-31                                      0.0899   \n",
       "2016-12-31                                      0.2267   \n",
       "2016-12-31                                      0.2057   \n",
       "2016-12-31                                      0.1399   \n",
       "2016-11-30                                      0.1641   \n",
       "2016-11-30                                      0.1464   \n",
       "2016-12-31                                      0.1923   \n",
       "2016-12-31                                      0.1800   \n",
       "2016-11-30                                      0.1639   \n",
       "2016-12-31                                      0.1800   \n",
       "2016-11-30                                      0.1757   \n",
       "2016-12-31                                      0.1385   \n",
       "2016-11-30                                      0.1025   \n",
       "2016-12-31                                      0.1397   \n",
       "2016-11-30                                      0.1800   \n",
       "2016-11-30                                      0.0945   \n",
       "2016-12-31                                      0.0319   \n",
       "2016-12-31                                      0.0968   \n",
       "2016-12-31                                      0.1588   \n",
       "2016-11-30                                      0.1815   \n",
       "2016-11-30                                      0.1188   \n",
       "2016-12-31                                      0.1476   \n",
       "2016-11-30                                      0.1678   \n",
       "2016-12-31                                      0.0319   \n",
       "\n",
       "                 nextinterestratepercentage          ...            \\\n",
       "originationdate                                      ...             \n",
       "2012-12-31                           3.3423          ...             \n",
       "2012-12-31                           3.3416          ...             \n",
       "2012-12-31                           3.3450          ...             \n",
       "2012-12-31                           3.3424          ...             \n",
       "2012-12-31                           3.3449          ...             \n",
       "2012-12-31                           3.3415          ...             \n",
       "2012-12-31                           3.3434          ...             \n",
       "2013-02-28                           3.2334          ...             \n",
       "2013-02-28                           3.2334          ...             \n",
       "2013-02-28                           3.2343          ...             \n",
       "2013-02-28                           3.2337          ...             \n",
       "2013-02-28                           3.2430          ...             \n",
       "2013-02-28                           3.2335          ...             \n",
       "2013-03-31                           1.9152          ...             \n",
       "2013-03-31                           3.2349          ...             \n",
       "2013-03-31                           3.2346          ...             \n",
       "2013-03-31                           3.2341          ...             \n",
       "2013-03-31                           1.9151          ...             \n",
       "2013-03-31                           2.9354          ...             \n",
       "2013-03-31                           3.2356          ...             \n",
       "2013-03-31                           3.2345          ...             \n",
       "2013-03-31                           1.9160          ...             \n",
       "2013-03-31                           3.2345          ...             \n",
       "2013-03-31                           1.9142          ...             \n",
       "2013-03-31                           1.9145          ...             \n",
       "2013-03-31                           3.2337          ...             \n",
       "2013-04-30                           3.2350          ...             \n",
       "2012-10-31                           3.3425          ...             \n",
       "2012-10-31                           3.3417          ...             \n",
       "2012-10-31                           3.3403          ...             \n",
       "...                                     ...          ...             \n",
       "2016-12-31                           0.1371          ...             \n",
       "2016-11-30                           0.1742          ...             \n",
       "2016-12-31                           0.0269          ...             \n",
       "2016-11-30                           0.1164          ...             \n",
       "2016-12-31                           0.1030          ...             \n",
       "2016-12-31                           0.1678          ...             \n",
       "2016-12-31                           0.0899          ...             \n",
       "2016-12-31                           0.2267          ...             \n",
       "2016-12-31                           0.2057          ...             \n",
       "2016-12-31                           0.1399          ...             \n",
       "2016-11-30                           0.1641          ...             \n",
       "2016-11-30                           0.1464          ...             \n",
       "2016-12-31                           0.1923          ...             \n",
       "2016-12-31                           0.1800          ...             \n",
       "2016-11-30                           0.1639          ...             \n",
       "2016-12-31                           0.1800          ...             \n",
       "2016-11-30                           0.1757          ...             \n",
       "2016-12-31                           0.1385          ...             \n",
       "2016-11-30                           0.1025          ...             \n",
       "2016-12-31                           0.1397          ...             \n",
       "2016-11-30                           0.1800          ...             \n",
       "2016-11-30                           0.0945          ...             \n",
       "2016-12-31                           0.0319          ...             \n",
       "2016-12-31                           0.0968          ...             \n",
       "2016-12-31                           0.1588          ...             \n",
       "2016-11-30                           0.1815          ...             \n",
       "2016-11-30                           0.1188          ...             \n",
       "2016-12-31                           0.1476          ...             \n",
       "2016-11-30                           0.1678          ...             \n",
       "2016-12-31                           0.0319          ...             \n",
       "\n",
       "                 coobligorindicator_true  daystofirstpayment  \\\n",
       "originationdate                                                \n",
       "2012-12-31                             0                  31   \n",
       "2012-12-31                             0                  59   \n",
       "2012-12-31                             0                  59   \n",
       "2012-12-31                             0                  31   \n",
       "2012-12-31                             0                  59   \n",
       "2012-12-31                             0                  59   \n",
       "2012-12-31                             1                  59   \n",
       "2013-02-28                             0                  31   \n",
       "2013-02-28                             1                  31   \n",
       "2013-02-28                             0                  31   \n",
       "2013-02-28                             0                  31   \n",
       "2013-02-28                             0                  31   \n",
       "2013-02-28                             1                  31   \n",
       "2013-03-31                             0                  30   \n",
       "2013-03-31                             1                  61   \n",
       "2013-03-31                             1                  61   \n",
       "2013-03-31                             0                  61   \n",
       "2013-03-31                             0                  61   \n",
       "2013-03-31                             0                  61   \n",
       "2013-03-31                             0                  30   \n",
       "2013-03-31                             1                  61   \n",
       "2013-03-31                             0                  30   \n",
       "2013-03-31                             0                  61   \n",
       "2013-03-31                             1                  61   \n",
       "2013-03-31                             0                  61   \n",
       "2013-03-31                             0                  61   \n",
       "2013-04-30                             1                  31   \n",
       "2012-10-31                             0                  30   \n",
       "2012-10-31                             1                  30   \n",
       "2012-10-31                             0                  61   \n",
       "...                                  ...                 ...   \n",
       "2016-12-31                             0                  31   \n",
       "2016-11-30                             0                  62   \n",
       "2016-12-31                             1                  31   \n",
       "2016-11-30                             0                  31   \n",
       "2016-12-31                             0                  31   \n",
       "2016-12-31                             1                  31   \n",
       "2016-12-31                             0                  31   \n",
       "2016-12-31                             0                  31   \n",
       "2016-12-31                             0                  31   \n",
       "2016-12-31                             0                  31   \n",
       "2016-11-30                             0                  62   \n",
       "2016-11-30                             1                  62   \n",
       "2016-12-31                             0                  31   \n",
       "2016-12-31                             1                  31   \n",
       "2016-11-30                             1                  62   \n",
       "2016-12-31                             0                  31   \n",
       "2016-11-30                             1                  62   \n",
       "2016-12-31                             1                  31   \n",
       "2016-11-30                             0                  62   \n",
       "2016-12-31                             0                  31   \n",
       "2016-11-30                             1                  62   \n",
       "2016-11-30                             1                  31   \n",
       "2016-12-31                             1                  31   \n",
       "2016-12-31                             0                  31   \n",
       "2016-12-31                             0                  31   \n",
       "2016-11-30                             1                  62   \n",
       "2016-11-30                             1                  31   \n",
       "2016-12-31                             0                  31   \n",
       "2016-11-30                             0                  31   \n",
       "2016-12-31                             0                  31   \n",
       "\n",
       "                 reportingperiodmodificationindicator_true  \\\n",
       "originationdate                                              \n",
       "2012-12-31                                               0   \n",
       "2012-12-31                                               0   \n",
       "2012-12-31                                               0   \n",
       "2012-12-31                                               0   \n",
       "2012-12-31                                               0   \n",
       "2012-12-31                                               0   \n",
       "2012-12-31                                               0   \n",
       "2013-02-28                                               0   \n",
       "2013-02-28                                               0   \n",
       "2013-02-28                                               0   \n",
       "2013-02-28                                               0   \n",
       "2013-02-28                                               0   \n",
       "2013-02-28                                               0   \n",
       "2013-03-31                                               0   \n",
       "2013-03-31                                               0   \n",
       "2013-03-31                                               0   \n",
       "2013-03-31                                               0   \n",
       "2013-03-31                                               0   \n",
       "2013-03-31                                               0   \n",
       "2013-03-31                                               0   \n",
       "2013-03-31                                               0   \n",
       "2013-03-31                                               0   \n",
       "2013-03-31                                               0   \n",
       "2013-03-31                                               0   \n",
       "2013-03-31                                               0   \n",
       "2013-03-31                                               0   \n",
       "2013-04-30                                               0   \n",
       "2012-10-31                                               0   \n",
       "2012-10-31                                               0   \n",
       "2012-10-31                                               0   \n",
       "...                                                    ...   \n",
       "2016-12-31                                               0   \n",
       "2016-11-30                                               0   \n",
       "2016-12-31                                               0   \n",
       "2016-11-30                                               0   \n",
       "2016-12-31                                               0   \n",
       "2016-12-31                                               0   \n",
       "2016-12-31                                               0   \n",
       "2016-12-31                                               0   \n",
       "2016-12-31                                               0   \n",
       "2016-12-31                                               0   \n",
       "2016-11-30                                               0   \n",
       "2016-11-30                                               0   \n",
       "2016-12-31                                               0   \n",
       "2016-12-31                                               0   \n",
       "2016-11-30                                               0   \n",
       "2016-12-31                                               0   \n",
       "2016-11-30                                               0   \n",
       "2016-12-31                                               0   \n",
       "2016-11-30                                               0   \n",
       "2016-12-31                                               0   \n",
       "2016-11-30                                               0   \n",
       "2016-11-30                                               0   \n",
       "2016-12-31                                               0   \n",
       "2016-12-31                                               0   \n",
       "2016-12-31                                               0   \n",
       "2016-11-30                                               0   \n",
       "2016-11-30                                               0   \n",
       "2016-12-31                                               0   \n",
       "2016-11-30                                               0   \n",
       "2016-12-31                                               0   \n",
       "\n",
       "                 servicingadvancemethod_code1  servicingadvancemethod_code2  \\\n",
       "originationdate                                                               \n",
       "2012-12-31                                  1                             0   \n",
       "2012-12-31                                  1                             0   \n",
       "2012-12-31                                  1                             0   \n",
       "2012-12-31                                  1                             0   \n",
       "2012-12-31                                  1                             0   \n",
       "2012-12-31                                  1                             0   \n",
       "2012-12-31                                  1                             0   \n",
       "2013-02-28                                  1                             0   \n",
       "2013-02-28                                  1                             0   \n",
       "2013-02-28                                  1                             0   \n",
       "2013-02-28                                  1                             0   \n",
       "2013-02-28                                  1                             0   \n",
       "2013-02-28                                  1                             0   \n",
       "2013-03-31                                  1                             0   \n",
       "2013-03-31                                  1                             0   \n",
       "2013-03-31                                  1                             0   \n",
       "2013-03-31                                  1                             0   \n",
       "2013-03-31                                  1                             0   \n",
       "2013-03-31                                  1                             0   \n",
       "2013-03-31                                  1                             0   \n",
       "2013-03-31                                  1                             0   \n",
       "2013-03-31                                  1                             0   \n",
       "2013-03-31                                  1                             0   \n",
       "2013-03-31                                  1                             0   \n",
       "2013-03-31                                  1                             0   \n",
       "2013-03-31                                  1                             0   \n",
       "2013-04-30                                  1                             0   \n",
       "2012-10-31                                  1                             0   \n",
       "2012-10-31                                  1                             0   \n",
       "2012-10-31                                  1                             0   \n",
       "...                                       ...                           ...   \n",
       "2016-12-31                                  1                             0   \n",
       "2016-11-30                                  1                             0   \n",
       "2016-12-31                                  1                             0   \n",
       "2016-11-30                                  1                             0   \n",
       "2016-12-31                                  1                             0   \n",
       "2016-12-31                                  1                             0   \n",
       "2016-12-31                                  1                             0   \n",
       "2016-12-31                                  1                             0   \n",
       "2016-12-31                                  1                             0   \n",
       "2016-12-31                                  1                             0   \n",
       "2016-11-30                                  1                             0   \n",
       "2016-11-30                                  1                             0   \n",
       "2016-12-31                                  1                             0   \n",
       "2016-12-31                                  1                             0   \n",
       "2016-11-30                                  1                             0   \n",
       "2016-12-31                                  1                             0   \n",
       "2016-11-30                                  1                             0   \n",
       "2016-12-31                                  1                             0   \n",
       "2016-11-30                                  1                             0   \n",
       "2016-12-31                                  1                             0   \n",
       "2016-11-30                                  1                             0   \n",
       "2016-11-30                                  1                             0   \n",
       "2016-12-31                                  1                             0   \n",
       "2016-12-31                                  1                             0   \n",
       "2016-12-31                                  1                             0   \n",
       "2016-11-30                                  1                             0   \n",
       "2016-11-30                                  1                             0   \n",
       "2016-12-31                                  1                             0   \n",
       "2016-11-30                                  1                             0   \n",
       "2016-12-31                                  1                             0   \n",
       "\n",
       "                 servicingadvancemethod_code4  zerobalanceeffectivedate_calc  \\\n",
       "originationdate                                                                \n",
       "2012-12-31                                  0                            0.0   \n",
       "2012-12-31                                  0                            0.0   \n",
       "2012-12-31                                  0                            0.0   \n",
       "2012-12-31                                  0                            0.0   \n",
       "2012-12-31                                  0                            0.0   \n",
       "2012-12-31                                  0                            0.0   \n",
       "2012-12-31                                  0                            0.0   \n",
       "2013-02-28                                  0                            0.0   \n",
       "2013-02-28                                  0                            0.0   \n",
       "2013-02-28                                  0                            0.0   \n",
       "2013-02-28                                  0                            0.0   \n",
       "2013-02-28                                  0                            0.0   \n",
       "2013-02-28                                  0                            0.0   \n",
       "2013-03-31                                  0                            0.0   \n",
       "2013-03-31                                  0                            0.0   \n",
       "2013-03-31                                  0                            0.0   \n",
       "2013-03-31                                  0                            0.0   \n",
       "2013-03-31                                  0                            0.0   \n",
       "2013-03-31                                  0                            0.0   \n",
       "2013-03-31                                  0                            0.0   \n",
       "2013-03-31                                  0                            0.0   \n",
       "2013-03-31                                  0                            0.0   \n",
       "2013-03-31                                  0                            0.0   \n",
       "2013-03-31                                  0                            0.0   \n",
       "2013-03-31                                  0                            0.0   \n",
       "2013-03-31                                  0                            0.0   \n",
       "2013-04-30                                  0                            0.0   \n",
       "2012-10-31                                  0                            0.0   \n",
       "2012-10-31                                  0                            0.0   \n",
       "2012-10-31                                  0                            0.0   \n",
       "...                                       ...                            ...   \n",
       "2016-12-31                                  0                            0.0   \n",
       "2016-11-30                                  0                            0.0   \n",
       "2016-12-31                                  0                            0.0   \n",
       "2016-11-30                                  0                            0.0   \n",
       "2016-12-31                                  0                            0.0   \n",
       "2016-12-31                                  0                            0.0   \n",
       "2016-12-31                                  0                            0.0   \n",
       "2016-12-31                                  0                            0.0   \n",
       "2016-12-31                                  0                            0.0   \n",
       "2016-12-31                                  0                            0.0   \n",
       "2016-11-30                                  0                            0.0   \n",
       "2016-11-30                                  0                            0.0   \n",
       "2016-12-31                                  0                            0.0   \n",
       "2016-12-31                                  0                            0.0   \n",
       "2016-11-30                                  0                            0.0   \n",
       "2016-12-31                                  0                            0.0   \n",
       "2016-11-30                                  0                            0.0   \n",
       "2016-12-31                                  0                            0.0   \n",
       "2016-11-30                                  0                            0.0   \n",
       "2016-12-31                                  0                            0.0   \n",
       "2016-11-30                                  0                            0.0   \n",
       "2016-11-30                                  0                            0.0   \n",
       "2016-12-31                                  0                            0.0   \n",
       "2016-12-31                                  0                            0.0   \n",
       "2016-12-31                                  0                            0.0   \n",
       "2016-11-30                                  0                            0.0   \n",
       "2016-11-30                                  0                            0.0   \n",
       "2016-12-31                                  0                            0.0   \n",
       "2016-11-30                                  0                            0.0   \n",
       "2016-12-31                                  0                            0.0   \n",
       "\n",
       "                 zerobalance_code[]  zerobalance_code[\"99\"]  \\\n",
       "originationdate                                               \n",
       "2012-12-31                        0                       1   \n",
       "2012-12-31                        0                       1   \n",
       "2012-12-31                        0                       1   \n",
       "2012-12-31                        0                       1   \n",
       "2012-12-31                        0                       1   \n",
       "2012-12-31                        0                       1   \n",
       "2012-12-31                        0                       1   \n",
       "2013-02-28                        0                       1   \n",
       "2013-02-28                        0                       1   \n",
       "2013-02-28                        0                       1   \n",
       "2013-02-28                        0                       1   \n",
       "2013-02-28                        0                       1   \n",
       "2013-02-28                        0                       1   \n",
       "2013-03-31                        0                       1   \n",
       "2013-03-31                        0                       1   \n",
       "2013-03-31                        0                       1   \n",
       "2013-03-31                        0                       1   \n",
       "2013-03-31                        0                       1   \n",
       "2013-03-31                        0                       1   \n",
       "2013-03-31                        0                       1   \n",
       "2013-03-31                        0                       1   \n",
       "2013-03-31                        0                       1   \n",
       "2013-03-31                        0                       1   \n",
       "2013-03-31                        0                       1   \n",
       "2013-03-31                        0                       1   \n",
       "2013-03-31                        0                       1   \n",
       "2013-04-30                        0                       1   \n",
       "2012-10-31                        0                       1   \n",
       "2012-10-31                        0                       1   \n",
       "2012-10-31                        0                       1   \n",
       "...                             ...                     ...   \n",
       "2016-12-31                        1                       0   \n",
       "2016-11-30                        1                       0   \n",
       "2016-12-31                        1                       0   \n",
       "2016-11-30                        1                       0   \n",
       "2016-12-31                        1                       0   \n",
       "2016-12-31                        1                       0   \n",
       "2016-12-31                        1                       0   \n",
       "2016-12-31                        1                       0   \n",
       "2016-12-31                        1                       0   \n",
       "2016-12-31                        1                       0   \n",
       "2016-11-30                        1                       0   \n",
       "2016-11-30                        1                       0   \n",
       "2016-12-31                        1                       0   \n",
       "2016-12-31                        1                       0   \n",
       "2016-11-30                        1                       0   \n",
       "2016-12-31                        1                       0   \n",
       "2016-11-30                        1                       0   \n",
       "2016-12-31                        1                       0   \n",
       "2016-11-30                        1                       0   \n",
       "2016-12-31                        1                       0   \n",
       "2016-11-30                        1                       0   \n",
       "2016-11-30                        1                       0   \n",
       "2016-12-31                        1                       0   \n",
       "2016-12-31                        1                       0   \n",
       "2016-12-31                        1                       0   \n",
       "2016-11-30                        1                       0   \n",
       "2016-11-30                        1                       0   \n",
       "2016-12-31                        1                       0   \n",
       "2016-11-30                        1                       0   \n",
       "2016-12-31                        1                       0   \n",
       "\n",
       "                 zerobalance_code[\"1\"]  \n",
       "originationdate                         \n",
       "2012-12-31                           0  \n",
       "2012-12-31                           0  \n",
       "2012-12-31                           0  \n",
       "2012-12-31                           0  \n",
       "2012-12-31                           0  \n",
       "2012-12-31                           0  \n",
       "2012-12-31                           0  \n",
       "2013-02-28                           0  \n",
       "2013-02-28                           0  \n",
       "2013-02-28                           0  \n",
       "2013-02-28                           0  \n",
       "2013-02-28                           0  \n",
       "2013-02-28                           0  \n",
       "2013-03-31                           0  \n",
       "2013-03-31                           0  \n",
       "2013-03-31                           0  \n",
       "2013-03-31                           0  \n",
       "2013-03-31                           0  \n",
       "2013-03-31                           0  \n",
       "2013-03-31                           0  \n",
       "2013-03-31                           0  \n",
       "2013-03-31                           0  \n",
       "2013-03-31                           0  \n",
       "2013-03-31                           0  \n",
       "2013-03-31                           0  \n",
       "2013-03-31                           0  \n",
       "2013-04-30                           0  \n",
       "2012-10-31                           0  \n",
       "2012-10-31                           0  \n",
       "2012-10-31                           0  \n",
       "...                                ...  \n",
       "2016-12-31                           0  \n",
       "2016-11-30                           0  \n",
       "2016-12-31                           0  \n",
       "2016-11-30                           0  \n",
       "2016-12-31                           0  \n",
       "2016-12-31                           0  \n",
       "2016-12-31                           0  \n",
       "2016-12-31                           0  \n",
       "2016-12-31                           0  \n",
       "2016-12-31                           0  \n",
       "2016-11-30                           0  \n",
       "2016-11-30                           0  \n",
       "2016-12-31                           0  \n",
       "2016-12-31                           0  \n",
       "2016-11-30                           0  \n",
       "2016-12-31                           0  \n",
       "2016-11-30                           0  \n",
       "2016-12-31                           0  \n",
       "2016-11-30                           0  \n",
       "2016-12-31                           0  \n",
       "2016-11-30                           0  \n",
       "2016-11-30                           0  \n",
       "2016-12-31                           0  \n",
       "2016-12-31                           0  \n",
       "2016-12-31                           0  \n",
       "2016-11-30                           0  \n",
       "2016-11-30                           0  \n",
       "2016-12-31                           0  \n",
       "2016-11-30                           0  \n",
       "2016-12-31                           0  \n",
       "\n",
       "[913091 rows x 66 columns]"
      ]
     },
     "execution_count": 130,
     "metadata": {},
     "output_type": "execute_result"
    }
   ],
   "source": [
    "df.set_index('originationdate')"
   ]
  },
  {
   "cell_type": "markdown",
   "metadata": {},
   "source": [
    "# Clean data"
   ]
  },
  {
   "cell_type": "code",
   "execution_count": 131,
   "metadata": {
    "collapsed": true
   },
   "outputs": [],
   "source": [
    "# change columns to lower case and remove prefix to enable pandas to work\n",
    "#column_list=[x.lower() for x in (column_list)]\n",
    "#df.columns=df.columns.str.replace('abs_loan.','')\n",
    "# convert objects to numeric\n",
    "#df=df.convert_objects(convert_numeric=True)"
   ]
  },
  {
   "cell_type": "markdown",
   "metadata": {},
   "source": [
    "# Check for null"
   ]
  },
  {
   "cell_type": "code",
   "execution_count": 132,
   "metadata": {},
   "outputs": [
    {
     "data": {
      "text/plain": [
       "True"
      ]
     },
     "execution_count": 132,
     "metadata": {},
     "output_type": "execute_result"
    }
   ],
   "source": [
    "df.isnull().values.any()"
   ]
  },
  {
   "cell_type": "markdown",
   "metadata": {},
   "source": [
    "# Loan Statistics"
   ]
  },
  {
   "cell_type": "code",
   "execution_count": 133,
   "metadata": {},
   "outputs": [
    {
     "data": {
      "text/html": [
       "<div>\n",
       "<style scoped>\n",
       "    .dataframe tbody tr th:only-of-type {\n",
       "        vertical-align: middle;\n",
       "    }\n",
       "\n",
       "    .dataframe tbody tr th {\n",
       "        vertical-align: top;\n",
       "    }\n",
       "\n",
       "    .dataframe thead th {\n",
       "        text-align: right;\n",
       "    }\n",
       "</style>\n",
       "<table border=\"1\" class=\"dataframe\">\n",
       "  <thead>\n",
       "    <tr style=\"text-align: right;\">\n",
       "      <th></th>\n",
       "      <th>originalloanamount</th>\n",
       "      <th>originalloanterm</th>\n",
       "      <th>originalinterestratepercentage</th>\n",
       "      <th>graceperiodnumber</th>\n",
       "      <th>obligorcreditscore</th>\n",
       "      <th>paymenttoincomepercentage</th>\n",
       "      <th>reportingperiodbeginningloanbalanceamount</th>\n",
       "      <th>nextreportingperiodpaymentamountdue</th>\n",
       "      <th>reportingperiodinterestratepercentage</th>\n",
       "      <th>nextinterestratepercentage</th>\n",
       "      <th>...</th>\n",
       "      <th>coobligorindicator_true</th>\n",
       "      <th>daystofirstpayment</th>\n",
       "      <th>reportingperiodmodificationindicator_true</th>\n",
       "      <th>servicingadvancemethod_code1</th>\n",
       "      <th>servicingadvancemethod_code2</th>\n",
       "      <th>servicingadvancemethod_code4</th>\n",
       "      <th>zerobalanceeffectivedate_calc</th>\n",
       "      <th>zerobalance_code[]</th>\n",
       "      <th>zerobalance_code[\"99\"]</th>\n",
       "      <th>zerobalance_code[\"1\"]</th>\n",
       "    </tr>\n",
       "  </thead>\n",
       "  <tbody>\n",
       "    <tr>\n",
       "      <th>count</th>\n",
       "      <td>913091.000000</td>\n",
       "      <td>913091.000000</td>\n",
       "      <td>913091.000000</td>\n",
       "      <td>913091.000000</td>\n",
       "      <td>913091.000000</td>\n",
       "      <td>911149.000000</td>\n",
       "      <td>900616.000000</td>\n",
       "      <td>913091.000000</td>\n",
       "      <td>913091.000000</td>\n",
       "      <td>913091.000000</td>\n",
       "      <td>...</td>\n",
       "      <td>913091.000000</td>\n",
       "      <td>913091.000000</td>\n",
       "      <td>913091.000000</td>\n",
       "      <td>913091.000000</td>\n",
       "      <td>913091.000000</td>\n",
       "      <td>913091.000000</td>\n",
       "      <td>913091.000000</td>\n",
       "      <td>913091.000000</td>\n",
       "      <td>913091.000000</td>\n",
       "      <td>913091.000000</td>\n",
       "    </tr>\n",
       "    <tr>\n",
       "      <th>mean</th>\n",
       "      <td>27233.943827</td>\n",
       "      <td>64.614875</td>\n",
       "      <td>1.726464</td>\n",
       "      <td>1.094260</td>\n",
       "      <td>716.068187</td>\n",
       "      <td>2.877614</td>\n",
       "      <td>21011.830254</td>\n",
       "      <td>341.368529</td>\n",
       "      <td>1.741928</td>\n",
       "      <td>1.742096</td>\n",
       "      <td>...</td>\n",
       "      <td>0.301215</td>\n",
       "      <td>42.283781</td>\n",
       "      <td>0.027157</td>\n",
       "      <td>0.905768</td>\n",
       "      <td>0.083000</td>\n",
       "      <td>0.011231</td>\n",
       "      <td>0.528030</td>\n",
       "      <td>0.567621</td>\n",
       "      <td>0.431327</td>\n",
       "      <td>0.001051</td>\n",
       "    </tr>\n",
       "    <tr>\n",
       "      <th>std</th>\n",
       "      <td>14118.886418</td>\n",
       "      <td>9.379836</td>\n",
       "      <td>2.516312</td>\n",
       "      <td>0.588093</td>\n",
       "      <td>105.381043</td>\n",
       "      <td>4.699453</td>\n",
       "      <td>12190.447670</td>\n",
       "      <td>469.665171</td>\n",
       "      <td>2.535350</td>\n",
       "      <td>2.535241</td>\n",
       "      <td>...</td>\n",
       "      <td>0.458786</td>\n",
       "      <td>15.391768</td>\n",
       "      <td>0.162541</td>\n",
       "      <td>0.292151</td>\n",
       "      <td>0.275883</td>\n",
       "      <td>0.105380</td>\n",
       "      <td>19.214208</td>\n",
       "      <td>0.495407</td>\n",
       "      <td>0.495262</td>\n",
       "      <td>0.032408</td>\n",
       "    </tr>\n",
       "    <tr>\n",
       "      <th>min</th>\n",
       "      <td>1624.630000</td>\n",
       "      <td>12.000000</td>\n",
       "      <td>0.000000</td>\n",
       "      <td>0.000000</td>\n",
       "      <td>359.000000</td>\n",
       "      <td>0.000000</td>\n",
       "      <td>0.000000</td>\n",
       "      <td>-1.300000</td>\n",
       "      <td>0.000000</td>\n",
       "      <td>0.000000</td>\n",
       "      <td>...</td>\n",
       "      <td>0.000000</td>\n",
       "      <td>-62.000000</td>\n",
       "      <td>0.000000</td>\n",
       "      <td>0.000000</td>\n",
       "      <td>0.000000</td>\n",
       "      <td>0.000000</td>\n",
       "      <td>0.000000</td>\n",
       "      <td>0.000000</td>\n",
       "      <td>0.000000</td>\n",
       "      <td>0.000000</td>\n",
       "    </tr>\n",
       "    <tr>\n",
       "      <th>25%</th>\n",
       "      <td>17494.000000</td>\n",
       "      <td>60.000000</td>\n",
       "      <td>0.121900</td>\n",
       "      <td>1.000000</td>\n",
       "      <td>637.000000</td>\n",
       "      <td>0.076056</td>\n",
       "      <td>12597.082500</td>\n",
       "      <td>0.000000</td>\n",
       "      <td>0.119600</td>\n",
       "      <td>0.120100</td>\n",
       "      <td>...</td>\n",
       "      <td>0.000000</td>\n",
       "      <td>30.000000</td>\n",
       "      <td>0.000000</td>\n",
       "      <td>1.000000</td>\n",
       "      <td>0.000000</td>\n",
       "      <td>0.000000</td>\n",
       "      <td>0.000000</td>\n",
       "      <td>0.000000</td>\n",
       "      <td>0.000000</td>\n",
       "      <td>0.000000</td>\n",
       "    </tr>\n",
       "    <tr>\n",
       "      <th>50%</th>\n",
       "      <td>24556.500000</td>\n",
       "      <td>65.000000</td>\n",
       "      <td>0.900000</td>\n",
       "      <td>1.000000</td>\n",
       "      <td>728.000000</td>\n",
       "      <td>0.151350</td>\n",
       "      <td>18934.855000</td>\n",
       "      <td>231.850000</td>\n",
       "      <td>0.903000</td>\n",
       "      <td>0.903000</td>\n",
       "      <td>...</td>\n",
       "      <td>0.000000</td>\n",
       "      <td>31.000000</td>\n",
       "      <td>0.000000</td>\n",
       "      <td>1.000000</td>\n",
       "      <td>0.000000</td>\n",
       "      <td>0.000000</td>\n",
       "      <td>0.000000</td>\n",
       "      <td>1.000000</td>\n",
       "      <td>0.000000</td>\n",
       "      <td>0.000000</td>\n",
       "    </tr>\n",
       "    <tr>\n",
       "      <th>75%</th>\n",
       "      <td>33598.480000</td>\n",
       "      <td>72.000000</td>\n",
       "      <td>2.900000</td>\n",
       "      <td>1.000000</td>\n",
       "      <td>805.000000</td>\n",
       "      <td>4.610000</td>\n",
       "      <td>26957.792500</td>\n",
       "      <td>530.040000</td>\n",
       "      <td>2.936200</td>\n",
       "      <td>2.936200</td>\n",
       "      <td>...</td>\n",
       "      <td>1.000000</td>\n",
       "      <td>61.000000</td>\n",
       "      <td>0.000000</td>\n",
       "      <td>1.000000</td>\n",
       "      <td>0.000000</td>\n",
       "      <td>0.000000</td>\n",
       "      <td>0.000000</td>\n",
       "      <td>1.000000</td>\n",
       "      <td>1.000000</td>\n",
       "      <td>0.000000</td>\n",
       "    </tr>\n",
       "    <tr>\n",
       "      <th>max</th>\n",
       "      <td>189984.120000</td>\n",
       "      <td>75.000000</td>\n",
       "      <td>22.990000</td>\n",
       "      <td>3.000000</td>\n",
       "      <td>900.000000</td>\n",
       "      <td>96.950000</td>\n",
       "      <td>180707.380000</td>\n",
       "      <td>13589.950000</td>\n",
       "      <td>22.990000</td>\n",
       "      <td>22.990000</td>\n",
       "      <td>...</td>\n",
       "      <td>1.000000</td>\n",
       "      <td>92.000000</td>\n",
       "      <td>1.000000</td>\n",
       "      <td>1.000000</td>\n",
       "      <td>1.000000</td>\n",
       "      <td>1.000000</td>\n",
       "      <td>1916.000000</td>\n",
       "      <td>1.000000</td>\n",
       "      <td>1.000000</td>\n",
       "      <td>1.000000</td>\n",
       "    </tr>\n",
       "  </tbody>\n",
       "</table>\n",
       "<p>8 rows × 66 columns</p>\n",
       "</div>"
      ],
      "text/plain": [
       "       originalloanamount  originalloanterm  originalinterestratepercentage  \\\n",
       "count       913091.000000     913091.000000                   913091.000000   \n",
       "mean         27233.943827         64.614875                        1.726464   \n",
       "std          14118.886418          9.379836                        2.516312   \n",
       "min           1624.630000         12.000000                        0.000000   \n",
       "25%          17494.000000         60.000000                        0.121900   \n",
       "50%          24556.500000         65.000000                        0.900000   \n",
       "75%          33598.480000         72.000000                        2.900000   \n",
       "max         189984.120000         75.000000                       22.990000   \n",
       "\n",
       "       graceperiodnumber  obligorcreditscore  paymenttoincomepercentage  \\\n",
       "count      913091.000000       913091.000000              911149.000000   \n",
       "mean            1.094260          716.068187                   2.877614   \n",
       "std             0.588093          105.381043                   4.699453   \n",
       "min             0.000000          359.000000                   0.000000   \n",
       "25%             1.000000          637.000000                   0.076056   \n",
       "50%             1.000000          728.000000                   0.151350   \n",
       "75%             1.000000          805.000000                   4.610000   \n",
       "max             3.000000          900.000000                  96.950000   \n",
       "\n",
       "       reportingperiodbeginningloanbalanceamount  \\\n",
       "count                              900616.000000   \n",
       "mean                                21011.830254   \n",
       "std                                 12190.447670   \n",
       "min                                     0.000000   \n",
       "25%                                 12597.082500   \n",
       "50%                                 18934.855000   \n",
       "75%                                 26957.792500   \n",
       "max                                180707.380000   \n",
       "\n",
       "       nextreportingperiodpaymentamountdue  \\\n",
       "count                        913091.000000   \n",
       "mean                            341.368529   \n",
       "std                             469.665171   \n",
       "min                              -1.300000   \n",
       "25%                               0.000000   \n",
       "50%                             231.850000   \n",
       "75%                             530.040000   \n",
       "max                           13589.950000   \n",
       "\n",
       "       reportingperiodinterestratepercentage  nextinterestratepercentage  \\\n",
       "count                          913091.000000               913091.000000   \n",
       "mean                                1.741928                    1.742096   \n",
       "std                                 2.535350                    2.535241   \n",
       "min                                 0.000000                    0.000000   \n",
       "25%                                 0.119600                    0.120100   \n",
       "50%                                 0.903000                    0.903000   \n",
       "75%                                 2.936200                    2.936200   \n",
       "max                                22.990000                   22.990000   \n",
       "\n",
       "               ...            coobligorindicator_true  daystofirstpayment  \\\n",
       "count          ...                      913091.000000       913091.000000   \n",
       "mean           ...                           0.301215           42.283781   \n",
       "std            ...                           0.458786           15.391768   \n",
       "min            ...                           0.000000          -62.000000   \n",
       "25%            ...                           0.000000           30.000000   \n",
       "50%            ...                           0.000000           31.000000   \n",
       "75%            ...                           1.000000           61.000000   \n",
       "max            ...                           1.000000           92.000000   \n",
       "\n",
       "       reportingperiodmodificationindicator_true  \\\n",
       "count                              913091.000000   \n",
       "mean                                    0.027157   \n",
       "std                                     0.162541   \n",
       "min                                     0.000000   \n",
       "25%                                     0.000000   \n",
       "50%                                     0.000000   \n",
       "75%                                     0.000000   \n",
       "max                                     1.000000   \n",
       "\n",
       "       servicingadvancemethod_code1  servicingadvancemethod_code2  \\\n",
       "count                 913091.000000                 913091.000000   \n",
       "mean                       0.905768                      0.083000   \n",
       "std                        0.292151                      0.275883   \n",
       "min                        0.000000                      0.000000   \n",
       "25%                        1.000000                      0.000000   \n",
       "50%                        1.000000                      0.000000   \n",
       "75%                        1.000000                      0.000000   \n",
       "max                        1.000000                      1.000000   \n",
       "\n",
       "       servicingadvancemethod_code4  zerobalanceeffectivedate_calc  \\\n",
       "count                 913091.000000                  913091.000000   \n",
       "mean                       0.011231                       0.528030   \n",
       "std                        0.105380                      19.214208   \n",
       "min                        0.000000                       0.000000   \n",
       "25%                        0.000000                       0.000000   \n",
       "50%                        0.000000                       0.000000   \n",
       "75%                        0.000000                       0.000000   \n",
       "max                        1.000000                    1916.000000   \n",
       "\n",
       "       zerobalance_code[]  zerobalance_code[\"99\"]  zerobalance_code[\"1\"]  \n",
       "count       913091.000000           913091.000000          913091.000000  \n",
       "mean             0.567621                0.431327               0.001051  \n",
       "std              0.495407                0.495262               0.032408  \n",
       "min              0.000000                0.000000               0.000000  \n",
       "25%              0.000000                0.000000               0.000000  \n",
       "50%              1.000000                0.000000               0.000000  \n",
       "75%              1.000000                1.000000               0.000000  \n",
       "max              1.000000                1.000000               1.000000  \n",
       "\n",
       "[8 rows x 66 columns]"
      ]
     },
     "execution_count": 133,
     "metadata": {},
     "output_type": "execute_result"
    }
   ],
   "source": [
    "df.describe()"
   ]
  },
  {
   "cell_type": "markdown",
   "metadata": {},
   "source": [
    "# Current Vs Other Buckets"
   ]
  },
  {
   "cell_type": "code",
   "execution_count": 134,
   "metadata": {},
   "outputs": [
    {
     "data": {
      "image/png": "[encoded data removed]",
      "text/plain": [
       "<Figure size 432x288 with 1 Axes>"
      ]
     },
     "metadata": {},
     "output_type": "display_data"
    },
    {
     "name": "stdout",
     "output_type": "stream",
     "text": [
      "Number of loans Current : 833100     Number of loans Not Current : 79991\n"
     ]
    }
   ],
   "source": [
    "LABELS = ('Current', 'Not Current')\n",
    "count_classes = pd.value_counts(df.currentdelinquencystatus>0, sort = True)\n",
    "count_classes.plot(kind = 'bar', rot=0)\n",
    "plt.xticks(range(2), LABELS)\n",
    "plt.title('Deliquency Class')\n",
    "plt.ylabel(\"Number of Loans\")\n",
    "plt.show()\n",
    "print('Number of loans Current :', count_classes[0],'   ', 'Number of loans Not Current :', count_classes[1],)"
   ]
  },
  {
   "cell_type": "code",
   "execution_count": 135,
   "metadata": {
    "collapsed": true
   },
   "outputs": [],
   "source": [
    "#pd.value_counts(df.currentdelinquencystatus)"
   ]
  },
  {
   "cell_type": "markdown",
   "metadata": {},
   "source": [
    "# Label Creation"
   ]
  },
  {
   "cell_type": "code",
   "execution_count": 136,
   "metadata": {},
   "outputs": [
    {
     "data": {
      "image/png": "[encoded data removed]",
      "text/plain": [
       "<Figure size 432x288 with 1 Axes>"
      ]
     },
     "metadata": {},
     "output_type": "display_data"
    },
    {
     "name": "stdout",
     "output_type": "stream",
     "text": [
      "Number of loans Current : 858968     Number of loans Defaulted : 54123\n"
     ]
    }
   ],
   "source": [
    "def map_label(*args):\n",
    "    columns = [col for col in args]\n",
    "    for column in columns:\n",
    "        if column > default_months:\n",
    "            return 1\n",
    "        elif column <= default_months:\n",
    "            return 0\n",
    "        \n",
    "df['label'] = list(map(map_label, df.currentdelinquencystatus ))\n",
    "\n",
    "LABELS = ('Current', 'Default')\n",
    "count_classes = pd.value_counts(df.label, sort = True)\n",
    "count_classes.plot(kind = 'bar', rot=0)\n",
    "plt.xticks(range(2), LABELS)\n",
    "plt.title('Revised Deliquency Class')\n",
    "plt.ylabel(\"Number of Loans\")\n",
    "plt.show()\n",
    "print('Number of loans Current :', count_classes[0],'   ', 'Number of loans Defaulted :', count_classes[1],)"
   ]
  },
  {
   "cell_type": "markdown",
   "metadata": {},
   "source": [
    "# Loan Balance Amount at the End of Reporting Period"
   ]
  },
  {
   "cell_type": "code",
   "execution_count": 137,
   "metadata": {},
   "outputs": [
    {
     "data": {
      "image/png": "[encoded data removed]",
      "text/plain": [
       "<Figure size 432x288 with 1 Axes>"
      ]
     },
     "metadata": {},
     "output_type": "display_data"
    }
   ],
   "source": [
    "current_df = df[df.label==0]\n",
    "not_current_df = df[df.label==1]\n",
    "bins = np.linspace(0, 100000, 100)\n",
    "plt.hist(current_df.reportingperiodactualendbalanceamount, bins, alpha=0.6, density=True, label='CURRENT')\n",
    "plt.hist(not_current_df.reportingperiodactualendbalanceamount, bins, alpha=1, density=True, label='NOT CURRENT')\n",
    "plt.legend(loc='upper right')\n",
    "plt.title(\"Loan Balance Amount at the end of reporting Period\")\n",
    "plt.xlabel('Loan Balance Amount')\n",
    "plt.ylabel('Percent of Loans')\n",
    "plt.show()"
   ]
  },
  {
   "cell_type": "markdown",
   "metadata": {
    "collapsed": true
   },
   "source": [
    "#  Clean up for Machine Learning"
   ]
  },
  {
   "cell_type": "code",
   "execution_count": 138,
   "metadata": {},
   "outputs": [
    {
     "data": {
      "text/html": [
       "<div>\n",
       "<style scoped>\n",
       "    .dataframe tbody tr th:only-of-type {\n",
       "        vertical-align: middle;\n",
       "    }\n",
       "\n",
       "    .dataframe tbody tr th {\n",
       "        vertical-align: top;\n",
       "    }\n",
       "\n",
       "    .dataframe thead th {\n",
       "        text-align: right;\n",
       "    }\n",
       "</style>\n",
       "<table border=\"1\" class=\"dataframe\">\n",
       "  <thead>\n",
       "    <tr style=\"text-align: right;\">\n",
       "      <th></th>\n",
       "      <th>originalloanamount</th>\n",
       "      <th>originalloanterm</th>\n",
       "      <th>originalinterestratepercentage</th>\n",
       "      <th>graceperiodnumber</th>\n",
       "      <th>obligorcreditscore</th>\n",
       "      <th>paymenttoincomepercentage</th>\n",
       "      <th>reportingperiodbeginningloanbalanceamount</th>\n",
       "      <th>nextreportingperiodpaymentamountdue</th>\n",
       "      <th>reportingperiodinterestratepercentage</th>\n",
       "      <th>nextinterestratepercentage</th>\n",
       "      <th>...</th>\n",
       "      <th>daystofirstpayment</th>\n",
       "      <th>reportingperiodmodificationindicator_true</th>\n",
       "      <th>servicingadvancemethod_code1</th>\n",
       "      <th>servicingadvancemethod_code2</th>\n",
       "      <th>servicingadvancemethod_code4</th>\n",
       "      <th>zerobalanceeffectivedate_calc</th>\n",
       "      <th>zerobalance_code[]</th>\n",
       "      <th>zerobalance_code[\"99\"]</th>\n",
       "      <th>zerobalance_code[\"1\"]</th>\n",
       "      <th>label</th>\n",
       "    </tr>\n",
       "  </thead>\n",
       "  <tbody>\n",
       "    <tr>\n",
       "      <th>0</th>\n",
       "      <td>25124.50</td>\n",
       "      <td>72</td>\n",
       "      <td>3.29</td>\n",
       "      <td>0</td>\n",
       "      <td>812.0</td>\n",
       "      <td>2.66</td>\n",
       "      <td>4850.55</td>\n",
       "      <td>0.0</td>\n",
       "      <td>3.3423</td>\n",
       "      <td>3.3423</td>\n",
       "      <td>...</td>\n",
       "      <td>31</td>\n",
       "      <td>0</td>\n",
       "      <td>1</td>\n",
       "      <td>0</td>\n",
       "      <td>0</td>\n",
       "      <td>0.0</td>\n",
       "      <td>0</td>\n",
       "      <td>1</td>\n",
       "      <td>0</td>\n",
       "      <td>0</td>\n",
       "    </tr>\n",
       "    <tr>\n",
       "      <th>1</th>\n",
       "      <td>43257.34</td>\n",
       "      <td>72</td>\n",
       "      <td>3.29</td>\n",
       "      <td>1</td>\n",
       "      <td>817.0</td>\n",
       "      <td>3.99</td>\n",
       "      <td>8966.77</td>\n",
       "      <td>0.0</td>\n",
       "      <td>3.3416</td>\n",
       "      <td>3.3416</td>\n",
       "      <td>...</td>\n",
       "      <td>59</td>\n",
       "      <td>0</td>\n",
       "      <td>1</td>\n",
       "      <td>0</td>\n",
       "      <td>0</td>\n",
       "      <td>0.0</td>\n",
       "      <td>0</td>\n",
       "      <td>1</td>\n",
       "      <td>0</td>\n",
       "      <td>0</td>\n",
       "    </tr>\n",
       "    <tr>\n",
       "      <th>2</th>\n",
       "      <td>56917.54</td>\n",
       "      <td>72</td>\n",
       "      <td>3.29</td>\n",
       "      <td>1</td>\n",
       "      <td>818.0</td>\n",
       "      <td>6.97</td>\n",
       "      <td>12817.43</td>\n",
       "      <td>0.0</td>\n",
       "      <td>3.3450</td>\n",
       "      <td>3.3450</td>\n",
       "      <td>...</td>\n",
       "      <td>59</td>\n",
       "      <td>0</td>\n",
       "      <td>1</td>\n",
       "      <td>0</td>\n",
       "      <td>0</td>\n",
       "      <td>0.0</td>\n",
       "      <td>0</td>\n",
       "      <td>1</td>\n",
       "      <td>0</td>\n",
       "      <td>0</td>\n",
       "    </tr>\n",
       "    <tr>\n",
       "      <th>3</th>\n",
       "      <td>42003.57</td>\n",
       "      <td>72</td>\n",
       "      <td>3.29</td>\n",
       "      <td>1</td>\n",
       "      <td>791.0</td>\n",
       "      <td>2.96</td>\n",
       "      <td>8798.55</td>\n",
       "      <td>0.0</td>\n",
       "      <td>3.3424</td>\n",
       "      <td>3.3424</td>\n",
       "      <td>...</td>\n",
       "      <td>31</td>\n",
       "      <td>0</td>\n",
       "      <td>1</td>\n",
       "      <td>0</td>\n",
       "      <td>0</td>\n",
       "      <td>0.0</td>\n",
       "      <td>0</td>\n",
       "      <td>1</td>\n",
       "      <td>0</td>\n",
       "      <td>0</td>\n",
       "    </tr>\n",
       "    <tr>\n",
       "      <th>4</th>\n",
       "      <td>77217.85</td>\n",
       "      <td>72</td>\n",
       "      <td>3.29</td>\n",
       "      <td>1</td>\n",
       "      <td>712.0</td>\n",
       "      <td>10.37</td>\n",
       "      <td>17477.67</td>\n",
       "      <td>0.0</td>\n",
       "      <td>3.3449</td>\n",
       "      <td>3.3449</td>\n",
       "      <td>...</td>\n",
       "      <td>59</td>\n",
       "      <td>0</td>\n",
       "      <td>1</td>\n",
       "      <td>0</td>\n",
       "      <td>0</td>\n",
       "      <td>0.0</td>\n",
       "      <td>0</td>\n",
       "      <td>1</td>\n",
       "      <td>0</td>\n",
       "      <td>0</td>\n",
       "    </tr>\n",
       "  </tbody>\n",
       "</table>\n",
       "<p>5 rows × 67 columns</p>\n",
       "</div>"
      ],
      "text/plain": [
       "   originalloanamount  originalloanterm  originalinterestratepercentage  \\\n",
       "0            25124.50                72                            3.29   \n",
       "1            43257.34                72                            3.29   \n",
       "2            56917.54                72                            3.29   \n",
       "3            42003.57                72                            3.29   \n",
       "4            77217.85                72                            3.29   \n",
       "\n",
       "   graceperiodnumber  obligorcreditscore  paymenttoincomepercentage  \\\n",
       "0                  0               812.0                       2.66   \n",
       "1                  1               817.0                       3.99   \n",
       "2                  1               818.0                       6.97   \n",
       "3                  1               791.0                       2.96   \n",
       "4                  1               712.0                      10.37   \n",
       "\n",
       "   reportingperiodbeginningloanbalanceamount  \\\n",
       "0                                    4850.55   \n",
       "1                                    8966.77   \n",
       "2                                   12817.43   \n",
       "3                                    8798.55   \n",
       "4                                   17477.67   \n",
       "\n",
       "   nextreportingperiodpaymentamountdue  reportingperiodinterestratepercentage  \\\n",
       "0                                  0.0                                 3.3423   \n",
       "1                                  0.0                                 3.3416   \n",
       "2                                  0.0                                 3.3450   \n",
       "3                                  0.0                                 3.3424   \n",
       "4                                  0.0                                 3.3449   \n",
       "\n",
       "   nextinterestratepercentage  ...    daystofirstpayment  \\\n",
       "0                      3.3423  ...                    31   \n",
       "1                      3.3416  ...                    59   \n",
       "2                      3.3450  ...                    59   \n",
       "3                      3.3424  ...                    31   \n",
       "4                      3.3449  ...                    59   \n",
       "\n",
       "   reportingperiodmodificationindicator_true  servicingadvancemethod_code1  \\\n",
       "0                                          0                             1   \n",
       "1                                          0                             1   \n",
       "2                                          0                             1   \n",
       "3                                          0                             1   \n",
       "4                                          0                             1   \n",
       "\n",
       "   servicingadvancemethod_code2  servicingadvancemethod_code4  \\\n",
       "0                             0                             0   \n",
       "1                             0                             0   \n",
       "2                             0                             0   \n",
       "3                             0                             0   \n",
       "4                             0                             0   \n",
       "\n",
       "   zerobalanceeffectivedate_calc  zerobalance_code[]  zerobalance_code[\"99\"]  \\\n",
       "0                            0.0                   0                       1   \n",
       "1                            0.0                   0                       1   \n",
       "2                            0.0                   0                       1   \n",
       "3                            0.0                   0                       1   \n",
       "4                            0.0                   0                       1   \n",
       "\n",
       "   zerobalance_code[\"1\"]  label  \n",
       "0                      0      0  \n",
       "1                      0      0  \n",
       "2                      0      0  \n",
       "3                      0      0  \n",
       "4                      0      0  \n",
       "\n",
       "[5 rows x 67 columns]"
      ]
     },
     "execution_count": 138,
     "metadata": {},
     "output_type": "execute_result"
    }
   ],
   "source": [
    "df.fillna(0, inplace=True)\n",
    "df=df.replace([np.inf, -np.inf], np.nan)\n",
    "df.dropna(inplace=True)\n",
    "df.drop(['originationdate'], axis=1, inplace=True)\n",
    "df.head()"
   ]
  },
  {
   "cell_type": "markdown",
   "metadata": {},
   "source": [
    "# Preparing data for Machine Learning"
   ]
  },
  {
   "cell_type": "code",
   "execution_count": 139,
   "metadata": {},
   "outputs": [
    {
     "data": {
      "text/plain": [
       "(913091,)"
      ]
     },
     "execution_count": 139,
     "metadata": {},
     "output_type": "execute_result"
    }
   ],
   "source": [
    "# prepare label\n",
    "Y=df.label.values\n",
    "Y.shape"
   ]
  },
  {
   "cell_type": "code",
   "execution_count": 140,
   "metadata": {},
   "outputs": [
    {
     "data": {
      "text/plain": [
       "(913091, 1)"
      ]
     },
     "execution_count": 140,
     "metadata": {},
     "output_type": "execute_result"
    }
   ],
   "source": [
    "# reshape labels for machine learning\n",
    "Y=Y.reshape(Y.shape[0],1)\n",
    "Y.shape"
   ]
  },
  {
   "cell_type": "code",
   "execution_count": 141,
   "metadata": {},
   "outputs": [
    {
     "data": {
      "text/plain": [
       "(913091, 67)"
      ]
     },
     "execution_count": 141,
     "metadata": {},
     "output_type": "execute_result"
    }
   ],
   "source": [
    "# prepare input data\n",
    "input=df.values\n",
    "input.shape"
   ]
  },
  {
   "cell_type": "code",
   "execution_count": 142,
   "metadata": {},
   "outputs": [
    {
     "name": "stdout",
     "output_type": "stream",
     "text": [
      "821781\n"
     ]
    }
   ],
   "source": [
    "# calculate train/test split\n",
    "len_train = int(len(input)*train_split)\n",
    "print(len_train)"
   ]
  },
  {
   "cell_type": "code",
   "execution_count": 143,
   "metadata": {
    "collapsed": true
   },
   "outputs": [],
   "source": [
    "# apply train/test split to labels\n",
    "y_train = Y[0:len_train]\n",
    "y_test = Y[len_train:]"
   ]
  },
  {
   "cell_type": "code",
   "execution_count": 144,
   "metadata": {
    "collapsed": true
   },
   "outputs": [],
   "source": [
    "#drop unneeded columns for creating input data\n",
    "df.drop(['currentdelinquencystatus','label'], axis=1, inplace=True)"
   ]
  },
  {
   "cell_type": "code",
   "execution_count": 145,
   "metadata": {},
   "outputs": [
    {
     "data": {
      "text/plain": [
       "(913091, 67, 1)"
      ]
     },
     "execution_count": 145,
     "metadata": {},
     "output_type": "execute_result"
    }
   ],
   "source": [
    "#reshape input data for machine learning\n",
    "input=input.reshape(input.shape[0], input.shape[1], 1)\n",
    "input.shape"
   ]
  },
  {
   "cell_type": "code",
   "execution_count": 146,
   "metadata": {
    "collapsed": true
   },
   "outputs": [],
   "source": [
    "# apply train/test split to input data\n",
    "x_train = input[0:len_train]\n",
    "x_test = input[len_train:]"
   ]
  },
  {
   "cell_type": "markdown",
   "metadata": {},
   "source": [
    "# Normalize input data"
   ]
  },
  {
   "cell_type": "code",
   "execution_count": 147,
   "metadata": {
    "scrolled": false
   },
   "outputs": [
    {
     "data": {
      "text/plain": [
       "(821781, 67, 1)"
      ]
     },
     "execution_count": 147,
     "metadata": {},
     "output_type": "execute_result"
    }
   ],
   "source": [
    "x_train_keras_scaled = keras.utils.normalize(x_train, axis=-1, order=2)\n",
    "x_test_keras_scaled = keras.utils.normalize(x_test, axis=-1, order=2)\n",
    "x_train_keras_scaled.shape"
   ]
  },
  {
   "cell_type": "markdown",
   "metadata": {},
   "source": [
    "# Model Architecture"
   ]
  },
  {
   "cell_type": "code",
   "execution_count": 148,
   "metadata": {},
   "outputs": [
    {
     "name": "stdout",
     "output_type": "stream",
     "text": [
      "_________________________________________________________________\n",
      "Layer (type)                 Output Shape              Param #   \n",
      "=================================================================\n",
      "gru_1 (GRU)                  (None, 67, 254)           195072    \n",
      "_________________________________________________________________\n",
      "dropout_1 (Dropout)          (None, 67, 254)           0         \n",
      "_________________________________________________________________\n",
      "gru_2 (GRU)                  (None, 128)               147072    \n",
      "_________________________________________________________________\n",
      "dropout_2 (Dropout)          (None, 128)               0         \n",
      "_________________________________________________________________\n",
      "dense_1 (Dense)              (None, 32)                4128      \n",
      "_________________________________________________________________\n",
      "dropout_3 (Dropout)          (None, 32)                0         \n",
      "_________________________________________________________________\n",
      "dense_2 (Dense)              (None, 2)                 66        \n",
      "=================================================================\n",
      "Total params: 346,338\n",
      "Trainable params: 346,338\n",
      "Non-trainable params: 0\n",
      "_________________________________________________________________\n"
     ]
    }
   ],
   "source": [
    "model = keras.Sequential()\n",
    "model.add(keras.layers.GRU(254, activation='relu', input_shape=(x_train_keras_scaled.shape[1:]), return_sequences=True))\n",
    "model.add(keras.layers.Dropout(0.2))\n",
    "\n",
    "model.add(keras.layers.GRU(128, activation='relu'))\n",
    "model.add(keras.layers.Dropout(0.1))\n",
    "\n",
    "model.add(keras.layers.Dense(32, activation='relu'))\n",
    "model.add(keras.layers.Dropout(0.2))\n",
    "\n",
    "model.add(keras.layers.Dense(2, activation='softmax'))\n",
    "\n",
    "optimizer = tf.keras.optimizers.Adam(lr=1e-3, decay=1e-6)\n",
    "model.summary()"
   ]
  },
  {
   "cell_type": "markdown",
   "metadata": {},
   "source": [
    "# Model Configuration"
   ]
  },
  {
   "cell_type": "code",
   "execution_count": 149,
   "metadata": {
    "collapsed": true
   },
   "outputs": [],
   "source": [
    "#save the best model\n",
    "#keras.callbacks.Callback()\n",
    "# checkPoint = ModelCheckpoint(filepath = path+'model/'+name+'.h5',\n",
    "#                             save_best_only = True,\n",
    "#                             verbose=0)\n",
    "# tensorboard = TensorBoard(log_dir=path+'logs/{}'.format(name),\n",
    "#                           histogram_freq=0,\n",
    "#                           batch_size=32,\n",
    "#                           write_graph=True,\n",
    "#                           write_images=False)\n",
    "# history = keras.callbacks.History()"
   ]
  },
  {
   "cell_type": "markdown",
   "metadata": {},
   "source": [
    "# Train the Model"
   ]
  },
  {
   "cell_type": "code",
   "execution_count": 150,
   "metadata": {
    "scrolled": false
   },
   "outputs": [
    {
     "name": "stdout",
     "output_type": "stream",
     "text": [
      "Train on 821781 samples, validate on 91310 samples\n",
      "Epoch 1/1\n",
      "357704/821781 [============>.................] - ETA: 2:23:26 - loss: 0.2269 - acc: 0.9859"
     ]
    },
    {
     "ename": "KeyboardInterrupt",
     "evalue": "",
     "output_type": "error",
     "traceback": [
      "\u001b[1;31m---------------------------------------------------------------------------\u001b[0m",
      "\u001b[1;31mKeyboardInterrupt\u001b[0m                         Traceback (most recent call last)",
      "\u001b[1;32m<ipython-input-150-7883520c8dd9>\u001b[0m in \u001b[0;36m<module>\u001b[1;34m()\u001b[0m\n\u001b[0;32m      9\u001b[0m     \u001b[1;31m#reduceLROnPlateau\u001b[0m\u001b[1;33m\u001b[0m\u001b[1;33m\u001b[0m\u001b[0m\n\u001b[0;32m     10\u001b[0m      \u001b[1;31m#    ],\u001b[0m\u001b[1;33m\u001b[0m\u001b[1;33m\u001b[0m\u001b[0m\n\u001b[1;32m---> 11\u001b[1;33m           \u001b[0mshuffle\u001b[0m\u001b[1;33m=\u001b[0m\u001b[1;32mFalse\u001b[0m\u001b[1;33m\u001b[0m\u001b[0m\n\u001b[0m\u001b[0;32m     12\u001b[0m )\n",
      "\u001b[1;32mC:\\Progra~1\\Anaconda3_4\\lib\\site-packages\\tensorflow\\python\\keras\\_impl\\keras\\engine\\training.py\u001b[0m in \u001b[0;36mfit\u001b[1;34m(self, x, y, batch_size, epochs, verbose, callbacks, validation_split, validation_data, shuffle, class_weight, sample_weight, initial_epoch, steps_per_epoch, validation_steps, **kwargs)\u001b[0m\n\u001b[0;32m   1214\u001b[0m           \u001b[0minitial_epoch\u001b[0m\u001b[1;33m=\u001b[0m\u001b[0minitial_epoch\u001b[0m\u001b[1;33m,\u001b[0m\u001b[1;33m\u001b[0m\u001b[0m\n\u001b[0;32m   1215\u001b[0m           \u001b[0msteps_per_epoch\u001b[0m\u001b[1;33m=\u001b[0m\u001b[0msteps_per_epoch\u001b[0m\u001b[1;33m,\u001b[0m\u001b[1;33m\u001b[0m\u001b[0m\n\u001b[1;32m-> 1216\u001b[1;33m           validation_steps=validation_steps)\n\u001b[0m\u001b[0;32m   1217\u001b[0m \u001b[1;33m\u001b[0m\u001b[0m\n\u001b[0;32m   1218\u001b[0m   def evaluate(self,\n",
      "\u001b[1;32mC:\\Progra~1\\Anaconda3_4\\lib\\site-packages\\tensorflow\\python\\keras\\_impl\\keras\\engine\\training_arrays.py\u001b[0m in \u001b[0;36mfit_loop\u001b[1;34m(model, inputs, targets, sample_weights, batch_size, epochs, verbose, callbacks, val_inputs, val_targets, val_sample_weights, shuffle, callback_metrics, initial_epoch, steps_per_epoch, validation_steps)\u001b[0m\n\u001b[0;32m    243\u001b[0m           \u001b[0mins_batch\u001b[0m\u001b[1;33m[\u001b[0m\u001b[0mi\u001b[0m\u001b[1;33m]\u001b[0m \u001b[1;33m=\u001b[0m \u001b[0mins_batch\u001b[0m\u001b[1;33m[\u001b[0m\u001b[0mi\u001b[0m\u001b[1;33m]\u001b[0m\u001b[1;33m.\u001b[0m\u001b[0mtoarray\u001b[0m\u001b[1;33m(\u001b[0m\u001b[1;33m)\u001b[0m\u001b[1;33m\u001b[0m\u001b[0m\n\u001b[0;32m    244\u001b[0m \u001b[1;33m\u001b[0m\u001b[0m\n\u001b[1;32m--> 245\u001b[1;33m         \u001b[0mouts\u001b[0m \u001b[1;33m=\u001b[0m \u001b[0mf\u001b[0m\u001b[1;33m(\u001b[0m\u001b[0mins_batch\u001b[0m\u001b[1;33m)\u001b[0m\u001b[1;33m\u001b[0m\u001b[0m\n\u001b[0m\u001b[0;32m    246\u001b[0m         \u001b[1;32mif\u001b[0m \u001b[1;32mnot\u001b[0m \u001b[0misinstance\u001b[0m\u001b[1;33m(\u001b[0m\u001b[0mouts\u001b[0m\u001b[1;33m,\u001b[0m \u001b[0mlist\u001b[0m\u001b[1;33m)\u001b[0m\u001b[1;33m:\u001b[0m\u001b[1;33m\u001b[0m\u001b[0m\n\u001b[0;32m    247\u001b[0m           \u001b[0mouts\u001b[0m \u001b[1;33m=\u001b[0m \u001b[1;33m[\u001b[0m\u001b[0mouts\u001b[0m\u001b[1;33m]\u001b[0m\u001b[1;33m\u001b[0m\u001b[0m\n",
      "\u001b[1;32mC:\\Progra~1\\Anaconda3_4\\lib\\site-packages\\tensorflow\\python\\keras\\_impl\\keras\\backend.py\u001b[0m in \u001b[0;36m__call__\u001b[1;34m(self, inputs)\u001b[0m\n\u001b[0;32m   2822\u001b[0m     \u001b[0mfetches\u001b[0m \u001b[1;33m=\u001b[0m \u001b[0mself\u001b[0m\u001b[1;33m.\u001b[0m\u001b[0moutputs\u001b[0m \u001b[1;33m+\u001b[0m \u001b[1;33m[\u001b[0m\u001b[0mself\u001b[0m\u001b[1;33m.\u001b[0m\u001b[0mupdates_op\u001b[0m\u001b[1;33m]\u001b[0m \u001b[1;33m+\u001b[0m \u001b[0mself\u001b[0m\u001b[1;33m.\u001b[0m\u001b[0mfetches\u001b[0m\u001b[1;33m\u001b[0m\u001b[0m\n\u001b[0;32m   2823\u001b[0m     updated = session.run(\n\u001b[1;32m-> 2824\u001b[1;33m         fetches=fetches, feed_dict=feed_dict, **self.session_kwargs)\n\u001b[0m\u001b[0;32m   2825\u001b[0m     \u001b[1;32mreturn\u001b[0m \u001b[0mupdated\u001b[0m\u001b[1;33m[\u001b[0m\u001b[1;33m:\u001b[0m\u001b[0mlen\u001b[0m\u001b[1;33m(\u001b[0m\u001b[0mself\u001b[0m\u001b[1;33m.\u001b[0m\u001b[0moutputs\u001b[0m\u001b[1;33m)\u001b[0m\u001b[1;33m]\u001b[0m\u001b[1;33m\u001b[0m\u001b[0m\n\u001b[0;32m   2826\u001b[0m \u001b[1;33m\u001b[0m\u001b[0m\n",
      "\u001b[1;32mC:\\Progra~1\\Anaconda3_4\\lib\\site-packages\\tensorflow\\python\\client\\session.py\u001b[0m in \u001b[0;36mrun\u001b[1;34m(self, fetches, feed_dict, options, run_metadata)\u001b[0m\n\u001b[0;32m    898\u001b[0m     \u001b[1;32mtry\u001b[0m\u001b[1;33m:\u001b[0m\u001b[1;33m\u001b[0m\u001b[0m\n\u001b[0;32m    899\u001b[0m       result = self._run(None, fetches, feed_dict, options_ptr,\n\u001b[1;32m--> 900\u001b[1;33m                          run_metadata_ptr)\n\u001b[0m\u001b[0;32m    901\u001b[0m       \u001b[1;32mif\u001b[0m \u001b[0mrun_metadata\u001b[0m\u001b[1;33m:\u001b[0m\u001b[1;33m\u001b[0m\u001b[0m\n\u001b[0;32m    902\u001b[0m         \u001b[0mproto_data\u001b[0m \u001b[1;33m=\u001b[0m \u001b[0mtf_session\u001b[0m\u001b[1;33m.\u001b[0m\u001b[0mTF_GetBuffer\u001b[0m\u001b[1;33m(\u001b[0m\u001b[0mrun_metadata_ptr\u001b[0m\u001b[1;33m)\u001b[0m\u001b[1;33m\u001b[0m\u001b[0m\n",
      "\u001b[1;32mC:\\Progra~1\\Anaconda3_4\\lib\\site-packages\\tensorflow\\python\\client\\session.py\u001b[0m in \u001b[0;36m_run\u001b[1;34m(self, handle, fetches, feed_dict, options, run_metadata)\u001b[0m\n\u001b[0;32m   1133\u001b[0m     \u001b[1;32mif\u001b[0m \u001b[0mfinal_fetches\u001b[0m \u001b[1;32mor\u001b[0m \u001b[0mfinal_targets\u001b[0m \u001b[1;32mor\u001b[0m \u001b[1;33m(\u001b[0m\u001b[0mhandle\u001b[0m \u001b[1;32mand\u001b[0m \u001b[0mfeed_dict_tensor\u001b[0m\u001b[1;33m)\u001b[0m\u001b[1;33m:\u001b[0m\u001b[1;33m\u001b[0m\u001b[0m\n\u001b[0;32m   1134\u001b[0m       results = self._do_run(handle, final_targets, final_fetches,\n\u001b[1;32m-> 1135\u001b[1;33m                              feed_dict_tensor, options, run_metadata)\n\u001b[0m\u001b[0;32m   1136\u001b[0m     \u001b[1;32melse\u001b[0m\u001b[1;33m:\u001b[0m\u001b[1;33m\u001b[0m\u001b[0m\n\u001b[0;32m   1137\u001b[0m       \u001b[0mresults\u001b[0m \u001b[1;33m=\u001b[0m \u001b[1;33m[\u001b[0m\u001b[1;33m]\u001b[0m\u001b[1;33m\u001b[0m\u001b[0m\n",
      "\u001b[1;32mC:\\Progra~1\\Anaconda3_4\\lib\\site-packages\\tensorflow\\python\\client\\session.py\u001b[0m in \u001b[0;36m_do_run\u001b[1;34m(self, handle, target_list, fetch_list, feed_dict, options, run_metadata)\u001b[0m\n\u001b[0;32m   1314\u001b[0m     \u001b[1;32mif\u001b[0m \u001b[0mhandle\u001b[0m \u001b[1;32mis\u001b[0m \u001b[1;32mNone\u001b[0m\u001b[1;33m:\u001b[0m\u001b[1;33m\u001b[0m\u001b[0m\n\u001b[0;32m   1315\u001b[0m       return self._do_call(_run_fn, feeds, fetches, targets, options,\n\u001b[1;32m-> 1316\u001b[1;33m                            run_metadata)\n\u001b[0m\u001b[0;32m   1317\u001b[0m     \u001b[1;32melse\u001b[0m\u001b[1;33m:\u001b[0m\u001b[1;33m\u001b[0m\u001b[0m\n\u001b[0;32m   1318\u001b[0m       \u001b[1;32mreturn\u001b[0m \u001b[0mself\u001b[0m\u001b[1;33m.\u001b[0m\u001b[0m_do_call\u001b[0m\u001b[1;33m(\u001b[0m\u001b[0m_prun_fn\u001b[0m\u001b[1;33m,\u001b[0m \u001b[0mhandle\u001b[0m\u001b[1;33m,\u001b[0m \u001b[0mfeeds\u001b[0m\u001b[1;33m,\u001b[0m \u001b[0mfetches\u001b[0m\u001b[1;33m)\u001b[0m\u001b[1;33m\u001b[0m\u001b[0m\n",
      "\u001b[1;32mC:\\Progra~1\\Anaconda3_4\\lib\\site-packages\\tensorflow\\python\\client\\session.py\u001b[0m in \u001b[0;36m_do_call\u001b[1;34m(self, fn, *args)\u001b[0m\n\u001b[0;32m   1320\u001b[0m   \u001b[1;32mdef\u001b[0m \u001b[0m_do_call\u001b[0m\u001b[1;33m(\u001b[0m\u001b[0mself\u001b[0m\u001b[1;33m,\u001b[0m \u001b[0mfn\u001b[0m\u001b[1;33m,\u001b[0m \u001b[1;33m*\u001b[0m\u001b[0margs\u001b[0m\u001b[1;33m)\u001b[0m\u001b[1;33m:\u001b[0m\u001b[1;33m\u001b[0m\u001b[0m\n\u001b[0;32m   1321\u001b[0m     \u001b[1;32mtry\u001b[0m\u001b[1;33m:\u001b[0m\u001b[1;33m\u001b[0m\u001b[0m\n\u001b[1;32m-> 1322\u001b[1;33m       \u001b[1;32mreturn\u001b[0m \u001b[0mfn\u001b[0m\u001b[1;33m(\u001b[0m\u001b[1;33m*\u001b[0m\u001b[0margs\u001b[0m\u001b[1;33m)\u001b[0m\u001b[1;33m\u001b[0m\u001b[0m\n\u001b[0m\u001b[0;32m   1323\u001b[0m     \u001b[1;32mexcept\u001b[0m \u001b[0merrors\u001b[0m\u001b[1;33m.\u001b[0m\u001b[0mOpError\u001b[0m \u001b[1;32mas\u001b[0m \u001b[0me\u001b[0m\u001b[1;33m:\u001b[0m\u001b[1;33m\u001b[0m\u001b[0m\n\u001b[0;32m   1324\u001b[0m       \u001b[0mmessage\u001b[0m \u001b[1;33m=\u001b[0m \u001b[0mcompat\u001b[0m\u001b[1;33m.\u001b[0m\u001b[0mas_text\u001b[0m\u001b[1;33m(\u001b[0m\u001b[0me\u001b[0m\u001b[1;33m.\u001b[0m\u001b[0mmessage\u001b[0m\u001b[1;33m)\u001b[0m\u001b[1;33m\u001b[0m\u001b[0m\n",
      "\u001b[1;32mC:\\Progra~1\\Anaconda3_4\\lib\\site-packages\\tensorflow\\python\\client\\session.py\u001b[0m in \u001b[0;36m_run_fn\u001b[1;34m(feed_dict, fetch_list, target_list, options, run_metadata)\u001b[0m\n\u001b[0;32m   1305\u001b[0m       \u001b[0mself\u001b[0m\u001b[1;33m.\u001b[0m\u001b[0m_extend_graph\u001b[0m\u001b[1;33m(\u001b[0m\u001b[1;33m)\u001b[0m\u001b[1;33m\u001b[0m\u001b[0m\n\u001b[0;32m   1306\u001b[0m       return self._call_tf_sessionrun(\n\u001b[1;32m-> 1307\u001b[1;33m           options, feed_dict, fetch_list, target_list, run_metadata)\n\u001b[0m\u001b[0;32m   1308\u001b[0m \u001b[1;33m\u001b[0m\u001b[0m\n\u001b[0;32m   1309\u001b[0m     \u001b[1;32mdef\u001b[0m \u001b[0m_prun_fn\u001b[0m\u001b[1;33m(\u001b[0m\u001b[0mhandle\u001b[0m\u001b[1;33m,\u001b[0m \u001b[0mfeed_dict\u001b[0m\u001b[1;33m,\u001b[0m \u001b[0mfetch_list\u001b[0m\u001b[1;33m)\u001b[0m\u001b[1;33m:\u001b[0m\u001b[1;33m\u001b[0m\u001b[0m\n",
      "\u001b[1;32mC:\\Progra~1\\Anaconda3_4\\lib\\site-packages\\tensorflow\\python\\client\\session.py\u001b[0m in \u001b[0;36m_call_tf_sessionrun\u001b[1;34m(self, options, feed_dict, fetch_list, target_list, run_metadata)\u001b[0m\n\u001b[0;32m   1407\u001b[0m       return tf_session.TF_SessionRun_wrapper(\n\u001b[0;32m   1408\u001b[0m           \u001b[0mself\u001b[0m\u001b[1;33m.\u001b[0m\u001b[0m_session\u001b[0m\u001b[1;33m,\u001b[0m \u001b[0moptions\u001b[0m\u001b[1;33m,\u001b[0m \u001b[0mfeed_dict\u001b[0m\u001b[1;33m,\u001b[0m \u001b[0mfetch_list\u001b[0m\u001b[1;33m,\u001b[0m \u001b[0mtarget_list\u001b[0m\u001b[1;33m,\u001b[0m\u001b[1;33m\u001b[0m\u001b[0m\n\u001b[1;32m-> 1409\u001b[1;33m           run_metadata)\n\u001b[0m\u001b[0;32m   1410\u001b[0m     \u001b[1;32melse\u001b[0m\u001b[1;33m:\u001b[0m\u001b[1;33m\u001b[0m\u001b[0m\n\u001b[0;32m   1411\u001b[0m       \u001b[1;32mwith\u001b[0m \u001b[0merrors\u001b[0m\u001b[1;33m.\u001b[0m\u001b[0mraise_exception_on_not_ok_status\u001b[0m\u001b[1;33m(\u001b[0m\u001b[1;33m)\u001b[0m \u001b[1;32mas\u001b[0m \u001b[0mstatus\u001b[0m\u001b[1;33m:\u001b[0m\u001b[1;33m\u001b[0m\u001b[0m\n",
      "\u001b[1;31mKeyboardInterrupt\u001b[0m: "
     ]
    }
   ],
   "source": [
    "model.compile(loss='sparse_categorical_crossentropy', optimizer=optimizer, metrics=['accuracy'])\n",
    "\n",
    "model.fit(x_train, y_train, epochs=1, validation_data=(x_test_keras_scaled, y_test), batch_size=8, \n",
    "        # callbacks = [\n",
    "   # baseLogger,\n",
    "    #history,\n",
    "    #tensorboard\n",
    "    #learningRateScheduler,\n",
    "    #reduceLROnPlateau\n",
    "     #    ], \n",
    "          shuffle=False\n",
    ")\n"
   ]
  },
  {
   "cell_type": "markdown",
   "metadata": {
    "collapsed": true
   },
   "source": [
    "# Save the Model"
   ]
  },
  {
   "cell_type": "code",
   "execution_count": null,
   "metadata": {
    "collapsed": true
   },
   "outputs": [],
   "source": [
    "model.save(path+'model/'+name+'.h5')"
   ]
  },
  {
   "cell_type": "code",
   "execution_count": null,
   "metadata": {},
   "outputs": [],
   "source": [
    "test_loss, test_acc = model.evaluate(x_test_keras_scaled, y_test)\n",
    "print('Test Loss : ',test_loss,' ','Test Accuracy : ', test_acc)"
   ]
  },
  {
   "cell_type": "markdown",
   "metadata": {},
   "source": [
    "# Load Saved Model"
   ]
  },
  {
   "cell_type": "code",
   "execution_count": null,
   "metadata": {
    "collapsed": true
   },
   "outputs": [],
   "source": [
    "#saved_model = load_model(path+'model/ABS_Keras-GRU254GRU128D32D2-adam1540234475.h5')"
   ]
  },
  {
   "cell_type": "code",
   "execution_count": null,
   "metadata": {
    "collapsed": true
   },
   "outputs": [],
   "source": [
    "# test_loss, test_acc = saved_model.evaluate(x_test_keras_scaled, y_test)\n",
    "# print('Test Loss : ',test_loss,' ','Test Accuracy : ', test_acc)"
   ]
  },
  {
   "cell_type": "code",
   "execution_count": null,
   "metadata": {
    "collapsed": true
   },
   "outputs": [],
   "source": []
  },
  {
   "cell_type": "code",
   "execution_count": null,
   "metadata": {
    "collapsed": true
   },
   "outputs": [],
   "source": []
  }
 ],
 "metadata": {
  "kernelspec": {
   "display_name": "Python 3",
   "language": "python",
   "name": "python3"
  },
  "language_info": {
   "codemirror_mode": {
    "name": "ipython",
    "version": 3
   },
   "file_extension": ".py",
   "mimetype": "text/x-python",
   "name": "python",
   "nbconvert_exporter": "python",
   "pygments_lexer": "ipython3",
   "version": "3.6.1"
  }
 },
 "nbformat": 4,
 "nbformat_minor": 2
}
