{
 "cells": [
  {
   "cell_type": "markdown",
   "metadata": {
    "collapsed": true
   },
   "source": [
    "# Deep Learning with Autoencoders unsupervised"
   ]
  },
  {
   "cell_type": "markdown",
   "metadata": {},
   "source": [
    "Autoencoders are deep neural networks used to reproduce the input at the output layer i.e. the number of neurons in the output layer is exactly the same as the number of neurons in the input layer. Consider the image below"
   ]
  },
  {
   "cell_type": "markdown",
   "metadata": {},
   "source": [
    "## AutoEncoder Architecture"
   ]
  },
  {
   "cell_type": "markdown",
   "metadata": {},
   "source": [
    "![autoencoders](datasets/autoencoder-architecture.jpg)\n"
   ]
  },
  {
   "cell_type": "markdown",
   "metadata": {},
   "source": [
    "This image represents the structure of a typical deep autoencoder. The goal of an autoencoder architecture is to create a representation of the input at the output layer such that both are as close (similar) as possible. But, the actual use of autoencoders is for determining a compressed version of the input data with the lowest amount of loss in data. "
   ]
  },
  {
   "cell_type": "code",
   "execution_count": 1,
   "metadata": {},
   "outputs": [
    {
     "name": "stderr",
     "output_type": "stream",
     "text": [
      "Using TensorFlow backend.\n"
     ]
    }
   ],
   "source": [
    "import tensorflow as tf\n",
    "from keras.models import Model, load_model\n",
    "from keras.layers import Input, Dense\n",
    "from keras.callbacks import ModelCheckpoint, TensorBoard\n",
    "from keras import regularizers\n",
    "\n",
    "from sklearn import preprocessing\n",
    "from sklearn.model_selection import train_test_split\n",
    "\n",
    "\n",
    "from sklearn.metrics import classification_report\n",
    "from sklearn.metrics import confusion_matrix, precision_recall_curve\n",
    "from sklearn.metrics import recall_score, precision_recall_fscore_support, f1_score\n",
    "from sklearn.metrics import roc_auc_score, roc_curve, auc\n",
    "from sklearn.model_selection import GridSearchCV\n",
    "from sklearn.metrics import make_scorer\n",
    "from sklearn.metrics import accuracy_score\n",
    "\n",
    "import pandas as pd\n",
    "import numpy as np\n",
    "import itertools\n",
    "import matplotlib.pyplot as plt\n",
    "import datetime\n",
    "import seaborn as sns\n",
    "\n",
    "%matplotlib inline"
   ]
  },
  {
   "cell_type": "code",
   "execution_count": 2,
   "metadata": {},
   "outputs": [
    {
     "data": {
      "text/plain": [
       "(913751, 85)"
      ]
     },
     "execution_count": 2,
     "metadata": {},
     "output_type": "execute_result"
    }
   ],
   "source": [
    "train_split = 0.80\n",
    "nrows = 1_000_000\n",
    "path = 'c:/users/ugy1/abs/'\n",
    "df=pd.read_csv(path+'datasets/processed_abs_loan_'+str(nrows)+'.csv', \n",
    "               #usecols=use_list, \n",
    "               #sep='\\t',\n",
    "               #compression=bz2,\n",
    "               nrows=nrows,\n",
    "               low_memory=False, \n",
    "              index_col=0, \n",
    "               parse_dates=True\n",
    "              )\n",
    "df.shape"
   ]
  },
  {
   "cell_type": "code",
   "execution_count": 3,
   "metadata": {},
   "outputs": [
    {
     "data": {
      "text/html": [
       "<div>\n",
       "<style scoped>\n",
       "    .dataframe tbody tr th:only-of-type {\n",
       "        vertical-align: middle;\n",
       "    }\n",
       "\n",
       "    .dataframe tbody tr th {\n",
       "        vertical-align: top;\n",
       "    }\n",
       "\n",
       "    .dataframe thead th {\n",
       "        text-align: right;\n",
       "    }\n",
       "</style>\n",
       "<table border=\"1\" class=\"dataframe\">\n",
       "  <thead>\n",
       "    <tr style=\"text-align: right;\">\n",
       "      <th></th>\n",
       "      <th>originalloanamount</th>\n",
       "      <th>originalloanterm</th>\n",
       "      <th>originalinterestratepercentage</th>\n",
       "      <th>graceperiodnumber</th>\n",
       "      <th>obligorcreditscore</th>\n",
       "      <th>paymenttoincomepercentage</th>\n",
       "      <th>reportingperiodbeginningloanbalanceamount</th>\n",
       "      <th>nextreportingperiodpaymentamountdue</th>\n",
       "      <th>reportingperiodinterestratepercentage</th>\n",
       "      <th>nextinterestratepercentage</th>\n",
       "      <th>...</th>\n",
       "      <th>zerobalance_[]</th>\n",
       "      <th>zerobalance_[\"99\"]</th>\n",
       "      <th>zerobalance_[\"1\"]</th>\n",
       "      <th>S&amp;P/Experian Auto Default Index</th>\n",
       "      <th>AutoIndex</th>\n",
       "      <th>BankCardIndex</th>\n",
       "      <th>FirstMortgageIndex</th>\n",
       "      <th>SecondMortgageIndex</th>\n",
       "      <th>CompositeIndex</th>\n",
       "      <th>label</th>\n",
       "    </tr>\n",
       "  </thead>\n",
       "  <tbody>\n",
       "    <tr>\n",
       "      <th>0</th>\n",
       "      <td>11940.46</td>\n",
       "      <td>60</td>\n",
       "      <td>0.2149</td>\n",
       "      <td>1</td>\n",
       "      <td>573.0</td>\n",
       "      <td>0.169781</td>\n",
       "      <td>6160.80</td>\n",
       "      <td>1225.49</td>\n",
       "      <td>0.2149</td>\n",
       "      <td>0.2149</td>\n",
       "      <td>...</td>\n",
       "      <td>1</td>\n",
       "      <td>0</td>\n",
       "      <td>0</td>\n",
       "      <td>0.0107</td>\n",
       "      <td>1.10</td>\n",
       "      <td>3.44</td>\n",
       "      <td>0.68</td>\n",
       "      <td>1.22</td>\n",
       "      <td>0.91</td>\n",
       "      <td>1.0</td>\n",
       "    </tr>\n",
       "    <tr>\n",
       "      <th>1</th>\n",
       "      <td>17501.22</td>\n",
       "      <td>62</td>\n",
       "      <td>0.0190</td>\n",
       "      <td>2</td>\n",
       "      <td>814.0</td>\n",
       "      <td>0.061246</td>\n",
       "      <td>4925.58</td>\n",
       "      <td>0.00</td>\n",
       "      <td>0.0190</td>\n",
       "      <td>0.0190</td>\n",
       "      <td>...</td>\n",
       "      <td>1</td>\n",
       "      <td>0</td>\n",
       "      <td>0</td>\n",
       "      <td>0.0100</td>\n",
       "      <td>1.00</td>\n",
       "      <td>3.31</td>\n",
       "      <td>0.75</td>\n",
       "      <td>0.57</td>\n",
       "      <td>0.94</td>\n",
       "      <td>0.0</td>\n",
       "    </tr>\n",
       "    <tr>\n",
       "      <th>2</th>\n",
       "      <td>13310.93</td>\n",
       "      <td>72</td>\n",
       "      <td>0.1897</td>\n",
       "      <td>2</td>\n",
       "      <td>578.0</td>\n",
       "      <td>0.050482</td>\n",
       "      <td>13310.93</td>\n",
       "      <td>463.85</td>\n",
       "      <td>0.1729</td>\n",
       "      <td>0.1729</td>\n",
       "      <td>...</td>\n",
       "      <td>1</td>\n",
       "      <td>0</td>\n",
       "      <td>0</td>\n",
       "      <td>0.0107</td>\n",
       "      <td>1.10</td>\n",
       "      <td>3.44</td>\n",
       "      <td>0.68</td>\n",
       "      <td>1.22</td>\n",
       "      <td>0.91</td>\n",
       "      <td>0.0</td>\n",
       "    </tr>\n",
       "    <tr>\n",
       "      <th>3</th>\n",
       "      <td>21427.33</td>\n",
       "      <td>72</td>\n",
       "      <td>0.0651</td>\n",
       "      <td>1</td>\n",
       "      <td>581.0</td>\n",
       "      <td>0.041312</td>\n",
       "      <td>20936.74</td>\n",
       "      <td>793.31</td>\n",
       "      <td>0.0651</td>\n",
       "      <td>0.0651</td>\n",
       "      <td>...</td>\n",
       "      <td>1</td>\n",
       "      <td>0</td>\n",
       "      <td>0</td>\n",
       "      <td>0.0107</td>\n",
       "      <td>1.10</td>\n",
       "      <td>3.44</td>\n",
       "      <td>0.68</td>\n",
       "      <td>1.22</td>\n",
       "      <td>0.91</td>\n",
       "      <td>0.0</td>\n",
       "    </tr>\n",
       "    <tr>\n",
       "      <th>4</th>\n",
       "      <td>6200.00</td>\n",
       "      <td>60</td>\n",
       "      <td>0.1868</td>\n",
       "      <td>1</td>\n",
       "      <td>614.0</td>\n",
       "      <td>0.092229</td>\n",
       "      <td>6200.00</td>\n",
       "      <td>239.06</td>\n",
       "      <td>0.1868</td>\n",
       "      <td>0.1868</td>\n",
       "      <td>...</td>\n",
       "      <td>1</td>\n",
       "      <td>0</td>\n",
       "      <td>0</td>\n",
       "      <td>0.0105</td>\n",
       "      <td>1.05</td>\n",
       "      <td>3.22</td>\n",
       "      <td>0.74</td>\n",
       "      <td>0.51</td>\n",
       "      <td>0.94</td>\n",
       "      <td>0.0</td>\n",
       "    </tr>\n",
       "  </tbody>\n",
       "</table>\n",
       "<p>5 rows × 85 columns</p>\n",
       "</div>"
      ],
      "text/plain": [
       "   originalloanamount  originalloanterm  originalinterestratepercentage  \\\n",
       "0            11940.46                60                          0.2149   \n",
       "1            17501.22                62                          0.0190   \n",
       "2            13310.93                72                          0.1897   \n",
       "3            21427.33                72                          0.0651   \n",
       "4             6200.00                60                          0.1868   \n",
       "\n",
       "   graceperiodnumber  obligorcreditscore  paymenttoincomepercentage  \\\n",
       "0                  1               573.0                   0.169781   \n",
       "1                  2               814.0                   0.061246   \n",
       "2                  2               578.0                   0.050482   \n",
       "3                  1               581.0                   0.041312   \n",
       "4                  1               614.0                   0.092229   \n",
       "\n",
       "   reportingperiodbeginningloanbalanceamount  \\\n",
       "0                                    6160.80   \n",
       "1                                    4925.58   \n",
       "2                                   13310.93   \n",
       "3                                   20936.74   \n",
       "4                                    6200.00   \n",
       "\n",
       "   nextreportingperiodpaymentamountdue  reportingperiodinterestratepercentage  \\\n",
       "0                              1225.49                                 0.2149   \n",
       "1                                 0.00                                 0.0190   \n",
       "2                               463.85                                 0.1729   \n",
       "3                               793.31                                 0.0651   \n",
       "4                               239.06                                 0.1868   \n",
       "\n",
       "   nextinterestratepercentage  ...    zerobalance_[]  zerobalance_[\"99\"]  \\\n",
       "0                      0.2149  ...                 1                   0   \n",
       "1                      0.0190  ...                 1                   0   \n",
       "2                      0.1729  ...                 1                   0   \n",
       "3                      0.0651  ...                 1                   0   \n",
       "4                      0.1868  ...                 1                   0   \n",
       "\n",
       "   zerobalance_[\"1\"]  S&P/Experian Auto Default Index  AutoIndex  \\\n",
       "0                  0                           0.0107       1.10   \n",
       "1                  0                           0.0100       1.00   \n",
       "2                  0                           0.0107       1.10   \n",
       "3                  0                           0.0107       1.10   \n",
       "4                  0                           0.0105       1.05   \n",
       "\n",
       "   BankCardIndex  FirstMortgageIndex  SecondMortgageIndex  CompositeIndex  \\\n",
       "0           3.44                0.68                 1.22            0.91   \n",
       "1           3.31                0.75                 0.57            0.94   \n",
       "2           3.44                0.68                 1.22            0.91   \n",
       "3           3.44                0.68                 1.22            0.91   \n",
       "4           3.22                0.74                 0.51            0.94   \n",
       "\n",
       "   label  \n",
       "0    1.0  \n",
       "1    0.0  \n",
       "2    0.0  \n",
       "3    0.0  \n",
       "4    0.0  \n",
       "\n",
       "[5 rows x 85 columns]"
      ]
     },
     "execution_count": 3,
     "metadata": {},
     "output_type": "execute_result"
    }
   ],
   "source": [
    "df.head()"
   ]
  },
  {
   "cell_type": "code",
   "execution_count": 4,
   "metadata": {
    "collapsed": true
   },
   "outputs": [],
   "source": [
    "column_list=df.columns.tolist()"
   ]
  },
  {
   "cell_type": "code",
   "execution_count": 5,
   "metadata": {},
   "outputs": [
    {
     "data": {
      "text/plain": [
       "(913751,)"
      ]
     },
     "execution_count": 5,
     "metadata": {},
     "output_type": "execute_result"
    }
   ],
   "source": [
    "# prepare label for scikit-learn\n",
    "Y=df.label.values\n",
    "Y.shape"
   ]
  },
  {
   "cell_type": "code",
   "execution_count": 6,
   "metadata": {},
   "outputs": [
    {
     "data": {
      "text/plain": [
       "(913751, 85)"
      ]
     },
     "execution_count": 6,
     "metadata": {},
     "output_type": "execute_result"
    }
   ],
   "source": [
    "# prepare input data for scikit-learn\n",
    "input=df.values\n",
    "input.shape"
   ]
  },
  {
   "cell_type": "code",
   "execution_count": 7,
   "metadata": {},
   "outputs": [
    {
     "name": "stdout",
     "output_type": "stream",
     "text": [
      "731000\n"
     ]
    }
   ],
   "source": [
    "# calculate train/test split\n",
    "\n",
    "len_train = int(len(input)*train_split)\n",
    "print(len_train)"
   ]
  },
  {
   "cell_type": "code",
   "execution_count": 8,
   "metadata": {},
   "outputs": [
    {
     "data": {
      "text/plain": [
       "(731000, 85)"
      ]
     },
     "execution_count": 8,
     "metadata": {},
     "output_type": "execute_result"
    }
   ],
   "source": [
    "# apply train/test split to labels\n",
    "y_train = Y[0:len_train]\n",
    "y_test = Y[len_train:]\n",
    "x_train = input[0:len_train]\n",
    "x_test = input[len_train:]\n",
    "x_train.shape"
   ]
  },
  {
   "cell_type": "code",
   "execution_count": 9,
   "metadata": {
    "collapsed": true
   },
   "outputs": [],
   "source": [
    "#from sklearn.preprocessing import MinMaxScaler\n",
    "# from sklearn.preprocessing import minmax_scale\n",
    "# from sklearn.preprocessing import MaxAbsScaler\n",
    "from sklearn.preprocessing import StandardScaler\n",
    "# from sklearn.preprocessing import RobustScaler\n",
    "# from sklearn.preprocessing import Normalizer\n",
    "# from sklearn.preprocessing import QuantileTransformer\n",
    "# from sklearn.preprocessing import PowerTransformer"
   ]
  },
  {
   "cell_type": "code",
   "execution_count": 10,
   "metadata": {
    "collapsed": true
   },
   "outputs": [],
   "source": [
    "x_scaler=StandardScaler()\n",
    "x_train = x_scaler.fit_transform(x_train)\n",
    "x_test = x_scaler.fit_transform(x_test)"
   ]
  },
  {
   "cell_type": "code",
   "execution_count": 11,
   "metadata": {
    "collapsed": true
   },
   "outputs": [],
   "source": [
    "nb_epoch = 100\n",
    "batch_size = 512\n",
    "input_dim = x_train.shape[1] \n",
    "encoding_dim = 254\n",
    "hidden_dim = int(encoding_dim / 2)\n",
    "learning_rate = 1e-7\n",
    "\n",
    "input_layer = Input(shape=(input_dim, ))\n",
    "encoder = Dense(encoding_dim, activation=\"tanh\", activity_regularizer=regularizers.l1(learning_rate))(input_layer)\n",
    "encoder = Dense(hidden_dim, activation=\"relu\")(encoder)\n",
    "\n",
    "encoder = Dense(16, activation=\"relu\")(encoder)\n",
    "decoder = Dense(16, activation='tanh')(encoder)\n",
    "\n",
    "decoder = Dense(hidden_dim, activation='tanh')(decoder)\n",
    "decoder = Dense(input_dim, activation='relu')(decoder)\n",
    "autoencoder = Model(inputs=input_layer, outputs=decoder)"
   ]
  },
  {
   "cell_type": "code",
   "execution_count": 12,
   "metadata": {
    "scrolled": false
   },
   "outputs": [
    {
     "name": "stdout",
     "output_type": "stream",
     "text": [
      "Train on 731000 samples, validate on 182751 samples\n",
      "Epoch 1/100\n",
      "731000/731000 [==============================] - 18s 25us/step - loss: 0.4306 - acc: 0.7267 - val_loss: 0.3577 - val_acc: 0.7933\n",
      "Epoch 2/100\n",
      "731000/731000 [==============================] - 18s 24us/step - loss: 0.3506 - acc: 0.8027 - val_loss: 0.3423 - val_acc: 0.7967\n",
      "Epoch 3/100\n",
      "731000/731000 [==============================] - 19s 25us/step - loss: 0.3419 - acc: 0.8073 - val_loss: 0.3367 - val_acc: 0.8046\n",
      "Epoch 4/100\n",
      "731000/731000 [==============================] - 17s 23us/step - loss: 0.3390 - acc: 0.8107 - val_loss: 0.3363 - val_acc: 0.8092\n",
      "Epoch 5/100\n",
      "731000/731000 [==============================] - 18s 24us/step - loss: 0.3383 - acc: 0.8123 - val_loss: 0.3366 - val_acc: 0.8337\n",
      "Epoch 6/100\n",
      "731000/731000 [==============================] - 18s 25us/step - loss: 0.3361 - acc: 0.8144 - val_loss: 0.3323 - val_acc: 0.8416\n",
      "Epoch 7/100\n",
      "731000/731000 [==============================] - 18s 24us/step - loss: 0.3367 - acc: 0.8155 - val_loss: 0.3385 - val_acc: 0.8221\n",
      "Epoch 8/100\n",
      "731000/731000 [==============================] - 18s 25us/step - loss: 0.3347 - acc: 0.8159 - val_loss: 0.3306 - val_acc: 0.8103\n",
      "Epoch 9/100\n",
      "731000/731000 [==============================] - 18s 24us/step - loss: 0.3341 - acc: 0.8158 - val_loss: 0.3299 - val_acc: 0.8288\n",
      "Epoch 10/100\n",
      "731000/731000 [==============================] - 18s 25us/step - loss: 0.3340 - acc: 0.8164 - val_loss: 0.3326 - val_acc: 0.7793\n",
      "Epoch 11/100\n",
      "731000/731000 [==============================] - 18s 25us/step - loss: 0.3326 - acc: 0.8166 - val_loss: 0.3293 - val_acc: 0.8326\n",
      "Epoch 12/100\n",
      "731000/731000 [==============================] - 18s 24us/step - loss: 0.3323 - acc: 0.8167 - val_loss: 0.3304 - val_acc: 0.8444\n",
      "Epoch 13/100\n",
      "731000/731000 [==============================] - 18s 24us/step - loss: 0.3324 - acc: 0.8175 - val_loss: 0.3329 - val_acc: 0.8426\n",
      "Epoch 14/100\n",
      "731000/731000 [==============================] - 17s 24us/step - loss: 0.3329 - acc: 0.8171 - val_loss: 0.3302 - val_acc: 0.8588\n",
      "Epoch 15/100\n",
      "731000/731000 [==============================] - 18s 24us/step - loss: 0.3312 - acc: 0.8194 - val_loss: 0.3287 - val_acc: 0.8285\n",
      "Epoch 16/100\n",
      "731000/731000 [==============================] - 18s 24us/step - loss: 0.3324 - acc: 0.8189 - val_loss: 0.3317 - val_acc: 0.8061\n",
      "Epoch 17/100\n",
      "731000/731000 [==============================] - 17s 24us/step - loss: 0.3321 - acc: 0.8180 - val_loss: 0.3284 - val_acc: 0.7987\n",
      "Epoch 18/100\n",
      "731000/731000 [==============================] - 17s 24us/step - loss: 0.3325 - acc: 0.8176 - val_loss: 0.3292 - val_acc: 0.8351\n",
      "Epoch 19/100\n",
      "731000/731000 [==============================] - 18s 24us/step - loss: 0.3307 - acc: 0.8194 - val_loss: 0.3290 - val_acc: 0.8460\n",
      "Epoch 20/100\n",
      "731000/731000 [==============================] - 17s 24us/step - loss: 0.3308 - acc: 0.8197 - val_loss: 0.3391 - val_acc: 0.7821\n",
      "Epoch 21/100\n",
      "731000/731000 [==============================] - 17s 24us/step - loss: 0.3358 - acc: 0.8171 - val_loss: 0.3295 - val_acc: 0.8000\n",
      "Epoch 22/100\n",
      "731000/731000 [==============================] - 17s 23us/step - loss: 0.3306 - acc: 0.8187 - val_loss: 0.3321 - val_acc: 0.8015\n",
      "Epoch 23/100\n",
      "731000/731000 [==============================] - 18s 24us/step - loss: 0.3284 - acc: 0.8179 - val_loss: 0.3275 - val_acc: 0.8284\n",
      "Epoch 24/100\n",
      "731000/731000 [==============================] - 17s 24us/step - loss: 0.3277 - acc: 0.8183 - val_loss: 0.3259 - val_acc: 0.8359\n",
      "Epoch 25/100\n",
      "731000/731000 [==============================] - 17s 24us/step - loss: 0.3262 - acc: 0.8180 - val_loss: 0.3217 - val_acc: 0.8128\n",
      "Epoch 26/100\n",
      "731000/731000 [==============================] - 18s 24us/step - loss: 0.3266 - acc: 0.8166 - val_loss: 0.3235 - val_acc: 0.8370\n",
      "Epoch 27/100\n",
      "731000/731000 [==============================] - 17s 24us/step - loss: 0.3245 - acc: 0.8164 - val_loss: 0.3185 - val_acc: 0.8349\n",
      "Epoch 28/100\n",
      "731000/731000 [==============================] - 17s 23us/step - loss: 0.3251 - acc: 0.8156 - val_loss: 0.3196 - val_acc: 0.8534\n",
      "Epoch 29/100\n",
      "731000/731000 [==============================] - 17s 23us/step - loss: 0.3229 - acc: 0.8194 - val_loss: 0.3196 - val_acc: 0.8309\n",
      "Epoch 30/100\n",
      "731000/731000 [==============================] - 17s 24us/step - loss: 0.3207 - acc: 0.8215 - val_loss: 0.3201 - val_acc: 0.7998\n",
      "Epoch 31/100\n",
      "731000/731000 [==============================] - 17s 23us/step - loss: 0.3216 - acc: 0.8188 - val_loss: 0.3149 - val_acc: 0.8066\n",
      "Epoch 32/100\n",
      "731000/731000 [==============================] - 18s 24us/step - loss: 0.3221 - acc: 0.8174 - val_loss: 0.3191 - val_acc: 0.8176\n",
      "Epoch 33/100\n",
      "731000/731000 [==============================] - 18s 24us/step - loss: 0.3191 - acc: 0.8186 - val_loss: 0.3145 - val_acc: 0.7685\n",
      "Epoch 34/100\n",
      "731000/731000 [==============================] - 17s 24us/step - loss: 0.3162 - acc: 0.8209 - val_loss: 0.3145 - val_acc: 0.8291\n",
      "Epoch 35/100\n",
      "731000/731000 [==============================] - 17s 23us/step - loss: 0.3167 - acc: 0.8167 - val_loss: 0.3131 - val_acc: 0.8413\n",
      "Epoch 36/100\n",
      "731000/731000 [==============================] - 17s 23us/step - loss: 0.3158 - acc: 0.8183 - val_loss: 0.3140 - val_acc: 0.8231\n",
      "Epoch 37/100\n",
      "731000/731000 [==============================] - 16s 22us/step - loss: 0.3144 - acc: 0.8192 - val_loss: 0.3121 - val_acc: 0.8070\n",
      "Epoch 38/100\n",
      "731000/731000 [==============================] - 17s 23us/step - loss: 0.3130 - acc: 0.8206 - val_loss: 0.3105 - val_acc: 0.8089\n",
      "Epoch 39/100\n",
      "731000/731000 [==============================] - 17s 24us/step - loss: 0.3134 - acc: 0.8174 - val_loss: 0.3156 - val_acc: 0.7757\n",
      "Epoch 40/100\n",
      "731000/731000 [==============================] - 17s 24us/step - loss: 0.3120 - acc: 0.8186 - val_loss: 0.3107 - val_acc: 0.8349\n",
      "Epoch 41/100\n",
      "731000/731000 [==============================] - 17s 23us/step - loss: 0.3108 - acc: 0.8187 - val_loss: 0.3099 - val_acc: 0.8293\n",
      "Epoch 42/100\n",
      "731000/731000 [==============================] - 18s 24us/step - loss: 0.3090 - acc: 0.8220 - val_loss: 0.3106 - val_acc: 0.7901\n",
      "Epoch 43/100\n",
      "731000/731000 [==============================] - 18s 24us/step - loss: 0.3123 - acc: 0.8168 - val_loss: 0.3112 - val_acc: 0.7898\n",
      "Epoch 44/100\n",
      "731000/731000 [==============================] - 17s 24us/step - loss: 0.3093 - acc: 0.8200 - val_loss: 0.3092 - val_acc: 0.7772\n",
      "Epoch 45/100\n",
      "731000/731000 [==============================] - 16s 22us/step - loss: 0.3165 - acc: 0.8157 - val_loss: 0.3205 - val_acc: 0.8113\n",
      "Epoch 46/100\n",
      "731000/731000 [==============================] - 16s 23us/step - loss: 0.3094 - acc: 0.8225 - val_loss: 0.3080 - val_acc: 0.8226\n",
      "Epoch 47/100\n",
      "731000/731000 [==============================] - 17s 23us/step - loss: 0.3065 - acc: 0.8235 - val_loss: 0.3115 - val_acc: 0.7839\n",
      "Epoch 48/100\n",
      "731000/731000 [==============================] - 17s 24us/step - loss: 0.3069 - acc: 0.8204 - val_loss: 0.3087 - val_acc: 0.8416\n",
      "Epoch 49/100\n",
      "731000/731000 [==============================] - 17s 23us/step - loss: 0.3070 - acc: 0.8174 - val_loss: 0.3072 - val_acc: 0.8269\n",
      "Epoch 50/100\n",
      "731000/731000 [==============================] - 17s 23us/step - loss: 0.3083 - acc: 0.8164 - val_loss: 0.3076 - val_acc: 0.8076\n",
      "Epoch 51/100\n",
      "731000/731000 [==============================] - 17s 23us/step - loss: 0.3067 - acc: 0.8170 - val_loss: 0.3072 - val_acc: 0.8210\n",
      "Epoch 52/100\n",
      "731000/731000 [==============================] - 17s 23us/step - loss: 0.3049 - acc: 0.8195 - val_loss: 0.3047 - val_acc: 0.8302\n",
      "Epoch 53/100\n",
      "731000/731000 [==============================] - 16s 22us/step - loss: 0.3044 - acc: 0.8198 - val_loss: 0.3057 - val_acc: 0.8608\n",
      "Epoch 54/100\n",
      "731000/731000 [==============================] - 16s 22us/step - loss: 0.3047 - acc: 0.8205 - val_loss: 0.3058 - val_acc: 0.7871\n",
      "Epoch 55/100\n",
      "731000/731000 [==============================] - 16s 23us/step - loss: 0.3043 - acc: 0.8196 - val_loss: 0.3050 - val_acc: 0.7928\n",
      "Epoch 56/100\n",
      "731000/731000 [==============================] - 16s 22us/step - loss: 0.3057 - acc: 0.8181 - val_loss: 0.3051 - val_acc: 0.8537\n",
      "Epoch 57/100\n",
      "731000/731000 [==============================] - 16s 22us/step - loss: 0.3035 - acc: 0.8210 - val_loss: 0.3049 - val_acc: 0.8485\n",
      "Epoch 58/100\n",
      "731000/731000 [==============================] - 19s 25us/step - loss: 0.3038 - acc: 0.8198 - val_loss: 0.3041 - val_acc: 0.8038\n",
      "Epoch 59/100\n",
      "731000/731000 [==============================] - 18s 24us/step - loss: 0.3040 - acc: 0.8196 - val_loss: 0.3035 - val_acc: 0.8363\n",
      "Epoch 60/100\n",
      "731000/731000 [==============================] - 17s 23us/step - loss: 0.3078 - acc: 0.8160 - val_loss: 0.3073 - val_acc: 0.8224\n",
      "Epoch 61/100\n",
      "731000/731000 [==============================] - 16s 21us/step - loss: 0.3072 - acc: 0.8172 - val_loss: 0.3060 - val_acc: 0.8088\n",
      "Epoch 62/100\n",
      "731000/731000 [==============================] - 17s 23us/step - loss: 0.3038 - acc: 0.8216 - val_loss: 0.3043 - val_acc: 0.8022\n",
      "Epoch 63/100\n",
      "731000/731000 [==============================] - 16s 21us/step - loss: 0.3036 - acc: 0.8192 - val_loss: 0.3035 - val_acc: 0.8387\n",
      "Epoch 64/100\n",
      "731000/731000 [==============================] - 16s 22us/step - loss: 0.3038 - acc: 0.8199 - val_loss: 0.3038 - val_acc: 0.8281\n",
      "Epoch 65/100\n",
      "731000/731000 [==============================] - 16s 23us/step - loss: 0.3050 - acc: 0.8176 - val_loss: 0.3038 - val_acc: 0.7997\n",
      "Epoch 66/100\n",
      "731000/731000 [==============================] - 17s 23us/step - loss: 0.3042 - acc: 0.8187 - val_loss: 0.3042 - val_acc: 0.8362\n",
      "Epoch 67/100\n",
      "731000/731000 [==============================] - 15s 21us/step - loss: 0.3032 - acc: 0.8199 - val_loss: 0.3035 - val_acc: 0.8023\n",
      "Epoch 68/100\n",
      "731000/731000 [==============================] - 14s 19us/step - loss: 0.3033 - acc: 0.8186 - val_loss: 0.3032 - val_acc: 0.8094\n",
      "Epoch 69/100\n",
      "731000/731000 [==============================] - 17s 23us/step - loss: 0.3052 - acc: 0.8176 - val_loss: 0.3057 - val_acc: 0.8333\n",
      "Epoch 70/100\n",
      "731000/731000 [==============================] - 18s 25us/step - loss: 0.3035 - acc: 0.8193 - val_loss: 0.3024 - val_acc: 0.7885\n",
      "Epoch 71/100\n",
      "731000/731000 [==============================] - 16s 22us/step - loss: 0.3035 - acc: 0.8197 - val_loss: 0.3040 - val_acc: 0.8006\n",
      "Epoch 72/100\n",
      "731000/731000 [==============================] - 16s 22us/step - loss: 0.3034 - acc: 0.8202 - val_loss: 0.3028 - val_acc: 0.8008\n",
      "Epoch 73/100\n",
      "731000/731000 [==============================] - 17s 23us/step - loss: 0.3031 - acc: 0.8210 - val_loss: 0.3036 - val_acc: 0.8377\n",
      "Epoch 74/100\n",
      "731000/731000 [==============================] - 17s 23us/step - loss: 0.3048 - acc: 0.8178 - val_loss: 0.3212 - val_acc: 0.8121\n",
      "Epoch 75/100\n",
      "731000/731000 [==============================] - 16s 22us/step - loss: 0.3051 - acc: 0.8165 - val_loss: 0.3035 - val_acc: 0.8415\n",
      "Epoch 76/100\n",
      "731000/731000 [==============================] - 17s 24us/step - loss: 0.3040 - acc: 0.8185 - val_loss: 0.3032 - val_acc: 0.8026\n",
      "Epoch 77/100\n",
      "731000/731000 [==============================] - 18s 24us/step - loss: 0.3033 - acc: 0.8203 - val_loss: 0.3024 - val_acc: 0.8548\n",
      "Epoch 78/100\n",
      "731000/731000 [==============================] - 15s 21us/step - loss: 0.3031 - acc: 0.8206 - val_loss: 0.3041 - val_acc: 0.7794\n",
      "Epoch 79/100\n",
      "731000/731000 [==============================] - 18s 24us/step - loss: 0.3034 - acc: 0.8202 - val_loss: 0.3037 - val_acc: 0.8186\n",
      "Epoch 80/100\n",
      "731000/731000 [==============================] - 16s 22us/step - loss: 0.3036 - acc: 0.8191 - val_loss: 0.3029 - val_acc: 0.8208\n",
      "Epoch 81/100\n",
      "731000/731000 [==============================] - 15s 21us/step - loss: 0.3026 - acc: 0.8213 - val_loss: 0.3031 - val_acc: 0.8108\n",
      "Epoch 82/100\n",
      "731000/731000 [==============================] - 15s 21us/step - loss: 0.3026 - acc: 0.8200 - val_loss: 0.3029 - val_acc: 0.8029\n",
      "Epoch 83/100\n",
      "731000/731000 [==============================] - 17s 23us/step - loss: 0.3038 - acc: 0.8185 - val_loss: 0.3032 - val_acc: 0.8184\n",
      "Epoch 84/100\n",
      "731000/731000 [==============================] - 16s 22us/step - loss: 0.3021 - acc: 0.8205 - val_loss: 0.3048 - val_acc: 0.8529\n",
      "Epoch 85/100\n",
      "731000/731000 [==============================] - 16s 22us/step - loss: 0.3038 - acc: 0.8187 - val_loss: 0.3030 - val_acc: 0.8100\n",
      "Epoch 86/100\n",
      "731000/731000 [==============================] - 18s 25us/step - loss: 0.3025 - acc: 0.8209 - val_loss: 0.3042 - val_acc: 0.8365\n",
      "Epoch 87/100\n",
      "731000/731000 [==============================] - 19s 25us/step - loss: 0.3024 - acc: 0.8207 - val_loss: 0.3021 - val_acc: 0.8215\n",
      "Epoch 88/100\n",
      "731000/731000 [==============================] - 17s 23us/step - loss: 0.3022 - acc: 0.8205 - val_loss: 0.3030 - val_acc: 0.8271\n",
      "Epoch 89/100\n",
      "731000/731000 [==============================] - 17s 23us/step - loss: 0.3025 - acc: 0.8196 - val_loss: 0.3061 - val_acc: 0.8089\n",
      "Epoch 90/100\n",
      "731000/731000 [==============================] - 16s 22us/step - loss: 0.3031 - acc: 0.8200 - val_loss: 0.3034 - val_acc: 0.7844\n",
      "Epoch 91/100\n",
      "731000/731000 [==============================] - 16s 22us/step - loss: 0.3025 - acc: 0.8208 - val_loss: 0.3023 - val_acc: 0.8254\n",
      "Epoch 92/100\n",
      "731000/731000 [==============================] - 15s 20us/step - loss: 0.3027 - acc: 0.8205 - val_loss: 0.3028 - val_acc: 0.8690\n",
      "Epoch 93/100\n",
      "731000/731000 [==============================] - 14s 19us/step - loss: 0.3024 - acc: 0.8209 - val_loss: 0.3018 - val_acc: 0.8004\n",
      "Epoch 94/100\n",
      "731000/731000 [==============================] - 14s 19us/step - loss: 0.3020 - acc: 0.8223 - val_loss: 0.3029 - val_acc: 0.8438\n",
      "Epoch 95/100\n",
      "731000/731000 [==============================] - 17s 23us/step - loss: 0.3058 - acc: 0.8190 - val_loss: 0.3284 - val_acc: 0.7341\n",
      "Epoch 96/100\n",
      "731000/731000 [==============================] - 18s 25us/step - loss: 0.3093 - acc: 0.8150 - val_loss: 0.3035 - val_acc: 0.8047\n",
      "Epoch 97/100\n",
      "731000/731000 [==============================] - 18s 25us/step - loss: 0.3024 - acc: 0.8219 - val_loss: 0.3026 - val_acc: 0.8502\n",
      "Epoch 98/100\n",
      "731000/731000 [==============================] - 18s 25us/step - loss: 0.3028 - acc: 0.8204 - val_loss: 0.3027 - val_acc: 0.8486\n",
      "Epoch 99/100\n",
      "731000/731000 [==============================] - 17s 23us/step - loss: 0.3020 - acc: 0.8207 - val_loss: 0.3023 - val_acc: 0.7737\n",
      "Epoch 100/100\n",
      "731000/731000 [==============================] - 15s 21us/step - loss: 0.3023 - acc: 0.8214 - val_loss: 0.3016 - val_acc: 0.8250\n"
     ]
    }
   ],
   "source": [
    "autoencoder.compile(metrics=['accuracy'],\n",
    "                    loss='mean_squared_error',\n",
    "                    optimizer='adam')\n",
    "\n",
    "cp = ModelCheckpoint(filepath=\"./model/autoencoder_abs_loan.h5\",\n",
    "                               save_best_only=True,\n",
    "                               verbose=0)\n",
    "\n",
    "tb = TensorBoard(log_dir='./logs',\n",
    "                histogram_freq=0,\n",
    "                write_graph=True,\n",
    "                write_images=True)\n",
    "\n",
    "history = autoencoder.fit(x_train, x_train,\n",
    "                    epochs=nb_epoch,\n",
    "                    batch_size=batch_size,\n",
    "                    shuffle=True,\n",
    "                    validation_data=(x_test, x_test),\n",
    "                    verbose=1,\n",
    "                    callbacks=[cp, tb]).history"
   ]
  },
  {
   "cell_type": "code",
   "execution_count": 13,
   "metadata": {
    "collapsed": true
   },
   "outputs": [],
   "source": [
    "autoencoder = load_model('model/autoencoder_abs_loan.h5')"
   ]
  },
  {
   "cell_type": "code",
   "execution_count": 14,
   "metadata": {},
   "outputs": [
    {
     "data": {
      "image/png": "[encoded data removed]",
      "text/plain": [
       "<Figure size 432x288 with 1 Axes>"
      ]
     },
     "metadata": {
      "needs_background": "light"
     },
     "output_type": "display_data"
    }
   ],
   "source": [
    "plt.plot(history['loss'], linewidth=2, label='Train')\n",
    "plt.plot(history['val_loss'], linewidth=2, label='Test')\n",
    "plt.legend(loc='upper right')\n",
    "plt.title('Model loss')\n",
    "plt.ylabel('Loss')\n",
    "plt.xlabel('Epoch')\n",
    "#plt.ylim(ymin=0.70,ymax=1)\n",
    "plt.show()"
   ]
  },
  {
   "cell_type": "code",
   "execution_count": 15,
   "metadata": {},
   "outputs": [
    {
     "data": {
      "text/html": [
       "<div>\n",
       "<style scoped>\n",
       "    .dataframe tbody tr th:only-of-type {\n",
       "        vertical-align: middle;\n",
       "    }\n",
       "\n",
       "    .dataframe tbody tr th {\n",
       "        vertical-align: top;\n",
       "    }\n",
       "\n",
       "    .dataframe thead th {\n",
       "        text-align: right;\n",
       "    }\n",
       "</style>\n",
       "<table border=\"1\" class=\"dataframe\">\n",
       "  <thead>\n",
       "    <tr style=\"text-align: right;\">\n",
       "      <th></th>\n",
       "      <th>Reconstruction_error</th>\n",
       "      <th>True_class</th>\n",
       "    </tr>\n",
       "  </thead>\n",
       "  <tbody>\n",
       "    <tr>\n",
       "      <th>count</th>\n",
       "      <td>182751.000000</td>\n",
       "      <td>182751.000000</td>\n",
       "    </tr>\n",
       "    <tr>\n",
       "      <th>mean</th>\n",
       "      <td>0.300392</td>\n",
       "      <td>0.088558</td>\n",
       "    </tr>\n",
       "    <tr>\n",
       "      <th>std</th>\n",
       "      <td>3.292030</td>\n",
       "      <td>0.284105</td>\n",
       "    </tr>\n",
       "    <tr>\n",
       "      <th>min</th>\n",
       "      <td>0.094887</td>\n",
       "      <td>0.000000</td>\n",
       "    </tr>\n",
       "    <tr>\n",
       "      <th>25%</th>\n",
       "      <td>0.180435</td>\n",
       "      <td>0.000000</td>\n",
       "    </tr>\n",
       "    <tr>\n",
       "      <th>50%</th>\n",
       "      <td>0.226649</td>\n",
       "      <td>0.000000</td>\n",
       "    </tr>\n",
       "    <tr>\n",
       "      <th>75%</th>\n",
       "      <td>0.310597</td>\n",
       "      <td>0.000000</td>\n",
       "    </tr>\n",
       "    <tr>\n",
       "      <th>max</th>\n",
       "      <td>717.960309</td>\n",
       "      <td>1.000000</td>\n",
       "    </tr>\n",
       "  </tbody>\n",
       "</table>\n",
       "</div>"
      ],
      "text/plain": [
       "       Reconstruction_error     True_class\n",
       "count         182751.000000  182751.000000\n",
       "mean               0.300392       0.088558\n",
       "std                3.292030       0.284105\n",
       "min                0.094887       0.000000\n",
       "25%                0.180435       0.000000\n",
       "50%                0.226649       0.000000\n",
       "75%                0.310597       0.000000\n",
       "max              717.960309       1.000000"
      ]
     },
     "execution_count": 15,
     "metadata": {},
     "output_type": "execute_result"
    }
   ],
   "source": [
    "x_test_predictions = autoencoder.predict(x_test)\n",
    "mse = np.mean(np.power(x_test - x_test_predictions, 2), axis=1)\n",
    "error_df = pd.DataFrame({'Reconstruction_error': mse,\n",
    "                        'True_class': y_test})\n",
    "error_df.describe()"
   ]
  },
  {
   "cell_type": "code",
   "execution_count": 16,
   "metadata": {},
   "outputs": [
    {
     "data": {
      "text/plain": [
       "array([0.        , 0.8198939 , 0.        , 0.        , 0.        ,\n",
       "       0.        , 0.        , 0.424024  , 0.        , 0.        ,\n",
       "       0.        , 0.        , 0.        , 0.        , 1.1615336 ,\n",
       "       0.        , 0.        , 0.        , 0.        , 0.        ,\n",
       "       0.        , 0.        , 0.        , 0.        , 0.        ,\n",
       "       2.2225337 , 0.        , 0.        , 0.        , 0.        ,\n",
       "       0.        , 0.        , 0.        , 0.        , 0.        ,\n",
       "       0.        , 0.        , 0.        , 0.        , 1.228964  ,\n",
       "       0.        , 1.5436376 , 0.        , 0.        , 0.        ,\n",
       "       0.        , 0.4786135 , 1.0687988 , 0.        , 0.        ,\n",
       "       0.        , 0.        , 0.        , 0.        , 0.        ,\n",
       "       0.        , 0.        , 1.5445888 , 0.        , 0.        ,\n",
       "       0.        , 0.22138798, 0.        , 0.        , 0.        ,\n",
       "       0.27685004, 0.        , 0.        , 0.        , 0.        ,\n",
       "       0.        , 0.31684422, 0.        , 0.        , 0.        ,\n",
       "       0.87966824, 0.        , 0.        , 1.016837  , 1.2626884 ,\n",
       "       0.        , 0.        , 1.9084567 , 0.        , 0.        ],\n",
       "      dtype=float32)"
      ]
     },
     "execution_count": 16,
     "metadata": {},
     "output_type": "execute_result"
    }
   ],
   "source": [
    "x_test_predictions[0]"
   ]
  },
  {
   "cell_type": "code",
   "execution_count": 17,
   "metadata": {},
   "outputs": [
    {
     "data": {
      "image/png": "[encoded data removed]",
      "text/plain": [
       "<Figure size 432x288 with 1 Axes>"
      ]
     },
     "metadata": {
      "needs_background": "light"
     },
     "output_type": "display_data"
    }
   ],
   "source": [
    "false_pos_rate, true_pos_rate, thresholds = roc_curve(error_df.True_class, error_df.Reconstruction_error)\n",
    "roc_auc = auc(false_pos_rate, true_pos_rate,)\n",
    "\n",
    "plt.plot(false_pos_rate, true_pos_rate, linewidth=5, label='AUC = %0.3f'% roc_auc)\n",
    "plt.plot([0,1],[0,1], linewidth=5)\n",
    "\n",
    "plt.xlim([-0.01, 1])\n",
    "plt.ylim([0, 1.01])\n",
    "plt.legend(loc='lower right')\n",
    "plt.title('Receiver operating characteristic curve (ROC)')\n",
    "plt.ylabel('True Positive Rate')\n",
    "plt.xlabel('False Positive Rate')\n",
    "plt.show()"
   ]
  },
  {
   "cell_type": "code",
   "execution_count": 18,
   "metadata": {},
   "outputs": [
    {
     "data": {
      "image/png": "[encoded data removed]",
      "text/plain": [
       "<Figure size 432x288 with 1 Axes>"
      ]
     },
     "metadata": {
      "needs_background": "light"
     },
     "output_type": "display_data"
    }
   ],
   "source": [
    "precision_rt, recall_rt, threshold_rt = precision_recall_curve(error_df.True_class, error_df.Reconstruction_error)\n",
    "plt.plot(recall_rt, precision_rt, linewidth=5, label='Precision-Recall curve')\n",
    "plt.title('Recall vs Precision')\n",
    "plt.xlabel('Recall')\n",
    "plt.ylabel('Precision')\n",
    "plt.show()"
   ]
  },
  {
   "cell_type": "code",
   "execution_count": 19,
   "metadata": {},
   "outputs": [
    {
     "data": {
      "image/png": "[encoded data removed]",
      "text/plain": [
       "<Figure size 432x288 with 1 Axes>"
      ]
     },
     "metadata": {
      "needs_background": "light"
     },
     "output_type": "display_data"
    }
   ],
   "source": [
    "plt.plot(threshold_rt, precision_rt[1:], label=\"Precision\",linewidth=5)\n",
    "plt.plot(threshold_rt, recall_rt[1:], label=\"Recall\",linewidth=5)\n",
    "plt.title('Precision and recall for different threshold values')\n",
    "plt.xlabel('Threshold')\n",
    "plt.ylabel('Precision/Recall')\n",
    "plt.legend()\n",
    "plt.show()"
   ]
  },
  {
   "cell_type": "code",
   "execution_count": 20,
   "metadata": {},
   "outputs": [
    {
     "data": {
      "image/png": "[encoded data removed]",
      "text/plain": [
       "<Figure size 432x288 with 1 Axes>"
      ]
     },
     "metadata": {
      "needs_background": "light"
     },
     "output_type": "display_data"
    }
   ],
   "source": [
    "threshold_fixed = 5\n",
    "groups = error_df.groupby('True_class')\n",
    "fig, ax = plt.subplots()\n",
    "\n",
    "for name, group in groups:\n",
    "    ax.plot(group.index, group.Reconstruction_error, marker='o', ms=3.5, linestyle='',\n",
    "            label= \"Non_Current\" if name == 1 else \"Current\")\n",
    "ax.hlines(threshold_fixed, ax.get_xlim()[0], ax.get_xlim()[1], colors=\"r\", zorder=100, label='Threshold')\n",
    "ax.legend()\n",
    "plt.title(\"Reconstruction error for different classes\")\n",
    "plt.ylabel(\"Reconstruction error\")\n",
    "plt.xlabel(\"Data point index\")\n",
    "plt.show();"
   ]
  },
  {
   "cell_type": "code",
   "execution_count": 21,
   "metadata": {},
   "outputs": [
    {
     "data": {
      "image/png": "[encoded data removed]",
      "text/plain": [
       "<Figure size 504x504 with 2 Axes>"
      ]
     },
     "metadata": {
      "needs_background": "light"
     },
     "output_type": "display_data"
    }
   ],
   "source": [
    "LABELS=['Current', 'Non_Current']\n",
    "pred_y = [1 if e > threshold_fixed else 0 for e in error_df.Reconstruction_error.values]\n",
    "conf_matrix = confusion_matrix(error_df.True_class, pred_y)\n",
    "\n",
    "plt.figure(figsize=(7, 7))\n",
    "sns.heatmap(conf_matrix, xticklabels=LABELS, yticklabels=LABELS, annot=True, fmt=\"d\");\n",
    "plt.title(\"Confusion matrix\")\n",
    "plt.ylabel('True class')\n",
    "plt.xlabel('Predicted class')\n",
    "plt.show()"
   ]
  },
  {
   "cell_type": "code",
   "execution_count": null,
   "metadata": {
    "collapsed": true
   },
   "outputs": [],
   "source": []
  }
 ],
 "metadata": {
  "kernelspec": {
   "display_name": "Python [conda env:root] *",
   "language": "python",
   "name": "conda-root-py"
  },
  "language_info": {
   "codemirror_mode": {
    "name": "ipython",
    "version": 3
   },
   "file_extension": ".py",
   "mimetype": "text/x-python",
   "name": "python",
   "nbconvert_exporter": "python",
   "pygments_lexer": "ipython3",
   "version": "3.7.4"
  }
 },
 "nbformat": 4,
 "nbformat_minor": 2
}
